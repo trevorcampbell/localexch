{
 "cells": [
  {
   "cell_type": "markdown",
   "metadata": {},
   "source": [
    "# Notebook Setup"
   ]
  },
  {
   "cell_type": "markdown",
   "metadata": {},
   "source": [
    "### Package Import"
   ]
  },
  {
   "cell_type": "code",
   "execution_count": 1,
   "metadata": {},
   "outputs": [],
   "source": [
    "import pandas as pd\n",
    "import numpy as np\n",
    "import sys\n",
    "pd.set_option('display.max_rows', None)\n",
    "import bokeh.plotting as bkp\n",
    "import bokeh.io as bki\n",
    "import bokeh.palettes as bkpal\n",
    "from bokeh.models import Span, FuncTickFormatter\n",
    "import time\n"
   ]
  },
  {
   "cell_type": "markdown",
   "metadata": {},
   "source": [
    "### Bokeh Notebook Output and Theme Settings"
   ]
  },
  {
   "cell_type": "code",
   "execution_count": 2,
   "metadata": {},
   "outputs": [
    {
     "data": {
      "text/html": [
       "\n",
       "    <div class=\"bk-root\">\n",
       "        <a href=\"https://bokeh.pydata.org\" target=\"_blank\" class=\"bk-logo bk-logo-small bk-logo-notebook\"></a>\n",
       "        <span id=\"1001\">Loading BokehJS ...</span>\n",
       "    </div>"
      ]
     },
     "metadata": {},
     "output_type": "display_data"
    },
    {
     "data": {
      "application/javascript": [
       "\n",
       "(function(root) {\n",
       "  function now() {\n",
       "    return new Date();\n",
       "  }\n",
       "\n",
       "  var force = true;\n",
       "\n",
       "  if (typeof (root._bokeh_onload_callbacks) === \"undefined\" || force === true) {\n",
       "    root._bokeh_onload_callbacks = [];\n",
       "    root._bokeh_is_loading = undefined;\n",
       "  }\n",
       "\n",
       "  var JS_MIME_TYPE = 'application/javascript';\n",
       "  var HTML_MIME_TYPE = 'text/html';\n",
       "  var EXEC_MIME_TYPE = 'application/vnd.bokehjs_exec.v0+json';\n",
       "  var CLASS_NAME = 'output_bokeh rendered_html';\n",
       "\n",
       "  /**\n",
       "   * Render data to the DOM node\n",
       "   */\n",
       "  function render(props, node) {\n",
       "    var script = document.createElement(\"script\");\n",
       "    node.appendChild(script);\n",
       "  }\n",
       "\n",
       "  /**\n",
       "   * Handle when an output is cleared or removed\n",
       "   */\n",
       "  function handleClearOutput(event, handle) {\n",
       "    var cell = handle.cell;\n",
       "\n",
       "    var id = cell.output_area._bokeh_element_id;\n",
       "    var server_id = cell.output_area._bokeh_server_id;\n",
       "    // Clean up Bokeh references\n",
       "    if (id != null && id in Bokeh.index) {\n",
       "      Bokeh.index[id].model.document.clear();\n",
       "      delete Bokeh.index[id];\n",
       "    }\n",
       "\n",
       "    if (server_id !== undefined) {\n",
       "      // Clean up Bokeh references\n",
       "      var cmd = \"from bokeh.io.state import curstate; print(curstate().uuid_to_server['\" + server_id + \"'].get_sessions()[0].document.roots[0]._id)\";\n",
       "      cell.notebook.kernel.execute(cmd, {\n",
       "        iopub: {\n",
       "          output: function(msg) {\n",
       "            var id = msg.content.text.trim();\n",
       "            if (id in Bokeh.index) {\n",
       "              Bokeh.index[id].model.document.clear();\n",
       "              delete Bokeh.index[id];\n",
       "            }\n",
       "          }\n",
       "        }\n",
       "      });\n",
       "      // Destroy server and session\n",
       "      var cmd = \"import bokeh.io.notebook as ion; ion.destroy_server('\" + server_id + \"')\";\n",
       "      cell.notebook.kernel.execute(cmd);\n",
       "    }\n",
       "  }\n",
       "\n",
       "  /**\n",
       "   * Handle when a new output is added\n",
       "   */\n",
       "  function handleAddOutput(event, handle) {\n",
       "    var output_area = handle.output_area;\n",
       "    var output = handle.output;\n",
       "\n",
       "    // limit handleAddOutput to display_data with EXEC_MIME_TYPE content only\n",
       "    if ((output.output_type != \"display_data\") || (!output.data.hasOwnProperty(EXEC_MIME_TYPE))) {\n",
       "      return\n",
       "    }\n",
       "\n",
       "    var toinsert = output_area.element.find(\".\" + CLASS_NAME.split(' ')[0]);\n",
       "\n",
       "    if (output.metadata[EXEC_MIME_TYPE][\"id\"] !== undefined) {\n",
       "      toinsert[toinsert.length - 1].firstChild.textContent = output.data[JS_MIME_TYPE];\n",
       "      // store reference to embed id on output_area\n",
       "      output_area._bokeh_element_id = output.metadata[EXEC_MIME_TYPE][\"id\"];\n",
       "    }\n",
       "    if (output.metadata[EXEC_MIME_TYPE][\"server_id\"] !== undefined) {\n",
       "      var bk_div = document.createElement(\"div\");\n",
       "      bk_div.innerHTML = output.data[HTML_MIME_TYPE];\n",
       "      var script_attrs = bk_div.children[0].attributes;\n",
       "      for (var i = 0; i < script_attrs.length; i++) {\n",
       "        toinsert[toinsert.length - 1].firstChild.setAttribute(script_attrs[i].name, script_attrs[i].value);\n",
       "      }\n",
       "      // store reference to server id on output_area\n",
       "      output_area._bokeh_server_id = output.metadata[EXEC_MIME_TYPE][\"server_id\"];\n",
       "    }\n",
       "  }\n",
       "\n",
       "  function register_renderer(events, OutputArea) {\n",
       "\n",
       "    function append_mime(data, metadata, element) {\n",
       "      // create a DOM node to render to\n",
       "      var toinsert = this.create_output_subarea(\n",
       "        metadata,\n",
       "        CLASS_NAME,\n",
       "        EXEC_MIME_TYPE\n",
       "      );\n",
       "      this.keyboard_manager.register_events(toinsert);\n",
       "      // Render to node\n",
       "      var props = {data: data, metadata: metadata[EXEC_MIME_TYPE]};\n",
       "      render(props, toinsert[toinsert.length - 1]);\n",
       "      element.append(toinsert);\n",
       "      return toinsert\n",
       "    }\n",
       "\n",
       "    /* Handle when an output is cleared or removed */\n",
       "    events.on('clear_output.CodeCell', handleClearOutput);\n",
       "    events.on('delete.Cell', handleClearOutput);\n",
       "\n",
       "    /* Handle when a new output is added */\n",
       "    events.on('output_added.OutputArea', handleAddOutput);\n",
       "\n",
       "    /**\n",
       "     * Register the mime type and append_mime function with output_area\n",
       "     */\n",
       "    OutputArea.prototype.register_mime_type(EXEC_MIME_TYPE, append_mime, {\n",
       "      /* Is output safe? */\n",
       "      safe: true,\n",
       "      /* Index of renderer in `output_area.display_order` */\n",
       "      index: 0\n",
       "    });\n",
       "  }\n",
       "\n",
       "  // register the mime type if in Jupyter Notebook environment and previously unregistered\n",
       "  if (root.Jupyter !== undefined) {\n",
       "    var events = require('base/js/events');\n",
       "    var OutputArea = require('notebook/js/outputarea').OutputArea;\n",
       "\n",
       "    if (OutputArea.prototype.mime_types().indexOf(EXEC_MIME_TYPE) == -1) {\n",
       "      register_renderer(events, OutputArea);\n",
       "    }\n",
       "  }\n",
       "\n",
       "  \n",
       "  if (typeof (root._bokeh_timeout) === \"undefined\" || force === true) {\n",
       "    root._bokeh_timeout = Date.now() + 5000;\n",
       "    root._bokeh_failed_load = false;\n",
       "  }\n",
       "\n",
       "  var NB_LOAD_WARNING = {'data': {'text/html':\n",
       "     \"<div style='background-color: #fdd'>\\n\"+\n",
       "     \"<p>\\n\"+\n",
       "     \"BokehJS does not appear to have successfully loaded. If loading BokehJS from CDN, this \\n\"+\n",
       "     \"may be due to a slow or bad network connection. Possible fixes:\\n\"+\n",
       "     \"</p>\\n\"+\n",
       "     \"<ul>\\n\"+\n",
       "     \"<li>re-rerun `output_notebook()` to attempt to load from CDN again, or</li>\\n\"+\n",
       "     \"<li>use INLINE resources instead, as so:</li>\\n\"+\n",
       "     \"</ul>\\n\"+\n",
       "     \"<code>\\n\"+\n",
       "     \"from bokeh.resources import INLINE\\n\"+\n",
       "     \"output_notebook(resources=INLINE)\\n\"+\n",
       "     \"</code>\\n\"+\n",
       "     \"</div>\"}};\n",
       "\n",
       "  function display_loaded() {\n",
       "    var el = document.getElementById(\"1001\");\n",
       "    if (el != null) {\n",
       "      el.textContent = \"BokehJS is loading...\";\n",
       "    }\n",
       "    if (root.Bokeh !== undefined) {\n",
       "      if (el != null) {\n",
       "        el.textContent = \"BokehJS \" + root.Bokeh.version + \" successfully loaded.\";\n",
       "      }\n",
       "    } else if (Date.now() < root._bokeh_timeout) {\n",
       "      setTimeout(display_loaded, 100)\n",
       "    }\n",
       "  }\n",
       "\n",
       "\n",
       "  function run_callbacks() {\n",
       "    try {\n",
       "      root._bokeh_onload_callbacks.forEach(function(callback) { callback() });\n",
       "    }\n",
       "    finally {\n",
       "      delete root._bokeh_onload_callbacks\n",
       "    }\n",
       "    console.info(\"Bokeh: all callbacks have finished\");\n",
       "  }\n",
       "\n",
       "  function load_libs(js_urls, callback) {\n",
       "    root._bokeh_onload_callbacks.push(callback);\n",
       "    if (root._bokeh_is_loading > 0) {\n",
       "      console.log(\"Bokeh: BokehJS is being loaded, scheduling callback at\", now());\n",
       "      return null;\n",
       "    }\n",
       "    if (js_urls == null || js_urls.length === 0) {\n",
       "      run_callbacks();\n",
       "      return null;\n",
       "    }\n",
       "    console.log(\"Bokeh: BokehJS not loaded, scheduling load and callback at\", now());\n",
       "    root._bokeh_is_loading = js_urls.length;\n",
       "    for (var i = 0; i < js_urls.length; i++) {\n",
       "      var url = js_urls[i];\n",
       "      var s = document.createElement('script');\n",
       "      s.src = url;\n",
       "      s.async = false;\n",
       "      s.onreadystatechange = s.onload = function() {\n",
       "        root._bokeh_is_loading--;\n",
       "        if (root._bokeh_is_loading === 0) {\n",
       "          console.log(\"Bokeh: all BokehJS libraries loaded\");\n",
       "          run_callbacks()\n",
       "        }\n",
       "      };\n",
       "      s.onerror = function() {\n",
       "        console.warn(\"failed to load library \" + url);\n",
       "      };\n",
       "      console.log(\"Bokeh: injecting script tag for BokehJS library: \", url);\n",
       "      document.getElementsByTagName(\"head\")[0].appendChild(s);\n",
       "    }\n",
       "  };var element = document.getElementById(\"1001\");\n",
       "  if (element == null) {\n",
       "    console.log(\"Bokeh: ERROR: autoload.js configured with elementid '1001' but no matching script tag was found. \")\n",
       "    return false;\n",
       "  }\n",
       "\n",
       "  var js_urls = [\"https://cdn.pydata.org/bokeh/release/bokeh-1.0.2.min.js\", \"https://cdn.pydata.org/bokeh/release/bokeh-widgets-1.0.2.min.js\", \"https://cdn.pydata.org/bokeh/release/bokeh-tables-1.0.2.min.js\", \"https://cdn.pydata.org/bokeh/release/bokeh-gl-1.0.2.min.js\"];\n",
       "\n",
       "  var inline_js = [\n",
       "    function(Bokeh) {\n",
       "      Bokeh.set_log_level(\"info\");\n",
       "    },\n",
       "    \n",
       "    function(Bokeh) {\n",
       "      \n",
       "    },\n",
       "    function(Bokeh) {\n",
       "      console.log(\"Bokeh: injecting CSS: https://cdn.pydata.org/bokeh/release/bokeh-1.0.2.min.css\");\n",
       "      Bokeh.embed.inject_css(\"https://cdn.pydata.org/bokeh/release/bokeh-1.0.2.min.css\");\n",
       "      console.log(\"Bokeh: injecting CSS: https://cdn.pydata.org/bokeh/release/bokeh-widgets-1.0.2.min.css\");\n",
       "      Bokeh.embed.inject_css(\"https://cdn.pydata.org/bokeh/release/bokeh-widgets-1.0.2.min.css\");\n",
       "      console.log(\"Bokeh: injecting CSS: https://cdn.pydata.org/bokeh/release/bokeh-tables-1.0.2.min.css\");\n",
       "      Bokeh.embed.inject_css(\"https://cdn.pydata.org/bokeh/release/bokeh-tables-1.0.2.min.css\");\n",
       "    }\n",
       "  ];\n",
       "\n",
       "  function run_inline_js() {\n",
       "    \n",
       "    if ((root.Bokeh !== undefined) || (force === true)) {\n",
       "      for (var i = 0; i < inline_js.length; i++) {\n",
       "        inline_js[i].call(root, root.Bokeh);\n",
       "      }if (force === true) {\n",
       "        display_loaded();\n",
       "      }} else if (Date.now() < root._bokeh_timeout) {\n",
       "      setTimeout(run_inline_js, 100);\n",
       "    } else if (!root._bokeh_failed_load) {\n",
       "      console.log(\"Bokeh: BokehJS failed to load within specified timeout.\");\n",
       "      root._bokeh_failed_load = true;\n",
       "    } else if (force !== true) {\n",
       "      var cell = $(document.getElementById(\"1001\")).parents('.cell').data().cell;\n",
       "      cell.output_area.append_execute_result(NB_LOAD_WARNING)\n",
       "    }\n",
       "\n",
       "  }\n",
       "\n",
       "  if (root._bokeh_is_loading === 0) {\n",
       "    console.log(\"Bokeh: BokehJS loaded, going straight to plotting\");\n",
       "    run_inline_js();\n",
       "  } else {\n",
       "    load_libs(js_urls, function() {\n",
       "      console.log(\"Bokeh: BokehJS plotting callback run at\", now());\n",
       "      run_inline_js();\n",
       "    });\n",
       "  }\n",
       "}(window));"
      ],
      "application/vnd.bokehjs_load.v0+json": "\n(function(root) {\n  function now() {\n    return new Date();\n  }\n\n  var force = true;\n\n  if (typeof (root._bokeh_onload_callbacks) === \"undefined\" || force === true) {\n    root._bokeh_onload_callbacks = [];\n    root._bokeh_is_loading = undefined;\n  }\n\n  \n\n  \n  if (typeof (root._bokeh_timeout) === \"undefined\" || force === true) {\n    root._bokeh_timeout = Date.now() + 5000;\n    root._bokeh_failed_load = false;\n  }\n\n  var NB_LOAD_WARNING = {'data': {'text/html':\n     \"<div style='background-color: #fdd'>\\n\"+\n     \"<p>\\n\"+\n     \"BokehJS does not appear to have successfully loaded. If loading BokehJS from CDN, this \\n\"+\n     \"may be due to a slow or bad network connection. Possible fixes:\\n\"+\n     \"</p>\\n\"+\n     \"<ul>\\n\"+\n     \"<li>re-rerun `output_notebook()` to attempt to load from CDN again, or</li>\\n\"+\n     \"<li>use INLINE resources instead, as so:</li>\\n\"+\n     \"</ul>\\n\"+\n     \"<code>\\n\"+\n     \"from bokeh.resources import INLINE\\n\"+\n     \"output_notebook(resources=INLINE)\\n\"+\n     \"</code>\\n\"+\n     \"</div>\"}};\n\n  function display_loaded() {\n    var el = document.getElementById(\"1001\");\n    if (el != null) {\n      el.textContent = \"BokehJS is loading...\";\n    }\n    if (root.Bokeh !== undefined) {\n      if (el != null) {\n        el.textContent = \"BokehJS \" + root.Bokeh.version + \" successfully loaded.\";\n      }\n    } else if (Date.now() < root._bokeh_timeout) {\n      setTimeout(display_loaded, 100)\n    }\n  }\n\n\n  function run_callbacks() {\n    try {\n      root._bokeh_onload_callbacks.forEach(function(callback) { callback() });\n    }\n    finally {\n      delete root._bokeh_onload_callbacks\n    }\n    console.info(\"Bokeh: all callbacks have finished\");\n  }\n\n  function load_libs(js_urls, callback) {\n    root._bokeh_onload_callbacks.push(callback);\n    if (root._bokeh_is_loading > 0) {\n      console.log(\"Bokeh: BokehJS is being loaded, scheduling callback at\", now());\n      return null;\n    }\n    if (js_urls == null || js_urls.length === 0) {\n      run_callbacks();\n      return null;\n    }\n    console.log(\"Bokeh: BokehJS not loaded, scheduling load and callback at\", now());\n    root._bokeh_is_loading = js_urls.length;\n    for (var i = 0; i < js_urls.length; i++) {\n      var url = js_urls[i];\n      var s = document.createElement('script');\n      s.src = url;\n      s.async = false;\n      s.onreadystatechange = s.onload = function() {\n        root._bokeh_is_loading--;\n        if (root._bokeh_is_loading === 0) {\n          console.log(\"Bokeh: all BokehJS libraries loaded\");\n          run_callbacks()\n        }\n      };\n      s.onerror = function() {\n        console.warn(\"failed to load library \" + url);\n      };\n      console.log(\"Bokeh: injecting script tag for BokehJS library: \", url);\n      document.getElementsByTagName(\"head\")[0].appendChild(s);\n    }\n  };var element = document.getElementById(\"1001\");\n  if (element == null) {\n    console.log(\"Bokeh: ERROR: autoload.js configured with elementid '1001' but no matching script tag was found. \")\n    return false;\n  }\n\n  var js_urls = [\"https://cdn.pydata.org/bokeh/release/bokeh-1.0.2.min.js\", \"https://cdn.pydata.org/bokeh/release/bokeh-widgets-1.0.2.min.js\", \"https://cdn.pydata.org/bokeh/release/bokeh-tables-1.0.2.min.js\", \"https://cdn.pydata.org/bokeh/release/bokeh-gl-1.0.2.min.js\"];\n\n  var inline_js = [\n    function(Bokeh) {\n      Bokeh.set_log_level(\"info\");\n    },\n    \n    function(Bokeh) {\n      \n    },\n    function(Bokeh) {\n      console.log(\"Bokeh: injecting CSS: https://cdn.pydata.org/bokeh/release/bokeh-1.0.2.min.css\");\n      Bokeh.embed.inject_css(\"https://cdn.pydata.org/bokeh/release/bokeh-1.0.2.min.css\");\n      console.log(\"Bokeh: injecting CSS: https://cdn.pydata.org/bokeh/release/bokeh-widgets-1.0.2.min.css\");\n      Bokeh.embed.inject_css(\"https://cdn.pydata.org/bokeh/release/bokeh-widgets-1.0.2.min.css\");\n      console.log(\"Bokeh: injecting CSS: https://cdn.pydata.org/bokeh/release/bokeh-tables-1.0.2.min.css\");\n      Bokeh.embed.inject_css(\"https://cdn.pydata.org/bokeh/release/bokeh-tables-1.0.2.min.css\");\n    }\n  ];\n\n  function run_inline_js() {\n    \n    if ((root.Bokeh !== undefined) || (force === true)) {\n      for (var i = 0; i < inline_js.length; i++) {\n        inline_js[i].call(root, root.Bokeh);\n      }if (force === true) {\n        display_loaded();\n      }} else if (Date.now() < root._bokeh_timeout) {\n      setTimeout(run_inline_js, 100);\n    } else if (!root._bokeh_failed_load) {\n      console.log(\"Bokeh: BokehJS failed to load within specified timeout.\");\n      root._bokeh_failed_load = true;\n    } else if (force !== true) {\n      var cell = $(document.getElementById(\"1001\")).parents('.cell').data().cell;\n      cell.output_area.append_execute_result(NB_LOAD_WARNING)\n    }\n\n  }\n\n  if (root._bokeh_is_loading === 0) {\n    console.log(\"Bokeh: BokehJS loaded, going straight to plotting\");\n    run_inline_js();\n  } else {\n    load_libs(js_urls, function() {\n      console.log(\"Bokeh: BokehJS plotting callback run at\", now());\n      run_inline_js();\n    });\n  }\n}(window));"
     },
     "metadata": {},
     "output_type": "display_data"
    }
   ],
   "source": [
    "bki.output_notebook()"
   ]
  },
  {
   "cell_type": "code",
   "execution_count": 4,
   "metadata": {},
   "outputs": [],
   "source": [
    "from bokeh.io import curdoc\n",
    "from bokeh.themes import Theme\n",
    "\n",
    "production = False\n",
    "\n",
    "if production:\n",
    "    # Production-quality settings\n",
    "    fsz = '190pt'\n",
    "    figsz = 6000\n",
    "    glyphw = 160\n",
    "    glyphh = 160\n",
    "    lw = 30\n",
    "    glw = 5\n",
    "else:\n",
    "    #Notebook-quality settings\n",
    "    fsz = '16pt'\n",
    "    figsz = 600\n",
    "    glyphw = 20\n",
    "    glyphh = 20\n",
    "    lw = 3\n",
    "    glw = 1\n",
    "\n",
    "curdoc().theme = Theme(json={'attrs': {\n",
    "    'Figure': {\n",
    "        'width': figsz,\n",
    "        'height': figsz\n",
    "    },\n",
    "    # apply defaults to Grid properties\n",
    "    'Grid': {\n",
    "        'grid_line_width': glw\n",
    "    },\n",
    "    # apply defaults to Line/Span properties\n",
    "    'Line': {\n",
    "        'line_width': lw\n",
    "    },\n",
    "    'Span': {\n",
    "        'line_width': lw\n",
    "    },\n",
    "    # apply defaults to Title properties\n",
    "    'Title': {\n",
    "        'text_font_size': fsz\n",
    "    },\n",
    "    # apply defaults to Axis properties\n",
    "    'Axis': {\n",
    "        'axis_label_text_font_size': fsz,\n",
    "        'major_label_text_font_size' : fsz\n",
    "    },\n",
    "     # apply defaults to Legend properties\n",
    "    'Legend': {\n",
    "        'label_text_font_size': fsz,\n",
    "        'glyph_width': glyphw,\n",
    "        'glyph_height': glyphh\n",
    "    }\n",
    "}})\n",
    "\n",
    "logFmtr = FuncTickFormatter(code=\"\"\"\n",
    "var trns = [\n",
    "'\\u2070',\n",
    "'\\u00B9',\n",
    "'\\u00B2',\n",
    "'\\u00B3',\n",
    "'\\u2074',\n",
    "'\\u2075',\n",
    "'\\u2076',\n",
    "'\\u2077',\n",
    "'\\u2078',\n",
    "'\\u2079'];\n",
    "var tick_power = Math.floor(Math.log10(tick));\n",
    "var tick_mult = Math.pow(10, Math.log10(tick) - tick_power);\n",
    "var ret = '';\n",
    "if (tick_mult > 1.) {\n",
    "  if (Math.abs(tick_mult - Math.round(tick_mult)) > 0.05){\n",
    "    ret = tick_mult.toFixed(1) + '\\u22C5';\n",
    "  } else {\n",
    "    ret = tick_mult.toFixed(0) +'\\u22C5';\n",
    "  }\n",
    "}\n",
    "ret += '10';\n",
    "if (tick_power < 0){\n",
    "  ret += '\\u207B';\n",
    "  tick_power = -tick_power;\n",
    "}\n",
    "power_digits = []\n",
    "while (tick_power > 9){\n",
    "  power_digits.push( tick_power - Math.floor(tick_power/10)*10 )\n",
    "  tick_power = Math.floor(tick_power/10)\n",
    "}\n",
    "power_digits.push(tick_power)\n",
    "for (i = power_digits.length-1; i >= 0; i--){\n",
    "  ret += trns[power_digits[i]];\n",
    "}\n",
    "return ret;\n",
    "\"\"\")\n"
   ]
  },
  {
   "cell_type": "markdown",
   "metadata": {},
   "source": [
    "# Data Preprocessing"
   ]
  },
  {
   "cell_type": "markdown",
   "metadata": {},
   "source": [
    "### Extract Relevant Columns, Simplify, Tidy"
   ]
  },
  {
   "cell_type": "code",
   "execution_count": 5,
   "metadata": {
    "scrolled": true
   },
   "outputs": [
    {
     "name": "stdout",
     "output_type": "stream",
     "text": [
      "(11266, 55)\n",
      "Preprocessed Dataframe:\n",
      "  BikeInjury Biker Intox.  BikeAge BikeSex  BikeDir  \\\n",
      "0       None           No       12    Male     With   \n",
      "2   Possible           No       36    Male     With   \n",
      "3   Possible           No       63    Male     With   \n",
      "4   Possible           No       14    Male     With   \n",
      "5       None           No       57    Male  Against   \n",
      "\n",
      "                      BikePos     DrvrVehTyp LightCond  SpeedLimit  \\\n",
      "0                 Travel Lane  Passenger Car      Dayl          35   \n",
      "2  Bike Lane / Paved Shoulder  Passenger Car      Dayl          45   \n",
      "3                 Travel Lane  Sport Utility      Dayl          35   \n",
      "4                 Travel Lane  Passenger Car      Dayl          35   \n",
      "5                 Non-Roadway         Pickup      Dayl          15   \n",
      "\n",
      "   Day of Week  CrashHour  \n",
      "0            6         18  \n",
      "2            4         17  \n",
      "3            3         18  \n",
      "4            3         15  \n",
      "5            6         13  \n",
      "\n",
      "\n",
      "Split Covariate/Outcome Arrays:\n",
      "X:\n",
      "[['No' 12 'Male' ... 35 6 18]\n",
      " ['No' 36 'Male' ... 45 4 17]\n",
      " ['No' 63 'Male' ... 35 3 18]\n",
      " ...\n",
      " ['No' 20 'Male' ... 35 4 16]\n",
      " ['No' 11 'Male' ... 45 1 17]\n",
      " ['No' 57 'Male' ... 55 5 14]]\n",
      "Y:\n",
      "['None' 'Possible' 'Possible' ... 'Possible' 'Possible' 'Killed']\n"
     ]
    }
   ],
   "source": [
    "# load in data\n",
    "# this data was collected on May 1, 2020 from \n",
    "# https://www.chapelhillopendata.org/explore/dataset/bicycle-crash-data-chapel-hill-region\n",
    "df = pd.read_csv('bicycle-crash-data-chapel-hill-region.csv', sep=';')\n",
    "print(df.shape)\n",
    "#extract relevant columns\n",
    "cols_used = ['BikeInjury', 'Biker Intox.', 'BikeAge', 'BikeSex', 'BikeDir', 'BikePos', \n",
    "        'DrvrVehTyp', 'LightCond', 'SpeedLimit', 'Day of Week', 'CrashHour']\n",
    "df = df[cols_used]\n",
    "\n",
    "#extract rows without missing data\n",
    "ageknown = (df.BikeAge != '999') & (df.BikeAge != '70+')\n",
    "lightknown = (df['LightCond'] != 'Unknown') & (df['LightCond'] != 'Other')\n",
    "vehknown = df['DrvrVehTyp'] != 'Unknown'\n",
    "spdknown = df['SpeedLimit'] != 'Unknown'\n",
    "injknown = df['BikeInjury'] != 'Unknown Injury'\n",
    "dirknown = df['BikeDir'] != 'Unknown'\n",
    "posknown = df['BikePos'] != 'Unknown'\n",
    "df = df[ageknown & lightknown & vehknown & spdknown & injknown & dirknown & posknown]\n",
    "\n",
    "#convert ages to integers\n",
    "df['BikeAge'] = df['BikeAge'].astype(int)\n",
    "\n",
    "#simplify injury type\n",
    "def simplify_inj(inj):\n",
    "    if 'Minor' in inj:\n",
    "        return 'Minor'\n",
    "    elif 'Serious' in inj:\n",
    "        return 'Serious'\n",
    "    elif 'Killed' in inj:\n",
    "        return 'Killed'\n",
    "    elif 'Possible' in inj:\n",
    "        return 'Possible'\n",
    "    elif 'No In' in inj:\n",
    "        return 'None'\n",
    "    else:\n",
    "        return 'NA'\n",
    "df['BikeInjury'] = df['BikeInjury'].apply(simplify_inj)\n",
    "\n",
    "#simplify light condition\n",
    "df['LightCond'] = df['LightCond'].apply(lambda x : x[:4])\n",
    "\n",
    "#simplify vehicle types\n",
    "def simplify_veh(veh):\n",
    "    if 'Truck' in veh or 'truck' in veh or 'Motor Home' in veh:\n",
    "        return 'Truck'\n",
    "    elif 'Bus' in veh:\n",
    "        return 'Bus'\n",
    "    elif 'EMS' in veh or 'Police' in veh:\n",
    "        return 'Emergency'\n",
    "    else:\n",
    "        return veh\n",
    "df['DrvrVehTyp'] = df['DrvrVehTyp'].apply(simplify_veh)\n",
    "\n",
    "#simplify bike direction\n",
    "def simplify_dir(dr):\n",
    "    if 'With' in dr:\n",
    "        return 'With'\n",
    "    elif 'Not' in dr:\n",
    "        return 'NA'\n",
    "    else:\n",
    "        return 'Against'\n",
    "df['BikeDir'] = df['BikeDir'].apply(simplify_dir)\n",
    "\n",
    "#simplify bike position\n",
    "def simplify_pos(pos):\n",
    "    if 'With' in pos:\n",
    "        return 'With'\n",
    "    elif 'Not' in dr:\n",
    "        return 'NA'\n",
    "    else:\n",
    "        return 'Against'\n",
    "df['BikeDir'] = df['BikeDir'].apply(simplify_dir)\n",
    "\n",
    "#simplify day of week\n",
    "day_map = {'Sunday': 0,\n",
    "           'Monday': 1,\n",
    "           'Tuesday': 2,\n",
    "           'Wednesday': 3,\n",
    "           'Thursday': 4,\n",
    "           'Friday': 5,\n",
    "           'Saturday': 6}\n",
    "df['Day of Week'] = df['Day of Week'].apply(lambda x : day_map[x])\n",
    "\n",
    "#simplify speed limit\n",
    "def simplify_spd(spd):\n",
    "    return spd.strip().split(' ')[2]\n",
    "df['SpeedLimit'] = df['SpeedLimit'].apply(simplify_spd)\n",
    "df['SpeedLimit'] = df['SpeedLimit'].astype(int)\n",
    "\n",
    "\n",
    "#Print the output\n",
    "print('Preprocessed Dataframe:')\n",
    "print(df.head())\n",
    "\n",
    "print('')\n",
    "print('')\n",
    "print('Split Covariate/Outcome Arrays:')\n",
    "\n",
    "#create a version of the data with covariates and observations separate\n",
    "Y = np.array(df['BikeInjury'])\n",
    "X = np.array(df.drop(['BikeInjury'], axis=1))\n",
    "\n",
    "print('X:')\n",
    "print(X)\n",
    "print('Y:')\n",
    "print(Y)"
   ]
  },
  {
   "cell_type": "markdown",
   "metadata": {},
   "source": [
    "# Local Permutation Test"
   ]
  },
  {
   "cell_type": "markdown",
   "metadata": {},
   "source": [
    "### Premetric"
   ]
  },
  {
   "cell_type": "code",
   "execution_count": 14,
   "metadata": {},
   "outputs": [],
   "source": [
    "#X columns: ['Biker Intox.', 'BikeAge', 'BikeSex', 'BikeDir', 'BikePos', \n",
    "#        'DrvrVehTyp', 'LightCond', 'SpeedLimit', 'Day of Week', 'CrashHour']\n",
    "\n",
    "def premetric(x1, x2, weight):\n",
    "    cat_idcs = [2,3,4,5,6]\n",
    "    if (x1[cat_idcs] != x2[cat_idcs]).any():\n",
    "        return 1\n",
    "    else:\n",
    "        return min(1, \n",
    "                  weight*(\n",
    "                  np.fabs(x1[1]-x2[1]) + \n",
    "                  np.fabs(x1[7]-x2[7]) +\n",
    "                  min(np.fabs(x1[8]-x2[8]), 7 - np.fabs(x1[8]-x2[8])) + \n",
    "                  min(np.fabs(x1[9]-x2[9]), 24 - np.fabs(x1[9]-x2[9]))\n",
    "                  ))           "
   ]
  },
  {
   "cell_type": "markdown",
   "metadata": {},
   "source": [
    "### Test Statistic"
   ]
  },
  {
   "cell_type": "code",
   "execution_count": 15,
   "metadata": {},
   "outputs": [],
   "source": [
    "def test_stat(X, Y):\n",
    "    intox = (X[:, 0] == 'Yes')\n",
    "    severe = (Y == 'Serious') | (Y == 'Killed') \n",
    "    return (severe & intox).sum()/intox.sum() - (severe & ~intox).sum()/(~intox).sum()"
   ]
  },
  {
   "cell_type": "markdown",
   "metadata": {},
   "source": [
    "### Pair Permutation Subgroup Constructor"
   ]
  },
  {
   "cell_type": "code",
   "execution_count": 16,
   "metadata": {},
   "outputs": [],
   "source": [
    "def construct_pairs(X, d, match_coln):\n",
    "    #ensure the match column has exactly two values\n",
    "    match_vals = np.unique(X[:, 0])\n",
    "    if match_vals.shape[0] != 2:\n",
    "        print('Unable to construct pair matching on column ' + str(match_coln))\n",
    "        print('Number of unique values != 2: ' +str(match_vals.shape[0]))\n",
    "    \n",
    "    #separate rows for the two match_coln values\n",
    "    idcs0 = np.where(X[:, match_coln] == match_vals[0])[0]\n",
    "    idcs1 = np.where(X[:, match_coln] == match_vals[1])[0]\n",
    "    X0 = X[X[:, match_coln] == match_vals[0]]\n",
    "    X1 = X[X[:, match_coln] == match_vals[1]]\n",
    "    \n",
    "    #create a matrix of pairwise premetric distances\n",
    "    dists = np.zeros((X0.shape[0], X1.shape[0]))\n",
    "    for i in range(X0.shape[0]):\n",
    "        if i % 1000 == 0:\n",
    "            sys.stdout.write('row ' + str(i+1)+'/'+str(X0.shape[0])+'              \\r')\n",
    "            sys.stdout.flush()\n",
    "        for j in range(X1.shape[0]):\n",
    "            dists[i,j] = d(X0[i,:], X1[j,:])\n",
    "    sys.stdout.write('\\n')\n",
    "    sys.stdout.flush()\n",
    "    \n",
    "    #greedy construction: pick pairs one-by-one via minimum premetric distance\n",
    "    pairs = []\n",
    "    pair_dists = []\n",
    "    while dists.min() < np.inf:\n",
    "        am = dists.argmin()\n",
    "        row = am // dists.shape[1]\n",
    "        col = am % dists.shape[1]\n",
    "        pairs.append((idcs0[row], idcs1[col]))\n",
    "        pair_dists.append(dists[row, col])\n",
    "        dists[row, :] = np.inf\n",
    "        dists[:, col] = np.inf\n",
    "        \n",
    "    #output the premetric-ordered list of pairs\n",
    "    return pairs, pair_dists"
   ]
  },
  {
   "cell_type": "markdown",
   "metadata": {},
   "source": [
    "### Paired Permutation Test"
   ]
  },
  {
   "cell_type": "code",
   "execution_count": 17,
   "metadata": {},
   "outputs": [],
   "source": [
    "def pair_test(X, Y, S, pairs, pair_dists, N_samples, alpha):\n",
    "    #take pairs until their local exchangeability penalty would exceed alpha/2\n",
    "    num_pairs = (np.cumsum(pair_dists) <= alpha/2).sum()\n",
    "    \n",
    "    #if there are no pairs we can swap under this constraint, just output\n",
    "    if num_pairs == 0:\n",
    "        return False, 0, S(X, Y), S(X, Y)*np.ones(N_samples) #all \"permutations\" are the same, cannot reject null\n",
    "    \n",
    "    #compute the local exchangeability penalty\n",
    "    penalty = np.cumsum(pair_dists)[num_pairs-1]\n",
    "    thresh = 1 - alpha + penalty\n",
    "    \n",
    "    #run N_samples of pair swaps \n",
    "    S_vals = np.zeros(N_samples)\n",
    "    for n in range(N_samples):\n",
    "        if n % 1000 == 0:\n",
    "            sys.stdout.write('sample ' + str(n+1)+'/'+str(N_samples)+'              \\r')\n",
    "            sys.stdout.flush()\n",
    "        #generate a uniform random swap of all pairs\n",
    "        Yc = Y.copy()\n",
    "        for p in range(num_pairs):\n",
    "            if np.random.rand() <= 0.5:\n",
    "                tmp = Yc[pairs[p][0]]\n",
    "                Yc[pairs[p][0]] = Yc[pairs[p][1]]\n",
    "                Yc[pairs[p][1]] = tmp\n",
    "        #compute the test statistic for the swapped data\n",
    "        S_vals[n] = S(X, Yc)\n",
    "    sys.stdout.write('\\n')\n",
    "    sys.stdout.flush()\n",
    "    \n",
    "    #Reject the null?\n",
    "    reject_null = (S(X, Y) > S_vals).sum()/N_samples > thresh\n",
    "    \n",
    "    #return the results\n",
    "    return reject_null, num_pairs, S(X, Y), S_vals"
   ]
  },
  {
   "cell_type": "markdown",
   "metadata": {},
   "source": [
    "### Run the Test"
   ]
  },
  {
   "cell_type": "code",
   "execution_count": 18,
   "metadata": {
    "scrolled": true
   },
   "outputs": [
    {
     "name": "stdout",
     "output_type": "stream",
     "text": [
      "Weight iter 1/20\n",
      "row 8001/8234              \n",
      "sample 99001/100000              \n",
      "Weight iter 2/20\n",
      "row 8001/8234              \n",
      "sample 99001/100000              \n",
      "Weight iter 3/20\n",
      "row 8001/8234              \n",
      "sample 99001/100000              \n",
      "Weight iter 4/20\n",
      "row 8001/8234              \n",
      "sample 99001/100000              \n",
      "Weight iter 5/20\n",
      "row 8001/8234              \n",
      "sample 99001/100000              \n",
      "Weight iter 6/20\n",
      "row 8001/8234              \n",
      "sample 99001/100000              \n",
      "Weight iter 7/20\n",
      "row 8001/8234              \n",
      "sample 99001/100000              \n",
      "Weight iter 8/20\n",
      "row 8001/8234              \n",
      "sample 99001/100000              \n",
      "Weight iter 9/20\n",
      "row 8001/8234              \n",
      "sample 99001/100000              \n",
      "Weight iter 10/20\n",
      "row 8001/8234              \n",
      "sample 99001/100000              \n",
      "Weight iter 11/20\n",
      "row 8001/8234              \n",
      "sample 99001/100000              \n",
      "Weight iter 12/20\n",
      "row 8001/8234              \n",
      "sample 99001/100000              \n",
      "Weight iter 13/20\n",
      "row 8001/8234              \n",
      "sample 99001/100000              \n",
      "Weight iter 14/20\n",
      "row 8001/8234              \n",
      "sample 99001/100000              \n",
      "Weight iter 15/20\n",
      "row 8001/8234              \n",
      "sample 99001/100000              \n",
      "Weight iter 16/20\n",
      "row 8001/8234              \n",
      "sample 99001/100000              \n",
      "Weight iter 17/20\n",
      "row 8001/8234              \n",
      "sample 99001/100000              \n",
      "Weight iter 18/20\n",
      "row 8001/8234              \n",
      "sample 99001/100000              \n",
      "Weight iter 19/20\n",
      "row 8001/8234              \n",
      "sample 99001/100000              \n",
      "Weight iter 20/20\n",
      "row 8001/8234              \n",
      "sample 99001/100000              \n"
     ]
    }
   ],
   "source": [
    "#try different premetric weights\n",
    "weights = np.logspace(-7, 0, 20)\n",
    "\n",
    "#match covariate = Biker Intoxication Status\n",
    "match_col = 0\n",
    "\n",
    "#Type 1 error guarantee = 5%\n",
    "alpha = 0.05\n",
    "\n",
    "#simulate 100,000 permutations\n",
    "N_samples = 100000\n",
    "\n",
    "\n",
    "S_vals = np.zeros((weights.shape[0], N_samples))\n",
    "S = 0\n",
    "n_pairs = np.zeros(weights.shape[0])\n",
    "rejections = np.zeros(weights.shape[0], dtype=np.bool)\n",
    "#for each premetric weight setting\n",
    "for n in range(weights.shape[0]):\n",
    "    print('Weight iter ' + str(n+1)+'/'+str(weights.shape[0]))\n",
    "    #construct the list of matched pairs\n",
    "    pairs, pair_dists = construct_pairs(X, lambda x1, x2 : premetric(x1, x2, weights[n]), match_col)\n",
    "\n",
    "    #run the permutation test and store the output\n",
    "    rejections[n], n_pairs[n], S, S_vals[n,:] = pair_test(X, Y, test_stat, pairs, pair_dists, N_samples, alpha)   \n"
   ]
  },
  {
   "cell_type": "markdown",
   "metadata": {},
   "source": [
    "### Visualize the Result"
   ]
  },
  {
   "cell_type": "code",
   "execution_count": 92,
   "metadata": {},
   "outputs": [
    {
     "data": {
      "text/html": [
       "\n",
       "\n",
       "\n",
       "\n",
       "\n",
       "\n",
       "  <div class=\"bk-root\" id=\"7a173356-a057-4733-94cf-d0bbbe1e8ed5\"></div>\n"
      ]
     },
     "metadata": {},
     "output_type": "display_data"
    },
    {
     "data": {
      "application/javascript": [
       "(function(root) {\n",
       "  function embed_document(root) {\n",
       "    \n",
       "  var docs_json = {\"e9d1f9ab-4f52-4e69-b965-eba520deb44d\":{\"roots\":{\"references\":[{\"attributes\":{\"below\":[{\"id\":\"61088\",\"type\":\"LinearAxis\"}],\"height\":6000,\"left\":[{\"id\":\"61093\",\"type\":\"LinearAxis\"}],\"renderers\":[{\"id\":\"61088\",\"type\":\"LinearAxis\"},{\"id\":\"61092\",\"type\":\"Grid\"},{\"id\":\"61093\",\"type\":\"LinearAxis\"},{\"id\":\"61097\",\"type\":\"Grid\"},{\"id\":\"61106\",\"type\":\"BoxAnnotation\"},{\"id\":\"61113\",\"type\":\"Span\"},{\"id\":\"61126\",\"type\":\"Legend\"},{\"id\":\"61117\",\"type\":\"GlyphRenderer\"},{\"id\":\"61131\",\"type\":\"GlyphRenderer\"},{\"id\":\"61146\",\"type\":\"GlyphRenderer\"},{\"id\":\"61163\",\"type\":\"GlyphRenderer\"},{\"id\":\"61182\",\"type\":\"GlyphRenderer\"}],\"title\":{\"id\":\"61119\",\"type\":\"Title\"},\"toolbar\":{\"id\":\"61104\",\"type\":\"Toolbar\"},\"width\":6000,\"x_range\":{\"id\":\"61080\",\"type\":\"Range1d\"},\"x_scale\":{\"id\":\"61084\",\"type\":\"LinearScale\"},\"y_range\":{\"id\":\"61082\",\"type\":\"DataRange1d\"},\"y_scale\":{\"id\":\"61086\",\"type\":\"LinearScale\"}},\"id\":\"61079\",\"subtype\":\"Figure\",\"type\":\"Plot\"},{\"attributes\":{},\"id\":\"61084\",\"type\":\"LinearScale\"},{\"attributes\":{\"data_source\":{\"id\":\"61114\",\"type\":\"ColumnDataSource\"},\"glyph\":{\"id\":\"61115\",\"type\":\"Quad\"},\"hover_glyph\":null,\"muted_glyph\":null,\"nonselection_glyph\":{\"id\":\"61116\",\"type\":\"Quad\"},\"selection_glyph\":null,\"view\":{\"id\":\"61118\",\"type\":\"CDSView\"}},\"id\":\"61117\",\"type\":\"GlyphRenderer\"},{\"attributes\":{},\"id\":\"61197\",\"type\":\"UnionRenderers\"},{\"attributes\":{\"source\":{\"id\":\"61143\",\"type\":\"ColumnDataSource\"}},\"id\":\"61147\",\"type\":\"CDSView\"},{\"attributes\":{},\"id\":\"61086\",\"type\":\"LinearScale\"},{\"attributes\":{\"label\":{\"value\":\"Observed\"},\"renderers\":[{\"id\":\"61182\",\"type\":\"GlyphRenderer\"}]},\"id\":\"61199\",\"type\":\"LegendItem\"},{\"attributes\":{\"source\":{\"id\":\"61114\",\"type\":\"ColumnDataSource\"}},\"id\":\"61118\",\"type\":\"CDSView\"},{\"attributes\":{},\"id\":\"61156\",\"type\":\"Selection\"},{\"attributes\":{\"axis_label\":\"Test Statistic Value\",\"axis_label_text_font_size\":{\"value\":\"190pt\"},\"formatter\":{\"id\":\"61121\",\"type\":\"BasicTickFormatter\"},\"major_label_text_font_size\":{\"value\":\"190pt\"},\"plot\":{\"id\":\"61079\",\"subtype\":\"Figure\",\"type\":\"Plot\"},\"ticker\":{\"id\":\"61089\",\"type\":\"BasicTicker\"}},\"id\":\"61088\",\"type\":\"LinearAxis\"},{\"attributes\":{\"plot\":null,\"text\":\"\",\"text_font_size\":{\"value\":\"190pt\"}},\"id\":\"61119\",\"type\":\"Title\"},{\"attributes\":{},\"id\":\"62426\",\"type\":\"Selection\"},{\"attributes\":{},\"id\":\"61157\",\"type\":\"UnionRenderers\"},{\"attributes\":{},\"id\":\"61089\",\"type\":\"BasicTicker\"},{\"attributes\":{},\"id\":\"61121\",\"type\":\"BasicTickFormatter\"},{\"attributes\":{\"bottom_units\":\"screen\",\"fill_alpha\":{\"value\":0.5},\"fill_color\":{\"value\":\"lightgrey\"},\"left_units\":\"screen\",\"level\":\"overlay\",\"line_alpha\":{\"value\":1.0},\"line_color\":{\"value\":\"black\"},\"line_dash\":[4,4],\"line_width\":{\"value\":2},\"plot\":null,\"render_mode\":\"css\",\"right_units\":\"screen\",\"top_units\":\"screen\"},\"id\":\"61106\",\"type\":\"BoxAnnotation\"},{\"attributes\":{\"label\":{\"value\":\"\\u03bb = 2e-04\"},\"renderers\":[{\"id\":\"61146\",\"type\":\"GlyphRenderer\"}]},\"id\":\"61159\",\"type\":\"LegendItem\"},{\"attributes\":{},\"id\":\"62427\",\"type\":\"UnionRenderers\"},{\"attributes\":{\"grid_line_width\":{\"value\":5},\"plot\":{\"id\":\"61079\",\"subtype\":\"Figure\",\"type\":\"Plot\"},\"ticker\":{\"id\":\"61089\",\"type\":\"BasicTicker\"}},\"id\":\"61092\",\"type\":\"Grid\"},{\"attributes\":{},\"id\":\"61123\",\"type\":\"BasicTickFormatter\"},{\"attributes\":{\"callback\":null,\"data\":{\"left\":{\"__ndarray__\":\"AAAAAAAAAAC6AUE7DZ1bP7oBQTsNnWs/TMFw7Mm1dD+6AUE7DZ17PxShCEUoQoE/TMFw7Mm1hD+D4diTaymIP7oBQTsNnYs/8SGp4q4Qjz8UoQhFKEKRPzCxvBj5+5I/TMFw7Mm1lD9n0STAmm+WP4Ph2JNrKZg/nvGMZzzjmT+6AUE7DZ2bP9YR9Q7eVp0/8SGp4q4Qnz8GmS7bP2WgPxShCEUoQqE/IqnirhAfoj8wsbwY+fuiPz65loLh2KM/TMFw7Mm1pD9ZyUpWspKlP2fRJMCab6Y/ddn+KYNMpz+D4diTaymoP5Hpsv1TBqk/nvGMZzzjqT+s+WbRJMCqP7oBQTsNnas/yAkbpfV5rD/WEfUO3latP+MZz3jGM64/8SGp4q4Qrz//KYNMl+2vPwaZLts/ZbA/DZ0bELTTsD8UoQhFKEKxPxul9XmcsLE/IqnirhAfsj8prc/jhI2yPzCxvBj5+7I/N7WpTW1qsz8+uZaC4dizP0W9g7dVR7Q/TMFw7Mm1tD9SxV0hPiS1P1nJSlaykrU/YM03iyYBtj9n0STAmm+2P27VEfUO3rY/ddn+KYNMtz983ete97q3P4Ph2JNrKbg/iuXFyN+XuD+R6bL9Uwa5P5ftnzLIdLk/nvGMZzzjuT+l9XmcsFG6P6z5ZtEkwLo/s/1TBpkuuz+6AUE7DZ27P8EFLnCBC7w/yAkbpfV5vD/PDQjaaei8P9YR9Q7eVr0/3RXiQ1LFvT/jGc94xjO+P+odvK06or4/8SGp4q4Qvz/4JZYXI3+/P/8pg0yX7b8/Axe4wAUuwD8GmS7bP2XAPwobpfV5nMA/DZ0bELTTwD8RH5Iq7grBPxShCEUoQsE/GCN/X2J5wT8bpfV5nLDBPx8nbJTW58E/IqnirhAfwj8mK1nJSlbCPymtz+OEjcI/LC9G/r7Ewj8wsbwY+fvCPw==\",\"dtype\":\"float64\",\"shape\":[89]},\"right\":{\"__ndarray__\":\"ugFBOw2dWz+6AUE7DZ1rP0zBcOzJtXQ/ugFBOw2dez8UoQhFKEKBP0zBcOzJtYQ/g+HYk2spiD+6AUE7DZ2LP/EhqeKuEI8/FKEIRShCkT8wsbwY+fuSP0zBcOzJtZQ/Z9EkwJpvlj+D4diTaymYP57xjGc845k/ugFBOw2dmz/WEfUO3ladP/EhqeKuEJ8/Bpku2z9loD8UoQhFKEKhPyKp4q4QH6I/MLG8GPn7oj8+uZaC4dijP0zBcOzJtaQ/WclKVrKSpT9n0STAmm+mP3XZ/imDTKc/g+HYk2spqD+R6bL9UwapP57xjGc846k/rPlm0STAqj+6AUE7DZ2rP8gJG6X1eaw/1hH1Dt5WrT/jGc94xjOuP/EhqeKuEK8//ymDTJftrz8GmS7bP2WwPw2dGxC007A/FKEIRShCsT8bpfV5nLCxPyKp4q4QH7I/Ka3P44SNsj8wsbwY+fuyPze1qU1tarM/PrmWguHYsz9FvYO3VUe0P0zBcOzJtbQ/UsVdIT4ktT9ZyUpWspK1P2DNN4smAbY/Z9EkwJpvtj9u1RH1Dt62P3XZ/imDTLc/fN3rXve6tz+D4diTaym4P4rlxcjfl7g/kemy/VMGuT+X7Z8yyHS5P57xjGc847k/pfV5nLBRuj+s+WbRJMC6P7P9UwaZLrs/ugFBOw2duz/BBS5wgQu8P8gJG6X1ebw/zw0I2mnovD/WEfUO3la9P90V4kNSxb0/4xnPeMYzvj/qHbytOqK+P/EhqeKuEL8/+CWWFyN/vz//KYNMl+2/PwMXuMAFLsA/Bpku2z9lwD8KG6X1eZzAPw2dGxC008A/ER+SKu4KwT8UoQhFKELBPxgjf19iecE/G6X1eZywwT8fJ2yU1ufBPyKp4q4QH8I/JitZyUpWwj8prc/jhI3CPywvRv6+xMI/MLG8GPn7wj8zMzMzMzPDPw==\",\"dtype\":\"float64\",\"shape\":[89]},\"top\":{\"__ndarray__\":\"AAAAAAAAAAAAAAAAAAAAAAAAAAAAAAAAAAAAAAAAAAAAAAAAAAAAAAAAAAAAAAAAAAAAAAAAAAAAAAAAAAAAAAAAAAAAAAAAAAAAAAAAAAAAAAAAAAAAAAAAAAAAAAAAAAAAAAAAAAAAAAAAAAAAAAAAAAAAAAAAAAAAAAAAAAAAAAAAAAAAAAAAAAAAAAAAAAAAAAAAAAAAAAAAAAAAAAAAAAAAAAAAAAAAAAAAAAAAAAAAAAAAAAAAAAAAAAAA8WjjiLX49D7xaOOItfj0PmkdVU0Qdf8+LUMc6+I2Gj+eDI6SV+coP6lNnNzvUDQ/dF5jl6jeOj/uPVxy3ClNP/Fo44i1+FQ/wf9WsmMjYD+JtfgUAONpPzz3Hi457nQ/lj50QX3LfD9RTrSrkPKDP8Dsnjws1Io/FVJ+Uu3TkT9a2NMOf02WP7jM6bKY2Jw/9P3UeOkmoT/boswGmWSkP5Xx7zMuHKg/2SWqtwa2qj/AIVSp2QOtP8mrcwzIXq8/j41AvK5fsD9+qZ83FamwPwZHyatzDLA/m3KFd7mIrz/zPLg7a7etP/+VlSaloKs/UtUEUfcBqD9uTE9Y4gGlP3r83qY/+6E/4gZ8fhghnD+Ens2qz9WWP6g1zTtO0ZE/hUIEHEKVij8jFcYWghyEP2x4eqUsQ3w/2/l+arx0cz98REyJJHppP/TDCOHRxmE/+n5qvHSTWD+An3HhQEhGP3aJ6q2BrUI/OIQqNXugNT/xaOOItfgkP9L7xteeWSI/aR1VTRB1Dz/xaOOItfj0PgAAAAAAAAAA8WjjiLX45D7xaOOItfjkPvFo44i1+OQ+AAAAAAAAAAAAAAAAAAAAAAAAAAAAAAAAAAAAAAAAAAAAAAAAAAAAAAAAAAAAAAAAAAAAAAAAAAAAAAAAAAAAAAAAAAAAAAAAAAAAAAAAAAAAAAAAAAAAAA==\",\"dtype\":\"float64\",\"shape\":[89]}},\"selected\":{\"id\":\"61139\",\"type\":\"Selection\"},\"selection_policy\":{\"id\":\"61140\",\"type\":\"UnionRenderers\"}},\"id\":\"61114\",\"type\":\"ColumnDataSource\"},{\"attributes\":{\"callback\":null,\"data\":{\"left\":{\"__ndarray__\":\"AAAAAAAAAAC6AUE7DZ1bP7oBQTsNnWs/TMFw7Mm1dD+6AUE7DZ17PxShCEUoQoE/TMFw7Mm1hD+D4diTaymIP7oBQTsNnYs/8SGp4q4Qjz8UoQhFKEKRPzCxvBj5+5I/TMFw7Mm1lD9n0STAmm+WP4Ph2JNrKZg/nvGMZzzjmT+6AUE7DZ2bP9YR9Q7eVp0/8SGp4q4Qnz8GmS7bP2WgPxShCEUoQqE/IqnirhAfoj8wsbwY+fuiPz65loLh2KM/TMFw7Mm1pD9ZyUpWspKlP2fRJMCab6Y/ddn+KYNMpz+D4diTaymoP5Hpsv1TBqk/nvGMZzzjqT+s+WbRJMCqP7oBQTsNnas/yAkbpfV5rD/WEfUO3latP+MZz3jGM64/8SGp4q4Qrz//KYNMl+2vPwaZLts/ZbA/DZ0bELTTsD8UoQhFKEKxPxul9XmcsLE/IqnirhAfsj8prc/jhI2yPzCxvBj5+7I/N7WpTW1qsz8+uZaC4dizP0W9g7dVR7Q/TMFw7Mm1tD9SxV0hPiS1P1nJSlaykrU/YM03iyYBtj9n0STAmm+2P27VEfUO3rY/ddn+KYNMtz983ete97q3P4Ph2JNrKbg/iuXFyN+XuD+R6bL9Uwa5P5ftnzLIdLk/nvGMZzzjuT+l9XmcsFG6P6z5ZtEkwLo/s/1TBpkuuz+6AUE7DZ27P8EFLnCBC7w/yAkbpfV5vD/PDQjaaei8P9YR9Q7eVr0/3RXiQ1LFvT/jGc94xjO+P+odvK06or4/8SGp4q4Qvz/4JZYXI3+/P/8pg0yX7b8/Axe4wAUuwD8GmS7bP2XAPwobpfV5nMA/DZ0bELTTwD8RH5Iq7grBPxShCEUoQsE/GCN/X2J5wT8bpfV5nLDBPx8nbJTW58E/IqnirhAfwj8mK1nJSlbCPymtz+OEjcI/LC9G/r7Ewj8wsbwY+fvCPw==\",\"dtype\":\"float64\",\"shape\":[89]},\"right\":{\"__ndarray__\":\"ugFBOw2dWz+6AUE7DZ1rP0zBcOzJtXQ/ugFBOw2dez8UoQhFKEKBP0zBcOzJtYQ/g+HYk2spiD+6AUE7DZ2LP/EhqeKuEI8/FKEIRShCkT8wsbwY+fuSP0zBcOzJtZQ/Z9EkwJpvlj+D4diTaymYP57xjGc845k/ugFBOw2dmz/WEfUO3ladP/EhqeKuEJ8/Bpku2z9loD8UoQhFKEKhPyKp4q4QH6I/MLG8GPn7oj8+uZaC4dijP0zBcOzJtaQ/WclKVrKSpT9n0STAmm+mP3XZ/imDTKc/g+HYk2spqD+R6bL9UwapP57xjGc846k/rPlm0STAqj+6AUE7DZ2rP8gJG6X1eaw/1hH1Dt5WrT/jGc94xjOuP/EhqeKuEK8//ymDTJftrz8GmS7bP2WwPw2dGxC007A/FKEIRShCsT8bpfV5nLCxPyKp4q4QH7I/Ka3P44SNsj8wsbwY+fuyPze1qU1tarM/PrmWguHYsz9FvYO3VUe0P0zBcOzJtbQ/UsVdIT4ktT9ZyUpWspK1P2DNN4smAbY/Z9EkwJpvtj9u1RH1Dt62P3XZ/imDTLc/fN3rXve6tz+D4diTaym4P4rlxcjfl7g/kemy/VMGuT+X7Z8yyHS5P57xjGc847k/pfV5nLBRuj+s+WbRJMC6P7P9UwaZLrs/ugFBOw2duz/BBS5wgQu8P8gJG6X1ebw/zw0I2mnovD/WEfUO3la9P90V4kNSxb0/4xnPeMYzvj/qHbytOqK+P/EhqeKuEL8/+CWWFyN/vz//KYNMl+2/PwMXuMAFLsA/Bpku2z9lwD8KG6X1eZzAPw2dGxC008A/ER+SKu4KwT8UoQhFKELBPxgjf19iecE/G6X1eZywwT8fJ2yU1ufBPyKp4q4QH8I/JitZyUpWwj8prc/jhI3CPywvRv6+xMI/MLG8GPn7wj8zMzMzMzPDPw==\",\"dtype\":\"float64\",\"shape\":[89]},\"top\":{\"__ndarray__\":\"AAAAAAAAAAAAAAAAAAAAAAAAAAAAAAAAAAAAAAAAAAAAAAAAAAAAAAAAAAAAAAAAAAAAAAAAAAAAAAAAAAAAAAAAAAAAAAAAAAAAAAAAAAAAAAAAAAAAAAAAAAAAAAAAAAAAAAAAAAAAAAAAAAAAAAAAAAAAAAAAAAAAAAAAAAAAAAAAAAAAAAAAAAAAAAAAAAAAAAAAAAAAAAAAAAAAAAAAAAAAAAAAAAAAAAAAAAAAAAAAAAAAAAAAAAAAAAAAAAAAAAAAAAAAAAAAAAAAAAAAAAAAAAAAAAAAAAAAAAAAAAAAAAAAAAAAAAAAAAAAAAAAAAAAAAAAAAAAAAAAAAAAAAAAAAAAAAAAAAAAAAAAAAAAAAAAAAAAAAAAAAAAAAAAAAAAAAAAAAAAAAAAAAAAAAAAAAAAAAAAAAAAAAAAAAAAAAAAAAAAAAAAAAAAAAAAAAAAAAAAAAAAAAAAAAAAAAAAAAAAAAAAAAAAAAAAAAAAAAAAAAAAAAAAAAAAAAAAAAAAAAAAAAAAAAAAAAAAAAAAAAAAAAAAAAAAAAAAAAAAAAAAAAAAAAAAAAAAAAAAAAAAAAAAAAAAAAAAAAAAAAAAAAAAAAAAAAAAAAAAAAAAAAAAAAAAAAAAAAAAAAAAAAAAAAAAAAAAAAAAAAAAAAAAAAAAAAAAAAAAAAAAAAAAAAAAAAAAAAAAAAAAAAAAAAAAAAAAAAAAAAAAAAAAAAAAAAAAAAAAAAAAAAAAAAAAAAAAAIqO5PIf0r8/TRWMSuoE2D83jliLTwHYP7RxxFp8CsA/AAAAAAAAAAAAAAAAAAAAAAAAAAAAAAAAAAAAAAAAAAAAAAAAAAAAAAAAAAAAAAAAAAAAAAAAAAAAAAAAAAAAAAAAAAAAAAAAAAAAAAAAAAAAAAAAAAAAAAAAAAAAAAAAAAAAAAAAAAAAAAAAAAAAAA==\",\"dtype\":\"float64\",\"shape\":[89]}},\"selected\":{\"id\":\"61196\",\"type\":\"Selection\"},\"selection_policy\":{\"id\":\"61197\",\"type\":\"UnionRenderers\"}},\"id\":\"61160\",\"type\":\"ColumnDataSource\"},{\"attributes\":{\"axis_label\":\"Density\",\"axis_label_text_font_size\":{\"value\":\"190pt\"},\"formatter\":{\"id\":\"61123\",\"type\":\"BasicTickFormatter\"},\"major_label_text_font_size\":{\"value\":\"190pt\"},\"plot\":{\"id\":\"61079\",\"subtype\":\"Figure\",\"type\":\"Plot\"},\"ticker\":{\"id\":\"61094\",\"type\":\"BasicTicker\"}},\"id\":\"61093\",\"type\":\"LinearAxis\"},{\"attributes\":{\"bottom\":{\"value\":0},\"fill_alpha\":{\"value\":0.7},\"fill_color\":{\"value\":\"#1f77b4\"},\"left\":{\"field\":\"left\"},\"line_alpha\":{\"value\":0.7},\"line_color\":{\"value\":\"white\"},\"right\":{\"field\":\"right\"},\"top\":{\"field\":\"top\"}},\"id\":\"61161\",\"type\":\"Quad\"},{\"attributes\":{\"label\":{\"value\":\"\\u03bb = 1e-06\"},\"renderers\":[{\"id\":\"61117\",\"type\":\"GlyphRenderer\"}]},\"id\":\"61127\",\"type\":\"LegendItem\"},{\"attributes\":{},\"id\":\"61094\",\"type\":\"BasicTicker\"},{\"attributes\":{\"bottom\":{\"value\":0},\"fill_alpha\":{\"value\":0.1},\"fill_color\":{\"value\":\"#1f77b4\"},\"left\":{\"field\":\"left\"},\"line_alpha\":{\"value\":0.1},\"line_color\":{\"value\":\"#1f77b4\"},\"right\":{\"field\":\"right\"},\"top\":{\"field\":\"top\"}},\"id\":\"61162\",\"type\":\"Quad\"},{\"attributes\":{\"callback\":null,\"data\":{\"left\":{\"__ndarray__\":\"AAAAAAAAAAC6AUE7DZ1bP7oBQTsNnWs/TMFw7Mm1dD+6AUE7DZ17PxShCEUoQoE/TMFw7Mm1hD+D4diTaymIP7oBQTsNnYs/8SGp4q4Qjz8UoQhFKEKRPzCxvBj5+5I/TMFw7Mm1lD9n0STAmm+WP4Ph2JNrKZg/nvGMZzzjmT+6AUE7DZ2bP9YR9Q7eVp0/8SGp4q4Qnz8GmS7bP2WgPxShCEUoQqE/IqnirhAfoj8wsbwY+fuiPz65loLh2KM/TMFw7Mm1pD9ZyUpWspKlP2fRJMCab6Y/ddn+KYNMpz+D4diTaymoP5Hpsv1TBqk/nvGMZzzjqT+s+WbRJMCqP7oBQTsNnas/yAkbpfV5rD/WEfUO3latP+MZz3jGM64/8SGp4q4Qrz//KYNMl+2vPwaZLts/ZbA/DZ0bELTTsD8UoQhFKEKxPxul9XmcsLE/IqnirhAfsj8prc/jhI2yPzCxvBj5+7I/N7WpTW1qsz8+uZaC4dizP0W9g7dVR7Q/TMFw7Mm1tD9SxV0hPiS1P1nJSlaykrU/YM03iyYBtj9n0STAmm+2P27VEfUO3rY/ddn+KYNMtz983ete97q3P4Ph2JNrKbg/iuXFyN+XuD+R6bL9Uwa5P5ftnzLIdLk/nvGMZzzjuT+l9XmcsFG6P6z5ZtEkwLo/s/1TBpkuuz+6AUE7DZ27P8EFLnCBC7w/yAkbpfV5vD/PDQjaaei8P9YR9Q7eVr0/3RXiQ1LFvT/jGc94xjO+P+odvK06or4/8SGp4q4Qvz/4JZYXI3+/P/8pg0yX7b8/Axe4wAUuwD8GmS7bP2XAPwobpfV5nMA/DZ0bELTTwD8RH5Iq7grBPxShCEUoQsE/GCN/X2J5wT8bpfV5nLDBPx8nbJTW58E/IqnirhAfwj8mK1nJSlbCPymtz+OEjcI/LC9G/r7Ewj8wsbwY+fvCPw==\",\"dtype\":\"float64\",\"shape\":[89]},\"right\":{\"__ndarray__\":\"ugFBOw2dWz+6AUE7DZ1rP0zBcOzJtXQ/ugFBOw2dez8UoQhFKEKBP0zBcOzJtYQ/g+HYk2spiD+6AUE7DZ2LP/EhqeKuEI8/FKEIRShCkT8wsbwY+fuSP0zBcOzJtZQ/Z9EkwJpvlj+D4diTaymYP57xjGc845k/ugFBOw2dmz/WEfUO3ladP/EhqeKuEJ8/Bpku2z9loD8UoQhFKEKhPyKp4q4QH6I/MLG8GPn7oj8+uZaC4dijP0zBcOzJtaQ/WclKVrKSpT9n0STAmm+mP3XZ/imDTKc/g+HYk2spqD+R6bL9UwapP57xjGc846k/rPlm0STAqj+6AUE7DZ2rP8gJG6X1eaw/1hH1Dt5WrT/jGc94xjOuP/EhqeKuEK8//ymDTJftrz8GmS7bP2WwPw2dGxC007A/FKEIRShCsT8bpfV5nLCxPyKp4q4QH7I/Ka3P44SNsj8wsbwY+fuyPze1qU1tarM/PrmWguHYsz9FvYO3VUe0P0zBcOzJtbQ/UsVdIT4ktT9ZyUpWspK1P2DNN4smAbY/Z9EkwJpvtj9u1RH1Dt62P3XZ/imDTLc/fN3rXve6tz+D4diTaym4P4rlxcjfl7g/kemy/VMGuT+X7Z8yyHS5P57xjGc847k/pfV5nLBRuj+s+WbRJMC6P7P9UwaZLrs/ugFBOw2duz/BBS5wgQu8P8gJG6X1ebw/zw0I2mnovD/WEfUO3la9P90V4kNSxb0/4xnPeMYzvj/qHbytOqK+P/EhqeKuEL8/+CWWFyN/vz//KYNMl+2/PwMXuMAFLsA/Bpku2z9lwD8KG6X1eZzAPw2dGxC008A/ER+SKu4KwT8UoQhFKELBPxgjf19iecE/G6X1eZywwT8fJ2yU1ufBPyKp4q4QH8I/JitZyUpWwj8prc/jhI3CPywvRv6+xMI/MLG8GPn7wj8zMzMzMzPDPw==\",\"dtype\":\"float64\",\"shape\":[89]},\"top\":{\"__ndarray__\":\"AAAAAAAAAAAAAAAAAAAAAAAAAAAAAAAAAAAAAAAAAAAAAAAAAAAAAAAAAAAAAAAAAAAAAAAAAAAAAAAAAAAAAAAAAAAAAAAAAAAAAAAAAAAAAAAAAAAAAAAAAAAAAAAAAAAAAAAAAAAAAAAAAAAAAAAAAAAAAAAAAAAAAAAAAAAAAAAAAAAAAAAAAAAAAAAAAAAAAAAAAAAAAAAAAAAAAAAAAAAAAAAAAAAAAAAAAAAAAAAAAAAAAAAAAAAAAAAAAAAAAAAAAAAAAAAAAAAAAAAAAAAAAAAAAAAAAAAAAAAAAAAAAAAAAAAAAAAAAAAAAAAAAAAAAAAAAAAAAAAAAAAAAAAAAAAAAAAAAAAAAAAAAAAAAAAAAAAAAAAAAAAAAAAAAAAAAAAAAAAAAAAAAAAAAAAAAAAAAAAAAAAAAAAAAAAAAAAAAAAAAAAAAAAAAAAAAAAAAADxaOOItfjkPvFo44i1+AQ/aR1VTRB1Dz+pTZzc71A0P+dSXFX2XUE/Zr0Yyol2VT+6SQwCK4dmPy+GcqJdhXQ/RN0HILWJgz/eVKTC2EKQP+XtCKcFL5o/7N0f71Uroz8lehnFckurP1u21hcJbbE/gy9MpgpGtT8gY+5aQj64PypSYWwhyLk/bEPFOH8Tuj/YDdsWZTa4P5n1Yign2rU/2XxcGyrGsT+NtFTejnCqP63ddqG5TqM/0AoMWd3qmT9xOPOrOUCQPy/6CtKMRYM/+WabG9MTdj9F9dbAVglmP67YX3ZPHlY/D9b/OcyXRz9pHVVNEHUvPy1DHOviNgo/aR1VTRB1/z7xaOOItfjkPvFo44i1+OQ+AAAAAAAAAAAAAAAAAAAAAAAAAAAAAAAAAAAAAAAAAAAAAAAAAAAAAAAAAAAAAAAAAAAAAAAAAAAAAAAAAAAAAAAAAAAAAAAAAAAAAAAAAAAAAAAAAAAAAA==\",\"dtype\":\"float64\",\"shape\":[89]}},\"selected\":{\"id\":\"61156\",\"type\":\"Selection\"},\"selection_policy\":{\"id\":\"61157\",\"type\":\"UnionRenderers\"}},\"id\":\"61128\",\"type\":\"ColumnDataSource\"},{\"attributes\":{\"dimension\":1,\"grid_line_width\":{\"value\":5},\"plot\":{\"id\":\"61079\",\"subtype\":\"Figure\",\"type\":\"Plot\"},\"ticker\":{\"id\":\"61094\",\"type\":\"BasicTicker\"}},\"id\":\"61097\",\"type\":\"Grid\"},{\"attributes\":{\"data_source\":{\"id\":\"61160\",\"type\":\"ColumnDataSource\"},\"glyph\":{\"id\":\"61161\",\"type\":\"Quad\"},\"hover_glyph\":null,\"muted_glyph\":null,\"nonselection_glyph\":{\"id\":\"61162\",\"type\":\"Quad\"},\"selection_glyph\":null,\"view\":{\"id\":\"61164\",\"type\":\"CDSView\"}},\"id\":\"61163\",\"type\":\"GlyphRenderer\"},{\"attributes\":{\"bottom\":{\"value\":0},\"fill_alpha\":{\"value\":0.7},\"fill_color\":{\"value\":\"#ff7f0e\"},\"left\":{\"field\":\"left\"},\"line_alpha\":{\"value\":0.7},\"line_color\":{\"value\":\"white\"},\"right\":{\"field\":\"right\"},\"top\":{\"field\":\"top\"}},\"id\":\"61129\",\"type\":\"Quad\"},{\"attributes\":{\"bottom\":{\"value\":0},\"fill_alpha\":{\"value\":0.1},\"fill_color\":{\"value\":\"#1f77b4\"},\"left\":{\"field\":\"left\"},\"line_alpha\":{\"value\":0.1},\"line_color\":{\"value\":\"#1f77b4\"},\"right\":{\"field\":\"right\"},\"top\":{\"field\":\"top\"}},\"id\":\"61116\",\"type\":\"Quad\"},{\"attributes\":{\"source\":{\"id\":\"61160\",\"type\":\"ColumnDataSource\"}},\"id\":\"61164\",\"type\":\"CDSView\"},{\"attributes\":{\"bottom\":{\"value\":0},\"fill_alpha\":{\"value\":0.1},\"fill_color\":{\"value\":\"#1f77b4\"},\"left\":{\"field\":\"left\"},\"line_alpha\":{\"value\":0.1},\"line_color\":{\"value\":\"#1f77b4\"},\"right\":{\"field\":\"right\"},\"top\":{\"field\":\"top\"}},\"id\":\"61130\",\"type\":\"Quad\"},{\"attributes\":{\"callback\":null,\"data\":{\"x\":[0],\"y\":[0]},\"selected\":{\"id\":\"62426\",\"type\":\"Selection\"},\"selection_policy\":{\"id\":\"62427\",\"type\":\"UnionRenderers\"}},\"id\":\"61179\",\"type\":\"ColumnDataSource\"},{\"attributes\":{},\"id\":\"61175\",\"type\":\"Selection\"},{\"attributes\":{\"data_source\":{\"id\":\"61128\",\"type\":\"ColumnDataSource\"},\"glyph\":{\"id\":\"61129\",\"type\":\"Quad\"},\"hover_glyph\":null,\"muted_glyph\":null,\"nonselection_glyph\":{\"id\":\"61130\",\"type\":\"Quad\"},\"selection_glyph\":null,\"view\":{\"id\":\"61132\",\"type\":\"CDSView\"}},\"id\":\"61131\",\"type\":\"GlyphRenderer\"},{\"attributes\":{\"active_drag\":\"auto\",\"active_inspect\":\"auto\",\"active_multi\":null,\"active_scroll\":\"auto\",\"active_tap\":\"auto\",\"tools\":[{\"id\":\"61098\",\"type\":\"PanTool\"},{\"id\":\"61099\",\"type\":\"WheelZoomTool\"},{\"id\":\"61100\",\"type\":\"BoxZoomTool\"},{\"id\":\"61101\",\"type\":\"SaveTool\"},{\"id\":\"61102\",\"type\":\"ResetTool\"},{\"id\":\"61103\",\"type\":\"HelpTool\"}]},\"id\":\"61104\",\"type\":\"Toolbar\"},{\"attributes\":{},\"id\":\"61098\",\"type\":\"PanTool\"},{\"attributes\":{},\"id\":\"61176\",\"type\":\"UnionRenderers\"},{\"attributes\":{\"source\":{\"id\":\"61128\",\"type\":\"ColumnDataSource\"}},\"id\":\"61132\",\"type\":\"CDSView\"},{\"attributes\":{\"label\":{\"value\":\"\\u03bb = 3e-03\"},\"renderers\":[{\"id\":\"61163\",\"type\":\"GlyphRenderer\"}]},\"id\":\"61178\",\"type\":\"LegendItem\"},{\"attributes\":{},\"id\":\"61099\",\"type\":\"WheelZoomTool\"},{\"attributes\":{},\"id\":\"61139\",\"type\":\"Selection\"},{\"attributes\":{\"glyph_height\":160,\"glyph_width\":160,\"items\":[{\"id\":\"61127\",\"type\":\"LegendItem\"},{\"id\":\"61142\",\"type\":\"LegendItem\"},{\"id\":\"61159\",\"type\":\"LegendItem\"},{\"id\":\"61178\",\"type\":\"LegendItem\"},{\"id\":\"61199\",\"type\":\"LegendItem\"}],\"label_text_font_size\":{\"value\":\"190pt\"},\"location\":\"top_left\",\"plot\":{\"id\":\"61079\",\"subtype\":\"Figure\",\"type\":\"Plot\"}},\"id\":\"61126\",\"type\":\"Legend\"},{\"attributes\":{\"overlay\":{\"id\":\"61106\",\"type\":\"BoxAnnotation\"}},\"id\":\"61100\",\"type\":\"BoxZoomTool\"},{\"attributes\":{},\"id\":\"61140\",\"type\":\"UnionRenderers\"},{\"attributes\":{\"line_width\":30,\"x\":{\"field\":\"x\"},\"y\":{\"field\":\"y\"}},\"id\":\"61180\",\"type\":\"Line\"},{\"attributes\":{},\"id\":\"61101\",\"type\":\"SaveTool\"},{\"attributes\":{\"dimension\":\"height\",\"line_width\":{\"value\":30},\"location\":0.12422871175594184,\"plot\":null},\"id\":\"61113\",\"type\":\"Span\"},{\"attributes\":{\"label\":{\"value\":\"\\u03bb = 4e-05\"},\"renderers\":[{\"id\":\"61131\",\"type\":\"GlyphRenderer\"}]},\"id\":\"61142\",\"type\":\"LegendItem\"},{\"attributes\":{\"line_alpha\":0.1,\"line_color\":\"#1f77b4\",\"line_width\":30,\"x\":{\"field\":\"x\"},\"y\":{\"field\":\"y\"}},\"id\":\"61181\",\"type\":\"Line\"},{\"attributes\":{},\"id\":\"61102\",\"type\":\"ResetTool\"},{\"attributes\":{\"callback\":null,\"data\":{\"left\":{\"__ndarray__\":\"AAAAAAAAAAC6AUE7DZ1bP7oBQTsNnWs/TMFw7Mm1dD+6AUE7DZ17PxShCEUoQoE/TMFw7Mm1hD+D4diTaymIP7oBQTsNnYs/8SGp4q4Qjz8UoQhFKEKRPzCxvBj5+5I/TMFw7Mm1lD9n0STAmm+WP4Ph2JNrKZg/nvGMZzzjmT+6AUE7DZ2bP9YR9Q7eVp0/8SGp4q4Qnz8GmS7bP2WgPxShCEUoQqE/IqnirhAfoj8wsbwY+fuiPz65loLh2KM/TMFw7Mm1pD9ZyUpWspKlP2fRJMCab6Y/ddn+KYNMpz+D4diTaymoP5Hpsv1TBqk/nvGMZzzjqT+s+WbRJMCqP7oBQTsNnas/yAkbpfV5rD/WEfUO3latP+MZz3jGM64/8SGp4q4Qrz//KYNMl+2vPwaZLts/ZbA/DZ0bELTTsD8UoQhFKEKxPxul9XmcsLE/IqnirhAfsj8prc/jhI2yPzCxvBj5+7I/N7WpTW1qsz8+uZaC4dizP0W9g7dVR7Q/TMFw7Mm1tD9SxV0hPiS1P1nJSlaykrU/YM03iyYBtj9n0STAmm+2P27VEfUO3rY/ddn+KYNMtz983ete97q3P4Ph2JNrKbg/iuXFyN+XuD+R6bL9Uwa5P5ftnzLIdLk/nvGMZzzjuT+l9XmcsFG6P6z5ZtEkwLo/s/1TBpkuuz+6AUE7DZ27P8EFLnCBC7w/yAkbpfV5vD/PDQjaaei8P9YR9Q7eVr0/3RXiQ1LFvT/jGc94xjO+P+odvK06or4/8SGp4q4Qvz/4JZYXI3+/P/8pg0yX7b8/Axe4wAUuwD8GmS7bP2XAPwobpfV5nMA/DZ0bELTTwD8RH5Iq7grBPxShCEUoQsE/GCN/X2J5wT8bpfV5nLDBPx8nbJTW58E/IqnirhAfwj8mK1nJSlbCPymtz+OEjcI/LC9G/r7Ewj8wsbwY+fvCPw==\",\"dtype\":\"float64\",\"shape\":[89]},\"right\":{\"__ndarray__\":\"ugFBOw2dWz+6AUE7DZ1rP0zBcOzJtXQ/ugFBOw2dez8UoQhFKEKBP0zBcOzJtYQ/g+HYk2spiD+6AUE7DZ2LP/EhqeKuEI8/FKEIRShCkT8wsbwY+fuSP0zBcOzJtZQ/Z9EkwJpvlj+D4diTaymYP57xjGc845k/ugFBOw2dmz/WEfUO3ladP/EhqeKuEJ8/Bpku2z9loD8UoQhFKEKhPyKp4q4QH6I/MLG8GPn7oj8+uZaC4dijP0zBcOzJtaQ/WclKVrKSpT9n0STAmm+mP3XZ/imDTKc/g+HYk2spqD+R6bL9UwapP57xjGc846k/rPlm0STAqj+6AUE7DZ2rP8gJG6X1eaw/1hH1Dt5WrT/jGc94xjOuP/EhqeKuEK8//ymDTJftrz8GmS7bP2WwPw2dGxC007A/FKEIRShCsT8bpfV5nLCxPyKp4q4QH7I/Ka3P44SNsj8wsbwY+fuyPze1qU1tarM/PrmWguHYsz9FvYO3VUe0P0zBcOzJtbQ/UsVdIT4ktT9ZyUpWspK1P2DNN4smAbY/Z9EkwJpvtj9u1RH1Dt62P3XZ/imDTLc/fN3rXve6tz+D4diTaym4P4rlxcjfl7g/kemy/VMGuT+X7Z8yyHS5P57xjGc847k/pfV5nLBRuj+s+WbRJMC6P7P9UwaZLrs/ugFBOw2duz/BBS5wgQu8P8gJG6X1ebw/zw0I2mnovD/WEfUO3la9P90V4kNSxb0/4xnPeMYzvj/qHbytOqK+P/EhqeKuEL8/+CWWFyN/vz//KYNMl+2/PwMXuMAFLsA/Bpku2z9lwD8KG6X1eZzAPw2dGxC008A/ER+SKu4KwT8UoQhFKELBPxgjf19iecE/G6X1eZywwT8fJ2yU1ufBPyKp4q4QH8I/JitZyUpWwj8prc/jhI3CPywvRv6+xMI/MLG8GPn7wj8zMzMzMzPDPw==\",\"dtype\":\"float64\",\"shape\":[89]},\"top\":{\"__ndarray__\":\"AAAAAAAAAAAAAAAAAAAAAAAAAAAAAAAAAAAAAAAAAAAAAAAAAAAAAAAAAAAAAAAAAAAAAAAAAAAAAAAAAAAAAAAAAAAAAAAAAAAAAAAAAAAAAAAAAAAAAAAAAAAAAAAAAAAAAAAAAAAAAAAAAAAAAAAAAAAAAAAAAAAAAAAAAAAAAAAAAAAAAAAAAAAAAAAAAAAAAAAAAAAAAAAAAAAAAAAAAAAAAAAAAAAAAAAAAAAAAAAAAAAAAAAAAAAAAAAAAAAAAAAAAAAAAAAAAAAAAAAAAAAAAAAAAAAAAAAAAAAAAAAAAAAAAAAAAAAAAAAAAAAAAAAAAAAAAAAAAAAAAAAAAAAAAAAAAAAAAAAAAAAAAAAAAAAAAAAAAAAAAAAAAAAAAAAAAAAAAAAAAAAAAAAAAAAAAAAAAAAAAAAAAAAAAAAAAAAAAAAAAAAAAAAAAAAAAAAAAAAAAAAAAAAAAAAAAAAAAAAAAAAAAAAAAAAAAAAAAAAAAAAAAAAAAAAAAAAAAAAAAAAAAAAAAAAAAAAAAAAAAAAAAAAAAAAAAAAAAAAAAAAAAAAAAAAAAAAAAAAAAAAAAAAAAAAAAAAAAAAAAAAAAAAAAAAAAAAAAAAAAAAAAAAAAAAAAAAAAAAAAAAAAAAAAADxaOOItfjkPvFo44i1+AQ/vqQxWkdVQz9BmrFoOjtpP6pla32R0IY/pI0j1uJToD8/NV66SQyyP6HWNO84Rb8/7yB2ptB5xT/AeAYN/RPIP04oRMAhVMU/dxA7U+i8vj+k/KTap+OxP+uoaoKo+6A/7YFWYMjqhj8g0m9fB85pP3aJ6q2BrUI/LUMc6+I2Cj8AAAAAAAAAAAAAAAAAAAAAAAAAAAAAAAAAAAAAAAAAAAAAAAAAAAAAAAAAAAAAAAAAAAAAAAAAAAAAAAAAAAAAAAAAAAAAAAAAAAAAAAAAAA==\",\"dtype\":\"float64\",\"shape\":[89]}},\"selected\":{\"id\":\"61175\",\"type\":\"Selection\"},\"selection_policy\":{\"id\":\"61176\",\"type\":\"UnionRenderers\"}},\"id\":\"61143\",\"type\":\"ColumnDataSource\"},{\"attributes\":{\"data_source\":{\"id\":\"61179\",\"type\":\"ColumnDataSource\"},\"glyph\":{\"id\":\"61180\",\"type\":\"Line\"},\"hover_glyph\":null,\"muted_glyph\":null,\"nonselection_glyph\":{\"id\":\"61181\",\"type\":\"Line\"},\"selection_glyph\":null,\"view\":{\"id\":\"61183\",\"type\":\"CDSView\"}},\"id\":\"61182\",\"type\":\"GlyphRenderer\"},{\"attributes\":{\"bottom\":{\"value\":0},\"fill_alpha\":{\"value\":0.7},\"fill_color\":{\"value\":\"#d62728\"},\"left\":{\"field\":\"left\"},\"line_alpha\":{\"value\":0.7},\"line_color\":{\"value\":\"white\"},\"right\":{\"field\":\"right\"},\"top\":{\"field\":\"top\"}},\"id\":\"61115\",\"type\":\"Quad\"},{\"attributes\":{},\"id\":\"61103\",\"type\":\"HelpTool\"},{\"attributes\":{\"bottom\":{\"value\":0},\"fill_alpha\":{\"value\":0.7},\"fill_color\":{\"value\":\"#2ca02c\"},\"left\":{\"field\":\"left\"},\"line_alpha\":{\"value\":0.7},\"line_color\":{\"value\":\"white\"},\"right\":{\"field\":\"right\"},\"top\":{\"field\":\"top\"}},\"id\":\"61144\",\"type\":\"Quad\"},{\"attributes\":{\"source\":{\"id\":\"61179\",\"type\":\"ColumnDataSource\"}},\"id\":\"61183\",\"type\":\"CDSView\"},{\"attributes\":{\"callback\":null,\"end\":0.14,\"start\":0.04},\"id\":\"61080\",\"type\":\"Range1d\"},{\"attributes\":{\"bottom\":{\"value\":0},\"fill_alpha\":{\"value\":0.1},\"fill_color\":{\"value\":\"#1f77b4\"},\"left\":{\"field\":\"left\"},\"line_alpha\":{\"value\":0.1},\"line_color\":{\"value\":\"#1f77b4\"},\"right\":{\"field\":\"right\"},\"top\":{\"field\":\"top\"}},\"id\":\"61145\",\"type\":\"Quad\"},{\"attributes\":{},\"id\":\"61196\",\"type\":\"Selection\"},{\"attributes\":{\"callback\":null},\"id\":\"61082\",\"type\":\"DataRange1d\"},{\"attributes\":{\"data_source\":{\"id\":\"61143\",\"type\":\"ColumnDataSource\"},\"glyph\":{\"id\":\"61144\",\"type\":\"Quad\"},\"hover_glyph\":null,\"muted_glyph\":null,\"nonselection_glyph\":{\"id\":\"61145\",\"type\":\"Quad\"},\"selection_glyph\":null,\"view\":{\"id\":\"61147\",\"type\":\"CDSView\"}},\"id\":\"61146\",\"type\":\"GlyphRenderer\"}],\"root_ids\":[\"61079\"]},\"title\":\"Bokeh Application\",\"version\":\"1.0.2\"}};\n",
       "  var render_items = [{\"docid\":\"e9d1f9ab-4f52-4e69-b965-eba520deb44d\",\"roots\":{\"61079\":\"7a173356-a057-4733-94cf-d0bbbe1e8ed5\"}}];\n",
       "  root.Bokeh.embed.embed_items_notebook(docs_json, render_items);\n",
       "\n",
       "  }\n",
       "  if (root.Bokeh !== undefined) {\n",
       "    embed_document(root);\n",
       "  } else {\n",
       "    var attempts = 0;\n",
       "    var timer = setInterval(function(root) {\n",
       "      if (root.Bokeh !== undefined) {\n",
       "        embed_document(root);\n",
       "        clearInterval(timer);\n",
       "      }\n",
       "      attempts++;\n",
       "      if (attempts > 100) {\n",
       "        console.log(\"Bokeh: ERROR: Unable to run BokehJS code because BokehJS library is missing\");\n",
       "        clearInterval(timer);\n",
       "      }\n",
       "    }, 10, root)\n",
       "  }\n",
       "})(window);"
      ],
      "application/vnd.bokehjs_exec.v0+json": ""
     },
     "metadata": {
      "application/vnd.bokehjs_exec.v0+json": {
       "id": "61079"
      }
     },
     "output_type": "display_data"
    },
    {
     "data": {
      "text/html": [
       "\n",
       "\n",
       "\n",
       "\n",
       "\n",
       "\n",
       "  <div class=\"bk-root\" id=\"4216011b-ac71-4d45-950e-eceb3e1cc319\"></div>\n"
      ]
     },
     "metadata": {},
     "output_type": "display_data"
    },
    {
     "data": {
      "application/javascript": [
       "(function(root) {\n",
       "  function embed_document(root) {\n",
       "    \n",
       "  var docs_json = {\"e1dd8b2e-8dfc-4ff6-9188-17d66e4eb875\":{\"roots\":{\"references\":[{\"attributes\":{\"below\":[{\"id\":\"62540\",\"type\":\"LogAxis\"}],\"height\":6000,\"left\":[{\"id\":\"62545\",\"type\":\"LinearAxis\"}],\"renderers\":[{\"id\":\"62540\",\"type\":\"LogAxis\"},{\"id\":\"62544\",\"type\":\"Grid\"},{\"id\":\"62545\",\"type\":\"LinearAxis\"},{\"id\":\"62549\",\"type\":\"Grid\"},{\"id\":\"62558\",\"type\":\"BoxAnnotation\"},{\"id\":\"62577\",\"type\":\"Legend\"},{\"id\":\"62568\",\"type\":\"GlyphRenderer\"},{\"id\":\"62582\",\"type\":\"GlyphRenderer\"},{\"id\":\"62587\",\"type\":\"GlyphRenderer\"}],\"title\":{\"id\":\"62570\",\"type\":\"Title\"},\"toolbar\":{\"id\":\"62556\",\"type\":\"Toolbar\"},\"width\":6000,\"x_range\":{\"id\":\"62532\",\"type\":\"DataRange1d\"},\"x_scale\":{\"id\":\"62536\",\"type\":\"LogScale\"},\"y_range\":{\"id\":\"62534\",\"type\":\"DataRange1d\"},\"y_scale\":{\"id\":\"62538\",\"type\":\"LinearScale\"}},\"id\":\"62531\",\"subtype\":\"Figure\",\"type\":\"Plot\"},{\"attributes\":{\"code\":\"\\nvar trns = [\\n'\\u2070',\\n'\\u00b9',\\n'\\u00b2',\\n'\\u00b3',\\n'\\u2074',\\n'\\u2075',\\n'\\u2076',\\n'\\u2077',\\n'\\u2078',\\n'\\u2079'];\\nvar tick_power = Math.floor(Math.log10(tick));\\nvar tick_mult = Math.pow(10, Math.log10(tick) - tick_power);\\nvar ret = '';\\nif (tick_mult > 1.) {\\n  if (Math.abs(tick_mult - Math.round(tick_mult)) > 0.05){\\n    ret = tick_mult.toFixed(1) + '\\u22c5';\\n  } else {\\n    ret = tick_mult.toFixed(0) +'\\u22c5';\\n  }\\n}\\nret += '10';\\nif (tick_power < 0){\\n  ret += '\\u207b';\\n  tick_power = -tick_power;\\n}\\npower_digits = []\\nwhile (tick_power > 9){\\n  power_digits.push( tick_power - Math.floor(tick_power/10)*10 )\\n  tick_power = Math.floor(tick_power/10)\\n}\\npower_digits.push(tick_power)\\nfor (i = power_digits.length-1; i >= 0; i--){\\n  ret += trns[power_digits[i]];\\n}\\nreturn ret;\\n\"},\"id\":\"52975\",\"type\":\"FuncTickFormatter\"},{\"attributes\":{\"overlay\":{\"id\":\"62558\",\"type\":\"BoxAnnotation\"}},\"id\":\"62552\",\"type\":\"BoxZoomTool\"},{\"attributes\":{\"line_alpha\":0.1,\"line_color\":\"#1f77b4\",\"line_width\":30,\"x\":{\"field\":\"x\"},\"y\":{\"field\":\"y\"}},\"id\":\"62581\",\"type\":\"Line\"},{\"attributes\":{},\"id\":\"62553\",\"type\":\"SaveTool\"},{\"attributes\":{\"data_source\":{\"id\":\"62579\",\"type\":\"ColumnDataSource\"},\"glyph\":{\"id\":\"62580\",\"type\":\"Line\"},\"hover_glyph\":null,\"muted_glyph\":null,\"nonselection_glyph\":{\"id\":\"62581\",\"type\":\"Line\"},\"selection_glyph\":null,\"view\":{\"id\":\"62583\",\"type\":\"CDSView\"}},\"id\":\"62582\",\"type\":\"GlyphRenderer\"},{\"attributes\":{\"callback\":null,\"data\":{\"x\":{\"__ndarray__\":\"SK+8mvLXej59S+RUelmPPjZgy/pRTqI+lHvsKfhgtT61oluCqvfIPviiSGiTKN0+mW7n4MoG8T5MkThtduIDPw==\",\"dtype\":\"float64\",\"shape\":[8]},\"y\":{\"__ndarray__\":\"AAAAAACgg0AAAAAAAKCDQAAAAAAAoINAAAAAAACgg0AAAAAAAKCDQAAAAAAAGINAAAAAAADwfEAAAAAAAKByQA==\",\"dtype\":\"float64\",\"shape\":[8]}},\"selected\":{\"id\":\"62595\",\"type\":\"Selection\"},\"selection_policy\":{\"id\":\"62596\",\"type\":\"UnionRenderers\"}},\"id\":\"62565\",\"type\":\"ColumnDataSource\"},{\"attributes\":{},\"id\":\"62595\",\"type\":\"Selection\"},{\"attributes\":{},\"id\":\"62546\",\"type\":\"BasicTicker\"},{\"attributes\":{\"source\":{\"id\":\"62579\",\"type\":\"ColumnDataSource\"}},\"id\":\"62583\",\"type\":\"CDSView\"},{\"attributes\":{\"axis_label\":\"# Swappable Pairs\",\"axis_label_text_font_size\":{\"value\":\"190pt\"},\"formatter\":{\"id\":\"62574\",\"type\":\"BasicTickFormatter\"},\"major_label_text_font_size\":{\"value\":\"190pt\"},\"plot\":{\"id\":\"62531\",\"subtype\":\"Figure\",\"type\":\"Plot\"},\"ticker\":{\"id\":\"62546\",\"type\":\"BasicTicker\"}},\"id\":\"62545\",\"type\":\"LinearAxis\"},{\"attributes\":{\"grid_line_width\":{\"value\":5},\"plot\":{\"id\":\"62531\",\"subtype\":\"Figure\",\"type\":\"Plot\"},\"ticker\":{\"id\":\"62541\",\"type\":\"LogTicker\"}},\"id\":\"62544\",\"type\":\"Grid\"},{\"attributes\":{\"line_color\":\"#1f77b4\",\"line_width\":30,\"x\":{\"field\":\"x\"},\"y\":{\"field\":\"y\"}},\"id\":\"62585\",\"type\":\"Line\"},{\"attributes\":{},\"id\":\"62598\",\"type\":\"UnionRenderers\"},{\"attributes\":{\"line_color\":\"#d62728\",\"line_width\":30,\"x\":{\"field\":\"x\"},\"y\":{\"field\":\"y\"}},\"id\":\"62566\",\"type\":\"Line\"},{\"attributes\":{\"num_minor_ticks\":10},\"id\":\"62541\",\"type\":\"LogTicker\"},{\"attributes\":{\"line_alpha\":0.1,\"line_color\":\"#1f77b4\",\"line_width\":30,\"x\":{\"field\":\"x\"},\"y\":{\"field\":\"y\"}},\"id\":\"62586\",\"type\":\"Line\"},{\"attributes\":{\"axis_label\":\"Premetric Weight \\u03bb\",\"axis_label_text_font_size\":{\"value\":\"190pt\"},\"formatter\":{\"id\":\"52975\",\"type\":\"FuncTickFormatter\"},\"major_label_text_font_size\":{\"value\":\"190pt\"},\"plot\":{\"id\":\"62531\",\"subtype\":\"Figure\",\"type\":\"Plot\"},\"ticker\":{\"id\":\"62541\",\"type\":\"LogTicker\"}},\"id\":\"62540\",\"type\":\"LogAxis\"},{\"attributes\":{\"data_source\":{\"id\":\"62584\",\"type\":\"ColumnDataSource\"},\"glyph\":{\"id\":\"62585\",\"type\":\"Line\"},\"hover_glyph\":null,\"muted_glyph\":null,\"nonselection_glyph\":{\"id\":\"62586\",\"type\":\"Line\"},\"selection_glyph\":null,\"view\":{\"id\":\"62588\",\"type\":\"CDSView\"}},\"id\":\"62587\",\"type\":\"GlyphRenderer\"},{\"attributes\":{},\"id\":\"62555\",\"type\":\"HelpTool\"},{\"attributes\":{},\"id\":\"62538\",\"type\":\"LinearScale\"},{\"attributes\":{\"source\":{\"id\":\"62584\",\"type\":\"ColumnDataSource\"}},\"id\":\"62588\",\"type\":\"CDSView\"},{\"attributes\":{},\"id\":\"63840\",\"type\":\"Selection\"},{\"attributes\":{},\"id\":\"62536\",\"type\":\"LogScale\"},{\"attributes\":{\"label\":{\"value\":\"Not Rejected\"},\"renderers\":[{\"id\":\"62587\",\"type\":\"GlyphRenderer\"}]},\"id\":\"62600\",\"type\":\"LegendItem\"},{\"attributes\":{\"callback\":null},\"id\":\"62532\",\"type\":\"DataRange1d\"},{\"attributes\":{},\"id\":\"62554\",\"type\":\"ResetTool\"},{\"attributes\":{},\"id\":\"62596\",\"type\":\"UnionRenderers\"},{\"attributes\":{\"line_alpha\":0.1,\"line_color\":\"#1f77b4\",\"line_width\":30,\"x\":{\"field\":\"x\"},\"y\":{\"field\":\"y\"}},\"id\":\"62567\",\"type\":\"Line\"},{\"attributes\":{\"callback\":null},\"id\":\"62534\",\"type\":\"DataRange1d\"},{\"attributes\":{},\"id\":\"62597\",\"type\":\"Selection\"},{\"attributes\":{\"dimension\":1,\"grid_line_width\":{\"value\":5},\"plot\":{\"id\":\"62531\",\"subtype\":\"Figure\",\"type\":\"Plot\"},\"ticker\":{\"id\":\"62546\",\"type\":\"BasicTicker\"}},\"id\":\"62549\",\"type\":\"Grid\"},{\"attributes\":{\"glyph_height\":160,\"glyph_width\":160,\"items\":[{\"id\":\"62578\",\"type\":\"LegendItem\"},{\"id\":\"62600\",\"type\":\"LegendItem\"}],\"label_text_font_size\":{\"value\":\"190pt\"},\"plot\":{\"id\":\"62531\",\"subtype\":\"Figure\",\"type\":\"Plot\"}},\"id\":\"62577\",\"type\":\"Legend\"},{\"attributes\":{\"data_source\":{\"id\":\"62565\",\"type\":\"ColumnDataSource\"},\"glyph\":{\"id\":\"62566\",\"type\":\"Line\"},\"hover_glyph\":null,\"muted_glyph\":null,\"nonselection_glyph\":{\"id\":\"62567\",\"type\":\"Line\"},\"selection_glyph\":null,\"view\":{\"id\":\"62569\",\"type\":\"CDSView\"}},\"id\":\"62568\",\"type\":\"GlyphRenderer\"},{\"attributes\":{},\"id\":\"62574\",\"type\":\"BasicTickFormatter\"},{\"attributes\":{\"label\":{\"value\":\"Rejected\"},\"renderers\":[{\"id\":\"62568\",\"type\":\"GlyphRenderer\"}]},\"id\":\"62578\",\"type\":\"LegendItem\"},{\"attributes\":{\"callback\":null,\"data\":{\"x\":{\"__ndarray__\":\"ysSvjvM4Fz9Sle4T4B4rP/SeWrtPrD8/bwPydLB+Uj85SDEsdZllP2PxIfSiOXk/QaErwp51jT9FqzPxxzOhP0B1ycAAF7Q/DHhcqk92xz/pJuX1iGbbPwAAAAAAAPA/\",\"dtype\":\"float64\",\"shape\":[12]},\"y\":{\"__ndarray__\":\"AAAAAADAZkAAAAAAAIBZQAAAAAAAgE5AAAAAAAAAQEAAAAAAAAAzQAAAAAAAACxAAAAAAAAAJkAAAAAAAAAkQAAAAAAAACRAAAAAAAAAJEAAAAAAAAAkQAAAAAAAACRA\",\"dtype\":\"float64\",\"shape\":[12]}},\"selected\":{\"id\":\"63840\",\"type\":\"Selection\"},\"selection_policy\":{\"id\":\"63841\",\"type\":\"UnionRenderers\"}},\"id\":\"62584\",\"type\":\"ColumnDataSource\"},{\"attributes\":{\"plot\":null,\"text\":\"\",\"text_font_size\":{\"value\":\"190pt\"}},\"id\":\"62570\",\"type\":\"Title\"},{\"attributes\":{\"callback\":null,\"data\":{\"x\":[3.792690190732254e-05,8.858667904100833e-05],\"y\":[298.0,182.0]},\"selected\":{\"id\":\"62597\",\"type\":\"Selection\"},\"selection_policy\":{\"id\":\"62598\",\"type\":\"UnionRenderers\"}},\"id\":\"62579\",\"type\":\"ColumnDataSource\"},{\"attributes\":{\"line_color\":\"#d62728\",\"line_width\":30,\"x\":{\"field\":\"x\"},\"y\":{\"field\":\"y\"}},\"id\":\"62580\",\"type\":\"Line\"},{\"attributes\":{},\"id\":\"63841\",\"type\":\"UnionRenderers\"},{\"attributes\":{\"source\":{\"id\":\"62565\",\"type\":\"ColumnDataSource\"}},\"id\":\"62569\",\"type\":\"CDSView\"},{\"attributes\":{},\"id\":\"62550\",\"type\":\"PanTool\"},{\"attributes\":{\"active_drag\":\"auto\",\"active_inspect\":\"auto\",\"active_multi\":null,\"active_scroll\":\"auto\",\"active_tap\":\"auto\",\"tools\":[{\"id\":\"62550\",\"type\":\"PanTool\"},{\"id\":\"62551\",\"type\":\"WheelZoomTool\"},{\"id\":\"62552\",\"type\":\"BoxZoomTool\"},{\"id\":\"62553\",\"type\":\"SaveTool\"},{\"id\":\"62554\",\"type\":\"ResetTool\"},{\"id\":\"62555\",\"type\":\"HelpTool\"}]},\"id\":\"62556\",\"type\":\"Toolbar\"},{\"attributes\":{},\"id\":\"62551\",\"type\":\"WheelZoomTool\"},{\"attributes\":{\"bottom_units\":\"screen\",\"fill_alpha\":{\"value\":0.5},\"fill_color\":{\"value\":\"lightgrey\"},\"left_units\":\"screen\",\"level\":\"overlay\",\"line_alpha\":{\"value\":1.0},\"line_color\":{\"value\":\"black\"},\"line_dash\":[4,4],\"line_width\":{\"value\":2},\"plot\":null,\"render_mode\":\"css\",\"right_units\":\"screen\",\"top_units\":\"screen\"},\"id\":\"62558\",\"type\":\"BoxAnnotation\"}],\"root_ids\":[\"62531\"]},\"title\":\"Bokeh Application\",\"version\":\"1.0.2\"}};\n",
       "  var render_items = [{\"docid\":\"e1dd8b2e-8dfc-4ff6-9188-17d66e4eb875\",\"roots\":{\"62531\":\"4216011b-ac71-4d45-950e-eceb3e1cc319\"}}];\n",
       "  root.Bokeh.embed.embed_items_notebook(docs_json, render_items);\n",
       "\n",
       "  }\n",
       "  if (root.Bokeh !== undefined) {\n",
       "    embed_document(root);\n",
       "  } else {\n",
       "    var attempts = 0;\n",
       "    var timer = setInterval(function(root) {\n",
       "      if (root.Bokeh !== undefined) {\n",
       "        embed_document(root);\n",
       "        clearInterval(timer);\n",
       "      }\n",
       "      attempts++;\n",
       "      if (attempts > 100) {\n",
       "        console.log(\"Bokeh: ERROR: Unable to run BokehJS code because BokehJS library is missing\");\n",
       "        clearInterval(timer);\n",
       "      }\n",
       "    }, 10, root)\n",
       "  }\n",
       "})(window);"
      ],
      "application/vnd.bokehjs_exec.v0+json": ""
     },
     "metadata": {
      "application/vnd.bokehjs_exec.v0+json": {
       "id": "62531"
      }
     },
     "output_type": "display_data"
    }
   ],
   "source": [
    "#create a figure with a vertical line at the actual observed data statistic\n",
    "fig = bkp.figure(x_axis_label='Test Statistic Value', y_axis_label='Density', x_range=(0.04,0.14))\n",
    "vline = Span(location=S, dimension='height', line_color='black')\n",
    "fig.renderers.append(vline)\n",
    "\n",
    "weights = np.logspace(-7, 0, 20)\n",
    "colors = np.array(bkpal.Category10[10])[[3, 1, 2, 0]]\n",
    "\n",
    "#for each weight setting, plot the histogram of permuted data test statistics\n",
    "for i, n in enumerate([3, 7, 9, 12]):\n",
    "    hist, edges = np.histogram(S_vals[n,:], bins=np.linspace(0, 0.15, 90))\n",
    "    fig.quad(top=hist/N_samples, bottom=0, left=edges[:-1], right=edges[1:],\n",
    "               fill_color=colors[i], line_color=\"white\", alpha=0.7, legend='\\u03BB = %0.0e' % weights[n])\n",
    "fig.line([0],[0], line_color='black', legend='Observed')\n",
    "fig.legend.location = 'top_left'\n",
    "bkp.show(fig)\n",
    "\n",
    "#plot the number of valid pairs to swap for each weight setting\n",
    "fig = bkp.figure(x_axis_label='Premetric Weight \\u03BB', y_axis_label='# Swappable Pairs', x_axis_type='log')\n",
    "fig.line(weights[rejections], n_pairs[rejections], line_color=colors[0], legend='Rejected')\n",
    "fig.line([weights[rejections][-1], weights[~rejections][0]], \n",
    "         [n_pairs[rejections][-1], n_pairs[~rejections][0]], \n",
    "        line_color=colors[0])\n",
    "fig.line(weights[~rejections], n_pairs[~rejections], line_color=colors[3], legend='Not Rejected')\n",
    "fig.xaxis.formatter = logFmtr\n",
    "bkp.show(fig)"
   ]
  },
  {
   "cell_type": "markdown",
   "metadata": {},
   "source": [
    "# Local Estimation"
   ]
  },
  {
   "cell_type": "markdown",
   "metadata": {},
   "source": [
    "### Premetric"
   ]
  },
  {
   "cell_type": "code",
   "execution_count": 87,
   "metadata": {},
   "outputs": [],
   "source": [
    "#covariate = 'CrashHour'\n",
    "def premetric(x1, x2, weight):\n",
    "    return min(1, weight*min(np.fabs(x1-x2), 24 - np.fabs(x1-x2)))"
   ]
  },
  {
   "cell_type": "markdown",
   "metadata": {},
   "source": [
    "### Local Empirical Measure"
   ]
  },
  {
   "cell_type": "code",
   "execution_count": 88,
   "metadata": {},
   "outputs": [],
   "source": [
    "def empirical_msr(x, X, premetric):\n",
    "    b = np.zeros(X.shape[0])\n",
    "    for n in range(X.shape[0]):\n",
    "        b[n] = premetric(x, X[n])\n",
    "    idcs = np.argsort(b)\n",
    "    c1 = 1. + 2*np.cumsum(b[idcs])\n",
    "    c2 = 2*(1.+np.arange(b.shape[0]))*b[idcs]\n",
    "    M = (c1 > c2).sum()\n",
    "    mu = (1.+2*b[idcs][:M].sum())/M\n",
    "    w = np.maximum(-2*b + mu, 0)\n",
    "    return w"
   ]
  },
  {
   "cell_type": "markdown",
   "metadata": {},
   "source": [
    "### Estimation"
   ]
  },
  {
   "cell_type": "code",
   "execution_count": 89,
   "metadata": {},
   "outputs": [
    {
     "name": "stdout",
     "output_type": "stream",
     "text": [
      "weight iteration 1/8\n",
      "weight iteration 2/8\n",
      "weight iteration 3/8\n",
      "weight iteration 4/8\n",
      "weight iteration 5/8\n",
      "weight iteration 6/8\n",
      "weight iteration 7/8\n",
      "weight iteration 8/8\n"
     ]
    }
   ],
   "source": [
    "weights = np.logspace(-7, 0, 8)\n",
    "times = np.linspace(0, 23, 50)\n",
    "ests = np.zeros((weights.shape[0], times.shape[0]))\n",
    "n_active = np.zeros(weights.shape[0])\n",
    "Ybin = np.zeros(Y.shape[0])\n",
    "severe = (Y == 'Serious') | (Y == 'Killed') \n",
    "Ybin[severe] = 1\n",
    "for n in range(weights.shape[0]):\n",
    "    print('weight iteration ' + str(n+1)+'/'+str(weights.shape[0]))\n",
    "    n_active[n] = 0\n",
    "    for j in range(times.shape[0]):\n",
    "        emp_msr_wts = empirical_msr(times[j], X[:, 9], lambda x1, x2 : premetric(x1, x2, weights[n]))\n",
    "        n_active[n] += (emp_msr_wts>0).sum()\n",
    "        ests[n, j] = (emp_msr_wts*Ybin).sum()\n",
    "    n_active[n] /= times.shape[0]"
   ]
  },
  {
   "cell_type": "markdown",
   "metadata": {},
   "source": [
    "### Visualize the Result"
   ]
  },
  {
   "cell_type": "code",
   "execution_count": 91,
   "metadata": {},
   "outputs": [
    {
     "data": {
      "text/html": [
       "\n",
       "\n",
       "\n",
       "\n",
       "\n",
       "\n",
       "  <div class=\"bk-root\" id=\"23b05943-0f66-4aba-a1d0-cca659766e10\"></div>\n"
      ]
     },
     "metadata": {},
     "output_type": "display_data"
    },
    {
     "data": {
      "application/javascript": [
       "(function(root) {\n",
       "  function embed_document(root) {\n",
       "    \n",
       "  var docs_json = {\"2e182711-10a0-4257-bb5b-4fc884323dc8\":{\"roots\":{\"references\":[{\"attributes\":{\"below\":[{\"id\":\"58370\",\"type\":\"LinearAxis\"}],\"height\":6000,\"left\":[{\"id\":\"58375\",\"type\":\"LinearAxis\"}],\"renderers\":[{\"id\":\"58370\",\"type\":\"LinearAxis\"},{\"id\":\"58374\",\"type\":\"Grid\"},{\"id\":\"58375\",\"type\":\"LinearAxis\"},{\"id\":\"58379\",\"type\":\"Grid\"},{\"id\":\"58388\",\"type\":\"BoxAnnotation\"},{\"id\":\"58398\",\"type\":\"GlyphRenderer\"},{\"id\":\"58414\",\"type\":\"Legend\"},{\"id\":\"58403\",\"type\":\"GlyphRenderer\"},{\"id\":\"58419\",\"type\":\"GlyphRenderer\"},{\"id\":\"58436\",\"type\":\"GlyphRenderer\"},{\"id\":\"58455\",\"type\":\"GlyphRenderer\"}],\"title\":{\"id\":\"58405\",\"type\":\"Title\"},\"toolbar\":{\"id\":\"58386\",\"type\":\"Toolbar\"},\"width\":6000,\"x_range\":{\"id\":\"58362\",\"type\":\"Range1d\"},\"x_scale\":{\"id\":\"58366\",\"type\":\"LinearScale\"},\"y_range\":{\"id\":\"58364\",\"type\":\"DataRange1d\"},\"y_scale\":{\"id\":\"58368\",\"type\":\"LinearScale\"}},\"id\":\"58361\",\"subtype\":\"Figure\",\"type\":\"Plot\"},{\"attributes\":{},\"id\":\"58381\",\"type\":\"WheelZoomTool\"},{\"attributes\":{\"callback\":null,\"data\":{\"x\":{\"__ndarray__\":\"AAAAAAAAAACDl1PwcgreP4OXU/ByCu4/orE+NNaH9j+Dl1Pwcgr+P7I+NNaHxgJAorE+NNaHBkCTJEmSJEkKQIOXU/ByCg5AOgUvp+DlEECyPjTWh8YSQCp4OQUvpxRAorE+NNaHFkAa60NjfWgYQJMkSZIkSRpAC15OwcspHECDl1PwcgoeQPvQWB8a6x9AOgUvp+DlIED2obE+NNYhQLI+NNaHxiJAbtu2bdu2I0AqeDkFL6ckQOYUvJyClyVAorE+NNaHJkBeTsHLKXgnQBrrQ2N9aChA14fG+tBYKUCTJEmSJEkqQE/Byyl4OStAC15OwcspLEDH+tBYHxotQIOXU/ByCi5APzTWh8b6LkD70FgfGusvQNy2bdu2bTBAOgUvp+DlMECYU/ByCl4xQPahsT401jFAVPByCl5OMkCyPjTWh8YyQBCN9aGxPjNAbtu2bdu2M0DMKXg5BS80QCp4OQUvpzRAiMb60FgfNUDmFLycgpc1QERjfWisDzZAorE+NNaHNkAAAAAAAAA3QA==\",\"dtype\":\"float64\",\"shape\":[50]},\"y\":{\"__ndarray__\":\"C5GtFmNYwT+wb+8ulJvBP1rZJoTNoME/IlnzKBB7wT/82dpyayHBP3OWIIrjoMA/IjHw6OwBwD8ZlDblq6a+P/IVCPdQ/bw/GC0FBqgmuz+krlwpqI25PxSsx/jxM7g/PsjGsA/+tj+Q5A05R/m1PzDL6QWllLQ/zOcht5JIsz+NFuycxjuyP1yj6zqKR7E/1sm0vkBssD+51X8YnT2vP+uDci8BNa4/MmvyU1zcrT8kzbi40wmuP1ujUlmbPa4/Yky4qFPsrj/8agW9EP2vP9kW+JvLbLA/v45aeX7UsD9pAfmGIxyxP0F5CaJOEbE/1gy2t7TpsD/J1+Kx9buwP9WPJc8EhrA/ig2gXeLDsD8iatTPKjOxPxfjVo0porE/AmBGpR9lsj8Fg2VKYDKzP1RhA1gh+7M/GIBya2kftT/+QtwU13W2P6uNdweoXLc/sNltpTlQuD99tt3k1265P6hH18JHjLo/rVgPg6+5uz9NJRamOCK9P/imZiofh74//dYihAmdvz+wDGEBqmjAPw==\",\"dtype\":\"float64\",\"shape\":[50]}},\"selected\":{\"id\":\"58448\",\"type\":\"Selection\"},\"selection_policy\":{\"id\":\"58449\",\"type\":\"UnionRenderers\"}},\"id\":\"58416\",\"type\":\"ColumnDataSource\"},{\"attributes\":{\"line_alpha\":0.1,\"line_color\":\"#1f77b4\",\"line_width\":30,\"x\":{\"field\":\"x\"},\"y\":{\"field\":\"y\"}},\"id\":\"58454\",\"type\":\"Line\"},{\"attributes\":{\"overlay\":{\"id\":\"58388\",\"type\":\"BoxAnnotation\"}},\"id\":\"58382\",\"type\":\"BoxZoomTool\"},{\"attributes\":{\"line_color\":\"#ff7f0e\",\"line_width\":30,\"x\":{\"field\":\"x\"},\"y\":{\"field\":\"y\"}},\"id\":\"58417\",\"type\":\"Line\"},{\"attributes\":{\"data_source\":{\"id\":\"58452\",\"type\":\"ColumnDataSource\"},\"glyph\":{\"id\":\"58453\",\"type\":\"Line\"},\"hover_glyph\":null,\"muted_glyph\":null,\"nonselection_glyph\":{\"id\":\"58454\",\"type\":\"Line\"},\"selection_glyph\":null,\"view\":{\"id\":\"58456\",\"type\":\"CDSView\"}},\"id\":\"58455\",\"type\":\"GlyphRenderer\"},{\"attributes\":{},\"id\":\"58383\",\"type\":\"SaveTool\"},{\"attributes\":{\"line_alpha\":0.1,\"line_color\":\"#1f77b4\",\"line_width\":30,\"x\":{\"field\":\"x\"},\"y\":{\"field\":\"y\"}},\"id\":\"58418\",\"type\":\"Line\"},{\"attributes\":{},\"id\":\"58412\",\"type\":\"UnionRenderers\"},{\"attributes\":{\"source\":{\"id\":\"58452\",\"type\":\"ColumnDataSource\"}},\"id\":\"58456\",\"type\":\"CDSView\"},{\"attributes\":{},\"id\":\"58366\",\"type\":\"LinearScale\"},{\"attributes\":{},\"id\":\"58384\",\"type\":\"ResetTool\"},{\"attributes\":{\"data_source\":{\"id\":\"58416\",\"type\":\"ColumnDataSource\"},\"glyph\":{\"id\":\"58417\",\"type\":\"Line\"},\"hover_glyph\":null,\"muted_glyph\":null,\"nonselection_glyph\":{\"id\":\"58418\",\"type\":\"Line\"},\"selection_glyph\":null,\"view\":{\"id\":\"58420\",\"type\":\"CDSView\"}},\"id\":\"58419\",\"type\":\"GlyphRenderer\"},{\"attributes\":{\"source\":{\"id\":\"58395\",\"type\":\"ColumnDataSource\"}},\"id\":\"58399\",\"type\":\"CDSView\"},{\"attributes\":{},\"id\":\"58469\",\"type\":\"Selection\"},{\"attributes\":{},\"id\":\"58380\",\"type\":\"PanTool\"},{\"attributes\":{},\"id\":\"58385\",\"type\":\"HelpTool\"},{\"attributes\":{\"source\":{\"id\":\"58416\",\"type\":\"ColumnDataSource\"}},\"id\":\"58420\",\"type\":\"CDSView\"},{\"attributes\":{},\"id\":\"58470\",\"type\":\"UnionRenderers\"},{\"attributes\":{},\"id\":\"58429\",\"type\":\"Selection\"},{\"attributes\":{\"active_drag\":\"auto\",\"active_inspect\":\"auto\",\"active_multi\":null,\"active_scroll\":\"auto\",\"active_tap\":\"auto\",\"tools\":[{\"id\":\"58380\",\"type\":\"PanTool\"},{\"id\":\"58381\",\"type\":\"WheelZoomTool\"},{\"id\":\"58382\",\"type\":\"BoxZoomTool\"},{\"id\":\"58383\",\"type\":\"SaveTool\"},{\"id\":\"58384\",\"type\":\"ResetTool\"},{\"id\":\"58385\",\"type\":\"HelpTool\"}]},\"id\":\"58386\",\"type\":\"Toolbar\"},{\"attributes\":{\"callback\":null},\"id\":\"58364\",\"type\":\"DataRange1d\"},{\"attributes\":{\"callback\":null,\"data\":{\"left\":{\"__ndarray__\":\"AAAAAAAA4L8AAAAAAADgPwAAAAAAAPg/AAAAAAAABEAAAAAAAAAMQAAAAAAAABJAAAAAAAAAFkAAAAAAAAAaQAAAAAAAAB5AAAAAAAAAIUAAAAAAAAAjQAAAAAAAACVAAAAAAAAAJ0AAAAAAAAApQAAAAAAAACtAAAAAAAAALUAAAAAAAAAvQAAAAAAAgDBAAAAAAACAMUAAAAAAAIAyQAAAAAAAgDNAAAAAAACANEAAAAAAAIA1QAAAAAAAgDZA\",\"dtype\":\"float64\",\"shape\":[24]},\"right\":{\"__ndarray__\":\"AAAAAAAA4D8AAAAAAAD4PwAAAAAAAARAAAAAAAAADEAAAAAAAAASQAAAAAAAABZAAAAAAAAAGkAAAAAAAAAeQAAAAAAAACFAAAAAAAAAI0AAAAAAAAAlQAAAAAAAACdAAAAAAAAAKUAAAAAAAAArQAAAAAAAAC1AAAAAAAAAL0AAAAAAAIAwQAAAAAAAgDFAAAAAAACAMkAAAAAAAIAzQAAAAAAAgDRAAAAAAACANUAAAAAAAIA2QAAAAAAAgDdA\",\"dtype\":\"float64\",\"shape\":[24]},\"top\":[0.21621621621621623,0.11864406779661017,0.15625,0.2413793103448276,0.21739130434782608,0.15151515151515152,0.140625,0.060790273556231005,0.06472491909385113,0.05757575757575758,0.06199460916442048,0.04337899543378995,0.060851926977687626,0.08303249097472924,0.06605504587155964,0.053545586107091175,0.06875753920386007,0.07513227513227513,0.06900584795321638,0.1069078947368421,0.10909090909090909,0.08469055374592833,0.15228426395939088,0.16993464052287582]},\"selected\":{\"id\":\"58411\",\"type\":\"Selection\"},\"selection_policy\":{\"id\":\"58412\",\"type\":\"UnionRenderers\"}},\"id\":\"58395\",\"type\":\"ColumnDataSource\"},{\"attributes\":{\"bottom_units\":\"screen\",\"fill_alpha\":{\"value\":0.5},\"fill_color\":{\"value\":\"lightgrey\"},\"left_units\":\"screen\",\"level\":\"overlay\",\"line_alpha\":{\"value\":1.0},\"line_color\":{\"value\":\"black\"},\"line_dash\":[4,4],\"line_width\":{\"value\":2},\"plot\":null,\"render_mode\":\"css\",\"right_units\":\"screen\",\"top_units\":\"screen\"},\"id\":\"58388\",\"type\":\"BoxAnnotation\"},{\"attributes\":{\"label\":{\"value\":\"\\u03bb = 1E-01\"},\"renderers\":[{\"id\":\"58455\",\"type\":\"GlyphRenderer\"}]},\"id\":\"58472\",\"type\":\"LegendItem\"},{\"attributes\":{},\"id\":\"58368\",\"type\":\"LinearScale\"},{\"attributes\":{},\"id\":\"58430\",\"type\":\"UnionRenderers\"},{\"attributes\":{},\"id\":\"59674\",\"type\":\"Selection\"},{\"attributes\":{\"label\":{\"value\":\"\\u03bb = 1E-04\"},\"renderers\":[{\"id\":\"58419\",\"type\":\"GlyphRenderer\"}]},\"id\":\"58432\",\"type\":\"LegendItem\"},{\"attributes\":{},\"id\":\"59675\",\"type\":\"UnionRenderers\"},{\"attributes\":{\"bottom\":{\"value\":0},\"fill_alpha\":{\"value\":0.1},\"fill_color\":{\"value\":\"#1f77b4\"},\"left\":{\"field\":\"left\"},\"line_alpha\":{\"value\":0.1},\"line_color\":{\"value\":\"#1f77b4\"},\"right\":{\"field\":\"right\"},\"top\":{\"field\":\"top\"}},\"id\":\"58397\",\"type\":\"Quad\"},{\"attributes\":{\"callback\":null,\"data\":{\"x\":{\"__ndarray__\":\"AAAAAAAAAACDl1PwcgreP4OXU/ByCu4/orE+NNaH9j+Dl1Pwcgr+P7I+NNaHxgJAorE+NNaHBkCTJEmSJEkKQIOXU/ByCg5AOgUvp+DlEECyPjTWh8YSQCp4OQUvpxRAorE+NNaHFkAa60NjfWgYQJMkSZIkSRpAC15OwcspHECDl1PwcgoeQPvQWB8a6x9AOgUvp+DlIED2obE+NNYhQLI+NNaHxiJAbtu2bdu2I0AqeDkFL6ckQOYUvJyClyVAorE+NNaHJkBeTsHLKXgnQBrrQ2N9aChA14fG+tBYKUCTJEmSJEkqQE/Byyl4OStAC15OwcspLEDH+tBYHxotQIOXU/ByCi5APzTWh8b6LkD70FgfGusvQNy2bdu2bTBAOgUvp+DlMECYU/ByCl4xQPahsT401jFAVPByCl5OMkCyPjTWh8YyQBCN9aGxPjNAbtu2bdu2M0DMKXg5BS80QCp4OQUvpzRAiMb60FgfNUDmFLycgpc1QERjfWisDzZAorE+NNaHNkAAAAAAAAA3QA==\",\"dtype\":\"float64\",\"shape\":[50]},\"y\":{\"__ndarray__\":\"+KvzYqJ+tD+CEnGWXn60Pwp57skafrQ/mn0KbdV9tD+t5hfUj320P1113uwyfbQ/nFzmy818tD/aCv23PHy0P3AUVGOPe7Q/HMi5U896tD/1wEbV+nm0P1AzIy8cebQ/fKmUfip4tD8J/GxsKne0PwNohJT2dbQ/muwe9Mh0tD+z85ma3HO0P8z6FEHwcrQ/euZhtzhytD+MXDiUg3G0P+98/3DlcLQ/wZhXJUxwtD/yK5Gr4G+0P1xjnT2Jb7Q/sEWp1mZvtD99qwM6bW+0P+Iyp1COb7Q/WcwpHdJvtD9Ne851FnC0PzsSwQ5ccLQ/xxiII6dwtD+GMYBEDHG0P1nOG4l0cbQ/wsTE3SFytD8tu20yz3K0P4X4EUmgc7Q/qv+Ex3R0tD9wNUUfYHW0P0W/089RdrQ/7rMtpW53tD/1RxZ9oni0P0RI7AexebQ/KkFxYZ16tD+PXCAgdHu0P37mSUMpfLQ/RfcZI9d8tD9y28FucH20Pzx5DyMBfrQ/1EEDkVh+tD9qCvf+r360Pw==\",\"dtype\":\"float64\",\"shape\":[50]}},\"selected\":{\"id\":\"58429\",\"type\":\"Selection\"},\"selection_policy\":{\"id\":\"58430\",\"type\":\"UnionRenderers\"}},\"id\":\"58400\",\"type\":\"ColumnDataSource\"},{\"attributes\":{\"callback\":null,\"data\":{\"x\":{\"__ndarray__\":\"AAAAAAAAAACDl1PwcgreP4OXU/ByCu4/orE+NNaH9j+Dl1Pwcgr+P7I+NNaHxgJAorE+NNaHBkCTJEmSJEkKQIOXU/ByCg5AOgUvp+DlEECyPjTWh8YSQCp4OQUvpxRAorE+NNaHFkAa60NjfWgYQJMkSZIkSRpAC15OwcspHECDl1PwcgoeQPvQWB8a6x9AOgUvp+DlIED2obE+NNYhQLI+NNaHxiJAbtu2bdu2I0AqeDkFL6ckQOYUvJyClyVAorE+NNaHJkBeTsHLKXgnQBrrQ2N9aChA14fG+tBYKUCTJEmSJEkqQE/Byyl4OStAC15OwcspLEDH+tBYHxotQIOXU/ByCi5APzTWh8b6LkD70FgfGusvQNy2bdu2bTBAOgUvp+DlMECYU/ByCl4xQPahsT401jFAVPByCl5OMkCyPjTWh8YyQBCN9aGxPjNAbtu2bdu2M0DMKXg5BS80QCp4OQUvpzRAiMb60FgfNUDmFLycgpc1QERjfWisDzZAorE+NNaHNkAAAAAAAAA3QA==\",\"dtype\":\"float64\",\"shape\":[50]},\"y\":{\"__ndarray__\":\"qVrz81l8xj9WPpn+wdPFP2VIIeJLcsU/pqQfB1HBxT8pzD+mHS3GP9go1Dvke8Y/0DAOuURaxj+yQyPDG7fFP+0K5CjUfcU/zdqCoKZTxD/NhdO4yorCP+PzuIGYy8A/1lzRcY66vj/yfdNdd+O7P23gapDWWrY/ACsBgdAZsT/XWGpnhA6wP0TLqV8JM7A/AJp1aDderz+D7cJJiFCuPz8Ohj+vf64/XPKqjb4Drz9uaEg/zOirPwwZlA2bUKg/JuyYhdz/qD8qcqrzMOWsP4BpHZZO1LA/XO7gyUOcsz+jLYIlic60P0CVCDadkLI/LbABT6vAsD+sYnw6WtetP9SnWbpTaqs/aC90HxmLrz+I6DsWGJqxPzYear7tQ7I/vjORaN47sz8uMqXcyNyyP6UaMQReqrE/PynwlS8Gsz8qrTHsU3+5P2v2jcYddbs/8nQ3Qa+5uz8FKNUBEsq6P/yJ6bQlq7g/nZRbHSI9uT/0zrpiHJO9P3FMnNXhk8E///7OlVKqwz8KUa8nnb3FPw==\",\"dtype\":\"float64\",\"shape\":[50]}},\"selected\":{\"id\":\"58469\",\"type\":\"Selection\"},\"selection_policy\":{\"id\":\"58470\",\"type\":\"UnionRenderers\"}},\"id\":\"58433\",\"type\":\"ColumnDataSource\"},{\"attributes\":{\"data_source\":{\"id\":\"58395\",\"type\":\"ColumnDataSource\"},\"glyph\":{\"id\":\"58396\",\"type\":\"Quad\"},\"hover_glyph\":null,\"muted_glyph\":null,\"nonselection_glyph\":{\"id\":\"58397\",\"type\":\"Quad\"},\"selection_glyph\":null,\"view\":{\"id\":\"58399\",\"type\":\"CDSView\"}},\"id\":\"58398\",\"type\":\"GlyphRenderer\"},{\"attributes\":{\"line_color\":\"#d62728\",\"line_width\":30,\"x\":{\"field\":\"x\"},\"y\":{\"field\":\"y\"}},\"id\":\"58401\",\"type\":\"Line\"},{\"attributes\":{\"line_color\":\"#2ca02c\",\"line_width\":30,\"x\":{\"field\":\"x\"},\"y\":{\"field\":\"y\"}},\"id\":\"58434\",\"type\":\"Line\"},{\"attributes\":{\"callback\":null,\"end\":25},\"id\":\"58362\",\"type\":\"Range1d\"},{\"attributes\":{\"line_alpha\":0.1,\"line_color\":\"#1f77b4\",\"line_width\":30,\"x\":{\"field\":\"x\"},\"y\":{\"field\":\"y\"}},\"id\":\"58402\",\"type\":\"Line\"},{\"attributes\":{},\"id\":\"58371\",\"type\":\"BasicTicker\"},{\"attributes\":{\"line_alpha\":0.1,\"line_color\":\"#1f77b4\",\"line_width\":30,\"x\":{\"field\":\"x\"},\"y\":{\"field\":\"y\"}},\"id\":\"58435\",\"type\":\"Line\"},{\"attributes\":{\"data_source\":{\"id\":\"58400\",\"type\":\"ColumnDataSource\"},\"glyph\":{\"id\":\"58401\",\"type\":\"Line\"},\"hover_glyph\":null,\"muted_glyph\":null,\"nonselection_glyph\":{\"id\":\"58402\",\"type\":\"Line\"},\"selection_glyph\":null,\"view\":{\"id\":\"58404\",\"type\":\"CDSView\"}},\"id\":\"58403\",\"type\":\"GlyphRenderer\"},{\"attributes\":{\"grid_line_width\":{\"value\":5},\"plot\":{\"id\":\"58361\",\"subtype\":\"Figure\",\"type\":\"Plot\"},\"ticker\":{\"id\":\"58371\",\"type\":\"BasicTicker\"}},\"id\":\"58374\",\"type\":\"Grid\"},{\"attributes\":{\"data_source\":{\"id\":\"58433\",\"type\":\"ColumnDataSource\"},\"glyph\":{\"id\":\"58434\",\"type\":\"Line\"},\"hover_glyph\":null,\"muted_glyph\":null,\"nonselection_glyph\":{\"id\":\"58435\",\"type\":\"Line\"},\"selection_glyph\":null,\"view\":{\"id\":\"58437\",\"type\":\"CDSView\"}},\"id\":\"58436\",\"type\":\"GlyphRenderer\"},{\"attributes\":{},\"id\":\"58411\",\"type\":\"Selection\"},{\"attributes\":{\"axis_label\":\"Fraction of Severe Outcomes\",\"axis_label_text_font_size\":{\"value\":\"190pt\"},\"formatter\":{\"id\":\"58409\",\"type\":\"BasicTickFormatter\"},\"major_label_text_font_size\":{\"value\":\"190pt\"},\"plot\":{\"id\":\"58361\",\"subtype\":\"Figure\",\"type\":\"Plot\"},\"ticker\":{\"id\":\"58376\",\"type\":\"BasicTicker\"}},\"id\":\"58375\",\"type\":\"LinearAxis\"},{\"attributes\":{\"source\":{\"id\":\"58400\",\"type\":\"ColumnDataSource\"}},\"id\":\"58404\",\"type\":\"CDSView\"},{\"attributes\":{},\"id\":\"58376\",\"type\":\"BasicTicker\"},{\"attributes\":{\"source\":{\"id\":\"58433\",\"type\":\"ColumnDataSource\"}},\"id\":\"58437\",\"type\":\"CDSView\"},{\"attributes\":{\"plot\":null,\"text\":\"\",\"text_font_size\":{\"value\":\"190pt\"}},\"id\":\"58405\",\"type\":\"Title\"},{\"attributes\":{},\"id\":\"58448\",\"type\":\"Selection\"},{\"attributes\":{\"dimension\":1,\"grid_line_width\":{\"value\":5},\"plot\":{\"id\":\"58361\",\"subtype\":\"Figure\",\"type\":\"Plot\"},\"ticker\":{\"id\":\"58376\",\"type\":\"BasicTicker\"}},\"id\":\"58379\",\"type\":\"Grid\"},{\"attributes\":{},\"id\":\"58407\",\"type\":\"BasicTickFormatter\"},{\"attributes\":{},\"id\":\"58449\",\"type\":\"UnionRenderers\"},{\"attributes\":{},\"id\":\"58409\",\"type\":\"BasicTickFormatter\"},{\"attributes\":{\"label\":{\"value\":\"\\u03bb = 1E-03\"},\"renderers\":[{\"id\":\"58436\",\"type\":\"GlyphRenderer\"}]},\"id\":\"58451\",\"type\":\"LegendItem\"},{\"attributes\":{\"bottom\":{\"value\":0},\"fill_alpha\":{\"value\":0.3},\"fill_color\":{\"value\":\"black\"},\"left\":{\"field\":\"left\"},\"line_alpha\":{\"value\":0.3},\"line_color\":{\"value\":\"white\"},\"right\":{\"field\":\"right\"},\"top\":{\"field\":\"top\"}},\"id\":\"58396\",\"type\":\"Quad\"},{\"attributes\":{\"axis_label\":\"Time of Day (Hr)\",\"axis_label_text_font_size\":{\"value\":\"190pt\"},\"formatter\":{\"id\":\"58407\",\"type\":\"BasicTickFormatter\"},\"major_label_text_font_size\":{\"value\":\"190pt\"},\"plot\":{\"id\":\"58361\",\"subtype\":\"Figure\",\"type\":\"Plot\"},\"ticker\":{\"id\":\"58371\",\"type\":\"BasicTicker\"}},\"id\":\"58370\",\"type\":\"LinearAxis\"},{\"attributes\":{\"callback\":null,\"data\":{\"x\":{\"__ndarray__\":\"AAAAAAAAAACDl1PwcgreP4OXU/ByCu4/orE+NNaH9j+Dl1Pwcgr+P7I+NNaHxgJAorE+NNaHBkCTJEmSJEkKQIOXU/ByCg5AOgUvp+DlEECyPjTWh8YSQCp4OQUvpxRAorE+NNaHFkAa60NjfWgYQJMkSZIkSRpAC15OwcspHECDl1PwcgoeQPvQWB8a6x9AOgUvp+DlIED2obE+NNYhQLI+NNaHxiJAbtu2bdu2I0AqeDkFL6ckQOYUvJyClyVAorE+NNaHJkBeTsHLKXgnQBrrQ2N9aChA14fG+tBYKUCTJEmSJEkqQE/Byyl4OStAC15OwcspLEDH+tBYHxotQIOXU/ByCi5APzTWh8b6LkD70FgfGusvQNy2bdu2bTBAOgUvp+DlMECYU/ByCl4xQPahsT401jFAVPByCl5OMkCyPjTWh8YyQBCN9aGxPjNAbtu2bdu2M0DMKXg5BS80QCp4OQUvpzRAiMb60FgfNUDmFLycgpc1QERjfWisDzZAorE+NNaHNkAAAAAAAAA3QA==\",\"dtype\":\"float64\",\"shape\":[50]},\"y\":{\"__ndarray__\":\"0LrBFPmsyz94g5Lv0ifLP1gEDSd1X74/VQQNJ3Vfvj8AAAAAAADEPwAAAAAAAMQ/R1juaYTlzj9EWO5phOXOP77pTW9608s/velNb3rTyz9ok0022WTDP2WTTTbZZMM/+///////wT/7///////BP2CFrRnnH68/EIWtGecfrz/IjL7yz5GwP9SMvvLPkbA/3Iy+8s+RsD9kHanXkXqtP7AdqdeReq0/72rH5cG9rz8Ga8flwb2vPyNjcY3FNaY/NmNxjcU1pj82FonY+yevPzYWidj7J68/pOs9CZ5BtT+v6z0JnkG1P5AOwcX76LA/kA7BxfvosD/ip1m6U2qrP9SnWbpTaqs/mKdZulNqqz9+6DsWGJqxPxroOxYYmrE/yDORaN47sz+TM5Fo3juzP3AaMQReqrE/rBoxBF6qsT8eNpTXUF67Px42lNdQXrs/8BvWvmHtuz/YG9a+Ye27P4xvnrZHrrU/x2+etkeutT9qVLP+DH7DP39Us/4MfsM/GmvAFWvAxT8Wa8AVa8DFPw==\",\"dtype\":\"float64\",\"shape\":[50]}},\"selected\":{\"id\":\"59674\",\"type\":\"Selection\"},\"selection_policy\":{\"id\":\"59675\",\"type\":\"UnionRenderers\"}},\"id\":\"58452\",\"type\":\"ColumnDataSource\"},{\"attributes\":{\"glyph_height\":160,\"glyph_width\":160,\"items\":[{\"id\":\"58415\",\"type\":\"LegendItem\"},{\"id\":\"58432\",\"type\":\"LegendItem\"},{\"id\":\"58451\",\"type\":\"LegendItem\"},{\"id\":\"58472\",\"type\":\"LegendItem\"}],\"label_text_font_size\":{\"value\":\"190pt\"},\"plot\":{\"id\":\"58361\",\"subtype\":\"Figure\",\"type\":\"Plot\"}},\"id\":\"58414\",\"type\":\"Legend\"},{\"attributes\":{\"line_color\":\"#1f77b4\",\"line_width\":30,\"x\":{\"field\":\"x\"},\"y\":{\"field\":\"y\"}},\"id\":\"58453\",\"type\":\"Line\"},{\"attributes\":{\"label\":{\"value\":\"\\u03bb = 1E-07\"},\"renderers\":[{\"id\":\"58403\",\"type\":\"GlyphRenderer\"}]},\"id\":\"58415\",\"type\":\"LegendItem\"}],\"root_ids\":[\"58361\"]},\"title\":\"Bokeh Application\",\"version\":\"1.0.2\"}};\n",
       "  var render_items = [{\"docid\":\"2e182711-10a0-4257-bb5b-4fc884323dc8\",\"roots\":{\"58361\":\"23b05943-0f66-4aba-a1d0-cca659766e10\"}}];\n",
       "  root.Bokeh.embed.embed_items_notebook(docs_json, render_items);\n",
       "\n",
       "  }\n",
       "  if (root.Bokeh !== undefined) {\n",
       "    embed_document(root);\n",
       "  } else {\n",
       "    var attempts = 0;\n",
       "    var timer = setInterval(function(root) {\n",
       "      if (root.Bokeh !== undefined) {\n",
       "        embed_document(root);\n",
       "        clearInterval(timer);\n",
       "      }\n",
       "      attempts++;\n",
       "      if (attempts > 100) {\n",
       "        console.log(\"Bokeh: ERROR: Unable to run BokehJS code because BokehJS library is missing\");\n",
       "        clearInterval(timer);\n",
       "      }\n",
       "    }, 10, root)\n",
       "  }\n",
       "})(window);"
      ],
      "application/vnd.bokehjs_exec.v0+json": ""
     },
     "metadata": {
      "application/vnd.bokehjs_exec.v0+json": {
       "id": "58361"
      }
     },
     "output_type": "display_data"
    },
    {
     "data": {
      "text/html": [
       "\n",
       "\n",
       "\n",
       "\n",
       "\n",
       "\n",
       "  <div class=\"bk-root\" id=\"2a989a35-b8fe-481a-82b6-192cec7e1899\"></div>\n"
      ]
     },
     "metadata": {},
     "output_type": "display_data"
    },
    {
     "data": {
      "application/javascript": [
       "(function(root) {\n",
       "  function embed_document(root) {\n",
       "    \n",
       "  var docs_json = {\"7ad16f06-3541-4627-99b9-9c492f97ce31\":{\"roots\":{\"references\":[{\"attributes\":{\"below\":[{\"id\":\"59788\",\"type\":\"LogAxis\"}],\"height\":6000,\"left\":[{\"id\":\"59793\",\"type\":\"LinearAxis\"}],\"renderers\":[{\"id\":\"59788\",\"type\":\"LogAxis\"},{\"id\":\"59792\",\"type\":\"Grid\"},{\"id\":\"59793\",\"type\":\"LinearAxis\"},{\"id\":\"59797\",\"type\":\"Grid\"},{\"id\":\"59806\",\"type\":\"BoxAnnotation\"},{\"id\":\"59816\",\"type\":\"GlyphRenderer\"}],\"title\":{\"id\":\"61023\",\"type\":\"Title\"},\"toolbar\":{\"id\":\"59804\",\"type\":\"Toolbar\"},\"width\":6000,\"x_range\":{\"id\":\"59780\",\"type\":\"DataRange1d\"},\"x_scale\":{\"id\":\"59784\",\"type\":\"LogScale\"},\"y_range\":{\"id\":\"59782\",\"type\":\"DataRange1d\"},\"y_scale\":{\"id\":\"59786\",\"type\":\"LinearScale\"}},\"id\":\"59779\",\"subtype\":\"Figure\",\"type\":\"Plot\"},{\"attributes\":{\"code\":\"\\nvar trns = [\\n'\\u2070',\\n'\\u00b9',\\n'\\u00b2',\\n'\\u00b3',\\n'\\u2074',\\n'\\u2075',\\n'\\u2076',\\n'\\u2077',\\n'\\u2078',\\n'\\u2079'];\\nvar tick_power = Math.floor(Math.log10(tick));\\nvar tick_mult = Math.pow(10, Math.log10(tick) - tick_power);\\nvar ret = '';\\nif (tick_mult > 1.) {\\n  if (Math.abs(tick_mult - Math.round(tick_mult)) > 0.05){\\n    ret = tick_mult.toFixed(1) + '\\u22c5';\\n  } else {\\n    ret = tick_mult.toFixed(0) +'\\u22c5';\\n  }\\n}\\nret += '10';\\nif (tick_power < 0){\\n  ret += '\\u207b';\\n  tick_power = -tick_power;\\n}\\npower_digits = []\\nwhile (tick_power > 9){\\n  power_digits.push( tick_power - Math.floor(tick_power/10)*10 )\\n  tick_power = Math.floor(tick_power/10)\\n}\\npower_digits.push(tick_power)\\nfor (i = power_digits.length-1; i >= 0; i--){\\n  ret += trns[power_digits[i]];\\n}\\nreturn ret;\\n\"},\"id\":\"52975\",\"type\":\"FuncTickFormatter\"},{\"attributes\":{},\"id\":\"59798\",\"type\":\"PanTool\"},{\"attributes\":{\"line_alpha\":0.1,\"line_color\":\"#1f77b4\",\"line_width\":30,\"x\":{\"field\":\"x\"},\"y\":{\"field\":\"y\"}},\"id\":\"59815\",\"type\":\"Line\"},{\"attributes\":{\"line_color\":\"#1f77b4\",\"line_width\":30,\"x\":{\"field\":\"x\"},\"y\":{\"field\":\"y\"}},\"id\":\"59814\",\"type\":\"Line\"},{\"attributes\":{\"active_drag\":\"auto\",\"active_inspect\":\"auto\",\"active_multi\":null,\"active_scroll\":\"auto\",\"active_tap\":\"auto\",\"tools\":[{\"id\":\"59798\",\"type\":\"PanTool\"},{\"id\":\"59799\",\"type\":\"WheelZoomTool\"},{\"id\":\"59800\",\"type\":\"BoxZoomTool\"},{\"id\":\"59801\",\"type\":\"SaveTool\"},{\"id\":\"59802\",\"type\":\"ResetTool\"},{\"id\":\"59803\",\"type\":\"HelpTool\"}]},\"id\":\"59804\",\"type\":\"Toolbar\"},{\"attributes\":{\"data_source\":{\"id\":\"59813\",\"type\":\"ColumnDataSource\"},\"glyph\":{\"id\":\"59814\",\"type\":\"Line\"},\"hover_glyph\":null,\"muted_glyph\":null,\"nonselection_glyph\":{\"id\":\"59815\",\"type\":\"Line\"},\"selection_glyph\":null,\"view\":{\"id\":\"59817\",\"type\":\"CDSView\"}},\"id\":\"59816\",\"type\":\"GlyphRenderer\"},{\"attributes\":{},\"id\":\"59799\",\"type\":\"WheelZoomTool\"},{\"attributes\":{},\"id\":\"61029\",\"type\":\"UnionRenderers\"},{\"attributes\":{\"overlay\":{\"id\":\"59806\",\"type\":\"BoxAnnotation\"}},\"id\":\"59800\",\"type\":\"BoxZoomTool\"},{\"attributes\":{\"callback\":null,\"data\":{\"x\":{\"__ndarray__\":\"SK+8mvLXej6N7bWg98awPvFo44i1+OQ+LUMc6+I2Gj/8qfHSTWJQP3sUrkfheoQ/mpmZmZmZuT8AAAAAAADwPw==\",\"dtype\":\"float64\",\"shape\":[8]},\"y\":{\"__ndarray__\":\"AAAAAIBSwUAAAAAAgFLBQGZmZmZmzsBAmpmZmZmXpkDhehSuR4mKQIXrUbgeBXtA16NwPQp/d0Bcj8L1KGx3QA==\",\"dtype\":\"float64\",\"shape\":[8]}},\"selected\":{\"id\":\"61028\",\"type\":\"Selection\"},\"selection_policy\":{\"id\":\"61029\",\"type\":\"UnionRenderers\"}},\"id\":\"59813\",\"type\":\"ColumnDataSource\"},{\"attributes\":{\"axis_label\":\"Average # Atoms\",\"axis_label_text_font_size\":{\"value\":\"190pt\"},\"formatter\":{\"id\":\"61026\",\"type\":\"BasicTickFormatter\"},\"major_label_text_font_size\":{\"value\":\"190pt\"},\"plot\":{\"id\":\"59779\",\"subtype\":\"Figure\",\"type\":\"Plot\"},\"ticker\":{\"id\":\"59794\",\"type\":\"BasicTicker\"}},\"id\":\"59793\",\"type\":\"LinearAxis\"},{\"attributes\":{\"grid_line_width\":{\"value\":5},\"plot\":{\"id\":\"59779\",\"subtype\":\"Figure\",\"type\":\"Plot\"},\"ticker\":{\"id\":\"59789\",\"type\":\"LogTicker\"}},\"id\":\"59792\",\"type\":\"Grid\"},{\"attributes\":{\"num_minor_ticks\":10},\"id\":\"59789\",\"type\":\"LogTicker\"},{\"attributes\":{\"axis_label\":\"Premetric Weight \\u03bb\",\"axis_label_text_font_size\":{\"value\":\"190pt\"},\"formatter\":{\"id\":\"52975\",\"type\":\"FuncTickFormatter\"},\"major_label_text_font_size\":{\"value\":\"190pt\"},\"plot\":{\"id\":\"59779\",\"subtype\":\"Figure\",\"type\":\"Plot\"},\"ticker\":{\"id\":\"59789\",\"type\":\"LogTicker\"}},\"id\":\"59788\",\"type\":\"LogAxis\"},{\"attributes\":{},\"id\":\"59786\",\"type\":\"LinearScale\"},{\"attributes\":{},\"id\":\"61026\",\"type\":\"BasicTickFormatter\"},{\"attributes\":{},\"id\":\"59784\",\"type\":\"LogScale\"},{\"attributes\":{},\"id\":\"59802\",\"type\":\"ResetTool\"},{\"attributes\":{\"callback\":null},\"id\":\"59782\",\"type\":\"DataRange1d\"},{\"attributes\":{\"callback\":null},\"id\":\"59780\",\"type\":\"DataRange1d\"},{\"attributes\":{},\"id\":\"59801\",\"type\":\"SaveTool\"},{\"attributes\":{\"dimension\":1,\"grid_line_width\":{\"value\":5},\"plot\":{\"id\":\"59779\",\"subtype\":\"Figure\",\"type\":\"Plot\"},\"ticker\":{\"id\":\"59794\",\"type\":\"BasicTicker\"}},\"id\":\"59797\",\"type\":\"Grid\"},{\"attributes\":{},\"id\":\"59794\",\"type\":\"BasicTicker\"},{\"attributes\":{},\"id\":\"59803\",\"type\":\"HelpTool\"},{\"attributes\":{\"plot\":null,\"text\":\"\",\"text_font_size\":{\"value\":\"190pt\"}},\"id\":\"61023\",\"type\":\"Title\"},{\"attributes\":{},\"id\":\"61028\",\"type\":\"Selection\"},{\"attributes\":{\"source\":{\"id\":\"59813\",\"type\":\"ColumnDataSource\"}},\"id\":\"59817\",\"type\":\"CDSView\"},{\"attributes\":{\"bottom_units\":\"screen\",\"fill_alpha\":{\"value\":0.5},\"fill_color\":{\"value\":\"lightgrey\"},\"left_units\":\"screen\",\"level\":\"overlay\",\"line_alpha\":{\"value\":1.0},\"line_color\":{\"value\":\"black\"},\"line_dash\":[4,4],\"line_width\":{\"value\":2},\"plot\":null,\"render_mode\":\"css\",\"right_units\":\"screen\",\"top_units\":\"screen\"},\"id\":\"59806\",\"type\":\"BoxAnnotation\"}],\"root_ids\":[\"59779\"]},\"title\":\"Bokeh Application\",\"version\":\"1.0.2\"}};\n",
       "  var render_items = [{\"docid\":\"7ad16f06-3541-4627-99b9-9c492f97ce31\",\"roots\":{\"59779\":\"2a989a35-b8fe-481a-82b6-192cec7e1899\"}}];\n",
       "  root.Bokeh.embed.embed_items_notebook(docs_json, render_items);\n",
       "\n",
       "  }\n",
       "  if (root.Bokeh !== undefined) {\n",
       "    embed_document(root);\n",
       "  } else {\n",
       "    var attempts = 0;\n",
       "    var timer = setInterval(function(root) {\n",
       "      if (root.Bokeh !== undefined) {\n",
       "        embed_document(root);\n",
       "        clearInterval(timer);\n",
       "      }\n",
       "      attempts++;\n",
       "      if (attempts > 100) {\n",
       "        console.log(\"Bokeh: ERROR: Unable to run BokehJS code because BokehJS library is missing\");\n",
       "        clearInterval(timer);\n",
       "      }\n",
       "    }, 10, root)\n",
       "  }\n",
       "})(window);"
      ],
      "application/vnd.bokehjs_exec.v0+json": ""
     },
     "metadata": {
      "application/vnd.bokehjs_exec.v0+json": {
       "id": "59779"
      }
     },
     "output_type": "display_data"
    }
   ],
   "source": [
    "colors = np.array(bkpal.Category10[10])[[3, 1, 2, 0]]\n",
    "\n",
    "#Plot bars for fraction of severe outcomes at each time\n",
    "fig = bkp.figure(x_range=(0,25), y_axis_label='Fraction of Severe Outcomes', x_axis_label='Time of Day (Hr)')\n",
    "\n",
    "fig.quad(top=[(Ybin[X[:,9] == t].sum()/(X[:,9]==t).sum()) for t in range(24)], bottom=0, \n",
    "         left=np.arange(24)-.5, right=np.arange(24)+.5, line_color='white', \n",
    "         fill_color='black', alpha=0.3)\n",
    "\n",
    "for i, n in enumerate([0, 3, 4, 6]):\n",
    "    fig.line(times, ests[n,:], line_color=colors[i], legend='\\u03BB = %0.0E' % weights[n])\n",
    "\n",
    "bkp.show(fig)\n",
    "\n",
    "\n",
    "fig = bkp.figure(x_axis_label='Premetric Weight \\u03BB', y_axis_label='Average # Atoms', x_axis_type='log')\n",
    "fig.line(weights, n_active, line_color=colors[3])\n",
    "fig.xaxis.formatter = logFmtr\n",
    "bkp.show(fig)"
   ]
  },
  {
   "cell_type": "markdown",
   "metadata": {},
   "source": [
    "### Record Computation Time "
   ]
  },
  {
   "cell_type": "code",
   "execution_count": 26,
   "metadata": {},
   "outputs": [
    {
     "name": "stdout",
     "output_type": "stream",
     "text": [
      "trial 1/50\n",
      "ndata iter 10/10        \n",
      "trial 2/50\n",
      "ndata iter 10/10        \n",
      "trial 3/50\n",
      "ndata iter 10/10        \n",
      "trial 4/50\n",
      "ndata iter 10/10        \n",
      "trial 5/50\n",
      "ndata iter 10/10        \n",
      "trial 6/50\n",
      "ndata iter 10/10        \n",
      "trial 7/50\n",
      "ndata iter 10/10        \n",
      "trial 8/50\n",
      "ndata iter 10/10        \n",
      "trial 9/50\n",
      "ndata iter 10/10        \n",
      "trial 10/50\n",
      "ndata iter 10/10        \n",
      "trial 11/50\n",
      "ndata iter 10/10        \n",
      "trial 12/50\n",
      "ndata iter 10/10        \n",
      "trial 13/50\n",
      "ndata iter 10/10        \n",
      "trial 14/50\n",
      "ndata iter 10/10        \n",
      "trial 15/50\n",
      "ndata iter 10/10        \n",
      "trial 16/50\n",
      "ndata iter 10/10        \n",
      "trial 17/50\n",
      "ndata iter 10/10        \n",
      "trial 18/50\n",
      "ndata iter 10/10        \n",
      "trial 19/50\n",
      "ndata iter 10/10        \n",
      "trial 20/50\n",
      "ndata iter 10/10        \n",
      "trial 21/50\n",
      "ndata iter 10/10        \n",
      "trial 22/50\n",
      "ndata iter 10/10        \n",
      "trial 23/50\n",
      "ndata iter 10/10        \n",
      "trial 24/50\n",
      "ndata iter 10/10        \n",
      "trial 25/50\n",
      "ndata iter 10/10        \n",
      "trial 26/50\n",
      "ndata iter 10/10        \n",
      "trial 27/50\n",
      "ndata iter 10/10        \n",
      "trial 28/50\n",
      "ndata iter 10/10        \n",
      "trial 29/50\n",
      "ndata iter 10/10        \n",
      "trial 30/50\n",
      "ndata iter 10/10        \n",
      "trial 31/50\n",
      "ndata iter 10/10        \n",
      "trial 32/50\n",
      "ndata iter 10/10        \n",
      "trial 33/50\n",
      "ndata iter 10/10        \n",
      "trial 34/50\n",
      "ndata iter 10/10        \n",
      "trial 35/50\n",
      "ndata iter 10/10        \n",
      "trial 36/50\n",
      "ndata iter 10/10        \n",
      "trial 37/50\n",
      "ndata iter 10/10        \n",
      "trial 38/50\n",
      "ndata iter 10/10        \n",
      "trial 39/50\n",
      "ndata iter 10/10        \n",
      "trial 40/50\n",
      "ndata iter 10/10        \n",
      "trial 41/50\n",
      "ndata iter 10/10        \n",
      "trial 42/50\n",
      "ndata iter 10/10        \n",
      "trial 43/50\n",
      "ndata iter 10/10        \n",
      "trial 44/50\n",
      "ndata iter 10/10        \n",
      "trial 45/50\n",
      "ndata iter 10/10        \n",
      "trial 46/50\n",
      "ndata iter 10/10        \n",
      "trial 47/50\n",
      "ndata iter 10/10        \n",
      "trial 48/50\n",
      "ndata iter 10/10        \n",
      "trial 49/50\n",
      "ndata iter 10/10        \n",
      "trial 50/50\n",
      "ndata iter 10/10        \n"
     ]
    }
   ],
   "source": [
    "n_trials = 50\n",
    "n_data = np.logspace(0, 4, 10).astype(int)\n",
    "cputs = np.zeros((n_trials, n_data.shape[0]))\n",
    "wt = 0.001\n",
    "idcs = np.arange(X.shape[0])\n",
    "np.random.shuffle(idcs)\n",
    "for t in range(n_trials):\n",
    "    sys.stdout.write('trial ' + str(t+1)+'/'+str(n_trials)+'               \\r')\n",
    "    sys.stdout.flush()\n",
    "    for n in range(n_data.shape[0]):\n",
    "        t0 = time.perf_counter()\n",
    "        times = np.linspace(0, 23, 50)\n",
    "        ests = np.zeros(times.shape[0])\n",
    "        Ybin = np.zeros(Y.shape[0])\n",
    "        severe = (Y == 'Serious') | (Y == 'Killed') \n",
    "        Ybin[severe] = 1\n",
    "        for j in range(times.shape[0]):\n",
    "            emp_msr_wts = empirical_msr(times[j], X[idcs[:n_data[n]], 9], lambda x1, x2 : premetric(x1, x2, wt))\n",
    "            ests[j] = (emp_msr_wts*Ybin[idcs[:n_data[n]]]).sum()\n",
    "        tf = time.perf_counter()\n",
    "        cputs[t, n] = tf-t0\n",
    "sys.stdout.write('\\n')\n",
    "sys.stdout.flush()\n"
   ]
  },
  {
   "cell_type": "markdown",
   "metadata": {},
   "source": [
    "### Visualize the Result"
   ]
  },
  {
   "cell_type": "code",
   "execution_count": 93,
   "metadata": {},
   "outputs": [
    {
     "data": {
      "text/html": [
       "\n",
       "\n",
       "\n",
       "\n",
       "\n",
       "\n",
       "  <div class=\"bk-root\" id=\"e8c8ce58-a3d4-48d3-a16c-7d607ff5d8d1\"></div>\n"
      ]
     },
     "metadata": {},
     "output_type": "display_data"
    },
    {
     "data": {
      "application/javascript": [
       "(function(root) {\n",
       "  function embed_document(root) {\n",
       "    \n",
       "  var docs_json = {\"8d92c773-74ee-47bd-922d-a77910651d48\":{\"roots\":{\"references\":[{\"attributes\":{\"below\":[{\"id\":\"63924\",\"type\":\"LinearAxis\"}],\"height\":6000,\"left\":[{\"id\":\"63929\",\"type\":\"LinearAxis\"}],\"renderers\":[{\"id\":\"63924\",\"type\":\"LinearAxis\"},{\"id\":\"63928\",\"type\":\"Grid\"},{\"id\":\"63929\",\"type\":\"LinearAxis\"},{\"id\":\"63933\",\"type\":\"Grid\"},{\"id\":\"63942\",\"type\":\"BoxAnnotation\"},{\"id\":\"63952\",\"type\":\"GlyphRenderer\"},{\"id\":\"63957\",\"type\":\"GlyphRenderer\"},{\"id\":\"63962\",\"type\":\"GlyphRenderer\"},{\"id\":\"63967\",\"type\":\"GlyphRenderer\"},{\"id\":\"63972\",\"type\":\"GlyphRenderer\"},{\"id\":\"63977\",\"type\":\"GlyphRenderer\"},{\"id\":\"63982\",\"type\":\"GlyphRenderer\"},{\"id\":\"63987\",\"type\":\"GlyphRenderer\"},{\"id\":\"63992\",\"type\":\"GlyphRenderer\"},{\"id\":\"63997\",\"type\":\"GlyphRenderer\"},{\"id\":\"64002\",\"type\":\"GlyphRenderer\"},{\"id\":\"64007\",\"type\":\"GlyphRenderer\"},{\"id\":\"64012\",\"type\":\"GlyphRenderer\"},{\"id\":\"64017\",\"type\":\"GlyphRenderer\"},{\"id\":\"64022\",\"type\":\"GlyphRenderer\"},{\"id\":\"64027\",\"type\":\"GlyphRenderer\"},{\"id\":\"64032\",\"type\":\"GlyphRenderer\"},{\"id\":\"64037\",\"type\":\"GlyphRenderer\"},{\"id\":\"64042\",\"type\":\"GlyphRenderer\"},{\"id\":\"64047\",\"type\":\"GlyphRenderer\"},{\"id\":\"64052\",\"type\":\"GlyphRenderer\"},{\"id\":\"64057\",\"type\":\"GlyphRenderer\"},{\"id\":\"64062\",\"type\":\"GlyphRenderer\"},{\"id\":\"64067\",\"type\":\"GlyphRenderer\"},{\"id\":\"64072\",\"type\":\"GlyphRenderer\"},{\"id\":\"64077\",\"type\":\"GlyphRenderer\"},{\"id\":\"64082\",\"type\":\"GlyphRenderer\"},{\"id\":\"64087\",\"type\":\"GlyphRenderer\"},{\"id\":\"64092\",\"type\":\"GlyphRenderer\"},{\"id\":\"64097\",\"type\":\"GlyphRenderer\"},{\"id\":\"64102\",\"type\":\"GlyphRenderer\"},{\"id\":\"64107\",\"type\":\"GlyphRenderer\"},{\"id\":\"64112\",\"type\":\"GlyphRenderer\"},{\"id\":\"64117\",\"type\":\"GlyphRenderer\"},{\"id\":\"64122\",\"type\":\"GlyphRenderer\"},{\"id\":\"64127\",\"type\":\"GlyphRenderer\"},{\"id\":\"64132\",\"type\":\"GlyphRenderer\"},{\"id\":\"64137\",\"type\":\"GlyphRenderer\"},{\"id\":\"64142\",\"type\":\"GlyphRenderer\"},{\"id\":\"64147\",\"type\":\"GlyphRenderer\"},{\"id\":\"64152\",\"type\":\"GlyphRenderer\"},{\"id\":\"64157\",\"type\":\"GlyphRenderer\"},{\"id\":\"64162\",\"type\":\"GlyphRenderer\"},{\"id\":\"64167\",\"type\":\"GlyphRenderer\"},{\"id\":\"64172\",\"type\":\"GlyphRenderer\"},{\"id\":\"64177\",\"type\":\"GlyphRenderer\"},{\"id\":\"64182\",\"type\":\"GlyphRenderer\"},{\"id\":\"64187\",\"type\":\"GlyphRenderer\"},{\"id\":\"64192\",\"type\":\"GlyphRenderer\"},{\"id\":\"64197\",\"type\":\"GlyphRenderer\"}],\"title\":{\"id\":\"65440\",\"type\":\"Title\"},\"toolbar\":{\"id\":\"63940\",\"type\":\"Toolbar\"},\"width\":6000,\"x_range\":{\"id\":\"63916\",\"type\":\"DataRange1d\"},\"x_scale\":{\"id\":\"63920\",\"type\":\"LinearScale\"},\"y_range\":{\"id\":\"63918\",\"type\":\"DataRange1d\"},\"y_scale\":{\"id\":\"63922\",\"type\":\"LinearScale\"}},\"id\":\"63915\",\"subtype\":\"Figure\",\"type\":\"Plot\"},{\"attributes\":{\"callback\":null,\"data\":{\"x\":[1,2,7,21,59,166,464,1291,3593,10000],\"y\":{\"__ndarray__\":\"AAAA9P2uYT8AAAA0/25lPwAAABko2mk/AAAA4wiWdj8AAADoGaKGPwAAwA1yVp0/AAAYM0aUsT8AAHyuT/bHPwAANt6SpuA/AADeHTp59D8=\",\"dtype\":\"float64\",\"shape\":[10]}},\"selected\":{\"id\":\"65470\",\"type\":\"Selection\"},\"selection_policy\":{\"id\":\"65471\",\"type\":\"UnionRenderers\"}},\"id\":\"64009\",\"type\":\"ColumnDataSource\"},{\"attributes\":{\"line_alpha\":0.1,\"line_color\":\"#1f77b4\",\"line_width\":30,\"x\":{\"field\":\"x\"},\"y\":{\"field\":\"y\"}},\"id\":\"64015\",\"type\":\"Line\"},{\"attributes\":{\"line_alpha\":0.1,\"line_color\":\"#1f77b4\",\"line_width\":30,\"x\":{\"field\":\"x\"},\"y\":{\"field\":\"y\"}},\"id\":\"64011\",\"type\":\"Line\"},{\"attributes\":{\"line_alpha\":0.1,\"line_color\":\"#1f77b4\",\"line_width\":30,\"x\":{\"field\":\"x\"},\"y\":{\"field\":\"y\"}},\"id\":\"64016\",\"type\":\"Line\"},{\"attributes\":{\"data_source\":{\"id\":\"64014\",\"type\":\"ColumnDataSource\"},\"glyph\":{\"id\":\"64015\",\"type\":\"Line\"},\"hover_glyph\":null,\"muted_glyph\":null,\"nonselection_glyph\":{\"id\":\"64016\",\"type\":\"Line\"},\"selection_glyph\":null,\"view\":{\"id\":\"64018\",\"type\":\"CDSView\"}},\"id\":\"64017\",\"type\":\"GlyphRenderer\"},{\"attributes\":{\"line_alpha\":0.1,\"line_color\":\"#1f77b4\",\"line_width\":30,\"x\":{\"field\":\"x\"},\"y\":{\"field\":\"y\"}},\"id\":\"64005\",\"type\":\"Line\"},{\"attributes\":{\"callback\":null,\"data\":{\"x\":[1,2,7,21,59,166,464,1291,3593,10000],\"y\":{\"__ndarray__\":\"AAAALiE4YT8AAADvcjdmPwAAAKxtcWo/AACAYaOBdz8AAIB3GbSGPwAAoN9gCps/AABo1fnNsT8AAND8MKPHPwAAav2pmOA/AIBOnl6r9D8=\",\"dtype\":\"float64\",\"shape\":[10]}},\"selected\":{\"id\":\"65474\",\"type\":\"Selection\"},\"selection_policy\":{\"id\":\"65475\",\"type\":\"UnionRenderers\"}},\"id\":\"64019\",\"type\":\"ColumnDataSource\"},{\"attributes\":{\"callback\":null,\"data\":{\"x\":[1,2,7,21,59,166,464,1291,3593,10000],\"y\":{\"__ndarray__\":\"AAAAOYYCYT8AAACe9FNmPwAAAGyQsWk/AAAAvSBSdj8AAMD+oyqGPwAAIAGIU5s/AAAgbhrqsT8AAPwjvbzHPwAARbVJlOA/AAD0dp2w9D8=\",\"dtype\":\"float64\",\"shape\":[10]}},\"selected\":{\"id\":\"65468\",\"type\":\"Selection\"},\"selection_policy\":{\"id\":\"65469\",\"type\":\"UnionRenderers\"}},\"id\":\"64004\",\"type\":\"ColumnDataSource\"},{\"attributes\":{\"source\":{\"id\":\"64014\",\"type\":\"ColumnDataSource\"}},\"id\":\"64018\",\"type\":\"CDSView\"},{\"attributes\":{\"line_alpha\":0.1,\"line_color\":\"#1f77b4\",\"line_width\":30,\"x\":{\"field\":\"x\"},\"y\":{\"field\":\"y\"}},\"id\":\"64006\",\"type\":\"Line\"},{\"attributes\":{\"source\":{\"id\":\"64004\",\"type\":\"ColumnDataSource\"}},\"id\":\"64008\",\"type\":\"CDSView\"},{\"attributes\":{\"data_source\":{\"id\":\"64009\",\"type\":\"ColumnDataSource\"},\"glyph\":{\"id\":\"64010\",\"type\":\"Line\"},\"hover_glyph\":null,\"muted_glyph\":null,\"nonselection_glyph\":{\"id\":\"64011\",\"type\":\"Line\"},\"selection_glyph\":null,\"view\":{\"id\":\"64013\",\"type\":\"CDSView\"}},\"id\":\"64012\",\"type\":\"GlyphRenderer\"},{\"attributes\":{\"data_source\":{\"id\":\"64004\",\"type\":\"ColumnDataSource\"},\"glyph\":{\"id\":\"64005\",\"type\":\"Line\"},\"hover_glyph\":null,\"muted_glyph\":null,\"nonselection_glyph\":{\"id\":\"64006\",\"type\":\"Line\"},\"selection_glyph\":null,\"view\":{\"id\":\"64008\",\"type\":\"CDSView\"}},\"id\":\"64007\",\"type\":\"GlyphRenderer\"},{\"attributes\":{\"source\":{\"id\":\"64009\",\"type\":\"ColumnDataSource\"}},\"id\":\"64013\",\"type\":\"CDSView\"},{\"attributes\":{\"line_alpha\":0.1,\"line_color\":\"#1f77b4\",\"line_width\":30,\"x\":{\"field\":\"x\"},\"y\":{\"field\":\"y\"}},\"id\":\"64010\",\"type\":\"Line\"},{\"attributes\":{\"callback\":null,\"data\":{\"x\":[1,2,7,21,59,166,464,1291,3593,10000],\"y\":{\"__ndarray__\":\"AAAA5SIzYT8AAACWSydlPwAAAB91l2s/AAAA73I3dj8AAACCm6aGPwAAIOOs45s/AAAIg6bjsT8AAPBhC07IPwAALvKAvOA/AIB+8Mp79D8=\",\"dtype\":\"float64\",\"shape\":[10]}},\"selected\":{\"id\":\"65472\",\"type\":\"Selection\"},\"selection_policy\":{\"id\":\"65473\",\"type\":\"UnionRenderers\"}},\"id\":\"64014\",\"type\":\"ColumnDataSource\"},{\"attributes\":{\"source\":{\"id\":\"63999\",\"type\":\"ColumnDataSource\"}},\"id\":\"64003\",\"type\":\"CDSView\"},{\"attributes\":{\"line_alpha\":0.1,\"line_color\":\"#1f77b4\",\"line_width\":30,\"x\":{\"field\":\"x\"},\"y\":{\"field\":\"y\"}},\"id\":\"64021\",\"type\":\"Line\"},{\"attributes\":{\"line_alpha\":0.1,\"line_color\":\"#1f77b4\",\"line_width\":30,\"x\":{\"field\":\"x\"},\"y\":{\"field\":\"y\"}},\"id\":\"64020\",\"type\":\"Line\"},{\"attributes\":{\"data_source\":{\"id\":\"64019\",\"type\":\"ColumnDataSource\"},\"glyph\":{\"id\":\"64020\",\"type\":\"Line\"},\"hover_glyph\":null,\"muted_glyph\":null,\"nonselection_glyph\":{\"id\":\"64021\",\"type\":\"Line\"},\"selection_glyph\":null,\"view\":{\"id\":\"64023\",\"type\":\"CDSView\"}},\"id\":\"64022\",\"type\":\"GlyphRenderer\"},{\"attributes\":{\"callback\":null,\"data\":{\"x\":[1,2,7,21,59,166,464,1291,3593,10000],\"y\":{\"__ndarray__\":\"AAAAO6KEYT8AAABXdghmPwAAAIBzamo/AACAVXhTdj8AAED7a1uHPwAA4P74mZo/AADIjOe7sT8AAPCScJXHPwAAu0CnkuA/AADkm8Ym9D8=\",\"dtype\":\"float64\",\"shape\":[10]}},\"selected\":{\"id\":\"65476\",\"type\":\"Selection\"},\"selection_policy\":{\"id\":\"65477\",\"type\":\"UnionRenderers\"}},\"id\":\"64024\",\"type\":\"ColumnDataSource\"},{\"attributes\":{\"source\":{\"id\":\"64019\",\"type\":\"ColumnDataSource\"}},\"id\":\"64023\",\"type\":\"CDSView\"},{\"attributes\":{},\"id\":\"65466\",\"type\":\"Selection\"},{\"attributes\":{},\"id\":\"63937\",\"type\":\"SaveTool\"},{\"attributes\":{},\"id\":\"65467\",\"type\":\"UnionRenderers\"},{\"attributes\":{},\"id\":\"65468\",\"type\":\"Selection\"},{\"attributes\":{},\"id\":\"65469\",\"type\":\"UnionRenderers\"},{\"attributes\":{},\"id\":\"65470\",\"type\":\"Selection\"},{\"attributes\":{},\"id\":\"65471\",\"type\":\"UnionRenderers\"},{\"attributes\":{},\"id\":\"65472\",\"type\":\"Selection\"},{\"attributes\":{},\"id\":\"65473\",\"type\":\"UnionRenderers\"},{\"attributes\":{},\"id\":\"65474\",\"type\":\"Selection\"},{\"attributes\":{},\"id\":\"65475\",\"type\":\"UnionRenderers\"},{\"attributes\":{},\"id\":\"65476\",\"type\":\"Selection\"},{\"attributes\":{},\"id\":\"65477\",\"type\":\"UnionRenderers\"},{\"attributes\":{},\"id\":\"65478\",\"type\":\"Selection\"},{\"attributes\":{},\"id\":\"65479\",\"type\":\"UnionRenderers\"},{\"attributes\":{},\"id\":\"65480\",\"type\":\"Selection\"},{\"attributes\":{},\"id\":\"65481\",\"type\":\"UnionRenderers\"},{\"attributes\":{},\"id\":\"65482\",\"type\":\"Selection\"},{\"attributes\":{},\"id\":\"65483\",\"type\":\"UnionRenderers\"},{\"attributes\":{},\"id\":\"65484\",\"type\":\"Selection\"},{\"attributes\":{},\"id\":\"65485\",\"type\":\"UnionRenderers\"},{\"attributes\":{\"overlay\":{\"id\":\"63942\",\"type\":\"BoxAnnotation\"}},\"id\":\"63936\",\"type\":\"BoxZoomTool\"},{\"attributes\":{},\"id\":\"65486\",\"type\":\"Selection\"},{\"attributes\":{},\"id\":\"65487\",\"type\":\"UnionRenderers\"},{\"attributes\":{},\"id\":\"65488\",\"type\":\"Selection\"},{\"attributes\":{},\"id\":\"65489\",\"type\":\"UnionRenderers\"},{\"attributes\":{},\"id\":\"65490\",\"type\":\"Selection\"},{\"attributes\":{},\"id\":\"65491\",\"type\":\"UnionRenderers\"},{\"attributes\":{},\"id\":\"65492\",\"type\":\"Selection\"},{\"attributes\":{},\"id\":\"65493\",\"type\":\"UnionRenderers\"},{\"attributes\":{},\"id\":\"65494\",\"type\":\"Selection\"},{\"attributes\":{},\"id\":\"65495\",\"type\":\"UnionRenderers\"},{\"attributes\":{},\"id\":\"65496\",\"type\":\"Selection\"},{\"attributes\":{\"line_alpha\":0.1,\"line_color\":\"#1f77b4\",\"line_width\":30,\"x\":{\"field\":\"x\"},\"y\":{\"field\":\"y\"}},\"id\":\"64025\",\"type\":\"Line\"},{\"attributes\":{},\"id\":\"65497\",\"type\":\"UnionRenderers\"},{\"attributes\":{},\"id\":\"65498\",\"type\":\"Selection\"},{\"attributes\":{},\"id\":\"65499\",\"type\":\"UnionRenderers\"},{\"attributes\":{},\"id\":\"65500\",\"type\":\"Selection\"},{\"attributes\":{},\"id\":\"65501\",\"type\":\"UnionRenderers\"},{\"attributes\":{},\"id\":\"65538\",\"type\":\"Selection\"},{\"attributes\":{},\"id\":\"65539\",\"type\":\"UnionRenderers\"},{\"attributes\":{},\"id\":\"65540\",\"type\":\"Selection\"},{\"attributes\":{\"line_alpha\":0.1,\"line_color\":\"#1f77b4\",\"line_width\":30,\"x\":{\"field\":\"x\"},\"y\":{\"field\":\"y\"}},\"id\":\"64071\",\"type\":\"Line\"},{\"attributes\":{},\"id\":\"63935\",\"type\":\"WheelZoomTool\"},{\"attributes\":{},\"id\":\"65541\",\"type\":\"UnionRenderers\"},{\"attributes\":{},\"id\":\"65542\",\"type\":\"Selection\"},{\"attributes\":{},\"id\":\"65543\",\"type\":\"UnionRenderers\"},{\"attributes\":{},\"id\":\"65544\",\"type\":\"Selection\"},{\"attributes\":{},\"id\":\"65545\",\"type\":\"UnionRenderers\"},{\"attributes\":{\"source\":{\"id\":\"64064\",\"type\":\"ColumnDataSource\"}},\"id\":\"64068\",\"type\":\"CDSView\"},{\"attributes\":{\"line_alpha\":0.1,\"line_color\":\"#1f77b4\",\"line_width\":30,\"x\":{\"field\":\"x\"},\"y\":{\"field\":\"y\"}},\"id\":\"64070\",\"type\":\"Line\"},{\"attributes\":{\"callback\":null,\"data\":{\"x\":[1,2,7,21,59,166,464,1291,3593,10000],\"y\":{\"__ndarray__\":\"AAAAkfSjYD8AAACi2bRjPwAAAHKBRWo/AAAA0FRzdD8AAECPPE+FPwAAQBvSnpo/AAAAVPzVsT8AAKSKK+zHPwAA6xN9lOA/AIBy/z1S9D8=\",\"dtype\":\"float64\",\"shape\":[10]}},\"selected\":{\"id\":\"65494\",\"type\":\"Selection\"},\"selection_policy\":{\"id\":\"65495\",\"type\":\"UnionRenderers\"}},\"id\":\"64069\",\"type\":\"ColumnDataSource\"},{\"attributes\":{\"data_source\":{\"id\":\"64064\",\"type\":\"ColumnDataSource\"},\"glyph\":{\"id\":\"64065\",\"type\":\"Line\"},\"hover_glyph\":null,\"muted_glyph\":null,\"nonselection_glyph\":{\"id\":\"64066\",\"type\":\"Line\"},\"selection_glyph\":null,\"view\":{\"id\":\"64068\",\"type\":\"CDSView\"}},\"id\":\"64067\",\"type\":\"GlyphRenderer\"},{\"attributes\":{\"line_alpha\":0.1,\"line_color\":\"#1f77b4\",\"line_width\":30,\"x\":{\"field\":\"x\"},\"y\":{\"field\":\"y\"}},\"id\":\"64066\",\"type\":\"Line\"},{\"attributes\":{\"line_alpha\":0.1,\"line_color\":\"#1f77b4\",\"line_width\":30,\"x\":{\"field\":\"x\"},\"y\":{\"field\":\"y\"}},\"id\":\"64150\",\"type\":\"Line\"},{\"attributes\":{\"line_alpha\":0.1,\"line_color\":\"#1f77b4\",\"line_width\":30,\"x\":{\"field\":\"x\"},\"y\":{\"field\":\"y\"}},\"id\":\"64151\",\"type\":\"Line\"},{\"attributes\":{\"data_source\":{\"id\":\"64149\",\"type\":\"ColumnDataSource\"},\"glyph\":{\"id\":\"64150\",\"type\":\"Line\"},\"hover_glyph\":null,\"muted_glyph\":null,\"nonselection_glyph\":{\"id\":\"64151\",\"type\":\"Line\"},\"selection_glyph\":null,\"view\":{\"id\":\"64153\",\"type\":\"CDSView\"}},\"id\":\"64152\",\"type\":\"GlyphRenderer\"},{\"attributes\":{\"source\":{\"id\":\"64149\",\"type\":\"ColumnDataSource\"}},\"id\":\"64153\",\"type\":\"CDSView\"},{\"attributes\":{\"callback\":null,\"data\":{\"x\":[1,2,7,21,59,166,464,1291,3593,10000],\"y\":{\"__ndarray__\":\"AAAAf7RTYT8AAAAeF4lkPwAAAMfHxmo/AACAkiUfdT8AAIDzpoWHPwAAIBvXUps/AADIdPDlsT8AAIRePq3HPwAA0MLdiuA/AADcryGh9D8=\",\"dtype\":\"float64\",\"shape\":[10]}},\"selected\":{\"id\":\"65528\",\"type\":\"Selection\"},\"selection_policy\":{\"id\":\"65529\",\"type\":\"UnionRenderers\"}},\"id\":\"64154\",\"type\":\"ColumnDataSource\"},{\"attributes\":{\"line_alpha\":0.1,\"line_color\":\"#1f77b4\",\"line_width\":30,\"x\":{\"field\":\"x\"},\"y\":{\"field\":\"y\"}},\"id\":\"64155\",\"type\":\"Line\"},{\"attributes\":{\"line_alpha\":0.1,\"line_color\":\"#1f77b4\",\"line_width\":30,\"x\":{\"field\":\"x\"},\"y\":{\"field\":\"y\"}},\"id\":\"64156\",\"type\":\"Line\"},{\"attributes\":{\"data_source\":{\"id\":\"64154\",\"type\":\"ColumnDataSource\"},\"glyph\":{\"id\":\"64155\",\"type\":\"Line\"},\"hover_glyph\":null,\"muted_glyph\":null,\"nonselection_glyph\":{\"id\":\"64156\",\"type\":\"Line\"},\"selection_glyph\":null,\"view\":{\"id\":\"64158\",\"type\":\"CDSView\"}},\"id\":\"64157\",\"type\":\"GlyphRenderer\"},{\"attributes\":{\"callback\":null,\"data\":{\"x\":[1,2,7,21,59,166,464,1291,3593,10000],\"y\":{\"__ndarray__\":\"AAAAzEQRYj8AAABTOfpjPwAAAKJdKms/AAAA/tQQdj8AAABDm7GGPwAA4Ox2wJo/AAB4L5XWsT8AACjikx/IPwAAzDNcmOA/AAAcfYB59D8=\",\"dtype\":\"float64\",\"shape\":[10]}},\"selected\":{\"id\":\"65480\",\"type\":\"Selection\"},\"selection_policy\":{\"id\":\"65481\",\"type\":\"UnionRenderers\"}},\"id\":\"64034\",\"type\":\"ColumnDataSource\"},{\"attributes\":{\"source\":{\"id\":\"64154\",\"type\":\"ColumnDataSource\"}},\"id\":\"64158\",\"type\":\"CDSView\"},{\"attributes\":{\"callback\":null,\"data\":{\"x\":[1,2,7,21,59,166,464,1291,3593,10000],\"y\":{\"__ndarray__\":\"AAAA3mg3Yj8AAABqn9BjPwAAAFhhw2s/AACAWUKNdj8AAABFpnSHPwAAYNZ4B5s/AABg2LoEsj8AAHg1Z+fHPwAA9i7tquA/AAAYGXWR9D8=\",\"dtype\":\"float64\",\"shape\":[10]}},\"selected\":{\"id\":\"65530\",\"type\":\"Selection\"},\"selection_policy\":{\"id\":\"65531\",\"type\":\"UnionRenderers\"}},\"id\":\"64159\",\"type\":\"ColumnDataSource\"},{\"attributes\":{\"callback\":null,\"data\":{\"x\":[1,2,7,21,59,166,464,1291,3593,10000],\"y\":{\"__ndarray__\":\"AAAA4ExbYj8AAAC785ljPwAAAEG1FWk/AACARKobdD8AAEC0CeGFPwAAYKt3l5s/AADwuaq+sT8AAPyRH3rHPwAAmHgFp+A/AICvGDaB9D8=\",\"dtype\":\"float64\",\"shape\":[10]}},\"selected\":{\"id\":\"65478\",\"type\":\"Selection\"},\"selection_policy\":{\"id\":\"65479\",\"type\":\"UnionRenderers\"}},\"id\":\"64029\",\"type\":\"ColumnDataSource\"},{\"attributes\":{\"line_alpha\":0.1,\"line_color\":\"#1f77b4\",\"line_width\":30,\"x\":{\"field\":\"x\"},\"y\":{\"field\":\"y\"}},\"id\":\"64160\",\"type\":\"Line\"},{\"attributes\":{\"data_source\":{\"id\":\"63954\",\"type\":\"ColumnDataSource\"},\"glyph\":{\"id\":\"63955\",\"type\":\"Line\"},\"hover_glyph\":null,\"muted_glyph\":null,\"nonselection_glyph\":{\"id\":\"63956\",\"type\":\"Line\"},\"selection_glyph\":null,\"view\":{\"id\":\"63958\",\"type\":\"CDSView\"}},\"id\":\"63957\",\"type\":\"GlyphRenderer\"},{\"attributes\":{\"line_alpha\":0.1,\"line_color\":\"#1f77b4\",\"line_width\":30,\"x\":{\"field\":\"x\"},\"y\":{\"field\":\"y\"}},\"id\":\"64161\",\"type\":\"Line\"},{\"attributes\":{},\"id\":\"63939\",\"type\":\"HelpTool\"},{\"attributes\":{\"data_source\":{\"id\":\"64159\",\"type\":\"ColumnDataSource\"},\"glyph\":{\"id\":\"64160\",\"type\":\"Line\"},\"hover_glyph\":null,\"muted_glyph\":null,\"nonselection_glyph\":{\"id\":\"64161\",\"type\":\"Line\"},\"selection_glyph\":null,\"view\":{\"id\":\"64163\",\"type\":\"CDSView\"}},\"id\":\"64162\",\"type\":\"GlyphRenderer\"},{\"attributes\":{\"line_alpha\":0.1,\"line_color\":\"#1f77b4\",\"line_width\":30,\"x\":{\"field\":\"x\"},\"y\":{\"field\":\"y\"}},\"id\":\"63956\",\"type\":\"Line\"},{\"attributes\":{\"source\":{\"id\":\"64159\",\"type\":\"ColumnDataSource\"}},\"id\":\"64163\",\"type\":\"CDSView\"},{\"attributes\":{\"callback\":null,\"data\":{\"x\":[1,2,7,21,59,166,464,1291,3593,10000],\"y\":{\"__ndarray__\":\"AAAAjetMYj8AAACbdx1jPwAAAOdYJWs/AAAAXzq1dD8AAMDgksqFPwAAAMaNaps/AAD40ePWsT8AABgo51PIPwAA9SFoj+A/AIAQ5VdY9D8=\",\"dtype\":\"float64\",\"shape\":[10]}},\"selected\":{\"id\":\"65532\",\"type\":\"Selection\"},\"selection_policy\":{\"id\":\"65533\",\"type\":\"UnionRenderers\"}},\"id\":\"64164\",\"type\":\"ColumnDataSource\"},{\"attributes\":{\"line_alpha\":0.1,\"line_color\":\"#1f77b4\",\"line_width\":30,\"x\":{\"field\":\"x\"},\"y\":{\"field\":\"y\"}},\"id\":\"64165\",\"type\":\"Line\"},{\"attributes\":{\"line_alpha\":0.1,\"line_color\":\"#1f77b4\",\"line_width\":30,\"x\":{\"field\":\"x\"},\"y\":{\"field\":\"y\"}},\"id\":\"64031\",\"type\":\"Line\"},{\"attributes\":{\"line_alpha\":0.1,\"line_color\":\"#1f77b4\",\"line_width\":30,\"x\":{\"field\":\"x\"},\"y\":{\"field\":\"y\"}},\"id\":\"64166\",\"type\":\"Line\"},{\"attributes\":{\"data_source\":{\"id\":\"64164\",\"type\":\"ColumnDataSource\"},\"glyph\":{\"id\":\"64165\",\"type\":\"Line\"},\"hover_glyph\":null,\"muted_glyph\":null,\"nonselection_glyph\":{\"id\":\"64166\",\"type\":\"Line\"},\"selection_glyph\":null,\"view\":{\"id\":\"64168\",\"type\":\"CDSView\"}},\"id\":\"64167\",\"type\":\"GlyphRenderer\"},{\"attributes\":{\"source\":{\"id\":\"64164\",\"type\":\"ColumnDataSource\"}},\"id\":\"64168\",\"type\":\"CDSView\"},{\"attributes\":{\"callback\":null,\"data\":{\"x\":[1,2,7,21,59,166,464,1291,3593,10000],\"y\":{\"__ndarray__\":\"AAAAxb0LYT8AAACEwLNlPwAAAFVI4Gw/AAAAPm/mdD8AAEBpiI2GPwAAIK4oZ5w/AADgOELpsT8AAEAq0njIPwAAj47biuA/AIB7N+jb9D8=\",\"dtype\":\"float64\",\"shape\":[10]}},\"selected\":{\"id\":\"65534\",\"type\":\"Selection\"},\"selection_policy\":{\"id\":\"65535\",\"type\":\"UnionRenderers\"}},\"id\":\"64169\",\"type\":\"ColumnDataSource\"},{\"attributes\":{\"source\":{\"id\":\"64024\",\"type\":\"ColumnDataSource\"}},\"id\":\"64028\",\"type\":\"CDSView\"},{\"attributes\":{\"source\":{\"id\":\"64029\",\"type\":\"ColumnDataSource\"}},\"id\":\"64033\",\"type\":\"CDSView\"},{\"attributes\":{\"line_alpha\":0.1,\"line_color\":\"#1f77b4\",\"line_width\":30,\"x\":{\"field\":\"x\"},\"y\":{\"field\":\"y\"}},\"id\":\"64170\",\"type\":\"Line\"},{\"attributes\":{\"data_source\":{\"id\":\"64029\",\"type\":\"ColumnDataSource\"},\"glyph\":{\"id\":\"64030\",\"type\":\"Line\"},\"hover_glyph\":null,\"muted_glyph\":null,\"nonselection_glyph\":{\"id\":\"64031\",\"type\":\"Line\"},\"selection_glyph\":null,\"view\":{\"id\":\"64033\",\"type\":\"CDSView\"}},\"id\":\"64032\",\"type\":\"GlyphRenderer\"},{\"attributes\":{\"line_alpha\":0.1,\"line_color\":\"#1f77b4\",\"line_width\":30,\"x\":{\"field\":\"x\"},\"y\":{\"field\":\"y\"}},\"id\":\"64171\",\"type\":\"Line\"},{\"attributes\":{\"data_source\":{\"id\":\"64169\",\"type\":\"ColumnDataSource\"},\"glyph\":{\"id\":\"64170\",\"type\":\"Line\"},\"hover_glyph\":null,\"muted_glyph\":null,\"nonselection_glyph\":{\"id\":\"64171\",\"type\":\"Line\"},\"selection_glyph\":null,\"view\":{\"id\":\"64173\",\"type\":\"CDSView\"}},\"id\":\"64172\",\"type\":\"GlyphRenderer\"},{\"attributes\":{\"data_source\":{\"id\":\"64024\",\"type\":\"ColumnDataSource\"},\"glyph\":{\"id\":\"64025\",\"type\":\"Line\"},\"hover_glyph\":null,\"muted_glyph\":null,\"nonselection_glyph\":{\"id\":\"64026\",\"type\":\"Line\"},\"selection_glyph\":null,\"view\":{\"id\":\"64028\",\"type\":\"CDSView\"}},\"id\":\"64027\",\"type\":\"GlyphRenderer\"},{\"attributes\":{\"source\":{\"id\":\"64169\",\"type\":\"ColumnDataSource\"}},\"id\":\"64173\",\"type\":\"CDSView\"},{\"attributes\":{\"callback\":null,\"data\":{\"x\":[1,2,7,21,59,166,464,1291,3593,10000],\"y\":{\"__ndarray__\":\"AAAAAHYVYj8AAAB1dnRkPwAAAJ+pAG0/AACANBtrdD8AAAAg+DaGPwAAwB/KH5s/AAAQ/dfCsT8AAMwzbuvHPwAAvQ0vneA/AABtlphd9D8=\",\"dtype\":\"float64\",\"shape\":[10]}},\"selected\":{\"id\":\"65536\",\"type\":\"Selection\"},\"selection_policy\":{\"id\":\"65537\",\"type\":\"UnionRenderers\"}},\"id\":\"64174\",\"type\":\"ColumnDataSource\"},{\"attributes\":{\"line_alpha\":0.1,\"line_color\":\"#1f77b4\",\"line_width\":30,\"x\":{\"field\":\"x\"},\"y\":{\"field\":\"y\"}},\"id\":\"64175\",\"type\":\"Line\"},{\"attributes\":{\"line_alpha\":0.1,\"line_color\":\"#1f77b4\",\"line_width\":30,\"x\":{\"field\":\"x\"},\"y\":{\"field\":\"y\"}},\"id\":\"64176\",\"type\":\"Line\"},{\"attributes\":{\"line_alpha\":0.1,\"line_color\":\"#1f77b4\",\"line_width\":30,\"x\":{\"field\":\"x\"},\"y\":{\"field\":\"y\"}},\"id\":\"64030\",\"type\":\"Line\"},{\"attributes\":{\"data_source\":{\"id\":\"64174\",\"type\":\"ColumnDataSource\"},\"glyph\":{\"id\":\"64175\",\"type\":\"Line\"},\"hover_glyph\":null,\"muted_glyph\":null,\"nonselection_glyph\":{\"id\":\"64176\",\"type\":\"Line\"},\"selection_glyph\":null,\"view\":{\"id\":\"64178\",\"type\":\"CDSView\"}},\"id\":\"64177\",\"type\":\"GlyphRenderer\"},{\"attributes\":{\"source\":{\"id\":\"64174\",\"type\":\"ColumnDataSource\"}},\"id\":\"64178\",\"type\":\"CDSView\"},{\"attributes\":{\"callback\":null,\"data\":{\"x\":[1,2,7,21,59,166,464,1291,3593,10000],\"y\":{\"__ndarray__\":\"AAAAwBrcYD8AAADs+t9jPwAAACUGnWo/AACA6o/fdD8AAMB0PBqGPwAA4OV5T5s/AACQb/rDsT8AANDQVebHPwAA1POZzOA/AICr4Kiu9D8=\",\"dtype\":\"float64\",\"shape\":[10]}},\"selected\":{\"id\":\"65538\",\"type\":\"Selection\"},\"selection_policy\":{\"id\":\"65539\",\"type\":\"UnionRenderers\"}},\"id\":\"64179\",\"type\":\"ColumnDataSource\"},{\"attributes\":{},\"id\":\"63938\",\"type\":\"ResetTool\"},{\"attributes\":{\"line_alpha\":0.1,\"line_color\":\"#1f77b4\",\"line_width\":30,\"x\":{\"field\":\"x\"},\"y\":{\"field\":\"y\"}},\"id\":\"64180\",\"type\":\"Line\"},{\"attributes\":{\"line_alpha\":0.1,\"line_color\":\"#1f77b4\",\"line_width\":30,\"x\":{\"field\":\"x\"},\"y\":{\"field\":\"y\"}},\"id\":\"63955\",\"type\":\"Line\"},{\"attributes\":{\"line_alpha\":0.1,\"line_color\":\"#1f77b4\",\"line_width\":30,\"x\":{\"field\":\"x\"},\"y\":{\"field\":\"y\"}},\"id\":\"64181\",\"type\":\"Line\"},{\"attributes\":{\"data_source\":{\"id\":\"64179\",\"type\":\"ColumnDataSource\"},\"glyph\":{\"id\":\"64180\",\"type\":\"Line\"},\"hover_glyph\":null,\"muted_glyph\":null,\"nonselection_glyph\":{\"id\":\"64181\",\"type\":\"Line\"},\"selection_glyph\":null,\"view\":{\"id\":\"64183\",\"type\":\"CDSView\"}},\"id\":\"64182\",\"type\":\"GlyphRenderer\"},{\"attributes\":{\"source\":{\"id\":\"63949\",\"type\":\"ColumnDataSource\"}},\"id\":\"63953\",\"type\":\"CDSView\"},{\"attributes\":{\"source\":{\"id\":\"64179\",\"type\":\"ColumnDataSource\"}},\"id\":\"64183\",\"type\":\"CDSView\"},{\"attributes\":{\"active_drag\":\"auto\",\"active_inspect\":\"auto\",\"active_multi\":null,\"active_scroll\":\"auto\",\"active_tap\":\"auto\",\"tools\":[{\"id\":\"63934\",\"type\":\"PanTool\"},{\"id\":\"63935\",\"type\":\"WheelZoomTool\"},{\"id\":\"63936\",\"type\":\"BoxZoomTool\"},{\"id\":\"63937\",\"type\":\"SaveTool\"},{\"id\":\"63938\",\"type\":\"ResetTool\"},{\"id\":\"63939\",\"type\":\"HelpTool\"}]},\"id\":\"63940\",\"type\":\"Toolbar\"},{\"attributes\":{\"line_alpha\":0.1,\"line_color\":\"#1f77b4\",\"line_width\":30,\"x\":{\"field\":\"x\"},\"y\":{\"field\":\"y\"}},\"id\":\"64026\",\"type\":\"Line\"},{\"attributes\":{\"bottom_units\":\"screen\",\"fill_alpha\":{\"value\":0.5},\"fill_color\":{\"value\":\"lightgrey\"},\"left_units\":\"screen\",\"level\":\"overlay\",\"line_alpha\":{\"value\":1.0},\"line_color\":{\"value\":\"black\"},\"line_dash\":[4,4],\"line_width\":{\"value\":2},\"plot\":null,\"render_mode\":\"css\",\"right_units\":\"screen\",\"top_units\":\"screen\"},\"id\":\"63942\",\"type\":\"BoxAnnotation\"},{\"attributes\":{\"callback\":null,\"data\":{\"x\":[1,2,7,21,59,166,464,1291,3593,10000],\"y\":{\"__ndarray__\":\"AAAADC33YT8AAAB/9XlrPwAAAGHWF2s/AAAAyEBIdT8AAIAkfz+HPwAA4H5Fhpo/AACIAU7msT8AAIwzD6vHPwAAGJ1w0uA/AIBtGifq9D8=\",\"dtype\":\"float64\",\"shape\":[10]}},\"selected\":{\"id\":\"65540\",\"type\":\"Selection\"},\"selection_policy\":{\"id\":\"65541\",\"type\":\"UnionRenderers\"}},\"id\":\"64184\",\"type\":\"ColumnDataSource\"},{\"attributes\":{\"line_alpha\":0.1,\"line_color\":\"#1f77b4\",\"line_width\":30,\"x\":{\"field\":\"x\"},\"y\":{\"field\":\"y\"}},\"id\":\"64185\",\"type\":\"Line\"},{\"attributes\":{\"line_alpha\":0.1,\"line_color\":\"#1f77b4\",\"line_width\":30,\"x\":{\"field\":\"x\"},\"y\":{\"field\":\"y\"}},\"id\":\"64186\",\"type\":\"Line\"},{\"attributes\":{\"data_source\":{\"id\":\"64184\",\"type\":\"ColumnDataSource\"},\"glyph\":{\"id\":\"64185\",\"type\":\"Line\"},\"hover_glyph\":null,\"muted_glyph\":null,\"nonselection_glyph\":{\"id\":\"64186\",\"type\":\"Line\"},\"selection_glyph\":null,\"view\":{\"id\":\"64188\",\"type\":\"CDSView\"}},\"id\":\"64187\",\"type\":\"GlyphRenderer\"},{\"attributes\":{\"line_alpha\":0.1,\"line_color\":\"#1f77b4\",\"line_width\":30,\"x\":{\"field\":\"x\"},\"y\":{\"field\":\"y\"}},\"id\":\"64075\",\"type\":\"Line\"},{\"attributes\":{\"data_source\":{\"id\":\"64069\",\"type\":\"ColumnDataSource\"},\"glyph\":{\"id\":\"64070\",\"type\":\"Line\"},\"hover_glyph\":null,\"muted_glyph\":null,\"nonselection_glyph\":{\"id\":\"64071\",\"type\":\"Line\"},\"selection_glyph\":null,\"view\":{\"id\":\"64073\",\"type\":\"CDSView\"}},\"id\":\"64072\",\"type\":\"GlyphRenderer\"},{\"attributes\":{\"source\":{\"id\":\"64184\",\"type\":\"ColumnDataSource\"}},\"id\":\"64188\",\"type\":\"CDSView\"},{\"attributes\":{\"data_source\":{\"id\":\"64074\",\"type\":\"ColumnDataSource\"},\"glyph\":{\"id\":\"64075\",\"type\":\"Line\"},\"hover_glyph\":null,\"muted_glyph\":null,\"nonselection_glyph\":{\"id\":\"64076\",\"type\":\"Line\"},\"selection_glyph\":null,\"view\":{\"id\":\"64078\",\"type\":\"CDSView\"}},\"id\":\"64077\",\"type\":\"GlyphRenderer\"},{\"attributes\":{\"callback\":null,\"data\":{\"x\":[1,2,7,21,59,166,464,1291,3593,10000],\"y\":{\"__ndarray__\":\"AAAA/wCCYT8AAACy9ShmPwAAAKAfSGk/AAAAj9H1dT8AAAD8mFiGPwAAAJvoI5s/AAC4jy3isT8AAGzoJCPIPwAAZFfosOA/AIA3x9L69D8=\",\"dtype\":\"float64\",\"shape\":[10]}},\"selected\":{\"id\":\"65542\",\"type\":\"Selection\"},\"selection_policy\":{\"id\":\"65543\",\"type\":\"UnionRenderers\"}},\"id\":\"64189\",\"type\":\"ColumnDataSource\"},{\"attributes\":{\"line_alpha\":0.1,\"line_color\":\"#1f77b4\",\"line_width\":30,\"x\":{\"field\":\"x\"},\"y\":{\"field\":\"y\"}},\"id\":\"64076\",\"type\":\"Line\"},{\"attributes\":{\"line_alpha\":0.1,\"line_color\":\"#1f77b4\",\"line_width\":30,\"x\":{\"field\":\"x\"},\"y\":{\"field\":\"y\"}},\"id\":\"64190\",\"type\":\"Line\"},{\"attributes\":{\"source\":{\"id\":\"64069\",\"type\":\"ColumnDataSource\"}},\"id\":\"64073\",\"type\":\"CDSView\"},{\"attributes\":{\"callback\":null,\"data\":{\"x\":[1,2,7,21,59,166,464,1291,3593,10000],\"y\":{\"__ndarray__\":\"AAAAk4BhYT8AAAApNmVlPwAAAAKDMmo/AACAprNMdD8AAMCbbNiGPwAAIJ3umpo/AACIs2r2sT8AAAwGLR3IPwAAQmpFseA/AICJiDqC9D8=\",\"dtype\":\"float64\",\"shape\":[10]}},\"selected\":{\"id\":\"65496\",\"type\":\"Selection\"},\"selection_policy\":{\"id\":\"65497\",\"type\":\"UnionRenderers\"}},\"id\":\"64074\",\"type\":\"ColumnDataSource\"},{\"attributes\":{\"line_alpha\":0.1,\"line_color\":\"#1f77b4\",\"line_width\":30,\"x\":{\"field\":\"x\"},\"y\":{\"field\":\"y\"}},\"id\":\"64191\",\"type\":\"Line\"},{\"attributes\":{\"data_source\":{\"id\":\"64189\",\"type\":\"ColumnDataSource\"},\"glyph\":{\"id\":\"64190\",\"type\":\"Line\"},\"hover_glyph\":null,\"muted_glyph\":null,\"nonselection_glyph\":{\"id\":\"64191\",\"type\":\"Line\"},\"selection_glyph\":null,\"view\":{\"id\":\"64193\",\"type\":\"CDSView\"}},\"id\":\"64192\",\"type\":\"GlyphRenderer\"},{\"attributes\":{\"source\":{\"id\":\"64189\",\"type\":\"ColumnDataSource\"}},\"id\":\"64193\",\"type\":\"CDSView\"},{\"attributes\":{\"callback\":null,\"data\":{\"x\":[1,2,7,21,59,166,464,1291,3593,10000],\"y\":{\"__ndarray__\":\"AAAASFcoYz8AAADZblBlPwAAALnSJm8/AAAAU1KcdT8AAEBAJT+KPwAAQHqtmJw/AAAguhIUsj8AADQIrp3HPwAA0LlN++A/AID2OCec9D8=\",\"dtype\":\"float64\",\"shape\":[10]}},\"selected\":{\"id\":\"65544\",\"type\":\"Selection\"},\"selection_policy\":{\"id\":\"65545\",\"type\":\"UnionRenderers\"}},\"id\":\"64194\",\"type\":\"ColumnDataSource\"},{\"attributes\":{\"callback\":null,\"data\":{\"x\":[1,2,7,21,59,166,464,1291,3593,10000],\"y\":{\"__ndarray__\":\"AAAAUPvqYD8AAADSIvRmPwAAAE5Mcms/AACAHzBOdT8AAMDPyzCHPwAAgP/DI5w/AADoDqc7sj8AAMCzOAHIPwAABXMutOA/AAC9HRGm9D8=\",\"dtype\":\"float64\",\"shape\":[10]}},\"selected\":{\"id\":\"65482\",\"type\":\"Selection\"},\"selection_policy\":{\"id\":\"65483\",\"type\":\"UnionRenderers\"}},\"id\":\"64039\",\"type\":\"ColumnDataSource\"},{\"attributes\":{\"line_alpha\":0.1,\"line_color\":\"#1f77b4\",\"line_width\":30,\"x\":{\"field\":\"x\"},\"y\":{\"field\":\"y\"}},\"id\":\"64195\",\"type\":\"Line\"},{\"attributes\":{\"data_source\":{\"id\":\"64034\",\"type\":\"ColumnDataSource\"},\"glyph\":{\"id\":\"64035\",\"type\":\"Line\"},\"hover_glyph\":null,\"muted_glyph\":null,\"nonselection_glyph\":{\"id\":\"64036\",\"type\":\"Line\"},\"selection_glyph\":null,\"view\":{\"id\":\"64038\",\"type\":\"CDSView\"}},\"id\":\"64037\",\"type\":\"GlyphRenderer\"},{\"attributes\":{\"line_alpha\":0.1,\"line_color\":\"#1f77b4\",\"line_width\":30,\"x\":{\"field\":\"x\"},\"y\":{\"field\":\"y\"}},\"id\":\"64196\",\"type\":\"Line\"},{\"attributes\":{\"data_source\":{\"id\":\"64194\",\"type\":\"ColumnDataSource\"},\"glyph\":{\"id\":\"64195\",\"type\":\"Line\"},\"hover_glyph\":null,\"muted_glyph\":null,\"nonselection_glyph\":{\"id\":\"64196\",\"type\":\"Line\"},\"selection_glyph\":null,\"view\":{\"id\":\"64198\",\"type\":\"CDSView\"}},\"id\":\"64197\",\"type\":\"GlyphRenderer\"},{\"attributes\":{\"source\":{\"id\":\"64194\",\"type\":\"ColumnDataSource\"}},\"id\":\"64198\",\"type\":\"CDSView\"},{\"attributes\":{},\"id\":\"65442\",\"type\":\"BasicTickFormatter\"},{\"attributes\":{},\"id\":\"65444\",\"type\":\"BasicTickFormatter\"},{\"attributes\":{},\"id\":\"65446\",\"type\":\"Selection\"},{\"attributes\":{},\"id\":\"65447\",\"type\":\"UnionRenderers\"},{\"attributes\":{\"line_alpha\":0.1,\"line_color\":\"#1f77b4\",\"line_width\":30,\"x\":{\"field\":\"x\"},\"y\":{\"field\":\"y\"}},\"id\":\"64036\",\"type\":\"Line\"},{\"attributes\":{},\"id\":\"65448\",\"type\":\"Selection\"},{\"attributes\":{\"line_alpha\":0.1,\"line_color\":\"#1f77b4\",\"line_width\":30,\"x\":{\"field\":\"x\"},\"y\":{\"field\":\"y\"}},\"id\":\"63995\",\"type\":\"Line\"},{\"attributes\":{},\"id\":\"65449\",\"type\":\"UnionRenderers\"},{\"attributes\":{},\"id\":\"65450\",\"type\":\"Selection\"},{\"attributes\":{},\"id\":\"65451\",\"type\":\"UnionRenderers\"},{\"attributes\":{},\"id\":\"65452\",\"type\":\"Selection\"},{\"attributes\":{},\"id\":\"65453\",\"type\":\"UnionRenderers\"},{\"attributes\":{},\"id\":\"65454\",\"type\":\"Selection\"},{\"attributes\":{},\"id\":\"65455\",\"type\":\"UnionRenderers\"},{\"attributes\":{},\"id\":\"65456\",\"type\":\"Selection\"},{\"attributes\":{},\"id\":\"65457\",\"type\":\"UnionRenderers\"},{\"attributes\":{},\"id\":\"65458\",\"type\":\"Selection\"},{\"attributes\":{},\"id\":\"65459\",\"type\":\"UnionRenderers\"},{\"attributes\":{},\"id\":\"65460\",\"type\":\"Selection\"},{\"attributes\":{},\"id\":\"65461\",\"type\":\"UnionRenderers\"},{\"attributes\":{\"line_alpha\":0.1,\"line_color\":\"#1f77b4\",\"line_width\":30,\"x\":{\"field\":\"x\"},\"y\":{\"field\":\"y\"}},\"id\":\"64035\",\"type\":\"Line\"},{\"attributes\":{},\"id\":\"65462\",\"type\":\"Selection\"},{\"attributes\":{},\"id\":\"65463\",\"type\":\"UnionRenderers\"},{\"attributes\":{},\"id\":\"65464\",\"type\":\"Selection\"},{\"attributes\":{\"source\":{\"id\":\"64034\",\"type\":\"ColumnDataSource\"}},\"id\":\"64038\",\"type\":\"CDSView\"},{\"attributes\":{},\"id\":\"65465\",\"type\":\"UnionRenderers\"},{\"attributes\":{\"source\":{\"id\":\"64074\",\"type\":\"ColumnDataSource\"}},\"id\":\"64078\",\"type\":\"CDSView\"},{\"attributes\":{\"source\":{\"id\":\"63984\",\"type\":\"ColumnDataSource\"}},\"id\":\"63988\",\"type\":\"CDSView\"},{\"attributes\":{\"callback\":null,\"data\":{\"x\":[1,2,7,21,59,166,464,1291,3593,10000],\"y\":{\"__ndarray__\":\"AAAAO1zqYT8AAACedQJkPwAAANgVY2s/AACAUsJYdj8AAEC/whKHPwAA4B1qhZo/AACowUzfsT8AAORkIXvIPwAA9jVguuA/AIB4tjBz9D8=\",\"dtype\":\"float64\",\"shape\":[10]}},\"selected\":{\"id\":\"65498\",\"type\":\"Selection\"},\"selection_policy\":{\"id\":\"65499\",\"type\":\"UnionRenderers\"}},\"id\":\"64079\",\"type\":\"ColumnDataSource\"},{\"attributes\":{\"data_source\":{\"id\":\"63999\",\"type\":\"ColumnDataSource\"},\"glyph\":{\"id\":\"64000\",\"type\":\"Line\"},\"hover_glyph\":null,\"muted_glyph\":null,\"nonselection_glyph\":{\"id\":\"64001\",\"type\":\"Line\"},\"selection_glyph\":null,\"view\":{\"id\":\"64003\",\"type\":\"CDSView\"}},\"id\":\"64002\",\"type\":\"GlyphRenderer\"},{\"attributes\":{\"line_alpha\":0.1,\"line_color\":\"#1f77b4\",\"line_width\":30,\"x\":{\"field\":\"x\"},\"y\":{\"field\":\"y\"}},\"id\":\"63990\",\"type\":\"Line\"},{\"attributes\":{\"line_alpha\":0.1,\"line_color\":\"#1f77b4\",\"line_width\":30,\"x\":{\"field\":\"x\"},\"y\":{\"field\":\"y\"}},\"id\":\"64080\",\"type\":\"Line\"},{\"attributes\":{\"line_alpha\":0.1,\"line_color\":\"#1f77b4\",\"line_width\":30,\"x\":{\"field\":\"x\"},\"y\":{\"field\":\"y\"}},\"id\":\"64081\",\"type\":\"Line\"},{\"attributes\":{\"data_source\":{\"id\":\"64079\",\"type\":\"ColumnDataSource\"},\"glyph\":{\"id\":\"64080\",\"type\":\"Line\"},\"hover_glyph\":null,\"muted_glyph\":null,\"nonselection_glyph\":{\"id\":\"64081\",\"type\":\"Line\"},\"selection_glyph\":null,\"view\":{\"id\":\"64083\",\"type\":\"CDSView\"}},\"id\":\"64082\",\"type\":\"GlyphRenderer\"},{\"attributes\":{\"data_source\":{\"id\":\"63994\",\"type\":\"ColumnDataSource\"},\"glyph\":{\"id\":\"63995\",\"type\":\"Line\"},\"hover_glyph\":null,\"muted_glyph\":null,\"nonselection_glyph\":{\"id\":\"63996\",\"type\":\"Line\"},\"selection_glyph\":null,\"view\":{\"id\":\"63998\",\"type\":\"CDSView\"}},\"id\":\"63997\",\"type\":\"GlyphRenderer\"},{\"attributes\":{\"source\":{\"id\":\"64079\",\"type\":\"ColumnDataSource\"}},\"id\":\"64083\",\"type\":\"CDSView\"},{\"attributes\":{\"line_alpha\":0.1,\"line_color\":\"#1f77b4\",\"line_width\":30,\"x\":{\"field\":\"x\"},\"y\":{\"field\":\"y\"}},\"id\":\"63981\",\"type\":\"Line\"},{\"attributes\":{\"callback\":null,\"data\":{\"x\":[1,2,7,21,59,166,464,1291,3593,10000],\"y\":{\"__ndarray__\":\"AAAAVT+XYj8AAACdf5VlPwAAAMsU1mo/AACAJ+1rdz8AAIA+3EWIPwAAIPUmcpw/AAC4buk8sj8AAASih1fHPwAAd23PmeA/AIASJlJD9D8=\",\"dtype\":\"float64\",\"shape\":[10]}},\"selected\":{\"id\":\"65500\",\"type\":\"Selection\"},\"selection_policy\":{\"id\":\"65501\",\"type\":\"UnionRenderers\"}},\"id\":\"64084\",\"type\":\"ColumnDataSource\"},{\"attributes\":{\"line_alpha\":0.1,\"line_color\":\"#1f77b4\",\"line_width\":30,\"x\":{\"field\":\"x\"},\"y\":{\"field\":\"y\"}},\"id\":\"63975\",\"type\":\"Line\"},{\"attributes\":{\"source\":{\"id\":\"63979\",\"type\":\"ColumnDataSource\"}},\"id\":\"63983\",\"type\":\"CDSView\"},{\"attributes\":{\"line_alpha\":0.1,\"line_color\":\"#1f77b4\",\"line_width\":30,\"x\":{\"field\":\"x\"},\"y\":{\"field\":\"y\"}},\"id\":\"64085\",\"type\":\"Line\"},{\"attributes\":{\"source\":{\"id\":\"63964\",\"type\":\"ColumnDataSource\"}},\"id\":\"63968\",\"type\":\"CDSView\"},{\"attributes\":{\"line_alpha\":0.1,\"line_color\":\"#1f77b4\",\"line_width\":30,\"x\":{\"field\":\"x\"},\"y\":{\"field\":\"y\"}},\"id\":\"64086\",\"type\":\"Line\"},{\"attributes\":{\"callback\":null,\"data\":{\"x\":[1,2,7,21,59,166,464,1291,3593,10000],\"y\":{\"__ndarray__\":\"AAAAIahzZT8AAAA392liPwAAAA0B8Go/AACAjRCpdz8AAIDeUIGGPwAAIEBvzJo/AADAIV/SsT8AAHi8/CDIPwAAYwhZpuA/AIDV19To9D8=\",\"dtype\":\"float64\",\"shape\":[10]}},\"selected\":{\"id\":\"65460\",\"type\":\"Selection\"},\"selection_policy\":{\"id\":\"65461\",\"type\":\"UnionRenderers\"}},\"id\":\"63984\",\"type\":\"ColumnDataSource\"},{\"attributes\":{\"data_source\":{\"id\":\"64084\",\"type\":\"ColumnDataSource\"},\"glyph\":{\"id\":\"64085\",\"type\":\"Line\"},\"hover_glyph\":null,\"muted_glyph\":null,\"nonselection_glyph\":{\"id\":\"64086\",\"type\":\"Line\"},\"selection_glyph\":null,\"view\":{\"id\":\"64088\",\"type\":\"CDSView\"}},\"id\":\"64087\",\"type\":\"GlyphRenderer\"},{\"attributes\":{\"line_alpha\":0.1,\"line_color\":\"#1f77b4\",\"line_width\":30,\"x\":{\"field\":\"x\"},\"y\":{\"field\":\"y\"}},\"id\":\"63985\",\"type\":\"Line\"},{\"attributes\":{\"source\":{\"id\":\"64084\",\"type\":\"ColumnDataSource\"}},\"id\":\"64088\",\"type\":\"CDSView\"},{\"attributes\":{\"line_alpha\":0.1,\"line_color\":\"#1f77b4\",\"line_width\":30,\"x\":{\"field\":\"x\"},\"y\":{\"field\":\"y\"}},\"id\":\"63986\",\"type\":\"Line\"},{\"attributes\":{\"callback\":null,\"data\":{\"x\":[1,2,7,21,59,166,464,1291,3593,10000],\"y\":{\"__ndarray__\":\"AAAAO7M0Yj8AAAArsXJlPwAAAEquXWg/AAAAcOBhdD8AAACGcTKHPwAAIMq31Js/AADw3/bjsT8AAMhV3i7IPwAAfrNBlOA/AIDnW9Cf9D8=\",\"dtype\":\"float64\",\"shape\":[10]}},\"selected\":{\"id\":\"65502\",\"type\":\"Selection\"},\"selection_policy\":{\"id\":\"65503\",\"type\":\"UnionRenderers\"}},\"id\":\"64089\",\"type\":\"ColumnDataSource\"},{\"attributes\":{\"line_alpha\":0.1,\"line_color\":\"#1f77b4\",\"line_width\":30,\"x\":{\"field\":\"x\"},\"y\":{\"field\":\"y\"}},\"id\":\"64000\",\"type\":\"Line\"},{\"attributes\":{\"data_source\":{\"id\":\"63979\",\"type\":\"ColumnDataSource\"},\"glyph\":{\"id\":\"63980\",\"type\":\"Line\"},\"hover_glyph\":null,\"muted_glyph\":null,\"nonselection_glyph\":{\"id\":\"63981\",\"type\":\"Line\"},\"selection_glyph\":null,\"view\":{\"id\":\"63983\",\"type\":\"CDSView\"}},\"id\":\"63982\",\"type\":\"GlyphRenderer\"},{\"attributes\":{\"line_alpha\":0.1,\"line_color\":\"#1f77b4\",\"line_width\":30,\"x\":{\"field\":\"x\"},\"y\":{\"field\":\"y\"}},\"id\":\"64090\",\"type\":\"Line\"},{\"attributes\":{\"callback\":null,\"data\":{\"x\":[1,2,7,21,59,166,464,1291,3593,10000],\"y\":{\"__ndarray__\":\"AAAAMMOnYj8AAACeuyVlPwAAAAVSbGk/AAAAMYGacz8AAMDewo+FPwAAgLS7d5o/AAAIZdiwsT8AABAxXXzIPwAANvFXtuA/AICKff9/9D8=\",\"dtype\":\"float64\",\"shape\":[10]}},\"selected\":{\"id\":\"65458\",\"type\":\"Selection\"},\"selection_policy\":{\"id\":\"65459\",\"type\":\"UnionRenderers\"}},\"id\":\"63979\",\"type\":\"ColumnDataSource\"},{\"attributes\":{\"source\":{\"id\":\"63974\",\"type\":\"ColumnDataSource\"}},\"id\":\"63978\",\"type\":\"CDSView\"},{\"attributes\":{\"line_alpha\":0.1,\"line_color\":\"#1f77b4\",\"line_width\":30,\"x\":{\"field\":\"x\"},\"y\":{\"field\":\"y\"}},\"id\":\"64091\",\"type\":\"Line\"},{\"attributes\":{\"data_source\":{\"id\":\"64089\",\"type\":\"ColumnDataSource\"},\"glyph\":{\"id\":\"64090\",\"type\":\"Line\"},\"hover_glyph\":null,\"muted_glyph\":null,\"nonselection_glyph\":{\"id\":\"64091\",\"type\":\"Line\"},\"selection_glyph\":null,\"view\":{\"id\":\"64093\",\"type\":\"CDSView\"}},\"id\":\"64092\",\"type\":\"GlyphRenderer\"},{\"attributes\":{\"source\":{\"id\":\"63969\",\"type\":\"ColumnDataSource\"}},\"id\":\"63973\",\"type\":\"CDSView\"},{\"attributes\":{\"callback\":null,\"data\":{\"x\":[1,2,7,21,59,166,464,1291,3593,10000],\"y\":{\"__ndarray__\":\"AAAAkgg5YT8AAAD0419mPwAAAFjkRGw/AACA4X7KdT8AAMDAQUiIPwAAwLGmxpo/AADwGHXFsT8AAJyf7KrHPwAAO4FstuA/AAAHFlWZ9D8=\",\"dtype\":\"float64\",\"shape\":[10]}},\"selected\":{\"id\":\"65454\",\"type\":\"Selection\"},\"selection_policy\":{\"id\":\"65455\",\"type\":\"UnionRenderers\"}},\"id\":\"63969\",\"type\":\"ColumnDataSource\"},{\"attributes\":{\"source\":{\"id\":\"64089\",\"type\":\"ColumnDataSource\"}},\"id\":\"64093\",\"type\":\"CDSView\"},{\"attributes\":{\"line_alpha\":0.1,\"line_color\":\"#1f77b4\",\"line_width\":30,\"x\":{\"field\":\"x\"},\"y\":{\"field\":\"y\"}},\"id\":\"63970\",\"type\":\"Line\"},{\"attributes\":{\"callback\":null,\"data\":{\"x\":[1,2,7,21,59,166,464,1291,3593,10000],\"y\":{\"__ndarray__\":\"AAAAf/WXYT8AAACNHrNkPwAAAJnPjms/AAAA3HKBdT8AAEBJYa6GPwAAICCvP5s/AADgauXXsT8AAISP7RTIPwAAu98GhOA/AAD2PkaK9D8=\",\"dtype\":\"float64\",\"shape\":[10]}},\"selected\":{\"id\":\"65504\",\"type\":\"Selection\"},\"selection_policy\":{\"id\":\"65505\",\"type\":\"UnionRenderers\"}},\"id\":\"64094\",\"type\":\"ColumnDataSource\"},{\"attributes\":{\"data_source\":{\"id\":\"63969\",\"type\":\"ColumnDataSource\"},\"glyph\":{\"id\":\"63970\",\"type\":\"Line\"},\"hover_glyph\":null,\"muted_glyph\":null,\"nonselection_glyph\":{\"id\":\"63971\",\"type\":\"Line\"},\"selection_glyph\":null,\"view\":{\"id\":\"63973\",\"type\":\"CDSView\"}},\"id\":\"63972\",\"type\":\"GlyphRenderer\"},{\"attributes\":{\"line_alpha\":0.1,\"line_color\":\"#1f77b4\",\"line_width\":30,\"x\":{\"field\":\"x\"},\"y\":{\"field\":\"y\"}},\"id\":\"64095\",\"type\":\"Line\"},{\"attributes\":{\"line_alpha\":0.1,\"line_color\":\"#1f77b4\",\"line_width\":30,\"x\":{\"field\":\"x\"},\"y\":{\"field\":\"y\"}},\"id\":\"63971\",\"type\":\"Line\"},{\"attributes\":{\"line_alpha\":0.1,\"line_color\":\"#1f77b4\",\"line_width\":30,\"x\":{\"field\":\"x\"},\"y\":{\"field\":\"y\"}},\"id\":\"64096\",\"type\":\"Line\"},{\"attributes\":{\"callback\":null,\"data\":{\"x\":[1,2,7,21,59,166,464,1291,3593,10000],\"y\":{\"__ndarray__\":\"AAAAjA1FYD8AAAB+rE1kPwAAAG+VNGo/AAAACUJMdj8AAICFVtGGPwAAQD29jJs/AAAQ32P/sT8AAAhXwaHIPwAA2dDXwOA/AIBqzJ3Z9D8=\",\"dtype\":\"float64\",\"shape\":[10]}},\"selected\":{\"id\":\"65456\",\"type\":\"Selection\"},\"selection_policy\":{\"id\":\"65457\",\"type\":\"UnionRenderers\"}},\"id\":\"63974\",\"type\":\"ColumnDataSource\"},{\"attributes\":{\"data_source\":{\"id\":\"64094\",\"type\":\"ColumnDataSource\"},\"glyph\":{\"id\":\"64095\",\"type\":\"Line\"},\"hover_glyph\":null,\"muted_glyph\":null,\"nonselection_glyph\":{\"id\":\"64096\",\"type\":\"Line\"},\"selection_glyph\":null,\"view\":{\"id\":\"64098\",\"type\":\"CDSView\"}},\"id\":\"64097\",\"type\":\"GlyphRenderer\"},{\"attributes\":{\"source\":{\"id\":\"63989\",\"type\":\"ColumnDataSource\"}},\"id\":\"63993\",\"type\":\"CDSView\"},{\"attributes\":{\"source\":{\"id\":\"64094\",\"type\":\"ColumnDataSource\"}},\"id\":\"64098\",\"type\":\"CDSView\"},{\"attributes\":{\"data_source\":{\"id\":\"63974\",\"type\":\"ColumnDataSource\"},\"glyph\":{\"id\":\"63975\",\"type\":\"Line\"},\"hover_glyph\":null,\"muted_glyph\":null,\"nonselection_glyph\":{\"id\":\"63976\",\"type\":\"Line\"},\"selection_glyph\":null,\"view\":{\"id\":\"63978\",\"type\":\"CDSView\"}},\"id\":\"63977\",\"type\":\"GlyphRenderer\"},{\"attributes\":{\"callback\":null,\"data\":{\"x\":[1,2,7,21,59,166,464,1291,3593,10000],\"y\":{\"__ndarray__\":\"AAAASaJDYj8AAAAdmEtmPwAAAJAdfGo/AAAAjhBsdD8AAECSYyqGPwAA4LZy+Zo/AADA+fO+sT8AAHyX0VbHPwAAtMpMqeA/AADxCTJi9D8=\",\"dtype\":\"float64\",\"shape\":[10]}},\"selected\":{\"id\":\"65506\",\"type\":\"Selection\"},\"selection_policy\":{\"id\":\"65507\",\"type\":\"UnionRenderers\"}},\"id\":\"64099\",\"type\":\"ColumnDataSource\"},{\"attributes\":{\"line_alpha\":0.1,\"line_color\":\"#1f77b4\",\"line_width\":30,\"x\":{\"field\":\"x\"},\"y\":{\"field\":\"y\"}},\"id\":\"63976\",\"type\":\"Line\"},{\"attributes\":{\"line_alpha\":0.1,\"line_color\":\"#1f77b4\",\"line_width\":30,\"x\":{\"field\":\"x\"},\"y\":{\"field\":\"y\"}},\"id\":\"64100\",\"type\":\"Line\"},{\"attributes\":{\"callback\":null,\"data\":{\"x\":[1,2,7,21,59,166,464,1291,3593,10000],\"y\":{\"__ndarray__\":\"AAAAUeruYT8AAAAhxZZkPwAAAMtoYGs/AACAQotddD8AAEC7/7iGPwAA4BQ395o/AABY9WXbsT8AAPAy3KPHPwAAx8nCfOA/AAA1mcuH9D8=\",\"dtype\":\"float64\",\"shape\":[10]}},\"selected\":{\"id\":\"65462\",\"type\":\"Selection\"},\"selection_policy\":{\"id\":\"65463\",\"type\":\"UnionRenderers\"}},\"id\":\"63989\",\"type\":\"ColumnDataSource\"},{\"attributes\":{\"line_alpha\":0.1,\"line_color\":\"#1f77b4\",\"line_width\":30,\"x\":{\"field\":\"x\"},\"y\":{\"field\":\"y\"}},\"id\":\"64101\",\"type\":\"Line\"},{\"attributes\":{\"data_source\":{\"id\":\"64099\",\"type\":\"ColumnDataSource\"},\"glyph\":{\"id\":\"64100\",\"type\":\"Line\"},\"hover_glyph\":null,\"muted_glyph\":null,\"nonselection_glyph\":{\"id\":\"64101\",\"type\":\"Line\"},\"selection_glyph\":null,\"view\":{\"id\":\"64103\",\"type\":\"CDSView\"}},\"id\":\"64102\",\"type\":\"GlyphRenderer\"},{\"attributes\":{\"data_source\":{\"id\":\"63984\",\"type\":\"ColumnDataSource\"},\"glyph\":{\"id\":\"63985\",\"type\":\"Line\"},\"hover_glyph\":null,\"muted_glyph\":null,\"nonselection_glyph\":{\"id\":\"63986\",\"type\":\"Line\"},\"selection_glyph\":null,\"view\":{\"id\":\"63988\",\"type\":\"CDSView\"}},\"id\":\"63987\",\"type\":\"GlyphRenderer\"},{\"attributes\":{\"source\":{\"id\":\"64099\",\"type\":\"ColumnDataSource\"}},\"id\":\"64103\",\"type\":\"CDSView\"},{\"attributes\":{\"callback\":null,\"data\":{\"x\":[1,2,7,21,59,166,464,1291,3593,10000],\"y\":{\"__ndarray__\":\"AAAAoXa4YD8AAAD/2gFkPwAAADucMGk/AAAA/0EDdT8AAIANeuOGPwAAoC3o45o/AABw3UTisT8AAPgUuY3HPwAAEwJeu+A/AADLE1Rp9D8=\",\"dtype\":\"float64\",\"shape\":[10]}},\"selected\":{\"id\":\"65466\",\"type\":\"Selection\"},\"selection_policy\":{\"id\":\"65467\",\"type\":\"UnionRenderers\"}},\"id\":\"63999\",\"type\":\"ColumnDataSource\"},{\"attributes\":{\"callback\":null,\"data\":{\"x\":[1,2,7,21,59,166,464,1291,3593,10000],\"y\":{\"__ndarray__\":\"AAAA87YbYj8AAAAQDsNlPwAAABrptGo/AAAA6QdhdT8AAAChcNuGPwAA4GziuZo/AABYIkHSsT8AAKyV0kvIPwAAUj0+tuA/AIBIXg2A9D8=\",\"dtype\":\"float64\",\"shape\":[10]}},\"selected\":{\"id\":\"65508\",\"type\":\"Selection\"},\"selection_policy\":{\"id\":\"65509\",\"type\":\"UnionRenderers\"}},\"id\":\"64104\",\"type\":\"ColumnDataSource\"},{\"attributes\":{\"line_alpha\":0.1,\"line_color\":\"#1f77b4\",\"line_width\":30,\"x\":{\"field\":\"x\"},\"y\":{\"field\":\"y\"}},\"id\":\"63991\",\"type\":\"Line\"},{\"attributes\":{\"line_alpha\":0.1,\"line_color\":\"#1f77b4\",\"line_width\":30,\"x\":{\"field\":\"x\"},\"y\":{\"field\":\"y\"}},\"id\":\"64105\",\"type\":\"Line\"},{\"attributes\":{\"callback\":null,\"data\":{\"x\":[1,2,7,21,59,166,464,1291,3593,10000],\"y\":{\"__ndarray__\":\"AAAA3VyPYT8AAAB1lellPwAAAB7x52g/AACA+MIBeD8AAEA8DJmGPwAAYH+HrJo/AAA4ruaDsT8AALTyzCrIPwAA7IFyleA/AIAo4+J39D8=\",\"dtype\":\"float64\",\"shape\":[10]}},\"selected\":{\"id\":\"65464\",\"type\":\"Selection\"},\"selection_policy\":{\"id\":\"65465\",\"type\":\"UnionRenderers\"}},\"id\":\"63994\",\"type\":\"ColumnDataSource\"},{\"attributes\":{\"line_alpha\":0.1,\"line_color\":\"#1f77b4\",\"line_width\":30,\"x\":{\"field\":\"x\"},\"y\":{\"field\":\"y\"}},\"id\":\"64106\",\"type\":\"Line\"},{\"attributes\":{\"data_source\":{\"id\":\"64104\",\"type\":\"ColumnDataSource\"},\"glyph\":{\"id\":\"64105\",\"type\":\"Line\"},\"hover_glyph\":null,\"muted_glyph\":null,\"nonselection_glyph\":{\"id\":\"64106\",\"type\":\"Line\"},\"selection_glyph\":null,\"view\":{\"id\":\"64108\",\"type\":\"CDSView\"}},\"id\":\"64107\",\"type\":\"GlyphRenderer\"},{\"attributes\":{\"line_alpha\":0.1,\"line_color\":\"#1f77b4\",\"line_width\":30,\"x\":{\"field\":\"x\"},\"y\":{\"field\":\"y\"}},\"id\":\"63980\",\"type\":\"Line\"},{\"attributes\":{\"source\":{\"id\":\"64104\",\"type\":\"ColumnDataSource\"}},\"id\":\"64108\",\"type\":\"CDSView\"},{\"attributes\":{\"data_source\":{\"id\":\"63989\",\"type\":\"ColumnDataSource\"},\"glyph\":{\"id\":\"63990\",\"type\":\"Line\"},\"hover_glyph\":null,\"muted_glyph\":null,\"nonselection_glyph\":{\"id\":\"63991\",\"type\":\"Line\"},\"selection_glyph\":null,\"view\":{\"id\":\"63993\",\"type\":\"CDSView\"}},\"id\":\"63992\",\"type\":\"GlyphRenderer\"},{\"attributes\":{\"callback\":null,\"data\":{\"x\":[1,2,7,21,59,166,464,1291,3593,10000],\"y\":{\"__ndarray__\":\"AAAAGZS1Yj8AAAAOcTxnPwAAAINke2k/AAAADMSedT8AAIDXvzyHPwAAoJ2z1Zo/AAD4dGqesT8AAHCZzqzHPwAAB2FXe+A/AAAI9jyY9D8=\",\"dtype\":\"float64\",\"shape\":[10]}},\"selected\":{\"id\":\"65510\",\"type\":\"Selection\"},\"selection_policy\":{\"id\":\"65511\",\"type\":\"UnionRenderers\"}},\"id\":\"64109\",\"type\":\"ColumnDataSource\"},{\"attributes\":{\"source\":{\"id\":\"63994\",\"type\":\"ColumnDataSource\"}},\"id\":\"63998\",\"type\":\"CDSView\"},{\"attributes\":{\"line_alpha\":0.1,\"line_color\":\"#1f77b4\",\"line_width\":30,\"x\":{\"field\":\"x\"},\"y\":{\"field\":\"y\"}},\"id\":\"64110\",\"type\":\"Line\"},{\"attributes\":{\"line_alpha\":0.1,\"line_color\":\"#1f77b4\",\"line_width\":30,\"x\":{\"field\":\"x\"},\"y\":{\"field\":\"y\"}},\"id\":\"64111\",\"type\":\"Line\"},{\"attributes\":{\"line_alpha\":0.1,\"line_color\":\"#1f77b4\",\"line_width\":30,\"x\":{\"field\":\"x\"},\"y\":{\"field\":\"y\"}},\"id\":\"63996\",\"type\":\"Line\"},{\"attributes\":{\"data_source\":{\"id\":\"64109\",\"type\":\"ColumnDataSource\"},\"glyph\":{\"id\":\"64110\",\"type\":\"Line\"},\"hover_glyph\":null,\"muted_glyph\":null,\"nonselection_glyph\":{\"id\":\"64111\",\"type\":\"Line\"},\"selection_glyph\":null,\"view\":{\"id\":\"64113\",\"type\":\"CDSView\"}},\"id\":\"64112\",\"type\":\"GlyphRenderer\"},{\"attributes\":{\"line_alpha\":0.1,\"line_color\":\"#1f77b4\",\"line_width\":30,\"x\":{\"field\":\"x\"},\"y\":{\"field\":\"y\"}},\"id\":\"64001\",\"type\":\"Line\"},{\"attributes\":{\"source\":{\"id\":\"64109\",\"type\":\"ColumnDataSource\"}},\"id\":\"64113\",\"type\":\"CDSView\"},{\"attributes\":{\"callback\":null,\"data\":{\"x\":[1,2,7,21,59,166,464,1291,3593,10000],\"y\":{\"__ndarray__\":\"AAAA/c8dYT8AAABGPaJkPwAAABNdt2s/AAAAm3PKdT8AAIB3zf+JPwAAACjRG5s/AAAQp8Umsj8AAHA4n6zIPwAAb915JOE/AIBtwClU9D8=\",\"dtype\":\"float64\",\"shape\":[10]}},\"selected\":{\"id\":\"65512\",\"type\":\"Selection\"},\"selection_policy\":{\"id\":\"65513\",\"type\":\"UnionRenderers\"}},\"id\":\"64114\",\"type\":\"ColumnDataSource\"},{\"attributes\":{},\"id\":\"65502\",\"type\":\"Selection\"},{\"attributes\":{\"line_alpha\":0.1,\"line_color\":\"#1f77b4\",\"line_width\":30,\"x\":{\"field\":\"x\"},\"y\":{\"field\":\"y\"}},\"id\":\"64115\",\"type\":\"Line\"},{\"attributes\":{},\"id\":\"65503\",\"type\":\"UnionRenderers\"},{\"attributes\":{\"line_alpha\":0.1,\"line_color\":\"#1f77b4\",\"line_width\":30,\"x\":{\"field\":\"x\"},\"y\":{\"field\":\"y\"}},\"id\":\"64116\",\"type\":\"Line\"},{\"attributes\":{},\"id\":\"65504\",\"type\":\"Selection\"},{\"attributes\":{\"data_source\":{\"id\":\"64114\",\"type\":\"ColumnDataSource\"},\"glyph\":{\"id\":\"64115\",\"type\":\"Line\"},\"hover_glyph\":null,\"muted_glyph\":null,\"nonselection_glyph\":{\"id\":\"64116\",\"type\":\"Line\"},\"selection_glyph\":null,\"view\":{\"id\":\"64118\",\"type\":\"CDSView\"}},\"id\":\"64117\",\"type\":\"GlyphRenderer\"},{\"attributes\":{},\"id\":\"65505\",\"type\":\"UnionRenderers\"},{\"attributes\":{\"callback\":null,\"data\":{\"x\":[1,2,7,21,59,166,464,1291,3593,10000],\"y\":{\"__ndarray__\":\"AAAAOA8OYz8AAADhqmlpPwAAADDMkGo/AACAHErqdT8AAEBPR/2GPwAAoNaKyZo/AAAYelPKsT8AAIyy2iPIPwAAgFUZmeA/AAC2rP2Q9D8=\",\"dtype\":\"float64\",\"shape\":[10]}},\"selected\":{\"id\":\"65484\",\"type\":\"Selection\"},\"selection_policy\":{\"id\":\"65485\",\"type\":\"UnionRenderers\"}},\"id\":\"64044\",\"type\":\"ColumnDataSource\"},{\"attributes\":{\"source\":{\"id\":\"64114\",\"type\":\"ColumnDataSource\"}},\"id\":\"64118\",\"type\":\"CDSView\"},{\"attributes\":{},\"id\":\"65506\",\"type\":\"Selection\"},{\"attributes\":{\"callback\":null,\"data\":{\"x\":[1,2,7,21,59,166,464,1291,3593,10000],\"y\":{\"__ndarray__\":\"AAAAppMtYT8AAADSIupkPwAAAE1tUGs/AACA0PdadT8AAAAwIAyIPwAAgEBvQ50/AAD4t6O2sj8AAHCxfsDIPwAAbNvUOeE/AACY0pW49D8=\",\"dtype\":\"float64\",\"shape\":[10]}},\"selected\":{\"id\":\"65514\",\"type\":\"Selection\"},\"selection_policy\":{\"id\":\"65515\",\"type\":\"UnionRenderers\"}},\"id\":\"64119\",\"type\":\"ColumnDataSource\"},{\"attributes\":{},\"id\":\"65507\",\"type\":\"UnionRenderers\"},{\"attributes\":{\"line_alpha\":0.1,\"line_color\":\"#1f77b4\",\"line_width\":30,\"x\":{\"field\":\"x\"},\"y\":{\"field\":\"y\"}},\"id\":\"64120\",\"type\":\"Line\"},{\"attributes\":{},\"id\":\"65508\",\"type\":\"Selection\"},{\"attributes\":{\"line_alpha\":0.1,\"line_color\":\"#1f77b4\",\"line_width\":30,\"x\":{\"field\":\"x\"},\"y\":{\"field\":\"y\"}},\"id\":\"64121\",\"type\":\"Line\"},{\"attributes\":{},\"id\":\"65509\",\"type\":\"UnionRenderers\"},{\"attributes\":{\"data_source\":{\"id\":\"64119\",\"type\":\"ColumnDataSource\"},\"glyph\":{\"id\":\"64120\",\"type\":\"Line\"},\"hover_glyph\":null,\"muted_glyph\":null,\"nonselection_glyph\":{\"id\":\"64121\",\"type\":\"Line\"},\"selection_glyph\":null,\"view\":{\"id\":\"64123\",\"type\":\"CDSView\"}},\"id\":\"64122\",\"type\":\"GlyphRenderer\"},{\"attributes\":{},\"id\":\"65510\",\"type\":\"Selection\"},{\"attributes\":{\"source\":{\"id\":\"64119\",\"type\":\"ColumnDataSource\"}},\"id\":\"64123\",\"type\":\"CDSView\"},{\"attributes\":{},\"id\":\"65511\",\"type\":\"UnionRenderers\"},{\"attributes\":{\"callback\":null,\"data\":{\"x\":[1,2,7,21,59,166,464,1291,3593,10000],\"y\":{\"__ndarray__\":\"AAAAkLdNYj8AAAC3+udiPwAAALPhdmk/AAAAYq4hdT8AAEBndDqGPwAAoH1Jtpo/AABgjL7YsT8AAAjbNinIPwAAoyFGjOA/AIBMdRqk9D8=\",\"dtype\":\"float64\",\"shape\":[10]}},\"selected\":{\"id\":\"65516\",\"type\":\"Selection\"},\"selection_policy\":{\"id\":\"65517\",\"type\":\"UnionRenderers\"}},\"id\":\"64124\",\"type\":\"ColumnDataSource\"},{\"attributes\":{},\"id\":\"65512\",\"type\":\"Selection\"},{\"attributes\":{\"line_alpha\":0.1,\"line_color\":\"#1f77b4\",\"line_width\":30,\"x\":{\"field\":\"x\"},\"y\":{\"field\":\"y\"}},\"id\":\"64125\",\"type\":\"Line\"},{\"attributes\":{},\"id\":\"65513\",\"type\":\"UnionRenderers\"},{\"attributes\":{\"source\":{\"id\":\"64039\",\"type\":\"ColumnDataSource\"}},\"id\":\"64043\",\"type\":\"CDSView\"},{\"attributes\":{\"line_alpha\":0.1,\"line_color\":\"#1f77b4\",\"line_width\":30,\"x\":{\"field\":\"x\"},\"y\":{\"field\":\"y\"}},\"id\":\"64126\",\"type\":\"Line\"},{\"attributes\":{},\"id\":\"65514\",\"type\":\"Selection\"},{\"attributes\":{\"data_source\":{\"id\":\"64039\",\"type\":\"ColumnDataSource\"},\"glyph\":{\"id\":\"64040\",\"type\":\"Line\"},\"hover_glyph\":null,\"muted_glyph\":null,\"nonselection_glyph\":{\"id\":\"64041\",\"type\":\"Line\"},\"selection_glyph\":null,\"view\":{\"id\":\"64043\",\"type\":\"CDSView\"}},\"id\":\"64042\",\"type\":\"GlyphRenderer\"},{\"attributes\":{\"data_source\":{\"id\":\"64124\",\"type\":\"ColumnDataSource\"},\"glyph\":{\"id\":\"64125\",\"type\":\"Line\"},\"hover_glyph\":null,\"muted_glyph\":null,\"nonselection_glyph\":{\"id\":\"64126\",\"type\":\"Line\"},\"selection_glyph\":null,\"view\":{\"id\":\"64128\",\"type\":\"CDSView\"}},\"id\":\"64127\",\"type\":\"GlyphRenderer\"},{\"attributes\":{},\"id\":\"65515\",\"type\":\"UnionRenderers\"},{\"attributes\":{\"line_alpha\":0.1,\"line_color\":\"#1f77b4\",\"line_width\":30,\"x\":{\"field\":\"x\"},\"y\":{\"field\":\"y\"}},\"id\":\"64041\",\"type\":\"Line\"},{\"attributes\":{\"source\":{\"id\":\"64124\",\"type\":\"ColumnDataSource\"}},\"id\":\"64128\",\"type\":\"CDSView\"},{\"attributes\":{},\"id\":\"65516\",\"type\":\"Selection\"},{\"attributes\":{\"line_alpha\":0.1,\"line_color\":\"#1f77b4\",\"line_width\":30,\"x\":{\"field\":\"x\"},\"y\":{\"field\":\"y\"}},\"id\":\"64040\",\"type\":\"Line\"},{\"attributes\":{\"callback\":null,\"data\":{\"x\":[1,2,7,21,59,166,464,1291,3593,10000],\"y\":{\"__ndarray__\":\"AAAAp9ZlYj8AAACsQPpkPwAAANItimo/AAAAz6fpdj8AAEBmnOmGPwAAAG3Za5s/AADog/zRsT8AADBzWQPIPwAA0XJ1l+A/AAAP/4hl9D8=\",\"dtype\":\"float64\",\"shape\":[10]}},\"selected\":{\"id\":\"65518\",\"type\":\"Selection\"},\"selection_policy\":{\"id\":\"65519\",\"type\":\"UnionRenderers\"}},\"id\":\"64129\",\"type\":\"ColumnDataSource\"},{\"attributes\":{},\"id\":\"65517\",\"type\":\"UnionRenderers\"},{\"attributes\":{\"line_alpha\":0.1,\"line_color\":\"#1f77b4\",\"line_width\":30,\"x\":{\"field\":\"x\"},\"y\":{\"field\":\"y\"}},\"id\":\"64045\",\"type\":\"Line\"},{\"attributes\":{\"line_alpha\":0.1,\"line_color\":\"#1f77b4\",\"line_width\":30,\"x\":{\"field\":\"x\"},\"y\":{\"field\":\"y\"}},\"id\":\"64130\",\"type\":\"Line\"},{\"attributes\":{},\"id\":\"65518\",\"type\":\"Selection\"},{\"attributes\":{\"line_alpha\":0.1,\"line_color\":\"#1f77b4\",\"line_width\":30,\"x\":{\"field\":\"x\"},\"y\":{\"field\":\"y\"}},\"id\":\"64046\",\"type\":\"Line\"},{\"attributes\":{\"line_alpha\":0.1,\"line_color\":\"#1f77b4\",\"line_width\":30,\"x\":{\"field\":\"x\"},\"y\":{\"field\":\"y\"}},\"id\":\"64131\",\"type\":\"Line\"},{\"attributes\":{},\"id\":\"65519\",\"type\":\"UnionRenderers\"},{\"attributes\":{\"data_source\":{\"id\":\"64129\",\"type\":\"ColumnDataSource\"},\"glyph\":{\"id\":\"64130\",\"type\":\"Line\"},\"hover_glyph\":null,\"muted_glyph\":null,\"nonselection_glyph\":{\"id\":\"64131\",\"type\":\"Line\"},\"selection_glyph\":null,\"view\":{\"id\":\"64133\",\"type\":\"CDSView\"}},\"id\":\"64132\",\"type\":\"GlyphRenderer\"},{\"attributes\":{\"line_alpha\":0.1,\"line_color\":\"#1f77b4\",\"line_width\":30,\"x\":{\"field\":\"x\"},\"y\":{\"field\":\"y\"}},\"id\":\"64050\",\"type\":\"Line\"},{\"attributes\":{},\"id\":\"65520\",\"type\":\"Selection\"},{\"attributes\":{\"source\":{\"id\":\"64044\",\"type\":\"ColumnDataSource\"}},\"id\":\"64048\",\"type\":\"CDSView\"},{\"attributes\":{\"source\":{\"id\":\"64129\",\"type\":\"ColumnDataSource\"}},\"id\":\"64133\",\"type\":\"CDSView\"},{\"attributes\":{},\"id\":\"65521\",\"type\":\"UnionRenderers\"},{\"attributes\":{\"data_source\":{\"id\":\"64044\",\"type\":\"ColumnDataSource\"},\"glyph\":{\"id\":\"64045\",\"type\":\"Line\"},\"hover_glyph\":null,\"muted_glyph\":null,\"nonselection_glyph\":{\"id\":\"64046\",\"type\":\"Line\"},\"selection_glyph\":null,\"view\":{\"id\":\"64048\",\"type\":\"CDSView\"}},\"id\":\"64047\",\"type\":\"GlyphRenderer\"},{\"attributes\":{\"callback\":null,\"data\":{\"x\":[1,2,7,21,59,166,464,1291,3593,10000],\"y\":{\"__ndarray__\":\"AAAARBBmYT8AAADFes5mPwAAADzJDGo/AAAAanVvdj8AAEDAE7qIPwAAoIDZopw/AADQHzNNsj8AACTQOszIPwAAZpdbueA/AIBi8ACs9D8=\",\"dtype\":\"float64\",\"shape\":[10]}},\"selected\":{\"id\":\"65486\",\"type\":\"Selection\"},\"selection_policy\":{\"id\":\"65487\",\"type\":\"UnionRenderers\"}},\"id\":\"64049\",\"type\":\"ColumnDataSource\"},{\"attributes\":{\"callback\":null,\"data\":{\"x\":[1,2,7,21,59,166,464,1291,3593,10000],\"y\":{\"__ndarray__\":\"AAAArv96Yj8AAABXiXdlPwAAAAD2rmo/AAAAZZWpdD8AAEC+Ch6GPwAAQAd0Xps/AAAQKlXIsT8AALxZzg7IPwAAUGRDreA/AAA0V+yI9D8=\",\"dtype\":\"float64\",\"shape\":[10]}},\"selected\":{\"id\":\"65520\",\"type\":\"Selection\"},\"selection_policy\":{\"id\":\"65521\",\"type\":\"UnionRenderers\"}},\"id\":\"64134\",\"type\":\"ColumnDataSource\"},{\"attributes\":{},\"id\":\"65522\",\"type\":\"Selection\"},{\"attributes\":{\"callback\":null,\"data\":{\"x\":[1,2,7,21,59,166,464,1291,3593,10000],\"y\":{\"__ndarray__\":\"AAAA14A7Yj8AAAAzbLVjPwAAAL/62Go/AACAsaordT8AAMAlvC2GPwAAIIUOh5s/AAAAREr+sT8AAAiZbR/IPwAAmVi9vOA/AIBsU5V29D8=\",\"dtype\":\"float64\",\"shape\":[10]}},\"selected\":{\"id\":\"65488\",\"type\":\"Selection\"},\"selection_policy\":{\"id\":\"65489\",\"type\":\"UnionRenderers\"}},\"id\":\"64054\",\"type\":\"ColumnDataSource\"},{\"attributes\":{\"line_alpha\":0.1,\"line_color\":\"#1f77b4\",\"line_width\":30,\"x\":{\"field\":\"x\"},\"y\":{\"field\":\"y\"}},\"id\":\"64135\",\"type\":\"Line\"},{\"attributes\":{},\"id\":\"65523\",\"type\":\"UnionRenderers\"},{\"attributes\":{\"source\":{\"id\":\"64049\",\"type\":\"ColumnDataSource\"}},\"id\":\"64053\",\"type\":\"CDSView\"},{\"attributes\":{\"line_alpha\":0.1,\"line_color\":\"#1f77b4\",\"line_width\":30,\"x\":{\"field\":\"x\"},\"y\":{\"field\":\"y\"}},\"id\":\"64136\",\"type\":\"Line\"},{\"attributes\":{},\"id\":\"65524\",\"type\":\"Selection\"},{\"attributes\":{\"data_source\":{\"id\":\"64049\",\"type\":\"ColumnDataSource\"},\"glyph\":{\"id\":\"64050\",\"type\":\"Line\"},\"hover_glyph\":null,\"muted_glyph\":null,\"nonselection_glyph\":{\"id\":\"64051\",\"type\":\"Line\"},\"selection_glyph\":null,\"view\":{\"id\":\"64053\",\"type\":\"CDSView\"}},\"id\":\"64052\",\"type\":\"GlyphRenderer\"},{\"attributes\":{\"data_source\":{\"id\":\"64134\",\"type\":\"ColumnDataSource\"},\"glyph\":{\"id\":\"64135\",\"type\":\"Line\"},\"hover_glyph\":null,\"muted_glyph\":null,\"nonselection_glyph\":{\"id\":\"64136\",\"type\":\"Line\"},\"selection_glyph\":null,\"view\":{\"id\":\"64138\",\"type\":\"CDSView\"}},\"id\":\"64137\",\"type\":\"GlyphRenderer\"},{\"attributes\":{},\"id\":\"65525\",\"type\":\"UnionRenderers\"},{\"attributes\":{\"line_alpha\":0.1,\"line_color\":\"#1f77b4\",\"line_width\":30,\"x\":{\"field\":\"x\"},\"y\":{\"field\":\"y\"}},\"id\":\"64051\",\"type\":\"Line\"},{\"attributes\":{\"source\":{\"id\":\"64134\",\"type\":\"ColumnDataSource\"}},\"id\":\"64138\",\"type\":\"CDSView\"},{\"attributes\":{},\"id\":\"65526\",\"type\":\"Selection\"},{\"attributes\":{\"source\":{\"id\":\"64054\",\"type\":\"ColumnDataSource\"}},\"id\":\"64058\",\"type\":\"CDSView\"},{\"attributes\":{\"callback\":null,\"data\":{\"x\":[1,2,7,21,59,166,464,1291,3593,10000],\"y\":{\"__ndarray__\":\"AAAAk40tYj8AAAC3EcZkPwAAAAlvfG4/AAAAPU0NdD8AAABHxD6IPwAAIGbWIp0/AAD44gc+sj8AAERHLaXIPwAAJYXVn+A/AIC7GcuK9D8=\",\"dtype\":\"float64\",\"shape\":[10]}},\"selected\":{\"id\":\"65522\",\"type\":\"Selection\"},\"selection_policy\":{\"id\":\"65523\",\"type\":\"UnionRenderers\"}},\"id\":\"64139\",\"type\":\"ColumnDataSource\"},{\"attributes\":{},\"id\":\"65527\",\"type\":\"UnionRenderers\"},{\"attributes\":{\"data_source\":{\"id\":\"64054\",\"type\":\"ColumnDataSource\"},\"glyph\":{\"id\":\"64055\",\"type\":\"Line\"},\"hover_glyph\":null,\"muted_glyph\":null,\"nonselection_glyph\":{\"id\":\"64056\",\"type\":\"Line\"},\"selection_glyph\":null,\"view\":{\"id\":\"64058\",\"type\":\"CDSView\"}},\"id\":\"64057\",\"type\":\"GlyphRenderer\"},{\"attributes\":{\"line_alpha\":0.1,\"line_color\":\"#1f77b4\",\"line_width\":30,\"x\":{\"field\":\"x\"},\"y\":{\"field\":\"y\"}},\"id\":\"64140\",\"type\":\"Line\"},{\"attributes\":{},\"id\":\"65528\",\"type\":\"Selection\"},{\"attributes\":{\"line_alpha\":0.1,\"line_color\":\"#1f77b4\",\"line_width\":30,\"x\":{\"field\":\"x\"},\"y\":{\"field\":\"y\"}},\"id\":\"64056\",\"type\":\"Line\"},{\"attributes\":{\"line_alpha\":0.1,\"line_color\":\"#1f77b4\",\"line_width\":30,\"x\":{\"field\":\"x\"},\"y\":{\"field\":\"y\"}},\"id\":\"64141\",\"type\":\"Line\"},{\"attributes\":{},\"id\":\"65529\",\"type\":\"UnionRenderers\"},{\"attributes\":{\"data_source\":{\"id\":\"64139\",\"type\":\"ColumnDataSource\"},\"glyph\":{\"id\":\"64140\",\"type\":\"Line\"},\"hover_glyph\":null,\"muted_glyph\":null,\"nonselection_glyph\":{\"id\":\"64141\",\"type\":\"Line\"},\"selection_glyph\":null,\"view\":{\"id\":\"64143\",\"type\":\"CDSView\"}},\"id\":\"64142\",\"type\":\"GlyphRenderer\"},{\"attributes\":{\"callback\":null,\"data\":{\"x\":[1,2,7,21,59,166,464,1291,3593,10000],\"y\":{\"__ndarray__\":\"AAAAkt/LYj8AAABZljtlPwAAAA+XLmo/AAAAYiB3dT8AAEAQWFqGPwAAQPnnG5s/AAAgVvoBsj8AADBhRs7HPwAASHvIw+A/AICyEb2x9D8=\",\"dtype\":\"float64\",\"shape\":[10]}},\"selected\":{\"id\":\"65490\",\"type\":\"Selection\"},\"selection_policy\":{\"id\":\"65491\",\"type\":\"UnionRenderers\"}},\"id\":\"64059\",\"type\":\"ColumnDataSource\"},{\"attributes\":{},\"id\":\"65530\",\"type\":\"Selection\"},{\"attributes\":{\"line_alpha\":0.1,\"line_color\":\"#1f77b4\",\"line_width\":30,\"x\":{\"field\":\"x\"},\"y\":{\"field\":\"y\"}},\"id\":\"64055\",\"type\":\"Line\"},{\"attributes\":{\"source\":{\"id\":\"64139\",\"type\":\"ColumnDataSource\"}},\"id\":\"64143\",\"type\":\"CDSView\"},{\"attributes\":{},\"id\":\"65531\",\"type\":\"UnionRenderers\"},{\"attributes\":{\"line_alpha\":0.1,\"line_color\":\"#1f77b4\",\"line_width\":30,\"x\":{\"field\":\"x\"},\"y\":{\"field\":\"y\"}},\"id\":\"64061\",\"type\":\"Line\"},{\"attributes\":{\"callback\":null,\"data\":{\"x\":[1,2,7,21,59,166,464,1291,3593,10000],\"y\":{\"__ndarray__\":\"AAAAbz6ZYj8AAABXrD9kPwAAAD5qLWs/AACAIcBtdj8AAEA3FRGIPwAAgExTE5s/AAAY03H0sT8AAHDNlQLIPwAA5A+wDeE/AAAWZbqo9D8=\",\"dtype\":\"float64\",\"shape\":[10]}},\"selected\":{\"id\":\"65524\",\"type\":\"Selection\"},\"selection_policy\":{\"id\":\"65525\",\"type\":\"UnionRenderers\"}},\"id\":\"64144\",\"type\":\"ColumnDataSource\"},{\"attributes\":{},\"id\":\"65532\",\"type\":\"Selection\"},{\"attributes\":{\"line_alpha\":0.1,\"line_color\":\"#1f77b4\",\"line_width\":30,\"x\":{\"field\":\"x\"},\"y\":{\"field\":\"y\"}},\"id\":\"64145\",\"type\":\"Line\"},{\"attributes\":{},\"id\":\"65533\",\"type\":\"UnionRenderers\"},{\"attributes\":{\"line_alpha\":0.1,\"line_color\":\"#1f77b4\",\"line_width\":30,\"x\":{\"field\":\"x\"},\"y\":{\"field\":\"y\"}},\"id\":\"64060\",\"type\":\"Line\"},{\"attributes\":{\"line_alpha\":0.1,\"line_color\":\"#1f77b4\",\"line_width\":30,\"x\":{\"field\":\"x\"},\"y\":{\"field\":\"y\"}},\"id\":\"64146\",\"type\":\"Line\"},{\"attributes\":{},\"id\":\"65534\",\"type\":\"Selection\"},{\"attributes\":{\"data_source\":{\"id\":\"64144\",\"type\":\"ColumnDataSource\"},\"glyph\":{\"id\":\"64145\",\"type\":\"Line\"},\"hover_glyph\":null,\"muted_glyph\":null,\"nonselection_glyph\":{\"id\":\"64146\",\"type\":\"Line\"},\"selection_glyph\":null,\"view\":{\"id\":\"64148\",\"type\":\"CDSView\"}},\"id\":\"64147\",\"type\":\"GlyphRenderer\"},{\"attributes\":{\"callback\":null,\"data\":{\"x\":[1,2,7,21,59,166,464,1291,3593,10000],\"y\":{\"__ndarray__\":\"AAAAkfkBYT8AAAC8lnljPwAAAB/URWo/AACAkwbadD8AAIDBpFuHPwAAwA57uJo/AABIeSm5sT8AACwqPS7IPwAARwtb2eA/AACRRJyX9D8=\",\"dtype\":\"float64\",\"shape\":[10]}},\"selected\":{\"id\":\"65492\",\"type\":\"Selection\"},\"selection_policy\":{\"id\":\"65493\",\"type\":\"UnionRenderers\"}},\"id\":\"64064\",\"type\":\"ColumnDataSource\"},{\"attributes\":{},\"id\":\"65535\",\"type\":\"UnionRenderers\"},{\"attributes\":{\"line_alpha\":0.1,\"line_color\":\"#1f77b4\",\"line_width\":30,\"x\":{\"field\":\"x\"},\"y\":{\"field\":\"y\"}},\"id\":\"64065\",\"type\":\"Line\"},{\"attributes\":{\"data_source\":{\"id\":\"64059\",\"type\":\"ColumnDataSource\"},\"glyph\":{\"id\":\"64060\",\"type\":\"Line\"},\"hover_glyph\":null,\"muted_glyph\":null,\"nonselection_glyph\":{\"id\":\"64061\",\"type\":\"Line\"},\"selection_glyph\":null,\"view\":{\"id\":\"64063\",\"type\":\"CDSView\"}},\"id\":\"64062\",\"type\":\"GlyphRenderer\"},{\"attributes\":{\"source\":{\"id\":\"64144\",\"type\":\"ColumnDataSource\"}},\"id\":\"64148\",\"type\":\"CDSView\"},{\"attributes\":{},\"id\":\"65536\",\"type\":\"Selection\"},{\"attributes\":{\"source\":{\"id\":\"64059\",\"type\":\"ColumnDataSource\"}},\"id\":\"64063\",\"type\":\"CDSView\"},{\"attributes\":{\"callback\":null,\"data\":{\"x\":[1,2,7,21,59,166,464,1291,3593,10000],\"y\":{\"__ndarray__\":\"AAAAdncHYj8AAAB3kVNlPwAAAIaOZGk/AACAvW/NdD8AAEB4CnKFPwAA4Gl8KZs/AAAgE4HOsT8AAGyPtijIPwAA8HJnn+A/AIDVH0V79D8=\",\"dtype\":\"float64\",\"shape\":[10]}},\"selected\":{\"id\":\"65526\",\"type\":\"Selection\"},\"selection_policy\":{\"id\":\"65527\",\"type\":\"UnionRenderers\"}},\"id\":\"64149\",\"type\":\"ColumnDataSource\"},{\"attributes\":{},\"id\":\"65537\",\"type\":\"UnionRenderers\"},{\"attributes\":{\"callback\":null,\"data\":{\"x\":[1,2,7,21,59,166,464,1291,3593,10000],\"y\":{\"__ndarray__\":\"AAAAWG9nbj8AAABHTnBrPwAAAAX20HI/AACAn6uyeT8AAADkQhOIPwAAAGFODZw/AABoErHlsj8AAKjExhPIPwAAjP0je+A/AABxh1V99D8=\",\"dtype\":\"float64\",\"shape\":[10]}},\"selected\":{\"id\":\"65446\",\"type\":\"Selection\"},\"selection_policy\":{\"id\":\"65447\",\"type\":\"UnionRenderers\"}},\"id\":\"63949\",\"type\":\"ColumnDataSource\"},{\"attributes\":{\"callback\":null,\"data\":{\"x\":[1,2,7,21,59,166,464,1291,3593,10000],\"y\":{\"__ndarray__\":\"AAAAJYm7YD8AAAA1GK5kPwAAAJrygWo/AAAAarpkdT8AAIC4fI6FPwAAgDciYZs/AAD47M+xsj8AABBOb//JPwAA7In/0uE/AABuWU769D8=\",\"dtype\":\"float64\",\"shape\":[10]}},\"selected\":{\"id\":\"65450\",\"type\":\"Selection\"},\"selection_policy\":{\"id\":\"65451\",\"type\":\"UnionRenderers\"}},\"id\":\"63959\",\"type\":\"ColumnDataSource\"},{\"attributes\":{},\"id\":\"63925\",\"type\":\"BasicTicker\"},{\"attributes\":{\"line_alpha\":0.1,\"line_color\":\"#1f77b4\",\"line_width\":30,\"x\":{\"field\":\"x\"},\"y\":{\"field\":\"y\"}},\"id\":\"63951\",\"type\":\"Line\"},{\"attributes\":{\"callback\":null,\"data\":{\"x\":[1,2,7,21,59,166,464,1291,3593,10000],\"y\":{\"__ndarray__\":\"AAAAgP1ZYT8AAAA7jydlPwAAACzNQ2w/AAAAt8qSdz8AAEBjqEGHPwAAAMtG/po/AACI8iDLsT8AACBCiTrIPwAA0/nPvuA/AADCSdcK9T8=\",\"dtype\":\"float64\",\"shape\":[10]}},\"selected\":{\"id\":\"65448\",\"type\":\"Selection\"},\"selection_policy\":{\"id\":\"65449\",\"type\":\"UnionRenderers\"}},\"id\":\"63954\",\"type\":\"ColumnDataSource\"},{\"attributes\":{\"axis_label\":\"Dataset Size\",\"axis_label_text_font_size\":{\"value\":\"190pt\"},\"formatter\":{\"id\":\"65442\",\"type\":\"BasicTickFormatter\"},\"major_label_text_font_size\":{\"value\":\"190pt\"},\"plot\":{\"id\":\"63915\",\"subtype\":\"Figure\",\"type\":\"Plot\"},\"ticker\":{\"id\":\"63925\",\"type\":\"BasicTicker\"}},\"id\":\"63924\",\"type\":\"LinearAxis\"},{\"attributes\":{\"data_source\":{\"id\":\"63949\",\"type\":\"ColumnDataSource\"},\"glyph\":{\"id\":\"63950\",\"type\":\"Line\"},\"hover_glyph\":null,\"muted_glyph\":null,\"nonselection_glyph\":{\"id\":\"63951\",\"type\":\"Line\"},\"selection_glyph\":null,\"view\":{\"id\":\"63953\",\"type\":\"CDSView\"}},\"id\":\"63952\",\"type\":\"GlyphRenderer\"},{\"attributes\":{},\"id\":\"63930\",\"type\":\"BasicTicker\"},{\"attributes\":{\"callback\":null},\"id\":\"63918\",\"type\":\"DataRange1d\"},{\"attributes\":{\"data_source\":{\"id\":\"63959\",\"type\":\"ColumnDataSource\"},\"glyph\":{\"id\":\"63960\",\"type\":\"Line\"},\"hover_glyph\":null,\"muted_glyph\":null,\"nonselection_glyph\":{\"id\":\"63961\",\"type\":\"Line\"},\"selection_glyph\":null,\"view\":{\"id\":\"63963\",\"type\":\"CDSView\"}},\"id\":\"63962\",\"type\":\"GlyphRenderer\"},{\"attributes\":{},\"id\":\"63920\",\"type\":\"LinearScale\"},{\"attributes\":{\"callback\":null},\"id\":\"63916\",\"type\":\"DataRange1d\"},{\"attributes\":{},\"id\":\"63934\",\"type\":\"PanTool\"},{\"attributes\":{},\"id\":\"63922\",\"type\":\"LinearScale\"},{\"attributes\":{\"axis_label\":\"Computation Time (s)\",\"axis_label_text_font_size\":{\"value\":\"190pt\"},\"formatter\":{\"id\":\"65444\",\"type\":\"BasicTickFormatter\"},\"major_label_text_font_size\":{\"value\":\"190pt\"},\"plot\":{\"id\":\"63915\",\"subtype\":\"Figure\",\"type\":\"Plot\"},\"ticker\":{\"id\":\"63930\",\"type\":\"BasicTicker\"}},\"id\":\"63929\",\"type\":\"LinearAxis\"},{\"attributes\":{\"grid_line_width\":{\"value\":5},\"plot\":{\"id\":\"63915\",\"subtype\":\"Figure\",\"type\":\"Plot\"},\"ticker\":{\"id\":\"63925\",\"type\":\"BasicTicker\"}},\"id\":\"63928\",\"type\":\"Grid\"},{\"attributes\":{\"line_alpha\":0.1,\"line_color\":\"#1f77b4\",\"line_width\":30,\"x\":{\"field\":\"x\"},\"y\":{\"field\":\"y\"}},\"id\":\"63950\",\"type\":\"Line\"},{\"attributes\":{\"line_alpha\":0.1,\"line_color\":\"#1f77b4\",\"line_width\":30,\"x\":{\"field\":\"x\"},\"y\":{\"field\":\"y\"}},\"id\":\"63966\",\"type\":\"Line\"},{\"attributes\":{\"source\":{\"id\":\"63959\",\"type\":\"ColumnDataSource\"}},\"id\":\"63963\",\"type\":\"CDSView\"},{\"attributes\":{\"dimension\":1,\"grid_line_width\":{\"value\":5},\"plot\":{\"id\":\"63915\",\"subtype\":\"Figure\",\"type\":\"Plot\"},\"ticker\":{\"id\":\"63930\",\"type\":\"BasicTicker\"}},\"id\":\"63933\",\"type\":\"Grid\"},{\"attributes\":{\"callback\":null,\"data\":{\"x\":[1,2,7,21,59,166,464,1291,3593,10000],\"y\":{\"__ndarray__\":\"AAAAPPfcYT8AAACt/MpkPwAAAIXL1Gs/AAAAAgV5dj8AAMAQqPSHPwAAgNLgTps/AADoSODvsT8AAKi8BATIPwAAZ3RbwOA/AABbsJEy9D8=\",\"dtype\":\"float64\",\"shape\":[10]}},\"selected\":{\"id\":\"65452\",\"type\":\"Selection\"},\"selection_policy\":{\"id\":\"65453\",\"type\":\"UnionRenderers\"}},\"id\":\"63964\",\"type\":\"ColumnDataSource\"},{\"attributes\":{\"plot\":null,\"text\":\"\",\"text_font_size\":{\"value\":\"190pt\"}},\"id\":\"65440\",\"type\":\"Title\"},{\"attributes\":{\"data_source\":{\"id\":\"63964\",\"type\":\"ColumnDataSource\"},\"glyph\":{\"id\":\"63965\",\"type\":\"Line\"},\"hover_glyph\":null,\"muted_glyph\":null,\"nonselection_glyph\":{\"id\":\"63966\",\"type\":\"Line\"},\"selection_glyph\":null,\"view\":{\"id\":\"63968\",\"type\":\"CDSView\"}},\"id\":\"63967\",\"type\":\"GlyphRenderer\"},{\"attributes\":{\"line_alpha\":0.1,\"line_color\":\"#1f77b4\",\"line_width\":30,\"x\":{\"field\":\"x\"},\"y\":{\"field\":\"y\"}},\"id\":\"63965\",\"type\":\"Line\"},{\"attributes\":{\"line_alpha\":0.1,\"line_color\":\"#1f77b4\",\"line_width\":30,\"x\":{\"field\":\"x\"},\"y\":{\"field\":\"y\"}},\"id\":\"63961\",\"type\":\"Line\"},{\"attributes\":{\"line_alpha\":0.1,\"line_color\":\"#1f77b4\",\"line_width\":30,\"x\":{\"field\":\"x\"},\"y\":{\"field\":\"y\"}},\"id\":\"63960\",\"type\":\"Line\"},{\"attributes\":{\"source\":{\"id\":\"63954\",\"type\":\"ColumnDataSource\"}},\"id\":\"63958\",\"type\":\"CDSView\"}],\"root_ids\":[\"63915\"]},\"title\":\"Bokeh Application\",\"version\":\"1.0.2\"}};\n",
       "  var render_items = [{\"docid\":\"8d92c773-74ee-47bd-922d-a77910651d48\",\"roots\":{\"63915\":\"e8c8ce58-a3d4-48d3-a16c-7d607ff5d8d1\"}}];\n",
       "  root.Bokeh.embed.embed_items_notebook(docs_json, render_items);\n",
       "\n",
       "  }\n",
       "  if (root.Bokeh !== undefined) {\n",
       "    embed_document(root);\n",
       "  } else {\n",
       "    var attempts = 0;\n",
       "    var timer = setInterval(function(root) {\n",
       "      if (root.Bokeh !== undefined) {\n",
       "        embed_document(root);\n",
       "        clearInterval(timer);\n",
       "      }\n",
       "      attempts++;\n",
       "      if (attempts > 100) {\n",
       "        console.log(\"Bokeh: ERROR: Unable to run BokehJS code because BokehJS library is missing\");\n",
       "        clearInterval(timer);\n",
       "      }\n",
       "    }, 10, root)\n",
       "  }\n",
       "})(window);"
      ],
      "application/vnd.bokehjs_exec.v0+json": ""
     },
     "metadata": {
      "application/vnd.bokehjs_exec.v0+json": {
       "id": "63915"
      }
     },
     "output_type": "display_data"
    }
   ],
   "source": [
    "colors = np.array(bkpal.Category10[10])[[3, 1, 2, 0]]\n",
    "\n",
    "#Plot bars for fraction of severe outcomes at each time\n",
    "fig = bkp.figure(y_axis_label='Computation Time (s)',x_axis_label='Dataset Size')\n",
    "for t in range(n_trials):\n",
    "    fig.line(n_data, cputs[t,:], line_color=colors[3], line_alpha=0.1)\n",
    "bkp.show(fig)"
   ]
  },
  {
   "cell_type": "markdown",
   "metadata": {},
   "source": [
    "# Unused Code"
   ]
  },
  {
   "cell_type": "code",
   "execution_count": null,
   "metadata": {
    "scrolled": false
   },
   "outputs": [],
   "source": [
    "\n",
    "intox = (df['Biker Intox.'] == 'Yes')\n",
    "severe = (df['BikeInjury'] == 'Serious') | (df['BikeInjury'] == 'Killed')\n",
    "\n",
    "print((severe & intox).sum() / ((severe & intox).sum() +(~severe & intox).sum() ))\n",
    "print((severe & ~intox).sum() / ((severe & ~intox).sum() +(~severe & ~intox).sum() ))\n",
    "\n",
    "\n",
    "fig = bkp.figure()\n",
    "\n",
    "hist1, edges = np.histogram(df['BikeAge'][~severe & ~intox], bins=np.arange(0, 100, 1))\n",
    "hist2, edges = np.histogram(df['BikeAge'][severe & ~intox], bins=np.arange(0, 100, 1))\n",
    "fig.quad(top=hist2/(hist1+hist2), bottom=0, left=edges[:-1], right=edges[1:],\n",
    "           fill_color=bkpal.Category10[10][0], line_color=\"white\", alpha=0.4, legend='Frac Severe, Not Intox')\n",
    "\n",
    "hist1, edges = np.histogram(df['BikeAge'][~severe & intox], bins=np.arange(0, 100, 1))\n",
    "hist2, edges = np.histogram(df['BikeAge'][severe & intox], bins=np.arange(0, 100, 1))\n",
    "fig.quad(top=hist2/(hist1+hist2), bottom=0, left=edges[:-1], right=edges[1:],\n",
    "           fill_color=bkpal.Category10[10][1], line_color=\"white\", alpha=0.4, legend='Frac Severe, Intox')\n",
    "\n",
    "\n",
    "bkp.show(fig)"
   ]
  },
  {
   "cell_type": "code",
   "execution_count": null,
   "metadata": {},
   "outputs": [],
   "source": [
    "fig = bkp.figure()\n",
    "hist, edges = np.histogram(df['BikeAge'], bins=np.arange(0, 100, 1))\n",
    "fig.quad(top=hist, bottom=0, left=edges[:-1], right=edges[1:],\n",
    "           fill_color=bkpal.Category10[10][0], line_color=\"white\", alpha=0.4)\n",
    "bkp.show(fig)"
   ]
  },
  {
   "cell_type": "code",
   "execution_count": null,
   "metadata": {},
   "outputs": [],
   "source": [
    "intoxrows = (df['Biker Intox.'] == 'Yes')\n",
    "intox = df[cols_used][intoxrows]\n",
    "nintox = df[cols_used][~intoxrows]\n",
    "print(intox.shape)\n",
    "print(nintox.shape)\n",
    "injuries = (intox['BikeInjury'] == 'A: Suspected Serious Injury') | (intox['BikeInjury'] == 'K: Killed')\n",
    "print(injuries.sum())\n",
    "injuries = (nintox['BikeInjury'] == 'A: Suspected Serious Injury') | (nintox['BikeInjury'] == 'K: Killed')\n",
    "print(injuries.sum())"
   ]
  },
  {
   "cell_type": "code",
   "execution_count": 108,
   "metadata": {
    "scrolled": false
   },
   "outputs": [
    {
     "name": "stdout",
     "output_type": "stream",
     "text": [
      "Passenger Car           5051\n",
      "Sport Utility           1623\n",
      "Pickup                  1271\n",
      "Truck                    261\n",
      "Van                      466\n",
      "Motorcycle                50\n",
      "Bus                       50\n",
      "Emergency                 50\n",
      "Tractor/Semi-Trailer      24\n",
      "Taxicab                   17\n",
      "Moped                      6\n",
      "Name: DrvrVehTyp, dtype: int64\n"
     ]
    },
    {
     "data": {
      "text/html": [
       "\n",
       "\n",
       "\n",
       "\n",
       "\n",
       "\n",
       "  <div class=\"bk-root\" id=\"038113c6-f6f5-4a80-8e82-7155f8003dab\"></div>\n"
      ]
     },
     "metadata": {},
     "output_type": "display_data"
    },
    {
     "data": {
      "application/javascript": [
       "(function(root) {\n",
       "  function embed_document(root) {\n",
       "    \n",
       "  var docs_json = {\"80869870-30ad-4599-ace6-893e61456127\":{\"roots\":{\"references\":[{\"attributes\":{\"below\":[{\"id\":\"21000\",\"type\":\"LinearAxis\"}],\"left\":[{\"id\":\"21005\",\"type\":\"CategoricalAxis\"}],\"plot_height\":400,\"plot_width\":800,\"renderers\":[{\"id\":\"21000\",\"type\":\"LinearAxis\"},{\"id\":\"21004\",\"type\":\"Grid\"},{\"id\":\"21005\",\"type\":\"CategoricalAxis\"},{\"id\":\"21008\",\"type\":\"Grid\"},{\"id\":\"21017\",\"type\":\"BoxAnnotation\"},{\"id\":\"21027\",\"type\":\"GlyphRenderer\"},{\"id\":\"21032\",\"type\":\"GlyphRenderer\"},{\"id\":\"21037\",\"type\":\"GlyphRenderer\"},{\"id\":\"21042\",\"type\":\"GlyphRenderer\"}],\"title\":{\"id\":\"21669\",\"type\":\"Title\"},\"toolbar\":{\"id\":\"21015\",\"type\":\"Toolbar\"},\"x_range\":{\"id\":\"20992\",\"type\":\"DataRange1d\"},\"x_scale\":{\"id\":\"20996\",\"type\":\"LinearScale\"},\"y_range\":{\"id\":\"20994\",\"type\":\"FactorRange\"},\"y_scale\":{\"id\":\"20998\",\"type\":\"CategoricalScale\"}},\"id\":\"20991\",\"subtype\":\"Figure\",\"type\":\"Plot\"},{\"attributes\":{\"axis_label\":\"Fraction\",\"axis_label_text_font_size\":{\"value\":\"16pt\"},\"formatter\":{\"id\":\"21671\",\"type\":\"BasicTickFormatter\"},\"major_label_text_font_size\":{\"value\":\"16pt\"},\"plot\":{\"id\":\"20991\",\"subtype\":\"Figure\",\"type\":\"Plot\"},\"ticker\":{\"id\":\"21001\",\"type\":\"BasicTicker\"}},\"id\":\"21000\",\"type\":\"LinearAxis\"},{\"attributes\":{\"fill_alpha\":{\"value\":0.3},\"fill_color\":{\"value\":\"#1f77b4\"},\"height\":{\"value\":0.7},\"left\":{\"field\":\"left\"},\"line_width\":{\"value\":0.5},\"right\":{\"field\":\"right\"},\"y\":{\"field\":\"y\"}},\"id\":\"21025\",\"type\":\"HBar\"},{\"attributes\":{},\"id\":\"21675\",\"type\":\"UnionRenderers\"},{\"attributes\":{},\"id\":\"21001\",\"type\":\"BasicTicker\"},{\"attributes\":{\"data_source\":{\"id\":\"21039\",\"type\":\"ColumnDataSource\"},\"glyph\":{\"id\":\"21040\",\"type\":\"HBar\"},\"hover_glyph\":null,\"muted_glyph\":null,\"nonselection_glyph\":{\"id\":\"21041\",\"type\":\"HBar\"},\"selection_glyph\":null,\"view\":{\"id\":\"21043\",\"type\":\"CDSView\"}},\"id\":\"21042\",\"type\":\"GlyphRenderer\"},{\"attributes\":{\"source\":{\"id\":\"21039\",\"type\":\"ColumnDataSource\"}},\"id\":\"21043\",\"type\":\"CDSView\"},{\"attributes\":{\"plot\":{\"id\":\"20991\",\"subtype\":\"Figure\",\"type\":\"Plot\"},\"ticker\":{\"id\":\"21001\",\"type\":\"BasicTicker\"}},\"id\":\"21004\",\"type\":\"Grid\"},{\"attributes\":{},\"id\":\"21671\",\"type\":\"BasicTickFormatter\"},{\"attributes\":{\"axis_label_text_font_size\":{\"value\":\"16pt\"},\"formatter\":{\"id\":\"21673\",\"type\":\"CategoricalTickFormatter\"},\"major_label_text_font_size\":{\"value\":\"16pt\"},\"plot\":{\"id\":\"20991\",\"subtype\":\"Figure\",\"type\":\"Plot\"},\"ticker\":{\"id\":\"21006\",\"type\":\"CategoricalTicker\"}},\"id\":\"21005\",\"type\":\"CategoricalAxis\"},{\"attributes\":{\"fill_alpha\":{\"value\":0.3},\"fill_color\":{\"value\":\"#ff7f0e\"},\"height\":{\"value\":0.7},\"left\":{\"field\":\"left\"},\"line_width\":{\"value\":0.5},\"right\":{\"field\":\"right\"},\"y\":{\"field\":\"y\"}},\"id\":\"21035\",\"type\":\"HBar\"},{\"attributes\":{\"fill_alpha\":{\"value\":0.1},\"fill_color\":{\"value\":\"#1f77b4\"},\"height\":{\"value\":0.7},\"left\":{\"field\":\"left\"},\"line_alpha\":{\"value\":0.1},\"line_color\":{\"value\":\"#1f77b4\"},\"line_width\":{\"value\":0.5},\"right\":{\"field\":\"right\"},\"y\":{\"field\":\"y\"}},\"id\":\"21026\",\"type\":\"HBar\"},{\"attributes\":{},\"id\":\"21680\",\"type\":\"Selection\"},{\"attributes\":{},\"id\":\"21006\",\"type\":\"CategoricalTicker\"},{\"attributes\":{},\"id\":\"21677\",\"type\":\"UnionRenderers\"},{\"attributes\":{},\"id\":\"21679\",\"type\":\"UnionRenderers\"},{\"attributes\":{\"callback\":null,\"data\":{\"left\":{\"__ndarray__\":\"AAAAAAAAAAAAAAAAAAAAAAAAAAAAAAAAAAAAAAAAAAAAAAAAAAAAAAAAAAAAAAAAAAAAAAAAAAAAAAAAAAAAAAAAAAAAAAAAAAAAAAAAAAAAAAAAAAAAAA==\",\"dtype\":\"float64\",\"shape\":[11]},\"right\":{\"__ndarray__\":\"aR54WiXt6z+/XGyXwL3rPxWaVaFZFeo/PVpUIvma6j/jCd9tPOHrPxSuR+F6FO4/cT0K16Nw7T+F61G4HoXrPwAAAAAAAOg/PDw8PDw87D8AAAAAAADwPw==\",\"dtype\":\"float64\",\"shape\":[11]},\"y\":[\"Passenger Car\",\"Sport Utility\",\"Pickup\",\"Truck\",\"Van\",\"Motorcycle\",\"Bus\",\"Emergency\",\"Tractor/Semi-Trailer\",\"Taxicab\",\"Moped\"]},\"selected\":{\"id\":\"21676\",\"type\":\"Selection\"},\"selection_policy\":{\"id\":\"21675\",\"type\":\"UnionRenderers\"}},\"id\":\"21024\",\"type\":\"ColumnDataSource\"},{\"attributes\":{},\"id\":\"21681\",\"type\":\"UnionRenderers\"},{\"attributes\":{\"dimension\":1,\"plot\":{\"id\":\"20991\",\"subtype\":\"Figure\",\"type\":\"Plot\"},\"ticker\":{\"id\":\"21006\",\"type\":\"CategoricalTicker\"}},\"id\":\"21008\",\"type\":\"Grid\"},{\"attributes\":{\"callback\":null,\"data\":{\"left\":{\"__ndarray__\":\"K15aC2C77T+0uzZj7XntP3NcM8c1c+w/ZYUY+wAz7D86k2pHZ1LtP1yPwvUoXO8/cT0K16Nw7T8AAAAAAADwPwAAAAAAAOg/Hh4eHh4e7j8AAAAAAADwPw==\",\"dtype\":\"float64\",\"shape\":[11]},\"right\":{\"__ndarray__\":\"3MxC7jmL7z9DaA3N9JDvP39/8fcXf+8/JF9T75zg7z+OJ3y38YTvPwAAAAAAAPA/XI/C9Shc7z8AAAAAAADwPwAAAAAAAPA/Hh4eHh4e7j8AAAAAAADwPw==\",\"dtype\":\"float64\",\"shape\":[11]},\"y\":[\"Passenger Car\",\"Sport Utility\",\"Pickup\",\"Truck\",\"Van\",\"Motorcycle\",\"Bus\",\"Emergency\",\"Tractor/Semi-Trailer\",\"Taxicab\",\"Moped\"]},\"selected\":{\"id\":\"21680\",\"type\":\"Selection\"},\"selection_policy\":{\"id\":\"21679\",\"type\":\"UnionRenderers\"}},\"id\":\"21034\",\"type\":\"ColumnDataSource\"},{\"attributes\":{},\"id\":\"21682\",\"type\":\"Selection\"},{\"attributes\":{\"data_source\":{\"id\":\"21024\",\"type\":\"ColumnDataSource\"},\"glyph\":{\"id\":\"21025\",\"type\":\"HBar\"},\"hover_glyph\":null,\"muted_glyph\":null,\"nonselection_glyph\":{\"id\":\"21026\",\"type\":\"HBar\"},\"selection_glyph\":null,\"view\":{\"id\":\"21028\",\"type\":\"CDSView\"}},\"id\":\"21027\",\"type\":\"GlyphRenderer\"},{\"attributes\":{\"fill_alpha\":{\"value\":0.1},\"fill_color\":{\"value\":\"#1f77b4\"},\"height\":{\"value\":0.7},\"left\":{\"field\":\"left\"},\"line_alpha\":{\"value\":0.1},\"line_color\":{\"value\":\"#1f77b4\"},\"line_width\":{\"value\":0.5},\"right\":{\"field\":\"right\"},\"y\":{\"field\":\"y\"}},\"id\":\"21036\",\"type\":\"HBar\"},{\"attributes\":{\"source\":{\"id\":\"21024\",\"type\":\"ColumnDataSource\"}},\"id\":\"21028\",\"type\":\"CDSView\"},{\"attributes\":{\"data_source\":{\"id\":\"21034\",\"type\":\"ColumnDataSource\"},\"glyph\":{\"id\":\"21035\",\"type\":\"HBar\"},\"hover_glyph\":null,\"muted_glyph\":null,\"nonselection_glyph\":{\"id\":\"21036\",\"type\":\"HBar\"},\"selection_glyph\":null,\"view\":{\"id\":\"21038\",\"type\":\"CDSView\"}},\"id\":\"21037\",\"type\":\"GlyphRenderer\"},{\"attributes\":{\"active_drag\":\"auto\",\"active_inspect\":\"auto\",\"active_multi\":null,\"active_scroll\":\"auto\",\"active_tap\":\"auto\",\"tools\":[{\"id\":\"21009\",\"type\":\"PanTool\"},{\"id\":\"21010\",\"type\":\"WheelZoomTool\"},{\"id\":\"21011\",\"type\":\"BoxZoomTool\"},{\"id\":\"21012\",\"type\":\"SaveTool\"},{\"id\":\"21013\",\"type\":\"ResetTool\"},{\"id\":\"21014\",\"type\":\"HelpTool\"}]},\"id\":\"21015\",\"type\":\"Toolbar\"},{\"attributes\":{},\"id\":\"20998\",\"type\":\"CategoricalScale\"},{\"attributes\":{},\"id\":\"21009\",\"type\":\"PanTool\"},{\"attributes\":{},\"id\":\"21676\",\"type\":\"Selection\"},{\"attributes\":{},\"id\":\"21010\",\"type\":\"WheelZoomTool\"},{\"attributes\":{\"overlay\":{\"id\":\"21017\",\"type\":\"BoxAnnotation\"}},\"id\":\"21011\",\"type\":\"BoxZoomTool\"},{\"attributes\":{\"fill_alpha\":{\"value\":0.7},\"fill_color\":{\"value\":\"#ff7f0e\"},\"height\":{\"value\":0.7},\"left\":{\"field\":\"left\"},\"line_width\":{\"value\":0.5},\"right\":{\"field\":\"right\"},\"y\":{\"field\":\"y\"}},\"id\":\"21040\",\"type\":\"HBar\"},{\"attributes\":{\"source\":{\"id\":\"21034\",\"type\":\"ColumnDataSource\"}},\"id\":\"21038\",\"type\":\"CDSView\"},{\"attributes\":{},\"id\":\"21012\",\"type\":\"SaveTool\"},{\"attributes\":{\"fill_alpha\":{\"value\":0.7},\"fill_color\":{\"value\":\"#1f77b4\"},\"height\":{\"value\":0.7},\"left\":{\"field\":\"left\"},\"line_width\":{\"value\":0.5},\"right\":{\"field\":\"right\"},\"y\":{\"field\":\"y\"}},\"id\":\"21030\",\"type\":\"HBar\"},{\"attributes\":{},\"id\":\"21013\",\"type\":\"ResetTool\"},{\"attributes\":{},\"id\":\"21678\",\"type\":\"Selection\"},{\"attributes\":{\"plot\":null,\"text\":\"\",\"text_font_size\":{\"value\":\"16pt\"}},\"id\":\"21669\",\"type\":\"Title\"},{\"attributes\":{\"source\":{\"id\":\"21029\",\"type\":\"ColumnDataSource\"}},\"id\":\"21033\",\"type\":\"CDSView\"},{\"attributes\":{\"bottom_units\":\"screen\",\"fill_alpha\":{\"value\":0.5},\"fill_color\":{\"value\":\"lightgrey\"},\"left_units\":\"screen\",\"level\":\"overlay\",\"line_alpha\":{\"value\":1.0},\"line_color\":{\"value\":\"black\"},\"line_dash\":[4,4],\"line_width\":{\"value\":2},\"plot\":null,\"render_mode\":\"css\",\"right_units\":\"screen\",\"top_units\":\"screen\"},\"id\":\"21017\",\"type\":\"BoxAnnotation\"},{\"attributes\":{},\"id\":\"21014\",\"type\":\"HelpTool\"},{\"attributes\":{\"callback\":null,\"data\":{\"left\":{\"__ndarray__\":\"3MxC7jmL7z9DaA3N9JDvP39/8fcXf+8/JF9T75zg7z+OJ3y38YTvPwAAAAAAAPA/XI/C9Shc7z8AAAAAAADwPwAAAAAAAPA/Hh4eHh4e7j8AAAAAAADwPw==\",\"dtype\":\"float64\",\"shape\":[11]},\"right\":{\"__ndarray__\":\"AAAAAAAA8D8AAAAAAADwPwAAAAAAAPA/AAAAAAAA8D8AAAAAAADwPwAAAAAAAPA/AAAAAAAA8D8AAAAAAADwPwAAAAAAAPA/AAAAAAAA8D8AAAAAAADwPw==\",\"dtype\":\"float64\",\"shape\":[11]},\"y\":[\"Passenger Car\",\"Sport Utility\",\"Pickup\",\"Truck\",\"Van\",\"Motorcycle\",\"Bus\",\"Emergency\",\"Tractor/Semi-Trailer\",\"Taxicab\",\"Moped\"]},\"selected\":{\"id\":\"21682\",\"type\":\"Selection\"},\"selection_policy\":{\"id\":\"21681\",\"type\":\"UnionRenderers\"}},\"id\":\"21039\",\"type\":\"ColumnDataSource\"},{\"attributes\":{\"callback\":null},\"id\":\"20992\",\"type\":\"DataRange1d\"},{\"attributes\":{\"callback\":null,\"factors\":[\"Passenger Car\",\"Sport Utility\",\"Pickup\",\"Truck\",\"Van\",\"Motorcycle\",\"Bus\",\"Emergency\",\"Tractor/Semi-Trailer\",\"Taxicab\",\"Moped\"]},\"id\":\"20994\",\"type\":\"FactorRange\"},{\"attributes\":{\"callback\":null,\"data\":{\"left\":{\"__ndarray__\":\"aR54WiXt6z+/XGyXwL3rPxWaVaFZFeo/PVpUIvma6j/jCd9tPOHrPxSuR+F6FO4/cT0K16Nw7T+F61G4HoXrPwAAAAAAAOg/PDw8PDw87D8AAAAAAADwPw==\",\"dtype\":\"float64\",\"shape\":[11]},\"right\":{\"__ndarray__\":\"K15aC2C77T+0uzZj7XntP3NcM8c1c+w/ZYUY+wAz7D86k2pHZ1LtP1yPwvUoXO8/cT0K16Nw7T8AAAAAAADwPwAAAAAAAOg/Hh4eHh4e7j8AAAAAAADwPw==\",\"dtype\":\"float64\",\"shape\":[11]},\"y\":[\"Passenger Car\",\"Sport Utility\",\"Pickup\",\"Truck\",\"Van\",\"Motorcycle\",\"Bus\",\"Emergency\",\"Tractor/Semi-Trailer\",\"Taxicab\",\"Moped\"]},\"selected\":{\"id\":\"21678\",\"type\":\"Selection\"},\"selection_policy\":{\"id\":\"21677\",\"type\":\"UnionRenderers\"}},\"id\":\"21029\",\"type\":\"ColumnDataSource\"},{\"attributes\":{\"fill_alpha\":{\"value\":0.1},\"fill_color\":{\"value\":\"#1f77b4\"},\"height\":{\"value\":0.7},\"left\":{\"field\":\"left\"},\"line_alpha\":{\"value\":0.1},\"line_color\":{\"value\":\"#1f77b4\"},\"line_width\":{\"value\":0.5},\"right\":{\"field\":\"right\"},\"y\":{\"field\":\"y\"}},\"id\":\"21041\",\"type\":\"HBar\"},{\"attributes\":{},\"id\":\"20996\",\"type\":\"LinearScale\"},{\"attributes\":{\"fill_alpha\":{\"value\":0.1},\"fill_color\":{\"value\":\"#1f77b4\"},\"height\":{\"value\":0.7},\"left\":{\"field\":\"left\"},\"line_alpha\":{\"value\":0.1},\"line_color\":{\"value\":\"#1f77b4\"},\"line_width\":{\"value\":0.5},\"right\":{\"field\":\"right\"},\"y\":{\"field\":\"y\"}},\"id\":\"21031\",\"type\":\"HBar\"},{\"attributes\":{},\"id\":\"21673\",\"type\":\"CategoricalTickFormatter\"},{\"attributes\":{\"data_source\":{\"id\":\"21029\",\"type\":\"ColumnDataSource\"},\"glyph\":{\"id\":\"21030\",\"type\":\"HBar\"},\"hover_glyph\":null,\"muted_glyph\":null,\"nonselection_glyph\":{\"id\":\"21031\",\"type\":\"HBar\"},\"selection_glyph\":null,\"view\":{\"id\":\"21033\",\"type\":\"CDSView\"}},\"id\":\"21032\",\"type\":\"GlyphRenderer\"}],\"root_ids\":[\"20991\"]},\"title\":\"Bokeh Application\",\"version\":\"1.0.2\"}};\n",
       "  var render_items = [{\"docid\":\"80869870-30ad-4599-ace6-893e61456127\",\"roots\":{\"20991\":\"038113c6-f6f5-4a80-8e82-7155f8003dab\"}}];\n",
       "  root.Bokeh.embed.embed_items_notebook(docs_json, render_items);\n",
       "\n",
       "  }\n",
       "  if (root.Bokeh !== undefined) {\n",
       "    embed_document(root);\n",
       "  } else {\n",
       "    var attempts = 0;\n",
       "    var timer = setInterval(function(root) {\n",
       "      if (root.Bokeh !== undefined) {\n",
       "        embed_document(root);\n",
       "        clearInterval(timer);\n",
       "      }\n",
       "      attempts++;\n",
       "      if (attempts > 100) {\n",
       "        console.log(\"Bokeh: ERROR: Unable to run BokehJS code because BokehJS library is missing\");\n",
       "        clearInterval(timer);\n",
       "      }\n",
       "    }, 10, root)\n",
       "  }\n",
       "})(window);"
      ],
      "application/vnd.bokehjs_exec.v0+json": ""
     },
     "metadata": {
      "application/vnd.bokehjs_exec.v0+json": {
       "id": "20991"
      }
     },
     "output_type": "display_data"
    },
    {
     "name": "stderr",
     "output_type": "stream",
     "text": [
      "/home/trevor/.local/lib/python3.6/site-packages/pandas/core/series.py:1139: FutureWarning: \n",
      "Passing list-likes to .loc or [] with any missing label will raise\n",
      "KeyError in the future, you can use .reindex() as an alternative.\n",
      "\n",
      "See the documentation here:\n",
      "https://pandas.pydata.org/pandas-docs/stable/user_guide/indexing.html#deprecate-loc-reindex-listlike\n",
      "  return self.loc[key]\n"
     ]
    },
    {
     "data": {
      "text/html": [
       "\n",
       "\n",
       "\n",
       "\n",
       "\n",
       "\n",
       "  <div class=\"bk-root\" id=\"49dd25bd-4abd-42dd-afe2-e4a56b1028f1\"></div>\n"
      ]
     },
     "metadata": {},
     "output_type": "display_data"
    },
    {
     "data": {
      "application/javascript": [
       "(function(root) {\n",
       "  function embed_document(root) {\n",
       "    \n",
       "  var docs_json = {\"8f2a7fcd-f738-44f6-a4a3-e55958ad3087\":{\"roots\":{\"references\":[{\"attributes\":{\"below\":[{\"id\":\"21782\",\"type\":\"LinearAxis\"}],\"left\":[{\"id\":\"21787\",\"type\":\"CategoricalAxis\"}],\"plot_height\":250,\"renderers\":[{\"id\":\"21782\",\"type\":\"LinearAxis\"},{\"id\":\"21786\",\"type\":\"Grid\"},{\"id\":\"21787\",\"type\":\"CategoricalAxis\"},{\"id\":\"21790\",\"type\":\"Grid\"},{\"id\":\"21799\",\"type\":\"BoxAnnotation\"},{\"id\":\"21809\",\"type\":\"GlyphRenderer\"},{\"id\":\"21814\",\"type\":\"GlyphRenderer\"},{\"id\":\"21819\",\"type\":\"GlyphRenderer\"},{\"id\":\"21824\",\"type\":\"GlyphRenderer\"}],\"title\":{\"id\":\"22466\",\"type\":\"Title\"},\"toolbar\":{\"id\":\"21797\",\"type\":\"Toolbar\"},\"x_range\":{\"id\":\"21774\",\"type\":\"DataRange1d\"},\"x_scale\":{\"id\":\"21778\",\"type\":\"LinearScale\"},\"y_range\":{\"id\":\"21776\",\"type\":\"FactorRange\"},\"y_scale\":{\"id\":\"21780\",\"type\":\"CategoricalScale\"}},\"id\":\"21773\",\"subtype\":\"Figure\",\"type\":\"Plot\"},{\"attributes\":{},\"id\":\"21780\",\"type\":\"CategoricalScale\"},{\"attributes\":{\"source\":{\"id\":\"21811\",\"type\":\"ColumnDataSource\"}},\"id\":\"21815\",\"type\":\"CDSView\"},{\"attributes\":{},\"id\":\"22468\",\"type\":\"BasicTickFormatter\"},{\"attributes\":{\"axis_label\":\"Fraction\",\"axis_label_text_font_size\":{\"value\":\"16pt\"},\"formatter\":{\"id\":\"22468\",\"type\":\"BasicTickFormatter\"},\"major_label_text_font_size\":{\"value\":\"16pt\"},\"plot\":{\"id\":\"21773\",\"subtype\":\"Figure\",\"type\":\"Plot\"},\"ticker\":{\"id\":\"21783\",\"type\":\"BasicTicker\"}},\"id\":\"21782\",\"type\":\"LinearAxis\"},{\"attributes\":{},\"id\":\"22470\",\"type\":\"CategoricalTickFormatter\"},{\"attributes\":{\"fill_alpha\":{\"value\":0.3},\"fill_color\":{\"value\":\"#1f77b4\"},\"height\":{\"value\":0.7},\"left\":{\"field\":\"left\"},\"line_width\":{\"value\":0.5},\"right\":{\"field\":\"right\"},\"y\":{\"field\":\"y\"}},\"id\":\"21807\",\"type\":\"HBar\"},{\"attributes\":{\"fill_alpha\":{\"value\":0.1},\"fill_color\":{\"value\":\"#1f77b4\"},\"height\":{\"value\":0.7},\"left\":{\"field\":\"left\"},\"line_alpha\":{\"value\":0.1},\"line_color\":{\"value\":\"#1f77b4\"},\"line_width\":{\"value\":0.5},\"right\":{\"field\":\"right\"},\"y\":{\"field\":\"y\"}},\"id\":\"21808\",\"type\":\"HBar\"},{\"attributes\":{},\"id\":\"21783\",\"type\":\"BasicTicker\"},{\"attributes\":{},\"id\":\"22472\",\"type\":\"UnionRenderers\"},{\"attributes\":{\"plot\":{\"id\":\"21773\",\"subtype\":\"Figure\",\"type\":\"Plot\"},\"ticker\":{\"id\":\"21783\",\"type\":\"BasicTicker\"}},\"id\":\"21786\",\"type\":\"Grid\"},{\"attributes\":{\"fill_alpha\":{\"value\":0.1},\"fill_color\":{\"value\":\"#1f77b4\"},\"height\":{\"value\":0.7},\"left\":{\"field\":\"left\"},\"line_alpha\":{\"value\":0.1},\"line_color\":{\"value\":\"#1f77b4\"},\"line_width\":{\"value\":0.5},\"right\":{\"field\":\"right\"},\"y\":{\"field\":\"y\"}},\"id\":\"21818\",\"type\":\"HBar\"},{\"attributes\":{},\"id\":\"22473\",\"type\":\"Selection\"},{\"attributes\":{\"axis_label\":\"Speed Limit (MPH)\",\"axis_label_text_font_size\":{\"value\":\"16pt\"},\"formatter\":{\"id\":\"22470\",\"type\":\"CategoricalTickFormatter\"},\"major_label_text_font_size\":{\"value\":\"16pt\"},\"plot\":{\"id\":\"21773\",\"subtype\":\"Figure\",\"type\":\"Plot\"},\"ticker\":{\"id\":\"21788\",\"type\":\"CategoricalTicker\"}},\"id\":\"21787\",\"type\":\"CategoricalAxis\"},{\"attributes\":{},\"id\":\"21778\",\"type\":\"LinearScale\"},{\"attributes\":{},\"id\":\"22474\",\"type\":\"UnionRenderers\"},{\"attributes\":{},\"id\":\"21788\",\"type\":\"CategoricalTicker\"},{\"attributes\":{},\"id\":\"22475\",\"type\":\"Selection\"},{\"attributes\":{\"data_source\":{\"id\":\"21806\",\"type\":\"ColumnDataSource\"},\"glyph\":{\"id\":\"21807\",\"type\":\"HBar\"},\"hover_glyph\":null,\"muted_glyph\":null,\"nonselection_glyph\":{\"id\":\"21808\",\"type\":\"HBar\"},\"selection_glyph\":null,\"view\":{\"id\":\"21810\",\"type\":\"CDSView\"}},\"id\":\"21809\",\"type\":\"GlyphRenderer\"},{\"attributes\":{\"dimension\":1,\"plot\":{\"id\":\"21773\",\"subtype\":\"Figure\",\"type\":\"Plot\"},\"ticker\":{\"id\":\"21788\",\"type\":\"CategoricalTicker\"}},\"id\":\"21790\",\"type\":\"Grid\"},{\"attributes\":{},\"id\":\"22476\",\"type\":\"UnionRenderers\"},{\"attributes\":{\"callback\":null,\"data\":{\"left\":{\"__ndarray__\":\"AAAAAAAAAAAAAAAAAAAAAAAAAAAAAAAAAAAAAAAAAAAAAAAAAAAAAAAAAAAAAAAA\",\"dtype\":\"float64\",\"shape\":[6]},\"right\":{\"__ndarray__\":\"dQ9wLMI/7j86ViVp7FztP/5+bRGzi+w/Azh9KGW26j8kHwS5VGnmP4qd2Imd2Ok/\",\"dtype\":\"float64\",\"shape\":[6]},\"y\":[\"15\",\"25\",\"35\",\"45\",\"55\",\"75\"]},\"selected\":{\"id\":\"22473\",\"type\":\"Selection\"},\"selection_policy\":{\"id\":\"22472\",\"type\":\"UnionRenderers\"}},\"id\":\"21806\",\"type\":\"ColumnDataSource\"},{\"attributes\":{},\"id\":\"22477\",\"type\":\"Selection\"},{\"attributes\":{\"data_source\":{\"id\":\"21816\",\"type\":\"ColumnDataSource\"},\"glyph\":{\"id\":\"21817\",\"type\":\"HBar\"},\"hover_glyph\":null,\"muted_glyph\":null,\"nonselection_glyph\":{\"id\":\"21818\",\"type\":\"HBar\"},\"selection_glyph\":null,\"view\":{\"id\":\"21820\",\"type\":\"CDSView\"}},\"id\":\"21819\",\"type\":\"GlyphRenderer\"},{\"attributes\":{\"plot\":null,\"text\":\"\",\"text_font_size\":{\"value\":\"16pt\"}},\"id\":\"22466\",\"type\":\"Title\"},{\"attributes\":{},\"id\":\"22478\",\"type\":\"UnionRenderers\"},{\"attributes\":{\"callback\":null,\"factors\":[\"15\",\"25\",\"35\",\"45\",\"55\",\"75\"]},\"id\":\"21776\",\"type\":\"FactorRange\"},{\"attributes\":{\"fill_alpha\":{\"value\":0.3},\"fill_color\":{\"value\":\"#ff7f0e\"},\"height\":{\"value\":0.7},\"left\":{\"field\":\"left\"},\"line_width\":{\"value\":0.5},\"right\":{\"field\":\"right\"},\"y\":{\"field\":\"y\"}},\"id\":\"21817\",\"type\":\"HBar\"},{\"attributes\":{\"callback\":null,\"data\":{\"left\":{\"__ndarray__\":\"jwwbxM2T7z9M+B31iL7uP9MttBtnVe4/eknY6Giv7D81A1debiHpP4qd2Imd2Ok/\",\"dtype\":\"float64\",\"shape\":[6]},\"right\":{\"__ndarray__\":\"Od0DHIvw7z9yGF6+x8/vP+D3writtu8/535R/tZm7z9P7MRO7MTuP0/sxE7sxO4/\",\"dtype\":\"float64\",\"shape\":[6]},\"y\":[\"15\",\"25\",\"35\",\"45\",\"55\",\"75\"]},\"selected\":{\"id\":\"22477\",\"type\":\"Selection\"},\"selection_policy\":{\"id\":\"22476\",\"type\":\"UnionRenderers\"}},\"id\":\"21816\",\"type\":\"ColumnDataSource\"},{\"attributes\":{\"active_drag\":\"auto\",\"active_inspect\":\"auto\",\"active_multi\":null,\"active_scroll\":\"auto\",\"active_tap\":\"auto\",\"tools\":[{\"id\":\"21791\",\"type\":\"PanTool\"},{\"id\":\"21792\",\"type\":\"WheelZoomTool\"},{\"id\":\"21793\",\"type\":\"BoxZoomTool\"},{\"id\":\"21794\",\"type\":\"SaveTool\"},{\"id\":\"21795\",\"type\":\"ResetTool\"},{\"id\":\"21796\",\"type\":\"HelpTool\"}]},\"id\":\"21797\",\"type\":\"Toolbar\"},{\"attributes\":{},\"id\":\"22479\",\"type\":\"Selection\"},{\"attributes\":{},\"id\":\"21791\",\"type\":\"PanTool\"},{\"attributes\":{\"fill_alpha\":{\"value\":0.1},\"fill_color\":{\"value\":\"#1f77b4\"},\"height\":{\"value\":0.7},\"left\":{\"field\":\"left\"},\"line_alpha\":{\"value\":0.1},\"line_color\":{\"value\":\"#1f77b4\"},\"line_width\":{\"value\":0.5},\"right\":{\"field\":\"right\"},\"y\":{\"field\":\"y\"}},\"id\":\"21813\",\"type\":\"HBar\"},{\"attributes\":{\"callback\":null},\"id\":\"21774\",\"type\":\"DataRange1d\"},{\"attributes\":{\"source\":{\"id\":\"21806\",\"type\":\"ColumnDataSource\"}},\"id\":\"21810\",\"type\":\"CDSView\"},{\"attributes\":{},\"id\":\"21792\",\"type\":\"WheelZoomTool\"},{\"attributes\":{\"fill_alpha\":{\"value\":0.1},\"fill_color\":{\"value\":\"#1f77b4\"},\"height\":{\"value\":0.7},\"left\":{\"field\":\"left\"},\"line_alpha\":{\"value\":0.1},\"line_color\":{\"value\":\"#1f77b4\"},\"line_width\":{\"value\":0.5},\"right\":{\"field\":\"right\"},\"y\":{\"field\":\"y\"}},\"id\":\"21823\",\"type\":\"HBar\"},{\"attributes\":{\"overlay\":{\"id\":\"21799\",\"type\":\"BoxAnnotation\"}},\"id\":\"21793\",\"type\":\"BoxZoomTool\"},{\"attributes\":{\"source\":{\"id\":\"21816\",\"type\":\"ColumnDataSource\"}},\"id\":\"21820\",\"type\":\"CDSView\"},{\"attributes\":{\"source\":{\"id\":\"21821\",\"type\":\"ColumnDataSource\"}},\"id\":\"21825\",\"type\":\"CDSView\"},{\"attributes\":{},\"id\":\"21794\",\"type\":\"SaveTool\"},{\"attributes\":{\"fill_alpha\":{\"value\":0.7},\"fill_color\":{\"value\":\"#1f77b4\"},\"height\":{\"value\":0.7},\"left\":{\"field\":\"left\"},\"line_width\":{\"value\":0.5},\"right\":{\"field\":\"right\"},\"y\":{\"field\":\"y\"}},\"id\":\"21812\",\"type\":\"HBar\"},{\"attributes\":{},\"id\":\"21795\",\"type\":\"ResetTool\"},{\"attributes\":{\"data_source\":{\"id\":\"21811\",\"type\":\"ColumnDataSource\"},\"glyph\":{\"id\":\"21812\",\"type\":\"HBar\"},\"hover_glyph\":null,\"muted_glyph\":null,\"nonselection_glyph\":{\"id\":\"21813\",\"type\":\"HBar\"},\"selection_glyph\":null,\"view\":{\"id\":\"21815\",\"type\":\"CDSView\"}},\"id\":\"21814\",\"type\":\"GlyphRenderer\"},{\"attributes\":{},\"id\":\"21796\",\"type\":\"HelpTool\"},{\"attributes\":{\"callback\":null,\"data\":{\"left\":{\"__ndarray__\":\"dQ9wLMI/7j86ViVp7FztP/5+bRGzi+w/Azh9KGW26j8kHwS5VGnmP4qd2Imd2Ok/\",\"dtype\":\"float64\",\"shape\":[6]},\"right\":{\"__ndarray__\":\"jwwbxM2T7z9M+B31iL7uP9MttBtnVe4/eknY6Giv7D81A1debiHpP4qd2Imd2Ok/\",\"dtype\":\"float64\",\"shape\":[6]},\"y\":[\"15\",\"25\",\"35\",\"45\",\"55\",\"75\"]},\"selected\":{\"id\":\"22475\",\"type\":\"Selection\"},\"selection_policy\":{\"id\":\"22474\",\"type\":\"UnionRenderers\"}},\"id\":\"21811\",\"type\":\"ColumnDataSource\"},{\"attributes\":{\"data_source\":{\"id\":\"21821\",\"type\":\"ColumnDataSource\"},\"glyph\":{\"id\":\"21822\",\"type\":\"HBar\"},\"hover_glyph\":null,\"muted_glyph\":null,\"nonselection_glyph\":{\"id\":\"21823\",\"type\":\"HBar\"},\"selection_glyph\":null,\"view\":{\"id\":\"21825\",\"type\":\"CDSView\"}},\"id\":\"21824\",\"type\":\"GlyphRenderer\"},{\"attributes\":{\"fill_alpha\":{\"value\":0.7},\"fill_color\":{\"value\":\"#ff7f0e\"},\"height\":{\"value\":0.7},\"left\":{\"field\":\"left\"},\"line_width\":{\"value\":0.5},\"right\":{\"field\":\"right\"},\"y\":{\"field\":\"y\"}},\"id\":\"21822\",\"type\":\"HBar\"},{\"attributes\":{\"bottom_units\":\"screen\",\"fill_alpha\":{\"value\":0.5},\"fill_color\":{\"value\":\"lightgrey\"},\"left_units\":\"screen\",\"level\":\"overlay\",\"line_alpha\":{\"value\":1.0},\"line_color\":{\"value\":\"black\"},\"line_dash\":[4,4],\"line_width\":{\"value\":2},\"plot\":null,\"render_mode\":\"css\",\"right_units\":\"screen\",\"top_units\":\"screen\"},\"id\":\"21799\",\"type\":\"BoxAnnotation\"},{\"attributes\":{\"callback\":null,\"data\":{\"left\":{\"__ndarray__\":\"Od0DHIvw7z9yGF6+x8/vP+D3writtu8/535R/tZm7z9P7MRO7MTuP0/sxE7sxO4/\",\"dtype\":\"float64\",\"shape\":[6]},\"right\":{\"__ndarray__\":\"AAAAAAAA8D8AAAAAAADwPwAAAAAAAPA/AAAAAAAA8D8AAAAAAADwPwAAAAAAAPA/\",\"dtype\":\"float64\",\"shape\":[6]},\"y\":[\"15\",\"25\",\"35\",\"45\",\"55\",\"75\"]},\"selected\":{\"id\":\"22479\",\"type\":\"Selection\"},\"selection_policy\":{\"id\":\"22478\",\"type\":\"UnionRenderers\"}},\"id\":\"21821\",\"type\":\"ColumnDataSource\"}],\"root_ids\":[\"21773\"]},\"title\":\"Bokeh Application\",\"version\":\"1.0.2\"}};\n",
       "  var render_items = [{\"docid\":\"8f2a7fcd-f738-44f6-a4a3-e55958ad3087\",\"roots\":{\"21773\":\"49dd25bd-4abd-42dd-afe2-e4a56b1028f1\"}}];\n",
       "  root.Bokeh.embed.embed_items_notebook(docs_json, render_items);\n",
       "\n",
       "  }\n",
       "  if (root.Bokeh !== undefined) {\n",
       "    embed_document(root);\n",
       "  } else {\n",
       "    var attempts = 0;\n",
       "    var timer = setInterval(function(root) {\n",
       "      if (root.Bokeh !== undefined) {\n",
       "        embed_document(root);\n",
       "        clearInterval(timer);\n",
       "      }\n",
       "      attempts++;\n",
       "      if (attempts > 100) {\n",
       "        console.log(\"Bokeh: ERROR: Unable to run BokehJS code because BokehJS library is missing\");\n",
       "        clearInterval(timer);\n",
       "      }\n",
       "    }, 10, root)\n",
       "  }\n",
       "})(window);"
      ],
      "application/vnd.bokehjs_exec.v0+json": ""
     },
     "metadata": {
      "application/vnd.bokehjs_exec.v0+json": {
       "id": "21773"
      }
     },
     "output_type": "display_data"
    },
    {
     "data": {
      "text/html": [
       "\n",
       "\n",
       "\n",
       "\n",
       "\n",
       "\n",
       "  <div class=\"bk-root\" id=\"77d4d51a-974a-4cda-a2cf-0446c3d44265\"></div>\n"
      ]
     },
     "metadata": {},
     "output_type": "display_data"
    },
    {
     "data": {
      "application/javascript": [
       "(function(root) {\n",
       "  function embed_document(root) {\n",
       "    \n",
       "  var docs_json = {\"f4d0c368-2421-4b16-bd21-896344f4b6cd\":{\"roots\":{\"references\":[{\"attributes\":{\"below\":[{\"id\":\"22579\",\"type\":\"LinearAxis\"}],\"left\":[{\"id\":\"22584\",\"type\":\"CategoricalAxis\"}],\"plot_height\":250,\"renderers\":[{\"id\":\"22579\",\"type\":\"LinearAxis\"},{\"id\":\"22583\",\"type\":\"Grid\"},{\"id\":\"22584\",\"type\":\"CategoricalAxis\"},{\"id\":\"22587\",\"type\":\"Grid\"},{\"id\":\"22596\",\"type\":\"BoxAnnotation\"},{\"id\":\"22606\",\"type\":\"GlyphRenderer\"},{\"id\":\"22611\",\"type\":\"GlyphRenderer\"},{\"id\":\"22616\",\"type\":\"GlyphRenderer\"},{\"id\":\"22621\",\"type\":\"GlyphRenderer\"}],\"title\":{\"id\":\"23278\",\"type\":\"Title\"},\"toolbar\":{\"id\":\"22594\",\"type\":\"Toolbar\"},\"x_range\":{\"id\":\"22571\",\"type\":\"DataRange1d\"},\"x_scale\":{\"id\":\"22575\",\"type\":\"LinearScale\"},\"y_range\":{\"id\":\"22573\",\"type\":\"FactorRange\"},\"y_scale\":{\"id\":\"22577\",\"type\":\"CategoricalScale\"}},\"id\":\"22570\",\"subtype\":\"Figure\",\"type\":\"Plot\"},{\"attributes\":{},\"id\":\"23287\",\"type\":\"Selection\"},{\"attributes\":{\"fill_alpha\":{\"value\":0.3},\"fill_color\":{\"value\":\"#1f77b4\"},\"height\":{\"value\":0.7},\"left\":{\"field\":\"left\"},\"line_width\":{\"value\":0.5},\"right\":{\"field\":\"right\"},\"y\":{\"field\":\"y\"}},\"id\":\"22604\",\"type\":\"HBar\"},{\"attributes\":{\"callback\":null,\"data\":{\"left\":{\"__ndarray__\":\"Kd9eCuKr7T/Us1LtwGXtPwAAAAAAAPA/\",\"dtype\":\"float64\",\"shape\":[3]},\"right\":{\"__ndarray__\":\"J8eH6UC27z9clCuTEobvPwAAAAAAAPA/\",\"dtype\":\"float64\",\"shape\":[3]},\"y\":[\"Female\",\"Male\",\"Unknown\"]},\"selected\":{\"id\":\"23289\",\"type\":\"Selection\"},\"selection_policy\":{\"id\":\"23288\",\"type\":\"UnionRenderers\"}},\"id\":\"22613\",\"type\":\"ColumnDataSource\"},{\"attributes\":{},\"id\":\"23288\",\"type\":\"UnionRenderers\"},{\"attributes\":{\"data_source\":{\"id\":\"22613\",\"type\":\"ColumnDataSource\"},\"glyph\":{\"id\":\"22614\",\"type\":\"HBar\"},\"hover_glyph\":null,\"muted_glyph\":null,\"nonselection_glyph\":{\"id\":\"22615\",\"type\":\"HBar\"},\"selection_glyph\":null,\"view\":{\"id\":\"22617\",\"type\":\"CDSView\"}},\"id\":\"22616\",\"type\":\"GlyphRenderer\"},{\"attributes\":{},\"id\":\"22585\",\"type\":\"CategoricalTicker\"},{\"attributes\":{\"fill_alpha\":{\"value\":0.1},\"fill_color\":{\"value\":\"#1f77b4\"},\"height\":{\"value\":0.7},\"left\":{\"field\":\"left\"},\"line_alpha\":{\"value\":0.1},\"line_color\":{\"value\":\"#1f77b4\"},\"line_width\":{\"value\":0.5},\"right\":{\"field\":\"right\"},\"y\":{\"field\":\"y\"}},\"id\":\"22605\",\"type\":\"HBar\"},{\"attributes\":{\"dimension\":1,\"plot\":{\"id\":\"22570\",\"subtype\":\"Figure\",\"type\":\"Plot\"},\"ticker\":{\"id\":\"22585\",\"type\":\"CategoricalTicker\"}},\"id\":\"22587\",\"type\":\"Grid\"},{\"attributes\":{},\"id\":\"23289\",\"type\":\"Selection\"},{\"attributes\":{\"callback\":null},\"id\":\"22571\",\"type\":\"DataRange1d\"},{\"attributes\":{\"data_source\":{\"id\":\"22603\",\"type\":\"ColumnDataSource\"},\"glyph\":{\"id\":\"22604\",\"type\":\"HBar\"},\"hover_glyph\":null,\"muted_glyph\":null,\"nonselection_glyph\":{\"id\":\"22605\",\"type\":\"HBar\"},\"selection_glyph\":null,\"view\":{\"id\":\"22607\",\"type\":\"CDSView\"}},\"id\":\"22606\",\"type\":\"GlyphRenderer\"},{\"attributes\":{\"plot\":null,\"text\":\"\",\"text_font_size\":{\"value\":\"16pt\"}},\"id\":\"23278\",\"type\":\"Title\"},{\"attributes\":{\"source\":{\"id\":\"22613\",\"type\":\"ColumnDataSource\"}},\"id\":\"22617\",\"type\":\"CDSView\"},{\"attributes\":{\"source\":{\"id\":\"22603\",\"type\":\"ColumnDataSource\"}},\"id\":\"22607\",\"type\":\"CDSView\"},{\"attributes\":{\"callback\":null,\"data\":{\"left\":{\"__ndarray__\":\"AAAAAAAAAAAAAAAAAAAAAAAAAAAAAAAA\",\"dtype\":\"float64\",\"shape\":[3]},\"right\":{\"__ndarray__\":\"w+i0Su/a7D9nKdMteV7rPwAAAAAAAPA/\",\"dtype\":\"float64\",\"shape\":[3]},\"y\":[\"Female\",\"Male\",\"Unknown\"]},\"selected\":{\"id\":\"23285\",\"type\":\"Selection\"},\"selection_policy\":{\"id\":\"23284\",\"type\":\"UnionRenderers\"}},\"id\":\"22603\",\"type\":\"ColumnDataSource\"},{\"attributes\":{},\"id\":\"22580\",\"type\":\"BasicTicker\"},{\"attributes\":{},\"id\":\"23291\",\"type\":\"Selection\"},{\"attributes\":{\"axis_label\":\"Fraction\",\"axis_label_text_font_size\":{\"value\":\"16pt\"},\"formatter\":{\"id\":\"23280\",\"type\":\"BasicTickFormatter\"},\"major_label_text_font_size\":{\"value\":\"16pt\"},\"plot\":{\"id\":\"22570\",\"subtype\":\"Figure\",\"type\":\"Plot\"},\"ticker\":{\"id\":\"22580\",\"type\":\"BasicTicker\"}},\"id\":\"22579\",\"type\":\"LinearAxis\"},{\"attributes\":{\"fill_alpha\":{\"value\":0.1},\"fill_color\":{\"value\":\"#1f77b4\"},\"height\":{\"value\":0.7},\"left\":{\"field\":\"left\"},\"line_alpha\":{\"value\":0.1},\"line_color\":{\"value\":\"#1f77b4\"},\"line_width\":{\"value\":0.5},\"right\":{\"field\":\"right\"},\"y\":{\"field\":\"y\"}},\"id\":\"22620\",\"type\":\"HBar\"},{\"attributes\":{\"fill_alpha\":{\"value\":0.7},\"fill_color\":{\"value\":\"#ff7f0e\"},\"height\":{\"value\":0.7},\"left\":{\"field\":\"left\"},\"line_width\":{\"value\":0.5},\"right\":{\"field\":\"right\"},\"y\":{\"field\":\"y\"}},\"id\":\"22619\",\"type\":\"HBar\"},{\"attributes\":{},\"id\":\"22577\",\"type\":\"CategoricalScale\"},{\"attributes\":{\"fill_alpha\":{\"value\":0.1},\"fill_color\":{\"value\":\"#1f77b4\"},\"height\":{\"value\":0.7},\"left\":{\"field\":\"left\"},\"line_alpha\":{\"value\":0.1},\"line_color\":{\"value\":\"#1f77b4\"},\"line_width\":{\"value\":0.5},\"right\":{\"field\":\"right\"},\"y\":{\"field\":\"y\"}},\"id\":\"22610\",\"type\":\"HBar\"},{\"attributes\":{\"fill_alpha\":{\"value\":0.7},\"fill_color\":{\"value\":\"#1f77b4\"},\"height\":{\"value\":0.7},\"left\":{\"field\":\"left\"},\"line_width\":{\"value\":0.5},\"right\":{\"field\":\"right\"},\"y\":{\"field\":\"y\"}},\"id\":\"22609\",\"type\":\"HBar\"},{\"attributes\":{},\"id\":\"22575\",\"type\":\"LinearScale\"},{\"attributes\":{\"callback\":null,\"data\":{\"left\":{\"__ndarray__\":\"J8eH6UC27z9clCuTEobvPwAAAAAAAPA/\",\"dtype\":\"float64\",\"shape\":[3]},\"right\":{\"__ndarray__\":\"AAAAAAAA8D8AAAAAAADwPwAAAAAAAPA/\",\"dtype\":\"float64\",\"shape\":[3]},\"y\":[\"Female\",\"Male\",\"Unknown\"]},\"selected\":{\"id\":\"23291\",\"type\":\"Selection\"},\"selection_policy\":{\"id\":\"23290\",\"type\":\"UnionRenderers\"}},\"id\":\"22618\",\"type\":\"ColumnDataSource\"},{\"attributes\":{\"data_source\":{\"id\":\"22618\",\"type\":\"ColumnDataSource\"},\"glyph\":{\"id\":\"22619\",\"type\":\"HBar\"},\"hover_glyph\":null,\"muted_glyph\":null,\"nonselection_glyph\":{\"id\":\"22620\",\"type\":\"HBar\"},\"selection_glyph\":null,\"view\":{\"id\":\"22622\",\"type\":\"CDSView\"}},\"id\":\"22621\",\"type\":\"GlyphRenderer\"},{\"attributes\":{\"callback\":null,\"factors\":[\"Female\",\"Male\",\"Unknown\"]},\"id\":\"22573\",\"type\":\"FactorRange\"},{\"attributes\":{\"callback\":null,\"data\":{\"left\":{\"__ndarray__\":\"w+i0Su/a7D9nKdMteV7rPwAAAAAAAPA/\",\"dtype\":\"float64\",\"shape\":[3]},\"right\":{\"__ndarray__\":\"Kd9eCuKr7T/Us1LtwGXtPwAAAAAAAPA/\",\"dtype\":\"float64\",\"shape\":[3]},\"y\":[\"Female\",\"Male\",\"Unknown\"]},\"selected\":{\"id\":\"23287\",\"type\":\"Selection\"},\"selection_policy\":{\"id\":\"23286\",\"type\":\"UnionRenderers\"}},\"id\":\"22608\",\"type\":\"ColumnDataSource\"},{\"attributes\":{\"data_source\":{\"id\":\"22608\",\"type\":\"ColumnDataSource\"},\"glyph\":{\"id\":\"22609\",\"type\":\"HBar\"},\"hover_glyph\":null,\"muted_glyph\":null,\"nonselection_glyph\":{\"id\":\"22610\",\"type\":\"HBar\"},\"selection_glyph\":null,\"view\":{\"id\":\"22612\",\"type\":\"CDSView\"}},\"id\":\"22611\",\"type\":\"GlyphRenderer\"},{\"attributes\":{\"source\":{\"id\":\"22618\",\"type\":\"ColumnDataSource\"}},\"id\":\"22622\",\"type\":\"CDSView\"},{\"attributes\":{},\"id\":\"22592\",\"type\":\"ResetTool\"},{\"attributes\":{\"source\":{\"id\":\"22608\",\"type\":\"ColumnDataSource\"}},\"id\":\"22612\",\"type\":\"CDSView\"},{\"attributes\":{},\"id\":\"22589\",\"type\":\"WheelZoomTool\"},{\"attributes\":{},\"id\":\"23280\",\"type\":\"BasicTickFormatter\"},{\"attributes\":{},\"id\":\"22588\",\"type\":\"PanTool\"},{\"attributes\":{},\"id\":\"22591\",\"type\":\"SaveTool\"},{\"attributes\":{},\"id\":\"23282\",\"type\":\"CategoricalTickFormatter\"},{\"attributes\":{\"active_drag\":\"auto\",\"active_inspect\":\"auto\",\"active_multi\":null,\"active_scroll\":\"auto\",\"active_tap\":\"auto\",\"tools\":[{\"id\":\"22588\",\"type\":\"PanTool\"},{\"id\":\"22589\",\"type\":\"WheelZoomTool\"},{\"id\":\"22590\",\"type\":\"BoxZoomTool\"},{\"id\":\"22591\",\"type\":\"SaveTool\"},{\"id\":\"22592\",\"type\":\"ResetTool\"},{\"id\":\"22593\",\"type\":\"HelpTool\"}]},\"id\":\"22594\",\"type\":\"Toolbar\"},{\"attributes\":{\"overlay\":{\"id\":\"22596\",\"type\":\"BoxAnnotation\"}},\"id\":\"22590\",\"type\":\"BoxZoomTool\"},{\"attributes\":{},\"id\":\"23284\",\"type\":\"UnionRenderers\"},{\"attributes\":{\"axis_label\":\"Speed Limit (MPH)\",\"axis_label_text_font_size\":{\"value\":\"16pt\"},\"formatter\":{\"id\":\"23282\",\"type\":\"CategoricalTickFormatter\"},\"major_label_text_font_size\":{\"value\":\"16pt\"},\"plot\":{\"id\":\"22570\",\"subtype\":\"Figure\",\"type\":\"Plot\"},\"ticker\":{\"id\":\"22585\",\"type\":\"CategoricalTicker\"}},\"id\":\"22584\",\"type\":\"CategoricalAxis\"},{\"attributes\":{},\"id\":\"23290\",\"type\":\"UnionRenderers\"},{\"attributes\":{\"plot\":{\"id\":\"22570\",\"subtype\":\"Figure\",\"type\":\"Plot\"},\"ticker\":{\"id\":\"22580\",\"type\":\"BasicTicker\"}},\"id\":\"22583\",\"type\":\"Grid\"},{\"attributes\":{},\"id\":\"23285\",\"type\":\"Selection\"},{\"attributes\":{\"fill_alpha\":{\"value\":0.1},\"fill_color\":{\"value\":\"#1f77b4\"},\"height\":{\"value\":0.7},\"left\":{\"field\":\"left\"},\"line_alpha\":{\"value\":0.1},\"line_color\":{\"value\":\"#1f77b4\"},\"line_width\":{\"value\":0.5},\"right\":{\"field\":\"right\"},\"y\":{\"field\":\"y\"}},\"id\":\"22615\",\"type\":\"HBar\"},{\"attributes\":{\"fill_alpha\":{\"value\":0.3},\"fill_color\":{\"value\":\"#ff7f0e\"},\"height\":{\"value\":0.7},\"left\":{\"field\":\"left\"},\"line_width\":{\"value\":0.5},\"right\":{\"field\":\"right\"},\"y\":{\"field\":\"y\"}},\"id\":\"22614\",\"type\":\"HBar\"},{\"attributes\":{},\"id\":\"23286\",\"type\":\"UnionRenderers\"},{\"attributes\":{},\"id\":\"22593\",\"type\":\"HelpTool\"},{\"attributes\":{\"bottom_units\":\"screen\",\"fill_alpha\":{\"value\":0.5},\"fill_color\":{\"value\":\"lightgrey\"},\"left_units\":\"screen\",\"level\":\"overlay\",\"line_alpha\":{\"value\":1.0},\"line_color\":{\"value\":\"black\"},\"line_dash\":[4,4],\"line_width\":{\"value\":2},\"plot\":null,\"render_mode\":\"css\",\"right_units\":\"screen\",\"top_units\":\"screen\"},\"id\":\"22596\",\"type\":\"BoxAnnotation\"}],\"root_ids\":[\"22570\"]},\"title\":\"Bokeh Application\",\"version\":\"1.0.2\"}};\n",
       "  var render_items = [{\"docid\":\"f4d0c368-2421-4b16-bd21-896344f4b6cd\",\"roots\":{\"22570\":\"77d4d51a-974a-4cda-a2cf-0446c3d44265\"}}];\n",
       "  root.Bokeh.embed.embed_items_notebook(docs_json, render_items);\n",
       "\n",
       "  }\n",
       "  if (root.Bokeh !== undefined) {\n",
       "    embed_document(root);\n",
       "  } else {\n",
       "    var attempts = 0;\n",
       "    var timer = setInterval(function(root) {\n",
       "      if (root.Bokeh !== undefined) {\n",
       "        embed_document(root);\n",
       "        clearInterval(timer);\n",
       "      }\n",
       "      attempts++;\n",
       "      if (attempts > 100) {\n",
       "        console.log(\"Bokeh: ERROR: Unable to run BokehJS code because BokehJS library is missing\");\n",
       "        clearInterval(timer);\n",
       "      }\n",
       "    }, 10, root)\n",
       "  }\n",
       "})(window);"
      ],
      "application/vnd.bokehjs_exec.v0+json": ""
     },
     "metadata": {
      "application/vnd.bokehjs_exec.v0+json": {
       "id": "22570"
      }
     },
     "output_type": "display_data"
    },
    {
     "data": {
      "text/html": [
       "\n",
       "\n",
       "\n",
       "\n",
       "\n",
       "\n",
       "  <div class=\"bk-root\" id=\"85d4dddf-fb08-4f5d-831b-ef4852cf1d55\"></div>\n"
      ]
     },
     "metadata": {},
     "output_type": "display_data"
    },
    {
     "data": {
      "application/javascript": [
       "(function(root) {\n",
       "  function embed_document(root) {\n",
       "    \n",
       "  var docs_json = {\"04d86626-5a5f-4f7c-b628-a4cc706a3030\":{\"roots\":{\"references\":[{\"attributes\":{\"below\":[{\"id\":\"23391\",\"type\":\"LinearAxis\"}],\"left\":[{\"id\":\"23396\",\"type\":\"CategoricalAxis\"}],\"plot_height\":200,\"renderers\":[{\"id\":\"23391\",\"type\":\"LinearAxis\"},{\"id\":\"23395\",\"type\":\"Grid\"},{\"id\":\"23396\",\"type\":\"CategoricalAxis\"},{\"id\":\"23399\",\"type\":\"Grid\"},{\"id\":\"23408\",\"type\":\"BoxAnnotation\"},{\"id\":\"23418\",\"type\":\"GlyphRenderer\"},{\"id\":\"23423\",\"type\":\"GlyphRenderer\"},{\"id\":\"23428\",\"type\":\"GlyphRenderer\"},{\"id\":\"23433\",\"type\":\"GlyphRenderer\"}],\"title\":{\"id\":\"24105\",\"type\":\"Title\"},\"toolbar\":{\"id\":\"23406\",\"type\":\"Toolbar\"},\"x_range\":{\"id\":\"23383\",\"type\":\"DataRange1d\"},\"x_scale\":{\"id\":\"23387\",\"type\":\"LinearScale\"},\"y_range\":{\"id\":\"23385\",\"type\":\"FactorRange\"},\"y_scale\":{\"id\":\"23389\",\"type\":\"CategoricalScale\"}},\"id\":\"23382\",\"subtype\":\"Figure\",\"type\":\"Plot\"},{\"attributes\":{},\"id\":\"24113\",\"type\":\"UnionRenderers\"},{\"attributes\":{\"data_source\":{\"id\":\"23430\",\"type\":\"ColumnDataSource\"},\"glyph\":{\"id\":\"23431\",\"type\":\"HBar\"},\"hover_glyph\":null,\"muted_glyph\":null,\"nonselection_glyph\":{\"id\":\"23432\",\"type\":\"HBar\"},\"selection_glyph\":null,\"view\":{\"id\":\"23434\",\"type\":\"CDSView\"}},\"id\":\"23433\",\"type\":\"GlyphRenderer\"},{\"attributes\":{\"fill_alpha\":{\"value\":0.3},\"fill_color\":{\"value\":\"#1f77b4\"},\"height\":{\"value\":0.7},\"left\":{\"field\":\"left\"},\"line_width\":{\"value\":0.5},\"right\":{\"field\":\"right\"},\"y\":{\"field\":\"y\"}},\"id\":\"23416\",\"type\":\"HBar\"},{\"attributes\":{\"data_source\":{\"id\":\"23415\",\"type\":\"ColumnDataSource\"},\"glyph\":{\"id\":\"23416\",\"type\":\"HBar\"},\"hover_glyph\":null,\"muted_glyph\":null,\"nonselection_glyph\":{\"id\":\"23417\",\"type\":\"HBar\"},\"selection_glyph\":null,\"view\":{\"id\":\"23419\",\"type\":\"CDSView\"}},\"id\":\"23418\",\"type\":\"GlyphRenderer\"},{\"attributes\":{},\"id\":\"24112\",\"type\":\"Selection\"},{\"attributes\":{\"fill_alpha\":{\"value\":0.1},\"fill_color\":{\"value\":\"#1f77b4\"},\"height\":{\"value\":0.7},\"left\":{\"field\":\"left\"},\"line_alpha\":{\"value\":0.1},\"line_color\":{\"value\":\"#1f77b4\"},\"line_width\":{\"value\":0.5},\"right\":{\"field\":\"right\"},\"y\":{\"field\":\"y\"}},\"id\":\"23417\",\"type\":\"HBar\"},{\"attributes\":{\"fill_alpha\":{\"value\":0.7},\"fill_color\":{\"value\":\"#ff7f0e\"},\"height\":{\"value\":0.7},\"left\":{\"field\":\"left\"},\"line_width\":{\"value\":0.5},\"right\":{\"field\":\"right\"},\"y\":{\"field\":\"y\"}},\"id\":\"23431\",\"type\":\"HBar\"},{\"attributes\":{\"source\":{\"id\":\"23420\",\"type\":\"ColumnDataSource\"}},\"id\":\"23424\",\"type\":\"CDSView\"},{\"attributes\":{},\"id\":\"23389\",\"type\":\"CategoricalScale\"},{\"attributes\":{\"callback\":null,\"data\":{\"left\":{\"__ndarray__\":\"AAAAAAAA8D8ZyzKUWdHvP8/zPM/zPO8/uFRMb6mY7j8=\",\"dtype\":\"float64\",\"shape\":[4]},\"right\":{\"__ndarray__\":\"AAAAAAAA8D8AAAAAAADwPwAAAAAAAPA/AAAAAAAA8D8=\",\"dtype\":\"float64\",\"shape\":[4]},\"y\":[\"Dawn\",\"Dayl\",\"Dusk\",\"Dark\"]},\"selected\":{\"id\":\"24118\",\"type\":\"Selection\"},\"selection_policy\":{\"id\":\"24117\",\"type\":\"UnionRenderers\"}},\"id\":\"23430\",\"type\":\"ColumnDataSource\"},{\"attributes\":{},\"id\":\"24118\",\"type\":\"Selection\"},{\"attributes\":{\"dimension\":1,\"plot\":{\"id\":\"23382\",\"subtype\":\"Figure\",\"type\":\"Plot\"},\"ticker\":{\"id\":\"23397\",\"type\":\"CategoricalTicker\"}},\"id\":\"23399\",\"type\":\"Grid\"},{\"attributes\":{\"fill_alpha\":{\"value\":0.1},\"fill_color\":{\"value\":\"#1f77b4\"},\"height\":{\"value\":0.7},\"left\":{\"field\":\"left\"},\"line_alpha\":{\"value\":0.1},\"line_color\":{\"value\":\"#1f77b4\"},\"line_width\":{\"value\":0.5},\"right\":{\"field\":\"right\"},\"y\":{\"field\":\"y\"}},\"id\":\"23432\",\"type\":\"HBar\"},{\"attributes\":{},\"id\":\"24114\",\"type\":\"Selection\"},{\"attributes\":{\"source\":{\"id\":\"23415\",\"type\":\"ColumnDataSource\"}},\"id\":\"23419\",\"type\":\"CDSView\"},{\"attributes\":{},\"id\":\"23397\",\"type\":\"CategoricalTicker\"},{\"attributes\":{},\"id\":\"23400\",\"type\":\"PanTool\"},{\"attributes\":{\"source\":{\"id\":\"23430\",\"type\":\"ColumnDataSource\"}},\"id\":\"23434\",\"type\":\"CDSView\"},{\"attributes\":{\"fill_alpha\":{\"value\":0.1},\"fill_color\":{\"value\":\"#1f77b4\"},\"height\":{\"value\":0.7},\"left\":{\"field\":\"left\"},\"line_alpha\":{\"value\":0.1},\"line_color\":{\"value\":\"#1f77b4\"},\"line_width\":{\"value\":0.5},\"right\":{\"field\":\"right\"},\"y\":{\"field\":\"y\"}},\"id\":\"23427\",\"type\":\"HBar\"},{\"attributes\":{},\"id\":\"23387\",\"type\":\"LinearScale\"},{\"attributes\":{},\"id\":\"24116\",\"type\":\"Selection\"},{\"attributes\":{},\"id\":\"23401\",\"type\":\"WheelZoomTool\"},{\"attributes\":{\"fill_alpha\":{\"value\":0.3},\"fill_color\":{\"value\":\"#ff7f0e\"},\"height\":{\"value\":0.7},\"left\":{\"field\":\"left\"},\"line_width\":{\"value\":0.5},\"right\":{\"field\":\"right\"},\"y\":{\"field\":\"y\"}},\"id\":\"23426\",\"type\":\"HBar\"},{\"attributes\":{},\"id\":\"24107\",\"type\":\"BasicTickFormatter\"},{\"attributes\":{\"active_drag\":\"auto\",\"active_inspect\":\"auto\",\"active_multi\":null,\"active_scroll\":\"auto\",\"active_tap\":\"auto\",\"tools\":[{\"id\":\"23400\",\"type\":\"PanTool\"},{\"id\":\"23401\",\"type\":\"WheelZoomTool\"},{\"id\":\"23402\",\"type\":\"BoxZoomTool\"},{\"id\":\"23403\",\"type\":\"SaveTool\"},{\"id\":\"23404\",\"type\":\"ResetTool\"},{\"id\":\"23405\",\"type\":\"HelpTool\"}]},\"id\":\"23406\",\"type\":\"Toolbar\"},{\"attributes\":{\"callback\":null,\"data\":{\"left\":{\"__ndarray__\":\"waRT8yB37T+KluxZWPHtPzY7ahHy1+w/11jXrbGu6z8=\",\"dtype\":\"float64\",\"shape\":[4]},\"right\":{\"__ndarray__\":\"AAAAAAAA8D8ZyzKUWdHvP8/zPM/zPO8/uFRMb6mY7j8=\",\"dtype\":\"float64\",\"shape\":[4]},\"y\":[\"Dawn\",\"Dayl\",\"Dusk\",\"Dark\"]},\"selected\":{\"id\":\"24116\",\"type\":\"Selection\"},\"selection_policy\":{\"id\":\"24115\",\"type\":\"UnionRenderers\"}},\"id\":\"23425\",\"type\":\"ColumnDataSource\"},{\"attributes\":{},\"id\":\"24109\",\"type\":\"CategoricalTickFormatter\"},{\"attributes\":{},\"id\":\"24115\",\"type\":\"UnionRenderers\"},{\"attributes\":{\"data_source\":{\"id\":\"23425\",\"type\":\"ColumnDataSource\"},\"glyph\":{\"id\":\"23426\",\"type\":\"HBar\"},\"hover_glyph\":null,\"muted_glyph\":null,\"nonselection_glyph\":{\"id\":\"23427\",\"type\":\"HBar\"},\"selection_glyph\":null,\"view\":{\"id\":\"23429\",\"type\":\"CDSView\"}},\"id\":\"23428\",\"type\":\"GlyphRenderer\"},{\"attributes\":{},\"id\":\"24117\",\"type\":\"UnionRenderers\"},{\"attributes\":{\"plot\":null,\"text\":\"\",\"text_font_size\":{\"value\":\"16pt\"}},\"id\":\"24105\",\"type\":\"Title\"},{\"attributes\":{\"bottom_units\":\"screen\",\"fill_alpha\":{\"value\":0.5},\"fill_color\":{\"value\":\"lightgrey\"},\"left_units\":\"screen\",\"level\":\"overlay\",\"line_alpha\":{\"value\":1.0},\"line_color\":{\"value\":\"black\"},\"line_dash\":[4,4],\"line_width\":{\"value\":2},\"plot\":null,\"render_mode\":\"css\",\"right_units\":\"screen\",\"top_units\":\"screen\"},\"id\":\"23408\",\"type\":\"BoxAnnotation\"},{\"attributes\":{\"source\":{\"id\":\"23425\",\"type\":\"ColumnDataSource\"}},\"id\":\"23429\",\"type\":\"CDSView\"},{\"attributes\":{\"axis_label\":\"Fraction\",\"axis_label_text_font_size\":{\"value\":\"16pt\"},\"formatter\":{\"id\":\"24107\",\"type\":\"BasicTickFormatter\"},\"major_label_text_font_size\":{\"value\":\"16pt\"},\"plot\":{\"id\":\"23382\",\"subtype\":\"Figure\",\"type\":\"Plot\"},\"ticker\":{\"id\":\"23392\",\"type\":\"BasicTicker\"}},\"id\":\"23391\",\"type\":\"LinearAxis\"},{\"attributes\":{},\"id\":\"23405\",\"type\":\"HelpTool\"},{\"attributes\":{},\"id\":\"23392\",\"type\":\"BasicTicker\"},{\"attributes\":{\"fill_alpha\":{\"value\":0.1},\"fill_color\":{\"value\":\"#1f77b4\"},\"height\":{\"value\":0.7},\"left\":{\"field\":\"left\"},\"line_alpha\":{\"value\":0.1},\"line_color\":{\"value\":\"#1f77b4\"},\"line_width\":{\"value\":0.5},\"right\":{\"field\":\"right\"},\"y\":{\"field\":\"y\"}},\"id\":\"23422\",\"type\":\"HBar\"},{\"attributes\":{\"plot\":{\"id\":\"23382\",\"subtype\":\"Figure\",\"type\":\"Plot\"},\"ticker\":{\"id\":\"23392\",\"type\":\"BasicTicker\"}},\"id\":\"23395\",\"type\":\"Grid\"},{\"attributes\":{},\"id\":\"23404\",\"type\":\"ResetTool\"},{\"attributes\":{\"fill_alpha\":{\"value\":0.7},\"fill_color\":{\"value\":\"#1f77b4\"},\"height\":{\"value\":0.7},\"left\":{\"field\":\"left\"},\"line_width\":{\"value\":0.5},\"right\":{\"field\":\"right\"},\"y\":{\"field\":\"y\"}},\"id\":\"23421\",\"type\":\"HBar\"},{\"attributes\":{\"axis_label_text_font_size\":{\"value\":\"16pt\"},\"formatter\":{\"id\":\"24109\",\"type\":\"CategoricalTickFormatter\"},\"major_label_text_font_size\":{\"value\":\"16pt\"},\"plot\":{\"id\":\"23382\",\"subtype\":\"Figure\",\"type\":\"Plot\"},\"ticker\":{\"id\":\"23397\",\"type\":\"CategoricalTicker\"}},\"id\":\"23396\",\"type\":\"CategoricalAxis\"},{\"attributes\":{},\"id\":\"23403\",\"type\":\"SaveTool\"},{\"attributes\":{\"callback\":null,\"data\":{\"left\":{\"__ndarray__\":\"IXf9bLEy7D/X1Zp8UO7sP82OWoT8Nes/XkVYu4qw5j8=\",\"dtype\":\"float64\",\"shape\":[4]},\"right\":{\"__ndarray__\":\"waRT8yB37T+KluxZWPHtPzY7ahHy1+w/11jXrbGu6z8=\",\"dtype\":\"float64\",\"shape\":[4]},\"y\":[\"Dawn\",\"Dayl\",\"Dusk\",\"Dark\"]},\"selected\":{\"id\":\"24114\",\"type\":\"Selection\"},\"selection_policy\":{\"id\":\"24113\",\"type\":\"UnionRenderers\"}},\"id\":\"23420\",\"type\":\"ColumnDataSource\"},{\"attributes\":{\"data_source\":{\"id\":\"23420\",\"type\":\"ColumnDataSource\"},\"glyph\":{\"id\":\"23421\",\"type\":\"HBar\"},\"hover_glyph\":null,\"muted_glyph\":null,\"nonselection_glyph\":{\"id\":\"23422\",\"type\":\"HBar\"},\"selection_glyph\":null,\"view\":{\"id\":\"23424\",\"type\":\"CDSView\"}},\"id\":\"23423\",\"type\":\"GlyphRenderer\"},{\"attributes\":{\"overlay\":{\"id\":\"23408\",\"type\":\"BoxAnnotation\"}},\"id\":\"23402\",\"type\":\"BoxZoomTool\"},{\"attributes\":{\"callback\":null,\"factors\":[\"Dawn\",\"Dayl\",\"Dusk\",\"Dark\"]},\"id\":\"23385\",\"type\":\"FactorRange\"},{\"attributes\":{},\"id\":\"24111\",\"type\":\"UnionRenderers\"},{\"attributes\":{\"callback\":null},\"id\":\"23383\",\"type\":\"DataRange1d\"},{\"attributes\":{\"callback\":null,\"data\":{\"left\":{\"__ndarray__\":\"AAAAAAAAAAAAAAAAAAAAAAAAAAAAAAAAAAAAAAAAAAA=\",\"dtype\":\"float64\",\"shape\":[4]},\"right\":{\"__ndarray__\":\"IXf9bLEy7D/X1Zp8UO7sP82OWoT8Nes/XkVYu4qw5j8=\",\"dtype\":\"float64\",\"shape\":[4]},\"y\":[\"Dawn\",\"Dayl\",\"Dusk\",\"Dark\"]},\"selected\":{\"id\":\"24112\",\"type\":\"Selection\"},\"selection_policy\":{\"id\":\"24111\",\"type\":\"UnionRenderers\"}},\"id\":\"23415\",\"type\":\"ColumnDataSource\"}],\"root_ids\":[\"23382\"]},\"title\":\"Bokeh Application\",\"version\":\"1.0.2\"}};\n",
       "  var render_items = [{\"docid\":\"04d86626-5a5f-4f7c-b628-a4cc706a3030\",\"roots\":{\"23382\":\"85d4dddf-fb08-4f5d-831b-ef4852cf1d55\"}}];\n",
       "  root.Bokeh.embed.embed_items_notebook(docs_json, render_items);\n",
       "\n",
       "  }\n",
       "  if (root.Bokeh !== undefined) {\n",
       "    embed_document(root);\n",
       "  } else {\n",
       "    var attempts = 0;\n",
       "    var timer = setInterval(function(root) {\n",
       "      if (root.Bokeh !== undefined) {\n",
       "        embed_document(root);\n",
       "        clearInterval(timer);\n",
       "      }\n",
       "      attempts++;\n",
       "      if (attempts > 100) {\n",
       "        console.log(\"Bokeh: ERROR: Unable to run BokehJS code because BokehJS library is missing\");\n",
       "        clearInterval(timer);\n",
       "      }\n",
       "    }, 10, root)\n",
       "  }\n",
       "})(window);"
      ],
      "application/vnd.bokehjs_exec.v0+json": ""
     },
     "metadata": {
      "application/vnd.bokehjs_exec.v0+json": {
       "id": "23382"
      }
     },
     "output_type": "display_data"
    },
    {
     "data": {
      "text/html": [
       "\n",
       "\n",
       "\n",
       "\n",
       "\n",
       "\n",
       "  <div class=\"bk-root\" id=\"48e39412-7537-4eeb-8a41-0c234659bc94\"></div>\n"
      ]
     },
     "metadata": {},
     "output_type": "display_data"
    },
    {
     "data": {
      "application/javascript": [
       "(function(root) {\n",
       "  function embed_document(root) {\n",
       "    \n",
       "  var docs_json = {\"e0d58c16-d4ea-4ffa-ad4d-57c38632a99c\":{\"roots\":{\"references\":[{\"attributes\":{\"below\":[{\"id\":\"24218\",\"type\":\"LinearAxis\"}],\"left\":[{\"id\":\"24223\",\"type\":\"CategoricalAxis\"}],\"plot_height\":2000,\"renderers\":[{\"id\":\"24218\",\"type\":\"LinearAxis\"},{\"id\":\"24222\",\"type\":\"Grid\"},{\"id\":\"24223\",\"type\":\"CategoricalAxis\"},{\"id\":\"24226\",\"type\":\"Grid\"},{\"id\":\"24235\",\"type\":\"BoxAnnotation\"},{\"id\":\"24245\",\"type\":\"GlyphRenderer\"},{\"id\":\"24250\",\"type\":\"GlyphRenderer\"},{\"id\":\"24255\",\"type\":\"GlyphRenderer\"},{\"id\":\"24260\",\"type\":\"GlyphRenderer\"}],\"title\":{\"id\":\"24947\",\"type\":\"Title\"},\"toolbar\":{\"id\":\"24233\",\"type\":\"Toolbar\"},\"x_range\":{\"id\":\"24210\",\"type\":\"DataRange1d\"},\"x_scale\":{\"id\":\"24214\",\"type\":\"LinearScale\"},\"y_range\":{\"id\":\"24212\",\"type\":\"FactorRange\"},\"y_scale\":{\"id\":\"24216\",\"type\":\"CategoricalScale\"}},\"id\":\"24209\",\"subtype\":\"Figure\",\"type\":\"Plot\"},{\"attributes\":{},\"id\":\"24230\",\"type\":\"SaveTool\"},{\"attributes\":{\"source\":{\"id\":\"24247\",\"type\":\"ColumnDataSource\"}},\"id\":\"24251\",\"type\":\"CDSView\"},{\"attributes\":{},\"id\":\"24955\",\"type\":\"UnionRenderers\"},{\"attributes\":{},\"id\":\"24231\",\"type\":\"ResetTool\"},{\"attributes\":{},\"id\":\"24956\",\"type\":\"Selection\"},{\"attributes\":{},\"id\":\"24232\",\"type\":\"HelpTool\"},{\"attributes\":{\"callback\":null},\"id\":\"24210\",\"type\":\"DataRange1d\"},{\"attributes\":{},\"id\":\"24957\",\"type\":\"UnionRenderers\"},{\"attributes\":{},\"id\":\"24958\",\"type\":\"Selection\"},{\"attributes\":{\"callback\":null,\"factors\":[\"1\",\"2\",\"3\",\"4\",\"5\",\"6\",\"7\",\"8\",\"9\",\"10\",\"11\",\"12\",\"13\",\"14\",\"15\",\"16\",\"17\",\"18\",\"19\",\"20\",\"21\",\"22\",\"23\",\"24\",\"25\",\"26\",\"27\",\"28\",\"29\",\"30\",\"31\",\"32\",\"33\",\"34\",\"35\",\"36\",\"37\",\"38\",\"39\",\"40\",\"41\",\"42\",\"43\",\"44\",\"45\",\"46\",\"47\",\"48\",\"49\",\"50\",\"51\",\"52\",\"53\",\"54\",\"55\",\"56\",\"57\",\"58\",\"59\",\"60\",\"61\",\"62\",\"63\",\"64\",\"65\",\"66\",\"67\",\"68\",\"69\",\"70\",\"71\",\"72\",\"73\",\"74\",\"75\",\"76\",\"77\",\"78\",\"79\",\"80\",\"81\",\"82\",\"83\",\"84\",\"87\",\"88\",\"89\",\"91\",\"93\"]},\"id\":\"24212\",\"type\":\"FactorRange\"},{\"attributes\":{\"active_drag\":\"auto\",\"active_inspect\":\"auto\",\"active_multi\":null,\"active_scroll\":\"auto\",\"active_tap\":\"auto\",\"tools\":[{\"id\":\"24227\",\"type\":\"PanTool\"},{\"id\":\"24228\",\"type\":\"WheelZoomTool\"},{\"id\":\"24229\",\"type\":\"BoxZoomTool\"},{\"id\":\"24230\",\"type\":\"SaveTool\"},{\"id\":\"24231\",\"type\":\"ResetTool\"},{\"id\":\"24232\",\"type\":\"HelpTool\"}]},\"id\":\"24233\",\"type\":\"Toolbar\"},{\"attributes\":{\"bottom_units\":\"screen\",\"fill_alpha\":{\"value\":0.5},\"fill_color\":{\"value\":\"lightgrey\"},\"left_units\":\"screen\",\"level\":\"overlay\",\"line_alpha\":{\"value\":1.0},\"line_color\":{\"value\":\"black\"},\"line_dash\":[4,4],\"line_width\":{\"value\":2},\"plot\":null,\"render_mode\":\"css\",\"right_units\":\"screen\",\"top_units\":\"screen\"},\"id\":\"24235\",\"type\":\"BoxAnnotation\"},{\"attributes\":{},\"id\":\"24214\",\"type\":\"LinearScale\"},{\"attributes\":{},\"id\":\"24959\",\"type\":\"UnionRenderers\"},{\"attributes\":{},\"id\":\"24954\",\"type\":\"Selection\"},{\"attributes\":{\"fill_alpha\":{\"value\":0.1},\"fill_color\":{\"value\":\"#1f77b4\"},\"height\":{\"value\":0.7},\"left\":{\"field\":\"left\"},\"line_alpha\":{\"value\":0.1},\"line_color\":{\"value\":\"#1f77b4\"},\"line_width\":{\"value\":0.5},\"right\":{\"field\":\"right\"},\"y\":{\"field\":\"y\"}},\"id\":\"24254\",\"type\":\"HBar\"},{\"attributes\":{},\"id\":\"24216\",\"type\":\"CategoricalScale\"},{\"attributes\":{},\"id\":\"24960\",\"type\":\"Selection\"},{\"attributes\":{\"axis_label\":\"Fraction\",\"axis_label_text_font_size\":{\"value\":\"16pt\"},\"formatter\":{\"id\":\"24949\",\"type\":\"BasicTickFormatter\"},\"major_label_text_font_size\":{\"value\":\"16pt\"},\"plot\":{\"id\":\"24209\",\"subtype\":\"Figure\",\"type\":\"Plot\"},\"ticker\":{\"id\":\"24219\",\"type\":\"BasicTicker\"}},\"id\":\"24218\",\"type\":\"LinearAxis\"},{\"attributes\":{\"data_source\":{\"id\":\"24252\",\"type\":\"ColumnDataSource\"},\"glyph\":{\"id\":\"24253\",\"type\":\"HBar\"},\"hover_glyph\":null,\"muted_glyph\":null,\"nonselection_glyph\":{\"id\":\"24254\",\"type\":\"HBar\"},\"selection_glyph\":null,\"view\":{\"id\":\"24256\",\"type\":\"CDSView\"}},\"id\":\"24255\",\"type\":\"GlyphRenderer\"},{\"attributes\":{},\"id\":\"24219\",\"type\":\"BasicTicker\"},{\"attributes\":{\"fill_alpha\":{\"value\":0.3},\"fill_color\":{\"value\":\"#ff7f0e\"},\"height\":{\"value\":0.7},\"left\":{\"field\":\"left\"},\"line_width\":{\"value\":0.5},\"right\":{\"field\":\"right\"},\"y\":{\"field\":\"y\"}},\"id\":\"24253\",\"type\":\"HBar\"},{\"attributes\":{\"fill_alpha\":{\"value\":0.7},\"fill_color\":{\"value\":\"#ff7f0e\"},\"height\":{\"value\":0.7},\"left\":{\"field\":\"left\"},\"line_width\":{\"value\":0.5},\"right\":{\"field\":\"right\"},\"y\":{\"field\":\"y\"}},\"id\":\"24258\",\"type\":\"HBar\"},{\"attributes\":{\"callback\":null,\"data\":{\"left\":{\"__ndarray__\":\"AAAAAAAA8D8AAAAAAADwP83MzMzMzOw/ZmZmZmZm7j/P8zzP8zzvP6Ev6Av6gu4/JUmSJEmS7j9Pp9PpdDrtP67sc0hNMO4/SNa58oBk7T+TTTbZZJPtP3g5BS+n4O0/FK5H4XoU7j/3kMuKgRLuP1/ohV7ohe4/qAR5SpCn7D9dZwIGj+XtP2KRMvB0a+4/kZpgvJV97j9mZmZmZmbuP6YG9o6pge0/9w1r37D27T+uftBRgS/uPwrrKaynsO4/ikuGYB1t7j9mZmZmZmbvP9PS0tLS0u4/XgizXQiz7T/m2oG5dmDuP+O3Sz0Zv+0/yz6H1ATj7T9/0FGBL67uPykw6dQ8yO0/waRT8yB37T+xEzuxEzvtP+wYxbmOUew/4GpjaLqD7T8RERERERHtP5TXUF5Dee0/ncEKncEK7T+jONcxinPtP0+n0+l0Ou0/RGN9aKwP7T+yzpUHJOvsPyGKv8gZFuw/RcmuTZTs6j/btm3btm3rPygFyZ9XWew/586dO3fu7D+sMZEeqJztP6INnz/mKO0/mpmZmZmZ7T+y7xE5QbjrP0t+seQXS+4/gZVDi2zn6z/avE9xyRDsP5nOYjqL6ew/xU7sxE7s7D+cm5ubm5vrP4XrUbgehes/wQUucIEL7D/C/K4WN2HuP1VVVVVVVe0/3dzc3Nzc7D8fwX0E9xHsP33SJ33SJ+0/XXTRRRdd7D/QusEU+azrPyebbLLJJus/F1100UUX7T+rqqqqqqrqPwAAAAAAAOw/2Ymd2Imd6D+SJEmSJEniPzmO4ziO4+g/AAAAAAAA8D9GF1100UXnP1VVVVVVVeU/AAAAAAAA4D8AAAAAAADgP5qZmZmZmek/AAAAAAAA6D8AAAAAAADwP1VVVVVVVdU/AAAAAAAA8D8AAAAAAADwPwAAAAAAAPA/AAAAAAAA8D8AAAAAAADwPw==\",\"dtype\":\"float64\",\"shape\":[89]},\"right\":{\"__ndarray__\":\"AAAAAAAA8D8AAAAAAADwPwAAAAAAAPA/AAAAAAAA8D8AAAAAAADwP+gL+oK+oO8/AAAAAAAA8D8AAAAAAADwPwAAAAAAAPA/AAAAAAAA8D8AAAAAAADwPwAAAAAAAPA/16NwPQrX7z8AAAAAAADwPwAAAAAAAPA/2zesfcPa7z+HUEk3itnvP+bCXX2TvO8/DqkJxlvZ7z/btm3btm3vP3FWfkKcle8/kKcEeUqQ7z8AAAAAAADwPwP6C+gvoO8/ul0rJzzT7z9mZmZmZmbvP8TDw8PDw+8/f9Qpf9Qp7z/5GSV+RonvP5Tx26WejO8/dEhNMN7K7j8AAAAAAADwP5h0ah7kru8/+EYUmHRq7j8UO7ETO7HvPzZo8mWDJu8/cLUxNN3B7j/v7u7u7u7uPwAAAAAAAPA/4Ci73yi77z8SePshgbfvP6/X6/V6ve4/wcspeDkF7z8/6ZM+6ZPuP08frSYhiu8/VdDqSwWt7j/P8zzP8zzvP/15lcUZ7e4/+fHjx48f7z+0W/jVmEjvP4fPH3OUbu8/AAAAAAAA8D/mT1towJLuP5NfLPnFku8/CKwcWmQ77z/FJUOwjjbvPwT3EdxHcO8/FDuxEzux7z8PDw8PDw/vP1yPwvUoXO8/9KMf/ehH7z8AAAAAAADwPwAAAAAAAPA/AAAAAAAA8D8J7iO4j+DuPwAAAAAAAPA/AAAAAAAA8D8AAAAAAADwPwAAAAAAAPA/AAAAAAAA8D8AAAAAAADwPwAAAAAAAPA/AAAAAAAA8D8AAAAAAADwPwAAAAAAAPA/AAAAAAAA8D8AAAAAAADwPwAAAAAAAPA/AAAAAAAA8D8AAAAAAADwPwAAAAAAAPA/AAAAAAAA8D8AAAAAAADwPwAAAAAAAPA/AAAAAAAA8D8AAAAAAADwPwAAAAAAAPA/AAAAAAAA8D8AAAAAAADwPw==\",\"dtype\":\"float64\",\"shape\":[89]},\"y\":[\"1\",\"2\",\"3\",\"4\",\"5\",\"6\",\"7\",\"8\",\"9\",\"10\",\"11\",\"12\",\"13\",\"14\",\"15\",\"16\",\"17\",\"18\",\"19\",\"20\",\"21\",\"22\",\"23\",\"24\",\"25\",\"26\",\"27\",\"28\",\"29\",\"30\",\"31\",\"32\",\"33\",\"34\",\"35\",\"36\",\"37\",\"38\",\"39\",\"40\",\"41\",\"42\",\"43\",\"44\",\"45\",\"46\",\"47\",\"48\",\"49\",\"50\",\"51\",\"52\",\"53\",\"54\",\"55\",\"56\",\"57\",\"58\",\"59\",\"60\",\"61\",\"62\",\"63\",\"64\",\"65\",\"66\",\"67\",\"68\",\"69\",\"70\",\"71\",\"72\",\"73\",\"74\",\"75\",\"76\",\"77\",\"78\",\"79\",\"80\",\"81\",\"82\",\"83\",\"84\",\"87\",\"88\",\"89\",\"91\",\"93\"]},\"selected\":{\"id\":\"24958\",\"type\":\"Selection\"},\"selection_policy\":{\"id\":\"24957\",\"type\":\"UnionRenderers\"}},\"id\":\"24252\",\"type\":\"ColumnDataSource\"},{\"attributes\":{\"plot\":{\"id\":\"24209\",\"subtype\":\"Figure\",\"type\":\"Plot\"},\"ticker\":{\"id\":\"24219\",\"type\":\"BasicTicker\"}},\"id\":\"24222\",\"type\":\"Grid\"},{\"attributes\":{\"callback\":null,\"data\":{\"left\":{\"__ndarray__\":\"AAAAAAAA8D8AAAAAAADwPwAAAAAAAPA/AAAAAAAA8D8AAAAAAADwP+gL+oK+oO8/AAAAAAAA8D8AAAAAAADwPwAAAAAAAPA/AAAAAAAA8D8AAAAAAADwPwAAAAAAAPA/16NwPQrX7z8AAAAAAADwPwAAAAAAAPA/2zesfcPa7z+HUEk3itnvP+bCXX2TvO8/DqkJxlvZ7z/btm3btm3vP3FWfkKcle8/kKcEeUqQ7z8AAAAAAADwPwP6C+gvoO8/ul0rJzzT7z9mZmZmZmbvP8TDw8PDw+8/f9Qpf9Qp7z/5GSV+RonvP5Tx26WejO8/dEhNMN7K7j8AAAAAAADwP5h0ah7kru8/+EYUmHRq7j8UO7ETO7HvPzZo8mWDJu8/cLUxNN3B7j/v7u7u7u7uPwAAAAAAAPA/4Ci73yi77z8SePshgbfvP6/X6/V6ve4/wcspeDkF7z8/6ZM+6ZPuP08frSYhiu8/VdDqSwWt7j/P8zzP8zzvP/15lcUZ7e4/+fHjx48f7z+0W/jVmEjvP4fPH3OUbu8/AAAAAAAA8D/mT1towJLuP5NfLPnFku8/CKwcWmQ77z/FJUOwjjbvPwT3EdxHcO8/FDuxEzux7z8PDw8PDw/vP1yPwvUoXO8/9KMf/ehH7z8AAAAAAADwPwAAAAAAAPA/AAAAAAAA8D8J7iO4j+DuPwAAAAAAAPA/AAAAAAAA8D8AAAAAAADwPwAAAAAAAPA/AAAAAAAA8D8AAAAAAADwPwAAAAAAAPA/AAAAAAAA8D8AAAAAAADwPwAAAAAAAPA/AAAAAAAA8D8AAAAAAADwPwAAAAAAAPA/AAAAAAAA8D8AAAAAAADwPwAAAAAAAPA/AAAAAAAA8D8AAAAAAADwPwAAAAAAAPA/AAAAAAAA8D8AAAAAAADwPwAAAAAAAPA/AAAAAAAA8D8AAAAAAADwPw==\",\"dtype\":\"float64\",\"shape\":[89]},\"right\":{\"__ndarray__\":\"AAAAAAAA8D8AAAAAAADwPwAAAAAAAPA/AAAAAAAA8D8AAAAAAADwPwAAAAAAAPA/AAAAAAAA8D8AAAAAAADwPwAAAAAAAPA/AAAAAAAA8D8AAAAAAADwPwAAAAAAAPA/AAAAAAAA8D8AAAAAAADwPwAAAAAAAPA/AAAAAAAA8D8AAAAAAADwPwAAAAAAAPA/AAAAAAAA8D8AAAAAAADwPwAAAAAAAPA/AAAAAAAA8D8AAAAAAADwPwAAAAAAAPA/AAAAAAAA8D8AAAAAAADwPwAAAAAAAPA/AAAAAAAA8D8AAAAAAADwPwAAAAAAAPA/AAAAAAAA8D8AAAAAAADwPwAAAAAAAPA/AAAAAAAA8D8AAAAAAADwPwAAAAAAAPA/AAAAAAAA8D8AAAAAAADwPwAAAAAAAPA/AAAAAAAA8D8AAAAAAADwPwAAAAAAAPA/AAAAAAAA8D8AAAAAAADwPwAAAAAAAPA/AAAAAAAA8D8AAAAAAADwPwAAAAAAAPA/AAAAAAAA8D8AAAAAAADwPwAAAAAAAPA/AAAAAAAA8D8AAAAAAADwPwAAAAAAAPA/AAAAAAAA8D8AAAAAAADwPwAAAAAAAPA/AAAAAAAA8D8AAAAAAADwPwAAAAAAAPA/AAAAAAAA8D8AAAAAAADwPwAAAAAAAPA/AAAAAAAA8D8AAAAAAADwPwAAAAAAAPA/AAAAAAAA8D8AAAAAAADwPwAAAAAAAPA/AAAAAAAA8D8AAAAAAADwPwAAAAAAAPA/AAAAAAAA8D8AAAAAAADwPwAAAAAAAPA/AAAAAAAA8D8AAAAAAADwPwAAAAAAAPA/AAAAAAAA8D8AAAAAAADwPwAAAAAAAPA/AAAAAAAA8D8AAAAAAADwPwAAAAAAAPA/AAAAAAAA8D8AAAAAAADwPwAAAAAAAPA/AAAAAAAA8D8AAAAAAADwPw==\",\"dtype\":\"float64\",\"shape\":[89]},\"y\":[\"1\",\"2\",\"3\",\"4\",\"5\",\"6\",\"7\",\"8\",\"9\",\"10\",\"11\",\"12\",\"13\",\"14\",\"15\",\"16\",\"17\",\"18\",\"19\",\"20\",\"21\",\"22\",\"23\",\"24\",\"25\",\"26\",\"27\",\"28\",\"29\",\"30\",\"31\",\"32\",\"33\",\"34\",\"35\",\"36\",\"37\",\"38\",\"39\",\"40\",\"41\",\"42\",\"43\",\"44\",\"45\",\"46\",\"47\",\"48\",\"49\",\"50\",\"51\",\"52\",\"53\",\"54\",\"55\",\"56\",\"57\",\"58\",\"59\",\"60\",\"61\",\"62\",\"63\",\"64\",\"65\",\"66\",\"67\",\"68\",\"69\",\"70\",\"71\",\"72\",\"73\",\"74\",\"75\",\"76\",\"77\",\"78\",\"79\",\"80\",\"81\",\"82\",\"83\",\"84\",\"87\",\"88\",\"89\",\"91\",\"93\"]},\"selected\":{\"id\":\"24960\",\"type\":\"Selection\"},\"selection_policy\":{\"id\":\"24959\",\"type\":\"UnionRenderers\"}},\"id\":\"24257\",\"type\":\"ColumnDataSource\"},{\"attributes\":{\"axis_label\":\"Speed Limit (MPH)\",\"axis_label_text_font_size\":{\"value\":\"16pt\"},\"formatter\":{\"id\":\"24951\",\"type\":\"CategoricalTickFormatter\"},\"major_label_text_font_size\":{\"value\":\"16pt\"},\"plot\":{\"id\":\"24209\",\"subtype\":\"Figure\",\"type\":\"Plot\"},\"ticker\":{\"id\":\"24224\",\"type\":\"CategoricalTicker\"}},\"id\":\"24223\",\"type\":\"CategoricalAxis\"},{\"attributes\":{\"source\":{\"id\":\"24252\",\"type\":\"ColumnDataSource\"}},\"id\":\"24256\",\"type\":\"CDSView\"},{\"attributes\":{},\"id\":\"24224\",\"type\":\"CategoricalTicker\"},{\"attributes\":{\"fill_alpha\":{\"value\":0.1},\"fill_color\":{\"value\":\"#1f77b4\"},\"height\":{\"value\":0.7},\"left\":{\"field\":\"left\"},\"line_alpha\":{\"value\":0.1},\"line_color\":{\"value\":\"#1f77b4\"},\"line_width\":{\"value\":0.5},\"right\":{\"field\":\"right\"},\"y\":{\"field\":\"y\"}},\"id\":\"24259\",\"type\":\"HBar\"},{\"attributes\":{\"callback\":null,\"data\":{\"left\":{\"__ndarray__\":\"AAAAAAAAAAAAAAAAAAAAAAAAAAAAAAAAAAAAAAAAAAAAAAAAAAAAAAAAAAAAAAAAAAAAAAAAAAAAAAAAAAAAAAAAAAAAAAAAAAAAAAAAAAAAAAAAAAAAAAAAAAAAAAAAAAAAAAAAAAAAAAAAAAAAAAAAAAAAAAAAAAAAAAAAAAAAAAAAAAAAAAAAAAAAAAAAAAAAAAAAAAAAAAAAAAAAAAAAAAAAAAAAAAAAAAAAAAAAAAAAAAAAAAAAAAAAAAAAAAAAAAAAAAAAAAAAAAAAAAAAAAAAAAAAAAAAAAAAAAAAAAAAAAAAAAAAAAAAAAAAAAAAAAAAAAAAAAAAAAAAAAAAAAAAAAAAAAAAAAAAAAAAAAAAAAAAAAAAAAAAAAAAAAAAAAAAAAAAAAAAAAAAAAAAAAAAAAAAAAAAAAAAAAAAAAAAAAAAAAAAAAAAAAAAAAAAAAAAAAAAAAAAAAAAAAAAAAAAAAAAAAAAAAAAAAAAAAAAAAAAAAAAAAAAAAAAAAAAAAAAAAAAAAAAAAAAAAAAAAAAAAAAAAAAAAAAAAAAAAAAAAAAAAAAAAAAAAAAAAAAAAAAAAAAAAAAAAAAAAAAAAAAAAAAAAAAAAAAAAAAAAAAAAAAAAAAAAAAAAAAAAAAAAAAAAAAAAAAAAAAAAAAAAAAAAAAAAAAAAAAAAAAAAAAAAAAAAAAAAAAAAAAAAAAAAAAAAAAAAAAAAAAAAAAAAAAAAAAAAAAAAAAAAAAAAAAAAAAAAAAAAAAAAAAAAAAAAAAAAAAAAAAAAAAAAAAAAAAAAAAAAAAAAAAAAAAAAAAAAAAAAAAAAAAAAAAAAAAAAAAAAAAAAAAAAAAAAAAAAAAAAAAAAAAAAAAAAAAAAAAAAAAAAAAAAAAAAAAAAAAAAAAAAAAAAAAAAAAAAAAAAAAAAAAAAAAAAAAAAAAAAAAAAAAAA==\",\"dtype\":\"float64\",\"shape\":[89]},\"right\":{\"__ndarray__\":\"AAAAAAAA8D8AAAAAAADwP83MzMzMzOw/ZmZmZmZm7j/P8zzP8zzvP4k74o64I+4/AAAAAAAA7j8+n8/n8/nsP+iQmmC8le0/fdInfdIn7T/ZZJNNNtnsP0RjfWisD+0/w/UoXI/C7T8YcaLytNDtP47cyI3cyO0/7RvWvmHt6z/wWN6rLXLtP7o1PyxSBu4/2eeQmmC87T8WX/EVX/HtPz3P8zzP8+w/fsPaN6x96z9Nw3azPInsPxjQX0B/Ae0/z/Q36Hat7D/NzMzMzMztPy0tLS0tLe0/PDw8PDw87D/MtQNz7cDsP4JEK2wOJOo/ln0OqQnG6z/9oKMCX1ztP/GNKDDp1Ow/6dQ8yF0/6z87sRM7sRPrP0ZxrmMU5+o/q42h6Q726z9mZmZmZmbqP2wor6G8huo/OMruN8ru5z9Y6amFlZ7qP51Op9PpdOo/27Zt27Zt6z+amZmZmZnpP5uEKP4iZ+g/QzpvMaTz5j8YhmEYhmHoP+hVFme0e+g/z507d+7c6T/hV2MiPVDpP9Afc5RuX+k/AAAAAAAA6T/50xYasKTnPz0K16NwPeo/okW28/3U6D/BOtq8T3HpP6+hvIbyGuo/J3ZiJ3Zi6z/JyMjIyMjoPz0K16NwPeo/nvGMZzzj6T+1uAnzu1rsP83MzMzMzOw/WlpaWlpa6j82lNdQXkPpP/qkT/qkT+o/o4suuuii6z/5rBtMkc/qPyebbLLJJus/o4suuuii6z+rqqqqqqrqPwAAAAAAAOw/2Ymd2Imd6D+SJEmSJEniPzmO4ziO4+g/AAAAAAAA8D9GF1100UXnP1VVVVVVVeU/AAAAAAAA4D8AAAAAAADgP5qZmZmZmek/AAAAAAAA6D8AAAAAAADwP1VVVVVVVdU/AAAAAAAA8D8AAAAAAAAAAAAAAAAAAPA/AAAAAAAA8D8AAAAAAADwPw==\",\"dtype\":\"float64\",\"shape\":[89]},\"y\":[\"1\",\"2\",\"3\",\"4\",\"5\",\"6\",\"7\",\"8\",\"9\",\"10\",\"11\",\"12\",\"13\",\"14\",\"15\",\"16\",\"17\",\"18\",\"19\",\"20\",\"21\",\"22\",\"23\",\"24\",\"25\",\"26\",\"27\",\"28\",\"29\",\"30\",\"31\",\"32\",\"33\",\"34\",\"35\",\"36\",\"37\",\"38\",\"39\",\"40\",\"41\",\"42\",\"43\",\"44\",\"45\",\"46\",\"47\",\"48\",\"49\",\"50\",\"51\",\"52\",\"53\",\"54\",\"55\",\"56\",\"57\",\"58\",\"59\",\"60\",\"61\",\"62\",\"63\",\"64\",\"65\",\"66\",\"67\",\"68\",\"69\",\"70\",\"71\",\"72\",\"73\",\"74\",\"75\",\"76\",\"77\",\"78\",\"79\",\"80\",\"81\",\"82\",\"83\",\"84\",\"87\",\"88\",\"89\",\"91\",\"93\"]},\"selected\":{\"id\":\"24954\",\"type\":\"Selection\"},\"selection_policy\":{\"id\":\"24953\",\"type\":\"UnionRenderers\"}},\"id\":\"24242\",\"type\":\"ColumnDataSource\"},{\"attributes\":{\"dimension\":1,\"plot\":{\"id\":\"24209\",\"subtype\":\"Figure\",\"type\":\"Plot\"},\"ticker\":{\"id\":\"24224\",\"type\":\"CategoricalTicker\"}},\"id\":\"24226\",\"type\":\"Grid\"},{\"attributes\":{\"data_source\":{\"id\":\"24257\",\"type\":\"ColumnDataSource\"},\"glyph\":{\"id\":\"24258\",\"type\":\"HBar\"},\"hover_glyph\":null,\"muted_glyph\":null,\"nonselection_glyph\":{\"id\":\"24259\",\"type\":\"HBar\"},\"selection_glyph\":null,\"view\":{\"id\":\"24261\",\"type\":\"CDSView\"}},\"id\":\"24260\",\"type\":\"GlyphRenderer\"},{\"attributes\":{\"plot\":null,\"text\":\"\",\"text_font_size\":{\"value\":\"16pt\"}},\"id\":\"24947\",\"type\":\"Title\"},{\"attributes\":{\"fill_alpha\":{\"value\":0.7},\"fill_color\":{\"value\":\"#1f77b4\"},\"height\":{\"value\":0.7},\"left\":{\"field\":\"left\"},\"line_width\":{\"value\":0.5},\"right\":{\"field\":\"right\"},\"y\":{\"field\":\"y\"}},\"id\":\"24248\",\"type\":\"HBar\"},{\"attributes\":{\"fill_alpha\":{\"value\":0.3},\"fill_color\":{\"value\":\"#1f77b4\"},\"height\":{\"value\":0.7},\"left\":{\"field\":\"left\"},\"line_width\":{\"value\":0.5},\"right\":{\"field\":\"right\"},\"y\":{\"field\":\"y\"}},\"id\":\"24243\",\"type\":\"HBar\"},{\"attributes\":{\"source\":{\"id\":\"24257\",\"type\":\"ColumnDataSource\"}},\"id\":\"24261\",\"type\":\"CDSView\"},{\"attributes\":{\"callback\":null,\"data\":{\"left\":{\"__ndarray__\":\"AAAAAAAA8D8AAAAAAADwP83MzMzMzOw/ZmZmZmZm7j/P8zzP8zzvP4k74o64I+4/AAAAAAAA7j8+n8/n8/nsP+iQmmC8le0/fdInfdIn7T/ZZJNNNtnsP0RjfWisD+0/w/UoXI/C7T8YcaLytNDtP47cyI3cyO0/7RvWvmHt6z/wWN6rLXLtP7o1PyxSBu4/2eeQmmC87T8WX/EVX/HtPz3P8zzP8+w/fsPaN6x96z9Nw3azPInsPxjQX0B/Ae0/z/Q36Hat7D/NzMzMzMztPy0tLS0tLe0/PDw8PDw87D/MtQNz7cDsP4JEK2wOJOo/ln0OqQnG6z/9oKMCX1ztP/GNKDDp1Ow/6dQ8yF0/6z87sRM7sRPrP0ZxrmMU5+o/q42h6Q726z9mZmZmZmbqP2wor6G8huo/OMruN8ru5z9Y6amFlZ7qP51Op9PpdOo/27Zt27Zt6z+amZmZmZnpP5uEKP4iZ+g/QzpvMaTz5j8YhmEYhmHoP+hVFme0e+g/z507d+7c6T/hV2MiPVDpP9Afc5RuX+k/AAAAAAAA6T/50xYasKTnPz0K16NwPeo/okW28/3U6D/BOtq8T3HpP6+hvIbyGuo/J3ZiJ3Zi6z/JyMjIyMjoPz0K16NwPeo/nvGMZzzj6T+1uAnzu1rsP83MzMzMzOw/WlpaWlpa6j82lNdQXkPpP/qkT/qkT+o/o4suuuii6z/5rBtMkc/qPyebbLLJJus/o4suuuii6z+rqqqqqqrqPwAAAAAAAOw/2Ymd2Imd6D+SJEmSJEniPzmO4ziO4+g/AAAAAAAA8D9GF1100UXnP1VVVVVVVeU/AAAAAAAA4D8AAAAAAADgP5qZmZmZmek/AAAAAAAA6D8AAAAAAADwP1VVVVVVVdU/AAAAAAAA8D8AAAAAAAAAAAAAAAAAAPA/AAAAAAAA8D8AAAAAAADwPw==\",\"dtype\":\"float64\",\"shape\":[89]},\"right\":{\"__ndarray__\":\"AAAAAAAA8D8AAAAAAADwP83MzMzMzOw/ZmZmZmZm7j/P8zzP8zzvP6Ev6Av6gu4/JUmSJEmS7j9Pp9PpdDrtP67sc0hNMO4/SNa58oBk7T+TTTbZZJPtP3g5BS+n4O0/FK5H4XoU7j/3kMuKgRLuP1/ohV7ohe4/qAR5SpCn7D9dZwIGj+XtP2KRMvB0a+4/kZpgvJV97j9mZmZmZmbuP6YG9o6pge0/9w1r37D27T+uftBRgS/uPwrrKaynsO4/ikuGYB1t7j9mZmZmZmbvP9PS0tLS0u4/XgizXQiz7T/m2oG5dmDuP+O3Sz0Zv+0/yz6H1ATj7T9/0FGBL67uPykw6dQ8yO0/waRT8yB37T+xEzuxEzvtP+wYxbmOUew/4GpjaLqD7T8RERERERHtP5TXUF5Dee0/ncEKncEK7T+jONcxinPtP0+n0+l0Ou0/RGN9aKwP7T+yzpUHJOvsPyGKv8gZFuw/RcmuTZTs6j/btm3btm3rPygFyZ9XWew/586dO3fu7D+sMZEeqJztP6INnz/mKO0/mpmZmZmZ7T+y7xE5QbjrP0t+seQXS+4/gZVDi2zn6z/avE9xyRDsP5nOYjqL6ew/xU7sxE7s7D+cm5ubm5vrP4XrUbgehes/wQUucIEL7D/C/K4WN2HuP1VVVVVVVe0/3dzc3Nzc7D8fwX0E9xHsP33SJ33SJ+0/XXTRRRdd7D/QusEU+azrPyebbLLJJus/F1100UUX7T+rqqqqqqrqPwAAAAAAAOw/2Ymd2Imd6D+SJEmSJEniPzmO4ziO4+g/AAAAAAAA8D9GF1100UXnP1VVVVVVVeU/AAAAAAAA4D8AAAAAAADgP5qZmZmZmek/AAAAAAAA6D8AAAAAAADwP1VVVVVVVdU/AAAAAAAA8D8AAAAAAADwPwAAAAAAAPA/AAAAAAAA8D8AAAAAAADwPw==\",\"dtype\":\"float64\",\"shape\":[89]},\"y\":[\"1\",\"2\",\"3\",\"4\",\"5\",\"6\",\"7\",\"8\",\"9\",\"10\",\"11\",\"12\",\"13\",\"14\",\"15\",\"16\",\"17\",\"18\",\"19\",\"20\",\"21\",\"22\",\"23\",\"24\",\"25\",\"26\",\"27\",\"28\",\"29\",\"30\",\"31\",\"32\",\"33\",\"34\",\"35\",\"36\",\"37\",\"38\",\"39\",\"40\",\"41\",\"42\",\"43\",\"44\",\"45\",\"46\",\"47\",\"48\",\"49\",\"50\",\"51\",\"52\",\"53\",\"54\",\"55\",\"56\",\"57\",\"58\",\"59\",\"60\",\"61\",\"62\",\"63\",\"64\",\"65\",\"66\",\"67\",\"68\",\"69\",\"70\",\"71\",\"72\",\"73\",\"74\",\"75\",\"76\",\"77\",\"78\",\"79\",\"80\",\"81\",\"82\",\"83\",\"84\",\"87\",\"88\",\"89\",\"91\",\"93\"]},\"selected\":{\"id\":\"24956\",\"type\":\"Selection\"},\"selection_policy\":{\"id\":\"24955\",\"type\":\"UnionRenderers\"}},\"id\":\"24247\",\"type\":\"ColumnDataSource\"},{\"attributes\":{\"fill_alpha\":{\"value\":0.1},\"fill_color\":{\"value\":\"#1f77b4\"},\"height\":{\"value\":0.7},\"left\":{\"field\":\"left\"},\"line_alpha\":{\"value\":0.1},\"line_color\":{\"value\":\"#1f77b4\"},\"line_width\":{\"value\":0.5},\"right\":{\"field\":\"right\"},\"y\":{\"field\":\"y\"}},\"id\":\"24244\",\"type\":\"HBar\"},{\"attributes\":{},\"id\":\"24949\",\"type\":\"BasicTickFormatter\"},{\"attributes\":{\"data_source\":{\"id\":\"24242\",\"type\":\"ColumnDataSource\"},\"glyph\":{\"id\":\"24243\",\"type\":\"HBar\"},\"hover_glyph\":null,\"muted_glyph\":null,\"nonselection_glyph\":{\"id\":\"24244\",\"type\":\"HBar\"},\"selection_glyph\":null,\"view\":{\"id\":\"24246\",\"type\":\"CDSView\"}},\"id\":\"24245\",\"type\":\"GlyphRenderer\"},{\"attributes\":{},\"id\":\"24227\",\"type\":\"PanTool\"},{\"attributes\":{},\"id\":\"24951\",\"type\":\"CategoricalTickFormatter\"},{\"attributes\":{\"fill_alpha\":{\"value\":0.1},\"fill_color\":{\"value\":\"#1f77b4\"},\"height\":{\"value\":0.7},\"left\":{\"field\":\"left\"},\"line_alpha\":{\"value\":0.1},\"line_color\":{\"value\":\"#1f77b4\"},\"line_width\":{\"value\":0.5},\"right\":{\"field\":\"right\"},\"y\":{\"field\":\"y\"}},\"id\":\"24249\",\"type\":\"HBar\"},{\"attributes\":{\"source\":{\"id\":\"24242\",\"type\":\"ColumnDataSource\"}},\"id\":\"24246\",\"type\":\"CDSView\"},{\"attributes\":{\"data_source\":{\"id\":\"24247\",\"type\":\"ColumnDataSource\"},\"glyph\":{\"id\":\"24248\",\"type\":\"HBar\"},\"hover_glyph\":null,\"muted_glyph\":null,\"nonselection_glyph\":{\"id\":\"24249\",\"type\":\"HBar\"},\"selection_glyph\":null,\"view\":{\"id\":\"24251\",\"type\":\"CDSView\"}},\"id\":\"24250\",\"type\":\"GlyphRenderer\"},{\"attributes\":{},\"id\":\"24228\",\"type\":\"WheelZoomTool\"},{\"attributes\":{},\"id\":\"24953\",\"type\":\"UnionRenderers\"},{\"attributes\":{\"overlay\":{\"id\":\"24235\",\"type\":\"BoxAnnotation\"}},\"id\":\"24229\",\"type\":\"BoxZoomTool\"}],\"root_ids\":[\"24209\"]},\"title\":\"Bokeh Application\",\"version\":\"1.0.2\"}};\n",
       "  var render_items = [{\"docid\":\"e0d58c16-d4ea-4ffa-ad4d-57c38632a99c\",\"roots\":{\"24209\":\"48e39412-7537-4eeb-8a41-0c234659bc94\"}}];\n",
       "  root.Bokeh.embed.embed_items_notebook(docs_json, render_items);\n",
       "\n",
       "  }\n",
       "  if (root.Bokeh !== undefined) {\n",
       "    embed_document(root);\n",
       "  } else {\n",
       "    var attempts = 0;\n",
       "    var timer = setInterval(function(root) {\n",
       "      if (root.Bokeh !== undefined) {\n",
       "        embed_document(root);\n",
       "        clearInterval(timer);\n",
       "      }\n",
       "      attempts++;\n",
       "      if (attempts > 100) {\n",
       "        console.log(\"Bokeh: ERROR: Unable to run BokehJS code because BokehJS library is missing\");\n",
       "        clearInterval(timer);\n",
       "      }\n",
       "    }, 10, root)\n",
       "  }\n",
       "})(window);"
      ],
      "application/vnd.bokehjs_exec.v0+json": ""
     },
     "metadata": {
      "application/vnd.bokehjs_exec.v0+json": {
       "id": "24209"
      }
     },
     "output_type": "display_data"
    },
    {
     "data": {
      "text/html": [
       "\n",
       "\n",
       "\n",
       "\n",
       "\n",
       "\n",
       "  <div class=\"bk-root\" id=\"c5fcb987-7221-456c-98fe-27d6f0addccb\"></div>\n"
      ]
     },
     "metadata": {},
     "output_type": "display_data"
    },
    {
     "data": {
      "application/javascript": [
       "(function(root) {\n",
       "  function embed_document(root) {\n",
       "    \n",
       "  var docs_json = {\"f36a936a-7089-4f95-81e1-4b9cc8e0076c\":{\"roots\":{\"references\":[{\"attributes\":{\"below\":[{\"id\":\"25060\",\"type\":\"LinearAxis\"}],\"left\":[{\"id\":\"25065\",\"type\":\"CategoricalAxis\"}],\"plot_height\":400,\"renderers\":[{\"id\":\"25060\",\"type\":\"LinearAxis\"},{\"id\":\"25064\",\"type\":\"Grid\"},{\"id\":\"25065\",\"type\":\"CategoricalAxis\"},{\"id\":\"25068\",\"type\":\"Grid\"},{\"id\":\"25077\",\"type\":\"BoxAnnotation\"},{\"id\":\"25096\",\"type\":\"Legend\"},{\"id\":\"25087\",\"type\":\"GlyphRenderer\"},{\"id\":\"25101\",\"type\":\"GlyphRenderer\"},{\"id\":\"25116\",\"type\":\"GlyphRenderer\"},{\"id\":\"25133\",\"type\":\"GlyphRenderer\"}],\"title\":{\"id\":\"25090\",\"type\":\"Title\"},\"toolbar\":{\"id\":\"25075\",\"type\":\"Toolbar\"},\"x_range\":{\"id\":\"25052\",\"type\":\"Range1d\"},\"x_scale\":{\"id\":\"25056\",\"type\":\"LinearScale\"},\"y_range\":{\"id\":\"25054\",\"type\":\"FactorRange\"},\"y_scale\":{\"id\":\"25058\",\"type\":\"CategoricalScale\"}},\"id\":\"25051\",\"subtype\":\"Figure\",\"type\":\"Plot\"},{\"attributes\":{},\"id\":\"25069\",\"type\":\"PanTool\"},{\"attributes\":{\"source\":{\"id\":\"25084\",\"type\":\"ColumnDataSource\"}},\"id\":\"25088\",\"type\":\"CDSView\"},{\"attributes\":{},\"id\":\"25092\",\"type\":\"BasicTickFormatter\"},{\"attributes\":{\"axis_label_text_font_size\":{\"value\":\"16pt\"},\"formatter\":{\"id\":\"25094\",\"type\":\"CategoricalTickFormatter\"},\"major_label_text_font_size\":{\"value\":\"16pt\"},\"plot\":{\"id\":\"25051\",\"subtype\":\"Figure\",\"type\":\"Plot\"},\"ticker\":{\"id\":\"25066\",\"type\":\"CategoricalTicker\"}},\"id\":\"25065\",\"type\":\"CategoricalAxis\"},{\"attributes\":{\"source\":{\"id\":\"25130\",\"type\":\"ColumnDataSource\"}},\"id\":\"25134\",\"type\":\"CDSView\"},{\"attributes\":{},\"id\":\"25094\",\"type\":\"CategoricalTickFormatter\"},{\"attributes\":{\"plot\":{\"id\":\"25051\",\"subtype\":\"Figure\",\"type\":\"Plot\"},\"ticker\":{\"id\":\"25061\",\"type\":\"BasicTicker\"}},\"id\":\"25064\",\"type\":\"Grid\"},{\"attributes\":{},\"id\":\"25146\",\"type\":\"UnionRenderers\"},{\"attributes\":{\"items\":[{\"id\":\"25097\",\"type\":\"LegendItem\"},{\"id\":\"25112\",\"type\":\"LegendItem\"},{\"id\":\"25129\",\"type\":\"LegendItem\"},{\"id\":\"25148\",\"type\":\"LegendItem\"}],\"label_text_font_size\":{\"value\":\"16pt\"},\"plot\":{\"id\":\"25051\",\"subtype\":\"Figure\",\"type\":\"Plot\"}},\"id\":\"25096\",\"type\":\"Legend\"},{\"attributes\":{\"data_source\":{\"id\":\"25113\",\"type\":\"ColumnDataSource\"},\"glyph\":{\"id\":\"25114\",\"type\":\"HBar\"},\"hover_glyph\":null,\"muted_glyph\":null,\"nonselection_glyph\":{\"id\":\"25115\",\"type\":\"HBar\"},\"selection_glyph\":null,\"view\":{\"id\":\"25117\",\"type\":\"CDSView\"}},\"id\":\"25116\",\"type\":\"GlyphRenderer\"},{\"attributes\":{},\"id\":\"25061\",\"type\":\"BasicTicker\"},{\"attributes\":{},\"id\":\"25147\",\"type\":\"Selection\"},{\"attributes\":{},\"id\":\"25128\",\"type\":\"Selection\"},{\"attributes\":{\"label\":{\"value\":\"Not Severe, Not Intoxicated\"},\"renderers\":[{\"id\":\"25087\",\"type\":\"GlyphRenderer\"}]},\"id\":\"25097\",\"type\":\"LegendItem\"},{\"attributes\":{\"axis_label\":\"Fraction\",\"axis_label_text_font_size\":{\"value\":\"16pt\"},\"formatter\":{\"id\":\"25092\",\"type\":\"BasicTickFormatter\"},\"major_label_text_font_size\":{\"value\":\"16pt\"},\"plot\":{\"id\":\"25051\",\"subtype\":\"Figure\",\"type\":\"Plot\"},\"ticker\":{\"id\":\"25061\",\"type\":\"BasicTicker\"}},\"id\":\"25060\",\"type\":\"LinearAxis\"},{\"attributes\":{\"label\":{\"value\":\"Severe, Intoxicated\"},\"renderers\":[{\"id\":\"25133\",\"type\":\"GlyphRenderer\"}]},\"id\":\"25148\",\"type\":\"LegendItem\"},{\"attributes\":{\"callback\":null,\"data\":{\"left\":{\"__ndarray__\":\"11jXrbGu6z/BpFPzIHftP4qW7FlY8e0/NjtqEfLX7D8=\",\"dtype\":\"float64\",\"shape\":[4]},\"right\":{\"__ndarray__\":\"uFRMb6mY7j8AAAAAAADwPxnLMpRZ0e8/z/M8z/M87z8=\",\"dtype\":\"float64\",\"shape\":[4]},\"y\":[\"Dark\",\"Dawn\",\"Dayl\",\"Dusk\"]},\"selected\":{\"id\":\"25147\",\"type\":\"Selection\"},\"selection_policy\":{\"id\":\"25146\",\"type\":\"UnionRenderers\"}},\"id\":\"25113\",\"type\":\"ColumnDataSource\"},{\"attributes\":{\"fill_alpha\":{\"value\":0.3},\"fill_color\":{\"value\":\"#ff7f0e\"},\"height\":{\"value\":0.7},\"left\":{\"field\":\"left\"},\"line_width\":{\"value\":0.5},\"right\":{\"field\":\"right\"},\"y\":{\"field\":\"y\"}},\"id\":\"25114\",\"type\":\"HBar\"},{\"attributes\":{},\"id\":\"25058\",\"type\":\"CategoricalScale\"},{\"attributes\":{},\"id\":\"25862\",\"type\":\"Selection\"},{\"attributes\":{},\"id\":\"25056\",\"type\":\"LinearScale\"},{\"attributes\":{\"source\":{\"id\":\"25113\",\"type\":\"ColumnDataSource\"}},\"id\":\"25117\",\"type\":\"CDSView\"},{\"attributes\":{\"callback\":null,\"factors\":[\"Dark\",\"Dawn\",\"Dayl\",\"Dusk\"]},\"id\":\"25054\",\"type\":\"FactorRange\"},{\"attributes\":{\"fill_alpha\":{\"value\":0.1},\"fill_color\":{\"value\":\"#1f77b4\"},\"height\":{\"value\":0.7},\"left\":{\"field\":\"left\"},\"line_alpha\":{\"value\":0.1},\"line_color\":{\"value\":\"#1f77b4\"},\"line_width\":{\"value\":0.5},\"right\":{\"field\":\"right\"},\"y\":{\"field\":\"y\"}},\"id\":\"25115\",\"type\":\"HBar\"},{\"attributes\":{\"data_source\":{\"id\":\"25098\",\"type\":\"ColumnDataSource\"},\"glyph\":{\"id\":\"25099\",\"type\":\"HBar\"},\"hover_glyph\":null,\"muted_glyph\":null,\"nonselection_glyph\":{\"id\":\"25100\",\"type\":\"HBar\"},\"selection_glyph\":null,\"view\":{\"id\":\"25102\",\"type\":\"CDSView\"}},\"id\":\"25101\",\"type\":\"GlyphRenderer\"},{\"attributes\":{\"callback\":null,\"end\":5},\"id\":\"25052\",\"type\":\"Range1d\"},{\"attributes\":{\"overlay\":{\"id\":\"25077\",\"type\":\"BoxAnnotation\"}},\"id\":\"25071\",\"type\":\"BoxZoomTool\"},{\"attributes\":{\"label\":{\"value\":\"Severe, Not Intoxicated\"},\"renderers\":[{\"id\":\"25116\",\"type\":\"GlyphRenderer\"}]},\"id\":\"25129\",\"type\":\"LegendItem\"},{\"attributes\":{\"callback\":null,\"data\":{\"left\":{\"__ndarray__\":\"XkVYu4qw5j8hd/1ssTLsP9fVmnxQ7uw/zY5ahPw16z8=\",\"dtype\":\"float64\",\"shape\":[4]},\"right\":{\"__ndarray__\":\"11jXrbGu6z/BpFPzIHftP4qW7FlY8e0/NjtqEfLX7D8=\",\"dtype\":\"float64\",\"shape\":[4]},\"y\":[\"Dark\",\"Dawn\",\"Dayl\",\"Dusk\"]},\"selected\":{\"id\":\"25128\",\"type\":\"Selection\"},\"selection_policy\":{\"id\":\"25127\",\"type\":\"UnionRenderers\"}},\"id\":\"25098\",\"type\":\"ColumnDataSource\"},{\"attributes\":{\"fill_alpha\":{\"value\":0.7},\"fill_color\":{\"value\":\"#1f77b4\"},\"height\":{\"value\":0.7},\"left\":{\"field\":\"left\"},\"line_width\":{\"value\":0.5},\"right\":{\"field\":\"right\"},\"y\":{\"field\":\"y\"}},\"id\":\"25099\",\"type\":\"HBar\"},{\"attributes\":{},\"id\":\"25073\",\"type\":\"ResetTool\"},{\"attributes\":{},\"id\":\"25070\",\"type\":\"WheelZoomTool\"},{\"attributes\":{\"plot\":null,\"text\":\"\",\"text_font_size\":{\"value\":\"16pt\"}},\"id\":\"25090\",\"type\":\"Title\"},{\"attributes\":{},\"id\":\"25072\",\"type\":\"SaveTool\"},{\"attributes\":{},\"id\":\"25074\",\"type\":\"HelpTool\"},{\"attributes\":{},\"id\":\"25066\",\"type\":\"CategoricalTicker\"},{\"attributes\":{\"fill_alpha\":{\"value\":0.1},\"fill_color\":{\"value\":\"#1f77b4\"},\"height\":{\"value\":0.7},\"left\":{\"field\":\"left\"},\"line_alpha\":{\"value\":0.1},\"line_color\":{\"value\":\"#1f77b4\"},\"line_width\":{\"value\":0.5},\"right\":{\"field\":\"right\"},\"y\":{\"field\":\"y\"}},\"id\":\"25132\",\"type\":\"HBar\"},{\"attributes\":{\"source\":{\"id\":\"25098\",\"type\":\"ColumnDataSource\"}},\"id\":\"25102\",\"type\":\"CDSView\"},{\"attributes\":{\"data_source\":{\"id\":\"25130\",\"type\":\"ColumnDataSource\"},\"glyph\":{\"id\":\"25131\",\"type\":\"HBar\"},\"hover_glyph\":null,\"muted_glyph\":null,\"nonselection_glyph\":{\"id\":\"25132\",\"type\":\"HBar\"},\"selection_glyph\":null,\"view\":{\"id\":\"25134\",\"type\":\"CDSView\"}},\"id\":\"25133\",\"type\":\"GlyphRenderer\"},{\"attributes\":{\"fill_alpha\":{\"value\":0.1},\"fill_color\":{\"value\":\"#1f77b4\"},\"height\":{\"value\":0.7},\"left\":{\"field\":\"left\"},\"line_alpha\":{\"value\":0.1},\"line_color\":{\"value\":\"#1f77b4\"},\"line_width\":{\"value\":0.5},\"right\":{\"field\":\"right\"},\"y\":{\"field\":\"y\"}},\"id\":\"25100\",\"type\":\"HBar\"},{\"attributes\":{\"bottom_units\":\"screen\",\"fill_alpha\":{\"value\":0.5},\"fill_color\":{\"value\":\"lightgrey\"},\"left_units\":\"screen\",\"level\":\"overlay\",\"line_alpha\":{\"value\":1.0},\"line_color\":{\"value\":\"black\"},\"line_dash\":[4,4],\"line_width\":{\"value\":2},\"plot\":null,\"render_mode\":\"css\",\"right_units\":\"screen\",\"top_units\":\"screen\"},\"id\":\"25077\",\"type\":\"BoxAnnotation\"},{\"attributes\":{\"dimension\":1,\"plot\":{\"id\":\"25051\",\"subtype\":\"Figure\",\"type\":\"Plot\"},\"ticker\":{\"id\":\"25066\",\"type\":\"CategoricalTicker\"}},\"id\":\"25068\",\"type\":\"Grid\"},{\"attributes\":{\"callback\":null,\"data\":{\"left\":{\"__ndarray__\":\"uFRMb6mY7j8AAAAAAADwPxnLMpRZ0e8/z/M8z/M87z8=\",\"dtype\":\"float64\",\"shape\":[4]},\"right\":{\"__ndarray__\":\"AAAAAAAA8D8AAAAAAADwPwAAAAAAAPA/AAAAAAAA8D8=\",\"dtype\":\"float64\",\"shape\":[4]},\"y\":[\"Dark\",\"Dawn\",\"Dayl\",\"Dusk\"]},\"selected\":{\"id\":\"25862\",\"type\":\"Selection\"},\"selection_policy\":{\"id\":\"25861\",\"type\":\"UnionRenderers\"}},\"id\":\"25130\",\"type\":\"ColumnDataSource\"},{\"attributes\":{},\"id\":\"25110\",\"type\":\"UnionRenderers\"},{\"attributes\":{\"fill_alpha\":{\"value\":0.1},\"fill_color\":{\"value\":\"#1f77b4\"},\"height\":{\"value\":0.7},\"left\":{\"field\":\"left\"},\"line_alpha\":{\"value\":0.1},\"line_color\":{\"value\":\"#1f77b4\"},\"line_width\":{\"value\":0.5},\"right\":{\"field\":\"right\"},\"y\":{\"field\":\"y\"}},\"id\":\"25086\",\"type\":\"HBar\"},{\"attributes\":{\"fill_alpha\":{\"value\":0.7},\"fill_color\":{\"value\":\"#ff7f0e\"},\"height\":{\"value\":0.7},\"left\":{\"field\":\"left\"},\"line_width\":{\"value\":0.5},\"right\":{\"field\":\"right\"},\"y\":{\"field\":\"y\"}},\"id\":\"25131\",\"type\":\"HBar\"},{\"attributes\":{},\"id\":\"25111\",\"type\":\"Selection\"},{\"attributes\":{\"callback\":null,\"data\":{\"left\":{\"__ndarray__\":\"AAAAAAAAAAAAAAAAAAAAAAAAAAAAAAAAAAAAAAAAAAA=\",\"dtype\":\"float64\",\"shape\":[4]},\"right\":{\"__ndarray__\":\"XkVYu4qw5j8hd/1ssTLsP9fVmnxQ7uw/zY5ahPw16z8=\",\"dtype\":\"float64\",\"shape\":[4]},\"y\":[\"Dark\",\"Dawn\",\"Dayl\",\"Dusk\"]},\"selected\":{\"id\":\"25111\",\"type\":\"Selection\"},\"selection_policy\":{\"id\":\"25110\",\"type\":\"UnionRenderers\"}},\"id\":\"25084\",\"type\":\"ColumnDataSource\"},{\"attributes\":{},\"id\":\"25861\",\"type\":\"UnionRenderers\"},{\"attributes\":{\"data_source\":{\"id\":\"25084\",\"type\":\"ColumnDataSource\"},\"glyph\":{\"id\":\"25085\",\"type\":\"HBar\"},\"hover_glyph\":null,\"muted_glyph\":null,\"nonselection_glyph\":{\"id\":\"25086\",\"type\":\"HBar\"},\"selection_glyph\":null,\"view\":{\"id\":\"25088\",\"type\":\"CDSView\"}},\"id\":\"25087\",\"type\":\"GlyphRenderer\"},{\"attributes\":{\"label\":{\"value\":\"Not Severe, Intoxicated\"},\"renderers\":[{\"id\":\"25101\",\"type\":\"GlyphRenderer\"}]},\"id\":\"25112\",\"type\":\"LegendItem\"},{\"attributes\":{},\"id\":\"25127\",\"type\":\"UnionRenderers\"},{\"attributes\":{\"fill_alpha\":{\"value\":0.3},\"fill_color\":{\"value\":\"#1f77b4\"},\"height\":{\"value\":0.7},\"left\":{\"field\":\"left\"},\"line_width\":{\"value\":0.5},\"right\":{\"field\":\"right\"},\"y\":{\"field\":\"y\"}},\"id\":\"25085\",\"type\":\"HBar\"},{\"attributes\":{\"active_drag\":\"auto\",\"active_inspect\":\"auto\",\"active_multi\":null,\"active_scroll\":\"auto\",\"active_tap\":\"auto\",\"tools\":[{\"id\":\"25069\",\"type\":\"PanTool\"},{\"id\":\"25070\",\"type\":\"WheelZoomTool\"},{\"id\":\"25071\",\"type\":\"BoxZoomTool\"},{\"id\":\"25072\",\"type\":\"SaveTool\"},{\"id\":\"25073\",\"type\":\"ResetTool\"},{\"id\":\"25074\",\"type\":\"HelpTool\"}]},\"id\":\"25075\",\"type\":\"Toolbar\"}],\"root_ids\":[\"25051\"]},\"title\":\"Bokeh Application\",\"version\":\"1.0.2\"}};\n",
       "  var render_items = [{\"docid\":\"f36a936a-7089-4f95-81e1-4b9cc8e0076c\",\"roots\":{\"25051\":\"c5fcb987-7221-456c-98fe-27d6f0addccb\"}}];\n",
       "  root.Bokeh.embed.embed_items_notebook(docs_json, render_items);\n",
       "\n",
       "  }\n",
       "  if (root.Bokeh !== undefined) {\n",
       "    embed_document(root);\n",
       "  } else {\n",
       "    var attempts = 0;\n",
       "    var timer = setInterval(function(root) {\n",
       "      if (root.Bokeh !== undefined) {\n",
       "        embed_document(root);\n",
       "        clearInterval(timer);\n",
       "      }\n",
       "      attempts++;\n",
       "      if (attempts > 100) {\n",
       "        console.log(\"Bokeh: ERROR: Unable to run BokehJS code because BokehJS library is missing\");\n",
       "        clearInterval(timer);\n",
       "      }\n",
       "    }, 10, root)\n",
       "  }\n",
       "})(window);"
      ],
      "application/vnd.bokehjs_exec.v0+json": ""
     },
     "metadata": {
      "application/vnd.bokehjs_exec.v0+json": {
       "id": "25051"
      }
     },
     "output_type": "display_data"
    }
   ],
   "source": [
    "#obtain rows of df for intoxicated biker / severe outcomes\n",
    "intox = (df['Biker Intox.'] == 'Yes')\n",
    "severe = (df['BikeInjury'] == 'Serious') | (df['BikeInjury'] == 'Killed') \n",
    "\n",
    "indices = [ (~severe & ~intox), (~severe & intox), (severe & ~intox),  (severe & intox) ]\n",
    "colors = [bkpal.Category10[10][0], bkpal.Category10[10][0], bkpal.Category10[10][1], bkpal.Category10[10][1]]\n",
    "alphas = [0.3, 0.7, 0.3, 0.7]\n",
    "labels=['Not Severe, Not Intoxicated', 'Not Severe, Intoxicated', 'Severe, Not Intoxicated', 'Severe, Intoxicated']\n",
    "\n",
    "coln = df.DrvrVehTyp.unique()\n",
    "vals = np.zeros(coln.shape[0])\n",
    "totalcts = df.DrvrVehTyp.value_counts()[coln]\n",
    "fig = bkp.figure(width=800, height=400, y_range=coln,\n",
    "                x_axis_label='Fraction')\n",
    "print(totalcts)\n",
    "for i in range(4):\n",
    "    cts = df.DrvrVehTyp[indices[i]].value_counts()[coln]\n",
    "    cts[np.isnan(cts)] = 0\n",
    "    fig.hbar(y = coln, left = vals/totalcts, right=(vals+cts)/totalcts,\n",
    "                 fill_color=colors[i], line_color='black', line_width=0.5, height=.7, fill_alpha=alphas[i])\n",
    "    vals = vals + cts\n",
    "bkp.show(fig)\n",
    "\n",
    "\n",
    "coln = np.sort(df.SpeedLimit.unique())\n",
    "vals = np.zeros(coln.shape[0])\n",
    "totalcts = df.SpeedLimit.value_counts()[coln]\n",
    "fig = bkp.figure(width=600, height=250, y_range=[str(x) for x in coln],\n",
    "                x_axis_label='Fraction',\n",
    "                y_axis_label='Speed Limit (MPH)')\n",
    "for i in range(4):\n",
    "    cts = df.SpeedLimit[indices[i]].value_counts()[coln]\n",
    "    cts[np.isnan(cts)] = 0\n",
    "    fig.hbar(y = [str(x) for x in coln], left = vals/totalcts, right=(vals+cts)/totalcts,\n",
    "                 fill_color=colors[i], line_color='black', line_width=0.5, height=.7, fill_alpha=alphas[i])\n",
    "    vals = vals + cts\n",
    "bkp.show(fig)\n",
    "\n",
    "\n",
    "coln = np.sort(df.BikeSex.unique())\n",
    "vals = np.zeros(coln.shape[0])\n",
    "totalcts = df.BikeSex.value_counts()[coln]\n",
    "fig = bkp.figure(width=600, height=250, y_range=[str(x) for x in coln],\n",
    "                x_axis_label='Fraction',\n",
    "                y_axis_label='Speed Limit (MPH)')\n",
    "for i in range(4):\n",
    "    cts = df.BikeSex[indices[i]].value_counts()[coln]\n",
    "    cts[np.isnan(cts)] = 0\n",
    "    fig.hbar(y = [str(x) for x in coln], left = vals/totalcts, right=(vals+cts)/totalcts,\n",
    "                 fill_color=colors[i], line_color='black', line_width=0.5, height=.7, fill_alpha=alphas[i])\n",
    "    vals = vals + cts\n",
    "bkp.show(fig)\n",
    "\n",
    "coln = np.array(['Dawn', 'Dayl', 'Dusk', 'Dark'])\n",
    "vals = np.zeros(coln.shape[0])\n",
    "totalcts = df.LightCond.value_counts()[coln]\n",
    "fig = bkp.figure(width=600, height=200, y_range=[str(x) for x in coln],\n",
    "                x_axis_label='Fraction')\n",
    "for i in range(4):\n",
    "    cts = df.LightCond[indices[i]].value_counts()[coln]\n",
    "    cts[np.isnan(cts)] = 0\n",
    "    fig.hbar(y = [str(x) for x in coln], left = vals/totalcts, right=(vals+cts)/totalcts,\n",
    "                 fill_color=colors[i], line_color='black', line_width=0.5, height=.7, fill_alpha=alphas[i])\n",
    "    vals = vals + cts\n",
    "bkp.show(fig)\n",
    "\n",
    "\n",
    "coln = np.sort(df.BikeAge.unique())\n",
    "vals = np.zeros(coln.shape[0])\n",
    "totalcts = df.BikeAge.value_counts()[coln]\n",
    "fig = bkp.figure(width=600, height=2000, y_range=[str(x) for x in coln],\n",
    "                x_axis_label='Fraction',\n",
    "                y_axis_label='Speed Limit (MPH)')\n",
    "for i in range(4):\n",
    "    cts = df.BikeAge[indices[i]].value_counts()[coln]\n",
    "    cts[np.isnan(cts)] = 0\n",
    "    fig.hbar(y = [str(x) for x in coln], left = vals/totalcts, right=(vals+cts)/totalcts,\n",
    "                 fill_color=colors[i], line_color='black', line_width=0.5, height=.7, fill_alpha=alphas[i])\n",
    "    vals = vals + cts\n",
    "bkp.show(fig)\n",
    "\n",
    "\n",
    "coln = np.sort(df.LightCond.unique())\n",
    "vals = np.zeros(coln.shape[0])\n",
    "totalcts = df.LightCond.value_counts()\n",
    "fig = bkp.figure(width=600, height=400, y_range=[str(x) for x in coln],\n",
    "                x_axis_label='Fraction', x_range=(0, 5))\n",
    "for i in range(4):\n",
    "    cts = df.LightCond[indices[i]].value_counts()[coln]\n",
    "    cts[np.isnan(cts)] = 0\n",
    "    fig.hbar(y = [str(x) for x in coln], left = vals/totalcts, right=(vals+cts)/totalcts,\n",
    "                 fill_color=colors[i], line_color='black', line_width=0.5, height=.7, fill_alpha=alphas[i],\n",
    "                legend=labels[i])\n",
    "    vals = vals + cts\n",
    "bkp.show(fig)"
   ]
  },
  {
   "cell_type": "markdown",
   "metadata": {},
   "source": [
    "# "
   ]
  },
  {
   "cell_type": "code",
   "execution_count": 109,
   "metadata": {
    "scrolled": false
   },
   "outputs": [
    {
     "data": {
      "text/html": [
       "\n",
       "\n",
       "\n",
       "\n",
       "\n",
       "\n",
       "  <div class=\"bk-root\" id=\"fa728677-decb-40a5-9f78-adc3bf4365e8\"></div>\n"
      ]
     },
     "metadata": {},
     "output_type": "display_data"
    },
    {
     "data": {
      "application/javascript": [
       "(function(root) {\n",
       "  function embed_document(root) {\n",
       "    \n",
       "  var docs_json = {\"609de767-8257-45d3-9d91-1282dd7a4300\":{\"roots\":{\"references\":[{\"attributes\":{\"below\":[{\"id\":\"25962\",\"type\":\"LogAxis\"}],\"left\":[{\"id\":\"25967\",\"type\":\"LinearAxis\"}],\"renderers\":[{\"id\":\"25962\",\"type\":\"LogAxis\"},{\"id\":\"25966\",\"type\":\"Grid\"},{\"id\":\"25967\",\"type\":\"LinearAxis\"},{\"id\":\"25971\",\"type\":\"Grid\"},{\"id\":\"25980\",\"type\":\"BoxAnnotation\"},{\"id\":\"25999\",\"type\":\"Legend\"},{\"id\":\"25990\",\"type\":\"GlyphRenderer\"}],\"title\":{\"id\":\"25993\",\"type\":\"Title\"},\"toolbar\":{\"id\":\"25978\",\"type\":\"Toolbar\"},\"x_range\":{\"id\":\"25954\",\"type\":\"DataRange1d\"},\"x_scale\":{\"id\":\"25958\",\"type\":\"LogScale\"},\"y_range\":{\"id\":\"25956\",\"type\":\"DataRange1d\"},\"y_scale\":{\"id\":\"25960\",\"type\":\"LinearScale\"}},\"id\":\"25953\",\"subtype\":\"Figure\",\"type\":\"Plot\"},{\"attributes\":{\"ticker\":null},\"id\":\"25995\",\"type\":\"LogTickFormatter\"},{\"attributes\":{},\"id\":\"25975\",\"type\":\"SaveTool\"},{\"attributes\":{},\"id\":\"25968\",\"type\":\"BasicTicker\"},{\"attributes\":{},\"id\":\"25960\",\"type\":\"LinearScale\"},{\"attributes\":{\"plot\":null,\"text\":\"\",\"text_font_size\":{\"value\":\"16pt\"}},\"id\":\"25993\",\"type\":\"Title\"},{\"attributes\":{\"callback\":null},\"id\":\"25954\",\"type\":\"DataRange1d\"},{\"attributes\":{},\"id\":\"25977\",\"type\":\"HelpTool\"},{\"attributes\":{\"items\":[{\"id\":\"26000\",\"type\":\"LegendItem\"}],\"label_text_font_size\":{\"value\":\"16pt\"},\"plot\":{\"id\":\"25953\",\"subtype\":\"Figure\",\"type\":\"Plot\"}},\"id\":\"25999\",\"type\":\"Legend\"},{\"attributes\":{\"dimension\":1,\"plot\":{\"id\":\"25953\",\"subtype\":\"Figure\",\"type\":\"Plot\"},\"ticker\":{\"id\":\"25968\",\"type\":\"BasicTicker\"}},\"id\":\"25971\",\"type\":\"Grid\"},{\"attributes\":{\"data_source\":{\"id\":\"25987\",\"type\":\"ColumnDataSource\"},\"glyph\":{\"id\":\"25988\",\"type\":\"Quad\"},\"hover_glyph\":null,\"muted_glyph\":null,\"nonselection_glyph\":{\"id\":\"25989\",\"type\":\"Quad\"},\"selection_glyph\":null,\"view\":{\"id\":\"25991\",\"type\":\"CDSView\"}},\"id\":\"25990\",\"type\":\"GlyphRenderer\"},{\"attributes\":{\"callback\":null},\"id\":\"25956\",\"type\":\"DataRange1d\"},{\"attributes\":{\"label\":{\"value\":\"Frac Severe, Not Intox\"},\"renderers\":[{\"id\":\"25990\",\"type\":\"GlyphRenderer\"}]},\"id\":\"26000\",\"type\":\"LegendItem\"},{\"attributes\":{},\"id\":\"25973\",\"type\":\"WheelZoomTool\"},{\"attributes\":{},\"id\":\"25958\",\"type\":\"LogScale\"},{\"attributes\":{\"bottom_units\":\"screen\",\"fill_alpha\":{\"value\":0.5},\"fill_color\":{\"value\":\"lightgrey\"},\"left_units\":\"screen\",\"level\":\"overlay\",\"line_alpha\":{\"value\":1.0},\"line_color\":{\"value\":\"black\"},\"line_dash\":[4,4],\"line_width\":{\"value\":2},\"plot\":null,\"render_mode\":\"css\",\"right_units\":\"screen\",\"top_units\":\"screen\"},\"id\":\"25980\",\"type\":\"BoxAnnotation\"},{\"attributes\":{},\"id\":\"25972\",\"type\":\"PanTool\"},{\"attributes\":{},\"id\":\"26723\",\"type\":\"Selection\"},{\"attributes\":{\"bottom\":{\"value\":0},\"fill_alpha\":{\"value\":0.1},\"fill_color\":{\"value\":\"#1f77b4\"},\"left\":{\"field\":\"left\"},\"line_alpha\":{\"value\":0.1},\"line_color\":{\"value\":\"#1f77b4\"},\"right\":{\"field\":\"right\"},\"top\":{\"field\":\"top\"}},\"id\":\"25989\",\"type\":\"Quad\"},{\"attributes\":{},\"id\":\"26722\",\"type\":\"UnionRenderers\"},{\"attributes\":{\"source\":{\"id\":\"25987\",\"type\":\"ColumnDataSource\"}},\"id\":\"25991\",\"type\":\"CDSView\"},{\"attributes\":{\"callback\":null,\"data\":{\"left\":{\"__ndarray__\":\"AAAAAAAA8D8AxF36J/v9Px+EI7HrFgxANT7yeDxRGkCardngLKgoQCzBqZnuGTdAxzYgf9CkRUCyec/APEdUQIhivii3/2JAv8rgfdvMcUCML6cAXK2AQA==\",\"dtype\":\"float64\",\"shape\":[11]},\"right\":{\"__ndarray__\":\"AMRd+if7/T8fhCOx6xYMQDU+8ng8URpAmq3Z4CyoKEAswamZ7hk3QMc2IH/QpEVAsnnPwDxHVECIYr4ot/9iQL/K4H3bzHFAjC+nAFytgEAAAAAAAECPQA==\",\"dtype\":\"float64\",\"shape\":[11]},\"top\":[8595,132,1,0,0,0,0,0,0,0,0]},\"selected\":{\"id\":\"26723\",\"type\":\"Selection\"},\"selection_policy\":{\"id\":\"26722\",\"type\":\"UnionRenderers\"}},\"id\":\"25987\",\"type\":\"ColumnDataSource\"},{\"attributes\":{\"overlay\":{\"id\":\"25980\",\"type\":\"BoxAnnotation\"}},\"id\":\"25974\",\"type\":\"BoxZoomTool\"},{\"attributes\":{},\"id\":\"25997\",\"type\":\"BasicTickFormatter\"},{\"attributes\":{\"bottom\":{\"value\":0},\"fill_alpha\":{\"value\":0.4},\"fill_color\":{\"value\":\"#1f77b4\"},\"left\":{\"field\":\"left\"},\"line_alpha\":{\"value\":0.4},\"line_color\":{\"value\":\"white\"},\"right\":{\"field\":\"right\"},\"top\":{\"field\":\"top\"}},\"id\":\"25988\",\"type\":\"Quad\"},{\"attributes\":{\"axis_label_text_font_size\":{\"value\":\"16pt\"},\"formatter\":{\"id\":\"25995\",\"type\":\"LogTickFormatter\"},\"major_label_text_font_size\":{\"value\":\"16pt\"},\"plot\":{\"id\":\"25953\",\"subtype\":\"Figure\",\"type\":\"Plot\"},\"ticker\":{\"id\":\"25963\",\"type\":\"LogTicker\"}},\"id\":\"25962\",\"type\":\"LogAxis\"},{\"attributes\":{\"plot\":{\"id\":\"25953\",\"subtype\":\"Figure\",\"type\":\"Plot\"},\"ticker\":{\"id\":\"25963\",\"type\":\"LogTicker\"}},\"id\":\"25966\",\"type\":\"Grid\"},{\"attributes\":{},\"id\":\"25976\",\"type\":\"ResetTool\"},{\"attributes\":{\"active_drag\":\"auto\",\"active_inspect\":\"auto\",\"active_multi\":null,\"active_scroll\":\"auto\",\"active_tap\":\"auto\",\"tools\":[{\"id\":\"25972\",\"type\":\"PanTool\"},{\"id\":\"25973\",\"type\":\"WheelZoomTool\"},{\"id\":\"25974\",\"type\":\"BoxZoomTool\"},{\"id\":\"25975\",\"type\":\"SaveTool\"},{\"id\":\"25976\",\"type\":\"ResetTool\"},{\"id\":\"25977\",\"type\":\"HelpTool\"}]},\"id\":\"25978\",\"type\":\"Toolbar\"},{\"attributes\":{\"num_minor_ticks\":10},\"id\":\"25963\",\"type\":\"LogTicker\"},{\"attributes\":{\"axis_label_text_font_size\":{\"value\":\"16pt\"},\"formatter\":{\"id\":\"25997\",\"type\":\"BasicTickFormatter\"},\"major_label_text_font_size\":{\"value\":\"16pt\"},\"plot\":{\"id\":\"25953\",\"subtype\":\"Figure\",\"type\":\"Plot\"},\"ticker\":{\"id\":\"25968\",\"type\":\"BasicTicker\"}},\"id\":\"25967\",\"type\":\"LinearAxis\"}],\"root_ids\":[\"25953\"]},\"title\":\"Bokeh Application\",\"version\":\"1.0.2\"}};\n",
       "  var render_items = [{\"docid\":\"609de767-8257-45d3-9d91-1282dd7a4300\",\"roots\":{\"25953\":\"fa728677-decb-40a5-9f78-adc3bf4365e8\"}}];\n",
       "  root.Bokeh.embed.embed_items_notebook(docs_json, render_items);\n",
       "\n",
       "  }\n",
       "  if (root.Bokeh !== undefined) {\n",
       "    embed_document(root);\n",
       "  } else {\n",
       "    var attempts = 0;\n",
       "    var timer = setInterval(function(root) {\n",
       "      if (root.Bokeh !== undefined) {\n",
       "        embed_document(root);\n",
       "        clearInterval(timer);\n",
       "      }\n",
       "      attempts++;\n",
       "      if (attempts > 100) {\n",
       "        console.log(\"Bokeh: ERROR: Unable to run BokehJS code because BokehJS library is missing\");\n",
       "        clearInterval(timer);\n",
       "      }\n",
       "    }, 10, root)\n",
       "  }\n",
       "})(window);"
      ],
      "application/vnd.bokehjs_exec.v0+json": ""
     },
     "metadata": {
      "application/vnd.bokehjs_exec.v0+json": {
       "id": "25953"
      }
     },
     "output_type": "display_data"
    }
   ],
   "source": [
    "unique_bin_cts = df.groupby(['BikeAge','BikeSex','Biker Intox.', 'BikeDir', 'BikePos', 'Day of Week', 'CrashHour', 'DrvrVehTyp','LightCond','SpeedLimit']).count()\n",
    "#print(unique_bin_cts)\n",
    "#unique_bin_cts = df.groupby(['BikeSex','Biker Intox.', 'BikeDir', 'BikePos', 'DrvrVehTyp','LightCond','SpeedLimit']).count()\n",
    "\n",
    "\n",
    "fig = bkp.figure(x_axis_type='log')\n",
    "hist, edges = np.histogram(unique_bin_cts['BikeInjury'], bins=np.logspace(0, 3, 12))\n",
    "fig.quad(top=hist, bottom=0, left=edges[:-1], right=edges[1:],\n",
    "           fill_color=bkpal.Category10[10][0], line_color=\"white\", alpha=0.4, legend='Frac Severe, Not Intox')\n",
    "bkp.show(fig)"
   ]
  }
 ],
 "metadata": {
  "kernelspec": {
   "display_name": "Python 3",
   "language": "python",
   "name": "python3"
  },
  "language_info": {
   "codemirror_mode": {
    "name": "ipython",
    "version": 3
   },
   "file_extension": ".py",
   "mimetype": "text/x-python",
   "name": "python",
   "nbconvert_exporter": "python",
   "pygments_lexer": "ipython3",
   "version": "3.6.9"
  }
 },
 "nbformat": 4,
 "nbformat_minor": 2
}
