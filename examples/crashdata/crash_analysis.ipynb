{
 "cells": [
  {
   "cell_type": "markdown",
   "metadata": {},
   "source": [
    "# Package Import"
   ]
  },
  {
   "cell_type": "markdown",
   "metadata": {},
   "source": [
    "### Standard Packages"
   ]
  },
  {
   "cell_type": "code",
   "execution_count": 2,
   "metadata": {},
   "outputs": [],
   "source": [
    "import pandas as pd\n",
    "import numpy as np\n",
    "pd.set_option('display.max_rows', None)\n",
    "import bokeh.plotting as bkp\n",
    "import bokeh.io as bki\n",
    "import bokeh.palettes as bkpal\n",
    "from bokeh.transform import dodge\n"
   ]
  },
  {
   "cell_type": "code",
   "execution_count": 3,
   "metadata": {},
   "outputs": [
    {
     "data": {
      "text/html": [
       "\n",
       "    <div class=\"bk-root\">\n",
       "        <a href=\"https://bokeh.pydata.org\" target=\"_blank\" class=\"bk-logo bk-logo-small bk-logo-notebook\"></a>\n",
       "        <span id=\"1001\">Loading BokehJS ...</span>\n",
       "    </div>"
      ]
     },
     "metadata": {},
     "output_type": "display_data"
    },
    {
     "data": {
      "application/javascript": [
       "\n",
       "(function(root) {\n",
       "  function now() {\n",
       "    return new Date();\n",
       "  }\n",
       "\n",
       "  var force = true;\n",
       "\n",
       "  if (typeof (root._bokeh_onload_callbacks) === \"undefined\" || force === true) {\n",
       "    root._bokeh_onload_callbacks = [];\n",
       "    root._bokeh_is_loading = undefined;\n",
       "  }\n",
       "\n",
       "  var JS_MIME_TYPE = 'application/javascript';\n",
       "  var HTML_MIME_TYPE = 'text/html';\n",
       "  var EXEC_MIME_TYPE = 'application/vnd.bokehjs_exec.v0+json';\n",
       "  var CLASS_NAME = 'output_bokeh rendered_html';\n",
       "\n",
       "  /**\n",
       "   * Render data to the DOM node\n",
       "   */\n",
       "  function render(props, node) {\n",
       "    var script = document.createElement(\"script\");\n",
       "    node.appendChild(script);\n",
       "  }\n",
       "\n",
       "  /**\n",
       "   * Handle when an output is cleared or removed\n",
       "   */\n",
       "  function handleClearOutput(event, handle) {\n",
       "    var cell = handle.cell;\n",
       "\n",
       "    var id = cell.output_area._bokeh_element_id;\n",
       "    var server_id = cell.output_area._bokeh_server_id;\n",
       "    // Clean up Bokeh references\n",
       "    if (id != null && id in Bokeh.index) {\n",
       "      Bokeh.index[id].model.document.clear();\n",
       "      delete Bokeh.index[id];\n",
       "    }\n",
       "\n",
       "    if (server_id !== undefined) {\n",
       "      // Clean up Bokeh references\n",
       "      var cmd = \"from bokeh.io.state import curstate; print(curstate().uuid_to_server['\" + server_id + \"'].get_sessions()[0].document.roots[0]._id)\";\n",
       "      cell.notebook.kernel.execute(cmd, {\n",
       "        iopub: {\n",
       "          output: function(msg) {\n",
       "            var id = msg.content.text.trim();\n",
       "            if (id in Bokeh.index) {\n",
       "              Bokeh.index[id].model.document.clear();\n",
       "              delete Bokeh.index[id];\n",
       "            }\n",
       "          }\n",
       "        }\n",
       "      });\n",
       "      // Destroy server and session\n",
       "      var cmd = \"import bokeh.io.notebook as ion; ion.destroy_server('\" + server_id + \"')\";\n",
       "      cell.notebook.kernel.execute(cmd);\n",
       "    }\n",
       "  }\n",
       "\n",
       "  /**\n",
       "   * Handle when a new output is added\n",
       "   */\n",
       "  function handleAddOutput(event, handle) {\n",
       "    var output_area = handle.output_area;\n",
       "    var output = handle.output;\n",
       "\n",
       "    // limit handleAddOutput to display_data with EXEC_MIME_TYPE content only\n",
       "    if ((output.output_type != \"display_data\") || (!output.data.hasOwnProperty(EXEC_MIME_TYPE))) {\n",
       "      return\n",
       "    }\n",
       "\n",
       "    var toinsert = output_area.element.find(\".\" + CLASS_NAME.split(' ')[0]);\n",
       "\n",
       "    if (output.metadata[EXEC_MIME_TYPE][\"id\"] !== undefined) {\n",
       "      toinsert[toinsert.length - 1].firstChild.textContent = output.data[JS_MIME_TYPE];\n",
       "      // store reference to embed id on output_area\n",
       "      output_area._bokeh_element_id = output.metadata[EXEC_MIME_TYPE][\"id\"];\n",
       "    }\n",
       "    if (output.metadata[EXEC_MIME_TYPE][\"server_id\"] !== undefined) {\n",
       "      var bk_div = document.createElement(\"div\");\n",
       "      bk_div.innerHTML = output.data[HTML_MIME_TYPE];\n",
       "      var script_attrs = bk_div.children[0].attributes;\n",
       "      for (var i = 0; i < script_attrs.length; i++) {\n",
       "        toinsert[toinsert.length - 1].firstChild.setAttribute(script_attrs[i].name, script_attrs[i].value);\n",
       "      }\n",
       "      // store reference to server id on output_area\n",
       "      output_area._bokeh_server_id = output.metadata[EXEC_MIME_TYPE][\"server_id\"];\n",
       "    }\n",
       "  }\n",
       "\n",
       "  function register_renderer(events, OutputArea) {\n",
       "\n",
       "    function append_mime(data, metadata, element) {\n",
       "      // create a DOM node to render to\n",
       "      var toinsert = this.create_output_subarea(\n",
       "        metadata,\n",
       "        CLASS_NAME,\n",
       "        EXEC_MIME_TYPE\n",
       "      );\n",
       "      this.keyboard_manager.register_events(toinsert);\n",
       "      // Render to node\n",
       "      var props = {data: data, metadata: metadata[EXEC_MIME_TYPE]};\n",
       "      render(props, toinsert[toinsert.length - 1]);\n",
       "      element.append(toinsert);\n",
       "      return toinsert\n",
       "    }\n",
       "\n",
       "    /* Handle when an output is cleared or removed */\n",
       "    events.on('clear_output.CodeCell', handleClearOutput);\n",
       "    events.on('delete.Cell', handleClearOutput);\n",
       "\n",
       "    /* Handle when a new output is added */\n",
       "    events.on('output_added.OutputArea', handleAddOutput);\n",
       "\n",
       "    /**\n",
       "     * Register the mime type and append_mime function with output_area\n",
       "     */\n",
       "    OutputArea.prototype.register_mime_type(EXEC_MIME_TYPE, append_mime, {\n",
       "      /* Is output safe? */\n",
       "      safe: true,\n",
       "      /* Index of renderer in `output_area.display_order` */\n",
       "      index: 0\n",
       "    });\n",
       "  }\n",
       "\n",
       "  // register the mime type if in Jupyter Notebook environment and previously unregistered\n",
       "  if (root.Jupyter !== undefined) {\n",
       "    var events = require('base/js/events');\n",
       "    var OutputArea = require('notebook/js/outputarea').OutputArea;\n",
       "\n",
       "    if (OutputArea.prototype.mime_types().indexOf(EXEC_MIME_TYPE) == -1) {\n",
       "      register_renderer(events, OutputArea);\n",
       "    }\n",
       "  }\n",
       "\n",
       "  \n",
       "  if (typeof (root._bokeh_timeout) === \"undefined\" || force === true) {\n",
       "    root._bokeh_timeout = Date.now() + 5000;\n",
       "    root._bokeh_failed_load = false;\n",
       "  }\n",
       "\n",
       "  var NB_LOAD_WARNING = {'data': {'text/html':\n",
       "     \"<div style='background-color: #fdd'>\\n\"+\n",
       "     \"<p>\\n\"+\n",
       "     \"BokehJS does not appear to have successfully loaded. If loading BokehJS from CDN, this \\n\"+\n",
       "     \"may be due to a slow or bad network connection. Possible fixes:\\n\"+\n",
       "     \"</p>\\n\"+\n",
       "     \"<ul>\\n\"+\n",
       "     \"<li>re-rerun `output_notebook()` to attempt to load from CDN again, or</li>\\n\"+\n",
       "     \"<li>use INLINE resources instead, as so:</li>\\n\"+\n",
       "     \"</ul>\\n\"+\n",
       "     \"<code>\\n\"+\n",
       "     \"from bokeh.resources import INLINE\\n\"+\n",
       "     \"output_notebook(resources=INLINE)\\n\"+\n",
       "     \"</code>\\n\"+\n",
       "     \"</div>\"}};\n",
       "\n",
       "  function display_loaded() {\n",
       "    var el = document.getElementById(\"1001\");\n",
       "    if (el != null) {\n",
       "      el.textContent = \"BokehJS is loading...\";\n",
       "    }\n",
       "    if (root.Bokeh !== undefined) {\n",
       "      if (el != null) {\n",
       "        el.textContent = \"BokehJS \" + root.Bokeh.version + \" successfully loaded.\";\n",
       "      }\n",
       "    } else if (Date.now() < root._bokeh_timeout) {\n",
       "      setTimeout(display_loaded, 100)\n",
       "    }\n",
       "  }\n",
       "\n",
       "\n",
       "  function run_callbacks() {\n",
       "    try {\n",
       "      root._bokeh_onload_callbacks.forEach(function(callback) { callback() });\n",
       "    }\n",
       "    finally {\n",
       "      delete root._bokeh_onload_callbacks\n",
       "    }\n",
       "    console.info(\"Bokeh: all callbacks have finished\");\n",
       "  }\n",
       "\n",
       "  function load_libs(js_urls, callback) {\n",
       "    root._bokeh_onload_callbacks.push(callback);\n",
       "    if (root._bokeh_is_loading > 0) {\n",
       "      console.log(\"Bokeh: BokehJS is being loaded, scheduling callback at\", now());\n",
       "      return null;\n",
       "    }\n",
       "    if (js_urls == null || js_urls.length === 0) {\n",
       "      run_callbacks();\n",
       "      return null;\n",
       "    }\n",
       "    console.log(\"Bokeh: BokehJS not loaded, scheduling load and callback at\", now());\n",
       "    root._bokeh_is_loading = js_urls.length;\n",
       "    for (var i = 0; i < js_urls.length; i++) {\n",
       "      var url = js_urls[i];\n",
       "      var s = document.createElement('script');\n",
       "      s.src = url;\n",
       "      s.async = false;\n",
       "      s.onreadystatechange = s.onload = function() {\n",
       "        root._bokeh_is_loading--;\n",
       "        if (root._bokeh_is_loading === 0) {\n",
       "          console.log(\"Bokeh: all BokehJS libraries loaded\");\n",
       "          run_callbacks()\n",
       "        }\n",
       "      };\n",
       "      s.onerror = function() {\n",
       "        console.warn(\"failed to load library \" + url);\n",
       "      };\n",
       "      console.log(\"Bokeh: injecting script tag for BokehJS library: \", url);\n",
       "      document.getElementsByTagName(\"head\")[0].appendChild(s);\n",
       "    }\n",
       "  };var element = document.getElementById(\"1001\");\n",
       "  if (element == null) {\n",
       "    console.log(\"Bokeh: ERROR: autoload.js configured with elementid '1001' but no matching script tag was found. \")\n",
       "    return false;\n",
       "  }\n",
       "\n",
       "  var js_urls = [\"https://cdn.pydata.org/bokeh/release/bokeh-1.0.2.min.js\", \"https://cdn.pydata.org/bokeh/release/bokeh-widgets-1.0.2.min.js\", \"https://cdn.pydata.org/bokeh/release/bokeh-tables-1.0.2.min.js\", \"https://cdn.pydata.org/bokeh/release/bokeh-gl-1.0.2.min.js\"];\n",
       "\n",
       "  var inline_js = [\n",
       "    function(Bokeh) {\n",
       "      Bokeh.set_log_level(\"info\");\n",
       "    },\n",
       "    \n",
       "    function(Bokeh) {\n",
       "      \n",
       "    },\n",
       "    function(Bokeh) {\n",
       "      console.log(\"Bokeh: injecting CSS: https://cdn.pydata.org/bokeh/release/bokeh-1.0.2.min.css\");\n",
       "      Bokeh.embed.inject_css(\"https://cdn.pydata.org/bokeh/release/bokeh-1.0.2.min.css\");\n",
       "      console.log(\"Bokeh: injecting CSS: https://cdn.pydata.org/bokeh/release/bokeh-widgets-1.0.2.min.css\");\n",
       "      Bokeh.embed.inject_css(\"https://cdn.pydata.org/bokeh/release/bokeh-widgets-1.0.2.min.css\");\n",
       "      console.log(\"Bokeh: injecting CSS: https://cdn.pydata.org/bokeh/release/bokeh-tables-1.0.2.min.css\");\n",
       "      Bokeh.embed.inject_css(\"https://cdn.pydata.org/bokeh/release/bokeh-tables-1.0.2.min.css\");\n",
       "    }\n",
       "  ];\n",
       "\n",
       "  function run_inline_js() {\n",
       "    \n",
       "    if ((root.Bokeh !== undefined) || (force === true)) {\n",
       "      for (var i = 0; i < inline_js.length; i++) {\n",
       "        inline_js[i].call(root, root.Bokeh);\n",
       "      }if (force === true) {\n",
       "        display_loaded();\n",
       "      }} else if (Date.now() < root._bokeh_timeout) {\n",
       "      setTimeout(run_inline_js, 100);\n",
       "    } else if (!root._bokeh_failed_load) {\n",
       "      console.log(\"Bokeh: BokehJS failed to load within specified timeout.\");\n",
       "      root._bokeh_failed_load = true;\n",
       "    } else if (force !== true) {\n",
       "      var cell = $(document.getElementById(\"1001\")).parents('.cell').data().cell;\n",
       "      cell.output_area.append_execute_result(NB_LOAD_WARNING)\n",
       "    }\n",
       "\n",
       "  }\n",
       "\n",
       "  if (root._bokeh_is_loading === 0) {\n",
       "    console.log(\"Bokeh: BokehJS loaded, going straight to plotting\");\n",
       "    run_inline_js();\n",
       "  } else {\n",
       "    load_libs(js_urls, function() {\n",
       "      console.log(\"Bokeh: BokehJS plotting callback run at\", now());\n",
       "      run_inline_js();\n",
       "    });\n",
       "  }\n",
       "}(window));"
      ],
      "application/vnd.bokehjs_load.v0+json": "\n(function(root) {\n  function now() {\n    return new Date();\n  }\n\n  var force = true;\n\n  if (typeof (root._bokeh_onload_callbacks) === \"undefined\" || force === true) {\n    root._bokeh_onload_callbacks = [];\n    root._bokeh_is_loading = undefined;\n  }\n\n  \n\n  \n  if (typeof (root._bokeh_timeout) === \"undefined\" || force === true) {\n    root._bokeh_timeout = Date.now() + 5000;\n    root._bokeh_failed_load = false;\n  }\n\n  var NB_LOAD_WARNING = {'data': {'text/html':\n     \"<div style='background-color: #fdd'>\\n\"+\n     \"<p>\\n\"+\n     \"BokehJS does not appear to have successfully loaded. If loading BokehJS from CDN, this \\n\"+\n     \"may be due to a slow or bad network connection. Possible fixes:\\n\"+\n     \"</p>\\n\"+\n     \"<ul>\\n\"+\n     \"<li>re-rerun `output_notebook()` to attempt to load from CDN again, or</li>\\n\"+\n     \"<li>use INLINE resources instead, as so:</li>\\n\"+\n     \"</ul>\\n\"+\n     \"<code>\\n\"+\n     \"from bokeh.resources import INLINE\\n\"+\n     \"output_notebook(resources=INLINE)\\n\"+\n     \"</code>\\n\"+\n     \"</div>\"}};\n\n  function display_loaded() {\n    var el = document.getElementById(\"1001\");\n    if (el != null) {\n      el.textContent = \"BokehJS is loading...\";\n    }\n    if (root.Bokeh !== undefined) {\n      if (el != null) {\n        el.textContent = \"BokehJS \" + root.Bokeh.version + \" successfully loaded.\";\n      }\n    } else if (Date.now() < root._bokeh_timeout) {\n      setTimeout(display_loaded, 100)\n    }\n  }\n\n\n  function run_callbacks() {\n    try {\n      root._bokeh_onload_callbacks.forEach(function(callback) { callback() });\n    }\n    finally {\n      delete root._bokeh_onload_callbacks\n    }\n    console.info(\"Bokeh: all callbacks have finished\");\n  }\n\n  function load_libs(js_urls, callback) {\n    root._bokeh_onload_callbacks.push(callback);\n    if (root._bokeh_is_loading > 0) {\n      console.log(\"Bokeh: BokehJS is being loaded, scheduling callback at\", now());\n      return null;\n    }\n    if (js_urls == null || js_urls.length === 0) {\n      run_callbacks();\n      return null;\n    }\n    console.log(\"Bokeh: BokehJS not loaded, scheduling load and callback at\", now());\n    root._bokeh_is_loading = js_urls.length;\n    for (var i = 0; i < js_urls.length; i++) {\n      var url = js_urls[i];\n      var s = document.createElement('script');\n      s.src = url;\n      s.async = false;\n      s.onreadystatechange = s.onload = function() {\n        root._bokeh_is_loading--;\n        if (root._bokeh_is_loading === 0) {\n          console.log(\"Bokeh: all BokehJS libraries loaded\");\n          run_callbacks()\n        }\n      };\n      s.onerror = function() {\n        console.warn(\"failed to load library \" + url);\n      };\n      console.log(\"Bokeh: injecting script tag for BokehJS library: \", url);\n      document.getElementsByTagName(\"head\")[0].appendChild(s);\n    }\n  };var element = document.getElementById(\"1001\");\n  if (element == null) {\n    console.log(\"Bokeh: ERROR: autoload.js configured with elementid '1001' but no matching script tag was found. \")\n    return false;\n  }\n\n  var js_urls = [\"https://cdn.pydata.org/bokeh/release/bokeh-1.0.2.min.js\", \"https://cdn.pydata.org/bokeh/release/bokeh-widgets-1.0.2.min.js\", \"https://cdn.pydata.org/bokeh/release/bokeh-tables-1.0.2.min.js\", \"https://cdn.pydata.org/bokeh/release/bokeh-gl-1.0.2.min.js\"];\n\n  var inline_js = [\n    function(Bokeh) {\n      Bokeh.set_log_level(\"info\");\n    },\n    \n    function(Bokeh) {\n      \n    },\n    function(Bokeh) {\n      console.log(\"Bokeh: injecting CSS: https://cdn.pydata.org/bokeh/release/bokeh-1.0.2.min.css\");\n      Bokeh.embed.inject_css(\"https://cdn.pydata.org/bokeh/release/bokeh-1.0.2.min.css\");\n      console.log(\"Bokeh: injecting CSS: https://cdn.pydata.org/bokeh/release/bokeh-widgets-1.0.2.min.css\");\n      Bokeh.embed.inject_css(\"https://cdn.pydata.org/bokeh/release/bokeh-widgets-1.0.2.min.css\");\n      console.log(\"Bokeh: injecting CSS: https://cdn.pydata.org/bokeh/release/bokeh-tables-1.0.2.min.css\");\n      Bokeh.embed.inject_css(\"https://cdn.pydata.org/bokeh/release/bokeh-tables-1.0.2.min.css\");\n    }\n  ];\n\n  function run_inline_js() {\n    \n    if ((root.Bokeh !== undefined) || (force === true)) {\n      for (var i = 0; i < inline_js.length; i++) {\n        inline_js[i].call(root, root.Bokeh);\n      }if (force === true) {\n        display_loaded();\n      }} else if (Date.now() < root._bokeh_timeout) {\n      setTimeout(run_inline_js, 100);\n    } else if (!root._bokeh_failed_load) {\n      console.log(\"Bokeh: BokehJS failed to load within specified timeout.\");\n      root._bokeh_failed_load = true;\n    } else if (force !== true) {\n      var cell = $(document.getElementById(\"1001\")).parents('.cell').data().cell;\n      cell.output_area.append_execute_result(NB_LOAD_WARNING)\n    }\n\n  }\n\n  if (root._bokeh_is_loading === 0) {\n    console.log(\"Bokeh: BokehJS loaded, going straight to plotting\");\n    run_inline_js();\n  } else {\n    load_libs(js_urls, function() {\n      console.log(\"Bokeh: BokehJS plotting callback run at\", now());\n      run_inline_js();\n    });\n  }\n}(window));"
     },
     "metadata": {},
     "output_type": "display_data"
    }
   ],
   "source": [
    "bki.output_notebook()"
   ]
  },
  {
   "cell_type": "code",
   "execution_count": 4,
   "metadata": {},
   "outputs": [],
   "source": [
    "from bokeh.io import curdoc\n",
    "from bokeh.themes import Theme\n",
    "\n",
    "fsz = '16pt'\n",
    "\n",
    "curdoc().theme = Theme(json={'attrs': {\n",
    "    # apply defaults to Title properties\n",
    "    'Title': {\n",
    "        'text_font_size': fsz\n",
    "    },\n",
    "    # apply defaults to Axis properties\n",
    "    'Axis': {\n",
    "        'axis_label_text_font_size': fsz,\n",
    "        'major_label_text_font_size' : fsz\n",
    "    },\n",
    "     # apply defaults to Legend properties\n",
    "    'Legend': {\n",
    "        'label_text_font_size': fsz\n",
    "    }\n",
    "}})"
   ]
  },
  {
   "cell_type": "markdown",
   "metadata": {},
   "source": [
    "### Local Exchangeability Package"
   ]
  },
  {
   "cell_type": "code",
   "execution_count": 11,
   "metadata": {},
   "outputs": [
    {
     "ename": "ModuleNotFoundError",
     "evalue": "No module named 'localexch'",
     "output_type": "error",
     "traceback": [
      "\u001b[0;31m---------------------------------------------------------------------------\u001b[0m",
      "\u001b[0;31mModuleNotFoundError\u001b[0m                       Traceback (most recent call last)",
      "\u001b[0;32m<ipython-input-11-8c8e4d8c59bd>\u001b[0m in \u001b[0;36m<module>\u001b[0;34m\u001b[0m\n\u001b[0;32m----> 1\u001b[0;31m \u001b[0;32mimport\u001b[0m \u001b[0mlocalexch\u001b[0m\u001b[0;34m\u001b[0m\u001b[0;34m\u001b[0m\u001b[0m\n\u001b[0m",
      "\u001b[0;31mModuleNotFoundError\u001b[0m: No module named 'localexch'"
     ]
    }
   ],
   "source": [
    "import localexch"
   ]
  },
  {
   "cell_type": "markdown",
   "metadata": {},
   "source": [
    "# Data Preprocessing"
   ]
  },
  {
   "cell_type": "markdown",
   "metadata": {},
   "source": [
    "### Extract Relevant Columns, Simplify, Tidy"
   ]
  },
  {
   "cell_type": "code",
   "execution_count": 101,
   "metadata": {
    "scrolled": false
   },
   "outputs": [
    {
     "name": "stdout",
     "output_type": "stream",
     "text": [
      "Single Dataframe Version:\n",
      "  BikeInjury Biker Intox.  BikeAge BikeSex  BikeDir  \\\n",
      "0       None           No       12    Male     With   \n",
      "2   Possible           No       36    Male     With   \n",
      "3   Possible           No       63    Male     With   \n",
      "4   Possible           No       14    Male     With   \n",
      "5       None           No       57    Male  Against   \n",
      "\n",
      "                      BikePos     DrvrVehTyp LightCond  SpeedLimit  \\\n",
      "0                 Travel Lane  Passenger Car      Dayl          35   \n",
      "2  Bike Lane / Paved Shoulder  Passenger Car      Dayl          45   \n",
      "3                 Travel Lane  Sport Utility      Dayl          35   \n",
      "4                 Travel Lane  Passenger Car      Dayl          35   \n",
      "5                 Non-Roadway         Pickup      Dayl          15   \n",
      "\n",
      "   Day of Week  CrashHour  \n",
      "0            6         18  \n",
      "2            4         17  \n",
      "3            3         18  \n",
      "4            3         15  \n",
      "5            6         13  \n",
      "\n",
      "\n",
      "Split Covariate/Outcome:\n",
      "X:\n",
      "  Biker Intox.  BikeAge BikeSex  BikeDir                     BikePos  \\\n",
      "0           No       12    Male     With                 Travel Lane   \n",
      "2           No       36    Male     With  Bike Lane / Paved Shoulder   \n",
      "3           No       63    Male     With                 Travel Lane   \n",
      "4           No       14    Male     With                 Travel Lane   \n",
      "5           No       57    Male  Against                 Non-Roadway   \n",
      "\n",
      "      DrvrVehTyp LightCond  SpeedLimit  Day of Week  CrashHour  \n",
      "0  Passenger Car      Dayl          35            6         18  \n",
      "2  Passenger Car      Dayl          45            4         17  \n",
      "3  Sport Utility      Dayl          35            3         18  \n",
      "4  Passenger Car      Dayl          35            3         15  \n",
      "5         Pickup      Dayl          15            6         13  \n",
      "Y:\n",
      "0        None\n",
      "2    Possible\n",
      "3    Possible\n",
      "4    Possible\n",
      "5        None\n",
      "Name: BikeInjury, dtype: object\n"
     ]
    }
   ],
   "source": [
    "df = pd.read_csv('bicycle-crash-data-chapel-hill-region.csv', sep=';')\n",
    "#print(df.columns)\n",
    "\n",
    "#preprocessing data\n",
    "\n",
    "#extract used columns\n",
    "cols_used = ['BikeInjury', 'Biker Intox.', 'BikeAge', 'BikeSex', 'BikeDir', 'BikePos', \n",
    "        'DrvrVehTyp', 'LightCond', 'SpeedLimit', 'Day of Week', 'CrashHour']\n",
    "df = df[cols_used]\n",
    "\n",
    "#extract rows without missing data\n",
    "ageknown = (df.BikeAge != '999') & (df.BikeAge != '70+')\n",
    "lightknown = (df['LightCond'] != 'Unknown') & (df['LightCond'] != 'Other')\n",
    "vehknown = df['DrvrVehTyp'] != 'Unknown'\n",
    "spdknown = df['SpeedLimit'] != 'Unknown'\n",
    "injknown = df['BikeInjury'] != 'Unknown Injury'\n",
    "dirknown = df['BikeDir'] != 'Unknown'\n",
    "posknown = df['BikePos'] != 'Unknown'\n",
    "df = df[ageknown & lightknown & vehknown & spdknown & injknown & dirknown & posknown]\n",
    "\n",
    "#convert ages to integers\n",
    "df['BikeAge'] = df['BikeAge'].astype(int)\n",
    "\n",
    "#simplify injury type\n",
    "def simplify_inj(inj):\n",
    "    if 'Minor' in inj:\n",
    "        return 'Minor'\n",
    "    elif 'Serious' in inj:\n",
    "        return 'Serious'\n",
    "    elif 'Killed' in inj:\n",
    "        return 'Killed'\n",
    "    elif 'Possible' in inj:\n",
    "        return 'Possible'\n",
    "    elif 'No In' in inj:\n",
    "        return 'None'\n",
    "    else:\n",
    "        return 'NA'\n",
    "df['BikeInjury'] = df['BikeInjury'].apply(simplify_inj)\n",
    "\n",
    "#simplify light condition\n",
    "df['LightCond'] = df['LightCond'].apply(lambda x : x[:4])\n",
    "\n",
    "#simplify vehicle types\n",
    "def simplify_veh(veh):\n",
    "    if 'Truck' in veh or 'truck' in veh or 'Motor Home' in veh:\n",
    "        return 'Truck'\n",
    "    elif 'Bus' in veh:\n",
    "        return 'Bus'\n",
    "    elif 'EMS' in veh or 'Police' in veh:\n",
    "        return 'Emergency'\n",
    "    else:\n",
    "        return veh\n",
    "df['DrvrVehTyp'] = df['DrvrVehTyp'].apply(simplify_veh)\n",
    "\n",
    "#simplify bike direction\n",
    "def simplify_dir(dr):\n",
    "    if 'With' in dr:\n",
    "        return 'With'\n",
    "    elif 'Not' in dr:\n",
    "        return 'NA'\n",
    "    else:\n",
    "        return 'Against'\n",
    "df['BikeDir'] = df['BikeDir'].apply(simplify_dir)\n",
    "\n",
    "#simplify bike position\n",
    "def simplify_pos(pos):\n",
    "    if 'With' in pos:\n",
    "        return 'With'\n",
    "    elif 'Not' in dr:\n",
    "        return 'NA'\n",
    "    else:\n",
    "        return 'Against'\n",
    "df['BikeDir'] = df['BikeDir'].apply(simplify_dir)\n",
    "\n",
    "#simplify day of week\n",
    "day_map = {'Sunday': 0,\n",
    "           'Monday': 1,\n",
    "           'Tuesday': 2,\n",
    "           'Wednesday': 3,\n",
    "           'Thursday': 4,\n",
    "           'Friday': 5,\n",
    "           'Saturday': 6}\n",
    "df['Day of Week'] = df['Day of Week'].apply(lambda x : day_map[x])\n",
    "\n",
    "#simplify speed limit\n",
    "def simplify_spd(spd):\n",
    "    return spd.strip().split(' ')[2]\n",
    "df['SpeedLimit'] = df['SpeedLimit'].apply(simplify_spd)\n",
    "df['SpeedLimit'] = df['SpeedLimit'].astype(int)\n",
    "\n",
    "print('Single Dataframe Version:')\n",
    "print(df.head())\n",
    "\n",
    "print('')\n",
    "print('')\n",
    "print('Split Covariate/Outcome:')\n",
    "\n",
    "#create a version of the data with covariates and observations separate\n",
    "Y = df['BikeInjury']\n",
    "X = df.drop(['BikeInjury'], axis=1)\n",
    "\n",
    "print('X:')\n",
    "print(X.head())\n",
    "print('Y:')\n",
    "print(Y.head())"
   ]
  },
  {
   "cell_type": "markdown",
   "metadata": {},
   "source": [
    "# Data Visualization"
   ]
  },
  {
   "cell_type": "code",
   "execution_count": 88,
   "metadata": {
    "scrolled": false
   },
   "outputs": [
    {
     "name": "stdout",
     "output_type": "stream",
     "text": [
      "Passenger Car           5051\n",
      "Sport Utility           1623\n",
      "Pickup                  1271\n",
      "Truck                    261\n",
      "Van                      466\n",
      "Motorcycle                50\n",
      "Bus                       50\n",
      "Emergency                 50\n",
      "Tractor/Semi-Trailer      24\n",
      "Taxicab                   17\n",
      "Moped                      6\n",
      "Name: DrvrVehTyp, dtype: int64\n"
     ]
    },
    {
     "data": {
      "text/html": [
       "\n",
       "\n",
       "\n",
       "\n",
       "\n",
       "\n",
       "  <div class=\"bk-root\" id=\"1cfd958c-ffa7-4772-8406-3895208f9015\"></div>\n"
      ]
     },
     "metadata": {},
     "output_type": "display_data"
    },
    {
     "data": {
      "application/javascript": [
       "(function(root) {\n",
       "  function embed_document(root) {\n",
       "    \n",
       "  var docs_json = {\"24e6d39b-43ea-4bd5-91ac-4f3a0e10f0a1\":{\"roots\":{\"references\":[{\"attributes\":{\"below\":[{\"id\":\"30461\",\"type\":\"LinearAxis\"}],\"left\":[{\"id\":\"30466\",\"type\":\"CategoricalAxis\"}],\"plot_height\":400,\"plot_width\":800,\"renderers\":[{\"id\":\"30461\",\"type\":\"LinearAxis\"},{\"id\":\"30465\",\"type\":\"Grid\"},{\"id\":\"30466\",\"type\":\"CategoricalAxis\"},{\"id\":\"30469\",\"type\":\"Grid\"},{\"id\":\"30478\",\"type\":\"BoxAnnotation\"},{\"id\":\"30488\",\"type\":\"GlyphRenderer\"},{\"id\":\"30493\",\"type\":\"GlyphRenderer\"},{\"id\":\"30498\",\"type\":\"GlyphRenderer\"},{\"id\":\"30503\",\"type\":\"GlyphRenderer\"}],\"title\":{\"id\":\"31178\",\"type\":\"Title\"},\"toolbar\":{\"id\":\"30476\",\"type\":\"Toolbar\"},\"x_range\":{\"id\":\"30453\",\"type\":\"DataRange1d\"},\"x_scale\":{\"id\":\"30457\",\"type\":\"LinearScale\"},\"y_range\":{\"id\":\"30455\",\"type\":\"FactorRange\"},\"y_scale\":{\"id\":\"30459\",\"type\":\"CategoricalScale\"}},\"id\":\"30452\",\"subtype\":\"Figure\",\"type\":\"Plot\"},{\"attributes\":{\"callback\":null,\"data\":{\"left\":{\"__ndarray__\":\"AAAAAAAAAAAAAAAAAAAAAAAAAAAAAAAAAAAAAAAAAAAAAAAAAAAAAAAAAAAAAAAAAAAAAAAAAAAAAAAAAAAAAAAAAAAAAAAAAAAAAAAAAAAAAAAAAAAAAA==\",\"dtype\":\"float64\",\"shape\":[11]},\"right\":{\"__ndarray__\":\"aR54WiXt6z+/XGyXwL3rPxWaVaFZFeo/PVpUIvma6j/jCd9tPOHrPxSuR+F6FO4/cT0K16Nw7T+F61G4HoXrPwAAAAAAAOg/PDw8PDw87D8AAAAAAADwPw==\",\"dtype\":\"float64\",\"shape\":[11]},\"y\":[\"Passenger Car\",\"Sport Utility\",\"Pickup\",\"Truck\",\"Van\",\"Motorcycle\",\"Bus\",\"Emergency\",\"Tractor/Semi-Trailer\",\"Taxicab\",\"Moped\"]},\"selected\":{\"id\":\"31183\",\"type\":\"Selection\"},\"selection_policy\":{\"id\":\"31184\",\"type\":\"UnionRenderers\"}},\"id\":\"30485\",\"type\":\"ColumnDataSource\"},{\"attributes\":{\"callback\":null,\"data\":{\"left\":{\"__ndarray__\":\"aR54WiXt6z+/XGyXwL3rPxWaVaFZFeo/PVpUIvma6j/jCd9tPOHrPxSuR+F6FO4/cT0K16Nw7T+F61G4HoXrPwAAAAAAAOg/PDw8PDw87D8AAAAAAADwPw==\",\"dtype\":\"float64\",\"shape\":[11]},\"right\":{\"__ndarray__\":\"K15aC2C77T+0uzZj7XntP3NcM8c1c+w/ZYUY+wAz7D86k2pHZ1LtP1yPwvUoXO8/cT0K16Nw7T8AAAAAAADwPwAAAAAAAOg/Hh4eHh4e7j8AAAAAAADwPw==\",\"dtype\":\"float64\",\"shape\":[11]},\"y\":[\"Passenger Car\",\"Sport Utility\",\"Pickup\",\"Truck\",\"Van\",\"Motorcycle\",\"Bus\",\"Emergency\",\"Tractor/Semi-Trailer\",\"Taxicab\",\"Moped\"]},\"selected\":{\"id\":\"31185\",\"type\":\"Selection\"},\"selection_policy\":{\"id\":\"31186\",\"type\":\"UnionRenderers\"}},\"id\":\"30490\",\"type\":\"ColumnDataSource\"},{\"attributes\":{\"plot\":{\"id\":\"30452\",\"subtype\":\"Figure\",\"type\":\"Plot\"},\"ticker\":{\"id\":\"30462\",\"type\":\"BasicTicker\"}},\"id\":\"30465\",\"type\":\"Grid\"},{\"attributes\":{\"callback\":null},\"id\":\"30453\",\"type\":\"DataRange1d\"},{\"attributes\":{\"overlay\":{\"id\":\"30478\",\"type\":\"BoxAnnotation\"}},\"id\":\"30472\",\"type\":\"BoxZoomTool\"},{\"attributes\":{\"source\":{\"id\":\"30485\",\"type\":\"ColumnDataSource\"}},\"id\":\"30489\",\"type\":\"CDSView\"},{\"attributes\":{\"data_source\":{\"id\":\"30485\",\"type\":\"ColumnDataSource\"},\"glyph\":{\"id\":\"30486\",\"type\":\"HBar\"},\"hover_glyph\":null,\"muted_glyph\":null,\"nonselection_glyph\":{\"id\":\"30487\",\"type\":\"HBar\"},\"selection_glyph\":null,\"view\":{\"id\":\"30489\",\"type\":\"CDSView\"}},\"id\":\"30488\",\"type\":\"GlyphRenderer\"},{\"attributes\":{},\"id\":\"31185\",\"type\":\"Selection\"},{\"attributes\":{},\"id\":\"31182\",\"type\":\"CategoricalTickFormatter\"},{\"attributes\":{\"axis_label\":\"Fraction\",\"axis_label_text_font_size\":{\"value\":\"16pt\"},\"formatter\":{\"id\":\"31180\",\"type\":\"BasicTickFormatter\"},\"major_label_text_font_size\":{\"value\":\"16pt\"},\"plot\":{\"id\":\"30452\",\"subtype\":\"Figure\",\"type\":\"Plot\"},\"ticker\":{\"id\":\"30462\",\"type\":\"BasicTicker\"}},\"id\":\"30461\",\"type\":\"LinearAxis\"},{\"attributes\":{\"callback\":null,\"factors\":[\"Passenger Car\",\"Sport Utility\",\"Pickup\",\"Truck\",\"Van\",\"Motorcycle\",\"Bus\",\"Emergency\",\"Tractor/Semi-Trailer\",\"Taxicab\",\"Moped\"]},\"id\":\"30455\",\"type\":\"FactorRange\"},{\"attributes\":{},\"id\":\"30471\",\"type\":\"WheelZoomTool\"},{\"attributes\":{\"callback\":null,\"data\":{\"left\":{\"__ndarray__\":\"3MxC7jmL7z9DaA3N9JDvP39/8fcXf+8/JF9T75zg7z+OJ3y38YTvPwAAAAAAAPA/XI/C9Shc7z8AAAAAAADwPwAAAAAAAPA/Hh4eHh4e7j8AAAAAAADwPw==\",\"dtype\":\"float64\",\"shape\":[11]},\"right\":{\"__ndarray__\":\"AAAAAAAA8D8AAAAAAADwPwAAAAAAAPA/AAAAAAAA8D8AAAAAAADwPwAAAAAAAPA/AAAAAAAA8D8AAAAAAADwPwAAAAAAAPA/AAAAAAAA8D8AAAAAAADwPw==\",\"dtype\":\"float64\",\"shape\":[11]},\"y\":[\"Passenger Car\",\"Sport Utility\",\"Pickup\",\"Truck\",\"Van\",\"Motorcycle\",\"Bus\",\"Emergency\",\"Tractor/Semi-Trailer\",\"Taxicab\",\"Moped\"]},\"selected\":{\"id\":\"31189\",\"type\":\"Selection\"},\"selection_policy\":{\"id\":\"31190\",\"type\":\"UnionRenderers\"}},\"id\":\"30500\",\"type\":\"ColumnDataSource\"},{\"attributes\":{\"fill_alpha\":{\"value\":0.3},\"fill_color\":{\"value\":\"#1f77b4\"},\"height\":{\"value\":0.7},\"left\":{\"field\":\"left\"},\"line_width\":{\"value\":0.5},\"right\":{\"field\":\"right\"},\"y\":{\"field\":\"y\"}},\"id\":\"30486\",\"type\":\"HBar\"},{\"attributes\":{},\"id\":\"30473\",\"type\":\"SaveTool\"},{\"attributes\":{\"bottom_units\":\"screen\",\"fill_alpha\":{\"value\":0.5},\"fill_color\":{\"value\":\"lightgrey\"},\"left_units\":\"screen\",\"level\":\"overlay\",\"line_alpha\":{\"value\":1.0},\"line_color\":{\"value\":\"black\"},\"line_dash\":[4,4],\"line_width\":{\"value\":2},\"plot\":null,\"render_mode\":\"css\",\"right_units\":\"screen\",\"top_units\":\"screen\"},\"id\":\"30478\",\"type\":\"BoxAnnotation\"},{\"attributes\":{\"fill_alpha\":{\"value\":0.7},\"fill_color\":{\"value\":\"#1f77b4\"},\"height\":{\"value\":0.7},\"left\":{\"field\":\"left\"},\"line_width\":{\"value\":0.5},\"right\":{\"field\":\"right\"},\"y\":{\"field\":\"y\"}},\"id\":\"30491\",\"type\":\"HBar\"},{\"attributes\":{\"fill_alpha\":{\"value\":0.3},\"fill_color\":{\"value\":\"#ff7f0e\"},\"height\":{\"value\":0.7},\"left\":{\"field\":\"left\"},\"line_width\":{\"value\":0.5},\"right\":{\"field\":\"right\"},\"y\":{\"field\":\"y\"}},\"id\":\"30496\",\"type\":\"HBar\"},{\"attributes\":{\"source\":{\"id\":\"30495\",\"type\":\"ColumnDataSource\"}},\"id\":\"30499\",\"type\":\"CDSView\"},{\"attributes\":{\"fill_alpha\":{\"value\":0.1},\"fill_color\":{\"value\":\"#1f77b4\"},\"height\":{\"value\":0.7},\"left\":{\"field\":\"left\"},\"line_alpha\":{\"value\":0.1},\"line_color\":{\"value\":\"#1f77b4\"},\"line_width\":{\"value\":0.5},\"right\":{\"field\":\"right\"},\"y\":{\"field\":\"y\"}},\"id\":\"30497\",\"type\":\"HBar\"},{\"attributes\":{},\"id\":\"31184\",\"type\":\"UnionRenderers\"},{\"attributes\":{},\"id\":\"31188\",\"type\":\"UnionRenderers\"},{\"attributes\":{\"fill_alpha\":{\"value\":0.1},\"fill_color\":{\"value\":\"#1f77b4\"},\"height\":{\"value\":0.7},\"left\":{\"field\":\"left\"},\"line_alpha\":{\"value\":0.1},\"line_color\":{\"value\":\"#1f77b4\"},\"line_width\":{\"value\":0.5},\"right\":{\"field\":\"right\"},\"y\":{\"field\":\"y\"}},\"id\":\"30502\",\"type\":\"HBar\"},{\"attributes\":{\"callback\":null,\"data\":{\"left\":{\"__ndarray__\":\"K15aC2C77T+0uzZj7XntP3NcM8c1c+w/ZYUY+wAz7D86k2pHZ1LtP1yPwvUoXO8/cT0K16Nw7T8AAAAAAADwPwAAAAAAAOg/Hh4eHh4e7j8AAAAAAADwPw==\",\"dtype\":\"float64\",\"shape\":[11]},\"right\":{\"__ndarray__\":\"3MxC7jmL7z9DaA3N9JDvP39/8fcXf+8/JF9T75zg7z+OJ3y38YTvPwAAAAAAAPA/XI/C9Shc7z8AAAAAAADwPwAAAAAAAPA/Hh4eHh4e7j8AAAAAAADwPw==\",\"dtype\":\"float64\",\"shape\":[11]},\"y\":[\"Passenger Car\",\"Sport Utility\",\"Pickup\",\"Truck\",\"Van\",\"Motorcycle\",\"Bus\",\"Emergency\",\"Tractor/Semi-Trailer\",\"Taxicab\",\"Moped\"]},\"selected\":{\"id\":\"31187\",\"type\":\"Selection\"},\"selection_policy\":{\"id\":\"31188\",\"type\":\"UnionRenderers\"}},\"id\":\"30495\",\"type\":\"ColumnDataSource\"},{\"attributes\":{\"dimension\":1,\"plot\":{\"id\":\"30452\",\"subtype\":\"Figure\",\"type\":\"Plot\"},\"ticker\":{\"id\":\"30467\",\"type\":\"CategoricalTicker\"}},\"id\":\"30469\",\"type\":\"Grid\"},{\"attributes\":{},\"id\":\"31186\",\"type\":\"UnionRenderers\"},{\"attributes\":{},\"id\":\"30475\",\"type\":\"HelpTool\"},{\"attributes\":{\"active_drag\":\"auto\",\"active_inspect\":\"auto\",\"active_multi\":null,\"active_scroll\":\"auto\",\"active_tap\":\"auto\",\"tools\":[{\"id\":\"30470\",\"type\":\"PanTool\"},{\"id\":\"30471\",\"type\":\"WheelZoomTool\"},{\"id\":\"30472\",\"type\":\"BoxZoomTool\"},{\"id\":\"30473\",\"type\":\"SaveTool\"},{\"id\":\"30474\",\"type\":\"ResetTool\"},{\"id\":\"30475\",\"type\":\"HelpTool\"}]},\"id\":\"30476\",\"type\":\"Toolbar\"},{\"attributes\":{\"fill_alpha\":{\"value\":0.1},\"fill_color\":{\"value\":\"#1f77b4\"},\"height\":{\"value\":0.7},\"left\":{\"field\":\"left\"},\"line_alpha\":{\"value\":0.1},\"line_color\":{\"value\":\"#1f77b4\"},\"line_width\":{\"value\":0.5},\"right\":{\"field\":\"right\"},\"y\":{\"field\":\"y\"}},\"id\":\"30492\",\"type\":\"HBar\"},{\"attributes\":{},\"id\":\"30462\",\"type\":\"BasicTicker\"},{\"attributes\":{\"fill_alpha\":{\"value\":0.1},\"fill_color\":{\"value\":\"#1f77b4\"},\"height\":{\"value\":0.7},\"left\":{\"field\":\"left\"},\"line_alpha\":{\"value\":0.1},\"line_color\":{\"value\":\"#1f77b4\"},\"line_width\":{\"value\":0.5},\"right\":{\"field\":\"right\"},\"y\":{\"field\":\"y\"}},\"id\":\"30487\",\"type\":\"HBar\"},{\"attributes\":{},\"id\":\"31180\",\"type\":\"BasicTickFormatter\"},{\"attributes\":{},\"id\":\"30470\",\"type\":\"PanTool\"},{\"attributes\":{},\"id\":\"30467\",\"type\":\"CategoricalTicker\"},{\"attributes\":{},\"id\":\"30457\",\"type\":\"LinearScale\"},{\"attributes\":{\"data_source\":{\"id\":\"30490\",\"type\":\"ColumnDataSource\"},\"glyph\":{\"id\":\"30491\",\"type\":\"HBar\"},\"hover_glyph\":null,\"muted_glyph\":null,\"nonselection_glyph\":{\"id\":\"30492\",\"type\":\"HBar\"},\"selection_glyph\":null,\"view\":{\"id\":\"30494\",\"type\":\"CDSView\"}},\"id\":\"30493\",\"type\":\"GlyphRenderer\"},{\"attributes\":{\"axis_label_text_font_size\":{\"value\":\"16pt\"},\"formatter\":{\"id\":\"31182\",\"type\":\"CategoricalTickFormatter\"},\"major_label_text_font_size\":{\"value\":\"16pt\"},\"plot\":{\"id\":\"30452\",\"subtype\":\"Figure\",\"type\":\"Plot\"},\"ticker\":{\"id\":\"30467\",\"type\":\"CategoricalTicker\"}},\"id\":\"30466\",\"type\":\"CategoricalAxis\"},{\"attributes\":{\"source\":{\"id\":\"30500\",\"type\":\"ColumnDataSource\"}},\"id\":\"30504\",\"type\":\"CDSView\"},{\"attributes\":{},\"id\":\"31190\",\"type\":\"UnionRenderers\"},{\"attributes\":{},\"id\":\"31189\",\"type\":\"Selection\"},{\"attributes\":{},\"id\":\"31183\",\"type\":\"Selection\"},{\"attributes\":{\"source\":{\"id\":\"30490\",\"type\":\"ColumnDataSource\"}},\"id\":\"30494\",\"type\":\"CDSView\"},{\"attributes\":{\"fill_alpha\":{\"value\":0.7},\"fill_color\":{\"value\":\"#ff7f0e\"},\"height\":{\"value\":0.7},\"left\":{\"field\":\"left\"},\"line_width\":{\"value\":0.5},\"right\":{\"field\":\"right\"},\"y\":{\"field\":\"y\"}},\"id\":\"30501\",\"type\":\"HBar\"},{\"attributes\":{\"data_source\":{\"id\":\"30495\",\"type\":\"ColumnDataSource\"},\"glyph\":{\"id\":\"30496\",\"type\":\"HBar\"},\"hover_glyph\":null,\"muted_glyph\":null,\"nonselection_glyph\":{\"id\":\"30497\",\"type\":\"HBar\"},\"selection_glyph\":null,\"view\":{\"id\":\"30499\",\"type\":\"CDSView\"}},\"id\":\"30498\",\"type\":\"GlyphRenderer\"},{\"attributes\":{},\"id\":\"30474\",\"type\":\"ResetTool\"},{\"attributes\":{},\"id\":\"30459\",\"type\":\"CategoricalScale\"},{\"attributes\":{},\"id\":\"31187\",\"type\":\"Selection\"},{\"attributes\":{\"plot\":null,\"text\":\"\",\"text_font_size\":{\"value\":\"16pt\"}},\"id\":\"31178\",\"type\":\"Title\"},{\"attributes\":{\"data_source\":{\"id\":\"30500\",\"type\":\"ColumnDataSource\"},\"glyph\":{\"id\":\"30501\",\"type\":\"HBar\"},\"hover_glyph\":null,\"muted_glyph\":null,\"nonselection_glyph\":{\"id\":\"30502\",\"type\":\"HBar\"},\"selection_glyph\":null,\"view\":{\"id\":\"30504\",\"type\":\"CDSView\"}},\"id\":\"30503\",\"type\":\"GlyphRenderer\"}],\"root_ids\":[\"30452\"]},\"title\":\"Bokeh Application\",\"version\":\"1.0.2\"}};\n",
       "  var render_items = [{\"docid\":\"24e6d39b-43ea-4bd5-91ac-4f3a0e10f0a1\",\"roots\":{\"30452\":\"1cfd958c-ffa7-4772-8406-3895208f9015\"}}];\n",
       "  root.Bokeh.embed.embed_items_notebook(docs_json, render_items);\n",
       "\n",
       "  }\n",
       "  if (root.Bokeh !== undefined) {\n",
       "    embed_document(root);\n",
       "  } else {\n",
       "    var attempts = 0;\n",
       "    var timer = setInterval(function(root) {\n",
       "      if (root.Bokeh !== undefined) {\n",
       "        embed_document(root);\n",
       "        clearInterval(timer);\n",
       "      }\n",
       "      attempts++;\n",
       "      if (attempts > 100) {\n",
       "        console.log(\"Bokeh: ERROR: Unable to run BokehJS code because BokehJS library is missing\");\n",
       "        clearInterval(timer);\n",
       "      }\n",
       "    }, 10, root)\n",
       "  }\n",
       "})(window);"
      ],
      "application/vnd.bokehjs_exec.v0+json": ""
     },
     "metadata": {
      "application/vnd.bokehjs_exec.v0+json": {
       "id": "30452"
      }
     },
     "output_type": "display_data"
    },
    {
     "data": {
      "text/html": [
       "\n",
       "\n",
       "\n",
       "\n",
       "\n",
       "\n",
       "  <div class=\"bk-root\" id=\"b6bbed16-4a3d-4549-b7e6-2797152a81ff\"></div>\n"
      ]
     },
     "metadata": {},
     "output_type": "display_data"
    },
    {
     "data": {
      "application/javascript": [
       "(function(root) {\n",
       "  function embed_document(root) {\n",
       "    \n",
       "  var docs_json = {\"77ff4fef-9734-42f8-8322-22ed58072d36\":{\"roots\":{\"references\":[{\"attributes\":{\"below\":[{\"id\":\"31291\",\"type\":\"LinearAxis\"}],\"left\":[{\"id\":\"31296\",\"type\":\"CategoricalAxis\"}],\"plot_height\":250,\"renderers\":[{\"id\":\"31291\",\"type\":\"LinearAxis\"},{\"id\":\"31295\",\"type\":\"Grid\"},{\"id\":\"31296\",\"type\":\"CategoricalAxis\"},{\"id\":\"31299\",\"type\":\"Grid\"},{\"id\":\"31308\",\"type\":\"BoxAnnotation\"},{\"id\":\"31318\",\"type\":\"GlyphRenderer\"},{\"id\":\"31323\",\"type\":\"GlyphRenderer\"},{\"id\":\"31328\",\"type\":\"GlyphRenderer\"},{\"id\":\"31333\",\"type\":\"GlyphRenderer\"}],\"title\":{\"id\":\"32023\",\"type\":\"Title\"},\"toolbar\":{\"id\":\"31306\",\"type\":\"Toolbar\"},\"x_range\":{\"id\":\"31283\",\"type\":\"DataRange1d\"},\"x_scale\":{\"id\":\"31287\",\"type\":\"LinearScale\"},\"y_range\":{\"id\":\"31285\",\"type\":\"FactorRange\"},\"y_scale\":{\"id\":\"31289\",\"type\":\"CategoricalScale\"}},\"id\":\"31282\",\"subtype\":\"Figure\",\"type\":\"Plot\"},{\"attributes\":{},\"id\":\"32033\",\"type\":\"UnionRenderers\"},{\"attributes\":{},\"id\":\"32029\",\"type\":\"UnionRenderers\"},{\"attributes\":{},\"id\":\"32031\",\"type\":\"UnionRenderers\"},{\"attributes\":{\"source\":{\"id\":\"31320\",\"type\":\"ColumnDataSource\"}},\"id\":\"31324\",\"type\":\"CDSView\"},{\"attributes\":{\"fill_alpha\":{\"value\":0.1},\"fill_color\":{\"value\":\"#1f77b4\"},\"height\":{\"value\":0.7},\"left\":{\"field\":\"left\"},\"line_alpha\":{\"value\":0.1},\"line_color\":{\"value\":\"#1f77b4\"},\"line_width\":{\"value\":0.5},\"right\":{\"field\":\"right\"},\"y\":{\"field\":\"y\"}},\"id\":\"31317\",\"type\":\"HBar\"},{\"attributes\":{},\"id\":\"32025\",\"type\":\"BasicTickFormatter\"},{\"attributes\":{\"fill_alpha\":{\"value\":0.1},\"fill_color\":{\"value\":\"#1f77b4\"},\"height\":{\"value\":0.7},\"left\":{\"field\":\"left\"},\"line_alpha\":{\"value\":0.1},\"line_color\":{\"value\":\"#1f77b4\"},\"line_width\":{\"value\":0.5},\"right\":{\"field\":\"right\"},\"y\":{\"field\":\"y\"}},\"id\":\"31322\",\"type\":\"HBar\"},{\"attributes\":{\"axis_label\":\"Fraction\",\"axis_label_text_font_size\":{\"value\":\"16pt\"},\"formatter\":{\"id\":\"32025\",\"type\":\"BasicTickFormatter\"},\"major_label_text_font_size\":{\"value\":\"16pt\"},\"plot\":{\"id\":\"31282\",\"subtype\":\"Figure\",\"type\":\"Plot\"},\"ticker\":{\"id\":\"31292\",\"type\":\"BasicTicker\"}},\"id\":\"31291\",\"type\":\"LinearAxis\"},{\"attributes\":{\"active_drag\":\"auto\",\"active_inspect\":\"auto\",\"active_multi\":null,\"active_scroll\":\"auto\",\"active_tap\":\"auto\",\"tools\":[{\"id\":\"31300\",\"type\":\"PanTool\"},{\"id\":\"31301\",\"type\":\"WheelZoomTool\"},{\"id\":\"31302\",\"type\":\"BoxZoomTool\"},{\"id\":\"31303\",\"type\":\"SaveTool\"},{\"id\":\"31304\",\"type\":\"ResetTool\"},{\"id\":\"31305\",\"type\":\"HelpTool\"}]},\"id\":\"31306\",\"type\":\"Toolbar\"},{\"attributes\":{},\"id\":\"32035\",\"type\":\"UnionRenderers\"},{\"attributes\":{\"source\":{\"id\":\"31315\",\"type\":\"ColumnDataSource\"}},\"id\":\"31319\",\"type\":\"CDSView\"},{\"attributes\":{\"fill_alpha\":{\"value\":0.3},\"fill_color\":{\"value\":\"#ff7f0e\"},\"height\":{\"value\":0.7},\"left\":{\"field\":\"left\"},\"line_width\":{\"value\":0.5},\"right\":{\"field\":\"right\"},\"y\":{\"field\":\"y\"}},\"id\":\"31326\",\"type\":\"HBar\"},{\"attributes\":{},\"id\":\"32030\",\"type\":\"Selection\"},{\"attributes\":{},\"id\":\"32027\",\"type\":\"CategoricalTickFormatter\"},{\"attributes\":{\"data_source\":{\"id\":\"31325\",\"type\":\"ColumnDataSource\"},\"glyph\":{\"id\":\"31326\",\"type\":\"HBar\"},\"hover_glyph\":null,\"muted_glyph\":null,\"nonselection_glyph\":{\"id\":\"31327\",\"type\":\"HBar\"},\"selection_glyph\":null,\"view\":{\"id\":\"31329\",\"type\":\"CDSView\"}},\"id\":\"31328\",\"type\":\"GlyphRenderer\"},{\"attributes\":{},\"id\":\"31297\",\"type\":\"CategoricalTicker\"},{\"attributes\":{\"dimension\":1,\"plot\":{\"id\":\"31282\",\"subtype\":\"Figure\",\"type\":\"Plot\"},\"ticker\":{\"id\":\"31297\",\"type\":\"CategoricalTicker\"}},\"id\":\"31299\",\"type\":\"Grid\"},{\"attributes\":{},\"id\":\"31305\",\"type\":\"HelpTool\"},{\"attributes\":{\"fill_alpha\":{\"value\":0.7},\"fill_color\":{\"value\":\"#ff7f0e\"},\"height\":{\"value\":0.7},\"left\":{\"field\":\"left\"},\"line_width\":{\"value\":0.5},\"right\":{\"field\":\"right\"},\"y\":{\"field\":\"y\"}},\"id\":\"31331\",\"type\":\"HBar\"},{\"attributes\":{\"source\":{\"id\":\"31325\",\"type\":\"ColumnDataSource\"}},\"id\":\"31329\",\"type\":\"CDSView\"},{\"attributes\":{\"fill_alpha\":{\"value\":0.1},\"fill_color\":{\"value\":\"#1f77b4\"},\"height\":{\"value\":0.7},\"left\":{\"field\":\"left\"},\"line_alpha\":{\"value\":0.1},\"line_color\":{\"value\":\"#1f77b4\"},\"line_width\":{\"value\":0.5},\"right\":{\"field\":\"right\"},\"y\":{\"field\":\"y\"}},\"id\":\"31327\",\"type\":\"HBar\"},{\"attributes\":{\"data_source\":{\"id\":\"31330\",\"type\":\"ColumnDataSource\"},\"glyph\":{\"id\":\"31331\",\"type\":\"HBar\"},\"hover_glyph\":null,\"muted_glyph\":null,\"nonselection_glyph\":{\"id\":\"31332\",\"type\":\"HBar\"},\"selection_glyph\":null,\"view\":{\"id\":\"31334\",\"type\":\"CDSView\"}},\"id\":\"31333\",\"type\":\"GlyphRenderer\"},{\"attributes\":{\"data_source\":{\"id\":\"31315\",\"type\":\"ColumnDataSource\"},\"glyph\":{\"id\":\"31316\",\"type\":\"HBar\"},\"hover_glyph\":null,\"muted_glyph\":null,\"nonselection_glyph\":{\"id\":\"31317\",\"type\":\"HBar\"},\"selection_glyph\":null,\"view\":{\"id\":\"31319\",\"type\":\"CDSView\"}},\"id\":\"31318\",\"type\":\"GlyphRenderer\"},{\"attributes\":{\"source\":{\"id\":\"31330\",\"type\":\"ColumnDataSource\"}},\"id\":\"31334\",\"type\":\"CDSView\"},{\"attributes\":{\"plot\":{\"id\":\"31282\",\"subtype\":\"Figure\",\"type\":\"Plot\"},\"ticker\":{\"id\":\"31292\",\"type\":\"BasicTicker\"}},\"id\":\"31295\",\"type\":\"Grid\"},{\"attributes\":{\"callback\":null,\"data\":{\"left\":{\"__ndarray__\":\"Od0DHIvw7z9yGF6+x8/vP+D3writtu8/535R/tZm7z9P7MRO7MTuP0/sxE7sxO4/\",\"dtype\":\"float64\",\"shape\":[6]},\"right\":{\"__ndarray__\":\"AAAAAAAA8D8AAAAAAADwPwAAAAAAAPA/AAAAAAAA8D8AAAAAAADwPwAAAAAAAPA/\",\"dtype\":\"float64\",\"shape\":[6]},\"y\":[\"15\",\"25\",\"35\",\"45\",\"55\",\"75\"]},\"selected\":{\"id\":\"32034\",\"type\":\"Selection\"},\"selection_policy\":{\"id\":\"32035\",\"type\":\"UnionRenderers\"}},\"id\":\"31330\",\"type\":\"ColumnDataSource\"},{\"attributes\":{\"plot\":null,\"text\":\"\",\"text_font_size\":{\"value\":\"16pt\"}},\"id\":\"32023\",\"type\":\"Title\"},{\"attributes\":{},\"id\":\"31289\",\"type\":\"CategoricalScale\"},{\"attributes\":{},\"id\":\"31287\",\"type\":\"LinearScale\"},{\"attributes\":{},\"id\":\"31300\",\"type\":\"PanTool\"},{\"attributes\":{},\"id\":\"32032\",\"type\":\"Selection\"},{\"attributes\":{},\"id\":\"31304\",\"type\":\"ResetTool\"},{\"attributes\":{\"fill_alpha\":{\"value\":0.3},\"fill_color\":{\"value\":\"#1f77b4\"},\"height\":{\"value\":0.7},\"left\":{\"field\":\"left\"},\"line_width\":{\"value\":0.5},\"right\":{\"field\":\"right\"},\"y\":{\"field\":\"y\"}},\"id\":\"31316\",\"type\":\"HBar\"},{\"attributes\":{},\"id\":\"32028\",\"type\":\"Selection\"},{\"attributes\":{\"callback\":null,\"data\":{\"left\":{\"__ndarray__\":\"dQ9wLMI/7j86ViVp7FztP/5+bRGzi+w/Azh9KGW26j8kHwS5VGnmP4qd2Imd2Ok/\",\"dtype\":\"float64\",\"shape\":[6]},\"right\":{\"__ndarray__\":\"jwwbxM2T7z9M+B31iL7uP9MttBtnVe4/eknY6Giv7D81A1debiHpP4qd2Imd2Ok/\",\"dtype\":\"float64\",\"shape\":[6]},\"y\":[\"15\",\"25\",\"35\",\"45\",\"55\",\"75\"]},\"selected\":{\"id\":\"32030\",\"type\":\"Selection\"},\"selection_policy\":{\"id\":\"32031\",\"type\":\"UnionRenderers\"}},\"id\":\"31320\",\"type\":\"ColumnDataSource\"},{\"attributes\":{\"overlay\":{\"id\":\"31308\",\"type\":\"BoxAnnotation\"}},\"id\":\"31302\",\"type\":\"BoxZoomTool\"},{\"attributes\":{},\"id\":\"31301\",\"type\":\"WheelZoomTool\"},{\"attributes\":{\"data_source\":{\"id\":\"31320\",\"type\":\"ColumnDataSource\"},\"glyph\":{\"id\":\"31321\",\"type\":\"HBar\"},\"hover_glyph\":null,\"muted_glyph\":null,\"nonselection_glyph\":{\"id\":\"31322\",\"type\":\"HBar\"},\"selection_glyph\":null,\"view\":{\"id\":\"31324\",\"type\":\"CDSView\"}},\"id\":\"31323\",\"type\":\"GlyphRenderer\"},{\"attributes\":{\"fill_alpha\":{\"value\":0.1},\"fill_color\":{\"value\":\"#1f77b4\"},\"height\":{\"value\":0.7},\"left\":{\"field\":\"left\"},\"line_alpha\":{\"value\":0.1},\"line_color\":{\"value\":\"#1f77b4\"},\"line_width\":{\"value\":0.5},\"right\":{\"field\":\"right\"},\"y\":{\"field\":\"y\"}},\"id\":\"31332\",\"type\":\"HBar\"},{\"attributes\":{\"callback\":null,\"data\":{\"left\":{\"__ndarray__\":\"AAAAAAAAAAAAAAAAAAAAAAAAAAAAAAAAAAAAAAAAAAAAAAAAAAAAAAAAAAAAAAAA\",\"dtype\":\"float64\",\"shape\":[6]},\"right\":{\"__ndarray__\":\"dQ9wLMI/7j86ViVp7FztP/5+bRGzi+w/Azh9KGW26j8kHwS5VGnmP4qd2Imd2Ok/\",\"dtype\":\"float64\",\"shape\":[6]},\"y\":[\"15\",\"25\",\"35\",\"45\",\"55\",\"75\"]},\"selected\":{\"id\":\"32028\",\"type\":\"Selection\"},\"selection_policy\":{\"id\":\"32029\",\"type\":\"UnionRenderers\"}},\"id\":\"31315\",\"type\":\"ColumnDataSource\"},{\"attributes\":{\"bottom_units\":\"screen\",\"fill_alpha\":{\"value\":0.5},\"fill_color\":{\"value\":\"lightgrey\"},\"left_units\":\"screen\",\"level\":\"overlay\",\"line_alpha\":{\"value\":1.0},\"line_color\":{\"value\":\"black\"},\"line_dash\":[4,4],\"line_width\":{\"value\":2},\"plot\":null,\"render_mode\":\"css\",\"right_units\":\"screen\",\"top_units\":\"screen\"},\"id\":\"31308\",\"type\":\"BoxAnnotation\"},{\"attributes\":{\"callback\":null},\"id\":\"31283\",\"type\":\"DataRange1d\"},{\"attributes\":{},\"id\":\"31303\",\"type\":\"SaveTool\"},{\"attributes\":{\"axis_label\":\"Speed Limit (MPH)\",\"axis_label_text_font_size\":{\"value\":\"16pt\"},\"formatter\":{\"id\":\"32027\",\"type\":\"CategoricalTickFormatter\"},\"major_label_text_font_size\":{\"value\":\"16pt\"},\"plot\":{\"id\":\"31282\",\"subtype\":\"Figure\",\"type\":\"Plot\"},\"ticker\":{\"id\":\"31297\",\"type\":\"CategoricalTicker\"}},\"id\":\"31296\",\"type\":\"CategoricalAxis\"},{\"attributes\":{\"callback\":null,\"factors\":[\"15\",\"25\",\"35\",\"45\",\"55\",\"75\"]},\"id\":\"31285\",\"type\":\"FactorRange\"},{\"attributes\":{},\"id\":\"32034\",\"type\":\"Selection\"},{\"attributes\":{},\"id\":\"31292\",\"type\":\"BasicTicker\"},{\"attributes\":{\"callback\":null,\"data\":{\"left\":{\"__ndarray__\":\"jwwbxM2T7z9M+B31iL7uP9MttBtnVe4/eknY6Giv7D81A1debiHpP4qd2Imd2Ok/\",\"dtype\":\"float64\",\"shape\":[6]},\"right\":{\"__ndarray__\":\"Od0DHIvw7z9yGF6+x8/vP+D3writtu8/535R/tZm7z9P7MRO7MTuP0/sxE7sxO4/\",\"dtype\":\"float64\",\"shape\":[6]},\"y\":[\"15\",\"25\",\"35\",\"45\",\"55\",\"75\"]},\"selected\":{\"id\":\"32032\",\"type\":\"Selection\"},\"selection_policy\":{\"id\":\"32033\",\"type\":\"UnionRenderers\"}},\"id\":\"31325\",\"type\":\"ColumnDataSource\"},{\"attributes\":{\"fill_alpha\":{\"value\":0.7},\"fill_color\":{\"value\":\"#1f77b4\"},\"height\":{\"value\":0.7},\"left\":{\"field\":\"left\"},\"line_width\":{\"value\":0.5},\"right\":{\"field\":\"right\"},\"y\":{\"field\":\"y\"}},\"id\":\"31321\",\"type\":\"HBar\"}],\"root_ids\":[\"31282\"]},\"title\":\"Bokeh Application\",\"version\":\"1.0.2\"}};\n",
       "  var render_items = [{\"docid\":\"77ff4fef-9734-42f8-8322-22ed58072d36\",\"roots\":{\"31282\":\"b6bbed16-4a3d-4549-b7e6-2797152a81ff\"}}];\n",
       "  root.Bokeh.embed.embed_items_notebook(docs_json, render_items);\n",
       "\n",
       "  }\n",
       "  if (root.Bokeh !== undefined) {\n",
       "    embed_document(root);\n",
       "  } else {\n",
       "    var attempts = 0;\n",
       "    var timer = setInterval(function(root) {\n",
       "      if (root.Bokeh !== undefined) {\n",
       "        embed_document(root);\n",
       "        clearInterval(timer);\n",
       "      }\n",
       "      attempts++;\n",
       "      if (attempts > 100) {\n",
       "        console.log(\"Bokeh: ERROR: Unable to run BokehJS code because BokehJS library is missing\");\n",
       "        clearInterval(timer);\n",
       "      }\n",
       "    }, 10, root)\n",
       "  }\n",
       "})(window);"
      ],
      "application/vnd.bokehjs_exec.v0+json": ""
     },
     "metadata": {
      "application/vnd.bokehjs_exec.v0+json": {
       "id": "31282"
      }
     },
     "output_type": "display_data"
    },
    {
     "data": {
      "text/html": [
       "\n",
       "\n",
       "\n",
       "\n",
       "\n",
       "\n",
       "  <div class=\"bk-root\" id=\"c53d8257-eb5f-4849-b60e-1ff2bab7da6b\"></div>\n"
      ]
     },
     "metadata": {},
     "output_type": "display_data"
    },
    {
     "data": {
      "application/javascript": [
       "(function(root) {\n",
       "  function embed_document(root) {\n",
       "    \n",
       "  var docs_json = {\"2fbf8eef-cdcf-466d-969f-034f7d1b58b2\":{\"roots\":{\"references\":[{\"attributes\":{\"below\":[{\"id\":\"32136\",\"type\":\"LinearAxis\"}],\"left\":[{\"id\":\"32141\",\"type\":\"CategoricalAxis\"}],\"plot_height\":250,\"renderers\":[{\"id\":\"32136\",\"type\":\"LinearAxis\"},{\"id\":\"32140\",\"type\":\"Grid\"},{\"id\":\"32141\",\"type\":\"CategoricalAxis\"},{\"id\":\"32144\",\"type\":\"Grid\"},{\"id\":\"32153\",\"type\":\"BoxAnnotation\"},{\"id\":\"32163\",\"type\":\"GlyphRenderer\"},{\"id\":\"32168\",\"type\":\"GlyphRenderer\"},{\"id\":\"32173\",\"type\":\"GlyphRenderer\"},{\"id\":\"32178\",\"type\":\"GlyphRenderer\"}],\"title\":{\"id\":\"32883\",\"type\":\"Title\"},\"toolbar\":{\"id\":\"32151\",\"type\":\"Toolbar\"},\"x_range\":{\"id\":\"32128\",\"type\":\"DataRange1d\"},\"x_scale\":{\"id\":\"32132\",\"type\":\"LinearScale\"},\"y_range\":{\"id\":\"32130\",\"type\":\"FactorRange\"},\"y_scale\":{\"id\":\"32134\",\"type\":\"CategoricalScale\"}},\"id\":\"32127\",\"subtype\":\"Figure\",\"type\":\"Plot\"},{\"attributes\":{\"data_source\":{\"id\":\"32175\",\"type\":\"ColumnDataSource\"},\"glyph\":{\"id\":\"32176\",\"type\":\"HBar\"},\"hover_glyph\":null,\"muted_glyph\":null,\"nonselection_glyph\":{\"id\":\"32177\",\"type\":\"HBar\"},\"selection_glyph\":null,\"view\":{\"id\":\"32179\",\"type\":\"CDSView\"}},\"id\":\"32178\",\"type\":\"GlyphRenderer\"},{\"attributes\":{\"fill_alpha\":{\"value\":0.1},\"fill_color\":{\"value\":\"#1f77b4\"},\"height\":{\"value\":0.7},\"left\":{\"field\":\"left\"},\"line_alpha\":{\"value\":0.1},\"line_color\":{\"value\":\"#1f77b4\"},\"line_width\":{\"value\":0.5},\"right\":{\"field\":\"right\"},\"y\":{\"field\":\"y\"}},\"id\":\"32172\",\"type\":\"HBar\"},{\"attributes\":{},\"id\":\"32889\",\"type\":\"UnionRenderers\"},{\"attributes\":{\"callback\":null,\"data\":{\"left\":{\"__ndarray__\":\"AAAAAAAAAAAAAAAAAAAAAAAAAAAAAAAA\",\"dtype\":\"float64\",\"shape\":[3]},\"right\":{\"__ndarray__\":\"w+i0Su/a7D9nKdMteV7rPwAAAAAAAPA/\",\"dtype\":\"float64\",\"shape\":[3]},\"y\":[\"Female\",\"Male\",\"Unknown\"]},\"selected\":{\"id\":\"32888\",\"type\":\"Selection\"},\"selection_policy\":{\"id\":\"32889\",\"type\":\"UnionRenderers\"}},\"id\":\"32160\",\"type\":\"ColumnDataSource\"},{\"attributes\":{\"active_drag\":\"auto\",\"active_inspect\":\"auto\",\"active_multi\":null,\"active_scroll\":\"auto\",\"active_tap\":\"auto\",\"tools\":[{\"id\":\"32145\",\"type\":\"PanTool\"},{\"id\":\"32146\",\"type\":\"WheelZoomTool\"},{\"id\":\"32147\",\"type\":\"BoxZoomTool\"},{\"id\":\"32148\",\"type\":\"SaveTool\"},{\"id\":\"32149\",\"type\":\"ResetTool\"},{\"id\":\"32150\",\"type\":\"HelpTool\"}]},\"id\":\"32151\",\"type\":\"Toolbar\"},{\"attributes\":{\"source\":{\"id\":\"32175\",\"type\":\"ColumnDataSource\"}},\"id\":\"32179\",\"type\":\"CDSView\"},{\"attributes\":{},\"id\":\"32894\",\"type\":\"Selection\"},{\"attributes\":{\"fill_alpha\":{\"value\":0.1},\"fill_color\":{\"value\":\"#1f77b4\"},\"height\":{\"value\":0.7},\"left\":{\"field\":\"left\"},\"line_alpha\":{\"value\":0.1},\"line_color\":{\"value\":\"#1f77b4\"},\"line_width\":{\"value\":0.5},\"right\":{\"field\":\"right\"},\"y\":{\"field\":\"y\"}},\"id\":\"32167\",\"type\":\"HBar\"},{\"attributes\":{},\"id\":\"32888\",\"type\":\"Selection\"},{\"attributes\":{},\"id\":\"32150\",\"type\":\"HelpTool\"},{\"attributes\":{},\"id\":\"32142\",\"type\":\"CategoricalTicker\"},{\"attributes\":{\"overlay\":{\"id\":\"32153\",\"type\":\"BoxAnnotation\"}},\"id\":\"32147\",\"type\":\"BoxZoomTool\"},{\"attributes\":{\"callback\":null,\"data\":{\"left\":{\"__ndarray__\":\"J8eH6UC27z9clCuTEobvPwAAAAAAAPA/\",\"dtype\":\"float64\",\"shape\":[3]},\"right\":{\"__ndarray__\":\"AAAAAAAA8D8AAAAAAADwPwAAAAAAAPA/\",\"dtype\":\"float64\",\"shape\":[3]},\"y\":[\"Female\",\"Male\",\"Unknown\"]},\"selected\":{\"id\":\"32894\",\"type\":\"Selection\"},\"selection_policy\":{\"id\":\"32895\",\"type\":\"UnionRenderers\"}},\"id\":\"32175\",\"type\":\"ColumnDataSource\"},{\"attributes\":{\"bottom_units\":\"screen\",\"fill_alpha\":{\"value\":0.5},\"fill_color\":{\"value\":\"lightgrey\"},\"left_units\":\"screen\",\"level\":\"overlay\",\"line_alpha\":{\"value\":1.0},\"line_color\":{\"value\":\"black\"},\"line_dash\":[4,4],\"line_width\":{\"value\":2},\"plot\":null,\"render_mode\":\"css\",\"right_units\":\"screen\",\"top_units\":\"screen\"},\"id\":\"32153\",\"type\":\"BoxAnnotation\"},{\"attributes\":{\"callback\":null,\"data\":{\"left\":{\"__ndarray__\":\"w+i0Su/a7D9nKdMteV7rPwAAAAAAAPA/\",\"dtype\":\"float64\",\"shape\":[3]},\"right\":{\"__ndarray__\":\"Kd9eCuKr7T/Us1LtwGXtPwAAAAAAAPA/\",\"dtype\":\"float64\",\"shape\":[3]},\"y\":[\"Female\",\"Male\",\"Unknown\"]},\"selected\":{\"id\":\"32890\",\"type\":\"Selection\"},\"selection_policy\":{\"id\":\"32891\",\"type\":\"UnionRenderers\"}},\"id\":\"32165\",\"type\":\"ColumnDataSource\"},{\"attributes\":{\"fill_alpha\":{\"value\":0.1},\"fill_color\":{\"value\":\"#1f77b4\"},\"height\":{\"value\":0.7},\"left\":{\"field\":\"left\"},\"line_alpha\":{\"value\":0.1},\"line_color\":{\"value\":\"#1f77b4\"},\"line_width\":{\"value\":0.5},\"right\":{\"field\":\"right\"},\"y\":{\"field\":\"y\"}},\"id\":\"32162\",\"type\":\"HBar\"},{\"attributes\":{\"dimension\":1,\"plot\":{\"id\":\"32127\",\"subtype\":\"Figure\",\"type\":\"Plot\"},\"ticker\":{\"id\":\"32142\",\"type\":\"CategoricalTicker\"}},\"id\":\"32144\",\"type\":\"Grid\"},{\"attributes\":{\"fill_alpha\":{\"value\":0.7},\"fill_color\":{\"value\":\"#1f77b4\"},\"height\":{\"value\":0.7},\"left\":{\"field\":\"left\"},\"line_width\":{\"value\":0.5},\"right\":{\"field\":\"right\"},\"y\":{\"field\":\"y\"}},\"id\":\"32166\",\"type\":\"HBar\"},{\"attributes\":{\"plot\":{\"id\":\"32127\",\"subtype\":\"Figure\",\"type\":\"Plot\"},\"ticker\":{\"id\":\"32137\",\"type\":\"BasicTicker\"}},\"id\":\"32140\",\"type\":\"Grid\"},{\"attributes\":{\"callback\":null,\"data\":{\"left\":{\"__ndarray__\":\"Kd9eCuKr7T/Us1LtwGXtPwAAAAAAAPA/\",\"dtype\":\"float64\",\"shape\":[3]},\"right\":{\"__ndarray__\":\"J8eH6UC27z9clCuTEobvPwAAAAAAAPA/\",\"dtype\":\"float64\",\"shape\":[3]},\"y\":[\"Female\",\"Male\",\"Unknown\"]},\"selected\":{\"id\":\"32892\",\"type\":\"Selection\"},\"selection_policy\":{\"id\":\"32893\",\"type\":\"UnionRenderers\"}},\"id\":\"32170\",\"type\":\"ColumnDataSource\"},{\"attributes\":{\"source\":{\"id\":\"32170\",\"type\":\"ColumnDataSource\"}},\"id\":\"32174\",\"type\":\"CDSView\"},{\"attributes\":{\"plot\":null,\"text\":\"\",\"text_font_size\":{\"value\":\"16pt\"}},\"id\":\"32883\",\"type\":\"Title\"},{\"attributes\":{},\"id\":\"32885\",\"type\":\"BasicTickFormatter\"},{\"attributes\":{\"fill_alpha\":{\"value\":0.7},\"fill_color\":{\"value\":\"#ff7f0e\"},\"height\":{\"value\":0.7},\"left\":{\"field\":\"left\"},\"line_width\":{\"value\":0.5},\"right\":{\"field\":\"right\"},\"y\":{\"field\":\"y\"}},\"id\":\"32176\",\"type\":\"HBar\"},{\"attributes\":{},\"id\":\"32891\",\"type\":\"UnionRenderers\"},{\"attributes\":{\"axis_label\":\"Speed Limit (MPH)\",\"axis_label_text_font_size\":{\"value\":\"16pt\"},\"formatter\":{\"id\":\"32887\",\"type\":\"CategoricalTickFormatter\"},\"major_label_text_font_size\":{\"value\":\"16pt\"},\"plot\":{\"id\":\"32127\",\"subtype\":\"Figure\",\"type\":\"Plot\"},\"ticker\":{\"id\":\"32142\",\"type\":\"CategoricalTicker\"}},\"id\":\"32141\",\"type\":\"CategoricalAxis\"},{\"attributes\":{},\"id\":\"32149\",\"type\":\"ResetTool\"},{\"attributes\":{\"source\":{\"id\":\"32165\",\"type\":\"ColumnDataSource\"}},\"id\":\"32169\",\"type\":\"CDSView\"},{\"attributes\":{},\"id\":\"32895\",\"type\":\"UnionRenderers\"},{\"attributes\":{},\"id\":\"32892\",\"type\":\"Selection\"},{\"attributes\":{},\"id\":\"32146\",\"type\":\"WheelZoomTool\"},{\"attributes\":{\"fill_alpha\":{\"value\":0.3},\"fill_color\":{\"value\":\"#ff7f0e\"},\"height\":{\"value\":0.7},\"left\":{\"field\":\"left\"},\"line_width\":{\"value\":0.5},\"right\":{\"field\":\"right\"},\"y\":{\"field\":\"y\"}},\"id\":\"32171\",\"type\":\"HBar\"},{\"attributes\":{\"data_source\":{\"id\":\"32160\",\"type\":\"ColumnDataSource\"},\"glyph\":{\"id\":\"32161\",\"type\":\"HBar\"},\"hover_glyph\":null,\"muted_glyph\":null,\"nonselection_glyph\":{\"id\":\"32162\",\"type\":\"HBar\"},\"selection_glyph\":null,\"view\":{\"id\":\"32164\",\"type\":\"CDSView\"}},\"id\":\"32163\",\"type\":\"GlyphRenderer\"},{\"attributes\":{},\"id\":\"32145\",\"type\":\"PanTool\"},{\"attributes\":{\"data_source\":{\"id\":\"32170\",\"type\":\"ColumnDataSource\"},\"glyph\":{\"id\":\"32171\",\"type\":\"HBar\"},\"hover_glyph\":null,\"muted_glyph\":null,\"nonselection_glyph\":{\"id\":\"32172\",\"type\":\"HBar\"},\"selection_glyph\":null,\"view\":{\"id\":\"32174\",\"type\":\"CDSView\"}},\"id\":\"32173\",\"type\":\"GlyphRenderer\"},{\"attributes\":{\"fill_alpha\":{\"value\":0.1},\"fill_color\":{\"value\":\"#1f77b4\"},\"height\":{\"value\":0.7},\"left\":{\"field\":\"left\"},\"line_alpha\":{\"value\":0.1},\"line_color\":{\"value\":\"#1f77b4\"},\"line_width\":{\"value\":0.5},\"right\":{\"field\":\"right\"},\"y\":{\"field\":\"y\"}},\"id\":\"32177\",\"type\":\"HBar\"},{\"attributes\":{},\"id\":\"32132\",\"type\":\"LinearScale\"},{\"attributes\":{},\"id\":\"32148\",\"type\":\"SaveTool\"},{\"attributes\":{},\"id\":\"32887\",\"type\":\"CategoricalTickFormatter\"},{\"attributes\":{},\"id\":\"32134\",\"type\":\"CategoricalScale\"},{\"attributes\":{},\"id\":\"32890\",\"type\":\"Selection\"},{\"attributes\":{\"callback\":null,\"factors\":[\"Female\",\"Male\",\"Unknown\"]},\"id\":\"32130\",\"type\":\"FactorRange\"},{\"attributes\":{\"source\":{\"id\":\"32160\",\"type\":\"ColumnDataSource\"}},\"id\":\"32164\",\"type\":\"CDSView\"},{\"attributes\":{\"callback\":null},\"id\":\"32128\",\"type\":\"DataRange1d\"},{\"attributes\":{},\"id\":\"32893\",\"type\":\"UnionRenderers\"},{\"attributes\":{\"fill_alpha\":{\"value\":0.3},\"fill_color\":{\"value\":\"#1f77b4\"},\"height\":{\"value\":0.7},\"left\":{\"field\":\"left\"},\"line_width\":{\"value\":0.5},\"right\":{\"field\":\"right\"},\"y\":{\"field\":\"y\"}},\"id\":\"32161\",\"type\":\"HBar\"},{\"attributes\":{\"axis_label\":\"Fraction\",\"axis_label_text_font_size\":{\"value\":\"16pt\"},\"formatter\":{\"id\":\"32885\",\"type\":\"BasicTickFormatter\"},\"major_label_text_font_size\":{\"value\":\"16pt\"},\"plot\":{\"id\":\"32127\",\"subtype\":\"Figure\",\"type\":\"Plot\"},\"ticker\":{\"id\":\"32137\",\"type\":\"BasicTicker\"}},\"id\":\"32136\",\"type\":\"LinearAxis\"},{\"attributes\":{},\"id\":\"32137\",\"type\":\"BasicTicker\"},{\"attributes\":{\"data_source\":{\"id\":\"32165\",\"type\":\"ColumnDataSource\"},\"glyph\":{\"id\":\"32166\",\"type\":\"HBar\"},\"hover_glyph\":null,\"muted_glyph\":null,\"nonselection_glyph\":{\"id\":\"32167\",\"type\":\"HBar\"},\"selection_glyph\":null,\"view\":{\"id\":\"32169\",\"type\":\"CDSView\"}},\"id\":\"32168\",\"type\":\"GlyphRenderer\"}],\"root_ids\":[\"32127\"]},\"title\":\"Bokeh Application\",\"version\":\"1.0.2\"}};\n",
       "  var render_items = [{\"docid\":\"2fbf8eef-cdcf-466d-969f-034f7d1b58b2\",\"roots\":{\"32127\":\"c53d8257-eb5f-4849-b60e-1ff2bab7da6b\"}}];\n",
       "  root.Bokeh.embed.embed_items_notebook(docs_json, render_items);\n",
       "\n",
       "  }\n",
       "  if (root.Bokeh !== undefined) {\n",
       "    embed_document(root);\n",
       "  } else {\n",
       "    var attempts = 0;\n",
       "    var timer = setInterval(function(root) {\n",
       "      if (root.Bokeh !== undefined) {\n",
       "        embed_document(root);\n",
       "        clearInterval(timer);\n",
       "      }\n",
       "      attempts++;\n",
       "      if (attempts > 100) {\n",
       "        console.log(\"Bokeh: ERROR: Unable to run BokehJS code because BokehJS library is missing\");\n",
       "        clearInterval(timer);\n",
       "      }\n",
       "    }, 10, root)\n",
       "  }\n",
       "})(window);"
      ],
      "application/vnd.bokehjs_exec.v0+json": ""
     },
     "metadata": {
      "application/vnd.bokehjs_exec.v0+json": {
       "id": "32127"
      }
     },
     "output_type": "display_data"
    },
    {
     "data": {
      "text/html": [
       "\n",
       "\n",
       "\n",
       "\n",
       "\n",
       "\n",
       "  <div class=\"bk-root\" id=\"74fbd9d3-fc60-4946-9c70-d430916c811e\"></div>\n"
      ]
     },
     "metadata": {},
     "output_type": "display_data"
    },
    {
     "data": {
      "application/javascript": [
       "(function(root) {\n",
       "  function embed_document(root) {\n",
       "    \n",
       "  var docs_json = {\"ee18501b-d082-4778-a41f-c70c39e1165f\":{\"roots\":{\"references\":[{\"attributes\":{\"below\":[{\"id\":\"32996\",\"type\":\"LinearAxis\"}],\"left\":[{\"id\":\"33001\",\"type\":\"CategoricalAxis\"}],\"plot_height\":200,\"renderers\":[{\"id\":\"32996\",\"type\":\"LinearAxis\"},{\"id\":\"33000\",\"type\":\"Grid\"},{\"id\":\"33001\",\"type\":\"CategoricalAxis\"},{\"id\":\"33004\",\"type\":\"Grid\"},{\"id\":\"33013\",\"type\":\"BoxAnnotation\"},{\"id\":\"33023\",\"type\":\"GlyphRenderer\"},{\"id\":\"33028\",\"type\":\"GlyphRenderer\"},{\"id\":\"33033\",\"type\":\"GlyphRenderer\"},{\"id\":\"33038\",\"type\":\"GlyphRenderer\"}],\"title\":{\"id\":\"33758\",\"type\":\"Title\"},\"toolbar\":{\"id\":\"33011\",\"type\":\"Toolbar\"},\"x_range\":{\"id\":\"32988\",\"type\":\"DataRange1d\"},\"x_scale\":{\"id\":\"32992\",\"type\":\"LinearScale\"},\"y_range\":{\"id\":\"32990\",\"type\":\"FactorRange\"},\"y_scale\":{\"id\":\"32994\",\"type\":\"CategoricalScale\"}},\"id\":\"32987\",\"subtype\":\"Figure\",\"type\":\"Plot\"},{\"attributes\":{\"fill_alpha\":{\"value\":0.1},\"fill_color\":{\"value\":\"#1f77b4\"},\"height\":{\"value\":0.7},\"left\":{\"field\":\"left\"},\"line_alpha\":{\"value\":0.1},\"line_color\":{\"value\":\"#1f77b4\"},\"line_width\":{\"value\":0.5},\"right\":{\"field\":\"right\"},\"y\":{\"field\":\"y\"}},\"id\":\"33022\",\"type\":\"HBar\"},{\"attributes\":{\"callback\":null,\"data\":{\"left\":{\"__ndarray__\":\"AAAAAAAA8D8ZyzKUWdHvP8/zPM/zPO8/uFRMb6mY7j8=\",\"dtype\":\"float64\",\"shape\":[4]},\"right\":{\"__ndarray__\":\"AAAAAAAA8D8AAAAAAADwPwAAAAAAAPA/AAAAAAAA8D8=\",\"dtype\":\"float64\",\"shape\":[4]},\"y\":[\"Dawn\",\"Dayl\",\"Dusk\",\"Dark\"]},\"selected\":{\"id\":\"33769\",\"type\":\"Selection\"},\"selection_policy\":{\"id\":\"33770\",\"type\":\"UnionRenderers\"}},\"id\":\"33035\",\"type\":\"ColumnDataSource\"},{\"attributes\":{\"data_source\":{\"id\":\"33020\",\"type\":\"ColumnDataSource\"},\"glyph\":{\"id\":\"33021\",\"type\":\"HBar\"},\"hover_glyph\":null,\"muted_glyph\":null,\"nonselection_glyph\":{\"id\":\"33022\",\"type\":\"HBar\"},\"selection_glyph\":null,\"view\":{\"id\":\"33024\",\"type\":\"CDSView\"}},\"id\":\"33023\",\"type\":\"GlyphRenderer\"},{\"attributes\":{},\"id\":\"32994\",\"type\":\"CategoricalScale\"},{\"attributes\":{\"dimension\":1,\"plot\":{\"id\":\"32987\",\"subtype\":\"Figure\",\"type\":\"Plot\"},\"ticker\":{\"id\":\"33002\",\"type\":\"CategoricalTicker\"}},\"id\":\"33004\",\"type\":\"Grid\"},{\"attributes\":{\"data_source\":{\"id\":\"33035\",\"type\":\"ColumnDataSource\"},\"glyph\":{\"id\":\"33036\",\"type\":\"HBar\"},\"hover_glyph\":null,\"muted_glyph\":null,\"nonselection_glyph\":{\"id\":\"33037\",\"type\":\"HBar\"},\"selection_glyph\":null,\"view\":{\"id\":\"33039\",\"type\":\"CDSView\"}},\"id\":\"33038\",\"type\":\"GlyphRenderer\"},{\"attributes\":{\"source\":{\"id\":\"33020\",\"type\":\"ColumnDataSource\"}},\"id\":\"33024\",\"type\":\"CDSView\"},{\"attributes\":{\"fill_alpha\":{\"value\":0.7},\"fill_color\":{\"value\":\"#ff7f0e\"},\"height\":{\"value\":0.7},\"left\":{\"field\":\"left\"},\"line_width\":{\"value\":0.5},\"right\":{\"field\":\"right\"},\"y\":{\"field\":\"y\"}},\"id\":\"33036\",\"type\":\"HBar\"},{\"attributes\":{\"fill_alpha\":{\"value\":0.1},\"fill_color\":{\"value\":\"#1f77b4\"},\"height\":{\"value\":0.7},\"left\":{\"field\":\"left\"},\"line_alpha\":{\"value\":0.1},\"line_color\":{\"value\":\"#1f77b4\"},\"line_width\":{\"value\":0.5},\"right\":{\"field\":\"right\"},\"y\":{\"field\":\"y\"}},\"id\":\"33037\",\"type\":\"HBar\"},{\"attributes\":{},\"id\":\"33002\",\"type\":\"CategoricalTicker\"},{\"attributes\":{},\"id\":\"33006\",\"type\":\"WheelZoomTool\"},{\"attributes\":{\"fill_alpha\":{\"value\":0.1},\"fill_color\":{\"value\":\"#1f77b4\"},\"height\":{\"value\":0.7},\"left\":{\"field\":\"left\"},\"line_alpha\":{\"value\":0.1},\"line_color\":{\"value\":\"#1f77b4\"},\"line_width\":{\"value\":0.5},\"right\":{\"field\":\"right\"},\"y\":{\"field\":\"y\"}},\"id\":\"33032\",\"type\":\"HBar\"},{\"attributes\":{},\"id\":\"32992\",\"type\":\"LinearScale\"},{\"attributes\":{\"source\":{\"id\":\"33035\",\"type\":\"ColumnDataSource\"}},\"id\":\"33039\",\"type\":\"CDSView\"},{\"attributes\":{},\"id\":\"33005\",\"type\":\"PanTool\"},{\"attributes\":{\"active_drag\":\"auto\",\"active_inspect\":\"auto\",\"active_multi\":null,\"active_scroll\":\"auto\",\"active_tap\":\"auto\",\"tools\":[{\"id\":\"33005\",\"type\":\"PanTool\"},{\"id\":\"33006\",\"type\":\"WheelZoomTool\"},{\"id\":\"33007\",\"type\":\"BoxZoomTool\"},{\"id\":\"33008\",\"type\":\"SaveTool\"},{\"id\":\"33009\",\"type\":\"ResetTool\"},{\"id\":\"33010\",\"type\":\"HelpTool\"}]},\"id\":\"33011\",\"type\":\"Toolbar\"},{\"attributes\":{\"callback\":null,\"data\":{\"left\":{\"__ndarray__\":\"AAAAAAAAAAAAAAAAAAAAAAAAAAAAAAAAAAAAAAAAAAA=\",\"dtype\":\"float64\",\"shape\":[4]},\"right\":{\"__ndarray__\":\"IXf9bLEy7D/X1Zp8UO7sP82OWoT8Nes/XkVYu4qw5j8=\",\"dtype\":\"float64\",\"shape\":[4]},\"y\":[\"Dawn\",\"Dayl\",\"Dusk\",\"Dark\"]},\"selected\":{\"id\":\"33763\",\"type\":\"Selection\"},\"selection_policy\":{\"id\":\"33764\",\"type\":\"UnionRenderers\"}},\"id\":\"33020\",\"type\":\"ColumnDataSource\"},{\"attributes\":{\"fill_alpha\":{\"value\":0.3},\"fill_color\":{\"value\":\"#ff7f0e\"},\"height\":{\"value\":0.7},\"left\":{\"field\":\"left\"},\"line_width\":{\"value\":0.5},\"right\":{\"field\":\"right\"},\"y\":{\"field\":\"y\"}},\"id\":\"33031\",\"type\":\"HBar\"},{\"attributes\":{},\"id\":\"33762\",\"type\":\"CategoricalTickFormatter\"},{\"attributes\":{\"callback\":null,\"data\":{\"left\":{\"__ndarray__\":\"waRT8yB37T+KluxZWPHtPzY7ahHy1+w/11jXrbGu6z8=\",\"dtype\":\"float64\",\"shape\":[4]},\"right\":{\"__ndarray__\":\"AAAAAAAA8D8ZyzKUWdHvP8/zPM/zPO8/uFRMb6mY7j8=\",\"dtype\":\"float64\",\"shape\":[4]},\"y\":[\"Dawn\",\"Dayl\",\"Dusk\",\"Dark\"]},\"selected\":{\"id\":\"33767\",\"type\":\"Selection\"},\"selection_policy\":{\"id\":\"33768\",\"type\":\"UnionRenderers\"}},\"id\":\"33030\",\"type\":\"ColumnDataSource\"},{\"attributes\":{\"data_source\":{\"id\":\"33030\",\"type\":\"ColumnDataSource\"},\"glyph\":{\"id\":\"33031\",\"type\":\"HBar\"},\"hover_glyph\":null,\"muted_glyph\":null,\"nonselection_glyph\":{\"id\":\"33032\",\"type\":\"HBar\"},\"selection_glyph\":null,\"view\":{\"id\":\"33034\",\"type\":\"CDSView\"}},\"id\":\"33033\",\"type\":\"GlyphRenderer\"},{\"attributes\":{},\"id\":\"33763\",\"type\":\"Selection\"},{\"attributes\":{},\"id\":\"33764\",\"type\":\"UnionRenderers\"},{\"attributes\":{\"source\":{\"id\":\"33030\",\"type\":\"ColumnDataSource\"}},\"id\":\"33034\",\"type\":\"CDSView\"},{\"attributes\":{\"axis_label\":\"Fraction\",\"axis_label_text_font_size\":{\"value\":\"16pt\"},\"formatter\":{\"id\":\"33760\",\"type\":\"BasicTickFormatter\"},\"major_label_text_font_size\":{\"value\":\"16pt\"},\"plot\":{\"id\":\"32987\",\"subtype\":\"Figure\",\"type\":\"Plot\"},\"ticker\":{\"id\":\"32997\",\"type\":\"BasicTicker\"}},\"id\":\"32996\",\"type\":\"LinearAxis\"},{\"attributes\":{},\"id\":\"33008\",\"type\":\"SaveTool\"},{\"attributes\":{},\"id\":\"33765\",\"type\":\"Selection\"},{\"attributes\":{},\"id\":\"32997\",\"type\":\"BasicTicker\"},{\"attributes\":{\"fill_alpha\":{\"value\":0.1},\"fill_color\":{\"value\":\"#1f77b4\"},\"height\":{\"value\":0.7},\"left\":{\"field\":\"left\"},\"line_alpha\":{\"value\":0.1},\"line_color\":{\"value\":\"#1f77b4\"},\"line_width\":{\"value\":0.5},\"right\":{\"field\":\"right\"},\"y\":{\"field\":\"y\"}},\"id\":\"33027\",\"type\":\"HBar\"},{\"attributes\":{},\"id\":\"33766\",\"type\":\"UnionRenderers\"},{\"attributes\":{},\"id\":\"33010\",\"type\":\"HelpTool\"},{\"attributes\":{\"plot\":{\"id\":\"32987\",\"subtype\":\"Figure\",\"type\":\"Plot\"},\"ticker\":{\"id\":\"32997\",\"type\":\"BasicTicker\"}},\"id\":\"33000\",\"type\":\"Grid\"},{\"attributes\":{\"plot\":null,\"text\":\"\",\"text_font_size\":{\"value\":\"16pt\"}},\"id\":\"33758\",\"type\":\"Title\"},{\"attributes\":{},\"id\":\"33009\",\"type\":\"ResetTool\"},{\"attributes\":{\"fill_alpha\":{\"value\":0.7},\"fill_color\":{\"value\":\"#1f77b4\"},\"height\":{\"value\":0.7},\"left\":{\"field\":\"left\"},\"line_width\":{\"value\":0.5},\"right\":{\"field\":\"right\"},\"y\":{\"field\":\"y\"}},\"id\":\"33026\",\"type\":\"HBar\"},{\"attributes\":{},\"id\":\"33767\",\"type\":\"Selection\"},{\"attributes\":{\"axis_label_text_font_size\":{\"value\":\"16pt\"},\"formatter\":{\"id\":\"33762\",\"type\":\"CategoricalTickFormatter\"},\"major_label_text_font_size\":{\"value\":\"16pt\"},\"plot\":{\"id\":\"32987\",\"subtype\":\"Figure\",\"type\":\"Plot\"},\"ticker\":{\"id\":\"33002\",\"type\":\"CategoricalTicker\"}},\"id\":\"33001\",\"type\":\"CategoricalAxis\"},{\"attributes\":{\"callback\":null,\"data\":{\"left\":{\"__ndarray__\":\"IXf9bLEy7D/X1Zp8UO7sP82OWoT8Nes/XkVYu4qw5j8=\",\"dtype\":\"float64\",\"shape\":[4]},\"right\":{\"__ndarray__\":\"waRT8yB37T+KluxZWPHtPzY7ahHy1+w/11jXrbGu6z8=\",\"dtype\":\"float64\",\"shape\":[4]},\"y\":[\"Dawn\",\"Dayl\",\"Dusk\",\"Dark\"]},\"selected\":{\"id\":\"33765\",\"type\":\"Selection\"},\"selection_policy\":{\"id\":\"33766\",\"type\":\"UnionRenderers\"}},\"id\":\"33025\",\"type\":\"ColumnDataSource\"},{\"attributes\":{},\"id\":\"33768\",\"type\":\"UnionRenderers\"},{\"attributes\":{\"overlay\":{\"id\":\"33013\",\"type\":\"BoxAnnotation\"}},\"id\":\"33007\",\"type\":\"BoxZoomTool\"},{\"attributes\":{\"data_source\":{\"id\":\"33025\",\"type\":\"ColumnDataSource\"},\"glyph\":{\"id\":\"33026\",\"type\":\"HBar\"},\"hover_glyph\":null,\"muted_glyph\":null,\"nonselection_glyph\":{\"id\":\"33027\",\"type\":\"HBar\"},\"selection_glyph\":null,\"view\":{\"id\":\"33029\",\"type\":\"CDSView\"}},\"id\":\"33028\",\"type\":\"GlyphRenderer\"},{\"attributes\":{\"bottom_units\":\"screen\",\"fill_alpha\":{\"value\":0.5},\"fill_color\":{\"value\":\"lightgrey\"},\"left_units\":\"screen\",\"level\":\"overlay\",\"line_alpha\":{\"value\":1.0},\"line_color\":{\"value\":\"black\"},\"line_dash\":[4,4],\"line_width\":{\"value\":2},\"plot\":null,\"render_mode\":\"css\",\"right_units\":\"screen\",\"top_units\":\"screen\"},\"id\":\"33013\",\"type\":\"BoxAnnotation\"},{\"attributes\":{\"callback\":null,\"factors\":[\"Dawn\",\"Dayl\",\"Dusk\",\"Dark\"]},\"id\":\"32990\",\"type\":\"FactorRange\"},{\"attributes\":{},\"id\":\"33769\",\"type\":\"Selection\"},{\"attributes\":{},\"id\":\"33770\",\"type\":\"UnionRenderers\"},{\"attributes\":{\"fill_alpha\":{\"value\":0.3},\"fill_color\":{\"value\":\"#1f77b4\"},\"height\":{\"value\":0.7},\"left\":{\"field\":\"left\"},\"line_width\":{\"value\":0.5},\"right\":{\"field\":\"right\"},\"y\":{\"field\":\"y\"}},\"id\":\"33021\",\"type\":\"HBar\"},{\"attributes\":{\"callback\":null},\"id\":\"32988\",\"type\":\"DataRange1d\"},{\"attributes\":{\"source\":{\"id\":\"33025\",\"type\":\"ColumnDataSource\"}},\"id\":\"33029\",\"type\":\"CDSView\"},{\"attributes\":{},\"id\":\"33760\",\"type\":\"BasicTickFormatter\"}],\"root_ids\":[\"32987\"]},\"title\":\"Bokeh Application\",\"version\":\"1.0.2\"}};\n",
       "  var render_items = [{\"docid\":\"ee18501b-d082-4778-a41f-c70c39e1165f\",\"roots\":{\"32987\":\"74fbd9d3-fc60-4946-9c70-d430916c811e\"}}];\n",
       "  root.Bokeh.embed.embed_items_notebook(docs_json, render_items);\n",
       "\n",
       "  }\n",
       "  if (root.Bokeh !== undefined) {\n",
       "    embed_document(root);\n",
       "  } else {\n",
       "    var attempts = 0;\n",
       "    var timer = setInterval(function(root) {\n",
       "      if (root.Bokeh !== undefined) {\n",
       "        embed_document(root);\n",
       "        clearInterval(timer);\n",
       "      }\n",
       "      attempts++;\n",
       "      if (attempts > 100) {\n",
       "        console.log(\"Bokeh: ERROR: Unable to run BokehJS code because BokehJS library is missing\");\n",
       "        clearInterval(timer);\n",
       "      }\n",
       "    }, 10, root)\n",
       "  }\n",
       "})(window);"
      ],
      "application/vnd.bokehjs_exec.v0+json": ""
     },
     "metadata": {
      "application/vnd.bokehjs_exec.v0+json": {
       "id": "32987"
      }
     },
     "output_type": "display_data"
    },
    {
     "data": {
      "text/html": [
       "\n",
       "\n",
       "\n",
       "\n",
       "\n",
       "\n",
       "  <div class=\"bk-root\" id=\"03d1ec23-d0da-4176-85cc-54b093194f58\"></div>\n"
      ]
     },
     "metadata": {},
     "output_type": "display_data"
    },
    {
     "data": {
      "application/javascript": [
       "(function(root) {\n",
       "  function embed_document(root) {\n",
       "    \n",
       "  var docs_json = {\"95ebda5d-0d8f-43d4-b38c-4d9598c729b2\":{\"roots\":{\"references\":[{\"attributes\":{\"below\":[{\"id\":\"33871\",\"type\":\"LinearAxis\"}],\"left\":[{\"id\":\"33876\",\"type\":\"CategoricalAxis\"}],\"plot_height\":2000,\"renderers\":[{\"id\":\"33871\",\"type\":\"LinearAxis\"},{\"id\":\"33875\",\"type\":\"Grid\"},{\"id\":\"33876\",\"type\":\"CategoricalAxis\"},{\"id\":\"33879\",\"type\":\"Grid\"},{\"id\":\"33888\",\"type\":\"BoxAnnotation\"},{\"id\":\"33898\",\"type\":\"GlyphRenderer\"},{\"id\":\"33903\",\"type\":\"GlyphRenderer\"},{\"id\":\"33908\",\"type\":\"GlyphRenderer\"},{\"id\":\"33913\",\"type\":\"GlyphRenderer\"}],\"title\":{\"id\":\"34648\",\"type\":\"Title\"},\"toolbar\":{\"id\":\"33886\",\"type\":\"Toolbar\"},\"x_range\":{\"id\":\"33863\",\"type\":\"DataRange1d\"},\"x_scale\":{\"id\":\"33867\",\"type\":\"LinearScale\"},\"y_range\":{\"id\":\"33865\",\"type\":\"FactorRange\"},\"y_scale\":{\"id\":\"33869\",\"type\":\"CategoricalScale\"}},\"id\":\"33862\",\"subtype\":\"Figure\",\"type\":\"Plot\"},{\"attributes\":{\"callback\":null},\"id\":\"33863\",\"type\":\"DataRange1d\"},{\"attributes\":{},\"id\":\"34654\",\"type\":\"UnionRenderers\"},{\"attributes\":{},\"id\":\"34652\",\"type\":\"CategoricalTickFormatter\"},{\"attributes\":{\"callback\":null,\"factors\":[\"1\",\"2\",\"3\",\"4\",\"5\",\"6\",\"7\",\"8\",\"9\",\"10\",\"11\",\"12\",\"13\",\"14\",\"15\",\"16\",\"17\",\"18\",\"19\",\"20\",\"21\",\"22\",\"23\",\"24\",\"25\",\"26\",\"27\",\"28\",\"29\",\"30\",\"31\",\"32\",\"33\",\"34\",\"35\",\"36\",\"37\",\"38\",\"39\",\"40\",\"41\",\"42\",\"43\",\"44\",\"45\",\"46\",\"47\",\"48\",\"49\",\"50\",\"51\",\"52\",\"53\",\"54\",\"55\",\"56\",\"57\",\"58\",\"59\",\"60\",\"61\",\"62\",\"63\",\"64\",\"65\",\"66\",\"67\",\"68\",\"69\",\"70\",\"71\",\"72\",\"73\",\"74\",\"75\",\"76\",\"77\",\"78\",\"79\",\"80\",\"81\",\"82\",\"83\",\"84\",\"87\",\"88\",\"89\",\"91\",\"93\"]},\"id\":\"33865\",\"type\":\"FactorRange\"},{\"attributes\":{\"active_drag\":\"auto\",\"active_inspect\":\"auto\",\"active_multi\":null,\"active_scroll\":\"auto\",\"active_tap\":\"auto\",\"tools\":[{\"id\":\"33880\",\"type\":\"PanTool\"},{\"id\":\"33881\",\"type\":\"WheelZoomTool\"},{\"id\":\"33882\",\"type\":\"BoxZoomTool\"},{\"id\":\"33883\",\"type\":\"SaveTool\"},{\"id\":\"33884\",\"type\":\"ResetTool\"},{\"id\":\"33885\",\"type\":\"HelpTool\"}]},\"id\":\"33886\",\"type\":\"Toolbar\"},{\"attributes\":{},\"id\":\"34650\",\"type\":\"BasicTickFormatter\"},{\"attributes\":{\"bottom_units\":\"screen\",\"fill_alpha\":{\"value\":0.5},\"fill_color\":{\"value\":\"lightgrey\"},\"left_units\":\"screen\",\"level\":\"overlay\",\"line_alpha\":{\"value\":1.0},\"line_color\":{\"value\":\"black\"},\"line_dash\":[4,4],\"line_width\":{\"value\":2},\"plot\":null,\"render_mode\":\"css\",\"right_units\":\"screen\",\"top_units\":\"screen\"},\"id\":\"33888\",\"type\":\"BoxAnnotation\"},{\"attributes\":{},\"id\":\"33867\",\"type\":\"LinearScale\"},{\"attributes\":{\"source\":{\"id\":\"33910\",\"type\":\"ColumnDataSource\"}},\"id\":\"33914\",\"type\":\"CDSView\"},{\"attributes\":{},\"id\":\"33869\",\"type\":\"CategoricalScale\"},{\"attributes\":{\"data_source\":{\"id\":\"33910\",\"type\":\"ColumnDataSource\"},\"glyph\":{\"id\":\"33911\",\"type\":\"HBar\"},\"hover_glyph\":null,\"muted_glyph\":null,\"nonselection_glyph\":{\"id\":\"33912\",\"type\":\"HBar\"},\"selection_glyph\":null,\"view\":{\"id\":\"33914\",\"type\":\"CDSView\"}},\"id\":\"33913\",\"type\":\"GlyphRenderer\"},{\"attributes\":{\"axis_label\":\"Fraction\",\"axis_label_text_font_size\":{\"value\":\"16pt\"},\"formatter\":{\"id\":\"34650\",\"type\":\"BasicTickFormatter\"},\"major_label_text_font_size\":{\"value\":\"16pt\"},\"plot\":{\"id\":\"33862\",\"subtype\":\"Figure\",\"type\":\"Plot\"},\"ticker\":{\"id\":\"33872\",\"type\":\"BasicTicker\"}},\"id\":\"33871\",\"type\":\"LinearAxis\"},{\"attributes\":{},\"id\":\"34655\",\"type\":\"Selection\"},{\"attributes\":{\"fill_alpha\":{\"value\":0.3},\"fill_color\":{\"value\":\"#ff7f0e\"},\"height\":{\"value\":0.7},\"left\":{\"field\":\"left\"},\"line_width\":{\"value\":0.5},\"right\":{\"field\":\"right\"},\"y\":{\"field\":\"y\"}},\"id\":\"33906\",\"type\":\"HBar\"},{\"attributes\":{},\"id\":\"33872\",\"type\":\"BasicTicker\"},{\"attributes\":{\"fill_alpha\":{\"value\":0.1},\"fill_color\":{\"value\":\"#1f77b4\"},\"height\":{\"value\":0.7},\"left\":{\"field\":\"left\"},\"line_alpha\":{\"value\":0.1},\"line_color\":{\"value\":\"#1f77b4\"},\"line_width\":{\"value\":0.5},\"right\":{\"field\":\"right\"},\"y\":{\"field\":\"y\"}},\"id\":\"33912\",\"type\":\"HBar\"},{\"attributes\":{\"callback\":null,\"data\":{\"left\":{\"__ndarray__\":\"AAAAAAAA8D8AAAAAAADwP83MzMzMzOw/ZmZmZmZm7j/P8zzP8zzvP6Ev6Av6gu4/JUmSJEmS7j9Pp9PpdDrtP67sc0hNMO4/SNa58oBk7T+TTTbZZJPtP3g5BS+n4O0/FK5H4XoU7j/3kMuKgRLuP1/ohV7ohe4/qAR5SpCn7D9dZwIGj+XtP2KRMvB0a+4/kZpgvJV97j9mZmZmZmbuP6YG9o6pge0/9w1r37D27T+uftBRgS/uPwrrKaynsO4/ikuGYB1t7j9mZmZmZmbvP9PS0tLS0u4/XgizXQiz7T/m2oG5dmDuP+O3Sz0Zv+0/yz6H1ATj7T9/0FGBL67uPykw6dQ8yO0/waRT8yB37T+xEzuxEzvtP+wYxbmOUew/4GpjaLqD7T8RERERERHtP5TXUF5Dee0/ncEKncEK7T+jONcxinPtP0+n0+l0Ou0/RGN9aKwP7T+yzpUHJOvsPyGKv8gZFuw/RcmuTZTs6j/btm3btm3rPygFyZ9XWew/586dO3fu7D+sMZEeqJztP6INnz/mKO0/mpmZmZmZ7T+y7xE5QbjrP0t+seQXS+4/gZVDi2zn6z/avE9xyRDsP5nOYjqL6ew/xU7sxE7s7D+cm5ubm5vrP4XrUbgehes/wQUucIEL7D/C/K4WN2HuP1VVVVVVVe0/3dzc3Nzc7D8fwX0E9xHsP33SJ33SJ+0/XXTRRRdd7D/QusEU+azrPyebbLLJJus/F1100UUX7T+rqqqqqqrqPwAAAAAAAOw/2Ymd2Imd6D+SJEmSJEniPzmO4ziO4+g/AAAAAAAA8D9GF1100UXnP1VVVVVVVeU/AAAAAAAA4D8AAAAAAADgP5qZmZmZmek/AAAAAAAA6D8AAAAAAADwP1VVVVVVVdU/AAAAAAAA8D8AAAAAAADwPwAAAAAAAPA/AAAAAAAA8D8AAAAAAADwPw==\",\"dtype\":\"float64\",\"shape\":[89]},\"right\":{\"__ndarray__\":\"AAAAAAAA8D8AAAAAAADwPwAAAAAAAPA/AAAAAAAA8D8AAAAAAADwP+gL+oK+oO8/AAAAAAAA8D8AAAAAAADwPwAAAAAAAPA/AAAAAAAA8D8AAAAAAADwPwAAAAAAAPA/16NwPQrX7z8AAAAAAADwPwAAAAAAAPA/2zesfcPa7z+HUEk3itnvP+bCXX2TvO8/DqkJxlvZ7z/btm3btm3vP3FWfkKcle8/kKcEeUqQ7z8AAAAAAADwPwP6C+gvoO8/ul0rJzzT7z9mZmZmZmbvP8TDw8PDw+8/f9Qpf9Qp7z/5GSV+RonvP5Tx26WejO8/dEhNMN7K7j8AAAAAAADwP5h0ah7kru8/+EYUmHRq7j8UO7ETO7HvPzZo8mWDJu8/cLUxNN3B7j/v7u7u7u7uPwAAAAAAAPA/4Ci73yi77z8SePshgbfvP6/X6/V6ve4/wcspeDkF7z8/6ZM+6ZPuP08frSYhiu8/VdDqSwWt7j/P8zzP8zzvP/15lcUZ7e4/+fHjx48f7z+0W/jVmEjvP4fPH3OUbu8/AAAAAAAA8D/mT1towJLuP5NfLPnFku8/CKwcWmQ77z/FJUOwjjbvPwT3EdxHcO8/FDuxEzux7z8PDw8PDw/vP1yPwvUoXO8/9KMf/ehH7z8AAAAAAADwPwAAAAAAAPA/AAAAAAAA8D8J7iO4j+DuPwAAAAAAAPA/AAAAAAAA8D8AAAAAAADwPwAAAAAAAPA/AAAAAAAA8D8AAAAAAADwPwAAAAAAAPA/AAAAAAAA8D8AAAAAAADwPwAAAAAAAPA/AAAAAAAA8D8AAAAAAADwPwAAAAAAAPA/AAAAAAAA8D8AAAAAAADwPwAAAAAAAPA/AAAAAAAA8D8AAAAAAADwPwAAAAAAAPA/AAAAAAAA8D8AAAAAAADwPwAAAAAAAPA/AAAAAAAA8D8AAAAAAADwPw==\",\"dtype\":\"float64\",\"shape\":[89]},\"y\":[\"1\",\"2\",\"3\",\"4\",\"5\",\"6\",\"7\",\"8\",\"9\",\"10\",\"11\",\"12\",\"13\",\"14\",\"15\",\"16\",\"17\",\"18\",\"19\",\"20\",\"21\",\"22\",\"23\",\"24\",\"25\",\"26\",\"27\",\"28\",\"29\",\"30\",\"31\",\"32\",\"33\",\"34\",\"35\",\"36\",\"37\",\"38\",\"39\",\"40\",\"41\",\"42\",\"43\",\"44\",\"45\",\"46\",\"47\",\"48\",\"49\",\"50\",\"51\",\"52\",\"53\",\"54\",\"55\",\"56\",\"57\",\"58\",\"59\",\"60\",\"61\",\"62\",\"63\",\"64\",\"65\",\"66\",\"67\",\"68\",\"69\",\"70\",\"71\",\"72\",\"73\",\"74\",\"75\",\"76\",\"77\",\"78\",\"79\",\"80\",\"81\",\"82\",\"83\",\"84\",\"87\",\"88\",\"89\",\"91\",\"93\"]},\"selected\":{\"id\":\"34657\",\"type\":\"Selection\"},\"selection_policy\":{\"id\":\"34658\",\"type\":\"UnionRenderers\"}},\"id\":\"33905\",\"type\":\"ColumnDataSource\"},{\"attributes\":{\"plot\":{\"id\":\"33862\",\"subtype\":\"Figure\",\"type\":\"Plot\"},\"ticker\":{\"id\":\"33872\",\"type\":\"BasicTicker\"}},\"id\":\"33875\",\"type\":\"Grid\"},{\"attributes\":{},\"id\":\"34658\",\"type\":\"UnionRenderers\"},{\"attributes\":{\"axis_label\":\"Speed Limit (MPH)\",\"axis_label_text_font_size\":{\"value\":\"16pt\"},\"formatter\":{\"id\":\"34652\",\"type\":\"CategoricalTickFormatter\"},\"major_label_text_font_size\":{\"value\":\"16pt\"},\"plot\":{\"id\":\"33862\",\"subtype\":\"Figure\",\"type\":\"Plot\"},\"ticker\":{\"id\":\"33877\",\"type\":\"CategoricalTicker\"}},\"id\":\"33876\",\"type\":\"CategoricalAxis\"},{\"attributes\":{\"fill_alpha\":{\"value\":0.7},\"fill_color\":{\"value\":\"#1f77b4\"},\"height\":{\"value\":0.7},\"left\":{\"field\":\"left\"},\"line_width\":{\"value\":0.5},\"right\":{\"field\":\"right\"},\"y\":{\"field\":\"y\"}},\"id\":\"33901\",\"type\":\"HBar\"},{\"attributes\":{\"fill_alpha\":{\"value\":0.1},\"fill_color\":{\"value\":\"#1f77b4\"},\"height\":{\"value\":0.7},\"left\":{\"field\":\"left\"},\"line_alpha\":{\"value\":0.1},\"line_color\":{\"value\":\"#1f77b4\"},\"line_width\":{\"value\":0.5},\"right\":{\"field\":\"right\"},\"y\":{\"field\":\"y\"}},\"id\":\"33907\",\"type\":\"HBar\"},{\"attributes\":{},\"id\":\"34656\",\"type\":\"UnionRenderers\"},{\"attributes\":{\"callback\":null,\"data\":{\"left\":{\"__ndarray__\":\"AAAAAAAA8D8AAAAAAADwP83MzMzMzOw/ZmZmZmZm7j/P8zzP8zzvP4k74o64I+4/AAAAAAAA7j8+n8/n8/nsP+iQmmC8le0/fdInfdIn7T/ZZJNNNtnsP0RjfWisD+0/w/UoXI/C7T8YcaLytNDtP47cyI3cyO0/7RvWvmHt6z/wWN6rLXLtP7o1PyxSBu4/2eeQmmC87T8WX/EVX/HtPz3P8zzP8+w/fsPaN6x96z9Nw3azPInsPxjQX0B/Ae0/z/Q36Hat7D/NzMzMzMztPy0tLS0tLe0/PDw8PDw87D/MtQNz7cDsP4JEK2wOJOo/ln0OqQnG6z/9oKMCX1ztP/GNKDDp1Ow/6dQ8yF0/6z87sRM7sRPrP0ZxrmMU5+o/q42h6Q726z9mZmZmZmbqP2wor6G8huo/OMruN8ru5z9Y6amFlZ7qP51Op9PpdOo/27Zt27Zt6z+amZmZmZnpP5uEKP4iZ+g/QzpvMaTz5j8YhmEYhmHoP+hVFme0e+g/z507d+7c6T/hV2MiPVDpP9Afc5RuX+k/AAAAAAAA6T/50xYasKTnPz0K16NwPeo/okW28/3U6D/BOtq8T3HpP6+hvIbyGuo/J3ZiJ3Zi6z/JyMjIyMjoPz0K16NwPeo/nvGMZzzj6T+1uAnzu1rsP83MzMzMzOw/WlpaWlpa6j82lNdQXkPpP/qkT/qkT+o/o4suuuii6z/5rBtMkc/qPyebbLLJJus/o4suuuii6z+rqqqqqqrqPwAAAAAAAOw/2Ymd2Imd6D+SJEmSJEniPzmO4ziO4+g/AAAAAAAA8D9GF1100UXnP1VVVVVVVeU/AAAAAAAA4D8AAAAAAADgP5qZmZmZmek/AAAAAAAA6D8AAAAAAADwP1VVVVVVVdU/AAAAAAAA8D8AAAAAAAAAAAAAAAAAAPA/AAAAAAAA8D8AAAAAAADwPw==\",\"dtype\":\"float64\",\"shape\":[89]},\"right\":{\"__ndarray__\":\"AAAAAAAA8D8AAAAAAADwP83MzMzMzOw/ZmZmZmZm7j/P8zzP8zzvP6Ev6Av6gu4/JUmSJEmS7j9Pp9PpdDrtP67sc0hNMO4/SNa58oBk7T+TTTbZZJPtP3g5BS+n4O0/FK5H4XoU7j/3kMuKgRLuP1/ohV7ohe4/qAR5SpCn7D9dZwIGj+XtP2KRMvB0a+4/kZpgvJV97j9mZmZmZmbuP6YG9o6pge0/9w1r37D27T+uftBRgS/uPwrrKaynsO4/ikuGYB1t7j9mZmZmZmbvP9PS0tLS0u4/XgizXQiz7T/m2oG5dmDuP+O3Sz0Zv+0/yz6H1ATj7T9/0FGBL67uPykw6dQ8yO0/waRT8yB37T+xEzuxEzvtP+wYxbmOUew/4GpjaLqD7T8RERERERHtP5TXUF5Dee0/ncEKncEK7T+jONcxinPtP0+n0+l0Ou0/RGN9aKwP7T+yzpUHJOvsPyGKv8gZFuw/RcmuTZTs6j/btm3btm3rPygFyZ9XWew/586dO3fu7D+sMZEeqJztP6INnz/mKO0/mpmZmZmZ7T+y7xE5QbjrP0t+seQXS+4/gZVDi2zn6z/avE9xyRDsP5nOYjqL6ew/xU7sxE7s7D+cm5ubm5vrP4XrUbgehes/wQUucIEL7D/C/K4WN2HuP1VVVVVVVe0/3dzc3Nzc7D8fwX0E9xHsP33SJ33SJ+0/XXTRRRdd7D/QusEU+azrPyebbLLJJus/F1100UUX7T+rqqqqqqrqPwAAAAAAAOw/2Ymd2Imd6D+SJEmSJEniPzmO4ziO4+g/AAAAAAAA8D9GF1100UXnP1VVVVVVVeU/AAAAAAAA4D8AAAAAAADgP5qZmZmZmek/AAAAAAAA6D8AAAAAAADwP1VVVVVVVdU/AAAAAAAA8D8AAAAAAADwPwAAAAAAAPA/AAAAAAAA8D8AAAAAAADwPw==\",\"dtype\":\"float64\",\"shape\":[89]},\"y\":[\"1\",\"2\",\"3\",\"4\",\"5\",\"6\",\"7\",\"8\",\"9\",\"10\",\"11\",\"12\",\"13\",\"14\",\"15\",\"16\",\"17\",\"18\",\"19\",\"20\",\"21\",\"22\",\"23\",\"24\",\"25\",\"26\",\"27\",\"28\",\"29\",\"30\",\"31\",\"32\",\"33\",\"34\",\"35\",\"36\",\"37\",\"38\",\"39\",\"40\",\"41\",\"42\",\"43\",\"44\",\"45\",\"46\",\"47\",\"48\",\"49\",\"50\",\"51\",\"52\",\"53\",\"54\",\"55\",\"56\",\"57\",\"58\",\"59\",\"60\",\"61\",\"62\",\"63\",\"64\",\"65\",\"66\",\"67\",\"68\",\"69\",\"70\",\"71\",\"72\",\"73\",\"74\",\"75\",\"76\",\"77\",\"78\",\"79\",\"80\",\"81\",\"82\",\"83\",\"84\",\"87\",\"88\",\"89\",\"91\",\"93\"]},\"selected\":{\"id\":\"34655\",\"type\":\"Selection\"},\"selection_policy\":{\"id\":\"34656\",\"type\":\"UnionRenderers\"}},\"id\":\"33900\",\"type\":\"ColumnDataSource\"},{\"attributes\":{},\"id\":\"33877\",\"type\":\"CategoricalTicker\"},{\"attributes\":{\"data_source\":{\"id\":\"33905\",\"type\":\"ColumnDataSource\"},\"glyph\":{\"id\":\"33906\",\"type\":\"HBar\"},\"hover_glyph\":null,\"muted_glyph\":null,\"nonselection_glyph\":{\"id\":\"33907\",\"type\":\"HBar\"},\"selection_glyph\":null,\"view\":{\"id\":\"33909\",\"type\":\"CDSView\"}},\"id\":\"33908\",\"type\":\"GlyphRenderer\"},{\"attributes\":{\"callback\":null,\"data\":{\"left\":{\"__ndarray__\":\"AAAAAAAAAAAAAAAAAAAAAAAAAAAAAAAAAAAAAAAAAAAAAAAAAAAAAAAAAAAAAAAAAAAAAAAAAAAAAAAAAAAAAAAAAAAAAAAAAAAAAAAAAAAAAAAAAAAAAAAAAAAAAAAAAAAAAAAAAAAAAAAAAAAAAAAAAAAAAAAAAAAAAAAAAAAAAAAAAAAAAAAAAAAAAAAAAAAAAAAAAAAAAAAAAAAAAAAAAAAAAAAAAAAAAAAAAAAAAAAAAAAAAAAAAAAAAAAAAAAAAAAAAAAAAAAAAAAAAAAAAAAAAAAAAAAAAAAAAAAAAAAAAAAAAAAAAAAAAAAAAAAAAAAAAAAAAAAAAAAAAAAAAAAAAAAAAAAAAAAAAAAAAAAAAAAAAAAAAAAAAAAAAAAAAAAAAAAAAAAAAAAAAAAAAAAAAAAAAAAAAAAAAAAAAAAAAAAAAAAAAAAAAAAAAAAAAAAAAAAAAAAAAAAAAAAAAAAAAAAAAAAAAAAAAAAAAAAAAAAAAAAAAAAAAAAAAAAAAAAAAAAAAAAAAAAAAAAAAAAAAAAAAAAAAAAAAAAAAAAAAAAAAAAAAAAAAAAAAAAAAAAAAAAAAAAAAAAAAAAAAAAAAAAAAAAAAAAAAAAAAAAAAAAAAAAAAAAAAAAAAAAAAAAAAAAAAAAAAAAAAAAAAAAAAAAAAAAAAAAAAAAAAAAAAAAAAAAAAAAAAAAAAAAAAAAAAAAAAAAAAAAAAAAAAAAAAAAAAAAAAAAAAAAAAAAAAAAAAAAAAAAAAAAAAAAAAAAAAAAAAAAAAAAAAAAAAAAAAAAAAAAAAAAAAAAAAAAAAAAAAAAAAAAAAAAAAAAAAAAAAAAAAAAAAAAAAAAAAAAAAAAAAAAAAAAAAAAAAAAAAAAAAAAAAAAAAAAAAAAAAAAAAAAAAAAAAAAAAAAAAAAAAAAAAAAAAAAAAAAAAAAAAAAAAA==\",\"dtype\":\"float64\",\"shape\":[89]},\"right\":{\"__ndarray__\":\"AAAAAAAA8D8AAAAAAADwP83MzMzMzOw/ZmZmZmZm7j/P8zzP8zzvP4k74o64I+4/AAAAAAAA7j8+n8/n8/nsP+iQmmC8le0/fdInfdIn7T/ZZJNNNtnsP0RjfWisD+0/w/UoXI/C7T8YcaLytNDtP47cyI3cyO0/7RvWvmHt6z/wWN6rLXLtP7o1PyxSBu4/2eeQmmC87T8WX/EVX/HtPz3P8zzP8+w/fsPaN6x96z9Nw3azPInsPxjQX0B/Ae0/z/Q36Hat7D/NzMzMzMztPy0tLS0tLe0/PDw8PDw87D/MtQNz7cDsP4JEK2wOJOo/ln0OqQnG6z/9oKMCX1ztP/GNKDDp1Ow/6dQ8yF0/6z87sRM7sRPrP0ZxrmMU5+o/q42h6Q726z9mZmZmZmbqP2wor6G8huo/OMruN8ru5z9Y6amFlZ7qP51Op9PpdOo/27Zt27Zt6z+amZmZmZnpP5uEKP4iZ+g/QzpvMaTz5j8YhmEYhmHoP+hVFme0e+g/z507d+7c6T/hV2MiPVDpP9Afc5RuX+k/AAAAAAAA6T/50xYasKTnPz0K16NwPeo/okW28/3U6D/BOtq8T3HpP6+hvIbyGuo/J3ZiJ3Zi6z/JyMjIyMjoPz0K16NwPeo/nvGMZzzj6T+1uAnzu1rsP83MzMzMzOw/WlpaWlpa6j82lNdQXkPpP/qkT/qkT+o/o4suuuii6z/5rBtMkc/qPyebbLLJJus/o4suuuii6z+rqqqqqqrqPwAAAAAAAOw/2Ymd2Imd6D+SJEmSJEniPzmO4ziO4+g/AAAAAAAA8D9GF1100UXnP1VVVVVVVeU/AAAAAAAA4D8AAAAAAADgP5qZmZmZmek/AAAAAAAA6D8AAAAAAADwP1VVVVVVVdU/AAAAAAAA8D8AAAAAAAAAAAAAAAAAAPA/AAAAAAAA8D8AAAAAAADwPw==\",\"dtype\":\"float64\",\"shape\":[89]},\"y\":[\"1\",\"2\",\"3\",\"4\",\"5\",\"6\",\"7\",\"8\",\"9\",\"10\",\"11\",\"12\",\"13\",\"14\",\"15\",\"16\",\"17\",\"18\",\"19\",\"20\",\"21\",\"22\",\"23\",\"24\",\"25\",\"26\",\"27\",\"28\",\"29\",\"30\",\"31\",\"32\",\"33\",\"34\",\"35\",\"36\",\"37\",\"38\",\"39\",\"40\",\"41\",\"42\",\"43\",\"44\",\"45\",\"46\",\"47\",\"48\",\"49\",\"50\",\"51\",\"52\",\"53\",\"54\",\"55\",\"56\",\"57\",\"58\",\"59\",\"60\",\"61\",\"62\",\"63\",\"64\",\"65\",\"66\",\"67\",\"68\",\"69\",\"70\",\"71\",\"72\",\"73\",\"74\",\"75\",\"76\",\"77\",\"78\",\"79\",\"80\",\"81\",\"82\",\"83\",\"84\",\"87\",\"88\",\"89\",\"91\",\"93\"]},\"selected\":{\"id\":\"34653\",\"type\":\"Selection\"},\"selection_policy\":{\"id\":\"34654\",\"type\":\"UnionRenderers\"}},\"id\":\"33895\",\"type\":\"ColumnDataSource\"},{\"attributes\":{\"dimension\":1,\"plot\":{\"id\":\"33862\",\"subtype\":\"Figure\",\"type\":\"Plot\"},\"ticker\":{\"id\":\"33877\",\"type\":\"CategoricalTicker\"}},\"id\":\"33879\",\"type\":\"Grid\"},{\"attributes\":{\"source\":{\"id\":\"33905\",\"type\":\"ColumnDataSource\"}},\"id\":\"33909\",\"type\":\"CDSView\"},{\"attributes\":{\"fill_alpha\":{\"value\":0.1},\"fill_color\":{\"value\":\"#1f77b4\"},\"height\":{\"value\":0.7},\"left\":{\"field\":\"left\"},\"line_alpha\":{\"value\":0.1},\"line_color\":{\"value\":\"#1f77b4\"},\"line_width\":{\"value\":0.5},\"right\":{\"field\":\"right\"},\"y\":{\"field\":\"y\"}},\"id\":\"33902\",\"type\":\"HBar\"},{\"attributes\":{\"plot\":null,\"text\":\"\",\"text_font_size\":{\"value\":\"16pt\"}},\"id\":\"34648\",\"type\":\"Title\"},{\"attributes\":{\"fill_alpha\":{\"value\":0.3},\"fill_color\":{\"value\":\"#1f77b4\"},\"height\":{\"value\":0.7},\"left\":{\"field\":\"left\"},\"line_width\":{\"value\":0.5},\"right\":{\"field\":\"right\"},\"y\":{\"field\":\"y\"}},\"id\":\"33896\",\"type\":\"HBar\"},{\"attributes\":{\"data_source\":{\"id\":\"33900\",\"type\":\"ColumnDataSource\"},\"glyph\":{\"id\":\"33901\",\"type\":\"HBar\"},\"hover_glyph\":null,\"muted_glyph\":null,\"nonselection_glyph\":{\"id\":\"33902\",\"type\":\"HBar\"},\"selection_glyph\":null,\"view\":{\"id\":\"33904\",\"type\":\"CDSView\"}},\"id\":\"33903\",\"type\":\"GlyphRenderer\"},{\"attributes\":{\"fill_alpha\":{\"value\":0.1},\"fill_color\":{\"value\":\"#1f77b4\"},\"height\":{\"value\":0.7},\"left\":{\"field\":\"left\"},\"line_alpha\":{\"value\":0.1},\"line_color\":{\"value\":\"#1f77b4\"},\"line_width\":{\"value\":0.5},\"right\":{\"field\":\"right\"},\"y\":{\"field\":\"y\"}},\"id\":\"33897\",\"type\":\"HBar\"},{\"attributes\":{\"source\":{\"id\":\"33900\",\"type\":\"ColumnDataSource\"}},\"id\":\"33904\",\"type\":\"CDSView\"},{\"attributes\":{\"callback\":null,\"data\":{\"left\":{\"__ndarray__\":\"AAAAAAAA8D8AAAAAAADwPwAAAAAAAPA/AAAAAAAA8D8AAAAAAADwP+gL+oK+oO8/AAAAAAAA8D8AAAAAAADwPwAAAAAAAPA/AAAAAAAA8D8AAAAAAADwPwAAAAAAAPA/16NwPQrX7z8AAAAAAADwPwAAAAAAAPA/2zesfcPa7z+HUEk3itnvP+bCXX2TvO8/DqkJxlvZ7z/btm3btm3vP3FWfkKcle8/kKcEeUqQ7z8AAAAAAADwPwP6C+gvoO8/ul0rJzzT7z9mZmZmZmbvP8TDw8PDw+8/f9Qpf9Qp7z/5GSV+RonvP5Tx26WejO8/dEhNMN7K7j8AAAAAAADwP5h0ah7kru8/+EYUmHRq7j8UO7ETO7HvPzZo8mWDJu8/cLUxNN3B7j/v7u7u7u7uPwAAAAAAAPA/4Ci73yi77z8SePshgbfvP6/X6/V6ve4/wcspeDkF7z8/6ZM+6ZPuP08frSYhiu8/VdDqSwWt7j/P8zzP8zzvP/15lcUZ7e4/+fHjx48f7z+0W/jVmEjvP4fPH3OUbu8/AAAAAAAA8D/mT1towJLuP5NfLPnFku8/CKwcWmQ77z/FJUOwjjbvPwT3EdxHcO8/FDuxEzux7z8PDw8PDw/vP1yPwvUoXO8/9KMf/ehH7z8AAAAAAADwPwAAAAAAAPA/AAAAAAAA8D8J7iO4j+DuPwAAAAAAAPA/AAAAAAAA8D8AAAAAAADwPwAAAAAAAPA/AAAAAAAA8D8AAAAAAADwPwAAAAAAAPA/AAAAAAAA8D8AAAAAAADwPwAAAAAAAPA/AAAAAAAA8D8AAAAAAADwPwAAAAAAAPA/AAAAAAAA8D8AAAAAAADwPwAAAAAAAPA/AAAAAAAA8D8AAAAAAADwPwAAAAAAAPA/AAAAAAAA8D8AAAAAAADwPwAAAAAAAPA/AAAAAAAA8D8AAAAAAADwPw==\",\"dtype\":\"float64\",\"shape\":[89]},\"right\":{\"__ndarray__\":\"AAAAAAAA8D8AAAAAAADwPwAAAAAAAPA/AAAAAAAA8D8AAAAAAADwPwAAAAAAAPA/AAAAAAAA8D8AAAAAAADwPwAAAAAAAPA/AAAAAAAA8D8AAAAAAADwPwAAAAAAAPA/AAAAAAAA8D8AAAAAAADwPwAAAAAAAPA/AAAAAAAA8D8AAAAAAADwPwAAAAAAAPA/AAAAAAAA8D8AAAAAAADwPwAAAAAAAPA/AAAAAAAA8D8AAAAAAADwPwAAAAAAAPA/AAAAAAAA8D8AAAAAAADwPwAAAAAAAPA/AAAAAAAA8D8AAAAAAADwPwAAAAAAAPA/AAAAAAAA8D8AAAAAAADwPwAAAAAAAPA/AAAAAAAA8D8AAAAAAADwPwAAAAAAAPA/AAAAAAAA8D8AAAAAAADwPwAAAAAAAPA/AAAAAAAA8D8AAAAAAADwPwAAAAAAAPA/AAAAAAAA8D8AAAAAAADwPwAAAAAAAPA/AAAAAAAA8D8AAAAAAADwPwAAAAAAAPA/AAAAAAAA8D8AAAAAAADwPwAAAAAAAPA/AAAAAAAA8D8AAAAAAADwPwAAAAAAAPA/AAAAAAAA8D8AAAAAAADwPwAAAAAAAPA/AAAAAAAA8D8AAAAAAADwPwAAAAAAAPA/AAAAAAAA8D8AAAAAAADwPwAAAAAAAPA/AAAAAAAA8D8AAAAAAADwPwAAAAAAAPA/AAAAAAAA8D8AAAAAAADwPwAAAAAAAPA/AAAAAAAA8D8AAAAAAADwPwAAAAAAAPA/AAAAAAAA8D8AAAAAAADwPwAAAAAAAPA/AAAAAAAA8D8AAAAAAADwPwAAAAAAAPA/AAAAAAAA8D8AAAAAAADwPwAAAAAAAPA/AAAAAAAA8D8AAAAAAADwPwAAAAAAAPA/AAAAAAAA8D8AAAAAAADwPwAAAAAAAPA/AAAAAAAA8D8AAAAAAADwPw==\",\"dtype\":\"float64\",\"shape\":[89]},\"y\":[\"1\",\"2\",\"3\",\"4\",\"5\",\"6\",\"7\",\"8\",\"9\",\"10\",\"11\",\"12\",\"13\",\"14\",\"15\",\"16\",\"17\",\"18\",\"19\",\"20\",\"21\",\"22\",\"23\",\"24\",\"25\",\"26\",\"27\",\"28\",\"29\",\"30\",\"31\",\"32\",\"33\",\"34\",\"35\",\"36\",\"37\",\"38\",\"39\",\"40\",\"41\",\"42\",\"43\",\"44\",\"45\",\"46\",\"47\",\"48\",\"49\",\"50\",\"51\",\"52\",\"53\",\"54\",\"55\",\"56\",\"57\",\"58\",\"59\",\"60\",\"61\",\"62\",\"63\",\"64\",\"65\",\"66\",\"67\",\"68\",\"69\",\"70\",\"71\",\"72\",\"73\",\"74\",\"75\",\"76\",\"77\",\"78\",\"79\",\"80\",\"81\",\"82\",\"83\",\"84\",\"87\",\"88\",\"89\",\"91\",\"93\"]},\"selected\":{\"id\":\"34659\",\"type\":\"Selection\"},\"selection_policy\":{\"id\":\"34660\",\"type\":\"UnionRenderers\"}},\"id\":\"33910\",\"type\":\"ColumnDataSource\"},{\"attributes\":{\"data_source\":{\"id\":\"33895\",\"type\":\"ColumnDataSource\"},\"glyph\":{\"id\":\"33896\",\"type\":\"HBar\"},\"hover_glyph\":null,\"muted_glyph\":null,\"nonselection_glyph\":{\"id\":\"33897\",\"type\":\"HBar\"},\"selection_glyph\":null,\"view\":{\"id\":\"33899\",\"type\":\"CDSView\"}},\"id\":\"33898\",\"type\":\"GlyphRenderer\"},{\"attributes\":{},\"id\":\"33880\",\"type\":\"PanTool\"},{\"attributes\":{\"source\":{\"id\":\"33895\",\"type\":\"ColumnDataSource\"}},\"id\":\"33899\",\"type\":\"CDSView\"},{\"attributes\":{},\"id\":\"33881\",\"type\":\"WheelZoomTool\"},{\"attributes\":{\"overlay\":{\"id\":\"33888\",\"type\":\"BoxAnnotation\"}},\"id\":\"33882\",\"type\":\"BoxZoomTool\"},{\"attributes\":{},\"id\":\"34653\",\"type\":\"Selection\"},{\"attributes\":{},\"id\":\"33883\",\"type\":\"SaveTool\"},{\"attributes\":{},\"id\":\"34660\",\"type\":\"UnionRenderers\"},{\"attributes\":{\"fill_alpha\":{\"value\":0.7},\"fill_color\":{\"value\":\"#ff7f0e\"},\"height\":{\"value\":0.7},\"left\":{\"field\":\"left\"},\"line_width\":{\"value\":0.5},\"right\":{\"field\":\"right\"},\"y\":{\"field\":\"y\"}},\"id\":\"33911\",\"type\":\"HBar\"},{\"attributes\":{},\"id\":\"33884\",\"type\":\"ResetTool\"},{\"attributes\":{},\"id\":\"34659\",\"type\":\"Selection\"},{\"attributes\":{},\"id\":\"33885\",\"type\":\"HelpTool\"},{\"attributes\":{},\"id\":\"34657\",\"type\":\"Selection\"}],\"root_ids\":[\"33862\"]},\"title\":\"Bokeh Application\",\"version\":\"1.0.2\"}};\n",
       "  var render_items = [{\"docid\":\"95ebda5d-0d8f-43d4-b38c-4d9598c729b2\",\"roots\":{\"33862\":\"03d1ec23-d0da-4176-85cc-54b093194f58\"}}];\n",
       "  root.Bokeh.embed.embed_items_notebook(docs_json, render_items);\n",
       "\n",
       "  }\n",
       "  if (root.Bokeh !== undefined) {\n",
       "    embed_document(root);\n",
       "  } else {\n",
       "    var attempts = 0;\n",
       "    var timer = setInterval(function(root) {\n",
       "      if (root.Bokeh !== undefined) {\n",
       "        embed_document(root);\n",
       "        clearInterval(timer);\n",
       "      }\n",
       "      attempts++;\n",
       "      if (attempts > 100) {\n",
       "        console.log(\"Bokeh: ERROR: Unable to run BokehJS code because BokehJS library is missing\");\n",
       "        clearInterval(timer);\n",
       "      }\n",
       "    }, 10, root)\n",
       "  }\n",
       "})(window);"
      ],
      "application/vnd.bokehjs_exec.v0+json": ""
     },
     "metadata": {
      "application/vnd.bokehjs_exec.v0+json": {
       "id": "33862"
      }
     },
     "output_type": "display_data"
    },
    {
     "data": {
      "text/html": [
       "\n",
       "\n",
       "\n",
       "\n",
       "\n",
       "\n",
       "  <div class=\"bk-root\" id=\"d2e6b92a-88ac-4a83-994d-ee3ba3a96ce7\"></div>\n"
      ]
     },
     "metadata": {},
     "output_type": "display_data"
    },
    {
     "data": {
      "application/javascript": [
       "(function(root) {\n",
       "  function embed_document(root) {\n",
       "    \n",
       "  var docs_json = {\"0673516b-0e52-43f5-b2f1-d7ce2bea3a6d\":{\"roots\":{\"references\":[{\"attributes\":{\"below\":[{\"id\":\"34761\",\"type\":\"LinearAxis\"}],\"left\":[{\"id\":\"34766\",\"type\":\"CategoricalAxis\"}],\"plot_height\":400,\"renderers\":[{\"id\":\"34761\",\"type\":\"LinearAxis\"},{\"id\":\"34765\",\"type\":\"Grid\"},{\"id\":\"34766\",\"type\":\"CategoricalAxis\"},{\"id\":\"34769\",\"type\":\"Grid\"},{\"id\":\"34778\",\"type\":\"BoxAnnotation\"},{\"id\":\"34797\",\"type\":\"Legend\"},{\"id\":\"34788\",\"type\":\"GlyphRenderer\"},{\"id\":\"34802\",\"type\":\"GlyphRenderer\"},{\"id\":\"34817\",\"type\":\"GlyphRenderer\"},{\"id\":\"34834\",\"type\":\"GlyphRenderer\"}],\"title\":{\"id\":\"34791\",\"type\":\"Title\"},\"toolbar\":{\"id\":\"34776\",\"type\":\"Toolbar\"},\"x_range\":{\"id\":\"34753\",\"type\":\"Range1d\"},\"x_scale\":{\"id\":\"34757\",\"type\":\"LinearScale\"},\"y_range\":{\"id\":\"34755\",\"type\":\"FactorRange\"},\"y_scale\":{\"id\":\"34759\",\"type\":\"CategoricalScale\"}},\"id\":\"34752\",\"subtype\":\"Figure\",\"type\":\"Plot\"},{\"attributes\":{},\"id\":\"34762\",\"type\":\"BasicTicker\"},{\"attributes\":{\"callback\":null,\"data\":{\"left\":{\"__ndarray__\":\"11jXrbGu6z/BpFPzIHftP4qW7FlY8e0/NjtqEfLX7D8=\",\"dtype\":\"float64\",\"shape\":[4]},\"right\":{\"__ndarray__\":\"uFRMb6mY7j8AAAAAAADwPxnLMpRZ0e8/z/M8z/M87z8=\",\"dtype\":\"float64\",\"shape\":[4]},\"y\":[\"Dark\",\"Dawn\",\"Dayl\",\"Dusk\"]},\"selected\":{\"id\":\"34846\",\"type\":\"Selection\"},\"selection_policy\":{\"id\":\"34847\",\"type\":\"UnionRenderers\"}},\"id\":\"34814\",\"type\":\"ColumnDataSource\"},{\"attributes\":{},\"id\":\"34847\",\"type\":\"UnionRenderers\"},{\"attributes\":{\"fill_alpha\":{\"value\":0.1},\"fill_color\":{\"value\":\"#1f77b4\"},\"height\":{\"value\":0.7},\"left\":{\"field\":\"left\"},\"line_alpha\":{\"value\":0.1},\"line_color\":{\"value\":\"#1f77b4\"},\"line_width\":{\"value\":0.5},\"right\":{\"field\":\"right\"},\"y\":{\"field\":\"y\"}},\"id\":\"34816\",\"type\":\"HBar\"},{\"attributes\":{\"plot\":{\"id\":\"34752\",\"subtype\":\"Figure\",\"type\":\"Plot\"},\"ticker\":{\"id\":\"34762\",\"type\":\"BasicTicker\"}},\"id\":\"34765\",\"type\":\"Grid\"},{\"attributes\":{\"items\":[{\"id\":\"34798\",\"type\":\"LegendItem\"},{\"id\":\"34813\",\"type\":\"LegendItem\"},{\"id\":\"34830\",\"type\":\"LegendItem\"},{\"id\":\"34849\",\"type\":\"LegendItem\"}],\"label_text_font_size\":{\"value\":\"16pt\"},\"plot\":{\"id\":\"34752\",\"subtype\":\"Figure\",\"type\":\"Plot\"}},\"id\":\"34797\",\"type\":\"Legend\"},{\"attributes\":{\"label\":{\"value\":\"Severe, Intoxicated\"},\"renderers\":[{\"id\":\"34834\",\"type\":\"GlyphRenderer\"}]},\"id\":\"34849\",\"type\":\"LegendItem\"},{\"attributes\":{\"source\":{\"id\":\"34785\",\"type\":\"ColumnDataSource\"}},\"id\":\"34789\",\"type\":\"CDSView\"},{\"attributes\":{\"source\":{\"id\":\"34814\",\"type\":\"ColumnDataSource\"}},\"id\":\"34818\",\"type\":\"CDSView\"},{\"attributes\":{\"axis_label_text_font_size\":{\"value\":\"16pt\"},\"formatter\":{\"id\":\"34795\",\"type\":\"CategoricalTickFormatter\"},\"major_label_text_font_size\":{\"value\":\"16pt\"},\"plot\":{\"id\":\"34752\",\"subtype\":\"Figure\",\"type\":\"Plot\"},\"ticker\":{\"id\":\"34767\",\"type\":\"CategoricalTicker\"}},\"id\":\"34766\",\"type\":\"CategoricalAxis\"},{\"attributes\":{\"fill_alpha\":{\"value\":0.1},\"fill_color\":{\"value\":\"#1f77b4\"},\"height\":{\"value\":0.7},\"left\":{\"field\":\"left\"},\"line_alpha\":{\"value\":0.1},\"line_color\":{\"value\":\"#1f77b4\"},\"line_width\":{\"value\":0.5},\"right\":{\"field\":\"right\"},\"y\":{\"field\":\"y\"}},\"id\":\"34787\",\"type\":\"HBar\"},{\"attributes\":{\"data_source\":{\"id\":\"34785\",\"type\":\"ColumnDataSource\"},\"glyph\":{\"id\":\"34786\",\"type\":\"HBar\"},\"hover_glyph\":null,\"muted_glyph\":null,\"nonselection_glyph\":{\"id\":\"34787\",\"type\":\"HBar\"},\"selection_glyph\":null,\"view\":{\"id\":\"34789\",\"type\":\"CDSView\"}},\"id\":\"34788\",\"type\":\"GlyphRenderer\"},{\"attributes\":{\"data_source\":{\"id\":\"34799\",\"type\":\"ColumnDataSource\"},\"glyph\":{\"id\":\"34800\",\"type\":\"HBar\"},\"hover_glyph\":null,\"muted_glyph\":null,\"nonselection_glyph\":{\"id\":\"34801\",\"type\":\"HBar\"},\"selection_glyph\":null,\"view\":{\"id\":\"34803\",\"type\":\"CDSView\"}},\"id\":\"34802\",\"type\":\"GlyphRenderer\"},{\"attributes\":{},\"id\":\"34770\",\"type\":\"PanTool\"},{\"attributes\":{},\"id\":\"35610\",\"type\":\"UnionRenderers\"},{\"attributes\":{\"active_drag\":\"auto\",\"active_inspect\":\"auto\",\"active_multi\":null,\"active_scroll\":\"auto\",\"active_tap\":\"auto\",\"tools\":[{\"id\":\"34770\",\"type\":\"PanTool\"},{\"id\":\"34771\",\"type\":\"WheelZoomTool\"},{\"id\":\"34772\",\"type\":\"BoxZoomTool\"},{\"id\":\"34773\",\"type\":\"SaveTool\"},{\"id\":\"34774\",\"type\":\"ResetTool\"},{\"id\":\"34775\",\"type\":\"HelpTool\"}]},\"id\":\"34776\",\"type\":\"Toolbar\"},{\"attributes\":{\"fill_alpha\":{\"value\":0.3},\"fill_color\":{\"value\":\"#1f77b4\"},\"height\":{\"value\":0.7},\"left\":{\"field\":\"left\"},\"line_width\":{\"value\":0.5},\"right\":{\"field\":\"right\"},\"y\":{\"field\":\"y\"}},\"id\":\"34786\",\"type\":\"HBar\"},{\"attributes\":{\"callback\":null,\"data\":{\"left\":{\"__ndarray__\":\"XkVYu4qw5j8hd/1ssTLsP9fVmnxQ7uw/zY5ahPw16z8=\",\"dtype\":\"float64\",\"shape\":[4]},\"right\":{\"__ndarray__\":\"11jXrbGu6z/BpFPzIHftP4qW7FlY8e0/NjtqEfLX7D8=\",\"dtype\":\"float64\",\"shape\":[4]},\"y\":[\"Dark\",\"Dawn\",\"Dayl\",\"Dusk\"]},\"selected\":{\"id\":\"34827\",\"type\":\"Selection\"},\"selection_policy\":{\"id\":\"34828\",\"type\":\"UnionRenderers\"}},\"id\":\"34799\",\"type\":\"ColumnDataSource\"},{\"attributes\":{\"fill_alpha\":{\"value\":0.3},\"fill_color\":{\"value\":\"#ff7f0e\"},\"height\":{\"value\":0.7},\"left\":{\"field\":\"left\"},\"line_width\":{\"value\":0.5},\"right\":{\"field\":\"right\"},\"y\":{\"field\":\"y\"}},\"id\":\"34815\",\"type\":\"HBar\"},{\"attributes\":{\"fill_alpha\":{\"value\":0.7},\"fill_color\":{\"value\":\"#1f77b4\"},\"height\":{\"value\":0.7},\"left\":{\"field\":\"left\"},\"line_width\":{\"value\":0.5},\"right\":{\"field\":\"right\"},\"y\":{\"field\":\"y\"}},\"id\":\"34800\",\"type\":\"HBar\"},{\"attributes\":{},\"id\":\"34846\",\"type\":\"Selection\"},{\"attributes\":{\"callback\":null,\"data\":{\"left\":{\"__ndarray__\":\"AAAAAAAAAAAAAAAAAAAAAAAAAAAAAAAAAAAAAAAAAAA=\",\"dtype\":\"float64\",\"shape\":[4]},\"right\":{\"__ndarray__\":\"XkVYu4qw5j8hd/1ssTLsP9fVmnxQ7uw/zY5ahPw16z8=\",\"dtype\":\"float64\",\"shape\":[4]},\"y\":[\"Dark\",\"Dawn\",\"Dayl\",\"Dusk\"]},\"selected\":{\"id\":\"34810\",\"type\":\"Selection\"},\"selection_policy\":{\"id\":\"34811\",\"type\":\"UnionRenderers\"}},\"id\":\"34785\",\"type\":\"ColumnDataSource\"},{\"attributes\":{\"plot\":null,\"text\":\"\",\"text_font_size\":{\"value\":\"16pt\"}},\"id\":\"34791\",\"type\":\"Title\"},{\"attributes\":{},\"id\":\"34827\",\"type\":\"Selection\"},{\"attributes\":{},\"id\":\"35609\",\"type\":\"Selection\"},{\"attributes\":{\"bottom_units\":\"screen\",\"fill_alpha\":{\"value\":0.5},\"fill_color\":{\"value\":\"lightgrey\"},\"left_units\":\"screen\",\"level\":\"overlay\",\"line_alpha\":{\"value\":1.0},\"line_color\":{\"value\":\"black\"},\"line_dash\":[4,4],\"line_width\":{\"value\":2},\"plot\":null,\"render_mode\":\"css\",\"right_units\":\"screen\",\"top_units\":\"screen\"},\"id\":\"34778\",\"type\":\"BoxAnnotation\"},{\"attributes\":{\"dimension\":1,\"plot\":{\"id\":\"34752\",\"subtype\":\"Figure\",\"type\":\"Plot\"},\"ticker\":{\"id\":\"34767\",\"type\":\"CategoricalTicker\"}},\"id\":\"34769\",\"type\":\"Grid\"},{\"attributes\":{\"source\":{\"id\":\"34799\",\"type\":\"ColumnDataSource\"}},\"id\":\"34803\",\"type\":\"CDSView\"},{\"attributes\":{},\"id\":\"34828\",\"type\":\"UnionRenderers\"},{\"attributes\":{\"fill_alpha\":{\"value\":0.1},\"fill_color\":{\"value\":\"#1f77b4\"},\"height\":{\"value\":0.7},\"left\":{\"field\":\"left\"},\"line_alpha\":{\"value\":0.1},\"line_color\":{\"value\":\"#1f77b4\"},\"line_width\":{\"value\":0.5},\"right\":{\"field\":\"right\"},\"y\":{\"field\":\"y\"}},\"id\":\"34801\",\"type\":\"HBar\"},{\"attributes\":{\"label\":{\"value\":\"Severe, Not Intoxicated\"},\"renderers\":[{\"id\":\"34817\",\"type\":\"GlyphRenderer\"}]},\"id\":\"34830\",\"type\":\"LegendItem\"},{\"attributes\":{},\"id\":\"34793\",\"type\":\"BasicTickFormatter\"},{\"attributes\":{},\"id\":\"34775\",\"type\":\"HelpTool\"},{\"attributes\":{},\"id\":\"34767\",\"type\":\"CategoricalTicker\"},{\"attributes\":{},\"id\":\"34810\",\"type\":\"Selection\"},{\"attributes\":{},\"id\":\"34774\",\"type\":\"ResetTool\"},{\"attributes\":{},\"id\":\"34795\",\"type\":\"CategoricalTickFormatter\"},{\"attributes\":{},\"id\":\"34811\",\"type\":\"UnionRenderers\"},{\"attributes\":{\"callback\":null,\"factors\":[\"Dark\",\"Dawn\",\"Dayl\",\"Dusk\"]},\"id\":\"34755\",\"type\":\"FactorRange\"},{\"attributes\":{\"label\":{\"value\":\"Not Severe, Intoxicated\"},\"renderers\":[{\"id\":\"34802\",\"type\":\"GlyphRenderer\"}]},\"id\":\"34813\",\"type\":\"LegendItem\"},{\"attributes\":{},\"id\":\"34773\",\"type\":\"SaveTool\"},{\"attributes\":{},\"id\":\"34771\",\"type\":\"WheelZoomTool\"},{\"attributes\":{\"callback\":null,\"end\":5},\"id\":\"34753\",\"type\":\"Range1d\"},{\"attributes\":{\"source\":{\"id\":\"34831\",\"type\":\"ColumnDataSource\"}},\"id\":\"34835\",\"type\":\"CDSView\"},{\"attributes\":{\"callback\":null,\"data\":{\"left\":{\"__ndarray__\":\"uFRMb6mY7j8AAAAAAADwPxnLMpRZ0e8/z/M8z/M87z8=\",\"dtype\":\"float64\",\"shape\":[4]},\"right\":{\"__ndarray__\":\"AAAAAAAA8D8AAAAAAADwPwAAAAAAAPA/AAAAAAAA8D8=\",\"dtype\":\"float64\",\"shape\":[4]},\"y\":[\"Dark\",\"Dawn\",\"Dayl\",\"Dusk\"]},\"selected\":{\"id\":\"35609\",\"type\":\"Selection\"},\"selection_policy\":{\"id\":\"35610\",\"type\":\"UnionRenderers\"}},\"id\":\"34831\",\"type\":\"ColumnDataSource\"},{\"attributes\":{\"overlay\":{\"id\":\"34778\",\"type\":\"BoxAnnotation\"}},\"id\":\"34772\",\"type\":\"BoxZoomTool\"},{\"attributes\":{\"fill_alpha\":{\"value\":0.7},\"fill_color\":{\"value\":\"#ff7f0e\"},\"height\":{\"value\":0.7},\"left\":{\"field\":\"left\"},\"line_width\":{\"value\":0.5},\"right\":{\"field\":\"right\"},\"y\":{\"field\":\"y\"}},\"id\":\"34832\",\"type\":\"HBar\"},{\"attributes\":{\"label\":{\"value\":\"Not Severe, Not Intoxicated\"},\"renderers\":[{\"id\":\"34788\",\"type\":\"GlyphRenderer\"}]},\"id\":\"34798\",\"type\":\"LegendItem\"},{\"attributes\":{},\"id\":\"34757\",\"type\":\"LinearScale\"},{\"attributes\":{\"data_source\":{\"id\":\"34814\",\"type\":\"ColumnDataSource\"},\"glyph\":{\"id\":\"34815\",\"type\":\"HBar\"},\"hover_glyph\":null,\"muted_glyph\":null,\"nonselection_glyph\":{\"id\":\"34816\",\"type\":\"HBar\"},\"selection_glyph\":null,\"view\":{\"id\":\"34818\",\"type\":\"CDSView\"}},\"id\":\"34817\",\"type\":\"GlyphRenderer\"},{\"attributes\":{\"data_source\":{\"id\":\"34831\",\"type\":\"ColumnDataSource\"},\"glyph\":{\"id\":\"34832\",\"type\":\"HBar\"},\"hover_glyph\":null,\"muted_glyph\":null,\"nonselection_glyph\":{\"id\":\"34833\",\"type\":\"HBar\"},\"selection_glyph\":null,\"view\":{\"id\":\"34835\",\"type\":\"CDSView\"}},\"id\":\"34834\",\"type\":\"GlyphRenderer\"},{\"attributes\":{},\"id\":\"34759\",\"type\":\"CategoricalScale\"},{\"attributes\":{\"axis_label\":\"Fraction\",\"axis_label_text_font_size\":{\"value\":\"16pt\"},\"formatter\":{\"id\":\"34793\",\"type\":\"BasicTickFormatter\"},\"major_label_text_font_size\":{\"value\":\"16pt\"},\"plot\":{\"id\":\"34752\",\"subtype\":\"Figure\",\"type\":\"Plot\"},\"ticker\":{\"id\":\"34762\",\"type\":\"BasicTicker\"}},\"id\":\"34761\",\"type\":\"LinearAxis\"},{\"attributes\":{\"fill_alpha\":{\"value\":0.1},\"fill_color\":{\"value\":\"#1f77b4\"},\"height\":{\"value\":0.7},\"left\":{\"field\":\"left\"},\"line_alpha\":{\"value\":0.1},\"line_color\":{\"value\":\"#1f77b4\"},\"line_width\":{\"value\":0.5},\"right\":{\"field\":\"right\"},\"y\":{\"field\":\"y\"}},\"id\":\"34833\",\"type\":\"HBar\"}],\"root_ids\":[\"34752\"]},\"title\":\"Bokeh Application\",\"version\":\"1.0.2\"}};\n",
       "  var render_items = [{\"docid\":\"0673516b-0e52-43f5-b2f1-d7ce2bea3a6d\",\"roots\":{\"34752\":\"d2e6b92a-88ac-4a83-994d-ee3ba3a96ce7\"}}];\n",
       "  root.Bokeh.embed.embed_items_notebook(docs_json, render_items);\n",
       "\n",
       "  }\n",
       "  if (root.Bokeh !== undefined) {\n",
       "    embed_document(root);\n",
       "  } else {\n",
       "    var attempts = 0;\n",
       "    var timer = setInterval(function(root) {\n",
       "      if (root.Bokeh !== undefined) {\n",
       "        embed_document(root);\n",
       "        clearInterval(timer);\n",
       "      }\n",
       "      attempts++;\n",
       "      if (attempts > 100) {\n",
       "        console.log(\"Bokeh: ERROR: Unable to run BokehJS code because BokehJS library is missing\");\n",
       "        clearInterval(timer);\n",
       "      }\n",
       "    }, 10, root)\n",
       "  }\n",
       "})(window);"
      ],
      "application/vnd.bokehjs_exec.v0+json": ""
     },
     "metadata": {
      "application/vnd.bokehjs_exec.v0+json": {
       "id": "34752"
      }
     },
     "output_type": "display_data"
    }
   ],
   "source": [
    "#obtain rows of df for intoxicated biker / severe outcomes\n",
    "intox = (df['Biker Intox.'] == 'Yes')\n",
    "severe = (df['BikeInjury'] == 'Serious') | (df['BikeInjury'] == 'Killed') \n",
    "\n",
    "indices = [ (~severe & ~intox), (~severe & intox), (severe & ~intox),  (severe & intox) ]\n",
    "colors = [bkpal.Category10[10][0], bkpal.Category10[10][0], bkpal.Category10[10][1], bkpal.Category10[10][1]]\n",
    "alphas = [0.3, 0.7, 0.3, 0.7]\n",
    "labels=['Not Severe, Not Intoxicated', 'Not Severe, Intoxicated', 'Severe, Not Intoxicated', 'Severe, Intoxicated']\n",
    "\n",
    "coln = df.DrvrVehTyp.unique()\n",
    "vals = np.zeros(coln.shape[0])\n",
    "totalcts = df.DrvrVehTyp.value_counts()[coln]\n",
    "fig = bkp.figure(width=800, height=400, y_range=coln,\n",
    "                x_axis_label='Fraction')\n",
    "print(totalcts)\n",
    "for i in range(4):\n",
    "    cts = df.DrvrVehTyp[indices[i]].value_counts()[coln]\n",
    "    cts[np.isnan(cts)] = 0\n",
    "    fig.hbar(y = coln, left = vals/totalcts, right=(vals+cts)/totalcts,\n",
    "                 fill_color=colors[i], line_color='black', line_width=0.5, height=.7, fill_alpha=alphas[i])\n",
    "    vals = vals + cts\n",
    "bkp.show(fig)\n",
    "\n",
    "\n",
    "coln = np.sort(df.SpeedLimit.unique())\n",
    "vals = np.zeros(coln.shape[0])\n",
    "totalcts = df.SpeedLimit.value_counts()[coln]\n",
    "fig = bkp.figure(width=600, height=250, y_range=[str(x) for x in coln],\n",
    "                x_axis_label='Fraction',\n",
    "                y_axis_label='Speed Limit (MPH)')\n",
    "for i in range(4):\n",
    "    cts = df.SpeedLimit[indices[i]].value_counts()[coln]\n",
    "    cts[np.isnan(cts)] = 0\n",
    "    fig.hbar(y = [str(x) for x in coln], left = vals/totalcts, right=(vals+cts)/totalcts,\n",
    "                 fill_color=colors[i], line_color='black', line_width=0.5, height=.7, fill_alpha=alphas[i])\n",
    "    vals = vals + cts\n",
    "bkp.show(fig)\n",
    "\n",
    "\n",
    "coln = np.sort(df.BikeSex.unique())\n",
    "vals = np.zeros(coln.shape[0])\n",
    "totalcts = df.BikeSex.value_counts()[coln]\n",
    "fig = bkp.figure(width=600, height=250, y_range=[str(x) for x in coln],\n",
    "                x_axis_label='Fraction',\n",
    "                y_axis_label='Speed Limit (MPH)')\n",
    "for i in range(4):\n",
    "    cts = df.BikeSex[indices[i]].value_counts()[coln]\n",
    "    cts[np.isnan(cts)] = 0\n",
    "    fig.hbar(y = [str(x) for x in coln], left = vals/totalcts, right=(vals+cts)/totalcts,\n",
    "                 fill_color=colors[i], line_color='black', line_width=0.5, height=.7, fill_alpha=alphas[i])\n",
    "    vals = vals + cts\n",
    "bkp.show(fig)\n",
    "\n",
    "coln = np.array(['Dawn', 'Dayl', 'Dusk', 'Dark'])\n",
    "vals = np.zeros(coln.shape[0])\n",
    "totalcts = df.LightCond.value_counts()[coln]\n",
    "fig = bkp.figure(width=600, height=200, y_range=[str(x) for x in coln],\n",
    "                x_axis_label='Fraction')\n",
    "for i in range(4):\n",
    "    cts = df.LightCond[indices[i]].value_counts()[coln]\n",
    "    cts[np.isnan(cts)] = 0\n",
    "    fig.hbar(y = [str(x) for x in coln], left = vals/totalcts, right=(vals+cts)/totalcts,\n",
    "                 fill_color=colors[i], line_color='black', line_width=0.5, height=.7, fill_alpha=alphas[i])\n",
    "    vals = vals + cts\n",
    "bkp.show(fig)\n",
    "\n",
    "\n",
    "coln = np.sort(df.BikeAge.unique())\n",
    "vals = np.zeros(coln.shape[0])\n",
    "totalcts = df.BikeAge.value_counts()[coln]\n",
    "fig = bkp.figure(width=600, height=2000, y_range=[str(x) for x in coln],\n",
    "                x_axis_label='Fraction',\n",
    "                y_axis_label='Speed Limit (MPH)')\n",
    "for i in range(4):\n",
    "    cts = df.BikeAge[indices[i]].value_counts()[coln]\n",
    "    cts[np.isnan(cts)] = 0\n",
    "    fig.hbar(y = [str(x) for x in coln], left = vals/totalcts, right=(vals+cts)/totalcts,\n",
    "                 fill_color=colors[i], line_color='black', line_width=0.5, height=.7, fill_alpha=alphas[i])\n",
    "    vals = vals + cts\n",
    "bkp.show(fig)\n",
    "\n",
    "\n",
    "coln = np.sort(df.LightCond.unique())\n",
    "vals = np.zeros(coln.shape[0])\n",
    "totalcts = df.LightCond.value_counts()\n",
    "fig = bkp.figure(width=600, height=400, y_range=[str(x) for x in coln],\n",
    "                x_axis_label='Fraction', x_range=(0, 5))\n",
    "for i in range(4):\n",
    "    cts = df.LightCond[indices[i]].value_counts()[coln]\n",
    "    cts[np.isnan(cts)] = 0\n",
    "    fig.hbar(y = [str(x) for x in coln], left = vals/totalcts, right=(vals+cts)/totalcts,\n",
    "                 fill_color=colors[i], line_color='black', line_width=0.5, height=.7, fill_alpha=alphas[i],\n",
    "                legend=labels[i])\n",
    "    vals = vals + cts\n",
    "bkp.show(fig)"
   ]
  },
  {
   "cell_type": "markdown",
   "metadata": {},
   "source": [
    "# "
   ]
  },
  {
   "cell_type": "code",
   "execution_count": 85,
   "metadata": {
    "scrolled": false
   },
   "outputs": [
    {
     "data": {
      "text/html": [
       "\n",
       "\n",
       "\n",
       "\n",
       "\n",
       "\n",
       "  <div class=\"bk-root\" id=\"9d947e8c-2a1b-4e00-a419-420dd43d9cf3\"></div>\n"
      ]
     },
     "metadata": {},
     "output_type": "display_data"
    },
    {
     "data": {
      "application/javascript": [
       "(function(root) {\n",
       "  function embed_document(root) {\n",
       "    \n",
       "  var docs_json = {\"c6c12a2a-0b91-4124-b955-cad5d3c788ed\":{\"roots\":{\"references\":[{\"attributes\":{\"below\":[{\"id\":\"29687\",\"type\":\"LogAxis\"}],\"left\":[{\"id\":\"29692\",\"type\":\"LinearAxis\"}],\"renderers\":[{\"id\":\"29687\",\"type\":\"LogAxis\"},{\"id\":\"29691\",\"type\":\"Grid\"},{\"id\":\"29692\",\"type\":\"LinearAxis\"},{\"id\":\"29696\",\"type\":\"Grid\"},{\"id\":\"29705\",\"type\":\"BoxAnnotation\"},{\"id\":\"29724\",\"type\":\"Legend\"},{\"id\":\"29715\",\"type\":\"GlyphRenderer\"}],\"title\":{\"id\":\"29718\",\"type\":\"Title\"},\"toolbar\":{\"id\":\"29703\",\"type\":\"Toolbar\"},\"x_range\":{\"id\":\"29679\",\"type\":\"DataRange1d\"},\"x_scale\":{\"id\":\"29683\",\"type\":\"LogScale\"},\"y_range\":{\"id\":\"29681\",\"type\":\"DataRange1d\"},\"y_scale\":{\"id\":\"29685\",\"type\":\"LinearScale\"}},\"id\":\"29678\",\"subtype\":\"Figure\",\"type\":\"Plot\"},{\"attributes\":{\"ticker\":null},\"id\":\"29720\",\"type\":\"LogTickFormatter\"},{\"attributes\":{},\"id\":\"29693\",\"type\":\"BasicTicker\"},{\"attributes\":{\"num_minor_ticks\":10},\"id\":\"29688\",\"type\":\"LogTicker\"},{\"attributes\":{},\"id\":\"29702\",\"type\":\"HelpTool\"},{\"attributes\":{},\"id\":\"29683\",\"type\":\"LogScale\"},{\"attributes\":{\"items\":[{\"id\":\"29725\",\"type\":\"LegendItem\"}],\"label_text_font_size\":{\"value\":\"16pt\"},\"plot\":{\"id\":\"29678\",\"subtype\":\"Figure\",\"type\":\"Plot\"}},\"id\":\"29724\",\"type\":\"Legend\"},{\"attributes\":{},\"id\":\"30395\",\"type\":\"Selection\"},{\"attributes\":{\"callback\":null,\"data\":{\"left\":{\"__ndarray__\":\"AAAAAAAA8D8AxF36J/v9Px+EI7HrFgxANT7yeDxRGkCardngLKgoQCzBqZnuGTdAxzYgf9CkRUCyec/APEdUQIhivii3/2JAv8rgfdvMcUCML6cAXK2AQA==\",\"dtype\":\"float64\",\"shape\":[11]},\"right\":{\"__ndarray__\":\"AMRd+if7/T8fhCOx6xYMQDU+8ng8URpAmq3Z4CyoKEAswamZ7hk3QMc2IH/QpEVAsnnPwDxHVECIYr4ot/9iQL/K4H3bzHFAjC+nAFytgEAAAAAAAECPQA==\",\"dtype\":\"float64\",\"shape\":[11]},\"top\":[8595,132,1,0,0,0,0,0,0,0,0]},\"selected\":{\"id\":\"30395\",\"type\":\"Selection\"},\"selection_policy\":{\"id\":\"30396\",\"type\":\"UnionRenderers\"}},\"id\":\"29712\",\"type\":\"ColumnDataSource\"},{\"attributes\":{},\"id\":\"29701\",\"type\":\"ResetTool\"},{\"attributes\":{\"dimension\":1,\"plot\":{\"id\":\"29678\",\"subtype\":\"Figure\",\"type\":\"Plot\"},\"ticker\":{\"id\":\"29693\",\"type\":\"BasicTicker\"}},\"id\":\"29696\",\"type\":\"Grid\"},{\"attributes\":{},\"id\":\"30396\",\"type\":\"UnionRenderers\"},{\"attributes\":{},\"id\":\"29697\",\"type\":\"PanTool\"},{\"attributes\":{\"callback\":null},\"id\":\"29681\",\"type\":\"DataRange1d\"},{\"attributes\":{},\"id\":\"29698\",\"type\":\"WheelZoomTool\"},{\"attributes\":{\"label\":{\"value\":\"Frac Severe, Not Intox\"},\"renderers\":[{\"id\":\"29715\",\"type\":\"GlyphRenderer\"}]},\"id\":\"29725\",\"type\":\"LegendItem\"},{\"attributes\":{\"data_source\":{\"id\":\"29712\",\"type\":\"ColumnDataSource\"},\"glyph\":{\"id\":\"29713\",\"type\":\"Quad\"},\"hover_glyph\":null,\"muted_glyph\":null,\"nonselection_glyph\":{\"id\":\"29714\",\"type\":\"Quad\"},\"selection_glyph\":null,\"view\":{\"id\":\"29716\",\"type\":\"CDSView\"}},\"id\":\"29715\",\"type\":\"GlyphRenderer\"},{\"attributes\":{\"bottom\":{\"value\":0},\"fill_alpha\":{\"value\":0.1},\"fill_color\":{\"value\":\"#1f77b4\"},\"left\":{\"field\":\"left\"},\"line_alpha\":{\"value\":0.1},\"line_color\":{\"value\":\"#1f77b4\"},\"right\":{\"field\":\"right\"},\"top\":{\"field\":\"top\"}},\"id\":\"29714\",\"type\":\"Quad\"},{\"attributes\":{\"source\":{\"id\":\"29712\",\"type\":\"ColumnDataSource\"}},\"id\":\"29716\",\"type\":\"CDSView\"},{\"attributes\":{\"overlay\":{\"id\":\"29705\",\"type\":\"BoxAnnotation\"}},\"id\":\"29699\",\"type\":\"BoxZoomTool\"},{\"attributes\":{},\"id\":\"29700\",\"type\":\"SaveTool\"},{\"attributes\":{\"plot\":null,\"text\":\"\",\"text_font_size\":{\"value\":\"16pt\"}},\"id\":\"29718\",\"type\":\"Title\"},{\"attributes\":{\"callback\":null},\"id\":\"29679\",\"type\":\"DataRange1d\"},{\"attributes\":{\"bottom\":{\"value\":0},\"fill_alpha\":{\"value\":0.4},\"fill_color\":{\"value\":\"#1f77b4\"},\"left\":{\"field\":\"left\"},\"line_alpha\":{\"value\":0.4},\"line_color\":{\"value\":\"white\"},\"right\":{\"field\":\"right\"},\"top\":{\"field\":\"top\"}},\"id\":\"29713\",\"type\":\"Quad\"},{\"attributes\":{\"bottom_units\":\"screen\",\"fill_alpha\":{\"value\":0.5},\"fill_color\":{\"value\":\"lightgrey\"},\"left_units\":\"screen\",\"level\":\"overlay\",\"line_alpha\":{\"value\":1.0},\"line_color\":{\"value\":\"black\"},\"line_dash\":[4,4],\"line_width\":{\"value\":2},\"plot\":null,\"render_mode\":\"css\",\"right_units\":\"screen\",\"top_units\":\"screen\"},\"id\":\"29705\",\"type\":\"BoxAnnotation\"},{\"attributes\":{\"axis_label_text_font_size\":{\"value\":\"16pt\"},\"formatter\":{\"id\":\"29720\",\"type\":\"LogTickFormatter\"},\"major_label_text_font_size\":{\"value\":\"16pt\"},\"plot\":{\"id\":\"29678\",\"subtype\":\"Figure\",\"type\":\"Plot\"},\"ticker\":{\"id\":\"29688\",\"type\":\"LogTicker\"}},\"id\":\"29687\",\"type\":\"LogAxis\"},{\"attributes\":{\"plot\":{\"id\":\"29678\",\"subtype\":\"Figure\",\"type\":\"Plot\"},\"ticker\":{\"id\":\"29688\",\"type\":\"LogTicker\"}},\"id\":\"29691\",\"type\":\"Grid\"},{\"attributes\":{},\"id\":\"29722\",\"type\":\"BasicTickFormatter\"},{\"attributes\":{},\"id\":\"29685\",\"type\":\"LinearScale\"},{\"attributes\":{\"active_drag\":\"auto\",\"active_inspect\":\"auto\",\"active_multi\":null,\"active_scroll\":\"auto\",\"active_tap\":\"auto\",\"tools\":[{\"id\":\"29697\",\"type\":\"PanTool\"},{\"id\":\"29698\",\"type\":\"WheelZoomTool\"},{\"id\":\"29699\",\"type\":\"BoxZoomTool\"},{\"id\":\"29700\",\"type\":\"SaveTool\"},{\"id\":\"29701\",\"type\":\"ResetTool\"},{\"id\":\"29702\",\"type\":\"HelpTool\"}]},\"id\":\"29703\",\"type\":\"Toolbar\"},{\"attributes\":{\"axis_label_text_font_size\":{\"value\":\"16pt\"},\"formatter\":{\"id\":\"29722\",\"type\":\"BasicTickFormatter\"},\"major_label_text_font_size\":{\"value\":\"16pt\"},\"plot\":{\"id\":\"29678\",\"subtype\":\"Figure\",\"type\":\"Plot\"},\"ticker\":{\"id\":\"29693\",\"type\":\"BasicTicker\"}},\"id\":\"29692\",\"type\":\"LinearAxis\"}],\"root_ids\":[\"29678\"]},\"title\":\"Bokeh Application\",\"version\":\"1.0.2\"}};\n",
       "  var render_items = [{\"docid\":\"c6c12a2a-0b91-4124-b955-cad5d3c788ed\",\"roots\":{\"29678\":\"9d947e8c-2a1b-4e00-a419-420dd43d9cf3\"}}];\n",
       "  root.Bokeh.embed.embed_items_notebook(docs_json, render_items);\n",
       "\n",
       "  }\n",
       "  if (root.Bokeh !== undefined) {\n",
       "    embed_document(root);\n",
       "  } else {\n",
       "    var attempts = 0;\n",
       "    var timer = setInterval(function(root) {\n",
       "      if (root.Bokeh !== undefined) {\n",
       "        embed_document(root);\n",
       "        clearInterval(timer);\n",
       "      }\n",
       "      attempts++;\n",
       "      if (attempts > 100) {\n",
       "        console.log(\"Bokeh: ERROR: Unable to run BokehJS code because BokehJS library is missing\");\n",
       "        clearInterval(timer);\n",
       "      }\n",
       "    }, 10, root)\n",
       "  }\n",
       "})(window);"
      ],
      "application/vnd.bokehjs_exec.v0+json": ""
     },
     "metadata": {
      "application/vnd.bokehjs_exec.v0+json": {
       "id": "29678"
      }
     },
     "output_type": "display_data"
    }
   ],
   "source": [
    "unique_bin_cts = df.groupby(['BikeAge','BikeSex','Biker Intox.', 'BikeDir', 'BikePos', 'Day of Week', 'CrashHour', 'DrvrVehTyp','LightCond','SpeedLimit']).count()\n",
    "#print(unique_bin_cts)\n",
    "#unique_bin_cts = df.groupby(['BikeSex','Biker Intox.', 'BikeDir', 'BikePos', 'DrvrVehTyp','LightCond','SpeedLimit']).count()\n",
    "\n",
    "\n",
    "fig = bkp.figure(x_axis_type='log')\n",
    "hist, edges = np.histogram(unique_bin_cts['BikeInjury'], bins=np.logspace(0, 3, 12))\n",
    "fig.quad(top=hist, bottom=0, left=edges[:-1], right=edges[1:],\n",
    "           fill_color=bkpal.Category10[10][0], line_color=\"white\", alpha=0.4, legend='Frac Severe, Not Intox')\n",
    "bkp.show(fig)"
   ]
  },
  {
   "cell_type": "markdown",
   "metadata": {},
   "source": [
    "# Local Permutation Test\n",
    "\n",
    "Does biker intoxication affect probability of severe injury?\n",
    "\n",
    "The null hypothesis is that Biker Intoxication doesn't affect the probability of severe injury. Therefore we assume the observations are exchangeable w.r.t. that covariate, while the others are dealt with via the premetric:"
   ]
  },
  {
   "cell_type": "markdown",
   "metadata": {},
   "source": [
    "### Premetric"
   ]
  },
  {
   "cell_type": "code",
   "execution_count": null,
   "metadata": {},
   "outputs": [],
   "source": [
    "#X columns: ['Biker Intox.', 'BikeAge', 'BikeSex', 'BikeDir', 'BikePos', \n",
    "#        'DrvrVehTyp', 'LightCond', 'SpeedLimit', 'Day of Week', 'CrashHour']\n",
    "\n",
    "age_w = 0.1\n",
    "spd_w = 0.1\n",
    "day_w = 0.1\n",
    "hr_w = 0.1\n",
    "\n",
    "def premetric(x1, x2):\n",
    "    cat_idcs = [2,3,4,5,6]\n",
    "    if (x1[cat_idcs] != x2[cat_idcs]).any():\n",
    "        return 1\n",
    "    else:\n",
    "        return min(1, \n",
    "                  age_w*np.fabs(x1[1]-x2[1]) + \n",
    "                  spd_w*np.fabs(x1[7]-x2[7]) +\n",
    "                  day_w*np.fabs(x1[8]-x2[8]) + \n",
    "                  hr_w*np.fabs(x1[9]-x2[9])\n",
    "                  )           "
   ]
  },
  {
   "cell_type": "markdown",
   "metadata": {},
   "source": [
    "### Test Statistic"
   ]
  },
  {
   "cell_type": "code",
   "execution_count": 94,
   "metadata": {},
   "outputs": [],
   "source": [
    "def test_stat(X, Y):\n",
    "    intox = (X['Biker Intox.'] == 'Yes')\n",
    "    severe = (Y == 'Serious') | (Y == 'Killed') \n",
    "    return (severe & intox).sum()/intox.sum() - (severe & ~intox).sum()/(~intox).sum()"
   ]
  },
  {
   "cell_type": "markdown",
   "metadata": {},
   "source": [
    "### Permutation Group Sampler"
   ]
  },
  {
   "cell_type": "code",
   "execution_count": 36,
   "metadata": {},
   "outputs": [
    {
     "ename": "NameError",
     "evalue": "name 'localexch' is not defined",
     "output_type": "error",
     "traceback": [
      "\u001b[0;31m---------------------------------------------------------------------------\u001b[0m",
      "\u001b[0;31mNameError\u001b[0m                                 Traceback (most recent call last)",
      "\u001b[0;32m<ipython-input-36-ae4ca311059f>\u001b[0m in \u001b[0;36m<module>\u001b[0;34m\u001b[0m\n\u001b[0;32m----> 1\u001b[0;31m \u001b[0mauto_sampler\u001b[0m \u001b[0;34m=\u001b[0m \u001b[0mlocalexch\u001b[0m\u001b[0;34m.\u001b[0m\u001b[0mdesign_sampler\u001b[0m\u001b[0;34m(\u001b[0m\u001b[0mdata\u001b[0m\u001b[0;34m,\u001b[0m \u001b[0mpremetric\u001b[0m\u001b[0;34m)\u001b[0m\u001b[0;34m\u001b[0m\u001b[0;34m\u001b[0m\u001b[0m\n\u001b[0m",
      "\u001b[0;31mNameError\u001b[0m: name 'localexch' is not defined"
     ]
    }
   ],
   "source": [
    "def construct_groups(X, premetric, alpha):\n",
    "    groups = [[0]]\n",
    "    for i in range(1, X.shape[0]):\n",
    "        for j in range(len(groups)):\n",
    "            if (np.array([premetric(X.loc[i], X.loc[k]) for k in groups[j]]) <= alpha/2).all():\n",
    "                groups[j].append(i)\n",
    "        groups.append([i])\n",
    "    return groups\n",
    "\n",
    "def construct_pairs(X, match_coln, premetric, alpha):\n",
    "    \n",
    "\n",
    "auto_sampler = localexch.design_clustered_sampler(X, premetric)\n",
    "\n",
    "auto_sampler_2 = localexch.design_paired_sampler(X, premetric, 'Biker Intox.')\n",
    "\n",
    "def sampler(X, premetric, alpha):\n",
    "    #paired matching sampler"
   ]
  },
  {
   "cell_type": "markdown",
   "metadata": {},
   "source": [
    "### Run the test"
   ]
  },
  {
   "cell_type": "code",
   "execution_count": 37,
   "metadata": {},
   "outputs": [
    {
     "ename": "NameError",
     "evalue": "name 'localexch' is not defined",
     "output_type": "error",
     "traceback": [
      "\u001b[0;31m---------------------------------------------------------------------------\u001b[0m",
      "\u001b[0;31mNameError\u001b[0m                                 Traceback (most recent call last)",
      "\u001b[0;32m<ipython-input-37-bfce3de72d44>\u001b[0m in \u001b[0;36m<module>\u001b[0;34m\u001b[0m\n\u001b[0;32m----> 1\u001b[0;31m \u001b[0mlocalexch\u001b[0m\u001b[0;34m.\u001b[0m\u001b[0mtest\u001b[0m\u001b[0;34m(\u001b[0m\u001b[0mdata\u001b[0m\u001b[0;34m,\u001b[0m \u001b[0mtest_stat\u001b[0m\u001b[0;34m,\u001b[0m \u001b[0mgroup_sampler\u001b[0m\u001b[0;34m,\u001b[0m \u001b[0mpremetric\u001b[0m\u001b[0;34m,\u001b[0m \u001b[0mn_samples\u001b[0m\u001b[0;34m)\u001b[0m\u001b[0;34m\u001b[0m\u001b[0;34m\u001b[0m\u001b[0m\n\u001b[0m",
      "\u001b[0;31mNameError\u001b[0m: name 'localexch' is not defined"
     ]
    }
   ],
   "source": [
    "localexch.test(X, Y, test_stat, group_sampler, premetric, n_samples)"
   ]
  },
  {
   "cell_type": "markdown",
   "metadata": {},
   "source": [
    "### Visualization"
   ]
  },
  {
   "cell_type": "markdown",
   "metadata": {},
   "source": [
    "# Local Estimation"
   ]
  },
  {
   "cell_type": "markdown",
   "metadata": {},
   "source": [
    "What is the probability of severe outcome as a function of biker age / intoxication state"
   ]
  },
  {
   "cell_type": "code",
   "execution_count": null,
   "metadata": {},
   "outputs": [],
   "source": [
    "localexch.estimate(prediction_pts, data, premetric)"
   ]
  },
  {
   "cell_type": "code",
   "execution_count": 219,
   "metadata": {
    "scrolled": false
   },
   "outputs": [
    {
     "name": "stdout",
     "output_type": "stream",
     "text": [
      "0.1984251968503937\n",
      "0.07363245236631838\n"
     ]
    },
    {
     "name": "stderr",
     "output_type": "stream",
     "text": [
      "/home/trevor/.local/lib/python3.6/site-packages/ipykernel_launcher.py:12: RuntimeWarning: invalid value encountered in true_divide\n",
      "  if sys.path[0] == '':\n",
      "/home/trevor/.local/lib/python3.6/site-packages/ipykernel_launcher.py:17: RuntimeWarning: invalid value encountered in true_divide\n"
     ]
    },
    {
     "data": {
      "text/html": [
       "\n",
       "\n",
       "\n",
       "\n",
       "\n",
       "\n",
       "  <div class=\"bk-root\" id=\"3d0dbfd6-d243-49a8-8c1a-3dd59ad07d2f\"></div>\n"
      ]
     },
     "metadata": {},
     "output_type": "display_data"
    },
    {
     "data": {
      "application/javascript": [
       "(function(root) {\n",
       "  function embed_document(root) {\n",
       "    \n",
       "  var docs_json = {\"f8d9247e-c4c9-40f8-9e3b-44c2f6cc76f5\":{\"roots\":{\"references\":[{\"attributes\":{\"below\":[{\"id\":\"17134\",\"type\":\"LinearAxis\"}],\"left\":[{\"id\":\"17139\",\"type\":\"LinearAxis\"}],\"renderers\":[{\"id\":\"17134\",\"type\":\"LinearAxis\"},{\"id\":\"17138\",\"type\":\"Grid\"},{\"id\":\"17139\",\"type\":\"LinearAxis\"},{\"id\":\"17143\",\"type\":\"Grid\"},{\"id\":\"17152\",\"type\":\"BoxAnnotation\"},{\"id\":\"17171\",\"type\":\"Legend\"},{\"id\":\"17162\",\"type\":\"GlyphRenderer\"},{\"id\":\"17176\",\"type\":\"GlyphRenderer\"}],\"title\":{\"id\":\"17165\",\"type\":\"Title\"},\"toolbar\":{\"id\":\"17150\",\"type\":\"Toolbar\"},\"x_range\":{\"id\":\"17126\",\"type\":\"DataRange1d\"},\"x_scale\":{\"id\":\"17130\",\"type\":\"LinearScale\"},\"y_range\":{\"id\":\"17128\",\"type\":\"DataRange1d\"},\"y_scale\":{\"id\":\"17132\",\"type\":\"LinearScale\"}},\"id\":\"17125\",\"subtype\":\"Figure\",\"type\":\"Plot\"},{\"attributes\":{\"data_source\":{\"id\":\"17159\",\"type\":\"ColumnDataSource\"},\"glyph\":{\"id\":\"17160\",\"type\":\"Quad\"},\"hover_glyph\":null,\"muted_glyph\":null,\"nonselection_glyph\":{\"id\":\"17161\",\"type\":\"Quad\"},\"selection_glyph\":null,\"view\":{\"id\":\"17163\",\"type\":\"CDSView\"}},\"id\":\"17162\",\"type\":\"GlyphRenderer\"},{\"attributes\":{},\"id\":\"17130\",\"type\":\"LinearScale\"},{\"attributes\":{\"source\":{\"id\":\"17159\",\"type\":\"ColumnDataSource\"}},\"id\":\"17163\",\"type\":\"CDSView\"},{\"attributes\":{},\"id\":\"17132\",\"type\":\"LinearScale\"},{\"attributes\":{\"plot\":null,\"text\":\"\"},\"id\":\"17165\",\"type\":\"Title\"},{\"attributes\":{\"formatter\":{\"id\":\"17169\",\"type\":\"BasicTickFormatter\"},\"plot\":{\"id\":\"17125\",\"subtype\":\"Figure\",\"type\":\"Plot\"},\"ticker\":{\"id\":\"17135\",\"type\":\"BasicTicker\"}},\"id\":\"17134\",\"type\":\"LinearAxis\"},{\"attributes\":{},\"id\":\"17167\",\"type\":\"BasicTickFormatter\"},{\"attributes\":{},\"id\":\"17135\",\"type\":\"BasicTicker\"},{\"attributes\":{},\"id\":\"17169\",\"type\":\"BasicTickFormatter\"},{\"attributes\":{\"plot\":{\"id\":\"17125\",\"subtype\":\"Figure\",\"type\":\"Plot\"},\"ticker\":{\"id\":\"17135\",\"type\":\"BasicTicker\"}},\"id\":\"17138\",\"type\":\"Grid\"},{\"attributes\":{\"items\":[{\"id\":\"17172\",\"type\":\"LegendItem\"},{\"id\":\"17187\",\"type\":\"LegendItem\"}],\"plot\":{\"id\":\"17125\",\"subtype\":\"Figure\",\"type\":\"Plot\"}},\"id\":\"17171\",\"type\":\"Legend\"},{\"attributes\":{\"formatter\":{\"id\":\"17167\",\"type\":\"BasicTickFormatter\"},\"plot\":{\"id\":\"17125\",\"subtype\":\"Figure\",\"type\":\"Plot\"},\"ticker\":{\"id\":\"17140\",\"type\":\"BasicTicker\"}},\"id\":\"17139\",\"type\":\"LinearAxis\"},{\"attributes\":{\"label\":{\"value\":\"Frac Severe, Not Intox\"},\"renderers\":[{\"id\":\"17162\",\"type\":\"GlyphRenderer\"}]},\"id\":\"17172\",\"type\":\"LegendItem\"},{\"attributes\":{},\"id\":\"17140\",\"type\":\"BasicTicker\"},{\"attributes\":{\"dimension\":1,\"plot\":{\"id\":\"17125\",\"subtype\":\"Figure\",\"type\":\"Plot\"},\"ticker\":{\"id\":\"17140\",\"type\":\"BasicTicker\"}},\"id\":\"17143\",\"type\":\"Grid\"},{\"attributes\":{\"bottom\":{\"value\":0},\"fill_alpha\":{\"value\":0.4},\"fill_color\":{\"value\":\"#ff7f0e\"},\"left\":{\"field\":\"left\"},\"line_alpha\":{\"value\":0.4},\"line_color\":{\"value\":\"white\"},\"right\":{\"field\":\"right\"},\"top\":{\"field\":\"top\"}},\"id\":\"17174\",\"type\":\"Quad\"},{\"attributes\":{\"bottom\":{\"value\":0},\"fill_alpha\":{\"value\":0.1},\"fill_color\":{\"value\":\"#1f77b4\"},\"left\":{\"field\":\"left\"},\"line_alpha\":{\"value\":0.1},\"line_color\":{\"value\":\"#1f77b4\"},\"right\":{\"field\":\"right\"},\"top\":{\"field\":\"top\"}},\"id\":\"17175\",\"type\":\"Quad\"},{\"attributes\":{\"callback\":null},\"id\":\"17126\",\"type\":\"DataRange1d\"},{\"attributes\":{\"bottom\":{\"value\":0},\"fill_alpha\":{\"value\":0.4},\"fill_color\":{\"value\":\"#1f77b4\"},\"left\":{\"field\":\"left\"},\"line_alpha\":{\"value\":0.4},\"line_color\":{\"value\":\"white\"},\"right\":{\"field\":\"right\"},\"top\":{\"field\":\"top\"}},\"id\":\"17160\",\"type\":\"Quad\"},{\"attributes\":{\"data_source\":{\"id\":\"17173\",\"type\":\"ColumnDataSource\"},\"glyph\":{\"id\":\"17174\",\"type\":\"Quad\"},\"hover_glyph\":null,\"muted_glyph\":null,\"nonselection_glyph\":{\"id\":\"17175\",\"type\":\"Quad\"},\"selection_glyph\":null,\"view\":{\"id\":\"17177\",\"type\":\"CDSView\"}},\"id\":\"17176\",\"type\":\"GlyphRenderer\"},{\"attributes\":{\"bottom\":{\"value\":0},\"fill_alpha\":{\"value\":0.1},\"fill_color\":{\"value\":\"#1f77b4\"},\"left\":{\"field\":\"left\"},\"line_alpha\":{\"value\":0.1},\"line_color\":{\"value\":\"#1f77b4\"},\"right\":{\"field\":\"right\"},\"top\":{\"field\":\"top\"}},\"id\":\"17161\",\"type\":\"Quad\"},{\"attributes\":{\"active_drag\":\"auto\",\"active_inspect\":\"auto\",\"active_multi\":null,\"active_scroll\":\"auto\",\"active_tap\":\"auto\",\"tools\":[{\"id\":\"17144\",\"type\":\"PanTool\"},{\"id\":\"17145\",\"type\":\"WheelZoomTool\"},{\"id\":\"17146\",\"type\":\"BoxZoomTool\"},{\"id\":\"17147\",\"type\":\"SaveTool\"},{\"id\":\"17148\",\"type\":\"ResetTool\"},{\"id\":\"17149\",\"type\":\"HelpTool\"}]},\"id\":\"17150\",\"type\":\"Toolbar\"},{\"attributes\":{\"callback\":null},\"id\":\"17128\",\"type\":\"DataRange1d\"},{\"attributes\":{\"source\":{\"id\":\"17173\",\"type\":\"ColumnDataSource\"}},\"id\":\"17177\",\"type\":\"CDSView\"},{\"attributes\":{},\"id\":\"17144\",\"type\":\"PanTool\"},{\"attributes\":{},\"id\":\"17184\",\"type\":\"UnionRenderers\"},{\"attributes\":{},\"id\":\"17145\",\"type\":\"WheelZoomTool\"},{\"attributes\":{\"callback\":null,\"data\":{\"left\":[0,1,2,3,4,5,6,7,8,9,10,11,12,13,14,15,16,17,18,19,20,21,22,23,24,25,26,27,28,29,30,31,32,33,34,35,36,37,38,39,40,41,42,43,44,45,46,47,48,49,50,51,52,53,54,55,56,57,58,59,60,61,62,63,64,65,66,67,68,69,70,71,72,73,74,75,76,77,78,79,80,81,82,83,84,85,86,87,88,89,90,91,92,93,94,95,96,97,98],\"right\":[1,2,3,4,5,6,7,8,9,10,11,12,13,14,15,16,17,18,19,20,21,22,23,24,25,26,27,28,29,30,31,32,33,34,35,36,37,38,39,40,41,42,43,44,45,46,47,48,49,50,51,52,53,54,55,56,57,58,59,60,61,62,63,64,65,66,67,68,69,70,71,72,73,74,75,76,77,78,79,80,81,82,83,84,85,86,87,88,89,90,91,92,93,94,95,96,97,98,99],\"top\":{\"__ndarray__\":\"AAAAAAAAAAAAAAAAAAAAAAAAAAAAAAAARhdddNFFtz8YhmEYhmGoP9aHxvrQWK8/BhZYYIEFpj9XBA0ndV+uP9WxtzZMc7c/TgJxoeYksD8luzZRsmuzP3/curwDjrQ/EiZhEiZhsj9fRmI1XPywP1EURVEURbE/GBgYGBgYqD8srrG4xuK6P2Cjd0XmS7M/tEPgxjIopT8brdEardGqPxShCEUoQqE/l4BLwCXgsj8pXI/C9SisP1yc1myfqK4/o2BRsChYpD8VFRUVFRWlPwAAAAAAAAAAWEeb9ykuqT+5dXkHHCmqP7RD4MYyKKU/cB/BfQT3sT8RDuEQDuGgPxdswRZswaY/uB6F61G4rj8zMzMzMzOjP/QFfUFf0Lc/yHfhIHp8tz8XaIEWaIGWP88tcer33LI/l5aWlpaWtj8LhJF2rEC4P3sUrkfherQ/H5lA79S1rD8UoQhFKEKxP/DCQfT4Lqw/BPcR3Edwvz9PIyz3NMLCP8HbDwm8/cA/GqzQGazQuT8IBAKBQCCwP5IkSZIkSbI/yWfdYIp8tj9lk0022WSzP/oYnI/B+bg/AAAAAAAArD/B2w8JvP3APx+ZQO/Utbw/Fl/xFV/xtT/GGGOMMca4P0basQJhpL0/SB555JFHvj9oICod2TPAP2e38Ksxka4/DSd1Xx5bsT9BTK4gJlfAP6uqqqqqqro/GIZhGIZhuD8apEEapEG6P7dt27Zt28Y/AAAAAAAAxD8cx3Ecx3G8P1VVVVVVVcU/ERERERERwT+e2Imd2InNP9u2bdu2bds/HMdxHMdxzD8AAAAAAAAAAFVVVVVVVdU/VVVVVVVV1T9VVVVVVVXlPwAAAAAAAOA/mpmZmZmZyT8AAAAAAADQPwAAAAAAAAAAVVVVVVVV5T8AAAAAAAD4/wAAAAAAAPj/AAAAAAAAAAAAAAAAAAD4/wAAAAAAAAAAAAAAAAAA+P8AAAAAAAAAAAAAAAAAAPj/AAAAAAAAAAAAAAAAAAD4/wAAAAAAAPj/AAAAAAAA+P8AAAAAAAD4/wAAAAAAAPj/\",\"dtype\":\"float64\",\"shape\":[99]}},\"selected\":{\"id\":\"17185\",\"type\":\"Selection\"},\"selection_policy\":{\"id\":\"17184\",\"type\":\"UnionRenderers\"}},\"id\":\"17159\",\"type\":\"ColumnDataSource\"},{\"attributes\":{},\"id\":\"17185\",\"type\":\"Selection\"},{\"attributes\":{\"bottom_units\":\"screen\",\"fill_alpha\":{\"value\":0.5},\"fill_color\":{\"value\":\"lightgrey\"},\"left_units\":\"screen\",\"level\":\"overlay\",\"line_alpha\":{\"value\":1.0},\"line_color\":{\"value\":\"black\"},\"line_dash\":[4,4],\"line_width\":{\"value\":2},\"plot\":null,\"render_mode\":\"css\",\"right_units\":\"screen\",\"top_units\":\"screen\"},\"id\":\"17152\",\"type\":\"BoxAnnotation\"},{\"attributes\":{\"overlay\":{\"id\":\"17152\",\"type\":\"BoxAnnotation\"}},\"id\":\"17146\",\"type\":\"BoxZoomTool\"},{\"attributes\":{\"label\":{\"value\":\"Frac Severe, Intox\"},\"renderers\":[{\"id\":\"17176\",\"type\":\"GlyphRenderer\"}]},\"id\":\"17187\",\"type\":\"LegendItem\"},{\"attributes\":{},\"id\":\"17147\",\"type\":\"SaveTool\"},{\"attributes\":{\"callback\":null,\"data\":{\"left\":[0,1,2,3,4,5,6,7,8,9,10,11,12,13,14,15,16,17,18,19,20,21,22,23,24,25,26,27,28,29,30,31,32,33,34,35,36,37,38,39,40,41,42,43,44,45,46,47,48,49,50,51,52,53,54,55,56,57,58,59,60,61,62,63,64,65,66,67,68,69,70,71,72,73,74,75,76,77,78,79,80,81,82,83,84,85,86,87,88,89,90,91,92,93,94,95,96,97,98],\"right\":[1,2,3,4,5,6,7,8,9,10,11,12,13,14,15,16,17,18,19,20,21,22,23,24,25,26,27,28,29,30,31,32,33,34,35,36,37,38,39,40,41,42,43,44,45,46,47,48,49,50,51,52,53,54,55,56,57,58,59,60,61,62,63,64,65,66,67,68,69,70,71,72,73,74,75,76,77,78,79,80,81,82,83,84,85,86,87,88,89,90,91,92,93,94,95,96,97,98,99],\"top\":{\"__ndarray__\":\"AAAAAAAA+P8AAAAAAAD4/wAAAAAAAPj/AAAAAAAA+P8AAAAAAAD4/wAAAAAAAAAAAAAAAAAA4D8AAAAAAAAAAAAAAAAAAAAAAAAAAAAAAAAAAAAAAAAAAAAAAAAAAAAAAAAAAAAAAABVVVVVVVXVPwAAAAAAAAAAAAAAAAAAAABVVVVVVVXFP5qZmZmZmck/AAAAAAAA4D9VVVVVVVXFPxdddNFFF90/27Zt27Zt2z8zMzMzMzPDP0YXXXTRRbc/HMdxHMdxzD8AAAAAAADAPwAAAAAAANA/kiRJkiRJwj9GF1100UXXP5IkSZIkSdI/KK+hvIbyuj+amZmZmZnZPwAAAAAAAAAAAAAAAAAA0D8AAAAAAADUPwAAAAAAAMA/VVVVVVVV1T+amZmZmZnZPxQ7sRM7sdM/AAAAAAAAAAAAAAAAAACwP1VVVVVVVbU/09LS0tLS0j9VVVVVVVXVP15DeQ3lNdQ/mpmZmZmZuT8XXXTRRRfNP1VVVVVVVcU/q6qqqqqqyj8eHh4eHh7OP5IkSZIkScI/RhdddNFFxz8AAAAAAAAAALETO7ETO9E/ZCELWchCtj/btm3btm3LP5IkSZIkSdI/RhdddNFFxz9VVVVVVVXFP3TRRRdddNE/VVVVVVVV1T+amZmZmZnJPwAAAAAAAAAAAAAAAAAAAAAAAAAAAAAAAFVVVVVVVdU/AAAAAAAAAAAAAAAAAAAAAAAAAAAAAAAAAAAAAAAA+P8AAAAAAAAAAAAAAAAAAPj/AAAAAAAA+P8AAAAAAAD4/wAAAAAAAPj/AAAAAAAA+P8AAAAAAAD4/wAAAAAAAPj/AAAAAAAA+P8AAAAAAAD4/wAAAAAAAPj/AAAAAAAA+P8AAAAAAAD4/wAAAAAAAPj/AAAAAAAA+P8AAAAAAAD4/wAAAAAAAPj/AAAAAAAA+P8AAAAAAAAAAAAAAAAAAPj/AAAAAAAA+P8AAAAAAAD4/wAAAAAAAPj/AAAAAAAA+P8AAAAAAAD4/wAAAAAAAPj/AAAAAAAA+P8AAAAAAAD4/wAAAAAAAPj/\",\"dtype\":\"float64\",\"shape\":[99]}},\"selected\":{\"id\":\"17693\",\"type\":\"Selection\"},\"selection_policy\":{\"id\":\"17692\",\"type\":\"UnionRenderers\"}},\"id\":\"17173\",\"type\":\"ColumnDataSource\"},{\"attributes\":{},\"id\":\"17148\",\"type\":\"ResetTool\"},{\"attributes\":{},\"id\":\"17692\",\"type\":\"UnionRenderers\"},{\"attributes\":{},\"id\":\"17149\",\"type\":\"HelpTool\"},{\"attributes\":{},\"id\":\"17693\",\"type\":\"Selection\"}],\"root_ids\":[\"17125\"]},\"title\":\"Bokeh Application\",\"version\":\"1.0.2\"}};\n",
       "  var render_items = [{\"docid\":\"f8d9247e-c4c9-40f8-9e3b-44c2f6cc76f5\",\"roots\":{\"17125\":\"3d0dbfd6-d243-49a8-8c1a-3dd59ad07d2f\"}}];\n",
       "  root.Bokeh.embed.embed_items_notebook(docs_json, render_items);\n",
       "\n",
       "  }\n",
       "  if (root.Bokeh !== undefined) {\n",
       "    embed_document(root);\n",
       "  } else {\n",
       "    var attempts = 0;\n",
       "    var timer = setInterval(function(root) {\n",
       "      if (root.Bokeh !== undefined) {\n",
       "        embed_document(root);\n",
       "        clearInterval(timer);\n",
       "      }\n",
       "      attempts++;\n",
       "      if (attempts > 100) {\n",
       "        console.log(\"Bokeh: ERROR: Unable to run BokehJS code because BokehJS library is missing\");\n",
       "        clearInterval(timer);\n",
       "      }\n",
       "    }, 10, root)\n",
       "  }\n",
       "})(window);"
      ],
      "application/vnd.bokehjs_exec.v0+json": ""
     },
     "metadata": {
      "application/vnd.bokehjs_exec.v0+json": {
       "id": "17125"
      }
     },
     "output_type": "display_data"
    }
   ],
   "source": [
    "\n",
    "intox = (df['Biker Intox.'] == 'Yes')\n",
    "severe = (df['BikeInjury'] == 'Serious') | (df['BikeInjury'] == 'Killed')\n",
    "\n",
    "print((severe & intox).sum() / ((severe & intox).sum() +(~severe & intox).sum() ))\n",
    "print((severe & ~intox).sum() / ((severe & ~intox).sum() +(~severe & ~intox).sum() ))\n",
    "\n",
    "\n",
    "fig = bkp.figure()\n",
    "\n",
    "hist1, edges = np.histogram(df['BikeAge'][~severe & ~intox], bins=np.arange(0, 100, 1))\n",
    "hist2, edges = np.histogram(df['BikeAge'][severe & ~intox], bins=np.arange(0, 100, 1))\n",
    "fig.quad(top=hist2/(hist1+hist2), bottom=0, left=edges[:-1], right=edges[1:],\n",
    "           fill_color=bkpal.Category10[10][0], line_color=\"white\", alpha=0.4, legend='Frac Severe, Not Intox')\n",
    "\n",
    "hist1, edges = np.histogram(df['BikeAge'][~severe & intox], bins=np.arange(0, 100, 1))\n",
    "hist2, edges = np.histogram(df['BikeAge'][severe & intox], bins=np.arange(0, 100, 1))\n",
    "fig.quad(top=hist2/(hist1+hist2), bottom=0, left=edges[:-1], right=edges[1:],\n",
    "           fill_color=bkpal.Category10[10][1], line_color=\"white\", alpha=0.4, legend='Frac Severe, Intox')\n",
    "\n",
    "\n",
    "bkp.show(fig)"
   ]
  },
  {
   "cell_type": "code",
   "execution_count": null,
   "metadata": {},
   "outputs": [],
   "source": [
    "fig = bkp.figure()\n",
    "hist, edges = np.histogram(df['BikeAge'], bins=np.arange(0, 100, 1))\n",
    "fig.quad(top=hist, bottom=0, left=edges[:-1], right=edges[1:],\n",
    "           fill_color=bkpal.Category10[10][0], line_color=\"white\", alpha=0.4)\n",
    "bkp.show(fig)"
   ]
  },
  {
   "cell_type": "code",
   "execution_count": 185,
   "metadata": {},
   "outputs": [
    {
     "name": "stdout",
     "output_type": "stream",
     "text": [
      "['None' 'Possible' 'Minor' 'Serious' 'Killed']\n"
     ]
    }
   ],
   "source": [
    "print(df.BikeInjury.unique())\n",
    "\n"
   ]
  },
  {
   "cell_type": "code",
   "execution_count": 119,
   "metadata": {},
   "outputs": [
    {
     "name": "stdout",
     "output_type": "stream",
     "text": [
      "(796, 29)\n",
      "(10470, 29)\n",
      "139\n",
      "688\n"
     ]
    }
   ],
   "source": [
    "intoxrows = (df['Biker Intox.'] == 'Yes')\n",
    "intox = df[cols_used][intoxrows]\n",
    "nintox = df[cols_used][~intoxrows]\n",
    "print(intox.shape)\n",
    "print(nintox.shape)\n",
    "injuries = (intox['BikeInjury'] == 'A: Suspected Serious Injury') | (intox['BikeInjury'] == 'K: Killed')\n",
    "print(injuries.sum())\n",
    "injuries = (nintox['BikeInjury'] == 'A: Suspected Serious Injury') | (nintox['BikeInjury'] == 'K: Killed')\n",
    "print(injuries.sum())"
   ]
  },
  {
   "cell_type": "code",
   "execution_count": 120,
   "metadata": {},
   "outputs": [
    {
     "data": {
      "text/plain": [
       "0.17462311557788945"
      ]
     },
     "execution_count": 120,
     "metadata": {},
     "output_type": "execute_result"
    }
   ],
   "source": [
    "139/796"
   ]
  },
  {
   "cell_type": "code",
   "execution_count": 121,
   "metadata": {},
   "outputs": [
    {
     "data": {
      "text/plain": [
       "0.06571155682903534"
      ]
     },
     "execution_count": 121,
     "metadata": {},
     "output_type": "execute_result"
    }
   ],
   "source": [
    "688/10470"
   ]
  },
  {
   "cell_type": "code",
   "execution_count": null,
   "metadata": {},
   "outputs": [],
   "source": []
  }
 ],
 "metadata": {
  "kernelspec": {
   "display_name": "Python 3",
   "language": "python",
   "name": "python3"
  },
  "language_info": {
   "codemirror_mode": {
    "name": "ipython",
    "version": 3
   },
   "file_extension": ".py",
   "mimetype": "text/x-python",
   "name": "python",
   "nbconvert_exporter": "python",
   "pygments_lexer": "ipython3",
   "version": "3.6.9"
  }
 },
 "nbformat": 4,
 "nbformat_minor": 2
}
