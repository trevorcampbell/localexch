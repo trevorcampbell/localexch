{
 "cells": [
  {
   "cell_type": "markdown",
   "metadata": {},
   "source": [
    "# Package Import"
   ]
  },
  {
   "cell_type": "markdown",
   "metadata": {},
   "source": [
    "### Standard Packages"
   ]
  },
  {
   "cell_type": "code",
   "execution_count": 125,
   "metadata": {},
   "outputs": [],
   "source": [
    "import pandas as pd\n",
    "import numpy as np\n",
    "import sys\n",
    "pd.set_option('display.max_rows', None)\n",
    "import bokeh.plotting as bkp\n",
    "import bokeh.io as bki\n",
    "import bokeh.palettes as bkpal\n",
    "from bokeh.models import Span\n",
    "import time\n"
   ]
  },
  {
   "cell_type": "code",
   "execution_count": 2,
   "metadata": {},
   "outputs": [
    {
     "data": {
      "text/html": [
       "\n",
       "    <div class=\"bk-root\">\n",
       "        <a href=\"https://bokeh.pydata.org\" target=\"_blank\" class=\"bk-logo bk-logo-small bk-logo-notebook\"></a>\n",
       "        <span id=\"1001\">Loading BokehJS ...</span>\n",
       "    </div>"
      ]
     },
     "metadata": {},
     "output_type": "display_data"
    },
    {
     "data": {
      "application/javascript": [
       "\n",
       "(function(root) {\n",
       "  function now() {\n",
       "    return new Date();\n",
       "  }\n",
       "\n",
       "  var force = true;\n",
       "\n",
       "  if (typeof (root._bokeh_onload_callbacks) === \"undefined\" || force === true) {\n",
       "    root._bokeh_onload_callbacks = [];\n",
       "    root._bokeh_is_loading = undefined;\n",
       "  }\n",
       "\n",
       "  var JS_MIME_TYPE = 'application/javascript';\n",
       "  var HTML_MIME_TYPE = 'text/html';\n",
       "  var EXEC_MIME_TYPE = 'application/vnd.bokehjs_exec.v0+json';\n",
       "  var CLASS_NAME = 'output_bokeh rendered_html';\n",
       "\n",
       "  /**\n",
       "   * Render data to the DOM node\n",
       "   */\n",
       "  function render(props, node) {\n",
       "    var script = document.createElement(\"script\");\n",
       "    node.appendChild(script);\n",
       "  }\n",
       "\n",
       "  /**\n",
       "   * Handle when an output is cleared or removed\n",
       "   */\n",
       "  function handleClearOutput(event, handle) {\n",
       "    var cell = handle.cell;\n",
       "\n",
       "    var id = cell.output_area._bokeh_element_id;\n",
       "    var server_id = cell.output_area._bokeh_server_id;\n",
       "    // Clean up Bokeh references\n",
       "    if (id != null && id in Bokeh.index) {\n",
       "      Bokeh.index[id].model.document.clear();\n",
       "      delete Bokeh.index[id];\n",
       "    }\n",
       "\n",
       "    if (server_id !== undefined) {\n",
       "      // Clean up Bokeh references\n",
       "      var cmd = \"from bokeh.io.state import curstate; print(curstate().uuid_to_server['\" + server_id + \"'].get_sessions()[0].document.roots[0]._id)\";\n",
       "      cell.notebook.kernel.execute(cmd, {\n",
       "        iopub: {\n",
       "          output: function(msg) {\n",
       "            var id = msg.content.text.trim();\n",
       "            if (id in Bokeh.index) {\n",
       "              Bokeh.index[id].model.document.clear();\n",
       "              delete Bokeh.index[id];\n",
       "            }\n",
       "          }\n",
       "        }\n",
       "      });\n",
       "      // Destroy server and session\n",
       "      var cmd = \"import bokeh.io.notebook as ion; ion.destroy_server('\" + server_id + \"')\";\n",
       "      cell.notebook.kernel.execute(cmd);\n",
       "    }\n",
       "  }\n",
       "\n",
       "  /**\n",
       "   * Handle when a new output is added\n",
       "   */\n",
       "  function handleAddOutput(event, handle) {\n",
       "    var output_area = handle.output_area;\n",
       "    var output = handle.output;\n",
       "\n",
       "    // limit handleAddOutput to display_data with EXEC_MIME_TYPE content only\n",
       "    if ((output.output_type != \"display_data\") || (!output.data.hasOwnProperty(EXEC_MIME_TYPE))) {\n",
       "      return\n",
       "    }\n",
       "\n",
       "    var toinsert = output_area.element.find(\".\" + CLASS_NAME.split(' ')[0]);\n",
       "\n",
       "    if (output.metadata[EXEC_MIME_TYPE][\"id\"] !== undefined) {\n",
       "      toinsert[toinsert.length - 1].firstChild.textContent = output.data[JS_MIME_TYPE];\n",
       "      // store reference to embed id on output_area\n",
       "      output_area._bokeh_element_id = output.metadata[EXEC_MIME_TYPE][\"id\"];\n",
       "    }\n",
       "    if (output.metadata[EXEC_MIME_TYPE][\"server_id\"] !== undefined) {\n",
       "      var bk_div = document.createElement(\"div\");\n",
       "      bk_div.innerHTML = output.data[HTML_MIME_TYPE];\n",
       "      var script_attrs = bk_div.children[0].attributes;\n",
       "      for (var i = 0; i < script_attrs.length; i++) {\n",
       "        toinsert[toinsert.length - 1].firstChild.setAttribute(script_attrs[i].name, script_attrs[i].value);\n",
       "      }\n",
       "      // store reference to server id on output_area\n",
       "      output_area._bokeh_server_id = output.metadata[EXEC_MIME_TYPE][\"server_id\"];\n",
       "    }\n",
       "  }\n",
       "\n",
       "  function register_renderer(events, OutputArea) {\n",
       "\n",
       "    function append_mime(data, metadata, element) {\n",
       "      // create a DOM node to render to\n",
       "      var toinsert = this.create_output_subarea(\n",
       "        metadata,\n",
       "        CLASS_NAME,\n",
       "        EXEC_MIME_TYPE\n",
       "      );\n",
       "      this.keyboard_manager.register_events(toinsert);\n",
       "      // Render to node\n",
       "      var props = {data: data, metadata: metadata[EXEC_MIME_TYPE]};\n",
       "      render(props, toinsert[toinsert.length - 1]);\n",
       "      element.append(toinsert);\n",
       "      return toinsert\n",
       "    }\n",
       "\n",
       "    /* Handle when an output is cleared or removed */\n",
       "    events.on('clear_output.CodeCell', handleClearOutput);\n",
       "    events.on('delete.Cell', handleClearOutput);\n",
       "\n",
       "    /* Handle when a new output is added */\n",
       "    events.on('output_added.OutputArea', handleAddOutput);\n",
       "\n",
       "    /**\n",
       "     * Register the mime type and append_mime function with output_area\n",
       "     */\n",
       "    OutputArea.prototype.register_mime_type(EXEC_MIME_TYPE, append_mime, {\n",
       "      /* Is output safe? */\n",
       "      safe: true,\n",
       "      /* Index of renderer in `output_area.display_order` */\n",
       "      index: 0\n",
       "    });\n",
       "  }\n",
       "\n",
       "  // register the mime type if in Jupyter Notebook environment and previously unregistered\n",
       "  if (root.Jupyter !== undefined) {\n",
       "    var events = require('base/js/events');\n",
       "    var OutputArea = require('notebook/js/outputarea').OutputArea;\n",
       "\n",
       "    if (OutputArea.prototype.mime_types().indexOf(EXEC_MIME_TYPE) == -1) {\n",
       "      register_renderer(events, OutputArea);\n",
       "    }\n",
       "  }\n",
       "\n",
       "  \n",
       "  if (typeof (root._bokeh_timeout) === \"undefined\" || force === true) {\n",
       "    root._bokeh_timeout = Date.now() + 5000;\n",
       "    root._bokeh_failed_load = false;\n",
       "  }\n",
       "\n",
       "  var NB_LOAD_WARNING = {'data': {'text/html':\n",
       "     \"<div style='background-color: #fdd'>\\n\"+\n",
       "     \"<p>\\n\"+\n",
       "     \"BokehJS does not appear to have successfully loaded. If loading BokehJS from CDN, this \\n\"+\n",
       "     \"may be due to a slow or bad network connection. Possible fixes:\\n\"+\n",
       "     \"</p>\\n\"+\n",
       "     \"<ul>\\n\"+\n",
       "     \"<li>re-rerun `output_notebook()` to attempt to load from CDN again, or</li>\\n\"+\n",
       "     \"<li>use INLINE resources instead, as so:</li>\\n\"+\n",
       "     \"</ul>\\n\"+\n",
       "     \"<code>\\n\"+\n",
       "     \"from bokeh.resources import INLINE\\n\"+\n",
       "     \"output_notebook(resources=INLINE)\\n\"+\n",
       "     \"</code>\\n\"+\n",
       "     \"</div>\"}};\n",
       "\n",
       "  function display_loaded() {\n",
       "    var el = document.getElementById(\"1001\");\n",
       "    if (el != null) {\n",
       "      el.textContent = \"BokehJS is loading...\";\n",
       "    }\n",
       "    if (root.Bokeh !== undefined) {\n",
       "      if (el != null) {\n",
       "        el.textContent = \"BokehJS \" + root.Bokeh.version + \" successfully loaded.\";\n",
       "      }\n",
       "    } else if (Date.now() < root._bokeh_timeout) {\n",
       "      setTimeout(display_loaded, 100)\n",
       "    }\n",
       "  }\n",
       "\n",
       "\n",
       "  function run_callbacks() {\n",
       "    try {\n",
       "      root._bokeh_onload_callbacks.forEach(function(callback) { callback() });\n",
       "    }\n",
       "    finally {\n",
       "      delete root._bokeh_onload_callbacks\n",
       "    }\n",
       "    console.info(\"Bokeh: all callbacks have finished\");\n",
       "  }\n",
       "\n",
       "  function load_libs(js_urls, callback) {\n",
       "    root._bokeh_onload_callbacks.push(callback);\n",
       "    if (root._bokeh_is_loading > 0) {\n",
       "      console.log(\"Bokeh: BokehJS is being loaded, scheduling callback at\", now());\n",
       "      return null;\n",
       "    }\n",
       "    if (js_urls == null || js_urls.length === 0) {\n",
       "      run_callbacks();\n",
       "      return null;\n",
       "    }\n",
       "    console.log(\"Bokeh: BokehJS not loaded, scheduling load and callback at\", now());\n",
       "    root._bokeh_is_loading = js_urls.length;\n",
       "    for (var i = 0; i < js_urls.length; i++) {\n",
       "      var url = js_urls[i];\n",
       "      var s = document.createElement('script');\n",
       "      s.src = url;\n",
       "      s.async = false;\n",
       "      s.onreadystatechange = s.onload = function() {\n",
       "        root._bokeh_is_loading--;\n",
       "        if (root._bokeh_is_loading === 0) {\n",
       "          console.log(\"Bokeh: all BokehJS libraries loaded\");\n",
       "          run_callbacks()\n",
       "        }\n",
       "      };\n",
       "      s.onerror = function() {\n",
       "        console.warn(\"failed to load library \" + url);\n",
       "      };\n",
       "      console.log(\"Bokeh: injecting script tag for BokehJS library: \", url);\n",
       "      document.getElementsByTagName(\"head\")[0].appendChild(s);\n",
       "    }\n",
       "  };var element = document.getElementById(\"1001\");\n",
       "  if (element == null) {\n",
       "    console.log(\"Bokeh: ERROR: autoload.js configured with elementid '1001' but no matching script tag was found. \")\n",
       "    return false;\n",
       "  }\n",
       "\n",
       "  var js_urls = [\"https://cdn.pydata.org/bokeh/release/bokeh-1.0.2.min.js\", \"https://cdn.pydata.org/bokeh/release/bokeh-widgets-1.0.2.min.js\", \"https://cdn.pydata.org/bokeh/release/bokeh-tables-1.0.2.min.js\", \"https://cdn.pydata.org/bokeh/release/bokeh-gl-1.0.2.min.js\"];\n",
       "\n",
       "  var inline_js = [\n",
       "    function(Bokeh) {\n",
       "      Bokeh.set_log_level(\"info\");\n",
       "    },\n",
       "    \n",
       "    function(Bokeh) {\n",
       "      \n",
       "    },\n",
       "    function(Bokeh) {\n",
       "      console.log(\"Bokeh: injecting CSS: https://cdn.pydata.org/bokeh/release/bokeh-1.0.2.min.css\");\n",
       "      Bokeh.embed.inject_css(\"https://cdn.pydata.org/bokeh/release/bokeh-1.0.2.min.css\");\n",
       "      console.log(\"Bokeh: injecting CSS: https://cdn.pydata.org/bokeh/release/bokeh-widgets-1.0.2.min.css\");\n",
       "      Bokeh.embed.inject_css(\"https://cdn.pydata.org/bokeh/release/bokeh-widgets-1.0.2.min.css\");\n",
       "      console.log(\"Bokeh: injecting CSS: https://cdn.pydata.org/bokeh/release/bokeh-tables-1.0.2.min.css\");\n",
       "      Bokeh.embed.inject_css(\"https://cdn.pydata.org/bokeh/release/bokeh-tables-1.0.2.min.css\");\n",
       "    }\n",
       "  ];\n",
       "\n",
       "  function run_inline_js() {\n",
       "    \n",
       "    if ((root.Bokeh !== undefined) || (force === true)) {\n",
       "      for (var i = 0; i < inline_js.length; i++) {\n",
       "        inline_js[i].call(root, root.Bokeh);\n",
       "      }if (force === true) {\n",
       "        display_loaded();\n",
       "      }} else if (Date.now() < root._bokeh_timeout) {\n",
       "      setTimeout(run_inline_js, 100);\n",
       "    } else if (!root._bokeh_failed_load) {\n",
       "      console.log(\"Bokeh: BokehJS failed to load within specified timeout.\");\n",
       "      root._bokeh_failed_load = true;\n",
       "    } else if (force !== true) {\n",
       "      var cell = $(document.getElementById(\"1001\")).parents('.cell').data().cell;\n",
       "      cell.output_area.append_execute_result(NB_LOAD_WARNING)\n",
       "    }\n",
       "\n",
       "  }\n",
       "\n",
       "  if (root._bokeh_is_loading === 0) {\n",
       "    console.log(\"Bokeh: BokehJS loaded, going straight to plotting\");\n",
       "    run_inline_js();\n",
       "  } else {\n",
       "    load_libs(js_urls, function() {\n",
       "      console.log(\"Bokeh: BokehJS plotting callback run at\", now());\n",
       "      run_inline_js();\n",
       "    });\n",
       "  }\n",
       "}(window));"
      ],
      "application/vnd.bokehjs_load.v0+json": "\n(function(root) {\n  function now() {\n    return new Date();\n  }\n\n  var force = true;\n\n  if (typeof (root._bokeh_onload_callbacks) === \"undefined\" || force === true) {\n    root._bokeh_onload_callbacks = [];\n    root._bokeh_is_loading = undefined;\n  }\n\n  \n\n  \n  if (typeof (root._bokeh_timeout) === \"undefined\" || force === true) {\n    root._bokeh_timeout = Date.now() + 5000;\n    root._bokeh_failed_load = false;\n  }\n\n  var NB_LOAD_WARNING = {'data': {'text/html':\n     \"<div style='background-color: #fdd'>\\n\"+\n     \"<p>\\n\"+\n     \"BokehJS does not appear to have successfully loaded. If loading BokehJS from CDN, this \\n\"+\n     \"may be due to a slow or bad network connection. Possible fixes:\\n\"+\n     \"</p>\\n\"+\n     \"<ul>\\n\"+\n     \"<li>re-rerun `output_notebook()` to attempt to load from CDN again, or</li>\\n\"+\n     \"<li>use INLINE resources instead, as so:</li>\\n\"+\n     \"</ul>\\n\"+\n     \"<code>\\n\"+\n     \"from bokeh.resources import INLINE\\n\"+\n     \"output_notebook(resources=INLINE)\\n\"+\n     \"</code>\\n\"+\n     \"</div>\"}};\n\n  function display_loaded() {\n    var el = document.getElementById(\"1001\");\n    if (el != null) {\n      el.textContent = \"BokehJS is loading...\";\n    }\n    if (root.Bokeh !== undefined) {\n      if (el != null) {\n        el.textContent = \"BokehJS \" + root.Bokeh.version + \" successfully loaded.\";\n      }\n    } else if (Date.now() < root._bokeh_timeout) {\n      setTimeout(display_loaded, 100)\n    }\n  }\n\n\n  function run_callbacks() {\n    try {\n      root._bokeh_onload_callbacks.forEach(function(callback) { callback() });\n    }\n    finally {\n      delete root._bokeh_onload_callbacks\n    }\n    console.info(\"Bokeh: all callbacks have finished\");\n  }\n\n  function load_libs(js_urls, callback) {\n    root._bokeh_onload_callbacks.push(callback);\n    if (root._bokeh_is_loading > 0) {\n      console.log(\"Bokeh: BokehJS is being loaded, scheduling callback at\", now());\n      return null;\n    }\n    if (js_urls == null || js_urls.length === 0) {\n      run_callbacks();\n      return null;\n    }\n    console.log(\"Bokeh: BokehJS not loaded, scheduling load and callback at\", now());\n    root._bokeh_is_loading = js_urls.length;\n    for (var i = 0; i < js_urls.length; i++) {\n      var url = js_urls[i];\n      var s = document.createElement('script');\n      s.src = url;\n      s.async = false;\n      s.onreadystatechange = s.onload = function() {\n        root._bokeh_is_loading--;\n        if (root._bokeh_is_loading === 0) {\n          console.log(\"Bokeh: all BokehJS libraries loaded\");\n          run_callbacks()\n        }\n      };\n      s.onerror = function() {\n        console.warn(\"failed to load library \" + url);\n      };\n      console.log(\"Bokeh: injecting script tag for BokehJS library: \", url);\n      document.getElementsByTagName(\"head\")[0].appendChild(s);\n    }\n  };var element = document.getElementById(\"1001\");\n  if (element == null) {\n    console.log(\"Bokeh: ERROR: autoload.js configured with elementid '1001' but no matching script tag was found. \")\n    return false;\n  }\n\n  var js_urls = [\"https://cdn.pydata.org/bokeh/release/bokeh-1.0.2.min.js\", \"https://cdn.pydata.org/bokeh/release/bokeh-widgets-1.0.2.min.js\", \"https://cdn.pydata.org/bokeh/release/bokeh-tables-1.0.2.min.js\", \"https://cdn.pydata.org/bokeh/release/bokeh-gl-1.0.2.min.js\"];\n\n  var inline_js = [\n    function(Bokeh) {\n      Bokeh.set_log_level(\"info\");\n    },\n    \n    function(Bokeh) {\n      \n    },\n    function(Bokeh) {\n      console.log(\"Bokeh: injecting CSS: https://cdn.pydata.org/bokeh/release/bokeh-1.0.2.min.css\");\n      Bokeh.embed.inject_css(\"https://cdn.pydata.org/bokeh/release/bokeh-1.0.2.min.css\");\n      console.log(\"Bokeh: injecting CSS: https://cdn.pydata.org/bokeh/release/bokeh-widgets-1.0.2.min.css\");\n      Bokeh.embed.inject_css(\"https://cdn.pydata.org/bokeh/release/bokeh-widgets-1.0.2.min.css\");\n      console.log(\"Bokeh: injecting CSS: https://cdn.pydata.org/bokeh/release/bokeh-tables-1.0.2.min.css\");\n      Bokeh.embed.inject_css(\"https://cdn.pydata.org/bokeh/release/bokeh-tables-1.0.2.min.css\");\n    }\n  ];\n\n  function run_inline_js() {\n    \n    if ((root.Bokeh !== undefined) || (force === true)) {\n      for (var i = 0; i < inline_js.length; i++) {\n        inline_js[i].call(root, root.Bokeh);\n      }if (force === true) {\n        display_loaded();\n      }} else if (Date.now() < root._bokeh_timeout) {\n      setTimeout(run_inline_js, 100);\n    } else if (!root._bokeh_failed_load) {\n      console.log(\"Bokeh: BokehJS failed to load within specified timeout.\");\n      root._bokeh_failed_load = true;\n    } else if (force !== true) {\n      var cell = $(document.getElementById(\"1001\")).parents('.cell').data().cell;\n      cell.output_area.append_execute_result(NB_LOAD_WARNING)\n    }\n\n  }\n\n  if (root._bokeh_is_loading === 0) {\n    console.log(\"Bokeh: BokehJS loaded, going straight to plotting\");\n    run_inline_js();\n  } else {\n    load_libs(js_urls, function() {\n      console.log(\"Bokeh: BokehJS plotting callback run at\", now());\n      run_inline_js();\n    });\n  }\n}(window));"
     },
     "metadata": {},
     "output_type": "display_data"
    }
   ],
   "source": [
    "bki.output_notebook()"
   ]
  },
  {
   "cell_type": "code",
   "execution_count": 3,
   "metadata": {},
   "outputs": [],
   "source": [
    "from bokeh.io import curdoc\n",
    "from bokeh.themes import Theme\n",
    "\n",
    "fsz = '16pt'\n",
    "\n",
    "curdoc().theme = Theme(json={'attrs': {\n",
    "    # apply defaults to Title properties\n",
    "    'Title': {\n",
    "        'text_font_size': fsz\n",
    "    },\n",
    "    # apply defaults to Axis properties\n",
    "    'Axis': {\n",
    "        'axis_label_text_font_size': fsz,\n",
    "        'major_label_text_font_size' : fsz\n",
    "    },\n",
    "     # apply defaults to Legend properties\n",
    "    'Legend': {\n",
    "        'label_text_font_size': fsz\n",
    "    }\n",
    "}})"
   ]
  },
  {
   "cell_type": "markdown",
   "metadata": {},
   "source": [
    "### Local Exchangeability Package"
   ]
  },
  {
   "cell_type": "code",
   "execution_count": null,
   "metadata": {},
   "outputs": [],
   "source": [
    "import localexch"
   ]
  },
  {
   "cell_type": "markdown",
   "metadata": {},
   "source": [
    "# Data Preprocessing"
   ]
  },
  {
   "cell_type": "markdown",
   "metadata": {},
   "source": [
    "### Extract Relevant Columns, Simplify, Tidy"
   ]
  },
  {
   "cell_type": "code",
   "execution_count": 4,
   "metadata": {
    "scrolled": false
   },
   "outputs": [
    {
     "name": "stdout",
     "output_type": "stream",
     "text": [
      "Single Dataframe Version:\n",
      "  BikeInjury Biker Intox.  BikeAge BikeSex  BikeDir  \\\n",
      "0       None           No       12    Male     With   \n",
      "2   Possible           No       36    Male     With   \n",
      "3   Possible           No       63    Male     With   \n",
      "4   Possible           No       14    Male     With   \n",
      "5       None           No       57    Male  Against   \n",
      "\n",
      "                      BikePos     DrvrVehTyp LightCond  SpeedLimit  \\\n",
      "0                 Travel Lane  Passenger Car      Dayl          35   \n",
      "2  Bike Lane / Paved Shoulder  Passenger Car      Dayl          45   \n",
      "3                 Travel Lane  Sport Utility      Dayl          35   \n",
      "4                 Travel Lane  Passenger Car      Dayl          35   \n",
      "5                 Non-Roadway         Pickup      Dayl          15   \n",
      "\n",
      "   Day of Week  CrashHour  \n",
      "0            6         18  \n",
      "2            4         17  \n",
      "3            3         18  \n",
      "4            3         15  \n",
      "5            6         13  \n",
      "\n",
      "\n",
      "Split Covariate/Outcome:\n",
      "X:\n",
      "[['No' 12 'Male' ... 35 6 18]\n",
      " ['No' 36 'Male' ... 45 4 17]\n",
      " ['No' 63 'Male' ... 35 3 18]\n",
      " ...\n",
      " ['No' 20 'Male' ... 35 4 16]\n",
      " ['No' 11 'Male' ... 45 1 17]\n",
      " ['No' 57 'Male' ... 55 5 14]]\n",
      "Y:\n",
      "['None' 'Possible' 'Possible' ... 'Possible' 'Possible' 'Killed']\n"
     ]
    }
   ],
   "source": [
    "df = pd.read_csv('bicycle-crash-data-chapel-hill-region.csv', sep=';')\n",
    "#print(df.columns)\n",
    "\n",
    "#preprocessing data\n",
    "\n",
    "#extract used columns\n",
    "cols_used = ['BikeInjury', 'Biker Intox.', 'BikeAge', 'BikeSex', 'BikeDir', 'BikePos', \n",
    "        'DrvrVehTyp', 'LightCond', 'SpeedLimit', 'Day of Week', 'CrashHour']\n",
    "df = df[cols_used]\n",
    "\n",
    "#extract rows without missing data\n",
    "ageknown = (df.BikeAge != '999') & (df.BikeAge != '70+')\n",
    "lightknown = (df['LightCond'] != 'Unknown') & (df['LightCond'] != 'Other')\n",
    "vehknown = df['DrvrVehTyp'] != 'Unknown'\n",
    "spdknown = df['SpeedLimit'] != 'Unknown'\n",
    "injknown = df['BikeInjury'] != 'Unknown Injury'\n",
    "dirknown = df['BikeDir'] != 'Unknown'\n",
    "posknown = df['BikePos'] != 'Unknown'\n",
    "df = df[ageknown & lightknown & vehknown & spdknown & injknown & dirknown & posknown]\n",
    "\n",
    "#convert ages to integers\n",
    "df['BikeAge'] = df['BikeAge'].astype(int)\n",
    "\n",
    "#simplify injury type\n",
    "def simplify_inj(inj):\n",
    "    if 'Minor' in inj:\n",
    "        return 'Minor'\n",
    "    elif 'Serious' in inj:\n",
    "        return 'Serious'\n",
    "    elif 'Killed' in inj:\n",
    "        return 'Killed'\n",
    "    elif 'Possible' in inj:\n",
    "        return 'Possible'\n",
    "    elif 'No In' in inj:\n",
    "        return 'None'\n",
    "    else:\n",
    "        return 'NA'\n",
    "df['BikeInjury'] = df['BikeInjury'].apply(simplify_inj)\n",
    "\n",
    "#simplify light condition\n",
    "df['LightCond'] = df['LightCond'].apply(lambda x : x[:4])\n",
    "\n",
    "#simplify vehicle types\n",
    "def simplify_veh(veh):\n",
    "    if 'Truck' in veh or 'truck' in veh or 'Motor Home' in veh:\n",
    "        return 'Truck'\n",
    "    elif 'Bus' in veh:\n",
    "        return 'Bus'\n",
    "    elif 'EMS' in veh or 'Police' in veh:\n",
    "        return 'Emergency'\n",
    "    else:\n",
    "        return veh\n",
    "df['DrvrVehTyp'] = df['DrvrVehTyp'].apply(simplify_veh)\n",
    "\n",
    "#simplify bike direction\n",
    "def simplify_dir(dr):\n",
    "    if 'With' in dr:\n",
    "        return 'With'\n",
    "    elif 'Not' in dr:\n",
    "        return 'NA'\n",
    "    else:\n",
    "        return 'Against'\n",
    "df['BikeDir'] = df['BikeDir'].apply(simplify_dir)\n",
    "\n",
    "#simplify bike position\n",
    "def simplify_pos(pos):\n",
    "    if 'With' in pos:\n",
    "        return 'With'\n",
    "    elif 'Not' in dr:\n",
    "        return 'NA'\n",
    "    else:\n",
    "        return 'Against'\n",
    "df['BikeDir'] = df['BikeDir'].apply(simplify_dir)\n",
    "\n",
    "#simplify day of week\n",
    "day_map = {'Sunday': 0,\n",
    "           'Monday': 1,\n",
    "           'Tuesday': 2,\n",
    "           'Wednesday': 3,\n",
    "           'Thursday': 4,\n",
    "           'Friday': 5,\n",
    "           'Saturday': 6}\n",
    "df['Day of Week'] = df['Day of Week'].apply(lambda x : day_map[x])\n",
    "\n",
    "#simplify speed limit\n",
    "def simplify_spd(spd):\n",
    "    return spd.strip().split(' ')[2]\n",
    "df['SpeedLimit'] = df['SpeedLimit'].apply(simplify_spd)\n",
    "df['SpeedLimit'] = df['SpeedLimit'].astype(int)\n",
    "\n",
    "print('Single Dataframe Version:')\n",
    "print(df.head())\n",
    "\n",
    "print('')\n",
    "print('')\n",
    "print('Split Covariate/Outcome:')\n",
    "\n",
    "#create a version of the data with covariates and observations separate\n",
    "Y = np.array(df['BikeInjury'])\n",
    "X = np.array(df.drop(['BikeInjury'], axis=1))\n",
    "\n",
    "print('X:')\n",
    "print(X)\n",
    "print('Y:')\n",
    "print(Y)"
   ]
  },
  {
   "cell_type": "markdown",
   "metadata": {},
   "source": [
    "# Local Permutation Test\n",
    "\n",
    "Does biker intoxication affect probability of severe injury?\n",
    "\n",
    "The null hypothesis is that Biker Intoxication doesn't affect the probability of severe injury. Therefore we assume the observations are exchangeable w.r.t. that covariate, while the others are dealt with via the premetric:"
   ]
  },
  {
   "cell_type": "markdown",
   "metadata": {},
   "source": [
    "### Premetric"
   ]
  },
  {
   "cell_type": "code",
   "execution_count": 79,
   "metadata": {},
   "outputs": [],
   "source": [
    "#X columns: ['Biker Intox.', 'BikeAge', 'BikeSex', 'BikeDir', 'BikePos', \n",
    "#        'DrvrVehTyp', 'LightCond', 'SpeedLimit', 'Day of Week', 'CrashHour']\n",
    "\n",
    "def premetric(x1, x2, weight):\n",
    "    cat_idcs = [2,3,4,5,6]\n",
    "    if (x1[cat_idcs] != x2[cat_idcs]).any():\n",
    "        return 1\n",
    "    else:\n",
    "        return min(1, \n",
    "                  weight*(\n",
    "                  np.fabs(x1[1]-x2[1]) + \n",
    "                  np.fabs(x1[7]-x2[7]) +\n",
    "                  min(np.fabs(x1[8]-x2[8]), 7 - np.fabs(x1[8]-x2[8])) + \n",
    "                  min(np.fabs(x1[9]-x2[9]), 24 - np.fabs(x1[9]-x2[9]))\n",
    "                  ))           "
   ]
  },
  {
   "cell_type": "markdown",
   "metadata": {},
   "source": [
    "### Test Statistic"
   ]
  },
  {
   "cell_type": "code",
   "execution_count": 80,
   "metadata": {},
   "outputs": [],
   "source": [
    "def test_stat(X, Y):\n",
    "    intox = (X[:, 0] == 'Yes')\n",
    "    severe = (Y == 'Serious') | (Y == 'Killed') \n",
    "    return (severe & intox).sum()/intox.sum() - (severe & ~intox).sum()/(~intox).sum()"
   ]
  },
  {
   "cell_type": "markdown",
   "metadata": {},
   "source": [
    "### Pair Permutation Subgroup Constructor"
   ]
  },
  {
   "cell_type": "code",
   "execution_count": 81,
   "metadata": {},
   "outputs": [],
   "source": [
    "def construct_pairs(X, d, match_coln):\n",
    "    #ensure the match column has exactly two values\n",
    "    match_vals = np.unique(X[:, 0])\n",
    "    if match_vals.shape[0] != 2:\n",
    "        print('Unable to construct pair matching on column ' + str(match_coln))\n",
    "        print('Number of unique values != 2: ' +str(match_vals.shape[0]))\n",
    "    idcs0 = np.where(X[:, match_coln] == match_vals[0])[0]\n",
    "    idcs1 = np.where(X[:, match_coln] == match_vals[1])[0]\n",
    "    X0 = X[X[:, match_coln] == match_vals[0]]\n",
    "    X1 = X[X[:, match_coln] == match_vals[1]]\n",
    "    \n",
    "    dists = np.zeros((X0.shape[0], X1.shape[0]))\n",
    "    for i in range(X0.shape[0]):\n",
    "        if i % 1000 == 0:\n",
    "            sys.stdout.write('row ' + str(i+1)+'/'+str(X0.shape[0])+'              \\r')\n",
    "            sys.stdout.flush()\n",
    "        for j in range(X1.shape[0]):\n",
    "            dists[i,j] = d(X0[i,:], X1[j,:])\n",
    "    sys.stdout.write('\\n')\n",
    "    sys.stdout.flush()\n",
    "    pairs = []\n",
    "    pair_dists = []\n",
    "    while dists.min() < np.inf:\n",
    "        am = dists.argmin()\n",
    "        row = am // dists.shape[1]\n",
    "        col = am % dists.shape[1]\n",
    "        pairs.append((idcs0[row], idcs1[col]))\n",
    "        pair_dists.append(dists[row, col])\n",
    "        dists[row, :] = np.inf\n",
    "        dists[:, col] = np.inf\n",
    "        \n",
    "    return pairs, pair_dists"
   ]
  },
  {
   "cell_type": "markdown",
   "metadata": {},
   "source": [
    "### Paired Permutation Test"
   ]
  },
  {
   "cell_type": "code",
   "execution_count": 82,
   "metadata": {},
   "outputs": [],
   "source": [
    "def pair_test(X, Y, S, pairs, pair_dists, N_samples, alpha):\n",
    "    #take pairs until their local exchangeability penalty would exceed alpha/2\n",
    "    num_pairs = (np.cumsum(pair_dists) <= alpha/2).sum()\n",
    "    \n",
    "    if num_pairs == 0:\n",
    "        return False, 0, S(X, Y), S(X, Y)*np.ones(N_samples) #all \"permutations\" are the same, cannot reject null\n",
    "    \n",
    "    #compute the local exchangeability penalty\n",
    "    penalty = np.cumsum(pair_dists)[num_pairs-1]\n",
    "    thresh = 1 - alpha + penalty\n",
    "    \n",
    "    #run N_samples of pair swaps \n",
    "    S_vals = np.zeros(N_samples)\n",
    "    for n in range(N_samples):\n",
    "        if n % 1000 == 0:\n",
    "            sys.stdout.write('sample ' + str(n+1)+'/'+str(N_samples)+'              \\r')\n",
    "            sys.stdout.flush()\n",
    "        Yc = Y.copy()\n",
    "        for p in range(num_pairs):\n",
    "            if np.random.rand() <= 0.5:\n",
    "                tmp = Yc[pairs[p][0]]\n",
    "                Yc[pairs[p][0]] = Yc[pairs[p][1]]\n",
    "                Yc[pairs[p][1]] = tmp\n",
    "        S_vals[n] = S(X, Yc)\n",
    "    sys.stdout.write('\\n')\n",
    "    sys.stdout.flush()\n",
    "    \n",
    "    reject_null = (S(X, Y) > S_vals).sum()/N_samples > thresh\n",
    "    \n",
    "    return reject_null, num_pairs, S(X, Y), S_vals"
   ]
  },
  {
   "cell_type": "markdown",
   "metadata": {},
   "source": [
    "### Run the Test"
   ]
  },
  {
   "cell_type": "code",
   "execution_count": 89,
   "metadata": {
    "scrolled": true
   },
   "outputs": [
    {
     "name": "stdout",
     "output_type": "stream",
     "text": [
      "Weight iter 1/14\n",
      "row 8001/8234              \n",
      "[(0, 343), (1, 831), (2, 274), (3, 426), (4, 2242), (5, 487), (6, 402), (7, 1545), (8, 151), (11, 615), (13, 169), (14, 520), (17, 1633), (18, 3050), (19, 1707), (20, 710), (21, 268), (22, 1736), (23, 887), (24, 647), (25, 716), (26, 279), (27, 1939), (28, 5557), (29, 287), (30, 1612), (31, 881), (32, 480), (33, 5823), (35, 1433), (36, 1158), (37, 198), (38, 768), (39, 1580), (40, 1851), (41, 3839), (42, 295), (43, 2385), (44, 2056), (45, 3885), (46, 5849), (47, 5704), (48, 525), (49, 1093), (50, 987), (51, 696), (53, 1208), (54, 8324), (55, 2658), (56, 1484), (57, 6439), (58, 5060), (59, 2985), (62, 1797), (64, 1945), (65, 7937), (69, 2068), (70, 1238), (71, 2098), (73, 3840), (74, 1387), (76, 2141), (77, 2218), (79, 945), (80, 2387), (81, 2405), (82, 1427), (86, 2446), (87, 2028), (89, 1536), (90, 4117), (91, 302), (92, 2378), (93, 1472), (94, 2478), (95, 2584), (96, 3572), (97, 4504), (98, 2312), (99, 2847), (100, 2895), (101, 1131), (103, 5058), (105, 1260), (106, 8734), (107, 5748), (108, 1869), (110, 406), (111, 2160), (112, 1558), (113, 4646), (117, 4804), (120, 465), (121, 2953), (123, 175), (124, 516), (125, 3129), (126, 4088), (127, 3366), (128, 394), (129, 3396), (130, 4805), (134, 4987), (135, 1223), (136, 5091), (137, 3888), (138, 2297), (139, 8776), (140, 6937), (141, 727), (142, 580), (144, 3487), (145, 1982), (147, 221), (148, 5459), (152, 1104), (153, 2339), (154, 3145), (157, 6272), (158, 3852), (159, 747), (160, 2515), (162, 2623), (163, 3567), (165, 1508), (166, 3638), (167, 3647), (168, 1426), (171, 3781), (172, 787), (176, 853), (177, 2030), (178, 4048), (179, 6879), (180, 8067), (181, 936), (182, 3747), (183, 335), (185, 4114), (186, 4345), (187, 960), (188, 4387), (189, 4655), (190, 3723), (191, 3206), (192, 652), (194, 4884), (195, 2811), (196, 3855), (197, 1749), (199, 4153), (201, 3884), (203, 5875), (205, 3967), (206, 6363), (207, 3815), (208, 5550), (209, 5675), (210, 4260), (211, 5839), (212, 6062), (214, 5071), (216, 363), (217, 6167), (220, 6346), (222, 4362), (224, 2973), (225, 6405), (226, 3167), (227, 6470), (228, 6716), (229, 4797), (231, 273), (233, 1113), (234, 3826), (235, 6885), (236, 711), (237, 6962), (238, 5102), (239, 4934), (240, 5186), (241, 528), (242, 7185), (245, 4111), (246, 1115), (247, 4085), (249, 7253), (250, 7409), (251, 7475), (252, 7492), (253, 7537), (254, 7571), (255, 7742), (257, 7870), (258, 8006), (260, 8454), (263, 5510), (265, 5188), (266, 6826), (267, 8467), (270, 2857), (272, 5246), (275, 4941), (276, 8599), (277, 8771), (278, 5967), (281, 6043), (282, 294), (288, 626), (289, 1130), (290, 1350), (292, 303), (293, 5407), (299, 6687), (301, 5446), (306, 6350), (307, 5998), (308, 1388), (310, 6103), (314, 7548), (315, 5785), (318, 5665), (320, 1298), (321, 4901), (322, 5856), (327, 6921), (328, 1114), (329, 6007), (331, 958), (332, 6148), (333, 8383), (336, 1450), (338, 1619), (339, 1734), (340, 386), (342, 706), (346, 1525), (349, 6230), (353, 6409), (356, 3482), (361, 8220), (364, 4341), (365, 6011), (366, 1148), (367, 7983), (368, 4586), (370, 5917), (372, 963), (373, 8289), (377, 6451), (378, 1236), (379, 4222), (380, 769), (382, 8570), (383, 5370), (384, 6246), (387, 6908), (388, 6083), (391, 1378), (392, 1883), (395, 5885), (396, 1921), (404, 2010), (408, 5904), (409, 4234), (410, 7288), (411, 2458), (412, 7206), (414, 6088), (416, 2075), (417, 7361), (418, 4183), (421, 6159), (422, 6410), (423, 2185), (427, 8470), (433, 2274), (434, 8354), (436, 5921), (437, 2309), (439, 6786), (441, 783), (444, 6685), (445, 2362), (447, 2399), (450, 8155), (451, 1908), (452, 7043), (453, 7464), (457, 6358), (459, 285), (461, 731), (463, 1989), (467, 2477), (471, 2154), (474, 6610), (478, 3146), (485, 448), (493, 369), (494, 2530), (497, 6658), (501, 8226), (504, 2533), (521, 2562), (529, 8157), (530, 3403), (531, 8370), (532, 5474), (534, 3585), (539, 4017), (540, 579), (546, 1752), (547, 7532), (550, 4342), (552, 4607), (554, 6991), (556, 897), (566, 2607), (582, 8102), (583, 1917), (584, 2423), (586, 4144), (589, 1044), (593, 4879), (596, 4368), (597, 6986), (605, 2246), (607, 7032), (609, 1546), (611, 4765), (623, 2694), (624, 3115), (629, 2783), (631, 7202), (632, 7781), (641, 8732), (646, 2845), (650, 3787), (651, 5720), (653, 6157), (655, 1684), (660, 8733), (662, 2928), (668, 2333), (672, 2993), (679, 3023), (682, 5169), (683, 6869), (686, 866), (690, 753), (694, 1246), (698, 3865), (699, 442), (701, 4010), (702, 3024), (704, 3056), (719, 1241), (721, 3268), (722, 7849), (726, 6218), (728, 2390), (739, 3368), (740, 4960), (751, 3374), (761, 3416), (786, 7586), (790, 4081), (799, 3526), (806, 3622), (808, 4732), (809, 851), (812, 3654), (818, 1263), (820, 1567), (822, 4473), (833, 5080), (839, 3846), (850, 7755), (852, 1257), (859, 7196), (860, 2646), (873, 3887), (875, 3282), (876, 3912), (880, 3941), (883, 3949), (886, 5213), (893, 3970), (895, 3999), (920, 4146), (921, 1266), (935, 1602), (937, 5981), (941, 4224), (951, 4335), (955, 1630), (961, 4390), (962, 1605), (964, 4358), (965, 1762), (967, 4516), (979, 4563), (980, 4571), (989, 2388), (991, 4687), (992, 1656), (1006, 261), (1013, 4825), (1016, 942), (1019, 8228), (1027, 4914), (1032, 4092), (1038, 7833), (1039, 4919), (1047, 7014), (1050, 8552), (1054, 5332), (1064, 5313), (1073, 1890), (1095, 7908), (1105, 2114), (1109, 4933), (1133, 6476), (1139, 5010), (1140, 2191), (1143, 5552), (1146, 5245), (1153, 5291), (1160, 2665), (1171, 5381), (1182, 8227), (1199, 4239), (1206, 5571), (1213, 5582), (1214, 5652), (1222, 5684), (1240, 5760), (1248, 5884), (1252, 5910), (1265, 8485), (1268, 5138), (1283, 2714), (1284, 6438), (1293, 5919), (1299, 5987), (1301, 6891), (1302, 7298), (1308, 6074), (1322, 1863), (1323, 6141), (1324, 3176), (1331, 2041), (1334, 2792), (1345, 6233), (1349, 3229), (1357, 6296), (1362, 6222), (1368, 6300), (1369, 5412), (1370, 7494), (1373, 6312), (1377, 6327), (1385, 5187), (1396, 3432), (1401, 4671), (1413, 6374), (1428, 6440), (1434, 5668), (1439, 8536), (1443, 3525), (1445, 2318), (1454, 8860), (1455, 6700), (1456, 5931), (1467, 2353), (1468, 6729), (1469, 4844), (1470, 2788), (1471, 1929), (1474, 5977), (1475, 6750), (1502, 5621), (1512, 6099), (1515, 6270), (1518, 6763), (1532, 3013), (1540, 6865), (1548, 7124), (1557, 7002), (1564, 4474), (1586, 3337), (1590, 3850), (1604, 7529), (1609, 3901), (1617, 7074), (1632, 4147), (1638, 7164), (1643, 4615), (1648, 7005), (1655, 7197), (1659, 7209), (1676, 7471), (1687, 7519), (1694, 7628), (1696, 7636), (1705, 7653), (1709, 7689), (1720, 3534), (1724, 7730), (1728, 7856), (1740, 6789), (1750, 7858), (1755, 7904), (1760, 7683), (1765, 7611), (1766, 8448), (1767, 3563), (1768, 4450), (1772, 7913), (1779, 7926), (1782, 3419), (1787, 7978), (1799, 7854), (1805, 4298), (1812, 3429), (1814, 4915), (1817, 8577), (1822, 8033), (1823, 8149), (1836, 8043), (1838, 8363), (1841, 6053), (1850, 8133), (1858, 8244), (1860, 8618), (1873, 4354), (1876, 5926), (1884, 3503), (1892, 5491), (1903, 2889), (1932, 8255), (1934, 8601), (1936, 4374), (1938, 8706), (1949, 3172), (1965, 7181), (1966, 6519), (1970, 8277), (1973, 5024), (1991, 8468), (1998, 8480), (2005, 5130), (2014, 8513), (2035, 8517), (2036, 4152), (2048, 7251), (2049, 8566), (2074, 8622), (2081, 8743), (2093, 8856), (2112, 4384), (2182, 5287), (2255, 7595), (2278, 5142), (2335, 5196), (2338, 223), (2341, 5205), (2354, 5394), (2368, 2978), (2406, 5589), (2407, 5647), (2418, 5465), (2528, 5800), (2575, 5805), (2590, 6204), (2604, 2469), (2609, 6192), (2633, 6946), (2642, 5815), (2669, 1154), (2724, 6956), (2746, 7847), (2751, 7139), (2794, 7306), (2797, 6067), (2869, 7054), (2892, 7315), (2904, 4541), (2932, 7359), (2994, 7071), (3011, 7191), (3110, 8141), (3119, 7530), (3133, 8216), (3155, 8259), (3179, 5094), (3199, 8012), (3212, 2464), (3420, 7533), (3426, 606), (3435, 8353), (3462, 8275), (3469, 8344), (3508, 8356), (3515, 2688), (3517, 8669), (3558, 6377), (3576, 4044), (3581, 8431), (3595, 1244), (3643, 7899), (3864, 5432), (4002, 1974), (4145, 5002), (4176, 8666), (4262, 1915), (4442, 8584), (4494, 8799), (4575, 8589), (5451, 5118), (5512, 6813), (6172, 3965), (6494, 8671), (6672, 5631), (6688, 6603), (6999, 5312), (7753, 8815), (8838, 115), (9, 243), (10, 2006), (12, 2712), (15, 4084), (16, 4465), (34, 4616), (52, 7845)]\n",
      "[0.0, 0.0, 0.0, 0.0, 0.0, 0.0, 0.0, 0.0, 0.0, 0.0, 0.0, 0.0, 0.0, 0.0, 0.0, 0.0, 0.0, 0.0, 0.0, 0.0, 0.0, 0.0, 0.0, 0.0, 0.0, 0.0, 0.0, 0.0, 0.0, 0.0, 0.0, 0.0, 0.0, 0.0, 0.0, 0.0, 0.0, 0.0, 0.0, 0.0, 0.0, 0.0, 0.0, 0.0, 0.0, 0.0, 0.0, 0.0, 0.0, 0.0, 0.0, 0.0, 0.0, 0.0, 0.0, 0.0, 0.0, 0.0, 0.0, 0.0, 0.0, 0.0, 0.0, 0.0, 0.0, 0.0, 0.0, 0.0, 0.0, 0.0, 0.0, 0.0, 0.0, 0.0, 0.0, 0.0, 0.0, 0.0, 0.0, 0.0, 0.0, 0.0, 0.0, 0.0, 0.0, 0.0, 0.0, 0.0, 0.0, 0.0, 0.0, 0.0, 0.0, 0.0, 0.0, 0.0, 0.0, 0.0, 0.0, 0.0, 0.0, 0.0, 0.0, 0.0, 0.0, 0.0, 0.0, 0.0, 0.0, 0.0, 0.0, 0.0, 0.0, 0.0, 0.0, 0.0, 0.0, 0.0, 0.0, 0.0, 0.0, 0.0, 0.0, 0.0, 0.0, 0.0, 0.0, 0.0, 0.0, 0.0, 0.0, 0.0, 0.0, 0.0, 0.0, 0.0, 0.0, 0.0, 0.0, 0.0, 0.0, 0.0, 0.0, 0.0, 0.0, 0.0, 0.0, 0.0, 0.0, 0.0, 0.0, 0.0, 0.0, 0.0, 0.0, 0.0, 0.0, 0.0, 0.0, 0.0, 0.0, 0.0, 0.0, 0.0, 0.0, 0.0, 0.0, 0.0, 0.0, 0.0, 0.0, 0.0, 0.0, 0.0, 0.0, 0.0, 0.0, 0.0, 0.0, 0.0, 0.0, 0.0, 0.0, 0.0, 0.0, 0.0, 0.0, 0.0, 0.0, 0.0, 0.0, 0.0, 0.0, 0.0, 0.0, 0.0, 0.0, 0.0, 0.0, 0.0, 0.0, 0.0, 0.0, 0.0, 0.0, 0.0, 0.0, 0.0, 0.0, 0.0, 0.0, 0.0, 0.0, 0.0, 0.0, 0.0, 0.0, 0.0, 0.0, 0.0, 0.0, 0.0, 0.0, 0.0, 0.0, 0.0, 0.0, 0.0, 0.0, 0.0, 0.0, 0.0, 0.0, 0.0, 0.0, 0.0, 0.0, 0.0, 0.0, 0.0, 0.0, 0.0, 0.0, 0.0, 0.0, 0.0, 0.0, 0.0, 0.0, 0.0, 0.0, 0.0, 0.0, 0.0, 0.0, 0.0, 0.0, 0.0, 0.0, 0.0, 0.0, 0.0, 0.0, 0.0, 0.0, 0.0, 0.0, 0.0, 0.0, 0.0, 0.0, 0.0, 0.0, 0.0, 0.0, 0.0, 0.0, 0.0, 0.0, 0.0, 0.0, 0.0, 0.0, 0.0, 0.0, 0.0, 0.0, 0.0, 0.0, 0.0, 0.0, 0.0, 0.0, 0.0, 0.0, 0.0, 0.0, 0.0, 0.0, 0.0, 0.0, 0.0, 0.0, 0.0, 0.0, 0.0, 0.0, 0.0, 0.0, 0.0, 0.0, 0.0, 0.0, 0.0, 0.0, 0.0, 0.0, 0.0, 0.0, 0.0, 0.0, 0.0, 0.0, 0.0, 0.0, 0.0, 0.0, 0.0, 0.0, 0.0, 0.0, 0.0, 0.0, 0.0, 0.0, 0.0, 0.0, 0.0, 0.0, 0.0, 0.0, 0.0, 0.0, 0.0, 0.0, 0.0, 0.0, 0.0, 0.0, 0.0, 0.0, 0.0, 0.0, 0.0, 0.0, 0.0, 0.0, 0.0, 0.0, 0.0, 0.0, 0.0, 0.0, 0.0, 0.0, 0.0, 0.0, 0.0, 0.0, 0.0, 0.0, 0.0, 0.0, 0.0, 0.0, 0.0, 0.0, 0.0, 0.0, 0.0, 0.0, 0.0, 0.0, 0.0, 0.0, 0.0, 0.0, 0.0, 0.0, 0.0, 0.0, 0.0, 0.0, 0.0, 0.0, 0.0, 0.0, 0.0, 0.0, 0.0, 0.0, 0.0, 0.0, 0.0, 0.0, 0.0, 0.0, 0.0, 0.0, 0.0, 0.0, 0.0, 0.0, 0.0, 0.0, 0.0, 0.0, 0.0, 0.0, 0.0, 0.0, 0.0, 0.0, 0.0, 0.0, 0.0, 0.0, 0.0, 0.0, 0.0, 0.0, 0.0, 0.0, 0.0, 0.0, 0.0, 0.0, 0.0, 0.0, 0.0, 0.0, 0.0, 0.0, 0.0, 0.0, 0.0, 0.0, 0.0, 0.0, 0.0, 0.0, 0.0, 0.0, 0.0, 0.0, 0.0, 0.0, 0.0, 0.0, 0.0, 0.0, 0.0, 0.0, 0.0, 0.0, 0.0, 0.0, 0.0, 0.0, 0.0, 0.0, 0.0, 0.0, 0.0, 0.0, 0.0, 0.0, 0.0, 0.0, 0.0, 0.0, 0.0, 0.0, 0.0, 0.0, 0.0, 0.0, 0.0, 0.0, 0.0, 0.0, 0.0, 0.0, 0.0, 0.0, 0.0, 0.0, 0.0, 0.0, 0.0, 0.0, 0.0, 0.0, 0.0, 0.0, 0.0, 0.0, 0.0, 0.0, 0.0, 0.0, 0.0, 0.0, 0.0, 0.0, 0.0, 0.0, 0.0, 0.0, 0.0, 0.0, 0.0, 0.0, 0.0, 0.0, 0.0, 0.0, 0.0, 0.0, 0.0, 0.0, 0.0, 0.0, 0.0, 0.0, 0.0, 0.0, 0.0, 0.0, 0.0, 0.0, 0.0, 0.0, 0.0, 0.0, 0.0, 0.0, 0.0, 0.0, 0.0, 0.0, 0.0, 0.0, 0.0, 0.0, 0.0, 0.0, 0.0, 0.0, 0.0, 0.0, 0.0, 0.0, 0.0, 0.0, 0.0, 0.0, 0.0, 0.0, 0.0, 0.0, 0.0, 0.0, 0.0, 0.0, 0.0, 0.0, 0.0, 0.0, 0.0, 0.0, 0.0, 0.0, 0.0, 0.0, 0.0, 0.0, 0.0, 0.0, 0.0, 0.0, 0.0, 0.0, 0.0, 0.0, 0.0, 0.0, 0.0, 0.0, 0.0, 0.0, 0.0, 0.0, 0.0, 0.0, 0.0, 0.0, 0.0, 0.0, 0.0, 0.0, 0.0, 0.0, 0.0, 0.0, 0.0, 0.0, 0.0, 0.0, 0.0, 0.0, 0.0, 0.0, 0.0, 0.0, 0.0, 0.0, 0.0, 1.0, 1.0, 1.0, 1.0, 1.0, 1.0, 1.0]\n"
     ]
    },
    {
     "name": "stdout",
     "output_type": "stream",
     "text": [
      "sample 99001/100000              \n",
      "Weight iter 2/14\n",
      "row 8001/8234              \n",
      "[(14, 3366), (820, 3901), (1865, 3638), (3084, 4563), (7273, 1545), (7342, 8370), (7362, 3647), (7456, 5582), (8399, 7636), (8704, 7571), (29, 2788), (100, 7742), (179, 6879), (251, 8467), (252, 343), (488, 3487), (494, 3941), (504, 2185), (740, 5332), (806, 8033), (1132, 4345), (1139, 1115), (1206, 1883), (1323, 936), (1404, 7043), (1787, 787), (1836, 3654), (1924, 6658), (2146, 4914), (2322, 4474), (2349, 528), (2369, 295), (2731, 6350), (2770, 3396), (3011, 753), (3046, 8006), (3202, 7124), (3315, 4805), (3625, 8244), (3910, 520), (3927, 6346), (4030, 5919), (4053, 8157), (4460, 7492), (4526, 2068), (4561, 3176), (4650, 5550), (4802, 5245), (4842, 5213), (4972, 8771), (5134, 8255), (5269, 5931), (5490, 2895), (5723, 7471), (5811, 6296), (5900, 2584), (6086, 2160), (6276, 3855), (6628, 6327), (6653, 5839), (6808, 1387), (6825, 1450), (6918, 7537), (6919, 706), (6939, 5668), (7226, 7730), (7296, 2985), (7371, 4804), (7442, 5291), (7491, 3416), (8078, 5102), (8122, 287), (8407, 2141), (8475, 1869), (8503, 7315), (62, 1797), (180, 480), (216, 363), (339, 4335), (423, 6763), (461, 4450), (467, 8622), (568, 887), (574, 5058), (648, 2098), (655, 3534), (679, 3268), (717, 7409), (917, 8324), (954, 1945), (980, 7164), (1037, 1707), (1233, 1223), (1345, 2530), (1369, 6099), (1451, 6167), (1456, 1989), (1475, 6440), (1655, 6233), (1687, 8856), (1717, 2218), (2014, 1734), (2043, 6685), (2116, 2783), (2192, 1131), (2612, 3567), (2724, 4298), (3054, 6729), (3070, 8227), (3085, 5884), (3095, 7978), (3250, 6470), (3255, 1298), (3391, 2075), (3441, 5188), (3445, 6374), (3461, 8733), (3478, 5246), (3480, 2478), (3603, 2811), (3667, 6148), (3676, 3970), (3940, 4884), (4000, 8599), (4046, 958), (4149, 7074), (4172, 8216), (4293, 6405), (4319, 3723), (4340, 1388), (4562, 7054), (4647, 7002), (4717, 7628), (4747, 6312), (4755, 1536), (4759, 716), (5048, 5917), (5073, 1148), (5176, 2446), (5181, 8706), (5225, 2665), (5234, 3129), (5257, 3999), (5294, 5885), (5320, 5407), (5400, 1736), (5483, 7359), (5533, 4358), (5661, 6610), (5694, 768), (5701, 6088), (5876, 7847), (5986, 4387), (6021, 6007), (6160, 8275), (6229, 4987), (6257, 1158), (6331, 2973), (6437, 4260), (6584, 1472), (6594, 4224), (6597, 406), (6872, 2623), (6900, 426), (6945, 3912), (7204, 5720), (7244, 1241), (7257, 4960), (7272, 8277), (7684, 5010), (7780, 4825), (7820, 2928), (7822, 7870), (7914, 465), (7939, 960), (7988, 2515), (8200, 8468), (8276, 6869), (8281, 8743), (8455, 8454), (8801, 3429), (236, 1546), (527, 4797), (534, 4368), (537, 2030), (642, 6716), (662, 1619), (719, 5205), (784, 6103), (839, 279), (1109, 6865), (1116, 2847), (1153, 6750), (1160, 5130), (1240, 3023), (1338, 1093), (1364, 6062), (1445, 5287), (1478, 6083), (1609, 285), (1646, 3781), (1694, 3526), (1705, 8043), (1742, 2405), (1779, 2562), (1824, 5998), (2022, 2387), (2106, 7653), (2219, 3839), (2372, 5652), (2536, 7689), (2546, 6074), (2769, 6700), (2834, 2993), (2848, 8149), (2870, 6358), (2994, 851), (3029, 1558), (3111, 6962), (3119, 7533), (3280, 8513), (3501, 1633), (3550, 6141), (3575, 2154), (3811, 1567), (4009, 4646), (4071, 3024), (4203, 7475), (4675, 7298), (4715, 169), (4925, 1525), (4928, 831), (5000, 2694), (5047, 3432), (5054, 4504), (5085, 3846), (5088, 7856), (5157, 4919), (5185, 3884), (5351, 3949), (5403, 2423), (5718, 731), (5963, 3865), (6500, 7683), (6541, 4114), (6566, 3885), (6751, 2845), (6824, 4571), (6848, 273), (6874, 5196), (6875, 6159), (6987, 8133), (7029, 5981), (7100, 6011), (7250, 1890), (7302, 7253), (7550, 579), (7613, 3374), (7621, 1113), (7701, 5412), (7735, 5024), (7875, 4655), (7995, 487), (8005, 2010), (8008, 7185), (8030, 7781), (8338, 151), (8436, 8618), (8597, 1508), (8751, 747), (167, 5675), (214, 1238), (308, 5987), (411, 4183), (445, 7209), (547, 1260), (556, 3850), (641, 4941), (721, 3368), (781, 8354), (847, 2857), (955, 1630), (975, 6246), (991, 3887), (1171, 5381), (1225, 727), (1249, 3840), (1408, 8155), (1730, 5186), (2049, 1350), (2064, 4048), (2248, 4144), (2328, 6476), (2451, 5446), (2642, 7306), (2651, 5510), (2786, 8470), (2943, 8734), (3380, 1921), (3450, 7032), (3469, 8356), (3727, 7202), (4060, 696), (4156, 4146), (4230, 7197), (4284, 7005), (4538, 6270), (4654, 7904), (4701, 2953), (4713, 2477), (4795, 7858), (4848, 198), (4982, 987), (5068, 881), (5236, 5459), (5516, 963), (5666, 6222), (5674, 1104), (5728, 6451), (5767, 5704), (5922, 1752), (5962, 5800), (6087, 1908), (6113, 1263), (6209, 6991), (6468, 5394), (6922, 6043), (7125, 3525), (7297, 2362), (7421, 4390), (7470, 4765), (7547, 6300), (7897, 7532), (7933, 2607), (8392, 7926), (8543, 7854), (8673, 4153), (8731, 8480), (190, 1208), (332, 6230), (366, 1917), (417, 7361), (631, 1982), (886, 4017), (1066, 3572), (1096, 6908), (1368, 1130), (1493, 7464), (1512, 221), (1539, 8289), (1540, 2274), (1548, 3585), (1632, 897), (1725, 274), (2173, 8566), (2341, 7139), (2664, 783), (2758, 5856), (2871, 6272), (3027, 8383), (3334, 5904), (3418, 3967), (3468, 5785), (3479, 3206), (3564, 647), (3565, 5071), (3688, 335), (3766, 2041), (3838, 1484), (4424, 2390), (4574, 7849), (4692, 5875), (4697, 302), (4855, 6439), (5122, 3503), (5581, 4473), (5743, 2792), (6434, 3167), (6527, 1580), (6531, 7206), (6662, 5910), (6842, 6826), (7000, 853), (7022, 2339), (7284, 5684), (7753, 8666), (7815, 5313), (7839, 6885), (7851, 8732), (7923, 2399), (8194, 3747), (8449, 1266), (8471, 7181), (8741, 5589), (8845, 7899), (304, 4088), (589, 5805), (623, 7913), (882, 945), (1709, 5571), (1765, 5621), (1823, 5080), (2415, 3056), (2453, 7833), (2601, 516), (3067, 4117), (3120, 7595), (3587, 2056), (3636, 6986), (3858, 3146), (4061, 1044), (4243, 1762), (4431, 7196), (4979, 4239), (5248, 615), (5521, 1114), (5677, 4092), (5872, 7519), (6039, 1378), (6235, 6946), (6599, 2333), (6672, 5631), (6976, 6157), (6999, 5312), (7199, 6409), (7228, 4362), (7249, 5552), (7603, 261), (7617, 7529), (7934, 7983), (8031, 5091), (8087, 8344), (8484, 5815), (8498, 3229), (231, 4342), (333, 8067), (934, 710), (1032, 1749), (1588, 3115), (1814, 386), (1980, 8228), (1991, 4516), (2182, 4152), (2406, 6067), (2407, 3337), (2470, 4085), (2653, 2309), (3135, 4732), (3162, 2533), (3579, 2246), (3615, 4081), (3897, 4934), (5116, 711), (5170, 1426), (5201, 4844), (5280, 2458), (5642, 626), (6321, 5474), (6784, 8363), (7466, 6438), (7824, 942), (8355, 4915), (404, 4687), (921, 5647), (1538, 5748), (1652, 3852), (1886, 7288), (2099, 5967), (2575, 4374), (3110, 303), (3609, 7191), (3643, 6377), (3867, 8517), (4024, 1684), (4255, 8102), (4746, 2646), (4911, 5665), (5027, 8485), (5574, 2297), (5781, 2714), (6903, 2378), (7429, 4607), (7465, 7251), (7602, 6891), (7616, 4901), (8813, 580), (1047, 7014), (1253, 6937), (1532, 8259), (2198, 1236), (2363, 5760), (2579, 3787), (2869, 3419), (2932, 4147), (3513, 5142), (3939, 6410), (4051, 5060), (4213, 1427), (4377, 1605), (4888, 1929), (6920, 7530), (6958, 3622), (7006, 2242), (123, 175), (436, 5921), (1140, 369), (1568, 7494), (2025, 2658), (2604, 8815), (3987, 7755), (4176, 8799), (4301, 4354), (5561, 4234), (5915, 4671), (6509, 2191), (6607, 442), (8563, 8601), (79, 525), (1385, 5187), (3448, 652), (3614, 6053), (3958, 1612), (4049, 4615), (4632, 4341), (6370, 3145), (6993, 8860), (754, 8220), (875, 6789), (3472, 6786), (3509, 2028), (3568, 3050), (5115, 3013), (5350, 8353), (5732, 8776), (6367, 1656), (6481, 8536), (7136, 6956), (7451, 5465), (7546, 268), (282, 294), (443, 1433), (451, 8448), (1322, 7071), (2048, 6519), (3991, 2312), (4040, 1851), (4315, 5169), (4575, 8589), (5218, 5138), (6040, 6921), (6953, 1246), (8028, 448), (8775, 5118), (2230, 4010), (4483, 4111), (6172, 3965), (6990, 8570), (7506, 7908), (8649, 2464), (8746, 3888), (326, 5849), (1199, 7611), (1502, 402), (1934, 8577), (3820, 2353), (6375, 6218), (6882, 2114), (686, 866), (901, 5370), (1604, 3403), (4826, 3282), (5041, 5491), (1903, 2889), (2147, 1939), (2356, 4879), (2819, 3482), (3544, 2385), (4396, 4044), (3657, 8141), (3942, 4222), (8790, 3815), (2338, 223), (8021, 769), (2270, 4933), (2776, 7548), (4735, 8012), (5486, 8552), (5702, 6687), (6490, 4384), (7057, 5926), (8759, 2688), (2101, 394), (2377, 2978), (6955, 1602), (8838, 115), (729, 5557), (2590, 6204), (4470, 8584), (1812, 1863), (3595, 5432), (8181, 3563), (2105, 7586), (2558, 3826), (7998, 1257), (2046, 5823), (4598, 2318), (7384, 6192), (7667, 6813), (3773, 8431), (6497, 2388), (7433, 4586), (65, 7937), (2669, 1154), (3864, 1244), (7145, 1915), (7230, 8226), (1949, 3172), (5148, 606), (2904, 4541), (4865, 1974), (7376, 6603), (3179, 5094), (4494, 2469), (8159, 5002), (1474, 5977), (3517, 8669), (206, 6363), (6494, 8671), (0, 243), (1, 2006), (2, 2712), (3, 4084), (4, 4465), (5, 4616), (6, 7845)]\n",
      "[0.0, 0.0, 0.0, 0.0, 0.0, 0.0, 0.0, 0.0, 0.0, 0.0, 1e-12, 1e-12, 1e-12, 1e-12, 1e-12, 1e-12, 1e-12, 1e-12, 1e-12, 1e-12, 1e-12, 1e-12, 1e-12, 1e-12, 1e-12, 1e-12, 1e-12, 1e-12, 1e-12, 1e-12, 1e-12, 1e-12, 1e-12, 1e-12, 1e-12, 1e-12, 1e-12, 1e-12, 1e-12, 1e-12, 1e-12, 1e-12, 1e-12, 1e-12, 1e-12, 1e-12, 1e-12, 1e-12, 1e-12, 1e-12, 1e-12, 1e-12, 1e-12, 1e-12, 1e-12, 1e-12, 1e-12, 1e-12, 1e-12, 1e-12, 1e-12, 1e-12, 1e-12, 1e-12, 1e-12, 1e-12, 1e-12, 1e-12, 1e-12, 1e-12, 1e-12, 1e-12, 1e-12, 1e-12, 1e-12, 2e-12, 2e-12, 2e-12, 2e-12, 2e-12, 2e-12, 2e-12, 2e-12, 2e-12, 2e-12, 2e-12, 2e-12, 2e-12, 2e-12, 2e-12, 2e-12, 2e-12, 2e-12, 2e-12, 2e-12, 2e-12, 2e-12, 2e-12, 2e-12, 2e-12, 2e-12, 2e-12, 2e-12, 2e-12, 2e-12, 2e-12, 2e-12, 2e-12, 2e-12, 2e-12, 2e-12, 2e-12, 2e-12, 2e-12, 2e-12, 2e-12, 2e-12, 2e-12, 2e-12, 2e-12, 2e-12, 2e-12, 2e-12, 2e-12, 2e-12, 2e-12, 2e-12, 2e-12, 2e-12, 2e-12, 2e-12, 2e-12, 2e-12, 2e-12, 2e-12, 2e-12, 2e-12, 2e-12, 2e-12, 2e-12, 2e-12, 2e-12, 2e-12, 2e-12, 2e-12, 2e-12, 2e-12, 2e-12, 2e-12, 2e-12, 2e-12, 2e-12, 2e-12, 2e-12, 2e-12, 2e-12, 2e-12, 2e-12, 2e-12, 2e-12, 2e-12, 2e-12, 2e-12, 2e-12, 2e-12, 2e-12, 2e-12, 2e-12, 2e-12, 2e-12, 2e-12, 2e-12, 2e-12, 2e-12, 2e-12, 2e-12, 2e-12, 2e-12, 2e-12, 2e-12, 2e-12, 3e-12, 3e-12, 3e-12, 3e-12, 3e-12, 3e-12, 3e-12, 3e-12, 3e-12, 3e-12, 3e-12, 3e-12, 3e-12, 3e-12, 3e-12, 3e-12, 3e-12, 3e-12, 3e-12, 3e-12, 3e-12, 3e-12, 3e-12, 3e-12, 3e-12, 3e-12, 3e-12, 3e-12, 3e-12, 3e-12, 3e-12, 3e-12, 3e-12, 3e-12, 3e-12, 3e-12, 3e-12, 3e-12, 3e-12, 3e-12, 3e-12, 3e-12, 3e-12, 3e-12, 3e-12, 3e-12, 3e-12, 3e-12, 3e-12, 3e-12, 3e-12, 3e-12, 3e-12, 3e-12, 3e-12, 3e-12, 3e-12, 3e-12, 3e-12, 3e-12, 3e-12, 3e-12, 3e-12, 3e-12, 3e-12, 3e-12, 3e-12, 3e-12, 3e-12, 3e-12, 3e-12, 3e-12, 3e-12, 3e-12, 3e-12, 3e-12, 3e-12, 3e-12, 3e-12, 3e-12, 3e-12, 3e-12, 3e-12, 3e-12, 3e-12, 3e-12, 3e-12, 3e-12, 3e-12, 4e-12, 4e-12, 4e-12, 4e-12, 4e-12, 4e-12, 4e-12, 4e-12, 4e-12, 4e-12, 4e-12, 4e-12, 4e-12, 4e-12, 4e-12, 4e-12, 4e-12, 4e-12, 4e-12, 4e-12, 4e-12, 4e-12, 4e-12, 4e-12, 4e-12, 4e-12, 4e-12, 4e-12, 4e-12, 4e-12, 4e-12, 4e-12, 4e-12, 4e-12, 4e-12, 4e-12, 4e-12, 4e-12, 4e-12, 4e-12, 4e-12, 4e-12, 4e-12, 4e-12, 4e-12, 4e-12, 4e-12, 4e-12, 4e-12, 4e-12, 4e-12, 4e-12, 4e-12, 4e-12, 4e-12, 4e-12, 4e-12, 4e-12, 4e-12, 4e-12, 4e-12, 4e-12, 4e-12, 4e-12, 4e-12, 4e-12, 4e-12, 4e-12, 5e-12, 5e-12, 5e-12, 5e-12, 5e-12, 5e-12, 5e-12, 5e-12, 5e-12, 5e-12, 5e-12, 5e-12, 5e-12, 5e-12, 5e-12, 5e-12, 5e-12, 5e-12, 5e-12, 5e-12, 5e-12, 5e-12, 5e-12, 5e-12, 5e-12, 5e-12, 5e-12, 5e-12, 5e-12, 5e-12, 5e-12, 5e-12, 5e-12, 5e-12, 5e-12, 5e-12, 5e-12, 5e-12, 5e-12, 5e-12, 5e-12, 5e-12, 5e-12, 5e-12, 5e-12, 5e-12, 5e-12, 5e-12, 5e-12, 5e-12, 5e-12, 5e-12, 5e-12, 5e-12, 5e-12, 5e-12, 5e-12, 6e-12, 6e-12, 6e-12, 6e-12, 6e-12, 6e-12, 6e-12, 6e-12, 6e-12, 6e-12, 6e-12, 6e-12, 6e-12, 6e-12, 6e-12, 6e-12, 6e-12, 6e-12, 6e-12, 6e-12, 6e-12, 6e-12, 6e-12, 6e-12, 6e-12, 6e-12, 6e-12, 6e-12, 6e-12, 6e-12, 6e-12, 6e-12, 6e-12, 6e-12, 6e-12, 6e-12, 6e-12, 6e-12, 6e-12, 7e-12, 7e-12, 7e-12, 7e-12, 7e-12, 7e-12, 7e-12, 7e-12, 7e-12, 7e-12, 7e-12, 7e-12, 7e-12, 7e-12, 7e-12, 7e-12, 7e-12, 7e-12, 7e-12, 7e-12, 7e-12, 7e-12, 7e-12, 7e-12, 7e-12, 7e-12, 7e-12, 7e-12, 8e-12, 8e-12, 8e-12, 8e-12, 8e-12, 8e-12, 8e-12, 8e-12, 8e-12, 8e-12, 8e-12, 8e-12, 8e-12, 8e-12, 8e-12, 8e-12, 8e-12, 8e-12, 8e-12, 8e-12, 8e-12, 8e-12, 8e-12, 8e-12, 9e-12, 9e-12, 9e-12, 9e-12, 9e-12, 9e-12, 9e-12, 9e-12, 9e-12, 9e-12, 9e-12, 9e-12, 9e-12, 9e-12, 9e-12, 9e-12, 9e-12, 1e-11, 1e-11, 1e-11, 1e-11, 1e-11, 1e-11, 1e-11, 1e-11, 1e-11, 1e-11, 1e-11, 1e-11, 1e-11, 1e-11, 1.0999999999999999e-11, 1.0999999999999999e-11, 1.0999999999999999e-11, 1.0999999999999999e-11, 1.0999999999999999e-11, 1.0999999999999999e-11, 1.0999999999999999e-11, 1.0999999999999999e-11, 1.0999999999999999e-11, 1.2e-11, 1.2e-11, 1.2e-11, 1.2e-11, 1.2e-11, 1.2e-11, 1.2e-11, 1.2e-11, 1.2e-11, 1.2e-11, 1.2e-11, 1.2e-11, 1.2e-11, 1.3e-11, 1.3e-11, 1.3e-11, 1.3e-11, 1.3e-11, 1.3e-11, 1.3e-11, 1.3e-11, 1.3e-11, 1.3e-11, 1.3e-11, 1.3e-11, 1.3e-11, 1.3e-11, 1.4e-11, 1.4e-11, 1.4e-11, 1.4e-11, 1.4e-11, 1.4e-11, 1.4e-11, 1.5e-11, 1.5e-11, 1.5e-11, 1.5e-11, 1.5e-11, 1.5e-11, 1.5e-11, 1.6e-11, 1.6e-11, 1.6e-11, 1.6e-11, 1.6e-11, 1.7e-11, 1.7e-11, 1.7e-11, 1.7e-11, 1.7e-11, 1.7e-11, 1.8e-11, 1.8e-11, 1.8e-11, 1.9e-11, 1.9e-11, 2e-11, 2e-11, 2e-11, 2e-11, 2e-11, 2e-11, 2e-11, 2e-11, 2.1e-11, 2.1e-11, 2.1999999999999998e-11, 2.1999999999999998e-11, 2.2999999999999998e-11, 2.2999999999999998e-11, 2.2999999999999998e-11, 2.4e-11, 2.4e-11, 2.4e-11, 2.5e-11, 2.5e-11, 2.5e-11, 2.6e-11, 2.6e-11, 2.6e-11, 2.6e-11, 2.7e-11, 2.7e-11, 2.7e-11, 2.9e-11, 2.9e-11, 2.9e-11, 3e-11, 3e-11, 3.2e-11, 3.2e-11, 3.5e-11, 3.6e-11, 3.6e-11, 3.7e-11, 3.7e-11, 3.9e-11, 4.1e-11, 4.3e-11, 4.8e-11, 5.9e-11, 1.0, 1.0, 1.0, 1.0, 1.0, 1.0, 1.0]\n"
     ]
    },
    {
     "name": "stdout",
     "output_type": "stream",
     "text": [
      "sample 99001/100000              \n",
      "Weight iter 3/14\n",
      "row 8001/8234              \n",
      "[(14, 3366), (820, 3901), (1865, 3638), (3084, 4563), (7273, 1545), (7342, 8370), (7362, 3647), (7456, 5582), (8399, 7636), (8704, 7571), (29, 2788), (100, 7742), (179, 6879), (251, 8467), (252, 343), (488, 3487), (494, 3941), (504, 2185), (740, 5332), (806, 8033), (1132, 4345), (1139, 1115), (1206, 1883), (1323, 936), (1404, 7043), (1787, 787), (1836, 3654), (1924, 6658), (2146, 4914), (2322, 4474), (2349, 528), (2369, 295), (2731, 6350), (2770, 3396), (3011, 753), (3046, 8006), (3202, 7124), (3315, 4805), (3625, 8244), (3910, 520), (3927, 6346), (4030, 5919), (4053, 8157), (4460, 7492), (4526, 2068), (4561, 3176), (4650, 5550), (4802, 5245), (4842, 5213), (4972, 8771), (5134, 8255), (5269, 5931), (5490, 2895), (5723, 7471), (5811, 6296), (5900, 2584), (6086, 2160), (6276, 3855), (6628, 6327), (6653, 5839), (6808, 1387), (6825, 1450), (6918, 7537), (6919, 706), (6939, 5668), (7226, 7730), (7296, 2985), (7371, 4804), (7442, 5291), (7491, 3416), (8078, 5102), (8122, 287), (8407, 2141), (8475, 1869), (8503, 7315), (62, 1797), (180, 480), (216, 363), (339, 4335), (423, 6763), (461, 4450), (467, 8622), (568, 887), (574, 5058), (648, 2098), (655, 3534), (679, 3268), (717, 7409), (917, 8324), (954, 1945), (980, 7164), (1037, 1707), (1233, 1223), (1345, 2530), (1369, 6099), (1451, 6167), (1456, 1989), (1475, 6440), (1655, 6233), (1687, 8856), (1717, 2218), (2014, 1734), (2043, 6685), (2116, 2783), (2192, 1131), (2612, 3567), (2724, 4298), (3054, 6729), (3070, 8227), (3085, 5884), (3095, 7978), (3250, 6470), (3255, 1298), (3391, 2075), (3441, 5188), (3445, 6374), (3461, 8733), (3478, 5246), (3480, 2478), (3603, 2811), (3667, 6148), (3676, 3970), (3940, 4884), (4000, 8599), (4046, 958), (4149, 7074), (4172, 8216), (4293, 6405), (4319, 3723), (4340, 1388), (4562, 7054), (4647, 7002), (4717, 7628), (4747, 6312), (4755, 1536), (4759, 716), (5048, 5917), (5073, 1148), (5176, 2446), (5181, 8706), (5225, 2665), (5234, 3129), (5257, 3999), (5294, 5885), (5320, 5407), (5400, 1736), (5483, 7359), (5533, 4358), (5661, 6610), (5694, 768), (5701, 6088), (5876, 7847), (5986, 4387), (6021, 6007), (6160, 8275), (6229, 4987), (6257, 1158), (6331, 2973), (6437, 4260), (6584, 1472), (6594, 4224), (6597, 406), (6872, 2623), (6900, 426), (6945, 3912), (7204, 5720), (7244, 1241), (7257, 4960), (7272, 8277), (7684, 5010), (7780, 4825), (7820, 2928), (7822, 7870), (7914, 465), (7939, 960), (7988, 2515), (8200, 8468), (8276, 6869), (8281, 8743), (8455, 8454), (8801, 3429), (236, 1546), (527, 4797), (534, 4368), (537, 2030), (642, 6716), (662, 1619), (719, 5205), (784, 6103), (839, 279), (1109, 6865), (1116, 2847), (1153, 6750), (1160, 5130), (1240, 3023), (1338, 1093), (1364, 6062), (1445, 5287), (1478, 6083), (1609, 285), (1646, 3781), (1694, 3526), (1705, 8043), (1742, 2405), (1779, 2562), (1824, 5998), (2022, 2387), (2106, 7653), (2219, 3839), (2372, 5652), (2536, 7689), (2546, 6074), (2769, 6700), (2834, 2993), (2848, 8149), (2870, 6358), (2994, 851), (3029, 1558), (3111, 6962), (3119, 7533), (3280, 8513), (3501, 1633), (3550, 6141), (3575, 2154), (3811, 1567), (4009, 4646), (4071, 3024), (4203, 7475), (4675, 7298), (4715, 169), (4925, 1525), (4928, 831), (5000, 2694), (5047, 3432), (5054, 4504), (5085, 3846), (5088, 7856), (5157, 4919), (5185, 3884), (5351, 3949), (5403, 2423), (5718, 731), (5963, 3865), (6500, 7683), (6541, 4114), (6566, 3885), (6751, 2845), (6824, 4571), (6848, 273), (6874, 5196), (6875, 6159), (6987, 8133), (7029, 5981), (7100, 6011), (7250, 1890), (7302, 7253), (7550, 579), (7613, 3374), (7621, 1113), (7701, 5412), (7735, 5024), (7875, 4655), (7995, 487), (8005, 2010), (8008, 7185), (8030, 7781), (8338, 151), (8436, 8618), (8597, 1508), (8751, 747), (167, 5675), (214, 1238), (308, 5987), (411, 4183), (445, 7209), (547, 1260), (556, 3850), (641, 4941), (721, 3368), (781, 8354), (847, 2857), (955, 1630), (975, 6246), (991, 3887), (1171, 5381), (1225, 727), (1249, 3840), (1408, 8155), (1730, 5186), (2049, 1350), (2064, 4048), (2248, 4144), (2328, 6476), (2451, 5446), (2642, 7306), (2651, 5510), (2786, 8470), (2943, 8734), (3380, 1921), (3450, 7032), (3469, 8356), (3727, 7202), (4060, 696), (4156, 4146), (4230, 7197), (4284, 7005), (4538, 6270), (4654, 7904), (4701, 2953), (4713, 2477), (4795, 7858), (4848, 198), (4982, 987), (5068, 881), (5236, 5459), (5516, 963), (5666, 6222), (5674, 1104), (5728, 6451), (5767, 5704), (5922, 1752), (5962, 5800), (6087, 1908), (6113, 1263), (6209, 6991), (6468, 5394), (6922, 6043), (7125, 3525), (7297, 2362), (7421, 4390), (7470, 4765), (7547, 6300), (7897, 7532), (7933, 2607), (8392, 7926), (8543, 7854), (8673, 4153), (8731, 8480), (190, 1208), (332, 6230), (366, 1917), (417, 7361), (631, 1982), (886, 4017), (1066, 3572), (1096, 6908), (1368, 1130), (1493, 7464), (1512, 221), (1539, 8289), (1540, 2274), (1548, 3585), (1632, 897), (1725, 274), (2173, 8566), (2341, 7139), (2664, 783), (2758, 5856), (2871, 6272), (3027, 8383), (3334, 5904), (3418, 3967), (3468, 5785), (3479, 3206), (3564, 647), (3565, 5071), (3688, 335), (3766, 2041), (3838, 1484), (4424, 2390), (4574, 7849), (4692, 5875), (4697, 302), (4855, 6439), (5122, 3503), (5581, 4473), (5743, 2792), (6434, 3167), (6527, 1580), (6531, 7206), (6662, 5910), (6842, 6826), (7000, 853), (7022, 2339), (7284, 5684), (7753, 8666), (7815, 5313), (7839, 6885), (7851, 8732), (7923, 2399), (8194, 3747), (8449, 1266), (8471, 7181), (8741, 5589), (8845, 7899), (304, 4088), (589, 5805), (623, 7913), (882, 945), (1709, 5571), (1765, 5621), (1823, 5080), (2415, 3056), (2453, 7833), (2601, 516), (3067, 4117), (3120, 7595), (3587, 2056), (3636, 6986), (3858, 3146), (4061, 1044), (4243, 1762), (4431, 7196), (4979, 4239), (5248, 615), (5521, 1114), (5677, 4092), (5872, 7519), (6039, 1378), (6235, 6946), (6599, 2333), (6672, 5631), (6976, 6157), (6999, 5312), (7199, 6409), (7228, 4362), (7249, 5552), (7603, 261), (7617, 7529), (7934, 7983), (8031, 5091), (8087, 8344), (8484, 5815), (8498, 3229), (231, 4342), (333, 8067), (934, 710), (1032, 1749), (1588, 3115), (1814, 386), (1980, 8228), (1991, 4516), (2182, 4152), (2406, 6067), (2407, 3337), (2470, 4085), (2653, 2309), (3135, 4732), (3162, 2533), (3579, 2246), (3615, 4081), (3897, 4934), (5116, 711), (5170, 1426), (5201, 4844), (5280, 2458), (5642, 626), (6321, 5474), (6784, 8363), (7466, 6438), (7824, 942), (8355, 4915), (404, 4687), (921, 5647), (1538, 5748), (1652, 3852), (1886, 7288), (2099, 5967), (2575, 4374), (3110, 303), (3609, 7191), (3643, 6377), (3867, 8517), (4024, 1684), (4255, 8102), (4746, 2646), (4911, 5665), (5027, 8485), (5574, 2297), (5781, 2714), (6903, 2378), (7429, 4607), (7465, 7251), (7602, 6891), (7616, 4901), (8813, 580), (1047, 7014), (1253, 6937), (1532, 8259), (2198, 1236), (2363, 5760), (2579, 3787), (2869, 3419), (2932, 4147), (3513, 5142), (3939, 6410), (4051, 5060), (4213, 1427), (4377, 1605), (4888, 1929), (6920, 7530), (6958, 3622), (7006, 2242), (123, 175), (436, 5921), (1140, 369), (1568, 7494), (2025, 2658), (2604, 8815), (3987, 7755), (4176, 8799), (4301, 4354), (5561, 4234), (5915, 4671), (6509, 2191), (6607, 442), (8563, 8601), (79, 525), (1385, 5187), (3448, 652), (3614, 6053), (3958, 1612), (4049, 4615), (4632, 4341), (6370, 3145), (6993, 8860), (754, 8220), (875, 6789), (3472, 6786), (3509, 2028), (3568, 3050), (5115, 3013), (5350, 8353), (5732, 8776), (6367, 1656), (6481, 8536), (7136, 6956), (7451, 5465), (7546, 268), (282, 294), (443, 1433), (451, 8448), (1322, 7071), (2048, 6519), (3991, 2312), (4040, 1851), (4315, 5169), (4575, 8589), (5218, 5138), (6040, 6921), (6953, 1246), (8028, 448), (8775, 5118), (2230, 4010), (4483, 4111), (6172, 3965), (6990, 8570), (7506, 7908), (8649, 2464), (8746, 3888), (326, 5849), (1199, 7611), (1502, 402), (1934, 8577), (3820, 2353), (6375, 6218), (6882, 2114), (686, 866), (901, 5370), (1604, 3403), (4826, 3282), (5041, 5491), (1903, 2889), (2147, 1939), (2356, 4879), (2819, 3482), (3544, 2385), (4396, 4044), (3657, 8141), (3942, 4222), (8790, 3815), (2338, 223), (8021, 769), (2270, 4933), (2776, 7548), (4735, 8012), (5486, 8552), (5702, 6687), (6490, 4384), (7057, 5926), (8759, 2688), (2101, 394), (2377, 2978), (6955, 1602), (8838, 115), (729, 5557), (2590, 6204), (4470, 8584), (1812, 1863), (3595, 5432), (8181, 3563), (2105, 7586), (2558, 3826), (7998, 1257), (2046, 5823), (4598, 2318), (7384, 6192), (7667, 6813), (3773, 8431), (6497, 2388), (7433, 4586), (65, 7937), (2669, 1154), (3864, 1244), (7145, 1915), (7230, 8226), (1949, 3172), (5148, 606), (2904, 4541), (4865, 1974), (7376, 6603), (3179, 5094), (4494, 2469), (8159, 5002), (1474, 5977), (3517, 8669), (206, 6363), (6494, 8671), (0, 243), (1, 2006), (2, 2712), (3, 4084), (4, 4465), (5, 4616), (6, 7845)]\n",
      "[0.0, 0.0, 0.0, 0.0, 0.0, 0.0, 0.0, 0.0, 0.0, 0.0, 1e-11, 1e-11, 1e-11, 1e-11, 1e-11, 1e-11, 1e-11, 1e-11, 1e-11, 1e-11, 1e-11, 1e-11, 1e-11, 1e-11, 1e-11, 1e-11, 1e-11, 1e-11, 1e-11, 1e-11, 1e-11, 1e-11, 1e-11, 1e-11, 1e-11, 1e-11, 1e-11, 1e-11, 1e-11, 1e-11, 1e-11, 1e-11, 1e-11, 1e-11, 1e-11, 1e-11, 1e-11, 1e-11, 1e-11, 1e-11, 1e-11, 1e-11, 1e-11, 1e-11, 1e-11, 1e-11, 1e-11, 1e-11, 1e-11, 1e-11, 1e-11, 1e-11, 1e-11, 1e-11, 1e-11, 1e-11, 1e-11, 1e-11, 1e-11, 1e-11, 1e-11, 1e-11, 1e-11, 1e-11, 1e-11, 2e-11, 2e-11, 2e-11, 2e-11, 2e-11, 2e-11, 2e-11, 2e-11, 2e-11, 2e-11, 2e-11, 2e-11, 2e-11, 2e-11, 2e-11, 2e-11, 2e-11, 2e-11, 2e-11, 2e-11, 2e-11, 2e-11, 2e-11, 2e-11, 2e-11, 2e-11, 2e-11, 2e-11, 2e-11, 2e-11, 2e-11, 2e-11, 2e-11, 2e-11, 2e-11, 2e-11, 2e-11, 2e-11, 2e-11, 2e-11, 2e-11, 2e-11, 2e-11, 2e-11, 2e-11, 2e-11, 2e-11, 2e-11, 2e-11, 2e-11, 2e-11, 2e-11, 2e-11, 2e-11, 2e-11, 2e-11, 2e-11, 2e-11, 2e-11, 2e-11, 2e-11, 2e-11, 2e-11, 2e-11, 2e-11, 2e-11, 2e-11, 2e-11, 2e-11, 2e-11, 2e-11, 2e-11, 2e-11, 2e-11, 2e-11, 2e-11, 2e-11, 2e-11, 2e-11, 2e-11, 2e-11, 2e-11, 2e-11, 2e-11, 2e-11, 2e-11, 2e-11, 2e-11, 2e-11, 2e-11, 2e-11, 2e-11, 2e-11, 2e-11, 2e-11, 2e-11, 2e-11, 2e-11, 2e-11, 2e-11, 2e-11, 2e-11, 2e-11, 2e-11, 2e-11, 2e-11, 3e-11, 3e-11, 3e-11, 3e-11, 3e-11, 3e-11, 3e-11, 3e-11, 3e-11, 3e-11, 3e-11, 3e-11, 3e-11, 3e-11, 3e-11, 3e-11, 3e-11, 3e-11, 3e-11, 3e-11, 3e-11, 3e-11, 3e-11, 3e-11, 3e-11, 3e-11, 3e-11, 3e-11, 3e-11, 3e-11, 3e-11, 3e-11, 3e-11, 3e-11, 3e-11, 3e-11, 3e-11, 3e-11, 3e-11, 3e-11, 3e-11, 3e-11, 3e-11, 3e-11, 3e-11, 3e-11, 3e-11, 3e-11, 3e-11, 3e-11, 3e-11, 3e-11, 3e-11, 3e-11, 3e-11, 3e-11, 3e-11, 3e-11, 3e-11, 3e-11, 3e-11, 3e-11, 3e-11, 3e-11, 3e-11, 3e-11, 3e-11, 3e-11, 3e-11, 3e-11, 3e-11, 3e-11, 3e-11, 3e-11, 3e-11, 3e-11, 3e-11, 3e-11, 3e-11, 3e-11, 3e-11, 3e-11, 3e-11, 3e-11, 3e-11, 3e-11, 3e-11, 3e-11, 3e-11, 4e-11, 4e-11, 4e-11, 4e-11, 4e-11, 4e-11, 4e-11, 4e-11, 4e-11, 4e-11, 4e-11, 4e-11, 4e-11, 4e-11, 4e-11, 4e-11, 4e-11, 4e-11, 4e-11, 4e-11, 4e-11, 4e-11, 4e-11, 4e-11, 4e-11, 4e-11, 4e-11, 4e-11, 4e-11, 4e-11, 4e-11, 4e-11, 4e-11, 4e-11, 4e-11, 4e-11, 4e-11, 4e-11, 4e-11, 4e-11, 4e-11, 4e-11, 4e-11, 4e-11, 4e-11, 4e-11, 4e-11, 4e-11, 4e-11, 4e-11, 4e-11, 4e-11, 4e-11, 4e-11, 4e-11, 4e-11, 4e-11, 4e-11, 4e-11, 4e-11, 4e-11, 4e-11, 4e-11, 4e-11, 4e-11, 4e-11, 4e-11, 4e-11, 4.9999999999999995e-11, 4.9999999999999995e-11, 4.9999999999999995e-11, 4.9999999999999995e-11, 4.9999999999999995e-11, 4.9999999999999995e-11, 4.9999999999999995e-11, 4.9999999999999995e-11, 4.9999999999999995e-11, 4.9999999999999995e-11, 4.9999999999999995e-11, 4.9999999999999995e-11, 4.9999999999999995e-11, 4.9999999999999995e-11, 4.9999999999999995e-11, 4.9999999999999995e-11, 4.9999999999999995e-11, 4.9999999999999995e-11, 4.9999999999999995e-11, 4.9999999999999995e-11, 4.9999999999999995e-11, 4.9999999999999995e-11, 4.9999999999999995e-11, 4.9999999999999995e-11, 4.9999999999999995e-11, 4.9999999999999995e-11, 4.9999999999999995e-11, 4.9999999999999995e-11, 4.9999999999999995e-11, 4.9999999999999995e-11, 4.9999999999999995e-11, 4.9999999999999995e-11, 4.9999999999999995e-11, 4.9999999999999995e-11, 4.9999999999999995e-11, 4.9999999999999995e-11, 4.9999999999999995e-11, 4.9999999999999995e-11, 4.9999999999999995e-11, 4.9999999999999995e-11, 4.9999999999999995e-11, 4.9999999999999995e-11, 4.9999999999999995e-11, 4.9999999999999995e-11, 4.9999999999999995e-11, 4.9999999999999995e-11, 4.9999999999999995e-11, 4.9999999999999995e-11, 4.9999999999999995e-11, 4.9999999999999995e-11, 4.9999999999999995e-11, 4.9999999999999995e-11, 4.9999999999999995e-11, 4.9999999999999995e-11, 4.9999999999999995e-11, 4.9999999999999995e-11, 4.9999999999999995e-11, 6e-11, 6e-11, 6e-11, 6e-11, 6e-11, 6e-11, 6e-11, 6e-11, 6e-11, 6e-11, 6e-11, 6e-11, 6e-11, 6e-11, 6e-11, 6e-11, 6e-11, 6e-11, 6e-11, 6e-11, 6e-11, 6e-11, 6e-11, 6e-11, 6e-11, 6e-11, 6e-11, 6e-11, 6e-11, 6e-11, 6e-11, 6e-11, 6e-11, 6e-11, 6e-11, 6e-11, 6e-11, 6e-11, 6e-11, 6.999999999999999e-11, 6.999999999999999e-11, 6.999999999999999e-11, 6.999999999999999e-11, 6.999999999999999e-11, 6.999999999999999e-11, 6.999999999999999e-11, 6.999999999999999e-11, 6.999999999999999e-11, 6.999999999999999e-11, 6.999999999999999e-11, 6.999999999999999e-11, 6.999999999999999e-11, 6.999999999999999e-11, 6.999999999999999e-11, 6.999999999999999e-11, 6.999999999999999e-11, 6.999999999999999e-11, 6.999999999999999e-11, 6.999999999999999e-11, 6.999999999999999e-11, 6.999999999999999e-11, 6.999999999999999e-11, 6.999999999999999e-11, 6.999999999999999e-11, 6.999999999999999e-11, 6.999999999999999e-11, 6.999999999999999e-11, 8e-11, 8e-11, 8e-11, 8e-11, 8e-11, 8e-11, 8e-11, 8e-11, 8e-11, 8e-11, 8e-11, 8e-11, 8e-11, 8e-11, 8e-11, 8e-11, 8e-11, 8e-11, 8e-11, 8e-11, 8e-11, 8e-11, 8e-11, 8e-11, 9e-11, 9e-11, 9e-11, 9e-11, 9e-11, 9e-11, 9e-11, 9e-11, 9e-11, 9e-11, 9e-11, 9e-11, 9e-11, 9e-11, 9e-11, 9e-11, 9e-11, 9.999999999999999e-11, 9.999999999999999e-11, 9.999999999999999e-11, 9.999999999999999e-11, 9.999999999999999e-11, 9.999999999999999e-11, 9.999999999999999e-11, 9.999999999999999e-11, 9.999999999999999e-11, 9.999999999999999e-11, 9.999999999999999e-11, 9.999999999999999e-11, 9.999999999999999e-11, 9.999999999999999e-11, 1.1e-10, 1.1e-10, 1.1e-10, 1.1e-10, 1.1e-10, 1.1e-10, 1.1e-10, 1.1e-10, 1.1e-10, 1.2e-10, 1.2e-10, 1.2e-10, 1.2e-10, 1.2e-10, 1.2e-10, 1.2e-10, 1.2e-10, 1.2e-10, 1.2e-10, 1.2e-10, 1.2e-10, 1.2e-10, 1.3e-10, 1.3e-10, 1.3e-10, 1.3e-10, 1.3e-10, 1.3e-10, 1.3e-10, 1.3e-10, 1.3e-10, 1.3e-10, 1.3e-10, 1.3e-10, 1.3e-10, 1.3e-10, 1.3999999999999998e-10, 1.3999999999999998e-10, 1.3999999999999998e-10, 1.3999999999999998e-10, 1.3999999999999998e-10, 1.3999999999999998e-10, 1.3999999999999998e-10, 1.5e-10, 1.5e-10, 1.5e-10, 1.5e-10, 1.5e-10, 1.5e-10, 1.5e-10, 1.6e-10, 1.6e-10, 1.6e-10, 1.6e-10, 1.6e-10, 1.6999999999999998e-10, 1.6999999999999998e-10, 1.6999999999999998e-10, 1.6999999999999998e-10, 1.6999999999999998e-10, 1.6999999999999998e-10, 1.8e-10, 1.8e-10, 1.8e-10, 1.9e-10, 1.9e-10, 1.9999999999999998e-10, 1.9999999999999998e-10, 1.9999999999999998e-10, 1.9999999999999998e-10, 1.9999999999999998e-10, 1.9999999999999998e-10, 1.9999999999999998e-10, 1.9999999999999998e-10, 2.1e-10, 2.1e-10, 2.2e-10, 2.2e-10, 2.2999999999999998e-10, 2.2999999999999998e-10, 2.2999999999999998e-10, 2.4e-10, 2.4e-10, 2.4e-10, 2.4999999999999996e-10, 2.4999999999999996e-10, 2.4999999999999996e-10, 2.6e-10, 2.6e-10, 2.6e-10, 2.6e-10, 2.7e-10, 2.7e-10, 2.7e-10, 2.9e-10, 2.9e-10, 2.9e-10, 3e-10, 3e-10, 3.2e-10, 3.2e-10, 3.5e-10, 3.6e-10, 3.6e-10, 3.6999999999999996e-10, 3.6999999999999996e-10, 3.9e-10, 4.1e-10, 4.2999999999999996e-10, 4.8e-10, 5.899999999999999e-10, 1.0, 1.0, 1.0, 1.0, 1.0, 1.0, 1.0]\n"
     ]
    },
    {
     "name": "stdout",
     "output_type": "stream",
     "text": [
      "sample 99001/100000              \n",
      "Weight iter 4/14\n",
      "row 8001/8234              \n",
      "[(14, 3366), (820, 3901), (1865, 3638), (3084, 4563), (7273, 1545), (7342, 8370), (7362, 3647), (7456, 5582), (8399, 7636), (8704, 7571), (29, 2788), (100, 7742), (179, 6879), (251, 8467), (252, 343), (488, 3487), (494, 3941), (504, 2185), (740, 5332), (806, 8033), (1132, 4345), (1139, 1115), (1206, 1883), (1323, 936), (1404, 7043), (1787, 787), (1836, 3654), (1924, 6658), (2146, 4914), (2322, 4474), (2349, 528), (2369, 295), (2731, 6350), (2770, 3396), (3011, 753), (3046, 8006), (3202, 7124), (3315, 4805), (3625, 8244), (3910, 520), (3927, 6346), (4030, 5919), (4053, 8157), (4460, 7492), (4526, 2068), (4561, 3176), (4650, 5550), (4802, 5245), (4842, 5213), (4972, 8771), (5134, 8255), (5269, 5931), (5490, 2895), (5723, 7471), (5811, 6296), (5900, 2584), (6086, 2160), (6276, 3855), (6628, 6327), (6653, 5839), (6808, 1387), (6825, 1450), (6918, 7537), (6919, 706), (6939, 5668), (7226, 7730), (7296, 2985), (7371, 4804), (7442, 5291), (7491, 3416), (8078, 5102), (8122, 287), (8407, 2141), (8475, 1869), (8503, 7315), (62, 1797), (180, 480), (216, 363), (339, 4335), (423, 6763), (461, 4450), (467, 8622), (568, 887), (574, 5058), (648, 2098), (655, 3534), (679, 3268), (717, 7409), (917, 8324), (954, 1945), (980, 7164), (1037, 1707), (1233, 1223), (1345, 2530), (1369, 6099), (1451, 6167), (1456, 1989), (1475, 6440), (1655, 6233), (1687, 8856), (1717, 2218), (2014, 1734), (2043, 6685), (2116, 2783), (2192, 1131), (2612, 3567), (2724, 4298), (3054, 6729), (3070, 8227), (3085, 5884), (3095, 7978), (3250, 6470), (3255, 1298), (3391, 2075), (3441, 5188), (3445, 6374), (3461, 8733), (3478, 5246), (3480, 2478), (3603, 2811), (3667, 6148), (3676, 3970), (3940, 4884), (4000, 8599), (4046, 958), (4149, 7074), (4172, 8216), (4293, 6405), (4319, 3723), (4340, 1388), (4562, 7054), (4647, 7002), (4717, 7628), (4747, 6312), (4755, 1536), (4759, 716), (5048, 5917), (5073, 1148), (5176, 2446), (5181, 8706), (5225, 2665), (5234, 3129), (5257, 3999), (5294, 5885), (5320, 5407), (5400, 1736), (5483, 7359), (5533, 4358), (5661, 6610), (5694, 768), (5701, 6088), (5876, 7847), (5986, 4387), (6021, 6007), (6160, 8275), (6229, 4987), (6257, 1158), (6331, 2973), (6437, 4260), (6584, 1472), (6594, 4224), (6597, 406), (6872, 2623), (6900, 426), (6945, 3912), (7204, 5720), (7244, 1241), (7257, 4960), (7272, 8277), (7684, 5010), (7780, 4825), (7820, 2928), (7822, 7870), (7914, 465), (7939, 960), (7988, 2515), (8200, 8468), (8276, 6869), (8281, 8743), (8455, 8454), (8801, 3429), (236, 1546), (527, 4797), (534, 4368), (537, 2030), (642, 6716), (662, 1619), (719, 5205), (784, 6103), (839, 279), (1109, 6865), (1116, 2847), (1153, 6750), (1160, 5130), (1240, 3023), (1338, 1093), (1364, 6062), (1445, 5287), (1478, 6083), (1609, 285), (1646, 3781), (1694, 3526), (1705, 8043), (1742, 2405), (1779, 2562), (1824, 5998), (2022, 2387), (2106, 7653), (2219, 3839), (2372, 5652), (2536, 7689), (2546, 6074), (2769, 6700), (2834, 2993), (2848, 8149), (2870, 6358), (2994, 851), (3029, 1558), (3111, 6962), (3119, 7533), (3280, 8513), (3501, 1633), (3550, 6141), (3575, 2154), (3811, 1567), (4009, 4646), (4071, 3024), (4203, 7475), (4675, 7298), (4715, 169), (4925, 1525), (4928, 831), (5000, 2694), (5047, 3432), (5054, 4504), (5085, 3846), (5088, 7856), (5157, 4919), (5185, 3884), (5351, 3949), (5403, 2423), (5718, 731), (5963, 3865), (6500, 7683), (6541, 4114), (6566, 3885), (6751, 2845), (6824, 4571), (6848, 273), (6874, 5196), (6875, 6159), (6987, 8133), (7029, 5981), (7100, 6011), (7250, 1890), (7302, 7253), (7550, 579), (7613, 3374), (7621, 1113), (7701, 5412), (7735, 5024), (7875, 4655), (7995, 487), (8005, 2010), (8008, 7185), (8030, 7781), (8338, 151), (8436, 8618), (8597, 1508), (8751, 747), (167, 5675), (214, 1238), (308, 5987), (411, 4183), (445, 7209), (547, 1260), (556, 3850), (641, 4941), (721, 3368), (781, 8354), (847, 2857), (955, 1630), (975, 6246), (991, 3887), (1171, 5381), (1225, 727), (1249, 3840), (1408, 8155), (1730, 5186), (2049, 1350), (2064, 4048), (2248, 4144), (2328, 6476), (2451, 5446), (2642, 7306), (2651, 5510), (2786, 8470), (2943, 8734), (3380, 1921), (3450, 7032), (3469, 8356), (3727, 7202), (4060, 696), (4156, 4146), (4230, 7197), (4284, 7005), (4538, 6270), (4654, 7904), (4701, 2953), (4713, 2477), (4795, 7858), (4848, 198), (4982, 987), (5068, 881), (5236, 5459), (5516, 963), (5666, 6222), (5674, 1104), (5728, 6451), (5767, 5704), (5922, 1752), (5962, 5800), (6087, 1908), (6113, 1263), (6209, 6991), (6468, 5394), (6922, 6043), (7125, 3525), (7297, 2362), (7421, 4390), (7470, 4765), (7547, 6300), (7897, 7532), (7933, 2607), (8392, 7926), (8543, 7854), (8673, 4153), (8731, 8480), (190, 1208), (332, 6230), (366, 1917), (417, 7361), (631, 1982), (886, 4017), (1066, 3572), (1096, 6908), (1368, 1130), (1493, 7464), (1512, 221), (1539, 8289), (1540, 2274), (1548, 3585), (1632, 897), (1725, 274), (2173, 8566), (2341, 7139), (2664, 783), (2758, 5856), (2871, 6272), (3027, 8383), (3334, 5904), (3418, 3967), (3468, 5785), (3479, 3206), (3564, 647), (3565, 5071), (3688, 335), (3766, 2041), (3838, 1484), (4424, 2390), (4574, 7849), (4692, 5875), (4697, 302), (4855, 6439), (5122, 3503), (5581, 4473), (5743, 2792), (6434, 3167), (6527, 1580), (6531, 7206), (6662, 5910), (6842, 6826), (7000, 853), (7022, 2339), (7284, 5684), (7753, 8666), (7815, 5313), (7839, 6885), (7851, 8732), (7923, 2399), (8194, 3747), (8449, 1266), (8471, 7181), (8741, 5589), (8845, 7899), (304, 4088), (589, 5805), (623, 7913), (882, 945), (1709, 5571), (1765, 5621), (1823, 5080), (2415, 3056), (2453, 7833), (2601, 516), (3067, 4117), (3120, 7595), (3587, 2056), (3636, 6986), (3858, 3146), (4061, 1044), (4243, 1762), (4431, 7196), (4979, 4239), (5248, 615), (5521, 1114), (5677, 4092), (5872, 7519), (6039, 1378), (6235, 6946), (6599, 2333), (6672, 5631), (6976, 6157), (6999, 5312), (7199, 6409), (7228, 4362), (7249, 5552), (7603, 261), (7617, 7529), (7934, 7983), (8031, 5091), (8087, 8344), (8484, 5815), (8498, 3229), (231, 4342), (333, 8067), (934, 710), (1032, 1749), (1588, 3115), (1814, 386), (1980, 8228), (1991, 4516), (2182, 4152), (2406, 6067), (2407, 3337), (2470, 4085), (2653, 2309), (3135, 4732), (3162, 2533), (3579, 2246), (3615, 4081), (3897, 4934), (5116, 711), (5170, 1426), (5201, 4844), (5280, 2458), (5642, 626), (6321, 5474), (6784, 8363), (7466, 6438), (7824, 942), (8355, 4915), (404, 4687), (921, 5647), (1538, 5748), (1652, 3852), (1886, 7288), (2099, 5967), (2575, 4374), (3110, 303), (3609, 7191), (3643, 6377), (3867, 8517), (4024, 1684), (4255, 8102), (4746, 2646), (4911, 5665), (5027, 8485), (5574, 2297), (5781, 2714), (6903, 2378), (7429, 4607), (7465, 7251), (7602, 6891), (7616, 4901), (8813, 580), (1047, 7014), (1253, 6937), (1532, 8259), (2198, 1236), (2363, 5760), (2579, 3787), (2869, 3419), (2932, 4147), (3513, 5142), (3939, 6410), (4051, 5060), (4213, 1427), (4377, 1605), (4888, 1929), (6920, 7530), (6958, 3622), (7006, 2242), (123, 175), (436, 5921), (1140, 369), (1568, 7494), (2025, 2658), (2604, 8815), (3987, 7755), (4176, 8799), (4301, 4354), (5561, 4234), (5915, 4671), (6509, 2191), (6607, 442), (8563, 8601), (79, 525), (1385, 5187), (3448, 652), (3614, 6053), (3958, 1612), (4049, 4615), (4632, 4341), (6370, 3145), (6993, 8860), (754, 8220), (875, 6789), (3472, 6786), (3509, 2028), (3568, 3050), (5115, 3013), (5350, 8353), (5732, 8776), (6367, 1656), (6481, 8536), (7136, 6956), (7451, 5465), (7546, 268), (282, 294), (443, 1433), (451, 8448), (1322, 7071), (2048, 6519), (3991, 2312), (4040, 1851), (4315, 5169), (4575, 8589), (5218, 5138), (6040, 6921), (6953, 1246), (8028, 448), (8775, 5118), (2230, 4010), (4483, 4111), (6172, 3965), (6990, 8570), (7506, 7908), (8649, 2464), (8746, 3888), (326, 5849), (1199, 7611), (1502, 402), (1934, 8577), (3820, 2353), (6375, 6218), (6882, 2114), (686, 866), (901, 5370), (1604, 3403), (4826, 3282), (5041, 5491), (1903, 2889), (2147, 1939), (2356, 4879), (2819, 3482), (3544, 2385), (4396, 4044), (3657, 8141), (3942, 4222), (8790, 3815), (2338, 223), (8021, 769), (2270, 4933), (2776, 7548), (4735, 8012), (5486, 8552), (5702, 6687), (6490, 4384), (7057, 5926), (8759, 2688), (2101, 394), (2377, 2978), (6955, 1602), (8838, 115), (729, 5557), (2590, 6204), (4470, 8584), (1812, 1863), (3595, 5432), (8181, 3563), (2105, 7586), (2558, 3826), (7998, 1257), (2046, 5823), (4598, 2318), (7384, 6192), (7667, 6813), (3773, 8431), (6497, 2388), (7433, 4586), (65, 7937), (2669, 1154), (3864, 1244), (7145, 1915), (7230, 8226), (1949, 3172), (5148, 606), (2904, 4541), (4865, 1974), (7376, 6603), (3179, 5094), (4494, 2469), (8159, 5002), (1474, 5977), (3517, 8669), (206, 6363), (6494, 8671), (0, 243), (1, 2006), (2, 2712), (3, 4084), (4, 4465), (5, 4616), (6, 7845)]\n",
      "[0.0, 0.0, 0.0, 0.0, 0.0, 0.0, 0.0, 0.0, 0.0, 0.0, 1e-10, 1e-10, 1e-10, 1e-10, 1e-10, 1e-10, 1e-10, 1e-10, 1e-10, 1e-10, 1e-10, 1e-10, 1e-10, 1e-10, 1e-10, 1e-10, 1e-10, 1e-10, 1e-10, 1e-10, 1e-10, 1e-10, 1e-10, 1e-10, 1e-10, 1e-10, 1e-10, 1e-10, 1e-10, 1e-10, 1e-10, 1e-10, 1e-10, 1e-10, 1e-10, 1e-10, 1e-10, 1e-10, 1e-10, 1e-10, 1e-10, 1e-10, 1e-10, 1e-10, 1e-10, 1e-10, 1e-10, 1e-10, 1e-10, 1e-10, 1e-10, 1e-10, 1e-10, 1e-10, 1e-10, 1e-10, 1e-10, 1e-10, 1e-10, 1e-10, 1e-10, 1e-10, 1e-10, 1e-10, 1e-10, 2e-10, 2e-10, 2e-10, 2e-10, 2e-10, 2e-10, 2e-10, 2e-10, 2e-10, 2e-10, 2e-10, 2e-10, 2e-10, 2e-10, 2e-10, 2e-10, 2e-10, 2e-10, 2e-10, 2e-10, 2e-10, 2e-10, 2e-10, 2e-10, 2e-10, 2e-10, 2e-10, 2e-10, 2e-10, 2e-10, 2e-10, 2e-10, 2e-10, 2e-10, 2e-10, 2e-10, 2e-10, 2e-10, 2e-10, 2e-10, 2e-10, 2e-10, 2e-10, 2e-10, 2e-10, 2e-10, 2e-10, 2e-10, 2e-10, 2e-10, 2e-10, 2e-10, 2e-10, 2e-10, 2e-10, 2e-10, 2e-10, 2e-10, 2e-10, 2e-10, 2e-10, 2e-10, 2e-10, 2e-10, 2e-10, 2e-10, 2e-10, 2e-10, 2e-10, 2e-10, 2e-10, 2e-10, 2e-10, 2e-10, 2e-10, 2e-10, 2e-10, 2e-10, 2e-10, 2e-10, 2e-10, 2e-10, 2e-10, 2e-10, 2e-10, 2e-10, 2e-10, 2e-10, 2e-10, 2e-10, 2e-10, 2e-10, 2e-10, 2e-10, 2e-10, 2e-10, 2e-10, 2e-10, 2e-10, 2e-10, 2e-10, 2e-10, 2e-10, 2e-10, 2e-10, 2e-10, 3e-10, 3e-10, 3e-10, 3e-10, 3e-10, 3e-10, 3e-10, 3e-10, 3e-10, 3e-10, 3e-10, 3e-10, 3e-10, 3e-10, 3e-10, 3e-10, 3e-10, 3e-10, 3e-10, 3e-10, 3e-10, 3e-10, 3e-10, 3e-10, 3e-10, 3e-10, 3e-10, 3e-10, 3e-10, 3e-10, 3e-10, 3e-10, 3e-10, 3e-10, 3e-10, 3e-10, 3e-10, 3e-10, 3e-10, 3e-10, 3e-10, 3e-10, 3e-10, 3e-10, 3e-10, 3e-10, 3e-10, 3e-10, 3e-10, 3e-10, 3e-10, 3e-10, 3e-10, 3e-10, 3e-10, 3e-10, 3e-10, 3e-10, 3e-10, 3e-10, 3e-10, 3e-10, 3e-10, 3e-10, 3e-10, 3e-10, 3e-10, 3e-10, 3e-10, 3e-10, 3e-10, 3e-10, 3e-10, 3e-10, 3e-10, 3e-10, 3e-10, 3e-10, 3e-10, 3e-10, 3e-10, 3e-10, 3e-10, 3e-10, 3e-10, 3e-10, 3e-10, 3e-10, 3e-10, 4e-10, 4e-10, 4e-10, 4e-10, 4e-10, 4e-10, 4e-10, 4e-10, 4e-10, 4e-10, 4e-10, 4e-10, 4e-10, 4e-10, 4e-10, 4e-10, 4e-10, 4e-10, 4e-10, 4e-10, 4e-10, 4e-10, 4e-10, 4e-10, 4e-10, 4e-10, 4e-10, 4e-10, 4e-10, 4e-10, 4e-10, 4e-10, 4e-10, 4e-10, 4e-10, 4e-10, 4e-10, 4e-10, 4e-10, 4e-10, 4e-10, 4e-10, 4e-10, 4e-10, 4e-10, 4e-10, 4e-10, 4e-10, 4e-10, 4e-10, 4e-10, 4e-10, 4e-10, 4e-10, 4e-10, 4e-10, 4e-10, 4e-10, 4e-10, 4e-10, 4e-10, 4e-10, 4e-10, 4e-10, 4e-10, 4e-10, 4e-10, 4e-10, 5e-10, 5e-10, 5e-10, 5e-10, 5e-10, 5e-10, 5e-10, 5e-10, 5e-10, 5e-10, 5e-10, 5e-10, 5e-10, 5e-10, 5e-10, 5e-10, 5e-10, 5e-10, 5e-10, 5e-10, 5e-10, 5e-10, 5e-10, 5e-10, 5e-10, 5e-10, 5e-10, 5e-10, 5e-10, 5e-10, 5e-10, 5e-10, 5e-10, 5e-10, 5e-10, 5e-10, 5e-10, 5e-10, 5e-10, 5e-10, 5e-10, 5e-10, 5e-10, 5e-10, 5e-10, 5e-10, 5e-10, 5e-10, 5e-10, 5e-10, 5e-10, 5e-10, 5e-10, 5e-10, 5e-10, 5e-10, 5e-10, 6e-10, 6e-10, 6e-10, 6e-10, 6e-10, 6e-10, 6e-10, 6e-10, 6e-10, 6e-10, 6e-10, 6e-10, 6e-10, 6e-10, 6e-10, 6e-10, 6e-10, 6e-10, 6e-10, 6e-10, 6e-10, 6e-10, 6e-10, 6e-10, 6e-10, 6e-10, 6e-10, 6e-10, 6e-10, 6e-10, 6e-10, 6e-10, 6e-10, 6e-10, 6e-10, 6e-10, 6e-10, 6e-10, 6e-10, 7.000000000000001e-10, 7.000000000000001e-10, 7.000000000000001e-10, 7.000000000000001e-10, 7.000000000000001e-10, 7.000000000000001e-10, 7.000000000000001e-10, 7.000000000000001e-10, 7.000000000000001e-10, 7.000000000000001e-10, 7.000000000000001e-10, 7.000000000000001e-10, 7.000000000000001e-10, 7.000000000000001e-10, 7.000000000000001e-10, 7.000000000000001e-10, 7.000000000000001e-10, 7.000000000000001e-10, 7.000000000000001e-10, 7.000000000000001e-10, 7.000000000000001e-10, 7.000000000000001e-10, 7.000000000000001e-10, 7.000000000000001e-10, 7.000000000000001e-10, 7.000000000000001e-10, 7.000000000000001e-10, 7.000000000000001e-10, 8e-10, 8e-10, 8e-10, 8e-10, 8e-10, 8e-10, 8e-10, 8e-10, 8e-10, 8e-10, 8e-10, 8e-10, 8e-10, 8e-10, 8e-10, 8e-10, 8e-10, 8e-10, 8e-10, 8e-10, 8e-10, 8e-10, 8e-10, 8e-10, 9e-10, 9e-10, 9e-10, 9e-10, 9e-10, 9e-10, 9e-10, 9e-10, 9e-10, 9e-10, 9e-10, 9e-10, 9e-10, 9e-10, 9e-10, 9e-10, 9e-10, 1e-09, 1e-09, 1e-09, 1e-09, 1e-09, 1e-09, 1e-09, 1e-09, 1e-09, 1e-09, 1e-09, 1e-09, 1e-09, 1e-09, 1.1000000000000001e-09, 1.1000000000000001e-09, 1.1000000000000001e-09, 1.1000000000000001e-09, 1.1000000000000001e-09, 1.1000000000000001e-09, 1.1000000000000001e-09, 1.1000000000000001e-09, 1.1000000000000001e-09, 1.2e-09, 1.2e-09, 1.2e-09, 1.2e-09, 1.2e-09, 1.2e-09, 1.2e-09, 1.2e-09, 1.2e-09, 1.2e-09, 1.2e-09, 1.2e-09, 1.2e-09, 1.3e-09, 1.3e-09, 1.3e-09, 1.3e-09, 1.3e-09, 1.3e-09, 1.3e-09, 1.3e-09, 1.3e-09, 1.3e-09, 1.3e-09, 1.3e-09, 1.3e-09, 1.3e-09, 1.4000000000000001e-09, 1.4000000000000001e-09, 1.4000000000000001e-09, 1.4000000000000001e-09, 1.4000000000000001e-09, 1.4000000000000001e-09, 1.4000000000000001e-09, 1.5e-09, 1.5e-09, 1.5e-09, 1.5e-09, 1.5e-09, 1.5e-09, 1.5e-09, 1.6e-09, 1.6e-09, 1.6e-09, 1.6e-09, 1.6e-09, 1.7000000000000001e-09, 1.7000000000000001e-09, 1.7000000000000001e-09, 1.7000000000000001e-09, 1.7000000000000001e-09, 1.7000000000000001e-09, 1.8e-09, 1.8e-09, 1.8e-09, 1.9e-09, 1.9e-09, 2e-09, 2e-09, 2e-09, 2e-09, 2e-09, 2e-09, 2e-09, 2e-09, 2.1e-09, 2.1e-09, 2.2000000000000003e-09, 2.2000000000000003e-09, 2.3e-09, 2.3e-09, 2.3e-09, 2.4e-09, 2.4e-09, 2.4e-09, 2.5e-09, 2.5e-09, 2.5e-09, 2.6e-09, 2.6e-09, 2.6e-09, 2.6e-09, 2.7e-09, 2.7e-09, 2.7e-09, 2.9e-09, 2.9e-09, 2.9e-09, 3e-09, 3e-09, 3.2e-09, 3.2e-09, 3.5000000000000003e-09, 3.6e-09, 3.6e-09, 3.7e-09, 3.7e-09, 3.9e-09, 4.1e-09, 4.3000000000000005e-09, 4.8e-09, 5.9e-09, 1.0, 1.0, 1.0, 1.0, 1.0, 1.0, 1.0]\n"
     ]
    },
    {
     "name": "stdout",
     "output_type": "stream",
     "text": [
      "sample 99001/100000              \n",
      "Weight iter 5/14\n",
      "row 8001/8234              \n",
      "[(14, 3366), (820, 3901), (1865, 3638), (3084, 4563), (7273, 1545), (7342, 8370), (7362, 3647), (7456, 5582), (8399, 7636), (8704, 7571), (29, 2788), (100, 7742), (179, 6879), (251, 8467), (252, 343), (488, 3487), (494, 3941), (504, 2185), (740, 5332), (806, 8033), (1132, 4345), (1139, 1115), (1206, 1883), (1323, 936), (1404, 7043), (1787, 787), (1836, 3654), (1924, 6658), (2146, 4914), (2322, 4474), (2349, 528), (2369, 295), (2731, 6350), (2770, 3396), (3011, 753), (3046, 8006), (3202, 7124), (3315, 4805), (3625, 8244), (3910, 520), (3927, 6346), (4030, 5919), (4053, 8157), (4460, 7492), (4526, 2068), (4561, 3176), (4650, 5550), (4802, 5245), (4842, 5213), (4972, 8771), (5134, 8255), (5269, 5931), (5490, 2895), (5723, 7471), (5811, 6296), (5900, 2584), (6086, 2160), (6276, 3855), (6628, 6327), (6653, 5839), (6808, 1387), (6825, 1450), (6918, 7537), (6919, 706), (6939, 5668), (7226, 7730), (7296, 2985), (7371, 4804), (7442, 5291), (7491, 3416), (8078, 5102), (8122, 287), (8407, 2141), (8475, 1869), (8503, 7315), (62, 1797), (180, 480), (216, 363), (339, 4335), (423, 6763), (461, 4450), (467, 8622), (568, 887), (574, 5058), (648, 2098), (655, 3534), (679, 3268), (717, 7409), (917, 8324), (954, 1945), (980, 7164), (1037, 1707), (1233, 1223), (1345, 2530), (1369, 6099), (1451, 6167), (1456, 1989), (1475, 6440), (1655, 6233), (1687, 8856), (1717, 2218), (2014, 1734), (2043, 6685), (2116, 2783), (2192, 1131), (2612, 3567), (2724, 4298), (3054, 6729), (3070, 8227), (3085, 5884), (3095, 7978), (3250, 6470), (3255, 1298), (3391, 2075), (3441, 5188), (3445, 6374), (3461, 8733), (3478, 5246), (3480, 2478), (3603, 2811), (3667, 6148), (3676, 3970), (3940, 4884), (4000, 8599), (4046, 958), (4149, 7074), (4172, 8216), (4293, 6405), (4319, 3723), (4340, 1388), (4562, 7054), (4647, 7002), (4717, 7628), (4747, 6312), (4755, 1536), (4759, 716), (5048, 5917), (5073, 1148), (5176, 2446), (5181, 8706), (5225, 2665), (5234, 3129), (5257, 3999), (5294, 5885), (5320, 5407), (5400, 1736), (5483, 7359), (5533, 4358), (5661, 6610), (5694, 768), (5701, 6088), (5876, 7847), (5986, 4387), (6021, 6007), (6160, 8275), (6229, 4987), (6257, 1158), (6331, 2973), (6437, 4260), (6584, 1472), (6594, 4224), (6597, 406), (6872, 2623), (6900, 426), (6945, 3912), (7204, 5720), (7244, 1241), (7257, 4960), (7272, 8277), (7684, 5010), (7780, 4825), (7820, 2928), (7822, 7870), (7914, 465), (7939, 960), (7988, 2515), (8200, 8468), (8276, 6869), (8281, 8743), (8455, 8454), (8801, 3429), (236, 1546), (527, 4797), (534, 4368), (537, 2030), (642, 6716), (662, 1619), (719, 5205), (784, 6103), (839, 279), (1109, 6865), (1116, 2847), (1153, 6750), (1160, 5130), (1240, 3023), (1338, 1093), (1364, 6062), (1445, 5287), (1478, 6083), (1609, 285), (1646, 3781), (1694, 3526), (1705, 8043), (1742, 2405), (1779, 2562), (1824, 5998), (2022, 2387), (2106, 7653), (2219, 3839), (2372, 5652), (2536, 7689), (2546, 6074), (2769, 6700), (2834, 2993), (2848, 8149), (2870, 6358), (2994, 851), (3029, 1558), (3111, 6962), (3119, 7533), (3280, 8513), (3501, 1633), (3550, 6141), (3575, 2154), (3811, 1567), (4009, 4646), (4071, 3024), (4203, 7475), (4675, 7298), (4715, 169), (4925, 1525), (4928, 831), (5000, 2694), (5047, 3432), (5054, 4504), (5085, 3846), (5088, 7856), (5157, 4919), (5185, 3884), (5351, 3949), (5403, 2423), (5718, 731), (5963, 3865), (6500, 7683), (6541, 4114), (6566, 3885), (6751, 2845), (6824, 4571), (6848, 273), (6874, 5196), (6875, 6159), (6987, 8133), (7029, 5981), (7100, 6011), (7250, 1890), (7302, 7253), (7550, 579), (7613, 3374), (7621, 1113), (7701, 5412), (7735, 5024), (7875, 4655), (7995, 487), (8005, 2010), (8008, 7185), (8030, 7781), (8338, 151), (8436, 8618), (8597, 1508), (8751, 747), (167, 5675), (214, 1238), (308, 5987), (411, 4183), (445, 7209), (547, 1260), (556, 3850), (641, 4941), (721, 3368), (781, 8354), (847, 2857), (955, 1630), (975, 6246), (991, 3887), (1171, 5381), (1225, 727), (1249, 3840), (1408, 8155), (1730, 5186), (2049, 1350), (2064, 4048), (2248, 4144), (2328, 6476), (2451, 5446), (2642, 7306), (2651, 5510), (2786, 8470), (2943, 8734), (3380, 1921), (3450, 7032), (3469, 8356), (3727, 7202), (4060, 696), (4156, 4146), (4230, 7197), (4284, 7005), (4538, 6270), (4654, 7904), (4701, 2953), (4713, 2477), (4795, 7858), (4848, 198), (4982, 987), (5068, 881), (5236, 5459), (5516, 963), (5666, 6222), (5674, 1104), (5728, 6451), (5767, 5704), (5922, 1752), (5962, 5800), (6087, 1908), (6113, 1263), (6209, 6991), (6468, 5394), (6922, 6043), (7125, 3525), (7297, 2362), (7421, 4390), (7470, 4765), (7547, 6300), (7897, 7532), (7933, 2607), (8392, 7926), (8543, 7854), (8673, 4153), (8731, 8480), (190, 1208), (332, 6230), (366, 1917), (417, 7361), (631, 1982), (886, 4017), (1066, 3572), (1096, 6908), (1368, 1130), (1493, 7464), (1512, 221), (1539, 8289), (1540, 2274), (1548, 3585), (1632, 897), (1725, 274), (2173, 8566), (2341, 7139), (2664, 783), (2758, 5856), (2871, 6272), (3027, 8383), (3334, 5904), (3418, 3967), (3468, 5785), (3479, 3206), (3564, 647), (3565, 5071), (3688, 335), (3766, 2041), (3838, 1484), (4424, 2390), (4574, 7849), (4692, 5875), (4697, 302), (4855, 6439), (5122, 3503), (5581, 4473), (5743, 2792), (6434, 3167), (6527, 1580), (6531, 7206), (6662, 5910), (6842, 6826), (7000, 853), (7022, 2339), (7284, 5684), (7753, 8666), (7815, 5313), (7839, 6885), (7851, 8732), (7923, 2399), (8194, 3747), (8449, 1266), (8471, 7181), (8741, 5589), (8845, 7899), (304, 4088), (589, 5805), (623, 7913), (882, 945), (1709, 5571), (1765, 5621), (1823, 5080), (2415, 3056), (2453, 7833), (2601, 516), (3067, 4117), (3120, 7595), (3587, 2056), (3636, 6986), (3858, 3146), (4061, 1044), (4243, 1762), (4431, 7196), (4979, 4239), (5248, 615), (5521, 1114), (5677, 4092), (5872, 7519), (6039, 1378), (6235, 6946), (6599, 2333), (6672, 5631), (6976, 6157), (6999, 5312), (7199, 6409), (7228, 4362), (7249, 5552), (7603, 261), (7617, 7529), (7934, 7983), (8031, 5091), (8087, 8344), (8484, 5815), (8498, 3229), (231, 4342), (333, 8067), (934, 710), (1032, 1749), (1588, 3115), (1814, 386), (1980, 8228), (1991, 4516), (2182, 4152), (2406, 6067), (2407, 3337), (2470, 4085), (2653, 2309), (3135, 4732), (3162, 2533), (3579, 2246), (3615, 4081), (3897, 4934), (5116, 711), (5170, 1426), (5201, 4844), (5280, 2458), (5642, 626), (6321, 5474), (6784, 8363), (7466, 6438), (7824, 942), (8355, 4915), (404, 4687), (921, 5647), (1538, 5748), (1652, 3852), (1886, 7288), (2099, 5967), (2575, 4374), (3110, 303), (3609, 7191), (3643, 6377), (3867, 8517), (4024, 1684), (4255, 8102), (4746, 2646), (4911, 5665), (5027, 8485), (5574, 2297), (5781, 2714), (6903, 2378), (7429, 4607), (7465, 7251), (7602, 6891), (7616, 4901), (8813, 580), (1047, 7014), (1253, 6937), (1532, 8259), (2198, 1236), (2363, 5760), (2579, 3787), (2869, 3419), (2932, 4147), (3513, 5142), (3939, 6410), (4051, 5060), (4213, 1427), (4377, 1605), (4888, 1929), (6920, 7530), (6958, 3622), (7006, 2242), (123, 175), (436, 5921), (1140, 369), (1568, 7494), (2025, 2658), (2604, 8815), (3987, 7755), (4176, 8799), (4301, 4354), (5561, 4234), (5915, 4671), (6509, 2191), (6607, 442), (8563, 8601), (79, 525), (1385, 5187), (3448, 652), (3614, 6053), (3958, 1612), (4049, 4615), (4632, 4341), (6370, 3145), (6993, 8860), (754, 8220), (875, 6789), (3472, 6786), (3509, 2028), (3568, 3050), (5115, 3013), (5350, 8353), (5732, 8776), (6367, 1656), (6481, 8536), (7136, 6956), (7451, 5465), (7546, 268), (282, 294), (443, 1433), (451, 8448), (1322, 7071), (2048, 6519), (3991, 2312), (4040, 1851), (4315, 5169), (4575, 8589), (5218, 5138), (6040, 6921), (6953, 1246), (8028, 448), (8775, 5118), (2230, 4010), (4483, 4111), (6172, 3965), (6990, 8570), (7506, 7908), (8649, 2464), (8746, 3888), (326, 5849), (1199, 7611), (1502, 402), (1934, 8577), (3820, 2353), (6375, 6218), (6882, 2114), (686, 866), (901, 5370), (1604, 3403), (4826, 3282), (5041, 5491), (1903, 2889), (2147, 1939), (2356, 4879), (2819, 3482), (3544, 2385), (4396, 4044), (3657, 8141), (3942, 4222), (8790, 3815), (2338, 223), (8021, 769), (2270, 4933), (2776, 7548), (4735, 8012), (5486, 8552), (5702, 6687), (6490, 4384), (7057, 5926), (8759, 2688), (2101, 394), (2377, 2978), (6955, 1602), (8838, 115), (729, 5557), (2590, 6204), (4470, 8584), (1812, 1863), (3595, 5432), (8181, 3563), (2105, 7586), (2558, 3826), (7998, 1257), (2046, 5823), (4598, 2318), (7384, 6192), (7667, 6813), (3773, 8431), (6497, 2388), (7433, 4586), (65, 7937), (2669, 1154), (3864, 1244), (7145, 1915), (7230, 8226), (1949, 3172), (5148, 606), (2904, 4541), (4865, 1974), (7376, 6603), (3179, 5094), (4494, 2469), (8159, 5002), (1474, 5977), (3517, 8669), (206, 6363), (6494, 8671), (0, 243), (1, 2006), (2, 2712), (3, 4084), (4, 4465), (5, 4616), (6, 7845)]\n",
      "[0.0, 0.0, 0.0, 0.0, 0.0, 0.0, 0.0, 0.0, 0.0, 0.0, 1e-09, 1e-09, 1e-09, 1e-09, 1e-09, 1e-09, 1e-09, 1e-09, 1e-09, 1e-09, 1e-09, 1e-09, 1e-09, 1e-09, 1e-09, 1e-09, 1e-09, 1e-09, 1e-09, 1e-09, 1e-09, 1e-09, 1e-09, 1e-09, 1e-09, 1e-09, 1e-09, 1e-09, 1e-09, 1e-09, 1e-09, 1e-09, 1e-09, 1e-09, 1e-09, 1e-09, 1e-09, 1e-09, 1e-09, 1e-09, 1e-09, 1e-09, 1e-09, 1e-09, 1e-09, 1e-09, 1e-09, 1e-09, 1e-09, 1e-09, 1e-09, 1e-09, 1e-09, 1e-09, 1e-09, 1e-09, 1e-09, 1e-09, 1e-09, 1e-09, 1e-09, 1e-09, 1e-09, 1e-09, 1e-09, 2e-09, 2e-09, 2e-09, 2e-09, 2e-09, 2e-09, 2e-09, 2e-09, 2e-09, 2e-09, 2e-09, 2e-09, 2e-09, 2e-09, 2e-09, 2e-09, 2e-09, 2e-09, 2e-09, 2e-09, 2e-09, 2e-09, 2e-09, 2e-09, 2e-09, 2e-09, 2e-09, 2e-09, 2e-09, 2e-09, 2e-09, 2e-09, 2e-09, 2e-09, 2e-09, 2e-09, 2e-09, 2e-09, 2e-09, 2e-09, 2e-09, 2e-09, 2e-09, 2e-09, 2e-09, 2e-09, 2e-09, 2e-09, 2e-09, 2e-09, 2e-09, 2e-09, 2e-09, 2e-09, 2e-09, 2e-09, 2e-09, 2e-09, 2e-09, 2e-09, 2e-09, 2e-09, 2e-09, 2e-09, 2e-09, 2e-09, 2e-09, 2e-09, 2e-09, 2e-09, 2e-09, 2e-09, 2e-09, 2e-09, 2e-09, 2e-09, 2e-09, 2e-09, 2e-09, 2e-09, 2e-09, 2e-09, 2e-09, 2e-09, 2e-09, 2e-09, 2e-09, 2e-09, 2e-09, 2e-09, 2e-09, 2e-09, 2e-09, 2e-09, 2e-09, 2e-09, 2e-09, 2e-09, 2e-09, 2e-09, 2e-09, 2e-09, 2e-09, 2e-09, 2e-09, 2e-09, 3.0000000000000004e-09, 3.0000000000000004e-09, 3.0000000000000004e-09, 3.0000000000000004e-09, 3.0000000000000004e-09, 3.0000000000000004e-09, 3.0000000000000004e-09, 3.0000000000000004e-09, 3.0000000000000004e-09, 3.0000000000000004e-09, 3.0000000000000004e-09, 3.0000000000000004e-09, 3.0000000000000004e-09, 3.0000000000000004e-09, 3.0000000000000004e-09, 3.0000000000000004e-09, 3.0000000000000004e-09, 3.0000000000000004e-09, 3.0000000000000004e-09, 3.0000000000000004e-09, 3.0000000000000004e-09, 3.0000000000000004e-09, 3.0000000000000004e-09, 3.0000000000000004e-09, 3.0000000000000004e-09, 3.0000000000000004e-09, 3.0000000000000004e-09, 3.0000000000000004e-09, 3.0000000000000004e-09, 3.0000000000000004e-09, 3.0000000000000004e-09, 3.0000000000000004e-09, 3.0000000000000004e-09, 3.0000000000000004e-09, 3.0000000000000004e-09, 3.0000000000000004e-09, 3.0000000000000004e-09, 3.0000000000000004e-09, 3.0000000000000004e-09, 3.0000000000000004e-09, 3.0000000000000004e-09, 3.0000000000000004e-09, 3.0000000000000004e-09, 3.0000000000000004e-09, 3.0000000000000004e-09, 3.0000000000000004e-09, 3.0000000000000004e-09, 3.0000000000000004e-09, 3.0000000000000004e-09, 3.0000000000000004e-09, 3.0000000000000004e-09, 3.0000000000000004e-09, 3.0000000000000004e-09, 3.0000000000000004e-09, 3.0000000000000004e-09, 3.0000000000000004e-09, 3.0000000000000004e-09, 3.0000000000000004e-09, 3.0000000000000004e-09, 3.0000000000000004e-09, 3.0000000000000004e-09, 3.0000000000000004e-09, 3.0000000000000004e-09, 3.0000000000000004e-09, 3.0000000000000004e-09, 3.0000000000000004e-09, 3.0000000000000004e-09, 3.0000000000000004e-09, 3.0000000000000004e-09, 3.0000000000000004e-09, 3.0000000000000004e-09, 3.0000000000000004e-09, 3.0000000000000004e-09, 3.0000000000000004e-09, 3.0000000000000004e-09, 3.0000000000000004e-09, 3.0000000000000004e-09, 3.0000000000000004e-09, 3.0000000000000004e-09, 3.0000000000000004e-09, 3.0000000000000004e-09, 3.0000000000000004e-09, 3.0000000000000004e-09, 3.0000000000000004e-09, 3.0000000000000004e-09, 3.0000000000000004e-09, 3.0000000000000004e-09, 3.0000000000000004e-09, 3.0000000000000004e-09, 4e-09, 4e-09, 4e-09, 4e-09, 4e-09, 4e-09, 4e-09, 4e-09, 4e-09, 4e-09, 4e-09, 4e-09, 4e-09, 4e-09, 4e-09, 4e-09, 4e-09, 4e-09, 4e-09, 4e-09, 4e-09, 4e-09, 4e-09, 4e-09, 4e-09, 4e-09, 4e-09, 4e-09, 4e-09, 4e-09, 4e-09, 4e-09, 4e-09, 4e-09, 4e-09, 4e-09, 4e-09, 4e-09, 4e-09, 4e-09, 4e-09, 4e-09, 4e-09, 4e-09, 4e-09, 4e-09, 4e-09, 4e-09, 4e-09, 4e-09, 4e-09, 4e-09, 4e-09, 4e-09, 4e-09, 4e-09, 4e-09, 4e-09, 4e-09, 4e-09, 4e-09, 4e-09, 4e-09, 4e-09, 4e-09, 4e-09, 4e-09, 4e-09, 5e-09, 5e-09, 5e-09, 5e-09, 5e-09, 5e-09, 5e-09, 5e-09, 5e-09, 5e-09, 5e-09, 5e-09, 5e-09, 5e-09, 5e-09, 5e-09, 5e-09, 5e-09, 5e-09, 5e-09, 5e-09, 5e-09, 5e-09, 5e-09, 5e-09, 5e-09, 5e-09, 5e-09, 5e-09, 5e-09, 5e-09, 5e-09, 5e-09, 5e-09, 5e-09, 5e-09, 5e-09, 5e-09, 5e-09, 5e-09, 5e-09, 5e-09, 5e-09, 5e-09, 5e-09, 5e-09, 5e-09, 5e-09, 5e-09, 5e-09, 5e-09, 5e-09, 5e-09, 5e-09, 5e-09, 5e-09, 5e-09, 6.000000000000001e-09, 6.000000000000001e-09, 6.000000000000001e-09, 6.000000000000001e-09, 6.000000000000001e-09, 6.000000000000001e-09, 6.000000000000001e-09, 6.000000000000001e-09, 6.000000000000001e-09, 6.000000000000001e-09, 6.000000000000001e-09, 6.000000000000001e-09, 6.000000000000001e-09, 6.000000000000001e-09, 6.000000000000001e-09, 6.000000000000001e-09, 6.000000000000001e-09, 6.000000000000001e-09, 6.000000000000001e-09, 6.000000000000001e-09, 6.000000000000001e-09, 6.000000000000001e-09, 6.000000000000001e-09, 6.000000000000001e-09, 6.000000000000001e-09, 6.000000000000001e-09, 6.000000000000001e-09, 6.000000000000001e-09, 6.000000000000001e-09, 6.000000000000001e-09, 6.000000000000001e-09, 6.000000000000001e-09, 6.000000000000001e-09, 6.000000000000001e-09, 6.000000000000001e-09, 6.000000000000001e-09, 6.000000000000001e-09, 6.000000000000001e-09, 6.000000000000001e-09, 7.000000000000001e-09, 7.000000000000001e-09, 7.000000000000001e-09, 7.000000000000001e-09, 7.000000000000001e-09, 7.000000000000001e-09, 7.000000000000001e-09, 7.000000000000001e-09, 7.000000000000001e-09, 7.000000000000001e-09, 7.000000000000001e-09, 7.000000000000001e-09, 7.000000000000001e-09, 7.000000000000001e-09, 7.000000000000001e-09, 7.000000000000001e-09, 7.000000000000001e-09, 7.000000000000001e-09, 7.000000000000001e-09, 7.000000000000001e-09, 7.000000000000001e-09, 7.000000000000001e-09, 7.000000000000001e-09, 7.000000000000001e-09, 7.000000000000001e-09, 7.000000000000001e-09, 7.000000000000001e-09, 7.000000000000001e-09, 8e-09, 8e-09, 8e-09, 8e-09, 8e-09, 8e-09, 8e-09, 8e-09, 8e-09, 8e-09, 8e-09, 8e-09, 8e-09, 8e-09, 8e-09, 8e-09, 8e-09, 8e-09, 8e-09, 8e-09, 8e-09, 8e-09, 8e-09, 8e-09, 9.000000000000001e-09, 9.000000000000001e-09, 9.000000000000001e-09, 9.000000000000001e-09, 9.000000000000001e-09, 9.000000000000001e-09, 9.000000000000001e-09, 9.000000000000001e-09, 9.000000000000001e-09, 9.000000000000001e-09, 9.000000000000001e-09, 9.000000000000001e-09, 9.000000000000001e-09, 9.000000000000001e-09, 9.000000000000001e-09, 9.000000000000001e-09, 9.000000000000001e-09, 1e-08, 1e-08, 1e-08, 1e-08, 1e-08, 1e-08, 1e-08, 1e-08, 1e-08, 1e-08, 1e-08, 1e-08, 1e-08, 1e-08, 1.1000000000000001e-08, 1.1000000000000001e-08, 1.1000000000000001e-08, 1.1000000000000001e-08, 1.1000000000000001e-08, 1.1000000000000001e-08, 1.1000000000000001e-08, 1.1000000000000001e-08, 1.1000000000000001e-08, 1.2000000000000002e-08, 1.2000000000000002e-08, 1.2000000000000002e-08, 1.2000000000000002e-08, 1.2000000000000002e-08, 1.2000000000000002e-08, 1.2000000000000002e-08, 1.2000000000000002e-08, 1.2000000000000002e-08, 1.2000000000000002e-08, 1.2000000000000002e-08, 1.2000000000000002e-08, 1.2000000000000002e-08, 1.3e-08, 1.3e-08, 1.3e-08, 1.3e-08, 1.3e-08, 1.3e-08, 1.3e-08, 1.3e-08, 1.3e-08, 1.3e-08, 1.3e-08, 1.3e-08, 1.3e-08, 1.3e-08, 1.4000000000000001e-08, 1.4000000000000001e-08, 1.4000000000000001e-08, 1.4000000000000001e-08, 1.4000000000000001e-08, 1.4000000000000001e-08, 1.4000000000000001e-08, 1.5000000000000002e-08, 1.5000000000000002e-08, 1.5000000000000002e-08, 1.5000000000000002e-08, 1.5000000000000002e-08, 1.5000000000000002e-08, 1.5000000000000002e-08, 1.6e-08, 1.6e-08, 1.6e-08, 1.6e-08, 1.6e-08, 1.7e-08, 1.7e-08, 1.7e-08, 1.7e-08, 1.7e-08, 1.7e-08, 1.8000000000000002e-08, 1.8000000000000002e-08, 1.8000000000000002e-08, 1.9e-08, 1.9e-08, 2e-08, 2e-08, 2e-08, 2e-08, 2e-08, 2e-08, 2e-08, 2e-08, 2.1000000000000003e-08, 2.1000000000000003e-08, 2.2000000000000002e-08, 2.2000000000000002e-08, 2.3e-08, 2.3e-08, 2.3e-08, 2.4000000000000003e-08, 2.4000000000000003e-08, 2.4000000000000003e-08, 2.5000000000000002e-08, 2.5000000000000002e-08, 2.5000000000000002e-08, 2.6e-08, 2.6e-08, 2.6e-08, 2.6e-08, 2.7e-08, 2.7e-08, 2.7e-08, 2.9e-08, 2.9e-08, 2.9e-08, 3.0000000000000004e-08, 3.0000000000000004e-08, 3.2e-08, 3.2e-08, 3.5e-08, 3.6000000000000005e-08, 3.6000000000000005e-08, 3.7e-08, 3.7e-08, 3.9000000000000005e-08, 4.1e-08, 4.3e-08, 4.8000000000000006e-08, 5.9000000000000006e-08, 1.0, 1.0, 1.0, 1.0, 1.0, 1.0, 1.0]\n"
     ]
    },
    {
     "name": "stdout",
     "output_type": "stream",
     "text": [
      "sample 99001/100000              \n",
      "Weight iter 6/14\n",
      "row 8001/8234              \n",
      "[(14, 3366), (820, 3901), (1865, 3638), (3084, 4563), (7273, 1545), (7342, 8370), (7362, 3647), (7456, 5582), (8399, 7636), (8704, 7571), (29, 2788), (100, 7742), (179, 6879), (251, 8467), (252, 343), (488, 3487), (494, 3941), (504, 2185), (740, 5332), (806, 8033), (1132, 4345), (1139, 1115), (1206, 1883), (1323, 936), (1404, 7043), (1787, 787), (1836, 3654), (1924, 6658), (2146, 4914), (2322, 4474), (2349, 528), (2369, 295), (2731, 6350), (2770, 3396), (3011, 753), (3046, 8006), (3202, 7124), (3315, 4805), (3625, 8244), (3910, 520), (3927, 6346), (4030, 5919), (4053, 8157), (4460, 7492), (4526, 2068), (4561, 3176), (4650, 5550), (4802, 5245), (4842, 5213), (4972, 8771), (5134, 8255), (5269, 5931), (5490, 2895), (5723, 7471), (5811, 6296), (5900, 2584), (6086, 2160), (6276, 3855), (6628, 6327), (6653, 5839), (6808, 1387), (6825, 1450), (6918, 7537), (6919, 706), (6939, 5668), (7226, 7730), (7296, 2985), (7371, 4804), (7442, 5291), (7491, 3416), (8078, 5102), (8122, 287), (8407, 2141), (8475, 1869), (8503, 7315), (62, 1797), (180, 480), (216, 363), (339, 4335), (423, 6763), (461, 4450), (467, 8622), (568, 887), (574, 5058), (648, 2098), (655, 3534), (679, 3268), (717, 7409), (917, 8324), (954, 1945), (980, 7164), (1037, 1707), (1233, 1223), (1345, 2530), (1369, 6099), (1451, 6167), (1456, 1989), (1475, 6440), (1655, 6233), (1687, 8856), (1717, 2218), (2014, 1734), (2043, 6685), (2116, 2783), (2192, 1131), (2612, 3567), (2724, 4298), (3054, 6729), (3070, 8227), (3085, 5884), (3095, 7978), (3250, 6470), (3255, 1298), (3391, 2075), (3441, 5188), (3445, 6374), (3461, 8733), (3478, 5246), (3480, 2478), (3603, 2811), (3667, 6148), (3676, 3970), (3940, 4884), (4000, 8599), (4046, 958), (4149, 7074), (4172, 8216), (4293, 6405), (4319, 3723), (4340, 1388), (4562, 7054), (4647, 7002), (4717, 7628), (4747, 6312), (4755, 1536), (4759, 716), (5048, 5917), (5073, 1148), (5176, 2446), (5181, 8706), (5225, 2665), (5234, 3129), (5257, 3999), (5294, 5885), (5320, 5407), (5400, 1736), (5483, 7359), (5533, 4358), (5661, 6610), (5694, 768), (5701, 6088), (5876, 7847), (5986, 4387), (6021, 6007), (6160, 8275), (6229, 4987), (6257, 1158), (6331, 2973), (6437, 4260), (6584, 1472), (6594, 4224), (6597, 406), (6872, 2623), (6900, 426), (6945, 3912), (7204, 5720), (7244, 1241), (7257, 4960), (7272, 8277), (7684, 5010), (7780, 4825), (7820, 2928), (7822, 7870), (7914, 465), (7939, 960), (7988, 2515), (8200, 8468), (8276, 6869), (8281, 8743), (8455, 8454), (8801, 3429), (236, 1546), (527, 4797), (534, 4368), (537, 2030), (642, 6716), (662, 1619), (719, 5205), (784, 6103), (839, 279), (1109, 6865), (1116, 2847), (1153, 6750), (1160, 5130), (1240, 3023), (1338, 1093), (1364, 6062), (1445, 5287), (1478, 6083), (1609, 285), (1646, 3781), (1694, 3526), (1705, 8043), (1742, 2405), (1779, 2562), (1824, 5998), (2022, 2387), (2106, 7653), (2219, 3839), (2372, 5652), (2536, 7689), (2546, 6074), (2769, 6700), (2834, 2993), (2848, 8149), (2870, 6358), (2994, 851), (3029, 1558), (3111, 6962), (3119, 7533), (3280, 8513), (3501, 1633), (3550, 6141), (3575, 2154), (3811, 1567), (4009, 4646), (4071, 3024), (4203, 7475), (4675, 7298), (4715, 169), (4925, 1525), (4928, 831), (5000, 2694), (5047, 3432), (5054, 4504), (5085, 3846), (5088, 7856), (5157, 4919), (5185, 3884), (5351, 3949), (5403, 2423), (5718, 731), (5963, 3865), (6500, 7683), (6541, 4114), (6566, 3885), (6751, 2845), (6824, 4571), (6848, 273), (6874, 5196), (6875, 6159), (6987, 8133), (7029, 5981), (7100, 6011), (7250, 1890), (7302, 7253), (7550, 579), (7613, 3374), (7621, 1113), (7701, 5412), (7735, 5024), (7875, 4655), (7995, 487), (8005, 2010), (8008, 7185), (8030, 7781), (8338, 151), (8436, 8618), (8597, 1508), (8751, 747), (167, 5675), (214, 1238), (308, 5987), (411, 4183), (445, 7209), (547, 1260), (556, 3850), (641, 4941), (721, 3368), (781, 8354), (847, 2857), (955, 1630), (975, 6246), (991, 3887), (1171, 5381), (1225, 727), (1249, 3840), (1408, 8155), (1730, 5186), (2049, 1350), (2064, 4048), (2248, 4144), (2328, 6476), (2451, 5446), (2642, 7306), (2651, 5510), (2786, 8470), (2943, 8734), (3380, 1921), (3450, 7032), (3469, 8356), (3727, 7202), (4060, 696), (4156, 4146), (4230, 7197), (4284, 7005), (4538, 6270), (4654, 7904), (4701, 2953), (4713, 2477), (4795, 7858), (4848, 198), (4982, 987), (5068, 881), (5236, 5459), (5516, 963), (5666, 6222), (5674, 1104), (5728, 6451), (5767, 5704), (5922, 1752), (5962, 5800), (6087, 1908), (6113, 1263), (6209, 6991), (6468, 5394), (6922, 6043), (7125, 3525), (7297, 2362), (7421, 4390), (7470, 4765), (7547, 6300), (7897, 7532), (7933, 2607), (8392, 7926), (8543, 7854), (8673, 4153), (8731, 8480), (190, 1208), (332, 6230), (366, 1917), (417, 7361), (631, 1982), (886, 4017), (1066, 3572), (1096, 6908), (1368, 1130), (1493, 7464), (1512, 221), (1539, 8289), (1540, 2274), (1548, 3585), (1632, 897), (1725, 274), (2173, 8566), (2341, 7139), (2664, 783), (2758, 5856), (2871, 6272), (3027, 8383), (3334, 5904), (3418, 3967), (3468, 5785), (3479, 3206), (3564, 647), (3565, 5071), (3688, 335), (3766, 2041), (3838, 1484), (4424, 2390), (4574, 7849), (4692, 5875), (4697, 302), (4855, 6439), (5122, 3503), (5581, 4473), (5743, 2792), (6434, 3167), (6527, 1580), (6531, 7206), (6662, 5910), (6842, 6826), (7000, 853), (7022, 2339), (7284, 5684), (7753, 8666), (7815, 5313), (7839, 6885), (7851, 8732), (7923, 2399), (8194, 3747), (8449, 1266), (8471, 7181), (8741, 5589), (8845, 7899), (304, 4088), (589, 5805), (623, 7913), (882, 945), (1709, 5571), (1765, 5621), (1823, 5080), (2415, 3056), (2453, 7833), (2601, 516), (3067, 4117), (3120, 7595), (3587, 2056), (3636, 6986), (3858, 3146), (4061, 1044), (4243, 1762), (4431, 7196), (4979, 4239), (5248, 615), (5521, 1114), (5677, 4092), (5872, 7519), (6039, 1378), (6235, 6946), (6599, 2333), (6672, 5631), (6976, 6157), (6999, 5312), (7199, 6409), (7228, 4362), (7249, 5552), (7603, 261), (7617, 7529), (7934, 7983), (8031, 5091), (8087, 8344), (8484, 5815), (8498, 3229), (231, 4342), (333, 8067), (934, 710), (1032, 1749), (1588, 3115), (1814, 386), (1980, 8228), (1991, 4516), (2182, 4152), (2406, 6067), (2407, 3337), (2470, 4085), (2653, 2309), (3135, 4732), (3162, 2533), (3579, 2246), (3615, 4081), (3897, 4934), (5116, 711), (5170, 1426), (5201, 4844), (5280, 2458), (5642, 626), (6321, 5474), (6784, 8363), (7466, 6438), (7824, 942), (8355, 4915), (404, 4687), (921, 5647), (1538, 5748), (1652, 3852), (1886, 7288), (2099, 5967), (2575, 4374), (3110, 303), (3609, 7191), (3643, 6377), (3867, 8517), (4024, 1684), (4255, 8102), (4746, 2646), (4911, 5665), (5027, 8485), (5574, 2297), (5781, 2714), (6903, 2378), (7429, 4607), (7465, 7251), (7602, 6891), (7616, 4901), (8813, 580), (1047, 7014), (1253, 6937), (1532, 8259), (2198, 1236), (2363, 5760), (2579, 3787), (2869, 3419), (2932, 4147), (3513, 5142), (3939, 6410), (4051, 5060), (4213, 1427), (4377, 1605), (4888, 1929), (6920, 7530), (6958, 3622), (7006, 2242), (123, 175), (436, 5921), (1140, 369), (1568, 7494), (2025, 2658), (2604, 8815), (3987, 7755), (4176, 8799), (4301, 4354), (5561, 4234), (5915, 4671), (6509, 2191), (6607, 442), (8563, 8601), (79, 525), (1385, 5187), (3448, 652), (3614, 6053), (3958, 1612), (4049, 4615), (4632, 4341), (6370, 3145), (6993, 8860), (754, 8220), (875, 6789), (3472, 6786), (3509, 2028), (3568, 3050), (5115, 3013), (5350, 8353), (5732, 8776), (6367, 1656), (6481, 8536), (7136, 6956), (7451, 5465), (7546, 268), (282, 294), (443, 1433), (451, 8448), (1322, 7071), (2048, 6519), (3991, 2312), (4040, 1851), (4315, 5169), (4575, 8589), (5218, 5138), (6040, 6921), (6953, 1246), (8028, 448), (8775, 5118), (2230, 4010), (4483, 4111), (6172, 3965), (6990, 8570), (7506, 7908), (8649, 2464), (8746, 3888), (326, 5849), (1199, 7611), (1502, 402), (1934, 8577), (3820, 2353), (6375, 6218), (6882, 2114), (686, 866), (901, 5370), (1604, 3403), (4826, 3282), (5041, 5491), (1903, 2889), (2147, 1939), (2356, 4879), (2819, 3482), (3544, 2385), (4396, 4044), (3657, 8141), (3942, 4222), (8790, 3815), (2338, 223), (8021, 769), (2270, 4933), (2776, 7548), (4735, 8012), (5486, 8552), (5702, 6687), (6490, 4384), (7057, 5926), (8759, 2688), (2101, 394), (2377, 2978), (6955, 1602), (8838, 115), (729, 5557), (2590, 6204), (4470, 8584), (1812, 1863), (3595, 5432), (8181, 3563), (2105, 7586), (2558, 3826), (7998, 1257), (2046, 5823), (4598, 2318), (7384, 6192), (7667, 6813), (3773, 8431), (6497, 2388), (7433, 4586), (65, 7937), (2669, 1154), (3864, 1244), (7145, 1915), (7230, 8226), (1949, 3172), (5148, 606), (2904, 4541), (4865, 1974), (7376, 6603), (3179, 5094), (4494, 2469), (8159, 5002), (1474, 5977), (3517, 8669), (206, 6363), (6494, 8671), (0, 243), (1, 2006), (2, 2712), (3, 4084), (4, 4465), (5, 4616), (6, 7845)]\n",
      "[0.0, 0.0, 0.0, 0.0, 0.0, 0.0, 0.0, 0.0, 0.0, 0.0, 1e-08, 1e-08, 1e-08, 1e-08, 1e-08, 1e-08, 1e-08, 1e-08, 1e-08, 1e-08, 1e-08, 1e-08, 1e-08, 1e-08, 1e-08, 1e-08, 1e-08, 1e-08, 1e-08, 1e-08, 1e-08, 1e-08, 1e-08, 1e-08, 1e-08, 1e-08, 1e-08, 1e-08, 1e-08, 1e-08, 1e-08, 1e-08, 1e-08, 1e-08, 1e-08, 1e-08, 1e-08, 1e-08, 1e-08, 1e-08, 1e-08, 1e-08, 1e-08, 1e-08, 1e-08, 1e-08, 1e-08, 1e-08, 1e-08, 1e-08, 1e-08, 1e-08, 1e-08, 1e-08, 1e-08, 1e-08, 1e-08, 1e-08, 1e-08, 1e-08, 1e-08, 1e-08, 1e-08, 1e-08, 1e-08, 2e-08, 2e-08, 2e-08, 2e-08, 2e-08, 2e-08, 2e-08, 2e-08, 2e-08, 2e-08, 2e-08, 2e-08, 2e-08, 2e-08, 2e-08, 2e-08, 2e-08, 2e-08, 2e-08, 2e-08, 2e-08, 2e-08, 2e-08, 2e-08, 2e-08, 2e-08, 2e-08, 2e-08, 2e-08, 2e-08, 2e-08, 2e-08, 2e-08, 2e-08, 2e-08, 2e-08, 2e-08, 2e-08, 2e-08, 2e-08, 2e-08, 2e-08, 2e-08, 2e-08, 2e-08, 2e-08, 2e-08, 2e-08, 2e-08, 2e-08, 2e-08, 2e-08, 2e-08, 2e-08, 2e-08, 2e-08, 2e-08, 2e-08, 2e-08, 2e-08, 2e-08, 2e-08, 2e-08, 2e-08, 2e-08, 2e-08, 2e-08, 2e-08, 2e-08, 2e-08, 2e-08, 2e-08, 2e-08, 2e-08, 2e-08, 2e-08, 2e-08, 2e-08, 2e-08, 2e-08, 2e-08, 2e-08, 2e-08, 2e-08, 2e-08, 2e-08, 2e-08, 2e-08, 2e-08, 2e-08, 2e-08, 2e-08, 2e-08, 2e-08, 2e-08, 2e-08, 2e-08, 2e-08, 2e-08, 2e-08, 2e-08, 2e-08, 2e-08, 2e-08, 2e-08, 2e-08, 3.0000000000000004e-08, 3.0000000000000004e-08, 3.0000000000000004e-08, 3.0000000000000004e-08, 3.0000000000000004e-08, 3.0000000000000004e-08, 3.0000000000000004e-08, 3.0000000000000004e-08, 3.0000000000000004e-08, 3.0000000000000004e-08, 3.0000000000000004e-08, 3.0000000000000004e-08, 3.0000000000000004e-08, 3.0000000000000004e-08, 3.0000000000000004e-08, 3.0000000000000004e-08, 3.0000000000000004e-08, 3.0000000000000004e-08, 3.0000000000000004e-08, 3.0000000000000004e-08, 3.0000000000000004e-08, 3.0000000000000004e-08, 3.0000000000000004e-08, 3.0000000000000004e-08, 3.0000000000000004e-08, 3.0000000000000004e-08, 3.0000000000000004e-08, 3.0000000000000004e-08, 3.0000000000000004e-08, 3.0000000000000004e-08, 3.0000000000000004e-08, 3.0000000000000004e-08, 3.0000000000000004e-08, 3.0000000000000004e-08, 3.0000000000000004e-08, 3.0000000000000004e-08, 3.0000000000000004e-08, 3.0000000000000004e-08, 3.0000000000000004e-08, 3.0000000000000004e-08, 3.0000000000000004e-08, 3.0000000000000004e-08, 3.0000000000000004e-08, 3.0000000000000004e-08, 3.0000000000000004e-08, 3.0000000000000004e-08, 3.0000000000000004e-08, 3.0000000000000004e-08, 3.0000000000000004e-08, 3.0000000000000004e-08, 3.0000000000000004e-08, 3.0000000000000004e-08, 3.0000000000000004e-08, 3.0000000000000004e-08, 3.0000000000000004e-08, 3.0000000000000004e-08, 3.0000000000000004e-08, 3.0000000000000004e-08, 3.0000000000000004e-08, 3.0000000000000004e-08, 3.0000000000000004e-08, 3.0000000000000004e-08, 3.0000000000000004e-08, 3.0000000000000004e-08, 3.0000000000000004e-08, 3.0000000000000004e-08, 3.0000000000000004e-08, 3.0000000000000004e-08, 3.0000000000000004e-08, 3.0000000000000004e-08, 3.0000000000000004e-08, 3.0000000000000004e-08, 3.0000000000000004e-08, 3.0000000000000004e-08, 3.0000000000000004e-08, 3.0000000000000004e-08, 3.0000000000000004e-08, 3.0000000000000004e-08, 3.0000000000000004e-08, 3.0000000000000004e-08, 3.0000000000000004e-08, 3.0000000000000004e-08, 3.0000000000000004e-08, 3.0000000000000004e-08, 3.0000000000000004e-08, 3.0000000000000004e-08, 3.0000000000000004e-08, 3.0000000000000004e-08, 3.0000000000000004e-08, 4e-08, 4e-08, 4e-08, 4e-08, 4e-08, 4e-08, 4e-08, 4e-08, 4e-08, 4e-08, 4e-08, 4e-08, 4e-08, 4e-08, 4e-08, 4e-08, 4e-08, 4e-08, 4e-08, 4e-08, 4e-08, 4e-08, 4e-08, 4e-08, 4e-08, 4e-08, 4e-08, 4e-08, 4e-08, 4e-08, 4e-08, 4e-08, 4e-08, 4e-08, 4e-08, 4e-08, 4e-08, 4e-08, 4e-08, 4e-08, 4e-08, 4e-08, 4e-08, 4e-08, 4e-08, 4e-08, 4e-08, 4e-08, 4e-08, 4e-08, 4e-08, 4e-08, 4e-08, 4e-08, 4e-08, 4e-08, 4e-08, 4e-08, 4e-08, 4e-08, 4e-08, 4e-08, 4e-08, 4e-08, 4e-08, 4e-08, 4e-08, 4e-08, 5e-08, 5e-08, 5e-08, 5e-08, 5e-08, 5e-08, 5e-08, 5e-08, 5e-08, 5e-08, 5e-08, 5e-08, 5e-08, 5e-08, 5e-08, 5e-08, 5e-08, 5e-08, 5e-08, 5e-08, 5e-08, 5e-08, 5e-08, 5e-08, 5e-08, 5e-08, 5e-08, 5e-08, 5e-08, 5e-08, 5e-08, 5e-08, 5e-08, 5e-08, 5e-08, 5e-08, 5e-08, 5e-08, 5e-08, 5e-08, 5e-08, 5e-08, 5e-08, 5e-08, 5e-08, 5e-08, 5e-08, 5e-08, 5e-08, 5e-08, 5e-08, 5e-08, 5e-08, 5e-08, 5e-08, 5e-08, 5e-08, 6.000000000000001e-08, 6.000000000000001e-08, 6.000000000000001e-08, 6.000000000000001e-08, 6.000000000000001e-08, 6.000000000000001e-08, 6.000000000000001e-08, 6.000000000000001e-08, 6.000000000000001e-08, 6.000000000000001e-08, 6.000000000000001e-08, 6.000000000000001e-08, 6.000000000000001e-08, 6.000000000000001e-08, 6.000000000000001e-08, 6.000000000000001e-08, 6.000000000000001e-08, 6.000000000000001e-08, 6.000000000000001e-08, 6.000000000000001e-08, 6.000000000000001e-08, 6.000000000000001e-08, 6.000000000000001e-08, 6.000000000000001e-08, 6.000000000000001e-08, 6.000000000000001e-08, 6.000000000000001e-08, 6.000000000000001e-08, 6.000000000000001e-08, 6.000000000000001e-08, 6.000000000000001e-08, 6.000000000000001e-08, 6.000000000000001e-08, 6.000000000000001e-08, 6.000000000000001e-08, 6.000000000000001e-08, 6.000000000000001e-08, 6.000000000000001e-08, 6.000000000000001e-08, 7e-08, 7e-08, 7e-08, 7e-08, 7e-08, 7e-08, 7e-08, 7e-08, 7e-08, 7e-08, 7e-08, 7e-08, 7e-08, 7e-08, 7e-08, 7e-08, 7e-08, 7e-08, 7e-08, 7e-08, 7e-08, 7e-08, 7e-08, 7e-08, 7e-08, 7e-08, 7e-08, 7e-08, 8e-08, 8e-08, 8e-08, 8e-08, 8e-08, 8e-08, 8e-08, 8e-08, 8e-08, 8e-08, 8e-08, 8e-08, 8e-08, 8e-08, 8e-08, 8e-08, 8e-08, 8e-08, 8e-08, 8e-08, 8e-08, 8e-08, 8e-08, 8e-08, 9e-08, 9e-08, 9e-08, 9e-08, 9e-08, 9e-08, 9e-08, 9e-08, 9e-08, 9e-08, 9e-08, 9e-08, 9e-08, 9e-08, 9e-08, 9e-08, 9e-08, 1e-07, 1e-07, 1e-07, 1e-07, 1e-07, 1e-07, 1e-07, 1e-07, 1e-07, 1e-07, 1e-07, 1e-07, 1e-07, 1e-07, 1.1e-07, 1.1e-07, 1.1e-07, 1.1e-07, 1.1e-07, 1.1e-07, 1.1e-07, 1.1e-07, 1.1e-07, 1.2000000000000002e-07, 1.2000000000000002e-07, 1.2000000000000002e-07, 1.2000000000000002e-07, 1.2000000000000002e-07, 1.2000000000000002e-07, 1.2000000000000002e-07, 1.2000000000000002e-07, 1.2000000000000002e-07, 1.2000000000000002e-07, 1.2000000000000002e-07, 1.2000000000000002e-07, 1.2000000000000002e-07, 1.3e-07, 1.3e-07, 1.3e-07, 1.3e-07, 1.3e-07, 1.3e-07, 1.3e-07, 1.3e-07, 1.3e-07, 1.3e-07, 1.3e-07, 1.3e-07, 1.3e-07, 1.3e-07, 1.4e-07, 1.4e-07, 1.4e-07, 1.4e-07, 1.4e-07, 1.4e-07, 1.4e-07, 1.5e-07, 1.5e-07, 1.5e-07, 1.5e-07, 1.5e-07, 1.5e-07, 1.5e-07, 1.6e-07, 1.6e-07, 1.6e-07, 1.6e-07, 1.6e-07, 1.7000000000000001e-07, 1.7000000000000001e-07, 1.7000000000000001e-07, 1.7000000000000001e-07, 1.7000000000000001e-07, 1.7000000000000001e-07, 1.8e-07, 1.8e-07, 1.8e-07, 1.9e-07, 1.9e-07, 2e-07, 2e-07, 2e-07, 2e-07, 2e-07, 2e-07, 2e-07, 2e-07, 2.1e-07, 2.1e-07, 2.2e-07, 2.2e-07, 2.3e-07, 2.3e-07, 2.3e-07, 2.4000000000000003e-07, 2.4000000000000003e-07, 2.4000000000000003e-07, 2.5e-07, 2.5e-07, 2.5e-07, 2.6e-07, 2.6e-07, 2.6e-07, 2.6e-07, 2.7e-07, 2.7e-07, 2.7e-07, 2.9000000000000003e-07, 2.9000000000000003e-07, 2.9000000000000003e-07, 3e-07, 3e-07, 3.2e-07, 3.2e-07, 3.5e-07, 3.6e-07, 3.6e-07, 3.7e-07, 3.7e-07, 3.9e-07, 4.1e-07, 4.3e-07, 4.800000000000001e-07, 5.9e-07, 1.0, 1.0, 1.0, 1.0, 1.0, 1.0, 1.0]\n"
     ]
    },
    {
     "name": "stdout",
     "output_type": "stream",
     "text": [
      "sample 8001/100000              \r"
     ]
    },
    {
     "ename": "KeyboardInterrupt",
     "evalue": "",
     "output_type": "error",
     "traceback": [
      "\u001b[0;31m---------------------------------------------------------------------------\u001b[0m",
      "\u001b[0;31mKeyboardInterrupt\u001b[0m                         Traceback (most recent call last)",
      "\u001b[0;32m<ipython-input-89-3856d2a30600>\u001b[0m in \u001b[0;36m<module>\u001b[0;34m\u001b[0m\n\u001b[1;32m     16\u001b[0m     \u001b[0mprint\u001b[0m\u001b[0;34m(\u001b[0m\u001b[0mpair_dists\u001b[0m\u001b[0;34m)\u001b[0m\u001b[0;34m\u001b[0m\u001b[0;34m\u001b[0m\u001b[0m\n\u001b[1;32m     17\u001b[0m     \u001b[0;31m#run the permutation test\u001b[0m\u001b[0;34m\u001b[0m\u001b[0;34m\u001b[0m\u001b[0;34m\u001b[0m\u001b[0m\n\u001b[0;32m---> 18\u001b[0;31m     \u001b[0mrejections\u001b[0m\u001b[0;34m[\u001b[0m\u001b[0mn\u001b[0m\u001b[0;34m]\u001b[0m\u001b[0;34m,\u001b[0m \u001b[0mn_pairs\u001b[0m\u001b[0;34m[\u001b[0m\u001b[0mn\u001b[0m\u001b[0;34m]\u001b[0m\u001b[0;34m,\u001b[0m \u001b[0mS\u001b[0m\u001b[0;34m,\u001b[0m \u001b[0mS_vals\u001b[0m\u001b[0;34m[\u001b[0m\u001b[0mn\u001b[0m\u001b[0;34m,\u001b[0m\u001b[0;34m:\u001b[0m\u001b[0;34m]\u001b[0m \u001b[0;34m=\u001b[0m \u001b[0mpair_test\u001b[0m\u001b[0;34m(\u001b[0m\u001b[0mX\u001b[0m\u001b[0;34m,\u001b[0m \u001b[0mY\u001b[0m\u001b[0;34m,\u001b[0m \u001b[0mtest_stat\u001b[0m\u001b[0;34m,\u001b[0m \u001b[0mpairs\u001b[0m\u001b[0;34m,\u001b[0m \u001b[0mpair_dists\u001b[0m\u001b[0;34m,\u001b[0m \u001b[0mN_samples\u001b[0m\u001b[0;34m,\u001b[0m \u001b[0malpha\u001b[0m\u001b[0;34m)\u001b[0m\u001b[0;34m\u001b[0m\u001b[0;34m\u001b[0m\u001b[0m\n\u001b[0m",
      "\u001b[0;32m<ipython-input-82-e5bbb8c1b82f>\u001b[0m in \u001b[0;36mpair_test\u001b[0;34m(X, Y, S, pairs, pair_dists, N_samples, alpha)\u001b[0m\n\u001b[1;32m     18\u001b[0m         \u001b[0mYc\u001b[0m \u001b[0;34m=\u001b[0m \u001b[0mY\u001b[0m\u001b[0;34m.\u001b[0m\u001b[0mcopy\u001b[0m\u001b[0;34m(\u001b[0m\u001b[0;34m)\u001b[0m\u001b[0;34m\u001b[0m\u001b[0;34m\u001b[0m\u001b[0m\n\u001b[1;32m     19\u001b[0m         \u001b[0;32mfor\u001b[0m \u001b[0mp\u001b[0m \u001b[0;32min\u001b[0m \u001b[0mrange\u001b[0m\u001b[0;34m(\u001b[0m\u001b[0mnum_pairs\u001b[0m\u001b[0;34m)\u001b[0m\u001b[0;34m:\u001b[0m\u001b[0;34m\u001b[0m\u001b[0;34m\u001b[0m\u001b[0m\n\u001b[0;32m---> 20\u001b[0;31m             \u001b[0;32mif\u001b[0m \u001b[0mnp\u001b[0m\u001b[0;34m.\u001b[0m\u001b[0mrandom\u001b[0m\u001b[0;34m.\u001b[0m\u001b[0mrand\u001b[0m\u001b[0;34m(\u001b[0m\u001b[0;34m)\u001b[0m \u001b[0;34m<=\u001b[0m \u001b[0;36m0.5\u001b[0m\u001b[0;34m:\u001b[0m\u001b[0;34m\u001b[0m\u001b[0;34m\u001b[0m\u001b[0m\n\u001b[0m\u001b[1;32m     21\u001b[0m                 \u001b[0mtmp\u001b[0m \u001b[0;34m=\u001b[0m \u001b[0mYc\u001b[0m\u001b[0;34m[\u001b[0m\u001b[0mpairs\u001b[0m\u001b[0;34m[\u001b[0m\u001b[0mp\u001b[0m\u001b[0;34m]\u001b[0m\u001b[0;34m[\u001b[0m\u001b[0;36m0\u001b[0m\u001b[0;34m]\u001b[0m\u001b[0;34m]\u001b[0m\u001b[0;34m\u001b[0m\u001b[0;34m\u001b[0m\u001b[0m\n\u001b[1;32m     22\u001b[0m                 \u001b[0mYc\u001b[0m\u001b[0;34m[\u001b[0m\u001b[0mpairs\u001b[0m\u001b[0;34m[\u001b[0m\u001b[0mp\u001b[0m\u001b[0;34m]\u001b[0m\u001b[0;34m[\u001b[0m\u001b[0;36m0\u001b[0m\u001b[0;34m]\u001b[0m\u001b[0;34m]\u001b[0m \u001b[0;34m=\u001b[0m \u001b[0mYc\u001b[0m\u001b[0;34m[\u001b[0m\u001b[0mpairs\u001b[0m\u001b[0;34m[\u001b[0m\u001b[0mp\u001b[0m\u001b[0;34m]\u001b[0m\u001b[0;34m[\u001b[0m\u001b[0;36m1\u001b[0m\u001b[0;34m]\u001b[0m\u001b[0;34m]\u001b[0m\u001b[0;34m\u001b[0m\u001b[0;34m\u001b[0m\u001b[0m\n",
      "\u001b[0;31mKeyboardInterrupt\u001b[0m: "
     ]
    }
   ],
   "source": [
    "weights = np.logspace(-7, 0, 8)\n",
    "match_col = 0\n",
    "alpha = 0.05\n",
    "N_samples = 100000\n",
    "\n",
    "S_vals = np.zeros((weights.shape[0], N_samples))\n",
    "S = 0\n",
    "n_pairs = np.zeros(weights.shape[0])\n",
    "rejections = np.zeros(weights.shape[0], dtype=np.bool)\n",
    "for n in range(weights.shape[0]):\n",
    "    print('Weight iter ' + str(n+1)+'/'+str(weights.shape[0]))\n",
    "    #construct the list of matched pairs\n",
    "    pairs, pair_dists = construct_pairs(X, lambda x1, x2 : premetric(x1, x2, weights[n]), match_col)\n",
    "    \n",
    "    print(pairs)\n",
    "    print(pair_dists)\n",
    "    #run the permutation test\n",
    "    rejections[n], n_pairs[n], S, S_vals[n,:] = pair_test(X, Y, test_stat, pairs, pair_dists, N_samples, alpha)   \n"
   ]
  },
  {
   "cell_type": "markdown",
   "metadata": {},
   "source": [
    "### Visualize the Result"
   ]
  },
  {
   "cell_type": "code",
   "execution_count": 88,
   "metadata": {},
   "outputs": [
    {
     "data": {
      "text/html": [
       "\n",
       "\n",
       "\n",
       "\n",
       "\n",
       "\n",
       "  <div class=\"bk-root\" id=\"ac8ebb44-48fa-4567-b444-aa8a21f90997\"></div>\n"
      ]
     },
     "metadata": {},
     "output_type": "display_data"
    },
    {
     "data": {
      "application/javascript": [
       "(function(root) {\n",
       "  function embed_document(root) {\n",
       "    \n",
       "  var docs_json = {\"75f11d94-973c-4bc5-b086-e04e83f3573f\":{\"roots\":{\"references\":[{\"attributes\":{\"below\":[{\"id\":\"17501\",\"type\":\"LinearAxis\"}],\"left\":[{\"id\":\"17506\",\"type\":\"LinearAxis\"}],\"renderers\":[{\"id\":\"17501\",\"type\":\"LinearAxis\"},{\"id\":\"17505\",\"type\":\"Grid\"},{\"id\":\"17506\",\"type\":\"LinearAxis\"},{\"id\":\"17510\",\"type\":\"Grid\"},{\"id\":\"17519\",\"type\":\"BoxAnnotation\"},{\"id\":\"17526\",\"type\":\"Span\"},{\"id\":\"17539\",\"type\":\"Legend\"},{\"id\":\"17530\",\"type\":\"GlyphRenderer\"},{\"id\":\"17544\",\"type\":\"GlyphRenderer\"},{\"id\":\"17559\",\"type\":\"GlyphRenderer\"},{\"id\":\"17576\",\"type\":\"GlyphRenderer\"},{\"id\":\"17595\",\"type\":\"GlyphRenderer\"},{\"id\":\"17616\",\"type\":\"GlyphRenderer\"},{\"id\":\"17639\",\"type\":\"GlyphRenderer\"},{\"id\":\"17664\",\"type\":\"GlyphRenderer\"},{\"id\":\"17691\",\"type\":\"GlyphRenderer\"},{\"id\":\"17720\",\"type\":\"GlyphRenderer\"},{\"id\":\"17751\",\"type\":\"GlyphRenderer\"},{\"id\":\"17784\",\"type\":\"GlyphRenderer\"},{\"id\":\"17819\",\"type\":\"GlyphRenderer\"},{\"id\":\"17856\",\"type\":\"GlyphRenderer\"}],\"title\":{\"id\":\"17533\",\"type\":\"Title\"},\"toolbar\":{\"id\":\"17517\",\"type\":\"Toolbar\"},\"x_range\":{\"id\":\"17493\",\"type\":\"Range1d\"},\"x_scale\":{\"id\":\"17497\",\"type\":\"LinearScale\"},\"y_range\":{\"id\":\"17495\",\"type\":\"DataRange1d\"},\"y_scale\":{\"id\":\"17499\",\"type\":\"LinearScale\"}},\"id\":\"17492\",\"subtype\":\"Figure\",\"type\":\"Plot\"},{\"attributes\":{\"data_source\":{\"id\":\"17592\",\"type\":\"ColumnDataSource\"},\"glyph\":{\"id\":\"17593\",\"type\":\"Quad\"},\"hover_glyph\":null,\"muted_glyph\":null,\"nonselection_glyph\":{\"id\":\"17594\",\"type\":\"Quad\"},\"selection_glyph\":null,\"view\":{\"id\":\"17596\",\"type\":\"CDSView\"}},\"id\":\"17595\",\"type\":\"GlyphRenderer\"},{\"attributes\":{\"source\":{\"id\":\"17592\",\"type\":\"ColumnDataSource\"}},\"id\":\"17596\",\"type\":\"CDSView\"},{\"attributes\":{},\"id\":\"17610\",\"type\":\"UnionRenderers\"},{\"attributes\":{},\"id\":\"17611\",\"type\":\"Selection\"},{\"attributes\":{\"label\":{\"value\":\"Weight = 1e-09\"},\"renderers\":[{\"id\":\"17595\",\"type\":\"GlyphRenderer\"}]},\"id\":\"17612\",\"type\":\"LegendItem\"},{\"attributes\":{\"callback\":null,\"data\":{\"left\":{\"__ndarray__\":\"AAAAAAAAAAC6AUE7DZ1bP7oBQTsNnWs/TMFw7Mm1dD+6AUE7DZ17PxShCEUoQoE/TMFw7Mm1hD+D4diTaymIP7oBQTsNnYs/8SGp4q4Qjz8UoQhFKEKRPzCxvBj5+5I/TMFw7Mm1lD9n0STAmm+WP4Ph2JNrKZg/nvGMZzzjmT+6AUE7DZ2bP9YR9Q7eVp0/8SGp4q4Qnz8GmS7bP2WgPxShCEUoQqE/IqnirhAfoj8wsbwY+fuiPz65loLh2KM/TMFw7Mm1pD9ZyUpWspKlP2fRJMCab6Y/ddn+KYNMpz+D4diTaymoP5Hpsv1TBqk/nvGMZzzjqT+s+WbRJMCqP7oBQTsNnas/yAkbpfV5rD/WEfUO3latP+MZz3jGM64/8SGp4q4Qrz//KYNMl+2vPwaZLts/ZbA/DZ0bELTTsD8UoQhFKEKxPxul9XmcsLE/IqnirhAfsj8prc/jhI2yPzCxvBj5+7I/N7WpTW1qsz8+uZaC4dizP0W9g7dVR7Q/TMFw7Mm1tD9SxV0hPiS1P1nJSlaykrU/YM03iyYBtj9n0STAmm+2P27VEfUO3rY/ddn+KYNMtz983ete97q3P4Ph2JNrKbg/iuXFyN+XuD+R6bL9Uwa5P5ftnzLIdLk/nvGMZzzjuT+l9XmcsFG6P6z5ZtEkwLo/s/1TBpkuuz+6AUE7DZ27P8EFLnCBC7w/yAkbpfV5vD/PDQjaaei8P9YR9Q7eVr0/3RXiQ1LFvT/jGc94xjO+P+odvK06or4/8SGp4q4Qvz/4JZYXI3+/P/8pg0yX7b8/Axe4wAUuwD8GmS7bP2XAPwobpfV5nMA/DZ0bELTTwD8RH5Iq7grBPxShCEUoQsE/GCN/X2J5wT8bpfV5nLDBPx8nbJTW58E/IqnirhAfwj8mK1nJSlbCPymtz+OEjcI/LC9G/r7Ewj8wsbwY+fvCPw==\",\"dtype\":\"float64\",\"shape\":[89]},\"right\":{\"__ndarray__\":\"ugFBOw2dWz+6AUE7DZ1rP0zBcOzJtXQ/ugFBOw2dez8UoQhFKEKBP0zBcOzJtYQ/g+HYk2spiD+6AUE7DZ2LP/EhqeKuEI8/FKEIRShCkT8wsbwY+fuSP0zBcOzJtZQ/Z9EkwJpvlj+D4diTaymYP57xjGc845k/ugFBOw2dmz/WEfUO3ladP/EhqeKuEJ8/Bpku2z9loD8UoQhFKEKhPyKp4q4QH6I/MLG8GPn7oj8+uZaC4dijP0zBcOzJtaQ/WclKVrKSpT9n0STAmm+mP3XZ/imDTKc/g+HYk2spqD+R6bL9UwapP57xjGc846k/rPlm0STAqj+6AUE7DZ2rP8gJG6X1eaw/1hH1Dt5WrT/jGc94xjOuP/EhqeKuEK8//ymDTJftrz8GmS7bP2WwPw2dGxC007A/FKEIRShCsT8bpfV5nLCxPyKp4q4QH7I/Ka3P44SNsj8wsbwY+fuyPze1qU1tarM/PrmWguHYsz9FvYO3VUe0P0zBcOzJtbQ/UsVdIT4ktT9ZyUpWspK1P2DNN4smAbY/Z9EkwJpvtj9u1RH1Dt62P3XZ/imDTLc/fN3rXve6tz+D4diTaym4P4rlxcjfl7g/kemy/VMGuT+X7Z8yyHS5P57xjGc847k/pfV5nLBRuj+s+WbRJMC6P7P9UwaZLrs/ugFBOw2duz/BBS5wgQu8P8gJG6X1ebw/zw0I2mnovD/WEfUO3la9P90V4kNSxb0/4xnPeMYzvj/qHbytOqK+P/EhqeKuEL8/+CWWFyN/vz//KYNMl+2/PwMXuMAFLsA/Bpku2z9lwD8KG6X1eZzAPw2dGxC008A/ER+SKu4KwT8UoQhFKELBPxgjf19iecE/G6X1eZywwT8fJ2yU1ufBPyKp4q4QH8I/JitZyUpWwj8prc/jhI3CPywvRv6+xMI/MLG8GPn7wj8zMzMzMzPDPw==\",\"dtype\":\"float64\",\"shape\":[89]},\"top\":{\"__ndarray__\":\"AAAAAAAAAAAAAAAAAAAAAAAAAAAAAAAAAAAAAAAAAAAAAAAAAAAAAAAAAAAAAAAAAAAAAAAAAAAAAAAAAAAAAAAAAAAAAAAAAAAAAAAAAAAAAAAAAAAAAAAAAAAAAAAAAAAAAAAAAAAAAAAAAAAAAAAAAAAAAAAAAAAAAAAAAAAAAAAAAAAAAAAAAAAAAAAAAAAAAAAAAAAAAAAAAAAAAPFo44i1+OQ+AAAAAAAAAAAAAAAAAAAAAGkdVU0Qdf8+aR1VTRB1/z7xaOOItfjkPvFo44i1+BQ/aR1VTRB1Dz9pHVVNEHUfP4vgfyvZsTE/S7A4nPnVPD8q499nXDhQP9eGinH+JlQ/KuPfZ1w4YD+37uapDrlpPwXAeAYN/XM/fVwbKsb5ez9AahMn9zuEP4VCBBxClYo/aVIKur2kkT9J9DKK5ZaWP6Pp7GRwlJw/pDZxcr9DoT/XL9gN2xalP+kOYmcKnac/MUJ4tHHEqj9CPujZrPqsPybkg57Nqq8/Y2LzcW2osD+NYrml1ZCwPzuqmiDqPrA//tR46SYxsD+bAwRz9PitPy0mNh/Xhqo/Tdaoh2h0pz+h20sao3WkP1A25QrvcqE/XCBB8WPMnT84EJIFTOCWP/CK4H8r2ZE/rwj+t5Idiz/CFyZTBaOCP8xdS8gHPXs/14aKcf4mdD9OC170FaRpP4vgfyvZsWE/OIQqNXugVT9W8UbmkT9IPy9uowG8BUI/x7q4jQbwNj+An3HhQEgmPw/W/znMlxc/8WjjiLX4BD8tQxzr4jYKPwAAAAAAAAAA8WjjiLX45D4AAAAAAAAAAAAAAAAAAAAAAAAAAAAAAAAAAAAAAAAAAAAAAAAAAAAAAAAAAAAAAAAAAAAAAAAAAAAAAAAAAAAAAAAAAAAAAAAAAAAAAAAAAAAAAAAAAAAAAAAAAAAAAAAAAAAAAAAAAA==\",\"dtype\":\"float64\",\"shape\":[89]}},\"selected\":{\"id\":\"17659\",\"type\":\"Selection\"},\"selection_policy\":{\"id\":\"17658\",\"type\":\"UnionRenderers\"}},\"id\":\"17613\",\"type\":\"ColumnDataSource\"},{\"attributes\":{\"bottom\":{\"value\":0},\"fill_alpha\":{\"value\":0.4},\"fill_color\":{\"value\":\"#98df8a\"},\"left\":{\"field\":\"left\"},\"line_alpha\":{\"value\":0.4},\"line_color\":{\"value\":\"white\"},\"right\":{\"field\":\"right\"},\"top\":{\"field\":\"top\"}},\"id\":\"17614\",\"type\":\"Quad\"},{\"attributes\":{\"bottom\":{\"value\":0},\"fill_alpha\":{\"value\":0.1},\"fill_color\":{\"value\":\"#1f77b4\"},\"left\":{\"field\":\"left\"},\"line_alpha\":{\"value\":0.1},\"line_color\":{\"value\":\"#1f77b4\"},\"right\":{\"field\":\"right\"},\"top\":{\"field\":\"top\"}},\"id\":\"17615\",\"type\":\"Quad\"},{\"attributes\":{\"data_source\":{\"id\":\"17613\",\"type\":\"ColumnDataSource\"},\"glyph\":{\"id\":\"17614\",\"type\":\"Quad\"},\"hover_glyph\":null,\"muted_glyph\":null,\"nonselection_glyph\":{\"id\":\"17615\",\"type\":\"Quad\"},\"selection_glyph\":null,\"view\":{\"id\":\"17617\",\"type\":\"CDSView\"}},\"id\":\"17616\",\"type\":\"GlyphRenderer\"},{\"attributes\":{\"source\":{\"id\":\"17613\",\"type\":\"ColumnDataSource\"}},\"id\":\"17617\",\"type\":\"CDSView\"},{\"attributes\":{},\"id\":\"17633\",\"type\":\"UnionRenderers\"},{\"attributes\":{},\"id\":\"17634\",\"type\":\"Selection\"},{\"attributes\":{\"label\":{\"value\":\"Weight = 1e-08\"},\"renderers\":[{\"id\":\"17616\",\"type\":\"GlyphRenderer\"}]},\"id\":\"17635\",\"type\":\"LegendItem\"},{\"attributes\":{\"callback\":null,\"data\":{\"left\":{\"__ndarray__\":\"AAAAAAAAAAC6AUE7DZ1bP7oBQTsNnWs/TMFw7Mm1dD+6AUE7DZ17PxShCEUoQoE/TMFw7Mm1hD+D4diTaymIP7oBQTsNnYs/8SGp4q4Qjz8UoQhFKEKRPzCxvBj5+5I/TMFw7Mm1lD9n0STAmm+WP4Ph2JNrKZg/nvGMZzzjmT+6AUE7DZ2bP9YR9Q7eVp0/8SGp4q4Qnz8GmS7bP2WgPxShCEUoQqE/IqnirhAfoj8wsbwY+fuiPz65loLh2KM/TMFw7Mm1pD9ZyUpWspKlP2fRJMCab6Y/ddn+KYNMpz+D4diTaymoP5Hpsv1TBqk/nvGMZzzjqT+s+WbRJMCqP7oBQTsNnas/yAkbpfV5rD/WEfUO3latP+MZz3jGM64/8SGp4q4Qrz//KYNMl+2vPwaZLts/ZbA/DZ0bELTTsD8UoQhFKEKxPxul9XmcsLE/IqnirhAfsj8prc/jhI2yPzCxvBj5+7I/N7WpTW1qsz8+uZaC4dizP0W9g7dVR7Q/TMFw7Mm1tD9SxV0hPiS1P1nJSlaykrU/YM03iyYBtj9n0STAmm+2P27VEfUO3rY/ddn+KYNMtz983ete97q3P4Ph2JNrKbg/iuXFyN+XuD+R6bL9Uwa5P5ftnzLIdLk/nvGMZzzjuT+l9XmcsFG6P6z5ZtEkwLo/s/1TBpkuuz+6AUE7DZ27P8EFLnCBC7w/yAkbpfV5vD/PDQjaaei8P9YR9Q7eVr0/3RXiQ1LFvT/jGc94xjO+P+odvK06or4/8SGp4q4Qvz/4JZYXI3+/P/8pg0yX7b8/Axe4wAUuwD8GmS7bP2XAPwobpfV5nMA/DZ0bELTTwD8RH5Iq7grBPxShCEUoQsE/GCN/X2J5wT8bpfV5nLDBPx8nbJTW58E/IqnirhAfwj8mK1nJSlbCPymtz+OEjcI/LC9G/r7Ewj8wsbwY+fvCPw==\",\"dtype\":\"float64\",\"shape\":[89]},\"right\":{\"__ndarray__\":\"ugFBOw2dWz+6AUE7DZ1rP0zBcOzJtXQ/ugFBOw2dez8UoQhFKEKBP0zBcOzJtYQ/g+HYk2spiD+6AUE7DZ2LP/EhqeKuEI8/FKEIRShCkT8wsbwY+fuSP0zBcOzJtZQ/Z9EkwJpvlj+D4diTaymYP57xjGc845k/ugFBOw2dmz/WEfUO3ladP/EhqeKuEJ8/Bpku2z9loD8UoQhFKEKhPyKp4q4QH6I/MLG8GPn7oj8+uZaC4dijP0zBcOzJtaQ/WclKVrKSpT9n0STAmm+mP3XZ/imDTKc/g+HYk2spqD+R6bL9UwapP57xjGc846k/rPlm0STAqj+6AUE7DZ2rP8gJG6X1eaw/1hH1Dt5WrT/jGc94xjOuP/EhqeKuEK8//ymDTJftrz8GmS7bP2WwPw2dGxC007A/FKEIRShCsT8bpfV5nLCxPyKp4q4QH7I/Ka3P44SNsj8wsbwY+fuyPze1qU1tarM/PrmWguHYsz9FvYO3VUe0P0zBcOzJtbQ/UsVdIT4ktT9ZyUpWspK1P2DNN4smAbY/Z9EkwJpvtj9u1RH1Dt62P3XZ/imDTLc/fN3rXve6tz+D4diTaym4P4rlxcjfl7g/kemy/VMGuT+X7Z8yyHS5P57xjGc847k/pfV5nLBRuj+s+WbRJMC6P7P9UwaZLrs/ugFBOw2duz/BBS5wgQu8P8gJG6X1ebw/zw0I2mnovD/WEfUO3la9P90V4kNSxb0/4xnPeMYzvj/qHbytOqK+P/EhqeKuEL8/+CWWFyN/vz//KYNMl+2/PwMXuMAFLsA/Bpku2z9lwD8KG6X1eZzAPw2dGxC008A/ER+SKu4KwT8UoQhFKELBPxgjf19iecE/G6X1eZywwT8fJ2yU1ufBPyKp4q4QH8I/JitZyUpWwj8prc/jhI3CPywvRv6+xMI/MLG8GPn7wj8zMzMzMzPDPw==\",\"dtype\":\"float64\",\"shape\":[89]},\"top\":{\"__ndarray__\":\"AAAAAAAAAAAAAAAAAAAAAAAAAAAAAAAAAAAAAAAAAAAAAAAAAAAAAAAAAAAAAAAAAAAAAAAAAAAAAAAAAAAAAAAAAAAAAAAAAAAAAAAAAAAAAAAAAAAAAAAAAAAAAAAAAAAAAAAAAAAAAAAAAAAAAAAAAAAAAAAAAAAAAAAAAAAAAAAAAAAAAAAAAAAAAAAAAAAAAAAAAAAAAAAAAAAAAAAAAAAAAAAAAAAAAAAAAAAAAAAAAAAAAPFo44i1+OQ+AAAAAAAAAAAtQxzr4jYKP2kdVU0QdQ8/8WjjiLX4JD8P1v85zJcnP+Un1T4djzk/GhcOhGQBQz/uPVxy3ClNP8e6uI0G8FY/O99PjZduYj9v05/9SBFpP9wRTgte9HU/6rKY2Hxcez9hMlUwKqmDP68I/reSHYs/P1JEhlW8kT9mSYCaWraWPx13Sgfr/5w/WMUbmUf+oD+6vaQxWkelPwZHyatzDKg/PtAKDFndqj/mriXkg56tP/zjvWplwq8/VtRgGoaPsD/Ut8zpspiwPw1xrIvbaLA/3sg88gcDrz86kst/SL+tP5ayDHGsi6s/mQ0yychZqD/KFd7lIr6jPzMbZJKRs6A/dOrKZ3kenD8Cnx9GCI+WPx7EzhQ6r5E/VwkWhzO/ij+1pnnHKTqCPzZZox6i0X0/UU60q5Dycz+il1Est7RqP9rhr8ka9WA/0vvG155ZUj+eDI6SV+dIP+Un1T4djzk/LUMc6+I2Oj9pHVVNEHUvP2EyVTAqqSM/aR1VTRB1Dz/xaOOItfjkPvFo44i1+PQ+AAAAAAAAAADxaOOItfjkPvFo44i1+OQ+AAAAAAAAAAAAAAAAAAAAAAAAAAAAAAAAAAAAAAAAAAAAAAAAAAAAAAAAAAAAAAAAAAAAAAAAAAAAAAAAAAAAAAAAAAAAAAAAAAAAAAAAAAAAAAAAAAAAAA==\",\"dtype\":\"float64\",\"shape\":[89]}},\"selected\":{\"id\":\"17686\",\"type\":\"Selection\"},\"selection_policy\":{\"id\":\"17685\",\"type\":\"UnionRenderers\"}},\"id\":\"17636\",\"type\":\"ColumnDataSource\"},{\"attributes\":{\"bottom\":{\"value\":0},\"fill_alpha\":{\"value\":0.4},\"fill_color\":{\"value\":\"#d62728\"},\"left\":{\"field\":\"left\"},\"line_alpha\":{\"value\":0.4},\"line_color\":{\"value\":\"white\"},\"right\":{\"field\":\"right\"},\"top\":{\"field\":\"top\"}},\"id\":\"17637\",\"type\":\"Quad\"},{\"attributes\":{\"dimension\":\"height\",\"line_width\":{\"value\":3},\"location\":0.12422871175594184,\"plot\":null},\"id\":\"17526\",\"type\":\"Span\"},{\"attributes\":{\"bottom\":{\"value\":0},\"fill_alpha\":{\"value\":0.1},\"fill_color\":{\"value\":\"#1f77b4\"},\"left\":{\"field\":\"left\"},\"line_alpha\":{\"value\":0.1},\"line_color\":{\"value\":\"#1f77b4\"},\"right\":{\"field\":\"right\"},\"top\":{\"field\":\"top\"}},\"id\":\"17638\",\"type\":\"Quad\"},{\"attributes\":{\"data_source\":{\"id\":\"17636\",\"type\":\"ColumnDataSource\"},\"glyph\":{\"id\":\"17637\",\"type\":\"Quad\"},\"hover_glyph\":null,\"muted_glyph\":null,\"nonselection_glyph\":{\"id\":\"17638\",\"type\":\"Quad\"},\"selection_glyph\":null,\"view\":{\"id\":\"17640\",\"type\":\"CDSView\"}},\"id\":\"17639\",\"type\":\"GlyphRenderer\"},{\"attributes\":{\"callback\":null,\"end\":0.15},\"id\":\"17493\",\"type\":\"Range1d\"},{\"attributes\":{\"source\":{\"id\":\"17636\",\"type\":\"ColumnDataSource\"}},\"id\":\"17640\",\"type\":\"CDSView\"},{\"attributes\":{\"callback\":null},\"id\":\"17495\",\"type\":\"DataRange1d\"},{\"attributes\":{},\"id\":\"17658\",\"type\":\"UnionRenderers\"},{\"attributes\":{},\"id\":\"17497\",\"type\":\"LinearScale\"},{\"attributes\":{},\"id\":\"17659\",\"type\":\"Selection\"},{\"attributes\":{},\"id\":\"17499\",\"type\":\"LinearScale\"},{\"attributes\":{\"label\":{\"value\":\"Weight = 1e-07\"},\"renderers\":[{\"id\":\"17639\",\"type\":\"GlyphRenderer\"}]},\"id\":\"17660\",\"type\":\"LegendItem\"},{\"attributes\":{\"axis_label\":\"Statistic Value\",\"axis_label_text_font_size\":{\"value\":\"16pt\"},\"formatter\":{\"id\":\"17535\",\"type\":\"BasicTickFormatter\"},\"major_label_text_font_size\":{\"value\":\"16pt\"},\"plot\":{\"id\":\"17492\",\"subtype\":\"Figure\",\"type\":\"Plot\"},\"ticker\":{\"id\":\"17502\",\"type\":\"BasicTicker\"}},\"id\":\"17501\",\"type\":\"LinearAxis\"},{\"attributes\":{\"callback\":null,\"data\":{\"left\":{\"__ndarray__\":\"AAAAAAAAAAC6AUE7DZ1bP7oBQTsNnWs/TMFw7Mm1dD+6AUE7DZ17PxShCEUoQoE/TMFw7Mm1hD+D4diTaymIP7oBQTsNnYs/8SGp4q4Qjz8UoQhFKEKRPzCxvBj5+5I/TMFw7Mm1lD9n0STAmm+WP4Ph2JNrKZg/nvGMZzzjmT+6AUE7DZ2bP9YR9Q7eVp0/8SGp4q4Qnz8GmS7bP2WgPxShCEUoQqE/IqnirhAfoj8wsbwY+fuiPz65loLh2KM/TMFw7Mm1pD9ZyUpWspKlP2fRJMCab6Y/ddn+KYNMpz+D4diTaymoP5Hpsv1TBqk/nvGMZzzjqT+s+WbRJMCqP7oBQTsNnas/yAkbpfV5rD/WEfUO3latP+MZz3jGM64/8SGp4q4Qrz//KYNMl+2vPwaZLts/ZbA/DZ0bELTTsD8UoQhFKEKxPxul9XmcsLE/IqnirhAfsj8prc/jhI2yPzCxvBj5+7I/N7WpTW1qsz8+uZaC4dizP0W9g7dVR7Q/TMFw7Mm1tD9SxV0hPiS1P1nJSlaykrU/YM03iyYBtj9n0STAmm+2P27VEfUO3rY/ddn+KYNMtz983ete97q3P4Ph2JNrKbg/iuXFyN+XuD+R6bL9Uwa5P5ftnzLIdLk/nvGMZzzjuT+l9XmcsFG6P6z5ZtEkwLo/s/1TBpkuuz+6AUE7DZ27P8EFLnCBC7w/yAkbpfV5vD/PDQjaaei8P9YR9Q7eVr0/3RXiQ1LFvT/jGc94xjO+P+odvK06or4/8SGp4q4Qvz/4JZYXI3+/P/8pg0yX7b8/Axe4wAUuwD8GmS7bP2XAPwobpfV5nMA/DZ0bELTTwD8RH5Iq7grBPxShCEUoQsE/GCN/X2J5wT8bpfV5nLDBPx8nbJTW58E/IqnirhAfwj8mK1nJSlbCPymtz+OEjcI/LC9G/r7Ewj8wsbwY+fvCPw==\",\"dtype\":\"float64\",\"shape\":[89]},\"right\":{\"__ndarray__\":\"ugFBOw2dWz+6AUE7DZ1rP0zBcOzJtXQ/ugFBOw2dez8UoQhFKEKBP0zBcOzJtYQ/g+HYk2spiD+6AUE7DZ2LP/EhqeKuEI8/FKEIRShCkT8wsbwY+fuSP0zBcOzJtZQ/Z9EkwJpvlj+D4diTaymYP57xjGc845k/ugFBOw2dmz/WEfUO3ladP/EhqeKuEJ8/Bpku2z9loD8UoQhFKEKhPyKp4q4QH6I/MLG8GPn7oj8+uZaC4dijP0zBcOzJtaQ/WclKVrKSpT9n0STAmm+mP3XZ/imDTKc/g+HYk2spqD+R6bL9UwapP57xjGc846k/rPlm0STAqj+6AUE7DZ2rP8gJG6X1eaw/1hH1Dt5WrT/jGc94xjOuP/EhqeKuEK8//ymDTJftrz8GmS7bP2WwPw2dGxC007A/FKEIRShCsT8bpfV5nLCxPyKp4q4QH7I/Ka3P44SNsj8wsbwY+fuyPze1qU1tarM/PrmWguHYsz9FvYO3VUe0P0zBcOzJtbQ/UsVdIT4ktT9ZyUpWspK1P2DNN4smAbY/Z9EkwJpvtj9u1RH1Dt62P3XZ/imDTLc/fN3rXve6tz+D4diTaym4P4rlxcjfl7g/kemy/VMGuT+X7Z8yyHS5P57xjGc847k/pfV5nLBRuj+s+WbRJMC6P7P9UwaZLrs/ugFBOw2duz/BBS5wgQu8P8gJG6X1ebw/zw0I2mnovD/WEfUO3la9P90V4kNSxb0/4xnPeMYzvj/qHbytOqK+P/EhqeKuEL8/+CWWFyN/vz//KYNMl+2/PwMXuMAFLsA/Bpku2z9lwD8KG6X1eZzAPw2dGxC008A/ER+SKu4KwT8UoQhFKELBPxgjf19iecE/G6X1eZywwT8fJ2yU1ufBPyKp4q4QH8I/JitZyUpWwj8prc/jhI3CPywvRv6+xMI/MLG8GPn7wj8zMzMzMzPDPw==\",\"dtype\":\"float64\",\"shape\":[89]},\"top\":{\"__ndarray__\":\"AAAAAAAAAAAAAAAAAAAAAAAAAAAAAAAAAAAAAAAAAAAAAAAAAAAAAAAAAAAAAAAAAAAAAAAAAAAAAAAAAAAAAAAAAAAAAAAAAAAAAAAAAAAAAAAAAAAAAAAAAAAAAAAAAAAAAAAAAAAAAAAAAAAAAAAAAAAAAAAAAAAAAAAAAAAAAAAAAAAAAAAAAAAAAAAAAAAAAAAAAAAAAAAAAAAAAAAAAAAAAAAAAAAAAAAAAAAAAAAAAAAAAAAAAAAAAAAAAAAAAAAAAADxaOOItfgEPy1DHOviNgo/LUMc6+I2Gj9hMlUwKqkjP4vgfyvZsTE/oDcVqTC2QD8P1v85zJdHP7JjIxCv61c/O99PjZduYj/VWwNbJVhsP2WlSSno9nI/OsyXF2AffT/129eBc0aEP68I/reSHYs/Goums5PBkT+Zu5aQD3qWP5qxaDo7GZw/sacd/pqsoT9zol2FlJ+kPyxIMxZNZ6c/4V0u4jsxqz8ArmTHRiCuP5usUQ/R6K4/8SkAxjNosD/p1JXP8jywP9TUsrW+SLA/pMfvbfqzrz9TrvAuF/GtP5HtfD81Xqo/4WJFDaZhqD+dhT3t8NekP2HgufdwyaE/XFoNiXssnT/DgZAsYAKXP4vgfyvZsZE/MUJ4tHHEij8iiV5GsdyCP0YldQKaCHs/6Gor9pfdcz+37uapDrlpP/TDCOHRxmE/BcB4Bg39Uz82WaMeotFNP/yp8dJNYkA/YTJVMCqpIz/xaOOItfgkPy1DHOviNho/aR1VTRB1Dz/xaOOItfj0PmkdVU0Qdf8+8WjjiLX45D4AAAAAAAAAAPFo44i1+OQ+AAAAAAAAAAAAAAAAAAAAAAAAAAAAAAAAAAAAAAAAAAAAAAAAAAAAAAAAAAAAAAAAAAAAAAAAAAAAAAAAAAAAAAAAAAAAAAAAAAAAAAAAAAAAAAAAAAAAAA==\",\"dtype\":\"float64\",\"shape\":[89]}},\"selected\":{\"id\":\"17715\",\"type\":\"Selection\"},\"selection_policy\":{\"id\":\"17714\",\"type\":\"UnionRenderers\"}},\"id\":\"17661\",\"type\":\"ColumnDataSource\"},{\"attributes\":{},\"id\":\"17502\",\"type\":\"BasicTicker\"},{\"attributes\":{\"bottom\":{\"value\":0},\"fill_alpha\":{\"value\":0.4},\"fill_color\":{\"value\":\"#ff9896\"},\"left\":{\"field\":\"left\"},\"line_alpha\":{\"value\":0.4},\"line_color\":{\"value\":\"white\"},\"right\":{\"field\":\"right\"},\"top\":{\"field\":\"top\"}},\"id\":\"17662\",\"type\":\"Quad\"},{\"attributes\":{\"plot\":{\"id\":\"17492\",\"subtype\":\"Figure\",\"type\":\"Plot\"},\"ticker\":{\"id\":\"17502\",\"type\":\"BasicTicker\"}},\"id\":\"17505\",\"type\":\"Grid\"},{\"attributes\":{\"bottom\":{\"value\":0},\"fill_alpha\":{\"value\":0.1},\"fill_color\":{\"value\":\"#1f77b4\"},\"left\":{\"field\":\"left\"},\"line_alpha\":{\"value\":0.1},\"line_color\":{\"value\":\"#1f77b4\"},\"right\":{\"field\":\"right\"},\"top\":{\"field\":\"top\"}},\"id\":\"17663\",\"type\":\"Quad\"},{\"attributes\":{\"axis_label\":\"Density\",\"axis_label_text_font_size\":{\"value\":\"16pt\"},\"formatter\":{\"id\":\"17537\",\"type\":\"BasicTickFormatter\"},\"major_label_text_font_size\":{\"value\":\"16pt\"},\"plot\":{\"id\":\"17492\",\"subtype\":\"Figure\",\"type\":\"Plot\"},\"ticker\":{\"id\":\"17507\",\"type\":\"BasicTicker\"}},\"id\":\"17506\",\"type\":\"LinearAxis\"},{\"attributes\":{\"data_source\":{\"id\":\"17661\",\"type\":\"ColumnDataSource\"},\"glyph\":{\"id\":\"17662\",\"type\":\"Quad\"},\"hover_glyph\":null,\"muted_glyph\":null,\"nonselection_glyph\":{\"id\":\"17663\",\"type\":\"Quad\"},\"selection_glyph\":null,\"view\":{\"id\":\"17665\",\"type\":\"CDSView\"}},\"id\":\"17664\",\"type\":\"GlyphRenderer\"},{\"attributes\":{\"callback\":null,\"data\":{\"left\":{\"__ndarray__\":\"AAAAAAAAAAC6AUE7DZ1bP7oBQTsNnWs/TMFw7Mm1dD+6AUE7DZ17PxShCEUoQoE/TMFw7Mm1hD+D4diTaymIP7oBQTsNnYs/8SGp4q4Qjz8UoQhFKEKRPzCxvBj5+5I/TMFw7Mm1lD9n0STAmm+WP4Ph2JNrKZg/nvGMZzzjmT+6AUE7DZ2bP9YR9Q7eVp0/8SGp4q4Qnz8GmS7bP2WgPxShCEUoQqE/IqnirhAfoj8wsbwY+fuiPz65loLh2KM/TMFw7Mm1pD9ZyUpWspKlP2fRJMCab6Y/ddn+KYNMpz+D4diTaymoP5Hpsv1TBqk/nvGMZzzjqT+s+WbRJMCqP7oBQTsNnas/yAkbpfV5rD/WEfUO3latP+MZz3jGM64/8SGp4q4Qrz//KYNMl+2vPwaZLts/ZbA/DZ0bELTTsD8UoQhFKEKxPxul9XmcsLE/IqnirhAfsj8prc/jhI2yPzCxvBj5+7I/N7WpTW1qsz8+uZaC4dizP0W9g7dVR7Q/TMFw7Mm1tD9SxV0hPiS1P1nJSlaykrU/YM03iyYBtj9n0STAmm+2P27VEfUO3rY/ddn+KYNMtz983ete97q3P4Ph2JNrKbg/iuXFyN+XuD+R6bL9Uwa5P5ftnzLIdLk/nvGMZzzjuT+l9XmcsFG6P6z5ZtEkwLo/s/1TBpkuuz+6AUE7DZ27P8EFLnCBC7w/yAkbpfV5vD/PDQjaaei8P9YR9Q7eVr0/3RXiQ1LFvT/jGc94xjO+P+odvK06or4/8SGp4q4Qvz/4JZYXI3+/P/8pg0yX7b8/Axe4wAUuwD8GmS7bP2XAPwobpfV5nMA/DZ0bELTTwD8RH5Iq7grBPxShCEUoQsE/GCN/X2J5wT8bpfV5nLDBPx8nbJTW58E/IqnirhAfwj8mK1nJSlbCPymtz+OEjcI/LC9G/r7Ewj8wsbwY+fvCPw==\",\"dtype\":\"float64\",\"shape\":[89]},\"right\":{\"__ndarray__\":\"ugFBOw2dWz+6AUE7DZ1rP0zBcOzJtXQ/ugFBOw2dez8UoQhFKEKBP0zBcOzJtYQ/g+HYk2spiD+6AUE7DZ2LP/EhqeKuEI8/FKEIRShCkT8wsbwY+fuSP0zBcOzJtZQ/Z9EkwJpvlj+D4diTaymYP57xjGc845k/ugFBOw2dmz/WEfUO3ladP/EhqeKuEJ8/Bpku2z9loD8UoQhFKEKhPyKp4q4QH6I/MLG8GPn7oj8+uZaC4dijP0zBcOzJtaQ/WclKVrKSpT9n0STAmm+mP3XZ/imDTKc/g+HYk2spqD+R6bL9UwapP57xjGc846k/rPlm0STAqj+6AUE7DZ2rP8gJG6X1eaw/1hH1Dt5WrT/jGc94xjOuP/EhqeKuEK8//ymDTJftrz8GmS7bP2WwPw2dGxC007A/FKEIRShCsT8bpfV5nLCxPyKp4q4QH7I/Ka3P44SNsj8wsbwY+fuyPze1qU1tarM/PrmWguHYsz9FvYO3VUe0P0zBcOzJtbQ/UsVdIT4ktT9ZyUpWspK1P2DNN4smAbY/Z9EkwJpvtj9u1RH1Dt62P3XZ/imDTLc/fN3rXve6tz+D4diTaym4P4rlxcjfl7g/kemy/VMGuT+X7Z8yyHS5P57xjGc847k/pfV5nLBRuj+s+WbRJMC6P7P9UwaZLrs/ugFBOw2duz/BBS5wgQu8P8gJG6X1ebw/zw0I2mnovD/WEfUO3la9P90V4kNSxb0/4xnPeMYzvj/qHbytOqK+P/EhqeKuEL8/+CWWFyN/vz//KYNMl+2/PwMXuMAFLsA/Bpku2z9lwD8KG6X1eZzAPw2dGxC008A/ER+SKu4KwT8UoQhFKELBPxgjf19iecE/G6X1eZywwT8fJ2yU1ufBPyKp4q4QH8I/JitZyUpWwj8prc/jhI3CPywvRv6+xMI/MLG8GPn7wj8zMzMzMzPDPw==\",\"dtype\":\"float64\",\"shape\":[89]},\"top\":{\"__ndarray__\":\"AAAAAAAAAAAAAAAAAAAAAAAAAAAAAAAAAAAAAAAAAAAAAAAAAAAAAAAAAAAAAAAAAAAAAAAAAAAAAAAAAAAAAAAAAAAAAAAAAAAAAAAAAAAAAAAAAAAAAAAAAAAAAAAAAAAAAAAAAAAAAAAAAAAAAPFo44i1+OQ+8WjjiLX45D4AAAAAAAAAAPFo44i1+PQ+8WjjiLX49D7S+8bXnlkSPy1DHOviNgo/8WjjiLX4FD9pHVVNEHUvP54MjpJX5zg/Tdu/stKkRD+Qa0PFOH9TP8xFfCdmvVg/F7zoK0gzZj+Sy39Iv31tP7JLVG8NbHU/wARu3c1TfT+QgxJm2v6FPyno9pLGaI0/vRjKiXYVkj/Q8jy4O2uXP/8h/fZ14Jw/sYo3Mo/8oT/CacGLvoKkP0FIFjCBW6c/krOwpx3+qj82sFWCxeGsP1hzgGCOHq8/SWO0jqomsD+T407pYP2vPyU7NgLxuq4/8x/Sb18Hrj9gsBu2LcqsP7yzdtuF5qo/rmTHRiBepz8OoUrNHmilP9/DJced0qE/U+i8xi5RnT/HuriNBvCWP6CJsOHplZI/GHjuPVxyjD+yS1RvDWyFP3WOAdnr3X8/Vdl3RfC/dT9crKjBNAxvPy9uowG8BWI/2ubG9IQlXj/xaOOItfhUPwXAeAYN/UM/2ubG9IQlPj+An3HhQEgmP2EyVTAqqSM/aR1VTRB1Dz8tQxzr4jYKP2kdVU0Qdf8+8WjjiLX45D4AAAAAAAAAAAAAAAAAAAAAAAAAAAAAAAAAAAAAAAAAAAAAAAAAAAAAAAAAAAAAAAAAAAAAAAAAAAAAAAAAAAAAAAAAAAAAAAAAAAAAAAAAAAAAAAAAAAAAAAAAAAAAAAAAAAAAAAAAAAAAAAAAAAAAAAAAAAAAAAAAAAAAAAAAAAAAAAAAAAAAAAAAAAAAAAAAAAAAAAAAAA==\",\"dtype\":\"float64\",\"shape\":[89]}},\"selected\":{\"id\":\"17554\",\"type\":\"Selection\"},\"selection_policy\":{\"id\":\"17553\",\"type\":\"UnionRenderers\"}},\"id\":\"17527\",\"type\":\"ColumnDataSource\"},{\"attributes\":{\"source\":{\"id\":\"17661\",\"type\":\"ColumnDataSource\"}},\"id\":\"17665\",\"type\":\"CDSView\"},{\"attributes\":{},\"id\":\"17507\",\"type\":\"BasicTicker\"},{\"attributes\":{},\"id\":\"17685\",\"type\":\"UnionRenderers\"},{\"attributes\":{\"dimension\":1,\"plot\":{\"id\":\"17492\",\"subtype\":\"Figure\",\"type\":\"Plot\"},\"ticker\":{\"id\":\"17507\",\"type\":\"BasicTicker\"}},\"id\":\"17510\",\"type\":\"Grid\"},{\"attributes\":{},\"id\":\"17686\",\"type\":\"Selection\"},{\"attributes\":{\"label\":{\"value\":\"Weight = 1e-06\"},\"renderers\":[{\"id\":\"17664\",\"type\":\"GlyphRenderer\"}]},\"id\":\"17687\",\"type\":\"LegendItem\"},{\"attributes\":{\"bottom\":{\"value\":0},\"fill_alpha\":{\"value\":0.1},\"fill_color\":{\"value\":\"#1f77b4\"},\"left\":{\"field\":\"left\"},\"line_alpha\":{\"value\":0.1},\"line_color\":{\"value\":\"#1f77b4\"},\"right\":{\"field\":\"right\"},\"top\":{\"field\":\"top\"}},\"id\":\"17529\",\"type\":\"Quad\"},{\"attributes\":{\"bottom\":{\"value\":0},\"fill_alpha\":{\"value\":0.4},\"fill_color\":{\"value\":\"#1f77b4\"},\"left\":{\"field\":\"left\"},\"line_alpha\":{\"value\":0.4},\"line_color\":{\"value\":\"white\"},\"right\":{\"field\":\"right\"},\"top\":{\"field\":\"top\"}},\"id\":\"17528\",\"type\":\"Quad\"},{\"attributes\":{\"callback\":null,\"data\":{\"left\":{\"__ndarray__\":\"AAAAAAAAAAC6AUE7DZ1bP7oBQTsNnWs/TMFw7Mm1dD+6AUE7DZ17PxShCEUoQoE/TMFw7Mm1hD+D4diTaymIP7oBQTsNnYs/8SGp4q4Qjz8UoQhFKEKRPzCxvBj5+5I/TMFw7Mm1lD9n0STAmm+WP4Ph2JNrKZg/nvGMZzzjmT+6AUE7DZ2bP9YR9Q7eVp0/8SGp4q4Qnz8GmS7bP2WgPxShCEUoQqE/IqnirhAfoj8wsbwY+fuiPz65loLh2KM/TMFw7Mm1pD9ZyUpWspKlP2fRJMCab6Y/ddn+KYNMpz+D4diTaymoP5Hpsv1TBqk/nvGMZzzjqT+s+WbRJMCqP7oBQTsNnas/yAkbpfV5rD/WEfUO3latP+MZz3jGM64/8SGp4q4Qrz//KYNMl+2vPwaZLts/ZbA/DZ0bELTTsD8UoQhFKEKxPxul9XmcsLE/IqnirhAfsj8prc/jhI2yPzCxvBj5+7I/N7WpTW1qsz8+uZaC4dizP0W9g7dVR7Q/TMFw7Mm1tD9SxV0hPiS1P1nJSlaykrU/YM03iyYBtj9n0STAmm+2P27VEfUO3rY/ddn+KYNMtz983ete97q3P4Ph2JNrKbg/iuXFyN+XuD+R6bL9Uwa5P5ftnzLIdLk/nvGMZzzjuT+l9XmcsFG6P6z5ZtEkwLo/s/1TBpkuuz+6AUE7DZ27P8EFLnCBC7w/yAkbpfV5vD/PDQjaaei8P9YR9Q7eVr0/3RXiQ1LFvT/jGc94xjO+P+odvK06or4/8SGp4q4Qvz/4JZYXI3+/P/8pg0yX7b8/Axe4wAUuwD8GmS7bP2XAPwobpfV5nMA/DZ0bELTTwD8RH5Iq7grBPxShCEUoQsE/GCN/X2J5wT8bpfV5nLDBPx8nbJTW58E/IqnirhAfwj8mK1nJSlbCPymtz+OEjcI/LC9G/r7Ewj8wsbwY+fvCPw==\",\"dtype\":\"float64\",\"shape\":[89]},\"right\":{\"__ndarray__\":\"ugFBOw2dWz+6AUE7DZ1rP0zBcOzJtXQ/ugFBOw2dez8UoQhFKEKBP0zBcOzJtYQ/g+HYk2spiD+6AUE7DZ2LP/EhqeKuEI8/FKEIRShCkT8wsbwY+fuSP0zBcOzJtZQ/Z9EkwJpvlj+D4diTaymYP57xjGc845k/ugFBOw2dmz/WEfUO3ladP/EhqeKuEJ8/Bpku2z9loD8UoQhFKEKhPyKp4q4QH6I/MLG8GPn7oj8+uZaC4dijP0zBcOzJtaQ/WclKVrKSpT9n0STAmm+mP3XZ/imDTKc/g+HYk2spqD+R6bL9UwapP57xjGc846k/rPlm0STAqj+6AUE7DZ2rP8gJG6X1eaw/1hH1Dt5WrT/jGc94xjOuP/EhqeKuEK8//ymDTJftrz8GmS7bP2WwPw2dGxC007A/FKEIRShCsT8bpfV5nLCxPyKp4q4QH7I/Ka3P44SNsj8wsbwY+fuyPze1qU1tarM/PrmWguHYsz9FvYO3VUe0P0zBcOzJtbQ/UsVdIT4ktT9ZyUpWspK1P2DNN4smAbY/Z9EkwJpvtj9u1RH1Dt62P3XZ/imDTLc/fN3rXve6tz+D4diTaym4P4rlxcjfl7g/kemy/VMGuT+X7Z8yyHS5P57xjGc847k/pfV5nLBRuj+s+WbRJMC6P7P9UwaZLrs/ugFBOw2duz/BBS5wgQu8P8gJG6X1ebw/zw0I2mnovD/WEfUO3la9P90V4kNSxb0/4xnPeMYzvj/qHbytOqK+P/EhqeKuEL8/+CWWFyN/vz//KYNMl+2/PwMXuMAFLsA/Bpku2z9lwD8KG6X1eZzAPw2dGxC008A/ER+SKu4KwT8UoQhFKELBPxgjf19iecE/G6X1eZywwT8fJ2yU1ufBPyKp4q4QH8I/JitZyUpWwj8prc/jhI3CPywvRv6+xMI/MLG8GPn7wj8zMzMzMzPDPw==\",\"dtype\":\"float64\",\"shape\":[89]},\"top\":{\"__ndarray__\":\"AAAAAAAAAAAAAAAAAAAAAAAAAAAAAAAAAAAAAAAAAAAAAAAAAAAAAAAAAAAAAAAAAAAAAAAAAAAAAAAAAAAAAAAAAAAAAAAAAAAAAAAAAAAAAAAAAAAAAAAAAAAAAAAAAAAAAAAAAAAAAAAAAAAAAAAAAAAAAAAAAAAAAAAAAAAAAAAAAAAAAAAAAAAAAAAAAAAAAAAAAAAAAAAAAAAAAAAAAAAAAAAAAAAAAAAAAAAAAAAAAAAAAAAAAAAAAAAAAAAAAAAAAAAAAAAAAAAAAAAAAAAAAAAA8WjjiLX49D7xaOOItfjkPmkdVU0Qdf8+0vvG155ZIj+L4H8r2bExP9rmxvSEJT4/VvFG5pE/SD84hCo1e6BVP2WNeohGd2A/4JwRpb3BZz8niLoPQGpzP5qxaDo7GXw/bqMBvAUShD8UBfpEniSNP9ttF5rrNJI/0H6kiAyrmD9xj6UPXVCfP/BQFOgTeaI/Vp+rrdhfpj+JmBJJ9DKqP9UhN8MN+Kw/rBxaZDvfrz98YTJVMCqxP9mZQuc1drE/9u6P96qVsT+/mgMEc/SwP+84RUdy+a8/p+hILv8hrT8tQxzr4jaqPw5nfjUHCKY/9GxWfa62oj/aci7FVWWfP6orn+V5cJc/esISDyibkj9j7lpCPuiJP/Xb14FzRoQ/2c73U+Olez9VwaikTkBzP6KXUSy3tGo/Iv32deCcYT8z+WabG9NTP7JjIxCv60c/kst/SL99PT+8eapDboYrPy1DHOviNho/LUMc6+I2Cj/xaOOItfj0PvFo44i1+PQ+8WjjiLX45D4AAAAAAAAAAAAAAAAAAAAAAAAAAAAAAAAAAAAAAAAAAAAAAAAAAAAAAAAAAAAAAAAAAAAAAAAAAAAAAAAAAAAAAAAAAAAAAAAAAAAAAAAAAAAAAAAAAAAAAAAAAAAAAAAAAAAAAAAAAA==\",\"dtype\":\"float64\",\"shape\":[89]}},\"selected\":{\"id\":\"17746\",\"type\":\"Selection\"},\"selection_policy\":{\"id\":\"17745\",\"type\":\"UnionRenderers\"}},\"id\":\"17688\",\"type\":\"ColumnDataSource\"},{\"attributes\":{\"data_source\":{\"id\":\"17527\",\"type\":\"ColumnDataSource\"},\"glyph\":{\"id\":\"17528\",\"type\":\"Quad\"},\"hover_glyph\":null,\"muted_glyph\":null,\"nonselection_glyph\":{\"id\":\"17529\",\"type\":\"Quad\"},\"selection_glyph\":null,\"view\":{\"id\":\"17531\",\"type\":\"CDSView\"}},\"id\":\"17530\",\"type\":\"GlyphRenderer\"},{\"attributes\":{\"bottom\":{\"value\":0},\"fill_alpha\":{\"value\":0.4},\"fill_color\":{\"value\":\"#9467bd\"},\"left\":{\"field\":\"left\"},\"line_alpha\":{\"value\":0.4},\"line_color\":{\"value\":\"white\"},\"right\":{\"field\":\"right\"},\"top\":{\"field\":\"top\"}},\"id\":\"17689\",\"type\":\"Quad\"},{\"attributes\":{},\"id\":\"17511\",\"type\":\"PanTool\"},{\"attributes\":{\"bottom\":{\"value\":0},\"fill_alpha\":{\"value\":0.1},\"fill_color\":{\"value\":\"#1f77b4\"},\"left\":{\"field\":\"left\"},\"line_alpha\":{\"value\":0.1},\"line_color\":{\"value\":\"#1f77b4\"},\"right\":{\"field\":\"right\"},\"top\":{\"field\":\"top\"}},\"id\":\"17690\",\"type\":\"Quad\"},{\"attributes\":{},\"id\":\"17512\",\"type\":\"WheelZoomTool\"},{\"attributes\":{\"data_source\":{\"id\":\"17688\",\"type\":\"ColumnDataSource\"},\"glyph\":{\"id\":\"17689\",\"type\":\"Quad\"},\"hover_glyph\":null,\"muted_glyph\":null,\"nonselection_glyph\":{\"id\":\"17690\",\"type\":\"Quad\"},\"selection_glyph\":null,\"view\":{\"id\":\"17692\",\"type\":\"CDSView\"}},\"id\":\"17691\",\"type\":\"GlyphRenderer\"},{\"attributes\":{\"overlay\":{\"id\":\"17519\",\"type\":\"BoxAnnotation\"}},\"id\":\"17513\",\"type\":\"BoxZoomTool\"},{\"attributes\":{\"source\":{\"id\":\"17688\",\"type\":\"ColumnDataSource\"}},\"id\":\"17692\",\"type\":\"CDSView\"},{\"attributes\":{},\"id\":\"17514\",\"type\":\"SaveTool\"},{\"attributes\":{},\"id\":\"17714\",\"type\":\"UnionRenderers\"},{\"attributes\":{},\"id\":\"17515\",\"type\":\"ResetTool\"},{\"attributes\":{},\"id\":\"17715\",\"type\":\"Selection\"},{\"attributes\":{},\"id\":\"17516\",\"type\":\"HelpTool\"},{\"attributes\":{\"data_source\":{\"id\":\"17853\",\"type\":\"ColumnDataSource\"},\"glyph\":{\"id\":\"17854\",\"type\":\"Quad\"},\"hover_glyph\":null,\"muted_glyph\":null,\"nonselection_glyph\":{\"id\":\"17855\",\"type\":\"Quad\"},\"selection_glyph\":null,\"view\":{\"id\":\"17857\",\"type\":\"CDSView\"}},\"id\":\"17856\",\"type\":\"GlyphRenderer\"},{\"attributes\":{\"label\":{\"value\":\"Weight = 1e-05\"},\"renderers\":[{\"id\":\"17691\",\"type\":\"GlyphRenderer\"}]},\"id\":\"17716\",\"type\":\"LegendItem\"},{\"attributes\":{\"active_drag\":\"auto\",\"active_inspect\":\"auto\",\"active_multi\":null,\"active_scroll\":\"auto\",\"active_tap\":\"auto\",\"tools\":[{\"id\":\"17511\",\"type\":\"PanTool\"},{\"id\":\"17512\",\"type\":\"WheelZoomTool\"},{\"id\":\"17513\",\"type\":\"BoxZoomTool\"},{\"id\":\"17514\",\"type\":\"SaveTool\"},{\"id\":\"17515\",\"type\":\"ResetTool\"},{\"id\":\"17516\",\"type\":\"HelpTool\"}]},\"id\":\"17517\",\"type\":\"Toolbar\"},{\"attributes\":{\"callback\":null,\"data\":{\"left\":{\"__ndarray__\":\"AAAAAAAAAAC6AUE7DZ1bP7oBQTsNnWs/TMFw7Mm1dD+6AUE7DZ17PxShCEUoQoE/TMFw7Mm1hD+D4diTaymIP7oBQTsNnYs/8SGp4q4Qjz8UoQhFKEKRPzCxvBj5+5I/TMFw7Mm1lD9n0STAmm+WP4Ph2JNrKZg/nvGMZzzjmT+6AUE7DZ2bP9YR9Q7eVp0/8SGp4q4Qnz8GmS7bP2WgPxShCEUoQqE/IqnirhAfoj8wsbwY+fuiPz65loLh2KM/TMFw7Mm1pD9ZyUpWspKlP2fRJMCab6Y/ddn+KYNMpz+D4diTaymoP5Hpsv1TBqk/nvGMZzzjqT+s+WbRJMCqP7oBQTsNnas/yAkbpfV5rD/WEfUO3latP+MZz3jGM64/8SGp4q4Qrz//KYNMl+2vPwaZLts/ZbA/DZ0bELTTsD8UoQhFKEKxPxul9XmcsLE/IqnirhAfsj8prc/jhI2yPzCxvBj5+7I/N7WpTW1qsz8+uZaC4dizP0W9g7dVR7Q/TMFw7Mm1tD9SxV0hPiS1P1nJSlaykrU/YM03iyYBtj9n0STAmm+2P27VEfUO3rY/ddn+KYNMtz983ete97q3P4Ph2JNrKbg/iuXFyN+XuD+R6bL9Uwa5P5ftnzLIdLk/nvGMZzzjuT+l9XmcsFG6P6z5ZtEkwLo/s/1TBpkuuz+6AUE7DZ27P8EFLnCBC7w/yAkbpfV5vD/PDQjaaei8P9YR9Q7eVr0/3RXiQ1LFvT/jGc94xjO+P+odvK06or4/8SGp4q4Qvz/4JZYXI3+/P/8pg0yX7b8/Axe4wAUuwD8GmS7bP2XAPwobpfV5nMA/DZ0bELTTwD8RH5Iq7grBPxShCEUoQsE/GCN/X2J5wT8bpfV5nLDBPx8nbJTW58E/IqnirhAfwj8mK1nJSlbCPymtz+OEjcI/LC9G/r7Ewj8wsbwY+fvCPw==\",\"dtype\":\"float64\",\"shape\":[89]},\"right\":{\"__ndarray__\":\"ugFBOw2dWz+6AUE7DZ1rP0zBcOzJtXQ/ugFBOw2dez8UoQhFKEKBP0zBcOzJtYQ/g+HYk2spiD+6AUE7DZ2LP/EhqeKuEI8/FKEIRShCkT8wsbwY+fuSP0zBcOzJtZQ/Z9EkwJpvlj+D4diTaymYP57xjGc845k/ugFBOw2dmz/WEfUO3ladP/EhqeKuEJ8/Bpku2z9loD8UoQhFKEKhPyKp4q4QH6I/MLG8GPn7oj8+uZaC4dijP0zBcOzJtaQ/WclKVrKSpT9n0STAmm+mP3XZ/imDTKc/g+HYk2spqD+R6bL9UwapP57xjGc846k/rPlm0STAqj+6AUE7DZ2rP8gJG6X1eaw/1hH1Dt5WrT/jGc94xjOuP/EhqeKuEK8//ymDTJftrz8GmS7bP2WwPw2dGxC007A/FKEIRShCsT8bpfV5nLCxPyKp4q4QH7I/Ka3P44SNsj8wsbwY+fuyPze1qU1tarM/PrmWguHYsz9FvYO3VUe0P0zBcOzJtbQ/UsVdIT4ktT9ZyUpWspK1P2DNN4smAbY/Z9EkwJpvtj9u1RH1Dt62P3XZ/imDTLc/fN3rXve6tz+D4diTaym4P4rlxcjfl7g/kemy/VMGuT+X7Z8yyHS5P57xjGc847k/pfV5nLBRuj+s+WbRJMC6P7P9UwaZLrs/ugFBOw2duz/BBS5wgQu8P8gJG6X1ebw/zw0I2mnovD/WEfUO3la9P90V4kNSxb0/4xnPeMYzvj/qHbytOqK+P/EhqeKuEL8/+CWWFyN/vz//KYNMl+2/PwMXuMAFLsA/Bpku2z9lwD8KG6X1eZzAPw2dGxC008A/ER+SKu4KwT8UoQhFKELBPxgjf19iecE/G6X1eZywwT8fJ2yU1ufBPyKp4q4QH8I/JitZyUpWwj8prc/jhI3CPywvRv6+xMI/MLG8GPn7wj8zMzMzMzPDPw==\",\"dtype\":\"float64\",\"shape\":[89]},\"top\":{\"__ndarray__\":\"AAAAAAAAAAAAAAAAAAAAAAAAAAAAAAAAAAAAAAAAAAAAAAAAAAAAAAAAAAAAAAAAAAAAAAAAAAAAAAAAAAAAAAAAAAAAAAAAAAAAAAAAAAAAAAAAAAAAAAAAAAAAAAAAAAAAAAAAAAAAAAAAAAAAAAAAAAAAAAAAAAAAAAAAAAAAAAAAAAAAAAAAAAAAAAAAAAAAAAAAAAAAAAAAAAAAAAAAAAAAAAAAAAAAAAAAAAAAAAAAAAAAAAAAAAAAAAAAAAAAAAAAAAAAAAAAAAAAAAAAAAAAAAAAAAAAAAAAAAAAAAAAAAAAAAAAAAAAAAAAAAAAAAAAAAAAAAAAAAAAAAAAAAAAAAAAAAAAAAAAAAAAAAAAAAAAAAAAAAAAAAAAAAAAAAAAAAAAAAAAAAAAAAAAAAAAAAAAAAAAAAAAAAAAAAAAAAAAAAAAAAAAAAAAAAAAAAAAAAAAAAAAAAAAAAAAAAAAAAAAAAAAAAAAAAAAAAAAAAAAAAAAAAAAAAAAAAAAAAAAAAAAAAAAAAAAAAAAAAAAAAAAAAAAAAAAAAAAAAAAAAAAAAAAAAAAAAAAAAAAAAAAAAAAAAAAAAAAAPFo44i1+PQ+LUMc6+I2Cj+eDI6SV+coP6ciFcYWgkw/jBAebRyxZj9+b9Of/UiBP2FsIchBCZM/2zNLAtTUoj+q1OyBVmCwP6Q2cXK/Q7k/J07udygKwD9ENLqD2JnCP+oJSzygbMI/BDkoYabtvz9v8IXJVMG4P36pnzcVqbA/asGLvoI0oz8eFmpN846TP3ZxGw3gLYA/v9TPm4pUaD82WaMeotFNP9L7xteeWSI/8WjjiLX49D7xaOOItfjkPgAAAAAAAAAAAAAAAAAAAAAAAAAAAAAAAAAAAAAAAAAAAAAAAAAAAAAAAAAAAAAAAAAAAAAAAAAAAAAAAAAAAAAAAAAAAAAAAA==\",\"dtype\":\"float64\",\"shape\":[89]}},\"selected\":{\"id\":\"17779\",\"type\":\"Selection\"},\"selection_policy\":{\"id\":\"17778\",\"type\":\"UnionRenderers\"}},\"id\":\"17717\",\"type\":\"ColumnDataSource\"},{\"attributes\":{\"source\":{\"id\":\"17853\",\"type\":\"ColumnDataSource\"}},\"id\":\"17857\",\"type\":\"CDSView\"},{\"attributes\":{\"bottom_units\":\"screen\",\"fill_alpha\":{\"value\":0.5},\"fill_color\":{\"value\":\"lightgrey\"},\"left_units\":\"screen\",\"level\":\"overlay\",\"line_alpha\":{\"value\":1.0},\"line_color\":{\"value\":\"black\"},\"line_dash\":[4,4],\"line_width\":{\"value\":2},\"plot\":null,\"render_mode\":\"css\",\"right_units\":\"screen\",\"top_units\":\"screen\"},\"id\":\"17519\",\"type\":\"BoxAnnotation\"},{\"attributes\":{\"bottom\":{\"value\":0},\"fill_alpha\":{\"value\":0.4},\"fill_color\":{\"value\":\"#c5b0d5\"},\"left\":{\"field\":\"left\"},\"line_alpha\":{\"value\":0.4},\"line_color\":{\"value\":\"white\"},\"right\":{\"field\":\"right\"},\"top\":{\"field\":\"top\"}},\"id\":\"17718\",\"type\":\"Quad\"},{\"attributes\":{},\"id\":\"17889\",\"type\":\"UnionRenderers\"},{\"attributes\":{\"source\":{\"id\":\"17527\",\"type\":\"ColumnDataSource\"}},\"id\":\"17531\",\"type\":\"CDSView\"},{\"attributes\":{\"bottom\":{\"value\":0},\"fill_alpha\":{\"value\":0.1},\"fill_color\":{\"value\":\"#1f77b4\"},\"left\":{\"field\":\"left\"},\"line_alpha\":{\"value\":0.1},\"line_color\":{\"value\":\"#1f77b4\"},\"right\":{\"field\":\"right\"},\"top\":{\"field\":\"top\"}},\"id\":\"17719\",\"type\":\"Quad\"},{\"attributes\":{},\"id\":\"17890\",\"type\":\"Selection\"},{\"attributes\":{\"plot\":null,\"text\":\"\",\"text_font_size\":{\"value\":\"16pt\"}},\"id\":\"17533\",\"type\":\"Title\"},{\"attributes\":{\"data_source\":{\"id\":\"17717\",\"type\":\"ColumnDataSource\"},\"glyph\":{\"id\":\"17718\",\"type\":\"Quad\"},\"hover_glyph\":null,\"muted_glyph\":null,\"nonselection_glyph\":{\"id\":\"17719\",\"type\":\"Quad\"},\"selection_glyph\":null,\"view\":{\"id\":\"17721\",\"type\":\"CDSView\"}},\"id\":\"17720\",\"type\":\"GlyphRenderer\"},{\"attributes\":{\"label\":{\"value\":\"Weight = 1.0\"},\"renderers\":[{\"id\":\"17856\",\"type\":\"GlyphRenderer\"}]},\"id\":\"17891\",\"type\":\"LegendItem\"},{\"attributes\":{},\"id\":\"17535\",\"type\":\"BasicTickFormatter\"},{\"attributes\":{\"source\":{\"id\":\"17717\",\"type\":\"ColumnDataSource\"}},\"id\":\"17721\",\"type\":\"CDSView\"},{\"attributes\":{},\"id\":\"18459\",\"type\":\"UnionRenderers\"},{\"attributes\":{},\"id\":\"17537\",\"type\":\"BasicTickFormatter\"},{\"attributes\":{},\"id\":\"17745\",\"type\":\"UnionRenderers\"},{\"attributes\":{},\"id\":\"18460\",\"type\":\"Selection\"},{\"attributes\":{\"items\":[{\"id\":\"17540\",\"type\":\"LegendItem\"},{\"id\":\"17555\",\"type\":\"LegendItem\"},{\"id\":\"17572\",\"type\":\"LegendItem\"},{\"id\":\"17591\",\"type\":\"LegendItem\"},{\"id\":\"17612\",\"type\":\"LegendItem\"},{\"id\":\"17635\",\"type\":\"LegendItem\"},{\"id\":\"17660\",\"type\":\"LegendItem\"},{\"id\":\"17687\",\"type\":\"LegendItem\"},{\"id\":\"17716\",\"type\":\"LegendItem\"},{\"id\":\"17747\",\"type\":\"LegendItem\"},{\"id\":\"17780\",\"type\":\"LegendItem\"},{\"id\":\"17815\",\"type\":\"LegendItem\"},{\"id\":\"17852\",\"type\":\"LegendItem\"},{\"id\":\"17891\",\"type\":\"LegendItem\"}],\"label_text_font_size\":{\"value\":\"16pt\"},\"plot\":{\"id\":\"17492\",\"subtype\":\"Figure\",\"type\":\"Plot\"}},\"id\":\"17539\",\"type\":\"Legend\"},{\"attributes\":{},\"id\":\"17746\",\"type\":\"Selection\"},{\"attributes\":{\"label\":{\"value\":\"Weight = 0.0\"},\"renderers\":[{\"id\":\"17530\",\"type\":\"GlyphRenderer\"}]},\"id\":\"17540\",\"type\":\"LegendItem\"},{\"attributes\":{\"label\":{\"value\":\"Weight = 0.0001\"},\"renderers\":[{\"id\":\"17720\",\"type\":\"GlyphRenderer\"}]},\"id\":\"17747\",\"type\":\"LegendItem\"},{\"attributes\":{\"callback\":null,\"data\":{\"left\":{\"__ndarray__\":\"AAAAAAAAAAC6AUE7DZ1bP7oBQTsNnWs/TMFw7Mm1dD+6AUE7DZ17PxShCEUoQoE/TMFw7Mm1hD+D4diTaymIP7oBQTsNnYs/8SGp4q4Qjz8UoQhFKEKRPzCxvBj5+5I/TMFw7Mm1lD9n0STAmm+WP4Ph2JNrKZg/nvGMZzzjmT+6AUE7DZ2bP9YR9Q7eVp0/8SGp4q4Qnz8GmS7bP2WgPxShCEUoQqE/IqnirhAfoj8wsbwY+fuiPz65loLh2KM/TMFw7Mm1pD9ZyUpWspKlP2fRJMCab6Y/ddn+KYNMpz+D4diTaymoP5Hpsv1TBqk/nvGMZzzjqT+s+WbRJMCqP7oBQTsNnas/yAkbpfV5rD/WEfUO3latP+MZz3jGM64/8SGp4q4Qrz//KYNMl+2vPwaZLts/ZbA/DZ0bELTTsD8UoQhFKEKxPxul9XmcsLE/IqnirhAfsj8prc/jhI2yPzCxvBj5+7I/N7WpTW1qsz8+uZaC4dizP0W9g7dVR7Q/TMFw7Mm1tD9SxV0hPiS1P1nJSlaykrU/YM03iyYBtj9n0STAmm+2P27VEfUO3rY/ddn+KYNMtz983ete97q3P4Ph2JNrKbg/iuXFyN+XuD+R6bL9Uwa5P5ftnzLIdLk/nvGMZzzjuT+l9XmcsFG6P6z5ZtEkwLo/s/1TBpkuuz+6AUE7DZ27P8EFLnCBC7w/yAkbpfV5vD/PDQjaaei8P9YR9Q7eVr0/3RXiQ1LFvT/jGc94xjO+P+odvK06or4/8SGp4q4Qvz/4JZYXI3+/P/8pg0yX7b8/Axe4wAUuwD8GmS7bP2XAPwobpfV5nMA/DZ0bELTTwD8RH5Iq7grBPxShCEUoQsE/GCN/X2J5wT8bpfV5nLDBPx8nbJTW58E/IqnirhAfwj8mK1nJSlbCPymtz+OEjcI/LC9G/r7Ewj8wsbwY+fvCPw==\",\"dtype\":\"float64\",\"shape\":[89]},\"right\":{\"__ndarray__\":\"ugFBOw2dWz+6AUE7DZ1rP0zBcOzJtXQ/ugFBOw2dez8UoQhFKEKBP0zBcOzJtYQ/g+HYk2spiD+6AUE7DZ2LP/EhqeKuEI8/FKEIRShCkT8wsbwY+fuSP0zBcOzJtZQ/Z9EkwJpvlj+D4diTaymYP57xjGc845k/ugFBOw2dmz/WEfUO3ladP/EhqeKuEJ8/Bpku2z9loD8UoQhFKEKhPyKp4q4QH6I/MLG8GPn7oj8+uZaC4dijP0zBcOzJtaQ/WclKVrKSpT9n0STAmm+mP3XZ/imDTKc/g+HYk2spqD+R6bL9UwapP57xjGc846k/rPlm0STAqj+6AUE7DZ2rP8gJG6X1eaw/1hH1Dt5WrT/jGc94xjOuP/EhqeKuEK8//ymDTJftrz8GmS7bP2WwPw2dGxC007A/FKEIRShCsT8bpfV5nLCxPyKp4q4QH7I/Ka3P44SNsj8wsbwY+fuyPze1qU1tarM/PrmWguHYsz9FvYO3VUe0P0zBcOzJtbQ/UsVdIT4ktT9ZyUpWspK1P2DNN4smAbY/Z9EkwJpvtj9u1RH1Dt62P3XZ/imDTLc/fN3rXve6tz+D4diTaym4P4rlxcjfl7g/kemy/VMGuT+X7Z8yyHS5P57xjGc847k/pfV5nLBRuj+s+WbRJMC6P7P9UwaZLrs/ugFBOw2duz/BBS5wgQu8P8gJG6X1ebw/zw0I2mnovD/WEfUO3la9P90V4kNSxb0/4xnPeMYzvj/qHbytOqK+P/EhqeKuEL8/+CWWFyN/vz//KYNMl+2/PwMXuMAFLsA/Bpku2z9lwD8KG6X1eZzAPw2dGxC008A/ER+SKu4KwT8UoQhFKELBPxgjf19iecE/G6X1eZywwT8fJ2yU1ufBPyKp4q4QH8I/JitZyUpWwj8prc/jhI3CPywvRv6+xMI/MLG8GPn7wj8zMzMzMzPDPw==\",\"dtype\":\"float64\",\"shape\":[89]},\"top\":{\"__ndarray__\":\"AAAAAAAAAAAAAAAAAAAAAAAAAAAAAAAAAAAAAAAAAAAAAAAAAAAAAAAAAAAAAAAAAAAAAAAAAAAAAAAAAAAAAAAAAAAAAAAAAAAAAAAAAAAAAAAAAAAAAAAAAAAAAAAAAAAAAAAAAAAAAAAAAAAAAAAAAAAAAAAAAAAAAAAAAAAAAAAAAAAAAAAAAAAAAAAAAAAAAAAAAAAAAAAAAAAAAAAAAAAAAAAAAAAAAAAAAAAAAAAAAAAAAAAAAAAAAAAA8WjjiLX45D7xaOOItfjkPi1DHOviNgo/LUMc6+I2Cj9hMlUwKqkjP1bxRuaRPzg/vqQxWkdVQz/uPVxy3ClNP2a9GMqJdlU//Knx0k1iYD9n7bYLzXVqPxakGYums3M/ZJKRs7CnfT9/+zpwzoiCP/uWOV0WE4s/26fjMQOVkT+Vgm4vaYyWPyBe1y/YDZs/TBqjdVQ1oT88FAX6RJ6kPyzxgLIpV6g/6uxkcJS8qj9cPSe9b3ytPw2reCPzyK8/k6mCUUmdsD+kjSPW4lOwPyzUmuYdp7A/KuPfZ1w4sD8MdsO2RZmtP4VCBBxClao/vw6cM6K0pz/TTWIQWDmkP7kZbsDnh6E/96+sNCkFnT9WZd8Vwf+WPwVu3c1THZI/iUFg5dAiiz+h20sao3WEP3Drbp7qkHs/P1JEhlW8cT8H8BZIUPxoP/yp8dJNYmA/ngyOklfnWD8P1v85zJdHP5LLf0i/fT0/D9b/OcyXNz8tQxzr4jYqPw/W/znMlxc/aR1VTRB1/z7xaOOItfj0PgAAAAAAAAAAAAAAAAAAAADxaOOItfjkPgAAAAAAAAAAAAAAAAAAAAAAAAAAAAAAAAAAAAAAAAAAAAAAAAAAAAAAAAAAAAAAAAAAAAAAAAAAAAAAAAAAAAAAAAAAAAAAAAAAAAAAAAAAAAAAAAAAAAAAAAAAAAAAAA==\",\"dtype\":\"float64\",\"shape\":[89]}},\"selected\":{\"id\":\"17571\",\"type\":\"Selection\"},\"selection_policy\":{\"id\":\"17570\",\"type\":\"UnionRenderers\"}},\"id\":\"17541\",\"type\":\"ColumnDataSource\"},{\"attributes\":{\"callback\":null,\"data\":{\"left\":{\"__ndarray__\":\"AAAAAAAAAAC6AUE7DZ1bP7oBQTsNnWs/TMFw7Mm1dD+6AUE7DZ17PxShCEUoQoE/TMFw7Mm1hD+D4diTaymIP7oBQTsNnYs/8SGp4q4Qjz8UoQhFKEKRPzCxvBj5+5I/TMFw7Mm1lD9n0STAmm+WP4Ph2JNrKZg/nvGMZzzjmT+6AUE7DZ2bP9YR9Q7eVp0/8SGp4q4Qnz8GmS7bP2WgPxShCEUoQqE/IqnirhAfoj8wsbwY+fuiPz65loLh2KM/TMFw7Mm1pD9ZyUpWspKlP2fRJMCab6Y/ddn+KYNMpz+D4diTaymoP5Hpsv1TBqk/nvGMZzzjqT+s+WbRJMCqP7oBQTsNnas/yAkbpfV5rD/WEfUO3latP+MZz3jGM64/8SGp4q4Qrz//KYNMl+2vPwaZLts/ZbA/DZ0bELTTsD8UoQhFKEKxPxul9XmcsLE/IqnirhAfsj8prc/jhI2yPzCxvBj5+7I/N7WpTW1qsz8+uZaC4dizP0W9g7dVR7Q/TMFw7Mm1tD9SxV0hPiS1P1nJSlaykrU/YM03iyYBtj9n0STAmm+2P27VEfUO3rY/ddn+KYNMtz983ete97q3P4Ph2JNrKbg/iuXFyN+XuD+R6bL9Uwa5P5ftnzLIdLk/nvGMZzzjuT+l9XmcsFG6P6z5ZtEkwLo/s/1TBpkuuz+6AUE7DZ27P8EFLnCBC7w/yAkbpfV5vD/PDQjaaei8P9YR9Q7eVr0/3RXiQ1LFvT/jGc94xjO+P+odvK06or4/8SGp4q4Qvz/4JZYXI3+/P/8pg0yX7b8/Axe4wAUuwD8GmS7bP2XAPwobpfV5nMA/DZ0bELTTwD8RH5Iq7grBPxShCEUoQsE/GCN/X2J5wT8bpfV5nLDBPx8nbJTW58E/IqnirhAfwj8mK1nJSlbCPymtz+OEjcI/LC9G/r7Ewj8wsbwY+fvCPw==\",\"dtype\":\"float64\",\"shape\":[89]},\"right\":{\"__ndarray__\":\"ugFBOw2dWz+6AUE7DZ1rP0zBcOzJtXQ/ugFBOw2dez8UoQhFKEKBP0zBcOzJtYQ/g+HYk2spiD+6AUE7DZ2LP/EhqeKuEI8/FKEIRShCkT8wsbwY+fuSP0zBcOzJtZQ/Z9EkwJpvlj+D4diTaymYP57xjGc845k/ugFBOw2dmz/WEfUO3ladP/EhqeKuEJ8/Bpku2z9loD8UoQhFKEKhPyKp4q4QH6I/MLG8GPn7oj8+uZaC4dijP0zBcOzJtaQ/WclKVrKSpT9n0STAmm+mP3XZ/imDTKc/g+HYk2spqD+R6bL9UwapP57xjGc846k/rPlm0STAqj+6AUE7DZ2rP8gJG6X1eaw/1hH1Dt5WrT/jGc94xjOuP/EhqeKuEK8//ymDTJftrz8GmS7bP2WwPw2dGxC007A/FKEIRShCsT8bpfV5nLCxPyKp4q4QH7I/Ka3P44SNsj8wsbwY+fuyPze1qU1tarM/PrmWguHYsz9FvYO3VUe0P0zBcOzJtbQ/UsVdIT4ktT9ZyUpWspK1P2DNN4smAbY/Z9EkwJpvtj9u1RH1Dt62P3XZ/imDTLc/fN3rXve6tz+D4diTaym4P4rlxcjfl7g/kemy/VMGuT+X7Z8yyHS5P57xjGc847k/pfV5nLBRuj+s+WbRJMC6P7P9UwaZLrs/ugFBOw2duz/BBS5wgQu8P8gJG6X1ebw/zw0I2mnovD/WEfUO3la9P90V4kNSxb0/4xnPeMYzvj/qHbytOqK+P/EhqeKuEL8/+CWWFyN/vz//KYNMl+2/PwMXuMAFLsA/Bpku2z9lwD8KG6X1eZzAPw2dGxC008A/ER+SKu4KwT8UoQhFKELBPxgjf19iecE/G6X1eZywwT8fJ2yU1ufBPyKp4q4QH8I/JitZyUpWwj8prc/jhI3CPywvRv6+xMI/MLG8GPn7wj8zMzMzMzPDPw==\",\"dtype\":\"float64\",\"shape\":[89]},\"top\":{\"__ndarray__\":\"AAAAAAAAAAAAAAAAAAAAAAAAAAAAAAAAAAAAAAAAAAAAAAAAAAAAAAAAAAAAAAAAAAAAAAAAAAAAAAAAAAAAAAAAAAAAAAAAAAAAAAAAAAAAAAAAAAAAAAAAAAAAAAAAAAAAAAAAAAAAAAAAAAAAAAAAAAAAAAAAAAAAAAAAAAAAAAAAAAAAAAAAAAAAAAAAAAAAAAAAAAAAAAAAAAAAAAAAAAAAAAAAAAAAAAAAAAAAAAAAAAAAAAAAAAAAAAAAAAAAAAAAAAAAAAAAAAAAAAAAAAAAAAAAAAAAAAAAAAAAAAAAAAAAAAAAAAAAAAAAAAAAAAAAAAAAAAAAAAAAAAAAAAAAAAAAAAAAAAAAAAAAAAAAAAAAAAAAAAAAAAAAAAAAAAAAAAAAAAAAAAAAAAAAAAAAAAAAAAAAAAAAAAAAAAAAAAAAAAAAAAAAAAAAAAAAAAAAAAAAAAAAAAAAAAAAAAAAAAAAAAAAAAAAAAAAAAAAAAAAAAAAAAAAAAAAAAAAAAAAAAAAAAAAAAAAAAAAAAAAAAAAAAAAAAAAAAAAAAAAAAAAAAAAAAAAAAAAAAAAAAAAAAAAAAAAAAAAAAAAAAAAAAAAAAAAAAAAAAAAAAAAAAAAAAAAAAAAAAAAAAAAAAAAAAAAAAAAAAAAAAAAAAAAAAAAAAAAAAAAAAAAAAAAAAAAAAAAAAAAAAAAAAAAAAAAAAAAAAAAAAAAAAAAAAAAAAAAMnIW9rTDnz9y3CkdrP/DP+W4UzpY/9M/l8rbEU4L1D8VAOMZNPTDP95xio7k8p8/AAAAAAAAAAAAAAAAAAAAAAAAAAAAAAAAAAAAAAAAAAAAAAAAAAAAAAAAAAAAAAAAAAAAAAAAAAAAAAAAAAAAAAAAAAAAAAAAAAAAAAAAAAAAAAAAAAAAAAAAAAAAAAAAAAAAAAAAAAAAAAAAAAAAAA==\",\"dtype\":\"float64\",\"shape\":[89]}},\"selected\":{\"id\":\"17814\",\"type\":\"Selection\"},\"selection_policy\":{\"id\":\"17813\",\"type\":\"UnionRenderers\"}},\"id\":\"17748\",\"type\":\"ColumnDataSource\"},{\"attributes\":{\"bottom\":{\"value\":0},\"fill_alpha\":{\"value\":0.4},\"fill_color\":{\"value\":\"#aec7e8\"},\"left\":{\"field\":\"left\"},\"line_alpha\":{\"value\":0.4},\"line_color\":{\"value\":\"white\"},\"right\":{\"field\":\"right\"},\"top\":{\"field\":\"top\"}},\"id\":\"17542\",\"type\":\"Quad\"},{\"attributes\":{\"bottom\":{\"value\":0},\"fill_alpha\":{\"value\":0.4},\"fill_color\":{\"value\":\"#8c564b\"},\"left\":{\"field\":\"left\"},\"line_alpha\":{\"value\":0.4},\"line_color\":{\"value\":\"white\"},\"right\":{\"field\":\"right\"},\"top\":{\"field\":\"top\"}},\"id\":\"17749\",\"type\":\"Quad\"},{\"attributes\":{\"bottom\":{\"value\":0},\"fill_alpha\":{\"value\":0.1},\"fill_color\":{\"value\":\"#1f77b4\"},\"left\":{\"field\":\"left\"},\"line_alpha\":{\"value\":0.1},\"line_color\":{\"value\":\"#1f77b4\"},\"right\":{\"field\":\"right\"},\"top\":{\"field\":\"top\"}},\"id\":\"17543\",\"type\":\"Quad\"},{\"attributes\":{\"bottom\":{\"value\":0},\"fill_alpha\":{\"value\":0.1},\"fill_color\":{\"value\":\"#1f77b4\"},\"left\":{\"field\":\"left\"},\"line_alpha\":{\"value\":0.1},\"line_color\":{\"value\":\"#1f77b4\"},\"right\":{\"field\":\"right\"},\"top\":{\"field\":\"top\"}},\"id\":\"17750\",\"type\":\"Quad\"},{\"attributes\":{\"data_source\":{\"id\":\"17541\",\"type\":\"ColumnDataSource\"},\"glyph\":{\"id\":\"17542\",\"type\":\"Quad\"},\"hover_glyph\":null,\"muted_glyph\":null,\"nonselection_glyph\":{\"id\":\"17543\",\"type\":\"Quad\"},\"selection_glyph\":null,\"view\":{\"id\":\"17545\",\"type\":\"CDSView\"}},\"id\":\"17544\",\"type\":\"GlyphRenderer\"},{\"attributes\":{\"data_source\":{\"id\":\"17748\",\"type\":\"ColumnDataSource\"},\"glyph\":{\"id\":\"17749\",\"type\":\"Quad\"},\"hover_glyph\":null,\"muted_glyph\":null,\"nonselection_glyph\":{\"id\":\"17750\",\"type\":\"Quad\"},\"selection_glyph\":null,\"view\":{\"id\":\"17752\",\"type\":\"CDSView\"}},\"id\":\"17751\",\"type\":\"GlyphRenderer\"},{\"attributes\":{\"source\":{\"id\":\"17541\",\"type\":\"ColumnDataSource\"}},\"id\":\"17545\",\"type\":\"CDSView\"},{\"attributes\":{\"source\":{\"id\":\"17748\",\"type\":\"ColumnDataSource\"}},\"id\":\"17752\",\"type\":\"CDSView\"},{\"attributes\":{},\"id\":\"17553\",\"type\":\"UnionRenderers\"},{\"attributes\":{},\"id\":\"17778\",\"type\":\"UnionRenderers\"},{\"attributes\":{},\"id\":\"17554\",\"type\":\"Selection\"},{\"attributes\":{},\"id\":\"17779\",\"type\":\"Selection\"},{\"attributes\":{\"label\":{\"value\":\"Weight = 1e-12\"},\"renderers\":[{\"id\":\"17544\",\"type\":\"GlyphRenderer\"}]},\"id\":\"17555\",\"type\":\"LegendItem\"},{\"attributes\":{\"label\":{\"value\":\"Weight = 0.001\"},\"renderers\":[{\"id\":\"17751\",\"type\":\"GlyphRenderer\"}]},\"id\":\"17780\",\"type\":\"LegendItem\"},{\"attributes\":{\"callback\":null,\"data\":{\"left\":{\"__ndarray__\":\"AAAAAAAAAAC6AUE7DZ1bP7oBQTsNnWs/TMFw7Mm1dD+6AUE7DZ17PxShCEUoQoE/TMFw7Mm1hD+D4diTaymIP7oBQTsNnYs/8SGp4q4Qjz8UoQhFKEKRPzCxvBj5+5I/TMFw7Mm1lD9n0STAmm+WP4Ph2JNrKZg/nvGMZzzjmT+6AUE7DZ2bP9YR9Q7eVp0/8SGp4q4Qnz8GmS7bP2WgPxShCEUoQqE/IqnirhAfoj8wsbwY+fuiPz65loLh2KM/TMFw7Mm1pD9ZyUpWspKlP2fRJMCab6Y/ddn+KYNMpz+D4diTaymoP5Hpsv1TBqk/nvGMZzzjqT+s+WbRJMCqP7oBQTsNnas/yAkbpfV5rD/WEfUO3latP+MZz3jGM64/8SGp4q4Qrz//KYNMl+2vPwaZLts/ZbA/DZ0bELTTsD8UoQhFKEKxPxul9XmcsLE/IqnirhAfsj8prc/jhI2yPzCxvBj5+7I/N7WpTW1qsz8+uZaC4dizP0W9g7dVR7Q/TMFw7Mm1tD9SxV0hPiS1P1nJSlaykrU/YM03iyYBtj9n0STAmm+2P27VEfUO3rY/ddn+KYNMtz983ete97q3P4Ph2JNrKbg/iuXFyN+XuD+R6bL9Uwa5P5ftnzLIdLk/nvGMZzzjuT+l9XmcsFG6P6z5ZtEkwLo/s/1TBpkuuz+6AUE7DZ27P8EFLnCBC7w/yAkbpfV5vD/PDQjaaei8P9YR9Q7eVr0/3RXiQ1LFvT/jGc94xjO+P+odvK06or4/8SGp4q4Qvz/4JZYXI3+/P/8pg0yX7b8/Axe4wAUuwD8GmS7bP2XAPwobpfV5nMA/DZ0bELTTwD8RH5Iq7grBPxShCEUoQsE/GCN/X2J5wT8bpfV5nLDBPx8nbJTW58E/IqnirhAfwj8mK1nJSlbCPymtz+OEjcI/LC9G/r7Ewj8wsbwY+fvCPw==\",\"dtype\":\"float64\",\"shape\":[89]},\"right\":{\"__ndarray__\":\"ugFBOw2dWz+6AUE7DZ1rP0zBcOzJtXQ/ugFBOw2dez8UoQhFKEKBP0zBcOzJtYQ/g+HYk2spiD+6AUE7DZ2LP/EhqeKuEI8/FKEIRShCkT8wsbwY+fuSP0zBcOzJtZQ/Z9EkwJpvlj+D4diTaymYP57xjGc845k/ugFBOw2dmz/WEfUO3ladP/EhqeKuEJ8/Bpku2z9loD8UoQhFKEKhPyKp4q4QH6I/MLG8GPn7oj8+uZaC4dijP0zBcOzJtaQ/WclKVrKSpT9n0STAmm+mP3XZ/imDTKc/g+HYk2spqD+R6bL9UwapP57xjGc846k/rPlm0STAqj+6AUE7DZ2rP8gJG6X1eaw/1hH1Dt5WrT/jGc94xjOuP/EhqeKuEK8//ymDTJftrz8GmS7bP2WwPw2dGxC007A/FKEIRShCsT8bpfV5nLCxPyKp4q4QH7I/Ka3P44SNsj8wsbwY+fuyPze1qU1tarM/PrmWguHYsz9FvYO3VUe0P0zBcOzJtbQ/UsVdIT4ktT9ZyUpWspK1P2DNN4smAbY/Z9EkwJpvtj9u1RH1Dt62P3XZ/imDTLc/fN3rXve6tz+D4diTaym4P4rlxcjfl7g/kemy/VMGuT+X7Z8yyHS5P57xjGc847k/pfV5nLBRuj+s+WbRJMC6P7P9UwaZLrs/ugFBOw2duz/BBS5wgQu8P8gJG6X1ebw/zw0I2mnovD/WEfUO3la9P90V4kNSxb0/4xnPeMYzvj/qHbytOqK+P/EhqeKuEL8/+CWWFyN/vz//KYNMl+2/PwMXuMAFLsA/Bpku2z9lwD8KG6X1eZzAPw2dGxC008A/ER+SKu4KwT8UoQhFKELBPxgjf19iecE/G6X1eZywwT8fJ2yU1ufBPyKp4q4QH8I/JitZyUpWwj8prc/jhI3CPywvRv6+xMI/MLG8GPn7wj8zMzMzMzPDPw==\",\"dtype\":\"float64\",\"shape\":[89]},\"top\":{\"__ndarray__\":\"AAAAAAAAAAAAAAAAAAAAAAAAAAAAAAAAAAAAAAAAAAAAAAAAAAAAAAAAAAAAAAAAAAAAAAAAAAAAAAAAAAAAAAAAAAAAAAAAAAAAAAAAAAAAAAAAAAAAAAAAAAAAAAAAAAAAAAAAAAAAAAAAAAAAAAAAAAAAAAAAAAAAAAAAAAAAAAAAAAAAAAAAAAAAAAAAAAAAAAAAAAAAAAAAAAAAAAAAAAAAAAAAAAAAAAAAAAAAAAAAAAAAAAAAAAAAAAAAaR1VTRB1/z5pHVVNEHX/PtL7xteeWRI/Q8U4fxMKIT/xaOOItfgkP6lNnNzvUDQ/i+B/K9mxQT+eDI6SV+dIP9wRTgte9FU/5Pc2/dmPZD+8eapDboZrP86I0t7gC3M/7iWN0Tqqej+lTkATYcODP2fttgvNdYo/SMSUSKKXkT/Y2CWqtwaWPxAGnnsPl5w/XeFdLuI7oT+DaRg+IqakP7KACdy6m6c/QuxMofMaqz9cIEHxY8ytP5kqGJXUCbA/rOKNzCN/sD/MRXwnZr2wP+m3rwPnjLA/pMfvbfqzrz8hdqbQeY2tP4VCBBxClao/jLlrCfmgpz97FK5H4XqkP/w1WaMeoqE/S+oENBE2nD/pSC7/If2WP9un4zEDlZE/D+7O2m0Xij/b+X5qvHSDPxjshm2LMns/Tdu/stKkdD/I6lbPSe9rP+dSXFX2XWE/Cks8oGzKVT8Y7IZtizJLP1gczvxqDkA/GhcOhGQBMz8P1v85zJcnPw/W/znMlxc/aR1VTRB1/z5pHVVNEHX/PgAAAAAAAAAA8WjjiLX45D4AAAAAAAAAAAAAAAAAAAAAAAAAAAAAAAAAAAAAAAAAAAAAAAAAAAAAAAAAAAAAAAAAAAAAAAAAAAAAAAAAAAAAAAAAAAAAAAAAAAAAAAAAAAAAAAAAAAAAAAAAAAAAAAAAAAAAAAAAAA==\",\"dtype\":\"float64\",\"shape\":[89]}},\"selected\":{\"id\":\"17590\",\"type\":\"Selection\"},\"selection_policy\":{\"id\":\"17589\",\"type\":\"UnionRenderers\"}},\"id\":\"17556\",\"type\":\"ColumnDataSource\"},{\"attributes\":{\"callback\":null,\"data\":{\"left\":{\"__ndarray__\":\"AAAAAAAAAAC6AUE7DZ1bP7oBQTsNnWs/TMFw7Mm1dD+6AUE7DZ17PxShCEUoQoE/TMFw7Mm1hD+D4diTaymIP7oBQTsNnYs/8SGp4q4Qjz8UoQhFKEKRPzCxvBj5+5I/TMFw7Mm1lD9n0STAmm+WP4Ph2JNrKZg/nvGMZzzjmT+6AUE7DZ2bP9YR9Q7eVp0/8SGp4q4Qnz8GmS7bP2WgPxShCEUoQqE/IqnirhAfoj8wsbwY+fuiPz65loLh2KM/TMFw7Mm1pD9ZyUpWspKlP2fRJMCab6Y/ddn+KYNMpz+D4diTaymoP5Hpsv1TBqk/nvGMZzzjqT+s+WbRJMCqP7oBQTsNnas/yAkbpfV5rD/WEfUO3latP+MZz3jGM64/8SGp4q4Qrz//KYNMl+2vPwaZLts/ZbA/DZ0bELTTsD8UoQhFKEKxPxul9XmcsLE/IqnirhAfsj8prc/jhI2yPzCxvBj5+7I/N7WpTW1qsz8+uZaC4dizP0W9g7dVR7Q/TMFw7Mm1tD9SxV0hPiS1P1nJSlaykrU/YM03iyYBtj9n0STAmm+2P27VEfUO3rY/ddn+KYNMtz983ete97q3P4Ph2JNrKbg/iuXFyN+XuD+R6bL9Uwa5P5ftnzLIdLk/nvGMZzzjuT+l9XmcsFG6P6z5ZtEkwLo/s/1TBpkuuz+6AUE7DZ27P8EFLnCBC7w/yAkbpfV5vD/PDQjaaei8P9YR9Q7eVr0/3RXiQ1LFvT/jGc94xjO+P+odvK06or4/8SGp4q4Qvz/4JZYXI3+/P/8pg0yX7b8/Axe4wAUuwD8GmS7bP2XAPwobpfV5nMA/DZ0bELTTwD8RH5Iq7grBPxShCEUoQsE/GCN/X2J5wT8bpfV5nLDBPx8nbJTW58E/IqnirhAfwj8mK1nJSlbCPymtz+OEjcI/LC9G/r7Ewj8wsbwY+fvCPw==\",\"dtype\":\"float64\",\"shape\":[89]},\"right\":{\"__ndarray__\":\"ugFBOw2dWz+6AUE7DZ1rP0zBcOzJtXQ/ugFBOw2dez8UoQhFKEKBP0zBcOzJtYQ/g+HYk2spiD+6AUE7DZ2LP/EhqeKuEI8/FKEIRShCkT8wsbwY+fuSP0zBcOzJtZQ/Z9EkwJpvlj+D4diTaymYP57xjGc845k/ugFBOw2dmz/WEfUO3ladP/EhqeKuEJ8/Bpku2z9loD8UoQhFKEKhPyKp4q4QH6I/MLG8GPn7oj8+uZaC4dijP0zBcOzJtaQ/WclKVrKSpT9n0STAmm+mP3XZ/imDTKc/g+HYk2spqD+R6bL9UwapP57xjGc846k/rPlm0STAqj+6AUE7DZ2rP8gJG6X1eaw/1hH1Dt5WrT/jGc94xjOuP/EhqeKuEK8//ymDTJftrz8GmS7bP2WwPw2dGxC007A/FKEIRShCsT8bpfV5nLCxPyKp4q4QH7I/Ka3P44SNsj8wsbwY+fuyPze1qU1tarM/PrmWguHYsz9FvYO3VUe0P0zBcOzJtbQ/UsVdIT4ktT9ZyUpWspK1P2DNN4smAbY/Z9EkwJpvtj9u1RH1Dt62P3XZ/imDTLc/fN3rXve6tz+D4diTaym4P4rlxcjfl7g/kemy/VMGuT+X7Z8yyHS5P57xjGc847k/pfV5nLBRuj+s+WbRJMC6P7P9UwaZLrs/ugFBOw2duz/BBS5wgQu8P8gJG6X1ebw/zw0I2mnovD/WEfUO3la9P90V4kNSxb0/4xnPeMYzvj/qHbytOqK+P/EhqeKuEL8/+CWWFyN/vz//KYNMl+2/PwMXuMAFLsA/Bpku2z9lwD8KG6X1eZzAPw2dGxC008A/ER+SKu4KwT8UoQhFKELBPxgjf19iecE/G6X1eZywwT8fJ2yU1ufBPyKp4q4QH8I/JitZyUpWwj8prc/jhI3CPywvRv6+xMI/MLG8GPn7wj8zMzMzMzPDPw==\",\"dtype\":\"float64\",\"shape\":[89]},\"top\":{\"__ndarray__\":\"AAAAAAAAAAAAAAAAAAAAAAAAAAAAAAAAAAAAAAAAAAAAAAAAAAAAAAAAAAAAAAAAAAAAAAAAAAAAAAAAAAAAAAAAAAAAAAAAAAAAAAAAAAAAAAAAAAAAAAAAAAAAAAAAAAAAAAAAAAAAAAAAAAAAAAAAAAAAAAAAAAAAAAAAAAAAAAAAAAAAAAAAAAAAAAAAAAAAAAAAAAAAAAAAAAAAAAAAAAAAAAAAAAAAAAAAAAAAAAAAAAAAAAAAAAAAAAAAAAAAAAAAAAAAAAAAAAAAAAAAAAAAAAAAAAAAAAAAAAAAAAAAAAAAAAAAAAAAAAAAAAAAAAAAAAAAAAAAAAAAAAAAAAAAAAAAAAAAAAAAAAAAAAAAAAAAAAAAAAAAAAAAAAAAAAAAAAAAAAAAAAAAAAAAAAAAAAAAAAAAAAAAAAAAAAAAAAAAAAAAAAAAAAAAAAAAAAAAAAAAAAAAAAAAAAAAAAAAAAAAAAAAAAAAAAAAAAAAAAAAAAAAAAAAAAAAAAAAAAAAAAAAAAAAAAAAAAAAAAAAAAAAAAAAAAAAAAAAAAAAAAAAAAAAAAAAAAAAAAAAAAAAAAAAAAAAAAAAAAAAAAAAAAAAAAAAAAAAAAAAAAAAAAAAAAAAAAAAAAAAAAAAAAAAAAAAAAAAAAAAAAAAAAAAAAAAAAAAAAAAAAAAAAAAAAAAAAAAAAAAAAAAAAAAAAAAAAAAAAAAAAAAAAAAAAAAAAAAAAAAAAAAAAAAAAAAAAAAAFgczvxqDsA/J6CJsOHp1z9kIxCv6xfYPyS5/If0278/AAAAAAAAAAAAAAAAAAAAAAAAAAAAAAAAAAAAAAAAAAAAAAAAAAAAAAAAAAAAAAAAAAAAAAAAAAAAAAAAAAAAAAAAAAAAAAAAAAAAAAAAAAAAAAAAAAAAAAAAAAAAAAAAAAAAAAAAAAAAAAAAAAAAAA==\",\"dtype\":\"float64\",\"shape\":[89]}},\"selected\":{\"id\":\"17851\",\"type\":\"Selection\"},\"selection_policy\":{\"id\":\"17850\",\"type\":\"UnionRenderers\"}},\"id\":\"17781\",\"type\":\"ColumnDataSource\"},{\"attributes\":{\"bottom\":{\"value\":0},\"fill_alpha\":{\"value\":0.4},\"fill_color\":{\"value\":\"#ff7f0e\"},\"left\":{\"field\":\"left\"},\"line_alpha\":{\"value\":0.4},\"line_color\":{\"value\":\"white\"},\"right\":{\"field\":\"right\"},\"top\":{\"field\":\"top\"}},\"id\":\"17557\",\"type\":\"Quad\"},{\"attributes\":{\"bottom\":{\"value\":0},\"fill_alpha\":{\"value\":0.4},\"fill_color\":{\"value\":\"#c49c94\"},\"left\":{\"field\":\"left\"},\"line_alpha\":{\"value\":0.4},\"line_color\":{\"value\":\"white\"},\"right\":{\"field\":\"right\"},\"top\":{\"field\":\"top\"}},\"id\":\"17782\",\"type\":\"Quad\"},{\"attributes\":{\"bottom\":{\"value\":0},\"fill_alpha\":{\"value\":0.1},\"fill_color\":{\"value\":\"#1f77b4\"},\"left\":{\"field\":\"left\"},\"line_alpha\":{\"value\":0.1},\"line_color\":{\"value\":\"#1f77b4\"},\"right\":{\"field\":\"right\"},\"top\":{\"field\":\"top\"}},\"id\":\"17558\",\"type\":\"Quad\"},{\"attributes\":{\"bottom\":{\"value\":0},\"fill_alpha\":{\"value\":0.1},\"fill_color\":{\"value\":\"#1f77b4\"},\"left\":{\"field\":\"left\"},\"line_alpha\":{\"value\":0.1},\"line_color\":{\"value\":\"#1f77b4\"},\"right\":{\"field\":\"right\"},\"top\":{\"field\":\"top\"}},\"id\":\"17783\",\"type\":\"Quad\"},{\"attributes\":{\"data_source\":{\"id\":\"17556\",\"type\":\"ColumnDataSource\"},\"glyph\":{\"id\":\"17557\",\"type\":\"Quad\"},\"hover_glyph\":null,\"muted_glyph\":null,\"nonselection_glyph\":{\"id\":\"17558\",\"type\":\"Quad\"},\"selection_glyph\":null,\"view\":{\"id\":\"17560\",\"type\":\"CDSView\"}},\"id\":\"17559\",\"type\":\"GlyphRenderer\"},{\"attributes\":{\"data_source\":{\"id\":\"17781\",\"type\":\"ColumnDataSource\"},\"glyph\":{\"id\":\"17782\",\"type\":\"Quad\"},\"hover_glyph\":null,\"muted_glyph\":null,\"nonselection_glyph\":{\"id\":\"17783\",\"type\":\"Quad\"},\"selection_glyph\":null,\"view\":{\"id\":\"17785\",\"type\":\"CDSView\"}},\"id\":\"17784\",\"type\":\"GlyphRenderer\"},{\"attributes\":{\"source\":{\"id\":\"17556\",\"type\":\"ColumnDataSource\"}},\"id\":\"17560\",\"type\":\"CDSView\"},{\"attributes\":{\"source\":{\"id\":\"17781\",\"type\":\"ColumnDataSource\"}},\"id\":\"17785\",\"type\":\"CDSView\"},{\"attributes\":{},\"id\":\"17570\",\"type\":\"UnionRenderers\"},{\"attributes\":{},\"id\":\"17813\",\"type\":\"UnionRenderers\"},{\"attributes\":{},\"id\":\"17571\",\"type\":\"Selection\"},{\"attributes\":{},\"id\":\"17814\",\"type\":\"Selection\"},{\"attributes\":{\"label\":{\"value\":\"Weight = 1e-11\"},\"renderers\":[{\"id\":\"17559\",\"type\":\"GlyphRenderer\"}]},\"id\":\"17572\",\"type\":\"LegendItem\"},{\"attributes\":{\"label\":{\"value\":\"Weight = 0.01\"},\"renderers\":[{\"id\":\"17784\",\"type\":\"GlyphRenderer\"}]},\"id\":\"17815\",\"type\":\"LegendItem\"},{\"attributes\":{\"callback\":null,\"data\":{\"left\":{\"__ndarray__\":\"AAAAAAAAAAC6AUE7DZ1bP7oBQTsNnWs/TMFw7Mm1dD+6AUE7DZ17PxShCEUoQoE/TMFw7Mm1hD+D4diTaymIP7oBQTsNnYs/8SGp4q4Qjz8UoQhFKEKRPzCxvBj5+5I/TMFw7Mm1lD9n0STAmm+WP4Ph2JNrKZg/nvGMZzzjmT+6AUE7DZ2bP9YR9Q7eVp0/8SGp4q4Qnz8GmS7bP2WgPxShCEUoQqE/IqnirhAfoj8wsbwY+fuiPz65loLh2KM/TMFw7Mm1pD9ZyUpWspKlP2fRJMCab6Y/ddn+KYNMpz+D4diTaymoP5Hpsv1TBqk/nvGMZzzjqT+s+WbRJMCqP7oBQTsNnas/yAkbpfV5rD/WEfUO3latP+MZz3jGM64/8SGp4q4Qrz//KYNMl+2vPwaZLts/ZbA/DZ0bELTTsD8UoQhFKEKxPxul9XmcsLE/IqnirhAfsj8prc/jhI2yPzCxvBj5+7I/N7WpTW1qsz8+uZaC4dizP0W9g7dVR7Q/TMFw7Mm1tD9SxV0hPiS1P1nJSlaykrU/YM03iyYBtj9n0STAmm+2P27VEfUO3rY/ddn+KYNMtz983ete97q3P4Ph2JNrKbg/iuXFyN+XuD+R6bL9Uwa5P5ftnzLIdLk/nvGMZzzjuT+l9XmcsFG6P6z5ZtEkwLo/s/1TBpkuuz+6AUE7DZ27P8EFLnCBC7w/yAkbpfV5vD/PDQjaaei8P9YR9Q7eVr0/3RXiQ1LFvT/jGc94xjO+P+odvK06or4/8SGp4q4Qvz/4JZYXI3+/P/8pg0yX7b8/Axe4wAUuwD8GmS7bP2XAPwobpfV5nMA/DZ0bELTTwD8RH5Iq7grBPxShCEUoQsE/GCN/X2J5wT8bpfV5nLDBPx8nbJTW58E/IqnirhAfwj8mK1nJSlbCPymtz+OEjcI/LC9G/r7Ewj8wsbwY+fvCPw==\",\"dtype\":\"float64\",\"shape\":[89]},\"right\":{\"__ndarray__\":\"ugFBOw2dWz+6AUE7DZ1rP0zBcOzJtXQ/ugFBOw2dez8UoQhFKEKBP0zBcOzJtYQ/g+HYk2spiD+6AUE7DZ2LP/EhqeKuEI8/FKEIRShCkT8wsbwY+fuSP0zBcOzJtZQ/Z9EkwJpvlj+D4diTaymYP57xjGc845k/ugFBOw2dmz/WEfUO3ladP/EhqeKuEJ8/Bpku2z9loD8UoQhFKEKhPyKp4q4QH6I/MLG8GPn7oj8+uZaC4dijP0zBcOzJtaQ/WclKVrKSpT9n0STAmm+mP3XZ/imDTKc/g+HYk2spqD+R6bL9UwapP57xjGc846k/rPlm0STAqj+6AUE7DZ2rP8gJG6X1eaw/1hH1Dt5WrT/jGc94xjOuP/EhqeKuEK8//ymDTJftrz8GmS7bP2WwPw2dGxC007A/FKEIRShCsT8bpfV5nLCxPyKp4q4QH7I/Ka3P44SNsj8wsbwY+fuyPze1qU1tarM/PrmWguHYsz9FvYO3VUe0P0zBcOzJtbQ/UsVdIT4ktT9ZyUpWspK1P2DNN4smAbY/Z9EkwJpvtj9u1RH1Dt62P3XZ/imDTLc/fN3rXve6tz+D4diTaym4P4rlxcjfl7g/kemy/VMGuT+X7Z8yyHS5P57xjGc847k/pfV5nLBRuj+s+WbRJMC6P7P9UwaZLrs/ugFBOw2duz/BBS5wgQu8P8gJG6X1ebw/zw0I2mnovD/WEfUO3la9P90V4kNSxb0/4xnPeMYzvj/qHbytOqK+P/EhqeKuEL8/+CWWFyN/vz//KYNMl+2/PwMXuMAFLsA/Bpku2z9lwD8KG6X1eZzAPw2dGxC008A/ER+SKu4KwT8UoQhFKELBPxgjf19iecE/G6X1eZywwT8fJ2yU1ufBPyKp4q4QH8I/JitZyUpWwj8prc/jhI3CPywvRv6+xMI/MLG8GPn7wj8zMzMzMzPDPw==\",\"dtype\":\"float64\",\"shape\":[89]},\"top\":{\"__ndarray__\":\"AAAAAAAAAAAAAAAAAAAAAAAAAAAAAAAAAAAAAAAAAAAAAAAAAAAAAAAAAAAAAAAAAAAAAAAAAAAAAAAAAAAAAAAAAAAAAAAAAAAAAAAAAAAAAAAAAAAAAAAAAAAAAAAAAAAAAAAAAAAAAAAAAAAAAAAAAAAAAAAAAAAAAAAAAAAAAAAAAAAAAAAAAAAAAAAAAAAAAAAAAAAAAAAAAAAAAAAAAAAAAAAAAAAAAAAAAAAAAAAAAAAAAPFo44i1+OQ+aR1VTRB1/z7xaOOItfjkPvFo44i1+BQ/0vvG155ZEj+8eapDboYrP+Un1T4djzk/vHmqQ26GOz/a5sb0hCVOP1bxRuaRP1g/8WjjiLX4ZD98REyJJHppP0TdByC1iXM/is3HtaFifD/5Tsx6MZSDP1t8CoDxDIo/MzMzMzMzkz+UvDrHgOyVP8Cy0qQUdJs/g1FJnYAmoj88MevFUE6kP9yAzw8jhKc/jXqIRncQqz9PzHoxlBOtP9YcIJijx68/Y3/ZPXlYsD8wKqkT0ESwPyrG+ZtQiLA/WFaalIJurz8u51JcVfatPz55WKg1zas/PdUhN8MNqD+HvyZr1EOkPx7htOBFX6E/LZW3I5wWnD+Ens2qz9WWP5yKVBhbCJI/Y+5aQj7oiT++MJkqGJWEP5qxaDo7GXw/RN0HILWJcz8g0m9fB85pP/TDCOHRxmE/9fOmIhXGVj+eDI6SV+dIP5LLf0i/fT0/D9b/OcyXNz9pHVVNEHUfP0uwOJz51Rw/8WjjiLX4BD9pHVVNEHUPP/Fo44i1+PQ+AAAAAAAAAADxaOOItfjkPgAAAAAAAAAA8WjjiLX45D4AAAAAAAAAAAAAAAAAAAAAAAAAAAAAAAAAAAAAAAAAAAAAAAAAAAAAAAAAAAAAAAAAAAAAAAAAAAAAAAAAAAAAAAAAAAAAAAAAAAAAAAAAAA==\",\"dtype\":\"float64\",\"shape\":[89]}},\"selected\":{\"id\":\"17611\",\"type\":\"Selection\"},\"selection_policy\":{\"id\":\"17610\",\"type\":\"UnionRenderers\"}},\"id\":\"17573\",\"type\":\"ColumnDataSource\"},{\"attributes\":{\"callback\":null,\"data\":{\"left\":{\"__ndarray__\":\"AAAAAAAAAAC6AUE7DZ1bP7oBQTsNnWs/TMFw7Mm1dD+6AUE7DZ17PxShCEUoQoE/TMFw7Mm1hD+D4diTaymIP7oBQTsNnYs/8SGp4q4Qjz8UoQhFKEKRPzCxvBj5+5I/TMFw7Mm1lD9n0STAmm+WP4Ph2JNrKZg/nvGMZzzjmT+6AUE7DZ2bP9YR9Q7eVp0/8SGp4q4Qnz8GmS7bP2WgPxShCEUoQqE/IqnirhAfoj8wsbwY+fuiPz65loLh2KM/TMFw7Mm1pD9ZyUpWspKlP2fRJMCab6Y/ddn+KYNMpz+D4diTaymoP5Hpsv1TBqk/nvGMZzzjqT+s+WbRJMCqP7oBQTsNnas/yAkbpfV5rD/WEfUO3latP+MZz3jGM64/8SGp4q4Qrz//KYNMl+2vPwaZLts/ZbA/DZ0bELTTsD8UoQhFKEKxPxul9XmcsLE/IqnirhAfsj8prc/jhI2yPzCxvBj5+7I/N7WpTW1qsz8+uZaC4dizP0W9g7dVR7Q/TMFw7Mm1tD9SxV0hPiS1P1nJSlaykrU/YM03iyYBtj9n0STAmm+2P27VEfUO3rY/ddn+KYNMtz983ete97q3P4Ph2JNrKbg/iuXFyN+XuD+R6bL9Uwa5P5ftnzLIdLk/nvGMZzzjuT+l9XmcsFG6P6z5ZtEkwLo/s/1TBpkuuz+6AUE7DZ27P8EFLnCBC7w/yAkbpfV5vD/PDQjaaei8P9YR9Q7eVr0/3RXiQ1LFvT/jGc94xjO+P+odvK06or4/8SGp4q4Qvz/4JZYXI3+/P/8pg0yX7b8/Axe4wAUuwD8GmS7bP2XAPwobpfV5nMA/DZ0bELTTwD8RH5Iq7grBPxShCEUoQsE/GCN/X2J5wT8bpfV5nLDBPx8nbJTW58E/IqnirhAfwj8mK1nJSlbCPymtz+OEjcI/LC9G/r7Ewj8wsbwY+fvCPw==\",\"dtype\":\"float64\",\"shape\":[89]},\"right\":{\"__ndarray__\":\"ugFBOw2dWz+6AUE7DZ1rP0zBcOzJtXQ/ugFBOw2dez8UoQhFKEKBP0zBcOzJtYQ/g+HYk2spiD+6AUE7DZ2LP/EhqeKuEI8/FKEIRShCkT8wsbwY+fuSP0zBcOzJtZQ/Z9EkwJpvlj+D4diTaymYP57xjGc845k/ugFBOw2dmz/WEfUO3ladP/EhqeKuEJ8/Bpku2z9loD8UoQhFKEKhPyKp4q4QH6I/MLG8GPn7oj8+uZaC4dijP0zBcOzJtaQ/WclKVrKSpT9n0STAmm+mP3XZ/imDTKc/g+HYk2spqD+R6bL9UwapP57xjGc846k/rPlm0STAqj+6AUE7DZ2rP8gJG6X1eaw/1hH1Dt5WrT/jGc94xjOuP/EhqeKuEK8//ymDTJftrz8GmS7bP2WwPw2dGxC007A/FKEIRShCsT8bpfV5nLCxPyKp4q4QH7I/Ka3P44SNsj8wsbwY+fuyPze1qU1tarM/PrmWguHYsz9FvYO3VUe0P0zBcOzJtbQ/UsVdIT4ktT9ZyUpWspK1P2DNN4smAbY/Z9EkwJpvtj9u1RH1Dt62P3XZ/imDTLc/fN3rXve6tz+D4diTaym4P4rlxcjfl7g/kemy/VMGuT+X7Z8yyHS5P57xjGc847k/pfV5nLBRuj+s+WbRJMC6P7P9UwaZLrs/ugFBOw2duz/BBS5wgQu8P8gJG6X1ebw/zw0I2mnovD/WEfUO3la9P90V4kNSxb0/4xnPeMYzvj/qHbytOqK+P/EhqeKuEL8/+CWWFyN/vz//KYNMl+2/PwMXuMAFLsA/Bpku2z9lwD8KG6X1eZzAPw2dGxC008A/ER+SKu4KwT8UoQhFKELBPxgjf19iecE/G6X1eZywwT8fJ2yU1ufBPyKp4q4QH8I/JitZyUpWwj8prc/jhI3CPywvRv6+xMI/MLG8GPn7wj8zMzMzMzPDPw==\",\"dtype\":\"float64\",\"shape\":[89]},\"top\":{\"__ndarray__\":\"AAAAAAAAAAAAAAAAAAAAAAAAAAAAAAAAAAAAAAAAAAAAAAAAAAAAAAAAAAAAAAAAAAAAAAAAAAAAAAAAAAAAAAAAAAAAAAAAAAAAAAAAAAAAAAAAAAAAAAAAAAAAAAAAAAAAAAAAAAAAAAAAAAAAAAAAAAAAAAAAAAAAAAAAAAAAAAAAAAAAAAAAAAAAAAAAAAAAAAAAAAAAAAAAAAAAAAAAAAAAAAAAAAAAAAAAAAAAAAAAAAAAAAAAAAAAAAAAAAAAAAAAAAAAAAAAAAAAAAAAAAAAAAAAAAAAAAAAAAAAAAAAAAAAAAAAAAAAAAAAAAAAAAAAAAAAAAAAAAAAAAAAAAAAAAAAAAAAAAAAAAAAAAAAAAAAAAAAAAAAAAAAAAAAAAAAAAAAAAAAAAAAAAAAAAAAAAAAAAAAAAAAAAAAAAAAAAAAAAAAAAAAAAAAAAAAAAAAAAAAAAAAAAAAAAAAAAAAAAAAAAAAAAAAAAAAAAAAAAAAAAAAAAAAAAAAAAAAAAAAAAAAAAAAAAAAAAAAAAAAAAAAAAAAAAAAAAAAAAAAAAAAAAAAAAAAAAAAAAAAAAAAAAAAAAAAAAAAAAAAAAAAAAAAAAAAAAAAAAAAAAAAAAAAAAAAAAAAAAAAAAAAAAAAAAAAAAAAAAAAAAAAAAAAAAAAAAAAAAAAAAAAAAAAAAAAAAAAAAAAAAAAAAAAAAAAAAAAAAAAAAAAAAAAAAAAAAAAAAAAAAAAAAAAAAAAAAAAAIRHG0esxc8/qyFxj6UP4D/PMSB7vfvPPwAAAAAAAAAAAAAAAAAAAAAAAAAAAAAAAAAAAAAAAAAAAAAAAAAAAAAAAAAAAAAAAAAAAAAAAAAAAAAAAAAAAAAAAAAAAAAAAAAAAAAAAAAAAAAAAAAAAAAAAAAAAAAAAAAAAAAAAAAAAAAAAAAAAAAAAAAAAAAAAA==\",\"dtype\":\"float64\",\"shape\":[89]}},\"selected\":{\"id\":\"17890\",\"type\":\"Selection\"},\"selection_policy\":{\"id\":\"17889\",\"type\":\"UnionRenderers\"}},\"id\":\"17816\",\"type\":\"ColumnDataSource\"},{\"attributes\":{\"bottom\":{\"value\":0},\"fill_alpha\":{\"value\":0.4},\"fill_color\":{\"value\":\"#ffbb78\"},\"left\":{\"field\":\"left\"},\"line_alpha\":{\"value\":0.4},\"line_color\":{\"value\":\"white\"},\"right\":{\"field\":\"right\"},\"top\":{\"field\":\"top\"}},\"id\":\"17574\",\"type\":\"Quad\"},{\"attributes\":{\"bottom\":{\"value\":0},\"fill_alpha\":{\"value\":0.4},\"fill_color\":{\"value\":\"#e377c2\"},\"left\":{\"field\":\"left\"},\"line_alpha\":{\"value\":0.4},\"line_color\":{\"value\":\"white\"},\"right\":{\"field\":\"right\"},\"top\":{\"field\":\"top\"}},\"id\":\"17817\",\"type\":\"Quad\"},{\"attributes\":{\"bottom\":{\"value\":0},\"fill_alpha\":{\"value\":0.1},\"fill_color\":{\"value\":\"#1f77b4\"},\"left\":{\"field\":\"left\"},\"line_alpha\":{\"value\":0.1},\"line_color\":{\"value\":\"#1f77b4\"},\"right\":{\"field\":\"right\"},\"top\":{\"field\":\"top\"}},\"id\":\"17575\",\"type\":\"Quad\"},{\"attributes\":{\"bottom\":{\"value\":0},\"fill_alpha\":{\"value\":0.1},\"fill_color\":{\"value\":\"#1f77b4\"},\"left\":{\"field\":\"left\"},\"line_alpha\":{\"value\":0.1},\"line_color\":{\"value\":\"#1f77b4\"},\"right\":{\"field\":\"right\"},\"top\":{\"field\":\"top\"}},\"id\":\"17818\",\"type\":\"Quad\"},{\"attributes\":{\"data_source\":{\"id\":\"17573\",\"type\":\"ColumnDataSource\"},\"glyph\":{\"id\":\"17574\",\"type\":\"Quad\"},\"hover_glyph\":null,\"muted_glyph\":null,\"nonselection_glyph\":{\"id\":\"17575\",\"type\":\"Quad\"},\"selection_glyph\":null,\"view\":{\"id\":\"17577\",\"type\":\"CDSView\"}},\"id\":\"17576\",\"type\":\"GlyphRenderer\"},{\"attributes\":{\"data_source\":{\"id\":\"17816\",\"type\":\"ColumnDataSource\"},\"glyph\":{\"id\":\"17817\",\"type\":\"Quad\"},\"hover_glyph\":null,\"muted_glyph\":null,\"nonselection_glyph\":{\"id\":\"17818\",\"type\":\"Quad\"},\"selection_glyph\":null,\"view\":{\"id\":\"17820\",\"type\":\"CDSView\"}},\"id\":\"17819\",\"type\":\"GlyphRenderer\"},{\"attributes\":{\"source\":{\"id\":\"17573\",\"type\":\"ColumnDataSource\"}},\"id\":\"17577\",\"type\":\"CDSView\"},{\"attributes\":{\"source\":{\"id\":\"17816\",\"type\":\"ColumnDataSource\"}},\"id\":\"17820\",\"type\":\"CDSView\"},{\"attributes\":{},\"id\":\"17589\",\"type\":\"UnionRenderers\"},{\"attributes\":{},\"id\":\"17850\",\"type\":\"UnionRenderers\"},{\"attributes\":{},\"id\":\"17590\",\"type\":\"Selection\"},{\"attributes\":{},\"id\":\"17851\",\"type\":\"Selection\"},{\"attributes\":{\"label\":{\"value\":\"Weight = 1e-10\"},\"renderers\":[{\"id\":\"17576\",\"type\":\"GlyphRenderer\"}]},\"id\":\"17591\",\"type\":\"LegendItem\"},{\"attributes\":{\"label\":{\"value\":\"Weight = 0.1\"},\"renderers\":[{\"id\":\"17819\",\"type\":\"GlyphRenderer\"}]},\"id\":\"17852\",\"type\":\"LegendItem\"},{\"attributes\":{\"callback\":null,\"data\":{\"left\":{\"__ndarray__\":\"AAAAAAAAAAC6AUE7DZ1bP7oBQTsNnWs/TMFw7Mm1dD+6AUE7DZ17PxShCEUoQoE/TMFw7Mm1hD+D4diTaymIP7oBQTsNnYs/8SGp4q4Qjz8UoQhFKEKRPzCxvBj5+5I/TMFw7Mm1lD9n0STAmm+WP4Ph2JNrKZg/nvGMZzzjmT+6AUE7DZ2bP9YR9Q7eVp0/8SGp4q4Qnz8GmS7bP2WgPxShCEUoQqE/IqnirhAfoj8wsbwY+fuiPz65loLh2KM/TMFw7Mm1pD9ZyUpWspKlP2fRJMCab6Y/ddn+KYNMpz+D4diTaymoP5Hpsv1TBqk/nvGMZzzjqT+s+WbRJMCqP7oBQTsNnas/yAkbpfV5rD/WEfUO3latP+MZz3jGM64/8SGp4q4Qrz//KYNMl+2vPwaZLts/ZbA/DZ0bELTTsD8UoQhFKEKxPxul9XmcsLE/IqnirhAfsj8prc/jhI2yPzCxvBj5+7I/N7WpTW1qsz8+uZaC4dizP0W9g7dVR7Q/TMFw7Mm1tD9SxV0hPiS1P1nJSlaykrU/YM03iyYBtj9n0STAmm+2P27VEfUO3rY/ddn+KYNMtz983ete97q3P4Ph2JNrKbg/iuXFyN+XuD+R6bL9Uwa5P5ftnzLIdLk/nvGMZzzjuT+l9XmcsFG6P6z5ZtEkwLo/s/1TBpkuuz+6AUE7DZ27P8EFLnCBC7w/yAkbpfV5vD/PDQjaaei8P9YR9Q7eVr0/3RXiQ1LFvT/jGc94xjO+P+odvK06or4/8SGp4q4Qvz/4JZYXI3+/P/8pg0yX7b8/Axe4wAUuwD8GmS7bP2XAPwobpfV5nMA/DZ0bELTTwD8RH5Iq7grBPxShCEUoQsE/GCN/X2J5wT8bpfV5nLDBPx8nbJTW58E/IqnirhAfwj8mK1nJSlbCPymtz+OEjcI/LC9G/r7Ewj8wsbwY+fvCPw==\",\"dtype\":\"float64\",\"shape\":[89]},\"right\":{\"__ndarray__\":\"ugFBOw2dWz+6AUE7DZ1rP0zBcOzJtXQ/ugFBOw2dez8UoQhFKEKBP0zBcOzJtYQ/g+HYk2spiD+6AUE7DZ2LP/EhqeKuEI8/FKEIRShCkT8wsbwY+fuSP0zBcOzJtZQ/Z9EkwJpvlj+D4diTaymYP57xjGc845k/ugFBOw2dmz/WEfUO3ladP/EhqeKuEJ8/Bpku2z9loD8UoQhFKEKhPyKp4q4QH6I/MLG8GPn7oj8+uZaC4dijP0zBcOzJtaQ/WclKVrKSpT9n0STAmm+mP3XZ/imDTKc/g+HYk2spqD+R6bL9UwapP57xjGc846k/rPlm0STAqj+6AUE7DZ2rP8gJG6X1eaw/1hH1Dt5WrT/jGc94xjOuP/EhqeKuEK8//ymDTJftrz8GmS7bP2WwPw2dGxC007A/FKEIRShCsT8bpfV5nLCxPyKp4q4QH7I/Ka3P44SNsj8wsbwY+fuyPze1qU1tarM/PrmWguHYsz9FvYO3VUe0P0zBcOzJtbQ/UsVdIT4ktT9ZyUpWspK1P2DNN4smAbY/Z9EkwJpvtj9u1RH1Dt62P3XZ/imDTLc/fN3rXve6tz+D4diTaym4P4rlxcjfl7g/kemy/VMGuT+X7Z8yyHS5P57xjGc847k/pfV5nLBRuj+s+WbRJMC6P7P9UwaZLrs/ugFBOw2duz/BBS5wgQu8P8gJG6X1ebw/zw0I2mnovD/WEfUO3la9P90V4kNSxb0/4xnPeMYzvj/qHbytOqK+P/EhqeKuEL8/+CWWFyN/vz//KYNMl+2/PwMXuMAFLsA/Bpku2z9lwD8KG6X1eZzAPw2dGxC008A/ER+SKu4KwT8UoQhFKELBPxgjf19iecE/G6X1eZywwT8fJ2yU1ufBPyKp4q4QH8I/JitZyUpWwj8prc/jhI3CPywvRv6+xMI/MLG8GPn7wj8zMzMzMzPDPw==\",\"dtype\":\"float64\",\"shape\":[89]},\"top\":{\"__ndarray__\":\"AAAAAAAAAAAAAAAAAAAAAAAAAAAAAAAAAAAAAAAAAAAAAAAAAAAAAAAAAAAAAAAAAAAAAAAAAAAAAAAAAAAAAAAAAAAAAAAAAAAAAAAAAAAAAAAAAAAAAAAAAAAAAAAAAAAAAAAAAAAAAAAAAAAAAAAAAAAAAAAAAAAAAAAAAAAAAAAAAAAAAAAAAAAAAAAAAAAAAAAAAAAAAAAAAAAAAPFo44i1+OQ+8WjjiLX45D4AAAAAAAAAAAAAAAAAAAAA8WjjiLX45D5pHVVNEHUPP/Fo44i1+AQ/0vvG155ZEj9pHVVNEHUfP2EyVTAqqTM/Tdu/stKkRD+8eapDboZLP/p+arx0k1g/yhXe5SK+Yz8TYcPTK2VpP/3BwHPv4XI/lj50QX3LfD8rhxbZzveDP6KXUSy3tIo/ysNCrWnekT/c14FzRpSWPxyxFp8CYJw/xuHMr+YAoT+2oWKcvwmlPxcOhGQBE6g/p5at9UVCqz+GIAclzLStP4aPiCmRRK8/P+PCgZAssD8iN8MN+PywP3y45LhTOrA/cVXZd0Xwrz99rrZif9mtPyCYo8fvbao/x4Ds9e6Ppz+hoX+CixWlPx7htOBFX6E/q1s9J71vnD/gEKrU7IGWP8bE5uPaUJE/E2HD0ytliT/5Tsx6MZSDP3V2MjhKXn0/VcGopE5Acz8Y7IZtizJrP3L+JhQi4GA/D9b/OcyXVz8Y7IZtizJLP54MjpJX5zg/GhcOhGQBMz+An3HhQEgmP/Fo44i1+CQ/D9b/OcyXFz/xaOOItfjkPvFo44i1+OQ+AAAAAAAAAAAAAAAAAAAAAAAAAAAAAAAAAAAAAAAAAAAAAAAAAAAAAAAAAAAAAAAAAAAAAAAAAAAAAAAAAAAAAAAAAAAAAAAAAAAAAAAAAAAAAAAAAAAAAAAAAAAAAAAAAAAAAAAAAAAAAAAAAAAAAA==\",\"dtype\":\"float64\",\"shape\":[89]}},\"selected\":{\"id\":\"17634\",\"type\":\"Selection\"},\"selection_policy\":{\"id\":\"17633\",\"type\":\"UnionRenderers\"}},\"id\":\"17592\",\"type\":\"ColumnDataSource\"},{\"attributes\":{\"callback\":null,\"data\":{\"left\":{\"__ndarray__\":\"AAAAAAAAAAC6AUE7DZ1bP7oBQTsNnWs/TMFw7Mm1dD+6AUE7DZ17PxShCEUoQoE/TMFw7Mm1hD+D4diTaymIP7oBQTsNnYs/8SGp4q4Qjz8UoQhFKEKRPzCxvBj5+5I/TMFw7Mm1lD9n0STAmm+WP4Ph2JNrKZg/nvGMZzzjmT+6AUE7DZ2bP9YR9Q7eVp0/8SGp4q4Qnz8GmS7bP2WgPxShCEUoQqE/IqnirhAfoj8wsbwY+fuiPz65loLh2KM/TMFw7Mm1pD9ZyUpWspKlP2fRJMCab6Y/ddn+KYNMpz+D4diTaymoP5Hpsv1TBqk/nvGMZzzjqT+s+WbRJMCqP7oBQTsNnas/yAkbpfV5rD/WEfUO3latP+MZz3jGM64/8SGp4q4Qrz//KYNMl+2vPwaZLts/ZbA/DZ0bELTTsD8UoQhFKEKxPxul9XmcsLE/IqnirhAfsj8prc/jhI2yPzCxvBj5+7I/N7WpTW1qsz8+uZaC4dizP0W9g7dVR7Q/TMFw7Mm1tD9SxV0hPiS1P1nJSlaykrU/YM03iyYBtj9n0STAmm+2P27VEfUO3rY/ddn+KYNMtz983ete97q3P4Ph2JNrKbg/iuXFyN+XuD+R6bL9Uwa5P5ftnzLIdLk/nvGMZzzjuT+l9XmcsFG6P6z5ZtEkwLo/s/1TBpkuuz+6AUE7DZ27P8EFLnCBC7w/yAkbpfV5vD/PDQjaaei8P9YR9Q7eVr0/3RXiQ1LFvT/jGc94xjO+P+odvK06or4/8SGp4q4Qvz/4JZYXI3+/P/8pg0yX7b8/Axe4wAUuwD8GmS7bP2XAPwobpfV5nMA/DZ0bELTTwD8RH5Iq7grBPxShCEUoQsE/GCN/X2J5wT8bpfV5nLDBPx8nbJTW58E/IqnirhAfwj8mK1nJSlbCPymtz+OEjcI/LC9G/r7Ewj8wsbwY+fvCPw==\",\"dtype\":\"float64\",\"shape\":[89]},\"right\":{\"__ndarray__\":\"ugFBOw2dWz+6AUE7DZ1rP0zBcOzJtXQ/ugFBOw2dez8UoQhFKEKBP0zBcOzJtYQ/g+HYk2spiD+6AUE7DZ2LP/EhqeKuEI8/FKEIRShCkT8wsbwY+fuSP0zBcOzJtZQ/Z9EkwJpvlj+D4diTaymYP57xjGc845k/ugFBOw2dmz/WEfUO3ladP/EhqeKuEJ8/Bpku2z9loD8UoQhFKEKhPyKp4q4QH6I/MLG8GPn7oj8+uZaC4dijP0zBcOzJtaQ/WclKVrKSpT9n0STAmm+mP3XZ/imDTKc/g+HYk2spqD+R6bL9UwapP57xjGc846k/rPlm0STAqj+6AUE7DZ2rP8gJG6X1eaw/1hH1Dt5WrT/jGc94xjOuP/EhqeKuEK8//ymDTJftrz8GmS7bP2WwPw2dGxC007A/FKEIRShCsT8bpfV5nLCxPyKp4q4QH7I/Ka3P44SNsj8wsbwY+fuyPze1qU1tarM/PrmWguHYsz9FvYO3VUe0P0zBcOzJtbQ/UsVdIT4ktT9ZyUpWspK1P2DNN4smAbY/Z9EkwJpvtj9u1RH1Dt62P3XZ/imDTLc/fN3rXve6tz+D4diTaym4P4rlxcjfl7g/kemy/VMGuT+X7Z8yyHS5P57xjGc847k/pfV5nLBRuj+s+WbRJMC6P7P9UwaZLrs/ugFBOw2duz/BBS5wgQu8P8gJG6X1ebw/zw0I2mnovD/WEfUO3la9P90V4kNSxb0/4xnPeMYzvj/qHbytOqK+P/EhqeKuEL8/+CWWFyN/vz//KYNMl+2/PwMXuMAFLsA/Bpku2z9lwD8KG6X1eZzAPw2dGxC008A/ER+SKu4KwT8UoQhFKELBPxgjf19iecE/G6X1eZywwT8fJ2yU1ufBPyKp4q4QH8I/JitZyUpWwj8prc/jhI3CPywvRv6+xMI/MLG8GPn7wj8zMzMzMzPDPw==\",\"dtype\":\"float64\",\"shape\":[89]},\"top\":{\"__ndarray__\":\"AAAAAAAAAAAAAAAAAAAAAAAAAAAAAAAAAAAAAAAAAAAAAAAAAAAAAAAAAAAAAAAAAAAAAAAAAAAAAAAAAAAAAAAAAAAAAAAAAAAAAAAAAAAAAAAAAAAAAAAAAAAAAAAAAAAAAAAAAAAAAAAAAAAAAAAAAAAAAAAAAAAAAAAAAAAAAAAAAAAAAAAAAAAAAAAAAAAAAAAAAAAAAAAAAAAAAAAAAAAAAAAAAAAAAAAAAAAAAAAAAAAAAAAAAAAAAAAAAAAAAAAAAAAAAAAAAAAAAAAAAAAAAAAAAAAAAAAAAAAAAAAAAAAAAAAAAAAAAAAAAAAAAAAAAAAAAAAAAAAAAAAAAAAAAAAAAAAAAAAAAAAAAAAAAAAAAAAAAAAAAAAAAAAAAAAAAAAAAAAAAAAAAAAAAAAAAAAAAAAAAAAAAAAAAAAAAAAAAAAAAAAAAAAAAAAAAAAAAAAAAAAAAAAAAAAAAAAAAAAAAAAAAAAAAAAAAAAAAAAAAAAAAAAAAAAAAAAAAAAAAAAAAAAAAAAAAAAAAAAAAAAAAAAAAAAAAAAAAAAAAAAAAAAAAAAAAAAAAAAAAAAAAAAAAAAAAAAAAAAAAAAAAAAAAAAAAAAAAAAAAAAAAAAAAAAAAAAAAAAAAAAAAAAAAAAAAAAAAAAAAAAAAAAAAAAAAAAAAAAAAAAAAAAAAAAAAAAAAAAAAAAAAAAAAAAAAAAAAAAAAAAAAAAAAAAAAAAAAAAAAAAAAAAAAAAAAAAAAKH4MeauJdA/fa62Yn/Z3z/iWBe30QDQPwAAAAAAAAAAAAAAAAAAAAAAAAAAAAAAAAAAAAAAAAAAAAAAAAAAAAAAAAAAAAAAAAAAAAAAAAAAAAAAAAAAAAAAAAAAAAAAAAAAAAAAAAAAAAAAAAAAAAAAAAAAAAAAAAAAAAAAAAAAAAAAAAAAAAAAAAAAAAAAAA==\",\"dtype\":\"float64\",\"shape\":[89]}},\"selected\":{\"id\":\"18460\",\"type\":\"Selection\"},\"selection_policy\":{\"id\":\"18459\",\"type\":\"UnionRenderers\"}},\"id\":\"17853\",\"type\":\"ColumnDataSource\"},{\"attributes\":{\"bottom\":{\"value\":0},\"fill_alpha\":{\"value\":0.1},\"fill_color\":{\"value\":\"#1f77b4\"},\"left\":{\"field\":\"left\"},\"line_alpha\":{\"value\":0.1},\"line_color\":{\"value\":\"#1f77b4\"},\"right\":{\"field\":\"right\"},\"top\":{\"field\":\"top\"}},\"id\":\"17855\",\"type\":\"Quad\"},{\"attributes\":{\"bottom\":{\"value\":0},\"fill_alpha\":{\"value\":0.4},\"fill_color\":{\"value\":\"#2ca02c\"},\"left\":{\"field\":\"left\"},\"line_alpha\":{\"value\":0.4},\"line_color\":{\"value\":\"white\"},\"right\":{\"field\":\"right\"},\"top\":{\"field\":\"top\"}},\"id\":\"17593\",\"type\":\"Quad\"},{\"attributes\":{\"bottom\":{\"value\":0},\"fill_alpha\":{\"value\":0.4},\"fill_color\":{\"value\":\"#f7b6d2\"},\"left\":{\"field\":\"left\"},\"line_alpha\":{\"value\":0.4},\"line_color\":{\"value\":\"white\"},\"right\":{\"field\":\"right\"},\"top\":{\"field\":\"top\"}},\"id\":\"17854\",\"type\":\"Quad\"},{\"attributes\":{\"bottom\":{\"value\":0},\"fill_alpha\":{\"value\":0.1},\"fill_color\":{\"value\":\"#1f77b4\"},\"left\":{\"field\":\"left\"},\"line_alpha\":{\"value\":0.1},\"line_color\":{\"value\":\"#1f77b4\"},\"right\":{\"field\":\"right\"},\"top\":{\"field\":\"top\"}},\"id\":\"17594\",\"type\":\"Quad\"}],\"root_ids\":[\"17492\"]},\"title\":\"Bokeh Application\",\"version\":\"1.0.2\"}};\n",
       "  var render_items = [{\"docid\":\"75f11d94-973c-4bc5-b086-e04e83f3573f\",\"roots\":{\"17492\":\"ac8ebb44-48fa-4567-b444-aa8a21f90997\"}}];\n",
       "  root.Bokeh.embed.embed_items_notebook(docs_json, render_items);\n",
       "\n",
       "  }\n",
       "  if (root.Bokeh !== undefined) {\n",
       "    embed_document(root);\n",
       "  } else {\n",
       "    var attempts = 0;\n",
       "    var timer = setInterval(function(root) {\n",
       "      if (root.Bokeh !== undefined) {\n",
       "        embed_document(root);\n",
       "        clearInterval(timer);\n",
       "      }\n",
       "      attempts++;\n",
       "      if (attempts > 100) {\n",
       "        console.log(\"Bokeh: ERROR: Unable to run BokehJS code because BokehJS library is missing\");\n",
       "        clearInterval(timer);\n",
       "      }\n",
       "    }, 10, root)\n",
       "  }\n",
       "})(window);"
      ],
      "application/vnd.bokehjs_exec.v0+json": ""
     },
     "metadata": {
      "application/vnd.bokehjs_exec.v0+json": {
       "id": "17492"
      }
     },
     "output_type": "display_data"
    },
    {
     "data": {
      "text/html": [
       "\n",
       "\n",
       "\n",
       "\n",
       "\n",
       "\n",
       "  <div class=\"bk-root\" id=\"ca371d29-8965-4e2a-8ee3-91d2cbd7cda4\"></div>\n"
      ]
     },
     "metadata": {},
     "output_type": "display_data"
    },
    {
     "data": {
      "application/javascript": [
       "(function(root) {\n",
       "  function embed_document(root) {\n",
       "    \n",
       "  var docs_json = {\"ed71f74f-9e11-4416-b54b-bb46e72559cd\":{\"roots\":{\"references\":[{\"attributes\":{\"below\":[{\"id\":\"18680\",\"type\":\"LogAxis\"}],\"left\":[{\"id\":\"18685\",\"type\":\"LinearAxis\"}],\"renderers\":[{\"id\":\"18680\",\"type\":\"LogAxis\"},{\"id\":\"18684\",\"type\":\"Grid\"},{\"id\":\"18685\",\"type\":\"LinearAxis\"},{\"id\":\"18689\",\"type\":\"Grid\"},{\"id\":\"18698\",\"type\":\"BoxAnnotation\"},{\"id\":\"18708\",\"type\":\"GlyphRenderer\"}],\"title\":{\"id\":\"19280\",\"type\":\"Title\"},\"toolbar\":{\"id\":\"18696\",\"type\":\"Toolbar\"},\"x_range\":{\"id\":\"18672\",\"type\":\"DataRange1d\"},\"x_scale\":{\"id\":\"18676\",\"type\":\"LogScale\"},\"y_range\":{\"id\":\"18674\",\"type\":\"DataRange1d\"},\"y_scale\":{\"id\":\"18678\",\"type\":\"LinearScale\"}},\"id\":\"18671\",\"subtype\":\"Figure\",\"type\":\"Plot\"},{\"attributes\":{\"overlay\":{\"id\":\"18698\",\"type\":\"BoxAnnotation\"}},\"id\":\"18692\",\"type\":\"BoxZoomTool\"},{\"attributes\":{},\"id\":\"19287\",\"type\":\"Selection\"},{\"attributes\":{},\"id\":\"18694\",\"type\":\"ResetTool\"},{\"attributes\":{},\"id\":\"18693\",\"type\":\"SaveTool\"},{\"attributes\":{},\"id\":\"18695\",\"type\":\"HelpTool\"},{\"attributes\":{\"bottom_units\":\"screen\",\"fill_alpha\":{\"value\":0.5},\"fill_color\":{\"value\":\"lightgrey\"},\"left_units\":\"screen\",\"level\":\"overlay\",\"line_alpha\":{\"value\":1.0},\"line_color\":{\"value\":\"black\"},\"line_dash\":[4,4],\"line_width\":{\"value\":2},\"plot\":null,\"render_mode\":\"css\",\"right_units\":\"screen\",\"top_units\":\"screen\"},\"id\":\"18698\",\"type\":\"BoxAnnotation\"},{\"attributes\":{\"callback\":null,\"data\":{\"x\":{\"__ndarray__\":\"AAAAAAAAAAAR6i2BmZdxPZVkeeF//aU9u73X2d982z2V1iboCy4RPjqMMOKOeUU+SK+8mvLXej6N7bWg98awPvFo44i1+OQ+LUMc6+I2Gj/8qfHSTWJQP3sUrkfheoQ/mpmZmZmZuT8AAAAAAADwPw==\",\"dtype\":\"float64\",\"shape\":[14]},\"y\":{\"__ndarray__\":\"AAAAAACgg0AAAAAAAKCDQAAAAAAAoINAAAAAAACgg0AAAAAAAKCDQAAAAAAAoINAAAAAAACgg0AAAAAAAKCDQAAAAAAAYIFAAAAAAADgZEAAAAAAAABBQAAAAAAAAChAAAAAAAAAJEAAAAAAAAAkQA==\",\"dtype\":\"float64\",\"shape\":[14]}},\"selected\":{\"id\":\"19287\",\"type\":\"Selection\"},\"selection_policy\":{\"id\":\"19286\",\"type\":\"UnionRenderers\"}},\"id\":\"18705\",\"type\":\"ColumnDataSource\"},{\"attributes\":{\"data_source\":{\"id\":\"18705\",\"type\":\"ColumnDataSource\"},\"glyph\":{\"id\":\"18706\",\"type\":\"Line\"},\"hover_glyph\":null,\"muted_glyph\":null,\"nonselection_glyph\":{\"id\":\"18707\",\"type\":\"Line\"},\"selection_glyph\":null,\"view\":{\"id\":\"18709\",\"type\":\"CDSView\"}},\"id\":\"18708\",\"type\":\"GlyphRenderer\"},{\"attributes\":{\"axis_label\":\"# Pairs\",\"axis_label_text_font_size\":{\"value\":\"16pt\"},\"formatter\":{\"id\":\"19284\",\"type\":\"BasicTickFormatter\"},\"major_label_text_font_size\":{\"value\":\"16pt\"},\"plot\":{\"id\":\"18671\",\"subtype\":\"Figure\",\"type\":\"Plot\"},\"ticker\":{\"id\":\"18686\",\"type\":\"BasicTicker\"}},\"id\":\"18685\",\"type\":\"LinearAxis\"},{\"attributes\":{},\"id\":\"18686\",\"type\":\"BasicTicker\"},{\"attributes\":{\"line_alpha\":0.1,\"line_color\":\"#1f77b4\",\"line_width\":3,\"x\":{\"field\":\"x\"},\"y\":{\"field\":\"y\"}},\"id\":\"18707\",\"type\":\"Line\"},{\"attributes\":{\"plot\":{\"id\":\"18671\",\"subtype\":\"Figure\",\"type\":\"Plot\"},\"ticker\":{\"id\":\"18681\",\"type\":\"LogTicker\"}},\"id\":\"18684\",\"type\":\"Grid\"},{\"attributes\":{\"axis_label\":\"Weight\",\"axis_label_text_font_size\":{\"value\":\"16pt\"},\"formatter\":{\"id\":\"19282\",\"type\":\"LogTickFormatter\"},\"major_label_text_font_size\":{\"value\":\"16pt\"},\"plot\":{\"id\":\"18671\",\"subtype\":\"Figure\",\"type\":\"Plot\"},\"ticker\":{\"id\":\"18681\",\"type\":\"LogTicker\"}},\"id\":\"18680\",\"type\":\"LogAxis\"},{\"attributes\":{\"source\":{\"id\":\"18705\",\"type\":\"ColumnDataSource\"}},\"id\":\"18709\",\"type\":\"CDSView\"},{\"attributes\":{\"num_minor_ticks\":10},\"id\":\"18681\",\"type\":\"LogTicker\"},{\"attributes\":{},\"id\":\"18678\",\"type\":\"LinearScale\"},{\"attributes\":{\"ticker\":null},\"id\":\"19282\",\"type\":\"LogTickFormatter\"},{\"attributes\":{\"line_color\":\"#1f77b4\",\"line_width\":3,\"x\":{\"field\":\"x\"},\"y\":{\"field\":\"y\"}},\"id\":\"18706\",\"type\":\"Line\"},{\"attributes\":{},\"id\":\"19284\",\"type\":\"BasicTickFormatter\"},{\"attributes\":{\"dimension\":1,\"plot\":{\"id\":\"18671\",\"subtype\":\"Figure\",\"type\":\"Plot\"},\"ticker\":{\"id\":\"18686\",\"type\":\"BasicTicker\"}},\"id\":\"18689\",\"type\":\"Grid\"},{\"attributes\":{},\"id\":\"18690\",\"type\":\"PanTool\"},{\"attributes\":{},\"id\":\"18676\",\"type\":\"LogScale\"},{\"attributes\":{\"callback\":null},\"id\":\"18672\",\"type\":\"DataRange1d\"},{\"attributes\":{\"plot\":null,\"text\":\"\",\"text_font_size\":{\"value\":\"16pt\"}},\"id\":\"19280\",\"type\":\"Title\"},{\"attributes\":{},\"id\":\"19286\",\"type\":\"UnionRenderers\"},{\"attributes\":{},\"id\":\"18691\",\"type\":\"WheelZoomTool\"},{\"attributes\":{\"callback\":null},\"id\":\"18674\",\"type\":\"DataRange1d\"},{\"attributes\":{\"active_drag\":\"auto\",\"active_inspect\":\"auto\",\"active_multi\":null,\"active_scroll\":\"auto\",\"active_tap\":\"auto\",\"tools\":[{\"id\":\"18690\",\"type\":\"PanTool\"},{\"id\":\"18691\",\"type\":\"WheelZoomTool\"},{\"id\":\"18692\",\"type\":\"BoxZoomTool\"},{\"id\":\"18693\",\"type\":\"SaveTool\"},{\"id\":\"18694\",\"type\":\"ResetTool\"},{\"id\":\"18695\",\"type\":\"HelpTool\"}]},\"id\":\"18696\",\"type\":\"Toolbar\"}],\"root_ids\":[\"18671\"]},\"title\":\"Bokeh Application\",\"version\":\"1.0.2\"}};\n",
       "  var render_items = [{\"docid\":\"ed71f74f-9e11-4416-b54b-bb46e72559cd\",\"roots\":{\"18671\":\"ca371d29-8965-4e2a-8ee3-91d2cbd7cda4\"}}];\n",
       "  root.Bokeh.embed.embed_items_notebook(docs_json, render_items);\n",
       "\n",
       "  }\n",
       "  if (root.Bokeh !== undefined) {\n",
       "    embed_document(root);\n",
       "  } else {\n",
       "    var attempts = 0;\n",
       "    var timer = setInterval(function(root) {\n",
       "      if (root.Bokeh !== undefined) {\n",
       "        embed_document(root);\n",
       "        clearInterval(timer);\n",
       "      }\n",
       "      attempts++;\n",
       "      if (attempts > 100) {\n",
       "        console.log(\"Bokeh: ERROR: Unable to run BokehJS code because BokehJS library is missing\");\n",
       "        clearInterval(timer);\n",
       "      }\n",
       "    }, 10, root)\n",
       "  }\n",
       "})(window);"
      ],
      "application/vnd.bokehjs_exec.v0+json": ""
     },
     "metadata": {
      "application/vnd.bokehjs_exec.v0+json": {
       "id": "18671"
      }
     },
     "output_type": "display_data"
    }
   ],
   "source": [
    "fig = bkp.figure(x_range =(0, .15), x_axis_label='Statistic Value', y_axis_label='Density')\n",
    "vline = Span(location=S, dimension='height', line_color='black', line_width=3)\n",
    "fig.renderers.append(vline)\n",
    "\n",
    "for n in range(weights.shape[0]):\n",
    "    hist, edges = np.histogram(S_vals[n,:], bins=np.linspace(0, 0.15, 90))\n",
    "    fig.quad(top=hist/N_samples, bottom=0, left=edges[:-1], right=edges[1:],\n",
    "               fill_color=bkpal.Category20[20][n], line_color=\"white\", alpha=0.4, legend='Weight = ' + str(weights[n]))\n",
    "bkp.show(fig)\n",
    "\n",
    "fig = bkp.figure(x_axis_label='Weight', y_axis_label='# Pairs', x_axis_type='log')\n",
    "fig.line(weights, n_pairs, line_width=3)\n",
    "bkp.show(fig)"
   ]
  },
  {
   "cell_type": "code",
   "execution_count": 70,
   "metadata": {},
   "outputs": [
    {
     "name": "stdout",
     "output_type": "stream",
     "text": [
      "[0.07331641 0.08261997 0.08266431 0.08266865 0.08268607 0.11575285\n",
      " 0.12167969 0.12339066 0.12253048]\n"
     ]
    }
   ],
   "source": [
    "print(S_vals.mean(axis=1))"
   ]
  },
  {
   "cell_type": "code",
   "execution_count": 85,
   "metadata": {},
   "outputs": [
    {
     "name": "stdout",
     "output_type": "stream",
     "text": [
      "[628. 628. 628. 628. 556. 167.  34.  12.  10.  10.]\n"
     ]
    }
   ],
   "source": [
    "print(n_pairs)"
   ]
  },
  {
   "cell_type": "markdown",
   "metadata": {},
   "source": [
    "### Run the test"
   ]
  },
  {
   "cell_type": "code",
   "execution_count": null,
   "metadata": {},
   "outputs": [],
   "source": [
    "localexch.test(X, Y, test_stat, group_sampler, premetric, n_samples)"
   ]
  },
  {
   "cell_type": "markdown",
   "metadata": {},
   "source": [
    "### Visualization"
   ]
  },
  {
   "cell_type": "markdown",
   "metadata": {},
   "source": [
    "# Data Visualization"
   ]
  },
  {
   "cell_type": "code",
   "execution_count": 108,
   "metadata": {
    "scrolled": false
   },
   "outputs": [
    {
     "name": "stdout",
     "output_type": "stream",
     "text": [
      "Passenger Car           5051\n",
      "Sport Utility           1623\n",
      "Pickup                  1271\n",
      "Truck                    261\n",
      "Van                      466\n",
      "Motorcycle                50\n",
      "Bus                       50\n",
      "Emergency                 50\n",
      "Tractor/Semi-Trailer      24\n",
      "Taxicab                   17\n",
      "Moped                      6\n",
      "Name: DrvrVehTyp, dtype: int64\n"
     ]
    },
    {
     "data": {
      "text/html": [
       "\n",
       "\n",
       "\n",
       "\n",
       "\n",
       "\n",
       "  <div class=\"bk-root\" id=\"038113c6-f6f5-4a80-8e82-7155f8003dab\"></div>\n"
      ]
     },
     "metadata": {},
     "output_type": "display_data"
    },
    {
     "data": {
      "application/javascript": [
       "(function(root) {\n",
       "  function embed_document(root) {\n",
       "    \n",
       "  var docs_json = {\"80869870-30ad-4599-ace6-893e61456127\":{\"roots\":{\"references\":[{\"attributes\":{\"below\":[{\"id\":\"21000\",\"type\":\"LinearAxis\"}],\"left\":[{\"id\":\"21005\",\"type\":\"CategoricalAxis\"}],\"plot_height\":400,\"plot_width\":800,\"renderers\":[{\"id\":\"21000\",\"type\":\"LinearAxis\"},{\"id\":\"21004\",\"type\":\"Grid\"},{\"id\":\"21005\",\"type\":\"CategoricalAxis\"},{\"id\":\"21008\",\"type\":\"Grid\"},{\"id\":\"21017\",\"type\":\"BoxAnnotation\"},{\"id\":\"21027\",\"type\":\"GlyphRenderer\"},{\"id\":\"21032\",\"type\":\"GlyphRenderer\"},{\"id\":\"21037\",\"type\":\"GlyphRenderer\"},{\"id\":\"21042\",\"type\":\"GlyphRenderer\"}],\"title\":{\"id\":\"21669\",\"type\":\"Title\"},\"toolbar\":{\"id\":\"21015\",\"type\":\"Toolbar\"},\"x_range\":{\"id\":\"20992\",\"type\":\"DataRange1d\"},\"x_scale\":{\"id\":\"20996\",\"type\":\"LinearScale\"},\"y_range\":{\"id\":\"20994\",\"type\":\"FactorRange\"},\"y_scale\":{\"id\":\"20998\",\"type\":\"CategoricalScale\"}},\"id\":\"20991\",\"subtype\":\"Figure\",\"type\":\"Plot\"},{\"attributes\":{\"axis_label\":\"Fraction\",\"axis_label_text_font_size\":{\"value\":\"16pt\"},\"formatter\":{\"id\":\"21671\",\"type\":\"BasicTickFormatter\"},\"major_label_text_font_size\":{\"value\":\"16pt\"},\"plot\":{\"id\":\"20991\",\"subtype\":\"Figure\",\"type\":\"Plot\"},\"ticker\":{\"id\":\"21001\",\"type\":\"BasicTicker\"}},\"id\":\"21000\",\"type\":\"LinearAxis\"},{\"attributes\":{\"fill_alpha\":{\"value\":0.3},\"fill_color\":{\"value\":\"#1f77b4\"},\"height\":{\"value\":0.7},\"left\":{\"field\":\"left\"},\"line_width\":{\"value\":0.5},\"right\":{\"field\":\"right\"},\"y\":{\"field\":\"y\"}},\"id\":\"21025\",\"type\":\"HBar\"},{\"attributes\":{},\"id\":\"21675\",\"type\":\"UnionRenderers\"},{\"attributes\":{},\"id\":\"21001\",\"type\":\"BasicTicker\"},{\"attributes\":{\"data_source\":{\"id\":\"21039\",\"type\":\"ColumnDataSource\"},\"glyph\":{\"id\":\"21040\",\"type\":\"HBar\"},\"hover_glyph\":null,\"muted_glyph\":null,\"nonselection_glyph\":{\"id\":\"21041\",\"type\":\"HBar\"},\"selection_glyph\":null,\"view\":{\"id\":\"21043\",\"type\":\"CDSView\"}},\"id\":\"21042\",\"type\":\"GlyphRenderer\"},{\"attributes\":{\"source\":{\"id\":\"21039\",\"type\":\"ColumnDataSource\"}},\"id\":\"21043\",\"type\":\"CDSView\"},{\"attributes\":{\"plot\":{\"id\":\"20991\",\"subtype\":\"Figure\",\"type\":\"Plot\"},\"ticker\":{\"id\":\"21001\",\"type\":\"BasicTicker\"}},\"id\":\"21004\",\"type\":\"Grid\"},{\"attributes\":{},\"id\":\"21671\",\"type\":\"BasicTickFormatter\"},{\"attributes\":{\"axis_label_text_font_size\":{\"value\":\"16pt\"},\"formatter\":{\"id\":\"21673\",\"type\":\"CategoricalTickFormatter\"},\"major_label_text_font_size\":{\"value\":\"16pt\"},\"plot\":{\"id\":\"20991\",\"subtype\":\"Figure\",\"type\":\"Plot\"},\"ticker\":{\"id\":\"21006\",\"type\":\"CategoricalTicker\"}},\"id\":\"21005\",\"type\":\"CategoricalAxis\"},{\"attributes\":{\"fill_alpha\":{\"value\":0.3},\"fill_color\":{\"value\":\"#ff7f0e\"},\"height\":{\"value\":0.7},\"left\":{\"field\":\"left\"},\"line_width\":{\"value\":0.5},\"right\":{\"field\":\"right\"},\"y\":{\"field\":\"y\"}},\"id\":\"21035\",\"type\":\"HBar\"},{\"attributes\":{\"fill_alpha\":{\"value\":0.1},\"fill_color\":{\"value\":\"#1f77b4\"},\"height\":{\"value\":0.7},\"left\":{\"field\":\"left\"},\"line_alpha\":{\"value\":0.1},\"line_color\":{\"value\":\"#1f77b4\"},\"line_width\":{\"value\":0.5},\"right\":{\"field\":\"right\"},\"y\":{\"field\":\"y\"}},\"id\":\"21026\",\"type\":\"HBar\"},{\"attributes\":{},\"id\":\"21680\",\"type\":\"Selection\"},{\"attributes\":{},\"id\":\"21006\",\"type\":\"CategoricalTicker\"},{\"attributes\":{},\"id\":\"21677\",\"type\":\"UnionRenderers\"},{\"attributes\":{},\"id\":\"21679\",\"type\":\"UnionRenderers\"},{\"attributes\":{\"callback\":null,\"data\":{\"left\":{\"__ndarray__\":\"AAAAAAAAAAAAAAAAAAAAAAAAAAAAAAAAAAAAAAAAAAAAAAAAAAAAAAAAAAAAAAAAAAAAAAAAAAAAAAAAAAAAAAAAAAAAAAAAAAAAAAAAAAAAAAAAAAAAAA==\",\"dtype\":\"float64\",\"shape\":[11]},\"right\":{\"__ndarray__\":\"aR54WiXt6z+/XGyXwL3rPxWaVaFZFeo/PVpUIvma6j/jCd9tPOHrPxSuR+F6FO4/cT0K16Nw7T+F61G4HoXrPwAAAAAAAOg/PDw8PDw87D8AAAAAAADwPw==\",\"dtype\":\"float64\",\"shape\":[11]},\"y\":[\"Passenger Car\",\"Sport Utility\",\"Pickup\",\"Truck\",\"Van\",\"Motorcycle\",\"Bus\",\"Emergency\",\"Tractor/Semi-Trailer\",\"Taxicab\",\"Moped\"]},\"selected\":{\"id\":\"21676\",\"type\":\"Selection\"},\"selection_policy\":{\"id\":\"21675\",\"type\":\"UnionRenderers\"}},\"id\":\"21024\",\"type\":\"ColumnDataSource\"},{\"attributes\":{},\"id\":\"21681\",\"type\":\"UnionRenderers\"},{\"attributes\":{\"dimension\":1,\"plot\":{\"id\":\"20991\",\"subtype\":\"Figure\",\"type\":\"Plot\"},\"ticker\":{\"id\":\"21006\",\"type\":\"CategoricalTicker\"}},\"id\":\"21008\",\"type\":\"Grid\"},{\"attributes\":{\"callback\":null,\"data\":{\"left\":{\"__ndarray__\":\"K15aC2C77T+0uzZj7XntP3NcM8c1c+w/ZYUY+wAz7D86k2pHZ1LtP1yPwvUoXO8/cT0K16Nw7T8AAAAAAADwPwAAAAAAAOg/Hh4eHh4e7j8AAAAAAADwPw==\",\"dtype\":\"float64\",\"shape\":[11]},\"right\":{\"__ndarray__\":\"3MxC7jmL7z9DaA3N9JDvP39/8fcXf+8/JF9T75zg7z+OJ3y38YTvPwAAAAAAAPA/XI/C9Shc7z8AAAAAAADwPwAAAAAAAPA/Hh4eHh4e7j8AAAAAAADwPw==\",\"dtype\":\"float64\",\"shape\":[11]},\"y\":[\"Passenger Car\",\"Sport Utility\",\"Pickup\",\"Truck\",\"Van\",\"Motorcycle\",\"Bus\",\"Emergency\",\"Tractor/Semi-Trailer\",\"Taxicab\",\"Moped\"]},\"selected\":{\"id\":\"21680\",\"type\":\"Selection\"},\"selection_policy\":{\"id\":\"21679\",\"type\":\"UnionRenderers\"}},\"id\":\"21034\",\"type\":\"ColumnDataSource\"},{\"attributes\":{},\"id\":\"21682\",\"type\":\"Selection\"},{\"attributes\":{\"data_source\":{\"id\":\"21024\",\"type\":\"ColumnDataSource\"},\"glyph\":{\"id\":\"21025\",\"type\":\"HBar\"},\"hover_glyph\":null,\"muted_glyph\":null,\"nonselection_glyph\":{\"id\":\"21026\",\"type\":\"HBar\"},\"selection_glyph\":null,\"view\":{\"id\":\"21028\",\"type\":\"CDSView\"}},\"id\":\"21027\",\"type\":\"GlyphRenderer\"},{\"attributes\":{\"fill_alpha\":{\"value\":0.1},\"fill_color\":{\"value\":\"#1f77b4\"},\"height\":{\"value\":0.7},\"left\":{\"field\":\"left\"},\"line_alpha\":{\"value\":0.1},\"line_color\":{\"value\":\"#1f77b4\"},\"line_width\":{\"value\":0.5},\"right\":{\"field\":\"right\"},\"y\":{\"field\":\"y\"}},\"id\":\"21036\",\"type\":\"HBar\"},{\"attributes\":{\"source\":{\"id\":\"21024\",\"type\":\"ColumnDataSource\"}},\"id\":\"21028\",\"type\":\"CDSView\"},{\"attributes\":{\"data_source\":{\"id\":\"21034\",\"type\":\"ColumnDataSource\"},\"glyph\":{\"id\":\"21035\",\"type\":\"HBar\"},\"hover_glyph\":null,\"muted_glyph\":null,\"nonselection_glyph\":{\"id\":\"21036\",\"type\":\"HBar\"},\"selection_glyph\":null,\"view\":{\"id\":\"21038\",\"type\":\"CDSView\"}},\"id\":\"21037\",\"type\":\"GlyphRenderer\"},{\"attributes\":{\"active_drag\":\"auto\",\"active_inspect\":\"auto\",\"active_multi\":null,\"active_scroll\":\"auto\",\"active_tap\":\"auto\",\"tools\":[{\"id\":\"21009\",\"type\":\"PanTool\"},{\"id\":\"21010\",\"type\":\"WheelZoomTool\"},{\"id\":\"21011\",\"type\":\"BoxZoomTool\"},{\"id\":\"21012\",\"type\":\"SaveTool\"},{\"id\":\"21013\",\"type\":\"ResetTool\"},{\"id\":\"21014\",\"type\":\"HelpTool\"}]},\"id\":\"21015\",\"type\":\"Toolbar\"},{\"attributes\":{},\"id\":\"20998\",\"type\":\"CategoricalScale\"},{\"attributes\":{},\"id\":\"21009\",\"type\":\"PanTool\"},{\"attributes\":{},\"id\":\"21676\",\"type\":\"Selection\"},{\"attributes\":{},\"id\":\"21010\",\"type\":\"WheelZoomTool\"},{\"attributes\":{\"overlay\":{\"id\":\"21017\",\"type\":\"BoxAnnotation\"}},\"id\":\"21011\",\"type\":\"BoxZoomTool\"},{\"attributes\":{\"fill_alpha\":{\"value\":0.7},\"fill_color\":{\"value\":\"#ff7f0e\"},\"height\":{\"value\":0.7},\"left\":{\"field\":\"left\"},\"line_width\":{\"value\":0.5},\"right\":{\"field\":\"right\"},\"y\":{\"field\":\"y\"}},\"id\":\"21040\",\"type\":\"HBar\"},{\"attributes\":{\"source\":{\"id\":\"21034\",\"type\":\"ColumnDataSource\"}},\"id\":\"21038\",\"type\":\"CDSView\"},{\"attributes\":{},\"id\":\"21012\",\"type\":\"SaveTool\"},{\"attributes\":{\"fill_alpha\":{\"value\":0.7},\"fill_color\":{\"value\":\"#1f77b4\"},\"height\":{\"value\":0.7},\"left\":{\"field\":\"left\"},\"line_width\":{\"value\":0.5},\"right\":{\"field\":\"right\"},\"y\":{\"field\":\"y\"}},\"id\":\"21030\",\"type\":\"HBar\"},{\"attributes\":{},\"id\":\"21013\",\"type\":\"ResetTool\"},{\"attributes\":{},\"id\":\"21678\",\"type\":\"Selection\"},{\"attributes\":{\"plot\":null,\"text\":\"\",\"text_font_size\":{\"value\":\"16pt\"}},\"id\":\"21669\",\"type\":\"Title\"},{\"attributes\":{\"source\":{\"id\":\"21029\",\"type\":\"ColumnDataSource\"}},\"id\":\"21033\",\"type\":\"CDSView\"},{\"attributes\":{\"bottom_units\":\"screen\",\"fill_alpha\":{\"value\":0.5},\"fill_color\":{\"value\":\"lightgrey\"},\"left_units\":\"screen\",\"level\":\"overlay\",\"line_alpha\":{\"value\":1.0},\"line_color\":{\"value\":\"black\"},\"line_dash\":[4,4],\"line_width\":{\"value\":2},\"plot\":null,\"render_mode\":\"css\",\"right_units\":\"screen\",\"top_units\":\"screen\"},\"id\":\"21017\",\"type\":\"BoxAnnotation\"},{\"attributes\":{},\"id\":\"21014\",\"type\":\"HelpTool\"},{\"attributes\":{\"callback\":null,\"data\":{\"left\":{\"__ndarray__\":\"3MxC7jmL7z9DaA3N9JDvP39/8fcXf+8/JF9T75zg7z+OJ3y38YTvPwAAAAAAAPA/XI/C9Shc7z8AAAAAAADwPwAAAAAAAPA/Hh4eHh4e7j8AAAAAAADwPw==\",\"dtype\":\"float64\",\"shape\":[11]},\"right\":{\"__ndarray__\":\"AAAAAAAA8D8AAAAAAADwPwAAAAAAAPA/AAAAAAAA8D8AAAAAAADwPwAAAAAAAPA/AAAAAAAA8D8AAAAAAADwPwAAAAAAAPA/AAAAAAAA8D8AAAAAAADwPw==\",\"dtype\":\"float64\",\"shape\":[11]},\"y\":[\"Passenger Car\",\"Sport Utility\",\"Pickup\",\"Truck\",\"Van\",\"Motorcycle\",\"Bus\",\"Emergency\",\"Tractor/Semi-Trailer\",\"Taxicab\",\"Moped\"]},\"selected\":{\"id\":\"21682\",\"type\":\"Selection\"},\"selection_policy\":{\"id\":\"21681\",\"type\":\"UnionRenderers\"}},\"id\":\"21039\",\"type\":\"ColumnDataSource\"},{\"attributes\":{\"callback\":null},\"id\":\"20992\",\"type\":\"DataRange1d\"},{\"attributes\":{\"callback\":null,\"factors\":[\"Passenger Car\",\"Sport Utility\",\"Pickup\",\"Truck\",\"Van\",\"Motorcycle\",\"Bus\",\"Emergency\",\"Tractor/Semi-Trailer\",\"Taxicab\",\"Moped\"]},\"id\":\"20994\",\"type\":\"FactorRange\"},{\"attributes\":{\"callback\":null,\"data\":{\"left\":{\"__ndarray__\":\"aR54WiXt6z+/XGyXwL3rPxWaVaFZFeo/PVpUIvma6j/jCd9tPOHrPxSuR+F6FO4/cT0K16Nw7T+F61G4HoXrPwAAAAAAAOg/PDw8PDw87D8AAAAAAADwPw==\",\"dtype\":\"float64\",\"shape\":[11]},\"right\":{\"__ndarray__\":\"K15aC2C77T+0uzZj7XntP3NcM8c1c+w/ZYUY+wAz7D86k2pHZ1LtP1yPwvUoXO8/cT0K16Nw7T8AAAAAAADwPwAAAAAAAOg/Hh4eHh4e7j8AAAAAAADwPw==\",\"dtype\":\"float64\",\"shape\":[11]},\"y\":[\"Passenger Car\",\"Sport Utility\",\"Pickup\",\"Truck\",\"Van\",\"Motorcycle\",\"Bus\",\"Emergency\",\"Tractor/Semi-Trailer\",\"Taxicab\",\"Moped\"]},\"selected\":{\"id\":\"21678\",\"type\":\"Selection\"},\"selection_policy\":{\"id\":\"21677\",\"type\":\"UnionRenderers\"}},\"id\":\"21029\",\"type\":\"ColumnDataSource\"},{\"attributes\":{\"fill_alpha\":{\"value\":0.1},\"fill_color\":{\"value\":\"#1f77b4\"},\"height\":{\"value\":0.7},\"left\":{\"field\":\"left\"},\"line_alpha\":{\"value\":0.1},\"line_color\":{\"value\":\"#1f77b4\"},\"line_width\":{\"value\":0.5},\"right\":{\"field\":\"right\"},\"y\":{\"field\":\"y\"}},\"id\":\"21041\",\"type\":\"HBar\"},{\"attributes\":{},\"id\":\"20996\",\"type\":\"LinearScale\"},{\"attributes\":{\"fill_alpha\":{\"value\":0.1},\"fill_color\":{\"value\":\"#1f77b4\"},\"height\":{\"value\":0.7},\"left\":{\"field\":\"left\"},\"line_alpha\":{\"value\":0.1},\"line_color\":{\"value\":\"#1f77b4\"},\"line_width\":{\"value\":0.5},\"right\":{\"field\":\"right\"},\"y\":{\"field\":\"y\"}},\"id\":\"21031\",\"type\":\"HBar\"},{\"attributes\":{},\"id\":\"21673\",\"type\":\"CategoricalTickFormatter\"},{\"attributes\":{\"data_source\":{\"id\":\"21029\",\"type\":\"ColumnDataSource\"},\"glyph\":{\"id\":\"21030\",\"type\":\"HBar\"},\"hover_glyph\":null,\"muted_glyph\":null,\"nonselection_glyph\":{\"id\":\"21031\",\"type\":\"HBar\"},\"selection_glyph\":null,\"view\":{\"id\":\"21033\",\"type\":\"CDSView\"}},\"id\":\"21032\",\"type\":\"GlyphRenderer\"}],\"root_ids\":[\"20991\"]},\"title\":\"Bokeh Application\",\"version\":\"1.0.2\"}};\n",
       "  var render_items = [{\"docid\":\"80869870-30ad-4599-ace6-893e61456127\",\"roots\":{\"20991\":\"038113c6-f6f5-4a80-8e82-7155f8003dab\"}}];\n",
       "  root.Bokeh.embed.embed_items_notebook(docs_json, render_items);\n",
       "\n",
       "  }\n",
       "  if (root.Bokeh !== undefined) {\n",
       "    embed_document(root);\n",
       "  } else {\n",
       "    var attempts = 0;\n",
       "    var timer = setInterval(function(root) {\n",
       "      if (root.Bokeh !== undefined) {\n",
       "        embed_document(root);\n",
       "        clearInterval(timer);\n",
       "      }\n",
       "      attempts++;\n",
       "      if (attempts > 100) {\n",
       "        console.log(\"Bokeh: ERROR: Unable to run BokehJS code because BokehJS library is missing\");\n",
       "        clearInterval(timer);\n",
       "      }\n",
       "    }, 10, root)\n",
       "  }\n",
       "})(window);"
      ],
      "application/vnd.bokehjs_exec.v0+json": ""
     },
     "metadata": {
      "application/vnd.bokehjs_exec.v0+json": {
       "id": "20991"
      }
     },
     "output_type": "display_data"
    },
    {
     "name": "stderr",
     "output_type": "stream",
     "text": [
      "/home/trevor/.local/lib/python3.6/site-packages/pandas/core/series.py:1139: FutureWarning: \n",
      "Passing list-likes to .loc or [] with any missing label will raise\n",
      "KeyError in the future, you can use .reindex() as an alternative.\n",
      "\n",
      "See the documentation here:\n",
      "https://pandas.pydata.org/pandas-docs/stable/user_guide/indexing.html#deprecate-loc-reindex-listlike\n",
      "  return self.loc[key]\n"
     ]
    },
    {
     "data": {
      "text/html": [
       "\n",
       "\n",
       "\n",
       "\n",
       "\n",
       "\n",
       "  <div class=\"bk-root\" id=\"49dd25bd-4abd-42dd-afe2-e4a56b1028f1\"></div>\n"
      ]
     },
     "metadata": {},
     "output_type": "display_data"
    },
    {
     "data": {
      "application/javascript": [
       "(function(root) {\n",
       "  function embed_document(root) {\n",
       "    \n",
       "  var docs_json = {\"8f2a7fcd-f738-44f6-a4a3-e55958ad3087\":{\"roots\":{\"references\":[{\"attributes\":{\"below\":[{\"id\":\"21782\",\"type\":\"LinearAxis\"}],\"left\":[{\"id\":\"21787\",\"type\":\"CategoricalAxis\"}],\"plot_height\":250,\"renderers\":[{\"id\":\"21782\",\"type\":\"LinearAxis\"},{\"id\":\"21786\",\"type\":\"Grid\"},{\"id\":\"21787\",\"type\":\"CategoricalAxis\"},{\"id\":\"21790\",\"type\":\"Grid\"},{\"id\":\"21799\",\"type\":\"BoxAnnotation\"},{\"id\":\"21809\",\"type\":\"GlyphRenderer\"},{\"id\":\"21814\",\"type\":\"GlyphRenderer\"},{\"id\":\"21819\",\"type\":\"GlyphRenderer\"},{\"id\":\"21824\",\"type\":\"GlyphRenderer\"}],\"title\":{\"id\":\"22466\",\"type\":\"Title\"},\"toolbar\":{\"id\":\"21797\",\"type\":\"Toolbar\"},\"x_range\":{\"id\":\"21774\",\"type\":\"DataRange1d\"},\"x_scale\":{\"id\":\"21778\",\"type\":\"LinearScale\"},\"y_range\":{\"id\":\"21776\",\"type\":\"FactorRange\"},\"y_scale\":{\"id\":\"21780\",\"type\":\"CategoricalScale\"}},\"id\":\"21773\",\"subtype\":\"Figure\",\"type\":\"Plot\"},{\"attributes\":{},\"id\":\"21780\",\"type\":\"CategoricalScale\"},{\"attributes\":{\"source\":{\"id\":\"21811\",\"type\":\"ColumnDataSource\"}},\"id\":\"21815\",\"type\":\"CDSView\"},{\"attributes\":{},\"id\":\"22468\",\"type\":\"BasicTickFormatter\"},{\"attributes\":{\"axis_label\":\"Fraction\",\"axis_label_text_font_size\":{\"value\":\"16pt\"},\"formatter\":{\"id\":\"22468\",\"type\":\"BasicTickFormatter\"},\"major_label_text_font_size\":{\"value\":\"16pt\"},\"plot\":{\"id\":\"21773\",\"subtype\":\"Figure\",\"type\":\"Plot\"},\"ticker\":{\"id\":\"21783\",\"type\":\"BasicTicker\"}},\"id\":\"21782\",\"type\":\"LinearAxis\"},{\"attributes\":{},\"id\":\"22470\",\"type\":\"CategoricalTickFormatter\"},{\"attributes\":{\"fill_alpha\":{\"value\":0.3},\"fill_color\":{\"value\":\"#1f77b4\"},\"height\":{\"value\":0.7},\"left\":{\"field\":\"left\"},\"line_width\":{\"value\":0.5},\"right\":{\"field\":\"right\"},\"y\":{\"field\":\"y\"}},\"id\":\"21807\",\"type\":\"HBar\"},{\"attributes\":{\"fill_alpha\":{\"value\":0.1},\"fill_color\":{\"value\":\"#1f77b4\"},\"height\":{\"value\":0.7},\"left\":{\"field\":\"left\"},\"line_alpha\":{\"value\":0.1},\"line_color\":{\"value\":\"#1f77b4\"},\"line_width\":{\"value\":0.5},\"right\":{\"field\":\"right\"},\"y\":{\"field\":\"y\"}},\"id\":\"21808\",\"type\":\"HBar\"},{\"attributes\":{},\"id\":\"21783\",\"type\":\"BasicTicker\"},{\"attributes\":{},\"id\":\"22472\",\"type\":\"UnionRenderers\"},{\"attributes\":{\"plot\":{\"id\":\"21773\",\"subtype\":\"Figure\",\"type\":\"Plot\"},\"ticker\":{\"id\":\"21783\",\"type\":\"BasicTicker\"}},\"id\":\"21786\",\"type\":\"Grid\"},{\"attributes\":{\"fill_alpha\":{\"value\":0.1},\"fill_color\":{\"value\":\"#1f77b4\"},\"height\":{\"value\":0.7},\"left\":{\"field\":\"left\"},\"line_alpha\":{\"value\":0.1},\"line_color\":{\"value\":\"#1f77b4\"},\"line_width\":{\"value\":0.5},\"right\":{\"field\":\"right\"},\"y\":{\"field\":\"y\"}},\"id\":\"21818\",\"type\":\"HBar\"},{\"attributes\":{},\"id\":\"22473\",\"type\":\"Selection\"},{\"attributes\":{\"axis_label\":\"Speed Limit (MPH)\",\"axis_label_text_font_size\":{\"value\":\"16pt\"},\"formatter\":{\"id\":\"22470\",\"type\":\"CategoricalTickFormatter\"},\"major_label_text_font_size\":{\"value\":\"16pt\"},\"plot\":{\"id\":\"21773\",\"subtype\":\"Figure\",\"type\":\"Plot\"},\"ticker\":{\"id\":\"21788\",\"type\":\"CategoricalTicker\"}},\"id\":\"21787\",\"type\":\"CategoricalAxis\"},{\"attributes\":{},\"id\":\"21778\",\"type\":\"LinearScale\"},{\"attributes\":{},\"id\":\"22474\",\"type\":\"UnionRenderers\"},{\"attributes\":{},\"id\":\"21788\",\"type\":\"CategoricalTicker\"},{\"attributes\":{},\"id\":\"22475\",\"type\":\"Selection\"},{\"attributes\":{\"data_source\":{\"id\":\"21806\",\"type\":\"ColumnDataSource\"},\"glyph\":{\"id\":\"21807\",\"type\":\"HBar\"},\"hover_glyph\":null,\"muted_glyph\":null,\"nonselection_glyph\":{\"id\":\"21808\",\"type\":\"HBar\"},\"selection_glyph\":null,\"view\":{\"id\":\"21810\",\"type\":\"CDSView\"}},\"id\":\"21809\",\"type\":\"GlyphRenderer\"},{\"attributes\":{\"dimension\":1,\"plot\":{\"id\":\"21773\",\"subtype\":\"Figure\",\"type\":\"Plot\"},\"ticker\":{\"id\":\"21788\",\"type\":\"CategoricalTicker\"}},\"id\":\"21790\",\"type\":\"Grid\"},{\"attributes\":{},\"id\":\"22476\",\"type\":\"UnionRenderers\"},{\"attributes\":{\"callback\":null,\"data\":{\"left\":{\"__ndarray__\":\"AAAAAAAAAAAAAAAAAAAAAAAAAAAAAAAAAAAAAAAAAAAAAAAAAAAAAAAAAAAAAAAA\",\"dtype\":\"float64\",\"shape\":[6]},\"right\":{\"__ndarray__\":\"dQ9wLMI/7j86ViVp7FztP/5+bRGzi+w/Azh9KGW26j8kHwS5VGnmP4qd2Imd2Ok/\",\"dtype\":\"float64\",\"shape\":[6]},\"y\":[\"15\",\"25\",\"35\",\"45\",\"55\",\"75\"]},\"selected\":{\"id\":\"22473\",\"type\":\"Selection\"},\"selection_policy\":{\"id\":\"22472\",\"type\":\"UnionRenderers\"}},\"id\":\"21806\",\"type\":\"ColumnDataSource\"},{\"attributes\":{},\"id\":\"22477\",\"type\":\"Selection\"},{\"attributes\":{\"data_source\":{\"id\":\"21816\",\"type\":\"ColumnDataSource\"},\"glyph\":{\"id\":\"21817\",\"type\":\"HBar\"},\"hover_glyph\":null,\"muted_glyph\":null,\"nonselection_glyph\":{\"id\":\"21818\",\"type\":\"HBar\"},\"selection_glyph\":null,\"view\":{\"id\":\"21820\",\"type\":\"CDSView\"}},\"id\":\"21819\",\"type\":\"GlyphRenderer\"},{\"attributes\":{\"plot\":null,\"text\":\"\",\"text_font_size\":{\"value\":\"16pt\"}},\"id\":\"22466\",\"type\":\"Title\"},{\"attributes\":{},\"id\":\"22478\",\"type\":\"UnionRenderers\"},{\"attributes\":{\"callback\":null,\"factors\":[\"15\",\"25\",\"35\",\"45\",\"55\",\"75\"]},\"id\":\"21776\",\"type\":\"FactorRange\"},{\"attributes\":{\"fill_alpha\":{\"value\":0.3},\"fill_color\":{\"value\":\"#ff7f0e\"},\"height\":{\"value\":0.7},\"left\":{\"field\":\"left\"},\"line_width\":{\"value\":0.5},\"right\":{\"field\":\"right\"},\"y\":{\"field\":\"y\"}},\"id\":\"21817\",\"type\":\"HBar\"},{\"attributes\":{\"callback\":null,\"data\":{\"left\":{\"__ndarray__\":\"jwwbxM2T7z9M+B31iL7uP9MttBtnVe4/eknY6Giv7D81A1debiHpP4qd2Imd2Ok/\",\"dtype\":\"float64\",\"shape\":[6]},\"right\":{\"__ndarray__\":\"Od0DHIvw7z9yGF6+x8/vP+D3writtu8/535R/tZm7z9P7MRO7MTuP0/sxE7sxO4/\",\"dtype\":\"float64\",\"shape\":[6]},\"y\":[\"15\",\"25\",\"35\",\"45\",\"55\",\"75\"]},\"selected\":{\"id\":\"22477\",\"type\":\"Selection\"},\"selection_policy\":{\"id\":\"22476\",\"type\":\"UnionRenderers\"}},\"id\":\"21816\",\"type\":\"ColumnDataSource\"},{\"attributes\":{\"active_drag\":\"auto\",\"active_inspect\":\"auto\",\"active_multi\":null,\"active_scroll\":\"auto\",\"active_tap\":\"auto\",\"tools\":[{\"id\":\"21791\",\"type\":\"PanTool\"},{\"id\":\"21792\",\"type\":\"WheelZoomTool\"},{\"id\":\"21793\",\"type\":\"BoxZoomTool\"},{\"id\":\"21794\",\"type\":\"SaveTool\"},{\"id\":\"21795\",\"type\":\"ResetTool\"},{\"id\":\"21796\",\"type\":\"HelpTool\"}]},\"id\":\"21797\",\"type\":\"Toolbar\"},{\"attributes\":{},\"id\":\"22479\",\"type\":\"Selection\"},{\"attributes\":{},\"id\":\"21791\",\"type\":\"PanTool\"},{\"attributes\":{\"fill_alpha\":{\"value\":0.1},\"fill_color\":{\"value\":\"#1f77b4\"},\"height\":{\"value\":0.7},\"left\":{\"field\":\"left\"},\"line_alpha\":{\"value\":0.1},\"line_color\":{\"value\":\"#1f77b4\"},\"line_width\":{\"value\":0.5},\"right\":{\"field\":\"right\"},\"y\":{\"field\":\"y\"}},\"id\":\"21813\",\"type\":\"HBar\"},{\"attributes\":{\"callback\":null},\"id\":\"21774\",\"type\":\"DataRange1d\"},{\"attributes\":{\"source\":{\"id\":\"21806\",\"type\":\"ColumnDataSource\"}},\"id\":\"21810\",\"type\":\"CDSView\"},{\"attributes\":{},\"id\":\"21792\",\"type\":\"WheelZoomTool\"},{\"attributes\":{\"fill_alpha\":{\"value\":0.1},\"fill_color\":{\"value\":\"#1f77b4\"},\"height\":{\"value\":0.7},\"left\":{\"field\":\"left\"},\"line_alpha\":{\"value\":0.1},\"line_color\":{\"value\":\"#1f77b4\"},\"line_width\":{\"value\":0.5},\"right\":{\"field\":\"right\"},\"y\":{\"field\":\"y\"}},\"id\":\"21823\",\"type\":\"HBar\"},{\"attributes\":{\"overlay\":{\"id\":\"21799\",\"type\":\"BoxAnnotation\"}},\"id\":\"21793\",\"type\":\"BoxZoomTool\"},{\"attributes\":{\"source\":{\"id\":\"21816\",\"type\":\"ColumnDataSource\"}},\"id\":\"21820\",\"type\":\"CDSView\"},{\"attributes\":{\"source\":{\"id\":\"21821\",\"type\":\"ColumnDataSource\"}},\"id\":\"21825\",\"type\":\"CDSView\"},{\"attributes\":{},\"id\":\"21794\",\"type\":\"SaveTool\"},{\"attributes\":{\"fill_alpha\":{\"value\":0.7},\"fill_color\":{\"value\":\"#1f77b4\"},\"height\":{\"value\":0.7},\"left\":{\"field\":\"left\"},\"line_width\":{\"value\":0.5},\"right\":{\"field\":\"right\"},\"y\":{\"field\":\"y\"}},\"id\":\"21812\",\"type\":\"HBar\"},{\"attributes\":{},\"id\":\"21795\",\"type\":\"ResetTool\"},{\"attributes\":{\"data_source\":{\"id\":\"21811\",\"type\":\"ColumnDataSource\"},\"glyph\":{\"id\":\"21812\",\"type\":\"HBar\"},\"hover_glyph\":null,\"muted_glyph\":null,\"nonselection_glyph\":{\"id\":\"21813\",\"type\":\"HBar\"},\"selection_glyph\":null,\"view\":{\"id\":\"21815\",\"type\":\"CDSView\"}},\"id\":\"21814\",\"type\":\"GlyphRenderer\"},{\"attributes\":{},\"id\":\"21796\",\"type\":\"HelpTool\"},{\"attributes\":{\"callback\":null,\"data\":{\"left\":{\"__ndarray__\":\"dQ9wLMI/7j86ViVp7FztP/5+bRGzi+w/Azh9KGW26j8kHwS5VGnmP4qd2Imd2Ok/\",\"dtype\":\"float64\",\"shape\":[6]},\"right\":{\"__ndarray__\":\"jwwbxM2T7z9M+B31iL7uP9MttBtnVe4/eknY6Giv7D81A1debiHpP4qd2Imd2Ok/\",\"dtype\":\"float64\",\"shape\":[6]},\"y\":[\"15\",\"25\",\"35\",\"45\",\"55\",\"75\"]},\"selected\":{\"id\":\"22475\",\"type\":\"Selection\"},\"selection_policy\":{\"id\":\"22474\",\"type\":\"UnionRenderers\"}},\"id\":\"21811\",\"type\":\"ColumnDataSource\"},{\"attributes\":{\"data_source\":{\"id\":\"21821\",\"type\":\"ColumnDataSource\"},\"glyph\":{\"id\":\"21822\",\"type\":\"HBar\"},\"hover_glyph\":null,\"muted_glyph\":null,\"nonselection_glyph\":{\"id\":\"21823\",\"type\":\"HBar\"},\"selection_glyph\":null,\"view\":{\"id\":\"21825\",\"type\":\"CDSView\"}},\"id\":\"21824\",\"type\":\"GlyphRenderer\"},{\"attributes\":{\"fill_alpha\":{\"value\":0.7},\"fill_color\":{\"value\":\"#ff7f0e\"},\"height\":{\"value\":0.7},\"left\":{\"field\":\"left\"},\"line_width\":{\"value\":0.5},\"right\":{\"field\":\"right\"},\"y\":{\"field\":\"y\"}},\"id\":\"21822\",\"type\":\"HBar\"},{\"attributes\":{\"bottom_units\":\"screen\",\"fill_alpha\":{\"value\":0.5},\"fill_color\":{\"value\":\"lightgrey\"},\"left_units\":\"screen\",\"level\":\"overlay\",\"line_alpha\":{\"value\":1.0},\"line_color\":{\"value\":\"black\"},\"line_dash\":[4,4],\"line_width\":{\"value\":2},\"plot\":null,\"render_mode\":\"css\",\"right_units\":\"screen\",\"top_units\":\"screen\"},\"id\":\"21799\",\"type\":\"BoxAnnotation\"},{\"attributes\":{\"callback\":null,\"data\":{\"left\":{\"__ndarray__\":\"Od0DHIvw7z9yGF6+x8/vP+D3writtu8/535R/tZm7z9P7MRO7MTuP0/sxE7sxO4/\",\"dtype\":\"float64\",\"shape\":[6]},\"right\":{\"__ndarray__\":\"AAAAAAAA8D8AAAAAAADwPwAAAAAAAPA/AAAAAAAA8D8AAAAAAADwPwAAAAAAAPA/\",\"dtype\":\"float64\",\"shape\":[6]},\"y\":[\"15\",\"25\",\"35\",\"45\",\"55\",\"75\"]},\"selected\":{\"id\":\"22479\",\"type\":\"Selection\"},\"selection_policy\":{\"id\":\"22478\",\"type\":\"UnionRenderers\"}},\"id\":\"21821\",\"type\":\"ColumnDataSource\"}],\"root_ids\":[\"21773\"]},\"title\":\"Bokeh Application\",\"version\":\"1.0.2\"}};\n",
       "  var render_items = [{\"docid\":\"8f2a7fcd-f738-44f6-a4a3-e55958ad3087\",\"roots\":{\"21773\":\"49dd25bd-4abd-42dd-afe2-e4a56b1028f1\"}}];\n",
       "  root.Bokeh.embed.embed_items_notebook(docs_json, render_items);\n",
       "\n",
       "  }\n",
       "  if (root.Bokeh !== undefined) {\n",
       "    embed_document(root);\n",
       "  } else {\n",
       "    var attempts = 0;\n",
       "    var timer = setInterval(function(root) {\n",
       "      if (root.Bokeh !== undefined) {\n",
       "        embed_document(root);\n",
       "        clearInterval(timer);\n",
       "      }\n",
       "      attempts++;\n",
       "      if (attempts > 100) {\n",
       "        console.log(\"Bokeh: ERROR: Unable to run BokehJS code because BokehJS library is missing\");\n",
       "        clearInterval(timer);\n",
       "      }\n",
       "    }, 10, root)\n",
       "  }\n",
       "})(window);"
      ],
      "application/vnd.bokehjs_exec.v0+json": ""
     },
     "metadata": {
      "application/vnd.bokehjs_exec.v0+json": {
       "id": "21773"
      }
     },
     "output_type": "display_data"
    },
    {
     "data": {
      "text/html": [
       "\n",
       "\n",
       "\n",
       "\n",
       "\n",
       "\n",
       "  <div class=\"bk-root\" id=\"77d4d51a-974a-4cda-a2cf-0446c3d44265\"></div>\n"
      ]
     },
     "metadata": {},
     "output_type": "display_data"
    },
    {
     "data": {
      "application/javascript": [
       "(function(root) {\n",
       "  function embed_document(root) {\n",
       "    \n",
       "  var docs_json = {\"f4d0c368-2421-4b16-bd21-896344f4b6cd\":{\"roots\":{\"references\":[{\"attributes\":{\"below\":[{\"id\":\"22579\",\"type\":\"LinearAxis\"}],\"left\":[{\"id\":\"22584\",\"type\":\"CategoricalAxis\"}],\"plot_height\":250,\"renderers\":[{\"id\":\"22579\",\"type\":\"LinearAxis\"},{\"id\":\"22583\",\"type\":\"Grid\"},{\"id\":\"22584\",\"type\":\"CategoricalAxis\"},{\"id\":\"22587\",\"type\":\"Grid\"},{\"id\":\"22596\",\"type\":\"BoxAnnotation\"},{\"id\":\"22606\",\"type\":\"GlyphRenderer\"},{\"id\":\"22611\",\"type\":\"GlyphRenderer\"},{\"id\":\"22616\",\"type\":\"GlyphRenderer\"},{\"id\":\"22621\",\"type\":\"GlyphRenderer\"}],\"title\":{\"id\":\"23278\",\"type\":\"Title\"},\"toolbar\":{\"id\":\"22594\",\"type\":\"Toolbar\"},\"x_range\":{\"id\":\"22571\",\"type\":\"DataRange1d\"},\"x_scale\":{\"id\":\"22575\",\"type\":\"LinearScale\"},\"y_range\":{\"id\":\"22573\",\"type\":\"FactorRange\"},\"y_scale\":{\"id\":\"22577\",\"type\":\"CategoricalScale\"}},\"id\":\"22570\",\"subtype\":\"Figure\",\"type\":\"Plot\"},{\"attributes\":{},\"id\":\"23287\",\"type\":\"Selection\"},{\"attributes\":{\"fill_alpha\":{\"value\":0.3},\"fill_color\":{\"value\":\"#1f77b4\"},\"height\":{\"value\":0.7},\"left\":{\"field\":\"left\"},\"line_width\":{\"value\":0.5},\"right\":{\"field\":\"right\"},\"y\":{\"field\":\"y\"}},\"id\":\"22604\",\"type\":\"HBar\"},{\"attributes\":{\"callback\":null,\"data\":{\"left\":{\"__ndarray__\":\"Kd9eCuKr7T/Us1LtwGXtPwAAAAAAAPA/\",\"dtype\":\"float64\",\"shape\":[3]},\"right\":{\"__ndarray__\":\"J8eH6UC27z9clCuTEobvPwAAAAAAAPA/\",\"dtype\":\"float64\",\"shape\":[3]},\"y\":[\"Female\",\"Male\",\"Unknown\"]},\"selected\":{\"id\":\"23289\",\"type\":\"Selection\"},\"selection_policy\":{\"id\":\"23288\",\"type\":\"UnionRenderers\"}},\"id\":\"22613\",\"type\":\"ColumnDataSource\"},{\"attributes\":{},\"id\":\"23288\",\"type\":\"UnionRenderers\"},{\"attributes\":{\"data_source\":{\"id\":\"22613\",\"type\":\"ColumnDataSource\"},\"glyph\":{\"id\":\"22614\",\"type\":\"HBar\"},\"hover_glyph\":null,\"muted_glyph\":null,\"nonselection_glyph\":{\"id\":\"22615\",\"type\":\"HBar\"},\"selection_glyph\":null,\"view\":{\"id\":\"22617\",\"type\":\"CDSView\"}},\"id\":\"22616\",\"type\":\"GlyphRenderer\"},{\"attributes\":{},\"id\":\"22585\",\"type\":\"CategoricalTicker\"},{\"attributes\":{\"fill_alpha\":{\"value\":0.1},\"fill_color\":{\"value\":\"#1f77b4\"},\"height\":{\"value\":0.7},\"left\":{\"field\":\"left\"},\"line_alpha\":{\"value\":0.1},\"line_color\":{\"value\":\"#1f77b4\"},\"line_width\":{\"value\":0.5},\"right\":{\"field\":\"right\"},\"y\":{\"field\":\"y\"}},\"id\":\"22605\",\"type\":\"HBar\"},{\"attributes\":{\"dimension\":1,\"plot\":{\"id\":\"22570\",\"subtype\":\"Figure\",\"type\":\"Plot\"},\"ticker\":{\"id\":\"22585\",\"type\":\"CategoricalTicker\"}},\"id\":\"22587\",\"type\":\"Grid\"},{\"attributes\":{},\"id\":\"23289\",\"type\":\"Selection\"},{\"attributes\":{\"callback\":null},\"id\":\"22571\",\"type\":\"DataRange1d\"},{\"attributes\":{\"data_source\":{\"id\":\"22603\",\"type\":\"ColumnDataSource\"},\"glyph\":{\"id\":\"22604\",\"type\":\"HBar\"},\"hover_glyph\":null,\"muted_glyph\":null,\"nonselection_glyph\":{\"id\":\"22605\",\"type\":\"HBar\"},\"selection_glyph\":null,\"view\":{\"id\":\"22607\",\"type\":\"CDSView\"}},\"id\":\"22606\",\"type\":\"GlyphRenderer\"},{\"attributes\":{\"plot\":null,\"text\":\"\",\"text_font_size\":{\"value\":\"16pt\"}},\"id\":\"23278\",\"type\":\"Title\"},{\"attributes\":{\"source\":{\"id\":\"22613\",\"type\":\"ColumnDataSource\"}},\"id\":\"22617\",\"type\":\"CDSView\"},{\"attributes\":{\"source\":{\"id\":\"22603\",\"type\":\"ColumnDataSource\"}},\"id\":\"22607\",\"type\":\"CDSView\"},{\"attributes\":{\"callback\":null,\"data\":{\"left\":{\"__ndarray__\":\"AAAAAAAAAAAAAAAAAAAAAAAAAAAAAAAA\",\"dtype\":\"float64\",\"shape\":[3]},\"right\":{\"__ndarray__\":\"w+i0Su/a7D9nKdMteV7rPwAAAAAAAPA/\",\"dtype\":\"float64\",\"shape\":[3]},\"y\":[\"Female\",\"Male\",\"Unknown\"]},\"selected\":{\"id\":\"23285\",\"type\":\"Selection\"},\"selection_policy\":{\"id\":\"23284\",\"type\":\"UnionRenderers\"}},\"id\":\"22603\",\"type\":\"ColumnDataSource\"},{\"attributes\":{},\"id\":\"22580\",\"type\":\"BasicTicker\"},{\"attributes\":{},\"id\":\"23291\",\"type\":\"Selection\"},{\"attributes\":{\"axis_label\":\"Fraction\",\"axis_label_text_font_size\":{\"value\":\"16pt\"},\"formatter\":{\"id\":\"23280\",\"type\":\"BasicTickFormatter\"},\"major_label_text_font_size\":{\"value\":\"16pt\"},\"plot\":{\"id\":\"22570\",\"subtype\":\"Figure\",\"type\":\"Plot\"},\"ticker\":{\"id\":\"22580\",\"type\":\"BasicTicker\"}},\"id\":\"22579\",\"type\":\"LinearAxis\"},{\"attributes\":{\"fill_alpha\":{\"value\":0.1},\"fill_color\":{\"value\":\"#1f77b4\"},\"height\":{\"value\":0.7},\"left\":{\"field\":\"left\"},\"line_alpha\":{\"value\":0.1},\"line_color\":{\"value\":\"#1f77b4\"},\"line_width\":{\"value\":0.5},\"right\":{\"field\":\"right\"},\"y\":{\"field\":\"y\"}},\"id\":\"22620\",\"type\":\"HBar\"},{\"attributes\":{\"fill_alpha\":{\"value\":0.7},\"fill_color\":{\"value\":\"#ff7f0e\"},\"height\":{\"value\":0.7},\"left\":{\"field\":\"left\"},\"line_width\":{\"value\":0.5},\"right\":{\"field\":\"right\"},\"y\":{\"field\":\"y\"}},\"id\":\"22619\",\"type\":\"HBar\"},{\"attributes\":{},\"id\":\"22577\",\"type\":\"CategoricalScale\"},{\"attributes\":{\"fill_alpha\":{\"value\":0.1},\"fill_color\":{\"value\":\"#1f77b4\"},\"height\":{\"value\":0.7},\"left\":{\"field\":\"left\"},\"line_alpha\":{\"value\":0.1},\"line_color\":{\"value\":\"#1f77b4\"},\"line_width\":{\"value\":0.5},\"right\":{\"field\":\"right\"},\"y\":{\"field\":\"y\"}},\"id\":\"22610\",\"type\":\"HBar\"},{\"attributes\":{\"fill_alpha\":{\"value\":0.7},\"fill_color\":{\"value\":\"#1f77b4\"},\"height\":{\"value\":0.7},\"left\":{\"field\":\"left\"},\"line_width\":{\"value\":0.5},\"right\":{\"field\":\"right\"},\"y\":{\"field\":\"y\"}},\"id\":\"22609\",\"type\":\"HBar\"},{\"attributes\":{},\"id\":\"22575\",\"type\":\"LinearScale\"},{\"attributes\":{\"callback\":null,\"data\":{\"left\":{\"__ndarray__\":\"J8eH6UC27z9clCuTEobvPwAAAAAAAPA/\",\"dtype\":\"float64\",\"shape\":[3]},\"right\":{\"__ndarray__\":\"AAAAAAAA8D8AAAAAAADwPwAAAAAAAPA/\",\"dtype\":\"float64\",\"shape\":[3]},\"y\":[\"Female\",\"Male\",\"Unknown\"]},\"selected\":{\"id\":\"23291\",\"type\":\"Selection\"},\"selection_policy\":{\"id\":\"23290\",\"type\":\"UnionRenderers\"}},\"id\":\"22618\",\"type\":\"ColumnDataSource\"},{\"attributes\":{\"data_source\":{\"id\":\"22618\",\"type\":\"ColumnDataSource\"},\"glyph\":{\"id\":\"22619\",\"type\":\"HBar\"},\"hover_glyph\":null,\"muted_glyph\":null,\"nonselection_glyph\":{\"id\":\"22620\",\"type\":\"HBar\"},\"selection_glyph\":null,\"view\":{\"id\":\"22622\",\"type\":\"CDSView\"}},\"id\":\"22621\",\"type\":\"GlyphRenderer\"},{\"attributes\":{\"callback\":null,\"factors\":[\"Female\",\"Male\",\"Unknown\"]},\"id\":\"22573\",\"type\":\"FactorRange\"},{\"attributes\":{\"callback\":null,\"data\":{\"left\":{\"__ndarray__\":\"w+i0Su/a7D9nKdMteV7rPwAAAAAAAPA/\",\"dtype\":\"float64\",\"shape\":[3]},\"right\":{\"__ndarray__\":\"Kd9eCuKr7T/Us1LtwGXtPwAAAAAAAPA/\",\"dtype\":\"float64\",\"shape\":[3]},\"y\":[\"Female\",\"Male\",\"Unknown\"]},\"selected\":{\"id\":\"23287\",\"type\":\"Selection\"},\"selection_policy\":{\"id\":\"23286\",\"type\":\"UnionRenderers\"}},\"id\":\"22608\",\"type\":\"ColumnDataSource\"},{\"attributes\":{\"data_source\":{\"id\":\"22608\",\"type\":\"ColumnDataSource\"},\"glyph\":{\"id\":\"22609\",\"type\":\"HBar\"},\"hover_glyph\":null,\"muted_glyph\":null,\"nonselection_glyph\":{\"id\":\"22610\",\"type\":\"HBar\"},\"selection_glyph\":null,\"view\":{\"id\":\"22612\",\"type\":\"CDSView\"}},\"id\":\"22611\",\"type\":\"GlyphRenderer\"},{\"attributes\":{\"source\":{\"id\":\"22618\",\"type\":\"ColumnDataSource\"}},\"id\":\"22622\",\"type\":\"CDSView\"},{\"attributes\":{},\"id\":\"22592\",\"type\":\"ResetTool\"},{\"attributes\":{\"source\":{\"id\":\"22608\",\"type\":\"ColumnDataSource\"}},\"id\":\"22612\",\"type\":\"CDSView\"},{\"attributes\":{},\"id\":\"22589\",\"type\":\"WheelZoomTool\"},{\"attributes\":{},\"id\":\"23280\",\"type\":\"BasicTickFormatter\"},{\"attributes\":{},\"id\":\"22588\",\"type\":\"PanTool\"},{\"attributes\":{},\"id\":\"22591\",\"type\":\"SaveTool\"},{\"attributes\":{},\"id\":\"23282\",\"type\":\"CategoricalTickFormatter\"},{\"attributes\":{\"active_drag\":\"auto\",\"active_inspect\":\"auto\",\"active_multi\":null,\"active_scroll\":\"auto\",\"active_tap\":\"auto\",\"tools\":[{\"id\":\"22588\",\"type\":\"PanTool\"},{\"id\":\"22589\",\"type\":\"WheelZoomTool\"},{\"id\":\"22590\",\"type\":\"BoxZoomTool\"},{\"id\":\"22591\",\"type\":\"SaveTool\"},{\"id\":\"22592\",\"type\":\"ResetTool\"},{\"id\":\"22593\",\"type\":\"HelpTool\"}]},\"id\":\"22594\",\"type\":\"Toolbar\"},{\"attributes\":{\"overlay\":{\"id\":\"22596\",\"type\":\"BoxAnnotation\"}},\"id\":\"22590\",\"type\":\"BoxZoomTool\"},{\"attributes\":{},\"id\":\"23284\",\"type\":\"UnionRenderers\"},{\"attributes\":{\"axis_label\":\"Speed Limit (MPH)\",\"axis_label_text_font_size\":{\"value\":\"16pt\"},\"formatter\":{\"id\":\"23282\",\"type\":\"CategoricalTickFormatter\"},\"major_label_text_font_size\":{\"value\":\"16pt\"},\"plot\":{\"id\":\"22570\",\"subtype\":\"Figure\",\"type\":\"Plot\"},\"ticker\":{\"id\":\"22585\",\"type\":\"CategoricalTicker\"}},\"id\":\"22584\",\"type\":\"CategoricalAxis\"},{\"attributes\":{},\"id\":\"23290\",\"type\":\"UnionRenderers\"},{\"attributes\":{\"plot\":{\"id\":\"22570\",\"subtype\":\"Figure\",\"type\":\"Plot\"},\"ticker\":{\"id\":\"22580\",\"type\":\"BasicTicker\"}},\"id\":\"22583\",\"type\":\"Grid\"},{\"attributes\":{},\"id\":\"23285\",\"type\":\"Selection\"},{\"attributes\":{\"fill_alpha\":{\"value\":0.1},\"fill_color\":{\"value\":\"#1f77b4\"},\"height\":{\"value\":0.7},\"left\":{\"field\":\"left\"},\"line_alpha\":{\"value\":0.1},\"line_color\":{\"value\":\"#1f77b4\"},\"line_width\":{\"value\":0.5},\"right\":{\"field\":\"right\"},\"y\":{\"field\":\"y\"}},\"id\":\"22615\",\"type\":\"HBar\"},{\"attributes\":{\"fill_alpha\":{\"value\":0.3},\"fill_color\":{\"value\":\"#ff7f0e\"},\"height\":{\"value\":0.7},\"left\":{\"field\":\"left\"},\"line_width\":{\"value\":0.5},\"right\":{\"field\":\"right\"},\"y\":{\"field\":\"y\"}},\"id\":\"22614\",\"type\":\"HBar\"},{\"attributes\":{},\"id\":\"23286\",\"type\":\"UnionRenderers\"},{\"attributes\":{},\"id\":\"22593\",\"type\":\"HelpTool\"},{\"attributes\":{\"bottom_units\":\"screen\",\"fill_alpha\":{\"value\":0.5},\"fill_color\":{\"value\":\"lightgrey\"},\"left_units\":\"screen\",\"level\":\"overlay\",\"line_alpha\":{\"value\":1.0},\"line_color\":{\"value\":\"black\"},\"line_dash\":[4,4],\"line_width\":{\"value\":2},\"plot\":null,\"render_mode\":\"css\",\"right_units\":\"screen\",\"top_units\":\"screen\"},\"id\":\"22596\",\"type\":\"BoxAnnotation\"}],\"root_ids\":[\"22570\"]},\"title\":\"Bokeh Application\",\"version\":\"1.0.2\"}};\n",
       "  var render_items = [{\"docid\":\"f4d0c368-2421-4b16-bd21-896344f4b6cd\",\"roots\":{\"22570\":\"77d4d51a-974a-4cda-a2cf-0446c3d44265\"}}];\n",
       "  root.Bokeh.embed.embed_items_notebook(docs_json, render_items);\n",
       "\n",
       "  }\n",
       "  if (root.Bokeh !== undefined) {\n",
       "    embed_document(root);\n",
       "  } else {\n",
       "    var attempts = 0;\n",
       "    var timer = setInterval(function(root) {\n",
       "      if (root.Bokeh !== undefined) {\n",
       "        embed_document(root);\n",
       "        clearInterval(timer);\n",
       "      }\n",
       "      attempts++;\n",
       "      if (attempts > 100) {\n",
       "        console.log(\"Bokeh: ERROR: Unable to run BokehJS code because BokehJS library is missing\");\n",
       "        clearInterval(timer);\n",
       "      }\n",
       "    }, 10, root)\n",
       "  }\n",
       "})(window);"
      ],
      "application/vnd.bokehjs_exec.v0+json": ""
     },
     "metadata": {
      "application/vnd.bokehjs_exec.v0+json": {
       "id": "22570"
      }
     },
     "output_type": "display_data"
    },
    {
     "data": {
      "text/html": [
       "\n",
       "\n",
       "\n",
       "\n",
       "\n",
       "\n",
       "  <div class=\"bk-root\" id=\"85d4dddf-fb08-4f5d-831b-ef4852cf1d55\"></div>\n"
      ]
     },
     "metadata": {},
     "output_type": "display_data"
    },
    {
     "data": {
      "application/javascript": [
       "(function(root) {\n",
       "  function embed_document(root) {\n",
       "    \n",
       "  var docs_json = {\"04d86626-5a5f-4f7c-b628-a4cc706a3030\":{\"roots\":{\"references\":[{\"attributes\":{\"below\":[{\"id\":\"23391\",\"type\":\"LinearAxis\"}],\"left\":[{\"id\":\"23396\",\"type\":\"CategoricalAxis\"}],\"plot_height\":200,\"renderers\":[{\"id\":\"23391\",\"type\":\"LinearAxis\"},{\"id\":\"23395\",\"type\":\"Grid\"},{\"id\":\"23396\",\"type\":\"CategoricalAxis\"},{\"id\":\"23399\",\"type\":\"Grid\"},{\"id\":\"23408\",\"type\":\"BoxAnnotation\"},{\"id\":\"23418\",\"type\":\"GlyphRenderer\"},{\"id\":\"23423\",\"type\":\"GlyphRenderer\"},{\"id\":\"23428\",\"type\":\"GlyphRenderer\"},{\"id\":\"23433\",\"type\":\"GlyphRenderer\"}],\"title\":{\"id\":\"24105\",\"type\":\"Title\"},\"toolbar\":{\"id\":\"23406\",\"type\":\"Toolbar\"},\"x_range\":{\"id\":\"23383\",\"type\":\"DataRange1d\"},\"x_scale\":{\"id\":\"23387\",\"type\":\"LinearScale\"},\"y_range\":{\"id\":\"23385\",\"type\":\"FactorRange\"},\"y_scale\":{\"id\":\"23389\",\"type\":\"CategoricalScale\"}},\"id\":\"23382\",\"subtype\":\"Figure\",\"type\":\"Plot\"},{\"attributes\":{},\"id\":\"24113\",\"type\":\"UnionRenderers\"},{\"attributes\":{\"data_source\":{\"id\":\"23430\",\"type\":\"ColumnDataSource\"},\"glyph\":{\"id\":\"23431\",\"type\":\"HBar\"},\"hover_glyph\":null,\"muted_glyph\":null,\"nonselection_glyph\":{\"id\":\"23432\",\"type\":\"HBar\"},\"selection_glyph\":null,\"view\":{\"id\":\"23434\",\"type\":\"CDSView\"}},\"id\":\"23433\",\"type\":\"GlyphRenderer\"},{\"attributes\":{\"fill_alpha\":{\"value\":0.3},\"fill_color\":{\"value\":\"#1f77b4\"},\"height\":{\"value\":0.7},\"left\":{\"field\":\"left\"},\"line_width\":{\"value\":0.5},\"right\":{\"field\":\"right\"},\"y\":{\"field\":\"y\"}},\"id\":\"23416\",\"type\":\"HBar\"},{\"attributes\":{\"data_source\":{\"id\":\"23415\",\"type\":\"ColumnDataSource\"},\"glyph\":{\"id\":\"23416\",\"type\":\"HBar\"},\"hover_glyph\":null,\"muted_glyph\":null,\"nonselection_glyph\":{\"id\":\"23417\",\"type\":\"HBar\"},\"selection_glyph\":null,\"view\":{\"id\":\"23419\",\"type\":\"CDSView\"}},\"id\":\"23418\",\"type\":\"GlyphRenderer\"},{\"attributes\":{},\"id\":\"24112\",\"type\":\"Selection\"},{\"attributes\":{\"fill_alpha\":{\"value\":0.1},\"fill_color\":{\"value\":\"#1f77b4\"},\"height\":{\"value\":0.7},\"left\":{\"field\":\"left\"},\"line_alpha\":{\"value\":0.1},\"line_color\":{\"value\":\"#1f77b4\"},\"line_width\":{\"value\":0.5},\"right\":{\"field\":\"right\"},\"y\":{\"field\":\"y\"}},\"id\":\"23417\",\"type\":\"HBar\"},{\"attributes\":{\"fill_alpha\":{\"value\":0.7},\"fill_color\":{\"value\":\"#ff7f0e\"},\"height\":{\"value\":0.7},\"left\":{\"field\":\"left\"},\"line_width\":{\"value\":0.5},\"right\":{\"field\":\"right\"},\"y\":{\"field\":\"y\"}},\"id\":\"23431\",\"type\":\"HBar\"},{\"attributes\":{\"source\":{\"id\":\"23420\",\"type\":\"ColumnDataSource\"}},\"id\":\"23424\",\"type\":\"CDSView\"},{\"attributes\":{},\"id\":\"23389\",\"type\":\"CategoricalScale\"},{\"attributes\":{\"callback\":null,\"data\":{\"left\":{\"__ndarray__\":\"AAAAAAAA8D8ZyzKUWdHvP8/zPM/zPO8/uFRMb6mY7j8=\",\"dtype\":\"float64\",\"shape\":[4]},\"right\":{\"__ndarray__\":\"AAAAAAAA8D8AAAAAAADwPwAAAAAAAPA/AAAAAAAA8D8=\",\"dtype\":\"float64\",\"shape\":[4]},\"y\":[\"Dawn\",\"Dayl\",\"Dusk\",\"Dark\"]},\"selected\":{\"id\":\"24118\",\"type\":\"Selection\"},\"selection_policy\":{\"id\":\"24117\",\"type\":\"UnionRenderers\"}},\"id\":\"23430\",\"type\":\"ColumnDataSource\"},{\"attributes\":{},\"id\":\"24118\",\"type\":\"Selection\"},{\"attributes\":{\"dimension\":1,\"plot\":{\"id\":\"23382\",\"subtype\":\"Figure\",\"type\":\"Plot\"},\"ticker\":{\"id\":\"23397\",\"type\":\"CategoricalTicker\"}},\"id\":\"23399\",\"type\":\"Grid\"},{\"attributes\":{\"fill_alpha\":{\"value\":0.1},\"fill_color\":{\"value\":\"#1f77b4\"},\"height\":{\"value\":0.7},\"left\":{\"field\":\"left\"},\"line_alpha\":{\"value\":0.1},\"line_color\":{\"value\":\"#1f77b4\"},\"line_width\":{\"value\":0.5},\"right\":{\"field\":\"right\"},\"y\":{\"field\":\"y\"}},\"id\":\"23432\",\"type\":\"HBar\"},{\"attributes\":{},\"id\":\"24114\",\"type\":\"Selection\"},{\"attributes\":{\"source\":{\"id\":\"23415\",\"type\":\"ColumnDataSource\"}},\"id\":\"23419\",\"type\":\"CDSView\"},{\"attributes\":{},\"id\":\"23397\",\"type\":\"CategoricalTicker\"},{\"attributes\":{},\"id\":\"23400\",\"type\":\"PanTool\"},{\"attributes\":{\"source\":{\"id\":\"23430\",\"type\":\"ColumnDataSource\"}},\"id\":\"23434\",\"type\":\"CDSView\"},{\"attributes\":{\"fill_alpha\":{\"value\":0.1},\"fill_color\":{\"value\":\"#1f77b4\"},\"height\":{\"value\":0.7},\"left\":{\"field\":\"left\"},\"line_alpha\":{\"value\":0.1},\"line_color\":{\"value\":\"#1f77b4\"},\"line_width\":{\"value\":0.5},\"right\":{\"field\":\"right\"},\"y\":{\"field\":\"y\"}},\"id\":\"23427\",\"type\":\"HBar\"},{\"attributes\":{},\"id\":\"23387\",\"type\":\"LinearScale\"},{\"attributes\":{},\"id\":\"24116\",\"type\":\"Selection\"},{\"attributes\":{},\"id\":\"23401\",\"type\":\"WheelZoomTool\"},{\"attributes\":{\"fill_alpha\":{\"value\":0.3},\"fill_color\":{\"value\":\"#ff7f0e\"},\"height\":{\"value\":0.7},\"left\":{\"field\":\"left\"},\"line_width\":{\"value\":0.5},\"right\":{\"field\":\"right\"},\"y\":{\"field\":\"y\"}},\"id\":\"23426\",\"type\":\"HBar\"},{\"attributes\":{},\"id\":\"24107\",\"type\":\"BasicTickFormatter\"},{\"attributes\":{\"active_drag\":\"auto\",\"active_inspect\":\"auto\",\"active_multi\":null,\"active_scroll\":\"auto\",\"active_tap\":\"auto\",\"tools\":[{\"id\":\"23400\",\"type\":\"PanTool\"},{\"id\":\"23401\",\"type\":\"WheelZoomTool\"},{\"id\":\"23402\",\"type\":\"BoxZoomTool\"},{\"id\":\"23403\",\"type\":\"SaveTool\"},{\"id\":\"23404\",\"type\":\"ResetTool\"},{\"id\":\"23405\",\"type\":\"HelpTool\"}]},\"id\":\"23406\",\"type\":\"Toolbar\"},{\"attributes\":{\"callback\":null,\"data\":{\"left\":{\"__ndarray__\":\"waRT8yB37T+KluxZWPHtPzY7ahHy1+w/11jXrbGu6z8=\",\"dtype\":\"float64\",\"shape\":[4]},\"right\":{\"__ndarray__\":\"AAAAAAAA8D8ZyzKUWdHvP8/zPM/zPO8/uFRMb6mY7j8=\",\"dtype\":\"float64\",\"shape\":[4]},\"y\":[\"Dawn\",\"Dayl\",\"Dusk\",\"Dark\"]},\"selected\":{\"id\":\"24116\",\"type\":\"Selection\"},\"selection_policy\":{\"id\":\"24115\",\"type\":\"UnionRenderers\"}},\"id\":\"23425\",\"type\":\"ColumnDataSource\"},{\"attributes\":{},\"id\":\"24109\",\"type\":\"CategoricalTickFormatter\"},{\"attributes\":{},\"id\":\"24115\",\"type\":\"UnionRenderers\"},{\"attributes\":{\"data_source\":{\"id\":\"23425\",\"type\":\"ColumnDataSource\"},\"glyph\":{\"id\":\"23426\",\"type\":\"HBar\"},\"hover_glyph\":null,\"muted_glyph\":null,\"nonselection_glyph\":{\"id\":\"23427\",\"type\":\"HBar\"},\"selection_glyph\":null,\"view\":{\"id\":\"23429\",\"type\":\"CDSView\"}},\"id\":\"23428\",\"type\":\"GlyphRenderer\"},{\"attributes\":{},\"id\":\"24117\",\"type\":\"UnionRenderers\"},{\"attributes\":{\"plot\":null,\"text\":\"\",\"text_font_size\":{\"value\":\"16pt\"}},\"id\":\"24105\",\"type\":\"Title\"},{\"attributes\":{\"bottom_units\":\"screen\",\"fill_alpha\":{\"value\":0.5},\"fill_color\":{\"value\":\"lightgrey\"},\"left_units\":\"screen\",\"level\":\"overlay\",\"line_alpha\":{\"value\":1.0},\"line_color\":{\"value\":\"black\"},\"line_dash\":[4,4],\"line_width\":{\"value\":2},\"plot\":null,\"render_mode\":\"css\",\"right_units\":\"screen\",\"top_units\":\"screen\"},\"id\":\"23408\",\"type\":\"BoxAnnotation\"},{\"attributes\":{\"source\":{\"id\":\"23425\",\"type\":\"ColumnDataSource\"}},\"id\":\"23429\",\"type\":\"CDSView\"},{\"attributes\":{\"axis_label\":\"Fraction\",\"axis_label_text_font_size\":{\"value\":\"16pt\"},\"formatter\":{\"id\":\"24107\",\"type\":\"BasicTickFormatter\"},\"major_label_text_font_size\":{\"value\":\"16pt\"},\"plot\":{\"id\":\"23382\",\"subtype\":\"Figure\",\"type\":\"Plot\"},\"ticker\":{\"id\":\"23392\",\"type\":\"BasicTicker\"}},\"id\":\"23391\",\"type\":\"LinearAxis\"},{\"attributes\":{},\"id\":\"23405\",\"type\":\"HelpTool\"},{\"attributes\":{},\"id\":\"23392\",\"type\":\"BasicTicker\"},{\"attributes\":{\"fill_alpha\":{\"value\":0.1},\"fill_color\":{\"value\":\"#1f77b4\"},\"height\":{\"value\":0.7},\"left\":{\"field\":\"left\"},\"line_alpha\":{\"value\":0.1},\"line_color\":{\"value\":\"#1f77b4\"},\"line_width\":{\"value\":0.5},\"right\":{\"field\":\"right\"},\"y\":{\"field\":\"y\"}},\"id\":\"23422\",\"type\":\"HBar\"},{\"attributes\":{\"plot\":{\"id\":\"23382\",\"subtype\":\"Figure\",\"type\":\"Plot\"},\"ticker\":{\"id\":\"23392\",\"type\":\"BasicTicker\"}},\"id\":\"23395\",\"type\":\"Grid\"},{\"attributes\":{},\"id\":\"23404\",\"type\":\"ResetTool\"},{\"attributes\":{\"fill_alpha\":{\"value\":0.7},\"fill_color\":{\"value\":\"#1f77b4\"},\"height\":{\"value\":0.7},\"left\":{\"field\":\"left\"},\"line_width\":{\"value\":0.5},\"right\":{\"field\":\"right\"},\"y\":{\"field\":\"y\"}},\"id\":\"23421\",\"type\":\"HBar\"},{\"attributes\":{\"axis_label_text_font_size\":{\"value\":\"16pt\"},\"formatter\":{\"id\":\"24109\",\"type\":\"CategoricalTickFormatter\"},\"major_label_text_font_size\":{\"value\":\"16pt\"},\"plot\":{\"id\":\"23382\",\"subtype\":\"Figure\",\"type\":\"Plot\"},\"ticker\":{\"id\":\"23397\",\"type\":\"CategoricalTicker\"}},\"id\":\"23396\",\"type\":\"CategoricalAxis\"},{\"attributes\":{},\"id\":\"23403\",\"type\":\"SaveTool\"},{\"attributes\":{\"callback\":null,\"data\":{\"left\":{\"__ndarray__\":\"IXf9bLEy7D/X1Zp8UO7sP82OWoT8Nes/XkVYu4qw5j8=\",\"dtype\":\"float64\",\"shape\":[4]},\"right\":{\"__ndarray__\":\"waRT8yB37T+KluxZWPHtPzY7ahHy1+w/11jXrbGu6z8=\",\"dtype\":\"float64\",\"shape\":[4]},\"y\":[\"Dawn\",\"Dayl\",\"Dusk\",\"Dark\"]},\"selected\":{\"id\":\"24114\",\"type\":\"Selection\"},\"selection_policy\":{\"id\":\"24113\",\"type\":\"UnionRenderers\"}},\"id\":\"23420\",\"type\":\"ColumnDataSource\"},{\"attributes\":{\"data_source\":{\"id\":\"23420\",\"type\":\"ColumnDataSource\"},\"glyph\":{\"id\":\"23421\",\"type\":\"HBar\"},\"hover_glyph\":null,\"muted_glyph\":null,\"nonselection_glyph\":{\"id\":\"23422\",\"type\":\"HBar\"},\"selection_glyph\":null,\"view\":{\"id\":\"23424\",\"type\":\"CDSView\"}},\"id\":\"23423\",\"type\":\"GlyphRenderer\"},{\"attributes\":{\"overlay\":{\"id\":\"23408\",\"type\":\"BoxAnnotation\"}},\"id\":\"23402\",\"type\":\"BoxZoomTool\"},{\"attributes\":{\"callback\":null,\"factors\":[\"Dawn\",\"Dayl\",\"Dusk\",\"Dark\"]},\"id\":\"23385\",\"type\":\"FactorRange\"},{\"attributes\":{},\"id\":\"24111\",\"type\":\"UnionRenderers\"},{\"attributes\":{\"callback\":null},\"id\":\"23383\",\"type\":\"DataRange1d\"},{\"attributes\":{\"callback\":null,\"data\":{\"left\":{\"__ndarray__\":\"AAAAAAAAAAAAAAAAAAAAAAAAAAAAAAAAAAAAAAAAAAA=\",\"dtype\":\"float64\",\"shape\":[4]},\"right\":{\"__ndarray__\":\"IXf9bLEy7D/X1Zp8UO7sP82OWoT8Nes/XkVYu4qw5j8=\",\"dtype\":\"float64\",\"shape\":[4]},\"y\":[\"Dawn\",\"Dayl\",\"Dusk\",\"Dark\"]},\"selected\":{\"id\":\"24112\",\"type\":\"Selection\"},\"selection_policy\":{\"id\":\"24111\",\"type\":\"UnionRenderers\"}},\"id\":\"23415\",\"type\":\"ColumnDataSource\"}],\"root_ids\":[\"23382\"]},\"title\":\"Bokeh Application\",\"version\":\"1.0.2\"}};\n",
       "  var render_items = [{\"docid\":\"04d86626-5a5f-4f7c-b628-a4cc706a3030\",\"roots\":{\"23382\":\"85d4dddf-fb08-4f5d-831b-ef4852cf1d55\"}}];\n",
       "  root.Bokeh.embed.embed_items_notebook(docs_json, render_items);\n",
       "\n",
       "  }\n",
       "  if (root.Bokeh !== undefined) {\n",
       "    embed_document(root);\n",
       "  } else {\n",
       "    var attempts = 0;\n",
       "    var timer = setInterval(function(root) {\n",
       "      if (root.Bokeh !== undefined) {\n",
       "        embed_document(root);\n",
       "        clearInterval(timer);\n",
       "      }\n",
       "      attempts++;\n",
       "      if (attempts > 100) {\n",
       "        console.log(\"Bokeh: ERROR: Unable to run BokehJS code because BokehJS library is missing\");\n",
       "        clearInterval(timer);\n",
       "      }\n",
       "    }, 10, root)\n",
       "  }\n",
       "})(window);"
      ],
      "application/vnd.bokehjs_exec.v0+json": ""
     },
     "metadata": {
      "application/vnd.bokehjs_exec.v0+json": {
       "id": "23382"
      }
     },
     "output_type": "display_data"
    },
    {
     "data": {
      "text/html": [
       "\n",
       "\n",
       "\n",
       "\n",
       "\n",
       "\n",
       "  <div class=\"bk-root\" id=\"48e39412-7537-4eeb-8a41-0c234659bc94\"></div>\n"
      ]
     },
     "metadata": {},
     "output_type": "display_data"
    },
    {
     "data": {
      "application/javascript": [
       "(function(root) {\n",
       "  function embed_document(root) {\n",
       "    \n",
       "  var docs_json = {\"e0d58c16-d4ea-4ffa-ad4d-57c38632a99c\":{\"roots\":{\"references\":[{\"attributes\":{\"below\":[{\"id\":\"24218\",\"type\":\"LinearAxis\"}],\"left\":[{\"id\":\"24223\",\"type\":\"CategoricalAxis\"}],\"plot_height\":2000,\"renderers\":[{\"id\":\"24218\",\"type\":\"LinearAxis\"},{\"id\":\"24222\",\"type\":\"Grid\"},{\"id\":\"24223\",\"type\":\"CategoricalAxis\"},{\"id\":\"24226\",\"type\":\"Grid\"},{\"id\":\"24235\",\"type\":\"BoxAnnotation\"},{\"id\":\"24245\",\"type\":\"GlyphRenderer\"},{\"id\":\"24250\",\"type\":\"GlyphRenderer\"},{\"id\":\"24255\",\"type\":\"GlyphRenderer\"},{\"id\":\"24260\",\"type\":\"GlyphRenderer\"}],\"title\":{\"id\":\"24947\",\"type\":\"Title\"},\"toolbar\":{\"id\":\"24233\",\"type\":\"Toolbar\"},\"x_range\":{\"id\":\"24210\",\"type\":\"DataRange1d\"},\"x_scale\":{\"id\":\"24214\",\"type\":\"LinearScale\"},\"y_range\":{\"id\":\"24212\",\"type\":\"FactorRange\"},\"y_scale\":{\"id\":\"24216\",\"type\":\"CategoricalScale\"}},\"id\":\"24209\",\"subtype\":\"Figure\",\"type\":\"Plot\"},{\"attributes\":{},\"id\":\"24230\",\"type\":\"SaveTool\"},{\"attributes\":{\"source\":{\"id\":\"24247\",\"type\":\"ColumnDataSource\"}},\"id\":\"24251\",\"type\":\"CDSView\"},{\"attributes\":{},\"id\":\"24955\",\"type\":\"UnionRenderers\"},{\"attributes\":{},\"id\":\"24231\",\"type\":\"ResetTool\"},{\"attributes\":{},\"id\":\"24956\",\"type\":\"Selection\"},{\"attributes\":{},\"id\":\"24232\",\"type\":\"HelpTool\"},{\"attributes\":{\"callback\":null},\"id\":\"24210\",\"type\":\"DataRange1d\"},{\"attributes\":{},\"id\":\"24957\",\"type\":\"UnionRenderers\"},{\"attributes\":{},\"id\":\"24958\",\"type\":\"Selection\"},{\"attributes\":{\"callback\":null,\"factors\":[\"1\",\"2\",\"3\",\"4\",\"5\",\"6\",\"7\",\"8\",\"9\",\"10\",\"11\",\"12\",\"13\",\"14\",\"15\",\"16\",\"17\",\"18\",\"19\",\"20\",\"21\",\"22\",\"23\",\"24\",\"25\",\"26\",\"27\",\"28\",\"29\",\"30\",\"31\",\"32\",\"33\",\"34\",\"35\",\"36\",\"37\",\"38\",\"39\",\"40\",\"41\",\"42\",\"43\",\"44\",\"45\",\"46\",\"47\",\"48\",\"49\",\"50\",\"51\",\"52\",\"53\",\"54\",\"55\",\"56\",\"57\",\"58\",\"59\",\"60\",\"61\",\"62\",\"63\",\"64\",\"65\",\"66\",\"67\",\"68\",\"69\",\"70\",\"71\",\"72\",\"73\",\"74\",\"75\",\"76\",\"77\",\"78\",\"79\",\"80\",\"81\",\"82\",\"83\",\"84\",\"87\",\"88\",\"89\",\"91\",\"93\"]},\"id\":\"24212\",\"type\":\"FactorRange\"},{\"attributes\":{\"active_drag\":\"auto\",\"active_inspect\":\"auto\",\"active_multi\":null,\"active_scroll\":\"auto\",\"active_tap\":\"auto\",\"tools\":[{\"id\":\"24227\",\"type\":\"PanTool\"},{\"id\":\"24228\",\"type\":\"WheelZoomTool\"},{\"id\":\"24229\",\"type\":\"BoxZoomTool\"},{\"id\":\"24230\",\"type\":\"SaveTool\"},{\"id\":\"24231\",\"type\":\"ResetTool\"},{\"id\":\"24232\",\"type\":\"HelpTool\"}]},\"id\":\"24233\",\"type\":\"Toolbar\"},{\"attributes\":{\"bottom_units\":\"screen\",\"fill_alpha\":{\"value\":0.5},\"fill_color\":{\"value\":\"lightgrey\"},\"left_units\":\"screen\",\"level\":\"overlay\",\"line_alpha\":{\"value\":1.0},\"line_color\":{\"value\":\"black\"},\"line_dash\":[4,4],\"line_width\":{\"value\":2},\"plot\":null,\"render_mode\":\"css\",\"right_units\":\"screen\",\"top_units\":\"screen\"},\"id\":\"24235\",\"type\":\"BoxAnnotation\"},{\"attributes\":{},\"id\":\"24214\",\"type\":\"LinearScale\"},{\"attributes\":{},\"id\":\"24959\",\"type\":\"UnionRenderers\"},{\"attributes\":{},\"id\":\"24954\",\"type\":\"Selection\"},{\"attributes\":{\"fill_alpha\":{\"value\":0.1},\"fill_color\":{\"value\":\"#1f77b4\"},\"height\":{\"value\":0.7},\"left\":{\"field\":\"left\"},\"line_alpha\":{\"value\":0.1},\"line_color\":{\"value\":\"#1f77b4\"},\"line_width\":{\"value\":0.5},\"right\":{\"field\":\"right\"},\"y\":{\"field\":\"y\"}},\"id\":\"24254\",\"type\":\"HBar\"},{\"attributes\":{},\"id\":\"24216\",\"type\":\"CategoricalScale\"},{\"attributes\":{},\"id\":\"24960\",\"type\":\"Selection\"},{\"attributes\":{\"axis_label\":\"Fraction\",\"axis_label_text_font_size\":{\"value\":\"16pt\"},\"formatter\":{\"id\":\"24949\",\"type\":\"BasicTickFormatter\"},\"major_label_text_font_size\":{\"value\":\"16pt\"},\"plot\":{\"id\":\"24209\",\"subtype\":\"Figure\",\"type\":\"Plot\"},\"ticker\":{\"id\":\"24219\",\"type\":\"BasicTicker\"}},\"id\":\"24218\",\"type\":\"LinearAxis\"},{\"attributes\":{\"data_source\":{\"id\":\"24252\",\"type\":\"ColumnDataSource\"},\"glyph\":{\"id\":\"24253\",\"type\":\"HBar\"},\"hover_glyph\":null,\"muted_glyph\":null,\"nonselection_glyph\":{\"id\":\"24254\",\"type\":\"HBar\"},\"selection_glyph\":null,\"view\":{\"id\":\"24256\",\"type\":\"CDSView\"}},\"id\":\"24255\",\"type\":\"GlyphRenderer\"},{\"attributes\":{},\"id\":\"24219\",\"type\":\"BasicTicker\"},{\"attributes\":{\"fill_alpha\":{\"value\":0.3},\"fill_color\":{\"value\":\"#ff7f0e\"},\"height\":{\"value\":0.7},\"left\":{\"field\":\"left\"},\"line_width\":{\"value\":0.5},\"right\":{\"field\":\"right\"},\"y\":{\"field\":\"y\"}},\"id\":\"24253\",\"type\":\"HBar\"},{\"attributes\":{\"fill_alpha\":{\"value\":0.7},\"fill_color\":{\"value\":\"#ff7f0e\"},\"height\":{\"value\":0.7},\"left\":{\"field\":\"left\"},\"line_width\":{\"value\":0.5},\"right\":{\"field\":\"right\"},\"y\":{\"field\":\"y\"}},\"id\":\"24258\",\"type\":\"HBar\"},{\"attributes\":{\"callback\":null,\"data\":{\"left\":{\"__ndarray__\":\"AAAAAAAA8D8AAAAAAADwP83MzMzMzOw/ZmZmZmZm7j/P8zzP8zzvP6Ev6Av6gu4/JUmSJEmS7j9Pp9PpdDrtP67sc0hNMO4/SNa58oBk7T+TTTbZZJPtP3g5BS+n4O0/FK5H4XoU7j/3kMuKgRLuP1/ohV7ohe4/qAR5SpCn7D9dZwIGj+XtP2KRMvB0a+4/kZpgvJV97j9mZmZmZmbuP6YG9o6pge0/9w1r37D27T+uftBRgS/uPwrrKaynsO4/ikuGYB1t7j9mZmZmZmbvP9PS0tLS0u4/XgizXQiz7T/m2oG5dmDuP+O3Sz0Zv+0/yz6H1ATj7T9/0FGBL67uPykw6dQ8yO0/waRT8yB37T+xEzuxEzvtP+wYxbmOUew/4GpjaLqD7T8RERERERHtP5TXUF5Dee0/ncEKncEK7T+jONcxinPtP0+n0+l0Ou0/RGN9aKwP7T+yzpUHJOvsPyGKv8gZFuw/RcmuTZTs6j/btm3btm3rPygFyZ9XWew/586dO3fu7D+sMZEeqJztP6INnz/mKO0/mpmZmZmZ7T+y7xE5QbjrP0t+seQXS+4/gZVDi2zn6z/avE9xyRDsP5nOYjqL6ew/xU7sxE7s7D+cm5ubm5vrP4XrUbgehes/wQUucIEL7D/C/K4WN2HuP1VVVVVVVe0/3dzc3Nzc7D8fwX0E9xHsP33SJ33SJ+0/XXTRRRdd7D/QusEU+azrPyebbLLJJus/F1100UUX7T+rqqqqqqrqPwAAAAAAAOw/2Ymd2Imd6D+SJEmSJEniPzmO4ziO4+g/AAAAAAAA8D9GF1100UXnP1VVVVVVVeU/AAAAAAAA4D8AAAAAAADgP5qZmZmZmek/AAAAAAAA6D8AAAAAAADwP1VVVVVVVdU/AAAAAAAA8D8AAAAAAADwPwAAAAAAAPA/AAAAAAAA8D8AAAAAAADwPw==\",\"dtype\":\"float64\",\"shape\":[89]},\"right\":{\"__ndarray__\":\"AAAAAAAA8D8AAAAAAADwPwAAAAAAAPA/AAAAAAAA8D8AAAAAAADwP+gL+oK+oO8/AAAAAAAA8D8AAAAAAADwPwAAAAAAAPA/AAAAAAAA8D8AAAAAAADwPwAAAAAAAPA/16NwPQrX7z8AAAAAAADwPwAAAAAAAPA/2zesfcPa7z+HUEk3itnvP+bCXX2TvO8/DqkJxlvZ7z/btm3btm3vP3FWfkKcle8/kKcEeUqQ7z8AAAAAAADwPwP6C+gvoO8/ul0rJzzT7z9mZmZmZmbvP8TDw8PDw+8/f9Qpf9Qp7z/5GSV+RonvP5Tx26WejO8/dEhNMN7K7j8AAAAAAADwP5h0ah7kru8/+EYUmHRq7j8UO7ETO7HvPzZo8mWDJu8/cLUxNN3B7j/v7u7u7u7uPwAAAAAAAPA/4Ci73yi77z8SePshgbfvP6/X6/V6ve4/wcspeDkF7z8/6ZM+6ZPuP08frSYhiu8/VdDqSwWt7j/P8zzP8zzvP/15lcUZ7e4/+fHjx48f7z+0W/jVmEjvP4fPH3OUbu8/AAAAAAAA8D/mT1towJLuP5NfLPnFku8/CKwcWmQ77z/FJUOwjjbvPwT3EdxHcO8/FDuxEzux7z8PDw8PDw/vP1yPwvUoXO8/9KMf/ehH7z8AAAAAAADwPwAAAAAAAPA/AAAAAAAA8D8J7iO4j+DuPwAAAAAAAPA/AAAAAAAA8D8AAAAAAADwPwAAAAAAAPA/AAAAAAAA8D8AAAAAAADwPwAAAAAAAPA/AAAAAAAA8D8AAAAAAADwPwAAAAAAAPA/AAAAAAAA8D8AAAAAAADwPwAAAAAAAPA/AAAAAAAA8D8AAAAAAADwPwAAAAAAAPA/AAAAAAAA8D8AAAAAAADwPwAAAAAAAPA/AAAAAAAA8D8AAAAAAADwPwAAAAAAAPA/AAAAAAAA8D8AAAAAAADwPw==\",\"dtype\":\"float64\",\"shape\":[89]},\"y\":[\"1\",\"2\",\"3\",\"4\",\"5\",\"6\",\"7\",\"8\",\"9\",\"10\",\"11\",\"12\",\"13\",\"14\",\"15\",\"16\",\"17\",\"18\",\"19\",\"20\",\"21\",\"22\",\"23\",\"24\",\"25\",\"26\",\"27\",\"28\",\"29\",\"30\",\"31\",\"32\",\"33\",\"34\",\"35\",\"36\",\"37\",\"38\",\"39\",\"40\",\"41\",\"42\",\"43\",\"44\",\"45\",\"46\",\"47\",\"48\",\"49\",\"50\",\"51\",\"52\",\"53\",\"54\",\"55\",\"56\",\"57\",\"58\",\"59\",\"60\",\"61\",\"62\",\"63\",\"64\",\"65\",\"66\",\"67\",\"68\",\"69\",\"70\",\"71\",\"72\",\"73\",\"74\",\"75\",\"76\",\"77\",\"78\",\"79\",\"80\",\"81\",\"82\",\"83\",\"84\",\"87\",\"88\",\"89\",\"91\",\"93\"]},\"selected\":{\"id\":\"24958\",\"type\":\"Selection\"},\"selection_policy\":{\"id\":\"24957\",\"type\":\"UnionRenderers\"}},\"id\":\"24252\",\"type\":\"ColumnDataSource\"},{\"attributes\":{\"plot\":{\"id\":\"24209\",\"subtype\":\"Figure\",\"type\":\"Plot\"},\"ticker\":{\"id\":\"24219\",\"type\":\"BasicTicker\"}},\"id\":\"24222\",\"type\":\"Grid\"},{\"attributes\":{\"callback\":null,\"data\":{\"left\":{\"__ndarray__\":\"AAAAAAAA8D8AAAAAAADwPwAAAAAAAPA/AAAAAAAA8D8AAAAAAADwP+gL+oK+oO8/AAAAAAAA8D8AAAAAAADwPwAAAAAAAPA/AAAAAAAA8D8AAAAAAADwPwAAAAAAAPA/16NwPQrX7z8AAAAAAADwPwAAAAAAAPA/2zesfcPa7z+HUEk3itnvP+bCXX2TvO8/DqkJxlvZ7z/btm3btm3vP3FWfkKcle8/kKcEeUqQ7z8AAAAAAADwPwP6C+gvoO8/ul0rJzzT7z9mZmZmZmbvP8TDw8PDw+8/f9Qpf9Qp7z/5GSV+RonvP5Tx26WejO8/dEhNMN7K7j8AAAAAAADwP5h0ah7kru8/+EYUmHRq7j8UO7ETO7HvPzZo8mWDJu8/cLUxNN3B7j/v7u7u7u7uPwAAAAAAAPA/4Ci73yi77z8SePshgbfvP6/X6/V6ve4/wcspeDkF7z8/6ZM+6ZPuP08frSYhiu8/VdDqSwWt7j/P8zzP8zzvP/15lcUZ7e4/+fHjx48f7z+0W/jVmEjvP4fPH3OUbu8/AAAAAAAA8D/mT1towJLuP5NfLPnFku8/CKwcWmQ77z/FJUOwjjbvPwT3EdxHcO8/FDuxEzux7z8PDw8PDw/vP1yPwvUoXO8/9KMf/ehH7z8AAAAAAADwPwAAAAAAAPA/AAAAAAAA8D8J7iO4j+DuPwAAAAAAAPA/AAAAAAAA8D8AAAAAAADwPwAAAAAAAPA/AAAAAAAA8D8AAAAAAADwPwAAAAAAAPA/AAAAAAAA8D8AAAAAAADwPwAAAAAAAPA/AAAAAAAA8D8AAAAAAADwPwAAAAAAAPA/AAAAAAAA8D8AAAAAAADwPwAAAAAAAPA/AAAAAAAA8D8AAAAAAADwPwAAAAAAAPA/AAAAAAAA8D8AAAAAAADwPwAAAAAAAPA/AAAAAAAA8D8AAAAAAADwPw==\",\"dtype\":\"float64\",\"shape\":[89]},\"right\":{\"__ndarray__\":\"AAAAAAAA8D8AAAAAAADwPwAAAAAAAPA/AAAAAAAA8D8AAAAAAADwPwAAAAAAAPA/AAAAAAAA8D8AAAAAAADwPwAAAAAAAPA/AAAAAAAA8D8AAAAAAADwPwAAAAAAAPA/AAAAAAAA8D8AAAAAAADwPwAAAAAAAPA/AAAAAAAA8D8AAAAAAADwPwAAAAAAAPA/AAAAAAAA8D8AAAAAAADwPwAAAAAAAPA/AAAAAAAA8D8AAAAAAADwPwAAAAAAAPA/AAAAAAAA8D8AAAAAAADwPwAAAAAAAPA/AAAAAAAA8D8AAAAAAADwPwAAAAAAAPA/AAAAAAAA8D8AAAAAAADwPwAAAAAAAPA/AAAAAAAA8D8AAAAAAADwPwAAAAAAAPA/AAAAAAAA8D8AAAAAAADwPwAAAAAAAPA/AAAAAAAA8D8AAAAAAADwPwAAAAAAAPA/AAAAAAAA8D8AAAAAAADwPwAAAAAAAPA/AAAAAAAA8D8AAAAAAADwPwAAAAAAAPA/AAAAAAAA8D8AAAAAAADwPwAAAAAAAPA/AAAAAAAA8D8AAAAAAADwPwAAAAAAAPA/AAAAAAAA8D8AAAAAAADwPwAAAAAAAPA/AAAAAAAA8D8AAAAAAADwPwAAAAAAAPA/AAAAAAAA8D8AAAAAAADwPwAAAAAAAPA/AAAAAAAA8D8AAAAAAADwPwAAAAAAAPA/AAAAAAAA8D8AAAAAAADwPwAAAAAAAPA/AAAAAAAA8D8AAAAAAADwPwAAAAAAAPA/AAAAAAAA8D8AAAAAAADwPwAAAAAAAPA/AAAAAAAA8D8AAAAAAADwPwAAAAAAAPA/AAAAAAAA8D8AAAAAAADwPwAAAAAAAPA/AAAAAAAA8D8AAAAAAADwPwAAAAAAAPA/AAAAAAAA8D8AAAAAAADwPwAAAAAAAPA/AAAAAAAA8D8AAAAAAADwPw==\",\"dtype\":\"float64\",\"shape\":[89]},\"y\":[\"1\",\"2\",\"3\",\"4\",\"5\",\"6\",\"7\",\"8\",\"9\",\"10\",\"11\",\"12\",\"13\",\"14\",\"15\",\"16\",\"17\",\"18\",\"19\",\"20\",\"21\",\"22\",\"23\",\"24\",\"25\",\"26\",\"27\",\"28\",\"29\",\"30\",\"31\",\"32\",\"33\",\"34\",\"35\",\"36\",\"37\",\"38\",\"39\",\"40\",\"41\",\"42\",\"43\",\"44\",\"45\",\"46\",\"47\",\"48\",\"49\",\"50\",\"51\",\"52\",\"53\",\"54\",\"55\",\"56\",\"57\",\"58\",\"59\",\"60\",\"61\",\"62\",\"63\",\"64\",\"65\",\"66\",\"67\",\"68\",\"69\",\"70\",\"71\",\"72\",\"73\",\"74\",\"75\",\"76\",\"77\",\"78\",\"79\",\"80\",\"81\",\"82\",\"83\",\"84\",\"87\",\"88\",\"89\",\"91\",\"93\"]},\"selected\":{\"id\":\"24960\",\"type\":\"Selection\"},\"selection_policy\":{\"id\":\"24959\",\"type\":\"UnionRenderers\"}},\"id\":\"24257\",\"type\":\"ColumnDataSource\"},{\"attributes\":{\"axis_label\":\"Speed Limit (MPH)\",\"axis_label_text_font_size\":{\"value\":\"16pt\"},\"formatter\":{\"id\":\"24951\",\"type\":\"CategoricalTickFormatter\"},\"major_label_text_font_size\":{\"value\":\"16pt\"},\"plot\":{\"id\":\"24209\",\"subtype\":\"Figure\",\"type\":\"Plot\"},\"ticker\":{\"id\":\"24224\",\"type\":\"CategoricalTicker\"}},\"id\":\"24223\",\"type\":\"CategoricalAxis\"},{\"attributes\":{\"source\":{\"id\":\"24252\",\"type\":\"ColumnDataSource\"}},\"id\":\"24256\",\"type\":\"CDSView\"},{\"attributes\":{},\"id\":\"24224\",\"type\":\"CategoricalTicker\"},{\"attributes\":{\"fill_alpha\":{\"value\":0.1},\"fill_color\":{\"value\":\"#1f77b4\"},\"height\":{\"value\":0.7},\"left\":{\"field\":\"left\"},\"line_alpha\":{\"value\":0.1},\"line_color\":{\"value\":\"#1f77b4\"},\"line_width\":{\"value\":0.5},\"right\":{\"field\":\"right\"},\"y\":{\"field\":\"y\"}},\"id\":\"24259\",\"type\":\"HBar\"},{\"attributes\":{\"callback\":null,\"data\":{\"left\":{\"__ndarray__\":\"AAAAAAAAAAAAAAAAAAAAAAAAAAAAAAAAAAAAAAAAAAAAAAAAAAAAAAAAAAAAAAAAAAAAAAAAAAAAAAAAAAAAAAAAAAAAAAAAAAAAAAAAAAAAAAAAAAAAAAAAAAAAAAAAAAAAAAAAAAAAAAAAAAAAAAAAAAAAAAAAAAAAAAAAAAAAAAAAAAAAAAAAAAAAAAAAAAAAAAAAAAAAAAAAAAAAAAAAAAAAAAAAAAAAAAAAAAAAAAAAAAAAAAAAAAAAAAAAAAAAAAAAAAAAAAAAAAAAAAAAAAAAAAAAAAAAAAAAAAAAAAAAAAAAAAAAAAAAAAAAAAAAAAAAAAAAAAAAAAAAAAAAAAAAAAAAAAAAAAAAAAAAAAAAAAAAAAAAAAAAAAAAAAAAAAAAAAAAAAAAAAAAAAAAAAAAAAAAAAAAAAAAAAAAAAAAAAAAAAAAAAAAAAAAAAAAAAAAAAAAAAAAAAAAAAAAAAAAAAAAAAAAAAAAAAAAAAAAAAAAAAAAAAAAAAAAAAAAAAAAAAAAAAAAAAAAAAAAAAAAAAAAAAAAAAAAAAAAAAAAAAAAAAAAAAAAAAAAAAAAAAAAAAAAAAAAAAAAAAAAAAAAAAAAAAAAAAAAAAAAAAAAAAAAAAAAAAAAAAAAAAAAAAAAAAAAAAAAAAAAAAAAAAAAAAAAAAAAAAAAAAAAAAAAAAAAAAAAAAAAAAAAAAAAAAAAAAAAAAAAAAAAAAAAAAAAAAAAAAAAAAAAAAAAAAAAAAAAAAAAAAAAAAAAAAAAAAAAAAAAAAAAAAAAAAAAAAAAAAAAAAAAAAAAAAAAAAAAAAAAAAAAAAAAAAAAAAAAAAAAAAAAAAAAAAAAAAAAAAAAAAAAAAAAAAAAAAAAAAAAAAAAAAAAAAAAAAAAAAAAAAAAAAAAAAAAAAAAAAAAAAAAAAAAAAAAAAAAAAAAAAAAAAAAAA==\",\"dtype\":\"float64\",\"shape\":[89]},\"right\":{\"__ndarray__\":\"AAAAAAAA8D8AAAAAAADwP83MzMzMzOw/ZmZmZmZm7j/P8zzP8zzvP4k74o64I+4/AAAAAAAA7j8+n8/n8/nsP+iQmmC8le0/fdInfdIn7T/ZZJNNNtnsP0RjfWisD+0/w/UoXI/C7T8YcaLytNDtP47cyI3cyO0/7RvWvmHt6z/wWN6rLXLtP7o1PyxSBu4/2eeQmmC87T8WX/EVX/HtPz3P8zzP8+w/fsPaN6x96z9Nw3azPInsPxjQX0B/Ae0/z/Q36Hat7D/NzMzMzMztPy0tLS0tLe0/PDw8PDw87D/MtQNz7cDsP4JEK2wOJOo/ln0OqQnG6z/9oKMCX1ztP/GNKDDp1Ow/6dQ8yF0/6z87sRM7sRPrP0ZxrmMU5+o/q42h6Q726z9mZmZmZmbqP2wor6G8huo/OMruN8ru5z9Y6amFlZ7qP51Op9PpdOo/27Zt27Zt6z+amZmZmZnpP5uEKP4iZ+g/QzpvMaTz5j8YhmEYhmHoP+hVFme0e+g/z507d+7c6T/hV2MiPVDpP9Afc5RuX+k/AAAAAAAA6T/50xYasKTnPz0K16NwPeo/okW28/3U6D/BOtq8T3HpP6+hvIbyGuo/J3ZiJ3Zi6z/JyMjIyMjoPz0K16NwPeo/nvGMZzzj6T+1uAnzu1rsP83MzMzMzOw/WlpaWlpa6j82lNdQXkPpP/qkT/qkT+o/o4suuuii6z/5rBtMkc/qPyebbLLJJus/o4suuuii6z+rqqqqqqrqPwAAAAAAAOw/2Ymd2Imd6D+SJEmSJEniPzmO4ziO4+g/AAAAAAAA8D9GF1100UXnP1VVVVVVVeU/AAAAAAAA4D8AAAAAAADgP5qZmZmZmek/AAAAAAAA6D8AAAAAAADwP1VVVVVVVdU/AAAAAAAA8D8AAAAAAAAAAAAAAAAAAPA/AAAAAAAA8D8AAAAAAADwPw==\",\"dtype\":\"float64\",\"shape\":[89]},\"y\":[\"1\",\"2\",\"3\",\"4\",\"5\",\"6\",\"7\",\"8\",\"9\",\"10\",\"11\",\"12\",\"13\",\"14\",\"15\",\"16\",\"17\",\"18\",\"19\",\"20\",\"21\",\"22\",\"23\",\"24\",\"25\",\"26\",\"27\",\"28\",\"29\",\"30\",\"31\",\"32\",\"33\",\"34\",\"35\",\"36\",\"37\",\"38\",\"39\",\"40\",\"41\",\"42\",\"43\",\"44\",\"45\",\"46\",\"47\",\"48\",\"49\",\"50\",\"51\",\"52\",\"53\",\"54\",\"55\",\"56\",\"57\",\"58\",\"59\",\"60\",\"61\",\"62\",\"63\",\"64\",\"65\",\"66\",\"67\",\"68\",\"69\",\"70\",\"71\",\"72\",\"73\",\"74\",\"75\",\"76\",\"77\",\"78\",\"79\",\"80\",\"81\",\"82\",\"83\",\"84\",\"87\",\"88\",\"89\",\"91\",\"93\"]},\"selected\":{\"id\":\"24954\",\"type\":\"Selection\"},\"selection_policy\":{\"id\":\"24953\",\"type\":\"UnionRenderers\"}},\"id\":\"24242\",\"type\":\"ColumnDataSource\"},{\"attributes\":{\"dimension\":1,\"plot\":{\"id\":\"24209\",\"subtype\":\"Figure\",\"type\":\"Plot\"},\"ticker\":{\"id\":\"24224\",\"type\":\"CategoricalTicker\"}},\"id\":\"24226\",\"type\":\"Grid\"},{\"attributes\":{\"data_source\":{\"id\":\"24257\",\"type\":\"ColumnDataSource\"},\"glyph\":{\"id\":\"24258\",\"type\":\"HBar\"},\"hover_glyph\":null,\"muted_glyph\":null,\"nonselection_glyph\":{\"id\":\"24259\",\"type\":\"HBar\"},\"selection_glyph\":null,\"view\":{\"id\":\"24261\",\"type\":\"CDSView\"}},\"id\":\"24260\",\"type\":\"GlyphRenderer\"},{\"attributes\":{\"plot\":null,\"text\":\"\",\"text_font_size\":{\"value\":\"16pt\"}},\"id\":\"24947\",\"type\":\"Title\"},{\"attributes\":{\"fill_alpha\":{\"value\":0.7},\"fill_color\":{\"value\":\"#1f77b4\"},\"height\":{\"value\":0.7},\"left\":{\"field\":\"left\"},\"line_width\":{\"value\":0.5},\"right\":{\"field\":\"right\"},\"y\":{\"field\":\"y\"}},\"id\":\"24248\",\"type\":\"HBar\"},{\"attributes\":{\"fill_alpha\":{\"value\":0.3},\"fill_color\":{\"value\":\"#1f77b4\"},\"height\":{\"value\":0.7},\"left\":{\"field\":\"left\"},\"line_width\":{\"value\":0.5},\"right\":{\"field\":\"right\"},\"y\":{\"field\":\"y\"}},\"id\":\"24243\",\"type\":\"HBar\"},{\"attributes\":{\"source\":{\"id\":\"24257\",\"type\":\"ColumnDataSource\"}},\"id\":\"24261\",\"type\":\"CDSView\"},{\"attributes\":{\"callback\":null,\"data\":{\"left\":{\"__ndarray__\":\"AAAAAAAA8D8AAAAAAADwP83MzMzMzOw/ZmZmZmZm7j/P8zzP8zzvP4k74o64I+4/AAAAAAAA7j8+n8/n8/nsP+iQmmC8le0/fdInfdIn7T/ZZJNNNtnsP0RjfWisD+0/w/UoXI/C7T8YcaLytNDtP47cyI3cyO0/7RvWvmHt6z/wWN6rLXLtP7o1PyxSBu4/2eeQmmC87T8WX/EVX/HtPz3P8zzP8+w/fsPaN6x96z9Nw3azPInsPxjQX0B/Ae0/z/Q36Hat7D/NzMzMzMztPy0tLS0tLe0/PDw8PDw87D/MtQNz7cDsP4JEK2wOJOo/ln0OqQnG6z/9oKMCX1ztP/GNKDDp1Ow/6dQ8yF0/6z87sRM7sRPrP0ZxrmMU5+o/q42h6Q726z9mZmZmZmbqP2wor6G8huo/OMruN8ru5z9Y6amFlZ7qP51Op9PpdOo/27Zt27Zt6z+amZmZmZnpP5uEKP4iZ+g/QzpvMaTz5j8YhmEYhmHoP+hVFme0e+g/z507d+7c6T/hV2MiPVDpP9Afc5RuX+k/AAAAAAAA6T/50xYasKTnPz0K16NwPeo/okW28/3U6D/BOtq8T3HpP6+hvIbyGuo/J3ZiJ3Zi6z/JyMjIyMjoPz0K16NwPeo/nvGMZzzj6T+1uAnzu1rsP83MzMzMzOw/WlpaWlpa6j82lNdQXkPpP/qkT/qkT+o/o4suuuii6z/5rBtMkc/qPyebbLLJJus/o4suuuii6z+rqqqqqqrqPwAAAAAAAOw/2Ymd2Imd6D+SJEmSJEniPzmO4ziO4+g/AAAAAAAA8D9GF1100UXnP1VVVVVVVeU/AAAAAAAA4D8AAAAAAADgP5qZmZmZmek/AAAAAAAA6D8AAAAAAADwP1VVVVVVVdU/AAAAAAAA8D8AAAAAAAAAAAAAAAAAAPA/AAAAAAAA8D8AAAAAAADwPw==\",\"dtype\":\"float64\",\"shape\":[89]},\"right\":{\"__ndarray__\":\"AAAAAAAA8D8AAAAAAADwP83MzMzMzOw/ZmZmZmZm7j/P8zzP8zzvP6Ev6Av6gu4/JUmSJEmS7j9Pp9PpdDrtP67sc0hNMO4/SNa58oBk7T+TTTbZZJPtP3g5BS+n4O0/FK5H4XoU7j/3kMuKgRLuP1/ohV7ohe4/qAR5SpCn7D9dZwIGj+XtP2KRMvB0a+4/kZpgvJV97j9mZmZmZmbuP6YG9o6pge0/9w1r37D27T+uftBRgS/uPwrrKaynsO4/ikuGYB1t7j9mZmZmZmbvP9PS0tLS0u4/XgizXQiz7T/m2oG5dmDuP+O3Sz0Zv+0/yz6H1ATj7T9/0FGBL67uPykw6dQ8yO0/waRT8yB37T+xEzuxEzvtP+wYxbmOUew/4GpjaLqD7T8RERERERHtP5TXUF5Dee0/ncEKncEK7T+jONcxinPtP0+n0+l0Ou0/RGN9aKwP7T+yzpUHJOvsPyGKv8gZFuw/RcmuTZTs6j/btm3btm3rPygFyZ9XWew/586dO3fu7D+sMZEeqJztP6INnz/mKO0/mpmZmZmZ7T+y7xE5QbjrP0t+seQXS+4/gZVDi2zn6z/avE9xyRDsP5nOYjqL6ew/xU7sxE7s7D+cm5ubm5vrP4XrUbgehes/wQUucIEL7D/C/K4WN2HuP1VVVVVVVe0/3dzc3Nzc7D8fwX0E9xHsP33SJ33SJ+0/XXTRRRdd7D/QusEU+azrPyebbLLJJus/F1100UUX7T+rqqqqqqrqPwAAAAAAAOw/2Ymd2Imd6D+SJEmSJEniPzmO4ziO4+g/AAAAAAAA8D9GF1100UXnP1VVVVVVVeU/AAAAAAAA4D8AAAAAAADgP5qZmZmZmek/AAAAAAAA6D8AAAAAAADwP1VVVVVVVdU/AAAAAAAA8D8AAAAAAADwPwAAAAAAAPA/AAAAAAAA8D8AAAAAAADwPw==\",\"dtype\":\"float64\",\"shape\":[89]},\"y\":[\"1\",\"2\",\"3\",\"4\",\"5\",\"6\",\"7\",\"8\",\"9\",\"10\",\"11\",\"12\",\"13\",\"14\",\"15\",\"16\",\"17\",\"18\",\"19\",\"20\",\"21\",\"22\",\"23\",\"24\",\"25\",\"26\",\"27\",\"28\",\"29\",\"30\",\"31\",\"32\",\"33\",\"34\",\"35\",\"36\",\"37\",\"38\",\"39\",\"40\",\"41\",\"42\",\"43\",\"44\",\"45\",\"46\",\"47\",\"48\",\"49\",\"50\",\"51\",\"52\",\"53\",\"54\",\"55\",\"56\",\"57\",\"58\",\"59\",\"60\",\"61\",\"62\",\"63\",\"64\",\"65\",\"66\",\"67\",\"68\",\"69\",\"70\",\"71\",\"72\",\"73\",\"74\",\"75\",\"76\",\"77\",\"78\",\"79\",\"80\",\"81\",\"82\",\"83\",\"84\",\"87\",\"88\",\"89\",\"91\",\"93\"]},\"selected\":{\"id\":\"24956\",\"type\":\"Selection\"},\"selection_policy\":{\"id\":\"24955\",\"type\":\"UnionRenderers\"}},\"id\":\"24247\",\"type\":\"ColumnDataSource\"},{\"attributes\":{\"fill_alpha\":{\"value\":0.1},\"fill_color\":{\"value\":\"#1f77b4\"},\"height\":{\"value\":0.7},\"left\":{\"field\":\"left\"},\"line_alpha\":{\"value\":0.1},\"line_color\":{\"value\":\"#1f77b4\"},\"line_width\":{\"value\":0.5},\"right\":{\"field\":\"right\"},\"y\":{\"field\":\"y\"}},\"id\":\"24244\",\"type\":\"HBar\"},{\"attributes\":{},\"id\":\"24949\",\"type\":\"BasicTickFormatter\"},{\"attributes\":{\"data_source\":{\"id\":\"24242\",\"type\":\"ColumnDataSource\"},\"glyph\":{\"id\":\"24243\",\"type\":\"HBar\"},\"hover_glyph\":null,\"muted_glyph\":null,\"nonselection_glyph\":{\"id\":\"24244\",\"type\":\"HBar\"},\"selection_glyph\":null,\"view\":{\"id\":\"24246\",\"type\":\"CDSView\"}},\"id\":\"24245\",\"type\":\"GlyphRenderer\"},{\"attributes\":{},\"id\":\"24227\",\"type\":\"PanTool\"},{\"attributes\":{},\"id\":\"24951\",\"type\":\"CategoricalTickFormatter\"},{\"attributes\":{\"fill_alpha\":{\"value\":0.1},\"fill_color\":{\"value\":\"#1f77b4\"},\"height\":{\"value\":0.7},\"left\":{\"field\":\"left\"},\"line_alpha\":{\"value\":0.1},\"line_color\":{\"value\":\"#1f77b4\"},\"line_width\":{\"value\":0.5},\"right\":{\"field\":\"right\"},\"y\":{\"field\":\"y\"}},\"id\":\"24249\",\"type\":\"HBar\"},{\"attributes\":{\"source\":{\"id\":\"24242\",\"type\":\"ColumnDataSource\"}},\"id\":\"24246\",\"type\":\"CDSView\"},{\"attributes\":{\"data_source\":{\"id\":\"24247\",\"type\":\"ColumnDataSource\"},\"glyph\":{\"id\":\"24248\",\"type\":\"HBar\"},\"hover_glyph\":null,\"muted_glyph\":null,\"nonselection_glyph\":{\"id\":\"24249\",\"type\":\"HBar\"},\"selection_glyph\":null,\"view\":{\"id\":\"24251\",\"type\":\"CDSView\"}},\"id\":\"24250\",\"type\":\"GlyphRenderer\"},{\"attributes\":{},\"id\":\"24228\",\"type\":\"WheelZoomTool\"},{\"attributes\":{},\"id\":\"24953\",\"type\":\"UnionRenderers\"},{\"attributes\":{\"overlay\":{\"id\":\"24235\",\"type\":\"BoxAnnotation\"}},\"id\":\"24229\",\"type\":\"BoxZoomTool\"}],\"root_ids\":[\"24209\"]},\"title\":\"Bokeh Application\",\"version\":\"1.0.2\"}};\n",
       "  var render_items = [{\"docid\":\"e0d58c16-d4ea-4ffa-ad4d-57c38632a99c\",\"roots\":{\"24209\":\"48e39412-7537-4eeb-8a41-0c234659bc94\"}}];\n",
       "  root.Bokeh.embed.embed_items_notebook(docs_json, render_items);\n",
       "\n",
       "  }\n",
       "  if (root.Bokeh !== undefined) {\n",
       "    embed_document(root);\n",
       "  } else {\n",
       "    var attempts = 0;\n",
       "    var timer = setInterval(function(root) {\n",
       "      if (root.Bokeh !== undefined) {\n",
       "        embed_document(root);\n",
       "        clearInterval(timer);\n",
       "      }\n",
       "      attempts++;\n",
       "      if (attempts > 100) {\n",
       "        console.log(\"Bokeh: ERROR: Unable to run BokehJS code because BokehJS library is missing\");\n",
       "        clearInterval(timer);\n",
       "      }\n",
       "    }, 10, root)\n",
       "  }\n",
       "})(window);"
      ],
      "application/vnd.bokehjs_exec.v0+json": ""
     },
     "metadata": {
      "application/vnd.bokehjs_exec.v0+json": {
       "id": "24209"
      }
     },
     "output_type": "display_data"
    },
    {
     "data": {
      "text/html": [
       "\n",
       "\n",
       "\n",
       "\n",
       "\n",
       "\n",
       "  <div class=\"bk-root\" id=\"c5fcb987-7221-456c-98fe-27d6f0addccb\"></div>\n"
      ]
     },
     "metadata": {},
     "output_type": "display_data"
    },
    {
     "data": {
      "application/javascript": [
       "(function(root) {\n",
       "  function embed_document(root) {\n",
       "    \n",
       "  var docs_json = {\"f36a936a-7089-4f95-81e1-4b9cc8e0076c\":{\"roots\":{\"references\":[{\"attributes\":{\"below\":[{\"id\":\"25060\",\"type\":\"LinearAxis\"}],\"left\":[{\"id\":\"25065\",\"type\":\"CategoricalAxis\"}],\"plot_height\":400,\"renderers\":[{\"id\":\"25060\",\"type\":\"LinearAxis\"},{\"id\":\"25064\",\"type\":\"Grid\"},{\"id\":\"25065\",\"type\":\"CategoricalAxis\"},{\"id\":\"25068\",\"type\":\"Grid\"},{\"id\":\"25077\",\"type\":\"BoxAnnotation\"},{\"id\":\"25096\",\"type\":\"Legend\"},{\"id\":\"25087\",\"type\":\"GlyphRenderer\"},{\"id\":\"25101\",\"type\":\"GlyphRenderer\"},{\"id\":\"25116\",\"type\":\"GlyphRenderer\"},{\"id\":\"25133\",\"type\":\"GlyphRenderer\"}],\"title\":{\"id\":\"25090\",\"type\":\"Title\"},\"toolbar\":{\"id\":\"25075\",\"type\":\"Toolbar\"},\"x_range\":{\"id\":\"25052\",\"type\":\"Range1d\"},\"x_scale\":{\"id\":\"25056\",\"type\":\"LinearScale\"},\"y_range\":{\"id\":\"25054\",\"type\":\"FactorRange\"},\"y_scale\":{\"id\":\"25058\",\"type\":\"CategoricalScale\"}},\"id\":\"25051\",\"subtype\":\"Figure\",\"type\":\"Plot\"},{\"attributes\":{},\"id\":\"25069\",\"type\":\"PanTool\"},{\"attributes\":{\"source\":{\"id\":\"25084\",\"type\":\"ColumnDataSource\"}},\"id\":\"25088\",\"type\":\"CDSView\"},{\"attributes\":{},\"id\":\"25092\",\"type\":\"BasicTickFormatter\"},{\"attributes\":{\"axis_label_text_font_size\":{\"value\":\"16pt\"},\"formatter\":{\"id\":\"25094\",\"type\":\"CategoricalTickFormatter\"},\"major_label_text_font_size\":{\"value\":\"16pt\"},\"plot\":{\"id\":\"25051\",\"subtype\":\"Figure\",\"type\":\"Plot\"},\"ticker\":{\"id\":\"25066\",\"type\":\"CategoricalTicker\"}},\"id\":\"25065\",\"type\":\"CategoricalAxis\"},{\"attributes\":{\"source\":{\"id\":\"25130\",\"type\":\"ColumnDataSource\"}},\"id\":\"25134\",\"type\":\"CDSView\"},{\"attributes\":{},\"id\":\"25094\",\"type\":\"CategoricalTickFormatter\"},{\"attributes\":{\"plot\":{\"id\":\"25051\",\"subtype\":\"Figure\",\"type\":\"Plot\"},\"ticker\":{\"id\":\"25061\",\"type\":\"BasicTicker\"}},\"id\":\"25064\",\"type\":\"Grid\"},{\"attributes\":{},\"id\":\"25146\",\"type\":\"UnionRenderers\"},{\"attributes\":{\"items\":[{\"id\":\"25097\",\"type\":\"LegendItem\"},{\"id\":\"25112\",\"type\":\"LegendItem\"},{\"id\":\"25129\",\"type\":\"LegendItem\"},{\"id\":\"25148\",\"type\":\"LegendItem\"}],\"label_text_font_size\":{\"value\":\"16pt\"},\"plot\":{\"id\":\"25051\",\"subtype\":\"Figure\",\"type\":\"Plot\"}},\"id\":\"25096\",\"type\":\"Legend\"},{\"attributes\":{\"data_source\":{\"id\":\"25113\",\"type\":\"ColumnDataSource\"},\"glyph\":{\"id\":\"25114\",\"type\":\"HBar\"},\"hover_glyph\":null,\"muted_glyph\":null,\"nonselection_glyph\":{\"id\":\"25115\",\"type\":\"HBar\"},\"selection_glyph\":null,\"view\":{\"id\":\"25117\",\"type\":\"CDSView\"}},\"id\":\"25116\",\"type\":\"GlyphRenderer\"},{\"attributes\":{},\"id\":\"25061\",\"type\":\"BasicTicker\"},{\"attributes\":{},\"id\":\"25147\",\"type\":\"Selection\"},{\"attributes\":{},\"id\":\"25128\",\"type\":\"Selection\"},{\"attributes\":{\"label\":{\"value\":\"Not Severe, Not Intoxicated\"},\"renderers\":[{\"id\":\"25087\",\"type\":\"GlyphRenderer\"}]},\"id\":\"25097\",\"type\":\"LegendItem\"},{\"attributes\":{\"axis_label\":\"Fraction\",\"axis_label_text_font_size\":{\"value\":\"16pt\"},\"formatter\":{\"id\":\"25092\",\"type\":\"BasicTickFormatter\"},\"major_label_text_font_size\":{\"value\":\"16pt\"},\"plot\":{\"id\":\"25051\",\"subtype\":\"Figure\",\"type\":\"Plot\"},\"ticker\":{\"id\":\"25061\",\"type\":\"BasicTicker\"}},\"id\":\"25060\",\"type\":\"LinearAxis\"},{\"attributes\":{\"label\":{\"value\":\"Severe, Intoxicated\"},\"renderers\":[{\"id\":\"25133\",\"type\":\"GlyphRenderer\"}]},\"id\":\"25148\",\"type\":\"LegendItem\"},{\"attributes\":{\"callback\":null,\"data\":{\"left\":{\"__ndarray__\":\"11jXrbGu6z/BpFPzIHftP4qW7FlY8e0/NjtqEfLX7D8=\",\"dtype\":\"float64\",\"shape\":[4]},\"right\":{\"__ndarray__\":\"uFRMb6mY7j8AAAAAAADwPxnLMpRZ0e8/z/M8z/M87z8=\",\"dtype\":\"float64\",\"shape\":[4]},\"y\":[\"Dark\",\"Dawn\",\"Dayl\",\"Dusk\"]},\"selected\":{\"id\":\"25147\",\"type\":\"Selection\"},\"selection_policy\":{\"id\":\"25146\",\"type\":\"UnionRenderers\"}},\"id\":\"25113\",\"type\":\"ColumnDataSource\"},{\"attributes\":{\"fill_alpha\":{\"value\":0.3},\"fill_color\":{\"value\":\"#ff7f0e\"},\"height\":{\"value\":0.7},\"left\":{\"field\":\"left\"},\"line_width\":{\"value\":0.5},\"right\":{\"field\":\"right\"},\"y\":{\"field\":\"y\"}},\"id\":\"25114\",\"type\":\"HBar\"},{\"attributes\":{},\"id\":\"25058\",\"type\":\"CategoricalScale\"},{\"attributes\":{},\"id\":\"25862\",\"type\":\"Selection\"},{\"attributes\":{},\"id\":\"25056\",\"type\":\"LinearScale\"},{\"attributes\":{\"source\":{\"id\":\"25113\",\"type\":\"ColumnDataSource\"}},\"id\":\"25117\",\"type\":\"CDSView\"},{\"attributes\":{\"callback\":null,\"factors\":[\"Dark\",\"Dawn\",\"Dayl\",\"Dusk\"]},\"id\":\"25054\",\"type\":\"FactorRange\"},{\"attributes\":{\"fill_alpha\":{\"value\":0.1},\"fill_color\":{\"value\":\"#1f77b4\"},\"height\":{\"value\":0.7},\"left\":{\"field\":\"left\"},\"line_alpha\":{\"value\":0.1},\"line_color\":{\"value\":\"#1f77b4\"},\"line_width\":{\"value\":0.5},\"right\":{\"field\":\"right\"},\"y\":{\"field\":\"y\"}},\"id\":\"25115\",\"type\":\"HBar\"},{\"attributes\":{\"data_source\":{\"id\":\"25098\",\"type\":\"ColumnDataSource\"},\"glyph\":{\"id\":\"25099\",\"type\":\"HBar\"},\"hover_glyph\":null,\"muted_glyph\":null,\"nonselection_glyph\":{\"id\":\"25100\",\"type\":\"HBar\"},\"selection_glyph\":null,\"view\":{\"id\":\"25102\",\"type\":\"CDSView\"}},\"id\":\"25101\",\"type\":\"GlyphRenderer\"},{\"attributes\":{\"callback\":null,\"end\":5},\"id\":\"25052\",\"type\":\"Range1d\"},{\"attributes\":{\"overlay\":{\"id\":\"25077\",\"type\":\"BoxAnnotation\"}},\"id\":\"25071\",\"type\":\"BoxZoomTool\"},{\"attributes\":{\"label\":{\"value\":\"Severe, Not Intoxicated\"},\"renderers\":[{\"id\":\"25116\",\"type\":\"GlyphRenderer\"}]},\"id\":\"25129\",\"type\":\"LegendItem\"},{\"attributes\":{\"callback\":null,\"data\":{\"left\":{\"__ndarray__\":\"XkVYu4qw5j8hd/1ssTLsP9fVmnxQ7uw/zY5ahPw16z8=\",\"dtype\":\"float64\",\"shape\":[4]},\"right\":{\"__ndarray__\":\"11jXrbGu6z/BpFPzIHftP4qW7FlY8e0/NjtqEfLX7D8=\",\"dtype\":\"float64\",\"shape\":[4]},\"y\":[\"Dark\",\"Dawn\",\"Dayl\",\"Dusk\"]},\"selected\":{\"id\":\"25128\",\"type\":\"Selection\"},\"selection_policy\":{\"id\":\"25127\",\"type\":\"UnionRenderers\"}},\"id\":\"25098\",\"type\":\"ColumnDataSource\"},{\"attributes\":{\"fill_alpha\":{\"value\":0.7},\"fill_color\":{\"value\":\"#1f77b4\"},\"height\":{\"value\":0.7},\"left\":{\"field\":\"left\"},\"line_width\":{\"value\":0.5},\"right\":{\"field\":\"right\"},\"y\":{\"field\":\"y\"}},\"id\":\"25099\",\"type\":\"HBar\"},{\"attributes\":{},\"id\":\"25073\",\"type\":\"ResetTool\"},{\"attributes\":{},\"id\":\"25070\",\"type\":\"WheelZoomTool\"},{\"attributes\":{\"plot\":null,\"text\":\"\",\"text_font_size\":{\"value\":\"16pt\"}},\"id\":\"25090\",\"type\":\"Title\"},{\"attributes\":{},\"id\":\"25072\",\"type\":\"SaveTool\"},{\"attributes\":{},\"id\":\"25074\",\"type\":\"HelpTool\"},{\"attributes\":{},\"id\":\"25066\",\"type\":\"CategoricalTicker\"},{\"attributes\":{\"fill_alpha\":{\"value\":0.1},\"fill_color\":{\"value\":\"#1f77b4\"},\"height\":{\"value\":0.7},\"left\":{\"field\":\"left\"},\"line_alpha\":{\"value\":0.1},\"line_color\":{\"value\":\"#1f77b4\"},\"line_width\":{\"value\":0.5},\"right\":{\"field\":\"right\"},\"y\":{\"field\":\"y\"}},\"id\":\"25132\",\"type\":\"HBar\"},{\"attributes\":{\"source\":{\"id\":\"25098\",\"type\":\"ColumnDataSource\"}},\"id\":\"25102\",\"type\":\"CDSView\"},{\"attributes\":{\"data_source\":{\"id\":\"25130\",\"type\":\"ColumnDataSource\"},\"glyph\":{\"id\":\"25131\",\"type\":\"HBar\"},\"hover_glyph\":null,\"muted_glyph\":null,\"nonselection_glyph\":{\"id\":\"25132\",\"type\":\"HBar\"},\"selection_glyph\":null,\"view\":{\"id\":\"25134\",\"type\":\"CDSView\"}},\"id\":\"25133\",\"type\":\"GlyphRenderer\"},{\"attributes\":{\"fill_alpha\":{\"value\":0.1},\"fill_color\":{\"value\":\"#1f77b4\"},\"height\":{\"value\":0.7},\"left\":{\"field\":\"left\"},\"line_alpha\":{\"value\":0.1},\"line_color\":{\"value\":\"#1f77b4\"},\"line_width\":{\"value\":0.5},\"right\":{\"field\":\"right\"},\"y\":{\"field\":\"y\"}},\"id\":\"25100\",\"type\":\"HBar\"},{\"attributes\":{\"bottom_units\":\"screen\",\"fill_alpha\":{\"value\":0.5},\"fill_color\":{\"value\":\"lightgrey\"},\"left_units\":\"screen\",\"level\":\"overlay\",\"line_alpha\":{\"value\":1.0},\"line_color\":{\"value\":\"black\"},\"line_dash\":[4,4],\"line_width\":{\"value\":2},\"plot\":null,\"render_mode\":\"css\",\"right_units\":\"screen\",\"top_units\":\"screen\"},\"id\":\"25077\",\"type\":\"BoxAnnotation\"},{\"attributes\":{\"dimension\":1,\"plot\":{\"id\":\"25051\",\"subtype\":\"Figure\",\"type\":\"Plot\"},\"ticker\":{\"id\":\"25066\",\"type\":\"CategoricalTicker\"}},\"id\":\"25068\",\"type\":\"Grid\"},{\"attributes\":{\"callback\":null,\"data\":{\"left\":{\"__ndarray__\":\"uFRMb6mY7j8AAAAAAADwPxnLMpRZ0e8/z/M8z/M87z8=\",\"dtype\":\"float64\",\"shape\":[4]},\"right\":{\"__ndarray__\":\"AAAAAAAA8D8AAAAAAADwPwAAAAAAAPA/AAAAAAAA8D8=\",\"dtype\":\"float64\",\"shape\":[4]},\"y\":[\"Dark\",\"Dawn\",\"Dayl\",\"Dusk\"]},\"selected\":{\"id\":\"25862\",\"type\":\"Selection\"},\"selection_policy\":{\"id\":\"25861\",\"type\":\"UnionRenderers\"}},\"id\":\"25130\",\"type\":\"ColumnDataSource\"},{\"attributes\":{},\"id\":\"25110\",\"type\":\"UnionRenderers\"},{\"attributes\":{\"fill_alpha\":{\"value\":0.1},\"fill_color\":{\"value\":\"#1f77b4\"},\"height\":{\"value\":0.7},\"left\":{\"field\":\"left\"},\"line_alpha\":{\"value\":0.1},\"line_color\":{\"value\":\"#1f77b4\"},\"line_width\":{\"value\":0.5},\"right\":{\"field\":\"right\"},\"y\":{\"field\":\"y\"}},\"id\":\"25086\",\"type\":\"HBar\"},{\"attributes\":{\"fill_alpha\":{\"value\":0.7},\"fill_color\":{\"value\":\"#ff7f0e\"},\"height\":{\"value\":0.7},\"left\":{\"field\":\"left\"},\"line_width\":{\"value\":0.5},\"right\":{\"field\":\"right\"},\"y\":{\"field\":\"y\"}},\"id\":\"25131\",\"type\":\"HBar\"},{\"attributes\":{},\"id\":\"25111\",\"type\":\"Selection\"},{\"attributes\":{\"callback\":null,\"data\":{\"left\":{\"__ndarray__\":\"AAAAAAAAAAAAAAAAAAAAAAAAAAAAAAAAAAAAAAAAAAA=\",\"dtype\":\"float64\",\"shape\":[4]},\"right\":{\"__ndarray__\":\"XkVYu4qw5j8hd/1ssTLsP9fVmnxQ7uw/zY5ahPw16z8=\",\"dtype\":\"float64\",\"shape\":[4]},\"y\":[\"Dark\",\"Dawn\",\"Dayl\",\"Dusk\"]},\"selected\":{\"id\":\"25111\",\"type\":\"Selection\"},\"selection_policy\":{\"id\":\"25110\",\"type\":\"UnionRenderers\"}},\"id\":\"25084\",\"type\":\"ColumnDataSource\"},{\"attributes\":{},\"id\":\"25861\",\"type\":\"UnionRenderers\"},{\"attributes\":{\"data_source\":{\"id\":\"25084\",\"type\":\"ColumnDataSource\"},\"glyph\":{\"id\":\"25085\",\"type\":\"HBar\"},\"hover_glyph\":null,\"muted_glyph\":null,\"nonselection_glyph\":{\"id\":\"25086\",\"type\":\"HBar\"},\"selection_glyph\":null,\"view\":{\"id\":\"25088\",\"type\":\"CDSView\"}},\"id\":\"25087\",\"type\":\"GlyphRenderer\"},{\"attributes\":{\"label\":{\"value\":\"Not Severe, Intoxicated\"},\"renderers\":[{\"id\":\"25101\",\"type\":\"GlyphRenderer\"}]},\"id\":\"25112\",\"type\":\"LegendItem\"},{\"attributes\":{},\"id\":\"25127\",\"type\":\"UnionRenderers\"},{\"attributes\":{\"fill_alpha\":{\"value\":0.3},\"fill_color\":{\"value\":\"#1f77b4\"},\"height\":{\"value\":0.7},\"left\":{\"field\":\"left\"},\"line_width\":{\"value\":0.5},\"right\":{\"field\":\"right\"},\"y\":{\"field\":\"y\"}},\"id\":\"25085\",\"type\":\"HBar\"},{\"attributes\":{\"active_drag\":\"auto\",\"active_inspect\":\"auto\",\"active_multi\":null,\"active_scroll\":\"auto\",\"active_tap\":\"auto\",\"tools\":[{\"id\":\"25069\",\"type\":\"PanTool\"},{\"id\":\"25070\",\"type\":\"WheelZoomTool\"},{\"id\":\"25071\",\"type\":\"BoxZoomTool\"},{\"id\":\"25072\",\"type\":\"SaveTool\"},{\"id\":\"25073\",\"type\":\"ResetTool\"},{\"id\":\"25074\",\"type\":\"HelpTool\"}]},\"id\":\"25075\",\"type\":\"Toolbar\"}],\"root_ids\":[\"25051\"]},\"title\":\"Bokeh Application\",\"version\":\"1.0.2\"}};\n",
       "  var render_items = [{\"docid\":\"f36a936a-7089-4f95-81e1-4b9cc8e0076c\",\"roots\":{\"25051\":\"c5fcb987-7221-456c-98fe-27d6f0addccb\"}}];\n",
       "  root.Bokeh.embed.embed_items_notebook(docs_json, render_items);\n",
       "\n",
       "  }\n",
       "  if (root.Bokeh !== undefined) {\n",
       "    embed_document(root);\n",
       "  } else {\n",
       "    var attempts = 0;\n",
       "    var timer = setInterval(function(root) {\n",
       "      if (root.Bokeh !== undefined) {\n",
       "        embed_document(root);\n",
       "        clearInterval(timer);\n",
       "      }\n",
       "      attempts++;\n",
       "      if (attempts > 100) {\n",
       "        console.log(\"Bokeh: ERROR: Unable to run BokehJS code because BokehJS library is missing\");\n",
       "        clearInterval(timer);\n",
       "      }\n",
       "    }, 10, root)\n",
       "  }\n",
       "})(window);"
      ],
      "application/vnd.bokehjs_exec.v0+json": ""
     },
     "metadata": {
      "application/vnd.bokehjs_exec.v0+json": {
       "id": "25051"
      }
     },
     "output_type": "display_data"
    }
   ],
   "source": [
    "#obtain rows of df for intoxicated biker / severe outcomes\n",
    "intox = (df['Biker Intox.'] == 'Yes')\n",
    "severe = (df['BikeInjury'] == 'Serious') | (df['BikeInjury'] == 'Killed') \n",
    "\n",
    "indices = [ (~severe & ~intox), (~severe & intox), (severe & ~intox),  (severe & intox) ]\n",
    "colors = [bkpal.Category10[10][0], bkpal.Category10[10][0], bkpal.Category10[10][1], bkpal.Category10[10][1]]\n",
    "alphas = [0.3, 0.7, 0.3, 0.7]\n",
    "labels=['Not Severe, Not Intoxicated', 'Not Severe, Intoxicated', 'Severe, Not Intoxicated', 'Severe, Intoxicated']\n",
    "\n",
    "coln = df.DrvrVehTyp.unique()\n",
    "vals = np.zeros(coln.shape[0])\n",
    "totalcts = df.DrvrVehTyp.value_counts()[coln]\n",
    "fig = bkp.figure(width=800, height=400, y_range=coln,\n",
    "                x_axis_label='Fraction')\n",
    "print(totalcts)\n",
    "for i in range(4):\n",
    "    cts = df.DrvrVehTyp[indices[i]].value_counts()[coln]\n",
    "    cts[np.isnan(cts)] = 0\n",
    "    fig.hbar(y = coln, left = vals/totalcts, right=(vals+cts)/totalcts,\n",
    "                 fill_color=colors[i], line_color='black', line_width=0.5, height=.7, fill_alpha=alphas[i])\n",
    "    vals = vals + cts\n",
    "bkp.show(fig)\n",
    "\n",
    "\n",
    "coln = np.sort(df.SpeedLimit.unique())\n",
    "vals = np.zeros(coln.shape[0])\n",
    "totalcts = df.SpeedLimit.value_counts()[coln]\n",
    "fig = bkp.figure(width=600, height=250, y_range=[str(x) for x in coln],\n",
    "                x_axis_label='Fraction',\n",
    "                y_axis_label='Speed Limit (MPH)')\n",
    "for i in range(4):\n",
    "    cts = df.SpeedLimit[indices[i]].value_counts()[coln]\n",
    "    cts[np.isnan(cts)] = 0\n",
    "    fig.hbar(y = [str(x) for x in coln], left = vals/totalcts, right=(vals+cts)/totalcts,\n",
    "                 fill_color=colors[i], line_color='black', line_width=0.5, height=.7, fill_alpha=alphas[i])\n",
    "    vals = vals + cts\n",
    "bkp.show(fig)\n",
    "\n",
    "\n",
    "coln = np.sort(df.BikeSex.unique())\n",
    "vals = np.zeros(coln.shape[0])\n",
    "totalcts = df.BikeSex.value_counts()[coln]\n",
    "fig = bkp.figure(width=600, height=250, y_range=[str(x) for x in coln],\n",
    "                x_axis_label='Fraction',\n",
    "                y_axis_label='Speed Limit (MPH)')\n",
    "for i in range(4):\n",
    "    cts = df.BikeSex[indices[i]].value_counts()[coln]\n",
    "    cts[np.isnan(cts)] = 0\n",
    "    fig.hbar(y = [str(x) for x in coln], left = vals/totalcts, right=(vals+cts)/totalcts,\n",
    "                 fill_color=colors[i], line_color='black', line_width=0.5, height=.7, fill_alpha=alphas[i])\n",
    "    vals = vals + cts\n",
    "bkp.show(fig)\n",
    "\n",
    "coln = np.array(['Dawn', 'Dayl', 'Dusk', 'Dark'])\n",
    "vals = np.zeros(coln.shape[0])\n",
    "totalcts = df.LightCond.value_counts()[coln]\n",
    "fig = bkp.figure(width=600, height=200, y_range=[str(x) for x in coln],\n",
    "                x_axis_label='Fraction')\n",
    "for i in range(4):\n",
    "    cts = df.LightCond[indices[i]].value_counts()[coln]\n",
    "    cts[np.isnan(cts)] = 0\n",
    "    fig.hbar(y = [str(x) for x in coln], left = vals/totalcts, right=(vals+cts)/totalcts,\n",
    "                 fill_color=colors[i], line_color='black', line_width=0.5, height=.7, fill_alpha=alphas[i])\n",
    "    vals = vals + cts\n",
    "bkp.show(fig)\n",
    "\n",
    "\n",
    "coln = np.sort(df.BikeAge.unique())\n",
    "vals = np.zeros(coln.shape[0])\n",
    "totalcts = df.BikeAge.value_counts()[coln]\n",
    "fig = bkp.figure(width=600, height=2000, y_range=[str(x) for x in coln],\n",
    "                x_axis_label='Fraction',\n",
    "                y_axis_label='Speed Limit (MPH)')\n",
    "for i in range(4):\n",
    "    cts = df.BikeAge[indices[i]].value_counts()[coln]\n",
    "    cts[np.isnan(cts)] = 0\n",
    "    fig.hbar(y = [str(x) for x in coln], left = vals/totalcts, right=(vals+cts)/totalcts,\n",
    "                 fill_color=colors[i], line_color='black', line_width=0.5, height=.7, fill_alpha=alphas[i])\n",
    "    vals = vals + cts\n",
    "bkp.show(fig)\n",
    "\n",
    "\n",
    "coln = np.sort(df.LightCond.unique())\n",
    "vals = np.zeros(coln.shape[0])\n",
    "totalcts = df.LightCond.value_counts()\n",
    "fig = bkp.figure(width=600, height=400, y_range=[str(x) for x in coln],\n",
    "                x_axis_label='Fraction', x_range=(0, 5))\n",
    "for i in range(4):\n",
    "    cts = df.LightCond[indices[i]].value_counts()[coln]\n",
    "    cts[np.isnan(cts)] = 0\n",
    "    fig.hbar(y = [str(x) for x in coln], left = vals/totalcts, right=(vals+cts)/totalcts,\n",
    "                 fill_color=colors[i], line_color='black', line_width=0.5, height=.7, fill_alpha=alphas[i],\n",
    "                legend=labels[i])\n",
    "    vals = vals + cts\n",
    "bkp.show(fig)"
   ]
  },
  {
   "cell_type": "markdown",
   "metadata": {},
   "source": [
    "# "
   ]
  },
  {
   "cell_type": "code",
   "execution_count": 109,
   "metadata": {
    "scrolled": false
   },
   "outputs": [
    {
     "data": {
      "text/html": [
       "\n",
       "\n",
       "\n",
       "\n",
       "\n",
       "\n",
       "  <div class=\"bk-root\" id=\"fa728677-decb-40a5-9f78-adc3bf4365e8\"></div>\n"
      ]
     },
     "metadata": {},
     "output_type": "display_data"
    },
    {
     "data": {
      "application/javascript": [
       "(function(root) {\n",
       "  function embed_document(root) {\n",
       "    \n",
       "  var docs_json = {\"609de767-8257-45d3-9d91-1282dd7a4300\":{\"roots\":{\"references\":[{\"attributes\":{\"below\":[{\"id\":\"25962\",\"type\":\"LogAxis\"}],\"left\":[{\"id\":\"25967\",\"type\":\"LinearAxis\"}],\"renderers\":[{\"id\":\"25962\",\"type\":\"LogAxis\"},{\"id\":\"25966\",\"type\":\"Grid\"},{\"id\":\"25967\",\"type\":\"LinearAxis\"},{\"id\":\"25971\",\"type\":\"Grid\"},{\"id\":\"25980\",\"type\":\"BoxAnnotation\"},{\"id\":\"25999\",\"type\":\"Legend\"},{\"id\":\"25990\",\"type\":\"GlyphRenderer\"}],\"title\":{\"id\":\"25993\",\"type\":\"Title\"},\"toolbar\":{\"id\":\"25978\",\"type\":\"Toolbar\"},\"x_range\":{\"id\":\"25954\",\"type\":\"DataRange1d\"},\"x_scale\":{\"id\":\"25958\",\"type\":\"LogScale\"},\"y_range\":{\"id\":\"25956\",\"type\":\"DataRange1d\"},\"y_scale\":{\"id\":\"25960\",\"type\":\"LinearScale\"}},\"id\":\"25953\",\"subtype\":\"Figure\",\"type\":\"Plot\"},{\"attributes\":{\"ticker\":null},\"id\":\"25995\",\"type\":\"LogTickFormatter\"},{\"attributes\":{},\"id\":\"25975\",\"type\":\"SaveTool\"},{\"attributes\":{},\"id\":\"25968\",\"type\":\"BasicTicker\"},{\"attributes\":{},\"id\":\"25960\",\"type\":\"LinearScale\"},{\"attributes\":{\"plot\":null,\"text\":\"\",\"text_font_size\":{\"value\":\"16pt\"}},\"id\":\"25993\",\"type\":\"Title\"},{\"attributes\":{\"callback\":null},\"id\":\"25954\",\"type\":\"DataRange1d\"},{\"attributes\":{},\"id\":\"25977\",\"type\":\"HelpTool\"},{\"attributes\":{\"items\":[{\"id\":\"26000\",\"type\":\"LegendItem\"}],\"label_text_font_size\":{\"value\":\"16pt\"},\"plot\":{\"id\":\"25953\",\"subtype\":\"Figure\",\"type\":\"Plot\"}},\"id\":\"25999\",\"type\":\"Legend\"},{\"attributes\":{\"dimension\":1,\"plot\":{\"id\":\"25953\",\"subtype\":\"Figure\",\"type\":\"Plot\"},\"ticker\":{\"id\":\"25968\",\"type\":\"BasicTicker\"}},\"id\":\"25971\",\"type\":\"Grid\"},{\"attributes\":{\"data_source\":{\"id\":\"25987\",\"type\":\"ColumnDataSource\"},\"glyph\":{\"id\":\"25988\",\"type\":\"Quad\"},\"hover_glyph\":null,\"muted_glyph\":null,\"nonselection_glyph\":{\"id\":\"25989\",\"type\":\"Quad\"},\"selection_glyph\":null,\"view\":{\"id\":\"25991\",\"type\":\"CDSView\"}},\"id\":\"25990\",\"type\":\"GlyphRenderer\"},{\"attributes\":{\"callback\":null},\"id\":\"25956\",\"type\":\"DataRange1d\"},{\"attributes\":{\"label\":{\"value\":\"Frac Severe, Not Intox\"},\"renderers\":[{\"id\":\"25990\",\"type\":\"GlyphRenderer\"}]},\"id\":\"26000\",\"type\":\"LegendItem\"},{\"attributes\":{},\"id\":\"25973\",\"type\":\"WheelZoomTool\"},{\"attributes\":{},\"id\":\"25958\",\"type\":\"LogScale\"},{\"attributes\":{\"bottom_units\":\"screen\",\"fill_alpha\":{\"value\":0.5},\"fill_color\":{\"value\":\"lightgrey\"},\"left_units\":\"screen\",\"level\":\"overlay\",\"line_alpha\":{\"value\":1.0},\"line_color\":{\"value\":\"black\"},\"line_dash\":[4,4],\"line_width\":{\"value\":2},\"plot\":null,\"render_mode\":\"css\",\"right_units\":\"screen\",\"top_units\":\"screen\"},\"id\":\"25980\",\"type\":\"BoxAnnotation\"},{\"attributes\":{},\"id\":\"25972\",\"type\":\"PanTool\"},{\"attributes\":{},\"id\":\"26723\",\"type\":\"Selection\"},{\"attributes\":{\"bottom\":{\"value\":0},\"fill_alpha\":{\"value\":0.1},\"fill_color\":{\"value\":\"#1f77b4\"},\"left\":{\"field\":\"left\"},\"line_alpha\":{\"value\":0.1},\"line_color\":{\"value\":\"#1f77b4\"},\"right\":{\"field\":\"right\"},\"top\":{\"field\":\"top\"}},\"id\":\"25989\",\"type\":\"Quad\"},{\"attributes\":{},\"id\":\"26722\",\"type\":\"UnionRenderers\"},{\"attributes\":{\"source\":{\"id\":\"25987\",\"type\":\"ColumnDataSource\"}},\"id\":\"25991\",\"type\":\"CDSView\"},{\"attributes\":{\"callback\":null,\"data\":{\"left\":{\"__ndarray__\":\"AAAAAAAA8D8AxF36J/v9Px+EI7HrFgxANT7yeDxRGkCardngLKgoQCzBqZnuGTdAxzYgf9CkRUCyec/APEdUQIhivii3/2JAv8rgfdvMcUCML6cAXK2AQA==\",\"dtype\":\"float64\",\"shape\":[11]},\"right\":{\"__ndarray__\":\"AMRd+if7/T8fhCOx6xYMQDU+8ng8URpAmq3Z4CyoKEAswamZ7hk3QMc2IH/QpEVAsnnPwDxHVECIYr4ot/9iQL/K4H3bzHFAjC+nAFytgEAAAAAAAECPQA==\",\"dtype\":\"float64\",\"shape\":[11]},\"top\":[8595,132,1,0,0,0,0,0,0,0,0]},\"selected\":{\"id\":\"26723\",\"type\":\"Selection\"},\"selection_policy\":{\"id\":\"26722\",\"type\":\"UnionRenderers\"}},\"id\":\"25987\",\"type\":\"ColumnDataSource\"},{\"attributes\":{\"overlay\":{\"id\":\"25980\",\"type\":\"BoxAnnotation\"}},\"id\":\"25974\",\"type\":\"BoxZoomTool\"},{\"attributes\":{},\"id\":\"25997\",\"type\":\"BasicTickFormatter\"},{\"attributes\":{\"bottom\":{\"value\":0},\"fill_alpha\":{\"value\":0.4},\"fill_color\":{\"value\":\"#1f77b4\"},\"left\":{\"field\":\"left\"},\"line_alpha\":{\"value\":0.4},\"line_color\":{\"value\":\"white\"},\"right\":{\"field\":\"right\"},\"top\":{\"field\":\"top\"}},\"id\":\"25988\",\"type\":\"Quad\"},{\"attributes\":{\"axis_label_text_font_size\":{\"value\":\"16pt\"},\"formatter\":{\"id\":\"25995\",\"type\":\"LogTickFormatter\"},\"major_label_text_font_size\":{\"value\":\"16pt\"},\"plot\":{\"id\":\"25953\",\"subtype\":\"Figure\",\"type\":\"Plot\"},\"ticker\":{\"id\":\"25963\",\"type\":\"LogTicker\"}},\"id\":\"25962\",\"type\":\"LogAxis\"},{\"attributes\":{\"plot\":{\"id\":\"25953\",\"subtype\":\"Figure\",\"type\":\"Plot\"},\"ticker\":{\"id\":\"25963\",\"type\":\"LogTicker\"}},\"id\":\"25966\",\"type\":\"Grid\"},{\"attributes\":{},\"id\":\"25976\",\"type\":\"ResetTool\"},{\"attributes\":{\"active_drag\":\"auto\",\"active_inspect\":\"auto\",\"active_multi\":null,\"active_scroll\":\"auto\",\"active_tap\":\"auto\",\"tools\":[{\"id\":\"25972\",\"type\":\"PanTool\"},{\"id\":\"25973\",\"type\":\"WheelZoomTool\"},{\"id\":\"25974\",\"type\":\"BoxZoomTool\"},{\"id\":\"25975\",\"type\":\"SaveTool\"},{\"id\":\"25976\",\"type\":\"ResetTool\"},{\"id\":\"25977\",\"type\":\"HelpTool\"}]},\"id\":\"25978\",\"type\":\"Toolbar\"},{\"attributes\":{\"num_minor_ticks\":10},\"id\":\"25963\",\"type\":\"LogTicker\"},{\"attributes\":{\"axis_label_text_font_size\":{\"value\":\"16pt\"},\"formatter\":{\"id\":\"25997\",\"type\":\"BasicTickFormatter\"},\"major_label_text_font_size\":{\"value\":\"16pt\"},\"plot\":{\"id\":\"25953\",\"subtype\":\"Figure\",\"type\":\"Plot\"},\"ticker\":{\"id\":\"25968\",\"type\":\"BasicTicker\"}},\"id\":\"25967\",\"type\":\"LinearAxis\"}],\"root_ids\":[\"25953\"]},\"title\":\"Bokeh Application\",\"version\":\"1.0.2\"}};\n",
       "  var render_items = [{\"docid\":\"609de767-8257-45d3-9d91-1282dd7a4300\",\"roots\":{\"25953\":\"fa728677-decb-40a5-9f78-adc3bf4365e8\"}}];\n",
       "  root.Bokeh.embed.embed_items_notebook(docs_json, render_items);\n",
       "\n",
       "  }\n",
       "  if (root.Bokeh !== undefined) {\n",
       "    embed_document(root);\n",
       "  } else {\n",
       "    var attempts = 0;\n",
       "    var timer = setInterval(function(root) {\n",
       "      if (root.Bokeh !== undefined) {\n",
       "        embed_document(root);\n",
       "        clearInterval(timer);\n",
       "      }\n",
       "      attempts++;\n",
       "      if (attempts > 100) {\n",
       "        console.log(\"Bokeh: ERROR: Unable to run BokehJS code because BokehJS library is missing\");\n",
       "        clearInterval(timer);\n",
       "      }\n",
       "    }, 10, root)\n",
       "  }\n",
       "})(window);"
      ],
      "application/vnd.bokehjs_exec.v0+json": ""
     },
     "metadata": {
      "application/vnd.bokehjs_exec.v0+json": {
       "id": "25953"
      }
     },
     "output_type": "display_data"
    }
   ],
   "source": [
    "unique_bin_cts = df.groupby(['BikeAge','BikeSex','Biker Intox.', 'BikeDir', 'BikePos', 'Day of Week', 'CrashHour', 'DrvrVehTyp','LightCond','SpeedLimit']).count()\n",
    "#print(unique_bin_cts)\n",
    "#unique_bin_cts = df.groupby(['BikeSex','Biker Intox.', 'BikeDir', 'BikePos', 'DrvrVehTyp','LightCond','SpeedLimit']).count()\n",
    "\n",
    "\n",
    "fig = bkp.figure(x_axis_type='log')\n",
    "hist, edges = np.histogram(unique_bin_cts['BikeInjury'], bins=np.logspace(0, 3, 12))\n",
    "fig.quad(top=hist, bottom=0, left=edges[:-1], right=edges[1:],\n",
    "           fill_color=bkpal.Category10[10][0], line_color=\"white\", alpha=0.4, legend='Frac Severe, Not Intox')\n",
    "bkp.show(fig)"
   ]
  },
  {
   "cell_type": "markdown",
   "metadata": {},
   "source": [
    "# Local Estimation"
   ]
  },
  {
   "cell_type": "markdown",
   "metadata": {},
   "source": [
    "### Premetric"
   ]
  },
  {
   "cell_type": "code",
   "execution_count": 141,
   "metadata": {},
   "outputs": [],
   "source": [
    "#covariate = 'CrashHour'\n",
    "def premetric(x1, x2, weight):\n",
    "    return min(1, weight*min(np.fabs(x1-x2), 24 - np.fabs(x1-x2)))"
   ]
  },
  {
   "cell_type": "code",
   "execution_count": 142,
   "metadata": {},
   "outputs": [],
   "source": [
    "def empirical_msr(x, X, premetric):\n",
    "    b = np.zeros(X.shape[0])\n",
    "    for n in range(X.shape[0]):\n",
    "        b[n] = premetric(x, X[n])\n",
    "    idcs = np.argsort(b)\n",
    "    c1 = 1. + 2*np.cumsum(b[idcs])\n",
    "    c2 = 2*(1.+np.arange(b.shape[0]))*b[idcs]\n",
    "    M = (c1 > c2).sum()\n",
    "    mu = (1.+2*b[idcs][:M].sum())/M\n",
    "    w = np.maximum(-2*b + mu, 0)\n",
    "    return w"
   ]
  },
  {
   "cell_type": "markdown",
   "metadata": {},
   "source": [
    "What is the probability of severe outcome as a function of biker age / intoxication state"
   ]
  },
  {
   "cell_type": "code",
   "execution_count": 144,
   "metadata": {},
   "outputs": [
    {
     "name": "stdout",
     "output_type": "stream",
     "text": [
      "weight iteration 1/8\n",
      "weight iteration 2/8\n",
      "weight iteration 3/8\n",
      "weight iteration 4/8\n",
      "weight iteration 5/8\n",
      "weight iteration 6/8\n",
      "weight iteration 7/8\n",
      "weight iteration 8/8\n"
     ]
    }
   ],
   "source": [
    "weights = np.logspace(-7, 0, 8)\n",
    "times = np.linspace(0, 23, 50)\n",
    "ests = np.zeros((weights.shape[0], times.shape[0]))\n",
    "Ybin = np.zeros(Y.shape[0])\n",
    "severe = (Y == 'Serious') | (Y == 'Killed') \n",
    "Ybin[severe] = 1\n",
    "for n in range(weights.shape[0]):\n",
    "    print('weight iteration ' + str(n+1)+'/'+str(weights.shape[0]))\n",
    "    for j in range(times.shape[0]):\n",
    "        emp_msr_wts = empirical_msr(times[j], X[:, 9], lambda x1, x2 : premetric(x1, x2, weights[n]))\n",
    "        ests[n, j] = (emp_msr_wts*Ybin).sum()"
   ]
  },
  {
   "cell_type": "code",
   "execution_count": 128,
   "metadata": {},
   "outputs": [
    {
     "data": {
      "text/html": [
       "\n",
       "\n",
       "\n",
       "\n",
       "\n",
       "\n",
       "  <div class=\"bk-root\" id=\"649f9a75-844f-47b0-a11a-8cf235813b6c\"></div>\n"
      ]
     },
     "metadata": {},
     "output_type": "display_data"
    },
    {
     "data": {
      "application/javascript": [
       "(function(root) {\n",
       "  function embed_document(root) {\n",
       "    \n",
       "  var docs_json = {\"a920dfcd-2e88-4de8-b274-4ed1df138014\":{\"roots\":{\"references\":[{\"attributes\":{\"below\":[{\"id\":\"49280\",\"type\":\"LinearAxis\"}],\"left\":[{\"id\":\"49285\",\"type\":\"LinearAxis\"}],\"renderers\":[{\"id\":\"49280\",\"type\":\"LinearAxis\"},{\"id\":\"49284\",\"type\":\"Grid\"},{\"id\":\"49285\",\"type\":\"LinearAxis\"},{\"id\":\"49289\",\"type\":\"Grid\"},{\"id\":\"49298\",\"type\":\"BoxAnnotation\"},{\"id\":\"49308\",\"type\":\"GlyphRenderer\"},{\"id\":\"49313\",\"type\":\"GlyphRenderer\"},{\"id\":\"49318\",\"type\":\"GlyphRenderer\"},{\"id\":\"49323\",\"type\":\"GlyphRenderer\"},{\"id\":\"49328\",\"type\":\"GlyphRenderer\"},{\"id\":\"49333\",\"type\":\"GlyphRenderer\"},{\"id\":\"49338\",\"type\":\"GlyphRenderer\"},{\"id\":\"49343\",\"type\":\"GlyphRenderer\"},{\"id\":\"49348\",\"type\":\"GlyphRenderer\"},{\"id\":\"49353\",\"type\":\"GlyphRenderer\"},{\"id\":\"49358\",\"type\":\"GlyphRenderer\"},{\"id\":\"49363\",\"type\":\"GlyphRenderer\"},{\"id\":\"49368\",\"type\":\"GlyphRenderer\"},{\"id\":\"49373\",\"type\":\"GlyphRenderer\"},{\"id\":\"49378\",\"type\":\"GlyphRenderer\"},{\"id\":\"49383\",\"type\":\"GlyphRenderer\"}],\"title\":{\"id\":\"50560\",\"type\":\"Title\"},\"toolbar\":{\"id\":\"49296\",\"type\":\"Toolbar\"},\"x_range\":{\"id\":\"49272\",\"type\":\"Range1d\"},\"x_scale\":{\"id\":\"49276\",\"type\":\"LinearScale\"},\"y_range\":{\"id\":\"49274\",\"type\":\"DataRange1d\"},\"y_scale\":{\"id\":\"49278\",\"type\":\"LinearScale\"}},\"id\":\"49271\",\"subtype\":\"Figure\",\"type\":\"Plot\"},{\"attributes\":{\"plot\":{\"id\":\"49271\",\"subtype\":\"Figure\",\"type\":\"Plot\"},\"ticker\":{\"id\":\"49281\",\"type\":\"BasicTicker\"}},\"id\":\"49284\",\"type\":\"Grid\"},{\"attributes\":{\"line_color\":\"#1f77b4\",\"line_width\":3,\"x\":{\"field\":\"x\"},\"y\":{\"field\":\"y\"}},\"id\":\"49366\",\"type\":\"Line\"},{\"attributes\":{\"axis_label_text_font_size\":{\"value\":\"16pt\"},\"formatter\":{\"id\":\"50564\",\"type\":\"BasicTickFormatter\"},\"major_label_text_font_size\":{\"value\":\"16pt\"},\"plot\":{\"id\":\"49271\",\"subtype\":\"Figure\",\"type\":\"Plot\"},\"ticker\":{\"id\":\"49286\",\"type\":\"BasicTicker\"}},\"id\":\"49285\",\"type\":\"LinearAxis\"},{\"attributes\":{\"line_alpha\":0.1,\"line_color\":\"#1f77b4\",\"line_width\":3,\"x\":{\"field\":\"x\"},\"y\":{\"field\":\"y\"}},\"id\":\"49367\",\"type\":\"Line\"},{\"attributes\":{\"data_source\":{\"id\":\"49365\",\"type\":\"ColumnDataSource\"},\"glyph\":{\"id\":\"49366\",\"type\":\"Line\"},\"hover_glyph\":null,\"muted_glyph\":null,\"nonselection_glyph\":{\"id\":\"49367\",\"type\":\"Line\"},\"selection_glyph\":null,\"view\":{\"id\":\"49369\",\"type\":\"CDSView\"}},\"id\":\"49368\",\"type\":\"GlyphRenderer\"},{\"attributes\":{},\"id\":\"49286\",\"type\":\"BasicTicker\"},{\"attributes\":{\"dimension\":1,\"plot\":{\"id\":\"49271\",\"subtype\":\"Figure\",\"type\":\"Plot\"},\"ticker\":{\"id\":\"49286\",\"type\":\"BasicTicker\"}},\"id\":\"49289\",\"type\":\"Grid\"},{\"attributes\":{\"source\":{\"id\":\"49365\",\"type\":\"ColumnDataSource\"}},\"id\":\"49369\",\"type\":\"CDSView\"},{\"attributes\":{\"callback\":null,\"data\":{\"left\":{\"__ndarray__\":\"AAAAAAAA4L8AAAAAAADgPwAAAAAAAPg/AAAAAAAABEAAAAAAAAAMQAAAAAAAABJAAAAAAAAAFkAAAAAAAAAaQAAAAAAAAB5AAAAAAAAAIUAAAAAAAAAjQAAAAAAAACVAAAAAAAAAJ0AAAAAAAAApQAAAAAAAACtAAAAAAAAALUAAAAAAAAAvQAAAAAAAgDBAAAAAAACAMUAAAAAAAIAyQAAAAAAAgDNAAAAAAACANEAAAAAAAIA1QAAAAAAAgDZA\",\"dtype\":\"float64\",\"shape\":[24]},\"right\":{\"__ndarray__\":\"AAAAAAAA4D8AAAAAAAD4PwAAAAAAAARAAAAAAAAADEAAAAAAAAASQAAAAAAAABZAAAAAAAAAGkAAAAAAAAAeQAAAAAAAACFAAAAAAAAAI0AAAAAAAAAlQAAAAAAAACdAAAAAAAAAKUAAAAAAAAArQAAAAAAAAC1AAAAAAAAAL0AAAAAAAIAwQAAAAAAAgDFAAAAAAACAMkAAAAAAAIAzQAAAAAAAgDRAAAAAAACANUAAAAAAAIA2QAAAAAAAgDdA\",\"dtype\":\"float64\",\"shape\":[24]},\"top\":[0.21621621621621623,0.11864406779661017,0.15625,0.2413793103448276,0.21739130434782608,0.15151515151515152,0.140625,0.060790273556231005,0.06472491909385113,0.05757575757575758,0.06199460916442048,0.04337899543378995,0.060851926977687626,0.08303249097472924,0.06605504587155964,0.053545586107091175,0.06875753920386007,0.07513227513227513,0.06900584795321638,0.1069078947368421,0.10909090909090909,0.08469055374592833,0.15228426395939088,0.16993464052287582]},\"selected\":{\"id\":\"50593\",\"type\":\"Selection\"},\"selection_policy\":{\"id\":\"50592\",\"type\":\"UnionRenderers\"}},\"id\":\"49370\",\"type\":\"ColumnDataSource\"},{\"attributes\":{\"line_alpha\":0.1,\"line_color\":\"#1f77b4\",\"line_width\":3,\"x\":{\"field\":\"x\"},\"y\":{\"field\":\"y\"}},\"id\":\"49307\",\"type\":\"Line\"},{\"attributes\":{\"bottom\":{\"value\":0},\"fill_alpha\":{\"value\":0.1},\"fill_color\":{\"value\":\"#1f77b4\"},\"left\":{\"field\":\"left\"},\"line_alpha\":{\"value\":0.1},\"line_color\":{\"value\":\"white\"},\"right\":{\"field\":\"right\"},\"top\":{\"field\":\"top\"}},\"id\":\"49371\",\"type\":\"Quad\"},{\"attributes\":{\"line_color\":\"#1f77b4\",\"line_width\":3,\"x\":{\"field\":\"x\"},\"y\":{\"field\":\"y\"}},\"id\":\"49306\",\"type\":\"Line\"},{\"attributes\":{\"active_drag\":\"auto\",\"active_inspect\":\"auto\",\"active_multi\":null,\"active_scroll\":\"auto\",\"active_tap\":\"auto\",\"tools\":[{\"id\":\"49290\",\"type\":\"PanTool\"},{\"id\":\"49291\",\"type\":\"WheelZoomTool\"},{\"id\":\"49292\",\"type\":\"BoxZoomTool\"},{\"id\":\"49293\",\"type\":\"SaveTool\"},{\"id\":\"49294\",\"type\":\"ResetTool\"},{\"id\":\"49295\",\"type\":\"HelpTool\"}]},\"id\":\"49296\",\"type\":\"Toolbar\"},{\"attributes\":{\"bottom\":{\"value\":0},\"fill_alpha\":{\"value\":0.1},\"fill_color\":{\"value\":\"#1f77b4\"},\"left\":{\"field\":\"left\"},\"line_alpha\":{\"value\":0.1},\"line_color\":{\"value\":\"#1f77b4\"},\"right\":{\"field\":\"right\"},\"top\":{\"field\":\"top\"}},\"id\":\"49372\",\"type\":\"Quad\"},{\"attributes\":{},\"id\":\"49290\",\"type\":\"PanTool\"},{\"attributes\":{\"data_source\":{\"id\":\"49370\",\"type\":\"ColumnDataSource\"},\"glyph\":{\"id\":\"49371\",\"type\":\"Quad\"},\"hover_glyph\":null,\"muted_glyph\":null,\"nonselection_glyph\":{\"id\":\"49372\",\"type\":\"Quad\"},\"selection_glyph\":null,\"view\":{\"id\":\"49374\",\"type\":\"CDSView\"}},\"id\":\"49373\",\"type\":\"GlyphRenderer\"},{\"attributes\":{},\"id\":\"49291\",\"type\":\"WheelZoomTool\"},{\"attributes\":{\"source\":{\"id\":\"49370\",\"type\":\"ColumnDataSource\"}},\"id\":\"49374\",\"type\":\"CDSView\"},{\"attributes\":{\"overlay\":{\"id\":\"49298\",\"type\":\"BoxAnnotation\"}},\"id\":\"49292\",\"type\":\"BoxZoomTool\"},{\"attributes\":{\"callback\":null,\"data\":{\"x\":{\"__ndarray__\":\"AAAAAAAAAADWh8b60FjfP9aHxvrQWO8/4OUUvJyC9z/Wh8b60Fj/P+YUvJyClwNA4OUUvJyCB0Dbtm3btm0LQNaHxvrQWA9AaKwPjfWhEUDmFLycgpcTQGN9aKwPjRVA4OUUvJyCF0BeTsHLKXgZQNu2bdu2bRtAWR8a60NjHUDWh8b60FgfQCp4OQUvpyBAaKwPjfWhIUCn4OUUvJwiQOYUvJyClyNAJEmSJEmSJEBjfWisD40lQKKxPjTWhyZA4OUUvJyCJ0AfGutDY30oQF5OwcspeClAnYKXU/ByKkDbtm3btm0rQBrrQ2N9aCxAWR8a60NjLUCXU/ByCl4uQNaHxvrQWC9ACl5OwcspMEAqeDkFL6cwQEmSJEmSJDFAaKwPjfWhMUCIxvrQWB8yQKfg5RS8nDJAxvrQWB8aM0DmFLycgpczQAUvp+DlFDRAJEmSJEmSNEBEY31orA81QGN9aKwPjTVAgpdT8HIKNkCisT401oc2QMHLKXg5BTdA4OUUvJyCN0AAAAAAAAA4QA==\",\"dtype\":\"float64\",\"shape\":[50]},\"y\":{\"__ndarray__\":\"0LrBFPmsyz9Au8EU+azLP1gEDSd1X74/QAQNJ3Vfvj8AAAAAAADEPwAAAAAAAMQ/SljuaYTlzj90WO5phOXOP73pTW9608s/uOlNb3rTyz9gk0022WTDP4iTTTbZZMM/7v//////wT8kAAAAAADCP2CFrRnnH68/wIStGecfrz+gjL7yz5GwP6CMvvLPkbA/sB2p15F6rT+wHanXkXqtP9hqx+XBva8/kGvH5cG9rz8QY3GNxTWmP0BkcY3FNaY/kBaJ2Psnrz+gFYnY+yevPwDsPQmeQbU/SOs9CZ5BtT8ADsHF++iwP5AOwcX76LA/cKZZulNqqz+Yp1m6U2qrP6jnOxYYmrE/jOg7FhiasT9oNJFo3juzP0wzkWjeO7M/GBoxBF6qsT+OGjEEXqqxP8A2lNdQXrs/vDWU11Beuz+AHNa+Ye27P8Ab1r5h7bs/8G6etkeutT/Ab562R661P5hTs/4MfsM/elSz/gx+wz9oa8AVa8DFPxRrwBVrwMU/wLrBFPmsyz/QusEU+azLPw==\",\"dtype\":\"float64\",\"shape\":[50]}},\"selected\":{\"id\":\"50595\",\"type\":\"Selection\"},\"selection_policy\":{\"id\":\"50594\",\"type\":\"UnionRenderers\"}},\"id\":\"49375\",\"type\":\"ColumnDataSource\"},{\"attributes\":{},\"id\":\"49293\",\"type\":\"SaveTool\"},{\"attributes\":{\"line_color\":\"#1f77b4\",\"line_width\":3,\"x\":{\"field\":\"x\"},\"y\":{\"field\":\"y\"}},\"id\":\"49376\",\"type\":\"Line\"},{\"attributes\":{},\"id\":\"49294\",\"type\":\"ResetTool\"},{\"attributes\":{\"line_alpha\":0.1,\"line_color\":\"#1f77b4\",\"line_width\":3,\"x\":{\"field\":\"x\"},\"y\":{\"field\":\"y\"}},\"id\":\"49377\",\"type\":\"Line\"},{\"attributes\":{},\"id\":\"49295\",\"type\":\"HelpTool\"},{\"attributes\":{\"data_source\":{\"id\":\"49375\",\"type\":\"ColumnDataSource\"},\"glyph\":{\"id\":\"49376\",\"type\":\"Line\"},\"hover_glyph\":null,\"muted_glyph\":null,\"nonselection_glyph\":{\"id\":\"49377\",\"type\":\"Line\"},\"selection_glyph\":null,\"view\":{\"id\":\"49379\",\"type\":\"CDSView\"}},\"id\":\"49378\",\"type\":\"GlyphRenderer\"},{\"attributes\":{\"data_source\":{\"id\":\"49305\",\"type\":\"ColumnDataSource\"},\"glyph\":{\"id\":\"49306\",\"type\":\"Line\"},\"hover_glyph\":null,\"muted_glyph\":null,\"nonselection_glyph\":{\"id\":\"49307\",\"type\":\"Line\"},\"selection_glyph\":null,\"view\":{\"id\":\"49309\",\"type\":\"CDSView\"}},\"id\":\"49308\",\"type\":\"GlyphRenderer\"},{\"attributes\":{\"source\":{\"id\":\"49375\",\"type\":\"ColumnDataSource\"}},\"id\":\"49379\",\"type\":\"CDSView\"},{\"attributes\":{\"bottom_units\":\"screen\",\"fill_alpha\":{\"value\":0.5},\"fill_color\":{\"value\":\"lightgrey\"},\"left_units\":\"screen\",\"level\":\"overlay\",\"line_alpha\":{\"value\":1.0},\"line_color\":{\"value\":\"black\"},\"line_dash\":[4,4],\"line_width\":{\"value\":2},\"plot\":null,\"render_mode\":\"css\",\"right_units\":\"screen\",\"top_units\":\"screen\"},\"id\":\"49298\",\"type\":\"BoxAnnotation\"},{\"attributes\":{\"callback\":null,\"data\":{\"left\":{\"__ndarray__\":\"AAAAAAAA4L8AAAAAAADgPwAAAAAAAPg/AAAAAAAABEAAAAAAAAAMQAAAAAAAABJAAAAAAAAAFkAAAAAAAAAaQAAAAAAAAB5AAAAAAAAAIUAAAAAAAAAjQAAAAAAAACVAAAAAAAAAJ0AAAAAAAAApQAAAAAAAACtAAAAAAAAALUAAAAAAAAAvQAAAAAAAgDBAAAAAAACAMUAAAAAAAIAyQAAAAAAAgDNAAAAAAACANEAAAAAAAIA1QAAAAAAAgDZA\",\"dtype\":\"float64\",\"shape\":[24]},\"right\":{\"__ndarray__\":\"AAAAAAAA4D8AAAAAAAD4PwAAAAAAAARAAAAAAAAADEAAAAAAAAASQAAAAAAAABZAAAAAAAAAGkAAAAAAAAAeQAAAAAAAACFAAAAAAAAAI0AAAAAAAAAlQAAAAAAAACdAAAAAAAAAKUAAAAAAAAArQAAAAAAAAC1AAAAAAAAAL0AAAAAAAIAwQAAAAAAAgDFAAAAAAACAMkAAAAAAAIAzQAAAAAAAgDRAAAAAAACANUAAAAAAAIA2QAAAAAAAgDdA\",\"dtype\":\"float64\",\"shape\":[24]},\"top\":[0.21621621621621623,0.11864406779661017,0.15625,0.2413793103448276,0.21739130434782608,0.15151515151515152,0.140625,0.060790273556231005,0.06472491909385113,0.05757575757575758,0.06199460916442048,0.04337899543378995,0.060851926977687626,0.08303249097472924,0.06605504587155964,0.053545586107091175,0.06875753920386007,0.07513227513227513,0.06900584795321638,0.1069078947368421,0.10909090909090909,0.08469055374592833,0.15228426395939088,0.16993464052287582]},\"selected\":{\"id\":\"50597\",\"type\":\"Selection\"},\"selection_policy\":{\"id\":\"50596\",\"type\":\"UnionRenderers\"}},\"id\":\"49380\",\"type\":\"ColumnDataSource\"},{\"attributes\":{\"source\":{\"id\":\"49305\",\"type\":\"ColumnDataSource\"}},\"id\":\"49309\",\"type\":\"CDSView\"},{\"attributes\":{\"bottom\":{\"value\":0},\"fill_alpha\":{\"value\":0.1},\"fill_color\":{\"value\":\"#1f77b4\"},\"left\":{\"field\":\"left\"},\"line_alpha\":{\"value\":0.1},\"line_color\":{\"value\":\"white\"},\"right\":{\"field\":\"right\"},\"top\":{\"field\":\"top\"}},\"id\":\"49381\",\"type\":\"Quad\"},{\"attributes\":{\"bottom\":{\"value\":0},\"fill_alpha\":{\"value\":0.1},\"fill_color\":{\"value\":\"#1f77b4\"},\"left\":{\"field\":\"left\"},\"line_alpha\":{\"value\":0.1},\"line_color\":{\"value\":\"#1f77b4\"},\"right\":{\"field\":\"right\"},\"top\":{\"field\":\"top\"}},\"id\":\"49382\",\"type\":\"Quad\"},{\"attributes\":{\"bottom\":{\"value\":0},\"fill_alpha\":{\"value\":0.1},\"fill_color\":{\"value\":\"#1f77b4\"},\"left\":{\"field\":\"left\"},\"line_alpha\":{\"value\":0.1},\"line_color\":{\"value\":\"white\"},\"right\":{\"field\":\"right\"},\"top\":{\"field\":\"top\"}},\"id\":\"49311\",\"type\":\"Quad\"},{\"attributes\":{\"callback\":null,\"data\":{\"left\":{\"__ndarray__\":\"AAAAAAAA4L8AAAAAAADgPwAAAAAAAPg/AAAAAAAABEAAAAAAAAAMQAAAAAAAABJAAAAAAAAAFkAAAAAAAAAaQAAAAAAAAB5AAAAAAAAAIUAAAAAAAAAjQAAAAAAAACVAAAAAAAAAJ0AAAAAAAAApQAAAAAAAACtAAAAAAAAALUAAAAAAAAAvQAAAAAAAgDBAAAAAAACAMUAAAAAAAIAyQAAAAAAAgDNAAAAAAACANEAAAAAAAIA1QAAAAAAAgDZA\",\"dtype\":\"float64\",\"shape\":[24]},\"right\":{\"__ndarray__\":\"AAAAAAAA4D8AAAAAAAD4PwAAAAAAAARAAAAAAAAADEAAAAAAAAASQAAAAAAAABZAAAAAAAAAGkAAAAAAAAAeQAAAAAAAACFAAAAAAAAAI0AAAAAAAAAlQAAAAAAAACdAAAAAAAAAKUAAAAAAAAArQAAAAAAAAC1AAAAAAAAAL0AAAAAAAIAwQAAAAAAAgDFAAAAAAACAMkAAAAAAAIAzQAAAAAAAgDRAAAAAAACANUAAAAAAAIA2QAAAAAAAgDdA\",\"dtype\":\"float64\",\"shape\":[24]},\"top\":[0.21621621621621623,0.11864406779661017,0.15625,0.2413793103448276,0.21739130434782608,0.15151515151515152,0.140625,0.060790273556231005,0.06472491909385113,0.05757575757575758,0.06199460916442048,0.04337899543378995,0.060851926977687626,0.08303249097472924,0.06605504587155964,0.053545586107091175,0.06875753920386007,0.07513227513227513,0.06900584795321638,0.1069078947368421,0.10909090909090909,0.08469055374592833,0.15228426395939088,0.16993464052287582]},\"selected\":{\"id\":\"50569\",\"type\":\"Selection\"},\"selection_policy\":{\"id\":\"50568\",\"type\":\"UnionRenderers\"}},\"id\":\"49310\",\"type\":\"ColumnDataSource\"},{\"attributes\":{\"data_source\":{\"id\":\"49380\",\"type\":\"ColumnDataSource\"},\"glyph\":{\"id\":\"49381\",\"type\":\"Quad\"},\"hover_glyph\":null,\"muted_glyph\":null,\"nonselection_glyph\":{\"id\":\"49382\",\"type\":\"Quad\"},\"selection_glyph\":null,\"view\":{\"id\":\"49384\",\"type\":\"CDSView\"}},\"id\":\"49383\",\"type\":\"GlyphRenderer\"},{\"attributes\":{\"bottom\":{\"value\":0},\"fill_alpha\":{\"value\":0.1},\"fill_color\":{\"value\":\"#1f77b4\"},\"left\":{\"field\":\"left\"},\"line_alpha\":{\"value\":0.1},\"line_color\":{\"value\":\"#1f77b4\"},\"right\":{\"field\":\"right\"},\"top\":{\"field\":\"top\"}},\"id\":\"49312\",\"type\":\"Quad\"},{\"attributes\":{\"source\":{\"id\":\"49380\",\"type\":\"ColumnDataSource\"}},\"id\":\"49384\",\"type\":\"CDSView\"},{\"attributes\":{\"data_source\":{\"id\":\"49310\",\"type\":\"ColumnDataSource\"},\"glyph\":{\"id\":\"49311\",\"type\":\"Quad\"},\"hover_glyph\":null,\"muted_glyph\":null,\"nonselection_glyph\":{\"id\":\"49312\",\"type\":\"Quad\"},\"selection_glyph\":null,\"view\":{\"id\":\"49314\",\"type\":\"CDSView\"}},\"id\":\"49313\",\"type\":\"GlyphRenderer\"},{\"attributes\":{\"plot\":null,\"text\":\"\",\"text_font_size\":{\"value\":\"16pt\"}},\"id\":\"50560\",\"type\":\"Title\"},{\"attributes\":{\"source\":{\"id\":\"49310\",\"type\":\"ColumnDataSource\"}},\"id\":\"49314\",\"type\":\"CDSView\"},{\"attributes\":{},\"id\":\"50562\",\"type\":\"BasicTickFormatter\"},{\"attributes\":{\"callback\":null,\"data\":{\"x\":{\"__ndarray__\":\"AAAAAAAAAADWh8b60FjfP9aHxvrQWO8/4OUUvJyC9z/Wh8b60Fj/P+YUvJyClwNA4OUUvJyCB0Dbtm3btm0LQNaHxvrQWA9AaKwPjfWhEUDmFLycgpcTQGN9aKwPjRVA4OUUvJyCF0BeTsHLKXgZQNu2bdu2bRtAWR8a60NjHUDWh8b60FgfQCp4OQUvpyBAaKwPjfWhIUCn4OUUvJwiQOYUvJyClyNAJEmSJEmSJEBjfWisD40lQKKxPjTWhyZA4OUUvJyCJ0AfGutDY30oQF5OwcspeClAnYKXU/ByKkDbtm3btm0rQBrrQ2N9aCxAWR8a60NjLUCXU/ByCl4uQNaHxvrQWC9ACl5OwcspMEAqeDkFL6cwQEmSJEmSJDFAaKwPjfWhMUCIxvrQWB8yQKfg5RS8nDJAxvrQWB8aM0DmFLycgpczQAUvp+DlFDRAJEmSJEmSNEBEY31orA81QGN9aKwPjTVAgpdT8HIKNkCisT401oc2QMHLKXg5BTdA4OUUvJyCN0AAAAAAAAA4QA==\",\"dtype\":\"float64\",\"shape\":[50]},\"y\":{\"__ndarray__\":\"tn6vWwHDtD/5dEbkPcC0Pz1r3Wx6vbQ/4noU+aS6tD+K2Rq9zre0PxA9febKs7Q/fHK5pKuvtD+vUNMm+ai0P7K0w3voobQ/cETtQ4OZtD8iEO/v2ZC0P3JhUG0/h7Q/JWqicmV9tD/3cGu+hXG0P3/MBnf5ZLQ/tVQpnn1atD+fOjhc21C0P+aePTC5SLQ/XkI+D1dBtD+0uvuBqjq0P15M9+ZqNLQ/d7JnOLwvtD+aQpnpKyy0P95/x+CtKrQ/V2NVifAqtD/w2VCZcyy0P6zjuRA3L7Q/O4g6IgMytD+TKTRe2TS0P2+x7LE4OLQ/Anyw81c8tD8ctfC8kUG0PxhRAGiiSLQ/LnVfSztQtD9/qV2f5Fi0P652pM7mYbQ//G1SycBrtD+UEC5XR3a0Pw61kp7TgrQ/CPIpesSOtD8dDBu8Zpi0P5yGjvioobQ/JeONGQuptD/n4c3pSLC0Pz9Q0oSItrQ/X+l82Y68tD9AWUsoH8C0P6VFy6yGw7Q/LmI9BETDtD+2fq9bAcO0Pw==\",\"dtype\":\"float64\",\"shape\":[50]}},\"selected\":{\"id\":\"50571\",\"type\":\"Selection\"},\"selection_policy\":{\"id\":\"50570\",\"type\":\"UnionRenderers\"}},\"id\":\"49315\",\"type\":\"ColumnDataSource\"},{\"attributes\":{},\"id\":\"50564\",\"type\":\"BasicTickFormatter\"},{\"attributes\":{\"line_color\":\"#1f77b4\",\"line_width\":3,\"x\":{\"field\":\"x\"},\"y\":{\"field\":\"y\"}},\"id\":\"49316\",\"type\":\"Line\"},{\"attributes\":{},\"id\":\"50569\",\"type\":\"Selection\"},{\"attributes\":{\"line_alpha\":0.1,\"line_color\":\"#1f77b4\",\"line_width\":3,\"x\":{\"field\":\"x\"},\"y\":{\"field\":\"y\"}},\"id\":\"49317\",\"type\":\"Line\"},{\"attributes\":{},\"id\":\"50570\",\"type\":\"UnionRenderers\"},{\"attributes\":{\"data_source\":{\"id\":\"49315\",\"type\":\"ColumnDataSource\"},\"glyph\":{\"id\":\"49316\",\"type\":\"Line\"},\"hover_glyph\":null,\"muted_glyph\":null,\"nonselection_glyph\":{\"id\":\"49317\",\"type\":\"Line\"},\"selection_glyph\":null,\"view\":{\"id\":\"49319\",\"type\":\"CDSView\"}},\"id\":\"49318\",\"type\":\"GlyphRenderer\"},{\"attributes\":{},\"id\":\"50571\",\"type\":\"Selection\"},{\"attributes\":{\"source\":{\"id\":\"49315\",\"type\":\"ColumnDataSource\"}},\"id\":\"49319\",\"type\":\"CDSView\"},{\"attributes\":{},\"id\":\"50572\",\"type\":\"UnionRenderers\"},{\"attributes\":{\"callback\":null,\"data\":{\"left\":{\"__ndarray__\":\"AAAAAAAA4L8AAAAAAADgPwAAAAAAAPg/AAAAAAAABEAAAAAAAAAMQAAAAAAAABJAAAAAAAAAFkAAAAAAAAAaQAAAAAAAAB5AAAAAAAAAIUAAAAAAAAAjQAAAAAAAACVAAAAAAAAAJ0AAAAAAAAApQAAAAAAAACtAAAAAAAAALUAAAAAAAAAvQAAAAAAAgDBAAAAAAACAMUAAAAAAAIAyQAAAAAAAgDNAAAAAAACANEAAAAAAAIA1QAAAAAAAgDZA\",\"dtype\":\"float64\",\"shape\":[24]},\"right\":{\"__ndarray__\":\"AAAAAAAA4D8AAAAAAAD4PwAAAAAAAARAAAAAAAAADEAAAAAAAAASQAAAAAAAABZAAAAAAAAAGkAAAAAAAAAeQAAAAAAAACFAAAAAAAAAI0AAAAAAAAAlQAAAAAAAACdAAAAAAAAAKUAAAAAAAAArQAAAAAAAAC1AAAAAAAAAL0AAAAAAAIAwQAAAAAAAgDFAAAAAAACAMkAAAAAAAIAzQAAAAAAAgDRAAAAAAACANUAAAAAAAIA2QAAAAAAAgDdA\",\"dtype\":\"float64\",\"shape\":[24]},\"top\":[0.21621621621621623,0.11864406779661017,0.15625,0.2413793103448276,0.21739130434782608,0.15151515151515152,0.140625,0.060790273556231005,0.06472491909385113,0.05757575757575758,0.06199460916442048,0.04337899543378995,0.060851926977687626,0.08303249097472924,0.06605504587155964,0.053545586107091175,0.06875753920386007,0.07513227513227513,0.06900584795321638,0.1069078947368421,0.10909090909090909,0.08469055374592833,0.15228426395939088,0.16993464052287582]},\"selected\":{\"id\":\"50573\",\"type\":\"Selection\"},\"selection_policy\":{\"id\":\"50572\",\"type\":\"UnionRenderers\"}},\"id\":\"49320\",\"type\":\"ColumnDataSource\"},{\"attributes\":{},\"id\":\"50566\",\"type\":\"UnionRenderers\"},{\"attributes\":{},\"id\":\"50573\",\"type\":\"Selection\"},{\"attributes\":{\"bottom\":{\"value\":0},\"fill_alpha\":{\"value\":0.1},\"fill_color\":{\"value\":\"#1f77b4\"},\"left\":{\"field\":\"left\"},\"line_alpha\":{\"value\":0.1},\"line_color\":{\"value\":\"white\"},\"right\":{\"field\":\"right\"},\"top\":{\"field\":\"top\"}},\"id\":\"49321\",\"type\":\"Quad\"},{\"attributes\":{},\"id\":\"50574\",\"type\":\"UnionRenderers\"},{\"attributes\":{},\"id\":\"49278\",\"type\":\"LinearScale\"},{\"attributes\":{\"bottom\":{\"value\":0},\"fill_alpha\":{\"value\":0.1},\"fill_color\":{\"value\":\"#1f77b4\"},\"left\":{\"field\":\"left\"},\"line_alpha\":{\"value\":0.1},\"line_color\":{\"value\":\"#1f77b4\"},\"right\":{\"field\":\"right\"},\"top\":{\"field\":\"top\"}},\"id\":\"49322\",\"type\":\"Quad\"},{\"attributes\":{},\"id\":\"49276\",\"type\":\"LinearScale\"},{\"attributes\":{},\"id\":\"50575\",\"type\":\"Selection\"},{\"attributes\":{\"data_source\":{\"id\":\"49320\",\"type\":\"ColumnDataSource\"},\"glyph\":{\"id\":\"49321\",\"type\":\"Quad\"},\"hover_glyph\":null,\"muted_glyph\":null,\"nonselection_glyph\":{\"id\":\"49322\",\"type\":\"Quad\"},\"selection_glyph\":null,\"view\":{\"id\":\"49324\",\"type\":\"CDSView\"}},\"id\":\"49323\",\"type\":\"GlyphRenderer\"},{\"attributes\":{},\"id\":\"50576\",\"type\":\"UnionRenderers\"},{\"attributes\":{\"source\":{\"id\":\"49320\",\"type\":\"ColumnDataSource\"}},\"id\":\"49324\",\"type\":\"CDSView\"},{\"attributes\":{\"callback\":null,\"data\":{\"x\":{\"__ndarray__\":\"AAAAAAAAAADWh8b60FjfP9aHxvrQWO8/4OUUvJyC9z/Wh8b60Fj/P+YUvJyClwNA4OUUvJyCB0Dbtm3btm0LQNaHxvrQWA9AaKwPjfWhEUDmFLycgpcTQGN9aKwPjRVA4OUUvJyCF0BeTsHLKXgZQNu2bdu2bRtAWR8a60NjHUDWh8b60FgfQCp4OQUvpyBAaKwPjfWhIUCn4OUUvJwiQOYUvJyClyNAJEmSJEmSJEBjfWisD40lQKKxPjTWhyZA4OUUvJyCJ0AfGutDY30oQF5OwcspeClAnYKXU/ByKkDbtm3btm0rQBrrQ2N9aCxAWR8a60NjLUCXU/ByCl4uQNaHxvrQWC9ACl5OwcspMEAqeDkFL6cwQEmSJEmSJDFAaKwPjfWhMUCIxvrQWB8yQKfg5RS8nDJAxvrQWB8aM0DmFLycgpczQAUvp+DlFDRAJEmSJEmSNEBEY31orA81QGN9aKwPjTVAgpdT8HIKNkCisT401oc2QMHLKXg5BTdA4OUUvJyCN0AAAAAAAAA4QA==\",\"dtype\":\"float64\",\"shape\":[50]},\"y\":{\"__ndarray__\":\"+KvzYqJ+tD9lkc+jW360P9N2q+QUfrQ/yl4XWcx9tD9AaH65g320P80L1fAcfbQ/jHdBarN8tD/EDUT3B3y0P8UXXBlTe7Q/vz9gLXx6tD8d1MZxnnm0Pwsp6peoeLQ/6ik/Zax3tD8yRNNsfHa0P/RmfDI7dbQ/+dr/zy50tD8qJc4vOHO0P5cVNfhncrQ/I1no9KpxtD+TS/sZAHG0P71zFCRgcLQ/WeTSRehvtD+PP74KjW+0P7BFqdZmb7Q/b9wdgW1vtD8XNeo1lG+0P6tPDvXab7Q/uflnkCJwtD9B8AAwa3C0P9j9LIXBcLQ/GpLACytxtD8DyxPTsHG0PwPB+7BlcrQ/Od4eLihztD/aSbjpBXS0PyorDIjsdLQ/TSq3uuh1tD/1IE0v9na0PzT+o2k3eLQ/5h0zGWl5tD+202S5X3q0P/ZfcL9Me7Q/axy9wgl8tD9KHF0kw3y0PyD0QxpjfbQ/Cp3uVf19tD/UQQORWH60P3bZ3LevfrQ/t0JoDal+tD/4q/Nion60Pw==\",\"dtype\":\"float64\",\"shape\":[50]}},\"selected\":{\"id\":\"50567\",\"type\":\"Selection\"},\"selection_policy\":{\"id\":\"50566\",\"type\":\"UnionRenderers\"}},\"id\":\"49305\",\"type\":\"ColumnDataSource\"},{\"attributes\":{},\"id\":\"50577\",\"type\":\"Selection\"},{\"attributes\":{\"callback\":null},\"id\":\"49274\",\"type\":\"DataRange1d\"},{\"attributes\":{\"callback\":null,\"data\":{\"x\":{\"__ndarray__\":\"AAAAAAAAAADWh8b60FjfP9aHxvrQWO8/4OUUvJyC9z/Wh8b60Fj/P+YUvJyClwNA4OUUvJyCB0Dbtm3btm0LQNaHxvrQWA9AaKwPjfWhEUDmFLycgpcTQGN9aKwPjRVA4OUUvJyCF0BeTsHLKXgZQNu2bdu2bRtAWR8a60NjHUDWh8b60FgfQCp4OQUvpyBAaKwPjfWhIUCn4OUUvJwiQOYUvJyClyNAJEmSJEmSJEBjfWisD40lQKKxPjTWhyZA4OUUvJyCJ0AfGutDY30oQF5OwcspeClAnYKXU/ByKkDbtm3btm0rQBrrQ2N9aCxAWR8a60NjLUCXU/ByCl4uQNaHxvrQWC9ACl5OwcspMEAqeDkFL6cwQEmSJEmSJDFAaKwPjfWhMUCIxvrQWB8yQKfg5RS8nDJAxvrQWB8aM0DmFLycgpczQAUvp+DlFDRAJEmSJEmSNEBEY31orA81QGN9aKwPjTVAgpdT8HIKNkCisT401oc2QMHLKXg5BTdA4OUUvJyCN0AAAAAAAAA4QA==\",\"dtype\":\"float64\",\"shape\":[50]},\"y\":{\"__ndarray__\":\"GroFE7dutz+9WOtoFFO3P2P30L5xN7c/zJP3OBsbtz9fRjfhvP62P58pD3+W1rY/1D9p7V2ttj/G7WsCZWq2P/PVz1O+I7Y/aHNvJcrPtT9NaIHdLHm1P3uVTsMjGbU/bOyC+J+2tD+eMF3u4j+0P+XDbiRowrM/EBbIq5FZsz8rEV0YO/myP/77kmDlp7I/ql6ZFhBesj/KGeGUehuyP+f7WJXe5bE/T+Hq0a2/sT8H32cyhqaxPxSJxV8yobE/p5X2E9qlsT9X8vKqyLWxP7mXU0ZqzLE/EhRGAH/ksT9sNdTvsv+xP1HZ1ZwyIrI/DAln6edLsj8UmFIaQISyP5DttZLY0LI/9h/NtOIisz/a/h02kHizP9nlLGIx0LM/7OybOQortD/RzUXJ7om0P9LOJyB687Q/KBT77lxbtT/PSrnxare1Pyq6IsOfGLY/OgTULRJmtj8GfLUYP6+2P2/pYa7+8bY/yOQL/T0utz93QxwR4VG3P29/Gz7sc7c/xZyQqFFxtz8augUTt263Pw==\",\"dtype\":\"float64\",\"shape\":[50]}},\"selected\":{\"id\":\"50575\",\"type\":\"Selection\"},\"selection_policy\":{\"id\":\"50574\",\"type\":\"UnionRenderers\"}},\"id\":\"49325\",\"type\":\"ColumnDataSource\"},{\"attributes\":{},\"id\":\"50578\",\"type\":\"UnionRenderers\"},{\"attributes\":{\"line_color\":\"#1f77b4\",\"line_width\":3,\"x\":{\"field\":\"x\"},\"y\":{\"field\":\"y\"}},\"id\":\"49326\",\"type\":\"Line\"},{\"attributes\":{},\"id\":\"50579\",\"type\":\"Selection\"},{\"attributes\":{\"line_alpha\":0.1,\"line_color\":\"#1f77b4\",\"line_width\":3,\"x\":{\"field\":\"x\"},\"y\":{\"field\":\"y\"}},\"id\":\"49327\",\"type\":\"Line\"},{\"attributes\":{},\"id\":\"50580\",\"type\":\"UnionRenderers\"},{\"attributes\":{\"data_source\":{\"id\":\"49325\",\"type\":\"ColumnDataSource\"},\"glyph\":{\"id\":\"49326\",\"type\":\"Line\"},\"hover_glyph\":null,\"muted_glyph\":null,\"nonselection_glyph\":{\"id\":\"49327\",\"type\":\"Line\"},\"selection_glyph\":null,\"view\":{\"id\":\"49329\",\"type\":\"CDSView\"}},\"id\":\"49328\",\"type\":\"GlyphRenderer\"},{\"attributes\":{\"callback\":null,\"end\":25},\"id\":\"49272\",\"type\":\"Range1d\"},{\"attributes\":{},\"id\":\"50567\",\"type\":\"Selection\"},{\"attributes\":{},\"id\":\"50581\",\"type\":\"Selection\"},{\"attributes\":{\"source\":{\"id\":\"49325\",\"type\":\"ColumnDataSource\"}},\"id\":\"49329\",\"type\":\"CDSView\"},{\"attributes\":{},\"id\":\"50582\",\"type\":\"UnionRenderers\"},{\"attributes\":{\"bottom\":{\"value\":0},\"fill_alpha\":{\"value\":0.1},\"fill_color\":{\"value\":\"#1f77b4\"},\"left\":{\"field\":\"left\"},\"line_alpha\":{\"value\":0.1},\"line_color\":{\"value\":\"#1f77b4\"},\"right\":{\"field\":\"right\"},\"top\":{\"field\":\"top\"}},\"id\":\"49332\",\"type\":\"Quad\"},{\"attributes\":{},\"id\":\"50583\",\"type\":\"Selection\"},{\"attributes\":{\"bottom\":{\"value\":0},\"fill_alpha\":{\"value\":0.1},\"fill_color\":{\"value\":\"#1f77b4\"},\"left\":{\"field\":\"left\"},\"line_alpha\":{\"value\":0.1},\"line_color\":{\"value\":\"white\"},\"right\":{\"field\":\"right\"},\"top\":{\"field\":\"top\"}},\"id\":\"49331\",\"type\":\"Quad\"},{\"attributes\":{},\"id\":\"50584\",\"type\":\"UnionRenderers\"},{\"attributes\":{\"callback\":null,\"data\":{\"left\":{\"__ndarray__\":\"AAAAAAAA4L8AAAAAAADgPwAAAAAAAPg/AAAAAAAABEAAAAAAAAAMQAAAAAAAABJAAAAAAAAAFkAAAAAAAAAaQAAAAAAAAB5AAAAAAAAAIUAAAAAAAAAjQAAAAAAAACVAAAAAAAAAJ0AAAAAAAAApQAAAAAAAACtAAAAAAAAALUAAAAAAAAAvQAAAAAAAgDBAAAAAAACAMUAAAAAAAIAyQAAAAAAAgDNAAAAAAACANEAAAAAAAIA1QAAAAAAAgDZA\",\"dtype\":\"float64\",\"shape\":[24]},\"right\":{\"__ndarray__\":\"AAAAAAAA4D8AAAAAAAD4PwAAAAAAAARAAAAAAAAADEAAAAAAAAASQAAAAAAAABZAAAAAAAAAGkAAAAAAAAAeQAAAAAAAACFAAAAAAAAAI0AAAAAAAAAlQAAAAAAAACdAAAAAAAAAKUAAAAAAAAArQAAAAAAAAC1AAAAAAAAAL0AAAAAAAIAwQAAAAAAAgDFAAAAAAACAMkAAAAAAAIAzQAAAAAAAgDRAAAAAAACANUAAAAAAAIA2QAAAAAAAgDdA\",\"dtype\":\"float64\",\"shape\":[24]},\"top\":[0.21621621621621623,0.11864406779661017,0.15625,0.2413793103448276,0.21739130434782608,0.15151515151515152,0.140625,0.060790273556231005,0.06472491909385113,0.05757575757575758,0.06199460916442048,0.04337899543378995,0.060851926977687626,0.08303249097472924,0.06605504587155964,0.053545586107091175,0.06875753920386007,0.07513227513227513,0.06900584795321638,0.1069078947368421,0.10909090909090909,0.08469055374592833,0.15228426395939088,0.16993464052287582]},\"selected\":{\"id\":\"50577\",\"type\":\"Selection\"},\"selection_policy\":{\"id\":\"50576\",\"type\":\"UnionRenderers\"}},\"id\":\"49330\",\"type\":\"ColumnDataSource\"},{\"attributes\":{},\"id\":\"50585\",\"type\":\"Selection\"},{\"attributes\":{\"source\":{\"id\":\"49330\",\"type\":\"ColumnDataSource\"}},\"id\":\"49334\",\"type\":\"CDSView\"},{\"attributes\":{},\"id\":\"50586\",\"type\":\"UnionRenderers\"},{\"attributes\":{\"data_source\":{\"id\":\"49330\",\"type\":\"ColumnDataSource\"},\"glyph\":{\"id\":\"49331\",\"type\":\"Quad\"},\"hover_glyph\":null,\"muted_glyph\":null,\"nonselection_glyph\":{\"id\":\"49332\",\"type\":\"Quad\"},\"selection_glyph\":null,\"view\":{\"id\":\"49334\",\"type\":\"CDSView\"}},\"id\":\"49333\",\"type\":\"GlyphRenderer\"},{\"attributes\":{},\"id\":\"50587\",\"type\":\"Selection\"},{\"attributes\":{\"line_alpha\":0.1,\"line_color\":\"#1f77b4\",\"line_width\":3,\"x\":{\"field\":\"x\"},\"y\":{\"field\":\"y\"}},\"id\":\"49337\",\"type\":\"Line\"},{\"attributes\":{},\"id\":\"50588\",\"type\":\"UnionRenderers\"},{\"attributes\":{},\"id\":\"50568\",\"type\":\"UnionRenderers\"},{\"attributes\":{\"line_color\":\"#1f77b4\",\"line_width\":3,\"x\":{\"field\":\"x\"},\"y\":{\"field\":\"y\"}},\"id\":\"49336\",\"type\":\"Line\"},{\"attributes\":{},\"id\":\"50589\",\"type\":\"Selection\"},{\"attributes\":{\"callback\":null,\"data\":{\"x\":{\"__ndarray__\":\"AAAAAAAAAADWh8b60FjfP9aHxvrQWO8/4OUUvJyC9z/Wh8b60Fj/P+YUvJyClwNA4OUUvJyCB0Dbtm3btm0LQNaHxvrQWA9AaKwPjfWhEUDmFLycgpcTQGN9aKwPjRVA4OUUvJyCF0BeTsHLKXgZQNu2bdu2bRtAWR8a60NjHUDWh8b60FgfQCp4OQUvpyBAaKwPjfWhIUCn4OUUvJwiQOYUvJyClyNAJEmSJEmSJEBjfWisD40lQKKxPjTWhyZA4OUUvJyCJ0AfGutDY30oQF5OwcspeClAnYKXU/ByKkDbtm3btm0rQBrrQ2N9aCxAWR8a60NjLUCXU/ByCl4uQNaHxvrQWC9ACl5OwcspMEAqeDkFL6cwQEmSJEmSJDFAaKwPjfWhMUCIxvrQWB8yQKfg5RS8nDJAxvrQWB8aM0DmFLycgpczQAUvp+DlFDRAJEmSJEmSNEBEY31orA81QGN9aKwPjTVAgpdT8HIKNkCisT401oc2QMHLKXg5BTdA4OUUvJyCN0AAAAAAAAA4QA==\",\"dtype\":\"float64\",\"shape\":[50]},\"y\":{\"__ndarray__\":\"C5GtFmNYwT+8njYvg57BP6SFmWuvnsE/X1x81mxvwT+0NsO6zRDBPwpfheFUfsA/Oqu0lNayvz/SnK1iVye+PzrHmmMqX7w/53Lgelh3uj8DR2yBvOa4P+SA1Jq5l7c/O7Zd+JWHtj/gDX/ksy+1P/Mg61ZSxbM/LPfE/riPsj9KVTrZ4ZOxP1SIPs9IpLA/thwvGlGIrz+wpuK8RFWuP868JOH+1q0/xFPxYrUFrj9R5OouVjuuP2JMuKhT7K4/xpod+UoDsD8wb0MI0HWwP0KTyxsF4rA/0JvlSEEasT9GOnHU8w6xP+fJ5c3/2bA/Q6HhLZevsD8CVku5ppuwP+uiAo8s57A/gLlA6ytksT/NMi5vo/KxPxcMyGkY0rI/+Hr8G5ahsz+GlHAgBpu0PwBy0f8QALY/yFMZKYobtz+3ujh8rxC4P4Er87d0Nrk/p9bzW3NXuj8ye9lB4ou7PxB1Z8fZAr0/dNKOjtZ7vj/91iKECZ2/P9gXWfA3bcA/9wqZkKjcwD8Lka0WY1jBPw==\",\"dtype\":\"float64\",\"shape\":[50]}},\"selected\":{\"id\":\"50579\",\"type\":\"Selection\"},\"selection_policy\":{\"id\":\"50578\",\"type\":\"UnionRenderers\"}},\"id\":\"49335\",\"type\":\"ColumnDataSource\"},{\"attributes\":{},\"id\":\"50590\",\"type\":\"UnionRenderers\"},{\"attributes\":{\"source\":{\"id\":\"49335\",\"type\":\"ColumnDataSource\"}},\"id\":\"49339\",\"type\":\"CDSView\"},{\"attributes\":{},\"id\":\"50591\",\"type\":\"Selection\"},{\"attributes\":{\"data_source\":{\"id\":\"49335\",\"type\":\"ColumnDataSource\"},\"glyph\":{\"id\":\"49336\",\"type\":\"Line\"},\"hover_glyph\":null,\"muted_glyph\":null,\"nonselection_glyph\":{\"id\":\"49337\",\"type\":\"Line\"},\"selection_glyph\":null,\"view\":{\"id\":\"49339\",\"type\":\"CDSView\"}},\"id\":\"49338\",\"type\":\"GlyphRenderer\"},{\"attributes\":{},\"id\":\"50592\",\"type\":\"UnionRenderers\"},{\"attributes\":{\"bottom\":{\"value\":0},\"fill_alpha\":{\"value\":0.1},\"fill_color\":{\"value\":\"#1f77b4\"},\"left\":{\"field\":\"left\"},\"line_alpha\":{\"value\":0.1},\"line_color\":{\"value\":\"white\"},\"right\":{\"field\":\"right\"},\"top\":{\"field\":\"top\"}},\"id\":\"49341\",\"type\":\"Quad\"},{\"attributes\":{},\"id\":\"50593\",\"type\":\"Selection\"},{\"attributes\":{\"callback\":null,\"data\":{\"left\":{\"__ndarray__\":\"AAAAAAAA4L8AAAAAAADgPwAAAAAAAPg/AAAAAAAABEAAAAAAAAAMQAAAAAAAABJAAAAAAAAAFkAAAAAAAAAaQAAAAAAAAB5AAAAAAAAAIUAAAAAAAAAjQAAAAAAAACVAAAAAAAAAJ0AAAAAAAAApQAAAAAAAACtAAAAAAAAALUAAAAAAAAAvQAAAAAAAgDBAAAAAAACAMUAAAAAAAIAyQAAAAAAAgDNAAAAAAACANEAAAAAAAIA1QAAAAAAAgDZA\",\"dtype\":\"float64\",\"shape\":[24]},\"right\":{\"__ndarray__\":\"AAAAAAAA4D8AAAAAAAD4PwAAAAAAAARAAAAAAAAADEAAAAAAAAASQAAAAAAAABZAAAAAAAAAGkAAAAAAAAAeQAAAAAAAACFAAAAAAAAAI0AAAAAAAAAlQAAAAAAAACdAAAAAAAAAKUAAAAAAAAArQAAAAAAAAC1AAAAAAAAAL0AAAAAAAIAwQAAAAAAAgDFAAAAAAACAMkAAAAAAAIAzQAAAAAAAgDRAAAAAAACANUAAAAAAAIA2QAAAAAAAgDdA\",\"dtype\":\"float64\",\"shape\":[24]},\"top\":[0.21621621621621623,0.11864406779661017,0.15625,0.2413793103448276,0.21739130434782608,0.15151515151515152,0.140625,0.060790273556231005,0.06472491909385113,0.05757575757575758,0.06199460916442048,0.04337899543378995,0.060851926977687626,0.08303249097472924,0.06605504587155964,0.053545586107091175,0.06875753920386007,0.07513227513227513,0.06900584795321638,0.1069078947368421,0.10909090909090909,0.08469055374592833,0.15228426395939088,0.16993464052287582]},\"selected\":{\"id\":\"50581\",\"type\":\"Selection\"},\"selection_policy\":{\"id\":\"50580\",\"type\":\"UnionRenderers\"}},\"id\":\"49340\",\"type\":\"ColumnDataSource\"},{\"attributes\":{},\"id\":\"50594\",\"type\":\"UnionRenderers\"},{\"attributes\":{\"data_source\":{\"id\":\"49340\",\"type\":\"ColumnDataSource\"},\"glyph\":{\"id\":\"49341\",\"type\":\"Quad\"},\"hover_glyph\":null,\"muted_glyph\":null,\"nonselection_glyph\":{\"id\":\"49342\",\"type\":\"Quad\"},\"selection_glyph\":null,\"view\":{\"id\":\"49344\",\"type\":\"CDSView\"}},\"id\":\"49343\",\"type\":\"GlyphRenderer\"},{\"attributes\":{},\"id\":\"50595\",\"type\":\"Selection\"},{\"attributes\":{\"bottom\":{\"value\":0},\"fill_alpha\":{\"value\":0.1},\"fill_color\":{\"value\":\"#1f77b4\"},\"left\":{\"field\":\"left\"},\"line_alpha\":{\"value\":0.1},\"line_color\":{\"value\":\"#1f77b4\"},\"right\":{\"field\":\"right\"},\"top\":{\"field\":\"top\"}},\"id\":\"49342\",\"type\":\"Quad\"},{\"attributes\":{},\"id\":\"50596\",\"type\":\"UnionRenderers\"},{\"attributes\":{\"source\":{\"id\":\"49340\",\"type\":\"ColumnDataSource\"}},\"id\":\"49344\",\"type\":\"CDSView\"},{\"attributes\":{},\"id\":\"50597\",\"type\":\"Selection\"},{\"attributes\":{\"callback\":null,\"data\":{\"x\":{\"__ndarray__\":\"AAAAAAAAAADWh8b60FjfP9aHxvrQWO8/4OUUvJyC9z/Wh8b60Fj/P+YUvJyClwNA4OUUvJyCB0Dbtm3btm0LQNaHxvrQWA9AaKwPjfWhEUDmFLycgpcTQGN9aKwPjRVA4OUUvJyCF0BeTsHLKXgZQNu2bdu2bRtAWR8a60NjHUDWh8b60FgfQCp4OQUvpyBAaKwPjfWhIUCn4OUUvJwiQOYUvJyClyNAJEmSJEmSJEBjfWisD40lQKKxPjTWhyZA4OUUvJyCJ0AfGutDY30oQF5OwcspeClAnYKXU/ByKkDbtm3btm0rQBrrQ2N9aCxAWR8a60NjLUCXU/ByCl4uQNaHxvrQWC9ACl5OwcspMEAqeDkFL6cwQEmSJEmSJDFAaKwPjfWhMUCIxvrQWB8yQKfg5RS8nDJAxvrQWB8aM0DmFLycgpczQAUvp+DlFDRAJEmSJEmSNEBEY31orA81QGN9aKwPjTVAgpdT8HIKNkCisT401oc2QMHLKXg5BTdA4OUUvJyCN0AAAAAAAAA4QA==\",\"dtype\":\"float64\",\"shape\":[50]},\"y\":{\"__ndarray__\":\"qVrz81l8xj9zy8Db4tDFP1+3tH8WZ8U/Tq8wDH/RxT/n7CW2PjbGPxGfdIYIj8Y/GpwtBypGxj/szJvBvZ3FP+4piFzfbcU/0mBj4WeZwz+XNUpn/9/BP9Q2SoBmHMA/jlSnu1GWvT8sWDTsjqS4P5Sd6uhq/bI/4OcuMF7nrz+uvEVGEDGwP+Le7P50p68/cDC85bmHrj+7nQB7p16uP9RAIRbWJK8/sjdjhtA4rD+rgCExnXioPybsmIXc/6g/BNGJqo0QrT/1wvZiNxKxP4v0Jv0g+bM/neZhKLlqtD96PKA52ROyP1uldbxSRrA/EvSK5OC5rD85X85V/fKrP4080uWU2bA/iOg7FhiasT9lJfkMmOmyP74zkWjeO7M/dR1VyIYdsj+mGjEEXqqxP/QPfz3uPrc/kAeSaT9guz8TXxYWzKe7P9R4SIunRLs/WprElZEJuT+m7nTI+be4P5dBj41TD70/CkElAmqBwT///s6VUqrDPxjMta3MxsU//7P+/IAwxj+pWvPzWXzGPw==\",\"dtype\":\"float64\",\"shape\":[50]}},\"selected\":{\"id\":\"50583\",\"type\":\"Selection\"},\"selection_policy\":{\"id\":\"50582\",\"type\":\"UnionRenderers\"}},\"id\":\"49345\",\"type\":\"ColumnDataSource\"},{\"attributes\":{\"line_alpha\":0.1,\"line_color\":\"#1f77b4\",\"line_width\":3,\"x\":{\"field\":\"x\"},\"y\":{\"field\":\"y\"}},\"id\":\"49347\",\"type\":\"Line\"},{\"attributes\":{},\"id\":\"49281\",\"type\":\"BasicTicker\"},{\"attributes\":{\"line_color\":\"#1f77b4\",\"line_width\":3,\"x\":{\"field\":\"x\"},\"y\":{\"field\":\"y\"}},\"id\":\"49346\",\"type\":\"Line\"},{\"attributes\":{\"source\":{\"id\":\"49350\",\"type\":\"ColumnDataSource\"}},\"id\":\"49354\",\"type\":\"CDSView\"},{\"attributes\":{\"data_source\":{\"id\":\"49350\",\"type\":\"ColumnDataSource\"},\"glyph\":{\"id\":\"49351\",\"type\":\"Quad\"},\"hover_glyph\":null,\"muted_glyph\":null,\"nonselection_glyph\":{\"id\":\"49352\",\"type\":\"Quad\"},\"selection_glyph\":null,\"view\":{\"id\":\"49354\",\"type\":\"CDSView\"}},\"id\":\"49353\",\"type\":\"GlyphRenderer\"},{\"attributes\":{\"source\":{\"id\":\"49345\",\"type\":\"ColumnDataSource\"}},\"id\":\"49349\",\"type\":\"CDSView\"},{\"attributes\":{\"callback\":null,\"data\":{\"left\":{\"__ndarray__\":\"AAAAAAAA4L8AAAAAAADgPwAAAAAAAPg/AAAAAAAABEAAAAAAAAAMQAAAAAAAABJAAAAAAAAAFkAAAAAAAAAaQAAAAAAAAB5AAAAAAAAAIUAAAAAAAAAjQAAAAAAAACVAAAAAAAAAJ0AAAAAAAAApQAAAAAAAACtAAAAAAAAALUAAAAAAAAAvQAAAAAAAgDBAAAAAAACAMUAAAAAAAIAyQAAAAAAAgDNAAAAAAACANEAAAAAAAIA1QAAAAAAAgDZA\",\"dtype\":\"float64\",\"shape\":[24]},\"right\":{\"__ndarray__\":\"AAAAAAAA4D8AAAAAAAD4PwAAAAAAAARAAAAAAAAADEAAAAAAAAASQAAAAAAAABZAAAAAAAAAGkAAAAAAAAAeQAAAAAAAACFAAAAAAAAAI0AAAAAAAAAlQAAAAAAAACdAAAAAAAAAKUAAAAAAAAArQAAAAAAAAC1AAAAAAAAAL0AAAAAAAIAwQAAAAAAAgDFAAAAAAACAMkAAAAAAAIAzQAAAAAAAgDRAAAAAAACANUAAAAAAAIA2QAAAAAAAgDdA\",\"dtype\":\"float64\",\"shape\":[24]},\"top\":[0.21621621621621623,0.11864406779661017,0.15625,0.2413793103448276,0.21739130434782608,0.15151515151515152,0.140625,0.060790273556231005,0.06472491909385113,0.05757575757575758,0.06199460916442048,0.04337899543378995,0.060851926977687626,0.08303249097472924,0.06605504587155964,0.053545586107091175,0.06875753920386007,0.07513227513227513,0.06900584795321638,0.1069078947368421,0.10909090909090909,0.08469055374592833,0.15228426395939088,0.16993464052287582]},\"selected\":{\"id\":\"50585\",\"type\":\"Selection\"},\"selection_policy\":{\"id\":\"50584\",\"type\":\"UnionRenderers\"}},\"id\":\"49350\",\"type\":\"ColumnDataSource\"},{\"attributes\":{\"bottom\":{\"value\":0},\"fill_alpha\":{\"value\":0.1},\"fill_color\":{\"value\":\"#1f77b4\"},\"left\":{\"field\":\"left\"},\"line_alpha\":{\"value\":0.1},\"line_color\":{\"value\":\"white\"},\"right\":{\"field\":\"right\"},\"top\":{\"field\":\"top\"}},\"id\":\"49351\",\"type\":\"Quad\"},{\"attributes\":{\"bottom\":{\"value\":0},\"fill_alpha\":{\"value\":0.1},\"fill_color\":{\"value\":\"#1f77b4\"},\"left\":{\"field\":\"left\"},\"line_alpha\":{\"value\":0.1},\"line_color\":{\"value\":\"#1f77b4\"},\"right\":{\"field\":\"right\"},\"top\":{\"field\":\"top\"}},\"id\":\"49352\",\"type\":\"Quad\"},{\"attributes\":{\"data_source\":{\"id\":\"49345\",\"type\":\"ColumnDataSource\"},\"glyph\":{\"id\":\"49346\",\"type\":\"Line\"},\"hover_glyph\":null,\"muted_glyph\":null,\"nonselection_glyph\":{\"id\":\"49347\",\"type\":\"Line\"},\"selection_glyph\":null,\"view\":{\"id\":\"49349\",\"type\":\"CDSView\"}},\"id\":\"49348\",\"type\":\"GlyphRenderer\"},{\"attributes\":{\"line_color\":\"#1f77b4\",\"line_width\":3,\"x\":{\"field\":\"x\"},\"y\":{\"field\":\"y\"}},\"id\":\"49356\",\"type\":\"Line\"},{\"attributes\":{\"callback\":null,\"data\":{\"x\":{\"__ndarray__\":\"AAAAAAAAAADWh8b60FjfP9aHxvrQWO8/4OUUvJyC9z/Wh8b60Fj/P+YUvJyClwNA4OUUvJyCB0Dbtm3btm0LQNaHxvrQWA9AaKwPjfWhEUDmFLycgpcTQGN9aKwPjRVA4OUUvJyCF0BeTsHLKXgZQNu2bdu2bRtAWR8a60NjHUDWh8b60FgfQCp4OQUvpyBAaKwPjfWhIUCn4OUUvJwiQOYUvJyClyNAJEmSJEmSJEBjfWisD40lQKKxPjTWhyZA4OUUvJyCJ0AfGutDY30oQF5OwcspeClAnYKXU/ByKkDbtm3btm0rQBrrQ2N9aCxAWR8a60NjLUCXU/ByCl4uQNaHxvrQWC9ACl5OwcspMEAqeDkFL6cwQEmSJEmSJDFAaKwPjfWhMUCIxvrQWB8yQKfg5RS8nDJAxvrQWB8aM0DmFLycgpczQAUvp+DlFDRAJEmSJEmSNEBEY31orA81QGN9aKwPjTVAgpdT8HIKNkCisT401oc2QMHLKXg5BTdA4OUUvJyCN0AAAAAAAAA4QA==\",\"dtype\":\"float64\",\"shape\":[50]},\"y\":{\"__ndarray__\":\"0LrBFPmsyz9H42xhfE3GP1cEDSd1X74/kbnv1L/BwD9eDC+5TJvDP+KM4KuO18g/jFQQo1ZWzD8mgeapu47NPzt/10hJWso/ZuiBQ/IZxj9kk0022WTDP1oMY9P6qcI/AAAAAAAAwj8AAAAAAADCPwyFrRnnH68/BoWtGecfrz/XjL7yz5GwP9eMvvLPkbA/eR2p15F6rT93HanXkXqtP/Jqx+XBva8/72rH5cG9rz9gY3GNxTWmP15jcY3FNaY/UBaJ2Psnrz9YFonY+yevP63rPQmeQbU/res9CZ5BtT+QDsHF++iwP5AOwcX76LA/0KdZulNqqz/Sp1m6U2qrP4joOxYYmrE/kOg7FhiasT/AM5Fo3juzP7szkWjeO7M/oBoxBF6qsT+mGjEEXqqxP9w1lNdQXrs/5TWU11Beuz/lG9a+Ye27P/Ab1r5h7bs/r3kHCwAitj+8b562R661P9/ge5lOV8A/d1Sz/gx+wz/NS9Zc3rfEPxdrwBVrwMU/lRri7azNxz/QusEU+azLPw==\",\"dtype\":\"float64\",\"shape\":[50]}},\"selected\":{\"id\":\"50587\",\"type\":\"Selection\"},\"selection_policy\":{\"id\":\"50586\",\"type\":\"UnionRenderers\"}},\"id\":\"49355\",\"type\":\"ColumnDataSource\"},{\"attributes\":{\"line_alpha\":0.1,\"line_color\":\"#1f77b4\",\"line_width\":3,\"x\":{\"field\":\"x\"},\"y\":{\"field\":\"y\"}},\"id\":\"49357\",\"type\":\"Line\"},{\"attributes\":{\"bottom\":{\"value\":0},\"fill_alpha\":{\"value\":0.1},\"fill_color\":{\"value\":\"#1f77b4\"},\"left\":{\"field\":\"left\"},\"line_alpha\":{\"value\":0.1},\"line_color\":{\"value\":\"white\"},\"right\":{\"field\":\"right\"},\"top\":{\"field\":\"top\"}},\"id\":\"49361\",\"type\":\"Quad\"},{\"attributes\":{\"callback\":null,\"data\":{\"left\":{\"__ndarray__\":\"AAAAAAAA4L8AAAAAAADgPwAAAAAAAPg/AAAAAAAABEAAAAAAAAAMQAAAAAAAABJAAAAAAAAAFkAAAAAAAAAaQAAAAAAAAB5AAAAAAAAAIUAAAAAAAAAjQAAAAAAAACVAAAAAAAAAJ0AAAAAAAAApQAAAAAAAACtAAAAAAAAALUAAAAAAAAAvQAAAAAAAgDBAAAAAAACAMUAAAAAAAIAyQAAAAAAAgDNAAAAAAACANEAAAAAAAIA1QAAAAAAAgDZA\",\"dtype\":\"float64\",\"shape\":[24]},\"right\":{\"__ndarray__\":\"AAAAAAAA4D8AAAAAAAD4PwAAAAAAAARAAAAAAAAADEAAAAAAAAASQAAAAAAAABZAAAAAAAAAGkAAAAAAAAAeQAAAAAAAACFAAAAAAAAAI0AAAAAAAAAlQAAAAAAAACdAAAAAAAAAKUAAAAAAAAArQAAAAAAAAC1AAAAAAAAAL0AAAAAAAIAwQAAAAAAAgDFAAAAAAACAMkAAAAAAAIAzQAAAAAAAgDRAAAAAAACANUAAAAAAAIA2QAAAAAAAgDdA\",\"dtype\":\"float64\",\"shape\":[24]},\"top\":[0.21621621621621623,0.11864406779661017,0.15625,0.2413793103448276,0.21739130434782608,0.15151515151515152,0.140625,0.060790273556231005,0.06472491909385113,0.05757575757575758,0.06199460916442048,0.04337899543378995,0.060851926977687626,0.08303249097472924,0.06605504587155964,0.053545586107091175,0.06875753920386007,0.07513227513227513,0.06900584795321638,0.1069078947368421,0.10909090909090909,0.08469055374592833,0.15228426395939088,0.16993464052287582]},\"selected\":{\"id\":\"50589\",\"type\":\"Selection\"},\"selection_policy\":{\"id\":\"50588\",\"type\":\"UnionRenderers\"}},\"id\":\"49360\",\"type\":\"ColumnDataSource\"},{\"attributes\":{\"source\":{\"id\":\"49355\",\"type\":\"ColumnDataSource\"}},\"id\":\"49359\",\"type\":\"CDSView\"},{\"attributes\":{\"data_source\":{\"id\":\"49355\",\"type\":\"ColumnDataSource\"},\"glyph\":{\"id\":\"49356\",\"type\":\"Line\"},\"hover_glyph\":null,\"muted_glyph\":null,\"nonselection_glyph\":{\"id\":\"49357\",\"type\":\"Line\"},\"selection_glyph\":null,\"view\":{\"id\":\"49359\",\"type\":\"CDSView\"}},\"id\":\"49358\",\"type\":\"GlyphRenderer\"},{\"attributes\":{\"bottom\":{\"value\":0},\"fill_alpha\":{\"value\":0.1},\"fill_color\":{\"value\":\"#1f77b4\"},\"left\":{\"field\":\"left\"},\"line_alpha\":{\"value\":0.1},\"line_color\":{\"value\":\"#1f77b4\"},\"right\":{\"field\":\"right\"},\"top\":{\"field\":\"top\"}},\"id\":\"49362\",\"type\":\"Quad\"},{\"attributes\":{\"source\":{\"id\":\"49360\",\"type\":\"ColumnDataSource\"}},\"id\":\"49364\",\"type\":\"CDSView\"},{\"attributes\":{\"axis_label_text_font_size\":{\"value\":\"16pt\"},\"formatter\":{\"id\":\"50562\",\"type\":\"BasicTickFormatter\"},\"major_label_text_font_size\":{\"value\":\"16pt\"},\"plot\":{\"id\":\"49271\",\"subtype\":\"Figure\",\"type\":\"Plot\"},\"ticker\":{\"id\":\"49281\",\"type\":\"BasicTicker\"}},\"id\":\"49280\",\"type\":\"LinearAxis\"},{\"attributes\":{\"data_source\":{\"id\":\"49360\",\"type\":\"ColumnDataSource\"},\"glyph\":{\"id\":\"49361\",\"type\":\"Quad\"},\"hover_glyph\":null,\"muted_glyph\":null,\"nonselection_glyph\":{\"id\":\"49362\",\"type\":\"Quad\"},\"selection_glyph\":null,\"view\":{\"id\":\"49364\",\"type\":\"CDSView\"}},\"id\":\"49363\",\"type\":\"GlyphRenderer\"},{\"attributes\":{\"callback\":null,\"data\":{\"x\":{\"__ndarray__\":\"AAAAAAAAAADWh8b60FjfP9aHxvrQWO8/4OUUvJyC9z/Wh8b60Fj/P+YUvJyClwNA4OUUvJyCB0Dbtm3btm0LQNaHxvrQWA9AaKwPjfWhEUDmFLycgpcTQGN9aKwPjRVA4OUUvJyCF0BeTsHLKXgZQNu2bdu2bRtAWR8a60NjHUDWh8b60FgfQCp4OQUvpyBAaKwPjfWhIUCn4OUUvJwiQOYUvJyClyNAJEmSJEmSJEBjfWisD40lQKKxPjTWhyZA4OUUvJyCJ0AfGutDY30oQF5OwcspeClAnYKXU/ByKkDbtm3btm0rQBrrQ2N9aCxAWR8a60NjLUCXU/ByCl4uQNaHxvrQWC9ACl5OwcspMEAqeDkFL6cwQEmSJEmSJDFAaKwPjfWhMUCIxvrQWB8yQKfg5RS8nDJAxvrQWB8aM0DmFLycgpczQAUvp+DlFDRAJEmSJEmSNEBEY31orA81QGN9aKwPjTVAgpdT8HIKNkCisT401oc2QMHLKXg5BTdA4OUUvJyCN0AAAAAAAAA4QA==\",\"dtype\":\"float64\",\"shape\":[50]},\"y\":{\"__ndarray__\":\"0LrBFPmsyz9AbUwACs/HP1cEDSd1X74/HoLncv9Pvz8AAAAAAADEP6T+TwIZzMU/R1juaYTlzj+e6qme6qnOP73pTW9608s/7P9xmjHbyj9lk0022WTDP1uTTTbZZMM/BgAAAAAAwj/7///////BP/yErRnnH68/EIWtGecfrz/cjL7yz5GwP9yMvvLPkbA/UR2p15F6rT+dHanXkXqtP9hqx+XBva8/72rH5cG9rz9cY3GNxTWmPzZjcY3FNaY/kBaJ2Psnrz9UFonY+yevP7vrPQmeQbU/pOs9CZ5BtT9+DsHF++iwP5AOwcX76LA/B6hZulNqqz8HqFm6U2qrP8XoOxYYmrE/cOg7FhiasT9MM5Fo3juzP7czkWjeO7M/UxoxBF6qsT/JGjEEXqqxP7w1lNdQXrs/7DWU11Beuz+QG9a+Ye27P9gb1r5h7bs/pm+etkeutT/Eb562R661P3pUs/4MfsM/elSz/gx+wz8aa8AVa8DFPxZrwBVrwMU/w3NLCIrjyD/QusEU+azLPw==\",\"dtype\":\"float64\",\"shape\":[50]}},\"selected\":{\"id\":\"50591\",\"type\":\"Selection\"},\"selection_policy\":{\"id\":\"50590\",\"type\":\"UnionRenderers\"}},\"id\":\"49365\",\"type\":\"ColumnDataSource\"}],\"root_ids\":[\"49271\"]},\"title\":\"Bokeh Application\",\"version\":\"1.0.2\"}};\n",
       "  var render_items = [{\"docid\":\"a920dfcd-2e88-4de8-b274-4ed1df138014\",\"roots\":{\"49271\":\"649f9a75-844f-47b0-a11a-8cf235813b6c\"}}];\n",
       "  root.Bokeh.embed.embed_items_notebook(docs_json, render_items);\n",
       "\n",
       "  }\n",
       "  if (root.Bokeh !== undefined) {\n",
       "    embed_document(root);\n",
       "  } else {\n",
       "    var attempts = 0;\n",
       "    var timer = setInterval(function(root) {\n",
       "      if (root.Bokeh !== undefined) {\n",
       "        embed_document(root);\n",
       "        clearInterval(timer);\n",
       "      }\n",
       "      attempts++;\n",
       "      if (attempts > 100) {\n",
       "        console.log(\"Bokeh: ERROR: Unable to run BokehJS code because BokehJS library is missing\");\n",
       "        clearInterval(timer);\n",
       "      }\n",
       "    }, 10, root)\n",
       "  }\n",
       "})(window);"
      ],
      "application/vnd.bokehjs_exec.v0+json": ""
     },
     "metadata": {
      "application/vnd.bokehjs_exec.v0+json": {
       "id": "49271"
      }
     },
     "output_type": "display_data"
    }
   ],
   "source": [
    "#Plot bars for fraction of severe outcomes at each time\n",
    "fig = bkp.figure(x_range=(0,25))\n",
    "for n in range(weights.shape[0]):\n",
    "    fig.line(times, ests[n,:], line_width=3)\n",
    "    fig.quad(top=[(Ybin[X[:,9] == t].sum()/(X[:,9]==t).sum()) for t in range(24)], bottom=0, \n",
    "             left=np.arange(24)-.5, right=np.arange(24)+.5, line_color='white', alpha=0.1)\n",
    "bkp.show(fig)"
   ]
  },
  {
   "cell_type": "code",
   "execution_count": 147,
   "metadata": {},
   "outputs": [
    {
     "name": "stdout",
     "output_type": "stream",
     "text": [
      "ndata iter 1/10\n",
      "ndata iter 2/10\n",
      "ndata iter 3/10\n",
      "ndata iter 4/10\n",
      "ndata iter 5/10\n",
      "ndata iter 6/10\n",
      "ndata iter 7/10\n",
      "ndata iter 8/10\n",
      "ndata iter 9/10\n",
      "ndata iter 10/10\n"
     ]
    }
   ],
   "source": [
    "n_data = np.logspace(0, 4, 10).astype(int)\n",
    "cputs = np.zeros(n_data.shape[0])\n",
    "wt = 0.001\n",
    "idcs = np.arange(X.shape[0])\n",
    "np.random.shuffle(idcs)\n",
    "for n in range(n_data.shape[0]):\n",
    "    print('ndata iter ' + str(n+1)+'/'+str(n_data.shape[0]))\n",
    "    t0 = time.perf_counter()\n",
    "    times = np.linspace(0, 23, 50)\n",
    "    ests = np.zeros(times.shape[0])\n",
    "    Ybin = np.zeros(Y.shape[0])\n",
    "    severe = (Y == 'Serious') | (Y == 'Killed') \n",
    "    Ybin[severe] = 1\n",
    "    for j in range(times.shape[0]):\n",
    "        emp_msr_wts = empirical_msr(times[j], X[idcs[:n_data[n]], 9], lambda x1, x2 : premetric(x1, x2, wt))\n",
    "        ests[j] = (emp_msr_wts*Ybin[idcs[:n_data[n]]]).sum()\n",
    "    tf = time.perf_counter()\n",
    "    cputs[n] = tf-t0"
   ]
  },
  {
   "cell_type": "code",
   "execution_count": 149,
   "metadata": {},
   "outputs": [
    {
     "data": {
      "text/html": [
       "\n",
       "\n",
       "\n",
       "\n",
       "\n",
       "\n",
       "  <div class=\"bk-root\" id=\"dd737bd1-3cf9-4270-bf04-5a21947820e5\"></div>\n"
      ]
     },
     "metadata": {},
     "output_type": "display_data"
    },
    {
     "data": {
      "application/javascript": [
       "(function(root) {\n",
       "  function embed_document(root) {\n",
       "    \n",
       "  var docs_json = {\"1991e41e-f231-46cc-b44a-7cde9646afce\":{\"roots\":{\"references\":[{\"attributes\":{\"below\":[{\"id\":\"57506\",\"type\":\"LinearAxis\"}],\"left\":[{\"id\":\"57511\",\"type\":\"LinearAxis\"}],\"renderers\":[{\"id\":\"57506\",\"type\":\"LinearAxis\"},{\"id\":\"57510\",\"type\":\"Grid\"},{\"id\":\"57511\",\"type\":\"LinearAxis\"},{\"id\":\"57515\",\"type\":\"Grid\"},{\"id\":\"57524\",\"type\":\"BoxAnnotation\"},{\"id\":\"57534\",\"type\":\"GlyphRenderer\"}],\"title\":{\"id\":\"58795\",\"type\":\"Title\"},\"toolbar\":{\"id\":\"57522\",\"type\":\"Toolbar\"},\"x_range\":{\"id\":\"57498\",\"type\":\"DataRange1d\"},\"x_scale\":{\"id\":\"57502\",\"type\":\"LinearScale\"},\"y_range\":{\"id\":\"57500\",\"type\":\"DataRange1d\"},\"y_scale\":{\"id\":\"57504\",\"type\":\"LinearScale\"}},\"id\":\"57497\",\"subtype\":\"Figure\",\"type\":\"Plot\"},{\"attributes\":{\"source\":{\"id\":\"57531\",\"type\":\"ColumnDataSource\"}},\"id\":\"57535\",\"type\":\"CDSView\"},{\"attributes\":{\"callback\":null},\"id\":\"57498\",\"type\":\"DataRange1d\"},{\"attributes\":{},\"id\":\"57517\",\"type\":\"WheelZoomTool\"},{\"attributes\":{\"data_source\":{\"id\":\"57531\",\"type\":\"ColumnDataSource\"},\"glyph\":{\"id\":\"57532\",\"type\":\"Line\"},\"hover_glyph\":null,\"muted_glyph\":null,\"nonselection_glyph\":{\"id\":\"57533\",\"type\":\"Line\"},\"selection_glyph\":null,\"view\":{\"id\":\"57535\",\"type\":\"CDSView\"}},\"id\":\"57534\",\"type\":\"GlyphRenderer\"},{\"attributes\":{},\"id\":\"57516\",\"type\":\"PanTool\"},{\"attributes\":{\"bottom_units\":\"screen\",\"fill_alpha\":{\"value\":0.5},\"fill_color\":{\"value\":\"lightgrey\"},\"left_units\":\"screen\",\"level\":\"overlay\",\"line_alpha\":{\"value\":1.0},\"line_color\":{\"value\":\"black\"},\"line_dash\":[4,4],\"line_width\":{\"value\":2},\"plot\":null,\"render_mode\":\"css\",\"right_units\":\"screen\",\"top_units\":\"screen\"},\"id\":\"57524\",\"type\":\"BoxAnnotation\"},{\"attributes\":{\"callback\":null,\"data\":{\"x\":[1,2,7,21,59,166,464,1291,3593,10000],\"y\":{\"__ndarray__\":\"AACAWtUlej8AAIBQ2Fd0PwAAgGsT2Hg/AACAXi7Gfj8AAIDz1+KJPwAAwDXGzZ0/AABI/WKnsj8AABjDva7JPwAAXIp70eE/AIApaPBF9T8=\",\"dtype\":\"float64\",\"shape\":[10]}},\"selected\":{\"id\":\"58802\",\"type\":\"Selection\"},\"selection_policy\":{\"id\":\"58801\",\"type\":\"UnionRenderers\"}},\"id\":\"57531\",\"type\":\"ColumnDataSource\"},{\"attributes\":{\"line_alpha\":0.1,\"line_color\":\"#1f77b4\",\"line_width\":3,\"x\":{\"field\":\"x\"},\"y\":{\"field\":\"y\"}},\"id\":\"57533\",\"type\":\"Line\"},{\"attributes\":{\"active_drag\":\"auto\",\"active_inspect\":\"auto\",\"active_multi\":null,\"active_scroll\":\"auto\",\"active_tap\":\"auto\",\"tools\":[{\"id\":\"57516\",\"type\":\"PanTool\"},{\"id\":\"57517\",\"type\":\"WheelZoomTool\"},{\"id\":\"57518\",\"type\":\"BoxZoomTool\"},{\"id\":\"57519\",\"type\":\"SaveTool\"},{\"id\":\"57520\",\"type\":\"ResetTool\"},{\"id\":\"57521\",\"type\":\"HelpTool\"}]},\"id\":\"57522\",\"type\":\"Toolbar\"},{\"attributes\":{},\"id\":\"57521\",\"type\":\"HelpTool\"},{\"attributes\":{\"plot\":null,\"text\":\"\",\"text_font_size\":{\"value\":\"16pt\"}},\"id\":\"58795\",\"type\":\"Title\"},{\"attributes\":{},\"id\":\"57520\",\"type\":\"ResetTool\"},{\"attributes\":{\"plot\":{\"id\":\"57497\",\"subtype\":\"Figure\",\"type\":\"Plot\"},\"ticker\":{\"id\":\"57507\",\"type\":\"BasicTicker\"}},\"id\":\"57510\",\"type\":\"Grid\"},{\"attributes\":{},\"id\":\"57519\",\"type\":\"SaveTool\"},{\"attributes\":{\"axis_label_text_font_size\":{\"value\":\"16pt\"},\"formatter\":{\"id\":\"58799\",\"type\":\"BasicTickFormatter\"},\"major_label_text_font_size\":{\"value\":\"16pt\"},\"plot\":{\"id\":\"57497\",\"subtype\":\"Figure\",\"type\":\"Plot\"},\"ticker\":{\"id\":\"57512\",\"type\":\"BasicTicker\"}},\"id\":\"57511\",\"type\":\"LinearAxis\"},{\"attributes\":{\"overlay\":{\"id\":\"57524\",\"type\":\"BoxAnnotation\"}},\"id\":\"57518\",\"type\":\"BoxZoomTool\"},{\"attributes\":{},\"id\":\"57512\",\"type\":\"BasicTicker\"},{\"attributes\":{\"dimension\":1,\"plot\":{\"id\":\"57497\",\"subtype\":\"Figure\",\"type\":\"Plot\"},\"ticker\":{\"id\":\"57512\",\"type\":\"BasicTicker\"}},\"id\":\"57515\",\"type\":\"Grid\"},{\"attributes\":{},\"id\":\"58797\",\"type\":\"BasicTickFormatter\"},{\"attributes\":{\"line_color\":\"#1f77b4\",\"line_width\":3,\"x\":{\"field\":\"x\"},\"y\":{\"field\":\"y\"}},\"id\":\"57532\",\"type\":\"Line\"},{\"attributes\":{},\"id\":\"57507\",\"type\":\"BasicTicker\"},{\"attributes\":{},\"id\":\"58802\",\"type\":\"Selection\"},{\"attributes\":{\"axis_label_text_font_size\":{\"value\":\"16pt\"},\"formatter\":{\"id\":\"58797\",\"type\":\"BasicTickFormatter\"},\"major_label_text_font_size\":{\"value\":\"16pt\"},\"plot\":{\"id\":\"57497\",\"subtype\":\"Figure\",\"type\":\"Plot\"},\"ticker\":{\"id\":\"57507\",\"type\":\"BasicTicker\"}},\"id\":\"57506\",\"type\":\"LinearAxis\"},{\"attributes\":{},\"id\":\"58799\",\"type\":\"BasicTickFormatter\"},{\"attributes\":{},\"id\":\"57504\",\"type\":\"LinearScale\"},{\"attributes\":{},\"id\":\"58801\",\"type\":\"UnionRenderers\"},{\"attributes\":{},\"id\":\"57502\",\"type\":\"LinearScale\"},{\"attributes\":{\"callback\":null},\"id\":\"57500\",\"type\":\"DataRange1d\"}],\"root_ids\":[\"57497\"]},\"title\":\"Bokeh Application\",\"version\":\"1.0.2\"}};\n",
       "  var render_items = [{\"docid\":\"1991e41e-f231-46cc-b44a-7cde9646afce\",\"roots\":{\"57497\":\"dd737bd1-3cf9-4270-bf04-5a21947820e5\"}}];\n",
       "  root.Bokeh.embed.embed_items_notebook(docs_json, render_items);\n",
       "\n",
       "  }\n",
       "  if (root.Bokeh !== undefined) {\n",
       "    embed_document(root);\n",
       "  } else {\n",
       "    var attempts = 0;\n",
       "    var timer = setInterval(function(root) {\n",
       "      if (root.Bokeh !== undefined) {\n",
       "        embed_document(root);\n",
       "        clearInterval(timer);\n",
       "      }\n",
       "      attempts++;\n",
       "      if (attempts > 100) {\n",
       "        console.log(\"Bokeh: ERROR: Unable to run BokehJS code because BokehJS library is missing\");\n",
       "        clearInterval(timer);\n",
       "      }\n",
       "    }, 10, root)\n",
       "  }\n",
       "})(window);"
      ],
      "application/vnd.bokehjs_exec.v0+json": ""
     },
     "metadata": {
      "application/vnd.bokehjs_exec.v0+json": {
       "id": "57497"
      }
     },
     "output_type": "display_data"
    }
   ],
   "source": [
    "#Plot bars for fraction of severe outcomes at each time\n",
    "fig = bkp.figure()\n",
    "fig.line(n_data, cputs, line_width=3)\n",
    "bkp.show(fig)"
   ]
  },
  {
   "cell_type": "code",
   "execution_count": null,
   "metadata": {
    "scrolled": false
   },
   "outputs": [],
   "source": [
    "\n",
    "intox = (df['Biker Intox.'] == 'Yes')\n",
    "severe = (df['BikeInjury'] == 'Serious') | (df['BikeInjury'] == 'Killed')\n",
    "\n",
    "print((severe & intox).sum() / ((severe & intox).sum() +(~severe & intox).sum() ))\n",
    "print((severe & ~intox).sum() / ((severe & ~intox).sum() +(~severe & ~intox).sum() ))\n",
    "\n",
    "\n",
    "fig = bkp.figure()\n",
    "\n",
    "hist1, edges = np.histogram(df['BikeAge'][~severe & ~intox], bins=np.arange(0, 100, 1))\n",
    "hist2, edges = np.histogram(df['BikeAge'][severe & ~intox], bins=np.arange(0, 100, 1))\n",
    "fig.quad(top=hist2/(hist1+hist2), bottom=0, left=edges[:-1], right=edges[1:],\n",
    "           fill_color=bkpal.Category10[10][0], line_color=\"white\", alpha=0.4, legend='Frac Severe, Not Intox')\n",
    "\n",
    "hist1, edges = np.histogram(df['BikeAge'][~severe & intox], bins=np.arange(0, 100, 1))\n",
    "hist2, edges = np.histogram(df['BikeAge'][severe & intox], bins=np.arange(0, 100, 1))\n",
    "fig.quad(top=hist2/(hist1+hist2), bottom=0, left=edges[:-1], right=edges[1:],\n",
    "           fill_color=bkpal.Category10[10][1], line_color=\"white\", alpha=0.4, legend='Frac Severe, Intox')\n",
    "\n",
    "\n",
    "bkp.show(fig)"
   ]
  },
  {
   "cell_type": "code",
   "execution_count": null,
   "metadata": {},
   "outputs": [],
   "source": [
    "fig = bkp.figure()\n",
    "hist, edges = np.histogram(df['BikeAge'], bins=np.arange(0, 100, 1))\n",
    "fig.quad(top=hist, bottom=0, left=edges[:-1], right=edges[1:],\n",
    "           fill_color=bkpal.Category10[10][0], line_color=\"white\", alpha=0.4)\n",
    "bkp.show(fig)"
   ]
  },
  {
   "cell_type": "code",
   "execution_count": null,
   "metadata": {},
   "outputs": [],
   "source": [
    "print(df.BikeInjury.unique())\n",
    "\n"
   ]
  },
  {
   "cell_type": "code",
   "execution_count": null,
   "metadata": {},
   "outputs": [],
   "source": [
    "intoxrows = (df['Biker Intox.'] == 'Yes')\n",
    "intox = df[cols_used][intoxrows]\n",
    "nintox = df[cols_used][~intoxrows]\n",
    "print(intox.shape)\n",
    "print(nintox.shape)\n",
    "injuries = (intox['BikeInjury'] == 'A: Suspected Serious Injury') | (intox['BikeInjury'] == 'K: Killed')\n",
    "print(injuries.sum())\n",
    "injuries = (nintox['BikeInjury'] == 'A: Suspected Serious Injury') | (nintox['BikeInjury'] == 'K: Killed')\n",
    "print(injuries.sum())"
   ]
  },
  {
   "cell_type": "code",
   "execution_count": null,
   "metadata": {},
   "outputs": [],
   "source": [
    "139/796"
   ]
  },
  {
   "cell_type": "code",
   "execution_count": null,
   "metadata": {},
   "outputs": [],
   "source": [
    "688/10470"
   ]
  },
  {
   "cell_type": "code",
   "execution_count": null,
   "metadata": {},
   "outputs": [],
   "source": []
  }
 ],
 "metadata": {
  "kernelspec": {
   "display_name": "Python 3",
   "language": "python",
   "name": "python3"
  },
  "language_info": {
   "codemirror_mode": {
    "name": "ipython",
    "version": 3
   },
   "file_extension": ".py",
   "mimetype": "text/x-python",
   "name": "python",
   "nbconvert_exporter": "python",
   "pygments_lexer": "ipython3",
   "version": "3.6.9"
  }
 },
 "nbformat": 4,
 "nbformat_minor": 2
}
