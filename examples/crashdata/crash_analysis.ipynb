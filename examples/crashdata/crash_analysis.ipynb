{
 "cells": [
  {
   "cell_type": "markdown",
   "metadata": {},
   "source": [
    "# Local Exchangeability Experiments"
   ]
  },
  {
   "cell_type": "markdown",
   "metadata": {},
   "source": [
    "### Package Import"
   ]
  },
  {
   "cell_type": "code",
   "execution_count": 1,
   "metadata": {},
   "outputs": [],
   "source": [
    "import pandas as pd\n",
    "import numpy as np\n",
    "import sys\n",
    "pd.set_option('display.max_rows', None)\n",
    "import bokeh.plotting as bkp\n",
    "import bokeh.io as bki\n",
    "import bokeh.palettes as bkpal\n",
    "from bokeh.models import Span, FuncTickFormatter\n",
    "import time\n"
   ]
  },
  {
   "cell_type": "markdown",
   "metadata": {},
   "source": [
    "### Bokeh Notebook Output and Theme Settings"
   ]
  },
  {
   "cell_type": "code",
   "execution_count": 2,
   "metadata": {},
   "outputs": [
    {
     "data": {
      "text/html": [
       "\n",
       "    <div class=\"bk-root\">\n",
       "        <a href=\"https://bokeh.pydata.org\" target=\"_blank\" class=\"bk-logo bk-logo-small bk-logo-notebook\"></a>\n",
       "        <span id=\"1001\">Loading BokehJS ...</span>\n",
       "    </div>"
      ]
     },
     "metadata": {},
     "output_type": "display_data"
    },
    {
     "data": {
      "application/javascript": [
       "\n",
       "(function(root) {\n",
       "  function now() {\n",
       "    return new Date();\n",
       "  }\n",
       "\n",
       "  var force = true;\n",
       "\n",
       "  if (typeof (root._bokeh_onload_callbacks) === \"undefined\" || force === true) {\n",
       "    root._bokeh_onload_callbacks = [];\n",
       "    root._bokeh_is_loading = undefined;\n",
       "  }\n",
       "\n",
       "  var JS_MIME_TYPE = 'application/javascript';\n",
       "  var HTML_MIME_TYPE = 'text/html';\n",
       "  var EXEC_MIME_TYPE = 'application/vnd.bokehjs_exec.v0+json';\n",
       "  var CLASS_NAME = 'output_bokeh rendered_html';\n",
       "\n",
       "  /**\n",
       "   * Render data to the DOM node\n",
       "   */\n",
       "  function render(props, node) {\n",
       "    var script = document.createElement(\"script\");\n",
       "    node.appendChild(script);\n",
       "  }\n",
       "\n",
       "  /**\n",
       "   * Handle when an output is cleared or removed\n",
       "   */\n",
       "  function handleClearOutput(event, handle) {\n",
       "    var cell = handle.cell;\n",
       "\n",
       "    var id = cell.output_area._bokeh_element_id;\n",
       "    var server_id = cell.output_area._bokeh_server_id;\n",
       "    // Clean up Bokeh references\n",
       "    if (id != null && id in Bokeh.index) {\n",
       "      Bokeh.index[id].model.document.clear();\n",
       "      delete Bokeh.index[id];\n",
       "    }\n",
       "\n",
       "    if (server_id !== undefined) {\n",
       "      // Clean up Bokeh references\n",
       "      var cmd = \"from bokeh.io.state import curstate; print(curstate().uuid_to_server['\" + server_id + \"'].get_sessions()[0].document.roots[0]._id)\";\n",
       "      cell.notebook.kernel.execute(cmd, {\n",
       "        iopub: {\n",
       "          output: function(msg) {\n",
       "            var id = msg.content.text.trim();\n",
       "            if (id in Bokeh.index) {\n",
       "              Bokeh.index[id].model.document.clear();\n",
       "              delete Bokeh.index[id];\n",
       "            }\n",
       "          }\n",
       "        }\n",
       "      });\n",
       "      // Destroy server and session\n",
       "      var cmd = \"import bokeh.io.notebook as ion; ion.destroy_server('\" + server_id + \"')\";\n",
       "      cell.notebook.kernel.execute(cmd);\n",
       "    }\n",
       "  }\n",
       "\n",
       "  /**\n",
       "   * Handle when a new output is added\n",
       "   */\n",
       "  function handleAddOutput(event, handle) {\n",
       "    var output_area = handle.output_area;\n",
       "    var output = handle.output;\n",
       "\n",
       "    // limit handleAddOutput to display_data with EXEC_MIME_TYPE content only\n",
       "    if ((output.output_type != \"display_data\") || (!output.data.hasOwnProperty(EXEC_MIME_TYPE))) {\n",
       "      return\n",
       "    }\n",
       "\n",
       "    var toinsert = output_area.element.find(\".\" + CLASS_NAME.split(' ')[0]);\n",
       "\n",
       "    if (output.metadata[EXEC_MIME_TYPE][\"id\"] !== undefined) {\n",
       "      toinsert[toinsert.length - 1].firstChild.textContent = output.data[JS_MIME_TYPE];\n",
       "      // store reference to embed id on output_area\n",
       "      output_area._bokeh_element_id = output.metadata[EXEC_MIME_TYPE][\"id\"];\n",
       "    }\n",
       "    if (output.metadata[EXEC_MIME_TYPE][\"server_id\"] !== undefined) {\n",
       "      var bk_div = document.createElement(\"div\");\n",
       "      bk_div.innerHTML = output.data[HTML_MIME_TYPE];\n",
       "      var script_attrs = bk_div.children[0].attributes;\n",
       "      for (var i = 0; i < script_attrs.length; i++) {\n",
       "        toinsert[toinsert.length - 1].firstChild.setAttribute(script_attrs[i].name, script_attrs[i].value);\n",
       "      }\n",
       "      // store reference to server id on output_area\n",
       "      output_area._bokeh_server_id = output.metadata[EXEC_MIME_TYPE][\"server_id\"];\n",
       "    }\n",
       "  }\n",
       "\n",
       "  function register_renderer(events, OutputArea) {\n",
       "\n",
       "    function append_mime(data, metadata, element) {\n",
       "      // create a DOM node to render to\n",
       "      var toinsert = this.create_output_subarea(\n",
       "        metadata,\n",
       "        CLASS_NAME,\n",
       "        EXEC_MIME_TYPE\n",
       "      );\n",
       "      this.keyboard_manager.register_events(toinsert);\n",
       "      // Render to node\n",
       "      var props = {data: data, metadata: metadata[EXEC_MIME_TYPE]};\n",
       "      render(props, toinsert[toinsert.length - 1]);\n",
       "      element.append(toinsert);\n",
       "      return toinsert\n",
       "    }\n",
       "\n",
       "    /* Handle when an output is cleared or removed */\n",
       "    events.on('clear_output.CodeCell', handleClearOutput);\n",
       "    events.on('delete.Cell', handleClearOutput);\n",
       "\n",
       "    /* Handle when a new output is added */\n",
       "    events.on('output_added.OutputArea', handleAddOutput);\n",
       "\n",
       "    /**\n",
       "     * Register the mime type and append_mime function with output_area\n",
       "     */\n",
       "    OutputArea.prototype.register_mime_type(EXEC_MIME_TYPE, append_mime, {\n",
       "      /* Is output safe? */\n",
       "      safe: true,\n",
       "      /* Index of renderer in `output_area.display_order` */\n",
       "      index: 0\n",
       "    });\n",
       "  }\n",
       "\n",
       "  // register the mime type if in Jupyter Notebook environment and previously unregistered\n",
       "  if (root.Jupyter !== undefined) {\n",
       "    var events = require('base/js/events');\n",
       "    var OutputArea = require('notebook/js/outputarea').OutputArea;\n",
       "\n",
       "    if (OutputArea.prototype.mime_types().indexOf(EXEC_MIME_TYPE) == -1) {\n",
       "      register_renderer(events, OutputArea);\n",
       "    }\n",
       "  }\n",
       "\n",
       "  \n",
       "  if (typeof (root._bokeh_timeout) === \"undefined\" || force === true) {\n",
       "    root._bokeh_timeout = Date.now() + 5000;\n",
       "    root._bokeh_failed_load = false;\n",
       "  }\n",
       "\n",
       "  var NB_LOAD_WARNING = {'data': {'text/html':\n",
       "     \"<div style='background-color: #fdd'>\\n\"+\n",
       "     \"<p>\\n\"+\n",
       "     \"BokehJS does not appear to have successfully loaded. If loading BokehJS from CDN, this \\n\"+\n",
       "     \"may be due to a slow or bad network connection. Possible fixes:\\n\"+\n",
       "     \"</p>\\n\"+\n",
       "     \"<ul>\\n\"+\n",
       "     \"<li>re-rerun `output_notebook()` to attempt to load from CDN again, or</li>\\n\"+\n",
       "     \"<li>use INLINE resources instead, as so:</li>\\n\"+\n",
       "     \"</ul>\\n\"+\n",
       "     \"<code>\\n\"+\n",
       "     \"from bokeh.resources import INLINE\\n\"+\n",
       "     \"output_notebook(resources=INLINE)\\n\"+\n",
       "     \"</code>\\n\"+\n",
       "     \"</div>\"}};\n",
       "\n",
       "  function display_loaded() {\n",
       "    var el = document.getElementById(\"1001\");\n",
       "    if (el != null) {\n",
       "      el.textContent = \"BokehJS is loading...\";\n",
       "    }\n",
       "    if (root.Bokeh !== undefined) {\n",
       "      if (el != null) {\n",
       "        el.textContent = \"BokehJS \" + root.Bokeh.version + \" successfully loaded.\";\n",
       "      }\n",
       "    } else if (Date.now() < root._bokeh_timeout) {\n",
       "      setTimeout(display_loaded, 100)\n",
       "    }\n",
       "  }\n",
       "\n",
       "\n",
       "  function run_callbacks() {\n",
       "    try {\n",
       "      root._bokeh_onload_callbacks.forEach(function(callback) { callback() });\n",
       "    }\n",
       "    finally {\n",
       "      delete root._bokeh_onload_callbacks\n",
       "    }\n",
       "    console.info(\"Bokeh: all callbacks have finished\");\n",
       "  }\n",
       "\n",
       "  function load_libs(js_urls, callback) {\n",
       "    root._bokeh_onload_callbacks.push(callback);\n",
       "    if (root._bokeh_is_loading > 0) {\n",
       "      console.log(\"Bokeh: BokehJS is being loaded, scheduling callback at\", now());\n",
       "      return null;\n",
       "    }\n",
       "    if (js_urls == null || js_urls.length === 0) {\n",
       "      run_callbacks();\n",
       "      return null;\n",
       "    }\n",
       "    console.log(\"Bokeh: BokehJS not loaded, scheduling load and callback at\", now());\n",
       "    root._bokeh_is_loading = js_urls.length;\n",
       "    for (var i = 0; i < js_urls.length; i++) {\n",
       "      var url = js_urls[i];\n",
       "      var s = document.createElement('script');\n",
       "      s.src = url;\n",
       "      s.async = false;\n",
       "      s.onreadystatechange = s.onload = function() {\n",
       "        root._bokeh_is_loading--;\n",
       "        if (root._bokeh_is_loading === 0) {\n",
       "          console.log(\"Bokeh: all BokehJS libraries loaded\");\n",
       "          run_callbacks()\n",
       "        }\n",
       "      };\n",
       "      s.onerror = function() {\n",
       "        console.warn(\"failed to load library \" + url);\n",
       "      };\n",
       "      console.log(\"Bokeh: injecting script tag for BokehJS library: \", url);\n",
       "      document.getElementsByTagName(\"head\")[0].appendChild(s);\n",
       "    }\n",
       "  };var element = document.getElementById(\"1001\");\n",
       "  if (element == null) {\n",
       "    console.log(\"Bokeh: ERROR: autoload.js configured with elementid '1001' but no matching script tag was found. \")\n",
       "    return false;\n",
       "  }\n",
       "\n",
       "  var js_urls = [\"https://cdn.pydata.org/bokeh/release/bokeh-1.0.2.min.js\", \"https://cdn.pydata.org/bokeh/release/bokeh-widgets-1.0.2.min.js\", \"https://cdn.pydata.org/bokeh/release/bokeh-tables-1.0.2.min.js\", \"https://cdn.pydata.org/bokeh/release/bokeh-gl-1.0.2.min.js\"];\n",
       "\n",
       "  var inline_js = [\n",
       "    function(Bokeh) {\n",
       "      Bokeh.set_log_level(\"info\");\n",
       "    },\n",
       "    \n",
       "    function(Bokeh) {\n",
       "      \n",
       "    },\n",
       "    function(Bokeh) {\n",
       "      console.log(\"Bokeh: injecting CSS: https://cdn.pydata.org/bokeh/release/bokeh-1.0.2.min.css\");\n",
       "      Bokeh.embed.inject_css(\"https://cdn.pydata.org/bokeh/release/bokeh-1.0.2.min.css\");\n",
       "      console.log(\"Bokeh: injecting CSS: https://cdn.pydata.org/bokeh/release/bokeh-widgets-1.0.2.min.css\");\n",
       "      Bokeh.embed.inject_css(\"https://cdn.pydata.org/bokeh/release/bokeh-widgets-1.0.2.min.css\");\n",
       "      console.log(\"Bokeh: injecting CSS: https://cdn.pydata.org/bokeh/release/bokeh-tables-1.0.2.min.css\");\n",
       "      Bokeh.embed.inject_css(\"https://cdn.pydata.org/bokeh/release/bokeh-tables-1.0.2.min.css\");\n",
       "    }\n",
       "  ];\n",
       "\n",
       "  function run_inline_js() {\n",
       "    \n",
       "    if ((root.Bokeh !== undefined) || (force === true)) {\n",
       "      for (var i = 0; i < inline_js.length; i++) {\n",
       "        inline_js[i].call(root, root.Bokeh);\n",
       "      }if (force === true) {\n",
       "        display_loaded();\n",
       "      }} else if (Date.now() < root._bokeh_timeout) {\n",
       "      setTimeout(run_inline_js, 100);\n",
       "    } else if (!root._bokeh_failed_load) {\n",
       "      console.log(\"Bokeh: BokehJS failed to load within specified timeout.\");\n",
       "      root._bokeh_failed_load = true;\n",
       "    } else if (force !== true) {\n",
       "      var cell = $(document.getElementById(\"1001\")).parents('.cell').data().cell;\n",
       "      cell.output_area.append_execute_result(NB_LOAD_WARNING)\n",
       "    }\n",
       "\n",
       "  }\n",
       "\n",
       "  if (root._bokeh_is_loading === 0) {\n",
       "    console.log(\"Bokeh: BokehJS loaded, going straight to plotting\");\n",
       "    run_inline_js();\n",
       "  } else {\n",
       "    load_libs(js_urls, function() {\n",
       "      console.log(\"Bokeh: BokehJS plotting callback run at\", now());\n",
       "      run_inline_js();\n",
       "    });\n",
       "  }\n",
       "}(window));"
      ],
      "application/vnd.bokehjs_load.v0+json": "\n(function(root) {\n  function now() {\n    return new Date();\n  }\n\n  var force = true;\n\n  if (typeof (root._bokeh_onload_callbacks) === \"undefined\" || force === true) {\n    root._bokeh_onload_callbacks = [];\n    root._bokeh_is_loading = undefined;\n  }\n\n  \n\n  \n  if (typeof (root._bokeh_timeout) === \"undefined\" || force === true) {\n    root._bokeh_timeout = Date.now() + 5000;\n    root._bokeh_failed_load = false;\n  }\n\n  var NB_LOAD_WARNING = {'data': {'text/html':\n     \"<div style='background-color: #fdd'>\\n\"+\n     \"<p>\\n\"+\n     \"BokehJS does not appear to have successfully loaded. If loading BokehJS from CDN, this \\n\"+\n     \"may be due to a slow or bad network connection. Possible fixes:\\n\"+\n     \"</p>\\n\"+\n     \"<ul>\\n\"+\n     \"<li>re-rerun `output_notebook()` to attempt to load from CDN again, or</li>\\n\"+\n     \"<li>use INLINE resources instead, as so:</li>\\n\"+\n     \"</ul>\\n\"+\n     \"<code>\\n\"+\n     \"from bokeh.resources import INLINE\\n\"+\n     \"output_notebook(resources=INLINE)\\n\"+\n     \"</code>\\n\"+\n     \"</div>\"}};\n\n  function display_loaded() {\n    var el = document.getElementById(\"1001\");\n    if (el != null) {\n      el.textContent = \"BokehJS is loading...\";\n    }\n    if (root.Bokeh !== undefined) {\n      if (el != null) {\n        el.textContent = \"BokehJS \" + root.Bokeh.version + \" successfully loaded.\";\n      }\n    } else if (Date.now() < root._bokeh_timeout) {\n      setTimeout(display_loaded, 100)\n    }\n  }\n\n\n  function run_callbacks() {\n    try {\n      root._bokeh_onload_callbacks.forEach(function(callback) { callback() });\n    }\n    finally {\n      delete root._bokeh_onload_callbacks\n    }\n    console.info(\"Bokeh: all callbacks have finished\");\n  }\n\n  function load_libs(js_urls, callback) {\n    root._bokeh_onload_callbacks.push(callback);\n    if (root._bokeh_is_loading > 0) {\n      console.log(\"Bokeh: BokehJS is being loaded, scheduling callback at\", now());\n      return null;\n    }\n    if (js_urls == null || js_urls.length === 0) {\n      run_callbacks();\n      return null;\n    }\n    console.log(\"Bokeh: BokehJS not loaded, scheduling load and callback at\", now());\n    root._bokeh_is_loading = js_urls.length;\n    for (var i = 0; i < js_urls.length; i++) {\n      var url = js_urls[i];\n      var s = document.createElement('script');\n      s.src = url;\n      s.async = false;\n      s.onreadystatechange = s.onload = function() {\n        root._bokeh_is_loading--;\n        if (root._bokeh_is_loading === 0) {\n          console.log(\"Bokeh: all BokehJS libraries loaded\");\n          run_callbacks()\n        }\n      };\n      s.onerror = function() {\n        console.warn(\"failed to load library \" + url);\n      };\n      console.log(\"Bokeh: injecting script tag for BokehJS library: \", url);\n      document.getElementsByTagName(\"head\")[0].appendChild(s);\n    }\n  };var element = document.getElementById(\"1001\");\n  if (element == null) {\n    console.log(\"Bokeh: ERROR: autoload.js configured with elementid '1001' but no matching script tag was found. \")\n    return false;\n  }\n\n  var js_urls = [\"https://cdn.pydata.org/bokeh/release/bokeh-1.0.2.min.js\", \"https://cdn.pydata.org/bokeh/release/bokeh-widgets-1.0.2.min.js\", \"https://cdn.pydata.org/bokeh/release/bokeh-tables-1.0.2.min.js\", \"https://cdn.pydata.org/bokeh/release/bokeh-gl-1.0.2.min.js\"];\n\n  var inline_js = [\n    function(Bokeh) {\n      Bokeh.set_log_level(\"info\");\n    },\n    \n    function(Bokeh) {\n      \n    },\n    function(Bokeh) {\n      console.log(\"Bokeh: injecting CSS: https://cdn.pydata.org/bokeh/release/bokeh-1.0.2.min.css\");\n      Bokeh.embed.inject_css(\"https://cdn.pydata.org/bokeh/release/bokeh-1.0.2.min.css\");\n      console.log(\"Bokeh: injecting CSS: https://cdn.pydata.org/bokeh/release/bokeh-widgets-1.0.2.min.css\");\n      Bokeh.embed.inject_css(\"https://cdn.pydata.org/bokeh/release/bokeh-widgets-1.0.2.min.css\");\n      console.log(\"Bokeh: injecting CSS: https://cdn.pydata.org/bokeh/release/bokeh-tables-1.0.2.min.css\");\n      Bokeh.embed.inject_css(\"https://cdn.pydata.org/bokeh/release/bokeh-tables-1.0.2.min.css\");\n    }\n  ];\n\n  function run_inline_js() {\n    \n    if ((root.Bokeh !== undefined) || (force === true)) {\n      for (var i = 0; i < inline_js.length; i++) {\n        inline_js[i].call(root, root.Bokeh);\n      }if (force === true) {\n        display_loaded();\n      }} else if (Date.now() < root._bokeh_timeout) {\n      setTimeout(run_inline_js, 100);\n    } else if (!root._bokeh_failed_load) {\n      console.log(\"Bokeh: BokehJS failed to load within specified timeout.\");\n      root._bokeh_failed_load = true;\n    } else if (force !== true) {\n      var cell = $(document.getElementById(\"1001\")).parents('.cell').data().cell;\n      cell.output_area.append_execute_result(NB_LOAD_WARNING)\n    }\n\n  }\n\n  if (root._bokeh_is_loading === 0) {\n    console.log(\"Bokeh: BokehJS loaded, going straight to plotting\");\n    run_inline_js();\n  } else {\n    load_libs(js_urls, function() {\n      console.log(\"Bokeh: BokehJS plotting callback run at\", now());\n      run_inline_js();\n    });\n  }\n}(window));"
     },
     "metadata": {},
     "output_type": "display_data"
    }
   ],
   "source": [
    "bki.output_notebook()"
   ]
  },
  {
   "cell_type": "code",
   "execution_count": 3,
   "metadata": {},
   "outputs": [],
   "source": [
    "from bokeh.io import curdoc\n",
    "from bokeh.themes import Theme\n",
    "\n",
    "production = False\n",
    "\n",
    "if production:\n",
    "    # Production-quality settings\n",
    "    fsz = '190pt'\n",
    "    figsz = 6000\n",
    "    glyphw = 160\n",
    "    glyphh = 160\n",
    "    lw = 30\n",
    "    glw = 5\n",
    "else:\n",
    "    #Notebook-quality settings\n",
    "    fsz = '16pt'\n",
    "    figsz = 600\n",
    "    glyphw = 20\n",
    "    glyphh = 20\n",
    "    lw = 3\n",
    "    glw = 1\n",
    "\n",
    "curdoc().theme = Theme(json={'attrs': {\n",
    "    'Figure': {\n",
    "        'width': figsz,\n",
    "        'height': figsz\n",
    "    },\n",
    "    # apply defaults to Grid properties\n",
    "    'Grid': {\n",
    "        'grid_line_width': glw\n",
    "    },\n",
    "    # apply defaults to Line/Span properties\n",
    "    'Line': {\n",
    "        'line_width': lw\n",
    "    },\n",
    "    'Span': {\n",
    "        'line_width': lw\n",
    "    },\n",
    "    # apply defaults to Title properties\n",
    "    'Title': {\n",
    "        'text_font_size': fsz\n",
    "    },\n",
    "    # apply defaults to Axis properties\n",
    "    'Axis': {\n",
    "        'axis_label_text_font_size': fsz,\n",
    "        'major_label_text_font_size' : fsz\n",
    "    },\n",
    "     # apply defaults to Legend properties\n",
    "    'Legend': {\n",
    "        'label_text_font_size': fsz,\n",
    "        'glyph_width': glyphw,\n",
    "        'glyph_height': glyphh\n",
    "    }\n",
    "}})\n",
    "\n",
    "logFmtr = FuncTickFormatter(code=\"\"\"\n",
    "var trns = [\n",
    "'\\u2070',\n",
    "'\\u00B9',\n",
    "'\\u00B2',\n",
    "'\\u00B3',\n",
    "'\\u2074',\n",
    "'\\u2075',\n",
    "'\\u2076',\n",
    "'\\u2077',\n",
    "'\\u2078',\n",
    "'\\u2079'];\n",
    "var tick_power = Math.floor(Math.log10(tick));\n",
    "var tick_mult = Math.pow(10, Math.log10(tick) - tick_power);\n",
    "var ret = '';\n",
    "if (tick_mult > 1.) {\n",
    "  if (Math.abs(tick_mult - Math.round(tick_mult)) > 0.05){\n",
    "    ret = tick_mult.toFixed(1) + '\\u22C5';\n",
    "  } else {\n",
    "    ret = tick_mult.toFixed(0) +'\\u22C5';\n",
    "  }\n",
    "}\n",
    "ret += '10';\n",
    "if (tick_power < 0){\n",
    "  ret += '\\u207B';\n",
    "  tick_power = -tick_power;\n",
    "}\n",
    "power_digits = []\n",
    "while (tick_power > 9){\n",
    "  power_digits.push( tick_power - Math.floor(tick_power/10)*10 )\n",
    "  tick_power = Math.floor(tick_power/10)\n",
    "}\n",
    "power_digits.push(tick_power)\n",
    "for (i = power_digits.length-1; i >= 0; i--){\n",
    "  ret += trns[power_digits[i]];\n",
    "}\n",
    "return ret;\n",
    "\"\"\")\n"
   ]
  },
  {
   "cell_type": "markdown",
   "metadata": {},
   "source": [
    "# Data Preprocessing"
   ]
  },
  {
   "cell_type": "markdown",
   "metadata": {},
   "source": [
    "### Extract Relevant Columns, Simplify, Tidy"
   ]
  },
  {
   "cell_type": "code",
   "execution_count": 4,
   "metadata": {
    "scrolled": true
   },
   "outputs": [
    {
     "name": "stdout",
     "output_type": "stream",
     "text": [
      "(11266, 55)\n",
      "Preprocessed Dataframe:\n",
      "  BikeInjury Biker Intox.  BikeAge BikeSex  BikeDir  \\\n",
      "0       None           No       12    Male     With   \n",
      "2   Possible           No       36    Male     With   \n",
      "3   Possible           No       63    Male     With   \n",
      "4   Possible           No       14    Male     With   \n",
      "5       None           No       57    Male  Against   \n",
      "\n",
      "                      BikePos     DrvrVehTyp LightCond  SpeedLimit  \\\n",
      "0                 Travel Lane  Passenger Car      Dayl          35   \n",
      "2  Bike Lane / Paved Shoulder  Passenger Car      Dayl          45   \n",
      "3                 Travel Lane  Sport Utility      Dayl          35   \n",
      "4                 Travel Lane  Passenger Car      Dayl          35   \n",
      "5                 Non-Roadway         Pickup      Dayl          15   \n",
      "\n",
      "   Day of Week  CrashHour  \n",
      "0            6         18  \n",
      "2            4         17  \n",
      "3            3         18  \n",
      "4            3         15  \n",
      "5            6         13  \n",
      "\n",
      "\n",
      "Split Covariate/Outcome Arrays:\n",
      "X:\n",
      "[['No' 12 'Male' ... 35 6 18]\n",
      " ['No' 36 'Male' ... 45 4 17]\n",
      " ['No' 63 'Male' ... 35 3 18]\n",
      " ...\n",
      " ['No' 20 'Male' ... 35 4 16]\n",
      " ['No' 11 'Male' ... 45 1 17]\n",
      " ['No' 57 'Male' ... 55 5 14]]\n",
      "Y:\n",
      "['None' 'Possible' 'Possible' ... 'Possible' 'Possible' 'Killed']\n"
     ]
    }
   ],
   "source": [
    "# load in data\n",
    "# this data was collected on May 1, 2020 from \n",
    "# https://www.chapelhillopendata.org/explore/dataset/bicycle-crash-data-chapel-hill-region\n",
    "df = pd.read_csv('bicycle-crash-data-chapel-hill-region.csv', sep=';')\n",
    "print(df.shape)\n",
    "#extract relevant columns\n",
    "cols_used = ['BikeInjury', 'Biker Intox.', 'BikeAge', 'BikeSex', 'BikeDir', 'BikePos', \n",
    "        'DrvrVehTyp', 'LightCond', 'SpeedLimit', 'Day of Week', 'CrashHour']\n",
    "df = df[cols_used]\n",
    "\n",
    "#extract rows without missing data\n",
    "ageknown = (df.BikeAge != '999') & (df.BikeAge != '70+')\n",
    "lightknown = (df['LightCond'] != 'Unknown') & (df['LightCond'] != 'Other')\n",
    "vehknown = df['DrvrVehTyp'] != 'Unknown'\n",
    "spdknown = df['SpeedLimit'] != 'Unknown'\n",
    "injknown = df['BikeInjury'] != 'Unknown Injury'\n",
    "dirknown = df['BikeDir'] != 'Unknown'\n",
    "posknown = df['BikePos'] != 'Unknown'\n",
    "df = df[ageknown & lightknown & vehknown & spdknown & injknown & dirknown & posknown]\n",
    "\n",
    "#convert ages to integers\n",
    "df['BikeAge'] = df['BikeAge'].astype(int)\n",
    "\n",
    "#simplify injury type\n",
    "def simplify_inj(inj):\n",
    "    if 'Minor' in inj:\n",
    "        return 'Minor'\n",
    "    elif 'Serious' in inj:\n",
    "        return 'Serious'\n",
    "    elif 'Killed' in inj:\n",
    "        return 'Killed'\n",
    "    elif 'Possible' in inj:\n",
    "        return 'Possible'\n",
    "    elif 'No In' in inj:\n",
    "        return 'None'\n",
    "    else:\n",
    "        return 'NA'\n",
    "df['BikeInjury'] = df['BikeInjury'].apply(simplify_inj)\n",
    "\n",
    "#simplify light condition\n",
    "df['LightCond'] = df['LightCond'].apply(lambda x : x[:4])\n",
    "\n",
    "#simplify vehicle types\n",
    "def simplify_veh(veh):\n",
    "    if 'Truck' in veh or 'truck' in veh or 'Motor Home' in veh:\n",
    "        return 'Truck'\n",
    "    elif 'Bus' in veh:\n",
    "        return 'Bus'\n",
    "    elif 'EMS' in veh or 'Police' in veh:\n",
    "        return 'Emergency'\n",
    "    else:\n",
    "        return veh\n",
    "df['DrvrVehTyp'] = df['DrvrVehTyp'].apply(simplify_veh)\n",
    "\n",
    "#simplify bike direction\n",
    "def simplify_dir(dr):\n",
    "    if 'With' in dr:\n",
    "        return 'With'\n",
    "    elif 'Not' in dr:\n",
    "        return 'NA'\n",
    "    else:\n",
    "        return 'Against'\n",
    "df['BikeDir'] = df['BikeDir'].apply(simplify_dir)\n",
    "\n",
    "#simplify bike position\n",
    "def simplify_pos(pos):\n",
    "    if 'With' in pos:\n",
    "        return 'With'\n",
    "    elif 'Not' in dr:\n",
    "        return 'NA'\n",
    "    else:\n",
    "        return 'Against'\n",
    "df['BikeDir'] = df['BikeDir'].apply(simplify_dir)\n",
    "\n",
    "#simplify day of week\n",
    "day_map = {'Sunday': 0,\n",
    "           'Monday': 1,\n",
    "           'Tuesday': 2,\n",
    "           'Wednesday': 3,\n",
    "           'Thursday': 4,\n",
    "           'Friday': 5,\n",
    "           'Saturday': 6}\n",
    "df['Day of Week'] = df['Day of Week'].apply(lambda x : day_map[x])\n",
    "\n",
    "#simplify speed limit\n",
    "def simplify_spd(spd):\n",
    "    return spd.strip().split(' ')[2]\n",
    "df['SpeedLimit'] = df['SpeedLimit'].apply(simplify_spd)\n",
    "df['SpeedLimit'] = df['SpeedLimit'].astype(int)\n",
    "\n",
    "\n",
    "#Print the output\n",
    "print('Preprocessed Dataframe:')\n",
    "print(df.head())\n",
    "\n",
    "print('')\n",
    "print('')\n",
    "print('Split Covariate/Outcome Arrays:')\n",
    "\n",
    "#create a version of the data with covariates and observations separate\n",
    "Y = np.array(df['BikeInjury'])\n",
    "X = np.array(df.drop(['BikeInjury'], axis=1))\n",
    "\n",
    "print('X:')\n",
    "print(X)\n",
    "print('Y:')\n",
    "print(Y)"
   ]
  },
  {
   "cell_type": "markdown",
   "metadata": {},
   "source": [
    "# Local Permutation Test"
   ]
  },
  {
   "cell_type": "markdown",
   "metadata": {},
   "source": [
    "### Premetric"
   ]
  },
  {
   "cell_type": "code",
   "execution_count": 5,
   "metadata": {},
   "outputs": [],
   "source": [
    "#X columns: ['Biker Intox.', 'BikeAge', 'BikeSex', 'BikeDir', 'BikePos', \n",
    "#        'DrvrVehTyp', 'LightCond', 'SpeedLimit', 'Day of Week', 'CrashHour']\n",
    "\n",
    "def premetric(x1, x2, weight):\n",
    "    cat_idcs = [2,3,4,5,6]\n",
    "    if (x1[cat_idcs] != x2[cat_idcs]).any():\n",
    "        return 1\n",
    "    else:\n",
    "        return min(1, \n",
    "                  weight*(\n",
    "                  np.fabs(x1[1]-x2[1]) + \n",
    "                  np.fabs(x1[7]-x2[7]) +\n",
    "                  min(np.fabs(x1[8]-x2[8]), 7 - np.fabs(x1[8]-x2[8])) + \n",
    "                  min(np.fabs(x1[9]-x2[9]), 24 - np.fabs(x1[9]-x2[9]))\n",
    "                  ))           "
   ]
  },
  {
   "cell_type": "markdown",
   "metadata": {},
   "source": [
    "### Test Statistic"
   ]
  },
  {
   "cell_type": "code",
   "execution_count": 6,
   "metadata": {},
   "outputs": [],
   "source": [
    "def test_stat(X, Y):\n",
    "    intox = (X[:, 0] == 'Yes')\n",
    "    severe = (Y == 'Serious') | (Y == 'Killed') \n",
    "    return (severe & intox).sum()/intox.sum() - (severe & ~intox).sum()/(~intox).sum()"
   ]
  },
  {
   "cell_type": "markdown",
   "metadata": {},
   "source": [
    "### Pair Permutation Subgroup Constructor"
   ]
  },
  {
   "cell_type": "code",
   "execution_count": 7,
   "metadata": {},
   "outputs": [],
   "source": [
    "def construct_pairs(X, d, match_coln):\n",
    "    #ensure the match column has exactly two values\n",
    "    match_vals = np.unique(X[:, 0])\n",
    "    if match_vals.shape[0] != 2:\n",
    "        print('Unable to construct pair matching on column ' + str(match_coln))\n",
    "        print('Number of unique values != 2: ' +str(match_vals.shape[0]))\n",
    "    \n",
    "    #separate rows for the two match_coln values\n",
    "    idcs0 = np.where(X[:, match_coln] == match_vals[0])[0]\n",
    "    idcs1 = np.where(X[:, match_coln] == match_vals[1])[0]\n",
    "    X0 = X[X[:, match_coln] == match_vals[0]]\n",
    "    X1 = X[X[:, match_coln] == match_vals[1]]\n",
    "    \n",
    "    #create a matrix of pairwise premetric distances\n",
    "    dists = np.zeros((X0.shape[0], X1.shape[0]))\n",
    "    for i in range(X0.shape[0]):\n",
    "        if i % 1000 == 0:\n",
    "            sys.stdout.write('row ' + str(i+1)+'/'+str(X0.shape[0])+'              \\r')\n",
    "            sys.stdout.flush()\n",
    "        for j in range(X1.shape[0]):\n",
    "            dists[i,j] = d(X0[i,:], X1[j,:])\n",
    "    sys.stdout.write('\\n')\n",
    "    sys.stdout.flush()\n",
    "    \n",
    "    #greedy construction: pick pairs one-by-one via minimum premetric distance\n",
    "    pairs = []\n",
    "    pair_dists = []\n",
    "    while dists.min() < np.inf:\n",
    "        am = dists.argmin()\n",
    "        row = am // dists.shape[1]\n",
    "        col = am % dists.shape[1]\n",
    "        pairs.append((idcs0[row], idcs1[col]))\n",
    "        pair_dists.append(dists[row, col])\n",
    "        dists[row, :] = np.inf\n",
    "        dists[:, col] = np.inf\n",
    "        \n",
    "    #output the premetric-ordered list of pairs\n",
    "    return pairs, pair_dists"
   ]
  },
  {
   "cell_type": "markdown",
   "metadata": {},
   "source": [
    "### Paired Permutation Test"
   ]
  },
  {
   "cell_type": "code",
   "execution_count": 8,
   "metadata": {},
   "outputs": [],
   "source": [
    "def pair_test(X, Y, S, pairs, pair_dists, N_samples, alpha):\n",
    "    #take pairs until their local exchangeability penalty would exceed alpha/2\n",
    "    num_pairs = (np.cumsum(pair_dists) <= alpha/2).sum()\n",
    "    \n",
    "    #if there are no pairs we can swap under this constraint, just output\n",
    "    if num_pairs == 0:\n",
    "        return False, 0, S(X, Y), S(X, Y)*np.ones(N_samples) #all \"permutations\" are the same, cannot reject null\n",
    "    \n",
    "    #compute the local exchangeability penalty\n",
    "    penalty = np.cumsum(pair_dists)[num_pairs-1]\n",
    "    thresh = 1 - alpha + penalty\n",
    "    \n",
    "    #run N_samples of pair swaps \n",
    "    S_vals = np.zeros(N_samples)\n",
    "    for n in range(N_samples):\n",
    "        if n % 1000 == 0:\n",
    "            sys.stdout.write('sample ' + str(n+1)+'/'+str(N_samples)+'              \\r')\n",
    "            sys.stdout.flush()\n",
    "        #generate a uniform random swap of all pairs\n",
    "        Yc = Y.copy()\n",
    "        for p in range(num_pairs):\n",
    "            if np.random.rand() <= 0.5:\n",
    "                tmp = Yc[pairs[p][0]]\n",
    "                Yc[pairs[p][0]] = Yc[pairs[p][1]]\n",
    "                Yc[pairs[p][1]] = tmp\n",
    "        #compute the test statistic for the swapped data\n",
    "        S_vals[n] = S(X, Yc)\n",
    "    sys.stdout.write('\\n')\n",
    "    sys.stdout.flush()\n",
    "    \n",
    "    #Reject the null?\n",
    "    reject_null = (S(X, Y) > S_vals).sum()/N_samples > thresh\n",
    "    \n",
    "    #return the results\n",
    "    return reject_null, num_pairs, S(X, Y), S_vals"
   ]
  },
  {
   "cell_type": "markdown",
   "metadata": {},
   "source": [
    "### Run the Test"
   ]
  },
  {
   "cell_type": "code",
   "execution_count": 9,
   "metadata": {
    "scrolled": true
   },
   "outputs": [
    {
     "name": "stdout",
     "output_type": "stream",
     "text": [
      "Weight iter 1/20\n",
      "row 8001/8234              \n",
      "sample 99001/100000              \n",
      "Weight iter 2/20\n",
      "row 8001/8234              \n",
      "sample 99001/100000              \n",
      "Weight iter 3/20\n",
      "row 8001/8234              \n",
      "sample 99001/100000              \n",
      "Weight iter 4/20\n",
      "row 8001/8234              \n",
      "sample 99001/100000              \n",
      "Weight iter 5/20\n",
      "row 8001/8234              \n",
      "sample 99001/100000              \n",
      "Weight iter 6/20\n",
      "row 8001/8234              \n",
      "sample 99001/100000              \n",
      "Weight iter 7/20\n",
      "row 8001/8234              \n",
      "sample 99001/100000              \n",
      "Weight iter 8/20\n",
      "row 8001/8234              \n",
      "sample 99001/100000              \n",
      "Weight iter 9/20\n",
      "row 8001/8234              \n",
      "sample 99001/100000              \n",
      "Weight iter 10/20\n",
      "row 8001/8234              \n",
      "sample 99001/100000              \n",
      "Weight iter 11/20\n",
      "row 8001/8234              \n",
      "sample 99001/100000              \n",
      "Weight iter 12/20\n",
      "row 8001/8234              \n",
      "sample 99001/100000              \n",
      "Weight iter 13/20\n",
      "row 8001/8234              \n",
      "sample 99001/100000              \n",
      "Weight iter 14/20\n",
      "row 8001/8234              \n",
      "sample 99001/100000              \n",
      "Weight iter 15/20\n",
      "row 8001/8234              \n",
      "sample 99001/100000              \n",
      "Weight iter 16/20\n",
      "row 8001/8234              \n",
      "sample 99001/100000              \n",
      "Weight iter 17/20\n",
      "row 8001/8234              \n",
      "sample 99001/100000              \n",
      "Weight iter 18/20\n",
      "row 8001/8234              \n",
      "sample 99001/100000              \n",
      "Weight iter 19/20\n",
      "row 8001/8234              \n",
      "sample 99001/100000              \n",
      "Weight iter 20/20\n",
      "row 8001/8234              \n",
      "sample 99001/100000              \n"
     ]
    }
   ],
   "source": [
    "#try different premetric weights\n",
    "weights = np.logspace(-7, 0, 20)\n",
    "\n",
    "#match covariate = Biker Intoxication Status\n",
    "match_col = 0\n",
    "\n",
    "#Type 1 error guarantee = 5%\n",
    "alpha = 0.05\n",
    "\n",
    "#simulate 100,000 permutations\n",
    "N_samples = 100000\n",
    "\n",
    "\n",
    "S_vals = np.zeros((weights.shape[0], N_samples))\n",
    "S = 0\n",
    "n_pairs = np.zeros(weights.shape[0])\n",
    "rejections = np.zeros(weights.shape[0], dtype=np.bool)\n",
    "#for each premetric weight setting\n",
    "for n in range(weights.shape[0]):\n",
    "    print('Weight iter ' + str(n+1)+'/'+str(weights.shape[0]))\n",
    "    #construct the list of matched pairs\n",
    "    pairs, pair_dists = construct_pairs(X, lambda x1, x2 : premetric(x1, x2, weights[n]), match_col)\n",
    "\n",
    "    #run the permutation test and store the output\n",
    "    rejections[n], n_pairs[n], S, S_vals[n,:] = pair_test(X, Y, test_stat, pairs, pair_dists, N_samples, alpha)   \n"
   ]
  },
  {
   "cell_type": "markdown",
   "metadata": {},
   "source": [
    "### Visualize the Result"
   ]
  },
  {
   "cell_type": "code",
   "execution_count": 10,
   "metadata": {},
   "outputs": [
    {
     "data": {
      "text/html": [
       "\n",
       "\n",
       "\n",
       "\n",
       "\n",
       "\n",
       "  <div class=\"bk-root\" id=\"d518d721-c53e-49da-a489-4e3f03924711\"></div>\n"
      ]
     },
     "metadata": {},
     "output_type": "display_data"
    },
    {
     "data": {
      "application/javascript": [
       "(function(root) {\n",
       "  function embed_document(root) {\n",
       "    \n",
       "  var docs_json = {\"b496f9b0-11dc-4c7e-b031-eac571917ad2\":{\"roots\":{\"references\":[{\"attributes\":{\"below\":[{\"id\":\"1012\",\"type\":\"LinearAxis\"}],\"height\":600,\"left\":[{\"id\":\"1017\",\"type\":\"LinearAxis\"}],\"renderers\":[{\"id\":\"1012\",\"type\":\"LinearAxis\"},{\"id\":\"1016\",\"type\":\"Grid\"},{\"id\":\"1017\",\"type\":\"LinearAxis\"},{\"id\":\"1021\",\"type\":\"Grid\"},{\"id\":\"1030\",\"type\":\"BoxAnnotation\"},{\"id\":\"1037\",\"type\":\"Span\"},{\"id\":\"1050\",\"type\":\"Legend\"},{\"id\":\"1041\",\"type\":\"GlyphRenderer\"},{\"id\":\"1055\",\"type\":\"GlyphRenderer\"},{\"id\":\"1070\",\"type\":\"GlyphRenderer\"},{\"id\":\"1087\",\"type\":\"GlyphRenderer\"},{\"id\":\"1106\",\"type\":\"GlyphRenderer\"}],\"title\":{\"id\":\"1044\",\"type\":\"Title\"},\"toolbar\":{\"id\":\"1028\",\"type\":\"Toolbar\"},\"width\":600,\"x_range\":{\"id\":\"1004\",\"type\":\"Range1d\"},\"x_scale\":{\"id\":\"1008\",\"type\":\"LinearScale\"},\"y_range\":{\"id\":\"1006\",\"type\":\"DataRange1d\"},\"y_scale\":{\"id\":\"1010\",\"type\":\"LinearScale\"}},\"id\":\"1003\",\"subtype\":\"Figure\",\"type\":\"Plot\"},{\"attributes\":{\"callback\":null,\"data\":{\"left\":{\"__ndarray__\":\"AAAAAAAAAAC6AUE7DZ1bP7oBQTsNnWs/TMFw7Mm1dD+6AUE7DZ17PxShCEUoQoE/TMFw7Mm1hD+D4diTaymIP7oBQTsNnYs/8SGp4q4Qjz8UoQhFKEKRPzCxvBj5+5I/TMFw7Mm1lD9n0STAmm+WP4Ph2JNrKZg/nvGMZzzjmT+6AUE7DZ2bP9YR9Q7eVp0/8SGp4q4Qnz8GmS7bP2WgPxShCEUoQqE/IqnirhAfoj8wsbwY+fuiPz65loLh2KM/TMFw7Mm1pD9ZyUpWspKlP2fRJMCab6Y/ddn+KYNMpz+D4diTaymoP5Hpsv1TBqk/nvGMZzzjqT+s+WbRJMCqP7oBQTsNnas/yAkbpfV5rD/WEfUO3latP+MZz3jGM64/8SGp4q4Qrz//KYNMl+2vPwaZLts/ZbA/DZ0bELTTsD8UoQhFKEKxPxul9XmcsLE/IqnirhAfsj8prc/jhI2yPzCxvBj5+7I/N7WpTW1qsz8+uZaC4dizP0W9g7dVR7Q/TMFw7Mm1tD9SxV0hPiS1P1nJSlaykrU/YM03iyYBtj9n0STAmm+2P27VEfUO3rY/ddn+KYNMtz983ete97q3P4Ph2JNrKbg/iuXFyN+XuD+R6bL9Uwa5P5ftnzLIdLk/nvGMZzzjuT+l9XmcsFG6P6z5ZtEkwLo/s/1TBpkuuz+6AUE7DZ27P8EFLnCBC7w/yAkbpfV5vD/PDQjaaei8P9YR9Q7eVr0/3RXiQ1LFvT/jGc94xjO+P+odvK06or4/8SGp4q4Qvz/4JZYXI3+/P/8pg0yX7b8/Axe4wAUuwD8GmS7bP2XAPwobpfV5nMA/DZ0bELTTwD8RH5Iq7grBPxShCEUoQsE/GCN/X2J5wT8bpfV5nLDBPx8nbJTW58E/IqnirhAfwj8mK1nJSlbCPymtz+OEjcI/LC9G/r7Ewj8wsbwY+fvCPw==\",\"dtype\":\"float64\",\"shape\":[89]},\"right\":{\"__ndarray__\":\"ugFBOw2dWz+6AUE7DZ1rP0zBcOzJtXQ/ugFBOw2dez8UoQhFKEKBP0zBcOzJtYQ/g+HYk2spiD+6AUE7DZ2LP/EhqeKuEI8/FKEIRShCkT8wsbwY+fuSP0zBcOzJtZQ/Z9EkwJpvlj+D4diTaymYP57xjGc845k/ugFBOw2dmz/WEfUO3ladP/EhqeKuEJ8/Bpku2z9loD8UoQhFKEKhPyKp4q4QH6I/MLG8GPn7oj8+uZaC4dijP0zBcOzJtaQ/WclKVrKSpT9n0STAmm+mP3XZ/imDTKc/g+HYk2spqD+R6bL9UwapP57xjGc846k/rPlm0STAqj+6AUE7DZ2rP8gJG6X1eaw/1hH1Dt5WrT/jGc94xjOuP/EhqeKuEK8//ymDTJftrz8GmS7bP2WwPw2dGxC007A/FKEIRShCsT8bpfV5nLCxPyKp4q4QH7I/Ka3P44SNsj8wsbwY+fuyPze1qU1tarM/PrmWguHYsz9FvYO3VUe0P0zBcOzJtbQ/UsVdIT4ktT9ZyUpWspK1P2DNN4smAbY/Z9EkwJpvtj9u1RH1Dt62P3XZ/imDTLc/fN3rXve6tz+D4diTaym4P4rlxcjfl7g/kemy/VMGuT+X7Z8yyHS5P57xjGc847k/pfV5nLBRuj+s+WbRJMC6P7P9UwaZLrs/ugFBOw2duz/BBS5wgQu8P8gJG6X1ebw/zw0I2mnovD/WEfUO3la9P90V4kNSxb0/4xnPeMYzvj/qHbytOqK+P/EhqeKuEL8/+CWWFyN/vz//KYNMl+2/PwMXuMAFLsA/Bpku2z9lwD8KG6X1eZzAPw2dGxC008A/ER+SKu4KwT8UoQhFKELBPxgjf19iecE/G6X1eZywwT8fJ2yU1ufBPyKp4q4QH8I/JitZyUpWwj8prc/jhI3CPywvRv6+xMI/MLG8GPn7wj8zMzMzMzPDPw==\",\"dtype\":\"float64\",\"shape\":[89]},\"top\":{\"__ndarray__\":\"AAAAAAAAAAAAAAAAAAAAAAAAAAAAAAAAAAAAAAAAAAAAAAAAAAAAAAAAAAAAAAAAAAAAAAAAAAAAAAAAAAAAAAAAAAAAAAAAAAAAAAAAAAAAAAAAAAAAAAAAAAAAAAAAAAAAAAAAAAAAAAAAAAAAAAAAAAAAAAAAAAAAAAAAAAAAAAAAAAAAAAAAAAAAAAAAAAAAAAAAAAAAAAAAAAAAAAAAAAAAAAAAAAAAAAAAAAAAAAAAAAAAAAAAAAAAAAAAAAAAAAAAAAAAAAAAAAAAAAAAAAAAAAAAAAAAAAAAAAAAAAAAAAAAAAAAAAAAAAAAAAAAAAAAAAAAAAAAAAAAAAAAAAAAAAAAAAAAAAAAAAAAAAAAAAAAAAAAAAAAAAAAAAAAAAAAAAAAAAAAAAAAAAAAAAAAAAAAAAAAAAAAAAAAAAAAAAAAAAAAAAAAAAAAAAAAAAAAAADxaOOItfj0PvFo44i1+PQ+aR1VTRB1Dz8tQxzr4jYqPy9uowG8BUI/BcB4Bg39Uz8SMSWS6GVkP+317o/3qnU/K4cW2c73gz9lU67wLheRP+XtCKcFL5o/VcGopE5Aoz8YCW05l+KqPxea6zTSUrE/YqHWNO84tT9MVG8NbJW4PwNDVrd6Tro/lWBxOPOruT/p8Xub/uy3P82v5gDBHLU/Goums5PBsT/Vz5uKVBirP4syG2SSkaM/KdAn8iTpmj9ljXqIRneQP6nBNAwfEYM/7fXuj/eqdT8jLZW3I5xmP2tI3GPpQ1c/oDcVqTC2QD8tQxzr4jYqP/Fo44i1+BQ/8WjjiLX49D7xaOOItfjkPgAAAAAAAAAAAAAAAAAAAAAAAAAAAAAAAAAAAAAAAAAAAAAAAAAAAAAAAAAAAAAAAAAAAAAAAAAAAAAAAAAAAAAAAAAAAAAAAAAAAAAAAAAAAAAAAAAAAAAAAAAAAAAAAA==\",\"dtype\":\"float64\",\"shape\":[89]}},\"selected\":{\"id\":\"1082\",\"type\":\"Selection\"},\"selection_policy\":{\"id\":\"1081\",\"type\":\"UnionRenderers\"}},\"id\":\"1052\",\"type\":\"ColumnDataSource\"},{\"attributes\":{\"bottom\":{\"value\":0},\"fill_alpha\":{\"value\":0.1},\"fill_color\":{\"value\":\"#1f77b4\"},\"left\":{\"field\":\"left\"},\"line_alpha\":{\"value\":0.1},\"line_color\":{\"value\":\"#1f77b4\"},\"right\":{\"field\":\"right\"},\"top\":{\"field\":\"top\"}},\"id\":\"1086\",\"type\":\"Quad\"},{\"attributes\":{\"active_drag\":\"auto\",\"active_inspect\":\"auto\",\"active_multi\":null,\"active_scroll\":\"auto\",\"active_tap\":\"auto\",\"tools\":[{\"id\":\"1022\",\"type\":\"PanTool\"},{\"id\":\"1023\",\"type\":\"WheelZoomTool\"},{\"id\":\"1024\",\"type\":\"BoxZoomTool\"},{\"id\":\"1025\",\"type\":\"SaveTool\"},{\"id\":\"1026\",\"type\":\"ResetTool\"},{\"id\":\"1027\",\"type\":\"HelpTool\"}]},\"id\":\"1028\",\"type\":\"Toolbar\"},{\"attributes\":{\"bottom\":{\"value\":0},\"fill_alpha\":{\"value\":0.7},\"fill_color\":{\"value\":\"#ff7f0e\"},\"left\":{\"field\":\"left\"},\"line_alpha\":{\"value\":0.7},\"line_color\":{\"value\":\"white\"},\"right\":{\"field\":\"right\"},\"top\":{\"field\":\"top\"}},\"id\":\"1053\",\"type\":\"Quad\"},{\"attributes\":{\"data_source\":{\"id\":\"1084\",\"type\":\"ColumnDataSource\"},\"glyph\":{\"id\":\"1085\",\"type\":\"Quad\"},\"hover_glyph\":null,\"muted_glyph\":null,\"nonselection_glyph\":{\"id\":\"1086\",\"type\":\"Quad\"},\"selection_glyph\":null,\"view\":{\"id\":\"1088\",\"type\":\"CDSView\"}},\"id\":\"1087\",\"type\":\"GlyphRenderer\"},{\"attributes\":{\"bottom\":{\"value\":0},\"fill_alpha\":{\"value\":0.1},\"fill_color\":{\"value\":\"#1f77b4\"},\"left\":{\"field\":\"left\"},\"line_alpha\":{\"value\":0.1},\"line_color\":{\"value\":\"#1f77b4\"},\"right\":{\"field\":\"right\"},\"top\":{\"field\":\"top\"}},\"id\":\"1040\",\"type\":\"Quad\"},{\"attributes\":{\"bottom\":{\"value\":0},\"fill_alpha\":{\"value\":0.1},\"fill_color\":{\"value\":\"#1f77b4\"},\"left\":{\"field\":\"left\"},\"line_alpha\":{\"value\":0.1},\"line_color\":{\"value\":\"#1f77b4\"},\"right\":{\"field\":\"right\"},\"top\":{\"field\":\"top\"}},\"id\":\"1054\",\"type\":\"Quad\"},{\"attributes\":{\"source\":{\"id\":\"1084\",\"type\":\"ColumnDataSource\"}},\"id\":\"1088\",\"type\":\"CDSView\"},{\"attributes\":{\"data_source\":{\"id\":\"1052\",\"type\":\"ColumnDataSource\"},\"glyph\":{\"id\":\"1053\",\"type\":\"Quad\"},\"hover_glyph\":null,\"muted_glyph\":null,\"nonselection_glyph\":{\"id\":\"1054\",\"type\":\"Quad\"},\"selection_glyph\":null,\"view\":{\"id\":\"1056\",\"type\":\"CDSView\"}},\"id\":\"1055\",\"type\":\"GlyphRenderer\"},{\"attributes\":{},\"id\":\"1022\",\"type\":\"PanTool\"},{\"attributes\":{},\"id\":\"1100\",\"type\":\"UnionRenderers\"},{\"attributes\":{\"source\":{\"id\":\"1052\",\"type\":\"ColumnDataSource\"}},\"id\":\"1056\",\"type\":\"CDSView\"},{\"attributes\":{},\"id\":\"1023\",\"type\":\"WheelZoomTool\"},{\"attributes\":{},\"id\":\"1101\",\"type\":\"Selection\"},{\"attributes\":{\"dimension\":\"height\",\"line_width\":{\"value\":3},\"location\":0.12422871175594184,\"plot\":null},\"id\":\"1037\",\"type\":\"Span\"},{\"attributes\":{},\"id\":\"1064\",\"type\":\"UnionRenderers\"},{\"attributes\":{\"overlay\":{\"id\":\"1030\",\"type\":\"BoxAnnotation\"}},\"id\":\"1024\",\"type\":\"BoxZoomTool\"},{\"attributes\":{\"label\":{\"value\":\"\\u03bb = 3e-03\"},\"renderers\":[{\"id\":\"1087\",\"type\":\"GlyphRenderer\"}]},\"id\":\"1102\",\"type\":\"LegendItem\"},{\"attributes\":{\"callback\":null,\"data\":{\"x\":[0],\"y\":[0]},\"selected\":{\"id\":\"1140\",\"type\":\"Selection\"},\"selection_policy\":{\"id\":\"1139\",\"type\":\"UnionRenderers\"}},\"id\":\"1103\",\"type\":\"ColumnDataSource\"},{\"attributes\":{},\"id\":\"1065\",\"type\":\"Selection\"},{\"attributes\":{},\"id\":\"1025\",\"type\":\"SaveTool\"},{\"attributes\":{\"line_width\":3,\"x\":{\"field\":\"x\"},\"y\":{\"field\":\"y\"}},\"id\":\"1104\",\"type\":\"Line\"},{\"attributes\":{\"callback\":null,\"end\":0.14,\"start\":0.04},\"id\":\"1004\",\"type\":\"Range1d\"},{\"attributes\":{\"label\":{\"value\":\"\\u03bb = 4e-05\"},\"renderers\":[{\"id\":\"1055\",\"type\":\"GlyphRenderer\"}]},\"id\":\"1066\",\"type\":\"LegendItem\"},{\"attributes\":{},\"id\":\"1026\",\"type\":\"ResetTool\"},{\"attributes\":{\"line_alpha\":0.1,\"line_color\":\"#1f77b4\",\"line_width\":3,\"x\":{\"field\":\"x\"},\"y\":{\"field\":\"y\"}},\"id\":\"1105\",\"type\":\"Line\"},{\"attributes\":{\"callback\":null},\"id\":\"1006\",\"type\":\"DataRange1d\"},{\"attributes\":{\"callback\":null,\"data\":{\"left\":{\"__ndarray__\":\"AAAAAAAAAAC6AUE7DZ1bP7oBQTsNnWs/TMFw7Mm1dD+6AUE7DZ17PxShCEUoQoE/TMFw7Mm1hD+D4diTaymIP7oBQTsNnYs/8SGp4q4Qjz8UoQhFKEKRPzCxvBj5+5I/TMFw7Mm1lD9n0STAmm+WP4Ph2JNrKZg/nvGMZzzjmT+6AUE7DZ2bP9YR9Q7eVp0/8SGp4q4Qnz8GmS7bP2WgPxShCEUoQqE/IqnirhAfoj8wsbwY+fuiPz65loLh2KM/TMFw7Mm1pD9ZyUpWspKlP2fRJMCab6Y/ddn+KYNMpz+D4diTaymoP5Hpsv1TBqk/nvGMZzzjqT+s+WbRJMCqP7oBQTsNnas/yAkbpfV5rD/WEfUO3latP+MZz3jGM64/8SGp4q4Qrz//KYNMl+2vPwaZLts/ZbA/DZ0bELTTsD8UoQhFKEKxPxul9XmcsLE/IqnirhAfsj8prc/jhI2yPzCxvBj5+7I/N7WpTW1qsz8+uZaC4dizP0W9g7dVR7Q/TMFw7Mm1tD9SxV0hPiS1P1nJSlaykrU/YM03iyYBtj9n0STAmm+2P27VEfUO3rY/ddn+KYNMtz983ete97q3P4Ph2JNrKbg/iuXFyN+XuD+R6bL9Uwa5P5ftnzLIdLk/nvGMZzzjuT+l9XmcsFG6P6z5ZtEkwLo/s/1TBpkuuz+6AUE7DZ27P8EFLnCBC7w/yAkbpfV5vD/PDQjaaei8P9YR9Q7eVr0/3RXiQ1LFvT/jGc94xjO+P+odvK06or4/8SGp4q4Qvz/4JZYXI3+/P/8pg0yX7b8/Axe4wAUuwD8GmS7bP2XAPwobpfV5nMA/DZ0bELTTwD8RH5Iq7grBPxShCEUoQsE/GCN/X2J5wT8bpfV5nLDBPx8nbJTW58E/IqnirhAfwj8mK1nJSlbCPymtz+OEjcI/LC9G/r7Ewj8wsbwY+fvCPw==\",\"dtype\":\"float64\",\"shape\":[89]},\"right\":{\"__ndarray__\":\"ugFBOw2dWz+6AUE7DZ1rP0zBcOzJtXQ/ugFBOw2dez8UoQhFKEKBP0zBcOzJtYQ/g+HYk2spiD+6AUE7DZ2LP/EhqeKuEI8/FKEIRShCkT8wsbwY+fuSP0zBcOzJtZQ/Z9EkwJpvlj+D4diTaymYP57xjGc845k/ugFBOw2dmz/WEfUO3ladP/EhqeKuEJ8/Bpku2z9loD8UoQhFKEKhPyKp4q4QH6I/MLG8GPn7oj8+uZaC4dijP0zBcOzJtaQ/WclKVrKSpT9n0STAmm+mP3XZ/imDTKc/g+HYk2spqD+R6bL9UwapP57xjGc846k/rPlm0STAqj+6AUE7DZ2rP8gJG6X1eaw/1hH1Dt5WrT/jGc94xjOuP/EhqeKuEK8//ymDTJftrz8GmS7bP2WwPw2dGxC007A/FKEIRShCsT8bpfV5nLCxPyKp4q4QH7I/Ka3P44SNsj8wsbwY+fuyPze1qU1tarM/PrmWguHYsz9FvYO3VUe0P0zBcOzJtbQ/UsVdIT4ktT9ZyUpWspK1P2DNN4smAbY/Z9EkwJpvtj9u1RH1Dt62P3XZ/imDTLc/fN3rXve6tz+D4diTaym4P4rlxcjfl7g/kemy/VMGuT+X7Z8yyHS5P57xjGc847k/pfV5nLBRuj+s+WbRJMC6P7P9UwaZLrs/ugFBOw2duz/BBS5wgQu8P8gJG6X1ebw/zw0I2mnovD/WEfUO3la9P90V4kNSxb0/4xnPeMYzvj/qHbytOqK+P/EhqeKuEL8/+CWWFyN/vz//KYNMl+2/PwMXuMAFLsA/Bpku2z9lwD8KG6X1eZzAPw2dGxC008A/ER+SKu4KwT8UoQhFKELBPxgjf19iecE/G6X1eZywwT8fJ2yU1ufBPyKp4q4QH8I/JitZyUpWwj8prc/jhI3CPywvRv6+xMI/MLG8GPn7wj8zMzMzMzPDPw==\",\"dtype\":\"float64\",\"shape\":[89]},\"top\":{\"__ndarray__\":\"AAAAAAAAAAAAAAAAAAAAAAAAAAAAAAAAAAAAAAAAAAAAAAAAAAAAAAAAAAAAAAAAAAAAAAAAAAAAAAAAAAAAAAAAAAAAAAAAAAAAAAAAAAAAAAAAAAAAAAAAAAAAAAAAAAAAAAAAAAAAAAAAAAAAAAAAAAAAAAAAAAAAAAAAAAAAAAAAAAAAAAAAAAAAAAAAAAAAAAAAAAAAAAAAAAAAAAAAAAAAAAAAAAAAAAAAAAAAAAAAAAAAAAAAAAAAAAAAAAAAAAAAAAAAAAAAAAAAAAAAAAAAAAAAAAAAAAAAAAAAAAAAAAAAAAAAAAAAAAAAAAAAAAAAAAAAAAAAAAAAAAAAAAAAAAAAAAAAAAAAAAAAAAAAAAAAAAAAAAAAAAAAAAAAAAAAAAAAAAAAAAAAAAAAAAAAAAAAAAAAAAAAAAAAAAAAAAAAAAAAAAAAAAAAAAAAAAAAAAAAAAAAAAAAAAAAAAAAAAAAAAAAAAAAAAAAAAAAAAAAAAAAAAAAAAAAAAAAAAAAAAAAAAAAAAAAAAAAAAAAAAAAAAAAAAAAAAAAAAAAAAAAAAAAAAAAAAAAAAAAAAAAAAAAAAAAAAAAAAAAAAAAAAAAAAAAAAAAAAAAAAAAAAAAAAAAAAAAAAAAAAAAAAAAAAAAAAAAAAAAAPFo44i1+BQ/i+B/K9mxQT/2I0VkWMVrPxNJ9DKK5YY/tf0rK01KoT8rNXugFRiyP44B2evdH78/E2HD0ytlxT/d6jnpfePHP0jhehSuR8U//kgRGVbxvj9ubkxPWOKxP8o329yYnqA/nYAmwoanhz8xzt+EQgRsP+dSXFX2XUE/aR1VTRB1Dz8AAAAAAAAAAAAAAAAAAAAAAAAAAAAAAAAAAAAAAAAAAAAAAAAAAAAAAAAAAAAAAAAAAAAAAAAAAAAAAAAAAAAAAAAAAAAAAAAAAAAAAAAAAA==\",\"dtype\":\"float64\",\"shape\":[89]}},\"selected\":{\"id\":\"1101\",\"type\":\"Selection\"},\"selection_policy\":{\"id\":\"1100\",\"type\":\"UnionRenderers\"}},\"id\":\"1067\",\"type\":\"ColumnDataSource\"},{\"attributes\":{},\"id\":\"1027\",\"type\":\"HelpTool\"},{\"attributes\":{\"data_source\":{\"id\":\"1103\",\"type\":\"ColumnDataSource\"},\"glyph\":{\"id\":\"1104\",\"type\":\"Line\"},\"hover_glyph\":null,\"muted_glyph\":null,\"nonselection_glyph\":{\"id\":\"1105\",\"type\":\"Line\"},\"selection_glyph\":null,\"view\":{\"id\":\"1107\",\"type\":\"CDSView\"}},\"id\":\"1106\",\"type\":\"GlyphRenderer\"},{\"attributes\":{},\"id\":\"1008\",\"type\":\"LinearScale\"},{\"attributes\":{\"bottom\":{\"value\":0},\"fill_alpha\":{\"value\":0.7},\"fill_color\":{\"value\":\"#2ca02c\"},\"left\":{\"field\":\"left\"},\"line_alpha\":{\"value\":0.7},\"line_color\":{\"value\":\"white\"},\"right\":{\"field\":\"right\"},\"top\":{\"field\":\"top\"}},\"id\":\"1068\",\"type\":\"Quad\"},{\"attributes\":{\"source\":{\"id\":\"1103\",\"type\":\"ColumnDataSource\"}},\"id\":\"1107\",\"type\":\"CDSView\"},{\"attributes\":{},\"id\":\"1010\",\"type\":\"LinearScale\"},{\"attributes\":{\"bottom\":{\"value\":0},\"fill_alpha\":{\"value\":0.1},\"fill_color\":{\"value\":\"#1f77b4\"},\"left\":{\"field\":\"left\"},\"line_alpha\":{\"value\":0.1},\"line_color\":{\"value\":\"#1f77b4\"},\"right\":{\"field\":\"right\"},\"top\":{\"field\":\"top\"}},\"id\":\"1069\",\"type\":\"Quad\"},{\"attributes\":{\"bottom_units\":\"screen\",\"fill_alpha\":{\"value\":0.5},\"fill_color\":{\"value\":\"lightgrey\"},\"left_units\":\"screen\",\"level\":\"overlay\",\"line_alpha\":{\"value\":1.0},\"line_color\":{\"value\":\"black\"},\"line_dash\":[4,4],\"line_width\":{\"value\":2},\"plot\":null,\"render_mode\":\"css\",\"right_units\":\"screen\",\"top_units\":\"screen\"},\"id\":\"1030\",\"type\":\"BoxAnnotation\"},{\"attributes\":{},\"id\":\"1121\",\"type\":\"UnionRenderers\"},{\"attributes\":{\"axis_label\":\"Test Statistic Value\",\"axis_label_text_font_size\":{\"value\":\"16pt\"},\"formatter\":{\"id\":\"1048\",\"type\":\"BasicTickFormatter\"},\"major_label_text_font_size\":{\"value\":\"16pt\"},\"plot\":{\"id\":\"1003\",\"subtype\":\"Figure\",\"type\":\"Plot\"},\"ticker\":{\"id\":\"1013\",\"type\":\"BasicTicker\"}},\"id\":\"1012\",\"type\":\"LinearAxis\"},{\"attributes\":{\"data_source\":{\"id\":\"1067\",\"type\":\"ColumnDataSource\"},\"glyph\":{\"id\":\"1068\",\"type\":\"Quad\"},\"hover_glyph\":null,\"muted_glyph\":null,\"nonselection_glyph\":{\"id\":\"1069\",\"type\":\"Quad\"},\"selection_glyph\":null,\"view\":{\"id\":\"1071\",\"type\":\"CDSView\"}},\"id\":\"1070\",\"type\":\"GlyphRenderer\"},{\"attributes\":{\"data_source\":{\"id\":\"1038\",\"type\":\"ColumnDataSource\"},\"glyph\":{\"id\":\"1039\",\"type\":\"Quad\"},\"hover_glyph\":null,\"muted_glyph\":null,\"nonselection_glyph\":{\"id\":\"1040\",\"type\":\"Quad\"},\"selection_glyph\":null,\"view\":{\"id\":\"1042\",\"type\":\"CDSView\"}},\"id\":\"1041\",\"type\":\"GlyphRenderer\"},{\"attributes\":{\"bottom\":{\"value\":0},\"fill_alpha\":{\"value\":0.7},\"fill_color\":{\"value\":\"#d62728\"},\"left\":{\"field\":\"left\"},\"line_alpha\":{\"value\":0.7},\"line_color\":{\"value\":\"white\"},\"right\":{\"field\":\"right\"},\"top\":{\"field\":\"top\"}},\"id\":\"1039\",\"type\":\"Quad\"},{\"attributes\":{\"callback\":null,\"data\":{\"left\":{\"__ndarray__\":\"AAAAAAAAAAC6AUE7DZ1bP7oBQTsNnWs/TMFw7Mm1dD+6AUE7DZ17PxShCEUoQoE/TMFw7Mm1hD+D4diTaymIP7oBQTsNnYs/8SGp4q4Qjz8UoQhFKEKRPzCxvBj5+5I/TMFw7Mm1lD9n0STAmm+WP4Ph2JNrKZg/nvGMZzzjmT+6AUE7DZ2bP9YR9Q7eVp0/8SGp4q4Qnz8GmS7bP2WgPxShCEUoQqE/IqnirhAfoj8wsbwY+fuiPz65loLh2KM/TMFw7Mm1pD9ZyUpWspKlP2fRJMCab6Y/ddn+KYNMpz+D4diTaymoP5Hpsv1TBqk/nvGMZzzjqT+s+WbRJMCqP7oBQTsNnas/yAkbpfV5rD/WEfUO3latP+MZz3jGM64/8SGp4q4Qrz//KYNMl+2vPwaZLts/ZbA/DZ0bELTTsD8UoQhFKEKxPxul9XmcsLE/IqnirhAfsj8prc/jhI2yPzCxvBj5+7I/N7WpTW1qsz8+uZaC4dizP0W9g7dVR7Q/TMFw7Mm1tD9SxV0hPiS1P1nJSlaykrU/YM03iyYBtj9n0STAmm+2P27VEfUO3rY/ddn+KYNMtz983ete97q3P4Ph2JNrKbg/iuXFyN+XuD+R6bL9Uwa5P5ftnzLIdLk/nvGMZzzjuT+l9XmcsFG6P6z5ZtEkwLo/s/1TBpkuuz+6AUE7DZ27P8EFLnCBC7w/yAkbpfV5vD/PDQjaaei8P9YR9Q7eVr0/3RXiQ1LFvT/jGc94xjO+P+odvK06or4/8SGp4q4Qvz/4JZYXI3+/P/8pg0yX7b8/Axe4wAUuwD8GmS7bP2XAPwobpfV5nMA/DZ0bELTTwD8RH5Iq7grBPxShCEUoQsE/GCN/X2J5wT8bpfV5nLDBPx8nbJTW58E/IqnirhAfwj8mK1nJSlbCPymtz+OEjcI/LC9G/r7Ewj8wsbwY+fvCPw==\",\"dtype\":\"float64\",\"shape\":[89]},\"right\":{\"__ndarray__\":\"ugFBOw2dWz+6AUE7DZ1rP0zBcOzJtXQ/ugFBOw2dez8UoQhFKEKBP0zBcOzJtYQ/g+HYk2spiD+6AUE7DZ2LP/EhqeKuEI8/FKEIRShCkT8wsbwY+fuSP0zBcOzJtZQ/Z9EkwJpvlj+D4diTaymYP57xjGc845k/ugFBOw2dmz/WEfUO3ladP/EhqeKuEJ8/Bpku2z9loD8UoQhFKEKhPyKp4q4QH6I/MLG8GPn7oj8+uZaC4dijP0zBcOzJtaQ/WclKVrKSpT9n0STAmm+mP3XZ/imDTKc/g+HYk2spqD+R6bL9UwapP57xjGc846k/rPlm0STAqj+6AUE7DZ2rP8gJG6X1eaw/1hH1Dt5WrT/jGc94xjOuP/EhqeKuEK8//ymDTJftrz8GmS7bP2WwPw2dGxC007A/FKEIRShCsT8bpfV5nLCxPyKp4q4QH7I/Ka3P44SNsj8wsbwY+fuyPze1qU1tarM/PrmWguHYsz9FvYO3VUe0P0zBcOzJtbQ/UsVdIT4ktT9ZyUpWspK1P2DNN4smAbY/Z9EkwJpvtj9u1RH1Dt62P3XZ/imDTLc/fN3rXve6tz+D4diTaym4P4rlxcjfl7g/kemy/VMGuT+X7Z8yyHS5P57xjGc847k/pfV5nLBRuj+s+WbRJMC6P7P9UwaZLrs/ugFBOw2duz/BBS5wgQu8P8gJG6X1ebw/zw0I2mnovD/WEfUO3la9P90V4kNSxb0/4xnPeMYzvj/qHbytOqK+P/EhqeKuEL8/+CWWFyN/vz//KYNMl+2/PwMXuMAFLsA/Bpku2z9lwD8KG6X1eZzAPw2dGxC008A/ER+SKu4KwT8UoQhFKELBPxgjf19iecE/G6X1eZywwT8fJ2yU1ufBPyKp4q4QH8I/JitZyUpWwj8prc/jhI3CPywvRv6+xMI/MLG8GPn7wj8zMzMzMzPDPw==\",\"dtype\":\"float64\",\"shape\":[89]},\"top\":{\"__ndarray__\":\"AAAAAAAAAAAAAAAAAAAAAAAAAAAAAAAAAAAAAAAAAAAAAAAAAAAAAAAAAAAAAAAAAAAAAAAAAAAAAAAAAAAAAAAAAAAAAAAAAAAAAAAAAAAAAAAAAAAAAAAAAAAAAAAAAAAAAAAAAAAAAAAAAAAAAAAAAAAAAAAAAAAAAAAAAAAAAAAAAAAAAAAAAAAAAAAAAAAAAAAAAAAAAAAAAAAAAPFo44i1+OQ+AAAAAAAAAAAAAAAAAAAAAPFo44i1+OQ+8WjjiLX45D7xaOOItfj0PmkdVU0Qdf8+aR1VTRB1Dz/a5sb0hCUuP1bxRuaRPzg/GhcOhGQBQz9W8UbmkT9IP5T2Bl+YTFU/51JcVfZdYT+vCP63kh1rP1k0nZ0MjnI/KdAn8iTpej+LbOf7qfGCP5KzsKcd/oo/26fjMQOVkT+EZAETuHWXPyHqPgCpTZw/VFInoImwoT/LviuC/62kP5UO1v85zKc/Qgkzbf/Kqj9kr3d/vFetP4Zyol2FlK8/MA3DR8SUsD+yRj1EozuwP4L/rWTHRrA/5+PaUDHOrz8DPj+MEB6tPyAkC5jAras/AvG6fsFuqD8KhQg4hCqlPz9SRIZVvKE/wD46deWznD8noImw4emVP85wAz4/jJA//5WVJqWgiz+h20sao3WEP04LXvQVpHk/YTJVMCqpcz+WJqWg20tqP9rhr8ka9WA/QZqxaDo7WT8Y7IZtizJLPw/W/znMlzc/LUMc6+I2Kj8P1v85zJcnP9L7xteeWRI/8WjjiLX4BD/xaOOItfgEP/Fo44i1+PQ+8WjjiLX45D4AAAAAAAAAAAAAAAAAAAAAAAAAAAAAAAAAAAAAAAAAAPFo44i1+OQ+AAAAAAAAAAAAAAAAAAAAAAAAAAAAAAAAAAAAAAAAAAAAAAAAAAAAAAAAAAAAAAAAAAAAAAAAAAAAAAAAAAAAAA==\",\"dtype\":\"float64\",\"shape\":[89]}},\"selected\":{\"id\":\"1065\",\"type\":\"Selection\"},\"selection_policy\":{\"id\":\"1064\",\"type\":\"UnionRenderers\"}},\"id\":\"1038\",\"type\":\"ColumnDataSource\"},{\"attributes\":{},\"id\":\"1013\",\"type\":\"BasicTicker\"},{\"attributes\":{\"source\":{\"id\":\"1067\",\"type\":\"ColumnDataSource\"}},\"id\":\"1071\",\"type\":\"CDSView\"},{\"attributes\":{\"source\":{\"id\":\"1038\",\"type\":\"ColumnDataSource\"}},\"id\":\"1042\",\"type\":\"CDSView\"},{\"attributes\":{},\"id\":\"1122\",\"type\":\"Selection\"},{\"attributes\":{\"label\":{\"value\":\"Observed\"},\"renderers\":[{\"id\":\"1106\",\"type\":\"GlyphRenderer\"}]},\"id\":\"1123\",\"type\":\"LegendItem\"},{\"attributes\":{},\"id\":\"1081\",\"type\":\"UnionRenderers\"},{\"attributes\":{\"plot\":null,\"text\":\"\",\"text_font_size\":{\"value\":\"16pt\"}},\"id\":\"1044\",\"type\":\"Title\"},{\"attributes\":{\"label\":{\"value\":\"\\u03bb = 1e-06\"},\"renderers\":[{\"id\":\"1041\",\"type\":\"GlyphRenderer\"}]},\"id\":\"1051\",\"type\":\"LegendItem\"},{\"attributes\":{},\"id\":\"1139\",\"type\":\"UnionRenderers\"},{\"attributes\":{},\"id\":\"1082\",\"type\":\"Selection\"},{\"attributes\":{},\"id\":\"1046\",\"type\":\"BasicTickFormatter\"},{\"attributes\":{\"grid_line_width\":{\"value\":1},\"plot\":{\"id\":\"1003\",\"subtype\":\"Figure\",\"type\":\"Plot\"},\"ticker\":{\"id\":\"1013\",\"type\":\"BasicTicker\"}},\"id\":\"1016\",\"type\":\"Grid\"},{\"attributes\":{\"label\":{\"value\":\"\\u03bb = 2e-04\"},\"renderers\":[{\"id\":\"1070\",\"type\":\"GlyphRenderer\"}]},\"id\":\"1083\",\"type\":\"LegendItem\"},{\"attributes\":{},\"id\":\"1048\",\"type\":\"BasicTickFormatter\"},{\"attributes\":{},\"id\":\"1140\",\"type\":\"Selection\"},{\"attributes\":{\"axis_label\":\"Density\",\"axis_label_text_font_size\":{\"value\":\"16pt\"},\"formatter\":{\"id\":\"1046\",\"type\":\"BasicTickFormatter\"},\"major_label_text_font_size\":{\"value\":\"16pt\"},\"plot\":{\"id\":\"1003\",\"subtype\":\"Figure\",\"type\":\"Plot\"},\"ticker\":{\"id\":\"1018\",\"type\":\"BasicTicker\"}},\"id\":\"1017\",\"type\":\"LinearAxis\"},{\"attributes\":{\"callback\":null,\"data\":{\"left\":{\"__ndarray__\":\"AAAAAAAAAAC6AUE7DZ1bP7oBQTsNnWs/TMFw7Mm1dD+6AUE7DZ17PxShCEUoQoE/TMFw7Mm1hD+D4diTaymIP7oBQTsNnYs/8SGp4q4Qjz8UoQhFKEKRPzCxvBj5+5I/TMFw7Mm1lD9n0STAmm+WP4Ph2JNrKZg/nvGMZzzjmT+6AUE7DZ2bP9YR9Q7eVp0/8SGp4q4Qnz8GmS7bP2WgPxShCEUoQqE/IqnirhAfoj8wsbwY+fuiPz65loLh2KM/TMFw7Mm1pD9ZyUpWspKlP2fRJMCab6Y/ddn+KYNMpz+D4diTaymoP5Hpsv1TBqk/nvGMZzzjqT+s+WbRJMCqP7oBQTsNnas/yAkbpfV5rD/WEfUO3latP+MZz3jGM64/8SGp4q4Qrz//KYNMl+2vPwaZLts/ZbA/DZ0bELTTsD8UoQhFKEKxPxul9XmcsLE/IqnirhAfsj8prc/jhI2yPzCxvBj5+7I/N7WpTW1qsz8+uZaC4dizP0W9g7dVR7Q/TMFw7Mm1tD9SxV0hPiS1P1nJSlaykrU/YM03iyYBtj9n0STAmm+2P27VEfUO3rY/ddn+KYNMtz983ete97q3P4Ph2JNrKbg/iuXFyN+XuD+R6bL9Uwa5P5ftnzLIdLk/nvGMZzzjuT+l9XmcsFG6P6z5ZtEkwLo/s/1TBpkuuz+6AUE7DZ27P8EFLnCBC7w/yAkbpfV5vD/PDQjaaei8P9YR9Q7eVr0/3RXiQ1LFvT/jGc94xjO+P+odvK06or4/8SGp4q4Qvz/4JZYXI3+/P/8pg0yX7b8/Axe4wAUuwD8GmS7bP2XAPwobpfV5nMA/DZ0bELTTwD8RH5Iq7grBPxShCEUoQsE/GCN/X2J5wT8bpfV5nLDBPx8nbJTW58E/IqnirhAfwj8mK1nJSlbCPymtz+OEjcI/LC9G/r7Ewj8wsbwY+fvCPw==\",\"dtype\":\"float64\",\"shape\":[89]},\"right\":{\"__ndarray__\":\"ugFBOw2dWz+6AUE7DZ1rP0zBcOzJtXQ/ugFBOw2dez8UoQhFKEKBP0zBcOzJtYQ/g+HYk2spiD+6AUE7DZ2LP/EhqeKuEI8/FKEIRShCkT8wsbwY+fuSP0zBcOzJtZQ/Z9EkwJpvlj+D4diTaymYP57xjGc845k/ugFBOw2dmz/WEfUO3ladP/EhqeKuEJ8/Bpku2z9loD8UoQhFKEKhPyKp4q4QH6I/MLG8GPn7oj8+uZaC4dijP0zBcOzJtaQ/WclKVrKSpT9n0STAmm+mP3XZ/imDTKc/g+HYk2spqD+R6bL9UwapP57xjGc846k/rPlm0STAqj+6AUE7DZ2rP8gJG6X1eaw/1hH1Dt5WrT/jGc94xjOuP/EhqeKuEK8//ymDTJftrz8GmS7bP2WwPw2dGxC007A/FKEIRShCsT8bpfV5nLCxPyKp4q4QH7I/Ka3P44SNsj8wsbwY+fuyPze1qU1tarM/PrmWguHYsz9FvYO3VUe0P0zBcOzJtbQ/UsVdIT4ktT9ZyUpWspK1P2DNN4smAbY/Z9EkwJpvtj9u1RH1Dt62P3XZ/imDTLc/fN3rXve6tz+D4diTaym4P4rlxcjfl7g/kemy/VMGuT+X7Z8yyHS5P57xjGc847k/pfV5nLBRuj+s+WbRJMC6P7P9UwaZLrs/ugFBOw2duz/BBS5wgQu8P8gJG6X1ebw/zw0I2mnovD/WEfUO3la9P90V4kNSxb0/4xnPeMYzvj/qHbytOqK+P/EhqeKuEL8/+CWWFyN/vz//KYNMl+2/PwMXuMAFLsA/Bpku2z9lwD8KG6X1eZzAPw2dGxC008A/ER+SKu4KwT8UoQhFKELBPxgjf19iecE/G6X1eZywwT8fJ2yU1ufBPyKp4q4QH8I/JitZyUpWwj8prc/jhI3CPywvRv6+xMI/MLG8GPn7wj8zMzMzMzPDPw==\",\"dtype\":\"float64\",\"shape\":[89]},\"top\":{\"__ndarray__\":\"AAAAAAAAAAAAAAAAAAAAAAAAAAAAAAAAAAAAAAAAAAAAAAAAAAAAAAAAAAAAAAAAAAAAAAAAAAAAAAAAAAAAAAAAAAAAAAAAAAAAAAAAAAAAAAAAAAAAAAAAAAAAAAAAAAAAAAAAAAAAAAAAAAAAAAAAAAAAAAAAAAAAAAAAAAAAAAAAAAAAAAAAAAAAAAAAAAAAAAAAAAAAAAAAAAAAAAAAAAAAAAAAAAAAAAAAAAAAAAAAAAAAAAAAAAAAAAAAAAAAAAAAAAAAAAAAAAAAAAAAAAAAAAAAAAAAAAAAAAAAAAAAAAAAAAAAAAAAAAAAAAAAAAAAAAAAAAAAAAAAAAAAAAAAAAAAAAAAAAAAAAAAAAAAAAAAAAAAAAAAAAAAAAAAAAAAAAAAAAAAAAAAAAAAAAAAAAAAAAAAAAAAAAAAAAAAAAAAAAAAAAAAAAAAAAAAAAAAAAAAAAAAAAAAAAAAAAAAAAAAAAAAAAAAAAAAAAAAAAAAAAAAAAAAAAAAAAAAAAAAAAAAAAAAAAAAAAAAAAAAAAAAAAAAAAAAAAAAAAAAAAAAAAAAAAAAAAAAAAAAAAAAAAAAAAAAAAAAAAAAAAAAAAAAAAAAAAAAAAAAAAAAAAAAAAAAAAAAAAAAAAAAAAAAAAAAAAAAAAAAAAAAAAAAAAAAAAAAAAAAAAAAAAAAAAAAAAAAAAAAAAAAAAAAAAAAAAAAAAAAAAAAAAAAAAAAAAAAAAAAAAAAAAAAAAAAAAAAAB7cnbXbLsA/WMoyxLEu2D+9NbBVgsXXP29HOC140b8/AAAAAAAAAAAAAAAAAAAAAAAAAAAAAAAAAAAAAAAAAAAAAAAAAAAAAAAAAAAAAAAAAAAAAAAAAAAAAAAAAAAAAAAAAAAAAAAAAAAAAAAAAAAAAAAAAAAAAAAAAAAAAAAAAAAAAAAAAAAAAAAAAAAAAA==\",\"dtype\":\"float64\",\"shape\":[89]}},\"selected\":{\"id\":\"1122\",\"type\":\"Selection\"},\"selection_policy\":{\"id\":\"1121\",\"type\":\"UnionRenderers\"}},\"id\":\"1084\",\"type\":\"ColumnDataSource\"},{\"attributes\":{\"glyph_height\":20,\"glyph_width\":20,\"items\":[{\"id\":\"1051\",\"type\":\"LegendItem\"},{\"id\":\"1066\",\"type\":\"LegendItem\"},{\"id\":\"1083\",\"type\":\"LegendItem\"},{\"id\":\"1102\",\"type\":\"LegendItem\"},{\"id\":\"1123\",\"type\":\"LegendItem\"}],\"label_text_font_size\":{\"value\":\"16pt\"},\"location\":\"top_left\",\"plot\":{\"id\":\"1003\",\"subtype\":\"Figure\",\"type\":\"Plot\"}},\"id\":\"1050\",\"type\":\"Legend\"},{\"attributes\":{},\"id\":\"1018\",\"type\":\"BasicTicker\"},{\"attributes\":{\"bottom\":{\"value\":0},\"fill_alpha\":{\"value\":0.7},\"fill_color\":{\"value\":\"#1f77b4\"},\"left\":{\"field\":\"left\"},\"line_alpha\":{\"value\":0.7},\"line_color\":{\"value\":\"white\"},\"right\":{\"field\":\"right\"},\"top\":{\"field\":\"top\"}},\"id\":\"1085\",\"type\":\"Quad\"},{\"attributes\":{\"dimension\":1,\"grid_line_width\":{\"value\":1},\"plot\":{\"id\":\"1003\",\"subtype\":\"Figure\",\"type\":\"Plot\"},\"ticker\":{\"id\":\"1018\",\"type\":\"BasicTicker\"}},\"id\":\"1021\",\"type\":\"Grid\"}],\"root_ids\":[\"1003\"]},\"title\":\"Bokeh Application\",\"version\":\"1.0.2\"}};\n",
       "  var render_items = [{\"docid\":\"b496f9b0-11dc-4c7e-b031-eac571917ad2\",\"roots\":{\"1003\":\"d518d721-c53e-49da-a489-4e3f03924711\"}}];\n",
       "  root.Bokeh.embed.embed_items_notebook(docs_json, render_items);\n",
       "\n",
       "  }\n",
       "  if (root.Bokeh !== undefined) {\n",
       "    embed_document(root);\n",
       "  } else {\n",
       "    var attempts = 0;\n",
       "    var timer = setInterval(function(root) {\n",
       "      if (root.Bokeh !== undefined) {\n",
       "        embed_document(root);\n",
       "        clearInterval(timer);\n",
       "      }\n",
       "      attempts++;\n",
       "      if (attempts > 100) {\n",
       "        console.log(\"Bokeh: ERROR: Unable to run BokehJS code because BokehJS library is missing\");\n",
       "        clearInterval(timer);\n",
       "      }\n",
       "    }, 10, root)\n",
       "  }\n",
       "})(window);"
      ],
      "application/vnd.bokehjs_exec.v0+json": ""
     },
     "metadata": {
      "application/vnd.bokehjs_exec.v0+json": {
       "id": "1003"
      }
     },
     "output_type": "display_data"
    },
    {
     "data": {
      "text/html": [
       "\n",
       "\n",
       "\n",
       "\n",
       "\n",
       "\n",
       "  <div class=\"bk-root\" id=\"b6b1fdf6-947c-4ab5-a677-e683808a3c61\"></div>\n"
      ]
     },
     "metadata": {},
     "output_type": "display_data"
    },
    {
     "data": {
      "application/javascript": [
       "(function(root) {\n",
       "  function embed_document(root) {\n",
       "    \n",
       "  var docs_json = {\"f1598d99-eab2-4710-979a-4e860219e00f\":{\"roots\":{\"references\":[{\"attributes\":{\"below\":[{\"id\":\"1252\",\"type\":\"LogAxis\"}],\"height\":600,\"left\":[{\"id\":\"1257\",\"type\":\"LinearAxis\"}],\"renderers\":[{\"id\":\"1252\",\"type\":\"LogAxis\"},{\"id\":\"1256\",\"type\":\"Grid\"},{\"id\":\"1257\",\"type\":\"LinearAxis\"},{\"id\":\"1261\",\"type\":\"Grid\"},{\"id\":\"1270\",\"type\":\"BoxAnnotation\"},{\"id\":\"1289\",\"type\":\"Legend\"},{\"id\":\"1280\",\"type\":\"GlyphRenderer\"},{\"id\":\"1294\",\"type\":\"GlyphRenderer\"},{\"id\":\"1299\",\"type\":\"GlyphRenderer\"}],\"title\":{\"id\":\"1283\",\"type\":\"Title\"},\"toolbar\":{\"id\":\"1268\",\"type\":\"Toolbar\"},\"width\":600,\"x_range\":{\"id\":\"1244\",\"type\":\"DataRange1d\"},\"x_scale\":{\"id\":\"1248\",\"type\":\"LogScale\"},\"y_range\":{\"id\":\"1246\",\"type\":\"DataRange1d\"},\"y_scale\":{\"id\":\"1250\",\"type\":\"LinearScale\"}},\"id\":\"1243\",\"subtype\":\"Figure\",\"type\":\"Plot\"},{\"attributes\":{\"data_source\":{\"id\":\"1296\",\"type\":\"ColumnDataSource\"},\"glyph\":{\"id\":\"1297\",\"type\":\"Line\"},\"hover_glyph\":null,\"muted_glyph\":null,\"nonselection_glyph\":{\"id\":\"1298\",\"type\":\"Line\"},\"selection_glyph\":null,\"view\":{\"id\":\"1300\",\"type\":\"CDSView\"}},\"id\":\"1299\",\"type\":\"GlyphRenderer\"},{\"attributes\":{\"plot\":null,\"text\":\"\",\"text_font_size\":{\"value\":\"16pt\"}},\"id\":\"1283\",\"type\":\"Title\"},{\"attributes\":{\"glyph_height\":20,\"glyph_width\":20,\"items\":[{\"id\":\"1290\",\"type\":\"LegendItem\"},{\"id\":\"1312\",\"type\":\"LegendItem\"}],\"label_text_font_size\":{\"value\":\"16pt\"},\"plot\":{\"id\":\"1243\",\"subtype\":\"Figure\",\"type\":\"Plot\"}},\"id\":\"1289\",\"type\":\"Legend\"},{\"attributes\":{},\"id\":\"1266\",\"type\":\"ResetTool\"},{\"attributes\":{},\"id\":\"1285\",\"type\":\"BasicTickFormatter\"},{\"attributes\":{},\"id\":\"1267\",\"type\":\"HelpTool\"},{\"attributes\":{},\"id\":\"1250\",\"type\":\"LinearScale\"},{\"attributes\":{\"label\":{\"value\":\"Rejected\"},\"renderers\":[{\"id\":\"1280\",\"type\":\"GlyphRenderer\"}]},\"id\":\"1290\",\"type\":\"LegendItem\"},{\"attributes\":{\"axis_label\":\"Premetric Weight \\u03bb\",\"axis_label_text_font_size\":{\"value\":\"16pt\"},\"formatter\":{\"id\":\"1002\",\"type\":\"FuncTickFormatter\"},\"major_label_text_font_size\":{\"value\":\"16pt\"},\"plot\":{\"id\":\"1243\",\"subtype\":\"Figure\",\"type\":\"Plot\"},\"ticker\":{\"id\":\"1253\",\"type\":\"LogTicker\"}},\"id\":\"1252\",\"type\":\"LogAxis\"},{\"attributes\":{\"label\":{\"value\":\"Not Rejected\"},\"renderers\":[{\"id\":\"1299\",\"type\":\"GlyphRenderer\"}]},\"id\":\"1312\",\"type\":\"LegendItem\"},{\"attributes\":{\"callback\":null,\"data\":{\"x\":{\"__ndarray__\":\"ysSvjvM4Fz9Sle4T4B4rP/SeWrtPrD8/bwPydLB+Uj85SDEsdZllP2PxIfSiOXk/QaErwp51jT9FqzPxxzOhP0B1ycAAF7Q/DHhcqk92xz/pJuX1iGbbPwAAAAAAAPA/\",\"dtype\":\"float64\",\"shape\":[12]},\"y\":{\"__ndarray__\":\"AAAAAADAZkAAAAAAAIBZQAAAAAAAgE5AAAAAAAAAQEAAAAAAAAAzQAAAAAAAACxAAAAAAAAAJkAAAAAAAAAkQAAAAAAAACRAAAAAAAAAJEAAAAAAAAAkQAAAAAAAACRA\",\"dtype\":\"float64\",\"shape\":[12]}},\"selected\":{\"id\":\"1342\",\"type\":\"Selection\"},\"selection_policy\":{\"id\":\"1341\",\"type\":\"UnionRenderers\"}},\"id\":\"1296\",\"type\":\"ColumnDataSource\"},{\"attributes\":{\"callback\":null,\"data\":{\"x\":{\"__ndarray__\":\"SK+8mvLXej59S+RUelmPPjZgy/pRTqI+lHvsKfhgtT61oluCqvfIPviiSGiTKN0+mW7n4MoG8T5MkThtduIDPw==\",\"dtype\":\"float64\",\"shape\":[8]},\"y\":{\"__ndarray__\":\"AAAAAACgg0AAAAAAAKCDQAAAAAAAoINAAAAAAACgg0AAAAAAAKCDQAAAAAAAGINAAAAAAADwfEAAAAAAAKByQA==\",\"dtype\":\"float64\",\"shape\":[8]}},\"selected\":{\"id\":\"1309\",\"type\":\"Selection\"},\"selection_policy\":{\"id\":\"1308\",\"type\":\"UnionRenderers\"}},\"id\":\"1277\",\"type\":\"ColumnDataSource\"},{\"attributes\":{\"source\":{\"id\":\"1291\",\"type\":\"ColumnDataSource\"}},\"id\":\"1295\",\"type\":\"CDSView\"},{\"attributes\":{\"bottom_units\":\"screen\",\"fill_alpha\":{\"value\":0.5},\"fill_color\":{\"value\":\"lightgrey\"},\"left_units\":\"screen\",\"level\":\"overlay\",\"line_alpha\":{\"value\":1.0},\"line_color\":{\"value\":\"black\"},\"line_dash\":[4,4],\"line_width\":{\"value\":2},\"plot\":null,\"render_mode\":\"css\",\"right_units\":\"screen\",\"top_units\":\"screen\"},\"id\":\"1270\",\"type\":\"BoxAnnotation\"},{\"attributes\":{},\"id\":\"1341\",\"type\":\"UnionRenderers\"},{\"attributes\":{\"dimension\":1,\"grid_line_width\":{\"value\":1},\"plot\":{\"id\":\"1243\",\"subtype\":\"Figure\",\"type\":\"Plot\"},\"ticker\":{\"id\":\"1258\",\"type\":\"BasicTicker\"}},\"id\":\"1261\",\"type\":\"Grid\"},{\"attributes\":{\"data_source\":{\"id\":\"1291\",\"type\":\"ColumnDataSource\"},\"glyph\":{\"id\":\"1292\",\"type\":\"Line\"},\"hover_glyph\":null,\"muted_glyph\":null,\"nonselection_glyph\":{\"id\":\"1293\",\"type\":\"Line\"},\"selection_glyph\":null,\"view\":{\"id\":\"1295\",\"type\":\"CDSView\"}},\"id\":\"1294\",\"type\":\"GlyphRenderer\"},{\"attributes\":{\"line_color\":\"#d62728\",\"line_width\":3,\"x\":{\"field\":\"x\"},\"y\":{\"field\":\"y\"}},\"id\":\"1278\",\"type\":\"Line\"},{\"attributes\":{\"source\":{\"id\":\"1277\",\"type\":\"ColumnDataSource\"}},\"id\":\"1281\",\"type\":\"CDSView\"},{\"attributes\":{\"line_alpha\":0.1,\"line_color\":\"#1f77b4\",\"line_width\":3,\"x\":{\"field\":\"x\"},\"y\":{\"field\":\"y\"}},\"id\":\"1293\",\"type\":\"Line\"},{\"attributes\":{\"callback\":null,\"data\":{\"x\":[3.792690190732254e-05,8.858667904100833e-05],\"y\":[298.0,182.0]},\"selected\":{\"id\":\"1311\",\"type\":\"Selection\"},\"selection_policy\":{\"id\":\"1310\",\"type\":\"UnionRenderers\"}},\"id\":\"1291\",\"type\":\"ColumnDataSource\"},{\"attributes\":{},\"id\":\"1262\",\"type\":\"PanTool\"},{\"attributes\":{\"line_color\":\"#d62728\",\"line_width\":3,\"x\":{\"field\":\"x\"},\"y\":{\"field\":\"y\"}},\"id\":\"1292\",\"type\":\"Line\"},{\"attributes\":{\"active_drag\":\"auto\",\"active_inspect\":\"auto\",\"active_multi\":null,\"active_scroll\":\"auto\",\"active_tap\":\"auto\",\"tools\":[{\"id\":\"1262\",\"type\":\"PanTool\"},{\"id\":\"1263\",\"type\":\"WheelZoomTool\"},{\"id\":\"1264\",\"type\":\"BoxZoomTool\"},{\"id\":\"1265\",\"type\":\"SaveTool\"},{\"id\":\"1266\",\"type\":\"ResetTool\"},{\"id\":\"1267\",\"type\":\"HelpTool\"}]},\"id\":\"1268\",\"type\":\"Toolbar\"},{\"attributes\":{},\"id\":\"1263\",\"type\":\"WheelZoomTool\"},{\"attributes\":{},\"id\":\"1342\",\"type\":\"Selection\"},{\"attributes\":{\"line_alpha\":0.1,\"line_color\":\"#1f77b4\",\"line_width\":3,\"x\":{\"field\":\"x\"},\"y\":{\"field\":\"y\"}},\"id\":\"1298\",\"type\":\"Line\"},{\"attributes\":{\"line_color\":\"#1f77b4\",\"line_width\":3,\"x\":{\"field\":\"x\"},\"y\":{\"field\":\"y\"}},\"id\":\"1297\",\"type\":\"Line\"},{\"attributes\":{\"overlay\":{\"id\":\"1270\",\"type\":\"BoxAnnotation\"}},\"id\":\"1264\",\"type\":\"BoxZoomTool\"},{\"attributes\":{},\"id\":\"1265\",\"type\":\"SaveTool\"},{\"attributes\":{\"line_alpha\":0.1,\"line_color\":\"#1f77b4\",\"line_width\":3,\"x\":{\"field\":\"x\"},\"y\":{\"field\":\"y\"}},\"id\":\"1279\",\"type\":\"Line\"},{\"attributes\":{},\"id\":\"1311\",\"type\":\"Selection\"},{\"attributes\":{},\"id\":\"1258\",\"type\":\"BasicTicker\"},{\"attributes\":{\"data_source\":{\"id\":\"1277\",\"type\":\"ColumnDataSource\"},\"glyph\":{\"id\":\"1278\",\"type\":\"Line\"},\"hover_glyph\":null,\"muted_glyph\":null,\"nonselection_glyph\":{\"id\":\"1279\",\"type\":\"Line\"},\"selection_glyph\":null,\"view\":{\"id\":\"1281\",\"type\":\"CDSView\"}},\"id\":\"1280\",\"type\":\"GlyphRenderer\"},{\"attributes\":{\"code\":\"\\nvar trns = [\\n'\\u2070',\\n'\\u00b9',\\n'\\u00b2',\\n'\\u00b3',\\n'\\u2074',\\n'\\u2075',\\n'\\u2076',\\n'\\u2077',\\n'\\u2078',\\n'\\u2079'];\\nvar tick_power = Math.floor(Math.log10(tick));\\nvar tick_mult = Math.pow(10, Math.log10(tick) - tick_power);\\nvar ret = '';\\nif (tick_mult > 1.) {\\n  if (Math.abs(tick_mult - Math.round(tick_mult)) > 0.05){\\n    ret = tick_mult.toFixed(1) + '\\u22c5';\\n  } else {\\n    ret = tick_mult.toFixed(0) +'\\u22c5';\\n  }\\n}\\nret += '10';\\nif (tick_power < 0){\\n  ret += '\\u207b';\\n  tick_power = -tick_power;\\n}\\npower_digits = []\\nwhile (tick_power > 9){\\n  power_digits.push( tick_power - Math.floor(tick_power/10)*10 )\\n  tick_power = Math.floor(tick_power/10)\\n}\\npower_digits.push(tick_power)\\nfor (i = power_digits.length-1; i >= 0; i--){\\n  ret += trns[power_digits[i]];\\n}\\nreturn ret;\\n\"},\"id\":\"1002\",\"type\":\"FuncTickFormatter\"},{\"attributes\":{},\"id\":\"1309\",\"type\":\"Selection\"},{\"attributes\":{\"callback\":null},\"id\":\"1244\",\"type\":\"DataRange1d\"},{\"attributes\":{\"axis_label\":\"# Swappable Pairs\",\"axis_label_text_font_size\":{\"value\":\"16pt\"},\"formatter\":{\"id\":\"1285\",\"type\":\"BasicTickFormatter\"},\"major_label_text_font_size\":{\"value\":\"16pt\"},\"plot\":{\"id\":\"1243\",\"subtype\":\"Figure\",\"type\":\"Plot\"},\"ticker\":{\"id\":\"1258\",\"type\":\"BasicTicker\"}},\"id\":\"1257\",\"type\":\"LinearAxis\"},{\"attributes\":{\"source\":{\"id\":\"1296\",\"type\":\"ColumnDataSource\"}},\"id\":\"1300\",\"type\":\"CDSView\"},{\"attributes\":{},\"id\":\"1310\",\"type\":\"UnionRenderers\"},{\"attributes\":{\"callback\":null},\"id\":\"1246\",\"type\":\"DataRange1d\"},{\"attributes\":{\"grid_line_width\":{\"value\":1},\"plot\":{\"id\":\"1243\",\"subtype\":\"Figure\",\"type\":\"Plot\"},\"ticker\":{\"id\":\"1253\",\"type\":\"LogTicker\"}},\"id\":\"1256\",\"type\":\"Grid\"},{\"attributes\":{},\"id\":\"1308\",\"type\":\"UnionRenderers\"},{\"attributes\":{\"num_minor_ticks\":10},\"id\":\"1253\",\"type\":\"LogTicker\"},{\"attributes\":{},\"id\":\"1248\",\"type\":\"LogScale\"}],\"root_ids\":[\"1243\"]},\"title\":\"Bokeh Application\",\"version\":\"1.0.2\"}};\n",
       "  var render_items = [{\"docid\":\"f1598d99-eab2-4710-979a-4e860219e00f\",\"roots\":{\"1243\":\"b6b1fdf6-947c-4ab5-a677-e683808a3c61\"}}];\n",
       "  root.Bokeh.embed.embed_items_notebook(docs_json, render_items);\n",
       "\n",
       "  }\n",
       "  if (root.Bokeh !== undefined) {\n",
       "    embed_document(root);\n",
       "  } else {\n",
       "    var attempts = 0;\n",
       "    var timer = setInterval(function(root) {\n",
       "      if (root.Bokeh !== undefined) {\n",
       "        embed_document(root);\n",
       "        clearInterval(timer);\n",
       "      }\n",
       "      attempts++;\n",
       "      if (attempts > 100) {\n",
       "        console.log(\"Bokeh: ERROR: Unable to run BokehJS code because BokehJS library is missing\");\n",
       "        clearInterval(timer);\n",
       "      }\n",
       "    }, 10, root)\n",
       "  }\n",
       "})(window);"
      ],
      "application/vnd.bokehjs_exec.v0+json": ""
     },
     "metadata": {
      "application/vnd.bokehjs_exec.v0+json": {
       "id": "1243"
      }
     },
     "output_type": "display_data"
    }
   ],
   "source": [
    "#create a figure with a vertical line at the actual observed data statistic\n",
    "fig = bkp.figure(x_axis_label='Test Statistic Value', y_axis_label='Density', x_range=(0.04,0.14))\n",
    "vline = Span(location=S, dimension='height', line_color='black')\n",
    "fig.renderers.append(vline)\n",
    "\n",
    "weights = np.logspace(-7, 0, 20)\n",
    "colors = np.array(bkpal.Category10[10])[[3, 1, 2, 0]]\n",
    "\n",
    "#for each weight setting, plot the histogram of permuted data test statistics\n",
    "for i, n in enumerate([3, 7, 9, 12]):\n",
    "    hist, edges = np.histogram(S_vals[n,:], bins=np.linspace(0, 0.15, 90))\n",
    "    fig.quad(top=hist/N_samples, bottom=0, left=edges[:-1], right=edges[1:],\n",
    "               fill_color=colors[i], line_color=\"white\", alpha=0.7, legend='\\u03BB = %0.0e' % weights[n])\n",
    "fig.line([0],[0], line_color='black', legend='Observed')\n",
    "fig.legend.location = 'top_left'\n",
    "bkp.show(fig)\n",
    "\n",
    "#plot the number of valid pairs to swap for each weight setting\n",
    "fig = bkp.figure(x_axis_label='Premetric Weight \\u03BB', y_axis_label='# Swappable Pairs', x_axis_type='log')\n",
    "fig.line(weights[rejections], n_pairs[rejections], line_color=colors[0], legend='Rejected')\n",
    "fig.line([weights[rejections][-1], weights[~rejections][0]], \n",
    "         [n_pairs[rejections][-1], n_pairs[~rejections][0]], \n",
    "        line_color=colors[0])\n",
    "fig.line(weights[~rejections], n_pairs[~rejections], line_color=colors[3], legend='Not Rejected')\n",
    "fig.xaxis.formatter = logFmtr\n",
    "bkp.show(fig)"
   ]
  },
  {
   "cell_type": "markdown",
   "metadata": {},
   "source": [
    "# Local Estimation"
   ]
  },
  {
   "cell_type": "markdown",
   "metadata": {},
   "source": [
    "### Premetric"
   ]
  },
  {
   "cell_type": "code",
   "execution_count": 11,
   "metadata": {},
   "outputs": [],
   "source": [
    "#covariate = 'CrashHour'\n",
    "def premetric(x1, x2, weight):\n",
    "    return min(1, weight*min(np.fabs(x1-x2), 24 - np.fabs(x1-x2)))"
   ]
  },
  {
   "cell_type": "markdown",
   "metadata": {},
   "source": [
    "### Local Empirical Measure"
   ]
  },
  {
   "cell_type": "code",
   "execution_count": 12,
   "metadata": {},
   "outputs": [],
   "source": [
    "def empirical_msr(x, X, premetric):\n",
    "    b = np.zeros(X.shape[0])\n",
    "    for n in range(X.shape[0]):\n",
    "        b[n] = premetric(x, X[n])\n",
    "    idcs = np.argsort(b)\n",
    "    c1 = 1. + 2*np.cumsum(b[idcs])\n",
    "    c2 = 2*(1.+np.arange(b.shape[0]))*b[idcs]\n",
    "    M = (c1 > c2).sum()\n",
    "    mu = (1.+2*b[idcs][:M].sum())/M\n",
    "    w = np.maximum(-2*b + mu, 0)\n",
    "    return w"
   ]
  },
  {
   "cell_type": "markdown",
   "metadata": {},
   "source": [
    "### Estimation"
   ]
  },
  {
   "cell_type": "code",
   "execution_count": 13,
   "metadata": {},
   "outputs": [
    {
     "name": "stdout",
     "output_type": "stream",
     "text": [
      "weight iteration 1/8\n",
      "weight iteration 2/8\n",
      "weight iteration 3/8\n",
      "weight iteration 4/8\n",
      "weight iteration 5/8\n",
      "weight iteration 6/8\n",
      "weight iteration 7/8\n",
      "weight iteration 8/8\n"
     ]
    }
   ],
   "source": [
    "weights = np.logspace(-7, 0, 8)\n",
    "times = np.linspace(0, 23, 50)\n",
    "ests = np.zeros((weights.shape[0], times.shape[0]))\n",
    "n_active = np.zeros(weights.shape[0])\n",
    "Ybin = np.zeros(Y.shape[0])\n",
    "severe = (Y == 'Serious') | (Y == 'Killed') \n",
    "Ybin[severe] = 1\n",
    "for n in range(weights.shape[0]):\n",
    "    print('weight iteration ' + str(n+1)+'/'+str(weights.shape[0]))\n",
    "    n_active[n] = 0\n",
    "    for j in range(times.shape[0]):\n",
    "        emp_msr_wts = empirical_msr(times[j], X[:, 9], lambda x1, x2 : premetric(x1, x2, weights[n]))\n",
    "        n_active[n] += (emp_msr_wts>0).sum()\n",
    "        ests[n, j] = (emp_msr_wts*Ybin).sum()\n",
    "    n_active[n] /= times.shape[0]"
   ]
  },
  {
   "cell_type": "markdown",
   "metadata": {},
   "source": [
    "### Visualize the Result"
   ]
  },
  {
   "cell_type": "code",
   "execution_count": 14,
   "metadata": {},
   "outputs": [
    {
     "data": {
      "text/html": [
       "\n",
       "\n",
       "\n",
       "\n",
       "\n",
       "\n",
       "  <div class=\"bk-root\" id=\"bd4cf002-55e6-4ec7-9f57-51e8d96dcb8d\"></div>\n"
      ]
     },
     "metadata": {},
     "output_type": "display_data"
    },
    {
     "data": {
      "application/javascript": [
       "(function(root) {\n",
       "  function embed_document(root) {\n",
       "    \n",
       "  var docs_json = {\"07c01ae4-37b0-47d3-9d38-702d3b00a6a5\":{\"roots\":{\"references\":[{\"attributes\":{\"below\":[{\"id\":\"1424\",\"type\":\"LinearAxis\"}],\"height\":600,\"left\":[{\"id\":\"1429\",\"type\":\"LinearAxis\"}],\"renderers\":[{\"id\":\"1424\",\"type\":\"LinearAxis\"},{\"id\":\"1428\",\"type\":\"Grid\"},{\"id\":\"1429\",\"type\":\"LinearAxis\"},{\"id\":\"1433\",\"type\":\"Grid\"},{\"id\":\"1442\",\"type\":\"BoxAnnotation\"},{\"id\":\"1452\",\"type\":\"GlyphRenderer\"},{\"id\":\"1468\",\"type\":\"Legend\"},{\"id\":\"1457\",\"type\":\"GlyphRenderer\"},{\"id\":\"1473\",\"type\":\"GlyphRenderer\"},{\"id\":\"1490\",\"type\":\"GlyphRenderer\"},{\"id\":\"1509\",\"type\":\"GlyphRenderer\"}],\"title\":{\"id\":\"1460\",\"type\":\"Title\"},\"toolbar\":{\"id\":\"1440\",\"type\":\"Toolbar\"},\"width\":600,\"x_range\":{\"id\":\"1416\",\"type\":\"Range1d\"},\"x_scale\":{\"id\":\"1420\",\"type\":\"LinearScale\"},\"y_range\":{\"id\":\"1418\",\"type\":\"DataRange1d\"},\"y_scale\":{\"id\":\"1422\",\"type\":\"LinearScale\"}},\"id\":\"1415\",\"subtype\":\"Figure\",\"type\":\"Plot\"},{\"attributes\":{\"callback\":null},\"id\":\"1418\",\"type\":\"DataRange1d\"},{\"attributes\":{},\"id\":\"1437\",\"type\":\"SaveTool\"},{\"attributes\":{\"callback\":null,\"end\":25},\"id\":\"1416\",\"type\":\"Range1d\"},{\"attributes\":{},\"id\":\"1467\",\"type\":\"Selection\"},{\"attributes\":{\"label\":{\"value\":\"\\u03bb = 1E-03\"},\"renderers\":[{\"id\":\"1490\",\"type\":\"GlyphRenderer\"}]},\"id\":\"1505\",\"type\":\"LegendItem\"},{\"attributes\":{},\"id\":\"1438\",\"type\":\"ResetTool\"},{\"attributes\":{\"glyph_height\":20,\"glyph_width\":20,\"items\":[{\"id\":\"1469\",\"type\":\"LegendItem\"},{\"id\":\"1486\",\"type\":\"LegendItem\"},{\"id\":\"1505\",\"type\":\"LegendItem\"},{\"id\":\"1526\",\"type\":\"LegendItem\"}],\"label_text_font_size\":{\"value\":\"16pt\"},\"plot\":{\"id\":\"1415\",\"subtype\":\"Figure\",\"type\":\"Plot\"}},\"id\":\"1468\",\"type\":\"Legend\"},{\"attributes\":{\"callback\":null,\"data\":{\"x\":{\"__ndarray__\":\"AAAAAAAAAACDl1PwcgreP4OXU/ByCu4/orE+NNaH9j+Dl1Pwcgr+P7I+NNaHxgJAorE+NNaHBkCTJEmSJEkKQIOXU/ByCg5AOgUvp+DlEECyPjTWh8YSQCp4OQUvpxRAorE+NNaHFkAa60NjfWgYQJMkSZIkSRpAC15OwcspHECDl1PwcgoeQPvQWB8a6x9AOgUvp+DlIED2obE+NNYhQLI+NNaHxiJAbtu2bdu2I0AqeDkFL6ckQOYUvJyClyVAorE+NNaHJkBeTsHLKXgnQBrrQ2N9aChA14fG+tBYKUCTJEmSJEkqQE/Byyl4OStAC15OwcspLEDH+tBYHxotQIOXU/ByCi5APzTWh8b6LkD70FgfGusvQNy2bdu2bTBAOgUvp+DlMECYU/ByCl4xQPahsT401jFAVPByCl5OMkCyPjTWh8YyQBCN9aGxPjNAbtu2bdu2M0DMKXg5BS80QCp4OQUvpzRAiMb60FgfNUDmFLycgpc1QERjfWisDzZAorE+NNaHNkAAAAAAAAA3QA==\",\"dtype\":\"float64\",\"shape\":[50]},\"y\":{\"__ndarray__\":\"0LrBFPmsyz94g5Lv0ifLP1gEDSd1X74/VQQNJ3Vfvj8AAAAAAADEPwAAAAAAAMQ/R1juaYTlzj9EWO5phOXOP77pTW9608s/velNb3rTyz9ok0022WTDP2WTTTbZZMM/+///////wT/7///////BP2CFrRnnH68/EIWtGecfrz/IjL7yz5GwP9SMvvLPkbA/3Iy+8s+RsD9kHanXkXqtP7AdqdeReq0/72rH5cG9rz8Ga8flwb2vPyNjcY3FNaY/NmNxjcU1pj82FonY+yevPzYWidj7J68/pOs9CZ5BtT+v6z0JnkG1P5AOwcX76LA/kA7BxfvosD/ip1m6U2qrP9SnWbpTaqs/mKdZulNqqz9+6DsWGJqxPxroOxYYmrE/yDORaN47sz+TM5Fo3juzP3AaMQReqrE/rBoxBF6qsT8eNpTXUF67Px42lNdQXrs/8BvWvmHtuz/YG9a+Ye27P4xvnrZHrrU/x2+etkeutT9qVLP+DH7DP39Us/4MfsM/GmvAFWvAxT8Wa8AVa8DFPw==\",\"dtype\":\"float64\",\"shape\":[50]}},\"selected\":{\"id\":\"1572\",\"type\":\"Selection\"},\"selection_policy\":{\"id\":\"1571\",\"type\":\"UnionRenderers\"}},\"id\":\"1506\",\"type\":\"ColumnDataSource\"},{\"attributes\":{\"bottom\":{\"value\":0},\"fill_alpha\":{\"value\":0.1},\"fill_color\":{\"value\":\"#1f77b4\"},\"left\":{\"field\":\"left\"},\"line_alpha\":{\"value\":0.1},\"line_color\":{\"value\":\"#1f77b4\"},\"right\":{\"field\":\"right\"},\"top\":{\"field\":\"top\"}},\"id\":\"1451\",\"type\":\"Quad\"},{\"attributes\":{},\"id\":\"1439\",\"type\":\"HelpTool\"},{\"attributes\":{\"label\":{\"value\":\"\\u03bb = 1E-07\"},\"renderers\":[{\"id\":\"1457\",\"type\":\"GlyphRenderer\"}]},\"id\":\"1469\",\"type\":\"LegendItem\"},{\"attributes\":{\"line_color\":\"#1f77b4\",\"line_width\":3,\"x\":{\"field\":\"x\"},\"y\":{\"field\":\"y\"}},\"id\":\"1507\",\"type\":\"Line\"},{\"attributes\":{\"callback\":null,\"data\":{\"x\":{\"__ndarray__\":\"AAAAAAAAAACDl1PwcgreP4OXU/ByCu4/orE+NNaH9j+Dl1Pwcgr+P7I+NNaHxgJAorE+NNaHBkCTJEmSJEkKQIOXU/ByCg5AOgUvp+DlEECyPjTWh8YSQCp4OQUvpxRAorE+NNaHFkAa60NjfWgYQJMkSZIkSRpAC15OwcspHECDl1PwcgoeQPvQWB8a6x9AOgUvp+DlIED2obE+NNYhQLI+NNaHxiJAbtu2bdu2I0AqeDkFL6ckQOYUvJyClyVAorE+NNaHJkBeTsHLKXgnQBrrQ2N9aChA14fG+tBYKUCTJEmSJEkqQE/Byyl4OStAC15OwcspLEDH+tBYHxotQIOXU/ByCi5APzTWh8b6LkD70FgfGusvQNy2bdu2bTBAOgUvp+DlMECYU/ByCl4xQPahsT401jFAVPByCl5OMkCyPjTWh8YyQBCN9aGxPjNAbtu2bdu2M0DMKXg5BS80QCp4OQUvpzRAiMb60FgfNUDmFLycgpc1QERjfWisDzZAorE+NNaHNkAAAAAAAAA3QA==\",\"dtype\":\"float64\",\"shape\":[50]},\"y\":{\"__ndarray__\":\"C5GtFmNYwT+wb+8ulJvBP1rZJoTNoME/IlnzKBB7wT/82dpyayHBP3OWIIrjoMA/IjHw6OwBwD8ZlDblq6a+P/IVCPdQ/bw/GC0FBqgmuz+krlwpqI25PxSsx/jxM7g/PsjGsA/+tj+Q5A05R/m1PzDL6QWllLQ/zOcht5JIsz+NFuycxjuyP1yj6zqKR7E/1sm0vkBssD+51X8YnT2vP+uDci8BNa4/MmvyU1zcrT8kzbi40wmuP1ujUlmbPa4/Yky4qFPsrj/8agW9EP2vP9kW+JvLbLA/v45aeX7UsD9pAfmGIxyxP0F5CaJOEbE/1gy2t7TpsD/J1+Kx9buwP9WPJc8EhrA/ig2gXeLDsD8iatTPKjOxPxfjVo0porE/AmBGpR9lsj8Fg2VKYDKzP1RhA1gh+7M/GIBya2kftT/+QtwU13W2P6uNdweoXLc/sNltpTlQuD99tt3k1265P6hH18JHjLo/rVgPg6+5uz9NJRamOCK9P/imZiofh74//dYihAmdvz+wDGEBqmjAPw==\",\"dtype\":\"float64\",\"shape\":[50]}},\"selected\":{\"id\":\"1504\",\"type\":\"Selection\"},\"selection_policy\":{\"id\":\"1503\",\"type\":\"UnionRenderers\"}},\"id\":\"1470\",\"type\":\"ColumnDataSource\"},{\"attributes\":{\"active_drag\":\"auto\",\"active_inspect\":\"auto\",\"active_multi\":null,\"active_scroll\":\"auto\",\"active_tap\":\"auto\",\"tools\":[{\"id\":\"1434\",\"type\":\"PanTool\"},{\"id\":\"1435\",\"type\":\"WheelZoomTool\"},{\"id\":\"1436\",\"type\":\"BoxZoomTool\"},{\"id\":\"1437\",\"type\":\"SaveTool\"},{\"id\":\"1438\",\"type\":\"ResetTool\"},{\"id\":\"1439\",\"type\":\"HelpTool\"}]},\"id\":\"1440\",\"type\":\"Toolbar\"},{\"attributes\":{\"line_alpha\":0.1,\"line_color\":\"#1f77b4\",\"line_width\":3,\"x\":{\"field\":\"x\"},\"y\":{\"field\":\"y\"}},\"id\":\"1508\",\"type\":\"Line\"},{\"attributes\":{\"bottom_units\":\"screen\",\"fill_alpha\":{\"value\":0.5},\"fill_color\":{\"value\":\"lightgrey\"},\"left_units\":\"screen\",\"level\":\"overlay\",\"line_alpha\":{\"value\":1.0},\"line_color\":{\"value\":\"black\"},\"line_dash\":[4,4],\"line_width\":{\"value\":2},\"plot\":null,\"render_mode\":\"css\",\"right_units\":\"screen\",\"top_units\":\"screen\"},\"id\":\"1442\",\"type\":\"BoxAnnotation\"},{\"attributes\":{},\"id\":\"1420\",\"type\":\"LinearScale\"},{\"attributes\":{\"line_color\":\"#ff7f0e\",\"line_width\":3,\"x\":{\"field\":\"x\"},\"y\":{\"field\":\"y\"}},\"id\":\"1471\",\"type\":\"Line\"},{\"attributes\":{\"data_source\":{\"id\":\"1506\",\"type\":\"ColumnDataSource\"},\"glyph\":{\"id\":\"1507\",\"type\":\"Line\"},\"hover_glyph\":null,\"muted_glyph\":null,\"nonselection_glyph\":{\"id\":\"1508\",\"type\":\"Line\"},\"selection_glyph\":null,\"view\":{\"id\":\"1510\",\"type\":\"CDSView\"}},\"id\":\"1509\",\"type\":\"GlyphRenderer\"},{\"attributes\":{},\"id\":\"1422\",\"type\":\"LinearScale\"},{\"attributes\":{\"line_alpha\":0.1,\"line_color\":\"#1f77b4\",\"line_width\":3,\"x\":{\"field\":\"x\"},\"y\":{\"field\":\"y\"}},\"id\":\"1472\",\"type\":\"Line\"},{\"attributes\":{\"callback\":null,\"data\":{\"x\":{\"__ndarray__\":\"AAAAAAAAAACDl1PwcgreP4OXU/ByCu4/orE+NNaH9j+Dl1Pwcgr+P7I+NNaHxgJAorE+NNaHBkCTJEmSJEkKQIOXU/ByCg5AOgUvp+DlEECyPjTWh8YSQCp4OQUvpxRAorE+NNaHFkAa60NjfWgYQJMkSZIkSRpAC15OwcspHECDl1PwcgoeQPvQWB8a6x9AOgUvp+DlIED2obE+NNYhQLI+NNaHxiJAbtu2bdu2I0AqeDkFL6ckQOYUvJyClyVAorE+NNaHJkBeTsHLKXgnQBrrQ2N9aChA14fG+tBYKUCTJEmSJEkqQE/Byyl4OStAC15OwcspLEDH+tBYHxotQIOXU/ByCi5APzTWh8b6LkD70FgfGusvQNy2bdu2bTBAOgUvp+DlMECYU/ByCl4xQPahsT401jFAVPByCl5OMkCyPjTWh8YyQBCN9aGxPjNAbtu2bdu2M0DMKXg5BS80QCp4OQUvpzRAiMb60FgfNUDmFLycgpc1QERjfWisDzZAorE+NNaHNkAAAAAAAAA3QA==\",\"dtype\":\"float64\",\"shape\":[50]},\"y\":{\"__ndarray__\":\"+KvzYqJ+tD+CEnGWXn60Pwp57skafrQ/mn0KbdV9tD+t5hfUj320P1113uwyfbQ/nFzmy818tD/aCv23PHy0P3AUVGOPe7Q/HMi5U896tD/1wEbV+nm0P1AzIy8cebQ/fKmUfip4tD8J/GxsKne0PwNohJT2dbQ/muwe9Mh0tD+z85ma3HO0P8z6FEHwcrQ/euZhtzhytD+MXDiUg3G0P+98/3DlcLQ/wZhXJUxwtD/yK5Gr4G+0P1xjnT2Jb7Q/sEWp1mZvtD99qwM6bW+0P+Iyp1COb7Q/WcwpHdJvtD9Ne851FnC0PzsSwQ5ccLQ/xxiII6dwtD+GMYBEDHG0P1nOG4l0cbQ/wsTE3SFytD8tu20yz3K0P4X4EUmgc7Q/qv+Ex3R0tD9wNUUfYHW0P0W/089RdrQ/7rMtpW53tD/1RxZ9oni0P0RI7AexebQ/KkFxYZ16tD+PXCAgdHu0P37mSUMpfLQ/RfcZI9d8tD9y28FucH20Pzx5DyMBfrQ/1EEDkVh+tD9qCvf+r360Pw==\",\"dtype\":\"float64\",\"shape\":[50]}},\"selected\":{\"id\":\"1485\",\"type\":\"Selection\"},\"selection_policy\":{\"id\":\"1484\",\"type\":\"UnionRenderers\"}},\"id\":\"1454\",\"type\":\"ColumnDataSource\"},{\"attributes\":{\"source\":{\"id\":\"1506\",\"type\":\"ColumnDataSource\"}},\"id\":\"1510\",\"type\":\"CDSView\"},{\"attributes\":{\"data_source\":{\"id\":\"1449\",\"type\":\"ColumnDataSource\"},\"glyph\":{\"id\":\"1450\",\"type\":\"Quad\"},\"hover_glyph\":null,\"muted_glyph\":null,\"nonselection_glyph\":{\"id\":\"1451\",\"type\":\"Quad\"},\"selection_glyph\":null,\"view\":{\"id\":\"1453\",\"type\":\"CDSView\"}},\"id\":\"1452\",\"type\":\"GlyphRenderer\"},{\"attributes\":{\"axis_label\":\"Time of Day (Hr)\",\"axis_label_text_font_size\":{\"value\":\"16pt\"},\"formatter\":{\"id\":\"1464\",\"type\":\"BasicTickFormatter\"},\"major_label_text_font_size\":{\"value\":\"16pt\"},\"plot\":{\"id\":\"1415\",\"subtype\":\"Figure\",\"type\":\"Plot\"},\"ticker\":{\"id\":\"1425\",\"type\":\"BasicTicker\"}},\"id\":\"1424\",\"type\":\"LinearAxis\"},{\"attributes\":{\"data_source\":{\"id\":\"1470\",\"type\":\"ColumnDataSource\"},\"glyph\":{\"id\":\"1471\",\"type\":\"Line\"},\"hover_glyph\":null,\"muted_glyph\":null,\"nonselection_glyph\":{\"id\":\"1472\",\"type\":\"Line\"},\"selection_glyph\":null,\"view\":{\"id\":\"1474\",\"type\":\"CDSView\"}},\"id\":\"1473\",\"type\":\"GlyphRenderer\"},{\"attributes\":{},\"id\":\"1524\",\"type\":\"UnionRenderers\"},{\"attributes\":{\"source\":{\"id\":\"1449\",\"type\":\"ColumnDataSource\"}},\"id\":\"1453\",\"type\":\"CDSView\"},{\"attributes\":{},\"id\":\"1425\",\"type\":\"BasicTicker\"},{\"attributes\":{\"source\":{\"id\":\"1470\",\"type\":\"ColumnDataSource\"}},\"id\":\"1474\",\"type\":\"CDSView\"},{\"attributes\":{},\"id\":\"1525\",\"type\":\"Selection\"},{\"attributes\":{\"grid_line_width\":{\"value\":1},\"plot\":{\"id\":\"1415\",\"subtype\":\"Figure\",\"type\":\"Plot\"},\"ticker\":{\"id\":\"1425\",\"type\":\"BasicTicker\"}},\"id\":\"1428\",\"type\":\"Grid\"},{\"attributes\":{},\"id\":\"1484\",\"type\":\"UnionRenderers\"},{\"attributes\":{\"label\":{\"value\":\"\\u03bb = 1E-01\"},\"renderers\":[{\"id\":\"1509\",\"type\":\"GlyphRenderer\"}]},\"id\":\"1526\",\"type\":\"LegendItem\"},{\"attributes\":{\"axis_label\":\"Fraction of Severe Outcomes\",\"axis_label_text_font_size\":{\"value\":\"16pt\"},\"formatter\":{\"id\":\"1462\",\"type\":\"BasicTickFormatter\"},\"major_label_text_font_size\":{\"value\":\"16pt\"},\"plot\":{\"id\":\"1415\",\"subtype\":\"Figure\",\"type\":\"Plot\"},\"ticker\":{\"id\":\"1430\",\"type\":\"BasicTicker\"}},\"id\":\"1429\",\"type\":\"LinearAxis\"},{\"attributes\":{},\"id\":\"1485\",\"type\":\"Selection\"},{\"attributes\":{},\"id\":\"1571\",\"type\":\"UnionRenderers\"},{\"attributes\":{},\"id\":\"1430\",\"type\":\"BasicTicker\"},{\"attributes\":{\"label\":{\"value\":\"\\u03bb = 1E-04\"},\"renderers\":[{\"id\":\"1473\",\"type\":\"GlyphRenderer\"}]},\"id\":\"1486\",\"type\":\"LegendItem\"},{\"attributes\":{\"line_color\":\"#d62728\",\"line_width\":3,\"x\":{\"field\":\"x\"},\"y\":{\"field\":\"y\"}},\"id\":\"1455\",\"type\":\"Line\"},{\"attributes\":{},\"id\":\"1572\",\"type\":\"Selection\"},{\"attributes\":{\"dimension\":1,\"grid_line_width\":{\"value\":1},\"plot\":{\"id\":\"1415\",\"subtype\":\"Figure\",\"type\":\"Plot\"},\"ticker\":{\"id\":\"1430\",\"type\":\"BasicTicker\"}},\"id\":\"1433\",\"type\":\"Grid\"},{\"attributes\":{\"callback\":null,\"data\":{\"x\":{\"__ndarray__\":\"AAAAAAAAAACDl1PwcgreP4OXU/ByCu4/orE+NNaH9j+Dl1Pwcgr+P7I+NNaHxgJAorE+NNaHBkCTJEmSJEkKQIOXU/ByCg5AOgUvp+DlEECyPjTWh8YSQCp4OQUvpxRAorE+NNaHFkAa60NjfWgYQJMkSZIkSRpAC15OwcspHECDl1PwcgoeQPvQWB8a6x9AOgUvp+DlIED2obE+NNYhQLI+NNaHxiJAbtu2bdu2I0AqeDkFL6ckQOYUvJyClyVAorE+NNaHJkBeTsHLKXgnQBrrQ2N9aChA14fG+tBYKUCTJEmSJEkqQE/Byyl4OStAC15OwcspLEDH+tBYHxotQIOXU/ByCi5APzTWh8b6LkD70FgfGusvQNy2bdu2bTBAOgUvp+DlMECYU/ByCl4xQPahsT401jFAVPByCl5OMkCyPjTWh8YyQBCN9aGxPjNAbtu2bdu2M0DMKXg5BS80QCp4OQUvpzRAiMb60FgfNUDmFLycgpc1QERjfWisDzZAorE+NNaHNkAAAAAAAAA3QA==\",\"dtype\":\"float64\",\"shape\":[50]},\"y\":{\"__ndarray__\":\"qVrz81l8xj9WPpn+wdPFP2VIIeJLcsU/pqQfB1HBxT8pzD+mHS3GP9go1Dvke8Y/0DAOuURaxj+yQyPDG7fFP+0K5CjUfcU/zdqCoKZTxD/NhdO4yorCP+PzuIGYy8A/1lzRcY66vj/yfdNdd+O7P23gapDWWrY/ACsBgdAZsT/XWGpnhA6wP0TLqV8JM7A/AJp1aDderz+D7cJJiFCuPz8Ohj+vf64/XPKqjb4Drz9uaEg/zOirPwwZlA2bUKg/JuyYhdz/qD8qcqrzMOWsP4BpHZZO1LA/XO7gyUOcsz+jLYIlic60P0CVCDadkLI/LbABT6vAsD+sYnw6WtetP9SnWbpTaqs/aC90HxmLrz+I6DsWGJqxPzYear7tQ7I/vjORaN47sz8uMqXcyNyyP6UaMQReqrE/PynwlS8Gsz8qrTHsU3+5P2v2jcYddbs/8nQ3Qa+5uz8FKNUBEsq6P/yJ6bQlq7g/nZRbHSI9uT/0zrpiHJO9P3FMnNXhk8E///7OlVKqwz8KUa8nnb3FPw==\",\"dtype\":\"float64\",\"shape\":[50]}},\"selected\":{\"id\":\"1525\",\"type\":\"Selection\"},\"selection_policy\":{\"id\":\"1524\",\"type\":\"UnionRenderers\"}},\"id\":\"1487\",\"type\":\"ColumnDataSource\"},{\"attributes\":{\"line_alpha\":0.1,\"line_color\":\"#1f77b4\",\"line_width\":3,\"x\":{\"field\":\"x\"},\"y\":{\"field\":\"y\"}},\"id\":\"1456\",\"type\":\"Line\"},{\"attributes\":{\"line_color\":\"#2ca02c\",\"line_width\":3,\"x\":{\"field\":\"x\"},\"y\":{\"field\":\"y\"}},\"id\":\"1488\",\"type\":\"Line\"},{\"attributes\":{\"data_source\":{\"id\":\"1454\",\"type\":\"ColumnDataSource\"},\"glyph\":{\"id\":\"1455\",\"type\":\"Line\"},\"hover_glyph\":null,\"muted_glyph\":null,\"nonselection_glyph\":{\"id\":\"1456\",\"type\":\"Line\"},\"selection_glyph\":null,\"view\":{\"id\":\"1458\",\"type\":\"CDSView\"}},\"id\":\"1457\",\"type\":\"GlyphRenderer\"},{\"attributes\":{\"bottom\":{\"value\":0},\"fill_alpha\":{\"value\":0.3},\"fill_color\":{\"value\":\"black\"},\"left\":{\"field\":\"left\"},\"line_alpha\":{\"value\":0.3},\"line_color\":{\"value\":\"white\"},\"right\":{\"field\":\"right\"},\"top\":{\"field\":\"top\"}},\"id\":\"1450\",\"type\":\"Quad\"},{\"attributes\":{\"line_alpha\":0.1,\"line_color\":\"#1f77b4\",\"line_width\":3,\"x\":{\"field\":\"x\"},\"y\":{\"field\":\"y\"}},\"id\":\"1489\",\"type\":\"Line\"},{\"attributes\":{\"callback\":null,\"data\":{\"left\":{\"__ndarray__\":\"AAAAAAAA4L8AAAAAAADgPwAAAAAAAPg/AAAAAAAABEAAAAAAAAAMQAAAAAAAABJAAAAAAAAAFkAAAAAAAAAaQAAAAAAAAB5AAAAAAAAAIUAAAAAAAAAjQAAAAAAAACVAAAAAAAAAJ0AAAAAAAAApQAAAAAAAACtAAAAAAAAALUAAAAAAAAAvQAAAAAAAgDBAAAAAAACAMUAAAAAAAIAyQAAAAAAAgDNAAAAAAACANEAAAAAAAIA1QAAAAAAAgDZA\",\"dtype\":\"float64\",\"shape\":[24]},\"right\":{\"__ndarray__\":\"AAAAAAAA4D8AAAAAAAD4PwAAAAAAAARAAAAAAAAADEAAAAAAAAASQAAAAAAAABZAAAAAAAAAGkAAAAAAAAAeQAAAAAAAACFAAAAAAAAAI0AAAAAAAAAlQAAAAAAAACdAAAAAAAAAKUAAAAAAAAArQAAAAAAAAC1AAAAAAAAAL0AAAAAAAIAwQAAAAAAAgDFAAAAAAACAMkAAAAAAAIAzQAAAAAAAgDRAAAAAAACANUAAAAAAAIA2QAAAAAAAgDdA\",\"dtype\":\"float64\",\"shape\":[24]},\"top\":[0.21621621621621623,0.11864406779661017,0.15625,0.2413793103448276,0.21739130434782608,0.15151515151515152,0.140625,0.060790273556231005,0.06472491909385113,0.05757575757575758,0.06199460916442048,0.04337899543378995,0.060851926977687626,0.08303249097472924,0.06605504587155964,0.053545586107091175,0.06875753920386007,0.07513227513227513,0.06900584795321638,0.1069078947368421,0.10909090909090909,0.08469055374592833,0.15228426395939088,0.16993464052287582]},\"selected\":{\"id\":\"1467\",\"type\":\"Selection\"},\"selection_policy\":{\"id\":\"1466\",\"type\":\"UnionRenderers\"}},\"id\":\"1449\",\"type\":\"ColumnDataSource\"},{\"attributes\":{\"source\":{\"id\":\"1454\",\"type\":\"ColumnDataSource\"}},\"id\":\"1458\",\"type\":\"CDSView\"},{\"attributes\":{\"data_source\":{\"id\":\"1487\",\"type\":\"ColumnDataSource\"},\"glyph\":{\"id\":\"1488\",\"type\":\"Line\"},\"hover_glyph\":null,\"muted_glyph\":null,\"nonselection_glyph\":{\"id\":\"1489\",\"type\":\"Line\"},\"selection_glyph\":null,\"view\":{\"id\":\"1491\",\"type\":\"CDSView\"}},\"id\":\"1490\",\"type\":\"GlyphRenderer\"},{\"attributes\":{\"plot\":null,\"text\":\"\",\"text_font_size\":{\"value\":\"16pt\"}},\"id\":\"1460\",\"type\":\"Title\"},{\"attributes\":{},\"id\":\"1434\",\"type\":\"PanTool\"},{\"attributes\":{\"source\":{\"id\":\"1487\",\"type\":\"ColumnDataSource\"}},\"id\":\"1491\",\"type\":\"CDSView\"},{\"attributes\":{},\"id\":\"1462\",\"type\":\"BasicTickFormatter\"},{\"attributes\":{},\"id\":\"1435\",\"type\":\"WheelZoomTool\"},{\"attributes\":{},\"id\":\"1503\",\"type\":\"UnionRenderers\"},{\"attributes\":{},\"id\":\"1464\",\"type\":\"BasicTickFormatter\"},{\"attributes\":{\"overlay\":{\"id\":\"1442\",\"type\":\"BoxAnnotation\"}},\"id\":\"1436\",\"type\":\"BoxZoomTool\"},{\"attributes\":{},\"id\":\"1504\",\"type\":\"Selection\"},{\"attributes\":{},\"id\":\"1466\",\"type\":\"UnionRenderers\"}],\"root_ids\":[\"1415\"]},\"title\":\"Bokeh Application\",\"version\":\"1.0.2\"}};\n",
       "  var render_items = [{\"docid\":\"07c01ae4-37b0-47d3-9d38-702d3b00a6a5\",\"roots\":{\"1415\":\"bd4cf002-55e6-4ec7-9f57-51e8d96dcb8d\"}}];\n",
       "  root.Bokeh.embed.embed_items_notebook(docs_json, render_items);\n",
       "\n",
       "  }\n",
       "  if (root.Bokeh !== undefined) {\n",
       "    embed_document(root);\n",
       "  } else {\n",
       "    var attempts = 0;\n",
       "    var timer = setInterval(function(root) {\n",
       "      if (root.Bokeh !== undefined) {\n",
       "        embed_document(root);\n",
       "        clearInterval(timer);\n",
       "      }\n",
       "      attempts++;\n",
       "      if (attempts > 100) {\n",
       "        console.log(\"Bokeh: ERROR: Unable to run BokehJS code because BokehJS library is missing\");\n",
       "        clearInterval(timer);\n",
       "      }\n",
       "    }, 10, root)\n",
       "  }\n",
       "})(window);"
      ],
      "application/vnd.bokehjs_exec.v0+json": ""
     },
     "metadata": {
      "application/vnd.bokehjs_exec.v0+json": {
       "id": "1415"
      }
     },
     "output_type": "display_data"
    },
    {
     "data": {
      "text/html": [
       "\n",
       "\n",
       "\n",
       "\n",
       "\n",
       "\n",
       "  <div class=\"bk-root\" id=\"8be2cbe2-3b42-4824-9b92-bfd136fc2e1a\"></div>\n"
      ]
     },
     "metadata": {},
     "output_type": "display_data"
    },
    {
     "data": {
      "application/javascript": [
       "(function(root) {\n",
       "  function embed_document(root) {\n",
       "    \n",
       "  var docs_json = {\"62d8bdad-a327-4f63-912b-2ad3a152a6ba\":{\"roots\":{\"references\":[{\"attributes\":{\"below\":[{\"id\":\"1684\",\"type\":\"LogAxis\"}],\"height\":600,\"left\":[{\"id\":\"1689\",\"type\":\"LinearAxis\"}],\"renderers\":[{\"id\":\"1684\",\"type\":\"LogAxis\"},{\"id\":\"1688\",\"type\":\"Grid\"},{\"id\":\"1689\",\"type\":\"LinearAxis\"},{\"id\":\"1693\",\"type\":\"Grid\"},{\"id\":\"1702\",\"type\":\"BoxAnnotation\"},{\"id\":\"1712\",\"type\":\"GlyphRenderer\"}],\"title\":{\"id\":\"1762\",\"type\":\"Title\"},\"toolbar\":{\"id\":\"1700\",\"type\":\"Toolbar\"},\"width\":600,\"x_range\":{\"id\":\"1676\",\"type\":\"DataRange1d\"},\"x_scale\":{\"id\":\"1680\",\"type\":\"LogScale\"},\"y_range\":{\"id\":\"1678\",\"type\":\"DataRange1d\"},\"y_scale\":{\"id\":\"1682\",\"type\":\"LinearScale\"}},\"id\":\"1675\",\"subtype\":\"Figure\",\"type\":\"Plot\"},{\"attributes\":{\"bottom_units\":\"screen\",\"fill_alpha\":{\"value\":0.5},\"fill_color\":{\"value\":\"lightgrey\"},\"left_units\":\"screen\",\"level\":\"overlay\",\"line_alpha\":{\"value\":1.0},\"line_color\":{\"value\":\"black\"},\"line_dash\":[4,4],\"line_width\":{\"value\":2},\"plot\":null,\"render_mode\":\"css\",\"right_units\":\"screen\",\"top_units\":\"screen\"},\"id\":\"1702\",\"type\":\"BoxAnnotation\"},{\"attributes\":{\"dimension\":1,\"grid_line_width\":{\"value\":1},\"plot\":{\"id\":\"1675\",\"subtype\":\"Figure\",\"type\":\"Plot\"},\"ticker\":{\"id\":\"1690\",\"type\":\"BasicTicker\"}},\"id\":\"1693\",\"type\":\"Grid\"},{\"attributes\":{\"source\":{\"id\":\"1709\",\"type\":\"ColumnDataSource\"}},\"id\":\"1713\",\"type\":\"CDSView\"},{\"attributes\":{\"line_alpha\":0.1,\"line_color\":\"#1f77b4\",\"line_width\":3,\"x\":{\"field\":\"x\"},\"y\":{\"field\":\"y\"}},\"id\":\"1711\",\"type\":\"Line\"},{\"attributes\":{\"callback\":null},\"id\":\"1678\",\"type\":\"DataRange1d\"},{\"attributes\":{\"plot\":null,\"text\":\"\",\"text_font_size\":{\"value\":\"16pt\"}},\"id\":\"1762\",\"type\":\"Title\"},{\"attributes\":{\"line_color\":\"#1f77b4\",\"line_width\":3,\"x\":{\"field\":\"x\"},\"y\":{\"field\":\"y\"}},\"id\":\"1710\",\"type\":\"Line\"},{\"attributes\":{},\"id\":\"1764\",\"type\":\"BasicTickFormatter\"},{\"attributes\":{},\"id\":\"1767\",\"type\":\"UnionRenderers\"},{\"attributes\":{\"data_source\":{\"id\":\"1709\",\"type\":\"ColumnDataSource\"},\"glyph\":{\"id\":\"1710\",\"type\":\"Line\"},\"hover_glyph\":null,\"muted_glyph\":null,\"nonselection_glyph\":{\"id\":\"1711\",\"type\":\"Line\"},\"selection_glyph\":null,\"view\":{\"id\":\"1713\",\"type\":\"CDSView\"}},\"id\":\"1712\",\"type\":\"GlyphRenderer\"},{\"attributes\":{},\"id\":\"1768\",\"type\":\"Selection\"},{\"attributes\":{},\"id\":\"1694\",\"type\":\"PanTool\"},{\"attributes\":{\"callback\":null},\"id\":\"1676\",\"type\":\"DataRange1d\"},{\"attributes\":{},\"id\":\"1695\",\"type\":\"WheelZoomTool\"},{\"attributes\":{\"overlay\":{\"id\":\"1702\",\"type\":\"BoxAnnotation\"}},\"id\":\"1696\",\"type\":\"BoxZoomTool\"},{\"attributes\":{},\"id\":\"1690\",\"type\":\"BasicTicker\"},{\"attributes\":{\"axis_label\":\"Average # Atoms\",\"axis_label_text_font_size\":{\"value\":\"16pt\"},\"formatter\":{\"id\":\"1764\",\"type\":\"BasicTickFormatter\"},\"major_label_text_font_size\":{\"value\":\"16pt\"},\"plot\":{\"id\":\"1675\",\"subtype\":\"Figure\",\"type\":\"Plot\"},\"ticker\":{\"id\":\"1690\",\"type\":\"BasicTicker\"}},\"id\":\"1689\",\"type\":\"LinearAxis\"},{\"attributes\":{},\"id\":\"1699\",\"type\":\"HelpTool\"},{\"attributes\":{\"active_drag\":\"auto\",\"active_inspect\":\"auto\",\"active_multi\":null,\"active_scroll\":\"auto\",\"active_tap\":\"auto\",\"tools\":[{\"id\":\"1694\",\"type\":\"PanTool\"},{\"id\":\"1695\",\"type\":\"WheelZoomTool\"},{\"id\":\"1696\",\"type\":\"BoxZoomTool\"},{\"id\":\"1697\",\"type\":\"SaveTool\"},{\"id\":\"1698\",\"type\":\"ResetTool\"},{\"id\":\"1699\",\"type\":\"HelpTool\"}]},\"id\":\"1700\",\"type\":\"Toolbar\"},{\"attributes\":{\"grid_line_width\":{\"value\":1},\"plot\":{\"id\":\"1675\",\"subtype\":\"Figure\",\"type\":\"Plot\"},\"ticker\":{\"id\":\"1685\",\"type\":\"LogTicker\"}},\"id\":\"1688\",\"type\":\"Grid\"},{\"attributes\":{\"num_minor_ticks\":10},\"id\":\"1685\",\"type\":\"LogTicker\"},{\"attributes\":{\"callback\":null,\"data\":{\"x\":{\"__ndarray__\":\"SK+8mvLXej6N7bWg98awPvFo44i1+OQ+LUMc6+I2Gj/8qfHSTWJQP3sUrkfheoQ/mpmZmZmZuT8AAAAAAADwPw==\",\"dtype\":\"float64\",\"shape\":[8]},\"y\":{\"__ndarray__\":\"AAAAAIBSwUAAAAAAgFLBQGZmZmZmzsBAmpmZmZmXpkDhehSuR4mKQIXrUbgeBXtA16NwPQp/d0Bcj8L1KGx3QA==\",\"dtype\":\"float64\",\"shape\":[8]}},\"selected\":{\"id\":\"1768\",\"type\":\"Selection\"},\"selection_policy\":{\"id\":\"1767\",\"type\":\"UnionRenderers\"}},\"id\":\"1709\",\"type\":\"ColumnDataSource\"},{\"attributes\":{\"code\":\"\\nvar trns = [\\n'\\u2070',\\n'\\u00b9',\\n'\\u00b2',\\n'\\u00b3',\\n'\\u2074',\\n'\\u2075',\\n'\\u2076',\\n'\\u2077',\\n'\\u2078',\\n'\\u2079'];\\nvar tick_power = Math.floor(Math.log10(tick));\\nvar tick_mult = Math.pow(10, Math.log10(tick) - tick_power);\\nvar ret = '';\\nif (tick_mult > 1.) {\\n  if (Math.abs(tick_mult - Math.round(tick_mult)) > 0.05){\\n    ret = tick_mult.toFixed(1) + '\\u22c5';\\n  } else {\\n    ret = tick_mult.toFixed(0) +'\\u22c5';\\n  }\\n}\\nret += '10';\\nif (tick_power < 0){\\n  ret += '\\u207b';\\n  tick_power = -tick_power;\\n}\\npower_digits = []\\nwhile (tick_power > 9){\\n  power_digits.push( tick_power - Math.floor(tick_power/10)*10 )\\n  tick_power = Math.floor(tick_power/10)\\n}\\npower_digits.push(tick_power)\\nfor (i = power_digits.length-1; i >= 0; i--){\\n  ret += trns[power_digits[i]];\\n}\\nreturn ret;\\n\"},\"id\":\"1002\",\"type\":\"FuncTickFormatter\"},{\"attributes\":{},\"id\":\"1698\",\"type\":\"ResetTool\"},{\"attributes\":{\"axis_label\":\"Premetric Weight \\u03bb\",\"axis_label_text_font_size\":{\"value\":\"16pt\"},\"formatter\":{\"id\":\"1002\",\"type\":\"FuncTickFormatter\"},\"major_label_text_font_size\":{\"value\":\"16pt\"},\"plot\":{\"id\":\"1675\",\"subtype\":\"Figure\",\"type\":\"Plot\"},\"ticker\":{\"id\":\"1685\",\"type\":\"LogTicker\"}},\"id\":\"1684\",\"type\":\"LogAxis\"},{\"attributes\":{},\"id\":\"1682\",\"type\":\"LinearScale\"},{\"attributes\":{},\"id\":\"1697\",\"type\":\"SaveTool\"},{\"attributes\":{},\"id\":\"1680\",\"type\":\"LogScale\"}],\"root_ids\":[\"1675\"]},\"title\":\"Bokeh Application\",\"version\":\"1.0.2\"}};\n",
       "  var render_items = [{\"docid\":\"62d8bdad-a327-4f63-912b-2ad3a152a6ba\",\"roots\":{\"1675\":\"8be2cbe2-3b42-4824-9b92-bfd136fc2e1a\"}}];\n",
       "  root.Bokeh.embed.embed_items_notebook(docs_json, render_items);\n",
       "\n",
       "  }\n",
       "  if (root.Bokeh !== undefined) {\n",
       "    embed_document(root);\n",
       "  } else {\n",
       "    var attempts = 0;\n",
       "    var timer = setInterval(function(root) {\n",
       "      if (root.Bokeh !== undefined) {\n",
       "        embed_document(root);\n",
       "        clearInterval(timer);\n",
       "      }\n",
       "      attempts++;\n",
       "      if (attempts > 100) {\n",
       "        console.log(\"Bokeh: ERROR: Unable to run BokehJS code because BokehJS library is missing\");\n",
       "        clearInterval(timer);\n",
       "      }\n",
       "    }, 10, root)\n",
       "  }\n",
       "})(window);"
      ],
      "application/vnd.bokehjs_exec.v0+json": ""
     },
     "metadata": {
      "application/vnd.bokehjs_exec.v0+json": {
       "id": "1675"
      }
     },
     "output_type": "display_data"
    }
   ],
   "source": [
    "colors = np.array(bkpal.Category10[10])[[3, 1, 2, 0]]\n",
    "\n",
    "#Plot bars for fraction of severe outcomes at each time\n",
    "fig = bkp.figure(x_range=(0,25), y_axis_label='Fraction of Severe Outcomes', x_axis_label='Time of Day (Hr)')\n",
    "\n",
    "fig.quad(top=[(Ybin[X[:,9] == t].sum()/(X[:,9]==t).sum()) for t in range(24)], bottom=0, \n",
    "         left=np.arange(24)-.5, right=np.arange(24)+.5, line_color='white', \n",
    "         fill_color='black', alpha=0.3)\n",
    "\n",
    "for i, n in enumerate([0, 3, 4, 6]):\n",
    "    fig.line(times, ests[n,:], line_color=colors[i], legend='\\u03BB = %0.0E' % weights[n])\n",
    "\n",
    "bkp.show(fig)\n",
    "\n",
    "\n",
    "fig = bkp.figure(x_axis_label='Premetric Weight \\u03BB', y_axis_label='Average # Atoms', x_axis_type='log')\n",
    "fig.line(weights, n_active, line_color=colors[3])\n",
    "fig.xaxis.formatter = logFmtr\n",
    "bkp.show(fig)"
   ]
  },
  {
   "cell_type": "markdown",
   "metadata": {},
   "source": [
    "### Record Computation Time "
   ]
  },
  {
   "cell_type": "code",
   "execution_count": 15,
   "metadata": {},
   "outputs": [
    {
     "name": "stdout",
     "output_type": "stream",
     "text": [
      "trial 50/50               \n"
     ]
    }
   ],
   "source": [
    "n_trials = 50\n",
    "n_data = np.logspace(0, 4, 10).astype(int)\n",
    "cputs = np.zeros((n_trials, n_data.shape[0]))\n",
    "wt = 0.001\n",
    "idcs = np.arange(X.shape[0])\n",
    "np.random.shuffle(idcs)\n",
    "for t in range(n_trials):\n",
    "    sys.stdout.write('trial ' + str(t+1)+'/'+str(n_trials)+'               \\r')\n",
    "    sys.stdout.flush()\n",
    "    for n in range(n_data.shape[0]):\n",
    "        t0 = time.perf_counter()\n",
    "        times = np.linspace(0, 23, 50)\n",
    "        ests = np.zeros(times.shape[0])\n",
    "        Ybin = np.zeros(Y.shape[0])\n",
    "        severe = (Y == 'Serious') | (Y == 'Killed') \n",
    "        Ybin[severe] = 1\n",
    "        for j in range(times.shape[0]):\n",
    "            emp_msr_wts = empirical_msr(times[j], X[idcs[:n_data[n]], 9], lambda x1, x2 : premetric(x1, x2, wt))\n",
    "            ests[j] = (emp_msr_wts*Ybin[idcs[:n_data[n]]]).sum()\n",
    "        tf = time.perf_counter()\n",
    "        cputs[t, n] = tf-t0\n",
    "sys.stdout.write('\\n')\n",
    "sys.stdout.flush()\n"
   ]
  },
  {
   "cell_type": "markdown",
   "metadata": {},
   "source": [
    "### Visualize the Result"
   ]
  },
  {
   "cell_type": "code",
   "execution_count": 16,
   "metadata": {},
   "outputs": [
    {
     "data": {
      "text/html": [
       "\n",
       "\n",
       "\n",
       "\n",
       "\n",
       "\n",
       "  <div class=\"bk-root\" id=\"69978c92-e7dc-4e26-986b-a76a97a52531\"></div>\n"
      ]
     },
     "metadata": {},
     "output_type": "display_data"
    },
    {
     "data": {
      "application/javascript": [
       "(function(root) {\n",
       "  function embed_document(root) {\n",
       "    \n",
       "  var docs_json = {\"8a602ea6-e06f-4352-890b-8f92fe1632d3\":{\"roots\":{\"references\":[{\"attributes\":{\"below\":[{\"id\":\"1826\",\"type\":\"LinearAxis\"}],\"height\":600,\"left\":[{\"id\":\"1831\",\"type\":\"LinearAxis\"}],\"renderers\":[{\"id\":\"1826\",\"type\":\"LinearAxis\"},{\"id\":\"1830\",\"type\":\"Grid\"},{\"id\":\"1831\",\"type\":\"LinearAxis\"},{\"id\":\"1835\",\"type\":\"Grid\"},{\"id\":\"1844\",\"type\":\"BoxAnnotation\"},{\"id\":\"1854\",\"type\":\"GlyphRenderer\"},{\"id\":\"1859\",\"type\":\"GlyphRenderer\"},{\"id\":\"1864\",\"type\":\"GlyphRenderer\"},{\"id\":\"1869\",\"type\":\"GlyphRenderer\"},{\"id\":\"1874\",\"type\":\"GlyphRenderer\"},{\"id\":\"1879\",\"type\":\"GlyphRenderer\"},{\"id\":\"1884\",\"type\":\"GlyphRenderer\"},{\"id\":\"1889\",\"type\":\"GlyphRenderer\"},{\"id\":\"1894\",\"type\":\"GlyphRenderer\"},{\"id\":\"1899\",\"type\":\"GlyphRenderer\"},{\"id\":\"1904\",\"type\":\"GlyphRenderer\"},{\"id\":\"1909\",\"type\":\"GlyphRenderer\"},{\"id\":\"1914\",\"type\":\"GlyphRenderer\"},{\"id\":\"1919\",\"type\":\"GlyphRenderer\"},{\"id\":\"1924\",\"type\":\"GlyphRenderer\"},{\"id\":\"1929\",\"type\":\"GlyphRenderer\"},{\"id\":\"1934\",\"type\":\"GlyphRenderer\"},{\"id\":\"1939\",\"type\":\"GlyphRenderer\"},{\"id\":\"1944\",\"type\":\"GlyphRenderer\"},{\"id\":\"1949\",\"type\":\"GlyphRenderer\"},{\"id\":\"1954\",\"type\":\"GlyphRenderer\"},{\"id\":\"1959\",\"type\":\"GlyphRenderer\"},{\"id\":\"1964\",\"type\":\"GlyphRenderer\"},{\"id\":\"1969\",\"type\":\"GlyphRenderer\"},{\"id\":\"1974\",\"type\":\"GlyphRenderer\"},{\"id\":\"1979\",\"type\":\"GlyphRenderer\"},{\"id\":\"1984\",\"type\":\"GlyphRenderer\"},{\"id\":\"1989\",\"type\":\"GlyphRenderer\"},{\"id\":\"1994\",\"type\":\"GlyphRenderer\"},{\"id\":\"1999\",\"type\":\"GlyphRenderer\"},{\"id\":\"2004\",\"type\":\"GlyphRenderer\"},{\"id\":\"2009\",\"type\":\"GlyphRenderer\"},{\"id\":\"2014\",\"type\":\"GlyphRenderer\"},{\"id\":\"2019\",\"type\":\"GlyphRenderer\"},{\"id\":\"2024\",\"type\":\"GlyphRenderer\"},{\"id\":\"2029\",\"type\":\"GlyphRenderer\"},{\"id\":\"2034\",\"type\":\"GlyphRenderer\"},{\"id\":\"2039\",\"type\":\"GlyphRenderer\"},{\"id\":\"2044\",\"type\":\"GlyphRenderer\"},{\"id\":\"2049\",\"type\":\"GlyphRenderer\"},{\"id\":\"2054\",\"type\":\"GlyphRenderer\"},{\"id\":\"2059\",\"type\":\"GlyphRenderer\"},{\"id\":\"2064\",\"type\":\"GlyphRenderer\"},{\"id\":\"2069\",\"type\":\"GlyphRenderer\"},{\"id\":\"2074\",\"type\":\"GlyphRenderer\"},{\"id\":\"2079\",\"type\":\"GlyphRenderer\"},{\"id\":\"2084\",\"type\":\"GlyphRenderer\"},{\"id\":\"2089\",\"type\":\"GlyphRenderer\"},{\"id\":\"2094\",\"type\":\"GlyphRenderer\"},{\"id\":\"2099\",\"type\":\"GlyphRenderer\"}],\"title\":{\"id\":\"2156\",\"type\":\"Title\"},\"toolbar\":{\"id\":\"1842\",\"type\":\"Toolbar\"},\"width\":600,\"x_range\":{\"id\":\"1818\",\"type\":\"DataRange1d\"},\"x_scale\":{\"id\":\"1822\",\"type\":\"LinearScale\"},\"y_range\":{\"id\":\"1820\",\"type\":\"DataRange1d\"},\"y_scale\":{\"id\":\"1824\",\"type\":\"LinearScale\"}},\"id\":\"1817\",\"subtype\":\"Figure\",\"type\":\"Plot\"},{\"attributes\":{\"data_source\":{\"id\":\"2011\",\"type\":\"ColumnDataSource\"},\"glyph\":{\"id\":\"2012\",\"type\":\"Line\"},\"hover_glyph\":null,\"muted_glyph\":null,\"nonselection_glyph\":{\"id\":\"2013\",\"type\":\"Line\"},\"selection_glyph\":null,\"view\":{\"id\":\"2015\",\"type\":\"CDSView\"}},\"id\":\"2014\",\"type\":\"GlyphRenderer\"},{\"attributes\":{},\"id\":\"2216\",\"type\":\"UnionRenderers\"},{\"attributes\":{\"source\":{\"id\":\"2011\",\"type\":\"ColumnDataSource\"}},\"id\":\"2015\",\"type\":\"CDSView\"},{\"attributes\":{},\"id\":\"2217\",\"type\":\"Selection\"},{\"attributes\":{\"callback\":null,\"data\":{\"x\":[1,2,7,21,59,166,464,1291,3593,10000],\"y\":{\"__ndarray__\":\"AAAAZK93Xz8AAADWMQdhPwAAABFHHGc/AAAAFMm1cz8AAMCXFBWFPwAAMPK6l5o/AAC8EN35sT8AAIjVA0zJPwCACBouEOE/AEBtV6Y/9T8=\",\"dtype\":\"float64\",\"shape\":[10]}},\"selected\":{\"id\":\"2229\",\"type\":\"Selection\"},\"selection_policy\":{\"id\":\"2228\",\"type\":\"UnionRenderers\"}},\"id\":\"2016\",\"type\":\"ColumnDataSource\"},{\"attributes\":{},\"id\":\"2218\",\"type\":\"UnionRenderers\"},{\"attributes\":{\"line_alpha\":0.1,\"line_color\":\"#1f77b4\",\"line_width\":3,\"x\":{\"field\":\"x\"},\"y\":{\"field\":\"y\"}},\"id\":\"2017\",\"type\":\"Line\"},{\"attributes\":{},\"id\":\"2219\",\"type\":\"Selection\"},{\"attributes\":{\"line_alpha\":0.1,\"line_color\":\"#1f77b4\",\"line_width\":3,\"x\":{\"field\":\"x\"},\"y\":{\"field\":\"y\"}},\"id\":\"2018\",\"type\":\"Line\"},{\"attributes\":{},\"id\":\"2220\",\"type\":\"UnionRenderers\"},{\"attributes\":{\"data_source\":{\"id\":\"2016\",\"type\":\"ColumnDataSource\"},\"glyph\":{\"id\":\"2017\",\"type\":\"Line\"},\"hover_glyph\":null,\"muted_glyph\":null,\"nonselection_glyph\":{\"id\":\"2018\",\"type\":\"Line\"},\"selection_glyph\":null,\"view\":{\"id\":\"2020\",\"type\":\"CDSView\"}},\"id\":\"2019\",\"type\":\"GlyphRenderer\"},{\"attributes\":{},\"id\":\"2221\",\"type\":\"Selection\"},{\"attributes\":{\"source\":{\"id\":\"2016\",\"type\":\"ColumnDataSource\"}},\"id\":\"2020\",\"type\":\"CDSView\"},{\"attributes\":{},\"id\":\"2222\",\"type\":\"UnionRenderers\"},{\"attributes\":{\"callback\":null,\"data\":{\"x\":[1,2,7,21,59,166,464,1291,3593,10000],\"y\":{\"__ndarray__\":\"AACAJwMmYT8AAIBpKURjPwAAgA4112c/AACAaj2IdD8AACCi1R+GPwAAgDX3kps/AAB4R8jrsj8AAJ4IVFLIPwCANZq3FeE/AIDWbnSD9D8=\",\"dtype\":\"float64\",\"shape\":[10]}},\"selected\":{\"id\":\"2231\",\"type\":\"Selection\"},\"selection_policy\":{\"id\":\"2230\",\"type\":\"UnionRenderers\"}},\"id\":\"2021\",\"type\":\"ColumnDataSource\"},{\"attributes\":{},\"id\":\"2223\",\"type\":\"Selection\"},{\"attributes\":{\"line_alpha\":0.1,\"line_color\":\"#1f77b4\",\"line_width\":3,\"x\":{\"field\":\"x\"},\"y\":{\"field\":\"y\"}},\"id\":\"2022\",\"type\":\"Line\"},{\"attributes\":{},\"id\":\"2224\",\"type\":\"UnionRenderers\"},{\"attributes\":{\"line_alpha\":0.1,\"line_color\":\"#1f77b4\",\"line_width\":3,\"x\":{\"field\":\"x\"},\"y\":{\"field\":\"y\"}},\"id\":\"2023\",\"type\":\"Line\"},{\"attributes\":{},\"id\":\"2225\",\"type\":\"Selection\"},{\"attributes\":{\"data_source\":{\"id\":\"2021\",\"type\":\"ColumnDataSource\"},\"glyph\":{\"id\":\"2022\",\"type\":\"Line\"},\"hover_glyph\":null,\"muted_glyph\":null,\"nonselection_glyph\":{\"id\":\"2023\",\"type\":\"Line\"},\"selection_glyph\":null,\"view\":{\"id\":\"2025\",\"type\":\"CDSView\"}},\"id\":\"2024\",\"type\":\"GlyphRenderer\"},{\"attributes\":{},\"id\":\"2226\",\"type\":\"UnionRenderers\"},{\"attributes\":{\"source\":{\"id\":\"2021\",\"type\":\"ColumnDataSource\"}},\"id\":\"2025\",\"type\":\"CDSView\"},{\"attributes\":{},\"id\":\"2227\",\"type\":\"Selection\"},{\"attributes\":{\"callback\":null,\"data\":{\"x\":[1,2,7,21,59,166,464,1291,3593,10000],\"y\":{\"__ndarray__\":\"AAAANMKeYD8AAIBJuNJjPwAAAH2bY2g/AADAeFh4dD8AAMAFrVWFPwAAwFsZh5o/AABAjpLJsT8AAHaU7f3HPwCAMv92xuA/AABQjL9k9D8=\",\"dtype\":\"float64\",\"shape\":[10]}},\"selected\":{\"id\":\"2233\",\"type\":\"Selection\"},\"selection_policy\":{\"id\":\"2232\",\"type\":\"UnionRenderers\"}},\"id\":\"2026\",\"type\":\"ColumnDataSource\"},{\"attributes\":{},\"id\":\"2228\",\"type\":\"UnionRenderers\"},{\"attributes\":{\"line_alpha\":0.1,\"line_color\":\"#1f77b4\",\"line_width\":3,\"x\":{\"field\":\"x\"},\"y\":{\"field\":\"y\"}},\"id\":\"2027\",\"type\":\"Line\"},{\"attributes\":{},\"id\":\"2229\",\"type\":\"Selection\"},{\"attributes\":{\"line_alpha\":0.1,\"line_color\":\"#1f77b4\",\"line_width\":3,\"x\":{\"field\":\"x\"},\"y\":{\"field\":\"y\"}},\"id\":\"2028\",\"type\":\"Line\"},{\"attributes\":{},\"id\":\"2230\",\"type\":\"UnionRenderers\"},{\"attributes\":{\"data_source\":{\"id\":\"2026\",\"type\":\"ColumnDataSource\"},\"glyph\":{\"id\":\"2027\",\"type\":\"Line\"},\"hover_glyph\":null,\"muted_glyph\":null,\"nonselection_glyph\":{\"id\":\"2028\",\"type\":\"Line\"},\"selection_glyph\":null,\"view\":{\"id\":\"2030\",\"type\":\"CDSView\"}},\"id\":\"2029\",\"type\":\"GlyphRenderer\"},{\"attributes\":{},\"id\":\"2231\",\"type\":\"Selection\"},{\"attributes\":{\"source\":{\"id\":\"2026\",\"type\":\"ColumnDataSource\"}},\"id\":\"2030\",\"type\":\"CDSView\"},{\"attributes\":{},\"id\":\"2232\",\"type\":\"UnionRenderers\"},{\"attributes\":{\"callback\":null,\"data\":{\"x\":[1,2,7,21,59,166,464,1291,3593,10000],\"y\":{\"__ndarray__\":\"AACAqBibYT8AAAAcCe1iPwAAAFtdRGc/AABAKejQcz8AAADStcSEPwAAwL7oiJo/AABM/TRvsT8AAKBerMzHPwAAoxfjo+A/AMDVddM29D8=\",\"dtype\":\"float64\",\"shape\":[10]}},\"selected\":{\"id\":\"2235\",\"type\":\"Selection\"},\"selection_policy\":{\"id\":\"2234\",\"type\":\"UnionRenderers\"}},\"id\":\"2031\",\"type\":\"ColumnDataSource\"},{\"attributes\":{},\"id\":\"2233\",\"type\":\"Selection\"},{\"attributes\":{\"line_alpha\":0.1,\"line_color\":\"#1f77b4\",\"line_width\":3,\"x\":{\"field\":\"x\"},\"y\":{\"field\":\"y\"}},\"id\":\"2032\",\"type\":\"Line\"},{\"attributes\":{},\"id\":\"2234\",\"type\":\"UnionRenderers\"},{\"attributes\":{\"line_alpha\":0.1,\"line_color\":\"#1f77b4\",\"line_width\":3,\"x\":{\"field\":\"x\"},\"y\":{\"field\":\"y\"}},\"id\":\"2033\",\"type\":\"Line\"},{\"attributes\":{},\"id\":\"2235\",\"type\":\"Selection\"},{\"attributes\":{\"data_source\":{\"id\":\"2031\",\"type\":\"ColumnDataSource\"},\"glyph\":{\"id\":\"2032\",\"type\":\"Line\"},\"hover_glyph\":null,\"muted_glyph\":null,\"nonselection_glyph\":{\"id\":\"2033\",\"type\":\"Line\"},\"selection_glyph\":null,\"view\":{\"id\":\"2035\",\"type\":\"CDSView\"}},\"id\":\"2034\",\"type\":\"GlyphRenderer\"},{\"attributes\":{},\"id\":\"2236\",\"type\":\"UnionRenderers\"},{\"attributes\":{\"source\":{\"id\":\"2031\",\"type\":\"ColumnDataSource\"}},\"id\":\"2035\",\"type\":\"CDSView\"},{\"attributes\":{},\"id\":\"2237\",\"type\":\"Selection\"},{\"attributes\":{\"callback\":null,\"data\":{\"x\":[1,2,7,21,59,166,464,1291,3593,10000],\"y\":{\"__ndarray__\":\"AACAmskHYj8AAIAtE/xhPwAAAAoJJWc/AAAAKjbccz8AACD/KP6EPwAAoJmwW5o/AAA8/fowsT8AAM6gQY3HPwAAEfmtNOA/AIC9IjwV9D8=\",\"dtype\":\"float64\",\"shape\":[10]}},\"selected\":{\"id\":\"2237\",\"type\":\"Selection\"},\"selection_policy\":{\"id\":\"2236\",\"type\":\"UnionRenderers\"}},\"id\":\"2036\",\"type\":\"ColumnDataSource\"},{\"attributes\":{},\"id\":\"2238\",\"type\":\"UnionRenderers\"},{\"attributes\":{\"line_alpha\":0.1,\"line_color\":\"#1f77b4\",\"line_width\":3,\"x\":{\"field\":\"x\"},\"y\":{\"field\":\"y\"}},\"id\":\"2037\",\"type\":\"Line\"},{\"attributes\":{},\"id\":\"2239\",\"type\":\"Selection\"},{\"attributes\":{\"line_alpha\":0.1,\"line_color\":\"#1f77b4\",\"line_width\":3,\"x\":{\"field\":\"x\"},\"y\":{\"field\":\"y\"}},\"id\":\"2038\",\"type\":\"Line\"},{\"attributes\":{},\"id\":\"2240\",\"type\":\"UnionRenderers\"},{\"attributes\":{\"data_source\":{\"id\":\"2036\",\"type\":\"ColumnDataSource\"},\"glyph\":{\"id\":\"2037\",\"type\":\"Line\"},\"hover_glyph\":null,\"muted_glyph\":null,\"nonselection_glyph\":{\"id\":\"2038\",\"type\":\"Line\"},\"selection_glyph\":null,\"view\":{\"id\":\"2040\",\"type\":\"CDSView\"}},\"id\":\"2039\",\"type\":\"GlyphRenderer\"},{\"attributes\":{},\"id\":\"2241\",\"type\":\"Selection\"},{\"attributes\":{\"source\":{\"id\":\"2036\",\"type\":\"ColumnDataSource\"}},\"id\":\"2040\",\"type\":\"CDSView\"},{\"attributes\":{},\"id\":\"2242\",\"type\":\"UnionRenderers\"},{\"attributes\":{\"callback\":null,\"data\":{\"x\":[1,2,7,21,59,166,464,1291,3593,10000],\"y\":{\"__ndarray__\":\"AACAPEHcYT8AAIBJODRiPwAAAJIPJmc/AADAULO+cz8AAICW2AOFPwAAkMkgGZo/AABMfZBNsT8AAJIYp5vHPwCARPXRt+A/AICM7RNC9D8=\",\"dtype\":\"float64\",\"shape\":[10]}},\"selected\":{\"id\":\"2239\",\"type\":\"Selection\"},\"selection_policy\":{\"id\":\"2238\",\"type\":\"UnionRenderers\"}},\"id\":\"2041\",\"type\":\"ColumnDataSource\"},{\"attributes\":{},\"id\":\"2243\",\"type\":\"Selection\"},{\"attributes\":{\"line_alpha\":0.1,\"line_color\":\"#1f77b4\",\"line_width\":3,\"x\":{\"field\":\"x\"},\"y\":{\"field\":\"y\"}},\"id\":\"2042\",\"type\":\"Line\"},{\"attributes\":{},\"id\":\"2244\",\"type\":\"UnionRenderers\"},{\"attributes\":{\"line_alpha\":0.1,\"line_color\":\"#1f77b4\",\"line_width\":3,\"x\":{\"field\":\"x\"},\"y\":{\"field\":\"y\"}},\"id\":\"2043\",\"type\":\"Line\"},{\"attributes\":{},\"id\":\"2245\",\"type\":\"Selection\"},{\"attributes\":{\"data_source\":{\"id\":\"2041\",\"type\":\"ColumnDataSource\"},\"glyph\":{\"id\":\"2042\",\"type\":\"Line\"},\"hover_glyph\":null,\"muted_glyph\":null,\"nonselection_glyph\":{\"id\":\"2043\",\"type\":\"Line\"},\"selection_glyph\":null,\"view\":{\"id\":\"2045\",\"type\":\"CDSView\"}},\"id\":\"2044\",\"type\":\"GlyphRenderer\"},{\"attributes\":{},\"id\":\"2246\",\"type\":\"UnionRenderers\"},{\"attributes\":{\"source\":{\"id\":\"2041\",\"type\":\"ColumnDataSource\"}},\"id\":\"2045\",\"type\":\"CDSView\"},{\"attributes\":{},\"id\":\"2247\",\"type\":\"Selection\"},{\"attributes\":{\"callback\":null,\"data\":{\"x\":[1,2,7,21,59,166,464,1291,3593,10000],\"y\":{\"__ndarray__\":\"AACAdBzfYT8AAIC+PGdiPwAAADKtC2c/AABAtkLScz8AAKCDYhyFPwAA8MwuH5o/AADUuLBOsT8AAAwrDSPIPwCAILRJbuA/AAAByPw49D8=\",\"dtype\":\"float64\",\"shape\":[10]}},\"selected\":{\"id\":\"2241\",\"type\":\"Selection\"},\"selection_policy\":{\"id\":\"2240\",\"type\":\"UnionRenderers\"}},\"id\":\"2046\",\"type\":\"ColumnDataSource\"},{\"attributes\":{},\"id\":\"2248\",\"type\":\"UnionRenderers\"},{\"attributes\":{\"line_alpha\":0.1,\"line_color\":\"#1f77b4\",\"line_width\":3,\"x\":{\"field\":\"x\"},\"y\":{\"field\":\"y\"}},\"id\":\"2047\",\"type\":\"Line\"},{\"attributes\":{},\"id\":\"2249\",\"type\":\"Selection\"},{\"attributes\":{\"line_alpha\":0.1,\"line_color\":\"#1f77b4\",\"line_width\":3,\"x\":{\"field\":\"x\"},\"y\":{\"field\":\"y\"}},\"id\":\"2048\",\"type\":\"Line\"},{\"attributes\":{},\"id\":\"2250\",\"type\":\"UnionRenderers\"},{\"attributes\":{\"data_source\":{\"id\":\"2046\",\"type\":\"ColumnDataSource\"},\"glyph\":{\"id\":\"2047\",\"type\":\"Line\"},\"hover_glyph\":null,\"muted_glyph\":null,\"nonselection_glyph\":{\"id\":\"2048\",\"type\":\"Line\"},\"selection_glyph\":null,\"view\":{\"id\":\"2050\",\"type\":\"CDSView\"}},\"id\":\"2049\",\"type\":\"GlyphRenderer\"},{\"attributes\":{},\"id\":\"2251\",\"type\":\"Selection\"},{\"attributes\":{\"callback\":null,\"data\":{\"x\":[1,2,7,21,59,166,464,1291,3593,10000],\"y\":{\"__ndarray__\":\"AAAA6busYD8AAIAw9YtjPwAAgCqjQGg/AABA1A3Scz8AAKCf6haFPwAAoIQGU5o/AACg24+3sT8AAC4D0wvIPwCANUTdM+E/AMAV9BFK9D8=\",\"dtype\":\"float64\",\"shape\":[10]}},\"selected\":{\"id\":\"2199\",\"type\":\"Selection\"},\"selection_policy\":{\"id\":\"2198\",\"type\":\"UnionRenderers\"}},\"id\":\"1941\",\"type\":\"ColumnDataSource\"},{\"attributes\":{\"line_alpha\":0.1,\"line_color\":\"#1f77b4\",\"line_width\":3,\"x\":{\"field\":\"x\"},\"y\":{\"field\":\"y\"}},\"id\":\"1978\",\"type\":\"Line\"},{\"attributes\":{\"data_source\":{\"id\":\"1976\",\"type\":\"ColumnDataSource\"},\"glyph\":{\"id\":\"1977\",\"type\":\"Line\"},\"hover_glyph\":null,\"muted_glyph\":null,\"nonselection_glyph\":{\"id\":\"1978\",\"type\":\"Line\"},\"selection_glyph\":null,\"view\":{\"id\":\"1980\",\"type\":\"CDSView\"}},\"id\":\"1979\",\"type\":\"GlyphRenderer\"},{\"attributes\":{\"line_alpha\":0.1,\"line_color\":\"#1f77b4\",\"line_width\":3,\"x\":{\"field\":\"x\"},\"y\":{\"field\":\"y\"}},\"id\":\"1942\",\"type\":\"Line\"},{\"attributes\":{\"line_alpha\":0.1,\"line_color\":\"#1f77b4\",\"line_width\":3,\"x\":{\"field\":\"x\"},\"y\":{\"field\":\"y\"}},\"id\":\"1943\",\"type\":\"Line\"},{\"attributes\":{\"source\":{\"id\":\"1976\",\"type\":\"ColumnDataSource\"}},\"id\":\"1980\",\"type\":\"CDSView\"},{\"attributes\":{\"callback\":null},\"id\":\"1820\",\"type\":\"DataRange1d\"},{\"attributes\":{\"data_source\":{\"id\":\"1941\",\"type\":\"ColumnDataSource\"},\"glyph\":{\"id\":\"1942\",\"type\":\"Line\"},\"hover_glyph\":null,\"muted_glyph\":null,\"nonselection_glyph\":{\"id\":\"1943\",\"type\":\"Line\"},\"selection_glyph\":null,\"view\":{\"id\":\"1945\",\"type\":\"CDSView\"}},\"id\":\"1944\",\"type\":\"GlyphRenderer\"},{\"attributes\":{},\"id\":\"1827\",\"type\":\"BasicTicker\"},{\"attributes\":{\"callback\":null,\"data\":{\"x\":[1,2,7,21,59,166,464,1291,3593,10000],\"y\":{\"__ndarray__\":\"AAAA6JOEYD8AAAB+H49iPwAAAILDJ2c/AAAA8R3Pcz8AAGCZY1iFPwAA0OgViZo/AAAkfotvsT8AANh/AAbIPwCABq76ReA/AIBCeLmC9D8=\",\"dtype\":\"float64\",\"shape\":[10]}},\"selected\":{\"id\":\"2215\",\"type\":\"Selection\"},\"selection_policy\":{\"id\":\"2214\",\"type\":\"UnionRenderers\"}},\"id\":\"1981\",\"type\":\"ColumnDataSource\"},{\"attributes\":{\"line_alpha\":0.1,\"line_color\":\"#1f77b4\",\"line_width\":3,\"x\":{\"field\":\"x\"},\"y\":{\"field\":\"y\"}},\"id\":\"1858\",\"type\":\"Line\"},{\"attributes\":{\"source\":{\"id\":\"1941\",\"type\":\"ColumnDataSource\"}},\"id\":\"1945\",\"type\":\"CDSView\"},{\"attributes\":{\"line_alpha\":0.1,\"line_color\":\"#1f77b4\",\"line_width\":3,\"x\":{\"field\":\"x\"},\"y\":{\"field\":\"y\"}},\"id\":\"1982\",\"type\":\"Line\"},{\"attributes\":{\"callback\":null,\"data\":{\"x\":[1,2,7,21,59,166,464,1291,3593,10000],\"y\":{\"__ndarray__\":\"AACAA2/oYD8AAAAUaIxjPwAAAO8Bv2g/AAAA29pGdD8AAEAMnpCFPwAAsNF37Jo/AABcVNjNsT8AAFjTKnfIPwCAV577Q+A/AIA6UZFx9D8=\",\"dtype\":\"float64\",\"shape\":[10]}},\"selected\":{\"id\":\"2201\",\"type\":\"Selection\"},\"selection_policy\":{\"id\":\"2200\",\"type\":\"UnionRenderers\"}},\"id\":\"1946\",\"type\":\"ColumnDataSource\"},{\"attributes\":{\"line_alpha\":0.1,\"line_color\":\"#1f77b4\",\"line_width\":3,\"x\":{\"field\":\"x\"},\"y\":{\"field\":\"y\"}},\"id\":\"1983\",\"type\":\"Line\"},{\"attributes\":{\"line_alpha\":0.1,\"line_color\":\"#1f77b4\",\"line_width\":3,\"x\":{\"field\":\"x\"},\"y\":{\"field\":\"y\"}},\"id\":\"1857\",\"type\":\"Line\"},{\"attributes\":{\"data_source\":{\"id\":\"1981\",\"type\":\"ColumnDataSource\"},\"glyph\":{\"id\":\"1982\",\"type\":\"Line\"},\"hover_glyph\":null,\"muted_glyph\":null,\"nonselection_glyph\":{\"id\":\"1983\",\"type\":\"Line\"},\"selection_glyph\":null,\"view\":{\"id\":\"1985\",\"type\":\"CDSView\"}},\"id\":\"1984\",\"type\":\"GlyphRenderer\"},{\"attributes\":{\"callback\":null,\"data\":{\"x\":[1,2,7,21,59,166,464,1291,3593,10000],\"y\":{\"__ndarray__\":\"AAAA6vaZYD8AAIA4AB1hPwAAgLwA8WY/AABAo4Lrcz8AAAA41LqEPwAAAFfUKJo/AAAI0rHCsT8AAIKDdDPIPwAAqkEclOA/AAAGx0EO9T8=\",\"dtype\":\"float64\",\"shape\":[10]}},\"selected\":{\"id\":\"2165\",\"type\":\"Selection\"},\"selection_policy\":{\"id\":\"2164\",\"type\":\"UnionRenderers\"}},\"id\":\"1856\",\"type\":\"ColumnDataSource\"},{\"attributes\":{\"line_alpha\":0.1,\"line_color\":\"#1f77b4\",\"line_width\":3,\"x\":{\"field\":\"x\"},\"y\":{\"field\":\"y\"}},\"id\":\"1947\",\"type\":\"Line\"},{\"attributes\":{\"source\":{\"id\":\"1851\",\"type\":\"ColumnDataSource\"}},\"id\":\"1855\",\"type\":\"CDSView\"},{\"attributes\":{\"line_alpha\":0.1,\"line_color\":\"#1f77b4\",\"line_width\":3,\"x\":{\"field\":\"x\"},\"y\":{\"field\":\"y\"}},\"id\":\"1948\",\"type\":\"Line\"},{\"attributes\":{\"source\":{\"id\":\"1981\",\"type\":\"ColumnDataSource\"}},\"id\":\"1985\",\"type\":\"CDSView\"},{\"attributes\":{\"data_source\":{\"id\":\"1946\",\"type\":\"ColumnDataSource\"},\"glyph\":{\"id\":\"1947\",\"type\":\"Line\"},\"hover_glyph\":null,\"muted_glyph\":null,\"nonselection_glyph\":{\"id\":\"1948\",\"type\":\"Line\"},\"selection_glyph\":null,\"view\":{\"id\":\"1950\",\"type\":\"CDSView\"}},\"id\":\"1949\",\"type\":\"GlyphRenderer\"},{\"attributes\":{\"callback\":null,\"data\":{\"x\":[1,2,7,21,59,166,464,1291,3593,10000],\"y\":{\"__ndarray__\":\"AACA0vfvYT8AAADDDWpiPwAAgCBe/WY/AADAOwqvcz8AAAC+FPiEPwAAgFH+WJo/AAC0A9xjsT8AAEiyG/HIPwAAGRT2AuE/AMDCCn159D8=\",\"dtype\":\"float64\",\"shape\":[10]}},\"selected\":{\"id\":\"2217\",\"type\":\"Selection\"},\"selection_policy\":{\"id\":\"2216\",\"type\":\"UnionRenderers\"}},\"id\":\"1986\",\"type\":\"ColumnDataSource\"},{\"attributes\":{\"source\":{\"id\":\"1946\",\"type\":\"ColumnDataSource\"}},\"id\":\"1950\",\"type\":\"CDSView\"},{\"attributes\":{\"line_alpha\":0.1,\"line_color\":\"#1f77b4\",\"line_width\":3,\"x\":{\"field\":\"x\"},\"y\":{\"field\":\"y\"}},\"id\":\"1987\",\"type\":\"Line\"},{\"attributes\":{\"data_source\":{\"id\":\"1851\",\"type\":\"ColumnDataSource\"},\"glyph\":{\"id\":\"1852\",\"type\":\"Line\"},\"hover_glyph\":null,\"muted_glyph\":null,\"nonselection_glyph\":{\"id\":\"1853\",\"type\":\"Line\"},\"selection_glyph\":null,\"view\":{\"id\":\"1855\",\"type\":\"CDSView\"}},\"id\":\"1854\",\"type\":\"GlyphRenderer\"},{\"attributes\":{},\"id\":\"1824\",\"type\":\"LinearScale\"},{\"attributes\":{\"callback\":null,\"data\":{\"x\":[1,2,7,21,59,166,464,1291,3593,10000],\"y\":{\"__ndarray__\":\"AACAbsiuYD8AAIC9JMtiPwAAAENVK2c/AADAWbvHcz8AAABip/+EPwAAoNVsX5o/AADcVHXAsT8AABR8bdLHPwCAdGCUi+A/AEDksdtZ9D8=\",\"dtype\":\"float64\",\"shape\":[10]}},\"selected\":{\"id\":\"2203\",\"type\":\"Selection\"},\"selection_policy\":{\"id\":\"2202\",\"type\":\"UnionRenderers\"}},\"id\":\"1951\",\"type\":\"ColumnDataSource\"},{\"attributes\":{\"line_alpha\":0.1,\"line_color\":\"#1f77b4\",\"line_width\":3,\"x\":{\"field\":\"x\"},\"y\":{\"field\":\"y\"}},\"id\":\"1988\",\"type\":\"Line\"},{\"attributes\":{\"data_source\":{\"id\":\"1986\",\"type\":\"ColumnDataSource\"},\"glyph\":{\"id\":\"1987\",\"type\":\"Line\"},\"hover_glyph\":null,\"muted_glyph\":null,\"nonselection_glyph\":{\"id\":\"1988\",\"type\":\"Line\"},\"selection_glyph\":null,\"view\":{\"id\":\"1990\",\"type\":\"CDSView\"}},\"id\":\"1989\",\"type\":\"GlyphRenderer\"},{\"attributes\":{\"line_alpha\":0.1,\"line_color\":\"#1f77b4\",\"line_width\":3,\"x\":{\"field\":\"x\"},\"y\":{\"field\":\"y\"}},\"id\":\"1952\",\"type\":\"Line\"},{\"attributes\":{},\"id\":\"1822\",\"type\":\"LinearScale\"},{\"attributes\":{\"axis_label\":\"Dataset Size\",\"axis_label_text_font_size\":{\"value\":\"16pt\"},\"formatter\":{\"id\":\"2160\",\"type\":\"BasicTickFormatter\"},\"major_label_text_font_size\":{\"value\":\"16pt\"},\"plot\":{\"id\":\"1817\",\"subtype\":\"Figure\",\"type\":\"Plot\"},\"ticker\":{\"id\":\"1827\",\"type\":\"BasicTicker\"}},\"id\":\"1826\",\"type\":\"LinearAxis\"},{\"attributes\":{\"line_alpha\":0.1,\"line_color\":\"#1f77b4\",\"line_width\":3,\"x\":{\"field\":\"x\"},\"y\":{\"field\":\"y\"}},\"id\":\"1953\",\"type\":\"Line\"},{\"attributes\":{\"source\":{\"id\":\"1986\",\"type\":\"ColumnDataSource\"}},\"id\":\"1990\",\"type\":\"CDSView\"},{\"attributes\":{\"callback\":null,\"data\":{\"x\":[1,2,7,21,59,166,464,1291,3593,10000],\"y\":{\"__ndarray__\":\"AACA+G4CYj8AAID8QfdhPwAAgD4os2c/AADADATqdT8AAOCSgduFPwAAAPvkZZs/AACwdE1nsj8AAPo39WLIPwAAz7hhleA/AAA//fDm9D8=\",\"dtype\":\"float64\",\"shape\":[10]}},\"selected\":{\"id\":\"2163\",\"type\":\"Selection\"},\"selection_policy\":{\"id\":\"2162\",\"type\":\"UnionRenderers\"}},\"id\":\"1851\",\"type\":\"ColumnDataSource\"},{\"attributes\":{\"data_source\":{\"id\":\"1951\",\"type\":\"ColumnDataSource\"},\"glyph\":{\"id\":\"1952\",\"type\":\"Line\"},\"hover_glyph\":null,\"muted_glyph\":null,\"nonselection_glyph\":{\"id\":\"1953\",\"type\":\"Line\"},\"selection_glyph\":null,\"view\":{\"id\":\"1955\",\"type\":\"CDSView\"}},\"id\":\"1954\",\"type\":\"GlyphRenderer\"},{\"attributes\":{\"callback\":null,\"data\":{\"x\":[1,2,7,21,59,166,464,1291,3593,10000],\"y\":{\"__ndarray__\":\"AACAF9a9YD8AAIC5jWZiPwAAgOkfCmc/AACA9UTNcz8AACBGxSiFPwAAwEO0ypo/AAAkDUNrsT8AAFwshJbHPwAA7gCtK+A/AICHvtxz9D8=\",\"dtype\":\"float64\",\"shape\":[10]}},\"selected\":{\"id\":\"2219\",\"type\":\"Selection\"},\"selection_policy\":{\"id\":\"2218\",\"type\":\"UnionRenderers\"}},\"id\":\"1991\",\"type\":\"ColumnDataSource\"},{\"attributes\":{\"source\":{\"id\":\"1951\",\"type\":\"ColumnDataSource\"}},\"id\":\"1955\",\"type\":\"CDSView\"},{\"attributes\":{\"line_alpha\":0.1,\"line_color\":\"#1f77b4\",\"line_width\":3,\"x\":{\"field\":\"x\"},\"y\":{\"field\":\"y\"}},\"id\":\"1992\",\"type\":\"Line\"},{\"attributes\":{\"callback\":null,\"data\":{\"x\":[1,2,7,21,59,166,464,1291,3593,10000],\"y\":{\"__ndarray__\":\"AACAImabYD8AAIBxDt5kPwAAAKcFUGg/AAAAJVDMcz8AAICTKzGFPwAAgJO1bJo/AADcNxWusT8AAFQ1uCLIPwCA27aPX+A/AIAE+Mfb9D8=\",\"dtype\":\"float64\",\"shape\":[10]}},\"selected\":{\"id\":\"2205\",\"type\":\"Selection\"},\"selection_policy\":{\"id\":\"2204\",\"type\":\"UnionRenderers\"}},\"id\":\"1956\",\"type\":\"ColumnDataSource\"},{\"attributes\":{\"line_alpha\":0.1,\"line_color\":\"#1f77b4\",\"line_width\":3,\"x\":{\"field\":\"x\"},\"y\":{\"field\":\"y\"}},\"id\":\"1993\",\"type\":\"Line\"},{\"attributes\":{\"callback\":null},\"id\":\"1818\",\"type\":\"DataRange1d\"},{\"attributes\":{\"data_source\":{\"id\":\"1991\",\"type\":\"ColumnDataSource\"},\"glyph\":{\"id\":\"1992\",\"type\":\"Line\"},\"hover_glyph\":null,\"muted_glyph\":null,\"nonselection_glyph\":{\"id\":\"1993\",\"type\":\"Line\"},\"selection_glyph\":null,\"view\":{\"id\":\"1995\",\"type\":\"CDSView\"}},\"id\":\"1994\",\"type\":\"GlyphRenderer\"},{\"attributes\":{\"line_alpha\":0.1,\"line_color\":\"#1f77b4\",\"line_width\":3,\"x\":{\"field\":\"x\"},\"y\":{\"field\":\"y\"}},\"id\":\"1957\",\"type\":\"Line\"},{\"attributes\":{\"line_alpha\":0.1,\"line_color\":\"#1f77b4\",\"line_width\":3,\"x\":{\"field\":\"x\"},\"y\":{\"field\":\"y\"}},\"id\":\"1958\",\"type\":\"Line\"},{\"attributes\":{\"source\":{\"id\":\"1991\",\"type\":\"ColumnDataSource\"}},\"id\":\"1995\",\"type\":\"CDSView\"},{\"attributes\":{\"data_source\":{\"id\":\"1956\",\"type\":\"ColumnDataSource\"},\"glyph\":{\"id\":\"1957\",\"type\":\"Line\"},\"hover_glyph\":null,\"muted_glyph\":null,\"nonselection_glyph\":{\"id\":\"1958\",\"type\":\"Line\"},\"selection_glyph\":null,\"view\":{\"id\":\"1960\",\"type\":\"CDSView\"}},\"id\":\"1959\",\"type\":\"GlyphRenderer\"},{\"attributes\":{\"callback\":null,\"data\":{\"x\":[1,2,7,21,59,166,464,1291,3593,10000],\"y\":{\"__ndarray__\":\"AAAAMsrnYD8AAIBzzDpiPwAAAN4bE2c/AACAcPrEcz8AAMDHngWFPwAAUASEJZo/AAB4bwyBsT8AAI71BZvHPwCAMdyfbOA/AMDpm/zS9D8=\",\"dtype\":\"float64\",\"shape\":[10]}},\"selected\":{\"id\":\"2221\",\"type\":\"Selection\"},\"selection_policy\":{\"id\":\"2220\",\"type\":\"UnionRenderers\"}},\"id\":\"1996\",\"type\":\"ColumnDataSource\"},{\"attributes\":{\"callback\":null,\"data\":{\"x\":[1,2,7,21,59,166,464,1291,3593,10000],\"y\":{\"__ndarray__\":\"AACAPrbmYD8AAADHfaFjPwAAAF7+Zmk/AAAAUZi4dD8AAIB0pkCGPwAA8NVRf5w/AACwn7tgsj8AAD510hnJPwAAyJYsUeE/AABMO9fV9D8=\",\"dtype\":\"float64\",\"shape\":[10]}},\"selected\":{\"id\":\"2207\",\"type\":\"Selection\"},\"selection_policy\":{\"id\":\"2206\",\"type\":\"UnionRenderers\"}},\"id\":\"1961\",\"type\":\"ColumnDataSource\"},{\"attributes\":{\"line_alpha\":0.1,\"line_color\":\"#1f77b4\",\"line_width\":3,\"x\":{\"field\":\"x\"},\"y\":{\"field\":\"y\"}},\"id\":\"1997\",\"type\":\"Line\"},{\"attributes\":{\"line_alpha\":0.1,\"line_color\":\"#1f77b4\",\"line_width\":3,\"x\":{\"field\":\"x\"},\"y\":{\"field\":\"y\"}},\"id\":\"1962\",\"type\":\"Line\"},{\"attributes\":{\"line_alpha\":0.1,\"line_color\":\"#1f77b4\",\"line_width\":3,\"x\":{\"field\":\"x\"},\"y\":{\"field\":\"y\"}},\"id\":\"1998\",\"type\":\"Line\"},{\"attributes\":{\"data_source\":{\"id\":\"1996\",\"type\":\"ColumnDataSource\"},\"glyph\":{\"id\":\"1997\",\"type\":\"Line\"},\"hover_glyph\":null,\"muted_glyph\":null,\"nonselection_glyph\":{\"id\":\"1998\",\"type\":\"Line\"},\"selection_glyph\":null,\"view\":{\"id\":\"2000\",\"type\":\"CDSView\"}},\"id\":\"1999\",\"type\":\"GlyphRenderer\"},{\"attributes\":{\"line_alpha\":0.1,\"line_color\":\"#1f77b4\",\"line_width\":3,\"x\":{\"field\":\"x\"},\"y\":{\"field\":\"y\"}},\"id\":\"1963\",\"type\":\"Line\"},{\"attributes\":{\"data_source\":{\"id\":\"1961\",\"type\":\"ColumnDataSource\"},\"glyph\":{\"id\":\"1962\",\"type\":\"Line\"},\"hover_glyph\":null,\"muted_glyph\":null,\"nonselection_glyph\":{\"id\":\"1963\",\"type\":\"Line\"},\"selection_glyph\":null,\"view\":{\"id\":\"1965\",\"type\":\"CDSView\"}},\"id\":\"1964\",\"type\":\"GlyphRenderer\"},{\"attributes\":{\"source\":{\"id\":\"1996\",\"type\":\"ColumnDataSource\"}},\"id\":\"2000\",\"type\":\"CDSView\"},{\"attributes\":{\"source\":{\"id\":\"1961\",\"type\":\"ColumnDataSource\"}},\"id\":\"1965\",\"type\":\"CDSView\"},{\"attributes\":{\"callback\":null,\"data\":{\"x\":[1,2,7,21,59,166,464,1291,3593,10000],\"y\":{\"__ndarray__\":\"AACAeJdvYz8AAIB0HjFkPwAAgEgCmGg/AADAy5ScdD8AAMAWeBeFPwAA4OIX55o/AABUOiMNsz8AAHQoQ9XIPwCAI5w3auE/AMBod57x9D8=\",\"dtype\":\"float64\",\"shape\":[10]}},\"selected\":{\"id\":\"2223\",\"type\":\"Selection\"},\"selection_policy\":{\"id\":\"2222\",\"type\":\"UnionRenderers\"}},\"id\":\"2001\",\"type\":\"ColumnDataSource\"},{\"attributes\":{\"callback\":null,\"data\":{\"x\":[1,2,7,21,59,166,464,1291,3593,10000],\"y\":{\"__ndarray__\":\"AACAZrKRYT8AAABRhoRhPwAAAL+4CGc/AABALqixdT8AAODwmm6FPwAAAPvZPJo/AABcSo6isT8AAGQq1EXIPwAA5M2T6+A/AMDv4k5w9D8=\",\"dtype\":\"float64\",\"shape\":[10]}},\"selected\":{\"id\":\"2209\",\"type\":\"Selection\"},\"selection_policy\":{\"id\":\"2208\",\"type\":\"UnionRenderers\"}},\"id\":\"1966\",\"type\":\"ColumnDataSource\"},{\"attributes\":{\"line_alpha\":0.1,\"line_color\":\"#1f77b4\",\"line_width\":3,\"x\":{\"field\":\"x\"},\"y\":{\"field\":\"y\"}},\"id\":\"2002\",\"type\":\"Line\"},{\"attributes\":{\"line_alpha\":0.1,\"line_color\":\"#1f77b4\",\"line_width\":3,\"x\":{\"field\":\"x\"},\"y\":{\"field\":\"y\"}},\"id\":\"1967\",\"type\":\"Line\"},{\"attributes\":{\"line_alpha\":0.1,\"line_color\":\"#1f77b4\",\"line_width\":3,\"x\":{\"field\":\"x\"},\"y\":{\"field\":\"y\"}},\"id\":\"2003\",\"type\":\"Line\"},{\"attributes\":{\"data_source\":{\"id\":\"2001\",\"type\":\"ColumnDataSource\"},\"glyph\":{\"id\":\"2002\",\"type\":\"Line\"},\"hover_glyph\":null,\"muted_glyph\":null,\"nonselection_glyph\":{\"id\":\"2003\",\"type\":\"Line\"},\"selection_glyph\":null,\"view\":{\"id\":\"2005\",\"type\":\"CDSView\"}},\"id\":\"2004\",\"type\":\"GlyphRenderer\"},{\"attributes\":{\"line_alpha\":0.1,\"line_color\":\"#1f77b4\",\"line_width\":3,\"x\":{\"field\":\"x\"},\"y\":{\"field\":\"y\"}},\"id\":\"1968\",\"type\":\"Line\"},{\"attributes\":{\"data_source\":{\"id\":\"1966\",\"type\":\"ColumnDataSource\"},\"glyph\":{\"id\":\"1967\",\"type\":\"Line\"},\"hover_glyph\":null,\"muted_glyph\":null,\"nonselection_glyph\":{\"id\":\"1968\",\"type\":\"Line\"},\"selection_glyph\":null,\"view\":{\"id\":\"1970\",\"type\":\"CDSView\"}},\"id\":\"1969\",\"type\":\"GlyphRenderer\"},{\"attributes\":{\"source\":{\"id\":\"2001\",\"type\":\"ColumnDataSource\"}},\"id\":\"2005\",\"type\":\"CDSView\"},{\"attributes\":{\"source\":{\"id\":\"1966\",\"type\":\"ColumnDataSource\"}},\"id\":\"1970\",\"type\":\"CDSView\"},{\"attributes\":{\"callback\":null,\"data\":{\"x\":[1,2,7,21,59,166,464,1291,3593,10000],\"y\":{\"__ndarray__\":\"AACA633OYD8AAIBNQZViPwAAgH3dQmc/AADAAW3ldD8AAIBOeZWFPwAAMGQ9bps/AACInzoBsj8AAESZvOrIPwCAKYaI9OA/AIBfgpcc9T8=\",\"dtype\":\"float64\",\"shape\":[10]}},\"selected\":{\"id\":\"2225\",\"type\":\"Selection\"},\"selection_policy\":{\"id\":\"2224\",\"type\":\"UnionRenderers\"}},\"id\":\"2006\",\"type\":\"ColumnDataSource\"},{\"attributes\":{\"callback\":null,\"data\":{\"x\":[1,2,7,21,59,166,464,1291,3593,10000],\"y\":{\"__ndarray__\":\"AAAAe1bwYD8AAACrBn1jPwAAAImuQ2k/AADAOMrqcz8AAADcuAeFPwAAgFuOj5o/AAB8lyzQsT8AABw/mDfIPwCALCcOYeA/AAB4Kgsv9D8=\",\"dtype\":\"float64\",\"shape\":[10]}},\"selected\":{\"id\":\"2211\",\"type\":\"Selection\"},\"selection_policy\":{\"id\":\"2210\",\"type\":\"UnionRenderers\"}},\"id\":\"1971\",\"type\":\"ColumnDataSource\"},{\"attributes\":{\"line_alpha\":0.1,\"line_color\":\"#1f77b4\",\"line_width\":3,\"x\":{\"field\":\"x\"},\"y\":{\"field\":\"y\"}},\"id\":\"2007\",\"type\":\"Line\"},{\"attributes\":{\"line_alpha\":0.1,\"line_color\":\"#1f77b4\",\"line_width\":3,\"x\":{\"field\":\"x\"},\"y\":{\"field\":\"y\"}},\"id\":\"1972\",\"type\":\"Line\"},{\"attributes\":{\"line_alpha\":0.1,\"line_color\":\"#1f77b4\",\"line_width\":3,\"x\":{\"field\":\"x\"},\"y\":{\"field\":\"y\"}},\"id\":\"2008\",\"type\":\"Line\"},{\"attributes\":{\"data_source\":{\"id\":\"2006\",\"type\":\"ColumnDataSource\"},\"glyph\":{\"id\":\"2007\",\"type\":\"Line\"},\"hover_glyph\":null,\"muted_glyph\":null,\"nonselection_glyph\":{\"id\":\"2008\",\"type\":\"Line\"},\"selection_glyph\":null,\"view\":{\"id\":\"2010\",\"type\":\"CDSView\"}},\"id\":\"2009\",\"type\":\"GlyphRenderer\"},{\"attributes\":{\"line_alpha\":0.1,\"line_color\":\"#1f77b4\",\"line_width\":3,\"x\":{\"field\":\"x\"},\"y\":{\"field\":\"y\"}},\"id\":\"1973\",\"type\":\"Line\"},{\"attributes\":{\"data_source\":{\"id\":\"1971\",\"type\":\"ColumnDataSource\"},\"glyph\":{\"id\":\"1972\",\"type\":\"Line\"},\"hover_glyph\":null,\"muted_glyph\":null,\"nonselection_glyph\":{\"id\":\"1973\",\"type\":\"Line\"},\"selection_glyph\":null,\"view\":{\"id\":\"1975\",\"type\":\"CDSView\"}},\"id\":\"1974\",\"type\":\"GlyphRenderer\"},{\"attributes\":{\"source\":{\"id\":\"2006\",\"type\":\"ColumnDataSource\"}},\"id\":\"2010\",\"type\":\"CDSView\"},{\"attributes\":{\"source\":{\"id\":\"1971\",\"type\":\"ColumnDataSource\"}},\"id\":\"1975\",\"type\":\"CDSView\"},{\"attributes\":{\"callback\":null,\"data\":{\"x\":[1,2,7,21,59,166,464,1291,3593,10000],\"y\":{\"__ndarray__\":\"AAAAeMH+YD8AAABcN3VjPwAAgD3o8Gg/AADAN89IdD8AAKD7DISFPwAAcFIxXps/AAD03s+rsT8AAPpfrgXJPwCAzgxSOOE/AAAjlJZA9T8=\",\"dtype\":\"float64\",\"shape\":[10]}},\"selected\":{\"id\":\"2227\",\"type\":\"Selection\"},\"selection_policy\":{\"id\":\"2226\",\"type\":\"UnionRenderers\"}},\"id\":\"2011\",\"type\":\"ColumnDataSource\"},{\"attributes\":{\"callback\":null,\"data\":{\"x\":[1,2,7,21,59,166,464,1291,3593,10000],\"y\":{\"__ndarray__\":\"AAAAPjSJYD8AAIAkMbVjPwAAAM/oMmg/AABA9B3Jcz8AAACASw+FPwAAcN8PUZo/AADENkQ9sT8AAAJScrnHPwAA+n9oNeA/AABgZdxA9D8=\",\"dtype\":\"float64\",\"shape\":[10]}},\"selected\":{\"id\":\"2213\",\"type\":\"Selection\"},\"selection_policy\":{\"id\":\"2212\",\"type\":\"UnionRenderers\"}},\"id\":\"1976\",\"type\":\"ColumnDataSource\"},{\"attributes\":{\"line_alpha\":0.1,\"line_color\":\"#1f77b4\",\"line_width\":3,\"x\":{\"field\":\"x\"},\"y\":{\"field\":\"y\"}},\"id\":\"2012\",\"type\":\"Line\"},{\"attributes\":{\"line_alpha\":0.1,\"line_color\":\"#1f77b4\",\"line_width\":3,\"x\":{\"field\":\"x\"},\"y\":{\"field\":\"y\"}},\"id\":\"1977\",\"type\":\"Line\"},{\"attributes\":{\"line_alpha\":0.1,\"line_color\":\"#1f77b4\",\"line_width\":3,\"x\":{\"field\":\"x\"},\"y\":{\"field\":\"y\"}},\"id\":\"2013\",\"type\":\"Line\"},{\"attributes\":{\"line_alpha\":0.1,\"line_color\":\"#1f77b4\",\"line_width\":3,\"x\":{\"field\":\"x\"},\"y\":{\"field\":\"y\"}},\"id\":\"1907\",\"type\":\"Line\"},{\"attributes\":{\"line_alpha\":0.1,\"line_color\":\"#1f77b4\",\"line_width\":3,\"x\":{\"field\":\"x\"},\"y\":{\"field\":\"y\"}},\"id\":\"1908\",\"type\":\"Line\"},{\"attributes\":{\"callback\":null,\"data\":{\"x\":[1,2,7,21,59,166,464,1291,3593,10000],\"y\":{\"__ndarray__\":\"AAAADaN5YD8AAABfUnViPwAAAJYgHmc/AABAcZLPcz8AAOCvcRmFPwAAcIAUk5o/AADAhxCssT8AAGbkaxDIPwCAc/bdo+A/AEDtbFjr9D8=\",\"dtype\":\"float64\",\"shape\":[10]}},\"selected\":{\"id\":\"2185\",\"type\":\"Selection\"},\"selection_policy\":{\"id\":\"2184\",\"type\":\"UnionRenderers\"}},\"id\":\"1906\",\"type\":\"ColumnDataSource\"},{\"attributes\":{\"data_source\":{\"id\":\"1906\",\"type\":\"ColumnDataSource\"},\"glyph\":{\"id\":\"1907\",\"type\":\"Line\"},\"hover_glyph\":null,\"muted_glyph\":null,\"nonselection_glyph\":{\"id\":\"1908\",\"type\":\"Line\"},\"selection_glyph\":null,\"view\":{\"id\":\"1910\",\"type\":\"CDSView\"}},\"id\":\"1909\",\"type\":\"GlyphRenderer\"},{\"attributes\":{\"source\":{\"id\":\"1906\",\"type\":\"ColumnDataSource\"}},\"id\":\"1910\",\"type\":\"CDSView\"},{\"attributes\":{\"callback\":null,\"data\":{\"x\":[1,2,7,21,59,166,464,1291,3593,10000],\"y\":{\"__ndarray__\":\"AAAA3xG6YD8AAIBQVatjPwAAAJk3y2g/AADA0a0odD8AAKARcRWFPwAAgCb2m5o/AADg8swJsz8AAFTs4evIPwCASG1eLOE/AMBMx7Xc9D8=\",\"dtype\":\"float64\",\"shape\":[10]}},\"selected\":{\"id\":\"2187\",\"type\":\"Selection\"},\"selection_policy\":{\"id\":\"2186\",\"type\":\"UnionRenderers\"}},\"id\":\"1911\",\"type\":\"ColumnDataSource\"},{\"attributes\":{\"line_alpha\":0.1,\"line_color\":\"#1f77b4\",\"line_width\":3,\"x\":{\"field\":\"x\"},\"y\":{\"field\":\"y\"}},\"id\":\"1912\",\"type\":\"Line\"},{\"attributes\":{\"line_alpha\":0.1,\"line_color\":\"#1f77b4\",\"line_width\":3,\"x\":{\"field\":\"x\"},\"y\":{\"field\":\"y\"}},\"id\":\"1913\",\"type\":\"Line\"},{\"attributes\":{\"callback\":null,\"data\":{\"x\":[1,2,7,21,59,166,464,1291,3593,10000],\"y\":{\"__ndarray__\":\"AAAAzl4OXz8AAIDGJf5gPwAAgASa7mY/AABAyVRPcz8AAICIroCEPwAAsEofQ5o/AADAQY9ZsT8AAJDCgJvHPwCAJXAMbeA/AIBZNBmV9D8=\",\"dtype\":\"float64\",\"shape\":[10]}},\"selected\":{\"id\":\"2177\",\"type\":\"Selection\"},\"selection_policy\":{\"id\":\"2176\",\"type\":\"UnionRenderers\"}},\"id\":\"1886\",\"type\":\"ColumnDataSource\"},{\"attributes\":{\"data_source\":{\"id\":\"1911\",\"type\":\"ColumnDataSource\"},\"glyph\":{\"id\":\"1912\",\"type\":\"Line\"},\"hover_glyph\":null,\"muted_glyph\":null,\"nonselection_glyph\":{\"id\":\"1913\",\"type\":\"Line\"},\"selection_glyph\":null,\"view\":{\"id\":\"1915\",\"type\":\"CDSView\"}},\"id\":\"1914\",\"type\":\"GlyphRenderer\"},{\"attributes\":{\"source\":{\"id\":\"1911\",\"type\":\"ColumnDataSource\"}},\"id\":\"1915\",\"type\":\"CDSView\"},{\"attributes\":{\"callback\":null,\"data\":{\"x\":[1,2,7,21,59,166,464,1291,3593,10000],\"y\":{\"__ndarray__\":\"AAAAshxEYj8AAIAavqZjPwAAgOxVo2g/AADA35BpdD8AAECaoj2FPwAAwLwnDJs/AACk6arIsT8AAPKBo7jHPwAA+7Z+r+A/AEA6sXDS9D8=\",\"dtype\":\"float64\",\"shape\":[10]}},\"selected\":{\"id\":\"2189\",\"type\":\"Selection\"},\"selection_policy\":{\"id\":\"2188\",\"type\":\"UnionRenderers\"}},\"id\":\"1916\",\"type\":\"ColumnDataSource\"},{\"attributes\":{\"line_alpha\":0.1,\"line_color\":\"#1f77b4\",\"line_width\":3,\"x\":{\"field\":\"x\"},\"y\":{\"field\":\"y\"}},\"id\":\"1917\",\"type\":\"Line\"},{\"attributes\":{\"line_alpha\":0.1,\"line_color\":\"#1f77b4\",\"line_width\":3,\"x\":{\"field\":\"x\"},\"y\":{\"field\":\"y\"}},\"id\":\"1918\",\"type\":\"Line\"},{\"attributes\":{\"data_source\":{\"id\":\"1916\",\"type\":\"ColumnDataSource\"},\"glyph\":{\"id\":\"1917\",\"type\":\"Line\"},\"hover_glyph\":null,\"muted_glyph\":null,\"nonselection_glyph\":{\"id\":\"1918\",\"type\":\"Line\"},\"selection_glyph\":null,\"view\":{\"id\":\"1920\",\"type\":\"CDSView\"}},\"id\":\"1919\",\"type\":\"GlyphRenderer\"},{\"attributes\":{\"source\":{\"id\":\"1916\",\"type\":\"ColumnDataSource\"}},\"id\":\"1920\",\"type\":\"CDSView\"},{\"attributes\":{\"callback\":null,\"data\":{\"x\":[1,2,7,21,59,166,464,1291,3593,10000],\"y\":{\"__ndarray__\":\"AACAENZzYD8AAAC7HNxhPwAAgHfyMGc/AAAAW3fDcz8AAADDG/qEPwAA8F8inJo/AADswgqVsT8AAAq950jIPwAAS/s63uA/AECYGNpP9D8=\",\"dtype\":\"float64\",\"shape\":[10]}},\"selected\":{\"id\":\"2191\",\"type\":\"Selection\"},\"selection_policy\":{\"id\":\"2190\",\"type\":\"UnionRenderers\"}},\"id\":\"1921\",\"type\":\"ColumnDataSource\"},{\"attributes\":{\"line_alpha\":0.1,\"line_color\":\"#1f77b4\",\"line_width\":3,\"x\":{\"field\":\"x\"},\"y\":{\"field\":\"y\"}},\"id\":\"1922\",\"type\":\"Line\"},{\"attributes\":{\"line_alpha\":0.1,\"line_color\":\"#1f77b4\",\"line_width\":3,\"x\":{\"field\":\"x\"},\"y\":{\"field\":\"y\"}},\"id\":\"1923\",\"type\":\"Line\"},{\"attributes\":{\"data_source\":{\"id\":\"1921\",\"type\":\"ColumnDataSource\"},\"glyph\":{\"id\":\"1922\",\"type\":\"Line\"},\"hover_glyph\":null,\"muted_glyph\":null,\"nonselection_glyph\":{\"id\":\"1923\",\"type\":\"Line\"},\"selection_glyph\":null,\"view\":{\"id\":\"1925\",\"type\":\"CDSView\"}},\"id\":\"1924\",\"type\":\"GlyphRenderer\"},{\"attributes\":{\"source\":{\"id\":\"1921\",\"type\":\"ColumnDataSource\"}},\"id\":\"1925\",\"type\":\"CDSView\"},{\"attributes\":{\"callback\":null,\"data\":{\"x\":[1,2,7,21,59,166,464,1291,3593,10000],\"y\":{\"__ndarray__\":\"AACAcFxjYz8AAACu8gRiPwAAgPHZB2c/AACAOMq/cz8AAAALFxqFPwAAkGLWRJo/AADA9c2isT8AANK3FrfIPwAAtUG7/eA/AEC0GJql9D8=\",\"dtype\":\"float64\",\"shape\":[10]}},\"selected\":{\"id\":\"2193\",\"type\":\"Selection\"},\"selection_policy\":{\"id\":\"2192\",\"type\":\"UnionRenderers\"}},\"id\":\"1926\",\"type\":\"ColumnDataSource\"},{\"attributes\":{\"line_alpha\":0.1,\"line_color\":\"#1f77b4\",\"line_width\":3,\"x\":{\"field\":\"x\"},\"y\":{\"field\":\"y\"}},\"id\":\"1927\",\"type\":\"Line\"},{\"attributes\":{\"line_alpha\":0.1,\"line_color\":\"#1f77b4\",\"line_width\":3,\"x\":{\"field\":\"x\"},\"y\":{\"field\":\"y\"}},\"id\":\"1928\",\"type\":\"Line\"},{\"attributes\":{\"data_source\":{\"id\":\"1926\",\"type\":\"ColumnDataSource\"},\"glyph\":{\"id\":\"1927\",\"type\":\"Line\"},\"hover_glyph\":null,\"muted_glyph\":null,\"nonselection_glyph\":{\"id\":\"1928\",\"type\":\"Line\"},\"selection_glyph\":null,\"view\":{\"id\":\"1930\",\"type\":\"CDSView\"}},\"id\":\"1929\",\"type\":\"GlyphRenderer\"},{\"attributes\":{\"source\":{\"id\":\"1926\",\"type\":\"ColumnDataSource\"}},\"id\":\"1930\",\"type\":\"CDSView\"},{\"attributes\":{\"callback\":null,\"data\":{\"x\":[1,2,7,21,59,166,464,1291,3593,10000],\"y\":{\"__ndarray__\":\"AAAAEHXTYT8AAAAd/CJjPwAAgIoqa2c/AAAA5bHlcz8AAKApcO+EPwAAcE5q15o/AADE+qfqsT8AAGayvAHIPwAATqN6r+A/AADlV6EI9T8=\",\"dtype\":\"float64\",\"shape\":[10]}},\"selected\":{\"id\":\"2195\",\"type\":\"Selection\"},\"selection_policy\":{\"id\":\"2194\",\"type\":\"UnionRenderers\"}},\"id\":\"1931\",\"type\":\"ColumnDataSource\"},{\"attributes\":{\"line_alpha\":0.1,\"line_color\":\"#1f77b4\",\"line_width\":3,\"x\":{\"field\":\"x\"},\"y\":{\"field\":\"y\"}},\"id\":\"1932\",\"type\":\"Line\"},{\"attributes\":{\"line_alpha\":0.1,\"line_color\":\"#1f77b4\",\"line_width\":3,\"x\":{\"field\":\"x\"},\"y\":{\"field\":\"y\"}},\"id\":\"1933\",\"type\":\"Line\"},{\"attributes\":{\"data_source\":{\"id\":\"1931\",\"type\":\"ColumnDataSource\"},\"glyph\":{\"id\":\"1932\",\"type\":\"Line\"},\"hover_glyph\":null,\"muted_glyph\":null,\"nonselection_glyph\":{\"id\":\"1933\",\"type\":\"Line\"},\"selection_glyph\":null,\"view\":{\"id\":\"1935\",\"type\":\"CDSView\"}},\"id\":\"1934\",\"type\":\"GlyphRenderer\"},{\"attributes\":{\"source\":{\"id\":\"1931\",\"type\":\"ColumnDataSource\"}},\"id\":\"1935\",\"type\":\"CDSView\"},{\"attributes\":{\"callback\":null,\"data\":{\"x\":[1,2,7,21,59,166,464,1291,3593,10000],\"y\":{\"__ndarray__\":\"AAAA9mc3YT8AAIDBqqpiPwAAAI16EWg/AABAEEV0dD8AAGD2r8iFPwAAIJmX+5o/AAC8xzb8sT8AAKpJ8EbIPwAABCGvIOE/AICNMkjt9D8=\",\"dtype\":\"float64\",\"shape\":[10]}},\"selected\":{\"id\":\"2197\",\"type\":\"Selection\"},\"selection_policy\":{\"id\":\"2196\",\"type\":\"UnionRenderers\"}},\"id\":\"1936\",\"type\":\"ColumnDataSource\"},{\"attributes\":{\"line_alpha\":0.1,\"line_color\":\"#1f77b4\",\"line_width\":3,\"x\":{\"field\":\"x\"},\"y\":{\"field\":\"y\"}},\"id\":\"1937\",\"type\":\"Line\"},{\"attributes\":{\"line_alpha\":0.1,\"line_color\":\"#1f77b4\",\"line_width\":3,\"x\":{\"field\":\"x\"},\"y\":{\"field\":\"y\"}},\"id\":\"1938\",\"type\":\"Line\"},{\"attributes\":{\"data_source\":{\"id\":\"1936\",\"type\":\"ColumnDataSource\"},\"glyph\":{\"id\":\"1937\",\"type\":\"Line\"},\"hover_glyph\":null,\"muted_glyph\":null,\"nonselection_glyph\":{\"id\":\"1938\",\"type\":\"Line\"},\"selection_glyph\":null,\"view\":{\"id\":\"1940\",\"type\":\"CDSView\"}},\"id\":\"1939\",\"type\":\"GlyphRenderer\"},{\"attributes\":{\"source\":{\"id\":\"1936\",\"type\":\"ColumnDataSource\"}},\"id\":\"1940\",\"type\":\"CDSView\"},{\"attributes\":{},\"id\":\"2180\",\"type\":\"UnionRenderers\"},{\"attributes\":{},\"id\":\"2252\",\"type\":\"UnionRenderers\"},{\"attributes\":{},\"id\":\"2181\",\"type\":\"Selection\"},{\"attributes\":{},\"id\":\"2253\",\"type\":\"Selection\"},{\"attributes\":{},\"id\":\"2182\",\"type\":\"UnionRenderers\"},{\"attributes\":{},\"id\":\"2254\",\"type\":\"UnionRenderers\"},{\"attributes\":{},\"id\":\"2183\",\"type\":\"Selection\"},{\"attributes\":{},\"id\":\"2255\",\"type\":\"Selection\"},{\"attributes\":{\"source\":{\"id\":\"1956\",\"type\":\"ColumnDataSource\"}},\"id\":\"1960\",\"type\":\"CDSView\"},{\"attributes\":{},\"id\":\"2184\",\"type\":\"UnionRenderers\"},{\"attributes\":{},\"id\":\"2256\",\"type\":\"UnionRenderers\"},{\"attributes\":{},\"id\":\"2185\",\"type\":\"Selection\"},{\"attributes\":{},\"id\":\"2257\",\"type\":\"Selection\"},{\"attributes\":{},\"id\":\"2186\",\"type\":\"UnionRenderers\"},{\"attributes\":{},\"id\":\"2258\",\"type\":\"UnionRenderers\"},{\"attributes\":{},\"id\":\"2187\",\"type\":\"Selection\"},{\"attributes\":{},\"id\":\"2259\",\"type\":\"Selection\"},{\"attributes\":{\"data_source\":{\"id\":\"1856\",\"type\":\"ColumnDataSource\"},\"glyph\":{\"id\":\"1857\",\"type\":\"Line\"},\"hover_glyph\":null,\"muted_glyph\":null,\"nonselection_glyph\":{\"id\":\"1858\",\"type\":\"Line\"},\"selection_glyph\":null,\"view\":{\"id\":\"1860\",\"type\":\"CDSView\"}},\"id\":\"1859\",\"type\":\"GlyphRenderer\"},{\"attributes\":{},\"id\":\"2188\",\"type\":\"UnionRenderers\"},{\"attributes\":{},\"id\":\"2260\",\"type\":\"UnionRenderers\"},{\"attributes\":{\"callback\":null,\"data\":{\"x\":[1,2,7,21,59,166,464,1291,3593,10000],\"y\":{\"__ndarray__\":\"AAAAOiB7YD8AAAAORUdjPwAAgFK2C2c/AABAiMbJcz8AAKCmUyGFPwAAUAcPxpo/AABYLLKOsT8AADzRySDIPwAA2hmX6+A/AICgHD/r9D8=\",\"dtype\":\"float64\",\"shape\":[10]}},\"selected\":{\"id\":\"2173\",\"type\":\"Selection\"},\"selection_policy\":{\"id\":\"2172\",\"type\":\"UnionRenderers\"}},\"id\":\"1876\",\"type\":\"ColumnDataSource\"},{\"attributes\":{},\"id\":\"2189\",\"type\":\"Selection\"},{\"attributes\":{},\"id\":\"2261\",\"type\":\"Selection\"},{\"attributes\":{},\"id\":\"2190\",\"type\":\"UnionRenderers\"},{\"attributes\":{\"line_alpha\":0.1,\"line_color\":\"#1f77b4\",\"line_width\":3,\"x\":{\"field\":\"x\"},\"y\":{\"field\":\"y\"}},\"id\":\"1883\",\"type\":\"Line\"},{\"attributes\":{},\"id\":\"2191\",\"type\":\"Selection\"},{\"attributes\":{\"data_source\":{\"id\":\"1881\",\"type\":\"ColumnDataSource\"},\"glyph\":{\"id\":\"1882\",\"type\":\"Line\"},\"hover_glyph\":null,\"muted_glyph\":null,\"nonselection_glyph\":{\"id\":\"1883\",\"type\":\"Line\"},\"selection_glyph\":null,\"view\":{\"id\":\"1885\",\"type\":\"CDSView\"}},\"id\":\"1884\",\"type\":\"GlyphRenderer\"},{\"attributes\":{\"source\":{\"id\":\"1881\",\"type\":\"ColumnDataSource\"}},\"id\":\"1885\",\"type\":\"CDSView\"},{\"attributes\":{},\"id\":\"2192\",\"type\":\"UnionRenderers\"},{\"attributes\":{\"data_source\":{\"id\":\"1861\",\"type\":\"ColumnDataSource\"},\"glyph\":{\"id\":\"1862\",\"type\":\"Line\"},\"hover_glyph\":null,\"muted_glyph\":null,\"nonselection_glyph\":{\"id\":\"1863\",\"type\":\"Line\"},\"selection_glyph\":null,\"view\":{\"id\":\"1865\",\"type\":\"CDSView\"}},\"id\":\"1864\",\"type\":\"GlyphRenderer\"},{\"attributes\":{\"source\":{\"id\":\"1866\",\"type\":\"ColumnDataSource\"}},\"id\":\"1870\",\"type\":\"CDSView\"},{\"attributes\":{},\"id\":\"2193\",\"type\":\"Selection\"},{\"attributes\":{\"line_alpha\":0.1,\"line_color\":\"#1f77b4\",\"line_width\":3,\"x\":{\"field\":\"x\"},\"y\":{\"field\":\"y\"}},\"id\":\"1877\",\"type\":\"Line\"},{\"attributes\":{\"source\":{\"id\":\"1871\",\"type\":\"ColumnDataSource\"}},\"id\":\"1875\",\"type\":\"CDSView\"},{\"attributes\":{},\"id\":\"2194\",\"type\":\"UnionRenderers\"},{\"attributes\":{},\"id\":\"2195\",\"type\":\"Selection\"},{\"attributes\":{\"callback\":null,\"data\":{\"x\":[1,2,7,21,59,166,464,1291,3593,10000],\"y\":{\"__ndarray__\":\"AACAecYAYT8AAADvdeViPwAAgJLS8mc/AABA8BhOdD8AACB6Ad+FPwAAgIGDaps/AACA6K5Esj8AAFDnlMTIPwCAyzkqF+E/AEDTKljV9D8=\",\"dtype\":\"float64\",\"shape\":[10]}},\"selected\":{\"id\":\"2167\",\"type\":\"Selection\"},\"selection_policy\":{\"id\":\"2166\",\"type\":\"UnionRenderers\"}},\"id\":\"1861\",\"type\":\"ColumnDataSource\"},{\"attributes\":{},\"id\":\"2196\",\"type\":\"UnionRenderers\"},{\"attributes\":{\"line_alpha\":0.1,\"line_color\":\"#1f77b4\",\"line_width\":3,\"x\":{\"field\":\"x\"},\"y\":{\"field\":\"y\"}},\"id\":\"1868\",\"type\":\"Line\"},{\"attributes\":{\"line_alpha\":0.1,\"line_color\":\"#1f77b4\",\"line_width\":3,\"x\":{\"field\":\"x\"},\"y\":{\"field\":\"y\"}},\"id\":\"1872\",\"type\":\"Line\"},{\"attributes\":{},\"id\":\"2197\",\"type\":\"Selection\"},{\"attributes\":{\"data_source\":{\"id\":\"1866\",\"type\":\"ColumnDataSource\"},\"glyph\":{\"id\":\"1867\",\"type\":\"Line\"},\"hover_glyph\":null,\"muted_glyph\":null,\"nonselection_glyph\":{\"id\":\"1868\",\"type\":\"Line\"},\"selection_glyph\":null,\"view\":{\"id\":\"1870\",\"type\":\"CDSView\"}},\"id\":\"1869\",\"type\":\"GlyphRenderer\"},{\"attributes\":{},\"id\":\"2198\",\"type\":\"UnionRenderers\"},{\"attributes\":{},\"id\":\"2199\",\"type\":\"Selection\"},{\"attributes\":{\"callback\":null,\"data\":{\"x\":[1,2,7,21,59,166,464,1291,3593,10000],\"y\":{\"__ndarray__\":\"AACA7y+PYD8AAADMiMtkPwAAAPC7HGg/AAAAId2xcz8AACBx5jaFPwAAYA124Zo/AACIIIC0sT8AAAKftyLIPwAA9FDRlOA/AIAyw0GQ9D8=\",\"dtype\":\"float64\",\"shape\":[10]}},\"selected\":{\"id\":\"2171\",\"type\":\"Selection\"},\"selection_policy\":{\"id\":\"2170\",\"type\":\"UnionRenderers\"}},\"id\":\"1871\",\"type\":\"ColumnDataSource\"},{\"attributes\":{},\"id\":\"2200\",\"type\":\"UnionRenderers\"},{\"attributes\":{\"line_alpha\":0.1,\"line_color\":\"#1f77b4\",\"line_width\":3,\"x\":{\"field\":\"x\"},\"y\":{\"field\":\"y\"}},\"id\":\"1867\",\"type\":\"Line\"},{\"attributes\":{},\"id\":\"2201\",\"type\":\"Selection\"},{\"attributes\":{\"callback\":null,\"data\":{\"x\":[1,2,7,21,59,166,464,1291,3593,10000],\"y\":{\"__ndarray__\":\"AACAx5aKYj8AAAAnjlBkPwAAgFzOUWk/AADAihZwdD8AAMD9hFCFPwAAsDgXd5o/AAC4Y947sj8AALqNVzfJPwCAvwvuFuE/AAAFsCQw9T8=\",\"dtype\":\"float64\",\"shape\":[10]}},\"selected\":{\"id\":\"2169\",\"type\":\"Selection\"},\"selection_policy\":{\"id\":\"2168\",\"type\":\"UnionRenderers\"}},\"id\":\"1866\",\"type\":\"ColumnDataSource\"},{\"attributes\":{\"data_source\":{\"id\":\"1871\",\"type\":\"ColumnDataSource\"},\"glyph\":{\"id\":\"1872\",\"type\":\"Line\"},\"hover_glyph\":null,\"muted_glyph\":null,\"nonselection_glyph\":{\"id\":\"1873\",\"type\":\"Line\"},\"selection_glyph\":null,\"view\":{\"id\":\"1875\",\"type\":\"CDSView\"}},\"id\":\"1874\",\"type\":\"GlyphRenderer\"},{\"attributes\":{},\"id\":\"2202\",\"type\":\"UnionRenderers\"},{\"attributes\":{},\"id\":\"2203\",\"type\":\"Selection\"},{\"attributes\":{\"line_alpha\":0.1,\"line_color\":\"#1f77b4\",\"line_width\":3,\"x\":{\"field\":\"x\"},\"y\":{\"field\":\"y\"}},\"id\":\"1873\",\"type\":\"Line\"},{\"attributes\":{},\"id\":\"2204\",\"type\":\"UnionRenderers\"},{\"attributes\":{\"line_alpha\":0.1,\"line_color\":\"#1f77b4\",\"line_width\":3,\"x\":{\"field\":\"x\"},\"y\":{\"field\":\"y\"}},\"id\":\"1863\",\"type\":\"Line\"},{\"attributes\":{},\"id\":\"2205\",\"type\":\"Selection\"},{\"attributes\":{},\"id\":\"2206\",\"type\":\"UnionRenderers\"},{\"attributes\":{\"line_alpha\":0.1,\"line_color\":\"#1f77b4\",\"line_width\":3,\"x\":{\"field\":\"x\"},\"y\":{\"field\":\"y\"}},\"id\":\"1862\",\"type\":\"Line\"},{\"attributes\":{\"source\":{\"id\":\"1861\",\"type\":\"ColumnDataSource\"}},\"id\":\"1865\",\"type\":\"CDSView\"},{\"attributes\":{},\"id\":\"2207\",\"type\":\"Selection\"},{\"attributes\":{},\"id\":\"2208\",\"type\":\"UnionRenderers\"},{\"attributes\":{\"source\":{\"id\":\"1856\",\"type\":\"ColumnDataSource\"}},\"id\":\"1860\",\"type\":\"CDSView\"},{\"attributes\":{},\"id\":\"2209\",\"type\":\"Selection\"},{\"attributes\":{},\"id\":\"2210\",\"type\":\"UnionRenderers\"},{\"attributes\":{\"data_source\":{\"id\":\"1876\",\"type\":\"ColumnDataSource\"},\"glyph\":{\"id\":\"1877\",\"type\":\"Line\"},\"hover_glyph\":null,\"muted_glyph\":null,\"nonselection_glyph\":{\"id\":\"1878\",\"type\":\"Line\"},\"selection_glyph\":null,\"view\":{\"id\":\"1880\",\"type\":\"CDSView\"}},\"id\":\"1879\",\"type\":\"GlyphRenderer\"},{\"attributes\":{\"line_alpha\":0.1,\"line_color\":\"#1f77b4\",\"line_width\":3,\"x\":{\"field\":\"x\"},\"y\":{\"field\":\"y\"}},\"id\":\"1878\",\"type\":\"Line\"},{\"attributes\":{},\"id\":\"2211\",\"type\":\"Selection\"},{\"attributes\":{\"callback\":null,\"data\":{\"x\":[1,2,7,21,59,166,464,1291,3593,10000],\"y\":{\"__ndarray__\":\"AACAbSBxYD8AAAAxgZViPwAAgBGx6Wo/AAAAGXAfdD8AAIAlpveEPwAA4OH0w5o/AABwiATIsT8AANpoM6DIPwAAJfl8+uA/AMDMqSrV9D8=\",\"dtype\":\"float64\",\"shape\":[10]}},\"selected\":{\"id\":\"2175\",\"type\":\"Selection\"},\"selection_policy\":{\"id\":\"2174\",\"type\":\"UnionRenderers\"}},\"id\":\"1881\",\"type\":\"ColumnDataSource\"},{\"attributes\":{},\"id\":\"2212\",\"type\":\"UnionRenderers\"},{\"attributes\":{\"source\":{\"id\":\"1876\",\"type\":\"ColumnDataSource\"}},\"id\":\"1880\",\"type\":\"CDSView\"},{\"attributes\":{\"line_alpha\":0.1,\"line_color\":\"#1f77b4\",\"line_width\":3,\"x\":{\"field\":\"x\"},\"y\":{\"field\":\"y\"}},\"id\":\"1882\",\"type\":\"Line\"},{\"attributes\":{},\"id\":\"2213\",\"type\":\"Selection\"},{\"attributes\":{},\"id\":\"2214\",\"type\":\"UnionRenderers\"},{\"attributes\":{},\"id\":\"2215\",\"type\":\"Selection\"},{\"attributes\":{\"source\":{\"id\":\"2046\",\"type\":\"ColumnDataSource\"}},\"id\":\"2050\",\"type\":\"CDSView\"},{\"attributes\":{\"callback\":null,\"data\":{\"x\":[1,2,7,21,59,166,464,1291,3593,10000],\"y\":{\"__ndarray__\":\"AACAAxDmYj8AAIAmcPVgPwAAgJMKHmc/AACAxlDKcz8AAOAMWRKFPwAAIAhdQ5o/AADMu1WdsT8AAMDmLt/HPwCAUTTAOeA/AABpWpcn9D8=\",\"dtype\":\"float64\",\"shape\":[10]}},\"selected\":{\"id\":\"2257\",\"type\":\"Selection\"},\"selection_policy\":{\"id\":\"2256\",\"type\":\"UnionRenderers\"}},\"id\":\"2086\",\"type\":\"ColumnDataSource\"},{\"attributes\":{\"callback\":null,\"data\":{\"x\":[1,2,7,21,59,166,464,1291,3593,10000],\"y\":{\"__ndarray__\":\"AAAAr47wYT8AAAAwgg1iPwAAgBK5Q2c/AABACY7acz8AAMCSCDmFPwAAcD5ny5o/AADMNxWIsT8AAHz1Y6bHPwAAbB8JU+A/AIC+YNcR9D8=\",\"dtype\":\"float64\",\"shape\":[10]}},\"selected\":{\"id\":\"2243\",\"type\":\"Selection\"},\"selection_policy\":{\"id\":\"2242\",\"type\":\"UnionRenderers\"}},\"id\":\"2051\",\"type\":\"ColumnDataSource\"},{\"attributes\":{\"line_alpha\":0.1,\"line_color\":\"#1f77b4\",\"line_width\":3,\"x\":{\"field\":\"x\"},\"y\":{\"field\":\"y\"}},\"id\":\"2087\",\"type\":\"Line\"},{\"attributes\":{\"line_alpha\":0.1,\"line_color\":\"#1f77b4\",\"line_width\":3,\"x\":{\"field\":\"x\"},\"y\":{\"field\":\"y\"}},\"id\":\"1897\",\"type\":\"Line\"},{\"attributes\":{\"line_alpha\":0.1,\"line_color\":\"#1f77b4\",\"line_width\":3,\"x\":{\"field\":\"x\"},\"y\":{\"field\":\"y\"}},\"id\":\"2052\",\"type\":\"Line\"},{\"attributes\":{\"line_alpha\":0.1,\"line_color\":\"#1f77b4\",\"line_width\":3,\"x\":{\"field\":\"x\"},\"y\":{\"field\":\"y\"}},\"id\":\"2088\",\"type\":\"Line\"},{\"attributes\":{\"callback\":null,\"data\":{\"x\":[1,2,7,21,59,166,464,1291,3593,10000],\"y\":{\"__ndarray__\":\"AACA2dbaYT8AAIBPHH1iPwAAgKdyQmc/AABAKhrYcz8AAEDmLDqFPwAA0OYG6po/AAB08/nNsT8AAFbkLsfHPwCA8ieFVOA/AIBudc7Z9D8=\",\"dtype\":\"float64\",\"shape\":[10]}},\"selected\":{\"id\":\"2183\",\"type\":\"Selection\"},\"selection_policy\":{\"id\":\"2182\",\"type\":\"UnionRenderers\"}},\"id\":\"1901\",\"type\":\"ColumnDataSource\"},{\"attributes\":{\"data_source\":{\"id\":\"1886\",\"type\":\"ColumnDataSource\"},\"glyph\":{\"id\":\"1887\",\"type\":\"Line\"},\"hover_glyph\":null,\"muted_glyph\":null,\"nonselection_glyph\":{\"id\":\"1888\",\"type\":\"Line\"},\"selection_glyph\":null,\"view\":{\"id\":\"1890\",\"type\":\"CDSView\"}},\"id\":\"1889\",\"type\":\"GlyphRenderer\"},{\"attributes\":{\"data_source\":{\"id\":\"2086\",\"type\":\"ColumnDataSource\"},\"glyph\":{\"id\":\"2087\",\"type\":\"Line\"},\"hover_glyph\":null,\"muted_glyph\":null,\"nonselection_glyph\":{\"id\":\"2088\",\"type\":\"Line\"},\"selection_glyph\":null,\"view\":{\"id\":\"2090\",\"type\":\"CDSView\"}},\"id\":\"2089\",\"type\":\"GlyphRenderer\"},{\"attributes\":{\"line_alpha\":0.1,\"line_color\":\"#1f77b4\",\"line_width\":3,\"x\":{\"field\":\"x\"},\"y\":{\"field\":\"y\"}},\"id\":\"2053\",\"type\":\"Line\"},{\"attributes\":{\"data_source\":{\"id\":\"2051\",\"type\":\"ColumnDataSource\"},\"glyph\":{\"id\":\"2052\",\"type\":\"Line\"},\"hover_glyph\":null,\"muted_glyph\":null,\"nonselection_glyph\":{\"id\":\"2053\",\"type\":\"Line\"},\"selection_glyph\":null,\"view\":{\"id\":\"2055\",\"type\":\"CDSView\"}},\"id\":\"2054\",\"type\":\"GlyphRenderer\"},{\"attributes\":{\"source\":{\"id\":\"2086\",\"type\":\"ColumnDataSource\"}},\"id\":\"2090\",\"type\":\"CDSView\"},{\"attributes\":{\"source\":{\"id\":\"2051\",\"type\":\"ColumnDataSource\"}},\"id\":\"2055\",\"type\":\"CDSView\"},{\"attributes\":{\"callback\":null,\"data\":{\"x\":[1,2,7,21,59,166,464,1291,3593,10000],\"y\":{\"__ndarray__\":\"AAAA0k7kYT8AAAAFvP9hPwAAAIRoJGc/AADAzbPWcz8AAKBjFlOFPwAAQHl6bZo/AAC4nIpVsT8AAPzOzJ/HPwAAW0+0eOA/AMCHeX8x9D8=\",\"dtype\":\"float64\",\"shape\":[10]}},\"selected\":{\"id\":\"2259\",\"type\":\"Selection\"},\"selection_policy\":{\"id\":\"2258\",\"type\":\"UnionRenderers\"}},\"id\":\"2091\",\"type\":\"ColumnDataSource\"},{\"attributes\":{\"callback\":null,\"data\":{\"x\":[1,2,7,21,59,166,464,1291,3593,10000],\"y\":{\"__ndarray__\":\"AAAAKeLIYT8AAAAiud5hPwAAANXjHGc/AAAA26zHcz8AAIC4/AuFPwAAEJen1pk/AADY6tI8sT8AAHbOk47HPwAAn7j4SOA/AID8PPcS9D8=\",\"dtype\":\"float64\",\"shape\":[10]}},\"selected\":{\"id\":\"2245\",\"type\":\"Selection\"},\"selection_policy\":{\"id\":\"2244\",\"type\":\"UnionRenderers\"}},\"id\":\"2056\",\"type\":\"ColumnDataSource\"},{\"attributes\":{\"line_alpha\":0.1,\"line_color\":\"#1f77b4\",\"line_width\":3,\"x\":{\"field\":\"x\"},\"y\":{\"field\":\"y\"}},\"id\":\"2092\",\"type\":\"Line\"},{\"attributes\":{\"line_alpha\":0.1,\"line_color\":\"#1f77b4\",\"line_width\":3,\"x\":{\"field\":\"x\"},\"y\":{\"field\":\"y\"}},\"id\":\"1893\",\"type\":\"Line\"},{\"attributes\":{\"line_alpha\":0.1,\"line_color\":\"#1f77b4\",\"line_width\":3,\"x\":{\"field\":\"x\"},\"y\":{\"field\":\"y\"}},\"id\":\"2057\",\"type\":\"Line\"},{\"attributes\":{\"line_alpha\":0.1,\"line_color\":\"#1f77b4\",\"line_width\":3,\"x\":{\"field\":\"x\"},\"y\":{\"field\":\"y\"}},\"id\":\"2093\",\"type\":\"Line\"},{\"attributes\":{\"data_source\":{\"id\":\"2091\",\"type\":\"ColumnDataSource\"},\"glyph\":{\"id\":\"2092\",\"type\":\"Line\"},\"hover_glyph\":null,\"muted_glyph\":null,\"nonselection_glyph\":{\"id\":\"2093\",\"type\":\"Line\"},\"selection_glyph\":null,\"view\":{\"id\":\"2095\",\"type\":\"CDSView\"}},\"id\":\"2094\",\"type\":\"GlyphRenderer\"},{\"attributes\":{\"line_alpha\":0.1,\"line_color\":\"#1f77b4\",\"line_width\":3,\"x\":{\"field\":\"x\"},\"y\":{\"field\":\"y\"}},\"id\":\"1892\",\"type\":\"Line\"},{\"attributes\":{\"line_alpha\":0.1,\"line_color\":\"#1f77b4\",\"line_width\":3,\"x\":{\"field\":\"x\"},\"y\":{\"field\":\"y\"}},\"id\":\"2058\",\"type\":\"Line\"},{\"attributes\":{\"data_source\":{\"id\":\"2056\",\"type\":\"ColumnDataSource\"},\"glyph\":{\"id\":\"2057\",\"type\":\"Line\"},\"hover_glyph\":null,\"muted_glyph\":null,\"nonselection_glyph\":{\"id\":\"2058\",\"type\":\"Line\"},\"selection_glyph\":null,\"view\":{\"id\":\"2060\",\"type\":\"CDSView\"}},\"id\":\"2059\",\"type\":\"GlyphRenderer\"},{\"attributes\":{\"source\":{\"id\":\"2091\",\"type\":\"ColumnDataSource\"}},\"id\":\"2095\",\"type\":\"CDSView\"},{\"attributes\":{\"source\":{\"id\":\"1896\",\"type\":\"ColumnDataSource\"}},\"id\":\"1900\",\"type\":\"CDSView\"},{\"attributes\":{\"source\":{\"id\":\"2056\",\"type\":\"ColumnDataSource\"}},\"id\":\"2060\",\"type\":\"CDSView\"},{\"attributes\":{\"callback\":null,\"data\":{\"x\":[1,2,7,21,59,166,464,1291,3593,10000],\"y\":{\"__ndarray__\":\"AACAUInFYT8AAAC80GtiPwAAgLi292Y/AACAsri4cz8AAOA8IPmEPwAA8PCBZJo/AACI1ptisT8AAAiLN7DHPwCAF7c+LeA/AICPH9Y99D8=\",\"dtype\":\"float64\",\"shape\":[10]}},\"selected\":{\"id\":\"2261\",\"type\":\"Selection\"},\"selection_policy\":{\"id\":\"2260\",\"type\":\"UnionRenderers\"}},\"id\":\"2096\",\"type\":\"ColumnDataSource\"},{\"attributes\":{\"line_alpha\":0.1,\"line_color\":\"#1f77b4\",\"line_width\":3,\"x\":{\"field\":\"x\"},\"y\":{\"field\":\"y\"}},\"id\":\"1903\",\"type\":\"Line\"},{\"attributes\":{\"callback\":null,\"data\":{\"x\":[1,2,7,21,59,166,464,1291,3593,10000],\"y\":{\"__ndarray__\":\"AACAN247YT8AAIAXq15iPwAAgLcoe2c/AABAk/z1cz8AAMC8T0GFPwAA8N9yq5o/AAD4mLGWsT8AAIDXPM7HPwAAfShSU+A/AAAGocEg9D8=\",\"dtype\":\"float64\",\"shape\":[10]}},\"selected\":{\"id\":\"2247\",\"type\":\"Selection\"},\"selection_policy\":{\"id\":\"2246\",\"type\":\"UnionRenderers\"}},\"id\":\"2061\",\"type\":\"ColumnDataSource\"},{\"attributes\":{\"line_alpha\":0.1,\"line_color\":\"#1f77b4\",\"line_width\":3,\"x\":{\"field\":\"x\"},\"y\":{\"field\":\"y\"}},\"id\":\"2097\",\"type\":\"Line\"},{\"attributes\":{\"data_source\":{\"id\":\"1891\",\"type\":\"ColumnDataSource\"},\"glyph\":{\"id\":\"1892\",\"type\":\"Line\"},\"hover_glyph\":null,\"muted_glyph\":null,\"nonselection_glyph\":{\"id\":\"1893\",\"type\":\"Line\"},\"selection_glyph\":null,\"view\":{\"id\":\"1895\",\"type\":\"CDSView\"}},\"id\":\"1894\",\"type\":\"GlyphRenderer\"},{\"attributes\":{\"line_alpha\":0.1,\"line_color\":\"#1f77b4\",\"line_width\":3,\"x\":{\"field\":\"x\"},\"y\":{\"field\":\"y\"}},\"id\":\"2062\",\"type\":\"Line\"},{\"attributes\":{\"line_alpha\":0.1,\"line_color\":\"#1f77b4\",\"line_width\":3,\"x\":{\"field\":\"x\"},\"y\":{\"field\":\"y\"}},\"id\":\"2098\",\"type\":\"Line\"},{\"attributes\":{\"data_source\":{\"id\":\"2096\",\"type\":\"ColumnDataSource\"},\"glyph\":{\"id\":\"2097\",\"type\":\"Line\"},\"hover_glyph\":null,\"muted_glyph\":null,\"nonselection_glyph\":{\"id\":\"2098\",\"type\":\"Line\"},\"selection_glyph\":null,\"view\":{\"id\":\"2100\",\"type\":\"CDSView\"}},\"id\":\"2099\",\"type\":\"GlyphRenderer\"},{\"attributes\":{\"line_alpha\":0.1,\"line_color\":\"#1f77b4\",\"line_width\":3,\"x\":{\"field\":\"x\"},\"y\":{\"field\":\"y\"}},\"id\":\"2063\",\"type\":\"Line\"},{\"attributes\":{\"source\":{\"id\":\"1886\",\"type\":\"ColumnDataSource\"}},\"id\":\"1890\",\"type\":\"CDSView\"},{\"attributes\":{\"data_source\":{\"id\":\"2061\",\"type\":\"ColumnDataSource\"},\"glyph\":{\"id\":\"2062\",\"type\":\"Line\"},\"hover_glyph\":null,\"muted_glyph\":null,\"nonselection_glyph\":{\"id\":\"2063\",\"type\":\"Line\"},\"selection_glyph\":null,\"view\":{\"id\":\"2065\",\"type\":\"CDSView\"}},\"id\":\"2064\",\"type\":\"GlyphRenderer\"},{\"attributes\":{\"source\":{\"id\":\"2096\",\"type\":\"ColumnDataSource\"}},\"id\":\"2100\",\"type\":\"CDSView\"},{\"attributes\":{\"source\":{\"id\":\"2061\",\"type\":\"ColumnDataSource\"}},\"id\":\"2065\",\"type\":\"CDSView\"},{\"attributes\":{\"plot\":null,\"text\":\"\",\"text_font_size\":{\"value\":\"16pt\"}},\"id\":\"2156\",\"type\":\"Title\"},{\"attributes\":{\"line_alpha\":0.1,\"line_color\":\"#1f77b4\",\"line_width\":3,\"x\":{\"field\":\"x\"},\"y\":{\"field\":\"y\"}},\"id\":\"1888\",\"type\":\"Line\"},{\"attributes\":{\"callback\":null,\"data\":{\"x\":[1,2,7,21,59,166,464,1291,3593,10000],\"y\":{\"__ndarray__\":\"AACAQpjvYT8AAAAvkUpiPwAAAAbgs2Y/AADAT/zHcz8AACBrvVuEPwAA0Pvkmpk/AAB087rpsD8AABDFJGnHPwAA/iC7MOA/AEDcTigi9D8=\",\"dtype\":\"float64\",\"shape\":[10]}},\"selected\":{\"id\":\"2249\",\"type\":\"Selection\"},\"selection_policy\":{\"id\":\"2248\",\"type\":\"UnionRenderers\"}},\"id\":\"2066\",\"type\":\"ColumnDataSource\"},{\"attributes\":{},\"id\":\"2158\",\"type\":\"BasicTickFormatter\"},{\"attributes\":{\"line_alpha\":0.1,\"line_color\":\"#1f77b4\",\"line_width\":3,\"x\":{\"field\":\"x\"},\"y\":{\"field\":\"y\"}},\"id\":\"2067\",\"type\":\"Line\"},{\"attributes\":{},\"id\":\"2160\",\"type\":\"BasicTickFormatter\"},{\"attributes\":{\"line_alpha\":0.1,\"line_color\":\"#1f77b4\",\"line_width\":3,\"x\":{\"field\":\"x\"},\"y\":{\"field\":\"y\"}},\"id\":\"1898\",\"type\":\"Line\"},{\"attributes\":{\"line_alpha\":0.1,\"line_color\":\"#1f77b4\",\"line_width\":3,\"x\":{\"field\":\"x\"},\"y\":{\"field\":\"y\"}},\"id\":\"2068\",\"type\":\"Line\"},{\"attributes\":{},\"id\":\"2162\",\"type\":\"UnionRenderers\"},{\"attributes\":{\"data_source\":{\"id\":\"2066\",\"type\":\"ColumnDataSource\"},\"glyph\":{\"id\":\"2067\",\"type\":\"Line\"},\"hover_glyph\":null,\"muted_glyph\":null,\"nonselection_glyph\":{\"id\":\"2068\",\"type\":\"Line\"},\"selection_glyph\":null,\"view\":{\"id\":\"2070\",\"type\":\"CDSView\"}},\"id\":\"2069\",\"type\":\"GlyphRenderer\"},{\"attributes\":{},\"id\":\"2163\",\"type\":\"Selection\"},{\"attributes\":{\"line_alpha\":0.1,\"line_color\":\"#1f77b4\",\"line_width\":3,\"x\":{\"field\":\"x\"},\"y\":{\"field\":\"y\"}},\"id\":\"1902\",\"type\":\"Line\"},{\"attributes\":{\"source\":{\"id\":\"2066\",\"type\":\"ColumnDataSource\"}},\"id\":\"2070\",\"type\":\"CDSView\"},{\"attributes\":{},\"id\":\"2164\",\"type\":\"UnionRenderers\"},{\"attributes\":{\"callback\":null,\"data\":{\"x\":[1,2,7,21,59,166,464,1291,3593,10000],\"y\":{\"__ndarray__\":\"AAAAk6vKYT8AAABG+jZiPwAAAP7bDGc/AABA0TB6cz8AAIC+YgOFPwAAsGBeV5o/AAAAzy1csT8AAIZor6nHPwCAaJypR+A/AIC8nMgS9D8=\",\"dtype\":\"float64\",\"shape\":[10]}},\"selected\":{\"id\":\"2251\",\"type\":\"Selection\"},\"selection_policy\":{\"id\":\"2250\",\"type\":\"UnionRenderers\"}},\"id\":\"2071\",\"type\":\"ColumnDataSource\"},{\"attributes\":{},\"id\":\"2165\",\"type\":\"Selection\"},{\"attributes\":{\"callback\":null,\"data\":{\"x\":[1,2,7,21,59,166,464,1291,3593,10000],\"y\":{\"__ndarray__\":\"AAAACuthYD8AAIB1vGRkPwAAgCOdfGg/AAAAAVTycz8AAIApcFyFPwAAEA7fipo/AADQN8OJsT8AAHYF0xfIPwAArMkRauA/AMBxniZl9D8=\",\"dtype\":\"float64\",\"shape\":[10]}},\"selected\":{\"id\":\"2181\",\"type\":\"Selection\"},\"selection_policy\":{\"id\":\"2180\",\"type\":\"UnionRenderers\"}},\"id\":\"1896\",\"type\":\"ColumnDataSource\"},{\"attributes\":{\"line_alpha\":0.1,\"line_color\":\"#1f77b4\",\"line_width\":3,\"x\":{\"field\":\"x\"},\"y\":{\"field\":\"y\"}},\"id\":\"2072\",\"type\":\"Line\"},{\"attributes\":{},\"id\":\"2166\",\"type\":\"UnionRenderers\"},{\"attributes\":{\"data_source\":{\"id\":\"1896\",\"type\":\"ColumnDataSource\"},\"glyph\":{\"id\":\"1897\",\"type\":\"Line\"},\"hover_glyph\":null,\"muted_glyph\":null,\"nonselection_glyph\":{\"id\":\"1898\",\"type\":\"Line\"},\"selection_glyph\":null,\"view\":{\"id\":\"1900\",\"type\":\"CDSView\"}},\"id\":\"1899\",\"type\":\"GlyphRenderer\"},{\"attributes\":{\"line_alpha\":0.1,\"line_color\":\"#1f77b4\",\"line_width\":3,\"x\":{\"field\":\"x\"},\"y\":{\"field\":\"y\"}},\"id\":\"2073\",\"type\":\"Line\"},{\"attributes\":{},\"id\":\"2167\",\"type\":\"Selection\"},{\"attributes\":{\"data_source\":{\"id\":\"2071\",\"type\":\"ColumnDataSource\"},\"glyph\":{\"id\":\"2072\",\"type\":\"Line\"},\"hover_glyph\":null,\"muted_glyph\":null,\"nonselection_glyph\":{\"id\":\"2073\",\"type\":\"Line\"},\"selection_glyph\":null,\"view\":{\"id\":\"2075\",\"type\":\"CDSView\"}},\"id\":\"2074\",\"type\":\"GlyphRenderer\"},{\"attributes\":{\"line_alpha\":0.1,\"line_color\":\"#1f77b4\",\"line_width\":3,\"x\":{\"field\":\"x\"},\"y\":{\"field\":\"y\"}},\"id\":\"1887\",\"type\":\"Line\"},{\"attributes\":{},\"id\":\"2168\",\"type\":\"UnionRenderers\"},{\"attributes\":{\"source\":{\"id\":\"2071\",\"type\":\"ColumnDataSource\"}},\"id\":\"2075\",\"type\":\"CDSView\"},{\"attributes\":{},\"id\":\"2169\",\"type\":\"Selection\"},{\"attributes\":{\"callback\":null,\"data\":{\"x\":[1,2,7,21,59,166,464,1291,3593,10000],\"y\":{\"__ndarray__\":\"AAAAgMqvYT8AAACQVs5hPwAAAGxL02Y/AACAaVV7cz8AAIDQmryEPwAAcMVM1Zk/AADMvwA8sT8AABYbuJjHPwAAb8CvTeA/AEBvFyUm9D8=\",\"dtype\":\"float64\",\"shape\":[10]}},\"selected\":{\"id\":\"2253\",\"type\":\"Selection\"},\"selection_policy\":{\"id\":\"2252\",\"type\":\"UnionRenderers\"}},\"id\":\"2076\",\"type\":\"ColumnDataSource\"},{\"attributes\":{},\"id\":\"2170\",\"type\":\"UnionRenderers\"},{\"attributes\":{\"source\":{\"id\":\"1891\",\"type\":\"ColumnDataSource\"}},\"id\":\"1895\",\"type\":\"CDSView\"},{\"attributes\":{\"line_alpha\":0.1,\"line_color\":\"#1f77b4\",\"line_width\":3,\"x\":{\"field\":\"x\"},\"y\":{\"field\":\"y\"}},\"id\":\"2077\",\"type\":\"Line\"},{\"attributes\":{},\"id\":\"2171\",\"type\":\"Selection\"},{\"attributes\":{\"line_alpha\":0.1,\"line_color\":\"#1f77b4\",\"line_width\":3,\"x\":{\"field\":\"x\"},\"y\":{\"field\":\"y\"}},\"id\":\"2078\",\"type\":\"Line\"},{\"attributes\":{},\"id\":\"2172\",\"type\":\"UnionRenderers\"},{\"attributes\":{\"data_source\":{\"id\":\"1901\",\"type\":\"ColumnDataSource\"},\"glyph\":{\"id\":\"1902\",\"type\":\"Line\"},\"hover_glyph\":null,\"muted_glyph\":null,\"nonselection_glyph\":{\"id\":\"1903\",\"type\":\"Line\"},\"selection_glyph\":null,\"view\":{\"id\":\"1905\",\"type\":\"CDSView\"}},\"id\":\"1904\",\"type\":\"GlyphRenderer\"},{\"attributes\":{\"data_source\":{\"id\":\"2076\",\"type\":\"ColumnDataSource\"},\"glyph\":{\"id\":\"2077\",\"type\":\"Line\"},\"hover_glyph\":null,\"muted_glyph\":null,\"nonselection_glyph\":{\"id\":\"2078\",\"type\":\"Line\"},\"selection_glyph\":null,\"view\":{\"id\":\"2080\",\"type\":\"CDSView\"}},\"id\":\"2079\",\"type\":\"GlyphRenderer\"},{\"attributes\":{},\"id\":\"2173\",\"type\":\"Selection\"},{\"attributes\":{\"callback\":null,\"data\":{\"x\":[1,2,7,21,59,166,464,1291,3593,10000],\"y\":{\"__ndarray__\":\"AACAaQvzYT8AAACR+i9jPwAAAKYXRWc/AACAa8bUcz8AAMBL6h2FPwAAILr/eZo/AADsaILMsT8AAEgg8TrIPwAAYefgiOA/AEAw2c5o9D8=\",\"dtype\":\"float64\",\"shape\":[10]}},\"selected\":{\"id\":\"2179\",\"type\":\"Selection\"},\"selection_policy\":{\"id\":\"2178\",\"type\":\"UnionRenderers\"}},\"id\":\"1891\",\"type\":\"ColumnDataSource\"},{\"attributes\":{\"source\":{\"id\":\"2076\",\"type\":\"ColumnDataSource\"}},\"id\":\"2080\",\"type\":\"CDSView\"},{\"attributes\":{\"source\":{\"id\":\"1901\",\"type\":\"ColumnDataSource\"}},\"id\":\"1905\",\"type\":\"CDSView\"},{\"attributes\":{},\"id\":\"2174\",\"type\":\"UnionRenderers\"},{\"attributes\":{\"callback\":null,\"data\":{\"x\":[1,2,7,21,59,166,464,1291,3593,10000],\"y\":{\"__ndarray__\":\"AACAKUQgZD8AAIApkP9gPwAAAIpd6mY/AACAPF7jcz8AACD/kAeFPwAAYDhejpo/AAB8W1BisT8AADqM35rHPwAANMirQ+A/AEB/5PQi9D8=\",\"dtype\":\"float64\",\"shape\":[10]}},\"selected\":{\"id\":\"2255\",\"type\":\"Selection\"},\"selection_policy\":{\"id\":\"2254\",\"type\":\"UnionRenderers\"}},\"id\":\"2081\",\"type\":\"ColumnDataSource\"},{\"attributes\":{},\"id\":\"2175\",\"type\":\"Selection\"},{\"attributes\":{\"line_alpha\":0.1,\"line_color\":\"#1f77b4\",\"line_width\":3,\"x\":{\"field\":\"x\"},\"y\":{\"field\":\"y\"}},\"id\":\"2082\",\"type\":\"Line\"},{\"attributes\":{},\"id\":\"2176\",\"type\":\"UnionRenderers\"},{\"attributes\":{\"line_alpha\":0.1,\"line_color\":\"#1f77b4\",\"line_width\":3,\"x\":{\"field\":\"x\"},\"y\":{\"field\":\"y\"}},\"id\":\"2083\",\"type\":\"Line\"},{\"attributes\":{},\"id\":\"2177\",\"type\":\"Selection\"},{\"attributes\":{\"data_source\":{\"id\":\"2081\",\"type\":\"ColumnDataSource\"},\"glyph\":{\"id\":\"2082\",\"type\":\"Line\"},\"hover_glyph\":null,\"muted_glyph\":null,\"nonselection_glyph\":{\"id\":\"2083\",\"type\":\"Line\"},\"selection_glyph\":null,\"view\":{\"id\":\"2085\",\"type\":\"CDSView\"}},\"id\":\"2084\",\"type\":\"GlyphRenderer\"},{\"attributes\":{},\"id\":\"2178\",\"type\":\"UnionRenderers\"},{\"attributes\":{\"source\":{\"id\":\"2081\",\"type\":\"ColumnDataSource\"}},\"id\":\"2085\",\"type\":\"CDSView\"},{\"attributes\":{},\"id\":\"2179\",\"type\":\"Selection\"},{\"attributes\":{\"bottom_units\":\"screen\",\"fill_alpha\":{\"value\":0.5},\"fill_color\":{\"value\":\"lightgrey\"},\"left_units\":\"screen\",\"level\":\"overlay\",\"line_alpha\":{\"value\":1.0},\"line_color\":{\"value\":\"black\"},\"line_dash\":[4,4],\"line_width\":{\"value\":2},\"plot\":null,\"render_mode\":\"css\",\"right_units\":\"screen\",\"top_units\":\"screen\"},\"id\":\"1844\",\"type\":\"BoxAnnotation\"},{\"attributes\":{\"axis_label\":\"Computation Time (s)\",\"axis_label_text_font_size\":{\"value\":\"16pt\"},\"formatter\":{\"id\":\"2158\",\"type\":\"BasicTickFormatter\"},\"major_label_text_font_size\":{\"value\":\"16pt\"},\"plot\":{\"id\":\"1817\",\"subtype\":\"Figure\",\"type\":\"Plot\"},\"ticker\":{\"id\":\"1832\",\"type\":\"BasicTicker\"}},\"id\":\"1831\",\"type\":\"LinearAxis\"},{\"attributes\":{\"line_alpha\":0.1,\"line_color\":\"#1f77b4\",\"line_width\":3,\"x\":{\"field\":\"x\"},\"y\":{\"field\":\"y\"}},\"id\":\"1853\",\"type\":\"Line\"},{\"attributes\":{\"overlay\":{\"id\":\"1844\",\"type\":\"BoxAnnotation\"}},\"id\":\"1838\",\"type\":\"BoxZoomTool\"},{\"attributes\":{\"dimension\":1,\"grid_line_width\":{\"value\":1},\"plot\":{\"id\":\"1817\",\"subtype\":\"Figure\",\"type\":\"Plot\"},\"ticker\":{\"id\":\"1832\",\"type\":\"BasicTicker\"}},\"id\":\"1835\",\"type\":\"Grid\"},{\"attributes\":{},\"id\":\"1832\",\"type\":\"BasicTicker\"},{\"attributes\":{\"active_drag\":\"auto\",\"active_inspect\":\"auto\",\"active_multi\":null,\"active_scroll\":\"auto\",\"active_tap\":\"auto\",\"tools\":[{\"id\":\"1836\",\"type\":\"PanTool\"},{\"id\":\"1837\",\"type\":\"WheelZoomTool\"},{\"id\":\"1838\",\"type\":\"BoxZoomTool\"},{\"id\":\"1839\",\"type\":\"SaveTool\"},{\"id\":\"1840\",\"type\":\"ResetTool\"},{\"id\":\"1841\",\"type\":\"HelpTool\"}]},\"id\":\"1842\",\"type\":\"Toolbar\"},{\"attributes\":{},\"id\":\"1836\",\"type\":\"PanTool\"},{\"attributes\":{},\"id\":\"1837\",\"type\":\"WheelZoomTool\"},{\"attributes\":{},\"id\":\"1841\",\"type\":\"HelpTool\"},{\"attributes\":{\"grid_line_width\":{\"value\":1},\"plot\":{\"id\":\"1817\",\"subtype\":\"Figure\",\"type\":\"Plot\"},\"ticker\":{\"id\":\"1827\",\"type\":\"BasicTicker\"}},\"id\":\"1830\",\"type\":\"Grid\"},{\"attributes\":{},\"id\":\"1839\",\"type\":\"SaveTool\"},{\"attributes\":{},\"id\":\"1840\",\"type\":\"ResetTool\"},{\"attributes\":{\"line_alpha\":0.1,\"line_color\":\"#1f77b4\",\"line_width\":3,\"x\":{\"field\":\"x\"},\"y\":{\"field\":\"y\"}},\"id\":\"1852\",\"type\":\"Line\"}],\"root_ids\":[\"1817\"]},\"title\":\"Bokeh Application\",\"version\":\"1.0.2\"}};\n",
       "  var render_items = [{\"docid\":\"8a602ea6-e06f-4352-890b-8f92fe1632d3\",\"roots\":{\"1817\":\"69978c92-e7dc-4e26-986b-a76a97a52531\"}}];\n",
       "  root.Bokeh.embed.embed_items_notebook(docs_json, render_items);\n",
       "\n",
       "  }\n",
       "  if (root.Bokeh !== undefined) {\n",
       "    embed_document(root);\n",
       "  } else {\n",
       "    var attempts = 0;\n",
       "    var timer = setInterval(function(root) {\n",
       "      if (root.Bokeh !== undefined) {\n",
       "        embed_document(root);\n",
       "        clearInterval(timer);\n",
       "      }\n",
       "      attempts++;\n",
       "      if (attempts > 100) {\n",
       "        console.log(\"Bokeh: ERROR: Unable to run BokehJS code because BokehJS library is missing\");\n",
       "        clearInterval(timer);\n",
       "      }\n",
       "    }, 10, root)\n",
       "  }\n",
       "})(window);"
      ],
      "application/vnd.bokehjs_exec.v0+json": ""
     },
     "metadata": {
      "application/vnd.bokehjs_exec.v0+json": {
       "id": "1817"
      }
     },
     "output_type": "display_data"
    }
   ],
   "source": [
    "colors = np.array(bkpal.Category10[10])[[3, 1, 2, 0]]\n",
    "\n",
    "#Plot bars for fraction of severe outcomes at each time\n",
    "fig = bkp.figure(y_axis_label='Computation Time (s)',x_axis_label='Dataset Size')\n",
    "for t in range(n_trials):\n",
    "    fig.line(n_data, cputs[t,:], line_color=colors[3], line_alpha=0.1)\n",
    "bkp.show(fig)"
   ]
  },
  {
   "cell_type": "markdown",
   "metadata": {},
   "source": [
    "# Unused Visualizations"
   ]
  },
  {
   "cell_type": "code",
   "execution_count": 20,
   "metadata": {
    "scrolled": false
   },
   "outputs": [
    {
     "name": "stdout",
     "output_type": "stream",
     "text": [
      "Passenger Car           5051\n",
      "Sport Utility           1623\n",
      "Pickup                  1271\n",
      "Truck                    261\n",
      "Van                      466\n",
      "Motorcycle                50\n",
      "Bus                       50\n",
      "Emergency                 50\n",
      "Tractor/Semi-Trailer      24\n",
      "Taxicab                   17\n",
      "Moped                      6\n",
      "Name: DrvrVehTyp, dtype: int64\n"
     ]
    },
    {
     "data": {
      "text/html": [
       "\n",
       "\n",
       "\n",
       "\n",
       "\n",
       "\n",
       "  <div class=\"bk-root\" id=\"c2f2aa73-3698-4a08-9048-ecf478c515be\"></div>\n"
      ]
     },
     "metadata": {},
     "output_type": "display_data"
    },
    {
     "data": {
      "application/javascript": [
       "(function(root) {\n",
       "  function embed_document(root) {\n",
       "    \n",
       "  var docs_json = {\"c53cd42c-f9fc-44e6-8302-f0168dbcd0d1\":{\"roots\":{\"references\":[{\"attributes\":{\"below\":[{\"id\":\"3488\",\"type\":\"LinearAxis\"}],\"height\":600,\"left\":[{\"id\":\"3493\",\"type\":\"CategoricalAxis\"}],\"plot_height\":400,\"plot_width\":800,\"renderers\":[{\"id\":\"3488\",\"type\":\"LinearAxis\"},{\"id\":\"3492\",\"type\":\"Grid\"},{\"id\":\"3493\",\"type\":\"CategoricalAxis\"},{\"id\":\"3496\",\"type\":\"Grid\"},{\"id\":\"3505\",\"type\":\"BoxAnnotation\"},{\"id\":\"3515\",\"type\":\"GlyphRenderer\"},{\"id\":\"3520\",\"type\":\"GlyphRenderer\"},{\"id\":\"3525\",\"type\":\"GlyphRenderer\"},{\"id\":\"3530\",\"type\":\"GlyphRenderer\"}],\"title\":{\"id\":\"3714\",\"type\":\"Title\"},\"toolbar\":{\"id\":\"3503\",\"type\":\"Toolbar\"},\"width\":600,\"x_range\":{\"id\":\"3480\",\"type\":\"DataRange1d\"},\"x_scale\":{\"id\":\"3484\",\"type\":\"LinearScale\"},\"y_range\":{\"id\":\"3482\",\"type\":\"FactorRange\"},\"y_scale\":{\"id\":\"3486\",\"type\":\"CategoricalScale\"}},\"id\":\"3479\",\"subtype\":\"Figure\",\"type\":\"Plot\"},{\"attributes\":{},\"id\":\"3489\",\"type\":\"BasicTicker\"},{\"attributes\":{},\"id\":\"3725\",\"type\":\"Selection\"},{\"attributes\":{\"grid_line_width\":{\"value\":1},\"plot\":{\"id\":\"3479\",\"subtype\":\"Figure\",\"type\":\"Plot\"},\"ticker\":{\"id\":\"3489\",\"type\":\"BasicTicker\"}},\"id\":\"3492\",\"type\":\"Grid\"},{\"attributes\":{\"axis_label_text_font_size\":{\"value\":\"16pt\"},\"formatter\":{\"id\":\"3716\",\"type\":\"CategoricalTickFormatter\"},\"major_label_text_font_size\":{\"value\":\"16pt\"},\"plot\":{\"id\":\"3479\",\"subtype\":\"Figure\",\"type\":\"Plot\"},\"ticker\":{\"id\":\"3494\",\"type\":\"CategoricalTicker\"}},\"id\":\"3493\",\"type\":\"CategoricalAxis\"},{\"attributes\":{},\"id\":\"3494\",\"type\":\"CategoricalTicker\"},{\"attributes\":{},\"id\":\"3724\",\"type\":\"UnionRenderers\"},{\"attributes\":{\"fill_alpha\":{\"value\":0.7},\"fill_color\":{\"value\":\"#ff7f0e\"},\"height\":{\"value\":0.7},\"left\":{\"field\":\"left\"},\"line_width\":{\"value\":0.5},\"right\":{\"field\":\"right\"},\"y\":{\"field\":\"y\"}},\"id\":\"3528\",\"type\":\"HBar\"},{\"attributes\":{},\"id\":\"3721\",\"type\":\"Selection\"},{\"attributes\":{\"dimension\":1,\"grid_line_width\":{\"value\":1},\"plot\":{\"id\":\"3479\",\"subtype\":\"Figure\",\"type\":\"Plot\"},\"ticker\":{\"id\":\"3494\",\"type\":\"CategoricalTicker\"}},\"id\":\"3496\",\"type\":\"Grid\"},{\"attributes\":{\"fill_alpha\":{\"value\":0.7},\"fill_color\":{\"value\":\"#1f77b4\"},\"height\":{\"value\":0.7},\"left\":{\"field\":\"left\"},\"line_width\":{\"value\":0.5},\"right\":{\"field\":\"right\"},\"y\":{\"field\":\"y\"}},\"id\":\"3518\",\"type\":\"HBar\"},{\"attributes\":{\"plot\":null,\"text\":\"\",\"text_font_size\":{\"value\":\"16pt\"}},\"id\":\"3714\",\"type\":\"Title\"},{\"attributes\":{},\"id\":\"3726\",\"type\":\"UnionRenderers\"},{\"attributes\":{\"callback\":null,\"data\":{\"left\":{\"__ndarray__\":\"3MxC7jmL7z9DaA3N9JDvP39/8fcXf+8/JF9T75zg7z+OJ3y38YTvPwAAAAAAAPA/XI/C9Shc7z8AAAAAAADwPwAAAAAAAPA/Hh4eHh4e7j8AAAAAAADwPw==\",\"dtype\":\"float64\",\"shape\":[11]},\"right\":{\"__ndarray__\":\"AAAAAAAA8D8AAAAAAADwPwAAAAAAAPA/AAAAAAAA8D8AAAAAAADwPwAAAAAAAPA/AAAAAAAA8D8AAAAAAADwPwAAAAAAAPA/AAAAAAAA8D8AAAAAAADwPw==\",\"dtype\":\"float64\",\"shape\":[11]},\"y\":[\"Passenger Car\",\"Sport Utility\",\"Pickup\",\"Truck\",\"Van\",\"Motorcycle\",\"Bus\",\"Emergency\",\"Tractor/Semi-Trailer\",\"Taxicab\",\"Moped\"]},\"selected\":{\"id\":\"3727\",\"type\":\"Selection\"},\"selection_policy\":{\"id\":\"3726\",\"type\":\"UnionRenderers\"}},\"id\":\"3527\",\"type\":\"ColumnDataSource\"},{\"attributes\":{\"callback\":null,\"data\":{\"left\":{\"__ndarray__\":\"aR54WiXt6z+/XGyXwL3rPxWaVaFZFeo/PVpUIvma6j/jCd9tPOHrPxSuR+F6FO4/cT0K16Nw7T+F61G4HoXrPwAAAAAAAOg/PDw8PDw87D8AAAAAAADwPw==\",\"dtype\":\"float64\",\"shape\":[11]},\"right\":{\"__ndarray__\":\"K15aC2C77T+0uzZj7XntP3NcM8c1c+w/ZYUY+wAz7D86k2pHZ1LtP1yPwvUoXO8/cT0K16Nw7T8AAAAAAADwPwAAAAAAAOg/Hh4eHh4e7j8AAAAAAADwPw==\",\"dtype\":\"float64\",\"shape\":[11]},\"y\":[\"Passenger Car\",\"Sport Utility\",\"Pickup\",\"Truck\",\"Van\",\"Motorcycle\",\"Bus\",\"Emergency\",\"Tractor/Semi-Trailer\",\"Taxicab\",\"Moped\"]},\"selected\":{\"id\":\"3723\",\"type\":\"Selection\"},\"selection_policy\":{\"id\":\"3722\",\"type\":\"UnionRenderers\"}},\"id\":\"3517\",\"type\":\"ColumnDataSource\"},{\"attributes\":{\"fill_alpha\":{\"value\":0.1},\"fill_color\":{\"value\":\"#1f77b4\"},\"height\":{\"value\":0.7},\"left\":{\"field\":\"left\"},\"line_alpha\":{\"value\":0.1},\"line_color\":{\"value\":\"#1f77b4\"},\"line_width\":{\"value\":0.5},\"right\":{\"field\":\"right\"},\"y\":{\"field\":\"y\"}},\"id\":\"3529\",\"type\":\"HBar\"},{\"attributes\":{\"active_drag\":\"auto\",\"active_inspect\":\"auto\",\"active_multi\":null,\"active_scroll\":\"auto\",\"active_tap\":\"auto\",\"tools\":[{\"id\":\"3497\",\"type\":\"PanTool\"},{\"id\":\"3498\",\"type\":\"WheelZoomTool\"},{\"id\":\"3499\",\"type\":\"BoxZoomTool\"},{\"id\":\"3500\",\"type\":\"SaveTool\"},{\"id\":\"3501\",\"type\":\"ResetTool\"},{\"id\":\"3502\",\"type\":\"HelpTool\"}]},\"id\":\"3503\",\"type\":\"Toolbar\"},{\"attributes\":{\"fill_alpha\":{\"value\":0.1},\"fill_color\":{\"value\":\"#1f77b4\"},\"height\":{\"value\":0.7},\"left\":{\"field\":\"left\"},\"line_alpha\":{\"value\":0.1},\"line_color\":{\"value\":\"#1f77b4\"},\"line_width\":{\"value\":0.5},\"right\":{\"field\":\"right\"},\"y\":{\"field\":\"y\"}},\"id\":\"3519\",\"type\":\"HBar\"},{\"attributes\":{},\"id\":\"3497\",\"type\":\"PanTool\"},{\"attributes\":{},\"id\":\"3718\",\"type\":\"BasicTickFormatter\"},{\"attributes\":{\"data_source\":{\"id\":\"3517\",\"type\":\"ColumnDataSource\"},\"glyph\":{\"id\":\"3518\",\"type\":\"HBar\"},\"hover_glyph\":null,\"muted_glyph\":null,\"nonselection_glyph\":{\"id\":\"3519\",\"type\":\"HBar\"},\"selection_glyph\":null,\"view\":{\"id\":\"3521\",\"type\":\"CDSView\"}},\"id\":\"3520\",\"type\":\"GlyphRenderer\"},{\"attributes\":{},\"id\":\"3498\",\"type\":\"WheelZoomTool\"},{\"attributes\":{\"source\":{\"id\":\"3517\",\"type\":\"ColumnDataSource\"}},\"id\":\"3521\",\"type\":\"CDSView\"},{\"attributes\":{\"fill_alpha\":{\"value\":0.3},\"fill_color\":{\"value\":\"#1f77b4\"},\"height\":{\"value\":0.7},\"left\":{\"field\":\"left\"},\"line_width\":{\"value\":0.5},\"right\":{\"field\":\"right\"},\"y\":{\"field\":\"y\"}},\"id\":\"3513\",\"type\":\"HBar\"},{\"attributes\":{\"overlay\":{\"id\":\"3505\",\"type\":\"BoxAnnotation\"}},\"id\":\"3499\",\"type\":\"BoxZoomTool\"},{\"attributes\":{},\"id\":\"3720\",\"type\":\"UnionRenderers\"},{\"attributes\":{},\"id\":\"3500\",\"type\":\"SaveTool\"},{\"attributes\":{\"data_source\":{\"id\":\"3512\",\"type\":\"ColumnDataSource\"},\"glyph\":{\"id\":\"3513\",\"type\":\"HBar\"},\"hover_glyph\":null,\"muted_glyph\":null,\"nonselection_glyph\":{\"id\":\"3514\",\"type\":\"HBar\"},\"selection_glyph\":null,\"view\":{\"id\":\"3516\",\"type\":\"CDSView\"}},\"id\":\"3515\",\"type\":\"GlyphRenderer\"},{\"attributes\":{\"source\":{\"id\":\"3522\",\"type\":\"ColumnDataSource\"}},\"id\":\"3526\",\"type\":\"CDSView\"},{\"attributes\":{\"data_source\":{\"id\":\"3527\",\"type\":\"ColumnDataSource\"},\"glyph\":{\"id\":\"3528\",\"type\":\"HBar\"},\"hover_glyph\":null,\"muted_glyph\":null,\"nonselection_glyph\":{\"id\":\"3529\",\"type\":\"HBar\"},\"selection_glyph\":null,\"view\":{\"id\":\"3531\",\"type\":\"CDSView\"}},\"id\":\"3530\",\"type\":\"GlyphRenderer\"},{\"attributes\":{\"fill_alpha\":{\"value\":0.1},\"fill_color\":{\"value\":\"#1f77b4\"},\"height\":{\"value\":0.7},\"left\":{\"field\":\"left\"},\"line_alpha\":{\"value\":0.1},\"line_color\":{\"value\":\"#1f77b4\"},\"line_width\":{\"value\":0.5},\"right\":{\"field\":\"right\"},\"y\":{\"field\":\"y\"}},\"id\":\"3514\",\"type\":\"HBar\"},{\"attributes\":{},\"id\":\"3501\",\"type\":\"ResetTool\"},{\"attributes\":{\"source\":{\"id\":\"3527\",\"type\":\"ColumnDataSource\"}},\"id\":\"3531\",\"type\":\"CDSView\"},{\"attributes\":{},\"id\":\"3502\",\"type\":\"HelpTool\"},{\"attributes\":{},\"id\":\"3716\",\"type\":\"CategoricalTickFormatter\"},{\"attributes\":{\"fill_alpha\":{\"value\":0.3},\"fill_color\":{\"value\":\"#ff7f0e\"},\"height\":{\"value\":0.7},\"left\":{\"field\":\"left\"},\"line_width\":{\"value\":0.5},\"right\":{\"field\":\"right\"},\"y\":{\"field\":\"y\"}},\"id\":\"3523\",\"type\":\"HBar\"},{\"attributes\":{\"callback\":null},\"id\":\"3480\",\"type\":\"DataRange1d\"},{\"attributes\":{},\"id\":\"3722\",\"type\":\"UnionRenderers\"},{\"attributes\":{\"callback\":null,\"factors\":[\"Passenger Car\",\"Sport Utility\",\"Pickup\",\"Truck\",\"Van\",\"Motorcycle\",\"Bus\",\"Emergency\",\"Tractor/Semi-Trailer\",\"Taxicab\",\"Moped\"]},\"id\":\"3482\",\"type\":\"FactorRange\"},{\"attributes\":{\"bottom_units\":\"screen\",\"fill_alpha\":{\"value\":0.5},\"fill_color\":{\"value\":\"lightgrey\"},\"left_units\":\"screen\",\"level\":\"overlay\",\"line_alpha\":{\"value\":1.0},\"line_color\":{\"value\":\"black\"},\"line_dash\":[4,4],\"line_width\":{\"value\":2},\"plot\":null,\"render_mode\":\"css\",\"right_units\":\"screen\",\"top_units\":\"screen\"},\"id\":\"3505\",\"type\":\"BoxAnnotation\"},{\"attributes\":{},\"id\":\"3723\",\"type\":\"Selection\"},{\"attributes\":{\"callback\":null,\"data\":{\"left\":{\"__ndarray__\":\"K15aC2C77T+0uzZj7XntP3NcM8c1c+w/ZYUY+wAz7D86k2pHZ1LtP1yPwvUoXO8/cT0K16Nw7T8AAAAAAADwPwAAAAAAAOg/Hh4eHh4e7j8AAAAAAADwPw==\",\"dtype\":\"float64\",\"shape\":[11]},\"right\":{\"__ndarray__\":\"3MxC7jmL7z9DaA3N9JDvP39/8fcXf+8/JF9T75zg7z+OJ3y38YTvPwAAAAAAAPA/XI/C9Shc7z8AAAAAAADwPwAAAAAAAPA/Hh4eHh4e7j8AAAAAAADwPw==\",\"dtype\":\"float64\",\"shape\":[11]},\"y\":[\"Passenger Car\",\"Sport Utility\",\"Pickup\",\"Truck\",\"Van\",\"Motorcycle\",\"Bus\",\"Emergency\",\"Tractor/Semi-Trailer\",\"Taxicab\",\"Moped\"]},\"selected\":{\"id\":\"3725\",\"type\":\"Selection\"},\"selection_policy\":{\"id\":\"3724\",\"type\":\"UnionRenderers\"}},\"id\":\"3522\",\"type\":\"ColumnDataSource\"},{\"attributes\":{},\"id\":\"3484\",\"type\":\"LinearScale\"},{\"attributes\":{\"source\":{\"id\":\"3512\",\"type\":\"ColumnDataSource\"}},\"id\":\"3516\",\"type\":\"CDSView\"},{\"attributes\":{},\"id\":\"3727\",\"type\":\"Selection\"},{\"attributes\":{\"callback\":null,\"data\":{\"left\":{\"__ndarray__\":\"AAAAAAAAAAAAAAAAAAAAAAAAAAAAAAAAAAAAAAAAAAAAAAAAAAAAAAAAAAAAAAAAAAAAAAAAAAAAAAAAAAAAAAAAAAAAAAAAAAAAAAAAAAAAAAAAAAAAAA==\",\"dtype\":\"float64\",\"shape\":[11]},\"right\":{\"__ndarray__\":\"aR54WiXt6z+/XGyXwL3rPxWaVaFZFeo/PVpUIvma6j/jCd9tPOHrPxSuR+F6FO4/cT0K16Nw7T+F61G4HoXrPwAAAAAAAOg/PDw8PDw87D8AAAAAAADwPw==\",\"dtype\":\"float64\",\"shape\":[11]},\"y\":[\"Passenger Car\",\"Sport Utility\",\"Pickup\",\"Truck\",\"Van\",\"Motorcycle\",\"Bus\",\"Emergency\",\"Tractor/Semi-Trailer\",\"Taxicab\",\"Moped\"]},\"selected\":{\"id\":\"3721\",\"type\":\"Selection\"},\"selection_policy\":{\"id\":\"3720\",\"type\":\"UnionRenderers\"}},\"id\":\"3512\",\"type\":\"ColumnDataSource\"},{\"attributes\":{\"fill_alpha\":{\"value\":0.1},\"fill_color\":{\"value\":\"#1f77b4\"},\"height\":{\"value\":0.7},\"left\":{\"field\":\"left\"},\"line_alpha\":{\"value\":0.1},\"line_color\":{\"value\":\"#1f77b4\"},\"line_width\":{\"value\":0.5},\"right\":{\"field\":\"right\"},\"y\":{\"field\":\"y\"}},\"id\":\"3524\",\"type\":\"HBar\"},{\"attributes\":{},\"id\":\"3486\",\"type\":\"CategoricalScale\"},{\"attributes\":{\"data_source\":{\"id\":\"3522\",\"type\":\"ColumnDataSource\"},\"glyph\":{\"id\":\"3523\",\"type\":\"HBar\"},\"hover_glyph\":null,\"muted_glyph\":null,\"nonselection_glyph\":{\"id\":\"3524\",\"type\":\"HBar\"},\"selection_glyph\":null,\"view\":{\"id\":\"3526\",\"type\":\"CDSView\"}},\"id\":\"3525\",\"type\":\"GlyphRenderer\"},{\"attributes\":{\"axis_label\":\"Fraction\",\"axis_label_text_font_size\":{\"value\":\"16pt\"},\"formatter\":{\"id\":\"3718\",\"type\":\"BasicTickFormatter\"},\"major_label_text_font_size\":{\"value\":\"16pt\"},\"plot\":{\"id\":\"3479\",\"subtype\":\"Figure\",\"type\":\"Plot\"},\"ticker\":{\"id\":\"3489\",\"type\":\"BasicTicker\"}},\"id\":\"3488\",\"type\":\"LinearAxis\"}],\"root_ids\":[\"3479\"]},\"title\":\"Bokeh Application\",\"version\":\"1.0.2\"}};\n",
       "  var render_items = [{\"docid\":\"c53cd42c-f9fc-44e6-8302-f0168dbcd0d1\",\"roots\":{\"3479\":\"c2f2aa73-3698-4a08-9048-ecf478c515be\"}}];\n",
       "  root.Bokeh.embed.embed_items_notebook(docs_json, render_items);\n",
       "\n",
       "  }\n",
       "  if (root.Bokeh !== undefined) {\n",
       "    embed_document(root);\n",
       "  } else {\n",
       "    var attempts = 0;\n",
       "    var timer = setInterval(function(root) {\n",
       "      if (root.Bokeh !== undefined) {\n",
       "        embed_document(root);\n",
       "        clearInterval(timer);\n",
       "      }\n",
       "      attempts++;\n",
       "      if (attempts > 100) {\n",
       "        console.log(\"Bokeh: ERROR: Unable to run BokehJS code because BokehJS library is missing\");\n",
       "        clearInterval(timer);\n",
       "      }\n",
       "    }, 10, root)\n",
       "  }\n",
       "})(window);"
      ],
      "application/vnd.bokehjs_exec.v0+json": ""
     },
     "metadata": {
      "application/vnd.bokehjs_exec.v0+json": {
       "id": "3479"
      }
     },
     "output_type": "display_data"
    },
    {
     "name": "stderr",
     "output_type": "stream",
     "text": [
      "/home/trevor/.local/lib/python3.6/site-packages/pandas/core/series.py:1139: FutureWarning: \n",
      "Passing list-likes to .loc or [] with any missing label will raise\n",
      "KeyError in the future, you can use .reindex() as an alternative.\n",
      "\n",
      "See the documentation here:\n",
      "https://pandas.pydata.org/pandas-docs/stable/user_guide/indexing.html#deprecate-loc-reindex-listlike\n",
      "  return self.loc[key]\n"
     ]
    },
    {
     "data": {
      "text/html": [
       "\n",
       "\n",
       "\n",
       "\n",
       "\n",
       "\n",
       "  <div class=\"bk-root\" id=\"bc605f6e-d95a-4f16-b2e3-0a8ffa00b583\"></div>\n"
      ]
     },
     "metadata": {},
     "output_type": "display_data"
    },
    {
     "data": {
      "application/javascript": [
       "(function(root) {\n",
       "  function embed_document(root) {\n",
       "    \n",
       "  var docs_json = {\"bf51f903-3faf-4b03-a5ce-34c44e4fa214\":{\"roots\":{\"references\":[{\"attributes\":{\"below\":[{\"id\":\"3827\",\"type\":\"LinearAxis\"}],\"height\":600,\"left\":[{\"id\":\"3832\",\"type\":\"CategoricalAxis\"}],\"plot_height\":250,\"renderers\":[{\"id\":\"3827\",\"type\":\"LinearAxis\"},{\"id\":\"3831\",\"type\":\"Grid\"},{\"id\":\"3832\",\"type\":\"CategoricalAxis\"},{\"id\":\"3835\",\"type\":\"Grid\"},{\"id\":\"3844\",\"type\":\"BoxAnnotation\"},{\"id\":\"3854\",\"type\":\"GlyphRenderer\"},{\"id\":\"3859\",\"type\":\"GlyphRenderer\"},{\"id\":\"3864\",\"type\":\"GlyphRenderer\"},{\"id\":\"3869\",\"type\":\"GlyphRenderer\"}],\"title\":{\"id\":\"4068\",\"type\":\"Title\"},\"toolbar\":{\"id\":\"3842\",\"type\":\"Toolbar\"},\"width\":600,\"x_range\":{\"id\":\"3819\",\"type\":\"DataRange1d\"},\"x_scale\":{\"id\":\"3823\",\"type\":\"LinearScale\"},\"y_range\":{\"id\":\"3821\",\"type\":\"FactorRange\"},\"y_scale\":{\"id\":\"3825\",\"type\":\"CategoricalScale\"}},\"id\":\"3818\",\"subtype\":\"Figure\",\"type\":\"Plot\"},{\"attributes\":{\"fill_alpha\":{\"value\":0.3},\"fill_color\":{\"value\":\"#ff7f0e\"},\"height\":{\"value\":0.7},\"left\":{\"field\":\"left\"},\"line_width\":{\"value\":0.5},\"right\":{\"field\":\"right\"},\"y\":{\"field\":\"y\"}},\"id\":\"3862\",\"type\":\"HBar\"},{\"attributes\":{\"active_drag\":\"auto\",\"active_inspect\":\"auto\",\"active_multi\":null,\"active_scroll\":\"auto\",\"active_tap\":\"auto\",\"tools\":[{\"id\":\"3836\",\"type\":\"PanTool\"},{\"id\":\"3837\",\"type\":\"WheelZoomTool\"},{\"id\":\"3838\",\"type\":\"BoxZoomTool\"},{\"id\":\"3839\",\"type\":\"SaveTool\"},{\"id\":\"3840\",\"type\":\"ResetTool\"},{\"id\":\"3841\",\"type\":\"HelpTool\"}]},\"id\":\"3842\",\"type\":\"Toolbar\"},{\"attributes\":{},\"id\":\"4081\",\"type\":\"Selection\"},{\"attributes\":{\"plot\":null,\"text\":\"\",\"text_font_size\":{\"value\":\"16pt\"}},\"id\":\"4068\",\"type\":\"Title\"},{\"attributes\":{\"callback\":null,\"data\":{\"left\":{\"__ndarray__\":\"jwwbxM2T7z9M+B31iL7uP9MttBtnVe4/eknY6Giv7D81A1debiHpP4qd2Imd2Ok/\",\"dtype\":\"float64\",\"shape\":[6]},\"right\":{\"__ndarray__\":\"Od0DHIvw7z9yGF6+x8/vP+D3writtu8/535R/tZm7z9P7MRO7MTuP0/sxE7sxO4/\",\"dtype\":\"float64\",\"shape\":[6]},\"y\":[\"15\",\"25\",\"35\",\"45\",\"55\",\"75\"]},\"selected\":{\"id\":\"4079\",\"type\":\"Selection\"},\"selection_policy\":{\"id\":\"4078\",\"type\":\"UnionRenderers\"}},\"id\":\"3861\",\"type\":\"ColumnDataSource\"},{\"attributes\":{},\"id\":\"3836\",\"type\":\"PanTool\"},{\"attributes\":{},\"id\":\"3837\",\"type\":\"WheelZoomTool\"},{\"attributes\":{\"source\":{\"id\":\"3851\",\"type\":\"ColumnDataSource\"}},\"id\":\"3855\",\"type\":\"CDSView\"},{\"attributes\":{\"fill_alpha\":{\"value\":0.1},\"fill_color\":{\"value\":\"#1f77b4\"},\"height\":{\"value\":0.7},\"left\":{\"field\":\"left\"},\"line_alpha\":{\"value\":0.1},\"line_color\":{\"value\":\"#1f77b4\"},\"line_width\":{\"value\":0.5},\"right\":{\"field\":\"right\"},\"y\":{\"field\":\"y\"}},\"id\":\"3858\",\"type\":\"HBar\"},{\"attributes\":{\"overlay\":{\"id\":\"3844\",\"type\":\"BoxAnnotation\"}},\"id\":\"3838\",\"type\":\"BoxZoomTool\"},{\"attributes\":{\"source\":{\"id\":\"3861\",\"type\":\"ColumnDataSource\"}},\"id\":\"3865\",\"type\":\"CDSView\"},{\"attributes\":{},\"id\":\"3839\",\"type\":\"SaveTool\"},{\"attributes\":{\"data_source\":{\"id\":\"3866\",\"type\":\"ColumnDataSource\"},\"glyph\":{\"id\":\"3867\",\"type\":\"HBar\"},\"hover_glyph\":null,\"muted_glyph\":null,\"nonselection_glyph\":{\"id\":\"3868\",\"type\":\"HBar\"},\"selection_glyph\":null,\"view\":{\"id\":\"3870\",\"type\":\"CDSView\"}},\"id\":\"3869\",\"type\":\"GlyphRenderer\"},{\"attributes\":{\"dimension\":1,\"grid_line_width\":{\"value\":1},\"plot\":{\"id\":\"3818\",\"subtype\":\"Figure\",\"type\":\"Plot\"},\"ticker\":{\"id\":\"3833\",\"type\":\"CategoricalTicker\"}},\"id\":\"3835\",\"type\":\"Grid\"},{\"attributes\":{},\"id\":\"3840\",\"type\":\"ResetTool\"},{\"attributes\":{\"axis_label\":\"Fraction\",\"axis_label_text_font_size\":{\"value\":\"16pt\"},\"formatter\":{\"id\":\"4072\",\"type\":\"BasicTickFormatter\"},\"major_label_text_font_size\":{\"value\":\"16pt\"},\"plot\":{\"id\":\"3818\",\"subtype\":\"Figure\",\"type\":\"Plot\"},\"ticker\":{\"id\":\"3828\",\"type\":\"BasicTicker\"}},\"id\":\"3827\",\"type\":\"LinearAxis\"},{\"attributes\":{},\"id\":\"4072\",\"type\":\"BasicTickFormatter\"},{\"attributes\":{\"fill_alpha\":{\"value\":0.7},\"fill_color\":{\"value\":\"#1f77b4\"},\"height\":{\"value\":0.7},\"left\":{\"field\":\"left\"},\"line_width\":{\"value\":0.5},\"right\":{\"field\":\"right\"},\"y\":{\"field\":\"y\"}},\"id\":\"3857\",\"type\":\"HBar\"},{\"attributes\":{\"data_source\":{\"id\":\"3856\",\"type\":\"ColumnDataSource\"},\"glyph\":{\"id\":\"3857\",\"type\":\"HBar\"},\"hover_glyph\":null,\"muted_glyph\":null,\"nonselection_glyph\":{\"id\":\"3858\",\"type\":\"HBar\"},\"selection_glyph\":null,\"view\":{\"id\":\"3860\",\"type\":\"CDSView\"}},\"id\":\"3859\",\"type\":\"GlyphRenderer\"},{\"attributes\":{},\"id\":\"3841\",\"type\":\"HelpTool\"},{\"attributes\":{\"source\":{\"id\":\"3866\",\"type\":\"ColumnDataSource\"}},\"id\":\"3870\",\"type\":\"CDSView\"},{\"attributes\":{\"callback\":null,\"data\":{\"left\":{\"__ndarray__\":\"dQ9wLMI/7j86ViVp7FztP/5+bRGzi+w/Azh9KGW26j8kHwS5VGnmP4qd2Imd2Ok/\",\"dtype\":\"float64\",\"shape\":[6]},\"right\":{\"__ndarray__\":\"jwwbxM2T7z9M+B31iL7uP9MttBtnVe4/eknY6Giv7D81A1debiHpP4qd2Imd2Ok/\",\"dtype\":\"float64\",\"shape\":[6]},\"y\":[\"15\",\"25\",\"35\",\"45\",\"55\",\"75\"]},\"selected\":{\"id\":\"4077\",\"type\":\"Selection\"},\"selection_policy\":{\"id\":\"4076\",\"type\":\"UnionRenderers\"}},\"id\":\"3856\",\"type\":\"ColumnDataSource\"},{\"attributes\":{\"grid_line_width\":{\"value\":1},\"plot\":{\"id\":\"3818\",\"subtype\":\"Figure\",\"type\":\"Plot\"},\"ticker\":{\"id\":\"3828\",\"type\":\"BasicTicker\"}},\"id\":\"3831\",\"type\":\"Grid\"},{\"attributes\":{\"bottom_units\":\"screen\",\"fill_alpha\":{\"value\":0.5},\"fill_color\":{\"value\":\"lightgrey\"},\"left_units\":\"screen\",\"level\":\"overlay\",\"line_alpha\":{\"value\":1.0},\"line_color\":{\"value\":\"black\"},\"line_dash\":[4,4],\"line_width\":{\"value\":2},\"plot\":null,\"render_mode\":\"css\",\"right_units\":\"screen\",\"top_units\":\"screen\"},\"id\":\"3844\",\"type\":\"BoxAnnotation\"},{\"attributes\":{},\"id\":\"4076\",\"type\":\"UnionRenderers\"},{\"attributes\":{},\"id\":\"3828\",\"type\":\"BasicTicker\"},{\"attributes\":{\"source\":{\"id\":\"3856\",\"type\":\"ColumnDataSource\"}},\"id\":\"3860\",\"type\":\"CDSView\"},{\"attributes\":{\"axis_label\":\"Speed Limit (MPH)\",\"axis_label_text_font_size\":{\"value\":\"16pt\"},\"formatter\":{\"id\":\"4070\",\"type\":\"CategoricalTickFormatter\"},\"major_label_text_font_size\":{\"value\":\"16pt\"},\"plot\":{\"id\":\"3818\",\"subtype\":\"Figure\",\"type\":\"Plot\"},\"ticker\":{\"id\":\"3833\",\"type\":\"CategoricalTicker\"}},\"id\":\"3832\",\"type\":\"CategoricalAxis\"},{\"attributes\":{},\"id\":\"4070\",\"type\":\"CategoricalTickFormatter\"},{\"attributes\":{},\"id\":\"4074\",\"type\":\"UnionRenderers\"},{\"attributes\":{\"fill_alpha\":{\"value\":0.3},\"fill_color\":{\"value\":\"#1f77b4\"},\"height\":{\"value\":0.7},\"left\":{\"field\":\"left\"},\"line_width\":{\"value\":0.5},\"right\":{\"field\":\"right\"},\"y\":{\"field\":\"y\"}},\"id\":\"3852\",\"type\":\"HBar\"},{\"attributes\":{},\"id\":\"3833\",\"type\":\"CategoricalTicker\"},{\"attributes\":{\"fill_alpha\":{\"value\":0.1},\"fill_color\":{\"value\":\"#1f77b4\"},\"height\":{\"value\":0.7},\"left\":{\"field\":\"left\"},\"line_alpha\":{\"value\":0.1},\"line_color\":{\"value\":\"#1f77b4\"},\"line_width\":{\"value\":0.5},\"right\":{\"field\":\"right\"},\"y\":{\"field\":\"y\"}},\"id\":\"3853\",\"type\":\"HBar\"},{\"attributes\":{\"fill_alpha\":{\"value\":0.7},\"fill_color\":{\"value\":\"#ff7f0e\"},\"height\":{\"value\":0.7},\"left\":{\"field\":\"left\"},\"line_width\":{\"value\":0.5},\"right\":{\"field\":\"right\"},\"y\":{\"field\":\"y\"}},\"id\":\"3867\",\"type\":\"HBar\"},{\"attributes\":{\"callback\":null,\"data\":{\"left\":{\"__ndarray__\":\"Od0DHIvw7z9yGF6+x8/vP+D3writtu8/535R/tZm7z9P7MRO7MTuP0/sxE7sxO4/\",\"dtype\":\"float64\",\"shape\":[6]},\"right\":{\"__ndarray__\":\"AAAAAAAA8D8AAAAAAADwPwAAAAAAAPA/AAAAAAAA8D8AAAAAAADwPwAAAAAAAPA/\",\"dtype\":\"float64\",\"shape\":[6]},\"y\":[\"15\",\"25\",\"35\",\"45\",\"55\",\"75\"]},\"selected\":{\"id\":\"4081\",\"type\":\"Selection\"},\"selection_policy\":{\"id\":\"4080\",\"type\":\"UnionRenderers\"}},\"id\":\"3866\",\"type\":\"ColumnDataSource\"},{\"attributes\":{},\"id\":\"3823\",\"type\":\"LinearScale\"},{\"attributes\":{},\"id\":\"4077\",\"type\":\"Selection\"},{\"attributes\":{\"fill_alpha\":{\"value\":0.1},\"fill_color\":{\"value\":\"#1f77b4\"},\"height\":{\"value\":0.7},\"left\":{\"field\":\"left\"},\"line_alpha\":{\"value\":0.1},\"line_color\":{\"value\":\"#1f77b4\"},\"line_width\":{\"value\":0.5},\"right\":{\"field\":\"right\"},\"y\":{\"field\":\"y\"}},\"id\":\"3863\",\"type\":\"HBar\"},{\"attributes\":{\"fill_alpha\":{\"value\":0.1},\"fill_color\":{\"value\":\"#1f77b4\"},\"height\":{\"value\":0.7},\"left\":{\"field\":\"left\"},\"line_alpha\":{\"value\":0.1},\"line_color\":{\"value\":\"#1f77b4\"},\"line_width\":{\"value\":0.5},\"right\":{\"field\":\"right\"},\"y\":{\"field\":\"y\"}},\"id\":\"3868\",\"type\":\"HBar\"},{\"attributes\":{\"callback\":null,\"factors\":[\"15\",\"25\",\"35\",\"45\",\"55\",\"75\"]},\"id\":\"3821\",\"type\":\"FactorRange\"},{\"attributes\":{},\"id\":\"4078\",\"type\":\"UnionRenderers\"},{\"attributes\":{\"callback\":null},\"id\":\"3819\",\"type\":\"DataRange1d\"},{\"attributes\":{},\"id\":\"4075\",\"type\":\"Selection\"},{\"attributes\":{\"data_source\":{\"id\":\"3851\",\"type\":\"ColumnDataSource\"},\"glyph\":{\"id\":\"3852\",\"type\":\"HBar\"},\"hover_glyph\":null,\"muted_glyph\":null,\"nonselection_glyph\":{\"id\":\"3853\",\"type\":\"HBar\"},\"selection_glyph\":null,\"view\":{\"id\":\"3855\",\"type\":\"CDSView\"}},\"id\":\"3854\",\"type\":\"GlyphRenderer\"},{\"attributes\":{},\"id\":\"4079\",\"type\":\"Selection\"},{\"attributes\":{\"callback\":null,\"data\":{\"left\":{\"__ndarray__\":\"AAAAAAAAAAAAAAAAAAAAAAAAAAAAAAAAAAAAAAAAAAAAAAAAAAAAAAAAAAAAAAAA\",\"dtype\":\"float64\",\"shape\":[6]},\"right\":{\"__ndarray__\":\"dQ9wLMI/7j86ViVp7FztP/5+bRGzi+w/Azh9KGW26j8kHwS5VGnmP4qd2Imd2Ok/\",\"dtype\":\"float64\",\"shape\":[6]},\"y\":[\"15\",\"25\",\"35\",\"45\",\"55\",\"75\"]},\"selected\":{\"id\":\"4075\",\"type\":\"Selection\"},\"selection_policy\":{\"id\":\"4074\",\"type\":\"UnionRenderers\"}},\"id\":\"3851\",\"type\":\"ColumnDataSource\"},{\"attributes\":{},\"id\":\"4080\",\"type\":\"UnionRenderers\"},{\"attributes\":{\"data_source\":{\"id\":\"3861\",\"type\":\"ColumnDataSource\"},\"glyph\":{\"id\":\"3862\",\"type\":\"HBar\"},\"hover_glyph\":null,\"muted_glyph\":null,\"nonselection_glyph\":{\"id\":\"3863\",\"type\":\"HBar\"},\"selection_glyph\":null,\"view\":{\"id\":\"3865\",\"type\":\"CDSView\"}},\"id\":\"3864\",\"type\":\"GlyphRenderer\"},{\"attributes\":{},\"id\":\"3825\",\"type\":\"CategoricalScale\"}],\"root_ids\":[\"3818\"]},\"title\":\"Bokeh Application\",\"version\":\"1.0.2\"}};\n",
       "  var render_items = [{\"docid\":\"bf51f903-3faf-4b03-a5ce-34c44e4fa214\",\"roots\":{\"3818\":\"bc605f6e-d95a-4f16-b2e3-0a8ffa00b583\"}}];\n",
       "  root.Bokeh.embed.embed_items_notebook(docs_json, render_items);\n",
       "\n",
       "  }\n",
       "  if (root.Bokeh !== undefined) {\n",
       "    embed_document(root);\n",
       "  } else {\n",
       "    var attempts = 0;\n",
       "    var timer = setInterval(function(root) {\n",
       "      if (root.Bokeh !== undefined) {\n",
       "        embed_document(root);\n",
       "        clearInterval(timer);\n",
       "      }\n",
       "      attempts++;\n",
       "      if (attempts > 100) {\n",
       "        console.log(\"Bokeh: ERROR: Unable to run BokehJS code because BokehJS library is missing\");\n",
       "        clearInterval(timer);\n",
       "      }\n",
       "    }, 10, root)\n",
       "  }\n",
       "})(window);"
      ],
      "application/vnd.bokehjs_exec.v0+json": ""
     },
     "metadata": {
      "application/vnd.bokehjs_exec.v0+json": {
       "id": "3818"
      }
     },
     "output_type": "display_data"
    },
    {
     "data": {
      "text/html": [
       "\n",
       "\n",
       "\n",
       "\n",
       "\n",
       "\n",
       "  <div class=\"bk-root\" id=\"3be34e9e-9f3a-4f1c-8c4c-f2279ee76d01\"></div>\n"
      ]
     },
     "metadata": {},
     "output_type": "display_data"
    },
    {
     "data": {
      "application/javascript": [
       "(function(root) {\n",
       "  function embed_document(root) {\n",
       "    \n",
       "  var docs_json = {\"cff06c95-6d0c-4ec6-83ed-21713208ffe2\":{\"roots\":{\"references\":[{\"attributes\":{\"below\":[{\"id\":\"4181\",\"type\":\"LinearAxis\"}],\"height\":600,\"left\":[{\"id\":\"4186\",\"type\":\"CategoricalAxis\"}],\"plot_height\":250,\"renderers\":[{\"id\":\"4181\",\"type\":\"LinearAxis\"},{\"id\":\"4185\",\"type\":\"Grid\"},{\"id\":\"4186\",\"type\":\"CategoricalAxis\"},{\"id\":\"4189\",\"type\":\"Grid\"},{\"id\":\"4198\",\"type\":\"BoxAnnotation\"},{\"id\":\"4208\",\"type\":\"GlyphRenderer\"},{\"id\":\"4213\",\"type\":\"GlyphRenderer\"},{\"id\":\"4218\",\"type\":\"GlyphRenderer\"},{\"id\":\"4223\",\"type\":\"GlyphRenderer\"}],\"title\":{\"id\":\"4437\",\"type\":\"Title\"},\"toolbar\":{\"id\":\"4196\",\"type\":\"Toolbar\"},\"width\":600,\"x_range\":{\"id\":\"4173\",\"type\":\"DataRange1d\"},\"x_scale\":{\"id\":\"4177\",\"type\":\"LinearScale\"},\"y_range\":{\"id\":\"4175\",\"type\":\"FactorRange\"},\"y_scale\":{\"id\":\"4179\",\"type\":\"CategoricalScale\"}},\"id\":\"4172\",\"subtype\":\"Figure\",\"type\":\"Plot\"},{\"attributes\":{\"fill_alpha\":{\"value\":0.7},\"fill_color\":{\"value\":\"#1f77b4\"},\"height\":{\"value\":0.7},\"left\":{\"field\":\"left\"},\"line_width\":{\"value\":0.5},\"right\":{\"field\":\"right\"},\"y\":{\"field\":\"y\"}},\"id\":\"4211\",\"type\":\"HBar\"},{\"attributes\":{},\"id\":\"4177\",\"type\":\"LinearScale\"},{\"attributes\":{\"callback\":null,\"data\":{\"left\":{\"__ndarray__\":\"J8eH6UC27z9clCuTEobvPwAAAAAAAPA/\",\"dtype\":\"float64\",\"shape\":[3]},\"right\":{\"__ndarray__\":\"AAAAAAAA8D8AAAAAAADwPwAAAAAAAPA/\",\"dtype\":\"float64\",\"shape\":[3]},\"y\":[\"Female\",\"Male\",\"Unknown\"]},\"selected\":{\"id\":\"4450\",\"type\":\"Selection\"},\"selection_policy\":{\"id\":\"4449\",\"type\":\"UnionRenderers\"}},\"id\":\"4220\",\"type\":\"ColumnDataSource\"},{\"attributes\":{\"data_source\":{\"id\":\"4220\",\"type\":\"ColumnDataSource\"},\"glyph\":{\"id\":\"4221\",\"type\":\"HBar\"},\"hover_glyph\":null,\"muted_glyph\":null,\"nonselection_glyph\":{\"id\":\"4222\",\"type\":\"HBar\"},\"selection_glyph\":null,\"view\":{\"id\":\"4224\",\"type\":\"CDSView\"}},\"id\":\"4223\",\"type\":\"GlyphRenderer\"},{\"attributes\":{\"fill_alpha\":{\"value\":0.1},\"fill_color\":{\"value\":\"#1f77b4\"},\"height\":{\"value\":0.7},\"left\":{\"field\":\"left\"},\"line_alpha\":{\"value\":0.1},\"line_color\":{\"value\":\"#1f77b4\"},\"line_width\":{\"value\":0.5},\"right\":{\"field\":\"right\"},\"y\":{\"field\":\"y\"}},\"id\":\"4212\",\"type\":\"HBar\"},{\"attributes\":{\"callback\":null,\"factors\":[\"Female\",\"Male\",\"Unknown\"]},\"id\":\"4175\",\"type\":\"FactorRange\"},{\"attributes\":{\"fill_alpha\":{\"value\":0.7},\"fill_color\":{\"value\":\"#ff7f0e\"},\"height\":{\"value\":0.7},\"left\":{\"field\":\"left\"},\"line_width\":{\"value\":0.5},\"right\":{\"field\":\"right\"},\"y\":{\"field\":\"y\"}},\"id\":\"4221\",\"type\":\"HBar\"},{\"attributes\":{\"data_source\":{\"id\":\"4210\",\"type\":\"ColumnDataSource\"},\"glyph\":{\"id\":\"4211\",\"type\":\"HBar\"},\"hover_glyph\":null,\"muted_glyph\":null,\"nonselection_glyph\":{\"id\":\"4212\",\"type\":\"HBar\"},\"selection_glyph\":null,\"view\":{\"id\":\"4214\",\"type\":\"CDSView\"}},\"id\":\"4213\",\"type\":\"GlyphRenderer\"},{\"attributes\":{\"source\":{\"id\":\"4220\",\"type\":\"ColumnDataSource\"}},\"id\":\"4224\",\"type\":\"CDSView\"},{\"attributes\":{},\"id\":\"4191\",\"type\":\"WheelZoomTool\"},{\"attributes\":{\"callback\":null},\"id\":\"4173\",\"type\":\"DataRange1d\"},{\"attributes\":{\"source\":{\"id\":\"4210\",\"type\":\"ColumnDataSource\"}},\"id\":\"4214\",\"type\":\"CDSView\"},{\"attributes\":{\"fill_alpha\":{\"value\":0.3},\"fill_color\":{\"value\":\"#1f77b4\"},\"height\":{\"value\":0.7},\"left\":{\"field\":\"left\"},\"line_width\":{\"value\":0.5},\"right\":{\"field\":\"right\"},\"y\":{\"field\":\"y\"}},\"id\":\"4206\",\"type\":\"HBar\"},{\"attributes\":{},\"id\":\"4449\",\"type\":\"UnionRenderers\"},{\"attributes\":{},\"id\":\"4439\",\"type\":\"CategoricalTickFormatter\"},{\"attributes\":{},\"id\":\"4441\",\"type\":\"BasicTickFormatter\"},{\"attributes\":{\"active_drag\":\"auto\",\"active_inspect\":\"auto\",\"active_multi\":null,\"active_scroll\":\"auto\",\"active_tap\":\"auto\",\"tools\":[{\"id\":\"4190\",\"type\":\"PanTool\"},{\"id\":\"4191\",\"type\":\"WheelZoomTool\"},{\"id\":\"4192\",\"type\":\"BoxZoomTool\"},{\"id\":\"4193\",\"type\":\"SaveTool\"},{\"id\":\"4194\",\"type\":\"ResetTool\"},{\"id\":\"4195\",\"type\":\"HelpTool\"}]},\"id\":\"4196\",\"type\":\"Toolbar\"},{\"attributes\":{},\"id\":\"4190\",\"type\":\"PanTool\"},{\"attributes\":{},\"id\":\"4193\",\"type\":\"SaveTool\"},{\"attributes\":{},\"id\":\"4443\",\"type\":\"UnionRenderers\"},{\"attributes\":{},\"id\":\"4195\",\"type\":\"HelpTool\"},{\"attributes\":{\"fill_alpha\":{\"value\":0.1},\"fill_color\":{\"value\":\"#1f77b4\"},\"height\":{\"value\":0.7},\"left\":{\"field\":\"left\"},\"line_alpha\":{\"value\":0.1},\"line_color\":{\"value\":\"#1f77b4\"},\"line_width\":{\"value\":0.5},\"right\":{\"field\":\"right\"},\"y\":{\"field\":\"y\"}},\"id\":\"4217\",\"type\":\"HBar\"},{\"attributes\":{},\"id\":\"4194\",\"type\":\"ResetTool\"},{\"attributes\":{},\"id\":\"4444\",\"type\":\"Selection\"},{\"attributes\":{\"callback\":null,\"data\":{\"left\":{\"__ndarray__\":\"w+i0Su/a7D9nKdMteV7rPwAAAAAAAPA/\",\"dtype\":\"float64\",\"shape\":[3]},\"right\":{\"__ndarray__\":\"Kd9eCuKr7T/Us1LtwGXtPwAAAAAAAPA/\",\"dtype\":\"float64\",\"shape\":[3]},\"y\":[\"Female\",\"Male\",\"Unknown\"]},\"selected\":{\"id\":\"4446\",\"type\":\"Selection\"},\"selection_policy\":{\"id\":\"4445\",\"type\":\"UnionRenderers\"}},\"id\":\"4210\",\"type\":\"ColumnDataSource\"},{\"attributes\":{\"fill_alpha\":{\"value\":0.3},\"fill_color\":{\"value\":\"#ff7f0e\"},\"height\":{\"value\":0.7},\"left\":{\"field\":\"left\"},\"line_width\":{\"value\":0.5},\"right\":{\"field\":\"right\"},\"y\":{\"field\":\"y\"}},\"id\":\"4216\",\"type\":\"HBar\"},{\"attributes\":{},\"id\":\"4445\",\"type\":\"UnionRenderers\"},{\"attributes\":{\"overlay\":{\"id\":\"4198\",\"type\":\"BoxAnnotation\"}},\"id\":\"4192\",\"type\":\"BoxZoomTool\"},{\"attributes\":{\"axis_label\":\"Speed Limit (MPH)\",\"axis_label_text_font_size\":{\"value\":\"16pt\"},\"formatter\":{\"id\":\"4439\",\"type\":\"CategoricalTickFormatter\"},\"major_label_text_font_size\":{\"value\":\"16pt\"},\"plot\":{\"id\":\"4172\",\"subtype\":\"Figure\",\"type\":\"Plot\"},\"ticker\":{\"id\":\"4187\",\"type\":\"CategoricalTicker\"}},\"id\":\"4186\",\"type\":\"CategoricalAxis\"},{\"attributes\":{\"source\":{\"id\":\"4205\",\"type\":\"ColumnDataSource\"}},\"id\":\"4209\",\"type\":\"CDSView\"},{\"attributes\":{},\"id\":\"4446\",\"type\":\"Selection\"},{\"attributes\":{},\"id\":\"4187\",\"type\":\"CategoricalTicker\"},{\"attributes\":{\"callback\":null,\"data\":{\"left\":{\"__ndarray__\":\"Kd9eCuKr7T/Us1LtwGXtPwAAAAAAAPA/\",\"dtype\":\"float64\",\"shape\":[3]},\"right\":{\"__ndarray__\":\"J8eH6UC27z9clCuTEobvPwAAAAAAAPA/\",\"dtype\":\"float64\",\"shape\":[3]},\"y\":[\"Female\",\"Male\",\"Unknown\"]},\"selected\":{\"id\":\"4448\",\"type\":\"Selection\"},\"selection_policy\":{\"id\":\"4447\",\"type\":\"UnionRenderers\"}},\"id\":\"4215\",\"type\":\"ColumnDataSource\"},{\"attributes\":{\"fill_alpha\":{\"value\":0.1},\"fill_color\":{\"value\":\"#1f77b4\"},\"height\":{\"value\":0.7},\"left\":{\"field\":\"left\"},\"line_alpha\":{\"value\":0.1},\"line_color\":{\"value\":\"#1f77b4\"},\"line_width\":{\"value\":0.5},\"right\":{\"field\":\"right\"},\"y\":{\"field\":\"y\"}},\"id\":\"4207\",\"type\":\"HBar\"},{\"attributes\":{},\"id\":\"4447\",\"type\":\"UnionRenderers\"},{\"attributes\":{\"dimension\":1,\"grid_line_width\":{\"value\":1},\"plot\":{\"id\":\"4172\",\"subtype\":\"Figure\",\"type\":\"Plot\"},\"ticker\":{\"id\":\"4187\",\"type\":\"CategoricalTicker\"}},\"id\":\"4189\",\"type\":\"Grid\"},{\"attributes\":{\"data_source\":{\"id\":\"4215\",\"type\":\"ColumnDataSource\"},\"glyph\":{\"id\":\"4216\",\"type\":\"HBar\"},\"hover_glyph\":null,\"muted_glyph\":null,\"nonselection_glyph\":{\"id\":\"4217\",\"type\":\"HBar\"},\"selection_glyph\":null,\"view\":{\"id\":\"4219\",\"type\":\"CDSView\"}},\"id\":\"4218\",\"type\":\"GlyphRenderer\"},{\"attributes\":{},\"id\":\"4448\",\"type\":\"Selection\"},{\"attributes\":{\"plot\":null,\"text\":\"\",\"text_font_size\":{\"value\":\"16pt\"}},\"id\":\"4437\",\"type\":\"Title\"},{\"attributes\":{\"source\":{\"id\":\"4215\",\"type\":\"ColumnDataSource\"}},\"id\":\"4219\",\"type\":\"CDSView\"},{\"attributes\":{\"bottom_units\":\"screen\",\"fill_alpha\":{\"value\":0.5},\"fill_color\":{\"value\":\"lightgrey\"},\"left_units\":\"screen\",\"level\":\"overlay\",\"line_alpha\":{\"value\":1.0},\"line_color\":{\"value\":\"black\"},\"line_dash\":[4,4],\"line_width\":{\"value\":2},\"plot\":null,\"render_mode\":\"css\",\"right_units\":\"screen\",\"top_units\":\"screen\"},\"id\":\"4198\",\"type\":\"BoxAnnotation\"},{\"attributes\":{\"callback\":null,\"data\":{\"left\":{\"__ndarray__\":\"AAAAAAAAAAAAAAAAAAAAAAAAAAAAAAAA\",\"dtype\":\"float64\",\"shape\":[3]},\"right\":{\"__ndarray__\":\"w+i0Su/a7D9nKdMteV7rPwAAAAAAAPA/\",\"dtype\":\"float64\",\"shape\":[3]},\"y\":[\"Female\",\"Male\",\"Unknown\"]},\"selected\":{\"id\":\"4444\",\"type\":\"Selection\"},\"selection_policy\":{\"id\":\"4443\",\"type\":\"UnionRenderers\"}},\"id\":\"4205\",\"type\":\"ColumnDataSource\"},{\"attributes\":{\"data_source\":{\"id\":\"4205\",\"type\":\"ColumnDataSource\"},\"glyph\":{\"id\":\"4206\",\"type\":\"HBar\"},\"hover_glyph\":null,\"muted_glyph\":null,\"nonselection_glyph\":{\"id\":\"4207\",\"type\":\"HBar\"},\"selection_glyph\":null,\"view\":{\"id\":\"4209\",\"type\":\"CDSView\"}},\"id\":\"4208\",\"type\":\"GlyphRenderer\"},{\"attributes\":{},\"id\":\"4450\",\"type\":\"Selection\"},{\"attributes\":{\"grid_line_width\":{\"value\":1},\"plot\":{\"id\":\"4172\",\"subtype\":\"Figure\",\"type\":\"Plot\"},\"ticker\":{\"id\":\"4182\",\"type\":\"BasicTicker\"}},\"id\":\"4185\",\"type\":\"Grid\"},{\"attributes\":{},\"id\":\"4182\",\"type\":\"BasicTicker\"},{\"attributes\":{\"fill_alpha\":{\"value\":0.1},\"fill_color\":{\"value\":\"#1f77b4\"},\"height\":{\"value\":0.7},\"left\":{\"field\":\"left\"},\"line_alpha\":{\"value\":0.1},\"line_color\":{\"value\":\"#1f77b4\"},\"line_width\":{\"value\":0.5},\"right\":{\"field\":\"right\"},\"y\":{\"field\":\"y\"}},\"id\":\"4222\",\"type\":\"HBar\"},{\"attributes\":{\"axis_label\":\"Fraction\",\"axis_label_text_font_size\":{\"value\":\"16pt\"},\"formatter\":{\"id\":\"4441\",\"type\":\"BasicTickFormatter\"},\"major_label_text_font_size\":{\"value\":\"16pt\"},\"plot\":{\"id\":\"4172\",\"subtype\":\"Figure\",\"type\":\"Plot\"},\"ticker\":{\"id\":\"4182\",\"type\":\"BasicTicker\"}},\"id\":\"4181\",\"type\":\"LinearAxis\"},{\"attributes\":{},\"id\":\"4179\",\"type\":\"CategoricalScale\"}],\"root_ids\":[\"4172\"]},\"title\":\"Bokeh Application\",\"version\":\"1.0.2\"}};\n",
       "  var render_items = [{\"docid\":\"cff06c95-6d0c-4ec6-83ed-21713208ffe2\",\"roots\":{\"4172\":\"3be34e9e-9f3a-4f1c-8c4c-f2279ee76d01\"}}];\n",
       "  root.Bokeh.embed.embed_items_notebook(docs_json, render_items);\n",
       "\n",
       "  }\n",
       "  if (root.Bokeh !== undefined) {\n",
       "    embed_document(root);\n",
       "  } else {\n",
       "    var attempts = 0;\n",
       "    var timer = setInterval(function(root) {\n",
       "      if (root.Bokeh !== undefined) {\n",
       "        embed_document(root);\n",
       "        clearInterval(timer);\n",
       "      }\n",
       "      attempts++;\n",
       "      if (attempts > 100) {\n",
       "        console.log(\"Bokeh: ERROR: Unable to run BokehJS code because BokehJS library is missing\");\n",
       "        clearInterval(timer);\n",
       "      }\n",
       "    }, 10, root)\n",
       "  }\n",
       "})(window);"
      ],
      "application/vnd.bokehjs_exec.v0+json": ""
     },
     "metadata": {
      "application/vnd.bokehjs_exec.v0+json": {
       "id": "4172"
      }
     },
     "output_type": "display_data"
    },
    {
     "data": {
      "text/html": [
       "\n",
       "\n",
       "\n",
       "\n",
       "\n",
       "\n",
       "  <div class=\"bk-root\" id=\"520bf84b-12b3-40ff-a9a7-24645317083e\"></div>\n"
      ]
     },
     "metadata": {},
     "output_type": "display_data"
    },
    {
     "data": {
      "application/javascript": [
       "(function(root) {\n",
       "  function embed_document(root) {\n",
       "    \n",
       "  var docs_json = {\"e8d276a6-716c-4c16-b726-22d183044f1f\":{\"roots\":{\"references\":[{\"attributes\":{\"below\":[{\"id\":\"4550\",\"type\":\"LinearAxis\"}],\"height\":600,\"left\":[{\"id\":\"4555\",\"type\":\"CategoricalAxis\"}],\"plot_height\":200,\"renderers\":[{\"id\":\"4550\",\"type\":\"LinearAxis\"},{\"id\":\"4554\",\"type\":\"Grid\"},{\"id\":\"4555\",\"type\":\"CategoricalAxis\"},{\"id\":\"4558\",\"type\":\"Grid\"},{\"id\":\"4567\",\"type\":\"BoxAnnotation\"},{\"id\":\"4577\",\"type\":\"GlyphRenderer\"},{\"id\":\"4582\",\"type\":\"GlyphRenderer\"},{\"id\":\"4587\",\"type\":\"GlyphRenderer\"},{\"id\":\"4592\",\"type\":\"GlyphRenderer\"}],\"title\":{\"id\":\"4821\",\"type\":\"Title\"},\"toolbar\":{\"id\":\"4565\",\"type\":\"Toolbar\"},\"width\":600,\"x_range\":{\"id\":\"4542\",\"type\":\"DataRange1d\"},\"x_scale\":{\"id\":\"4546\",\"type\":\"LinearScale\"},\"y_range\":{\"id\":\"4544\",\"type\":\"FactorRange\"},\"y_scale\":{\"id\":\"4548\",\"type\":\"CategoricalScale\"}},\"id\":\"4541\",\"subtype\":\"Figure\",\"type\":\"Plot\"},{\"attributes\":{\"data_source\":{\"id\":\"4584\",\"type\":\"ColumnDataSource\"},\"glyph\":{\"id\":\"4585\",\"type\":\"HBar\"},\"hover_glyph\":null,\"muted_glyph\":null,\"nonselection_glyph\":{\"id\":\"4586\",\"type\":\"HBar\"},\"selection_glyph\":null,\"view\":{\"id\":\"4588\",\"type\":\"CDSView\"}},\"id\":\"4587\",\"type\":\"GlyphRenderer\"},{\"attributes\":{},\"id\":\"4563\",\"type\":\"ResetTool\"},{\"attributes\":{},\"id\":\"4564\",\"type\":\"HelpTool\"},{\"attributes\":{\"callback\":null},\"id\":\"4542\",\"type\":\"DataRange1d\"},{\"attributes\":{\"source\":{\"id\":\"4584\",\"type\":\"ColumnDataSource\"}},\"id\":\"4588\",\"type\":\"CDSView\"},{\"attributes\":{\"fill_alpha\":{\"value\":0.1},\"fill_color\":{\"value\":\"#1f77b4\"},\"height\":{\"value\":0.7},\"left\":{\"field\":\"left\"},\"line_alpha\":{\"value\":0.1},\"line_color\":{\"value\":\"#1f77b4\"},\"line_width\":{\"value\":0.5},\"right\":{\"field\":\"right\"},\"y\":{\"field\":\"y\"}},\"id\":\"4581\",\"type\":\"HBar\"},{\"attributes\":{\"callback\":null,\"factors\":[\"Dawn\",\"Dayl\",\"Dusk\",\"Dark\"]},\"id\":\"4544\",\"type\":\"FactorRange\"},{\"attributes\":{\"bottom_units\":\"screen\",\"fill_alpha\":{\"value\":0.5},\"fill_color\":{\"value\":\"lightgrey\"},\"left_units\":\"screen\",\"level\":\"overlay\",\"line_alpha\":{\"value\":1.0},\"line_color\":{\"value\":\"black\"},\"line_dash\":[4,4],\"line_width\":{\"value\":2},\"plot\":null,\"render_mode\":\"css\",\"right_units\":\"screen\",\"top_units\":\"screen\"},\"id\":\"4567\",\"type\":\"BoxAnnotation\"},{\"attributes\":{\"fill_alpha\":{\"value\":0.3},\"fill_color\":{\"value\":\"#ff7f0e\"},\"height\":{\"value\":0.7},\"left\":{\"field\":\"left\"},\"line_width\":{\"value\":0.5},\"right\":{\"field\":\"right\"},\"y\":{\"field\":\"y\"}},\"id\":\"4585\",\"type\":\"HBar\"},{\"attributes\":{},\"id\":\"4546\",\"type\":\"LinearScale\"},{\"attributes\":{\"fill_alpha\":{\"value\":0.7},\"fill_color\":{\"value\":\"#1f77b4\"},\"height\":{\"value\":0.7},\"left\":{\"field\":\"left\"},\"line_width\":{\"value\":0.5},\"right\":{\"field\":\"right\"},\"y\":{\"field\":\"y\"}},\"id\":\"4580\",\"type\":\"HBar\"},{\"attributes\":{\"callback\":null,\"data\":{\"left\":{\"__ndarray__\":\"IXf9bLEy7D/X1Zp8UO7sP82OWoT8Nes/XkVYu4qw5j8=\",\"dtype\":\"float64\",\"shape\":[4]},\"right\":{\"__ndarray__\":\"waRT8yB37T+KluxZWPHtPzY7ahHy1+w/11jXrbGu6z8=\",\"dtype\":\"float64\",\"shape\":[4]},\"y\":[\"Dawn\",\"Dayl\",\"Dusk\",\"Dark\"]},\"selected\":{\"id\":\"4830\",\"type\":\"Selection\"},\"selection_policy\":{\"id\":\"4829\",\"type\":\"UnionRenderers\"}},\"id\":\"4579\",\"type\":\"ColumnDataSource\"},{\"attributes\":{},\"id\":\"4548\",\"type\":\"CategoricalScale\"},{\"attributes\":{\"data_source\":{\"id\":\"4579\",\"type\":\"ColumnDataSource\"},\"glyph\":{\"id\":\"4580\",\"type\":\"HBar\"},\"hover_glyph\":null,\"muted_glyph\":null,\"nonselection_glyph\":{\"id\":\"4581\",\"type\":\"HBar\"},\"selection_glyph\":null,\"view\":{\"id\":\"4583\",\"type\":\"CDSView\"}},\"id\":\"4582\",\"type\":\"GlyphRenderer\"},{\"attributes\":{\"axis_label\":\"Fraction\",\"axis_label_text_font_size\":{\"value\":\"16pt\"},\"formatter\":{\"id\":\"4825\",\"type\":\"BasicTickFormatter\"},\"major_label_text_font_size\":{\"value\":\"16pt\"},\"plot\":{\"id\":\"4541\",\"subtype\":\"Figure\",\"type\":\"Plot\"},\"ticker\":{\"id\":\"4551\",\"type\":\"BasicTicker\"}},\"id\":\"4550\",\"type\":\"LinearAxis\"},{\"attributes\":{\"fill_alpha\":{\"value\":0.1},\"fill_color\":{\"value\":\"#1f77b4\"},\"height\":{\"value\":0.7},\"left\":{\"field\":\"left\"},\"line_alpha\":{\"value\":0.1},\"line_color\":{\"value\":\"#1f77b4\"},\"line_width\":{\"value\":0.5},\"right\":{\"field\":\"right\"},\"y\":{\"field\":\"y\"}},\"id\":\"4576\",\"type\":\"HBar\"},{\"attributes\":{},\"id\":\"4827\",\"type\":\"UnionRenderers\"},{\"attributes\":{},\"id\":\"4551\",\"type\":\"BasicTicker\"},{\"attributes\":{\"source\":{\"id\":\"4579\",\"type\":\"ColumnDataSource\"}},\"id\":\"4583\",\"type\":\"CDSView\"},{\"attributes\":{\"grid_line_width\":{\"value\":1},\"plot\":{\"id\":\"4541\",\"subtype\":\"Figure\",\"type\":\"Plot\"},\"ticker\":{\"id\":\"4551\",\"type\":\"BasicTicker\"}},\"id\":\"4554\",\"type\":\"Grid\"},{\"attributes\":{\"callback\":null,\"data\":{\"left\":{\"__ndarray__\":\"AAAAAAAAAAAAAAAAAAAAAAAAAAAAAAAAAAAAAAAAAAA=\",\"dtype\":\"float64\",\"shape\":[4]},\"right\":{\"__ndarray__\":\"IXf9bLEy7D/X1Zp8UO7sP82OWoT8Nes/XkVYu4qw5j8=\",\"dtype\":\"float64\",\"shape\":[4]},\"y\":[\"Dawn\",\"Dayl\",\"Dusk\",\"Dark\"]},\"selected\":{\"id\":\"4828\",\"type\":\"Selection\"},\"selection_policy\":{\"id\":\"4827\",\"type\":\"UnionRenderers\"}},\"id\":\"4574\",\"type\":\"ColumnDataSource\"},{\"attributes\":{\"axis_label_text_font_size\":{\"value\":\"16pt\"},\"formatter\":{\"id\":\"4823\",\"type\":\"CategoricalTickFormatter\"},\"major_label_text_font_size\":{\"value\":\"16pt\"},\"plot\":{\"id\":\"4541\",\"subtype\":\"Figure\",\"type\":\"Plot\"},\"ticker\":{\"id\":\"4556\",\"type\":\"CategoricalTicker\"}},\"id\":\"4555\",\"type\":\"CategoricalAxis\"},{\"attributes\":{\"data_source\":{\"id\":\"4589\",\"type\":\"ColumnDataSource\"},\"glyph\":{\"id\":\"4590\",\"type\":\"HBar\"},\"hover_glyph\":null,\"muted_glyph\":null,\"nonselection_glyph\":{\"id\":\"4591\",\"type\":\"HBar\"},\"selection_glyph\":null,\"view\":{\"id\":\"4593\",\"type\":\"CDSView\"}},\"id\":\"4592\",\"type\":\"GlyphRenderer\"},{\"attributes\":{},\"id\":\"4829\",\"type\":\"UnionRenderers\"},{\"attributes\":{},\"id\":\"4556\",\"type\":\"CategoricalTicker\"},{\"attributes\":{\"data_source\":{\"id\":\"4574\",\"type\":\"ColumnDataSource\"},\"glyph\":{\"id\":\"4575\",\"type\":\"HBar\"},\"hover_glyph\":null,\"muted_glyph\":null,\"nonselection_glyph\":{\"id\":\"4576\",\"type\":\"HBar\"},\"selection_glyph\":null,\"view\":{\"id\":\"4578\",\"type\":\"CDSView\"}},\"id\":\"4577\",\"type\":\"GlyphRenderer\"},{\"attributes\":{\"fill_alpha\":{\"value\":0.7},\"fill_color\":{\"value\":\"#ff7f0e\"},\"height\":{\"value\":0.7},\"left\":{\"field\":\"left\"},\"line_width\":{\"value\":0.5},\"right\":{\"field\":\"right\"},\"y\":{\"field\":\"y\"}},\"id\":\"4590\",\"type\":\"HBar\"},{\"attributes\":{\"dimension\":1,\"grid_line_width\":{\"value\":1},\"plot\":{\"id\":\"4541\",\"subtype\":\"Figure\",\"type\":\"Plot\"},\"ticker\":{\"id\":\"4556\",\"type\":\"CategoricalTicker\"}},\"id\":\"4558\",\"type\":\"Grid\"},{\"attributes\":{},\"id\":\"4828\",\"type\":\"Selection\"},{\"attributes\":{\"callback\":null,\"data\":{\"left\":{\"__ndarray__\":\"AAAAAAAA8D8ZyzKUWdHvP8/zPM/zPO8/uFRMb6mY7j8=\",\"dtype\":\"float64\",\"shape\":[4]},\"right\":{\"__ndarray__\":\"AAAAAAAA8D8AAAAAAADwPwAAAAAAAPA/AAAAAAAA8D8=\",\"dtype\":\"float64\",\"shape\":[4]},\"y\":[\"Dawn\",\"Dayl\",\"Dusk\",\"Dark\"]},\"selected\":{\"id\":\"4834\",\"type\":\"Selection\"},\"selection_policy\":{\"id\":\"4833\",\"type\":\"UnionRenderers\"}},\"id\":\"4589\",\"type\":\"ColumnDataSource\"},{\"attributes\":{\"fill_alpha\":{\"value\":0.3},\"fill_color\":{\"value\":\"#1f77b4\"},\"height\":{\"value\":0.7},\"left\":{\"field\":\"left\"},\"line_width\":{\"value\":0.5},\"right\":{\"field\":\"right\"},\"y\":{\"field\":\"y\"}},\"id\":\"4575\",\"type\":\"HBar\"},{\"attributes\":{\"fill_alpha\":{\"value\":0.1},\"fill_color\":{\"value\":\"#1f77b4\"},\"height\":{\"value\":0.7},\"left\":{\"field\":\"left\"},\"line_alpha\":{\"value\":0.1},\"line_color\":{\"value\":\"#1f77b4\"},\"line_width\":{\"value\":0.5},\"right\":{\"field\":\"right\"},\"y\":{\"field\":\"y\"}},\"id\":\"4591\",\"type\":\"HBar\"},{\"attributes\":{\"plot\":null,\"text\":\"\",\"text_font_size\":{\"value\":\"16pt\"}},\"id\":\"4821\",\"type\":\"Title\"},{\"attributes\":{\"source\":{\"id\":\"4574\",\"type\":\"ColumnDataSource\"}},\"id\":\"4578\",\"type\":\"CDSView\"},{\"attributes\":{},\"id\":\"4830\",\"type\":\"Selection\"},{\"attributes\":{\"active_drag\":\"auto\",\"active_inspect\":\"auto\",\"active_multi\":null,\"active_scroll\":\"auto\",\"active_tap\":\"auto\",\"tools\":[{\"id\":\"4559\",\"type\":\"PanTool\"},{\"id\":\"4560\",\"type\":\"WheelZoomTool\"},{\"id\":\"4561\",\"type\":\"BoxZoomTool\"},{\"id\":\"4562\",\"type\":\"SaveTool\"},{\"id\":\"4563\",\"type\":\"ResetTool\"},{\"id\":\"4564\",\"type\":\"HelpTool\"}]},\"id\":\"4565\",\"type\":\"Toolbar\"},{\"attributes\":{\"source\":{\"id\":\"4589\",\"type\":\"ColumnDataSource\"}},\"id\":\"4593\",\"type\":\"CDSView\"},{\"attributes\":{},\"id\":\"4559\",\"type\":\"PanTool\"},{\"attributes\":{},\"id\":\"4832\",\"type\":\"Selection\"},{\"attributes\":{\"fill_alpha\":{\"value\":0.1},\"fill_color\":{\"value\":\"#1f77b4\"},\"height\":{\"value\":0.7},\"left\":{\"field\":\"left\"},\"line_alpha\":{\"value\":0.1},\"line_color\":{\"value\":\"#1f77b4\"},\"line_width\":{\"value\":0.5},\"right\":{\"field\":\"right\"},\"y\":{\"field\":\"y\"}},\"id\":\"4586\",\"type\":\"HBar\"},{\"attributes\":{},\"id\":\"4560\",\"type\":\"WheelZoomTool\"},{\"attributes\":{},\"id\":\"4823\",\"type\":\"CategoricalTickFormatter\"},{\"attributes\":{},\"id\":\"4831\",\"type\":\"UnionRenderers\"},{\"attributes\":{\"overlay\":{\"id\":\"4567\",\"type\":\"BoxAnnotation\"}},\"id\":\"4561\",\"type\":\"BoxZoomTool\"},{\"attributes\":{},\"id\":\"4825\",\"type\":\"BasicTickFormatter\"},{\"attributes\":{},\"id\":\"4834\",\"type\":\"Selection\"},{\"attributes\":{\"callback\":null,\"data\":{\"left\":{\"__ndarray__\":\"waRT8yB37T+KluxZWPHtPzY7ahHy1+w/11jXrbGu6z8=\",\"dtype\":\"float64\",\"shape\":[4]},\"right\":{\"__ndarray__\":\"AAAAAAAA8D8ZyzKUWdHvP8/zPM/zPO8/uFRMb6mY7j8=\",\"dtype\":\"float64\",\"shape\":[4]},\"y\":[\"Dawn\",\"Dayl\",\"Dusk\",\"Dark\"]},\"selected\":{\"id\":\"4832\",\"type\":\"Selection\"},\"selection_policy\":{\"id\":\"4831\",\"type\":\"UnionRenderers\"}},\"id\":\"4584\",\"type\":\"ColumnDataSource\"},{\"attributes\":{},\"id\":\"4833\",\"type\":\"UnionRenderers\"},{\"attributes\":{},\"id\":\"4562\",\"type\":\"SaveTool\"}],\"root_ids\":[\"4541\"]},\"title\":\"Bokeh Application\",\"version\":\"1.0.2\"}};\n",
       "  var render_items = [{\"docid\":\"e8d276a6-716c-4c16-b726-22d183044f1f\",\"roots\":{\"4541\":\"520bf84b-12b3-40ff-a9a7-24645317083e\"}}];\n",
       "  root.Bokeh.embed.embed_items_notebook(docs_json, render_items);\n",
       "\n",
       "  }\n",
       "  if (root.Bokeh !== undefined) {\n",
       "    embed_document(root);\n",
       "  } else {\n",
       "    var attempts = 0;\n",
       "    var timer = setInterval(function(root) {\n",
       "      if (root.Bokeh !== undefined) {\n",
       "        embed_document(root);\n",
       "        clearInterval(timer);\n",
       "      }\n",
       "      attempts++;\n",
       "      if (attempts > 100) {\n",
       "        console.log(\"Bokeh: ERROR: Unable to run BokehJS code because BokehJS library is missing\");\n",
       "        clearInterval(timer);\n",
       "      }\n",
       "    }, 10, root)\n",
       "  }\n",
       "})(window);"
      ],
      "application/vnd.bokehjs_exec.v0+json": ""
     },
     "metadata": {
      "application/vnd.bokehjs_exec.v0+json": {
       "id": "4541"
      }
     },
     "output_type": "display_data"
    },
    {
     "data": {
      "text/html": [
       "\n",
       "\n",
       "\n",
       "\n",
       "\n",
       "\n",
       "  <div class=\"bk-root\" id=\"ec7f82b3-513d-4b78-bf92-ce4dfd647f30\"></div>\n"
      ]
     },
     "metadata": {},
     "output_type": "display_data"
    },
    {
     "data": {
      "application/javascript": [
       "(function(root) {\n",
       "  function embed_document(root) {\n",
       "    \n",
       "  var docs_json = {\"822cbc8e-36a6-4c1d-9323-554926745f2c\":{\"roots\":{\"references\":[{\"attributes\":{\"below\":[{\"id\":\"4934\",\"type\":\"LinearAxis\"}],\"height\":600,\"left\":[{\"id\":\"4939\",\"type\":\"CategoricalAxis\"}],\"plot_height\":2000,\"renderers\":[{\"id\":\"4934\",\"type\":\"LinearAxis\"},{\"id\":\"4938\",\"type\":\"Grid\"},{\"id\":\"4939\",\"type\":\"CategoricalAxis\"},{\"id\":\"4942\",\"type\":\"Grid\"},{\"id\":\"4951\",\"type\":\"BoxAnnotation\"},{\"id\":\"4961\",\"type\":\"GlyphRenderer\"},{\"id\":\"4966\",\"type\":\"GlyphRenderer\"},{\"id\":\"4971\",\"type\":\"GlyphRenderer\"},{\"id\":\"4976\",\"type\":\"GlyphRenderer\"}],\"title\":{\"id\":\"5220\",\"type\":\"Title\"},\"toolbar\":{\"id\":\"4949\",\"type\":\"Toolbar\"},\"width\":600,\"x_range\":{\"id\":\"4926\",\"type\":\"DataRange1d\"},\"x_scale\":{\"id\":\"4930\",\"type\":\"LinearScale\"},\"y_range\":{\"id\":\"4928\",\"type\":\"FactorRange\"},\"y_scale\":{\"id\":\"4932\",\"type\":\"CategoricalScale\"}},\"id\":\"4925\",\"subtype\":\"Figure\",\"type\":\"Plot\"},{\"attributes\":{\"grid_line_width\":{\"value\":1},\"plot\":{\"id\":\"4925\",\"subtype\":\"Figure\",\"type\":\"Plot\"},\"ticker\":{\"id\":\"4935\",\"type\":\"BasicTicker\"}},\"id\":\"4938\",\"type\":\"Grid\"},{\"attributes\":{\"axis_label\":\"Speed Limit (MPH)\",\"axis_label_text_font_size\":{\"value\":\"16pt\"},\"formatter\":{\"id\":\"5222\",\"type\":\"CategoricalTickFormatter\"},\"major_label_text_font_size\":{\"value\":\"16pt\"},\"plot\":{\"id\":\"4925\",\"subtype\":\"Figure\",\"type\":\"Plot\"},\"ticker\":{\"id\":\"4940\",\"type\":\"CategoricalTicker\"}},\"id\":\"4939\",\"type\":\"CategoricalAxis\"},{\"attributes\":{},\"id\":\"5222\",\"type\":\"CategoricalTickFormatter\"},{\"attributes\":{},\"id\":\"5224\",\"type\":\"BasicTickFormatter\"},{\"attributes\":{\"fill_alpha\":{\"value\":0.3},\"fill_color\":{\"value\":\"#ff7f0e\"},\"height\":{\"value\":0.7},\"left\":{\"field\":\"left\"},\"line_width\":{\"value\":0.5},\"right\":{\"field\":\"right\"},\"y\":{\"field\":\"y\"}},\"id\":\"4969\",\"type\":\"HBar\"},{\"attributes\":{},\"id\":\"4940\",\"type\":\"CategoricalTicker\"},{\"attributes\":{\"callback\":null,\"data\":{\"left\":{\"__ndarray__\":\"AAAAAAAA8D8AAAAAAADwP83MzMzMzOw/ZmZmZmZm7j/P8zzP8zzvP6Ev6Av6gu4/JUmSJEmS7j9Pp9PpdDrtP67sc0hNMO4/SNa58oBk7T+TTTbZZJPtP3g5BS+n4O0/FK5H4XoU7j/3kMuKgRLuP1/ohV7ohe4/qAR5SpCn7D9dZwIGj+XtP2KRMvB0a+4/kZpgvJV97j9mZmZmZmbuP6YG9o6pge0/9w1r37D27T+uftBRgS/uPwrrKaynsO4/ikuGYB1t7j9mZmZmZmbvP9PS0tLS0u4/XgizXQiz7T/m2oG5dmDuP+O3Sz0Zv+0/yz6H1ATj7T9/0FGBL67uPykw6dQ8yO0/waRT8yB37T+xEzuxEzvtP+wYxbmOUew/4GpjaLqD7T8RERERERHtP5TXUF5Dee0/ncEKncEK7T+jONcxinPtP0+n0+l0Ou0/RGN9aKwP7T+yzpUHJOvsPyGKv8gZFuw/RcmuTZTs6j/btm3btm3rPygFyZ9XWew/586dO3fu7D+sMZEeqJztP6INnz/mKO0/mpmZmZmZ7T+y7xE5QbjrP0t+seQXS+4/gZVDi2zn6z/avE9xyRDsP5nOYjqL6ew/xU7sxE7s7D+cm5ubm5vrP4XrUbgehes/wQUucIEL7D/C/K4WN2HuP1VVVVVVVe0/3dzc3Nzc7D8fwX0E9xHsP33SJ33SJ+0/XXTRRRdd7D/QusEU+azrPyebbLLJJus/F1100UUX7T+rqqqqqqrqPwAAAAAAAOw/2Ymd2Imd6D+SJEmSJEniPzmO4ziO4+g/AAAAAAAA8D9GF1100UXnP1VVVVVVVeU/AAAAAAAA4D8AAAAAAADgP5qZmZmZmek/AAAAAAAA6D8AAAAAAADwP1VVVVVVVdU/AAAAAAAA8D8AAAAAAADwPwAAAAAAAPA/AAAAAAAA8D8AAAAAAADwPw==\",\"dtype\":\"float64\",\"shape\":[89]},\"right\":{\"__ndarray__\":\"AAAAAAAA8D8AAAAAAADwPwAAAAAAAPA/AAAAAAAA8D8AAAAAAADwP+gL+oK+oO8/AAAAAAAA8D8AAAAAAADwPwAAAAAAAPA/AAAAAAAA8D8AAAAAAADwPwAAAAAAAPA/16NwPQrX7z8AAAAAAADwPwAAAAAAAPA/2zesfcPa7z+HUEk3itnvP+bCXX2TvO8/DqkJxlvZ7z/btm3btm3vP3FWfkKcle8/kKcEeUqQ7z8AAAAAAADwPwP6C+gvoO8/ul0rJzzT7z9mZmZmZmbvP8TDw8PDw+8/f9Qpf9Qp7z/5GSV+RonvP5Tx26WejO8/dEhNMN7K7j8AAAAAAADwP5h0ah7kru8/+EYUmHRq7j8UO7ETO7HvPzZo8mWDJu8/cLUxNN3B7j/v7u7u7u7uPwAAAAAAAPA/4Ci73yi77z8SePshgbfvP6/X6/V6ve4/wcspeDkF7z8/6ZM+6ZPuP08frSYhiu8/VdDqSwWt7j/P8zzP8zzvP/15lcUZ7e4/+fHjx48f7z+0W/jVmEjvP4fPH3OUbu8/AAAAAAAA8D/mT1towJLuP5NfLPnFku8/CKwcWmQ77z/FJUOwjjbvPwT3EdxHcO8/FDuxEzux7z8PDw8PDw/vP1yPwvUoXO8/9KMf/ehH7z8AAAAAAADwPwAAAAAAAPA/AAAAAAAA8D8J7iO4j+DuPwAAAAAAAPA/AAAAAAAA8D8AAAAAAADwPwAAAAAAAPA/AAAAAAAA8D8AAAAAAADwPwAAAAAAAPA/AAAAAAAA8D8AAAAAAADwPwAAAAAAAPA/AAAAAAAA8D8AAAAAAADwPwAAAAAAAPA/AAAAAAAA8D8AAAAAAADwPwAAAAAAAPA/AAAAAAAA8D8AAAAAAADwPwAAAAAAAPA/AAAAAAAA8D8AAAAAAADwPwAAAAAAAPA/AAAAAAAA8D8AAAAAAADwPw==\",\"dtype\":\"float64\",\"shape\":[89]},\"y\":[\"1\",\"2\",\"3\",\"4\",\"5\",\"6\",\"7\",\"8\",\"9\",\"10\",\"11\",\"12\",\"13\",\"14\",\"15\",\"16\",\"17\",\"18\",\"19\",\"20\",\"21\",\"22\",\"23\",\"24\",\"25\",\"26\",\"27\",\"28\",\"29\",\"30\",\"31\",\"32\",\"33\",\"34\",\"35\",\"36\",\"37\",\"38\",\"39\",\"40\",\"41\",\"42\",\"43\",\"44\",\"45\",\"46\",\"47\",\"48\",\"49\",\"50\",\"51\",\"52\",\"53\",\"54\",\"55\",\"56\",\"57\",\"58\",\"59\",\"60\",\"61\",\"62\",\"63\",\"64\",\"65\",\"66\",\"67\",\"68\",\"69\",\"70\",\"71\",\"72\",\"73\",\"74\",\"75\",\"76\",\"77\",\"78\",\"79\",\"80\",\"81\",\"82\",\"83\",\"84\",\"87\",\"88\",\"89\",\"91\",\"93\"]},\"selected\":{\"id\":\"5231\",\"type\":\"Selection\"},\"selection_policy\":{\"id\":\"5230\",\"type\":\"UnionRenderers\"}},\"id\":\"4968\",\"type\":\"ColumnDataSource\"},{\"attributes\":{},\"id\":\"5226\",\"type\":\"UnionRenderers\"},{\"attributes\":{\"dimension\":1,\"grid_line_width\":{\"value\":1},\"plot\":{\"id\":\"4925\",\"subtype\":\"Figure\",\"type\":\"Plot\"},\"ticker\":{\"id\":\"4940\",\"type\":\"CategoricalTicker\"}},\"id\":\"4942\",\"type\":\"Grid\"},{\"attributes\":{},\"id\":\"5227\",\"type\":\"Selection\"},{\"attributes\":{\"plot\":null,\"text\":\"\",\"text_font_size\":{\"value\":\"16pt\"}},\"id\":\"5220\",\"type\":\"Title\"},{\"attributes\":{\"fill_alpha\":{\"value\":0.1},\"fill_color\":{\"value\":\"#1f77b4\"},\"height\":{\"value\":0.7},\"left\":{\"field\":\"left\"},\"line_alpha\":{\"value\":0.1},\"line_color\":{\"value\":\"#1f77b4\"},\"line_width\":{\"value\":0.5},\"right\":{\"field\":\"right\"},\"y\":{\"field\":\"y\"}},\"id\":\"4970\",\"type\":\"HBar\"},{\"attributes\":{},\"id\":\"5228\",\"type\":\"UnionRenderers\"},{\"attributes\":{\"fill_alpha\":{\"value\":0.7},\"fill_color\":{\"value\":\"#1f77b4\"},\"height\":{\"value\":0.7},\"left\":{\"field\":\"left\"},\"line_width\":{\"value\":0.5},\"right\":{\"field\":\"right\"},\"y\":{\"field\":\"y\"}},\"id\":\"4964\",\"type\":\"HBar\"},{\"attributes\":{\"data_source\":{\"id\":\"4968\",\"type\":\"ColumnDataSource\"},\"glyph\":{\"id\":\"4969\",\"type\":\"HBar\"},\"hover_glyph\":null,\"muted_glyph\":null,\"nonselection_glyph\":{\"id\":\"4970\",\"type\":\"HBar\"},\"selection_glyph\":null,\"view\":{\"id\":\"4972\",\"type\":\"CDSView\"}},\"id\":\"4971\",\"type\":\"GlyphRenderer\"},{\"attributes\":{\"callback\":null,\"data\":{\"left\":{\"__ndarray__\":\"AAAAAAAA8D8AAAAAAADwP83MzMzMzOw/ZmZmZmZm7j/P8zzP8zzvP4k74o64I+4/AAAAAAAA7j8+n8/n8/nsP+iQmmC8le0/fdInfdIn7T/ZZJNNNtnsP0RjfWisD+0/w/UoXI/C7T8YcaLytNDtP47cyI3cyO0/7RvWvmHt6z/wWN6rLXLtP7o1PyxSBu4/2eeQmmC87T8WX/EVX/HtPz3P8zzP8+w/fsPaN6x96z9Nw3azPInsPxjQX0B/Ae0/z/Q36Hat7D/NzMzMzMztPy0tLS0tLe0/PDw8PDw87D/MtQNz7cDsP4JEK2wOJOo/ln0OqQnG6z/9oKMCX1ztP/GNKDDp1Ow/6dQ8yF0/6z87sRM7sRPrP0ZxrmMU5+o/q42h6Q726z9mZmZmZmbqP2wor6G8huo/OMruN8ru5z9Y6amFlZ7qP51Op9PpdOo/27Zt27Zt6z+amZmZmZnpP5uEKP4iZ+g/QzpvMaTz5j8YhmEYhmHoP+hVFme0e+g/z507d+7c6T/hV2MiPVDpP9Afc5RuX+k/AAAAAAAA6T/50xYasKTnPz0K16NwPeo/okW28/3U6D/BOtq8T3HpP6+hvIbyGuo/J3ZiJ3Zi6z/JyMjIyMjoPz0K16NwPeo/nvGMZzzj6T+1uAnzu1rsP83MzMzMzOw/WlpaWlpa6j82lNdQXkPpP/qkT/qkT+o/o4suuuii6z/5rBtMkc/qPyebbLLJJus/o4suuuii6z+rqqqqqqrqPwAAAAAAAOw/2Ymd2Imd6D+SJEmSJEniPzmO4ziO4+g/AAAAAAAA8D9GF1100UXnP1VVVVVVVeU/AAAAAAAA4D8AAAAAAADgP5qZmZmZmek/AAAAAAAA6D8AAAAAAADwP1VVVVVVVdU/AAAAAAAA8D8AAAAAAAAAAAAAAAAAAPA/AAAAAAAA8D8AAAAAAADwPw==\",\"dtype\":\"float64\",\"shape\":[89]},\"right\":{\"__ndarray__\":\"AAAAAAAA8D8AAAAAAADwP83MzMzMzOw/ZmZmZmZm7j/P8zzP8zzvP6Ev6Av6gu4/JUmSJEmS7j9Pp9PpdDrtP67sc0hNMO4/SNa58oBk7T+TTTbZZJPtP3g5BS+n4O0/FK5H4XoU7j/3kMuKgRLuP1/ohV7ohe4/qAR5SpCn7D9dZwIGj+XtP2KRMvB0a+4/kZpgvJV97j9mZmZmZmbuP6YG9o6pge0/9w1r37D27T+uftBRgS/uPwrrKaynsO4/ikuGYB1t7j9mZmZmZmbvP9PS0tLS0u4/XgizXQiz7T/m2oG5dmDuP+O3Sz0Zv+0/yz6H1ATj7T9/0FGBL67uPykw6dQ8yO0/waRT8yB37T+xEzuxEzvtP+wYxbmOUew/4GpjaLqD7T8RERERERHtP5TXUF5Dee0/ncEKncEK7T+jONcxinPtP0+n0+l0Ou0/RGN9aKwP7T+yzpUHJOvsPyGKv8gZFuw/RcmuTZTs6j/btm3btm3rPygFyZ9XWew/586dO3fu7D+sMZEeqJztP6INnz/mKO0/mpmZmZmZ7T+y7xE5QbjrP0t+seQXS+4/gZVDi2zn6z/avE9xyRDsP5nOYjqL6ew/xU7sxE7s7D+cm5ubm5vrP4XrUbgehes/wQUucIEL7D/C/K4WN2HuP1VVVVVVVe0/3dzc3Nzc7D8fwX0E9xHsP33SJ33SJ+0/XXTRRRdd7D/QusEU+azrPyebbLLJJus/F1100UUX7T+rqqqqqqrqPwAAAAAAAOw/2Ymd2Imd6D+SJEmSJEniPzmO4ziO4+g/AAAAAAAA8D9GF1100UXnP1VVVVVVVeU/AAAAAAAA4D8AAAAAAADgP5qZmZmZmek/AAAAAAAA6D8AAAAAAADwP1VVVVVVVdU/AAAAAAAA8D8AAAAAAADwPwAAAAAAAPA/AAAAAAAA8D8AAAAAAADwPw==\",\"dtype\":\"float64\",\"shape\":[89]},\"y\":[\"1\",\"2\",\"3\",\"4\",\"5\",\"6\",\"7\",\"8\",\"9\",\"10\",\"11\",\"12\",\"13\",\"14\",\"15\",\"16\",\"17\",\"18\",\"19\",\"20\",\"21\",\"22\",\"23\",\"24\",\"25\",\"26\",\"27\",\"28\",\"29\",\"30\",\"31\",\"32\",\"33\",\"34\",\"35\",\"36\",\"37\",\"38\",\"39\",\"40\",\"41\",\"42\",\"43\",\"44\",\"45\",\"46\",\"47\",\"48\",\"49\",\"50\",\"51\",\"52\",\"53\",\"54\",\"55\",\"56\",\"57\",\"58\",\"59\",\"60\",\"61\",\"62\",\"63\",\"64\",\"65\",\"66\",\"67\",\"68\",\"69\",\"70\",\"71\",\"72\",\"73\",\"74\",\"75\",\"76\",\"77\",\"78\",\"79\",\"80\",\"81\",\"82\",\"83\",\"84\",\"87\",\"88\",\"89\",\"91\",\"93\"]},\"selected\":{\"id\":\"5229\",\"type\":\"Selection\"},\"selection_policy\":{\"id\":\"5228\",\"type\":\"UnionRenderers\"}},\"id\":\"4963\",\"type\":\"ColumnDataSource\"},{\"attributes\":{},\"id\":\"5229\",\"type\":\"Selection\"},{\"attributes\":{\"active_drag\":\"auto\",\"active_inspect\":\"auto\",\"active_multi\":null,\"active_scroll\":\"auto\",\"active_tap\":\"auto\",\"tools\":[{\"id\":\"4943\",\"type\":\"PanTool\"},{\"id\":\"4944\",\"type\":\"WheelZoomTool\"},{\"id\":\"4945\",\"type\":\"BoxZoomTool\"},{\"id\":\"4946\",\"type\":\"SaveTool\"},{\"id\":\"4947\",\"type\":\"ResetTool\"},{\"id\":\"4948\",\"type\":\"HelpTool\"}]},\"id\":\"4949\",\"type\":\"Toolbar\"},{\"attributes\":{\"source\":{\"id\":\"4968\",\"type\":\"ColumnDataSource\"}},\"id\":\"4972\",\"type\":\"CDSView\"},{\"attributes\":{},\"id\":\"4943\",\"type\":\"PanTool\"},{\"attributes\":{},\"id\":\"5230\",\"type\":\"UnionRenderers\"},{\"attributes\":{},\"id\":\"4944\",\"type\":\"WheelZoomTool\"},{\"attributes\":{\"fill_alpha\":{\"value\":0.1},\"fill_color\":{\"value\":\"#1f77b4\"},\"height\":{\"value\":0.7},\"left\":{\"field\":\"left\"},\"line_alpha\":{\"value\":0.1},\"line_color\":{\"value\":\"#1f77b4\"},\"line_width\":{\"value\":0.5},\"right\":{\"field\":\"right\"},\"y\":{\"field\":\"y\"}},\"id\":\"4965\",\"type\":\"HBar\"},{\"attributes\":{},\"id\":\"5231\",\"type\":\"Selection\"},{\"attributes\":{\"overlay\":{\"id\":\"4951\",\"type\":\"BoxAnnotation\"}},\"id\":\"4945\",\"type\":\"BoxZoomTool\"},{\"attributes\":{\"data_source\":{\"id\":\"4963\",\"type\":\"ColumnDataSource\"},\"glyph\":{\"id\":\"4964\",\"type\":\"HBar\"},\"hover_glyph\":null,\"muted_glyph\":null,\"nonselection_glyph\":{\"id\":\"4965\",\"type\":\"HBar\"},\"selection_glyph\":null,\"view\":{\"id\":\"4967\",\"type\":\"CDSView\"}},\"id\":\"4966\",\"type\":\"GlyphRenderer\"},{\"attributes\":{},\"id\":\"5232\",\"type\":\"UnionRenderers\"},{\"attributes\":{},\"id\":\"4946\",\"type\":\"SaveTool\"},{\"attributes\":{\"source\":{\"id\":\"4963\",\"type\":\"ColumnDataSource\"}},\"id\":\"4967\",\"type\":\"CDSView\"},{\"attributes\":{},\"id\":\"5233\",\"type\":\"Selection\"},{\"attributes\":{\"callback\":null,\"data\":{\"left\":{\"__ndarray__\":\"AAAAAAAAAAAAAAAAAAAAAAAAAAAAAAAAAAAAAAAAAAAAAAAAAAAAAAAAAAAAAAAAAAAAAAAAAAAAAAAAAAAAAAAAAAAAAAAAAAAAAAAAAAAAAAAAAAAAAAAAAAAAAAAAAAAAAAAAAAAAAAAAAAAAAAAAAAAAAAAAAAAAAAAAAAAAAAAAAAAAAAAAAAAAAAAAAAAAAAAAAAAAAAAAAAAAAAAAAAAAAAAAAAAAAAAAAAAAAAAAAAAAAAAAAAAAAAAAAAAAAAAAAAAAAAAAAAAAAAAAAAAAAAAAAAAAAAAAAAAAAAAAAAAAAAAAAAAAAAAAAAAAAAAAAAAAAAAAAAAAAAAAAAAAAAAAAAAAAAAAAAAAAAAAAAAAAAAAAAAAAAAAAAAAAAAAAAAAAAAAAAAAAAAAAAAAAAAAAAAAAAAAAAAAAAAAAAAAAAAAAAAAAAAAAAAAAAAAAAAAAAAAAAAAAAAAAAAAAAAAAAAAAAAAAAAAAAAAAAAAAAAAAAAAAAAAAAAAAAAAAAAAAAAAAAAAAAAAAAAAAAAAAAAAAAAAAAAAAAAAAAAAAAAAAAAAAAAAAAAAAAAAAAAAAAAAAAAAAAAAAAAAAAAAAAAAAAAAAAAAAAAAAAAAAAAAAAAAAAAAAAAAAAAAAAAAAAAAAAAAAAAAAAAAAAAAAAAAAAAAAAAAAAAAAAAAAAAAAAAAAAAAAAAAAAAAAAAAAAAAAAAAAAAAAAAAAAAAAAAAAAAAAAAAAAAAAAAAAAAAAAAAAAAAAAAAAAAAAAAAAAAAAAAAAAAAAAAAAAAAAAAAAAAAAAAAAAAAAAAAAAAAAAAAAAAAAAAAAAAAAAAAAAAAAAAAAAAAAAAAAAAAAAAAAAAAAAAAAAAAAAAAAAAAAAAAAAAAAAAAAAAAAAAAAAAAAAAAAAAAAAAAAAAAAAAAAAAAAAAAAAAAAAAAAA==\",\"dtype\":\"float64\",\"shape\":[89]},\"right\":{\"__ndarray__\":\"AAAAAAAA8D8AAAAAAADwP83MzMzMzOw/ZmZmZmZm7j/P8zzP8zzvP4k74o64I+4/AAAAAAAA7j8+n8/n8/nsP+iQmmC8le0/fdInfdIn7T/ZZJNNNtnsP0RjfWisD+0/w/UoXI/C7T8YcaLytNDtP47cyI3cyO0/7RvWvmHt6z/wWN6rLXLtP7o1PyxSBu4/2eeQmmC87T8WX/EVX/HtPz3P8zzP8+w/fsPaN6x96z9Nw3azPInsPxjQX0B/Ae0/z/Q36Hat7D/NzMzMzMztPy0tLS0tLe0/PDw8PDw87D/MtQNz7cDsP4JEK2wOJOo/ln0OqQnG6z/9oKMCX1ztP/GNKDDp1Ow/6dQ8yF0/6z87sRM7sRPrP0ZxrmMU5+o/q42h6Q726z9mZmZmZmbqP2wor6G8huo/OMruN8ru5z9Y6amFlZ7qP51Op9PpdOo/27Zt27Zt6z+amZmZmZnpP5uEKP4iZ+g/QzpvMaTz5j8YhmEYhmHoP+hVFme0e+g/z507d+7c6T/hV2MiPVDpP9Afc5RuX+k/AAAAAAAA6T/50xYasKTnPz0K16NwPeo/okW28/3U6D/BOtq8T3HpP6+hvIbyGuo/J3ZiJ3Zi6z/JyMjIyMjoPz0K16NwPeo/nvGMZzzj6T+1uAnzu1rsP83MzMzMzOw/WlpaWlpa6j82lNdQXkPpP/qkT/qkT+o/o4suuuii6z/5rBtMkc/qPyebbLLJJus/o4suuuii6z+rqqqqqqrqPwAAAAAAAOw/2Ymd2Imd6D+SJEmSJEniPzmO4ziO4+g/AAAAAAAA8D9GF1100UXnP1VVVVVVVeU/AAAAAAAA4D8AAAAAAADgP5qZmZmZmek/AAAAAAAA6D8AAAAAAADwP1VVVVVVVdU/AAAAAAAA8D8AAAAAAAAAAAAAAAAAAPA/AAAAAAAA8D8AAAAAAADwPw==\",\"dtype\":\"float64\",\"shape\":[89]},\"y\":[\"1\",\"2\",\"3\",\"4\",\"5\",\"6\",\"7\",\"8\",\"9\",\"10\",\"11\",\"12\",\"13\",\"14\",\"15\",\"16\",\"17\",\"18\",\"19\",\"20\",\"21\",\"22\",\"23\",\"24\",\"25\",\"26\",\"27\",\"28\",\"29\",\"30\",\"31\",\"32\",\"33\",\"34\",\"35\",\"36\",\"37\",\"38\",\"39\",\"40\",\"41\",\"42\",\"43\",\"44\",\"45\",\"46\",\"47\",\"48\",\"49\",\"50\",\"51\",\"52\",\"53\",\"54\",\"55\",\"56\",\"57\",\"58\",\"59\",\"60\",\"61\",\"62\",\"63\",\"64\",\"65\",\"66\",\"67\",\"68\",\"69\",\"70\",\"71\",\"72\",\"73\",\"74\",\"75\",\"76\",\"77\",\"78\",\"79\",\"80\",\"81\",\"82\",\"83\",\"84\",\"87\",\"88\",\"89\",\"91\",\"93\"]},\"selected\":{\"id\":\"5227\",\"type\":\"Selection\"},\"selection_policy\":{\"id\":\"5226\",\"type\":\"UnionRenderers\"}},\"id\":\"4958\",\"type\":\"ColumnDataSource\"},{\"attributes\":{},\"id\":\"4947\",\"type\":\"ResetTool\"},{\"attributes\":{},\"id\":\"4948\",\"type\":\"HelpTool\"},{\"attributes\":{\"fill_alpha\":{\"value\":0.3},\"fill_color\":{\"value\":\"#1f77b4\"},\"height\":{\"value\":0.7},\"left\":{\"field\":\"left\"},\"line_width\":{\"value\":0.5},\"right\":{\"field\":\"right\"},\"y\":{\"field\":\"y\"}},\"id\":\"4959\",\"type\":\"HBar\"},{\"attributes\":{\"callback\":null},\"id\":\"4926\",\"type\":\"DataRange1d\"},{\"attributes\":{\"fill_alpha\":{\"value\":0.1},\"fill_color\":{\"value\":\"#1f77b4\"},\"height\":{\"value\":0.7},\"left\":{\"field\":\"left\"},\"line_alpha\":{\"value\":0.1},\"line_color\":{\"value\":\"#1f77b4\"},\"line_width\":{\"value\":0.5},\"right\":{\"field\":\"right\"},\"y\":{\"field\":\"y\"}},\"id\":\"4960\",\"type\":\"HBar\"},{\"attributes\":{\"fill_alpha\":{\"value\":0.7},\"fill_color\":{\"value\":\"#ff7f0e\"},\"height\":{\"value\":0.7},\"left\":{\"field\":\"left\"},\"line_width\":{\"value\":0.5},\"right\":{\"field\":\"right\"},\"y\":{\"field\":\"y\"}},\"id\":\"4974\",\"type\":\"HBar\"},{\"attributes\":{\"callback\":null,\"factors\":[\"1\",\"2\",\"3\",\"4\",\"5\",\"6\",\"7\",\"8\",\"9\",\"10\",\"11\",\"12\",\"13\",\"14\",\"15\",\"16\",\"17\",\"18\",\"19\",\"20\",\"21\",\"22\",\"23\",\"24\",\"25\",\"26\",\"27\",\"28\",\"29\",\"30\",\"31\",\"32\",\"33\",\"34\",\"35\",\"36\",\"37\",\"38\",\"39\",\"40\",\"41\",\"42\",\"43\",\"44\",\"45\",\"46\",\"47\",\"48\",\"49\",\"50\",\"51\",\"52\",\"53\",\"54\",\"55\",\"56\",\"57\",\"58\",\"59\",\"60\",\"61\",\"62\",\"63\",\"64\",\"65\",\"66\",\"67\",\"68\",\"69\",\"70\",\"71\",\"72\",\"73\",\"74\",\"75\",\"76\",\"77\",\"78\",\"79\",\"80\",\"81\",\"82\",\"83\",\"84\",\"87\",\"88\",\"89\",\"91\",\"93\"]},\"id\":\"4928\",\"type\":\"FactorRange\"},{\"attributes\":{\"callback\":null,\"data\":{\"left\":{\"__ndarray__\":\"AAAAAAAA8D8AAAAAAADwPwAAAAAAAPA/AAAAAAAA8D8AAAAAAADwP+gL+oK+oO8/AAAAAAAA8D8AAAAAAADwPwAAAAAAAPA/AAAAAAAA8D8AAAAAAADwPwAAAAAAAPA/16NwPQrX7z8AAAAAAADwPwAAAAAAAPA/2zesfcPa7z+HUEk3itnvP+bCXX2TvO8/DqkJxlvZ7z/btm3btm3vP3FWfkKcle8/kKcEeUqQ7z8AAAAAAADwPwP6C+gvoO8/ul0rJzzT7z9mZmZmZmbvP8TDw8PDw+8/f9Qpf9Qp7z/5GSV+RonvP5Tx26WejO8/dEhNMN7K7j8AAAAAAADwP5h0ah7kru8/+EYUmHRq7j8UO7ETO7HvPzZo8mWDJu8/cLUxNN3B7j/v7u7u7u7uPwAAAAAAAPA/4Ci73yi77z8SePshgbfvP6/X6/V6ve4/wcspeDkF7z8/6ZM+6ZPuP08frSYhiu8/VdDqSwWt7j/P8zzP8zzvP/15lcUZ7e4/+fHjx48f7z+0W/jVmEjvP4fPH3OUbu8/AAAAAAAA8D/mT1towJLuP5NfLPnFku8/CKwcWmQ77z/FJUOwjjbvPwT3EdxHcO8/FDuxEzux7z8PDw8PDw/vP1yPwvUoXO8/9KMf/ehH7z8AAAAAAADwPwAAAAAAAPA/AAAAAAAA8D8J7iO4j+DuPwAAAAAAAPA/AAAAAAAA8D8AAAAAAADwPwAAAAAAAPA/AAAAAAAA8D8AAAAAAADwPwAAAAAAAPA/AAAAAAAA8D8AAAAAAADwPwAAAAAAAPA/AAAAAAAA8D8AAAAAAADwPwAAAAAAAPA/AAAAAAAA8D8AAAAAAADwPwAAAAAAAPA/AAAAAAAA8D8AAAAAAADwPwAAAAAAAPA/AAAAAAAA8D8AAAAAAADwPwAAAAAAAPA/AAAAAAAA8D8AAAAAAADwPw==\",\"dtype\":\"float64\",\"shape\":[89]},\"right\":{\"__ndarray__\":\"AAAAAAAA8D8AAAAAAADwPwAAAAAAAPA/AAAAAAAA8D8AAAAAAADwPwAAAAAAAPA/AAAAAAAA8D8AAAAAAADwPwAAAAAAAPA/AAAAAAAA8D8AAAAAAADwPwAAAAAAAPA/AAAAAAAA8D8AAAAAAADwPwAAAAAAAPA/AAAAAAAA8D8AAAAAAADwPwAAAAAAAPA/AAAAAAAA8D8AAAAAAADwPwAAAAAAAPA/AAAAAAAA8D8AAAAAAADwPwAAAAAAAPA/AAAAAAAA8D8AAAAAAADwPwAAAAAAAPA/AAAAAAAA8D8AAAAAAADwPwAAAAAAAPA/AAAAAAAA8D8AAAAAAADwPwAAAAAAAPA/AAAAAAAA8D8AAAAAAADwPwAAAAAAAPA/AAAAAAAA8D8AAAAAAADwPwAAAAAAAPA/AAAAAAAA8D8AAAAAAADwPwAAAAAAAPA/AAAAAAAA8D8AAAAAAADwPwAAAAAAAPA/AAAAAAAA8D8AAAAAAADwPwAAAAAAAPA/AAAAAAAA8D8AAAAAAADwPwAAAAAAAPA/AAAAAAAA8D8AAAAAAADwPwAAAAAAAPA/AAAAAAAA8D8AAAAAAADwPwAAAAAAAPA/AAAAAAAA8D8AAAAAAADwPwAAAAAAAPA/AAAAAAAA8D8AAAAAAADwPwAAAAAAAPA/AAAAAAAA8D8AAAAAAADwPwAAAAAAAPA/AAAAAAAA8D8AAAAAAADwPwAAAAAAAPA/AAAAAAAA8D8AAAAAAADwPwAAAAAAAPA/AAAAAAAA8D8AAAAAAADwPwAAAAAAAPA/AAAAAAAA8D8AAAAAAADwPwAAAAAAAPA/AAAAAAAA8D8AAAAAAADwPwAAAAAAAPA/AAAAAAAA8D8AAAAAAADwPwAAAAAAAPA/AAAAAAAA8D8AAAAAAADwPwAAAAAAAPA/AAAAAAAA8D8AAAAAAADwPw==\",\"dtype\":\"float64\",\"shape\":[89]},\"y\":[\"1\",\"2\",\"3\",\"4\",\"5\",\"6\",\"7\",\"8\",\"9\",\"10\",\"11\",\"12\",\"13\",\"14\",\"15\",\"16\",\"17\",\"18\",\"19\",\"20\",\"21\",\"22\",\"23\",\"24\",\"25\",\"26\",\"27\",\"28\",\"29\",\"30\",\"31\",\"32\",\"33\",\"34\",\"35\",\"36\",\"37\",\"38\",\"39\",\"40\",\"41\",\"42\",\"43\",\"44\",\"45\",\"46\",\"47\",\"48\",\"49\",\"50\",\"51\",\"52\",\"53\",\"54\",\"55\",\"56\",\"57\",\"58\",\"59\",\"60\",\"61\",\"62\",\"63\",\"64\",\"65\",\"66\",\"67\",\"68\",\"69\",\"70\",\"71\",\"72\",\"73\",\"74\",\"75\",\"76\",\"77\",\"78\",\"79\",\"80\",\"81\",\"82\",\"83\",\"84\",\"87\",\"88\",\"89\",\"91\",\"93\"]},\"selected\":{\"id\":\"5233\",\"type\":\"Selection\"},\"selection_policy\":{\"id\":\"5232\",\"type\":\"UnionRenderers\"}},\"id\":\"4973\",\"type\":\"ColumnDataSource\"},{\"attributes\":{\"bottom_units\":\"screen\",\"fill_alpha\":{\"value\":0.5},\"fill_color\":{\"value\":\"lightgrey\"},\"left_units\":\"screen\",\"level\":\"overlay\",\"line_alpha\":{\"value\":1.0},\"line_color\":{\"value\":\"black\"},\"line_dash\":[4,4],\"line_width\":{\"value\":2},\"plot\":null,\"render_mode\":\"css\",\"right_units\":\"screen\",\"top_units\":\"screen\"},\"id\":\"4951\",\"type\":\"BoxAnnotation\"},{\"attributes\":{\"data_source\":{\"id\":\"4958\",\"type\":\"ColumnDataSource\"},\"glyph\":{\"id\":\"4959\",\"type\":\"HBar\"},\"hover_glyph\":null,\"muted_glyph\":null,\"nonselection_glyph\":{\"id\":\"4960\",\"type\":\"HBar\"},\"selection_glyph\":null,\"view\":{\"id\":\"4962\",\"type\":\"CDSView\"}},\"id\":\"4961\",\"type\":\"GlyphRenderer\"},{\"attributes\":{},\"id\":\"4930\",\"type\":\"LinearScale\"},{\"attributes\":{\"source\":{\"id\":\"4958\",\"type\":\"ColumnDataSource\"}},\"id\":\"4962\",\"type\":\"CDSView\"},{\"attributes\":{},\"id\":\"4932\",\"type\":\"CategoricalScale\"},{\"attributes\":{\"fill_alpha\":{\"value\":0.1},\"fill_color\":{\"value\":\"#1f77b4\"},\"height\":{\"value\":0.7},\"left\":{\"field\":\"left\"},\"line_alpha\":{\"value\":0.1},\"line_color\":{\"value\":\"#1f77b4\"},\"line_width\":{\"value\":0.5},\"right\":{\"field\":\"right\"},\"y\":{\"field\":\"y\"}},\"id\":\"4975\",\"type\":\"HBar\"},{\"attributes\":{\"source\":{\"id\":\"4973\",\"type\":\"ColumnDataSource\"}},\"id\":\"4977\",\"type\":\"CDSView\"},{\"attributes\":{\"axis_label\":\"Fraction\",\"axis_label_text_font_size\":{\"value\":\"16pt\"},\"formatter\":{\"id\":\"5224\",\"type\":\"BasicTickFormatter\"},\"major_label_text_font_size\":{\"value\":\"16pt\"},\"plot\":{\"id\":\"4925\",\"subtype\":\"Figure\",\"type\":\"Plot\"},\"ticker\":{\"id\":\"4935\",\"type\":\"BasicTicker\"}},\"id\":\"4934\",\"type\":\"LinearAxis\"},{\"attributes\":{\"data_source\":{\"id\":\"4973\",\"type\":\"ColumnDataSource\"},\"glyph\":{\"id\":\"4974\",\"type\":\"HBar\"},\"hover_glyph\":null,\"muted_glyph\":null,\"nonselection_glyph\":{\"id\":\"4975\",\"type\":\"HBar\"},\"selection_glyph\":null,\"view\":{\"id\":\"4977\",\"type\":\"CDSView\"}},\"id\":\"4976\",\"type\":\"GlyphRenderer\"},{\"attributes\":{},\"id\":\"4935\",\"type\":\"BasicTicker\"}],\"root_ids\":[\"4925\"]},\"title\":\"Bokeh Application\",\"version\":\"1.0.2\"}};\n",
       "  var render_items = [{\"docid\":\"822cbc8e-36a6-4c1d-9323-554926745f2c\",\"roots\":{\"4925\":\"ec7f82b3-513d-4b78-bf92-ce4dfd647f30\"}}];\n",
       "  root.Bokeh.embed.embed_items_notebook(docs_json, render_items);\n",
       "\n",
       "  }\n",
       "  if (root.Bokeh !== undefined) {\n",
       "    embed_document(root);\n",
       "  } else {\n",
       "    var attempts = 0;\n",
       "    var timer = setInterval(function(root) {\n",
       "      if (root.Bokeh !== undefined) {\n",
       "        embed_document(root);\n",
       "        clearInterval(timer);\n",
       "      }\n",
       "      attempts++;\n",
       "      if (attempts > 100) {\n",
       "        console.log(\"Bokeh: ERROR: Unable to run BokehJS code because BokehJS library is missing\");\n",
       "        clearInterval(timer);\n",
       "      }\n",
       "    }, 10, root)\n",
       "  }\n",
       "})(window);"
      ],
      "application/vnd.bokehjs_exec.v0+json": ""
     },
     "metadata": {
      "application/vnd.bokehjs_exec.v0+json": {
       "id": "4925"
      }
     },
     "output_type": "display_data"
    },
    {
     "data": {
      "text/html": [
       "\n",
       "\n",
       "\n",
       "\n",
       "\n",
       "\n",
       "  <div class=\"bk-root\" id=\"d2b76456-cab3-4dd8-80b9-5924ce20f929\"></div>\n"
      ]
     },
     "metadata": {},
     "output_type": "display_data"
    },
    {
     "data": {
      "application/javascript": [
       "(function(root) {\n",
       "  function embed_document(root) {\n",
       "    \n",
       "  var docs_json = {\"92f34f04-10f4-4639-ba52-5bdd77bfec20\":{\"roots\":{\"references\":[{\"attributes\":{\"below\":[{\"id\":\"5333\",\"type\":\"LinearAxis\"}],\"height\":600,\"left\":[{\"id\":\"5338\",\"type\":\"CategoricalAxis\"}],\"plot_height\":400,\"renderers\":[{\"id\":\"5333\",\"type\":\"LinearAxis\"},{\"id\":\"5337\",\"type\":\"Grid\"},{\"id\":\"5338\",\"type\":\"CategoricalAxis\"},{\"id\":\"5341\",\"type\":\"Grid\"},{\"id\":\"5350\",\"type\":\"BoxAnnotation\"},{\"id\":\"5369\",\"type\":\"Legend\"},{\"id\":\"5360\",\"type\":\"GlyphRenderer\"},{\"id\":\"5374\",\"type\":\"GlyphRenderer\"},{\"id\":\"5389\",\"type\":\"GlyphRenderer\"},{\"id\":\"5406\",\"type\":\"GlyphRenderer\"}],\"title\":{\"id\":\"5363\",\"type\":\"Title\"},\"toolbar\":{\"id\":\"5348\",\"type\":\"Toolbar\"},\"width\":600,\"x_range\":{\"id\":\"5325\",\"type\":\"Range1d\"},\"x_scale\":{\"id\":\"5329\",\"type\":\"LinearScale\"},\"y_range\":{\"id\":\"5327\",\"type\":\"FactorRange\"},\"y_scale\":{\"id\":\"5331\",\"type\":\"CategoricalScale\"}},\"id\":\"5324\",\"subtype\":\"Figure\",\"type\":\"Plot\"},{\"attributes\":{},\"id\":\"5334\",\"type\":\"BasicTicker\"},{\"attributes\":{\"fill_alpha\":{\"value\":0.3},\"fill_color\":{\"value\":\"#1f77b4\"},\"height\":{\"value\":0.7},\"left\":{\"field\":\"left\"},\"line_width\":{\"value\":0.5},\"right\":{\"field\":\"right\"},\"y\":{\"field\":\"y\"}},\"id\":\"5358\",\"type\":\"HBar\"},{\"attributes\":{\"callback\":null,\"data\":{\"left\":{\"__ndarray__\":\"uFRMb6mY7j8AAAAAAADwPxnLMpRZ0e8/z/M8z/M87z8=\",\"dtype\":\"float64\",\"shape\":[4]},\"right\":{\"__ndarray__\":\"AAAAAAAA8D8AAAAAAADwPwAAAAAAAPA/AAAAAAAA8D8=\",\"dtype\":\"float64\",\"shape\":[4]},\"y\":[\"Dark\",\"Dawn\",\"Dayl\",\"Dusk\"]},\"selected\":{\"id\":\"5692\",\"type\":\"Selection\"},\"selection_policy\":{\"id\":\"5691\",\"type\":\"UnionRenderers\"}},\"id\":\"5403\",\"type\":\"ColumnDataSource\"},{\"attributes\":{},\"id\":\"5383\",\"type\":\"UnionRenderers\"},{\"attributes\":{\"fill_alpha\":{\"value\":0.1},\"fill_color\":{\"value\":\"#1f77b4\"},\"height\":{\"value\":0.7},\"left\":{\"field\":\"left\"},\"line_alpha\":{\"value\":0.1},\"line_color\":{\"value\":\"#1f77b4\"},\"line_width\":{\"value\":0.5},\"right\":{\"field\":\"right\"},\"y\":{\"field\":\"y\"}},\"id\":\"5359\",\"type\":\"HBar\"},{\"attributes\":{\"fill_alpha\":{\"value\":0.7},\"fill_color\":{\"value\":\"#ff7f0e\"},\"height\":{\"value\":0.7},\"left\":{\"field\":\"left\"},\"line_width\":{\"value\":0.5},\"right\":{\"field\":\"right\"},\"y\":{\"field\":\"y\"}},\"id\":\"5404\",\"type\":\"HBar\"},{\"attributes\":{\"grid_line_width\":{\"value\":1},\"plot\":{\"id\":\"5324\",\"subtype\":\"Figure\",\"type\":\"Plot\"},\"ticker\":{\"id\":\"5334\",\"type\":\"BasicTicker\"}},\"id\":\"5337\",\"type\":\"Grid\"},{\"attributes\":{},\"id\":\"5384\",\"type\":\"Selection\"},{\"attributes\":{\"axis_label_text_font_size\":{\"value\":\"16pt\"},\"formatter\":{\"id\":\"5365\",\"type\":\"CategoricalTickFormatter\"},\"major_label_text_font_size\":{\"value\":\"16pt\"},\"plot\":{\"id\":\"5324\",\"subtype\":\"Figure\",\"type\":\"Plot\"},\"ticker\":{\"id\":\"5339\",\"type\":\"CategoricalTicker\"}},\"id\":\"5338\",\"type\":\"CategoricalAxis\"},{\"attributes\":{\"plot\":null,\"text\":\"\",\"text_font_size\":{\"value\":\"16pt\"}},\"id\":\"5363\",\"type\":\"Title\"},{\"attributes\":{\"label\":{\"value\":\"Not Severe, Intoxicated\"},\"renderers\":[{\"id\":\"5374\",\"type\":\"GlyphRenderer\"}]},\"id\":\"5385\",\"type\":\"LegendItem\"},{\"attributes\":{\"data_source\":{\"id\":\"5357\",\"type\":\"ColumnDataSource\"},\"glyph\":{\"id\":\"5358\",\"type\":\"HBar\"},\"hover_glyph\":null,\"muted_glyph\":null,\"nonselection_glyph\":{\"id\":\"5359\",\"type\":\"HBar\"},\"selection_glyph\":null,\"view\":{\"id\":\"5361\",\"type\":\"CDSView\"}},\"id\":\"5360\",\"type\":\"GlyphRenderer\"},{\"attributes\":{\"data_source\":{\"id\":\"5403\",\"type\":\"ColumnDataSource\"},\"glyph\":{\"id\":\"5404\",\"type\":\"HBar\"},\"hover_glyph\":null,\"muted_glyph\":null,\"nonselection_glyph\":{\"id\":\"5405\",\"type\":\"HBar\"},\"selection_glyph\":null,\"view\":{\"id\":\"5407\",\"type\":\"CDSView\"}},\"id\":\"5406\",\"type\":\"GlyphRenderer\"},{\"attributes\":{},\"id\":\"5339\",\"type\":\"CategoricalTicker\"},{\"attributes\":{\"dimension\":1,\"grid_line_width\":{\"value\":1},\"plot\":{\"id\":\"5324\",\"subtype\":\"Figure\",\"type\":\"Plot\"},\"ticker\":{\"id\":\"5339\",\"type\":\"CategoricalTicker\"}},\"id\":\"5341\",\"type\":\"Grid\"},{\"attributes\":{},\"id\":\"5365\",\"type\":\"CategoricalTickFormatter\"},{\"attributes\":{\"fill_alpha\":{\"value\":0.1},\"fill_color\":{\"value\":\"#1f77b4\"},\"height\":{\"value\":0.7},\"left\":{\"field\":\"left\"},\"line_alpha\":{\"value\":0.1},\"line_color\":{\"value\":\"#1f77b4\"},\"line_width\":{\"value\":0.5},\"right\":{\"field\":\"right\"},\"y\":{\"field\":\"y\"}},\"id\":\"5405\",\"type\":\"HBar\"},{\"attributes\":{\"axis_label\":\"Fraction\",\"axis_label_text_font_size\":{\"value\":\"16pt\"},\"formatter\":{\"id\":\"5367\",\"type\":\"BasicTickFormatter\"},\"major_label_text_font_size\":{\"value\":\"16pt\"},\"plot\":{\"id\":\"5324\",\"subtype\":\"Figure\",\"type\":\"Plot\"},\"ticker\":{\"id\":\"5334\",\"type\":\"BasicTicker\"}},\"id\":\"5333\",\"type\":\"LinearAxis\"},{\"attributes\":{},\"id\":\"5367\",\"type\":\"BasicTickFormatter\"},{\"attributes\":{},\"id\":\"5419\",\"type\":\"UnionRenderers\"},{\"attributes\":{},\"id\":\"5691\",\"type\":\"UnionRenderers\"},{\"attributes\":{\"glyph_height\":20,\"glyph_width\":20,\"items\":[{\"id\":\"5370\",\"type\":\"LegendItem\"},{\"id\":\"5385\",\"type\":\"LegendItem\"},{\"id\":\"5402\",\"type\":\"LegendItem\"},{\"id\":\"5421\",\"type\":\"LegendItem\"}],\"label_text_font_size\":{\"value\":\"16pt\"},\"plot\":{\"id\":\"5324\",\"subtype\":\"Figure\",\"type\":\"Plot\"}},\"id\":\"5369\",\"type\":\"Legend\"},{\"attributes\":{},\"id\":\"5420\",\"type\":\"Selection\"},{\"attributes\":{\"active_drag\":\"auto\",\"active_inspect\":\"auto\",\"active_multi\":null,\"active_scroll\":\"auto\",\"active_tap\":\"auto\",\"tools\":[{\"id\":\"5342\",\"type\":\"PanTool\"},{\"id\":\"5343\",\"type\":\"WheelZoomTool\"},{\"id\":\"5344\",\"type\":\"BoxZoomTool\"},{\"id\":\"5345\",\"type\":\"SaveTool\"},{\"id\":\"5346\",\"type\":\"ResetTool\"},{\"id\":\"5347\",\"type\":\"HelpTool\"}]},\"id\":\"5348\",\"type\":\"Toolbar\"},{\"attributes\":{\"data_source\":{\"id\":\"5386\",\"type\":\"ColumnDataSource\"},\"glyph\":{\"id\":\"5387\",\"type\":\"HBar\"},\"hover_glyph\":null,\"muted_glyph\":null,\"nonselection_glyph\":{\"id\":\"5388\",\"type\":\"HBar\"},\"selection_glyph\":null,\"view\":{\"id\":\"5390\",\"type\":\"CDSView\"}},\"id\":\"5389\",\"type\":\"GlyphRenderer\"},{\"attributes\":{\"label\":{\"value\":\"Not Severe, Not Intoxicated\"},\"renderers\":[{\"id\":\"5360\",\"type\":\"GlyphRenderer\"}]},\"id\":\"5370\",\"type\":\"LegendItem\"},{\"attributes\":{\"label\":{\"value\":\"Severe, Intoxicated\"},\"renderers\":[{\"id\":\"5406\",\"type\":\"GlyphRenderer\"}]},\"id\":\"5421\",\"type\":\"LegendItem\"},{\"attributes\":{},\"id\":\"5342\",\"type\":\"PanTool\"},{\"attributes\":{\"label\":{\"value\":\"Severe, Not Intoxicated\"},\"renderers\":[{\"id\":\"5389\",\"type\":\"GlyphRenderer\"}]},\"id\":\"5402\",\"type\":\"LegendItem\"},{\"attributes\":{\"callback\":null,\"data\":{\"left\":{\"__ndarray__\":\"11jXrbGu6z/BpFPzIHftP4qW7FlY8e0/NjtqEfLX7D8=\",\"dtype\":\"float64\",\"shape\":[4]},\"right\":{\"__ndarray__\":\"uFRMb6mY7j8AAAAAAADwPxnLMpRZ0e8/z/M8z/M87z8=\",\"dtype\":\"float64\",\"shape\":[4]},\"y\":[\"Dark\",\"Dawn\",\"Dayl\",\"Dusk\"]},\"selected\":{\"id\":\"5420\",\"type\":\"Selection\"},\"selection_policy\":{\"id\":\"5419\",\"type\":\"UnionRenderers\"}},\"id\":\"5386\",\"type\":\"ColumnDataSource\"},{\"attributes\":{\"fill_alpha\":{\"value\":0.7},\"fill_color\":{\"value\":\"#1f77b4\"},\"height\":{\"value\":0.7},\"left\":{\"field\":\"left\"},\"line_width\":{\"value\":0.5},\"right\":{\"field\":\"right\"},\"y\":{\"field\":\"y\"}},\"id\":\"5372\",\"type\":\"HBar\"},{\"attributes\":{},\"id\":\"5343\",\"type\":\"WheelZoomTool\"},{\"attributes\":{\"fill_alpha\":{\"value\":0.3},\"fill_color\":{\"value\":\"#ff7f0e\"},\"height\":{\"value\":0.7},\"left\":{\"field\":\"left\"},\"line_width\":{\"value\":0.5},\"right\":{\"field\":\"right\"},\"y\":{\"field\":\"y\"}},\"id\":\"5387\",\"type\":\"HBar\"},{\"attributes\":{},\"id\":\"5692\",\"type\":\"Selection\"},{\"attributes\":{\"overlay\":{\"id\":\"5350\",\"type\":\"BoxAnnotation\"}},\"id\":\"5344\",\"type\":\"BoxZoomTool\"},{\"attributes\":{},\"id\":\"5400\",\"type\":\"UnionRenderers\"},{\"attributes\":{\"source\":{\"id\":\"5371\",\"type\":\"ColumnDataSource\"}},\"id\":\"5375\",\"type\":\"CDSView\"},{\"attributes\":{},\"id\":\"5345\",\"type\":\"SaveTool\"},{\"attributes\":{\"source\":{\"id\":\"5386\",\"type\":\"ColumnDataSource\"}},\"id\":\"5390\",\"type\":\"CDSView\"},{\"attributes\":{},\"id\":\"5346\",\"type\":\"ResetTool\"},{\"attributes\":{\"callback\":null,\"end\":5},\"id\":\"5325\",\"type\":\"Range1d\"},{\"attributes\":{\"fill_alpha\":{\"value\":0.1},\"fill_color\":{\"value\":\"#1f77b4\"},\"height\":{\"value\":0.7},\"left\":{\"field\":\"left\"},\"line_alpha\":{\"value\":0.1},\"line_color\":{\"value\":\"#1f77b4\"},\"line_width\":{\"value\":0.5},\"right\":{\"field\":\"right\"},\"y\":{\"field\":\"y\"}},\"id\":\"5388\",\"type\":\"HBar\"},{\"attributes\":{},\"id\":\"5347\",\"type\":\"HelpTool\"},{\"attributes\":{\"data_source\":{\"id\":\"5371\",\"type\":\"ColumnDataSource\"},\"glyph\":{\"id\":\"5372\",\"type\":\"HBar\"},\"hover_glyph\":null,\"muted_glyph\":null,\"nonselection_glyph\":{\"id\":\"5373\",\"type\":\"HBar\"},\"selection_glyph\":null,\"view\":{\"id\":\"5375\",\"type\":\"CDSView\"}},\"id\":\"5374\",\"type\":\"GlyphRenderer\"},{\"attributes\":{},\"id\":\"5331\",\"type\":\"CategoricalScale\"},{\"attributes\":{},\"id\":\"5329\",\"type\":\"LinearScale\"},{\"attributes\":{\"callback\":null,\"data\":{\"left\":{\"__ndarray__\":\"XkVYu4qw5j8hd/1ssTLsP9fVmnxQ7uw/zY5ahPw16z8=\",\"dtype\":\"float64\",\"shape\":[4]},\"right\":{\"__ndarray__\":\"11jXrbGu6z/BpFPzIHftP4qW7FlY8e0/NjtqEfLX7D8=\",\"dtype\":\"float64\",\"shape\":[4]},\"y\":[\"Dark\",\"Dawn\",\"Dayl\",\"Dusk\"]},\"selected\":{\"id\":\"5401\",\"type\":\"Selection\"},\"selection_policy\":{\"id\":\"5400\",\"type\":\"UnionRenderers\"}},\"id\":\"5371\",\"type\":\"ColumnDataSource\"},{\"attributes\":{\"callback\":null,\"data\":{\"left\":{\"__ndarray__\":\"AAAAAAAAAAAAAAAAAAAAAAAAAAAAAAAAAAAAAAAAAAA=\",\"dtype\":\"float64\",\"shape\":[4]},\"right\":{\"__ndarray__\":\"XkVYu4qw5j8hd/1ssTLsP9fVmnxQ7uw/zY5ahPw16z8=\",\"dtype\":\"float64\",\"shape\":[4]},\"y\":[\"Dark\",\"Dawn\",\"Dayl\",\"Dusk\"]},\"selected\":{\"id\":\"5384\",\"type\":\"Selection\"},\"selection_policy\":{\"id\":\"5383\",\"type\":\"UnionRenderers\"}},\"id\":\"5357\",\"type\":\"ColumnDataSource\"},{\"attributes\":{\"bottom_units\":\"screen\",\"fill_alpha\":{\"value\":0.5},\"fill_color\":{\"value\":\"lightgrey\"},\"left_units\":\"screen\",\"level\":\"overlay\",\"line_alpha\":{\"value\":1.0},\"line_color\":{\"value\":\"black\"},\"line_dash\":[4,4],\"line_width\":{\"value\":2},\"plot\":null,\"render_mode\":\"css\",\"right_units\":\"screen\",\"top_units\":\"screen\"},\"id\":\"5350\",\"type\":\"BoxAnnotation\"},{\"attributes\":{\"fill_alpha\":{\"value\":0.1},\"fill_color\":{\"value\":\"#1f77b4\"},\"height\":{\"value\":0.7},\"left\":{\"field\":\"left\"},\"line_alpha\":{\"value\":0.1},\"line_color\":{\"value\":\"#1f77b4\"},\"line_width\":{\"value\":0.5},\"right\":{\"field\":\"right\"},\"y\":{\"field\":\"y\"}},\"id\":\"5373\",\"type\":\"HBar\"},{\"attributes\":{\"source\":{\"id\":\"5357\",\"type\":\"ColumnDataSource\"}},\"id\":\"5361\",\"type\":\"CDSView\"},{\"attributes\":{\"callback\":null,\"factors\":[\"Dark\",\"Dawn\",\"Dayl\",\"Dusk\"]},\"id\":\"5327\",\"type\":\"FactorRange\"},{\"attributes\":{},\"id\":\"5401\",\"type\":\"Selection\"},{\"attributes\":{\"source\":{\"id\":\"5403\",\"type\":\"ColumnDataSource\"}},\"id\":\"5407\",\"type\":\"CDSView\"}],\"root_ids\":[\"5324\"]},\"title\":\"Bokeh Application\",\"version\":\"1.0.2\"}};\n",
       "  var render_items = [{\"docid\":\"92f34f04-10f4-4639-ba52-5bdd77bfec20\",\"roots\":{\"5324\":\"d2b76456-cab3-4dd8-80b9-5924ce20f929\"}}];\n",
       "  root.Bokeh.embed.embed_items_notebook(docs_json, render_items);\n",
       "\n",
       "  }\n",
       "  if (root.Bokeh !== undefined) {\n",
       "    embed_document(root);\n",
       "  } else {\n",
       "    var attempts = 0;\n",
       "    var timer = setInterval(function(root) {\n",
       "      if (root.Bokeh !== undefined) {\n",
       "        embed_document(root);\n",
       "        clearInterval(timer);\n",
       "      }\n",
       "      attempts++;\n",
       "      if (attempts > 100) {\n",
       "        console.log(\"Bokeh: ERROR: Unable to run BokehJS code because BokehJS library is missing\");\n",
       "        clearInterval(timer);\n",
       "      }\n",
       "    }, 10, root)\n",
       "  }\n",
       "})(window);"
      ],
      "application/vnd.bokehjs_exec.v0+json": ""
     },
     "metadata": {
      "application/vnd.bokehjs_exec.v0+json": {
       "id": "5324"
      }
     },
     "output_type": "display_data"
    }
   ],
   "source": [
    "#obtain rows of df for intoxicated biker / severe outcomes\n",
    "intox = (df['Biker Intox.'] == 'Yes')\n",
    "severe = (df['BikeInjury'] == 'Serious') | (df['BikeInjury'] == 'Killed') \n",
    "\n",
    "indices = [ (~severe & ~intox), (~severe & intox), (severe & ~intox),  (severe & intox) ]\n",
    "colors = [bkpal.Category10[10][0], bkpal.Category10[10][0], bkpal.Category10[10][1], bkpal.Category10[10][1]]\n",
    "alphas = [0.3, 0.7, 0.3, 0.7]\n",
    "labels=['Not Severe, Not Intoxicated', 'Not Severe, Intoxicated', 'Severe, Not Intoxicated', 'Severe, Intoxicated']\n",
    "\n",
    "coln = df.DrvrVehTyp.unique()\n",
    "vals = np.zeros(coln.shape[0])\n",
    "totalcts = df.DrvrVehTyp.value_counts()[coln]\n",
    "fig = bkp.figure(width=800, height=400, y_range=coln,\n",
    "                x_axis_label='Fraction')\n",
    "print(totalcts)\n",
    "for i in range(4):\n",
    "    cts = df.DrvrVehTyp[indices[i]].value_counts()[coln]\n",
    "    cts[np.isnan(cts)] = 0\n",
    "    fig.hbar(y = coln, left = vals/totalcts, right=(vals+cts)/totalcts,\n",
    "                 fill_color=colors[i], line_color='black', line_width=0.5, height=.7, fill_alpha=alphas[i])\n",
    "    vals = vals + cts\n",
    "bkp.show(fig)\n",
    "\n",
    "\n",
    "coln = np.sort(df.SpeedLimit.unique())\n",
    "vals = np.zeros(coln.shape[0])\n",
    "totalcts = df.SpeedLimit.value_counts()[coln]\n",
    "fig = bkp.figure(width=600, height=250, y_range=[str(x) for x in coln],\n",
    "                x_axis_label='Fraction',\n",
    "                y_axis_label='Speed Limit (MPH)')\n",
    "for i in range(4):\n",
    "    cts = df.SpeedLimit[indices[i]].value_counts()[coln]\n",
    "    cts[np.isnan(cts)] = 0\n",
    "    fig.hbar(y = [str(x) for x in coln], left = vals/totalcts, right=(vals+cts)/totalcts,\n",
    "                 fill_color=colors[i], line_color='black', line_width=0.5, height=.7, fill_alpha=alphas[i])\n",
    "    vals = vals + cts\n",
    "bkp.show(fig)\n",
    "\n",
    "\n",
    "coln = np.sort(df.BikeSex.unique())\n",
    "vals = np.zeros(coln.shape[0])\n",
    "totalcts = df.BikeSex.value_counts()[coln]\n",
    "fig = bkp.figure(width=600, height=250, y_range=[str(x) for x in coln],\n",
    "                x_axis_label='Fraction',\n",
    "                y_axis_label='Speed Limit (MPH)')\n",
    "for i in range(4):\n",
    "    cts = df.BikeSex[indices[i]].value_counts()[coln]\n",
    "    cts[np.isnan(cts)] = 0\n",
    "    fig.hbar(y = [str(x) for x in coln], left = vals/totalcts, right=(vals+cts)/totalcts,\n",
    "                 fill_color=colors[i], line_color='black', line_width=0.5, height=.7, fill_alpha=alphas[i])\n",
    "    vals = vals + cts\n",
    "bkp.show(fig)\n",
    "\n",
    "coln = np.array(['Dawn', 'Dayl', 'Dusk', 'Dark'])\n",
    "vals = np.zeros(coln.shape[0])\n",
    "totalcts = df.LightCond.value_counts()[coln]\n",
    "fig = bkp.figure(width=600, height=200, y_range=[str(x) for x in coln],\n",
    "                x_axis_label='Fraction')\n",
    "for i in range(4):\n",
    "    cts = df.LightCond[indices[i]].value_counts()[coln]\n",
    "    cts[np.isnan(cts)] = 0\n",
    "    fig.hbar(y = [str(x) for x in coln], left = vals/totalcts, right=(vals+cts)/totalcts,\n",
    "                 fill_color=colors[i], line_color='black', line_width=0.5, height=.7, fill_alpha=alphas[i])\n",
    "    vals = vals + cts\n",
    "bkp.show(fig)\n",
    "\n",
    "\n",
    "coln = np.sort(df.BikeAge.unique())\n",
    "vals = np.zeros(coln.shape[0])\n",
    "totalcts = df.BikeAge.value_counts()[coln]\n",
    "fig = bkp.figure(width=600, height=2000, y_range=[str(x) for x in coln],\n",
    "                x_axis_label='Fraction',\n",
    "                y_axis_label='Speed Limit (MPH)')\n",
    "for i in range(4):\n",
    "    cts = df.BikeAge[indices[i]].value_counts()[coln]\n",
    "    cts[np.isnan(cts)] = 0\n",
    "    fig.hbar(y = [str(x) for x in coln], left = vals/totalcts, right=(vals+cts)/totalcts,\n",
    "                 fill_color=colors[i], line_color='black', line_width=0.5, height=.7, fill_alpha=alphas[i])\n",
    "    vals = vals + cts\n",
    "bkp.show(fig)\n",
    "\n",
    "\n",
    "coln = np.sort(df.LightCond.unique())\n",
    "vals = np.zeros(coln.shape[0])\n",
    "totalcts = df.LightCond.value_counts()\n",
    "fig = bkp.figure(width=600, height=400, y_range=[str(x) for x in coln],\n",
    "                x_axis_label='Fraction', x_range=(0, 5))\n",
    "for i in range(4):\n",
    "    cts = df.LightCond[indices[i]].value_counts()[coln]\n",
    "    cts[np.isnan(cts)] = 0\n",
    "    fig.hbar(y = [str(x) for x in coln], left = vals/totalcts, right=(vals+cts)/totalcts,\n",
    "                 fill_color=colors[i], line_color='black', line_width=0.5, height=.7, fill_alpha=alphas[i],\n",
    "                legend=labels[i])\n",
    "    vals = vals + cts\n",
    "bkp.show(fig)"
   ]
  }
 ],
 "metadata": {
  "kernelspec": {
   "display_name": "Python 3",
   "language": "python",
   "name": "python3"
  },
  "language_info": {
   "codemirror_mode": {
    "name": "ipython",
    "version": 3
   },
   "file_extension": ".py",
   "mimetype": "text/x-python",
   "name": "python",
   "nbconvert_exporter": "python",
   "pygments_lexer": "ipython3",
   "version": "3.6.9"
  }
 },
 "nbformat": 4,
 "nbformat_minor": 2
}
